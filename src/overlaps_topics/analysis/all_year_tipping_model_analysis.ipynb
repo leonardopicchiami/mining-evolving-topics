{
 "cells": [
  {
   "cell_type": "markdown",
   "metadata": {},
   "source": [
    "### Author: Leonardo Picchiami\n",
    "\n",
    "#  Overlap Topics Merging Analysis View\n",
    "### Tipping Model view"
   ]
  },
  {
   "cell_type": "markdown",
   "metadata": {},
   "source": [
    "This file shows the application of the Tipping Model to the top k nodes, and the application of the model result to the Clique Percolation Method for the topic merging by overlapping. The results are the topics obtained for a given year and a given k. This file also highlights and shows the problems or efficiency of the threshold calculation strategies."
   ]
  },
  {
   "cell_type": "code",
   "execution_count": 1,
   "metadata": {},
   "outputs": [],
   "source": [
    "import warnings\n",
    "warnings.filterwarnings(\"ignore\")\n",
    "\n",
    "import sys\n",
    "import gc\n",
    "\n",
    "sys.path.append(\"..\")\n",
    "sys.path.append(\"../../graph\")\n",
    "sys.path.append(\"../../metrics\")\n",
    "sys.path.append(\"../../spread_influence\")\n",
    "\n",
    "import graph as gr\n",
    "import metrics as me\n",
    "import spread_of_influence as sp\n",
    "import overlap_topics as ov\n",
    "\n",
    "import pandas as pd\n",
    "import numpy as np\n",
    "\n",
    "ds1_path = \"../../../dataset_src/ds-1.tsv\"\n",
    "ds2_path = \"../../../dataset_src/ds-2.tsv\""
   ]
  },
  {
   "cell_type": "code",
   "execution_count": 2,
   "metadata": {},
   "outputs": [
    {
     "name": "stdout",
     "output_type": "stream",
     "text": [
      "['2000', '2001', '2002', '2003', '2004', '2005', '2006', '2007', '2008', '2009', '2010', '2011', '2012', '2013', '2014', '2015', '2016', '2017', '2018']\n"
     ]
    }
   ],
   "source": [
    "timeline = [str(year) for year in range(2000, 2019)]\n",
    "print(timeline)\n",
    "\n",
    "spread_dict = dict()\n",
    "graph_timeline_dict = dict()"
   ]
  },
  {
   "cell_type": "markdown",
   "metadata": {},
   "source": [
    "The sequence of operations is:\n",
    "- create a graph for each year of timeline.\n",
    "- build a ds1 graph with fraction of co-citations weights calculation strategy.\n",
    "- application of the pagerank metric for each graph created.\n",
    "- spread of influence object for graph and metric result as seed for each year to apply the tipping model with the application of different threshold calculation strategies.\n",
    "- clique percolation method like metric of merging based on overlapping."
   ]
  },
  {
   "cell_type": "code",
   "execution_count": 3,
   "metadata": {},
   "outputs": [],
   "source": [
    "def spread_to_overlap_timeline_k(k):\n",
    "    for year in timeline:\n",
    "        graph = gr.YearGraph(ds1_path, ds2_path, year)\n",
    "        graph.read()\n",
    "        graph.weights_fraction_cocitations()\n",
    "        graph.build_ds1_graph()\n",
    "    \n",
    "        metrics = me.Metrics(graph)\n",
    "        metrics.metrics_preprocessing()\n",
    "        metrics.pagerank(k) \n",
    "    \n",
    "        model = sp.SpreadOfInfluenceModels(graph, metrics.get_top_k_nodes())\n",
    "        model.spread_preprocessing()\n",
    "    \n",
    "        spread_dict[year] = model\n",
    "        graph_timeline_dict[year] = graph"
   ]
  },
  {
   "cell_type": "markdown",
   "metadata": {},
   "source": [
    "Function to print the results of the Tipping Model, applying the three threshold calculation strategies and shows the results with the Clique Percolation Method application. "
   ]
  },
  {
   "cell_type": "code",
   "execution_count": 4,
   "metadata": {},
   "outputs": [],
   "source": [
    "def to_print(topics, name_model, k, threshold):\n",
    "    comment = \"Overlap merging result with Clique Percolation Method, {0} model, seed top {1} nodes and {2} threshold calculation strategy.\\n\".format(name_model, k, threshold)\n",
    "    print(comment.upper())\n",
    "    for topic in topics:\n",
    "        print(\"{0}{1}len_topic: {2}{3}\".format(topic, '\\n', len(topic), '\\n'))"
   ]
  },
  {
   "cell_type": "markdown",
   "metadata": {},
   "source": [
    "Function for merging via overlap for topics found on a graph of a given year with a given k."
   ]
  },
  {
   "cell_type": "code",
   "execution_count": 5,
   "metadata": {},
   "outputs": [],
   "source": [
    "def overlap_perform(year, all_topics, k):\n",
    "    overlap = ov.OverlapTopics(graph_timeline_dict[str(year)], all_topics, k) \n",
    "    overlap.overlap_preprocessing()\n",
    "    overlap.clique_percolation_method()\n",
    "    overlap.check_spread_topics()\n",
    "    overlap.check_number_topics()\n",
    "    return overlap.get_topics()"
   ]
  },
  {
   "cell_type": "markdown",
   "metadata": {},
   "source": [
    "Functions for the elaboration of the Tipping Model with the three strategies of calculation of the threshold and the printing of the elaborated topics."
   ]
  },
  {
   "cell_type": "code",
   "execution_count": 6,
   "metadata": {},
   "outputs": [],
   "source": [
    "def overlap_merge_view_deg(year, k):\n",
    "    spread_dict[str(year)].threshold_deg()\n",
    "    spread_dict[str(year)].tipping_model()\n",
    "    tipping_deg = spread_dict[str(year)].get_influenced_nodes()   \n",
    "    topics_deg = overlap_perform(year, tipping_deg, k)\n",
    "    to_print(topics_deg, \"tipping\", k, \"deg\")\n",
    "\n",
    "    \n",
    "def overlap_merge_view_half(year, k):\n",
    "    spread_dict[str(year)].threshold_half()\n",
    "    spread_dict[str(year)].tipping_model()\n",
    "    tipping_half = spread_dict[str(year)].get_influenced_nodes()\n",
    "    topics_half = overlap_perform(year, tipping_half, k)\n",
    "    to_print(topics_half, \"tipping\", k, \"half\")\n",
    "    \n",
    "    \n",
    "def overlap_merge_view_deg_neg(year, k):\n",
    "    spread_dict[str(year)].threshold_deg_neg()\n",
    "    spread_dict[str(year)].tipping_model()\n",
    "    tipping_deg_neg = spread_dict[str(year)].get_influenced_nodes()  \n",
    "    topics_deg_neg = overlap_perform(year, tipping_deg_neg, k)\n",
    "    to_print(topics_deg_neg, \"tipping\", k, \"deg negative\")"
   ]
  },
  {
   "cell_type": "markdown",
   "metadata": {},
   "source": [
    "## Overlap merge with k = 5"
   ]
  },
  {
   "cell_type": "markdown",
   "metadata": {},
   "source": [
    "Application of all configuration of Indipendent Cascade Model with seed size 5"
   ]
  },
  {
   "cell_type": "code",
   "execution_count": 7,
   "metadata": {},
   "outputs": [],
   "source": [
    "spread_to_overlap_timeline_k(k = 5)"
   ]
  },
  {
   "cell_type": "markdown",
   "metadata": {},
   "source": [
    "### Year 2000"
   ]
  },
  {
   "cell_type": "code",
   "execution_count": 8,
   "metadata": {},
   "outputs": [
    {
     "name": "stdout",
     "output_type": "stream",
     "text": [
      "OVERLAP MERGING RESULT WITH CLIQUE PERCOLATION METHOD, TIPPING MODEL, SEED TOP 5 NODES AND DEG THRESHOLD CALCULATION STRATEGY.\n",
      "\n",
      "['feature vector', 'experiment', 'support vector machine']\n",
      "len_topic: 3\n",
      "\n",
      "['simulation', 'nonlinear system', 'motion estimation\\xa0']\n",
      "len_topic: 3\n",
      "\n"
     ]
    }
   ],
   "source": [
    "overlap_merge_view_deg(2000, k = 5)"
   ]
  },
  {
   "cell_type": "code",
   "execution_count": 9,
   "metadata": {},
   "outputs": [
    {
     "name": "stdout",
     "output_type": "stream",
     "text": [
      "OVERLAP MERGING RESULT WITH CLIQUE PERCOLATION METHOD, TIPPING MODEL, SEED TOP 5 NODES AND HALF THRESHOLD CALCULATION STRATEGY.\n",
      "\n",
      "['feature vector', 'experiment', 'support vector machine']\n",
      "len_topic: 3\n",
      "\n",
      "['simulation', 'nonlinear system', 'motion estimation\\xa0']\n",
      "len_topic: 3\n",
      "\n"
     ]
    }
   ],
   "source": [
    "overlap_merge_view_half(2000, k = 5)"
   ]
  },
  {
   "cell_type": "code",
   "execution_count": 10,
   "metadata": {},
   "outputs": [
    {
     "ename": "TopicMalFormedException",
     "evalue": "Topic bad formed.",
     "output_type": "error",
     "traceback": [
      "\u001b[0;31m---------------------------------------------------------------------------\u001b[0m",
      "\u001b[0;31mTopicMalFormedException\u001b[0m                   Traceback (most recent call last)",
      "\u001b[0;32m<ipython-input-10-a1c7c0bc32a9>\u001b[0m in \u001b[0;36m<module>\u001b[0;34m\u001b[0m\n\u001b[0;32m----> 1\u001b[0;31m \u001b[0moverlap_merge_view_deg_neg\u001b[0m\u001b[0;34m(\u001b[0m\u001b[0;36m2000\u001b[0m\u001b[0;34m,\u001b[0m \u001b[0mk\u001b[0m \u001b[0;34m=\u001b[0m \u001b[0;36m5\u001b[0m\u001b[0;34m)\u001b[0m\u001b[0;34m\u001b[0m\u001b[0;34m\u001b[0m\u001b[0m\n\u001b[0m",
      "\u001b[0;32m<ipython-input-6-aa88f64ba5fa>\u001b[0m in \u001b[0;36moverlap_merge_view_deg_neg\u001b[0;34m(year, k)\u001b[0m\n\u001b[1;32m     19\u001b[0m     \u001b[0mspread_dict\u001b[0m\u001b[0;34m[\u001b[0m\u001b[0mstr\u001b[0m\u001b[0;34m(\u001b[0m\u001b[0myear\u001b[0m\u001b[0;34m)\u001b[0m\u001b[0;34m]\u001b[0m\u001b[0;34m.\u001b[0m\u001b[0mtipping_model\u001b[0m\u001b[0;34m(\u001b[0m\u001b[0;34m)\u001b[0m\u001b[0;34m\u001b[0m\u001b[0;34m\u001b[0m\u001b[0m\n\u001b[1;32m     20\u001b[0m     \u001b[0mtipping_deg_neg\u001b[0m \u001b[0;34m=\u001b[0m \u001b[0mspread_dict\u001b[0m\u001b[0;34m[\u001b[0m\u001b[0mstr\u001b[0m\u001b[0;34m(\u001b[0m\u001b[0myear\u001b[0m\u001b[0;34m)\u001b[0m\u001b[0;34m]\u001b[0m\u001b[0;34m.\u001b[0m\u001b[0mget_influenced_nodes\u001b[0m\u001b[0;34m(\u001b[0m\u001b[0;34m)\u001b[0m\u001b[0;34m\u001b[0m\u001b[0;34m\u001b[0m\u001b[0m\n\u001b[0;32m---> 21\u001b[0;31m     \u001b[0mtopics_deg_neg\u001b[0m \u001b[0;34m=\u001b[0m \u001b[0moverlap_perform\u001b[0m\u001b[0;34m(\u001b[0m\u001b[0myear\u001b[0m\u001b[0;34m,\u001b[0m \u001b[0mtipping_deg_neg\u001b[0m\u001b[0;34m,\u001b[0m \u001b[0mk\u001b[0m\u001b[0;34m)\u001b[0m\u001b[0;34m\u001b[0m\u001b[0;34m\u001b[0m\u001b[0m\n\u001b[0m\u001b[1;32m     22\u001b[0m     \u001b[0mto_print\u001b[0m\u001b[0;34m(\u001b[0m\u001b[0mtopics_deg_neg\u001b[0m\u001b[0;34m,\u001b[0m \u001b[0;34m\"tipping\"\u001b[0m\u001b[0;34m,\u001b[0m \u001b[0mk\u001b[0m\u001b[0;34m,\u001b[0m \u001b[0;34m\"deg negative\"\u001b[0m\u001b[0;34m)\u001b[0m\u001b[0;34m\u001b[0m\u001b[0;34m\u001b[0m\u001b[0m\n",
      "\u001b[0;32m<ipython-input-5-60ae7201d3cc>\u001b[0m in \u001b[0;36moverlap_perform\u001b[0;34m(year, all_topics, k)\u001b[0m\n\u001b[1;32m      2\u001b[0m     \u001b[0moverlap\u001b[0m \u001b[0;34m=\u001b[0m \u001b[0mov\u001b[0m\u001b[0;34m.\u001b[0m\u001b[0mOverlapTopics\u001b[0m\u001b[0;34m(\u001b[0m\u001b[0mgraph_timeline_dict\u001b[0m\u001b[0;34m[\u001b[0m\u001b[0mstr\u001b[0m\u001b[0;34m(\u001b[0m\u001b[0myear\u001b[0m\u001b[0;34m)\u001b[0m\u001b[0;34m]\u001b[0m\u001b[0;34m,\u001b[0m \u001b[0mall_topics\u001b[0m\u001b[0;34m,\u001b[0m \u001b[0mk\u001b[0m\u001b[0;34m)\u001b[0m\u001b[0;34m\u001b[0m\u001b[0;34m\u001b[0m\u001b[0m\n\u001b[1;32m      3\u001b[0m     \u001b[0moverlap\u001b[0m\u001b[0;34m.\u001b[0m\u001b[0moverlap_preprocessing\u001b[0m\u001b[0;34m(\u001b[0m\u001b[0;34m)\u001b[0m\u001b[0;34m\u001b[0m\u001b[0;34m\u001b[0m\u001b[0m\n\u001b[0;32m----> 4\u001b[0;31m     \u001b[0moverlap\u001b[0m\u001b[0;34m.\u001b[0m\u001b[0mclique_percolation_method\u001b[0m\u001b[0;34m(\u001b[0m\u001b[0;34m)\u001b[0m\u001b[0;34m\u001b[0m\u001b[0;34m\u001b[0m\u001b[0m\n\u001b[0m\u001b[1;32m      5\u001b[0m     \u001b[0moverlap\u001b[0m\u001b[0;34m.\u001b[0m\u001b[0mcheck_spread_topics\u001b[0m\u001b[0;34m(\u001b[0m\u001b[0;34m)\u001b[0m\u001b[0;34m\u001b[0m\u001b[0;34m\u001b[0m\u001b[0m\n\u001b[1;32m      6\u001b[0m     \u001b[0moverlap\u001b[0m\u001b[0;34m.\u001b[0m\u001b[0mcheck_number_topics\u001b[0m\u001b[0;34m(\u001b[0m\u001b[0;34m)\u001b[0m\u001b[0;34m\u001b[0m\u001b[0;34m\u001b[0m\u001b[0m\n",
      "\u001b[0;32m~/Universita/magistrale/web_and_social_information_extraction/webandsocial-progetto/src/overlaps_topics/overlap_topics.py\u001b[0m in \u001b[0;36mclique_percolation_method\u001b[0;34m(self)\u001b[0m\n\u001b[1;32m    132\u001b[0m         \u001b[0mcommunities\u001b[0m \u001b[0;34m=\u001b[0m \u001b[0mk_clique_communities\u001b[0m\u001b[0;34m(\u001b[0m\u001b[0mG\u001b[0m \u001b[0;34m=\u001b[0m \u001b[0mself\u001b[0m\u001b[0;34m.\u001b[0m\u001b[0m__year_sub_graph\u001b[0m\u001b[0;34m,\u001b[0m \u001b[0mk\u001b[0m \u001b[0;34m=\u001b[0m \u001b[0;36m2\u001b[0m\u001b[0;34m)\u001b[0m\u001b[0;34m\u001b[0m\u001b[0;34m\u001b[0m\u001b[0m\n\u001b[1;32m    133\u001b[0m         \u001b[0;32mfor\u001b[0m \u001b[0mtopic\u001b[0m \u001b[0;32min\u001b[0m \u001b[0mcommunities\u001b[0m\u001b[0;34m:\u001b[0m\u001b[0;34m\u001b[0m\u001b[0;34m\u001b[0m\u001b[0m\n\u001b[0;32m--> 134\u001b[0;31m             \u001b[0mself\u001b[0m\u001b[0;34m.\u001b[0m\u001b[0mcheck_keywords\u001b[0m\u001b[0;34m(\u001b[0m\u001b[0mtopic\u001b[0m\u001b[0;34m)\u001b[0m\u001b[0;34m\u001b[0m\u001b[0;34m\u001b[0m\u001b[0m\n\u001b[0m\u001b[1;32m    135\u001b[0m             \u001b[0mself\u001b[0m\u001b[0;34m.\u001b[0m\u001b[0m__topics\u001b[0m\u001b[0;34m.\u001b[0m\u001b[0mappend\u001b[0m\u001b[0;34m(\u001b[0m\u001b[0mlist\u001b[0m\u001b[0;34m(\u001b[0m\u001b[0mtopic\u001b[0m\u001b[0;34m)\u001b[0m\u001b[0;34m)\u001b[0m\u001b[0;34m\u001b[0m\u001b[0;34m\u001b[0m\u001b[0m\n\u001b[1;32m    136\u001b[0m \u001b[0;34m\u001b[0m\u001b[0m\n",
      "\u001b[0;32m~/Universita/magistrale/web_and_social_information_extraction/webandsocial-progetto/src/overlaps_topics/overlap_topics.py\u001b[0m in \u001b[0;36mcheck_keywords\u001b[0;34m(self, topic)\u001b[0m\n\u001b[1;32m    119\u001b[0m \u001b[0;34m\u001b[0m\u001b[0m\n\u001b[1;32m    120\u001b[0m         \u001b[0;32mif\u001b[0m \u001b[0;32mnot\u001b[0m \u001b[0mregular\u001b[0m\u001b[0;34m:\u001b[0m\u001b[0;34m\u001b[0m\u001b[0;34m\u001b[0m\u001b[0m\n\u001b[0;32m--> 121\u001b[0;31m             \u001b[0;32mraise\u001b[0m \u001b[0mexcpt\u001b[0m\u001b[0;34m.\u001b[0m\u001b[0mTopicMalFormedException\u001b[0m\u001b[0;34m(\u001b[0m\u001b[0;34m\"Topic bad formed.\"\u001b[0m\u001b[0;34m)\u001b[0m\u001b[0;34m\u001b[0m\u001b[0;34m\u001b[0m\u001b[0m\n\u001b[0m\u001b[1;32m    122\u001b[0m \u001b[0;34m\u001b[0m\u001b[0m\n\u001b[1;32m    123\u001b[0m \u001b[0;34m\u001b[0m\u001b[0m\n",
      "\u001b[0;31mTopicMalFormedException\u001b[0m: Topic bad formed."
     ]
    }
   ],
   "source": [
    "overlap_merge_view_deg_neg(2000, k = 5)"
   ]
  },
  {
   "cell_type": "markdown",
   "metadata": {},
   "source": [
    "### Year 2001"
   ]
  },
  {
   "cell_type": "code",
   "execution_count": 11,
   "metadata": {},
   "outputs": [
    {
     "name": "stdout",
     "output_type": "stream",
     "text": [
      "OVERLAP MERGING RESULT WITH CLIQUE PERCOLATION METHOD, TIPPING MODEL, SEED TOP 5 NODES AND DEG THRESHOLD CALCULATION STRATEGY.\n",
      "\n",
      "['linear systems', 'stochastic processes', 'laboratories', 'fading', 'deconvolution', 'smoothing methods', 'computer simulation', 'monte carlo methods', 'particle filters', 'filtering algorithms', 'signal processing', 'bayesian methods', 'filtering', 'state estimation', 'mathematics', 'state-space methods', 'signal processing algorithms']\n",
      "len_topic: 17\n",
      "\n"
     ]
    }
   ],
   "source": [
    "overlap_merge_view_deg(2001, k = 5)"
   ]
  },
  {
   "cell_type": "code",
   "execution_count": 12,
   "metadata": {},
   "outputs": [
    {
     "name": "stdout",
     "output_type": "stream",
     "text": [
      "OVERLAP MERGING RESULT WITH CLIQUE PERCOLATION METHOD, TIPPING MODEL, SEED TOP 5 NODES AND HALF THRESHOLD CALCULATION STRATEGY.\n",
      "\n",
      "['linear systems', 'stochastic processes', 'laboratories', 'fading', 'deconvolution', 'smoothing methods', 'computer simulation', 'monte carlo methods', 'particle filters', 'filtering algorithms', 'signal processing', 'bayesian methods', 'filtering', 'state estimation', 'mathematics', 'state-space methods', 'signal processing algorithms']\n",
      "len_topic: 17\n",
      "\n"
     ]
    }
   ],
   "source": [
    "overlap_merge_view_half(2001, k = 5)"
   ]
  },
  {
   "cell_type": "code",
   "execution_count": 13,
   "metadata": {},
   "outputs": [
    {
     "ename": "TopicMalFormedException",
     "evalue": "Topic bad formed.",
     "output_type": "error",
     "traceback": [
      "\u001b[0;31m---------------------------------------------------------------------------\u001b[0m",
      "\u001b[0;31mTopicMalFormedException\u001b[0m                   Traceback (most recent call last)",
      "\u001b[0;32m<ipython-input-13-b01abd391a34>\u001b[0m in \u001b[0;36m<module>\u001b[0;34m\u001b[0m\n\u001b[0;32m----> 1\u001b[0;31m \u001b[0moverlap_merge_view_deg_neg\u001b[0m\u001b[0;34m(\u001b[0m\u001b[0;36m2001\u001b[0m\u001b[0;34m,\u001b[0m \u001b[0mk\u001b[0m \u001b[0;34m=\u001b[0m \u001b[0;36m5\u001b[0m\u001b[0;34m)\u001b[0m\u001b[0;34m\u001b[0m\u001b[0;34m\u001b[0m\u001b[0m\n\u001b[0m",
      "\u001b[0;32m<ipython-input-6-aa88f64ba5fa>\u001b[0m in \u001b[0;36moverlap_merge_view_deg_neg\u001b[0;34m(year, k)\u001b[0m\n\u001b[1;32m     19\u001b[0m     \u001b[0mspread_dict\u001b[0m\u001b[0;34m[\u001b[0m\u001b[0mstr\u001b[0m\u001b[0;34m(\u001b[0m\u001b[0myear\u001b[0m\u001b[0;34m)\u001b[0m\u001b[0;34m]\u001b[0m\u001b[0;34m.\u001b[0m\u001b[0mtipping_model\u001b[0m\u001b[0;34m(\u001b[0m\u001b[0;34m)\u001b[0m\u001b[0;34m\u001b[0m\u001b[0;34m\u001b[0m\u001b[0m\n\u001b[1;32m     20\u001b[0m     \u001b[0mtipping_deg_neg\u001b[0m \u001b[0;34m=\u001b[0m \u001b[0mspread_dict\u001b[0m\u001b[0;34m[\u001b[0m\u001b[0mstr\u001b[0m\u001b[0;34m(\u001b[0m\u001b[0myear\u001b[0m\u001b[0;34m)\u001b[0m\u001b[0;34m]\u001b[0m\u001b[0;34m.\u001b[0m\u001b[0mget_influenced_nodes\u001b[0m\u001b[0;34m(\u001b[0m\u001b[0;34m)\u001b[0m\u001b[0;34m\u001b[0m\u001b[0;34m\u001b[0m\u001b[0m\n\u001b[0;32m---> 21\u001b[0;31m     \u001b[0mtopics_deg_neg\u001b[0m \u001b[0;34m=\u001b[0m \u001b[0moverlap_perform\u001b[0m\u001b[0;34m(\u001b[0m\u001b[0myear\u001b[0m\u001b[0;34m,\u001b[0m \u001b[0mtipping_deg_neg\u001b[0m\u001b[0;34m,\u001b[0m \u001b[0mk\u001b[0m\u001b[0;34m)\u001b[0m\u001b[0;34m\u001b[0m\u001b[0;34m\u001b[0m\u001b[0m\n\u001b[0m\u001b[1;32m     22\u001b[0m     \u001b[0mto_print\u001b[0m\u001b[0;34m(\u001b[0m\u001b[0mtopics_deg_neg\u001b[0m\u001b[0;34m,\u001b[0m \u001b[0;34m\"tipping\"\u001b[0m\u001b[0;34m,\u001b[0m \u001b[0mk\u001b[0m\u001b[0;34m,\u001b[0m \u001b[0;34m\"deg negative\"\u001b[0m\u001b[0;34m)\u001b[0m\u001b[0;34m\u001b[0m\u001b[0;34m\u001b[0m\u001b[0m\n",
      "\u001b[0;32m<ipython-input-5-60ae7201d3cc>\u001b[0m in \u001b[0;36moverlap_perform\u001b[0;34m(year, all_topics, k)\u001b[0m\n\u001b[1;32m      2\u001b[0m     \u001b[0moverlap\u001b[0m \u001b[0;34m=\u001b[0m \u001b[0mov\u001b[0m\u001b[0;34m.\u001b[0m\u001b[0mOverlapTopics\u001b[0m\u001b[0;34m(\u001b[0m\u001b[0mgraph_timeline_dict\u001b[0m\u001b[0;34m[\u001b[0m\u001b[0mstr\u001b[0m\u001b[0;34m(\u001b[0m\u001b[0myear\u001b[0m\u001b[0;34m)\u001b[0m\u001b[0;34m]\u001b[0m\u001b[0;34m,\u001b[0m \u001b[0mall_topics\u001b[0m\u001b[0;34m,\u001b[0m \u001b[0mk\u001b[0m\u001b[0;34m)\u001b[0m\u001b[0;34m\u001b[0m\u001b[0;34m\u001b[0m\u001b[0m\n\u001b[1;32m      3\u001b[0m     \u001b[0moverlap\u001b[0m\u001b[0;34m.\u001b[0m\u001b[0moverlap_preprocessing\u001b[0m\u001b[0;34m(\u001b[0m\u001b[0;34m)\u001b[0m\u001b[0;34m\u001b[0m\u001b[0;34m\u001b[0m\u001b[0m\n\u001b[0;32m----> 4\u001b[0;31m     \u001b[0moverlap\u001b[0m\u001b[0;34m.\u001b[0m\u001b[0mclique_percolation_method\u001b[0m\u001b[0;34m(\u001b[0m\u001b[0;34m)\u001b[0m\u001b[0;34m\u001b[0m\u001b[0;34m\u001b[0m\u001b[0m\n\u001b[0m\u001b[1;32m      5\u001b[0m     \u001b[0moverlap\u001b[0m\u001b[0;34m.\u001b[0m\u001b[0mcheck_spread_topics\u001b[0m\u001b[0;34m(\u001b[0m\u001b[0;34m)\u001b[0m\u001b[0;34m\u001b[0m\u001b[0;34m\u001b[0m\u001b[0m\n\u001b[1;32m      6\u001b[0m     \u001b[0moverlap\u001b[0m\u001b[0;34m.\u001b[0m\u001b[0mcheck_number_topics\u001b[0m\u001b[0;34m(\u001b[0m\u001b[0;34m)\u001b[0m\u001b[0;34m\u001b[0m\u001b[0;34m\u001b[0m\u001b[0m\n",
      "\u001b[0;32m~/Universita/magistrale/web_and_social_information_extraction/webandsocial-progetto/src/overlaps_topics/overlap_topics.py\u001b[0m in \u001b[0;36mclique_percolation_method\u001b[0;34m(self)\u001b[0m\n\u001b[1;32m    132\u001b[0m         \u001b[0mcommunities\u001b[0m \u001b[0;34m=\u001b[0m \u001b[0mk_clique_communities\u001b[0m\u001b[0;34m(\u001b[0m\u001b[0mG\u001b[0m \u001b[0;34m=\u001b[0m \u001b[0mself\u001b[0m\u001b[0;34m.\u001b[0m\u001b[0m__year_sub_graph\u001b[0m\u001b[0;34m,\u001b[0m \u001b[0mk\u001b[0m \u001b[0;34m=\u001b[0m \u001b[0;36m2\u001b[0m\u001b[0;34m)\u001b[0m\u001b[0;34m\u001b[0m\u001b[0;34m\u001b[0m\u001b[0m\n\u001b[1;32m    133\u001b[0m         \u001b[0;32mfor\u001b[0m \u001b[0mtopic\u001b[0m \u001b[0;32min\u001b[0m \u001b[0mcommunities\u001b[0m\u001b[0;34m:\u001b[0m\u001b[0;34m\u001b[0m\u001b[0;34m\u001b[0m\u001b[0m\n\u001b[0;32m--> 134\u001b[0;31m             \u001b[0mself\u001b[0m\u001b[0;34m.\u001b[0m\u001b[0mcheck_keywords\u001b[0m\u001b[0;34m(\u001b[0m\u001b[0mtopic\u001b[0m\u001b[0;34m)\u001b[0m\u001b[0;34m\u001b[0m\u001b[0;34m\u001b[0m\u001b[0m\n\u001b[0m\u001b[1;32m    135\u001b[0m             \u001b[0mself\u001b[0m\u001b[0;34m.\u001b[0m\u001b[0m__topics\u001b[0m\u001b[0;34m.\u001b[0m\u001b[0mappend\u001b[0m\u001b[0;34m(\u001b[0m\u001b[0mlist\u001b[0m\u001b[0;34m(\u001b[0m\u001b[0mtopic\u001b[0m\u001b[0;34m)\u001b[0m\u001b[0;34m)\u001b[0m\u001b[0;34m\u001b[0m\u001b[0;34m\u001b[0m\u001b[0m\n\u001b[1;32m    136\u001b[0m \u001b[0;34m\u001b[0m\u001b[0m\n",
      "\u001b[0;32m~/Universita/magistrale/web_and_social_information_extraction/webandsocial-progetto/src/overlaps_topics/overlap_topics.py\u001b[0m in \u001b[0;36mcheck_keywords\u001b[0;34m(self, topic)\u001b[0m\n\u001b[1;32m    119\u001b[0m \u001b[0;34m\u001b[0m\u001b[0m\n\u001b[1;32m    120\u001b[0m         \u001b[0;32mif\u001b[0m \u001b[0;32mnot\u001b[0m \u001b[0mregular\u001b[0m\u001b[0;34m:\u001b[0m\u001b[0;34m\u001b[0m\u001b[0;34m\u001b[0m\u001b[0m\n\u001b[0;32m--> 121\u001b[0;31m             \u001b[0;32mraise\u001b[0m \u001b[0mexcpt\u001b[0m\u001b[0;34m.\u001b[0m\u001b[0mTopicMalFormedException\u001b[0m\u001b[0;34m(\u001b[0m\u001b[0;34m\"Topic bad formed.\"\u001b[0m\u001b[0;34m)\u001b[0m\u001b[0;34m\u001b[0m\u001b[0;34m\u001b[0m\u001b[0m\n\u001b[0m\u001b[1;32m    122\u001b[0m \u001b[0;34m\u001b[0m\u001b[0m\n\u001b[1;32m    123\u001b[0m \u001b[0;34m\u001b[0m\u001b[0m\n",
      "\u001b[0;31mTopicMalFormedException\u001b[0m: Topic bad formed."
     ]
    }
   ],
   "source": [
    "overlap_merge_view_deg_neg(2001, k = 5)"
   ]
  },
  {
   "cell_type": "markdown",
   "metadata": {},
   "source": [
    "### Year 2002"
   ]
  },
  {
   "cell_type": "code",
   "execution_count": 14,
   "metadata": {},
   "outputs": [
    {
     "name": "stdout",
     "output_type": "stream",
     "text": [
      "OVERLAP MERGING RESULT WITH CLIQUE PERCOLATION METHOD, TIPPING MODEL, SEED TOP 5 NODES AND DEG THRESHOLD CALCULATION STRATEGY.\n",
      "\n",
      "['unsupervised learning', 'important method', 'independent component analysis', 'overcomplete situation', 'blind source separation']\n",
      "len_topic: 5\n",
      "\n",
      "['bayesian methods', 'speech processing', 'monte carlo methods', 'signal processing']\n",
      "len_topic: 4\n",
      "\n",
      "['state estimation', 'filtering algorithms']\n",
      "len_topic: 2\n",
      "\n"
     ]
    }
   ],
   "source": [
    "overlap_merge_view_deg(2002, k = 5)"
   ]
  },
  {
   "cell_type": "code",
   "execution_count": 15,
   "metadata": {},
   "outputs": [
    {
     "name": "stdout",
     "output_type": "stream",
     "text": [
      "OVERLAP MERGING RESULT WITH CLIQUE PERCOLATION METHOD, TIPPING MODEL, SEED TOP 5 NODES AND HALF THRESHOLD CALCULATION STRATEGY.\n",
      "\n",
      "['unsupervised learning', 'important method', 'independent component analysis', 'overcomplete situation', 'blind source separation']\n",
      "len_topic: 5\n",
      "\n",
      "['bayesian methods', 'speech processing', 'monte carlo methods', 'signal processing']\n",
      "len_topic: 4\n",
      "\n",
      "['state estimation', 'filtering algorithms']\n",
      "len_topic: 2\n",
      "\n"
     ]
    }
   ],
   "source": [
    "overlap_merge_view_half(2002, k = 5)"
   ]
  },
  {
   "cell_type": "code",
   "execution_count": 16,
   "metadata": {},
   "outputs": [
    {
     "ename": "TopicMalFormedException",
     "evalue": "Topic bad formed.",
     "output_type": "error",
     "traceback": [
      "\u001b[0;31m---------------------------------------------------------------------------\u001b[0m",
      "\u001b[0;31mTopicMalFormedException\u001b[0m                   Traceback (most recent call last)",
      "\u001b[0;32m<ipython-input-16-f6f96b37ea22>\u001b[0m in \u001b[0;36m<module>\u001b[0;34m\u001b[0m\n\u001b[0;32m----> 1\u001b[0;31m \u001b[0moverlap_merge_view_deg_neg\u001b[0m\u001b[0;34m(\u001b[0m\u001b[0;36m2002\u001b[0m\u001b[0;34m,\u001b[0m \u001b[0mk\u001b[0m \u001b[0;34m=\u001b[0m \u001b[0;36m5\u001b[0m\u001b[0;34m)\u001b[0m\u001b[0;34m\u001b[0m\u001b[0;34m\u001b[0m\u001b[0m\n\u001b[0m",
      "\u001b[0;32m<ipython-input-6-aa88f64ba5fa>\u001b[0m in \u001b[0;36moverlap_merge_view_deg_neg\u001b[0;34m(year, k)\u001b[0m\n\u001b[1;32m     19\u001b[0m     \u001b[0mspread_dict\u001b[0m\u001b[0;34m[\u001b[0m\u001b[0mstr\u001b[0m\u001b[0;34m(\u001b[0m\u001b[0myear\u001b[0m\u001b[0;34m)\u001b[0m\u001b[0;34m]\u001b[0m\u001b[0;34m.\u001b[0m\u001b[0mtipping_model\u001b[0m\u001b[0;34m(\u001b[0m\u001b[0;34m)\u001b[0m\u001b[0;34m\u001b[0m\u001b[0;34m\u001b[0m\u001b[0m\n\u001b[1;32m     20\u001b[0m     \u001b[0mtipping_deg_neg\u001b[0m \u001b[0;34m=\u001b[0m \u001b[0mspread_dict\u001b[0m\u001b[0;34m[\u001b[0m\u001b[0mstr\u001b[0m\u001b[0;34m(\u001b[0m\u001b[0myear\u001b[0m\u001b[0;34m)\u001b[0m\u001b[0;34m]\u001b[0m\u001b[0;34m.\u001b[0m\u001b[0mget_influenced_nodes\u001b[0m\u001b[0;34m(\u001b[0m\u001b[0;34m)\u001b[0m\u001b[0;34m\u001b[0m\u001b[0;34m\u001b[0m\u001b[0m\n\u001b[0;32m---> 21\u001b[0;31m     \u001b[0mtopics_deg_neg\u001b[0m \u001b[0;34m=\u001b[0m \u001b[0moverlap_perform\u001b[0m\u001b[0;34m(\u001b[0m\u001b[0myear\u001b[0m\u001b[0;34m,\u001b[0m \u001b[0mtipping_deg_neg\u001b[0m\u001b[0;34m,\u001b[0m \u001b[0mk\u001b[0m\u001b[0;34m)\u001b[0m\u001b[0;34m\u001b[0m\u001b[0;34m\u001b[0m\u001b[0m\n\u001b[0m\u001b[1;32m     22\u001b[0m     \u001b[0mto_print\u001b[0m\u001b[0;34m(\u001b[0m\u001b[0mtopics_deg_neg\u001b[0m\u001b[0;34m,\u001b[0m \u001b[0;34m\"tipping\"\u001b[0m\u001b[0;34m,\u001b[0m \u001b[0mk\u001b[0m\u001b[0;34m,\u001b[0m \u001b[0;34m\"deg negative\"\u001b[0m\u001b[0;34m)\u001b[0m\u001b[0;34m\u001b[0m\u001b[0;34m\u001b[0m\u001b[0m\n",
      "\u001b[0;32m<ipython-input-5-60ae7201d3cc>\u001b[0m in \u001b[0;36moverlap_perform\u001b[0;34m(year, all_topics, k)\u001b[0m\n\u001b[1;32m      2\u001b[0m     \u001b[0moverlap\u001b[0m \u001b[0;34m=\u001b[0m \u001b[0mov\u001b[0m\u001b[0;34m.\u001b[0m\u001b[0mOverlapTopics\u001b[0m\u001b[0;34m(\u001b[0m\u001b[0mgraph_timeline_dict\u001b[0m\u001b[0;34m[\u001b[0m\u001b[0mstr\u001b[0m\u001b[0;34m(\u001b[0m\u001b[0myear\u001b[0m\u001b[0;34m)\u001b[0m\u001b[0;34m]\u001b[0m\u001b[0;34m,\u001b[0m \u001b[0mall_topics\u001b[0m\u001b[0;34m,\u001b[0m \u001b[0mk\u001b[0m\u001b[0;34m)\u001b[0m\u001b[0;34m\u001b[0m\u001b[0;34m\u001b[0m\u001b[0m\n\u001b[1;32m      3\u001b[0m     \u001b[0moverlap\u001b[0m\u001b[0;34m.\u001b[0m\u001b[0moverlap_preprocessing\u001b[0m\u001b[0;34m(\u001b[0m\u001b[0;34m)\u001b[0m\u001b[0;34m\u001b[0m\u001b[0;34m\u001b[0m\u001b[0m\n\u001b[0;32m----> 4\u001b[0;31m     \u001b[0moverlap\u001b[0m\u001b[0;34m.\u001b[0m\u001b[0mclique_percolation_method\u001b[0m\u001b[0;34m(\u001b[0m\u001b[0;34m)\u001b[0m\u001b[0;34m\u001b[0m\u001b[0;34m\u001b[0m\u001b[0m\n\u001b[0m\u001b[1;32m      5\u001b[0m     \u001b[0moverlap\u001b[0m\u001b[0;34m.\u001b[0m\u001b[0mcheck_spread_topics\u001b[0m\u001b[0;34m(\u001b[0m\u001b[0;34m)\u001b[0m\u001b[0;34m\u001b[0m\u001b[0;34m\u001b[0m\u001b[0m\n\u001b[1;32m      6\u001b[0m     \u001b[0moverlap\u001b[0m\u001b[0;34m.\u001b[0m\u001b[0mcheck_number_topics\u001b[0m\u001b[0;34m(\u001b[0m\u001b[0;34m)\u001b[0m\u001b[0;34m\u001b[0m\u001b[0;34m\u001b[0m\u001b[0m\n",
      "\u001b[0;32m~/Universita/magistrale/web_and_social_information_extraction/webandsocial-progetto/src/overlaps_topics/overlap_topics.py\u001b[0m in \u001b[0;36mclique_percolation_method\u001b[0;34m(self)\u001b[0m\n\u001b[1;32m    132\u001b[0m         \u001b[0mcommunities\u001b[0m \u001b[0;34m=\u001b[0m \u001b[0mk_clique_communities\u001b[0m\u001b[0;34m(\u001b[0m\u001b[0mG\u001b[0m \u001b[0;34m=\u001b[0m \u001b[0mself\u001b[0m\u001b[0;34m.\u001b[0m\u001b[0m__year_sub_graph\u001b[0m\u001b[0;34m,\u001b[0m \u001b[0mk\u001b[0m \u001b[0;34m=\u001b[0m \u001b[0;36m2\u001b[0m\u001b[0;34m)\u001b[0m\u001b[0;34m\u001b[0m\u001b[0;34m\u001b[0m\u001b[0m\n\u001b[1;32m    133\u001b[0m         \u001b[0;32mfor\u001b[0m \u001b[0mtopic\u001b[0m \u001b[0;32min\u001b[0m \u001b[0mcommunities\u001b[0m\u001b[0;34m:\u001b[0m\u001b[0;34m\u001b[0m\u001b[0;34m\u001b[0m\u001b[0m\n\u001b[0;32m--> 134\u001b[0;31m             \u001b[0mself\u001b[0m\u001b[0;34m.\u001b[0m\u001b[0mcheck_keywords\u001b[0m\u001b[0;34m(\u001b[0m\u001b[0mtopic\u001b[0m\u001b[0;34m)\u001b[0m\u001b[0;34m\u001b[0m\u001b[0;34m\u001b[0m\u001b[0m\n\u001b[0m\u001b[1;32m    135\u001b[0m             \u001b[0mself\u001b[0m\u001b[0;34m.\u001b[0m\u001b[0m__topics\u001b[0m\u001b[0;34m.\u001b[0m\u001b[0mappend\u001b[0m\u001b[0;34m(\u001b[0m\u001b[0mlist\u001b[0m\u001b[0;34m(\u001b[0m\u001b[0mtopic\u001b[0m\u001b[0;34m)\u001b[0m\u001b[0;34m)\u001b[0m\u001b[0;34m\u001b[0m\u001b[0;34m\u001b[0m\u001b[0m\n\u001b[1;32m    136\u001b[0m \u001b[0;34m\u001b[0m\u001b[0m\n",
      "\u001b[0;32m~/Universita/magistrale/web_and_social_information_extraction/webandsocial-progetto/src/overlaps_topics/overlap_topics.py\u001b[0m in \u001b[0;36mcheck_keywords\u001b[0;34m(self, topic)\u001b[0m\n\u001b[1;32m    119\u001b[0m \u001b[0;34m\u001b[0m\u001b[0m\n\u001b[1;32m    120\u001b[0m         \u001b[0;32mif\u001b[0m \u001b[0;32mnot\u001b[0m \u001b[0mregular\u001b[0m\u001b[0;34m:\u001b[0m\u001b[0;34m\u001b[0m\u001b[0;34m\u001b[0m\u001b[0m\n\u001b[0;32m--> 121\u001b[0;31m             \u001b[0;32mraise\u001b[0m \u001b[0mexcpt\u001b[0m\u001b[0;34m.\u001b[0m\u001b[0mTopicMalFormedException\u001b[0m\u001b[0;34m(\u001b[0m\u001b[0;34m\"Topic bad formed.\"\u001b[0m\u001b[0;34m)\u001b[0m\u001b[0;34m\u001b[0m\u001b[0;34m\u001b[0m\u001b[0m\n\u001b[0m\u001b[1;32m    122\u001b[0m \u001b[0;34m\u001b[0m\u001b[0m\n\u001b[1;32m    123\u001b[0m \u001b[0;34m\u001b[0m\u001b[0m\n",
      "\u001b[0;31mTopicMalFormedException\u001b[0m: Topic bad formed."
     ]
    }
   ],
   "source": [
    "overlap_merge_view_deg_neg(2002, k = 5)"
   ]
  },
  {
   "cell_type": "markdown",
   "metadata": {},
   "source": [
    "### Year 2003 "
   ]
  },
  {
   "cell_type": "code",
   "execution_count": 17,
   "metadata": {},
   "outputs": [
    {
     "name": "stdout",
     "output_type": "stream",
     "text": [
      "OVERLAP MERGING RESULT WITH CLIQUE PERCOLATION METHOD, TIPPING MODEL, SEED TOP 5 NODES AND DEG THRESHOLD CALCULATION STRATEGY.\n",
      "\n",
      "['neural networks', 'sufficient conditions', '87.18.sn', '85.40.ls', 'global exponential stability', 'lyapunov functional', '87.10.+e', 'periodic solution', 'global asymptotic stability', 'young inequality', '43.80.+p', 'recurrent neural networks']\n",
      "len_topic: 12\n",
      "\n",
      "['scheduling (computing)', 'random number generation', 'computation', 'grid computing', 'monte carlo method']\n",
      "len_topic: 5\n",
      "\n",
      "['real life', 'scalability', 'algorithm', 'feature vector', 'heuristic', 'first-order predicate', 'pattern recognition', 'really simple discovery', 'dimensionality reduction', 'singular value decomposition']\n",
      "len_topic: 10\n",
      "\n"
     ]
    }
   ],
   "source": [
    "overlap_merge_view_deg(2003, k = 5)"
   ]
  },
  {
   "cell_type": "code",
   "execution_count": 18,
   "metadata": {},
   "outputs": [
    {
     "name": "stdout",
     "output_type": "stream",
     "text": [
      "OVERLAP MERGING RESULT WITH CLIQUE PERCOLATION METHOD, TIPPING MODEL, SEED TOP 5 NODES AND HALF THRESHOLD CALCULATION STRATEGY.\n",
      "\n",
      "['random number generation', 'computation']\n",
      "len_topic: 2\n",
      "\n",
      "['dimensionality reduction', 'pattern recognition', 'scalability', 'algorithm', 'singular value decomposition']\n",
      "len_topic: 5\n",
      "\n",
      "['neural networks', 'sufficient conditions', '87.18.sn', '85.40.ls', 'global exponential stability', 'lyapunov functional', '87.10.+e', 'periodic solution', 'global asymptotic stability', 'young inequality', '43.80.+p', 'recurrent neural networks']\n",
      "len_topic: 12\n",
      "\n"
     ]
    }
   ],
   "source": [
    "overlap_merge_view_half(2003, k = 5)"
   ]
  },
  {
   "cell_type": "code",
   "execution_count": 19,
   "metadata": {},
   "outputs": [
    {
     "ename": "TopicMalFormedException",
     "evalue": "Topic bad formed.",
     "output_type": "error",
     "traceback": [
      "\u001b[0;31m---------------------------------------------------------------------------\u001b[0m",
      "\u001b[0;31mTopicMalFormedException\u001b[0m                   Traceback (most recent call last)",
      "\u001b[0;32m<ipython-input-19-e5df795f3ce2>\u001b[0m in \u001b[0;36m<module>\u001b[0;34m\u001b[0m\n\u001b[0;32m----> 1\u001b[0;31m \u001b[0moverlap_merge_view_deg_neg\u001b[0m\u001b[0;34m(\u001b[0m\u001b[0;36m2003\u001b[0m\u001b[0;34m,\u001b[0m \u001b[0mk\u001b[0m \u001b[0;34m=\u001b[0m \u001b[0;36m5\u001b[0m\u001b[0;34m)\u001b[0m\u001b[0;34m\u001b[0m\u001b[0;34m\u001b[0m\u001b[0m\n\u001b[0m",
      "\u001b[0;32m<ipython-input-6-aa88f64ba5fa>\u001b[0m in \u001b[0;36moverlap_merge_view_deg_neg\u001b[0;34m(year, k)\u001b[0m\n\u001b[1;32m     19\u001b[0m     \u001b[0mspread_dict\u001b[0m\u001b[0;34m[\u001b[0m\u001b[0mstr\u001b[0m\u001b[0;34m(\u001b[0m\u001b[0myear\u001b[0m\u001b[0;34m)\u001b[0m\u001b[0;34m]\u001b[0m\u001b[0;34m.\u001b[0m\u001b[0mtipping_model\u001b[0m\u001b[0;34m(\u001b[0m\u001b[0;34m)\u001b[0m\u001b[0;34m\u001b[0m\u001b[0;34m\u001b[0m\u001b[0m\n\u001b[1;32m     20\u001b[0m     \u001b[0mtipping_deg_neg\u001b[0m \u001b[0;34m=\u001b[0m \u001b[0mspread_dict\u001b[0m\u001b[0;34m[\u001b[0m\u001b[0mstr\u001b[0m\u001b[0;34m(\u001b[0m\u001b[0myear\u001b[0m\u001b[0;34m)\u001b[0m\u001b[0;34m]\u001b[0m\u001b[0;34m.\u001b[0m\u001b[0mget_influenced_nodes\u001b[0m\u001b[0;34m(\u001b[0m\u001b[0;34m)\u001b[0m\u001b[0;34m\u001b[0m\u001b[0;34m\u001b[0m\u001b[0m\n\u001b[0;32m---> 21\u001b[0;31m     \u001b[0mtopics_deg_neg\u001b[0m \u001b[0;34m=\u001b[0m \u001b[0moverlap_perform\u001b[0m\u001b[0;34m(\u001b[0m\u001b[0myear\u001b[0m\u001b[0;34m,\u001b[0m \u001b[0mtipping_deg_neg\u001b[0m\u001b[0;34m,\u001b[0m \u001b[0mk\u001b[0m\u001b[0;34m)\u001b[0m\u001b[0;34m\u001b[0m\u001b[0;34m\u001b[0m\u001b[0m\n\u001b[0m\u001b[1;32m     22\u001b[0m     \u001b[0mto_print\u001b[0m\u001b[0;34m(\u001b[0m\u001b[0mtopics_deg_neg\u001b[0m\u001b[0;34m,\u001b[0m \u001b[0;34m\"tipping\"\u001b[0m\u001b[0;34m,\u001b[0m \u001b[0mk\u001b[0m\u001b[0;34m,\u001b[0m \u001b[0;34m\"deg negative\"\u001b[0m\u001b[0;34m)\u001b[0m\u001b[0;34m\u001b[0m\u001b[0;34m\u001b[0m\u001b[0m\n",
      "\u001b[0;32m<ipython-input-5-60ae7201d3cc>\u001b[0m in \u001b[0;36moverlap_perform\u001b[0;34m(year, all_topics, k)\u001b[0m\n\u001b[1;32m      2\u001b[0m     \u001b[0moverlap\u001b[0m \u001b[0;34m=\u001b[0m \u001b[0mov\u001b[0m\u001b[0;34m.\u001b[0m\u001b[0mOverlapTopics\u001b[0m\u001b[0;34m(\u001b[0m\u001b[0mgraph_timeline_dict\u001b[0m\u001b[0;34m[\u001b[0m\u001b[0mstr\u001b[0m\u001b[0;34m(\u001b[0m\u001b[0myear\u001b[0m\u001b[0;34m)\u001b[0m\u001b[0;34m]\u001b[0m\u001b[0;34m,\u001b[0m \u001b[0mall_topics\u001b[0m\u001b[0;34m,\u001b[0m \u001b[0mk\u001b[0m\u001b[0;34m)\u001b[0m\u001b[0;34m\u001b[0m\u001b[0;34m\u001b[0m\u001b[0m\n\u001b[1;32m      3\u001b[0m     \u001b[0moverlap\u001b[0m\u001b[0;34m.\u001b[0m\u001b[0moverlap_preprocessing\u001b[0m\u001b[0;34m(\u001b[0m\u001b[0;34m)\u001b[0m\u001b[0;34m\u001b[0m\u001b[0;34m\u001b[0m\u001b[0m\n\u001b[0;32m----> 4\u001b[0;31m     \u001b[0moverlap\u001b[0m\u001b[0;34m.\u001b[0m\u001b[0mclique_percolation_method\u001b[0m\u001b[0;34m(\u001b[0m\u001b[0;34m)\u001b[0m\u001b[0;34m\u001b[0m\u001b[0;34m\u001b[0m\u001b[0m\n\u001b[0m\u001b[1;32m      5\u001b[0m     \u001b[0moverlap\u001b[0m\u001b[0;34m.\u001b[0m\u001b[0mcheck_spread_topics\u001b[0m\u001b[0;34m(\u001b[0m\u001b[0;34m)\u001b[0m\u001b[0;34m\u001b[0m\u001b[0;34m\u001b[0m\u001b[0m\n\u001b[1;32m      6\u001b[0m     \u001b[0moverlap\u001b[0m\u001b[0;34m.\u001b[0m\u001b[0mcheck_number_topics\u001b[0m\u001b[0;34m(\u001b[0m\u001b[0;34m)\u001b[0m\u001b[0;34m\u001b[0m\u001b[0;34m\u001b[0m\u001b[0m\n",
      "\u001b[0;32m~/Universita/magistrale/web_and_social_information_extraction/webandsocial-progetto/src/overlaps_topics/overlap_topics.py\u001b[0m in \u001b[0;36mclique_percolation_method\u001b[0;34m(self)\u001b[0m\n\u001b[1;32m    132\u001b[0m         \u001b[0mcommunities\u001b[0m \u001b[0;34m=\u001b[0m \u001b[0mk_clique_communities\u001b[0m\u001b[0;34m(\u001b[0m\u001b[0mG\u001b[0m \u001b[0;34m=\u001b[0m \u001b[0mself\u001b[0m\u001b[0;34m.\u001b[0m\u001b[0m__year_sub_graph\u001b[0m\u001b[0;34m,\u001b[0m \u001b[0mk\u001b[0m \u001b[0;34m=\u001b[0m \u001b[0;36m2\u001b[0m\u001b[0;34m)\u001b[0m\u001b[0;34m\u001b[0m\u001b[0;34m\u001b[0m\u001b[0m\n\u001b[1;32m    133\u001b[0m         \u001b[0;32mfor\u001b[0m \u001b[0mtopic\u001b[0m \u001b[0;32min\u001b[0m \u001b[0mcommunities\u001b[0m\u001b[0;34m:\u001b[0m\u001b[0;34m\u001b[0m\u001b[0;34m\u001b[0m\u001b[0m\n\u001b[0;32m--> 134\u001b[0;31m             \u001b[0mself\u001b[0m\u001b[0;34m.\u001b[0m\u001b[0mcheck_keywords\u001b[0m\u001b[0;34m(\u001b[0m\u001b[0mtopic\u001b[0m\u001b[0;34m)\u001b[0m\u001b[0;34m\u001b[0m\u001b[0;34m\u001b[0m\u001b[0m\n\u001b[0m\u001b[1;32m    135\u001b[0m             \u001b[0mself\u001b[0m\u001b[0;34m.\u001b[0m\u001b[0m__topics\u001b[0m\u001b[0;34m.\u001b[0m\u001b[0mappend\u001b[0m\u001b[0;34m(\u001b[0m\u001b[0mlist\u001b[0m\u001b[0;34m(\u001b[0m\u001b[0mtopic\u001b[0m\u001b[0;34m)\u001b[0m\u001b[0;34m)\u001b[0m\u001b[0;34m\u001b[0m\u001b[0;34m\u001b[0m\u001b[0m\n\u001b[1;32m    136\u001b[0m \u001b[0;34m\u001b[0m\u001b[0m\n",
      "\u001b[0;32m~/Universita/magistrale/web_and_social_information_extraction/webandsocial-progetto/src/overlaps_topics/overlap_topics.py\u001b[0m in \u001b[0;36mcheck_keywords\u001b[0;34m(self, topic)\u001b[0m\n\u001b[1;32m    119\u001b[0m \u001b[0;34m\u001b[0m\u001b[0m\n\u001b[1;32m    120\u001b[0m         \u001b[0;32mif\u001b[0m \u001b[0;32mnot\u001b[0m \u001b[0mregular\u001b[0m\u001b[0;34m:\u001b[0m\u001b[0;34m\u001b[0m\u001b[0;34m\u001b[0m\u001b[0m\n\u001b[0;32m--> 121\u001b[0;31m             \u001b[0;32mraise\u001b[0m \u001b[0mexcpt\u001b[0m\u001b[0;34m.\u001b[0m\u001b[0mTopicMalFormedException\u001b[0m\u001b[0;34m(\u001b[0m\u001b[0;34m\"Topic bad formed.\"\u001b[0m\u001b[0;34m)\u001b[0m\u001b[0;34m\u001b[0m\u001b[0;34m\u001b[0m\u001b[0m\n\u001b[0m\u001b[1;32m    122\u001b[0m \u001b[0;34m\u001b[0m\u001b[0m\n\u001b[1;32m    123\u001b[0m \u001b[0;34m\u001b[0m\u001b[0m\n",
      "\u001b[0;31mTopicMalFormedException\u001b[0m: Topic bad formed."
     ]
    }
   ],
   "source": [
    "overlap_merge_view_deg_neg(2003, k = 5)"
   ]
  },
  {
   "cell_type": "markdown",
   "metadata": {},
   "source": [
    "### Year 2004"
   ]
  },
  {
   "cell_type": "code",
   "execution_count": 20,
   "metadata": {},
   "outputs": [
    {
     "name": "stdout",
     "output_type": "stream",
     "text": [
      "OVERLAP MERGING RESULT WITH CLIQUE PERCOLATION METHOD, TIPPING MODEL, SEED TOP 5 NODES AND DEG THRESHOLD CALCULATION STRATEGY.\n",
      "\n",
      "['linear discriminant analysis', 'particle swarm optimization', 'experiment', 'benchmark (computing)', 'mathematical optimization']\n",
      "len_topic: 5\n",
      "\n",
      "['real life', 'apache ant (another neat tool)', 'algorithm', 'rule (guideline)', 'heuristic', 'apriori algorithm', 'subgroup a nepoviruses', 'ant colony optimization algorithms', 'consortium', 'large', 'stochastic process', 'reinforcement learning', 'roc curve', 'class', 'biasing']\n",
      "len_topic: 15\n",
      "\n"
     ]
    }
   ],
   "source": [
    "overlap_merge_view_deg(2004, k = 5)"
   ]
  },
  {
   "cell_type": "code",
   "execution_count": 21,
   "metadata": {},
   "outputs": [
    {
     "name": "stdout",
     "output_type": "stream",
     "text": [
      "OVERLAP MERGING RESULT WITH CLIQUE PERCOLATION METHOD, TIPPING MODEL, SEED TOP 5 NODES AND HALF THRESHOLD CALCULATION STRATEGY.\n",
      "\n",
      "['linear discriminant analysis', 'particle swarm optimization', 'experiment', 'benchmark (computing)', 'mathematical optimization']\n",
      "len_topic: 5\n",
      "\n",
      "['real life', 'apache ant (another neat tool)', 'algorithm', 'rule (guideline)', 'heuristic', 'apriori algorithm', 'subgroup a nepoviruses', 'ant colony optimization algorithms', 'consortium', 'large', 'stochastic process', 'reinforcement learning', 'roc curve', 'class', 'biasing']\n",
      "len_topic: 15\n",
      "\n"
     ]
    }
   ],
   "source": [
    "overlap_merge_view_half(2004, k = 5)"
   ]
  },
  {
   "cell_type": "code",
   "execution_count": 22,
   "metadata": {},
   "outputs": [
    {
     "ename": "TopicMalFormedException",
     "evalue": "Topic bad formed.",
     "output_type": "error",
     "traceback": [
      "\u001b[0;31m---------------------------------------------------------------------------\u001b[0m",
      "\u001b[0;31mTopicMalFormedException\u001b[0m                   Traceback (most recent call last)",
      "\u001b[0;32m<ipython-input-22-13179d239aea>\u001b[0m in \u001b[0;36m<module>\u001b[0;34m\u001b[0m\n\u001b[0;32m----> 1\u001b[0;31m \u001b[0moverlap_merge_view_deg_neg\u001b[0m\u001b[0;34m(\u001b[0m\u001b[0;36m2004\u001b[0m\u001b[0;34m,\u001b[0m \u001b[0mk\u001b[0m \u001b[0;34m=\u001b[0m \u001b[0;36m5\u001b[0m\u001b[0;34m)\u001b[0m\u001b[0;34m\u001b[0m\u001b[0;34m\u001b[0m\u001b[0m\n\u001b[0m",
      "\u001b[0;32m<ipython-input-6-aa88f64ba5fa>\u001b[0m in \u001b[0;36moverlap_merge_view_deg_neg\u001b[0;34m(year, k)\u001b[0m\n\u001b[1;32m     19\u001b[0m     \u001b[0mspread_dict\u001b[0m\u001b[0;34m[\u001b[0m\u001b[0mstr\u001b[0m\u001b[0;34m(\u001b[0m\u001b[0myear\u001b[0m\u001b[0;34m)\u001b[0m\u001b[0;34m]\u001b[0m\u001b[0;34m.\u001b[0m\u001b[0mtipping_model\u001b[0m\u001b[0;34m(\u001b[0m\u001b[0;34m)\u001b[0m\u001b[0;34m\u001b[0m\u001b[0;34m\u001b[0m\u001b[0m\n\u001b[1;32m     20\u001b[0m     \u001b[0mtipping_deg_neg\u001b[0m \u001b[0;34m=\u001b[0m \u001b[0mspread_dict\u001b[0m\u001b[0;34m[\u001b[0m\u001b[0mstr\u001b[0m\u001b[0;34m(\u001b[0m\u001b[0myear\u001b[0m\u001b[0;34m)\u001b[0m\u001b[0;34m]\u001b[0m\u001b[0;34m.\u001b[0m\u001b[0mget_influenced_nodes\u001b[0m\u001b[0;34m(\u001b[0m\u001b[0;34m)\u001b[0m\u001b[0;34m\u001b[0m\u001b[0;34m\u001b[0m\u001b[0m\n\u001b[0;32m---> 21\u001b[0;31m     \u001b[0mtopics_deg_neg\u001b[0m \u001b[0;34m=\u001b[0m \u001b[0moverlap_perform\u001b[0m\u001b[0;34m(\u001b[0m\u001b[0myear\u001b[0m\u001b[0;34m,\u001b[0m \u001b[0mtipping_deg_neg\u001b[0m\u001b[0;34m,\u001b[0m \u001b[0mk\u001b[0m\u001b[0;34m)\u001b[0m\u001b[0;34m\u001b[0m\u001b[0;34m\u001b[0m\u001b[0m\n\u001b[0m\u001b[1;32m     22\u001b[0m     \u001b[0mto_print\u001b[0m\u001b[0;34m(\u001b[0m\u001b[0mtopics_deg_neg\u001b[0m\u001b[0;34m,\u001b[0m \u001b[0;34m\"tipping\"\u001b[0m\u001b[0;34m,\u001b[0m \u001b[0mk\u001b[0m\u001b[0;34m,\u001b[0m \u001b[0;34m\"deg negative\"\u001b[0m\u001b[0;34m)\u001b[0m\u001b[0;34m\u001b[0m\u001b[0;34m\u001b[0m\u001b[0m\n",
      "\u001b[0;32m<ipython-input-5-60ae7201d3cc>\u001b[0m in \u001b[0;36moverlap_perform\u001b[0;34m(year, all_topics, k)\u001b[0m\n\u001b[1;32m      2\u001b[0m     \u001b[0moverlap\u001b[0m \u001b[0;34m=\u001b[0m \u001b[0mov\u001b[0m\u001b[0;34m.\u001b[0m\u001b[0mOverlapTopics\u001b[0m\u001b[0;34m(\u001b[0m\u001b[0mgraph_timeline_dict\u001b[0m\u001b[0;34m[\u001b[0m\u001b[0mstr\u001b[0m\u001b[0;34m(\u001b[0m\u001b[0myear\u001b[0m\u001b[0;34m)\u001b[0m\u001b[0;34m]\u001b[0m\u001b[0;34m,\u001b[0m \u001b[0mall_topics\u001b[0m\u001b[0;34m,\u001b[0m \u001b[0mk\u001b[0m\u001b[0;34m)\u001b[0m\u001b[0;34m\u001b[0m\u001b[0;34m\u001b[0m\u001b[0m\n\u001b[1;32m      3\u001b[0m     \u001b[0moverlap\u001b[0m\u001b[0;34m.\u001b[0m\u001b[0moverlap_preprocessing\u001b[0m\u001b[0;34m(\u001b[0m\u001b[0;34m)\u001b[0m\u001b[0;34m\u001b[0m\u001b[0;34m\u001b[0m\u001b[0m\n\u001b[0;32m----> 4\u001b[0;31m     \u001b[0moverlap\u001b[0m\u001b[0;34m.\u001b[0m\u001b[0mclique_percolation_method\u001b[0m\u001b[0;34m(\u001b[0m\u001b[0;34m)\u001b[0m\u001b[0;34m\u001b[0m\u001b[0;34m\u001b[0m\u001b[0m\n\u001b[0m\u001b[1;32m      5\u001b[0m     \u001b[0moverlap\u001b[0m\u001b[0;34m.\u001b[0m\u001b[0mcheck_spread_topics\u001b[0m\u001b[0;34m(\u001b[0m\u001b[0;34m)\u001b[0m\u001b[0;34m\u001b[0m\u001b[0;34m\u001b[0m\u001b[0m\n\u001b[1;32m      6\u001b[0m     \u001b[0moverlap\u001b[0m\u001b[0;34m.\u001b[0m\u001b[0mcheck_number_topics\u001b[0m\u001b[0;34m(\u001b[0m\u001b[0;34m)\u001b[0m\u001b[0;34m\u001b[0m\u001b[0;34m\u001b[0m\u001b[0m\n",
      "\u001b[0;32m~/Universita/magistrale/web_and_social_information_extraction/webandsocial-progetto/src/overlaps_topics/overlap_topics.py\u001b[0m in \u001b[0;36mclique_percolation_method\u001b[0;34m(self)\u001b[0m\n\u001b[1;32m    132\u001b[0m         \u001b[0mcommunities\u001b[0m \u001b[0;34m=\u001b[0m \u001b[0mk_clique_communities\u001b[0m\u001b[0;34m(\u001b[0m\u001b[0mG\u001b[0m \u001b[0;34m=\u001b[0m \u001b[0mself\u001b[0m\u001b[0;34m.\u001b[0m\u001b[0m__year_sub_graph\u001b[0m\u001b[0;34m,\u001b[0m \u001b[0mk\u001b[0m \u001b[0;34m=\u001b[0m \u001b[0;36m2\u001b[0m\u001b[0;34m)\u001b[0m\u001b[0;34m\u001b[0m\u001b[0;34m\u001b[0m\u001b[0m\n\u001b[1;32m    133\u001b[0m         \u001b[0;32mfor\u001b[0m \u001b[0mtopic\u001b[0m \u001b[0;32min\u001b[0m \u001b[0mcommunities\u001b[0m\u001b[0;34m:\u001b[0m\u001b[0;34m\u001b[0m\u001b[0;34m\u001b[0m\u001b[0m\n\u001b[0;32m--> 134\u001b[0;31m             \u001b[0mself\u001b[0m\u001b[0;34m.\u001b[0m\u001b[0mcheck_keywords\u001b[0m\u001b[0;34m(\u001b[0m\u001b[0mtopic\u001b[0m\u001b[0;34m)\u001b[0m\u001b[0;34m\u001b[0m\u001b[0;34m\u001b[0m\u001b[0m\n\u001b[0m\u001b[1;32m    135\u001b[0m             \u001b[0mself\u001b[0m\u001b[0;34m.\u001b[0m\u001b[0m__topics\u001b[0m\u001b[0;34m.\u001b[0m\u001b[0mappend\u001b[0m\u001b[0;34m(\u001b[0m\u001b[0mlist\u001b[0m\u001b[0;34m(\u001b[0m\u001b[0mtopic\u001b[0m\u001b[0;34m)\u001b[0m\u001b[0;34m)\u001b[0m\u001b[0;34m\u001b[0m\u001b[0;34m\u001b[0m\u001b[0m\n\u001b[1;32m    136\u001b[0m \u001b[0;34m\u001b[0m\u001b[0m\n",
      "\u001b[0;32m~/Universita/magistrale/web_and_social_information_extraction/webandsocial-progetto/src/overlaps_topics/overlap_topics.py\u001b[0m in \u001b[0;36mcheck_keywords\u001b[0;34m(self, topic)\u001b[0m\n\u001b[1;32m    119\u001b[0m \u001b[0;34m\u001b[0m\u001b[0m\n\u001b[1;32m    120\u001b[0m         \u001b[0;32mif\u001b[0m \u001b[0;32mnot\u001b[0m \u001b[0mregular\u001b[0m\u001b[0;34m:\u001b[0m\u001b[0;34m\u001b[0m\u001b[0;34m\u001b[0m\u001b[0m\n\u001b[0;32m--> 121\u001b[0;31m             \u001b[0;32mraise\u001b[0m \u001b[0mexcpt\u001b[0m\u001b[0;34m.\u001b[0m\u001b[0mTopicMalFormedException\u001b[0m\u001b[0;34m(\u001b[0m\u001b[0;34m\"Topic bad formed.\"\u001b[0m\u001b[0;34m)\u001b[0m\u001b[0;34m\u001b[0m\u001b[0;34m\u001b[0m\u001b[0m\n\u001b[0m\u001b[1;32m    122\u001b[0m \u001b[0;34m\u001b[0m\u001b[0m\n\u001b[1;32m    123\u001b[0m \u001b[0;34m\u001b[0m\u001b[0m\n",
      "\u001b[0;31mTopicMalFormedException\u001b[0m: Topic bad formed."
     ]
    }
   ],
   "source": [
    "overlap_merge_view_deg_neg(2004, k = 5)"
   ]
  },
  {
   "cell_type": "markdown",
   "metadata": {},
   "source": [
    "### Year 2005"
   ]
  },
  {
   "cell_type": "code",
   "execution_count": 23,
   "metadata": {},
   "outputs": [
    {
     "name": "stdout",
     "output_type": "stream",
     "text": [
      "OVERLAP MERGING RESULT WITH CLIQUE PERCOLATION METHOD, TIPPING MODEL, SEED TOP 5 NODES AND DEG THRESHOLD CALCULATION STRATEGY.\n",
      "\n",
      "['lyapunov fractal', 'social inequality', 'neural network simulation', 'activation function', 'recurrent neural network', 'artificial neural network']\n",
      "len_topic: 6\n",
      "\n",
      "['neural networks', 'periodic solutions', 'discrete-time', 'cellular neural networks', 'global exponential stability']\n",
      "len_topic: 5\n",
      "\n",
      "['nonuniform lighting conditions', 'digital images captured', 'visual quality', 'similar way', 'tone frequency components', 'human eyes sensing', 'adaptive enhancement']\n",
      "len_topic: 7\n",
      "\n",
      "['global asymptotic stability', 'equilibrium point', 'linear matrix inequality']\n",
      "len_topic: 3\n",
      "\n"
     ]
    }
   ],
   "source": [
    "overlap_merge_view_deg(2005, k = 5)"
   ]
  },
  {
   "cell_type": "code",
   "execution_count": 24,
   "metadata": {},
   "outputs": [
    {
     "name": "stdout",
     "output_type": "stream",
     "text": [
      "OVERLAP MERGING RESULT WITH CLIQUE PERCOLATION METHOD, TIPPING MODEL, SEED TOP 5 NODES AND HALF THRESHOLD CALCULATION STRATEGY.\n",
      "\n",
      "['lyapunov fractal', 'social inequality', 'neural network simulation', 'activation function', 'recurrent neural network', 'artificial neural network']\n",
      "len_topic: 6\n",
      "\n",
      "['neural networks', 'periodic solutions', 'discrete-time', 'cellular neural networks', 'global exponential stability']\n",
      "len_topic: 5\n",
      "\n",
      "['nonuniform lighting conditions', 'visual quality', 'digital images captured']\n",
      "len_topic: 3\n",
      "\n",
      "['global asymptotic stability', 'equilibrium point', 'linear matrix inequality']\n",
      "len_topic: 3\n",
      "\n"
     ]
    }
   ],
   "source": [
    "overlap_merge_view_half(2005, k = 5)"
   ]
  },
  {
   "cell_type": "code",
   "execution_count": 25,
   "metadata": {},
   "outputs": [
    {
     "ename": "TopicMalFormedException",
     "evalue": "Topic bad formed.",
     "output_type": "error",
     "traceback": [
      "\u001b[0;31m---------------------------------------------------------------------------\u001b[0m",
      "\u001b[0;31mTopicMalFormedException\u001b[0m                   Traceback (most recent call last)",
      "\u001b[0;32m<ipython-input-25-40a57bbaae41>\u001b[0m in \u001b[0;36m<module>\u001b[0;34m\u001b[0m\n\u001b[0;32m----> 1\u001b[0;31m \u001b[0moverlap_merge_view_deg_neg\u001b[0m\u001b[0;34m(\u001b[0m\u001b[0;36m2005\u001b[0m\u001b[0;34m,\u001b[0m \u001b[0mk\u001b[0m \u001b[0;34m=\u001b[0m \u001b[0;36m5\u001b[0m\u001b[0;34m)\u001b[0m\u001b[0;34m\u001b[0m\u001b[0;34m\u001b[0m\u001b[0m\n\u001b[0m",
      "\u001b[0;32m<ipython-input-6-aa88f64ba5fa>\u001b[0m in \u001b[0;36moverlap_merge_view_deg_neg\u001b[0;34m(year, k)\u001b[0m\n\u001b[1;32m     19\u001b[0m     \u001b[0mspread_dict\u001b[0m\u001b[0;34m[\u001b[0m\u001b[0mstr\u001b[0m\u001b[0;34m(\u001b[0m\u001b[0myear\u001b[0m\u001b[0;34m)\u001b[0m\u001b[0;34m]\u001b[0m\u001b[0;34m.\u001b[0m\u001b[0mtipping_model\u001b[0m\u001b[0;34m(\u001b[0m\u001b[0;34m)\u001b[0m\u001b[0;34m\u001b[0m\u001b[0;34m\u001b[0m\u001b[0m\n\u001b[1;32m     20\u001b[0m     \u001b[0mtipping_deg_neg\u001b[0m \u001b[0;34m=\u001b[0m \u001b[0mspread_dict\u001b[0m\u001b[0;34m[\u001b[0m\u001b[0mstr\u001b[0m\u001b[0;34m(\u001b[0m\u001b[0myear\u001b[0m\u001b[0;34m)\u001b[0m\u001b[0;34m]\u001b[0m\u001b[0;34m.\u001b[0m\u001b[0mget_influenced_nodes\u001b[0m\u001b[0;34m(\u001b[0m\u001b[0;34m)\u001b[0m\u001b[0;34m\u001b[0m\u001b[0;34m\u001b[0m\u001b[0m\n\u001b[0;32m---> 21\u001b[0;31m     \u001b[0mtopics_deg_neg\u001b[0m \u001b[0;34m=\u001b[0m \u001b[0moverlap_perform\u001b[0m\u001b[0;34m(\u001b[0m\u001b[0myear\u001b[0m\u001b[0;34m,\u001b[0m \u001b[0mtipping_deg_neg\u001b[0m\u001b[0;34m,\u001b[0m \u001b[0mk\u001b[0m\u001b[0;34m)\u001b[0m\u001b[0;34m\u001b[0m\u001b[0;34m\u001b[0m\u001b[0m\n\u001b[0m\u001b[1;32m     22\u001b[0m     \u001b[0mto_print\u001b[0m\u001b[0;34m(\u001b[0m\u001b[0mtopics_deg_neg\u001b[0m\u001b[0;34m,\u001b[0m \u001b[0;34m\"tipping\"\u001b[0m\u001b[0;34m,\u001b[0m \u001b[0mk\u001b[0m\u001b[0;34m,\u001b[0m \u001b[0;34m\"deg negative\"\u001b[0m\u001b[0;34m)\u001b[0m\u001b[0;34m\u001b[0m\u001b[0;34m\u001b[0m\u001b[0m\n",
      "\u001b[0;32m<ipython-input-5-60ae7201d3cc>\u001b[0m in \u001b[0;36moverlap_perform\u001b[0;34m(year, all_topics, k)\u001b[0m\n\u001b[1;32m      2\u001b[0m     \u001b[0moverlap\u001b[0m \u001b[0;34m=\u001b[0m \u001b[0mov\u001b[0m\u001b[0;34m.\u001b[0m\u001b[0mOverlapTopics\u001b[0m\u001b[0;34m(\u001b[0m\u001b[0mgraph_timeline_dict\u001b[0m\u001b[0;34m[\u001b[0m\u001b[0mstr\u001b[0m\u001b[0;34m(\u001b[0m\u001b[0myear\u001b[0m\u001b[0;34m)\u001b[0m\u001b[0;34m]\u001b[0m\u001b[0;34m,\u001b[0m \u001b[0mall_topics\u001b[0m\u001b[0;34m,\u001b[0m \u001b[0mk\u001b[0m\u001b[0;34m)\u001b[0m\u001b[0;34m\u001b[0m\u001b[0;34m\u001b[0m\u001b[0m\n\u001b[1;32m      3\u001b[0m     \u001b[0moverlap\u001b[0m\u001b[0;34m.\u001b[0m\u001b[0moverlap_preprocessing\u001b[0m\u001b[0;34m(\u001b[0m\u001b[0;34m)\u001b[0m\u001b[0;34m\u001b[0m\u001b[0;34m\u001b[0m\u001b[0m\n\u001b[0;32m----> 4\u001b[0;31m     \u001b[0moverlap\u001b[0m\u001b[0;34m.\u001b[0m\u001b[0mclique_percolation_method\u001b[0m\u001b[0;34m(\u001b[0m\u001b[0;34m)\u001b[0m\u001b[0;34m\u001b[0m\u001b[0;34m\u001b[0m\u001b[0m\n\u001b[0m\u001b[1;32m      5\u001b[0m     \u001b[0moverlap\u001b[0m\u001b[0;34m.\u001b[0m\u001b[0mcheck_spread_topics\u001b[0m\u001b[0;34m(\u001b[0m\u001b[0;34m)\u001b[0m\u001b[0;34m\u001b[0m\u001b[0;34m\u001b[0m\u001b[0m\n\u001b[1;32m      6\u001b[0m     \u001b[0moverlap\u001b[0m\u001b[0;34m.\u001b[0m\u001b[0mcheck_number_topics\u001b[0m\u001b[0;34m(\u001b[0m\u001b[0;34m)\u001b[0m\u001b[0;34m\u001b[0m\u001b[0;34m\u001b[0m\u001b[0m\n",
      "\u001b[0;32m~/Universita/magistrale/web_and_social_information_extraction/webandsocial-progetto/src/overlaps_topics/overlap_topics.py\u001b[0m in \u001b[0;36mclique_percolation_method\u001b[0;34m(self)\u001b[0m\n\u001b[1;32m    132\u001b[0m         \u001b[0mcommunities\u001b[0m \u001b[0;34m=\u001b[0m \u001b[0mk_clique_communities\u001b[0m\u001b[0;34m(\u001b[0m\u001b[0mG\u001b[0m \u001b[0;34m=\u001b[0m \u001b[0mself\u001b[0m\u001b[0;34m.\u001b[0m\u001b[0m__year_sub_graph\u001b[0m\u001b[0;34m,\u001b[0m \u001b[0mk\u001b[0m \u001b[0;34m=\u001b[0m \u001b[0;36m2\u001b[0m\u001b[0;34m)\u001b[0m\u001b[0;34m\u001b[0m\u001b[0;34m\u001b[0m\u001b[0m\n\u001b[1;32m    133\u001b[0m         \u001b[0;32mfor\u001b[0m \u001b[0mtopic\u001b[0m \u001b[0;32min\u001b[0m \u001b[0mcommunities\u001b[0m\u001b[0;34m:\u001b[0m\u001b[0;34m\u001b[0m\u001b[0;34m\u001b[0m\u001b[0m\n\u001b[0;32m--> 134\u001b[0;31m             \u001b[0mself\u001b[0m\u001b[0;34m.\u001b[0m\u001b[0mcheck_keywords\u001b[0m\u001b[0;34m(\u001b[0m\u001b[0mtopic\u001b[0m\u001b[0;34m)\u001b[0m\u001b[0;34m\u001b[0m\u001b[0;34m\u001b[0m\u001b[0m\n\u001b[0m\u001b[1;32m    135\u001b[0m             \u001b[0mself\u001b[0m\u001b[0;34m.\u001b[0m\u001b[0m__topics\u001b[0m\u001b[0;34m.\u001b[0m\u001b[0mappend\u001b[0m\u001b[0;34m(\u001b[0m\u001b[0mlist\u001b[0m\u001b[0;34m(\u001b[0m\u001b[0mtopic\u001b[0m\u001b[0;34m)\u001b[0m\u001b[0;34m)\u001b[0m\u001b[0;34m\u001b[0m\u001b[0;34m\u001b[0m\u001b[0m\n\u001b[1;32m    136\u001b[0m \u001b[0;34m\u001b[0m\u001b[0m\n",
      "\u001b[0;32m~/Universita/magistrale/web_and_social_information_extraction/webandsocial-progetto/src/overlaps_topics/overlap_topics.py\u001b[0m in \u001b[0;36mcheck_keywords\u001b[0;34m(self, topic)\u001b[0m\n\u001b[1;32m    119\u001b[0m \u001b[0;34m\u001b[0m\u001b[0m\n\u001b[1;32m    120\u001b[0m         \u001b[0;32mif\u001b[0m \u001b[0;32mnot\u001b[0m \u001b[0mregular\u001b[0m\u001b[0;34m:\u001b[0m\u001b[0;34m\u001b[0m\u001b[0;34m\u001b[0m\u001b[0m\n\u001b[0;32m--> 121\u001b[0;31m             \u001b[0;32mraise\u001b[0m \u001b[0mexcpt\u001b[0m\u001b[0;34m.\u001b[0m\u001b[0mTopicMalFormedException\u001b[0m\u001b[0;34m(\u001b[0m\u001b[0;34m\"Topic bad formed.\"\u001b[0m\u001b[0;34m)\u001b[0m\u001b[0;34m\u001b[0m\u001b[0;34m\u001b[0m\u001b[0m\n\u001b[0m\u001b[1;32m    122\u001b[0m \u001b[0;34m\u001b[0m\u001b[0m\n\u001b[1;32m    123\u001b[0m \u001b[0;34m\u001b[0m\u001b[0m\n",
      "\u001b[0;31mTopicMalFormedException\u001b[0m: Topic bad formed."
     ]
    }
   ],
   "source": [
    "overlap_merge_view_deg_neg(2005, k = 5)"
   ]
  },
  {
   "cell_type": "markdown",
   "metadata": {},
   "source": [
    "### Year 2006"
   ]
  },
  {
   "cell_type": "code",
   "execution_count": 26,
   "metadata": {},
   "outputs": [
    {
     "name": "stdout",
     "output_type": "stream",
     "text": [
      "OVERLAP MERGING RESULT WITH CLIQUE PERCOLATION METHOD, TIPPING MODEL, SEED TOP 5 NODES AND DEG THRESHOLD CALCULATION STRATEGY.\n",
      "\n",
      "['lyapunov fractal', 'neural networks', 'computation', 'quantum', 'algorithm', 'variational principle', 'time-varying delays', 'artificial neural network', 'linear matrix inequality', 'global asymptotic stability', 'computationally efficient', 'linear discriminant analysis', 'periodic solution', 'hessian', 'time delays', 'experiment', 'stochastic systems', 'optimization problem', 'hopfield neural networks', 'sufficient conditions', 'gradient', 'global exponential stability', 'lyapunov–krasovskii functional', 'discrete delays', 'uncertain systems', 'machine learning', 'cohen–grossberg neural network', 'particle swarm optimization', 'distributed delays', 'discrete and distributed delays', 'numerical analysis']\n",
      "len_topic: 31\n",
      "\n"
     ]
    }
   ],
   "source": [
    "overlap_merge_view_deg(2006, k = 5)"
   ]
  },
  {
   "cell_type": "code",
   "execution_count": 27,
   "metadata": {},
   "outputs": [
    {
     "name": "stdout",
     "output_type": "stream",
     "text": [
      "OVERLAP MERGING RESULT WITH CLIQUE PERCOLATION METHOD, TIPPING MODEL, SEED TOP 5 NODES AND HALF THRESHOLD CALCULATION STRATEGY.\n",
      "\n",
      "['lyapunov fractal', 'neural networks', 'quantum', 'algorithm', 'time-varying delays', 'artificial neural network', 'linear matrix inequality', 'global asymptotic stability', 'computationally efficient', 'linear discriminant analysis', 'periodic solution', 'time delays', 'stochastic systems', 'optimization problem', 'hopfield neural networks', 'sufficient conditions', 'global exponential stability', 'lyapunov–krasovskii functional', 'discrete delays', 'uncertain systems', 'machine learning', 'cohen–grossberg neural network', 'particle swarm optimization', 'distributed delays', 'discrete and distributed delays', 'numerical analysis']\n",
      "len_topic: 26\n",
      "\n"
     ]
    }
   ],
   "source": [
    "overlap_merge_view_half(2006, k = 5)"
   ]
  },
  {
   "cell_type": "code",
   "execution_count": 28,
   "metadata": {},
   "outputs": [
    {
     "ename": "TopicMalFormedException",
     "evalue": "Topic bad formed.",
     "output_type": "error",
     "traceback": [
      "\u001b[0;31m---------------------------------------------------------------------------\u001b[0m",
      "\u001b[0;31mTopicMalFormedException\u001b[0m                   Traceback (most recent call last)",
      "\u001b[0;32m<ipython-input-28-9c10fa4d4263>\u001b[0m in \u001b[0;36m<module>\u001b[0;34m\u001b[0m\n\u001b[0;32m----> 1\u001b[0;31m \u001b[0moverlap_merge_view_deg_neg\u001b[0m\u001b[0;34m(\u001b[0m\u001b[0;36m2006\u001b[0m\u001b[0;34m,\u001b[0m \u001b[0mk\u001b[0m \u001b[0;34m=\u001b[0m \u001b[0;36m5\u001b[0m\u001b[0;34m)\u001b[0m\u001b[0;34m\u001b[0m\u001b[0;34m\u001b[0m\u001b[0m\n\u001b[0m",
      "\u001b[0;32m<ipython-input-6-aa88f64ba5fa>\u001b[0m in \u001b[0;36moverlap_merge_view_deg_neg\u001b[0;34m(year, k)\u001b[0m\n\u001b[1;32m     19\u001b[0m     \u001b[0mspread_dict\u001b[0m\u001b[0;34m[\u001b[0m\u001b[0mstr\u001b[0m\u001b[0;34m(\u001b[0m\u001b[0myear\u001b[0m\u001b[0;34m)\u001b[0m\u001b[0;34m]\u001b[0m\u001b[0;34m.\u001b[0m\u001b[0mtipping_model\u001b[0m\u001b[0;34m(\u001b[0m\u001b[0;34m)\u001b[0m\u001b[0;34m\u001b[0m\u001b[0;34m\u001b[0m\u001b[0m\n\u001b[1;32m     20\u001b[0m     \u001b[0mtipping_deg_neg\u001b[0m \u001b[0;34m=\u001b[0m \u001b[0mspread_dict\u001b[0m\u001b[0;34m[\u001b[0m\u001b[0mstr\u001b[0m\u001b[0;34m(\u001b[0m\u001b[0myear\u001b[0m\u001b[0;34m)\u001b[0m\u001b[0;34m]\u001b[0m\u001b[0;34m.\u001b[0m\u001b[0mget_influenced_nodes\u001b[0m\u001b[0;34m(\u001b[0m\u001b[0;34m)\u001b[0m\u001b[0;34m\u001b[0m\u001b[0;34m\u001b[0m\u001b[0m\n\u001b[0;32m---> 21\u001b[0;31m     \u001b[0mtopics_deg_neg\u001b[0m \u001b[0;34m=\u001b[0m \u001b[0moverlap_perform\u001b[0m\u001b[0;34m(\u001b[0m\u001b[0myear\u001b[0m\u001b[0;34m,\u001b[0m \u001b[0mtipping_deg_neg\u001b[0m\u001b[0;34m,\u001b[0m \u001b[0mk\u001b[0m\u001b[0;34m)\u001b[0m\u001b[0;34m\u001b[0m\u001b[0;34m\u001b[0m\u001b[0m\n\u001b[0m\u001b[1;32m     22\u001b[0m     \u001b[0mto_print\u001b[0m\u001b[0;34m(\u001b[0m\u001b[0mtopics_deg_neg\u001b[0m\u001b[0;34m,\u001b[0m \u001b[0;34m\"tipping\"\u001b[0m\u001b[0;34m,\u001b[0m \u001b[0mk\u001b[0m\u001b[0;34m,\u001b[0m \u001b[0;34m\"deg negative\"\u001b[0m\u001b[0;34m)\u001b[0m\u001b[0;34m\u001b[0m\u001b[0;34m\u001b[0m\u001b[0m\n",
      "\u001b[0;32m<ipython-input-5-60ae7201d3cc>\u001b[0m in \u001b[0;36moverlap_perform\u001b[0;34m(year, all_topics, k)\u001b[0m\n\u001b[1;32m      2\u001b[0m     \u001b[0moverlap\u001b[0m \u001b[0;34m=\u001b[0m \u001b[0mov\u001b[0m\u001b[0;34m.\u001b[0m\u001b[0mOverlapTopics\u001b[0m\u001b[0;34m(\u001b[0m\u001b[0mgraph_timeline_dict\u001b[0m\u001b[0;34m[\u001b[0m\u001b[0mstr\u001b[0m\u001b[0;34m(\u001b[0m\u001b[0myear\u001b[0m\u001b[0;34m)\u001b[0m\u001b[0;34m]\u001b[0m\u001b[0;34m,\u001b[0m \u001b[0mall_topics\u001b[0m\u001b[0;34m,\u001b[0m \u001b[0mk\u001b[0m\u001b[0;34m)\u001b[0m\u001b[0;34m\u001b[0m\u001b[0;34m\u001b[0m\u001b[0m\n\u001b[1;32m      3\u001b[0m     \u001b[0moverlap\u001b[0m\u001b[0;34m.\u001b[0m\u001b[0moverlap_preprocessing\u001b[0m\u001b[0;34m(\u001b[0m\u001b[0;34m)\u001b[0m\u001b[0;34m\u001b[0m\u001b[0;34m\u001b[0m\u001b[0m\n\u001b[0;32m----> 4\u001b[0;31m     \u001b[0moverlap\u001b[0m\u001b[0;34m.\u001b[0m\u001b[0mclique_percolation_method\u001b[0m\u001b[0;34m(\u001b[0m\u001b[0;34m)\u001b[0m\u001b[0;34m\u001b[0m\u001b[0;34m\u001b[0m\u001b[0m\n\u001b[0m\u001b[1;32m      5\u001b[0m     \u001b[0moverlap\u001b[0m\u001b[0;34m.\u001b[0m\u001b[0mcheck_spread_topics\u001b[0m\u001b[0;34m(\u001b[0m\u001b[0;34m)\u001b[0m\u001b[0;34m\u001b[0m\u001b[0;34m\u001b[0m\u001b[0m\n\u001b[1;32m      6\u001b[0m     \u001b[0moverlap\u001b[0m\u001b[0;34m.\u001b[0m\u001b[0mcheck_number_topics\u001b[0m\u001b[0;34m(\u001b[0m\u001b[0;34m)\u001b[0m\u001b[0;34m\u001b[0m\u001b[0;34m\u001b[0m\u001b[0m\n",
      "\u001b[0;32m~/Universita/magistrale/web_and_social_information_extraction/webandsocial-progetto/src/overlaps_topics/overlap_topics.py\u001b[0m in \u001b[0;36mclique_percolation_method\u001b[0;34m(self)\u001b[0m\n\u001b[1;32m    132\u001b[0m         \u001b[0mcommunities\u001b[0m \u001b[0;34m=\u001b[0m \u001b[0mk_clique_communities\u001b[0m\u001b[0;34m(\u001b[0m\u001b[0mG\u001b[0m \u001b[0;34m=\u001b[0m \u001b[0mself\u001b[0m\u001b[0;34m.\u001b[0m\u001b[0m__year_sub_graph\u001b[0m\u001b[0;34m,\u001b[0m \u001b[0mk\u001b[0m \u001b[0;34m=\u001b[0m \u001b[0;36m2\u001b[0m\u001b[0;34m)\u001b[0m\u001b[0;34m\u001b[0m\u001b[0;34m\u001b[0m\u001b[0m\n\u001b[1;32m    133\u001b[0m         \u001b[0;32mfor\u001b[0m \u001b[0mtopic\u001b[0m \u001b[0;32min\u001b[0m \u001b[0mcommunities\u001b[0m\u001b[0;34m:\u001b[0m\u001b[0;34m\u001b[0m\u001b[0;34m\u001b[0m\u001b[0m\n\u001b[0;32m--> 134\u001b[0;31m             \u001b[0mself\u001b[0m\u001b[0;34m.\u001b[0m\u001b[0mcheck_keywords\u001b[0m\u001b[0;34m(\u001b[0m\u001b[0mtopic\u001b[0m\u001b[0;34m)\u001b[0m\u001b[0;34m\u001b[0m\u001b[0;34m\u001b[0m\u001b[0m\n\u001b[0m\u001b[1;32m    135\u001b[0m             \u001b[0mself\u001b[0m\u001b[0;34m.\u001b[0m\u001b[0m__topics\u001b[0m\u001b[0;34m.\u001b[0m\u001b[0mappend\u001b[0m\u001b[0;34m(\u001b[0m\u001b[0mlist\u001b[0m\u001b[0;34m(\u001b[0m\u001b[0mtopic\u001b[0m\u001b[0;34m)\u001b[0m\u001b[0;34m)\u001b[0m\u001b[0;34m\u001b[0m\u001b[0;34m\u001b[0m\u001b[0m\n\u001b[1;32m    136\u001b[0m \u001b[0;34m\u001b[0m\u001b[0m\n",
      "\u001b[0;32m~/Universita/magistrale/web_and_social_information_extraction/webandsocial-progetto/src/overlaps_topics/overlap_topics.py\u001b[0m in \u001b[0;36mcheck_keywords\u001b[0;34m(self, topic)\u001b[0m\n\u001b[1;32m    119\u001b[0m \u001b[0;34m\u001b[0m\u001b[0m\n\u001b[1;32m    120\u001b[0m         \u001b[0;32mif\u001b[0m \u001b[0;32mnot\u001b[0m \u001b[0mregular\u001b[0m\u001b[0;34m:\u001b[0m\u001b[0;34m\u001b[0m\u001b[0;34m\u001b[0m\u001b[0m\n\u001b[0;32m--> 121\u001b[0;31m             \u001b[0;32mraise\u001b[0m \u001b[0mexcpt\u001b[0m\u001b[0;34m.\u001b[0m\u001b[0mTopicMalFormedException\u001b[0m\u001b[0;34m(\u001b[0m\u001b[0;34m\"Topic bad formed.\"\u001b[0m\u001b[0;34m)\u001b[0m\u001b[0;34m\u001b[0m\u001b[0;34m\u001b[0m\u001b[0m\n\u001b[0m\u001b[1;32m    122\u001b[0m \u001b[0;34m\u001b[0m\u001b[0m\n\u001b[1;32m    123\u001b[0m \u001b[0;34m\u001b[0m\u001b[0m\n",
      "\u001b[0;31mTopicMalFormedException\u001b[0m: Topic bad formed."
     ]
    }
   ],
   "source": [
    "overlap_merge_view_deg_neg(2006, k = 5)"
   ]
  },
  {
   "cell_type": "markdown",
   "metadata": {},
   "source": [
    "### Year 2007"
   ]
  },
  {
   "cell_type": "code",
   "execution_count": 29,
   "metadata": {},
   "outputs": [
    {
     "name": "stdout",
     "output_type": "stream",
     "text": [
      "OVERLAP MERGING RESULT WITH CLIQUE PERCOLATION METHOD, TIPPING MODEL, SEED TOP 5 NODES AND DEG THRESHOLD CALCULATION STRATEGY.\n",
      "\n",
      "['lyapunov fractal', 'content-addressable memory', 'neural network simulation', 'synchronization', 'rate of convergence', 'time-varying delays', 'artificial neural network', 'chaos', 'lyapunov functional', 'linear matrix inequality', 'bidirectional associative memory', 'lyapunov–krasovskii functional', 'social inequality', 'bidirectional associative memory neural networks', 'cohen–grossberg neural networks', 'lag synchronization', 'distributed delays']\n",
      "len_topic: 17\n",
      "\n",
      "['particle swarm optimization', 'evolutionary algorithm', 'velocity (software development)', 'mathematical optimization', 'numerical analysis']\n",
      "len_topic: 5\n",
      "\n"
     ]
    }
   ],
   "source": [
    "overlap_merge_view_deg(2007, k = 5)"
   ]
  },
  {
   "cell_type": "code",
   "execution_count": 30,
   "metadata": {},
   "outputs": [
    {
     "name": "stdout",
     "output_type": "stream",
     "text": [
      "OVERLAP MERGING RESULT WITH CLIQUE PERCOLATION METHOD, TIPPING MODEL, SEED TOP 5 NODES AND HALF THRESHOLD CALCULATION STRATEGY.\n",
      "\n",
      "['lyapunov fractal', 'content-addressable memory', 'neural network simulation', 'synchronization', 'rate of convergence', 'time-varying delays', 'artificial neural network', 'chaos', 'lyapunov functional', 'linear matrix inequality', 'bidirectional associative memory', 'lyapunov–krasovskii functional', 'social inequality', 'bidirectional associative memory neural networks', 'cohen–grossberg neural networks', 'lag synchronization', 'distributed delays']\n",
      "len_topic: 17\n",
      "\n",
      "['mathematical optimization', 'numerical analysis']\n",
      "len_topic: 2\n",
      "\n"
     ]
    }
   ],
   "source": [
    "overlap_merge_view_half(2007, k = 5)"
   ]
  },
  {
   "cell_type": "code",
   "execution_count": 31,
   "metadata": {},
   "outputs": [
    {
     "ename": "TopicMalFormedException",
     "evalue": "Topic bad formed.",
     "output_type": "error",
     "traceback": [
      "\u001b[0;31m---------------------------------------------------------------------------\u001b[0m",
      "\u001b[0;31mTopicMalFormedException\u001b[0m                   Traceback (most recent call last)",
      "\u001b[0;32m<ipython-input-31-de20586922d0>\u001b[0m in \u001b[0;36m<module>\u001b[0;34m\u001b[0m\n\u001b[0;32m----> 1\u001b[0;31m \u001b[0moverlap_merge_view_deg_neg\u001b[0m\u001b[0;34m(\u001b[0m\u001b[0;36m2007\u001b[0m\u001b[0;34m,\u001b[0m \u001b[0mk\u001b[0m \u001b[0;34m=\u001b[0m \u001b[0;36m5\u001b[0m\u001b[0;34m)\u001b[0m\u001b[0;34m\u001b[0m\u001b[0;34m\u001b[0m\u001b[0m\n\u001b[0m",
      "\u001b[0;32m<ipython-input-6-aa88f64ba5fa>\u001b[0m in \u001b[0;36moverlap_merge_view_deg_neg\u001b[0;34m(year, k)\u001b[0m\n\u001b[1;32m     19\u001b[0m     \u001b[0mspread_dict\u001b[0m\u001b[0;34m[\u001b[0m\u001b[0mstr\u001b[0m\u001b[0;34m(\u001b[0m\u001b[0myear\u001b[0m\u001b[0;34m)\u001b[0m\u001b[0;34m]\u001b[0m\u001b[0;34m.\u001b[0m\u001b[0mtipping_model\u001b[0m\u001b[0;34m(\u001b[0m\u001b[0;34m)\u001b[0m\u001b[0;34m\u001b[0m\u001b[0;34m\u001b[0m\u001b[0m\n\u001b[1;32m     20\u001b[0m     \u001b[0mtipping_deg_neg\u001b[0m \u001b[0;34m=\u001b[0m \u001b[0mspread_dict\u001b[0m\u001b[0;34m[\u001b[0m\u001b[0mstr\u001b[0m\u001b[0;34m(\u001b[0m\u001b[0myear\u001b[0m\u001b[0;34m)\u001b[0m\u001b[0;34m]\u001b[0m\u001b[0;34m.\u001b[0m\u001b[0mget_influenced_nodes\u001b[0m\u001b[0;34m(\u001b[0m\u001b[0;34m)\u001b[0m\u001b[0;34m\u001b[0m\u001b[0;34m\u001b[0m\u001b[0m\n\u001b[0;32m---> 21\u001b[0;31m     \u001b[0mtopics_deg_neg\u001b[0m \u001b[0;34m=\u001b[0m \u001b[0moverlap_perform\u001b[0m\u001b[0;34m(\u001b[0m\u001b[0myear\u001b[0m\u001b[0;34m,\u001b[0m \u001b[0mtipping_deg_neg\u001b[0m\u001b[0;34m,\u001b[0m \u001b[0mk\u001b[0m\u001b[0;34m)\u001b[0m\u001b[0;34m\u001b[0m\u001b[0;34m\u001b[0m\u001b[0m\n\u001b[0m\u001b[1;32m     22\u001b[0m     \u001b[0mto_print\u001b[0m\u001b[0;34m(\u001b[0m\u001b[0mtopics_deg_neg\u001b[0m\u001b[0;34m,\u001b[0m \u001b[0;34m\"tipping\"\u001b[0m\u001b[0;34m,\u001b[0m \u001b[0mk\u001b[0m\u001b[0;34m,\u001b[0m \u001b[0;34m\"deg negative\"\u001b[0m\u001b[0;34m)\u001b[0m\u001b[0;34m\u001b[0m\u001b[0;34m\u001b[0m\u001b[0m\n",
      "\u001b[0;32m<ipython-input-5-60ae7201d3cc>\u001b[0m in \u001b[0;36moverlap_perform\u001b[0;34m(year, all_topics, k)\u001b[0m\n\u001b[1;32m      2\u001b[0m     \u001b[0moverlap\u001b[0m \u001b[0;34m=\u001b[0m \u001b[0mov\u001b[0m\u001b[0;34m.\u001b[0m\u001b[0mOverlapTopics\u001b[0m\u001b[0;34m(\u001b[0m\u001b[0mgraph_timeline_dict\u001b[0m\u001b[0;34m[\u001b[0m\u001b[0mstr\u001b[0m\u001b[0;34m(\u001b[0m\u001b[0myear\u001b[0m\u001b[0;34m)\u001b[0m\u001b[0;34m]\u001b[0m\u001b[0;34m,\u001b[0m \u001b[0mall_topics\u001b[0m\u001b[0;34m,\u001b[0m \u001b[0mk\u001b[0m\u001b[0;34m)\u001b[0m\u001b[0;34m\u001b[0m\u001b[0;34m\u001b[0m\u001b[0m\n\u001b[1;32m      3\u001b[0m     \u001b[0moverlap\u001b[0m\u001b[0;34m.\u001b[0m\u001b[0moverlap_preprocessing\u001b[0m\u001b[0;34m(\u001b[0m\u001b[0;34m)\u001b[0m\u001b[0;34m\u001b[0m\u001b[0;34m\u001b[0m\u001b[0m\n\u001b[0;32m----> 4\u001b[0;31m     \u001b[0moverlap\u001b[0m\u001b[0;34m.\u001b[0m\u001b[0mclique_percolation_method\u001b[0m\u001b[0;34m(\u001b[0m\u001b[0;34m)\u001b[0m\u001b[0;34m\u001b[0m\u001b[0;34m\u001b[0m\u001b[0m\n\u001b[0m\u001b[1;32m      5\u001b[0m     \u001b[0moverlap\u001b[0m\u001b[0;34m.\u001b[0m\u001b[0mcheck_spread_topics\u001b[0m\u001b[0;34m(\u001b[0m\u001b[0;34m)\u001b[0m\u001b[0;34m\u001b[0m\u001b[0;34m\u001b[0m\u001b[0m\n\u001b[1;32m      6\u001b[0m     \u001b[0moverlap\u001b[0m\u001b[0;34m.\u001b[0m\u001b[0mcheck_number_topics\u001b[0m\u001b[0;34m(\u001b[0m\u001b[0;34m)\u001b[0m\u001b[0;34m\u001b[0m\u001b[0;34m\u001b[0m\u001b[0m\n",
      "\u001b[0;32m~/Universita/magistrale/web_and_social_information_extraction/webandsocial-progetto/src/overlaps_topics/overlap_topics.py\u001b[0m in \u001b[0;36mclique_percolation_method\u001b[0;34m(self)\u001b[0m\n\u001b[1;32m    132\u001b[0m         \u001b[0mcommunities\u001b[0m \u001b[0;34m=\u001b[0m \u001b[0mk_clique_communities\u001b[0m\u001b[0;34m(\u001b[0m\u001b[0mG\u001b[0m \u001b[0;34m=\u001b[0m \u001b[0mself\u001b[0m\u001b[0;34m.\u001b[0m\u001b[0m__year_sub_graph\u001b[0m\u001b[0;34m,\u001b[0m \u001b[0mk\u001b[0m \u001b[0;34m=\u001b[0m \u001b[0;36m2\u001b[0m\u001b[0;34m)\u001b[0m\u001b[0;34m\u001b[0m\u001b[0;34m\u001b[0m\u001b[0m\n\u001b[1;32m    133\u001b[0m         \u001b[0;32mfor\u001b[0m \u001b[0mtopic\u001b[0m \u001b[0;32min\u001b[0m \u001b[0mcommunities\u001b[0m\u001b[0;34m:\u001b[0m\u001b[0;34m\u001b[0m\u001b[0;34m\u001b[0m\u001b[0m\n\u001b[0;32m--> 134\u001b[0;31m             \u001b[0mself\u001b[0m\u001b[0;34m.\u001b[0m\u001b[0mcheck_keywords\u001b[0m\u001b[0;34m(\u001b[0m\u001b[0mtopic\u001b[0m\u001b[0;34m)\u001b[0m\u001b[0;34m\u001b[0m\u001b[0;34m\u001b[0m\u001b[0m\n\u001b[0m\u001b[1;32m    135\u001b[0m             \u001b[0mself\u001b[0m\u001b[0;34m.\u001b[0m\u001b[0m__topics\u001b[0m\u001b[0;34m.\u001b[0m\u001b[0mappend\u001b[0m\u001b[0;34m(\u001b[0m\u001b[0mlist\u001b[0m\u001b[0;34m(\u001b[0m\u001b[0mtopic\u001b[0m\u001b[0;34m)\u001b[0m\u001b[0;34m)\u001b[0m\u001b[0;34m\u001b[0m\u001b[0;34m\u001b[0m\u001b[0m\n\u001b[1;32m    136\u001b[0m \u001b[0;34m\u001b[0m\u001b[0m\n",
      "\u001b[0;32m~/Universita/magistrale/web_and_social_information_extraction/webandsocial-progetto/src/overlaps_topics/overlap_topics.py\u001b[0m in \u001b[0;36mcheck_keywords\u001b[0;34m(self, topic)\u001b[0m\n\u001b[1;32m    119\u001b[0m \u001b[0;34m\u001b[0m\u001b[0m\n\u001b[1;32m    120\u001b[0m         \u001b[0;32mif\u001b[0m \u001b[0;32mnot\u001b[0m \u001b[0mregular\u001b[0m\u001b[0;34m:\u001b[0m\u001b[0;34m\u001b[0m\u001b[0;34m\u001b[0m\u001b[0m\n\u001b[0;32m--> 121\u001b[0;31m             \u001b[0;32mraise\u001b[0m \u001b[0mexcpt\u001b[0m\u001b[0;34m.\u001b[0m\u001b[0mTopicMalFormedException\u001b[0m\u001b[0;34m(\u001b[0m\u001b[0;34m\"Topic bad formed.\"\u001b[0m\u001b[0;34m)\u001b[0m\u001b[0;34m\u001b[0m\u001b[0;34m\u001b[0m\u001b[0m\n\u001b[0m\u001b[1;32m    122\u001b[0m \u001b[0;34m\u001b[0m\u001b[0m\n\u001b[1;32m    123\u001b[0m \u001b[0;34m\u001b[0m\u001b[0m\n",
      "\u001b[0;31mTopicMalFormedException\u001b[0m: Topic bad formed."
     ]
    }
   ],
   "source": [
    "overlap_merge_view_deg_neg(2007, k = 5)"
   ]
  },
  {
   "cell_type": "markdown",
   "metadata": {},
   "source": [
    "### Year 2008"
   ]
  },
  {
   "cell_type": "code",
   "execution_count": 32,
   "metadata": {},
   "outputs": [
    {
     "name": "stdout",
     "output_type": "stream",
     "text": [
      "OVERLAP MERGING RESULT WITH CLIQUE PERCOLATION METHOD, TIPPING MODEL, SEED TOP 5 NODES AND DEG THRESHOLD CALCULATION STRATEGY.\n",
      "\n",
      "['unbounded distributed delays', 'lyapunov fractal', 'neural networks', 'exponential stability', 'rate of convergence', 'exponential', 'artificial neural network', 'linear matrix inequality', 'varying delays', 'biological neural networks', 'mathematical optimization', 'lyapunov–krasovskii functional', 'social inequality', 'lyapunov method', 'global asymptotic stability', 'global optimization', 'numerical analysis']\n",
      "len_topic: 17\n",
      "\n"
     ]
    }
   ],
   "source": [
    "overlap_merge_view_deg(2008, k = 5)"
   ]
  },
  {
   "cell_type": "code",
   "execution_count": 33,
   "metadata": {},
   "outputs": [
    {
     "name": "stdout",
     "output_type": "stream",
     "text": [
      "OVERLAP MERGING RESULT WITH CLIQUE PERCOLATION METHOD, TIPPING MODEL, SEED TOP 5 NODES AND HALF THRESHOLD CALCULATION STRATEGY.\n",
      "\n",
      "['lyapunov fractal', 'neural networks', 'biological neural networks', 'exponential stability', 'rate of convergence', 'exponential', 'artificial neural network', 'mathematical optimization', 'linear matrix inequality', 'varying delays', 'social inequality', 'lyapunov method', 'global optimization', 'numerical analysis']\n",
      "len_topic: 14\n",
      "\n"
     ]
    }
   ],
   "source": [
    "overlap_merge_view_half(2008, k = 5)"
   ]
  },
  {
   "cell_type": "code",
   "execution_count": 34,
   "metadata": {},
   "outputs": [
    {
     "ename": "TopicMalFormedException",
     "evalue": "Topic bad formed.",
     "output_type": "error",
     "traceback": [
      "\u001b[0;31m---------------------------------------------------------------------------\u001b[0m",
      "\u001b[0;31mTopicMalFormedException\u001b[0m                   Traceback (most recent call last)",
      "\u001b[0;32m<ipython-input-34-125997d3b650>\u001b[0m in \u001b[0;36m<module>\u001b[0;34m\u001b[0m\n\u001b[0;32m----> 1\u001b[0;31m \u001b[0moverlap_merge_view_deg_neg\u001b[0m\u001b[0;34m(\u001b[0m\u001b[0;36m2008\u001b[0m\u001b[0;34m,\u001b[0m \u001b[0mk\u001b[0m \u001b[0;34m=\u001b[0m \u001b[0;36m5\u001b[0m\u001b[0;34m)\u001b[0m\u001b[0;34m\u001b[0m\u001b[0;34m\u001b[0m\u001b[0m\n\u001b[0m",
      "\u001b[0;32m<ipython-input-6-aa88f64ba5fa>\u001b[0m in \u001b[0;36moverlap_merge_view_deg_neg\u001b[0;34m(year, k)\u001b[0m\n\u001b[1;32m     19\u001b[0m     \u001b[0mspread_dict\u001b[0m\u001b[0;34m[\u001b[0m\u001b[0mstr\u001b[0m\u001b[0;34m(\u001b[0m\u001b[0myear\u001b[0m\u001b[0;34m)\u001b[0m\u001b[0;34m]\u001b[0m\u001b[0;34m.\u001b[0m\u001b[0mtipping_model\u001b[0m\u001b[0;34m(\u001b[0m\u001b[0;34m)\u001b[0m\u001b[0;34m\u001b[0m\u001b[0;34m\u001b[0m\u001b[0m\n\u001b[1;32m     20\u001b[0m     \u001b[0mtipping_deg_neg\u001b[0m \u001b[0;34m=\u001b[0m \u001b[0mspread_dict\u001b[0m\u001b[0;34m[\u001b[0m\u001b[0mstr\u001b[0m\u001b[0;34m(\u001b[0m\u001b[0myear\u001b[0m\u001b[0;34m)\u001b[0m\u001b[0;34m]\u001b[0m\u001b[0;34m.\u001b[0m\u001b[0mget_influenced_nodes\u001b[0m\u001b[0;34m(\u001b[0m\u001b[0;34m)\u001b[0m\u001b[0;34m\u001b[0m\u001b[0;34m\u001b[0m\u001b[0m\n\u001b[0;32m---> 21\u001b[0;31m     \u001b[0mtopics_deg_neg\u001b[0m \u001b[0;34m=\u001b[0m \u001b[0moverlap_perform\u001b[0m\u001b[0;34m(\u001b[0m\u001b[0myear\u001b[0m\u001b[0;34m,\u001b[0m \u001b[0mtipping_deg_neg\u001b[0m\u001b[0;34m,\u001b[0m \u001b[0mk\u001b[0m\u001b[0;34m)\u001b[0m\u001b[0;34m\u001b[0m\u001b[0;34m\u001b[0m\u001b[0m\n\u001b[0m\u001b[1;32m     22\u001b[0m     \u001b[0mto_print\u001b[0m\u001b[0;34m(\u001b[0m\u001b[0mtopics_deg_neg\u001b[0m\u001b[0;34m,\u001b[0m \u001b[0;34m\"tipping\"\u001b[0m\u001b[0;34m,\u001b[0m \u001b[0mk\u001b[0m\u001b[0;34m,\u001b[0m \u001b[0;34m\"deg negative\"\u001b[0m\u001b[0;34m)\u001b[0m\u001b[0;34m\u001b[0m\u001b[0;34m\u001b[0m\u001b[0m\n",
      "\u001b[0;32m<ipython-input-5-60ae7201d3cc>\u001b[0m in \u001b[0;36moverlap_perform\u001b[0;34m(year, all_topics, k)\u001b[0m\n\u001b[1;32m      2\u001b[0m     \u001b[0moverlap\u001b[0m \u001b[0;34m=\u001b[0m \u001b[0mov\u001b[0m\u001b[0;34m.\u001b[0m\u001b[0mOverlapTopics\u001b[0m\u001b[0;34m(\u001b[0m\u001b[0mgraph_timeline_dict\u001b[0m\u001b[0;34m[\u001b[0m\u001b[0mstr\u001b[0m\u001b[0;34m(\u001b[0m\u001b[0myear\u001b[0m\u001b[0;34m)\u001b[0m\u001b[0;34m]\u001b[0m\u001b[0;34m,\u001b[0m \u001b[0mall_topics\u001b[0m\u001b[0;34m,\u001b[0m \u001b[0mk\u001b[0m\u001b[0;34m)\u001b[0m\u001b[0;34m\u001b[0m\u001b[0;34m\u001b[0m\u001b[0m\n\u001b[1;32m      3\u001b[0m     \u001b[0moverlap\u001b[0m\u001b[0;34m.\u001b[0m\u001b[0moverlap_preprocessing\u001b[0m\u001b[0;34m(\u001b[0m\u001b[0;34m)\u001b[0m\u001b[0;34m\u001b[0m\u001b[0;34m\u001b[0m\u001b[0m\n\u001b[0;32m----> 4\u001b[0;31m     \u001b[0moverlap\u001b[0m\u001b[0;34m.\u001b[0m\u001b[0mclique_percolation_method\u001b[0m\u001b[0;34m(\u001b[0m\u001b[0;34m)\u001b[0m\u001b[0;34m\u001b[0m\u001b[0;34m\u001b[0m\u001b[0m\n\u001b[0m\u001b[1;32m      5\u001b[0m     \u001b[0moverlap\u001b[0m\u001b[0;34m.\u001b[0m\u001b[0mcheck_spread_topics\u001b[0m\u001b[0;34m(\u001b[0m\u001b[0;34m)\u001b[0m\u001b[0;34m\u001b[0m\u001b[0;34m\u001b[0m\u001b[0m\n\u001b[1;32m      6\u001b[0m     \u001b[0moverlap\u001b[0m\u001b[0;34m.\u001b[0m\u001b[0mcheck_number_topics\u001b[0m\u001b[0;34m(\u001b[0m\u001b[0;34m)\u001b[0m\u001b[0;34m\u001b[0m\u001b[0;34m\u001b[0m\u001b[0m\n",
      "\u001b[0;32m~/Universita/magistrale/web_and_social_information_extraction/webandsocial-progetto/src/overlaps_topics/overlap_topics.py\u001b[0m in \u001b[0;36mclique_percolation_method\u001b[0;34m(self)\u001b[0m\n\u001b[1;32m    132\u001b[0m         \u001b[0mcommunities\u001b[0m \u001b[0;34m=\u001b[0m \u001b[0mk_clique_communities\u001b[0m\u001b[0;34m(\u001b[0m\u001b[0mG\u001b[0m \u001b[0;34m=\u001b[0m \u001b[0mself\u001b[0m\u001b[0;34m.\u001b[0m\u001b[0m__year_sub_graph\u001b[0m\u001b[0;34m,\u001b[0m \u001b[0mk\u001b[0m \u001b[0;34m=\u001b[0m \u001b[0;36m2\u001b[0m\u001b[0;34m)\u001b[0m\u001b[0;34m\u001b[0m\u001b[0;34m\u001b[0m\u001b[0m\n\u001b[1;32m    133\u001b[0m         \u001b[0;32mfor\u001b[0m \u001b[0mtopic\u001b[0m \u001b[0;32min\u001b[0m \u001b[0mcommunities\u001b[0m\u001b[0;34m:\u001b[0m\u001b[0;34m\u001b[0m\u001b[0;34m\u001b[0m\u001b[0m\n\u001b[0;32m--> 134\u001b[0;31m             \u001b[0mself\u001b[0m\u001b[0;34m.\u001b[0m\u001b[0mcheck_keywords\u001b[0m\u001b[0;34m(\u001b[0m\u001b[0mtopic\u001b[0m\u001b[0;34m)\u001b[0m\u001b[0;34m\u001b[0m\u001b[0;34m\u001b[0m\u001b[0m\n\u001b[0m\u001b[1;32m    135\u001b[0m             \u001b[0mself\u001b[0m\u001b[0;34m.\u001b[0m\u001b[0m__topics\u001b[0m\u001b[0;34m.\u001b[0m\u001b[0mappend\u001b[0m\u001b[0;34m(\u001b[0m\u001b[0mlist\u001b[0m\u001b[0;34m(\u001b[0m\u001b[0mtopic\u001b[0m\u001b[0;34m)\u001b[0m\u001b[0;34m)\u001b[0m\u001b[0;34m\u001b[0m\u001b[0;34m\u001b[0m\u001b[0m\n\u001b[1;32m    136\u001b[0m \u001b[0;34m\u001b[0m\u001b[0m\n",
      "\u001b[0;32m~/Universita/magistrale/web_and_social_information_extraction/webandsocial-progetto/src/overlaps_topics/overlap_topics.py\u001b[0m in \u001b[0;36mcheck_keywords\u001b[0;34m(self, topic)\u001b[0m\n\u001b[1;32m    119\u001b[0m \u001b[0;34m\u001b[0m\u001b[0m\n\u001b[1;32m    120\u001b[0m         \u001b[0;32mif\u001b[0m \u001b[0;32mnot\u001b[0m \u001b[0mregular\u001b[0m\u001b[0;34m:\u001b[0m\u001b[0;34m\u001b[0m\u001b[0;34m\u001b[0m\u001b[0m\n\u001b[0;32m--> 121\u001b[0;31m             \u001b[0;32mraise\u001b[0m \u001b[0mexcpt\u001b[0m\u001b[0;34m.\u001b[0m\u001b[0mTopicMalFormedException\u001b[0m\u001b[0;34m(\u001b[0m\u001b[0;34m\"Topic bad formed.\"\u001b[0m\u001b[0;34m)\u001b[0m\u001b[0;34m\u001b[0m\u001b[0;34m\u001b[0m\u001b[0m\n\u001b[0m\u001b[1;32m    122\u001b[0m \u001b[0;34m\u001b[0m\u001b[0m\n\u001b[1;32m    123\u001b[0m \u001b[0;34m\u001b[0m\u001b[0m\n",
      "\u001b[0;31mTopicMalFormedException\u001b[0m: Topic bad formed."
     ]
    }
   ],
   "source": [
    "overlap_merge_view_deg_neg(2008, k = 5)"
   ]
  },
  {
   "cell_type": "markdown",
   "metadata": {},
   "source": [
    "### Year 2009"
   ]
  },
  {
   "cell_type": "code",
   "execution_count": 35,
   "metadata": {},
   "outputs": [
    {
     "name": "stdout",
     "output_type": "stream",
     "text": [
      "OVERLAP MERGING RESULT WITH CLIQUE PERCOLATION METHOD, TIPPING MODEL, SEED TOP 5 NODES AND DEG THRESHOLD CALCULATION STRATEGY.\n",
      "\n",
      "['cognitive radio', 'frequency allocation', 'frequency band', 'interference (communication)']\n",
      "len_topic: 4\n",
      "\n",
      "['lyapunov fractal', 'anfis', 'rate of convergence', 'evolutionary algorithm', 'algorithm', 'differential evolution', 'aliasing', 'simulation', 'adaptive neuro fuzzy inference system', 'reinforcement learning', '3d modeling', 'test suite', 'disjunctive normal form', 'identification', 'stability analysis', 'optimization problem', 'particle swarm optimization', 'data mining\\xa0', 'recursion', 'mathematical optimization', 'gradient descent', 'fuzzy rule', 'recursive least squares filter', 'system identifier', 'machine learning', 'hybrid learning algorithm', 'global optimization']\n",
      "len_topic: 27\n",
      "\n",
      "['05.45.vx', '05.45.xt', 'complex networks', '05.45.gg']\n",
      "len_topic: 4\n",
      "\n"
     ]
    }
   ],
   "source": [
    "overlap_merge_view_deg(2009, k = 5)"
   ]
  },
  {
   "cell_type": "code",
   "execution_count": 36,
   "metadata": {},
   "outputs": [
    {
     "ename": "TopicNotAllKeywordsUsedException",
     "evalue": "To perfom all topics not all keywords have been used.",
     "output_type": "error",
     "traceback": [
      "\u001b[0;31m---------------------------------------------------------------------------\u001b[0m",
      "\u001b[0;31mTopicNotAllKeywordsUsedException\u001b[0m          Traceback (most recent call last)",
      "\u001b[0;32m<ipython-input-36-c045b0c74459>\u001b[0m in \u001b[0;36m<module>\u001b[0;34m\u001b[0m\n\u001b[0;32m----> 1\u001b[0;31m \u001b[0moverlap_merge_view_half\u001b[0m\u001b[0;34m(\u001b[0m\u001b[0;36m2009\u001b[0m\u001b[0;34m,\u001b[0m \u001b[0mk\u001b[0m \u001b[0;34m=\u001b[0m \u001b[0;36m5\u001b[0m\u001b[0;34m)\u001b[0m\u001b[0;34m\u001b[0m\u001b[0;34m\u001b[0m\u001b[0m\n\u001b[0m",
      "\u001b[0;32m<ipython-input-6-aa88f64ba5fa>\u001b[0m in \u001b[0;36moverlap_merge_view_half\u001b[0;34m(year, k)\u001b[0m\n\u001b[1;32m     11\u001b[0m     \u001b[0mspread_dict\u001b[0m\u001b[0;34m[\u001b[0m\u001b[0mstr\u001b[0m\u001b[0;34m(\u001b[0m\u001b[0myear\u001b[0m\u001b[0;34m)\u001b[0m\u001b[0;34m]\u001b[0m\u001b[0;34m.\u001b[0m\u001b[0mtipping_model\u001b[0m\u001b[0;34m(\u001b[0m\u001b[0;34m)\u001b[0m\u001b[0;34m\u001b[0m\u001b[0;34m\u001b[0m\u001b[0m\n\u001b[1;32m     12\u001b[0m     \u001b[0mtipping_half\u001b[0m \u001b[0;34m=\u001b[0m \u001b[0mspread_dict\u001b[0m\u001b[0;34m[\u001b[0m\u001b[0mstr\u001b[0m\u001b[0;34m(\u001b[0m\u001b[0myear\u001b[0m\u001b[0;34m)\u001b[0m\u001b[0;34m]\u001b[0m\u001b[0;34m.\u001b[0m\u001b[0mget_influenced_nodes\u001b[0m\u001b[0;34m(\u001b[0m\u001b[0;34m)\u001b[0m\u001b[0;34m\u001b[0m\u001b[0;34m\u001b[0m\u001b[0m\n\u001b[0;32m---> 13\u001b[0;31m     \u001b[0mtopics_half\u001b[0m \u001b[0;34m=\u001b[0m \u001b[0moverlap_perform\u001b[0m\u001b[0;34m(\u001b[0m\u001b[0myear\u001b[0m\u001b[0;34m,\u001b[0m \u001b[0mtipping_half\u001b[0m\u001b[0;34m,\u001b[0m \u001b[0mk\u001b[0m\u001b[0;34m)\u001b[0m\u001b[0;34m\u001b[0m\u001b[0;34m\u001b[0m\u001b[0m\n\u001b[0m\u001b[1;32m     14\u001b[0m     \u001b[0mto_print\u001b[0m\u001b[0;34m(\u001b[0m\u001b[0mtopics_half\u001b[0m\u001b[0;34m,\u001b[0m \u001b[0;34m\"tipping\"\u001b[0m\u001b[0;34m,\u001b[0m \u001b[0mk\u001b[0m\u001b[0;34m,\u001b[0m \u001b[0;34m\"half\"\u001b[0m\u001b[0;34m)\u001b[0m\u001b[0;34m\u001b[0m\u001b[0;34m\u001b[0m\u001b[0m\n\u001b[1;32m     15\u001b[0m \u001b[0;34m\u001b[0m\u001b[0m\n",
      "\u001b[0;32m<ipython-input-5-60ae7201d3cc>\u001b[0m in \u001b[0;36moverlap_perform\u001b[0;34m(year, all_topics, k)\u001b[0m\n\u001b[1;32m      3\u001b[0m     \u001b[0moverlap\u001b[0m\u001b[0;34m.\u001b[0m\u001b[0moverlap_preprocessing\u001b[0m\u001b[0;34m(\u001b[0m\u001b[0;34m)\u001b[0m\u001b[0;34m\u001b[0m\u001b[0;34m\u001b[0m\u001b[0m\n\u001b[1;32m      4\u001b[0m     \u001b[0moverlap\u001b[0m\u001b[0;34m.\u001b[0m\u001b[0mclique_percolation_method\u001b[0m\u001b[0;34m(\u001b[0m\u001b[0;34m)\u001b[0m\u001b[0;34m\u001b[0m\u001b[0;34m\u001b[0m\u001b[0m\n\u001b[0;32m----> 5\u001b[0;31m     \u001b[0moverlap\u001b[0m\u001b[0;34m.\u001b[0m\u001b[0mcheck_spread_topics\u001b[0m\u001b[0;34m(\u001b[0m\u001b[0;34m)\u001b[0m\u001b[0;34m\u001b[0m\u001b[0;34m\u001b[0m\u001b[0m\n\u001b[0m\u001b[1;32m      6\u001b[0m     \u001b[0moverlap\u001b[0m\u001b[0;34m.\u001b[0m\u001b[0mcheck_number_topics\u001b[0m\u001b[0;34m(\u001b[0m\u001b[0;34m)\u001b[0m\u001b[0;34m\u001b[0m\u001b[0;34m\u001b[0m\u001b[0m\n\u001b[1;32m      7\u001b[0m     \u001b[0;32mreturn\u001b[0m \u001b[0moverlap\u001b[0m\u001b[0;34m.\u001b[0m\u001b[0mget_topics\u001b[0m\u001b[0;34m(\u001b[0m\u001b[0;34m)\u001b[0m\u001b[0;34m\u001b[0m\u001b[0;34m\u001b[0m\u001b[0m\n",
      "\u001b[0;32m~/Universita/magistrale/web_and_social_information_extraction/webandsocial-progetto/src/overlaps_topics/overlap_topics.py\u001b[0m in \u001b[0;36mcheck_spread_topics\u001b[0;34m(self)\u001b[0m\n\u001b[1;32m    156\u001b[0m \u001b[0;34m\u001b[0m\u001b[0m\n\u001b[1;32m    157\u001b[0m         \u001b[0;32mif\u001b[0m \u001b[0msize_iteration\u001b[0m \u001b[0;34m!=\u001b[0m \u001b[0msize_topics\u001b[0m\u001b[0;34m:\u001b[0m\u001b[0;34m\u001b[0m\u001b[0;34m\u001b[0m\u001b[0m\n\u001b[0;32m--> 158\u001b[0;31m             \u001b[0;32mraise\u001b[0m \u001b[0mexcpt\u001b[0m\u001b[0;34m.\u001b[0m\u001b[0mTopicNotAllKeywordsUsedException\u001b[0m\u001b[0;34m(\u001b[0m\u001b[0;34m\"To perfom all topics not all keywords have been used.\"\u001b[0m\u001b[0;34m)\u001b[0m\u001b[0;34m\u001b[0m\u001b[0;34m\u001b[0m\u001b[0m\n\u001b[0m\u001b[1;32m    159\u001b[0m \u001b[0;34m\u001b[0m\u001b[0m\n\u001b[1;32m    160\u001b[0m \u001b[0;34m\u001b[0m\u001b[0m\n",
      "\u001b[0;31mTopicNotAllKeywordsUsedException\u001b[0m: To perfom all topics not all keywords have been used."
     ]
    }
   ],
   "source": [
    "overlap_merge_view_half(2009, k = 5)"
   ]
  },
  {
   "cell_type": "code",
   "execution_count": 37,
   "metadata": {},
   "outputs": [
    {
     "ename": "TopicMalFormedException",
     "evalue": "Topic bad formed.",
     "output_type": "error",
     "traceback": [
      "\u001b[0;31m---------------------------------------------------------------------------\u001b[0m",
      "\u001b[0;31mTopicMalFormedException\u001b[0m                   Traceback (most recent call last)",
      "\u001b[0;32m<ipython-input-37-4bc2d3e509e4>\u001b[0m in \u001b[0;36m<module>\u001b[0;34m\u001b[0m\n\u001b[0;32m----> 1\u001b[0;31m \u001b[0moverlap_merge_view_deg_neg\u001b[0m\u001b[0;34m(\u001b[0m\u001b[0;36m2009\u001b[0m\u001b[0;34m,\u001b[0m \u001b[0mk\u001b[0m \u001b[0;34m=\u001b[0m \u001b[0;36m5\u001b[0m\u001b[0;34m)\u001b[0m\u001b[0;34m\u001b[0m\u001b[0;34m\u001b[0m\u001b[0m\n\u001b[0m",
      "\u001b[0;32m<ipython-input-6-aa88f64ba5fa>\u001b[0m in \u001b[0;36moverlap_merge_view_deg_neg\u001b[0;34m(year, k)\u001b[0m\n\u001b[1;32m     19\u001b[0m     \u001b[0mspread_dict\u001b[0m\u001b[0;34m[\u001b[0m\u001b[0mstr\u001b[0m\u001b[0;34m(\u001b[0m\u001b[0myear\u001b[0m\u001b[0;34m)\u001b[0m\u001b[0;34m]\u001b[0m\u001b[0;34m.\u001b[0m\u001b[0mtipping_model\u001b[0m\u001b[0;34m(\u001b[0m\u001b[0;34m)\u001b[0m\u001b[0;34m\u001b[0m\u001b[0;34m\u001b[0m\u001b[0m\n\u001b[1;32m     20\u001b[0m     \u001b[0mtipping_deg_neg\u001b[0m \u001b[0;34m=\u001b[0m \u001b[0mspread_dict\u001b[0m\u001b[0;34m[\u001b[0m\u001b[0mstr\u001b[0m\u001b[0;34m(\u001b[0m\u001b[0myear\u001b[0m\u001b[0;34m)\u001b[0m\u001b[0;34m]\u001b[0m\u001b[0;34m.\u001b[0m\u001b[0mget_influenced_nodes\u001b[0m\u001b[0;34m(\u001b[0m\u001b[0;34m)\u001b[0m\u001b[0;34m\u001b[0m\u001b[0;34m\u001b[0m\u001b[0m\n\u001b[0;32m---> 21\u001b[0;31m     \u001b[0mtopics_deg_neg\u001b[0m \u001b[0;34m=\u001b[0m \u001b[0moverlap_perform\u001b[0m\u001b[0;34m(\u001b[0m\u001b[0myear\u001b[0m\u001b[0;34m,\u001b[0m \u001b[0mtipping_deg_neg\u001b[0m\u001b[0;34m,\u001b[0m \u001b[0mk\u001b[0m\u001b[0;34m)\u001b[0m\u001b[0;34m\u001b[0m\u001b[0;34m\u001b[0m\u001b[0m\n\u001b[0m\u001b[1;32m     22\u001b[0m     \u001b[0mto_print\u001b[0m\u001b[0;34m(\u001b[0m\u001b[0mtopics_deg_neg\u001b[0m\u001b[0;34m,\u001b[0m \u001b[0;34m\"tipping\"\u001b[0m\u001b[0;34m,\u001b[0m \u001b[0mk\u001b[0m\u001b[0;34m,\u001b[0m \u001b[0;34m\"deg negative\"\u001b[0m\u001b[0;34m)\u001b[0m\u001b[0;34m\u001b[0m\u001b[0;34m\u001b[0m\u001b[0m\n",
      "\u001b[0;32m<ipython-input-5-60ae7201d3cc>\u001b[0m in \u001b[0;36moverlap_perform\u001b[0;34m(year, all_topics, k)\u001b[0m\n\u001b[1;32m      2\u001b[0m     \u001b[0moverlap\u001b[0m \u001b[0;34m=\u001b[0m \u001b[0mov\u001b[0m\u001b[0;34m.\u001b[0m\u001b[0mOverlapTopics\u001b[0m\u001b[0;34m(\u001b[0m\u001b[0mgraph_timeline_dict\u001b[0m\u001b[0;34m[\u001b[0m\u001b[0mstr\u001b[0m\u001b[0;34m(\u001b[0m\u001b[0myear\u001b[0m\u001b[0;34m)\u001b[0m\u001b[0;34m]\u001b[0m\u001b[0;34m,\u001b[0m \u001b[0mall_topics\u001b[0m\u001b[0;34m,\u001b[0m \u001b[0mk\u001b[0m\u001b[0;34m)\u001b[0m\u001b[0;34m\u001b[0m\u001b[0;34m\u001b[0m\u001b[0m\n\u001b[1;32m      3\u001b[0m     \u001b[0moverlap\u001b[0m\u001b[0;34m.\u001b[0m\u001b[0moverlap_preprocessing\u001b[0m\u001b[0;34m(\u001b[0m\u001b[0;34m)\u001b[0m\u001b[0;34m\u001b[0m\u001b[0;34m\u001b[0m\u001b[0m\n\u001b[0;32m----> 4\u001b[0;31m     \u001b[0moverlap\u001b[0m\u001b[0;34m.\u001b[0m\u001b[0mclique_percolation_method\u001b[0m\u001b[0;34m(\u001b[0m\u001b[0;34m)\u001b[0m\u001b[0;34m\u001b[0m\u001b[0;34m\u001b[0m\u001b[0m\n\u001b[0m\u001b[1;32m      5\u001b[0m     \u001b[0moverlap\u001b[0m\u001b[0;34m.\u001b[0m\u001b[0mcheck_spread_topics\u001b[0m\u001b[0;34m(\u001b[0m\u001b[0;34m)\u001b[0m\u001b[0;34m\u001b[0m\u001b[0;34m\u001b[0m\u001b[0m\n\u001b[1;32m      6\u001b[0m     \u001b[0moverlap\u001b[0m\u001b[0;34m.\u001b[0m\u001b[0mcheck_number_topics\u001b[0m\u001b[0;34m(\u001b[0m\u001b[0;34m)\u001b[0m\u001b[0;34m\u001b[0m\u001b[0;34m\u001b[0m\u001b[0m\n",
      "\u001b[0;32m~/Universita/magistrale/web_and_social_information_extraction/webandsocial-progetto/src/overlaps_topics/overlap_topics.py\u001b[0m in \u001b[0;36mclique_percolation_method\u001b[0;34m(self)\u001b[0m\n\u001b[1;32m    132\u001b[0m         \u001b[0mcommunities\u001b[0m \u001b[0;34m=\u001b[0m \u001b[0mk_clique_communities\u001b[0m\u001b[0;34m(\u001b[0m\u001b[0mG\u001b[0m \u001b[0;34m=\u001b[0m \u001b[0mself\u001b[0m\u001b[0;34m.\u001b[0m\u001b[0m__year_sub_graph\u001b[0m\u001b[0;34m,\u001b[0m \u001b[0mk\u001b[0m \u001b[0;34m=\u001b[0m \u001b[0;36m2\u001b[0m\u001b[0;34m)\u001b[0m\u001b[0;34m\u001b[0m\u001b[0;34m\u001b[0m\u001b[0m\n\u001b[1;32m    133\u001b[0m         \u001b[0;32mfor\u001b[0m \u001b[0mtopic\u001b[0m \u001b[0;32min\u001b[0m \u001b[0mcommunities\u001b[0m\u001b[0;34m:\u001b[0m\u001b[0;34m\u001b[0m\u001b[0;34m\u001b[0m\u001b[0m\n\u001b[0;32m--> 134\u001b[0;31m             \u001b[0mself\u001b[0m\u001b[0;34m.\u001b[0m\u001b[0mcheck_keywords\u001b[0m\u001b[0;34m(\u001b[0m\u001b[0mtopic\u001b[0m\u001b[0;34m)\u001b[0m\u001b[0;34m\u001b[0m\u001b[0;34m\u001b[0m\u001b[0m\n\u001b[0m\u001b[1;32m    135\u001b[0m             \u001b[0mself\u001b[0m\u001b[0;34m.\u001b[0m\u001b[0m__topics\u001b[0m\u001b[0;34m.\u001b[0m\u001b[0mappend\u001b[0m\u001b[0;34m(\u001b[0m\u001b[0mlist\u001b[0m\u001b[0;34m(\u001b[0m\u001b[0mtopic\u001b[0m\u001b[0;34m)\u001b[0m\u001b[0;34m)\u001b[0m\u001b[0;34m\u001b[0m\u001b[0;34m\u001b[0m\u001b[0m\n\u001b[1;32m    136\u001b[0m \u001b[0;34m\u001b[0m\u001b[0m\n",
      "\u001b[0;32m~/Universita/magistrale/web_and_social_information_extraction/webandsocial-progetto/src/overlaps_topics/overlap_topics.py\u001b[0m in \u001b[0;36mcheck_keywords\u001b[0;34m(self, topic)\u001b[0m\n\u001b[1;32m    119\u001b[0m \u001b[0;34m\u001b[0m\u001b[0m\n\u001b[1;32m    120\u001b[0m         \u001b[0;32mif\u001b[0m \u001b[0;32mnot\u001b[0m \u001b[0mregular\u001b[0m\u001b[0;34m:\u001b[0m\u001b[0;34m\u001b[0m\u001b[0;34m\u001b[0m\u001b[0m\n\u001b[0;32m--> 121\u001b[0;31m             \u001b[0;32mraise\u001b[0m \u001b[0mexcpt\u001b[0m\u001b[0;34m.\u001b[0m\u001b[0mTopicMalFormedException\u001b[0m\u001b[0;34m(\u001b[0m\u001b[0;34m\"Topic bad formed.\"\u001b[0m\u001b[0;34m)\u001b[0m\u001b[0;34m\u001b[0m\u001b[0;34m\u001b[0m\u001b[0m\n\u001b[0m\u001b[1;32m    122\u001b[0m \u001b[0;34m\u001b[0m\u001b[0m\n\u001b[1;32m    123\u001b[0m \u001b[0;34m\u001b[0m\u001b[0m\n",
      "\u001b[0;31mTopicMalFormedException\u001b[0m: Topic bad formed."
     ]
    }
   ],
   "source": [
    "overlap_merge_view_deg_neg(2009, k = 5)"
   ]
  },
  {
   "cell_type": "markdown",
   "metadata": {},
   "source": [
    "### Year 2010"
   ]
  },
  {
   "cell_type": "code",
   "execution_count": 38,
   "metadata": {},
   "outputs": [
    {
     "name": "stdout",
     "output_type": "stream",
     "text": [
      "OVERLAP MERGING RESULT WITH CLIQUE PERCOLATION METHOD, TIPPING MODEL, SEED TOP 5 NODES AND DEG THRESHOLD CALCULATION STRATEGY.\n",
      "\n",
      "['neural networks', 'lyapunov fractal', 'complex network', 'genetic regulatory networks', 'gene regulatory network', 'multistability', 'systems biology', 'artificial neural network', 'global exponential stability', 'lyapunov functional', 'linear matrix inequality', 'lyapunov–krasovskii functional', 'social inequality', 'analysis technique', 'global asymptotic stability', 'time complexity', 'neutral type']\n",
      "len_topic: 17\n",
      "\n",
      "['algorithm', 'data mining', 'iterative method', 'stationary process', 'numerous', 'real-time transcription', 'scheduling (computing)', 'height above ground level', 'particle swarm optimization', 'numerical analysis', 'decision tree', 'rate of convergence', 'centralized computing', 'real-time clock', 'self-organization', 'simulation', 'reinforcement learning', 'multi-agent system', 'cognition', 'network congestion', 'context awareness', 'cognitive radio', 'game theory', \"whole earth 'lectronic link\", 'overhead (computing)', 'coexist (image)', 'mathematical optimization', 'action selection', 'programming paradigm', 'interaction', 'spectrum analyzer', 'interference (communication)', 'machine learning', 'operating environment', 'channel capacity', 'q-learning']\n",
      "len_topic: 36\n",
      "\n"
     ]
    }
   ],
   "source": [
    "overlap_merge_view_deg(2010, k = 5)"
   ]
  },
  {
   "cell_type": "code",
   "execution_count": 39,
   "metadata": {},
   "outputs": [
    {
     "name": "stdout",
     "output_type": "stream",
     "text": [
      "OVERLAP MERGING RESULT WITH CLIQUE PERCOLATION METHOD, TIPPING MODEL, SEED TOP 5 NODES AND HALF THRESHOLD CALCULATION STRATEGY.\n",
      "\n",
      "['neural networks', 'complex network', 'genetic regulatory networks', 'multistability', 'artificial neural network', 'global exponential stability', 'lyapunov functional', 'linear matrix inequality', 'lyapunov–krasovskii functional', 'social inequality', 'analysis technique', 'global asymptotic stability', 'time complexity', 'neutral type']\n",
      "len_topic: 14\n",
      "\n",
      "['cognitive radio', 'decision tree', 'game theory', 'numerous', 'algorithm', 'numerical analysis', 'centralized computing', 'mathematical optimization', 'data mining', 'cognition', 'spectrum analyzer', 'interference (communication)', 'height above ground level', 'machine learning', 'reinforcement learning', 'particle swarm optimization', 'channel capacity']\n",
      "len_topic: 17\n",
      "\n"
     ]
    }
   ],
   "source": [
    "overlap_merge_view_half(2010, k = 5)"
   ]
  },
  {
   "cell_type": "code",
   "execution_count": 40,
   "metadata": {},
   "outputs": [
    {
     "ename": "TopicMalFormedException",
     "evalue": "Topic bad formed.",
     "output_type": "error",
     "traceback": [
      "\u001b[0;31m---------------------------------------------------------------------------\u001b[0m",
      "\u001b[0;31mTopicMalFormedException\u001b[0m                   Traceback (most recent call last)",
      "\u001b[0;32m<ipython-input-40-8e32f062a5d9>\u001b[0m in \u001b[0;36m<module>\u001b[0;34m\u001b[0m\n\u001b[0;32m----> 1\u001b[0;31m \u001b[0moverlap_merge_view_deg_neg\u001b[0m\u001b[0;34m(\u001b[0m\u001b[0;36m2010\u001b[0m\u001b[0;34m,\u001b[0m \u001b[0mk\u001b[0m \u001b[0;34m=\u001b[0m \u001b[0;36m5\u001b[0m\u001b[0;34m)\u001b[0m\u001b[0;34m\u001b[0m\u001b[0;34m\u001b[0m\u001b[0m\n\u001b[0m",
      "\u001b[0;32m<ipython-input-6-aa88f64ba5fa>\u001b[0m in \u001b[0;36moverlap_merge_view_deg_neg\u001b[0;34m(year, k)\u001b[0m\n\u001b[1;32m     19\u001b[0m     \u001b[0mspread_dict\u001b[0m\u001b[0;34m[\u001b[0m\u001b[0mstr\u001b[0m\u001b[0;34m(\u001b[0m\u001b[0myear\u001b[0m\u001b[0;34m)\u001b[0m\u001b[0;34m]\u001b[0m\u001b[0;34m.\u001b[0m\u001b[0mtipping_model\u001b[0m\u001b[0;34m(\u001b[0m\u001b[0;34m)\u001b[0m\u001b[0;34m\u001b[0m\u001b[0;34m\u001b[0m\u001b[0m\n\u001b[1;32m     20\u001b[0m     \u001b[0mtipping_deg_neg\u001b[0m \u001b[0;34m=\u001b[0m \u001b[0mspread_dict\u001b[0m\u001b[0;34m[\u001b[0m\u001b[0mstr\u001b[0m\u001b[0;34m(\u001b[0m\u001b[0myear\u001b[0m\u001b[0;34m)\u001b[0m\u001b[0;34m]\u001b[0m\u001b[0;34m.\u001b[0m\u001b[0mget_influenced_nodes\u001b[0m\u001b[0;34m(\u001b[0m\u001b[0;34m)\u001b[0m\u001b[0;34m\u001b[0m\u001b[0;34m\u001b[0m\u001b[0m\n\u001b[0;32m---> 21\u001b[0;31m     \u001b[0mtopics_deg_neg\u001b[0m \u001b[0;34m=\u001b[0m \u001b[0moverlap_perform\u001b[0m\u001b[0;34m(\u001b[0m\u001b[0myear\u001b[0m\u001b[0;34m,\u001b[0m \u001b[0mtipping_deg_neg\u001b[0m\u001b[0;34m,\u001b[0m \u001b[0mk\u001b[0m\u001b[0;34m)\u001b[0m\u001b[0;34m\u001b[0m\u001b[0;34m\u001b[0m\u001b[0m\n\u001b[0m\u001b[1;32m     22\u001b[0m     \u001b[0mto_print\u001b[0m\u001b[0;34m(\u001b[0m\u001b[0mtopics_deg_neg\u001b[0m\u001b[0;34m,\u001b[0m \u001b[0;34m\"tipping\"\u001b[0m\u001b[0;34m,\u001b[0m \u001b[0mk\u001b[0m\u001b[0;34m,\u001b[0m \u001b[0;34m\"deg negative\"\u001b[0m\u001b[0;34m)\u001b[0m\u001b[0;34m\u001b[0m\u001b[0;34m\u001b[0m\u001b[0m\n",
      "\u001b[0;32m<ipython-input-5-60ae7201d3cc>\u001b[0m in \u001b[0;36moverlap_perform\u001b[0;34m(year, all_topics, k)\u001b[0m\n\u001b[1;32m      2\u001b[0m     \u001b[0moverlap\u001b[0m \u001b[0;34m=\u001b[0m \u001b[0mov\u001b[0m\u001b[0;34m.\u001b[0m\u001b[0mOverlapTopics\u001b[0m\u001b[0;34m(\u001b[0m\u001b[0mgraph_timeline_dict\u001b[0m\u001b[0;34m[\u001b[0m\u001b[0mstr\u001b[0m\u001b[0;34m(\u001b[0m\u001b[0myear\u001b[0m\u001b[0;34m)\u001b[0m\u001b[0;34m]\u001b[0m\u001b[0;34m,\u001b[0m \u001b[0mall_topics\u001b[0m\u001b[0;34m,\u001b[0m \u001b[0mk\u001b[0m\u001b[0;34m)\u001b[0m\u001b[0;34m\u001b[0m\u001b[0;34m\u001b[0m\u001b[0m\n\u001b[1;32m      3\u001b[0m     \u001b[0moverlap\u001b[0m\u001b[0;34m.\u001b[0m\u001b[0moverlap_preprocessing\u001b[0m\u001b[0;34m(\u001b[0m\u001b[0;34m)\u001b[0m\u001b[0;34m\u001b[0m\u001b[0;34m\u001b[0m\u001b[0m\n\u001b[0;32m----> 4\u001b[0;31m     \u001b[0moverlap\u001b[0m\u001b[0;34m.\u001b[0m\u001b[0mclique_percolation_method\u001b[0m\u001b[0;34m(\u001b[0m\u001b[0;34m)\u001b[0m\u001b[0;34m\u001b[0m\u001b[0;34m\u001b[0m\u001b[0m\n\u001b[0m\u001b[1;32m      5\u001b[0m     \u001b[0moverlap\u001b[0m\u001b[0;34m.\u001b[0m\u001b[0mcheck_spread_topics\u001b[0m\u001b[0;34m(\u001b[0m\u001b[0;34m)\u001b[0m\u001b[0;34m\u001b[0m\u001b[0;34m\u001b[0m\u001b[0m\n\u001b[1;32m      6\u001b[0m     \u001b[0moverlap\u001b[0m\u001b[0;34m.\u001b[0m\u001b[0mcheck_number_topics\u001b[0m\u001b[0;34m(\u001b[0m\u001b[0;34m)\u001b[0m\u001b[0;34m\u001b[0m\u001b[0;34m\u001b[0m\u001b[0m\n",
      "\u001b[0;32m~/Universita/magistrale/web_and_social_information_extraction/webandsocial-progetto/src/overlaps_topics/overlap_topics.py\u001b[0m in \u001b[0;36mclique_percolation_method\u001b[0;34m(self)\u001b[0m\n\u001b[1;32m    132\u001b[0m         \u001b[0mcommunities\u001b[0m \u001b[0;34m=\u001b[0m \u001b[0mk_clique_communities\u001b[0m\u001b[0;34m(\u001b[0m\u001b[0mG\u001b[0m \u001b[0;34m=\u001b[0m \u001b[0mself\u001b[0m\u001b[0;34m.\u001b[0m\u001b[0m__year_sub_graph\u001b[0m\u001b[0;34m,\u001b[0m \u001b[0mk\u001b[0m \u001b[0;34m=\u001b[0m \u001b[0;36m2\u001b[0m\u001b[0;34m)\u001b[0m\u001b[0;34m\u001b[0m\u001b[0;34m\u001b[0m\u001b[0m\n\u001b[1;32m    133\u001b[0m         \u001b[0;32mfor\u001b[0m \u001b[0mtopic\u001b[0m \u001b[0;32min\u001b[0m \u001b[0mcommunities\u001b[0m\u001b[0;34m:\u001b[0m\u001b[0;34m\u001b[0m\u001b[0;34m\u001b[0m\u001b[0m\n\u001b[0;32m--> 134\u001b[0;31m             \u001b[0mself\u001b[0m\u001b[0;34m.\u001b[0m\u001b[0mcheck_keywords\u001b[0m\u001b[0;34m(\u001b[0m\u001b[0mtopic\u001b[0m\u001b[0;34m)\u001b[0m\u001b[0;34m\u001b[0m\u001b[0;34m\u001b[0m\u001b[0m\n\u001b[0m\u001b[1;32m    135\u001b[0m             \u001b[0mself\u001b[0m\u001b[0;34m.\u001b[0m\u001b[0m__topics\u001b[0m\u001b[0;34m.\u001b[0m\u001b[0mappend\u001b[0m\u001b[0;34m(\u001b[0m\u001b[0mlist\u001b[0m\u001b[0;34m(\u001b[0m\u001b[0mtopic\u001b[0m\u001b[0;34m)\u001b[0m\u001b[0;34m)\u001b[0m\u001b[0;34m\u001b[0m\u001b[0;34m\u001b[0m\u001b[0m\n\u001b[1;32m    136\u001b[0m \u001b[0;34m\u001b[0m\u001b[0m\n",
      "\u001b[0;32m~/Universita/magistrale/web_and_social_information_extraction/webandsocial-progetto/src/overlaps_topics/overlap_topics.py\u001b[0m in \u001b[0;36mcheck_keywords\u001b[0;34m(self, topic)\u001b[0m\n\u001b[1;32m    119\u001b[0m \u001b[0;34m\u001b[0m\u001b[0m\n\u001b[1;32m    120\u001b[0m         \u001b[0;32mif\u001b[0m \u001b[0;32mnot\u001b[0m \u001b[0mregular\u001b[0m\u001b[0;34m:\u001b[0m\u001b[0;34m\u001b[0m\u001b[0;34m\u001b[0m\u001b[0m\n\u001b[0;32m--> 121\u001b[0;31m             \u001b[0;32mraise\u001b[0m \u001b[0mexcpt\u001b[0m\u001b[0;34m.\u001b[0m\u001b[0mTopicMalFormedException\u001b[0m\u001b[0;34m(\u001b[0m\u001b[0;34m\"Topic bad formed.\"\u001b[0m\u001b[0;34m)\u001b[0m\u001b[0;34m\u001b[0m\u001b[0;34m\u001b[0m\u001b[0m\n\u001b[0m\u001b[1;32m    122\u001b[0m \u001b[0;34m\u001b[0m\u001b[0m\n\u001b[1;32m    123\u001b[0m \u001b[0;34m\u001b[0m\u001b[0m\n",
      "\u001b[0;31mTopicMalFormedException\u001b[0m: Topic bad formed."
     ]
    }
   ],
   "source": [
    "overlap_merge_view_deg_neg(2010, k = 5)"
   ]
  },
  {
   "cell_type": "markdown",
   "metadata": {},
   "source": [
    "### Year 2011"
   ]
  },
  {
   "cell_type": "code",
   "execution_count": 41,
   "metadata": {},
   "outputs": [
    {
     "name": "stdout",
     "output_type": "stream",
     "text": [
      "OVERLAP MERGING RESULT WITH CLIQUE PERCOLATION METHOD, TIPPING MODEL, SEED TOP 5 NODES AND DEG THRESHOLD CALCULATION STRATEGY.\n",
      "\n",
      "['lyapunov fractal', 'ising model', 'impulses', 'algorithm', 'exponential', 'artificial neural network', 'quality of service', 'stochastic neural network', 'tree rearrangement', 'experiment', 'hopfield-type neural networks', 'checking (action)', 'convex function', 'spectral leakage', 'parameter adaptation', 'hopfield network', 's ability', 'particle swarm optimization', 'time complexity', 'plasmon', 'numerical analysis', 'resonance', 'autonomous robot', 'low-power broadcasting', 'neural network simulation', 'population diversity', 'evolutionary algorithm', 'differential evolution', 'broadcast delay', 'centralized computing', 'linear matrix inequality', 'simulation', 'software deployment', 'reinforcement learning', 'fairness measure', 'cognitive radio', 'approximation algorithm', 'mathematical optimization', 'multitier architecture', 'interaction', 'social inequality', 'distributed delays', 'nonlinear system', 'interference (communication)', 'telecommunications link', 'machine learning', 'synchronization (computer science)', 'signal-to-interference-plus-noise ratio', 'channel capacity']\n",
      "len_topic: 49\n",
      "\n"
     ]
    }
   ],
   "source": [
    "overlap_merge_view_deg(2011, k = 5)"
   ]
  },
  {
   "cell_type": "code",
   "execution_count": 42,
   "metadata": {},
   "outputs": [
    {
     "name": "stdout",
     "output_type": "stream",
     "text": [
      "OVERLAP MERGING RESULT WITH CLIQUE PERCOLATION METHOD, TIPPING MODEL, SEED TOP 5 NODES AND HALF THRESHOLD CALCULATION STRATEGY.\n",
      "\n",
      "['lyapunov fractal', 'neural network simulation', 'exponential', 'artificial neural network', 'stochastic neural network', 'broadcast delay', 'linear matrix inequality', 'social inequality', 'spectral leakage', 'hopfield network', 'synchronization (computer science)', 'time complexity', 'checking (action)', 'numerical analysis']\n",
      "len_topic: 14\n",
      "\n",
      "['cognitive radio', 'autonomous robot', 'algorithm', 'centralized computing', 'multitier architecture', 'quality of service', 'interaction', 'software deployment', 'interference (communication)', 'machine learning', 'reinforcement learning']\n",
      "len_topic: 11\n",
      "\n",
      "['s ability', 'particle swarm optimization', 'population diversity']\n",
      "len_topic: 3\n",
      "\n"
     ]
    }
   ],
   "source": [
    "overlap_merge_view_half(2011, k = 5)"
   ]
  },
  {
   "cell_type": "code",
   "execution_count": 43,
   "metadata": {},
   "outputs": [
    {
     "ename": "TopicMalFormedException",
     "evalue": "Topic bad formed.",
     "output_type": "error",
     "traceback": [
      "\u001b[0;31m---------------------------------------------------------------------------\u001b[0m",
      "\u001b[0;31mTopicMalFormedException\u001b[0m                   Traceback (most recent call last)",
      "\u001b[0;32m<ipython-input-43-5a249efa85f9>\u001b[0m in \u001b[0;36m<module>\u001b[0;34m\u001b[0m\n\u001b[0;32m----> 1\u001b[0;31m \u001b[0moverlap_merge_view_deg_neg\u001b[0m\u001b[0;34m(\u001b[0m\u001b[0;36m2011\u001b[0m\u001b[0;34m,\u001b[0m \u001b[0mk\u001b[0m \u001b[0;34m=\u001b[0m \u001b[0;36m5\u001b[0m\u001b[0;34m)\u001b[0m\u001b[0;34m\u001b[0m\u001b[0;34m\u001b[0m\u001b[0m\n\u001b[0m",
      "\u001b[0;32m<ipython-input-6-aa88f64ba5fa>\u001b[0m in \u001b[0;36moverlap_merge_view_deg_neg\u001b[0;34m(year, k)\u001b[0m\n\u001b[1;32m     19\u001b[0m     \u001b[0mspread_dict\u001b[0m\u001b[0;34m[\u001b[0m\u001b[0mstr\u001b[0m\u001b[0;34m(\u001b[0m\u001b[0myear\u001b[0m\u001b[0;34m)\u001b[0m\u001b[0;34m]\u001b[0m\u001b[0;34m.\u001b[0m\u001b[0mtipping_model\u001b[0m\u001b[0;34m(\u001b[0m\u001b[0;34m)\u001b[0m\u001b[0;34m\u001b[0m\u001b[0;34m\u001b[0m\u001b[0m\n\u001b[1;32m     20\u001b[0m     \u001b[0mtipping_deg_neg\u001b[0m \u001b[0;34m=\u001b[0m \u001b[0mspread_dict\u001b[0m\u001b[0;34m[\u001b[0m\u001b[0mstr\u001b[0m\u001b[0;34m(\u001b[0m\u001b[0myear\u001b[0m\u001b[0;34m)\u001b[0m\u001b[0;34m]\u001b[0m\u001b[0;34m.\u001b[0m\u001b[0mget_influenced_nodes\u001b[0m\u001b[0;34m(\u001b[0m\u001b[0;34m)\u001b[0m\u001b[0;34m\u001b[0m\u001b[0;34m\u001b[0m\u001b[0m\n\u001b[0;32m---> 21\u001b[0;31m     \u001b[0mtopics_deg_neg\u001b[0m \u001b[0;34m=\u001b[0m \u001b[0moverlap_perform\u001b[0m\u001b[0;34m(\u001b[0m\u001b[0myear\u001b[0m\u001b[0;34m,\u001b[0m \u001b[0mtipping_deg_neg\u001b[0m\u001b[0;34m,\u001b[0m \u001b[0mk\u001b[0m\u001b[0;34m)\u001b[0m\u001b[0;34m\u001b[0m\u001b[0;34m\u001b[0m\u001b[0m\n\u001b[0m\u001b[1;32m     22\u001b[0m     \u001b[0mto_print\u001b[0m\u001b[0;34m(\u001b[0m\u001b[0mtopics_deg_neg\u001b[0m\u001b[0;34m,\u001b[0m \u001b[0;34m\"tipping\"\u001b[0m\u001b[0;34m,\u001b[0m \u001b[0mk\u001b[0m\u001b[0;34m,\u001b[0m \u001b[0;34m\"deg negative\"\u001b[0m\u001b[0;34m)\u001b[0m\u001b[0;34m\u001b[0m\u001b[0;34m\u001b[0m\u001b[0m\n",
      "\u001b[0;32m<ipython-input-5-60ae7201d3cc>\u001b[0m in \u001b[0;36moverlap_perform\u001b[0;34m(year, all_topics, k)\u001b[0m\n\u001b[1;32m      2\u001b[0m     \u001b[0moverlap\u001b[0m \u001b[0;34m=\u001b[0m \u001b[0mov\u001b[0m\u001b[0;34m.\u001b[0m\u001b[0mOverlapTopics\u001b[0m\u001b[0;34m(\u001b[0m\u001b[0mgraph_timeline_dict\u001b[0m\u001b[0;34m[\u001b[0m\u001b[0mstr\u001b[0m\u001b[0;34m(\u001b[0m\u001b[0myear\u001b[0m\u001b[0;34m)\u001b[0m\u001b[0;34m]\u001b[0m\u001b[0;34m,\u001b[0m \u001b[0mall_topics\u001b[0m\u001b[0;34m,\u001b[0m \u001b[0mk\u001b[0m\u001b[0;34m)\u001b[0m\u001b[0;34m\u001b[0m\u001b[0;34m\u001b[0m\u001b[0m\n\u001b[1;32m      3\u001b[0m     \u001b[0moverlap\u001b[0m\u001b[0;34m.\u001b[0m\u001b[0moverlap_preprocessing\u001b[0m\u001b[0;34m(\u001b[0m\u001b[0;34m)\u001b[0m\u001b[0;34m\u001b[0m\u001b[0;34m\u001b[0m\u001b[0m\n\u001b[0;32m----> 4\u001b[0;31m     \u001b[0moverlap\u001b[0m\u001b[0;34m.\u001b[0m\u001b[0mclique_percolation_method\u001b[0m\u001b[0;34m(\u001b[0m\u001b[0;34m)\u001b[0m\u001b[0;34m\u001b[0m\u001b[0;34m\u001b[0m\u001b[0m\n\u001b[0m\u001b[1;32m      5\u001b[0m     \u001b[0moverlap\u001b[0m\u001b[0;34m.\u001b[0m\u001b[0mcheck_spread_topics\u001b[0m\u001b[0;34m(\u001b[0m\u001b[0;34m)\u001b[0m\u001b[0;34m\u001b[0m\u001b[0;34m\u001b[0m\u001b[0m\n\u001b[1;32m      6\u001b[0m     \u001b[0moverlap\u001b[0m\u001b[0;34m.\u001b[0m\u001b[0mcheck_number_topics\u001b[0m\u001b[0;34m(\u001b[0m\u001b[0;34m)\u001b[0m\u001b[0;34m\u001b[0m\u001b[0;34m\u001b[0m\u001b[0m\n",
      "\u001b[0;32m~/Universita/magistrale/web_and_social_information_extraction/webandsocial-progetto/src/overlaps_topics/overlap_topics.py\u001b[0m in \u001b[0;36mclique_percolation_method\u001b[0;34m(self)\u001b[0m\n\u001b[1;32m    132\u001b[0m         \u001b[0mcommunities\u001b[0m \u001b[0;34m=\u001b[0m \u001b[0mk_clique_communities\u001b[0m\u001b[0;34m(\u001b[0m\u001b[0mG\u001b[0m \u001b[0;34m=\u001b[0m \u001b[0mself\u001b[0m\u001b[0;34m.\u001b[0m\u001b[0m__year_sub_graph\u001b[0m\u001b[0;34m,\u001b[0m \u001b[0mk\u001b[0m \u001b[0;34m=\u001b[0m \u001b[0;36m2\u001b[0m\u001b[0;34m)\u001b[0m\u001b[0;34m\u001b[0m\u001b[0;34m\u001b[0m\u001b[0m\n\u001b[1;32m    133\u001b[0m         \u001b[0;32mfor\u001b[0m \u001b[0mtopic\u001b[0m \u001b[0;32min\u001b[0m \u001b[0mcommunities\u001b[0m\u001b[0;34m:\u001b[0m\u001b[0;34m\u001b[0m\u001b[0;34m\u001b[0m\u001b[0m\n\u001b[0;32m--> 134\u001b[0;31m             \u001b[0mself\u001b[0m\u001b[0;34m.\u001b[0m\u001b[0mcheck_keywords\u001b[0m\u001b[0;34m(\u001b[0m\u001b[0mtopic\u001b[0m\u001b[0;34m)\u001b[0m\u001b[0;34m\u001b[0m\u001b[0;34m\u001b[0m\u001b[0m\n\u001b[0m\u001b[1;32m    135\u001b[0m             \u001b[0mself\u001b[0m\u001b[0;34m.\u001b[0m\u001b[0m__topics\u001b[0m\u001b[0;34m.\u001b[0m\u001b[0mappend\u001b[0m\u001b[0;34m(\u001b[0m\u001b[0mlist\u001b[0m\u001b[0;34m(\u001b[0m\u001b[0mtopic\u001b[0m\u001b[0;34m)\u001b[0m\u001b[0;34m)\u001b[0m\u001b[0;34m\u001b[0m\u001b[0;34m\u001b[0m\u001b[0m\n\u001b[1;32m    136\u001b[0m \u001b[0;34m\u001b[0m\u001b[0m\n",
      "\u001b[0;32m~/Universita/magistrale/web_and_social_information_extraction/webandsocial-progetto/src/overlaps_topics/overlap_topics.py\u001b[0m in \u001b[0;36mcheck_keywords\u001b[0;34m(self, topic)\u001b[0m\n\u001b[1;32m    119\u001b[0m \u001b[0;34m\u001b[0m\u001b[0m\n\u001b[1;32m    120\u001b[0m         \u001b[0;32mif\u001b[0m \u001b[0;32mnot\u001b[0m \u001b[0mregular\u001b[0m\u001b[0;34m:\u001b[0m\u001b[0;34m\u001b[0m\u001b[0;34m\u001b[0m\u001b[0m\n\u001b[0;32m--> 121\u001b[0;31m             \u001b[0;32mraise\u001b[0m \u001b[0mexcpt\u001b[0m\u001b[0;34m.\u001b[0m\u001b[0mTopicMalFormedException\u001b[0m\u001b[0;34m(\u001b[0m\u001b[0;34m\"Topic bad formed.\"\u001b[0m\u001b[0;34m)\u001b[0m\u001b[0;34m\u001b[0m\u001b[0;34m\u001b[0m\u001b[0m\n\u001b[0m\u001b[1;32m    122\u001b[0m \u001b[0;34m\u001b[0m\u001b[0m\n\u001b[1;32m    123\u001b[0m \u001b[0;34m\u001b[0m\u001b[0m\n",
      "\u001b[0;31mTopicMalFormedException\u001b[0m: Topic bad formed."
     ]
    }
   ],
   "source": [
    "overlap_merge_view_deg_neg(2011, k = 5)"
   ]
  },
  {
   "cell_type": "markdown",
   "metadata": {},
   "source": [
    "### Year 2012"
   ]
  },
  {
   "cell_type": "code",
   "execution_count": 44,
   "metadata": {},
   "outputs": [
    {
     "name": "stdout",
     "output_type": "stream",
     "text": [
      "OVERLAP MERGING RESULT WITH CLIQUE PERCOLATION METHOD, TIPPING MODEL, SEED TOP 5 NODES AND DEG THRESHOLD CALCULATION STRATEGY.\n",
      "\n",
      "['cross-validation (statistics)', 'computation', 'algorithm', 'cyclostationary process', 'fuzzy logic', 'data mining', 'experiment', 'missing data', 'genetic algorithm', 'optimization problem', 'fuzzy control system', 'preprocessor', 'genetic operator', 'expectation–maximization algorithm', 'particle swarm optimization', 'deep learning', 'supervised learning', 'premature convergence', 'autonomous robot', 'frequency band', 'evolutionary algorithm', 'radio frequency', 'sparse matrix', 'inference engine', 'benchmark (computing)', 'simulation', 'software deployment', 'trees (plant)', 'reinforcement learning', 'cognition', 'class', 'knapsack problem', 'cognitive radio', 'transmitter', 'coexist (image)', 'gradient', 'mathematical optimization', 'receiver operating characteristic', 'combinatorial optimization', 'interference (communication)', 'telecommunications link', 'machine learning', 'signal-to-interference-plus-noise ratio', 'q-learning']\n",
      "len_topic: 44\n",
      "\n",
      "['test data', 'dropout (neural networks)', 'neural network simulation', 'sampling - surgical action', 'artificial neural network', 'sampling (signal processing)', 'linear matrix inequality', 'social inequality', 'recurrent neural network', 'synchronization (computer science)', 'overfitting', 'time complexity', 'numerical analysis']\n",
      "len_topic: 13\n",
      "\n"
     ]
    }
   ],
   "source": [
    "overlap_merge_view_deg(2012, k = 5)"
   ]
  },
  {
   "cell_type": "code",
   "execution_count": 45,
   "metadata": {},
   "outputs": [
    {
     "name": "stdout",
     "output_type": "stream",
     "text": [
      "OVERLAP MERGING RESULT WITH CLIQUE PERCOLATION METHOD, TIPPING MODEL, SEED TOP 5 NODES AND HALF THRESHOLD CALCULATION STRATEGY.\n",
      "\n",
      "['artificial neural network', 'time complexity', 'recurrent neural network']\n",
      "len_topic: 3\n",
      "\n",
      "['optimization problem', 'evolutionary algorithm', 'particle swarm optimization', 'algorithm', 'gradient', 'mathematical optimization', 'benchmark (computing)', 'trees (plant)', 'interference (communication)', 'expectation–maximization algorithm', 'experiment', 'deep learning', 'class']\n",
      "len_topic: 13\n",
      "\n"
     ]
    }
   ],
   "source": [
    "overlap_merge_view_half(2012, k = 5)"
   ]
  },
  {
   "cell_type": "code",
   "execution_count": 46,
   "metadata": {},
   "outputs": [
    {
     "ename": "TopicMalFormedException",
     "evalue": "Topic bad formed.",
     "output_type": "error",
     "traceback": [
      "\u001b[0;31m---------------------------------------------------------------------------\u001b[0m",
      "\u001b[0;31mTopicMalFormedException\u001b[0m                   Traceback (most recent call last)",
      "\u001b[0;32m<ipython-input-46-019d2dc4915d>\u001b[0m in \u001b[0;36m<module>\u001b[0;34m\u001b[0m\n\u001b[0;32m----> 1\u001b[0;31m \u001b[0moverlap_merge_view_deg_neg\u001b[0m\u001b[0;34m(\u001b[0m\u001b[0;36m2012\u001b[0m\u001b[0;34m,\u001b[0m \u001b[0mk\u001b[0m \u001b[0;34m=\u001b[0m \u001b[0;36m5\u001b[0m\u001b[0;34m)\u001b[0m\u001b[0;34m\u001b[0m\u001b[0;34m\u001b[0m\u001b[0m\n\u001b[0m",
      "\u001b[0;32m<ipython-input-6-aa88f64ba5fa>\u001b[0m in \u001b[0;36moverlap_merge_view_deg_neg\u001b[0;34m(year, k)\u001b[0m\n\u001b[1;32m     19\u001b[0m     \u001b[0mspread_dict\u001b[0m\u001b[0;34m[\u001b[0m\u001b[0mstr\u001b[0m\u001b[0;34m(\u001b[0m\u001b[0myear\u001b[0m\u001b[0;34m)\u001b[0m\u001b[0;34m]\u001b[0m\u001b[0;34m.\u001b[0m\u001b[0mtipping_model\u001b[0m\u001b[0;34m(\u001b[0m\u001b[0;34m)\u001b[0m\u001b[0;34m\u001b[0m\u001b[0;34m\u001b[0m\u001b[0m\n\u001b[1;32m     20\u001b[0m     \u001b[0mtipping_deg_neg\u001b[0m \u001b[0;34m=\u001b[0m \u001b[0mspread_dict\u001b[0m\u001b[0;34m[\u001b[0m\u001b[0mstr\u001b[0m\u001b[0;34m(\u001b[0m\u001b[0myear\u001b[0m\u001b[0;34m)\u001b[0m\u001b[0;34m]\u001b[0m\u001b[0;34m.\u001b[0m\u001b[0mget_influenced_nodes\u001b[0m\u001b[0;34m(\u001b[0m\u001b[0;34m)\u001b[0m\u001b[0;34m\u001b[0m\u001b[0;34m\u001b[0m\u001b[0m\n\u001b[0;32m---> 21\u001b[0;31m     \u001b[0mtopics_deg_neg\u001b[0m \u001b[0;34m=\u001b[0m \u001b[0moverlap_perform\u001b[0m\u001b[0;34m(\u001b[0m\u001b[0myear\u001b[0m\u001b[0;34m,\u001b[0m \u001b[0mtipping_deg_neg\u001b[0m\u001b[0;34m,\u001b[0m \u001b[0mk\u001b[0m\u001b[0;34m)\u001b[0m\u001b[0;34m\u001b[0m\u001b[0;34m\u001b[0m\u001b[0m\n\u001b[0m\u001b[1;32m     22\u001b[0m     \u001b[0mto_print\u001b[0m\u001b[0;34m(\u001b[0m\u001b[0mtopics_deg_neg\u001b[0m\u001b[0;34m,\u001b[0m \u001b[0;34m\"tipping\"\u001b[0m\u001b[0;34m,\u001b[0m \u001b[0mk\u001b[0m\u001b[0;34m,\u001b[0m \u001b[0;34m\"deg negative\"\u001b[0m\u001b[0;34m)\u001b[0m\u001b[0;34m\u001b[0m\u001b[0;34m\u001b[0m\u001b[0m\n",
      "\u001b[0;32m<ipython-input-5-60ae7201d3cc>\u001b[0m in \u001b[0;36moverlap_perform\u001b[0;34m(year, all_topics, k)\u001b[0m\n\u001b[1;32m      2\u001b[0m     \u001b[0moverlap\u001b[0m \u001b[0;34m=\u001b[0m \u001b[0mov\u001b[0m\u001b[0;34m.\u001b[0m\u001b[0mOverlapTopics\u001b[0m\u001b[0;34m(\u001b[0m\u001b[0mgraph_timeline_dict\u001b[0m\u001b[0;34m[\u001b[0m\u001b[0mstr\u001b[0m\u001b[0;34m(\u001b[0m\u001b[0myear\u001b[0m\u001b[0;34m)\u001b[0m\u001b[0;34m]\u001b[0m\u001b[0;34m,\u001b[0m \u001b[0mall_topics\u001b[0m\u001b[0;34m,\u001b[0m \u001b[0mk\u001b[0m\u001b[0;34m)\u001b[0m\u001b[0;34m\u001b[0m\u001b[0;34m\u001b[0m\u001b[0m\n\u001b[1;32m      3\u001b[0m     \u001b[0moverlap\u001b[0m\u001b[0;34m.\u001b[0m\u001b[0moverlap_preprocessing\u001b[0m\u001b[0;34m(\u001b[0m\u001b[0;34m)\u001b[0m\u001b[0;34m\u001b[0m\u001b[0;34m\u001b[0m\u001b[0m\n\u001b[0;32m----> 4\u001b[0;31m     \u001b[0moverlap\u001b[0m\u001b[0;34m.\u001b[0m\u001b[0mclique_percolation_method\u001b[0m\u001b[0;34m(\u001b[0m\u001b[0;34m)\u001b[0m\u001b[0;34m\u001b[0m\u001b[0;34m\u001b[0m\u001b[0m\n\u001b[0m\u001b[1;32m      5\u001b[0m     \u001b[0moverlap\u001b[0m\u001b[0;34m.\u001b[0m\u001b[0mcheck_spread_topics\u001b[0m\u001b[0;34m(\u001b[0m\u001b[0;34m)\u001b[0m\u001b[0;34m\u001b[0m\u001b[0;34m\u001b[0m\u001b[0m\n\u001b[1;32m      6\u001b[0m     \u001b[0moverlap\u001b[0m\u001b[0;34m.\u001b[0m\u001b[0mcheck_number_topics\u001b[0m\u001b[0;34m(\u001b[0m\u001b[0;34m)\u001b[0m\u001b[0;34m\u001b[0m\u001b[0;34m\u001b[0m\u001b[0m\n",
      "\u001b[0;32m~/Universita/magistrale/web_and_social_information_extraction/webandsocial-progetto/src/overlaps_topics/overlap_topics.py\u001b[0m in \u001b[0;36mclique_percolation_method\u001b[0;34m(self)\u001b[0m\n\u001b[1;32m    132\u001b[0m         \u001b[0mcommunities\u001b[0m \u001b[0;34m=\u001b[0m \u001b[0mk_clique_communities\u001b[0m\u001b[0;34m(\u001b[0m\u001b[0mG\u001b[0m \u001b[0;34m=\u001b[0m \u001b[0mself\u001b[0m\u001b[0;34m.\u001b[0m\u001b[0m__year_sub_graph\u001b[0m\u001b[0;34m,\u001b[0m \u001b[0mk\u001b[0m \u001b[0;34m=\u001b[0m \u001b[0;36m2\u001b[0m\u001b[0;34m)\u001b[0m\u001b[0;34m\u001b[0m\u001b[0;34m\u001b[0m\u001b[0m\n\u001b[1;32m    133\u001b[0m         \u001b[0;32mfor\u001b[0m \u001b[0mtopic\u001b[0m \u001b[0;32min\u001b[0m \u001b[0mcommunities\u001b[0m\u001b[0;34m:\u001b[0m\u001b[0;34m\u001b[0m\u001b[0;34m\u001b[0m\u001b[0m\n\u001b[0;32m--> 134\u001b[0;31m             \u001b[0mself\u001b[0m\u001b[0;34m.\u001b[0m\u001b[0mcheck_keywords\u001b[0m\u001b[0;34m(\u001b[0m\u001b[0mtopic\u001b[0m\u001b[0;34m)\u001b[0m\u001b[0;34m\u001b[0m\u001b[0;34m\u001b[0m\u001b[0m\n\u001b[0m\u001b[1;32m    135\u001b[0m             \u001b[0mself\u001b[0m\u001b[0;34m.\u001b[0m\u001b[0m__topics\u001b[0m\u001b[0;34m.\u001b[0m\u001b[0mappend\u001b[0m\u001b[0;34m(\u001b[0m\u001b[0mlist\u001b[0m\u001b[0;34m(\u001b[0m\u001b[0mtopic\u001b[0m\u001b[0;34m)\u001b[0m\u001b[0;34m)\u001b[0m\u001b[0;34m\u001b[0m\u001b[0;34m\u001b[0m\u001b[0m\n\u001b[1;32m    136\u001b[0m \u001b[0;34m\u001b[0m\u001b[0m\n",
      "\u001b[0;32m~/Universita/magistrale/web_and_social_information_extraction/webandsocial-progetto/src/overlaps_topics/overlap_topics.py\u001b[0m in \u001b[0;36mcheck_keywords\u001b[0;34m(self, topic)\u001b[0m\n\u001b[1;32m    119\u001b[0m \u001b[0;34m\u001b[0m\u001b[0m\n\u001b[1;32m    120\u001b[0m         \u001b[0;32mif\u001b[0m \u001b[0;32mnot\u001b[0m \u001b[0mregular\u001b[0m\u001b[0;34m:\u001b[0m\u001b[0;34m\u001b[0m\u001b[0;34m\u001b[0m\u001b[0m\n\u001b[0;32m--> 121\u001b[0;31m             \u001b[0;32mraise\u001b[0m \u001b[0mexcpt\u001b[0m\u001b[0;34m.\u001b[0m\u001b[0mTopicMalFormedException\u001b[0m\u001b[0;34m(\u001b[0m\u001b[0;34m\"Topic bad formed.\"\u001b[0m\u001b[0;34m)\u001b[0m\u001b[0;34m\u001b[0m\u001b[0;34m\u001b[0m\u001b[0m\n\u001b[0m\u001b[1;32m    122\u001b[0m \u001b[0;34m\u001b[0m\u001b[0m\n\u001b[1;32m    123\u001b[0m \u001b[0;34m\u001b[0m\u001b[0m\n",
      "\u001b[0;31mTopicMalFormedException\u001b[0m: Topic bad formed."
     ]
    }
   ],
   "source": [
    "overlap_merge_view_deg_neg(2012, k = 5)"
   ]
  },
  {
   "cell_type": "markdown",
   "metadata": {},
   "source": [
    "### Year 2013"
   ]
  },
  {
   "cell_type": "code",
   "execution_count": 47,
   "metadata": {},
   "outputs": [
    {
     "name": "stdout",
     "output_type": "stream",
     "text": [
      "OVERLAP MERGING RESULT WITH CLIQUE PERCOLATION METHOD, TIPPING MODEL, SEED TOP 5 NODES AND DEG THRESHOLD CALCULATION STRATEGY.\n",
      "\n",
      "['sampling - surgical action', 'convex optimization', 'artificial bee colony algorithm', 'vertex', 'complex networks', 'collocation method', 'numerical method', 'backhaul (telecommunications)', 'b-spline', 'spectral leakage', 'numerical analysis', 'lessons learned', 'data synchronization', 'neural network simulation', 'synchronization', 'convolutional neural network', 'duality gap', 'block cipher mode of operation', 'simulation', 'probability', 'word embedding', 'bernoulli polynomials', 'algebraic equation', 'knowledge base', 'taguchi methods', 'reinforcement learning', 'switches', 'cognitive radio', 'manufacturing', 'newton–cotes formulas', 'performance', \"jensen's inequality\", 'iteration', 'matrix regularization', 'coefficient', 'nonlinear system', 'stochastic process', 'sampling (signal processing)', 'synchronization (computer science)', 'lyapunov fractal', 'error analysis (mathematics)', 'neural networks', 'randomness', 'cell (microprocessor)', 'organizing (structure)', 'algorithm', 'navier–stokes equations', 'artificial neural network', 'stability', 'nearest neighbor classifier', 'throughput', 'experiment', 'q-learning', 'gauss–kronrod quadrature formula', 'optimization problem', 'biological neural networks', 'dynamic programming', 'recurrent neural network', 'particle swarm optimization', 'deep learning', 'stochastic processes', 'complex network', 'dropout (neural networks)', 'hybrid optimization', 'taguchi method', 'differential evolution', 'quintic function', 'benchmark (computing)', 'self-organization', 'linear matrix inequality', 'central processing unit', 'state estimation', 'mean squared error', 'text corpus', 'approximation algorithm', 'couplings', 'mathematical optimization', 'frank–wolfe algorithm', 'social inequality', 'interference (communication)', 'telecommunications link', 'machine learning', 'recurrent neural networks', 'programming paradigm']\n",
      "len_topic: 84\n",
      "\n"
     ]
    }
   ],
   "source": [
    "overlap_merge_view_deg(2013, k = 5)"
   ]
  },
  {
   "cell_type": "code",
   "execution_count": 48,
   "metadata": {},
   "outputs": [
    {
     "name": "stdout",
     "output_type": "stream",
     "text": [
      "OVERLAP MERGING RESULT WITH CLIQUE PERCOLATION METHOD, TIPPING MODEL, SEED TOP 5 NODES AND HALF THRESHOLD CALCULATION STRATEGY.\n",
      "\n",
      "['lyapunov fractal', 'sampling - surgical action', 'cell (microprocessor)', 'algorithm', 'artificial bee colony algorithm', 'artificial neural network', 'nearest neighbor classifier', 'throughput', 'experiment', 'optimization problem', 'biological neural networks', 'spectral leakage', 'recurrent neural network', 'particle swarm optimization', 'deep learning', 'data synchronization', 'neural network simulation', 'hybrid optimization', 'taguchi method', 'differential evolution', 'linear matrix inequality', 'simulation', 'word embedding', 'taguchi methods', 'central processing unit', 'state estimation', 'cognitive radio', 'text corpus', 'manufacturing', 'performance', \"jensen's inequality\", 'mathematical optimization', 'social inequality', 'machine learning', 'sampling (signal processing)', 'recurrent neural networks', 'q-learning']\n",
      "len_topic: 37\n",
      "\n"
     ]
    }
   ],
   "source": [
    "overlap_merge_view_half(2013, k = 5)"
   ]
  },
  {
   "cell_type": "code",
   "execution_count": 49,
   "metadata": {},
   "outputs": [
    {
     "ename": "TopicMalFormedException",
     "evalue": "Topic bad formed.",
     "output_type": "error",
     "traceback": [
      "\u001b[0;31m---------------------------------------------------------------------------\u001b[0m",
      "\u001b[0;31mTopicMalFormedException\u001b[0m                   Traceback (most recent call last)",
      "\u001b[0;32m<ipython-input-49-e4f87091f594>\u001b[0m in \u001b[0;36m<module>\u001b[0;34m\u001b[0m\n\u001b[0;32m----> 1\u001b[0;31m \u001b[0moverlap_merge_view_deg_neg\u001b[0m\u001b[0;34m(\u001b[0m\u001b[0;36m2013\u001b[0m\u001b[0;34m,\u001b[0m \u001b[0mk\u001b[0m \u001b[0;34m=\u001b[0m \u001b[0;36m5\u001b[0m\u001b[0;34m)\u001b[0m\u001b[0;34m\u001b[0m\u001b[0;34m\u001b[0m\u001b[0m\n\u001b[0m",
      "\u001b[0;32m<ipython-input-6-aa88f64ba5fa>\u001b[0m in \u001b[0;36moverlap_merge_view_deg_neg\u001b[0;34m(year, k)\u001b[0m\n\u001b[1;32m     19\u001b[0m     \u001b[0mspread_dict\u001b[0m\u001b[0;34m[\u001b[0m\u001b[0mstr\u001b[0m\u001b[0;34m(\u001b[0m\u001b[0myear\u001b[0m\u001b[0;34m)\u001b[0m\u001b[0;34m]\u001b[0m\u001b[0;34m.\u001b[0m\u001b[0mtipping_model\u001b[0m\u001b[0;34m(\u001b[0m\u001b[0;34m)\u001b[0m\u001b[0;34m\u001b[0m\u001b[0;34m\u001b[0m\u001b[0m\n\u001b[1;32m     20\u001b[0m     \u001b[0mtipping_deg_neg\u001b[0m \u001b[0;34m=\u001b[0m \u001b[0mspread_dict\u001b[0m\u001b[0;34m[\u001b[0m\u001b[0mstr\u001b[0m\u001b[0;34m(\u001b[0m\u001b[0myear\u001b[0m\u001b[0;34m)\u001b[0m\u001b[0;34m]\u001b[0m\u001b[0;34m.\u001b[0m\u001b[0mget_influenced_nodes\u001b[0m\u001b[0;34m(\u001b[0m\u001b[0;34m)\u001b[0m\u001b[0;34m\u001b[0m\u001b[0;34m\u001b[0m\u001b[0m\n\u001b[0;32m---> 21\u001b[0;31m     \u001b[0mtopics_deg_neg\u001b[0m \u001b[0;34m=\u001b[0m \u001b[0moverlap_perform\u001b[0m\u001b[0;34m(\u001b[0m\u001b[0myear\u001b[0m\u001b[0;34m,\u001b[0m \u001b[0mtipping_deg_neg\u001b[0m\u001b[0;34m,\u001b[0m \u001b[0mk\u001b[0m\u001b[0;34m)\u001b[0m\u001b[0;34m\u001b[0m\u001b[0;34m\u001b[0m\u001b[0m\n\u001b[0m\u001b[1;32m     22\u001b[0m     \u001b[0mto_print\u001b[0m\u001b[0;34m(\u001b[0m\u001b[0mtopics_deg_neg\u001b[0m\u001b[0;34m,\u001b[0m \u001b[0;34m\"tipping\"\u001b[0m\u001b[0;34m,\u001b[0m \u001b[0mk\u001b[0m\u001b[0;34m,\u001b[0m \u001b[0;34m\"deg negative\"\u001b[0m\u001b[0;34m)\u001b[0m\u001b[0;34m\u001b[0m\u001b[0;34m\u001b[0m\u001b[0m\n",
      "\u001b[0;32m<ipython-input-5-60ae7201d3cc>\u001b[0m in \u001b[0;36moverlap_perform\u001b[0;34m(year, all_topics, k)\u001b[0m\n\u001b[1;32m      2\u001b[0m     \u001b[0moverlap\u001b[0m \u001b[0;34m=\u001b[0m \u001b[0mov\u001b[0m\u001b[0;34m.\u001b[0m\u001b[0mOverlapTopics\u001b[0m\u001b[0;34m(\u001b[0m\u001b[0mgraph_timeline_dict\u001b[0m\u001b[0;34m[\u001b[0m\u001b[0mstr\u001b[0m\u001b[0;34m(\u001b[0m\u001b[0myear\u001b[0m\u001b[0;34m)\u001b[0m\u001b[0;34m]\u001b[0m\u001b[0;34m,\u001b[0m \u001b[0mall_topics\u001b[0m\u001b[0;34m,\u001b[0m \u001b[0mk\u001b[0m\u001b[0;34m)\u001b[0m\u001b[0;34m\u001b[0m\u001b[0;34m\u001b[0m\u001b[0m\n\u001b[1;32m      3\u001b[0m     \u001b[0moverlap\u001b[0m\u001b[0;34m.\u001b[0m\u001b[0moverlap_preprocessing\u001b[0m\u001b[0;34m(\u001b[0m\u001b[0;34m)\u001b[0m\u001b[0;34m\u001b[0m\u001b[0;34m\u001b[0m\u001b[0m\n\u001b[0;32m----> 4\u001b[0;31m     \u001b[0moverlap\u001b[0m\u001b[0;34m.\u001b[0m\u001b[0mclique_percolation_method\u001b[0m\u001b[0;34m(\u001b[0m\u001b[0;34m)\u001b[0m\u001b[0;34m\u001b[0m\u001b[0;34m\u001b[0m\u001b[0m\n\u001b[0m\u001b[1;32m      5\u001b[0m     \u001b[0moverlap\u001b[0m\u001b[0;34m.\u001b[0m\u001b[0mcheck_spread_topics\u001b[0m\u001b[0;34m(\u001b[0m\u001b[0;34m)\u001b[0m\u001b[0;34m\u001b[0m\u001b[0;34m\u001b[0m\u001b[0m\n\u001b[1;32m      6\u001b[0m     \u001b[0moverlap\u001b[0m\u001b[0;34m.\u001b[0m\u001b[0mcheck_number_topics\u001b[0m\u001b[0;34m(\u001b[0m\u001b[0;34m)\u001b[0m\u001b[0;34m\u001b[0m\u001b[0;34m\u001b[0m\u001b[0m\n",
      "\u001b[0;32m~/Universita/magistrale/web_and_social_information_extraction/webandsocial-progetto/src/overlaps_topics/overlap_topics.py\u001b[0m in \u001b[0;36mclique_percolation_method\u001b[0;34m(self)\u001b[0m\n\u001b[1;32m    132\u001b[0m         \u001b[0mcommunities\u001b[0m \u001b[0;34m=\u001b[0m \u001b[0mk_clique_communities\u001b[0m\u001b[0;34m(\u001b[0m\u001b[0mG\u001b[0m \u001b[0;34m=\u001b[0m \u001b[0mself\u001b[0m\u001b[0;34m.\u001b[0m\u001b[0m__year_sub_graph\u001b[0m\u001b[0;34m,\u001b[0m \u001b[0mk\u001b[0m \u001b[0;34m=\u001b[0m \u001b[0;36m2\u001b[0m\u001b[0;34m)\u001b[0m\u001b[0;34m\u001b[0m\u001b[0;34m\u001b[0m\u001b[0m\n\u001b[1;32m    133\u001b[0m         \u001b[0;32mfor\u001b[0m \u001b[0mtopic\u001b[0m \u001b[0;32min\u001b[0m \u001b[0mcommunities\u001b[0m\u001b[0;34m:\u001b[0m\u001b[0;34m\u001b[0m\u001b[0;34m\u001b[0m\u001b[0m\n\u001b[0;32m--> 134\u001b[0;31m             \u001b[0mself\u001b[0m\u001b[0;34m.\u001b[0m\u001b[0mcheck_keywords\u001b[0m\u001b[0;34m(\u001b[0m\u001b[0mtopic\u001b[0m\u001b[0;34m)\u001b[0m\u001b[0;34m\u001b[0m\u001b[0;34m\u001b[0m\u001b[0m\n\u001b[0m\u001b[1;32m    135\u001b[0m             \u001b[0mself\u001b[0m\u001b[0;34m.\u001b[0m\u001b[0m__topics\u001b[0m\u001b[0;34m.\u001b[0m\u001b[0mappend\u001b[0m\u001b[0;34m(\u001b[0m\u001b[0mlist\u001b[0m\u001b[0;34m(\u001b[0m\u001b[0mtopic\u001b[0m\u001b[0;34m)\u001b[0m\u001b[0;34m)\u001b[0m\u001b[0;34m\u001b[0m\u001b[0;34m\u001b[0m\u001b[0m\n\u001b[1;32m    136\u001b[0m \u001b[0;34m\u001b[0m\u001b[0m\n",
      "\u001b[0;32m~/Universita/magistrale/web_and_social_information_extraction/webandsocial-progetto/src/overlaps_topics/overlap_topics.py\u001b[0m in \u001b[0;36mcheck_keywords\u001b[0;34m(self, topic)\u001b[0m\n\u001b[1;32m    119\u001b[0m \u001b[0;34m\u001b[0m\u001b[0m\n\u001b[1;32m    120\u001b[0m         \u001b[0;32mif\u001b[0m \u001b[0;32mnot\u001b[0m \u001b[0mregular\u001b[0m\u001b[0;34m:\u001b[0m\u001b[0;34m\u001b[0m\u001b[0;34m\u001b[0m\u001b[0m\n\u001b[0;32m--> 121\u001b[0;31m             \u001b[0;32mraise\u001b[0m \u001b[0mexcpt\u001b[0m\u001b[0;34m.\u001b[0m\u001b[0mTopicMalFormedException\u001b[0m\u001b[0;34m(\u001b[0m\u001b[0;34m\"Topic bad formed.\"\u001b[0m\u001b[0;34m)\u001b[0m\u001b[0;34m\u001b[0m\u001b[0;34m\u001b[0m\u001b[0m\n\u001b[0m\u001b[1;32m    122\u001b[0m \u001b[0;34m\u001b[0m\u001b[0m\n\u001b[1;32m    123\u001b[0m \u001b[0;34m\u001b[0m\u001b[0m\n",
      "\u001b[0;31mTopicMalFormedException\u001b[0m: Topic bad formed."
     ]
    }
   ],
   "source": [
    "overlap_merge_view_deg_neg(2013, k = 5)"
   ]
  },
  {
   "cell_type": "markdown",
   "metadata": {},
   "source": [
    "### Year 2014"
   ]
  },
  {
   "cell_type": "code",
   "execution_count": 50,
   "metadata": {},
   "outputs": [
    {
     "name": "stdout",
     "output_type": "stream",
     "text": [
      "OVERLAP MERGING RESULT WITH CLIQUE PERCOLATION METHOD, TIPPING MODEL, SEED TOP 5 NODES AND DEG THRESHOLD CALCULATION STRATEGY.\n",
      "\n",
      "['metaheuristic', 'particle swarm optimization (pso)', 'sampling - surgical action', 'statistical machine translation', 'calculus of variations', 'exponential', 'usb on-the-go', 'in-place algorithm', 'mimo-ofdm', 'n-gram', 'jacobi method', 'convex optimization', 'navdeep jaitly', 'baseline (configuration management)', 'ilya sutskever', 'phil blunsom', 'partition function (mathematics)', 'markov decision process', 'deep learning papers review at neurotechnology: attention mechanisms neurotechnology mar 15 2017', 'iterative method', 'john makhoul', 'fuzzy control system', 'pixel', 'abdel-rahman mohamed', 'autoencoder', 'state space', 'cuckoo search', 'constrained optimization', 'mathematical induction', 'time complexity', 'matthew d. zeiler', 'numerical analysis', 'point of view (computer hardware company)', 'nicolas boulanger-lewandowski', 'computers', 'metaheuristic search (ms)', 'neural network simulation', 'language model', 'convolutional neural network', 'alex graves', 'quoc v. le', 'simulation', 'word embedding', 'reinforcement learning', 'krill herd (kh)\\xa0', 'neural network software', 'bag-of-words model', 'cognitive radio', 'topology', 'cuckoo search\\xa0', 'http public key pinning', 'neural machine translation', 'scalability', 'generative model', 'nal kalchbrenner', 'iteration', 'yang liu', 'ant colony optimization algorithms', 'neural network', 'noise reduction', 'coefficient', 'alex krizhevsky', 'nonlinear system', 'richard m. schwartz', 'constraint algorithm', 'sampling (signal processing)', 'data stream mining', 'kyunghyun cho', 'mimo', 'multimodal interaction', 'lyapunov fractal', 'fault tolerance', 'neural networks', 'global optimization problem\\xa0', 'computation', 'x.690', 'control theory', 'algorithm', 'imagenet', 'shadowing (histology)', 'artificial neural network', 'quality of service', 'fuzzy logic', 'feature selection', 'neighborhood search (ns) operator', 'bellman equation', 'hamilton–jacobi–bellman equation', 'periodic solution', 'throughput', 'experiment', 'genetic algorithm', 'optimization problem', 'bil herd', 'mathematical model', 'analytical models', 'biological neural networks', 'dynamic programming', 'activation function', 'formal system', 'computer vision', 'rayleigh fading', 'finite-time stabilization', 'optimal control', 'recursive neural network', 'jacob devlin', 'deep learning', 'recurrent neural network', 'random neural network', 'particle swarm optimization', 'machine learning', 'global optimization', 'mathematics', 'computer performance', 'freebase', 'geoffrey e. hinton', 'premature convergence', 'complex network', 'bit error rate', 'information retrieval', 'knowledge graph', 'uncertainty', 'rate of convergence', 'evolutionary algorithm', 'heuristic', 'stochastic gradient descent', 'benchmark (computing)', 'linear matrix inequality', 'yoshua bengio', 'zhongqiang huang', 'oriol vinyals', 'mean squared error', 'electronic mail', 'skip list', 'encoder', 'approximation algorithm', 'xiang zhang', 'velocity (software development)', 'transmitter', 'mathematical optimization', 'yang', 'multitier architecture', 'lyapunov–krasovskii functional', 'entity', 'social inequality', 'interference (communication)', 'search algorithm', 'bart van merrienboer', 'feasible region']\n",
      "len_topic: 148\n",
      "\n"
     ]
    }
   ],
   "source": [
    "overlap_merge_view_deg(2014, k = 5)"
   ]
  },
  {
   "cell_type": "code",
   "execution_count": 51,
   "metadata": {},
   "outputs": [
    {
     "name": "stdout",
     "output_type": "stream",
     "text": [
      "OVERLAP MERGING RESULT WITH CLIQUE PERCOLATION METHOD, TIPPING MODEL, SEED TOP 5 NODES AND HALF THRESHOLD CALCULATION STRATEGY.\n",
      "\n",
      "['lyapunov fractal', 'complex network', 'information retrieval', 'sampling - surgical action', 'imagenet', 'artificial neural network', 'feature selection', 'ilya sutskever', 'periodic solution', 'neural network software', 'biological neural networks', 'fuzzy control system', 'approximation algorithm', 'computer vision', 'mathematical optimization', 'ant colony optimization algorithms', 'neural network', 'lyapunov–krasovskii functional', 'state space', 'random neural network', 'deep learning']\n",
      "len_topic: 21\n",
      "\n"
     ]
    }
   ],
   "source": [
    "overlap_merge_view_half(2014, k = 5)"
   ]
  },
  {
   "cell_type": "code",
   "execution_count": 52,
   "metadata": {},
   "outputs": [
    {
     "ename": "TopicMalFormedException",
     "evalue": "Topic bad formed.",
     "output_type": "error",
     "traceback": [
      "\u001b[0;31m---------------------------------------------------------------------------\u001b[0m",
      "\u001b[0;31mTopicMalFormedException\u001b[0m                   Traceback (most recent call last)",
      "\u001b[0;32m<ipython-input-52-c4ddb31f8e7e>\u001b[0m in \u001b[0;36m<module>\u001b[0;34m\u001b[0m\n\u001b[0;32m----> 1\u001b[0;31m \u001b[0moverlap_merge_view_deg_neg\u001b[0m\u001b[0;34m(\u001b[0m\u001b[0;36m2014\u001b[0m\u001b[0;34m,\u001b[0m \u001b[0mk\u001b[0m \u001b[0;34m=\u001b[0m \u001b[0;36m5\u001b[0m\u001b[0;34m)\u001b[0m\u001b[0;34m\u001b[0m\u001b[0;34m\u001b[0m\u001b[0m\n\u001b[0m",
      "\u001b[0;32m<ipython-input-6-aa88f64ba5fa>\u001b[0m in \u001b[0;36moverlap_merge_view_deg_neg\u001b[0;34m(year, k)\u001b[0m\n\u001b[1;32m     19\u001b[0m     \u001b[0mspread_dict\u001b[0m\u001b[0;34m[\u001b[0m\u001b[0mstr\u001b[0m\u001b[0;34m(\u001b[0m\u001b[0myear\u001b[0m\u001b[0;34m)\u001b[0m\u001b[0;34m]\u001b[0m\u001b[0;34m.\u001b[0m\u001b[0mtipping_model\u001b[0m\u001b[0;34m(\u001b[0m\u001b[0;34m)\u001b[0m\u001b[0;34m\u001b[0m\u001b[0;34m\u001b[0m\u001b[0m\n\u001b[1;32m     20\u001b[0m     \u001b[0mtipping_deg_neg\u001b[0m \u001b[0;34m=\u001b[0m \u001b[0mspread_dict\u001b[0m\u001b[0;34m[\u001b[0m\u001b[0mstr\u001b[0m\u001b[0;34m(\u001b[0m\u001b[0myear\u001b[0m\u001b[0;34m)\u001b[0m\u001b[0;34m]\u001b[0m\u001b[0;34m.\u001b[0m\u001b[0mget_influenced_nodes\u001b[0m\u001b[0;34m(\u001b[0m\u001b[0;34m)\u001b[0m\u001b[0;34m\u001b[0m\u001b[0;34m\u001b[0m\u001b[0m\n\u001b[0;32m---> 21\u001b[0;31m     \u001b[0mtopics_deg_neg\u001b[0m \u001b[0;34m=\u001b[0m \u001b[0moverlap_perform\u001b[0m\u001b[0;34m(\u001b[0m\u001b[0myear\u001b[0m\u001b[0;34m,\u001b[0m \u001b[0mtipping_deg_neg\u001b[0m\u001b[0;34m,\u001b[0m \u001b[0mk\u001b[0m\u001b[0;34m)\u001b[0m\u001b[0;34m\u001b[0m\u001b[0;34m\u001b[0m\u001b[0m\n\u001b[0m\u001b[1;32m     22\u001b[0m     \u001b[0mto_print\u001b[0m\u001b[0;34m(\u001b[0m\u001b[0mtopics_deg_neg\u001b[0m\u001b[0;34m,\u001b[0m \u001b[0;34m\"tipping\"\u001b[0m\u001b[0;34m,\u001b[0m \u001b[0mk\u001b[0m\u001b[0;34m,\u001b[0m \u001b[0;34m\"deg negative\"\u001b[0m\u001b[0;34m)\u001b[0m\u001b[0;34m\u001b[0m\u001b[0;34m\u001b[0m\u001b[0m\n",
      "\u001b[0;32m<ipython-input-5-60ae7201d3cc>\u001b[0m in \u001b[0;36moverlap_perform\u001b[0;34m(year, all_topics, k)\u001b[0m\n\u001b[1;32m      2\u001b[0m     \u001b[0moverlap\u001b[0m \u001b[0;34m=\u001b[0m \u001b[0mov\u001b[0m\u001b[0;34m.\u001b[0m\u001b[0mOverlapTopics\u001b[0m\u001b[0;34m(\u001b[0m\u001b[0mgraph_timeline_dict\u001b[0m\u001b[0;34m[\u001b[0m\u001b[0mstr\u001b[0m\u001b[0;34m(\u001b[0m\u001b[0myear\u001b[0m\u001b[0;34m)\u001b[0m\u001b[0;34m]\u001b[0m\u001b[0;34m,\u001b[0m \u001b[0mall_topics\u001b[0m\u001b[0;34m,\u001b[0m \u001b[0mk\u001b[0m\u001b[0;34m)\u001b[0m\u001b[0;34m\u001b[0m\u001b[0;34m\u001b[0m\u001b[0m\n\u001b[1;32m      3\u001b[0m     \u001b[0moverlap\u001b[0m\u001b[0;34m.\u001b[0m\u001b[0moverlap_preprocessing\u001b[0m\u001b[0;34m(\u001b[0m\u001b[0;34m)\u001b[0m\u001b[0;34m\u001b[0m\u001b[0;34m\u001b[0m\u001b[0m\n\u001b[0;32m----> 4\u001b[0;31m     \u001b[0moverlap\u001b[0m\u001b[0;34m.\u001b[0m\u001b[0mclique_percolation_method\u001b[0m\u001b[0;34m(\u001b[0m\u001b[0;34m)\u001b[0m\u001b[0;34m\u001b[0m\u001b[0;34m\u001b[0m\u001b[0m\n\u001b[0m\u001b[1;32m      5\u001b[0m     \u001b[0moverlap\u001b[0m\u001b[0;34m.\u001b[0m\u001b[0mcheck_spread_topics\u001b[0m\u001b[0;34m(\u001b[0m\u001b[0;34m)\u001b[0m\u001b[0;34m\u001b[0m\u001b[0;34m\u001b[0m\u001b[0m\n\u001b[1;32m      6\u001b[0m     \u001b[0moverlap\u001b[0m\u001b[0;34m.\u001b[0m\u001b[0mcheck_number_topics\u001b[0m\u001b[0;34m(\u001b[0m\u001b[0;34m)\u001b[0m\u001b[0;34m\u001b[0m\u001b[0;34m\u001b[0m\u001b[0m\n",
      "\u001b[0;32m~/Universita/magistrale/web_and_social_information_extraction/webandsocial-progetto/src/overlaps_topics/overlap_topics.py\u001b[0m in \u001b[0;36mclique_percolation_method\u001b[0;34m(self)\u001b[0m\n\u001b[1;32m    132\u001b[0m         \u001b[0mcommunities\u001b[0m \u001b[0;34m=\u001b[0m \u001b[0mk_clique_communities\u001b[0m\u001b[0;34m(\u001b[0m\u001b[0mG\u001b[0m \u001b[0;34m=\u001b[0m \u001b[0mself\u001b[0m\u001b[0;34m.\u001b[0m\u001b[0m__year_sub_graph\u001b[0m\u001b[0;34m,\u001b[0m \u001b[0mk\u001b[0m \u001b[0;34m=\u001b[0m \u001b[0;36m2\u001b[0m\u001b[0;34m)\u001b[0m\u001b[0;34m\u001b[0m\u001b[0;34m\u001b[0m\u001b[0m\n\u001b[1;32m    133\u001b[0m         \u001b[0;32mfor\u001b[0m \u001b[0mtopic\u001b[0m \u001b[0;32min\u001b[0m \u001b[0mcommunities\u001b[0m\u001b[0;34m:\u001b[0m\u001b[0;34m\u001b[0m\u001b[0;34m\u001b[0m\u001b[0m\n\u001b[0;32m--> 134\u001b[0;31m             \u001b[0mself\u001b[0m\u001b[0;34m.\u001b[0m\u001b[0mcheck_keywords\u001b[0m\u001b[0;34m(\u001b[0m\u001b[0mtopic\u001b[0m\u001b[0;34m)\u001b[0m\u001b[0;34m\u001b[0m\u001b[0;34m\u001b[0m\u001b[0m\n\u001b[0m\u001b[1;32m    135\u001b[0m             \u001b[0mself\u001b[0m\u001b[0;34m.\u001b[0m\u001b[0m__topics\u001b[0m\u001b[0;34m.\u001b[0m\u001b[0mappend\u001b[0m\u001b[0;34m(\u001b[0m\u001b[0mlist\u001b[0m\u001b[0;34m(\u001b[0m\u001b[0mtopic\u001b[0m\u001b[0;34m)\u001b[0m\u001b[0;34m)\u001b[0m\u001b[0;34m\u001b[0m\u001b[0;34m\u001b[0m\u001b[0m\n\u001b[1;32m    136\u001b[0m \u001b[0;34m\u001b[0m\u001b[0m\n",
      "\u001b[0;32m~/Universita/magistrale/web_and_social_information_extraction/webandsocial-progetto/src/overlaps_topics/overlap_topics.py\u001b[0m in \u001b[0;36mcheck_keywords\u001b[0;34m(self, topic)\u001b[0m\n\u001b[1;32m    119\u001b[0m \u001b[0;34m\u001b[0m\u001b[0m\n\u001b[1;32m    120\u001b[0m         \u001b[0;32mif\u001b[0m \u001b[0;32mnot\u001b[0m \u001b[0mregular\u001b[0m\u001b[0;34m:\u001b[0m\u001b[0;34m\u001b[0m\u001b[0;34m\u001b[0m\u001b[0m\n\u001b[0;32m--> 121\u001b[0;31m             \u001b[0;32mraise\u001b[0m \u001b[0mexcpt\u001b[0m\u001b[0;34m.\u001b[0m\u001b[0mTopicMalFormedException\u001b[0m\u001b[0;34m(\u001b[0m\u001b[0;34m\"Topic bad formed.\"\u001b[0m\u001b[0;34m)\u001b[0m\u001b[0;34m\u001b[0m\u001b[0;34m\u001b[0m\u001b[0m\n\u001b[0m\u001b[1;32m    122\u001b[0m \u001b[0;34m\u001b[0m\u001b[0m\n\u001b[1;32m    123\u001b[0m \u001b[0;34m\u001b[0m\u001b[0m\n",
      "\u001b[0;31mTopicMalFormedException\u001b[0m: Topic bad formed."
     ]
    }
   ],
   "source": [
    "overlap_merge_view_deg_neg(2014, k = 5)"
   ]
  },
  {
   "cell_type": "markdown",
   "metadata": {},
   "source": [
    "### Year 2015"
   ]
  },
  {
   "cell_type": "code",
   "execution_count": 53,
   "metadata": {},
   "outputs": [
    {
     "name": "stdout",
     "output_type": "stream",
     "text": [
      "OVERLAP MERGING RESULT WITH CLIQUE PERCOLATION METHOD, TIPPING MODEL, SEED TOP 5 NODES AND DEG THRESHOLD CALCULATION STRATEGY.\n",
      "\n",
      "['categorization', 'interval time-varying delay', 'artificial bee colony algorithm', 'hypersonic flight vehicle\\xa0', 'firefly algorithm', 'memristor-based neural networks', 'map', 'wavelet analysis', 'continuous optimization', 'convex function', 'artificial bee colony', 'input-output linearization\\xa0', 'elm', 'tom erez', 'extract features', 'autoencoder', 'pattern recognition', 'numerical analysis', 'spectral efficiency', 'resonance', 'extreme learning machine\\xa0', 'autonomous robot', 'neural network simulation', 'language model', 'convolutional neural network', 'crucially importance', 'anatomy regional', 'novel automatic classification', 'principal component analysis', 'compaq lte', 'acoustic cryptanalysis', 'stabilization', 'embedded systems', 'linearizing at the trim state\\xa0', 'multi-agent system', 'loss function', 'unit commitment', 'radial (radio)', 'observers', 'http public key pinning', 'performance', 'distinguish abnormal brains', 'tbr ??\\xa0', 'novelty detection', 'alex krizhevsky', 'fractional-order', 'magnetic resonance imaging', 'linear matrix inequality (lmi)', 'remaining connections', 'synchronization (computer science)', 'imagenet dataset', 'emd empirical mode decomposition', 'bt bayesian theory', 'lyapunov fractal', 'control theory', 'imagenet', 'algorithm', 'maxima and minima', 'artificial neural network', 'support vector machine', 'satinder p. singh', '????\\xa0', 'parsing', 'social network\\xa0', '82301', 'tcp global synchronization', 'output feedback', 'statistical classification', 'formal system', 'computer vision', 'correctness (computer science)', 'recurrent neural network', 'decision tree learning', 'weibull distribution function', 'feature representation\\xa0', 'geoffrey e. hinton', 'online and offline', 'feature learning', 'optimization', 'ga genetic algorithm', 'computer simulation', 'mr brain images', 'linear matrix inequality', '???????\\xa0', 'feedforward neural network', 'non-minimum phase\\xa0', 'approximation algorithm', 'approximation', 'mathematical optimization', 'robot', 'social inequality', 'interference (communication)', '70201', 'machine learning', 'link prediction\\xa0', 'convex optimization', 'large-scale computing\\xa0', 'speech recognition', 'unsupervised learning', 'controllers', 'computer assisted diagnosis', 'ilya sutskever', 'theory', 'system dynamics', 'pca principal component analysis', 'unscented kalman filter', 'doina precup', 'fuzzy control system', 'structural break modeling', 'real-time transcription', 'cluster analysis', 'constrained optimization', 'normal brains', 'interference management\\xa0', 'time complexity', 'nonlinear systems', 'emanuel todorov', 'supervised learning', 'synchronization', 'memristor', 'adaptive algorithm', '20301', 'block cipher mode of operation', 'simulation', 'well-posed problem', 'feedback', 'aided diagnosis', 'reinforcement learning', 'arima auto regressive integrated moving average', 'noise reduction', 'iteration', 'document classification', 'interaction', 'learning disorders', 'nonlinear system', 'database', 'riemann–liouville', 'cellular multicast\\xa0', 'long short-term memory', 'channel capacity', 'ar auto regressive', 'neural networks', 'bayesian optimization', 'filter bank', 'power semiconductor device', 'fuzzy logic', 'stability', 'christian szegedy', 'bellman equation', 'cross reactions', 'hamilton–jacobi–bellman equation', 'network topology', 'experiment', 'throughput', 'honglak lee', 'optimization problem', 'genetic algorithm', 'swarm intelligence', 'back-stepping\\xa0', 'activation function', 'mri scanning', 'accurate classification', 'dynamic programming', 'learning model\\xa0', 'adaptive systems', '?????\\xa0', '??????\\xa0', 'dynamic network\\xa0', 'trust region', 'increment', 'converge', 'optimal control', 'fine tune', 'memory intensive making', 'particle swarm optimization', 'global optimization', 'deep learning', '???\\xa0', 'prediction', 'sergey levine', 'low-power broadcasting', 'similarity metric\\xa0', 'sparse matrix', 'd2d communication\\xa0', 'stochastic gradient descent', 'benchmark (computing)', '11101', 'auto regressive integrated moving average', 'yuval tassa', 'control system', 'power control\\xa0', 'encoder', 'coexist (image)', 'medical analysis', 'markov chain', 'artificial intelligence', 'signal processing', 'computationally intensive', 'empirical mode decomposition']\n",
      "len_topic: 199\n",
      "\n"
     ]
    }
   ],
   "source": [
    "overlap_merge_view_deg(2015, k = 5)"
   ]
  },
  {
   "cell_type": "code",
   "execution_count": 54,
   "metadata": {},
   "outputs": [
    {
     "name": "stdout",
     "output_type": "stream",
     "text": [
      "OVERLAP MERGING RESULT WITH CLIQUE PERCOLATION METHOD, TIPPING MODEL, SEED TOP 5 NODES AND HALF THRESHOLD CALCULATION STRATEGY.\n",
      "\n",
      "['interval time-varying delay', 'algorithm', 'stochastic gradient descent', 'bayesian optimization', 'artificial neural network', 'speech recognition', 'bellman equation', 'controllers', 'well-posed problem', 'hamilton–jacobi–bellman equation', 'map', 'reinforcement learning', 'throughput', 'system dynamics', 'loss function', 'control system', 'elm', 'dynamic programming', 'approximation', 'markov chain', 'correctness (computer science)', 'interaction', 'real-time transcription', 'converge', 'optimal control', 'nonlinear system', 'linear matrix inequality (lmi)', 'time complexity', 'numerical analysis', 'supervised learning']\n",
      "len_topic: 30\n",
      "\n",
      "['non-minimum phase\\xa0', 'linearizing at the trim state\\xa0', '???????\\xa0', '70201', 'input-output linearization\\xa0', 'back-stepping\\xa0', 'hypersonic flight vehicle\\xa0']\n",
      "len_topic: 7\n",
      "\n"
     ]
    }
   ],
   "source": [
    "overlap_merge_view_half(2015, k = 5)"
   ]
  },
  {
   "cell_type": "code",
   "execution_count": 55,
   "metadata": {},
   "outputs": [
    {
     "ename": "TopicMalFormedException",
     "evalue": "Topic bad formed.",
     "output_type": "error",
     "traceback": [
      "\u001b[0;31m---------------------------------------------------------------------------\u001b[0m",
      "\u001b[0;31mTopicMalFormedException\u001b[0m                   Traceback (most recent call last)",
      "\u001b[0;32m<ipython-input-55-0d8c318a10bd>\u001b[0m in \u001b[0;36m<module>\u001b[0;34m\u001b[0m\n\u001b[0;32m----> 1\u001b[0;31m \u001b[0moverlap_merge_view_deg_neg\u001b[0m\u001b[0;34m(\u001b[0m\u001b[0;36m2015\u001b[0m\u001b[0;34m,\u001b[0m \u001b[0mk\u001b[0m \u001b[0;34m=\u001b[0m \u001b[0;36m5\u001b[0m\u001b[0;34m)\u001b[0m\u001b[0;34m\u001b[0m\u001b[0;34m\u001b[0m\u001b[0m\n\u001b[0m",
      "\u001b[0;32m<ipython-input-6-aa88f64ba5fa>\u001b[0m in \u001b[0;36moverlap_merge_view_deg_neg\u001b[0;34m(year, k)\u001b[0m\n\u001b[1;32m     19\u001b[0m     \u001b[0mspread_dict\u001b[0m\u001b[0;34m[\u001b[0m\u001b[0mstr\u001b[0m\u001b[0;34m(\u001b[0m\u001b[0myear\u001b[0m\u001b[0;34m)\u001b[0m\u001b[0;34m]\u001b[0m\u001b[0;34m.\u001b[0m\u001b[0mtipping_model\u001b[0m\u001b[0;34m(\u001b[0m\u001b[0;34m)\u001b[0m\u001b[0;34m\u001b[0m\u001b[0;34m\u001b[0m\u001b[0m\n\u001b[1;32m     20\u001b[0m     \u001b[0mtipping_deg_neg\u001b[0m \u001b[0;34m=\u001b[0m \u001b[0mspread_dict\u001b[0m\u001b[0;34m[\u001b[0m\u001b[0mstr\u001b[0m\u001b[0;34m(\u001b[0m\u001b[0myear\u001b[0m\u001b[0;34m)\u001b[0m\u001b[0;34m]\u001b[0m\u001b[0;34m.\u001b[0m\u001b[0mget_influenced_nodes\u001b[0m\u001b[0;34m(\u001b[0m\u001b[0;34m)\u001b[0m\u001b[0;34m\u001b[0m\u001b[0;34m\u001b[0m\u001b[0m\n\u001b[0;32m---> 21\u001b[0;31m     \u001b[0mtopics_deg_neg\u001b[0m \u001b[0;34m=\u001b[0m \u001b[0moverlap_perform\u001b[0m\u001b[0;34m(\u001b[0m\u001b[0myear\u001b[0m\u001b[0;34m,\u001b[0m \u001b[0mtipping_deg_neg\u001b[0m\u001b[0;34m,\u001b[0m \u001b[0mk\u001b[0m\u001b[0;34m)\u001b[0m\u001b[0;34m\u001b[0m\u001b[0;34m\u001b[0m\u001b[0m\n\u001b[0m\u001b[1;32m     22\u001b[0m     \u001b[0mto_print\u001b[0m\u001b[0;34m(\u001b[0m\u001b[0mtopics_deg_neg\u001b[0m\u001b[0;34m,\u001b[0m \u001b[0;34m\"tipping\"\u001b[0m\u001b[0;34m,\u001b[0m \u001b[0mk\u001b[0m\u001b[0;34m,\u001b[0m \u001b[0;34m\"deg negative\"\u001b[0m\u001b[0;34m)\u001b[0m\u001b[0;34m\u001b[0m\u001b[0;34m\u001b[0m\u001b[0m\n",
      "\u001b[0;32m<ipython-input-5-60ae7201d3cc>\u001b[0m in \u001b[0;36moverlap_perform\u001b[0;34m(year, all_topics, k)\u001b[0m\n\u001b[1;32m      2\u001b[0m     \u001b[0moverlap\u001b[0m \u001b[0;34m=\u001b[0m \u001b[0mov\u001b[0m\u001b[0;34m.\u001b[0m\u001b[0mOverlapTopics\u001b[0m\u001b[0;34m(\u001b[0m\u001b[0mgraph_timeline_dict\u001b[0m\u001b[0;34m[\u001b[0m\u001b[0mstr\u001b[0m\u001b[0;34m(\u001b[0m\u001b[0myear\u001b[0m\u001b[0;34m)\u001b[0m\u001b[0;34m]\u001b[0m\u001b[0;34m,\u001b[0m \u001b[0mall_topics\u001b[0m\u001b[0;34m,\u001b[0m \u001b[0mk\u001b[0m\u001b[0;34m)\u001b[0m\u001b[0;34m\u001b[0m\u001b[0;34m\u001b[0m\u001b[0m\n\u001b[1;32m      3\u001b[0m     \u001b[0moverlap\u001b[0m\u001b[0;34m.\u001b[0m\u001b[0moverlap_preprocessing\u001b[0m\u001b[0;34m(\u001b[0m\u001b[0;34m)\u001b[0m\u001b[0;34m\u001b[0m\u001b[0;34m\u001b[0m\u001b[0m\n\u001b[0;32m----> 4\u001b[0;31m     \u001b[0moverlap\u001b[0m\u001b[0;34m.\u001b[0m\u001b[0mclique_percolation_method\u001b[0m\u001b[0;34m(\u001b[0m\u001b[0;34m)\u001b[0m\u001b[0;34m\u001b[0m\u001b[0;34m\u001b[0m\u001b[0m\n\u001b[0m\u001b[1;32m      5\u001b[0m     \u001b[0moverlap\u001b[0m\u001b[0;34m.\u001b[0m\u001b[0mcheck_spread_topics\u001b[0m\u001b[0;34m(\u001b[0m\u001b[0;34m)\u001b[0m\u001b[0;34m\u001b[0m\u001b[0;34m\u001b[0m\u001b[0m\n\u001b[1;32m      6\u001b[0m     \u001b[0moverlap\u001b[0m\u001b[0;34m.\u001b[0m\u001b[0mcheck_number_topics\u001b[0m\u001b[0;34m(\u001b[0m\u001b[0;34m)\u001b[0m\u001b[0;34m\u001b[0m\u001b[0;34m\u001b[0m\u001b[0m\n",
      "\u001b[0;32m~/Universita/magistrale/web_and_social_information_extraction/webandsocial-progetto/src/overlaps_topics/overlap_topics.py\u001b[0m in \u001b[0;36mclique_percolation_method\u001b[0;34m(self)\u001b[0m\n\u001b[1;32m    132\u001b[0m         \u001b[0mcommunities\u001b[0m \u001b[0;34m=\u001b[0m \u001b[0mk_clique_communities\u001b[0m\u001b[0;34m(\u001b[0m\u001b[0mG\u001b[0m \u001b[0;34m=\u001b[0m \u001b[0mself\u001b[0m\u001b[0;34m.\u001b[0m\u001b[0m__year_sub_graph\u001b[0m\u001b[0;34m,\u001b[0m \u001b[0mk\u001b[0m \u001b[0;34m=\u001b[0m \u001b[0;36m2\u001b[0m\u001b[0;34m)\u001b[0m\u001b[0;34m\u001b[0m\u001b[0;34m\u001b[0m\u001b[0m\n\u001b[1;32m    133\u001b[0m         \u001b[0;32mfor\u001b[0m \u001b[0mtopic\u001b[0m \u001b[0;32min\u001b[0m \u001b[0mcommunities\u001b[0m\u001b[0;34m:\u001b[0m\u001b[0;34m\u001b[0m\u001b[0;34m\u001b[0m\u001b[0m\n\u001b[0;32m--> 134\u001b[0;31m             \u001b[0mself\u001b[0m\u001b[0;34m.\u001b[0m\u001b[0mcheck_keywords\u001b[0m\u001b[0;34m(\u001b[0m\u001b[0mtopic\u001b[0m\u001b[0;34m)\u001b[0m\u001b[0;34m\u001b[0m\u001b[0;34m\u001b[0m\u001b[0m\n\u001b[0m\u001b[1;32m    135\u001b[0m             \u001b[0mself\u001b[0m\u001b[0;34m.\u001b[0m\u001b[0m__topics\u001b[0m\u001b[0;34m.\u001b[0m\u001b[0mappend\u001b[0m\u001b[0;34m(\u001b[0m\u001b[0mlist\u001b[0m\u001b[0;34m(\u001b[0m\u001b[0mtopic\u001b[0m\u001b[0;34m)\u001b[0m\u001b[0;34m)\u001b[0m\u001b[0;34m\u001b[0m\u001b[0;34m\u001b[0m\u001b[0m\n\u001b[1;32m    136\u001b[0m \u001b[0;34m\u001b[0m\u001b[0m\n",
      "\u001b[0;32m~/Universita/magistrale/web_and_social_information_extraction/webandsocial-progetto/src/overlaps_topics/overlap_topics.py\u001b[0m in \u001b[0;36mcheck_keywords\u001b[0;34m(self, topic)\u001b[0m\n\u001b[1;32m    119\u001b[0m \u001b[0;34m\u001b[0m\u001b[0m\n\u001b[1;32m    120\u001b[0m         \u001b[0;32mif\u001b[0m \u001b[0;32mnot\u001b[0m \u001b[0mregular\u001b[0m\u001b[0;34m:\u001b[0m\u001b[0;34m\u001b[0m\u001b[0;34m\u001b[0m\u001b[0m\n\u001b[0;32m--> 121\u001b[0;31m             \u001b[0;32mraise\u001b[0m \u001b[0mexcpt\u001b[0m\u001b[0;34m.\u001b[0m\u001b[0mTopicMalFormedException\u001b[0m\u001b[0;34m(\u001b[0m\u001b[0;34m\"Topic bad formed.\"\u001b[0m\u001b[0;34m)\u001b[0m\u001b[0;34m\u001b[0m\u001b[0;34m\u001b[0m\u001b[0m\n\u001b[0m\u001b[1;32m    122\u001b[0m \u001b[0;34m\u001b[0m\u001b[0m\n\u001b[1;32m    123\u001b[0m \u001b[0;34m\u001b[0m\u001b[0m\n",
      "\u001b[0;31mTopicMalFormedException\u001b[0m: Topic bad formed."
     ]
    }
   ],
   "source": [
    "overlap_merge_view_deg_neg(2015, k = 5)"
   ]
  },
  {
   "cell_type": "markdown",
   "metadata": {},
   "source": [
    "### Year 2016"
   ]
  },
  {
   "cell_type": "code",
   "execution_count": 56,
   "metadata": {},
   "outputs": [
    {
     "name": "stdout",
     "output_type": "stream",
     "text": [
      "OVERLAP MERGING RESULT WITH CLIQUE PERCOLATION METHOD, TIPPING MODEL, SEED TOP 5 NODES AND DEG THRESHOLD CALCULATION STRATEGY.\n",
      "\n",
      "['super robot monkey team hyperforce go!', 'search space effectively', 'apache spark', 'usb on-the-go', 'granting bails', 'coupling constant', 'markov decision process', 'computer data storage', 'medical imaging', 'distribution (mathematics)', 'decision list', 'convex function', 'daily basis', 'biogeography-based optimization\\xa0', 'rémi munos', 'effective interpretable', 'upper confidence bound', 'autoencoder', 'computational complexity theory', 'nonlinearity', 'numerical analysis', 'maximizes outcomes', 'neural network simulation', 'language model', 'convolutional neural network', 'koray kavukcuoglu', 'neuron', 'variational principle', 'novel objective', 'fuzzy set', 'multi-agent system', 'ibm systems network architecture', 'ben parr', 'cognitive radio', 'numerical linear algebra', 'weight', 'time delay', 'http public key pinning', 'adaptive coding', 'magnetic resonance imaging', 'training', 'leverages customized checks', 'lyapunov fractal', 'computer-aided design', 'control theory', 'algorithm', 'imagenet', 'artificial neural network', 'support vector machine', 'optimization\\xa0', 'mathematical model', 'marc g. bellemare', 'adversary (cryptography)', 'formal system', 'code', 'particle swarm optimization\\xa0', 'genetic programming', 'recurrent neural network', 'embedded system', 'exploit (computer security)', 'apriori algorithm', 'swarm intelligence\\xa0', 'frequency band', 'optimization', 'computer simulation', 'linear matrix inequality', 'atari', 'finite-time synchronization', 'experimental results', 'vocabulary', 'time delays', 'feedforward neural network', 'bayesian network', 'coordinate descent', 'approximation algorithm', 'approximation', 'mathematical optimization', 'test set', 'asthma patients demonstrate', 'robot', 'mapreduce', 'social inequality', 'network architecture', 'minimizes overall costs', 'interference (communication)', 'natural language processing', 'machine learning', 'agent-based model', 'black bag operation', 'recommender system', 'recommending treatments', 'settling time', 'iterative method', 'generalization (psychology)', 'costs involved', 'hypernymy relations', 'fuzzy control system', 'preprocessor', 'sensor', 'data model', 'constrained optimization', 'hysteresis', 'nonlinear systems', 'one-class classification', 'memristor', 'real-time clock', 'interval arithmetic', 'brute-force search', 'simulation', 'high- and low-level', 'feedback', 'reinforcement learning', 'decision makers', 'open research', 'maps characteristics', 'diagnostic test results', 'iteration', 'learning disorders', 'coefficient', 'personalization', 'nonlinear system', 'long short-term memory', 'neural networks', 'approximation error', 'computation', 'mnist database', 'data mining', 'fuzzy logic', 'data pre-processing', 'computer science', 'bellman equation', 'quality of service', 'statistical model', 'hamilton–jacobi–bellman equation', 'lymph nodes', 'throughput', 'experiment', 'end-to-end principle', 'mark rowland', 'network topology', 'genetic algorithm', 'quantization (signal processing)', 'biological neural networks', 'optimization problem', 'sample complexity', 'dynamic programming', 'adaptive systems', 'genetic algorithm\\xa0', 'converge', 'optimal control', 'will dabney', 'demis hassabis', 'particle swarm optimization', 'global optimization', 'deep learning', 'dropout (neural networks)', 'requirement', 'hado van hasselt', 'subnetwork', 'knowledge graph', 'volodymyr mnih', 'sparse matrix', 'time-varying delay', 'stochastic gradient descent', 'benchmark (computing)', 'centralized computing', 'big data', 'state estimation', 'control system', 'open-source software', 'encoder', 'artificial intelligence', 'feature extraction', 'identifier', 'fuzzy rule', 'channel state information', 'search algorithm', 'telecommunications link', 'potential benefits', 'benchmark\\xa0', 'q-learning']\n",
      "len_topic: 181\n",
      "\n"
     ]
    }
   ],
   "source": [
    "overlap_merge_view_deg(2016, k = 5)"
   ]
  },
  {
   "cell_type": "code",
   "execution_count": 57,
   "metadata": {},
   "outputs": [
    {
     "name": "stdout",
     "output_type": "stream",
     "text": [
      "OVERLAP MERGING RESULT WITH CLIQUE PERCOLATION METHOD, TIPPING MODEL, SEED TOP 5 NODES AND HALF THRESHOLD CALCULATION STRATEGY.\n",
      "\n",
      "['super robot monkey team hyperforce go!', 'approximation error', 'computer-aided design', 'computation', 'algorithm', 'mnist database', 'imagenet', 'artificial neural network', 'computer science', 'quantization (signal processing)', 'hypernymy relations', 'genetic programming', 'sensor', 'constrained optimization', 'hysteresis', 'recurrent neural network', 'nonlinearity', 'computational complexity theory', 'embedded system', 'language model', 'neuron', 'real-time clock', 'optimization', 'computer simulation', 'simulation', 'feedback', 'state estimation', 'multi-agent system', 'time delay', 'approximation', 'test set', 'mathematical optimization', 'identifier', 'robot', 'coefficient', 'network architecture', 'nonlinear system', 'natural language processing', 'telecommunications link', 'agent-based model', 'long short-term memory']\n",
      "len_topic: 41\n",
      "\n"
     ]
    }
   ],
   "source": [
    "overlap_merge_view_half(2016, k = 5)"
   ]
  },
  {
   "cell_type": "code",
   "execution_count": 58,
   "metadata": {},
   "outputs": [
    {
     "ename": "TopicMalFormedException",
     "evalue": "Topic bad formed.",
     "output_type": "error",
     "traceback": [
      "\u001b[0;31m---------------------------------------------------------------------------\u001b[0m",
      "\u001b[0;31mTopicMalFormedException\u001b[0m                   Traceback (most recent call last)",
      "\u001b[0;32m<ipython-input-58-a811b575970b>\u001b[0m in \u001b[0;36m<module>\u001b[0;34m\u001b[0m\n\u001b[0;32m----> 1\u001b[0;31m \u001b[0moverlap_merge_view_deg_neg\u001b[0m\u001b[0;34m(\u001b[0m\u001b[0;36m2016\u001b[0m\u001b[0;34m,\u001b[0m \u001b[0mk\u001b[0m \u001b[0;34m=\u001b[0m \u001b[0;36m5\u001b[0m\u001b[0;34m)\u001b[0m\u001b[0;34m\u001b[0m\u001b[0;34m\u001b[0m\u001b[0m\n\u001b[0m",
      "\u001b[0;32m<ipython-input-6-aa88f64ba5fa>\u001b[0m in \u001b[0;36moverlap_merge_view_deg_neg\u001b[0;34m(year, k)\u001b[0m\n\u001b[1;32m     19\u001b[0m     \u001b[0mspread_dict\u001b[0m\u001b[0;34m[\u001b[0m\u001b[0mstr\u001b[0m\u001b[0;34m(\u001b[0m\u001b[0myear\u001b[0m\u001b[0;34m)\u001b[0m\u001b[0;34m]\u001b[0m\u001b[0;34m.\u001b[0m\u001b[0mtipping_model\u001b[0m\u001b[0;34m(\u001b[0m\u001b[0;34m)\u001b[0m\u001b[0;34m\u001b[0m\u001b[0;34m\u001b[0m\u001b[0m\n\u001b[1;32m     20\u001b[0m     \u001b[0mtipping_deg_neg\u001b[0m \u001b[0;34m=\u001b[0m \u001b[0mspread_dict\u001b[0m\u001b[0;34m[\u001b[0m\u001b[0mstr\u001b[0m\u001b[0;34m(\u001b[0m\u001b[0myear\u001b[0m\u001b[0;34m)\u001b[0m\u001b[0;34m]\u001b[0m\u001b[0;34m.\u001b[0m\u001b[0mget_influenced_nodes\u001b[0m\u001b[0;34m(\u001b[0m\u001b[0;34m)\u001b[0m\u001b[0;34m\u001b[0m\u001b[0;34m\u001b[0m\u001b[0m\n\u001b[0;32m---> 21\u001b[0;31m     \u001b[0mtopics_deg_neg\u001b[0m \u001b[0;34m=\u001b[0m \u001b[0moverlap_perform\u001b[0m\u001b[0;34m(\u001b[0m\u001b[0myear\u001b[0m\u001b[0;34m,\u001b[0m \u001b[0mtipping_deg_neg\u001b[0m\u001b[0;34m,\u001b[0m \u001b[0mk\u001b[0m\u001b[0;34m)\u001b[0m\u001b[0;34m\u001b[0m\u001b[0;34m\u001b[0m\u001b[0m\n\u001b[0m\u001b[1;32m     22\u001b[0m     \u001b[0mto_print\u001b[0m\u001b[0;34m(\u001b[0m\u001b[0mtopics_deg_neg\u001b[0m\u001b[0;34m,\u001b[0m \u001b[0;34m\"tipping\"\u001b[0m\u001b[0;34m,\u001b[0m \u001b[0mk\u001b[0m\u001b[0;34m,\u001b[0m \u001b[0;34m\"deg negative\"\u001b[0m\u001b[0;34m)\u001b[0m\u001b[0;34m\u001b[0m\u001b[0;34m\u001b[0m\u001b[0m\n",
      "\u001b[0;32m<ipython-input-5-60ae7201d3cc>\u001b[0m in \u001b[0;36moverlap_perform\u001b[0;34m(year, all_topics, k)\u001b[0m\n\u001b[1;32m      2\u001b[0m     \u001b[0moverlap\u001b[0m \u001b[0;34m=\u001b[0m \u001b[0mov\u001b[0m\u001b[0;34m.\u001b[0m\u001b[0mOverlapTopics\u001b[0m\u001b[0;34m(\u001b[0m\u001b[0mgraph_timeline_dict\u001b[0m\u001b[0;34m[\u001b[0m\u001b[0mstr\u001b[0m\u001b[0;34m(\u001b[0m\u001b[0myear\u001b[0m\u001b[0;34m)\u001b[0m\u001b[0;34m]\u001b[0m\u001b[0;34m,\u001b[0m \u001b[0mall_topics\u001b[0m\u001b[0;34m,\u001b[0m \u001b[0mk\u001b[0m\u001b[0;34m)\u001b[0m\u001b[0;34m\u001b[0m\u001b[0;34m\u001b[0m\u001b[0m\n\u001b[1;32m      3\u001b[0m     \u001b[0moverlap\u001b[0m\u001b[0;34m.\u001b[0m\u001b[0moverlap_preprocessing\u001b[0m\u001b[0;34m(\u001b[0m\u001b[0;34m)\u001b[0m\u001b[0;34m\u001b[0m\u001b[0;34m\u001b[0m\u001b[0m\n\u001b[0;32m----> 4\u001b[0;31m     \u001b[0moverlap\u001b[0m\u001b[0;34m.\u001b[0m\u001b[0mclique_percolation_method\u001b[0m\u001b[0;34m(\u001b[0m\u001b[0;34m)\u001b[0m\u001b[0;34m\u001b[0m\u001b[0;34m\u001b[0m\u001b[0m\n\u001b[0m\u001b[1;32m      5\u001b[0m     \u001b[0moverlap\u001b[0m\u001b[0;34m.\u001b[0m\u001b[0mcheck_spread_topics\u001b[0m\u001b[0;34m(\u001b[0m\u001b[0;34m)\u001b[0m\u001b[0;34m\u001b[0m\u001b[0;34m\u001b[0m\u001b[0m\n\u001b[1;32m      6\u001b[0m     \u001b[0moverlap\u001b[0m\u001b[0;34m.\u001b[0m\u001b[0mcheck_number_topics\u001b[0m\u001b[0;34m(\u001b[0m\u001b[0;34m)\u001b[0m\u001b[0;34m\u001b[0m\u001b[0;34m\u001b[0m\u001b[0m\n",
      "\u001b[0;32m~/Universita/magistrale/web_and_social_information_extraction/webandsocial-progetto/src/overlaps_topics/overlap_topics.py\u001b[0m in \u001b[0;36mclique_percolation_method\u001b[0;34m(self)\u001b[0m\n\u001b[1;32m    132\u001b[0m         \u001b[0mcommunities\u001b[0m \u001b[0;34m=\u001b[0m \u001b[0mk_clique_communities\u001b[0m\u001b[0;34m(\u001b[0m\u001b[0mG\u001b[0m \u001b[0;34m=\u001b[0m \u001b[0mself\u001b[0m\u001b[0;34m.\u001b[0m\u001b[0m__year_sub_graph\u001b[0m\u001b[0;34m,\u001b[0m \u001b[0mk\u001b[0m \u001b[0;34m=\u001b[0m \u001b[0;36m2\u001b[0m\u001b[0;34m)\u001b[0m\u001b[0;34m\u001b[0m\u001b[0;34m\u001b[0m\u001b[0m\n\u001b[1;32m    133\u001b[0m         \u001b[0;32mfor\u001b[0m \u001b[0mtopic\u001b[0m \u001b[0;32min\u001b[0m \u001b[0mcommunities\u001b[0m\u001b[0;34m:\u001b[0m\u001b[0;34m\u001b[0m\u001b[0;34m\u001b[0m\u001b[0m\n\u001b[0;32m--> 134\u001b[0;31m             \u001b[0mself\u001b[0m\u001b[0;34m.\u001b[0m\u001b[0mcheck_keywords\u001b[0m\u001b[0;34m(\u001b[0m\u001b[0mtopic\u001b[0m\u001b[0;34m)\u001b[0m\u001b[0;34m\u001b[0m\u001b[0;34m\u001b[0m\u001b[0m\n\u001b[0m\u001b[1;32m    135\u001b[0m             \u001b[0mself\u001b[0m\u001b[0;34m.\u001b[0m\u001b[0m__topics\u001b[0m\u001b[0;34m.\u001b[0m\u001b[0mappend\u001b[0m\u001b[0;34m(\u001b[0m\u001b[0mlist\u001b[0m\u001b[0;34m(\u001b[0m\u001b[0mtopic\u001b[0m\u001b[0;34m)\u001b[0m\u001b[0;34m)\u001b[0m\u001b[0;34m\u001b[0m\u001b[0;34m\u001b[0m\u001b[0m\n\u001b[1;32m    136\u001b[0m \u001b[0;34m\u001b[0m\u001b[0m\n",
      "\u001b[0;32m~/Universita/magistrale/web_and_social_information_extraction/webandsocial-progetto/src/overlaps_topics/overlap_topics.py\u001b[0m in \u001b[0;36mcheck_keywords\u001b[0;34m(self, topic)\u001b[0m\n\u001b[1;32m    119\u001b[0m \u001b[0;34m\u001b[0m\u001b[0m\n\u001b[1;32m    120\u001b[0m         \u001b[0;32mif\u001b[0m \u001b[0;32mnot\u001b[0m \u001b[0mregular\u001b[0m\u001b[0;34m:\u001b[0m\u001b[0;34m\u001b[0m\u001b[0;34m\u001b[0m\u001b[0m\n\u001b[0;32m--> 121\u001b[0;31m             \u001b[0;32mraise\u001b[0m \u001b[0mexcpt\u001b[0m\u001b[0;34m.\u001b[0m\u001b[0mTopicMalFormedException\u001b[0m\u001b[0;34m(\u001b[0m\u001b[0;34m\"Topic bad formed.\"\u001b[0m\u001b[0;34m)\u001b[0m\u001b[0;34m\u001b[0m\u001b[0;34m\u001b[0m\u001b[0m\n\u001b[0m\u001b[1;32m    122\u001b[0m \u001b[0;34m\u001b[0m\u001b[0m\n\u001b[1;32m    123\u001b[0m \u001b[0;34m\u001b[0m\u001b[0m\n",
      "\u001b[0;31mTopicMalFormedException\u001b[0m: Topic bad formed."
     ]
    }
   ],
   "source": [
    "overlap_merge_view_deg_neg(2016, k = 5)"
   ]
  },
  {
   "cell_type": "markdown",
   "metadata": {},
   "source": [
    "### Year 2017"
   ]
  },
  {
   "cell_type": "code",
   "execution_count": 59,
   "metadata": {},
   "outputs": [
    {
     "name": "stdout",
     "output_type": "stream",
     "text": [
      "OVERLAP MERGING RESULT WITH CLIQUE PERCOLATION METHOD, TIPPING MODEL, SEED TOP 5 NODES AND DEG THRESHOLD CALCULATION STRATEGY.\n",
      "\n",
      "['sawtooth (cellular automaton)', 'sampling - surgical action', 'adversarial examples', 'british informatics olympiad', 'adversarial inputs', 'firefly algorithm', 'controllers', 'neural coding', 'random forest', 'numerical method', 'fuzzy control system', 'dynamical system', 'estimated', 'gradient descent', 'sensor', 'spectral leakage', 'autoencoder', 'cluster analysis', 'wireless sensor networks\\xa0', 'hopfield network', 'triangular matrix', 'global optimization\\xa0', 'time complexity', 'numerical analysis', 'data synchronization', 'neural network simulation', 'convolutional neural network', 'memristor', 'initial condition', 'anatomy regional', 'baxter (robot)', 'simulation', 'high- and low-level', 'feedback', 'reinforcement learning', 'two-factors second-order fuzzy-trend logical relationship groups', 'cognitive radio', \"jensen's inequality\", 'statistical cluster', 'inference', 'global exponential stability', 'next-generation network', 'semiconductor industry', 'nonlinear system', 'binary code', 'outline of object recognition', 'sampling (signal processing)', 'polynomial', 'association rule learning', 'long short-term memory', 'open problem', 'lyapunov fractal', 'samuel j leffler', 'computation', 'control theory', 'algorithm', 'artificial neural network', 'quality of service', 'feature selection', 'input lag', 'throughput', 'experiment', 'network packet', 'genetic algorithm', 'dual', 'optimization problem', 'swarm intelligence', 'recursion', 'computer vision', 'cloud computing', 'converge', 'scheduling (computing)', 'recurrent neural network', 'particle swarm optimization', 'deep learning', 'convolution', 'swarm intelligence\\xa0', 'premature convergence', 'sparse matrix', 'differential evolution', 'multi-objective optimization', 'benchmark (computing)', 'heuristic', 'linear matrix inequality', 'big data', 'force misclassification', 'firefly algorithm (fa)\\xa0', 'sensitivity and specificity', 'control system', 'inverted pendulum', 'routing', 'approximation', 'approximation algorithm', 'encoder', 'firefly (cache coherence protocol)', 'mathematical optimization', 'social inequality', 'interference (communication)', 'natural language processing', 'machine learning']\n",
      "len_topic: 100\n",
      "\n",
      "['dimensional vector representations', 'vast majority', 'node attributes', 'link prediction', 'network embedding', 'proposed framework']\n",
      "len_topic: 6\n",
      "\n"
     ]
    }
   ],
   "source": [
    "overlap_merge_view_deg(2017, k = 5)"
   ]
  },
  {
   "cell_type": "code",
   "execution_count": 60,
   "metadata": {},
   "outputs": [
    {
     "name": "stdout",
     "output_type": "stream",
     "text": [
      "OVERLAP MERGING RESULT WITH CLIQUE PERCOLATION METHOD, TIPPING MODEL, SEED TOP 5 NODES AND HALF THRESHOLD CALCULATION STRATEGY.\n",
      "\n",
      "['samuel j leffler', 'adversarial examples', 'british informatics olympiad', 'computation', 'algorithm', 'artificial neural network', 'adversarial inputs', 'neural coding', 'random forest', 'genetic algorithm', 'dual', 'optimization problem', 'dynamical system', 'fuzzy control system', 'estimated', 'gradient descent', 'sensor', 'cloud computing', 'autoencoder', 'scheduling (computing)', 'time complexity', 'deep learning', 'outline of object recognition', 'memristor', 'initial condition', 'sparse matrix', 'differential evolution', 'anatomy regional', 'multi-objective optimization', 'big data', 'force misclassification', 'simulation', 'high- and low-level', 'reinforcement learning', 'control system', 'mathematical optimization', 'interference (communication)', 'machine learning', 'polynomial', 'long short-term memory', 'open problem']\n",
      "len_topic: 41\n",
      "\n",
      "['dimensional vector representations', 'vast majority', 'node attributes', 'link prediction', 'network embedding', 'proposed framework']\n",
      "len_topic: 6\n",
      "\n"
     ]
    }
   ],
   "source": [
    "overlap_merge_view_half(2017, k = 5)"
   ]
  },
  {
   "cell_type": "code",
   "execution_count": 61,
   "metadata": {},
   "outputs": [
    {
     "ename": "TopicMalFormedException",
     "evalue": "Topic bad formed.",
     "output_type": "error",
     "traceback": [
      "\u001b[0;31m---------------------------------------------------------------------------\u001b[0m",
      "\u001b[0;31mTopicMalFormedException\u001b[0m                   Traceback (most recent call last)",
      "\u001b[0;32m<ipython-input-61-c75853368ee2>\u001b[0m in \u001b[0;36m<module>\u001b[0;34m\u001b[0m\n\u001b[0;32m----> 1\u001b[0;31m \u001b[0moverlap_merge_view_deg_neg\u001b[0m\u001b[0;34m(\u001b[0m\u001b[0;36m2017\u001b[0m\u001b[0;34m,\u001b[0m \u001b[0mk\u001b[0m \u001b[0;34m=\u001b[0m \u001b[0;36m5\u001b[0m\u001b[0;34m)\u001b[0m\u001b[0;34m\u001b[0m\u001b[0;34m\u001b[0m\u001b[0m\n\u001b[0m",
      "\u001b[0;32m<ipython-input-6-aa88f64ba5fa>\u001b[0m in \u001b[0;36moverlap_merge_view_deg_neg\u001b[0;34m(year, k)\u001b[0m\n\u001b[1;32m     19\u001b[0m     \u001b[0mspread_dict\u001b[0m\u001b[0;34m[\u001b[0m\u001b[0mstr\u001b[0m\u001b[0;34m(\u001b[0m\u001b[0myear\u001b[0m\u001b[0;34m)\u001b[0m\u001b[0;34m]\u001b[0m\u001b[0;34m.\u001b[0m\u001b[0mtipping_model\u001b[0m\u001b[0;34m(\u001b[0m\u001b[0;34m)\u001b[0m\u001b[0;34m\u001b[0m\u001b[0;34m\u001b[0m\u001b[0m\n\u001b[1;32m     20\u001b[0m     \u001b[0mtipping_deg_neg\u001b[0m \u001b[0;34m=\u001b[0m \u001b[0mspread_dict\u001b[0m\u001b[0;34m[\u001b[0m\u001b[0mstr\u001b[0m\u001b[0;34m(\u001b[0m\u001b[0myear\u001b[0m\u001b[0;34m)\u001b[0m\u001b[0;34m]\u001b[0m\u001b[0;34m.\u001b[0m\u001b[0mget_influenced_nodes\u001b[0m\u001b[0;34m(\u001b[0m\u001b[0;34m)\u001b[0m\u001b[0;34m\u001b[0m\u001b[0;34m\u001b[0m\u001b[0m\n\u001b[0;32m---> 21\u001b[0;31m     \u001b[0mtopics_deg_neg\u001b[0m \u001b[0;34m=\u001b[0m \u001b[0moverlap_perform\u001b[0m\u001b[0;34m(\u001b[0m\u001b[0myear\u001b[0m\u001b[0;34m,\u001b[0m \u001b[0mtipping_deg_neg\u001b[0m\u001b[0;34m,\u001b[0m \u001b[0mk\u001b[0m\u001b[0;34m)\u001b[0m\u001b[0;34m\u001b[0m\u001b[0;34m\u001b[0m\u001b[0m\n\u001b[0m\u001b[1;32m     22\u001b[0m     \u001b[0mto_print\u001b[0m\u001b[0;34m(\u001b[0m\u001b[0mtopics_deg_neg\u001b[0m\u001b[0;34m,\u001b[0m \u001b[0;34m\"tipping\"\u001b[0m\u001b[0;34m,\u001b[0m \u001b[0mk\u001b[0m\u001b[0;34m,\u001b[0m \u001b[0;34m\"deg negative\"\u001b[0m\u001b[0;34m)\u001b[0m\u001b[0;34m\u001b[0m\u001b[0;34m\u001b[0m\u001b[0m\n",
      "\u001b[0;32m<ipython-input-5-60ae7201d3cc>\u001b[0m in \u001b[0;36moverlap_perform\u001b[0;34m(year, all_topics, k)\u001b[0m\n\u001b[1;32m      2\u001b[0m     \u001b[0moverlap\u001b[0m \u001b[0;34m=\u001b[0m \u001b[0mov\u001b[0m\u001b[0;34m.\u001b[0m\u001b[0mOverlapTopics\u001b[0m\u001b[0;34m(\u001b[0m\u001b[0mgraph_timeline_dict\u001b[0m\u001b[0;34m[\u001b[0m\u001b[0mstr\u001b[0m\u001b[0;34m(\u001b[0m\u001b[0myear\u001b[0m\u001b[0;34m)\u001b[0m\u001b[0;34m]\u001b[0m\u001b[0;34m,\u001b[0m \u001b[0mall_topics\u001b[0m\u001b[0;34m,\u001b[0m \u001b[0mk\u001b[0m\u001b[0;34m)\u001b[0m\u001b[0;34m\u001b[0m\u001b[0;34m\u001b[0m\u001b[0m\n\u001b[1;32m      3\u001b[0m     \u001b[0moverlap\u001b[0m\u001b[0;34m.\u001b[0m\u001b[0moverlap_preprocessing\u001b[0m\u001b[0;34m(\u001b[0m\u001b[0;34m)\u001b[0m\u001b[0;34m\u001b[0m\u001b[0;34m\u001b[0m\u001b[0m\n\u001b[0;32m----> 4\u001b[0;31m     \u001b[0moverlap\u001b[0m\u001b[0;34m.\u001b[0m\u001b[0mclique_percolation_method\u001b[0m\u001b[0;34m(\u001b[0m\u001b[0;34m)\u001b[0m\u001b[0;34m\u001b[0m\u001b[0;34m\u001b[0m\u001b[0m\n\u001b[0m\u001b[1;32m      5\u001b[0m     \u001b[0moverlap\u001b[0m\u001b[0;34m.\u001b[0m\u001b[0mcheck_spread_topics\u001b[0m\u001b[0;34m(\u001b[0m\u001b[0;34m)\u001b[0m\u001b[0;34m\u001b[0m\u001b[0;34m\u001b[0m\u001b[0m\n\u001b[1;32m      6\u001b[0m     \u001b[0moverlap\u001b[0m\u001b[0;34m.\u001b[0m\u001b[0mcheck_number_topics\u001b[0m\u001b[0;34m(\u001b[0m\u001b[0;34m)\u001b[0m\u001b[0;34m\u001b[0m\u001b[0;34m\u001b[0m\u001b[0m\n",
      "\u001b[0;32m~/Universita/magistrale/web_and_social_information_extraction/webandsocial-progetto/src/overlaps_topics/overlap_topics.py\u001b[0m in \u001b[0;36mclique_percolation_method\u001b[0;34m(self)\u001b[0m\n\u001b[1;32m    132\u001b[0m         \u001b[0mcommunities\u001b[0m \u001b[0;34m=\u001b[0m \u001b[0mk_clique_communities\u001b[0m\u001b[0;34m(\u001b[0m\u001b[0mG\u001b[0m \u001b[0;34m=\u001b[0m \u001b[0mself\u001b[0m\u001b[0;34m.\u001b[0m\u001b[0m__year_sub_graph\u001b[0m\u001b[0;34m,\u001b[0m \u001b[0mk\u001b[0m \u001b[0;34m=\u001b[0m \u001b[0;36m2\u001b[0m\u001b[0;34m)\u001b[0m\u001b[0;34m\u001b[0m\u001b[0;34m\u001b[0m\u001b[0m\n\u001b[1;32m    133\u001b[0m         \u001b[0;32mfor\u001b[0m \u001b[0mtopic\u001b[0m \u001b[0;32min\u001b[0m \u001b[0mcommunities\u001b[0m\u001b[0;34m:\u001b[0m\u001b[0;34m\u001b[0m\u001b[0;34m\u001b[0m\u001b[0m\n\u001b[0;32m--> 134\u001b[0;31m             \u001b[0mself\u001b[0m\u001b[0;34m.\u001b[0m\u001b[0mcheck_keywords\u001b[0m\u001b[0;34m(\u001b[0m\u001b[0mtopic\u001b[0m\u001b[0;34m)\u001b[0m\u001b[0;34m\u001b[0m\u001b[0;34m\u001b[0m\u001b[0m\n\u001b[0m\u001b[1;32m    135\u001b[0m             \u001b[0mself\u001b[0m\u001b[0;34m.\u001b[0m\u001b[0m__topics\u001b[0m\u001b[0;34m.\u001b[0m\u001b[0mappend\u001b[0m\u001b[0;34m(\u001b[0m\u001b[0mlist\u001b[0m\u001b[0;34m(\u001b[0m\u001b[0mtopic\u001b[0m\u001b[0;34m)\u001b[0m\u001b[0;34m)\u001b[0m\u001b[0;34m\u001b[0m\u001b[0;34m\u001b[0m\u001b[0m\n\u001b[1;32m    136\u001b[0m \u001b[0;34m\u001b[0m\u001b[0m\n",
      "\u001b[0;32m~/Universita/magistrale/web_and_social_information_extraction/webandsocial-progetto/src/overlaps_topics/overlap_topics.py\u001b[0m in \u001b[0;36mcheck_keywords\u001b[0;34m(self, topic)\u001b[0m\n\u001b[1;32m    119\u001b[0m \u001b[0;34m\u001b[0m\u001b[0m\n\u001b[1;32m    120\u001b[0m         \u001b[0;32mif\u001b[0m \u001b[0;32mnot\u001b[0m \u001b[0mregular\u001b[0m\u001b[0;34m:\u001b[0m\u001b[0;34m\u001b[0m\u001b[0;34m\u001b[0m\u001b[0m\n\u001b[0;32m--> 121\u001b[0;31m             \u001b[0;32mraise\u001b[0m \u001b[0mexcpt\u001b[0m\u001b[0;34m.\u001b[0m\u001b[0mTopicMalFormedException\u001b[0m\u001b[0;34m(\u001b[0m\u001b[0;34m\"Topic bad formed.\"\u001b[0m\u001b[0;34m)\u001b[0m\u001b[0;34m\u001b[0m\u001b[0;34m\u001b[0m\u001b[0m\n\u001b[0m\u001b[1;32m    122\u001b[0m \u001b[0;34m\u001b[0m\u001b[0m\n\u001b[1;32m    123\u001b[0m \u001b[0;34m\u001b[0m\u001b[0m\n",
      "\u001b[0;31mTopicMalFormedException\u001b[0m: Topic bad formed."
     ]
    }
   ],
   "source": [
    "overlap_merge_view_deg_neg(2017, k = 5)"
   ]
  },
  {
   "cell_type": "markdown",
   "metadata": {},
   "source": [
    "### Year 2018 "
   ]
  },
  {
   "cell_type": "code",
   "execution_count": 62,
   "metadata": {},
   "outputs": [
    {
     "name": "stdout",
     "output_type": "stream",
     "text": [
      "OVERLAP MERGING RESULT WITH CLIQUE PERCOLATION METHOD, TIPPING MODEL, SEED TOP 5 NODES AND DEG THRESHOLD CALCULATION STRATEGY.\n",
      "\n",
      "['evolutionary algorithms', 'multi-user', 'iterative method', '34c27\\xa0', 'system dynamics', 'closed-circuit television', 'training data', 'fuzzy control system', 'hearing loss high-frequency', 'spectral leakage', 'autoencoder', 'computational complexity theory', 'anomaly detection', 'prime-factor fft algorithm', 'hopfield network', 'time complexity', 'numerical analysis', '92c20\\xa0', 'neural network simulation', 'radio frequency', 'memristor', 'convolutional neural network', 'biologic preservation', 'crafted neuron network', 'simulation', 'expectation propagation', 'reinforcement learning', 'loss function', 'cognitive radio', 'data compression', '37b25\\xa0', 'impulse\\xa0', 'interaction', 'semiconductor industry', 'fixed-point theorem', 'nonlinear system', 'telecommunications network', 'detection tasks', 'mimo', 'lyapunov fractal', 'active learning (machine learning)', 'neural networks', 'existing approaches', 'spectral density', 'algorithm', 'artificial neural network', 'support vector machine', 'critical scenarios', 'predictive failure analysis', 'analysis of algorithms', 'anatomical layer', 'throughput', 'experiment', 'pid', 'end-to-end principle', 'network packet', 'optimization problem', 'biological neural networks', 'swarm intelligence', 'numerous', 'particle swarm optimization\\xa0', 'correctness (computer science)', 'converge', 'optimal control', 'scheduling (computing)', 'embedded system', 'particle swarm optimization', 'memristor-based switching networks\\xa0', 'deep learning', 'entropy maximization', 'bit error rate', 'frequency band', 'differential evolution', 'computer simulation', 'direct method in the calculus of variations', 'new data', 'linear matrix inequality', 'benchmark (computing)', 'experimental results', 'approximation algorithm', 'approximation', 'mathematical optimization', 'smart battery system', 'multitier architecture', 'social inequality', 'bands', 'privacy', 'interference (communication)', 'driven programming paradigm', 'machine learning', 'telecommunications link', 'word lists by frequency']\n",
      "len_topic: 92\n",
      "\n"
     ]
    }
   ],
   "source": [
    "overlap_merge_view_deg(2018, k = 5)"
   ]
  },
  {
   "cell_type": "code",
   "execution_count": 63,
   "metadata": {},
   "outputs": [
    {
     "name": "stdout",
     "output_type": "stream",
     "text": [
      "OVERLAP MERGING RESULT WITH CLIQUE PERCOLATION METHOD, TIPPING MODEL, SEED TOP 5 NODES AND HALF THRESHOLD CALCULATION STRATEGY.\n",
      "\n",
      "['evolutionary algorithms', 'algorithm', 'differential evolution', 'artificial neural network', 'support vector machine', 'simulation', 'throughput', 'pid', 'system dynamics', 'biological neural networks', 'swarm intelligence', 'approximation algorithm', 'numerous', 'approximation', 'mathematical optimization', 'particle swarm optimization\\xa0', 'hearing loss high-frequency', 'interaction', 'bands', 'autoencoder', 'optimal control', 'telecommunications network', 'nonlinear system', 'anomaly detection', 'machine learning', 'semiconductor industry', 'particle swarm optimization', 'word lists by frequency', 'numerical analysis']\n",
      "len_topic: 29\n",
      "\n"
     ]
    }
   ],
   "source": [
    "overlap_merge_view_half(2018, k = 5)"
   ]
  },
  {
   "cell_type": "code",
   "execution_count": 64,
   "metadata": {},
   "outputs": [
    {
     "ename": "TopicMalFormedException",
     "evalue": "Topic bad formed.",
     "output_type": "error",
     "traceback": [
      "\u001b[0;31m---------------------------------------------------------------------------\u001b[0m",
      "\u001b[0;31mTopicMalFormedException\u001b[0m                   Traceback (most recent call last)",
      "\u001b[0;32m<ipython-input-64-58b2764ed7a2>\u001b[0m in \u001b[0;36m<module>\u001b[0;34m\u001b[0m\n\u001b[0;32m----> 1\u001b[0;31m \u001b[0moverlap_merge_view_deg_neg\u001b[0m\u001b[0;34m(\u001b[0m\u001b[0;36m2018\u001b[0m\u001b[0;34m,\u001b[0m \u001b[0mk\u001b[0m \u001b[0;34m=\u001b[0m \u001b[0;36m5\u001b[0m\u001b[0;34m)\u001b[0m\u001b[0;34m\u001b[0m\u001b[0;34m\u001b[0m\u001b[0m\n\u001b[0m",
      "\u001b[0;32m<ipython-input-6-aa88f64ba5fa>\u001b[0m in \u001b[0;36moverlap_merge_view_deg_neg\u001b[0;34m(year, k)\u001b[0m\n\u001b[1;32m     19\u001b[0m     \u001b[0mspread_dict\u001b[0m\u001b[0;34m[\u001b[0m\u001b[0mstr\u001b[0m\u001b[0;34m(\u001b[0m\u001b[0myear\u001b[0m\u001b[0;34m)\u001b[0m\u001b[0;34m]\u001b[0m\u001b[0;34m.\u001b[0m\u001b[0mtipping_model\u001b[0m\u001b[0;34m(\u001b[0m\u001b[0;34m)\u001b[0m\u001b[0;34m\u001b[0m\u001b[0;34m\u001b[0m\u001b[0m\n\u001b[1;32m     20\u001b[0m     \u001b[0mtipping_deg_neg\u001b[0m \u001b[0;34m=\u001b[0m \u001b[0mspread_dict\u001b[0m\u001b[0;34m[\u001b[0m\u001b[0mstr\u001b[0m\u001b[0;34m(\u001b[0m\u001b[0myear\u001b[0m\u001b[0;34m)\u001b[0m\u001b[0;34m]\u001b[0m\u001b[0;34m.\u001b[0m\u001b[0mget_influenced_nodes\u001b[0m\u001b[0;34m(\u001b[0m\u001b[0;34m)\u001b[0m\u001b[0;34m\u001b[0m\u001b[0;34m\u001b[0m\u001b[0m\n\u001b[0;32m---> 21\u001b[0;31m     \u001b[0mtopics_deg_neg\u001b[0m \u001b[0;34m=\u001b[0m \u001b[0moverlap_perform\u001b[0m\u001b[0;34m(\u001b[0m\u001b[0myear\u001b[0m\u001b[0;34m,\u001b[0m \u001b[0mtipping_deg_neg\u001b[0m\u001b[0;34m,\u001b[0m \u001b[0mk\u001b[0m\u001b[0;34m)\u001b[0m\u001b[0;34m\u001b[0m\u001b[0;34m\u001b[0m\u001b[0m\n\u001b[0m\u001b[1;32m     22\u001b[0m     \u001b[0mto_print\u001b[0m\u001b[0;34m(\u001b[0m\u001b[0mtopics_deg_neg\u001b[0m\u001b[0;34m,\u001b[0m \u001b[0;34m\"tipping\"\u001b[0m\u001b[0;34m,\u001b[0m \u001b[0mk\u001b[0m\u001b[0;34m,\u001b[0m \u001b[0;34m\"deg negative\"\u001b[0m\u001b[0;34m)\u001b[0m\u001b[0;34m\u001b[0m\u001b[0;34m\u001b[0m\u001b[0m\n",
      "\u001b[0;32m<ipython-input-5-60ae7201d3cc>\u001b[0m in \u001b[0;36moverlap_perform\u001b[0;34m(year, all_topics, k)\u001b[0m\n\u001b[1;32m      2\u001b[0m     \u001b[0moverlap\u001b[0m \u001b[0;34m=\u001b[0m \u001b[0mov\u001b[0m\u001b[0;34m.\u001b[0m\u001b[0mOverlapTopics\u001b[0m\u001b[0;34m(\u001b[0m\u001b[0mgraph_timeline_dict\u001b[0m\u001b[0;34m[\u001b[0m\u001b[0mstr\u001b[0m\u001b[0;34m(\u001b[0m\u001b[0myear\u001b[0m\u001b[0;34m)\u001b[0m\u001b[0;34m]\u001b[0m\u001b[0;34m,\u001b[0m \u001b[0mall_topics\u001b[0m\u001b[0;34m,\u001b[0m \u001b[0mk\u001b[0m\u001b[0;34m)\u001b[0m\u001b[0;34m\u001b[0m\u001b[0;34m\u001b[0m\u001b[0m\n\u001b[1;32m      3\u001b[0m     \u001b[0moverlap\u001b[0m\u001b[0;34m.\u001b[0m\u001b[0moverlap_preprocessing\u001b[0m\u001b[0;34m(\u001b[0m\u001b[0;34m)\u001b[0m\u001b[0;34m\u001b[0m\u001b[0;34m\u001b[0m\u001b[0m\n\u001b[0;32m----> 4\u001b[0;31m     \u001b[0moverlap\u001b[0m\u001b[0;34m.\u001b[0m\u001b[0mclique_percolation_method\u001b[0m\u001b[0;34m(\u001b[0m\u001b[0;34m)\u001b[0m\u001b[0;34m\u001b[0m\u001b[0;34m\u001b[0m\u001b[0m\n\u001b[0m\u001b[1;32m      5\u001b[0m     \u001b[0moverlap\u001b[0m\u001b[0;34m.\u001b[0m\u001b[0mcheck_spread_topics\u001b[0m\u001b[0;34m(\u001b[0m\u001b[0;34m)\u001b[0m\u001b[0;34m\u001b[0m\u001b[0;34m\u001b[0m\u001b[0m\n\u001b[1;32m      6\u001b[0m     \u001b[0moverlap\u001b[0m\u001b[0;34m.\u001b[0m\u001b[0mcheck_number_topics\u001b[0m\u001b[0;34m(\u001b[0m\u001b[0;34m)\u001b[0m\u001b[0;34m\u001b[0m\u001b[0;34m\u001b[0m\u001b[0m\n",
      "\u001b[0;32m~/Universita/magistrale/web_and_social_information_extraction/webandsocial-progetto/src/overlaps_topics/overlap_topics.py\u001b[0m in \u001b[0;36mclique_percolation_method\u001b[0;34m(self)\u001b[0m\n\u001b[1;32m    132\u001b[0m         \u001b[0mcommunities\u001b[0m \u001b[0;34m=\u001b[0m \u001b[0mk_clique_communities\u001b[0m\u001b[0;34m(\u001b[0m\u001b[0mG\u001b[0m \u001b[0;34m=\u001b[0m \u001b[0mself\u001b[0m\u001b[0;34m.\u001b[0m\u001b[0m__year_sub_graph\u001b[0m\u001b[0;34m,\u001b[0m \u001b[0mk\u001b[0m \u001b[0;34m=\u001b[0m \u001b[0;36m2\u001b[0m\u001b[0;34m)\u001b[0m\u001b[0;34m\u001b[0m\u001b[0;34m\u001b[0m\u001b[0m\n\u001b[1;32m    133\u001b[0m         \u001b[0;32mfor\u001b[0m \u001b[0mtopic\u001b[0m \u001b[0;32min\u001b[0m \u001b[0mcommunities\u001b[0m\u001b[0;34m:\u001b[0m\u001b[0;34m\u001b[0m\u001b[0;34m\u001b[0m\u001b[0m\n\u001b[0;32m--> 134\u001b[0;31m             \u001b[0mself\u001b[0m\u001b[0;34m.\u001b[0m\u001b[0mcheck_keywords\u001b[0m\u001b[0;34m(\u001b[0m\u001b[0mtopic\u001b[0m\u001b[0;34m)\u001b[0m\u001b[0;34m\u001b[0m\u001b[0;34m\u001b[0m\u001b[0m\n\u001b[0m\u001b[1;32m    135\u001b[0m             \u001b[0mself\u001b[0m\u001b[0;34m.\u001b[0m\u001b[0m__topics\u001b[0m\u001b[0;34m.\u001b[0m\u001b[0mappend\u001b[0m\u001b[0;34m(\u001b[0m\u001b[0mlist\u001b[0m\u001b[0;34m(\u001b[0m\u001b[0mtopic\u001b[0m\u001b[0;34m)\u001b[0m\u001b[0;34m)\u001b[0m\u001b[0;34m\u001b[0m\u001b[0;34m\u001b[0m\u001b[0m\n\u001b[1;32m    136\u001b[0m \u001b[0;34m\u001b[0m\u001b[0m\n",
      "\u001b[0;32m~/Universita/magistrale/web_and_social_information_extraction/webandsocial-progetto/src/overlaps_topics/overlap_topics.py\u001b[0m in \u001b[0;36mcheck_keywords\u001b[0;34m(self, topic)\u001b[0m\n\u001b[1;32m    119\u001b[0m \u001b[0;34m\u001b[0m\u001b[0m\n\u001b[1;32m    120\u001b[0m         \u001b[0;32mif\u001b[0m \u001b[0;32mnot\u001b[0m \u001b[0mregular\u001b[0m\u001b[0;34m:\u001b[0m\u001b[0;34m\u001b[0m\u001b[0;34m\u001b[0m\u001b[0m\n\u001b[0;32m--> 121\u001b[0;31m             \u001b[0;32mraise\u001b[0m \u001b[0mexcpt\u001b[0m\u001b[0;34m.\u001b[0m\u001b[0mTopicMalFormedException\u001b[0m\u001b[0;34m(\u001b[0m\u001b[0;34m\"Topic bad formed.\"\u001b[0m\u001b[0;34m)\u001b[0m\u001b[0;34m\u001b[0m\u001b[0;34m\u001b[0m\u001b[0m\n\u001b[0m\u001b[1;32m    122\u001b[0m \u001b[0;34m\u001b[0m\u001b[0m\n\u001b[1;32m    123\u001b[0m \u001b[0;34m\u001b[0m\u001b[0m\n",
      "\u001b[0;31mTopicMalFormedException\u001b[0m: Topic bad formed."
     ]
    }
   ],
   "source": [
    "overlap_merge_view_deg_neg(2018, k = 5)"
   ]
  },
  {
   "cell_type": "markdown",
   "metadata": {},
   "source": [
    "## Overlap merge with k = 10"
   ]
  },
  {
   "cell_type": "markdown",
   "metadata": {},
   "source": [
    "Applications of all configuration of Tipping Model with seed size 10"
   ]
  },
  {
   "cell_type": "code",
   "execution_count": 65,
   "metadata": {},
   "outputs": [],
   "source": [
    "spread_to_overlap_timeline_k(k = 10)"
   ]
  },
  {
   "cell_type": "markdown",
   "metadata": {},
   "source": [
    "### Year 2000"
   ]
  },
  {
   "cell_type": "code",
   "execution_count": 66,
   "metadata": {},
   "outputs": [
    {
     "name": "stdout",
     "output_type": "stream",
     "text": [
      "OVERLAP MERGING RESULT WITH CLIQUE PERCOLATION METHOD, TIPPING MODEL, SEED TOP 10 NODES AND DEG THRESHOLD CALCULATION STRATEGY.\n",
      "\n",
      "['delay', '43.80.+p', 'periodic solution', 'lyapunov functional']\n",
      "len_topic: 4\n",
      "\n",
      "['artificial neural network', 'neural network simulation']\n",
      "len_topic: 2\n",
      "\n",
      "['feature vector', 'experiment', 'support vector machine']\n",
      "len_topic: 3\n",
      "\n",
      "['simulation', 'nonlinear system', 'motion estimation\\xa0']\n",
      "len_topic: 3\n",
      "\n"
     ]
    }
   ],
   "source": [
    "overlap_merge_view_deg(2000, k = 10)"
   ]
  },
  {
   "cell_type": "code",
   "execution_count": 67,
   "metadata": {},
   "outputs": [
    {
     "name": "stdout",
     "output_type": "stream",
     "text": [
      "OVERLAP MERGING RESULT WITH CLIQUE PERCOLATION METHOD, TIPPING MODEL, SEED TOP 10 NODES AND HALF THRESHOLD CALCULATION STRATEGY.\n",
      "\n",
      "['delay', '43.80.+p', 'periodic solution', 'lyapunov functional']\n",
      "len_topic: 4\n",
      "\n",
      "['artificial neural network', 'neural network simulation']\n",
      "len_topic: 2\n",
      "\n",
      "['feature vector', 'experiment', 'support vector machine']\n",
      "len_topic: 3\n",
      "\n",
      "['simulation', 'nonlinear system', 'motion estimation\\xa0']\n",
      "len_topic: 3\n",
      "\n"
     ]
    }
   ],
   "source": [
    "overlap_merge_view_half(2000, k = 10)"
   ]
  },
  {
   "cell_type": "code",
   "execution_count": 68,
   "metadata": {},
   "outputs": [
    {
     "name": "stdout",
     "output_type": "stream",
     "text": [
      "OVERLAP MERGING RESULT WITH CLIQUE PERCOLATION METHOD, TIPPING MODEL, SEED TOP 10 NODES AND DEG NEGATIVE THRESHOLD CALCULATION STRATEGY.\n",
      "\n",
      "['delay', '43.80.+p', 'periodic solution', 'lyapunov functional']\n",
      "len_topic: 4\n",
      "\n",
      "['artificial neural network', 'neural network simulation']\n",
      "len_topic: 2\n",
      "\n",
      "['feature vector', 'experiment', 'support vector machine']\n",
      "len_topic: 3\n",
      "\n",
      "['simulation', 'nonlinear system', 'motion estimation\\xa0']\n",
      "len_topic: 3\n",
      "\n"
     ]
    }
   ],
   "source": [
    "overlap_merge_view_deg_neg(2000, k = 10)"
   ]
  },
  {
   "cell_type": "markdown",
   "metadata": {},
   "source": [
    "### Year 2001"
   ]
  },
  {
   "cell_type": "code",
   "execution_count": 69,
   "metadata": {},
   "outputs": [
    {
     "name": "stdout",
     "output_type": "stream",
     "text": [
      "OVERLAP MERGING RESULT WITH CLIQUE PERCOLATION METHOD, TIPPING MODEL, SEED TOP 10 NODES AND DEG THRESHOLD CALCULATION STRATEGY.\n",
      "\n",
      "['linear systems', 'stochastic processes', 'laboratories', 'fading', 'deconvolution', 'smoothing methods', 'computer simulation', 'monte carlo methods', 'particle filters', 'filtering algorithms', 'signal processing', 'bayesian methods', 'filtering', 'state estimation', 'mathematics', 'state-space methods', 'signal processing algorithms']\n",
      "len_topic: 17\n",
      "\n",
      "['cluster analysis', 'real life', 'algorithm', 'artificial neural network', 'feedforward neural network']\n",
      "len_topic: 5\n",
      "\n",
      "['useful tools', 'domain ontologies', 'widely acknowledged']\n",
      "len_topic: 3\n",
      "\n"
     ]
    }
   ],
   "source": [
    "overlap_merge_view_deg(2001, k = 10)"
   ]
  },
  {
   "cell_type": "code",
   "execution_count": 70,
   "metadata": {},
   "outputs": [
    {
     "name": "stdout",
     "output_type": "stream",
     "text": [
      "OVERLAP MERGING RESULT WITH CLIQUE PERCOLATION METHOD, TIPPING MODEL, SEED TOP 10 NODES AND HALF THRESHOLD CALCULATION STRATEGY.\n",
      "\n",
      "['linear systems', 'stochastic processes', 'laboratories', 'fading', 'deconvolution', 'smoothing methods', 'computer simulation', 'monte carlo methods', 'particle filters', 'filtering algorithms', 'signal processing', 'bayesian methods', 'filtering', 'state estimation', 'mathematics', 'state-space methods', 'signal processing algorithms']\n",
      "len_topic: 17\n",
      "\n",
      "['cluster analysis', 'real life', 'algorithm', 'artificial neural network', 'feedforward neural network']\n",
      "len_topic: 5\n",
      "\n",
      "['useful tools', 'domain ontologies', 'widely acknowledged']\n",
      "len_topic: 3\n",
      "\n"
     ]
    }
   ],
   "source": [
    "overlap_merge_view_half(2001, k = 10)"
   ]
  },
  {
   "cell_type": "code",
   "execution_count": 71,
   "metadata": {},
   "outputs": [
    {
     "ename": "TopicMalFormedException",
     "evalue": "Topic bad formed.",
     "output_type": "error",
     "traceback": [
      "\u001b[0;31m---------------------------------------------------------------------------\u001b[0m",
      "\u001b[0;31mTopicMalFormedException\u001b[0m                   Traceback (most recent call last)",
      "\u001b[0;32m<ipython-input-71-6764feb606dd>\u001b[0m in \u001b[0;36m<module>\u001b[0;34m\u001b[0m\n\u001b[0;32m----> 1\u001b[0;31m \u001b[0moverlap_merge_view_deg_neg\u001b[0m\u001b[0;34m(\u001b[0m\u001b[0;36m2001\u001b[0m\u001b[0;34m,\u001b[0m \u001b[0mk\u001b[0m \u001b[0;34m=\u001b[0m \u001b[0;36m10\u001b[0m\u001b[0;34m)\u001b[0m\u001b[0;34m\u001b[0m\u001b[0;34m\u001b[0m\u001b[0m\n\u001b[0m",
      "\u001b[0;32m<ipython-input-6-aa88f64ba5fa>\u001b[0m in \u001b[0;36moverlap_merge_view_deg_neg\u001b[0;34m(year, k)\u001b[0m\n\u001b[1;32m     19\u001b[0m     \u001b[0mspread_dict\u001b[0m\u001b[0;34m[\u001b[0m\u001b[0mstr\u001b[0m\u001b[0;34m(\u001b[0m\u001b[0myear\u001b[0m\u001b[0;34m)\u001b[0m\u001b[0;34m]\u001b[0m\u001b[0;34m.\u001b[0m\u001b[0mtipping_model\u001b[0m\u001b[0;34m(\u001b[0m\u001b[0;34m)\u001b[0m\u001b[0;34m\u001b[0m\u001b[0;34m\u001b[0m\u001b[0m\n\u001b[1;32m     20\u001b[0m     \u001b[0mtipping_deg_neg\u001b[0m \u001b[0;34m=\u001b[0m \u001b[0mspread_dict\u001b[0m\u001b[0;34m[\u001b[0m\u001b[0mstr\u001b[0m\u001b[0;34m(\u001b[0m\u001b[0myear\u001b[0m\u001b[0;34m)\u001b[0m\u001b[0;34m]\u001b[0m\u001b[0;34m.\u001b[0m\u001b[0mget_influenced_nodes\u001b[0m\u001b[0;34m(\u001b[0m\u001b[0;34m)\u001b[0m\u001b[0;34m\u001b[0m\u001b[0;34m\u001b[0m\u001b[0m\n\u001b[0;32m---> 21\u001b[0;31m     \u001b[0mtopics_deg_neg\u001b[0m \u001b[0;34m=\u001b[0m \u001b[0moverlap_perform\u001b[0m\u001b[0;34m(\u001b[0m\u001b[0myear\u001b[0m\u001b[0;34m,\u001b[0m \u001b[0mtipping_deg_neg\u001b[0m\u001b[0;34m,\u001b[0m \u001b[0mk\u001b[0m\u001b[0;34m)\u001b[0m\u001b[0;34m\u001b[0m\u001b[0;34m\u001b[0m\u001b[0m\n\u001b[0m\u001b[1;32m     22\u001b[0m     \u001b[0mto_print\u001b[0m\u001b[0;34m(\u001b[0m\u001b[0mtopics_deg_neg\u001b[0m\u001b[0;34m,\u001b[0m \u001b[0;34m\"tipping\"\u001b[0m\u001b[0;34m,\u001b[0m \u001b[0mk\u001b[0m\u001b[0;34m,\u001b[0m \u001b[0;34m\"deg negative\"\u001b[0m\u001b[0;34m)\u001b[0m\u001b[0;34m\u001b[0m\u001b[0;34m\u001b[0m\u001b[0m\n",
      "\u001b[0;32m<ipython-input-5-60ae7201d3cc>\u001b[0m in \u001b[0;36moverlap_perform\u001b[0;34m(year, all_topics, k)\u001b[0m\n\u001b[1;32m      2\u001b[0m     \u001b[0moverlap\u001b[0m \u001b[0;34m=\u001b[0m \u001b[0mov\u001b[0m\u001b[0;34m.\u001b[0m\u001b[0mOverlapTopics\u001b[0m\u001b[0;34m(\u001b[0m\u001b[0mgraph_timeline_dict\u001b[0m\u001b[0;34m[\u001b[0m\u001b[0mstr\u001b[0m\u001b[0;34m(\u001b[0m\u001b[0myear\u001b[0m\u001b[0;34m)\u001b[0m\u001b[0;34m]\u001b[0m\u001b[0;34m,\u001b[0m \u001b[0mall_topics\u001b[0m\u001b[0;34m,\u001b[0m \u001b[0mk\u001b[0m\u001b[0;34m)\u001b[0m\u001b[0;34m\u001b[0m\u001b[0;34m\u001b[0m\u001b[0m\n\u001b[1;32m      3\u001b[0m     \u001b[0moverlap\u001b[0m\u001b[0;34m.\u001b[0m\u001b[0moverlap_preprocessing\u001b[0m\u001b[0;34m(\u001b[0m\u001b[0;34m)\u001b[0m\u001b[0;34m\u001b[0m\u001b[0;34m\u001b[0m\u001b[0m\n\u001b[0;32m----> 4\u001b[0;31m     \u001b[0moverlap\u001b[0m\u001b[0;34m.\u001b[0m\u001b[0mclique_percolation_method\u001b[0m\u001b[0;34m(\u001b[0m\u001b[0;34m)\u001b[0m\u001b[0;34m\u001b[0m\u001b[0;34m\u001b[0m\u001b[0m\n\u001b[0m\u001b[1;32m      5\u001b[0m     \u001b[0moverlap\u001b[0m\u001b[0;34m.\u001b[0m\u001b[0mcheck_spread_topics\u001b[0m\u001b[0;34m(\u001b[0m\u001b[0;34m)\u001b[0m\u001b[0;34m\u001b[0m\u001b[0;34m\u001b[0m\u001b[0m\n\u001b[1;32m      6\u001b[0m     \u001b[0moverlap\u001b[0m\u001b[0;34m.\u001b[0m\u001b[0mcheck_number_topics\u001b[0m\u001b[0;34m(\u001b[0m\u001b[0;34m)\u001b[0m\u001b[0;34m\u001b[0m\u001b[0;34m\u001b[0m\u001b[0m\n",
      "\u001b[0;32m~/Universita/magistrale/web_and_social_information_extraction/webandsocial-progetto/src/overlaps_topics/overlap_topics.py\u001b[0m in \u001b[0;36mclique_percolation_method\u001b[0;34m(self)\u001b[0m\n\u001b[1;32m    132\u001b[0m         \u001b[0mcommunities\u001b[0m \u001b[0;34m=\u001b[0m \u001b[0mk_clique_communities\u001b[0m\u001b[0;34m(\u001b[0m\u001b[0mG\u001b[0m \u001b[0;34m=\u001b[0m \u001b[0mself\u001b[0m\u001b[0;34m.\u001b[0m\u001b[0m__year_sub_graph\u001b[0m\u001b[0;34m,\u001b[0m \u001b[0mk\u001b[0m \u001b[0;34m=\u001b[0m \u001b[0;36m2\u001b[0m\u001b[0;34m)\u001b[0m\u001b[0;34m\u001b[0m\u001b[0;34m\u001b[0m\u001b[0m\n\u001b[1;32m    133\u001b[0m         \u001b[0;32mfor\u001b[0m \u001b[0mtopic\u001b[0m \u001b[0;32min\u001b[0m \u001b[0mcommunities\u001b[0m\u001b[0;34m:\u001b[0m\u001b[0;34m\u001b[0m\u001b[0;34m\u001b[0m\u001b[0m\n\u001b[0;32m--> 134\u001b[0;31m             \u001b[0mself\u001b[0m\u001b[0;34m.\u001b[0m\u001b[0mcheck_keywords\u001b[0m\u001b[0;34m(\u001b[0m\u001b[0mtopic\u001b[0m\u001b[0;34m)\u001b[0m\u001b[0;34m\u001b[0m\u001b[0;34m\u001b[0m\u001b[0m\n\u001b[0m\u001b[1;32m    135\u001b[0m             \u001b[0mself\u001b[0m\u001b[0;34m.\u001b[0m\u001b[0m__topics\u001b[0m\u001b[0;34m.\u001b[0m\u001b[0mappend\u001b[0m\u001b[0;34m(\u001b[0m\u001b[0mlist\u001b[0m\u001b[0;34m(\u001b[0m\u001b[0mtopic\u001b[0m\u001b[0;34m)\u001b[0m\u001b[0;34m)\u001b[0m\u001b[0;34m\u001b[0m\u001b[0;34m\u001b[0m\u001b[0m\n\u001b[1;32m    136\u001b[0m \u001b[0;34m\u001b[0m\u001b[0m\n",
      "\u001b[0;32m~/Universita/magistrale/web_and_social_information_extraction/webandsocial-progetto/src/overlaps_topics/overlap_topics.py\u001b[0m in \u001b[0;36mcheck_keywords\u001b[0;34m(self, topic)\u001b[0m\n\u001b[1;32m    119\u001b[0m \u001b[0;34m\u001b[0m\u001b[0m\n\u001b[1;32m    120\u001b[0m         \u001b[0;32mif\u001b[0m \u001b[0;32mnot\u001b[0m \u001b[0mregular\u001b[0m\u001b[0;34m:\u001b[0m\u001b[0;34m\u001b[0m\u001b[0;34m\u001b[0m\u001b[0m\n\u001b[0;32m--> 121\u001b[0;31m             \u001b[0;32mraise\u001b[0m \u001b[0mexcpt\u001b[0m\u001b[0;34m.\u001b[0m\u001b[0mTopicMalFormedException\u001b[0m\u001b[0;34m(\u001b[0m\u001b[0;34m\"Topic bad formed.\"\u001b[0m\u001b[0;34m)\u001b[0m\u001b[0;34m\u001b[0m\u001b[0;34m\u001b[0m\u001b[0m\n\u001b[0m\u001b[1;32m    122\u001b[0m \u001b[0;34m\u001b[0m\u001b[0m\n\u001b[1;32m    123\u001b[0m \u001b[0;34m\u001b[0m\u001b[0m\n",
      "\u001b[0;31mTopicMalFormedException\u001b[0m: Topic bad formed."
     ]
    }
   ],
   "source": [
    "overlap_merge_view_deg_neg(2001, k = 10)"
   ]
  },
  {
   "cell_type": "markdown",
   "metadata": {},
   "source": [
    "### Year 2002"
   ]
  },
  {
   "cell_type": "code",
   "execution_count": 72,
   "metadata": {},
   "outputs": [
    {
     "name": "stdout",
     "output_type": "stream",
     "text": [
      "OVERLAP MERGING RESULT WITH CLIQUE PERCOLATION METHOD, TIPPING MODEL, SEED TOP 10 NODES AND DEG THRESHOLD CALCULATION STRATEGY.\n",
      "\n",
      "['lyapunov function', 'global exponential stability']\n",
      "len_topic: 2\n",
      "\n",
      "['unsupervised learning', 'important method', 'independent component analysis', 'overcomplete situation', 'blind source separation']\n",
      "len_topic: 5\n",
      "\n",
      "['bayesian methods', 'speech processing', 'monte carlo methods', 'signal processing']\n",
      "len_topic: 4\n",
      "\n",
      "['state estimation', 'filtering algorithms']\n",
      "len_topic: 2\n",
      "\n"
     ]
    }
   ],
   "source": [
    "overlap_merge_view_deg(2002, k = 10)"
   ]
  },
  {
   "cell_type": "code",
   "execution_count": 73,
   "metadata": {},
   "outputs": [
    {
     "name": "stdout",
     "output_type": "stream",
     "text": [
      "OVERLAP MERGING RESULT WITH CLIQUE PERCOLATION METHOD, TIPPING MODEL, SEED TOP 10 NODES AND HALF THRESHOLD CALCULATION STRATEGY.\n",
      "\n",
      "['lyapunov function', 'global exponential stability']\n",
      "len_topic: 2\n",
      "\n",
      "['unsupervised learning', 'important method', 'independent component analysis', 'overcomplete situation', 'blind source separation']\n",
      "len_topic: 5\n",
      "\n",
      "['bayesian methods', 'speech processing', 'monte carlo methods', 'signal processing']\n",
      "len_topic: 4\n",
      "\n",
      "['state estimation', 'filtering algorithms']\n",
      "len_topic: 2\n",
      "\n"
     ]
    }
   ],
   "source": [
    "overlap_merge_view_half(2002, k = 10)"
   ]
  },
  {
   "cell_type": "code",
   "execution_count": 74,
   "metadata": {},
   "outputs": [
    {
     "ename": "TopicMalFormedException",
     "evalue": "Topic bad formed.",
     "output_type": "error",
     "traceback": [
      "\u001b[0;31m---------------------------------------------------------------------------\u001b[0m",
      "\u001b[0;31mTopicMalFormedException\u001b[0m                   Traceback (most recent call last)",
      "\u001b[0;32m<ipython-input-74-11e87813e04e>\u001b[0m in \u001b[0;36m<module>\u001b[0;34m\u001b[0m\n\u001b[0;32m----> 1\u001b[0;31m \u001b[0moverlap_merge_view_deg_neg\u001b[0m\u001b[0;34m(\u001b[0m\u001b[0;36m2002\u001b[0m\u001b[0;34m,\u001b[0m \u001b[0mk\u001b[0m \u001b[0;34m=\u001b[0m \u001b[0;36m10\u001b[0m\u001b[0;34m)\u001b[0m\u001b[0;34m\u001b[0m\u001b[0;34m\u001b[0m\u001b[0m\n\u001b[0m",
      "\u001b[0;32m<ipython-input-6-aa88f64ba5fa>\u001b[0m in \u001b[0;36moverlap_merge_view_deg_neg\u001b[0;34m(year, k)\u001b[0m\n\u001b[1;32m     19\u001b[0m     \u001b[0mspread_dict\u001b[0m\u001b[0;34m[\u001b[0m\u001b[0mstr\u001b[0m\u001b[0;34m(\u001b[0m\u001b[0myear\u001b[0m\u001b[0;34m)\u001b[0m\u001b[0;34m]\u001b[0m\u001b[0;34m.\u001b[0m\u001b[0mtipping_model\u001b[0m\u001b[0;34m(\u001b[0m\u001b[0;34m)\u001b[0m\u001b[0;34m\u001b[0m\u001b[0;34m\u001b[0m\u001b[0m\n\u001b[1;32m     20\u001b[0m     \u001b[0mtipping_deg_neg\u001b[0m \u001b[0;34m=\u001b[0m \u001b[0mspread_dict\u001b[0m\u001b[0;34m[\u001b[0m\u001b[0mstr\u001b[0m\u001b[0;34m(\u001b[0m\u001b[0myear\u001b[0m\u001b[0;34m)\u001b[0m\u001b[0;34m]\u001b[0m\u001b[0;34m.\u001b[0m\u001b[0mget_influenced_nodes\u001b[0m\u001b[0;34m(\u001b[0m\u001b[0;34m)\u001b[0m\u001b[0;34m\u001b[0m\u001b[0;34m\u001b[0m\u001b[0m\n\u001b[0;32m---> 21\u001b[0;31m     \u001b[0mtopics_deg_neg\u001b[0m \u001b[0;34m=\u001b[0m \u001b[0moverlap_perform\u001b[0m\u001b[0;34m(\u001b[0m\u001b[0myear\u001b[0m\u001b[0;34m,\u001b[0m \u001b[0mtipping_deg_neg\u001b[0m\u001b[0;34m,\u001b[0m \u001b[0mk\u001b[0m\u001b[0;34m)\u001b[0m\u001b[0;34m\u001b[0m\u001b[0;34m\u001b[0m\u001b[0m\n\u001b[0m\u001b[1;32m     22\u001b[0m     \u001b[0mto_print\u001b[0m\u001b[0;34m(\u001b[0m\u001b[0mtopics_deg_neg\u001b[0m\u001b[0;34m,\u001b[0m \u001b[0;34m\"tipping\"\u001b[0m\u001b[0;34m,\u001b[0m \u001b[0mk\u001b[0m\u001b[0;34m,\u001b[0m \u001b[0;34m\"deg negative\"\u001b[0m\u001b[0;34m)\u001b[0m\u001b[0;34m\u001b[0m\u001b[0;34m\u001b[0m\u001b[0m\n",
      "\u001b[0;32m<ipython-input-5-60ae7201d3cc>\u001b[0m in \u001b[0;36moverlap_perform\u001b[0;34m(year, all_topics, k)\u001b[0m\n\u001b[1;32m      2\u001b[0m     \u001b[0moverlap\u001b[0m \u001b[0;34m=\u001b[0m \u001b[0mov\u001b[0m\u001b[0;34m.\u001b[0m\u001b[0mOverlapTopics\u001b[0m\u001b[0;34m(\u001b[0m\u001b[0mgraph_timeline_dict\u001b[0m\u001b[0;34m[\u001b[0m\u001b[0mstr\u001b[0m\u001b[0;34m(\u001b[0m\u001b[0myear\u001b[0m\u001b[0;34m)\u001b[0m\u001b[0;34m]\u001b[0m\u001b[0;34m,\u001b[0m \u001b[0mall_topics\u001b[0m\u001b[0;34m,\u001b[0m \u001b[0mk\u001b[0m\u001b[0;34m)\u001b[0m\u001b[0;34m\u001b[0m\u001b[0;34m\u001b[0m\u001b[0m\n\u001b[1;32m      3\u001b[0m     \u001b[0moverlap\u001b[0m\u001b[0;34m.\u001b[0m\u001b[0moverlap_preprocessing\u001b[0m\u001b[0;34m(\u001b[0m\u001b[0;34m)\u001b[0m\u001b[0;34m\u001b[0m\u001b[0;34m\u001b[0m\u001b[0m\n\u001b[0;32m----> 4\u001b[0;31m     \u001b[0moverlap\u001b[0m\u001b[0;34m.\u001b[0m\u001b[0mclique_percolation_method\u001b[0m\u001b[0;34m(\u001b[0m\u001b[0;34m)\u001b[0m\u001b[0;34m\u001b[0m\u001b[0;34m\u001b[0m\u001b[0m\n\u001b[0m\u001b[1;32m      5\u001b[0m     \u001b[0moverlap\u001b[0m\u001b[0;34m.\u001b[0m\u001b[0mcheck_spread_topics\u001b[0m\u001b[0;34m(\u001b[0m\u001b[0;34m)\u001b[0m\u001b[0;34m\u001b[0m\u001b[0;34m\u001b[0m\u001b[0m\n\u001b[1;32m      6\u001b[0m     \u001b[0moverlap\u001b[0m\u001b[0;34m.\u001b[0m\u001b[0mcheck_number_topics\u001b[0m\u001b[0;34m(\u001b[0m\u001b[0;34m)\u001b[0m\u001b[0;34m\u001b[0m\u001b[0;34m\u001b[0m\u001b[0m\n",
      "\u001b[0;32m~/Universita/magistrale/web_and_social_information_extraction/webandsocial-progetto/src/overlaps_topics/overlap_topics.py\u001b[0m in \u001b[0;36mclique_percolation_method\u001b[0;34m(self)\u001b[0m\n\u001b[1;32m    132\u001b[0m         \u001b[0mcommunities\u001b[0m \u001b[0;34m=\u001b[0m \u001b[0mk_clique_communities\u001b[0m\u001b[0;34m(\u001b[0m\u001b[0mG\u001b[0m \u001b[0;34m=\u001b[0m \u001b[0mself\u001b[0m\u001b[0;34m.\u001b[0m\u001b[0m__year_sub_graph\u001b[0m\u001b[0;34m,\u001b[0m \u001b[0mk\u001b[0m \u001b[0;34m=\u001b[0m \u001b[0;36m2\u001b[0m\u001b[0;34m)\u001b[0m\u001b[0;34m\u001b[0m\u001b[0;34m\u001b[0m\u001b[0m\n\u001b[1;32m    133\u001b[0m         \u001b[0;32mfor\u001b[0m \u001b[0mtopic\u001b[0m \u001b[0;32min\u001b[0m \u001b[0mcommunities\u001b[0m\u001b[0;34m:\u001b[0m\u001b[0;34m\u001b[0m\u001b[0;34m\u001b[0m\u001b[0m\n\u001b[0;32m--> 134\u001b[0;31m             \u001b[0mself\u001b[0m\u001b[0;34m.\u001b[0m\u001b[0mcheck_keywords\u001b[0m\u001b[0;34m(\u001b[0m\u001b[0mtopic\u001b[0m\u001b[0;34m)\u001b[0m\u001b[0;34m\u001b[0m\u001b[0;34m\u001b[0m\u001b[0m\n\u001b[0m\u001b[1;32m    135\u001b[0m             \u001b[0mself\u001b[0m\u001b[0;34m.\u001b[0m\u001b[0m__topics\u001b[0m\u001b[0;34m.\u001b[0m\u001b[0mappend\u001b[0m\u001b[0;34m(\u001b[0m\u001b[0mlist\u001b[0m\u001b[0;34m(\u001b[0m\u001b[0mtopic\u001b[0m\u001b[0;34m)\u001b[0m\u001b[0;34m)\u001b[0m\u001b[0;34m\u001b[0m\u001b[0;34m\u001b[0m\u001b[0m\n\u001b[1;32m    136\u001b[0m \u001b[0;34m\u001b[0m\u001b[0m\n",
      "\u001b[0;32m~/Universita/magistrale/web_and_social_information_extraction/webandsocial-progetto/src/overlaps_topics/overlap_topics.py\u001b[0m in \u001b[0;36mcheck_keywords\u001b[0;34m(self, topic)\u001b[0m\n\u001b[1;32m    119\u001b[0m \u001b[0;34m\u001b[0m\u001b[0m\n\u001b[1;32m    120\u001b[0m         \u001b[0;32mif\u001b[0m \u001b[0;32mnot\u001b[0m \u001b[0mregular\u001b[0m\u001b[0;34m:\u001b[0m\u001b[0;34m\u001b[0m\u001b[0;34m\u001b[0m\u001b[0m\n\u001b[0;32m--> 121\u001b[0;31m             \u001b[0;32mraise\u001b[0m \u001b[0mexcpt\u001b[0m\u001b[0;34m.\u001b[0m\u001b[0mTopicMalFormedException\u001b[0m\u001b[0;34m(\u001b[0m\u001b[0;34m\"Topic bad formed.\"\u001b[0m\u001b[0;34m)\u001b[0m\u001b[0;34m\u001b[0m\u001b[0;34m\u001b[0m\u001b[0m\n\u001b[0m\u001b[1;32m    122\u001b[0m \u001b[0;34m\u001b[0m\u001b[0m\n\u001b[1;32m    123\u001b[0m \u001b[0;34m\u001b[0m\u001b[0m\n",
      "\u001b[0;31mTopicMalFormedException\u001b[0m: Topic bad formed."
     ]
    }
   ],
   "source": [
    "overlap_merge_view_deg_neg(2002, k = 10)"
   ]
  },
  {
   "cell_type": "markdown",
   "metadata": {},
   "source": [
    "### Year 2003 "
   ]
  },
  {
   "cell_type": "code",
   "execution_count": 75,
   "metadata": {},
   "outputs": [
    {
     "name": "stdout",
     "output_type": "stream",
     "text": [
      "OVERLAP MERGING RESULT WITH CLIQUE PERCOLATION METHOD, TIPPING MODEL, SEED TOP 10 NODES AND DEG THRESHOLD CALCULATION STRATEGY.\n",
      "\n",
      "['neural networks', 'sufficient conditions', '87.18.sn', '85.40.ls', 'global exponential stability', 'lyapunov functional', '87.10.+e', 'periodic solution', 'global asymptotic stability', 'young inequality', '43.80.+p', 'recurrent neural networks']\n",
      "len_topic: 12\n",
      "\n",
      "['scheduling (computing)', 'random number generation', 'computation', 'grid computing', 'monte carlo method']\n",
      "len_topic: 5\n",
      "\n",
      "['real life', 'scalability', 'algorithm', 'feature vector', 'heuristic', 'first-order predicate', 'pattern recognition', 'really simple discovery', 'dimensionality reduction', 'singular value decomposition']\n",
      "len_topic: 10\n",
      "\n"
     ]
    }
   ],
   "source": [
    "overlap_merge_view_deg(2003, k = 10)"
   ]
  },
  {
   "cell_type": "code",
   "execution_count": 76,
   "metadata": {},
   "outputs": [
    {
     "name": "stdout",
     "output_type": "stream",
     "text": [
      "OVERLAP MERGING RESULT WITH CLIQUE PERCOLATION METHOD, TIPPING MODEL, SEED TOP 10 NODES AND HALF THRESHOLD CALCULATION STRATEGY.\n",
      "\n",
      "['neural networks', 'sufficient conditions', '87.18.sn', '85.40.ls', 'global exponential stability', 'lyapunov functional', '87.10.+e', 'periodic solution', 'global asymptotic stability', 'young inequality', '43.80.+p', 'recurrent neural networks']\n",
      "len_topic: 12\n",
      "\n",
      "['random number generation', 'computation']\n",
      "len_topic: 2\n",
      "\n",
      "['real life', 'scalability', 'algorithm', 'feature vector', 'heuristic', 'first-order predicate', 'pattern recognition', 'really simple discovery', 'dimensionality reduction', 'singular value decomposition']\n",
      "len_topic: 10\n",
      "\n"
     ]
    }
   ],
   "source": [
    "overlap_merge_view_half(2003, k = 10)"
   ]
  },
  {
   "cell_type": "code",
   "execution_count": 77,
   "metadata": {},
   "outputs": [
    {
     "ename": "TopicMalFormedException",
     "evalue": "Topic bad formed.",
     "output_type": "error",
     "traceback": [
      "\u001b[0;31m---------------------------------------------------------------------------\u001b[0m",
      "\u001b[0;31mTopicMalFormedException\u001b[0m                   Traceback (most recent call last)",
      "\u001b[0;32m<ipython-input-77-5704fb13f44d>\u001b[0m in \u001b[0;36m<module>\u001b[0;34m\u001b[0m\n\u001b[0;32m----> 1\u001b[0;31m \u001b[0moverlap_merge_view_deg_neg\u001b[0m\u001b[0;34m(\u001b[0m\u001b[0;36m2003\u001b[0m\u001b[0;34m,\u001b[0m \u001b[0mk\u001b[0m \u001b[0;34m=\u001b[0m \u001b[0;36m10\u001b[0m\u001b[0;34m)\u001b[0m\u001b[0;34m\u001b[0m\u001b[0;34m\u001b[0m\u001b[0m\n\u001b[0m",
      "\u001b[0;32m<ipython-input-6-aa88f64ba5fa>\u001b[0m in \u001b[0;36moverlap_merge_view_deg_neg\u001b[0;34m(year, k)\u001b[0m\n\u001b[1;32m     19\u001b[0m     \u001b[0mspread_dict\u001b[0m\u001b[0;34m[\u001b[0m\u001b[0mstr\u001b[0m\u001b[0;34m(\u001b[0m\u001b[0myear\u001b[0m\u001b[0;34m)\u001b[0m\u001b[0;34m]\u001b[0m\u001b[0;34m.\u001b[0m\u001b[0mtipping_model\u001b[0m\u001b[0;34m(\u001b[0m\u001b[0;34m)\u001b[0m\u001b[0;34m\u001b[0m\u001b[0;34m\u001b[0m\u001b[0m\n\u001b[1;32m     20\u001b[0m     \u001b[0mtipping_deg_neg\u001b[0m \u001b[0;34m=\u001b[0m \u001b[0mspread_dict\u001b[0m\u001b[0;34m[\u001b[0m\u001b[0mstr\u001b[0m\u001b[0;34m(\u001b[0m\u001b[0myear\u001b[0m\u001b[0;34m)\u001b[0m\u001b[0;34m]\u001b[0m\u001b[0;34m.\u001b[0m\u001b[0mget_influenced_nodes\u001b[0m\u001b[0;34m(\u001b[0m\u001b[0;34m)\u001b[0m\u001b[0;34m\u001b[0m\u001b[0;34m\u001b[0m\u001b[0m\n\u001b[0;32m---> 21\u001b[0;31m     \u001b[0mtopics_deg_neg\u001b[0m \u001b[0;34m=\u001b[0m \u001b[0moverlap_perform\u001b[0m\u001b[0;34m(\u001b[0m\u001b[0myear\u001b[0m\u001b[0;34m,\u001b[0m \u001b[0mtipping_deg_neg\u001b[0m\u001b[0;34m,\u001b[0m \u001b[0mk\u001b[0m\u001b[0;34m)\u001b[0m\u001b[0;34m\u001b[0m\u001b[0;34m\u001b[0m\u001b[0m\n\u001b[0m\u001b[1;32m     22\u001b[0m     \u001b[0mto_print\u001b[0m\u001b[0;34m(\u001b[0m\u001b[0mtopics_deg_neg\u001b[0m\u001b[0;34m,\u001b[0m \u001b[0;34m\"tipping\"\u001b[0m\u001b[0;34m,\u001b[0m \u001b[0mk\u001b[0m\u001b[0;34m,\u001b[0m \u001b[0;34m\"deg negative\"\u001b[0m\u001b[0;34m)\u001b[0m\u001b[0;34m\u001b[0m\u001b[0;34m\u001b[0m\u001b[0m\n",
      "\u001b[0;32m<ipython-input-5-60ae7201d3cc>\u001b[0m in \u001b[0;36moverlap_perform\u001b[0;34m(year, all_topics, k)\u001b[0m\n\u001b[1;32m      2\u001b[0m     \u001b[0moverlap\u001b[0m \u001b[0;34m=\u001b[0m \u001b[0mov\u001b[0m\u001b[0;34m.\u001b[0m\u001b[0mOverlapTopics\u001b[0m\u001b[0;34m(\u001b[0m\u001b[0mgraph_timeline_dict\u001b[0m\u001b[0;34m[\u001b[0m\u001b[0mstr\u001b[0m\u001b[0;34m(\u001b[0m\u001b[0myear\u001b[0m\u001b[0;34m)\u001b[0m\u001b[0;34m]\u001b[0m\u001b[0;34m,\u001b[0m \u001b[0mall_topics\u001b[0m\u001b[0;34m,\u001b[0m \u001b[0mk\u001b[0m\u001b[0;34m)\u001b[0m\u001b[0;34m\u001b[0m\u001b[0;34m\u001b[0m\u001b[0m\n\u001b[1;32m      3\u001b[0m     \u001b[0moverlap\u001b[0m\u001b[0;34m.\u001b[0m\u001b[0moverlap_preprocessing\u001b[0m\u001b[0;34m(\u001b[0m\u001b[0;34m)\u001b[0m\u001b[0;34m\u001b[0m\u001b[0;34m\u001b[0m\u001b[0m\n\u001b[0;32m----> 4\u001b[0;31m     \u001b[0moverlap\u001b[0m\u001b[0;34m.\u001b[0m\u001b[0mclique_percolation_method\u001b[0m\u001b[0;34m(\u001b[0m\u001b[0;34m)\u001b[0m\u001b[0;34m\u001b[0m\u001b[0;34m\u001b[0m\u001b[0m\n\u001b[0m\u001b[1;32m      5\u001b[0m     \u001b[0moverlap\u001b[0m\u001b[0;34m.\u001b[0m\u001b[0mcheck_spread_topics\u001b[0m\u001b[0;34m(\u001b[0m\u001b[0;34m)\u001b[0m\u001b[0;34m\u001b[0m\u001b[0;34m\u001b[0m\u001b[0m\n\u001b[1;32m      6\u001b[0m     \u001b[0moverlap\u001b[0m\u001b[0;34m.\u001b[0m\u001b[0mcheck_number_topics\u001b[0m\u001b[0;34m(\u001b[0m\u001b[0;34m)\u001b[0m\u001b[0;34m\u001b[0m\u001b[0;34m\u001b[0m\u001b[0m\n",
      "\u001b[0;32m~/Universita/magistrale/web_and_social_information_extraction/webandsocial-progetto/src/overlaps_topics/overlap_topics.py\u001b[0m in \u001b[0;36mclique_percolation_method\u001b[0;34m(self)\u001b[0m\n\u001b[1;32m    132\u001b[0m         \u001b[0mcommunities\u001b[0m \u001b[0;34m=\u001b[0m \u001b[0mk_clique_communities\u001b[0m\u001b[0;34m(\u001b[0m\u001b[0mG\u001b[0m \u001b[0;34m=\u001b[0m \u001b[0mself\u001b[0m\u001b[0;34m.\u001b[0m\u001b[0m__year_sub_graph\u001b[0m\u001b[0;34m,\u001b[0m \u001b[0mk\u001b[0m \u001b[0;34m=\u001b[0m \u001b[0;36m2\u001b[0m\u001b[0;34m)\u001b[0m\u001b[0;34m\u001b[0m\u001b[0;34m\u001b[0m\u001b[0m\n\u001b[1;32m    133\u001b[0m         \u001b[0;32mfor\u001b[0m \u001b[0mtopic\u001b[0m \u001b[0;32min\u001b[0m \u001b[0mcommunities\u001b[0m\u001b[0;34m:\u001b[0m\u001b[0;34m\u001b[0m\u001b[0;34m\u001b[0m\u001b[0m\n\u001b[0;32m--> 134\u001b[0;31m             \u001b[0mself\u001b[0m\u001b[0;34m.\u001b[0m\u001b[0mcheck_keywords\u001b[0m\u001b[0;34m(\u001b[0m\u001b[0mtopic\u001b[0m\u001b[0;34m)\u001b[0m\u001b[0;34m\u001b[0m\u001b[0;34m\u001b[0m\u001b[0m\n\u001b[0m\u001b[1;32m    135\u001b[0m             \u001b[0mself\u001b[0m\u001b[0;34m.\u001b[0m\u001b[0m__topics\u001b[0m\u001b[0;34m.\u001b[0m\u001b[0mappend\u001b[0m\u001b[0;34m(\u001b[0m\u001b[0mlist\u001b[0m\u001b[0;34m(\u001b[0m\u001b[0mtopic\u001b[0m\u001b[0;34m)\u001b[0m\u001b[0;34m)\u001b[0m\u001b[0;34m\u001b[0m\u001b[0;34m\u001b[0m\u001b[0m\n\u001b[1;32m    136\u001b[0m \u001b[0;34m\u001b[0m\u001b[0m\n",
      "\u001b[0;32m~/Universita/magistrale/web_and_social_information_extraction/webandsocial-progetto/src/overlaps_topics/overlap_topics.py\u001b[0m in \u001b[0;36mcheck_keywords\u001b[0;34m(self, topic)\u001b[0m\n\u001b[1;32m    119\u001b[0m \u001b[0;34m\u001b[0m\u001b[0m\n\u001b[1;32m    120\u001b[0m         \u001b[0;32mif\u001b[0m \u001b[0;32mnot\u001b[0m \u001b[0mregular\u001b[0m\u001b[0;34m:\u001b[0m\u001b[0;34m\u001b[0m\u001b[0;34m\u001b[0m\u001b[0m\n\u001b[0;32m--> 121\u001b[0;31m             \u001b[0;32mraise\u001b[0m \u001b[0mexcpt\u001b[0m\u001b[0;34m.\u001b[0m\u001b[0mTopicMalFormedException\u001b[0m\u001b[0;34m(\u001b[0m\u001b[0;34m\"Topic bad formed.\"\u001b[0m\u001b[0;34m)\u001b[0m\u001b[0;34m\u001b[0m\u001b[0;34m\u001b[0m\u001b[0m\n\u001b[0m\u001b[1;32m    122\u001b[0m \u001b[0;34m\u001b[0m\u001b[0m\n\u001b[1;32m    123\u001b[0m \u001b[0;34m\u001b[0m\u001b[0m\n",
      "\u001b[0;31mTopicMalFormedException\u001b[0m: Topic bad formed."
     ]
    }
   ],
   "source": [
    "overlap_merge_view_deg_neg(2003, k = 10)"
   ]
  },
  {
   "cell_type": "markdown",
   "metadata": {},
   "source": [
    "### Year 2004"
   ]
  },
  {
   "cell_type": "code",
   "execution_count": 78,
   "metadata": {},
   "outputs": [
    {
     "name": "stdout",
     "output_type": "stream",
     "text": [
      "OVERLAP MERGING RESULT WITH CLIQUE PERCOLATION METHOD, TIPPING MODEL, SEED TOP 10 NODES AND DEG THRESHOLD CALCULATION STRATEGY.\n",
      "\n",
      "['real life', 'apache ant (another neat tool)', 'algorithm', 'rule (guideline)', 'heuristic', 'apriori algorithm', 'subgroup a nepoviruses', 'ant colony optimization algorithms', 'consortium', 'large', 'stochastic process', 'reinforcement learning', 'roc curve', 'class', 'biasing']\n",
      "len_topic: 15\n",
      "\n",
      "['linear discriminant analysis', 'particle swarm optimization', 'experiment', 'benchmark (computing)', 'mathematical optimization']\n",
      "len_topic: 5\n",
      "\n",
      "['user study', 'uniform approach', 'consistent view', 'previous work shows', 'multiple segments', 'differentiating noisy', 'link analysis', 'web page']\n",
      "len_topic: 8\n",
      "\n"
     ]
    }
   ],
   "source": [
    "overlap_merge_view_deg(2004, k = 10)"
   ]
  },
  {
   "cell_type": "code",
   "execution_count": 79,
   "metadata": {},
   "outputs": [
    {
     "name": "stdout",
     "output_type": "stream",
     "text": [
      "OVERLAP MERGING RESULT WITH CLIQUE PERCOLATION METHOD, TIPPING MODEL, SEED TOP 10 NODES AND HALF THRESHOLD CALCULATION STRATEGY.\n",
      "\n",
      "['real life', 'apache ant (another neat tool)', 'algorithm', 'rule (guideline)', 'heuristic', 'apriori algorithm', 'subgroup a nepoviruses', 'ant colony optimization algorithms', 'consortium', 'large', 'stochastic process', 'reinforcement learning', 'roc curve', 'class', 'biasing']\n",
      "len_topic: 15\n",
      "\n",
      "['linear discriminant analysis', 'particle swarm optimization', 'experiment', 'benchmark (computing)', 'mathematical optimization']\n",
      "len_topic: 5\n",
      "\n",
      "['user study', 'uniform approach', 'consistent view', 'previous work shows', 'multiple segments', 'differentiating noisy', 'link analysis', 'web page']\n",
      "len_topic: 8\n",
      "\n"
     ]
    }
   ],
   "source": [
    "overlap_merge_view_half(2004, k = 10)"
   ]
  },
  {
   "cell_type": "code",
   "execution_count": 80,
   "metadata": {},
   "outputs": [
    {
     "ename": "TopicMalFormedException",
     "evalue": "Topic bad formed.",
     "output_type": "error",
     "traceback": [
      "\u001b[0;31m---------------------------------------------------------------------------\u001b[0m",
      "\u001b[0;31mTopicMalFormedException\u001b[0m                   Traceback (most recent call last)",
      "\u001b[0;32m<ipython-input-80-e251d023c084>\u001b[0m in \u001b[0;36m<module>\u001b[0;34m\u001b[0m\n\u001b[0;32m----> 1\u001b[0;31m \u001b[0moverlap_merge_view_deg_neg\u001b[0m\u001b[0;34m(\u001b[0m\u001b[0;36m2004\u001b[0m\u001b[0;34m,\u001b[0m \u001b[0mk\u001b[0m \u001b[0;34m=\u001b[0m \u001b[0;36m10\u001b[0m\u001b[0;34m)\u001b[0m\u001b[0;34m\u001b[0m\u001b[0;34m\u001b[0m\u001b[0m\n\u001b[0m",
      "\u001b[0;32m<ipython-input-6-aa88f64ba5fa>\u001b[0m in \u001b[0;36moverlap_merge_view_deg_neg\u001b[0;34m(year, k)\u001b[0m\n\u001b[1;32m     19\u001b[0m     \u001b[0mspread_dict\u001b[0m\u001b[0;34m[\u001b[0m\u001b[0mstr\u001b[0m\u001b[0;34m(\u001b[0m\u001b[0myear\u001b[0m\u001b[0;34m)\u001b[0m\u001b[0;34m]\u001b[0m\u001b[0;34m.\u001b[0m\u001b[0mtipping_model\u001b[0m\u001b[0;34m(\u001b[0m\u001b[0;34m)\u001b[0m\u001b[0;34m\u001b[0m\u001b[0;34m\u001b[0m\u001b[0m\n\u001b[1;32m     20\u001b[0m     \u001b[0mtipping_deg_neg\u001b[0m \u001b[0;34m=\u001b[0m \u001b[0mspread_dict\u001b[0m\u001b[0;34m[\u001b[0m\u001b[0mstr\u001b[0m\u001b[0;34m(\u001b[0m\u001b[0myear\u001b[0m\u001b[0;34m)\u001b[0m\u001b[0;34m]\u001b[0m\u001b[0;34m.\u001b[0m\u001b[0mget_influenced_nodes\u001b[0m\u001b[0;34m(\u001b[0m\u001b[0;34m)\u001b[0m\u001b[0;34m\u001b[0m\u001b[0;34m\u001b[0m\u001b[0m\n\u001b[0;32m---> 21\u001b[0;31m     \u001b[0mtopics_deg_neg\u001b[0m \u001b[0;34m=\u001b[0m \u001b[0moverlap_perform\u001b[0m\u001b[0;34m(\u001b[0m\u001b[0myear\u001b[0m\u001b[0;34m,\u001b[0m \u001b[0mtipping_deg_neg\u001b[0m\u001b[0;34m,\u001b[0m \u001b[0mk\u001b[0m\u001b[0;34m)\u001b[0m\u001b[0;34m\u001b[0m\u001b[0;34m\u001b[0m\u001b[0m\n\u001b[0m\u001b[1;32m     22\u001b[0m     \u001b[0mto_print\u001b[0m\u001b[0;34m(\u001b[0m\u001b[0mtopics_deg_neg\u001b[0m\u001b[0;34m,\u001b[0m \u001b[0;34m\"tipping\"\u001b[0m\u001b[0;34m,\u001b[0m \u001b[0mk\u001b[0m\u001b[0;34m,\u001b[0m \u001b[0;34m\"deg negative\"\u001b[0m\u001b[0;34m)\u001b[0m\u001b[0;34m\u001b[0m\u001b[0;34m\u001b[0m\u001b[0m\n",
      "\u001b[0;32m<ipython-input-5-60ae7201d3cc>\u001b[0m in \u001b[0;36moverlap_perform\u001b[0;34m(year, all_topics, k)\u001b[0m\n\u001b[1;32m      2\u001b[0m     \u001b[0moverlap\u001b[0m \u001b[0;34m=\u001b[0m \u001b[0mov\u001b[0m\u001b[0;34m.\u001b[0m\u001b[0mOverlapTopics\u001b[0m\u001b[0;34m(\u001b[0m\u001b[0mgraph_timeline_dict\u001b[0m\u001b[0;34m[\u001b[0m\u001b[0mstr\u001b[0m\u001b[0;34m(\u001b[0m\u001b[0myear\u001b[0m\u001b[0;34m)\u001b[0m\u001b[0;34m]\u001b[0m\u001b[0;34m,\u001b[0m \u001b[0mall_topics\u001b[0m\u001b[0;34m,\u001b[0m \u001b[0mk\u001b[0m\u001b[0;34m)\u001b[0m\u001b[0;34m\u001b[0m\u001b[0;34m\u001b[0m\u001b[0m\n\u001b[1;32m      3\u001b[0m     \u001b[0moverlap\u001b[0m\u001b[0;34m.\u001b[0m\u001b[0moverlap_preprocessing\u001b[0m\u001b[0;34m(\u001b[0m\u001b[0;34m)\u001b[0m\u001b[0;34m\u001b[0m\u001b[0;34m\u001b[0m\u001b[0m\n\u001b[0;32m----> 4\u001b[0;31m     \u001b[0moverlap\u001b[0m\u001b[0;34m.\u001b[0m\u001b[0mclique_percolation_method\u001b[0m\u001b[0;34m(\u001b[0m\u001b[0;34m)\u001b[0m\u001b[0;34m\u001b[0m\u001b[0;34m\u001b[0m\u001b[0m\n\u001b[0m\u001b[1;32m      5\u001b[0m     \u001b[0moverlap\u001b[0m\u001b[0;34m.\u001b[0m\u001b[0mcheck_spread_topics\u001b[0m\u001b[0;34m(\u001b[0m\u001b[0;34m)\u001b[0m\u001b[0;34m\u001b[0m\u001b[0;34m\u001b[0m\u001b[0m\n\u001b[1;32m      6\u001b[0m     \u001b[0moverlap\u001b[0m\u001b[0;34m.\u001b[0m\u001b[0mcheck_number_topics\u001b[0m\u001b[0;34m(\u001b[0m\u001b[0;34m)\u001b[0m\u001b[0;34m\u001b[0m\u001b[0;34m\u001b[0m\u001b[0m\n",
      "\u001b[0;32m~/Universita/magistrale/web_and_social_information_extraction/webandsocial-progetto/src/overlaps_topics/overlap_topics.py\u001b[0m in \u001b[0;36mclique_percolation_method\u001b[0;34m(self)\u001b[0m\n\u001b[1;32m    132\u001b[0m         \u001b[0mcommunities\u001b[0m \u001b[0;34m=\u001b[0m \u001b[0mk_clique_communities\u001b[0m\u001b[0;34m(\u001b[0m\u001b[0mG\u001b[0m \u001b[0;34m=\u001b[0m \u001b[0mself\u001b[0m\u001b[0;34m.\u001b[0m\u001b[0m__year_sub_graph\u001b[0m\u001b[0;34m,\u001b[0m \u001b[0mk\u001b[0m \u001b[0;34m=\u001b[0m \u001b[0;36m2\u001b[0m\u001b[0;34m)\u001b[0m\u001b[0;34m\u001b[0m\u001b[0;34m\u001b[0m\u001b[0m\n\u001b[1;32m    133\u001b[0m         \u001b[0;32mfor\u001b[0m \u001b[0mtopic\u001b[0m \u001b[0;32min\u001b[0m \u001b[0mcommunities\u001b[0m\u001b[0;34m:\u001b[0m\u001b[0;34m\u001b[0m\u001b[0;34m\u001b[0m\u001b[0m\n\u001b[0;32m--> 134\u001b[0;31m             \u001b[0mself\u001b[0m\u001b[0;34m.\u001b[0m\u001b[0mcheck_keywords\u001b[0m\u001b[0;34m(\u001b[0m\u001b[0mtopic\u001b[0m\u001b[0;34m)\u001b[0m\u001b[0;34m\u001b[0m\u001b[0;34m\u001b[0m\u001b[0m\n\u001b[0m\u001b[1;32m    135\u001b[0m             \u001b[0mself\u001b[0m\u001b[0;34m.\u001b[0m\u001b[0m__topics\u001b[0m\u001b[0;34m.\u001b[0m\u001b[0mappend\u001b[0m\u001b[0;34m(\u001b[0m\u001b[0mlist\u001b[0m\u001b[0;34m(\u001b[0m\u001b[0mtopic\u001b[0m\u001b[0;34m)\u001b[0m\u001b[0;34m)\u001b[0m\u001b[0;34m\u001b[0m\u001b[0;34m\u001b[0m\u001b[0m\n\u001b[1;32m    136\u001b[0m \u001b[0;34m\u001b[0m\u001b[0m\n",
      "\u001b[0;32m~/Universita/magistrale/web_and_social_information_extraction/webandsocial-progetto/src/overlaps_topics/overlap_topics.py\u001b[0m in \u001b[0;36mcheck_keywords\u001b[0;34m(self, topic)\u001b[0m\n\u001b[1;32m    119\u001b[0m \u001b[0;34m\u001b[0m\u001b[0m\n\u001b[1;32m    120\u001b[0m         \u001b[0;32mif\u001b[0m \u001b[0;32mnot\u001b[0m \u001b[0mregular\u001b[0m\u001b[0;34m:\u001b[0m\u001b[0;34m\u001b[0m\u001b[0;34m\u001b[0m\u001b[0m\n\u001b[0;32m--> 121\u001b[0;31m             \u001b[0;32mraise\u001b[0m \u001b[0mexcpt\u001b[0m\u001b[0;34m.\u001b[0m\u001b[0mTopicMalFormedException\u001b[0m\u001b[0;34m(\u001b[0m\u001b[0;34m\"Topic bad formed.\"\u001b[0m\u001b[0;34m)\u001b[0m\u001b[0;34m\u001b[0m\u001b[0;34m\u001b[0m\u001b[0m\n\u001b[0m\u001b[1;32m    122\u001b[0m \u001b[0;34m\u001b[0m\u001b[0m\n\u001b[1;32m    123\u001b[0m \u001b[0;34m\u001b[0m\u001b[0m\n",
      "\u001b[0;31mTopicMalFormedException\u001b[0m: Topic bad formed."
     ]
    }
   ],
   "source": [
    "overlap_merge_view_deg_neg(2004, k = 10)"
   ]
  },
  {
   "cell_type": "markdown",
   "metadata": {},
   "source": [
    "### Year 2005"
   ]
  },
  {
   "cell_type": "code",
   "execution_count": 81,
   "metadata": {},
   "outputs": [
    {
     "name": "stdout",
     "output_type": "stream",
     "text": [
      "OVERLAP MERGING RESULT WITH CLIQUE PERCOLATION METHOD, TIPPING MODEL, SEED TOP 10 NODES AND DEG THRESHOLD CALCULATION STRATEGY.\n",
      "\n",
      "['lyapunov fractal', 'social inequality', 'neural network simulation', 'activation function', 'recurrent neural network', 'artificial neural network']\n",
      "len_topic: 6\n",
      "\n",
      "['neural networks', 'periodic solutions', 'discrete-time', 'cellular neural networks', 'global exponential stability']\n",
      "len_topic: 5\n",
      "\n",
      "['nonuniform lighting conditions', 'digital images captured', 'visual quality', 'similar way', 'tone frequency components', 'human eyes sensing', 'adaptive enhancement']\n",
      "len_topic: 7\n",
      "\n",
      "['sliding mode control', 'bayesian methods', 'random variables', 'inference algorithms', 'monte carlo methods', 'statistics']\n",
      "len_topic: 6\n",
      "\n",
      "['global asymptotic stability', 'equilibrium point', 'linear matrix inequality']\n",
      "len_topic: 3\n",
      "\n"
     ]
    }
   ],
   "source": [
    "overlap_merge_view_deg(2005, k = 10)"
   ]
  },
  {
   "cell_type": "code",
   "execution_count": 82,
   "metadata": {},
   "outputs": [
    {
     "name": "stdout",
     "output_type": "stream",
     "text": [
      "OVERLAP MERGING RESULT WITH CLIQUE PERCOLATION METHOD, TIPPING MODEL, SEED TOP 10 NODES AND HALF THRESHOLD CALCULATION STRATEGY.\n",
      "\n",
      "['lyapunov fractal', 'social inequality', 'neural network simulation', 'activation function', 'recurrent neural network', 'artificial neural network']\n",
      "len_topic: 6\n",
      "\n",
      "['neural networks', 'periodic solutions', 'discrete-time', 'cellular neural networks', 'global exponential stability']\n",
      "len_topic: 5\n",
      "\n",
      "['nonuniform lighting conditions', 'digital images captured', 'visual quality', 'similar way', 'tone frequency components', 'human eyes sensing', 'adaptive enhancement']\n",
      "len_topic: 7\n",
      "\n",
      "['sliding mode control', 'bayesian methods', 'random variables', 'inference algorithms', 'monte carlo methods', 'statistics']\n",
      "len_topic: 6\n",
      "\n",
      "['global asymptotic stability', 'equilibrium point', 'linear matrix inequality']\n",
      "len_topic: 3\n",
      "\n"
     ]
    }
   ],
   "source": [
    "overlap_merge_view_half(2005, k = 10)"
   ]
  },
  {
   "cell_type": "code",
   "execution_count": 83,
   "metadata": {},
   "outputs": [
    {
     "ename": "TopicMalFormedException",
     "evalue": "Topic bad formed.",
     "output_type": "error",
     "traceback": [
      "\u001b[0;31m---------------------------------------------------------------------------\u001b[0m",
      "\u001b[0;31mTopicMalFormedException\u001b[0m                   Traceback (most recent call last)",
      "\u001b[0;32m<ipython-input-83-6ff1dbd27bb5>\u001b[0m in \u001b[0;36m<module>\u001b[0;34m\u001b[0m\n\u001b[0;32m----> 1\u001b[0;31m \u001b[0moverlap_merge_view_deg_neg\u001b[0m\u001b[0;34m(\u001b[0m\u001b[0;36m2005\u001b[0m\u001b[0;34m,\u001b[0m \u001b[0mk\u001b[0m \u001b[0;34m=\u001b[0m \u001b[0;36m10\u001b[0m\u001b[0;34m)\u001b[0m\u001b[0;34m\u001b[0m\u001b[0;34m\u001b[0m\u001b[0m\n\u001b[0m",
      "\u001b[0;32m<ipython-input-6-aa88f64ba5fa>\u001b[0m in \u001b[0;36moverlap_merge_view_deg_neg\u001b[0;34m(year, k)\u001b[0m\n\u001b[1;32m     19\u001b[0m     \u001b[0mspread_dict\u001b[0m\u001b[0;34m[\u001b[0m\u001b[0mstr\u001b[0m\u001b[0;34m(\u001b[0m\u001b[0myear\u001b[0m\u001b[0;34m)\u001b[0m\u001b[0;34m]\u001b[0m\u001b[0;34m.\u001b[0m\u001b[0mtipping_model\u001b[0m\u001b[0;34m(\u001b[0m\u001b[0;34m)\u001b[0m\u001b[0;34m\u001b[0m\u001b[0;34m\u001b[0m\u001b[0m\n\u001b[1;32m     20\u001b[0m     \u001b[0mtipping_deg_neg\u001b[0m \u001b[0;34m=\u001b[0m \u001b[0mspread_dict\u001b[0m\u001b[0;34m[\u001b[0m\u001b[0mstr\u001b[0m\u001b[0;34m(\u001b[0m\u001b[0myear\u001b[0m\u001b[0;34m)\u001b[0m\u001b[0;34m]\u001b[0m\u001b[0;34m.\u001b[0m\u001b[0mget_influenced_nodes\u001b[0m\u001b[0;34m(\u001b[0m\u001b[0;34m)\u001b[0m\u001b[0;34m\u001b[0m\u001b[0;34m\u001b[0m\u001b[0m\n\u001b[0;32m---> 21\u001b[0;31m     \u001b[0mtopics_deg_neg\u001b[0m \u001b[0;34m=\u001b[0m \u001b[0moverlap_perform\u001b[0m\u001b[0;34m(\u001b[0m\u001b[0myear\u001b[0m\u001b[0;34m,\u001b[0m \u001b[0mtipping_deg_neg\u001b[0m\u001b[0;34m,\u001b[0m \u001b[0mk\u001b[0m\u001b[0;34m)\u001b[0m\u001b[0;34m\u001b[0m\u001b[0;34m\u001b[0m\u001b[0m\n\u001b[0m\u001b[1;32m     22\u001b[0m     \u001b[0mto_print\u001b[0m\u001b[0;34m(\u001b[0m\u001b[0mtopics_deg_neg\u001b[0m\u001b[0;34m,\u001b[0m \u001b[0;34m\"tipping\"\u001b[0m\u001b[0;34m,\u001b[0m \u001b[0mk\u001b[0m\u001b[0;34m,\u001b[0m \u001b[0;34m\"deg negative\"\u001b[0m\u001b[0;34m)\u001b[0m\u001b[0;34m\u001b[0m\u001b[0;34m\u001b[0m\u001b[0m\n",
      "\u001b[0;32m<ipython-input-5-60ae7201d3cc>\u001b[0m in \u001b[0;36moverlap_perform\u001b[0;34m(year, all_topics, k)\u001b[0m\n\u001b[1;32m      2\u001b[0m     \u001b[0moverlap\u001b[0m \u001b[0;34m=\u001b[0m \u001b[0mov\u001b[0m\u001b[0;34m.\u001b[0m\u001b[0mOverlapTopics\u001b[0m\u001b[0;34m(\u001b[0m\u001b[0mgraph_timeline_dict\u001b[0m\u001b[0;34m[\u001b[0m\u001b[0mstr\u001b[0m\u001b[0;34m(\u001b[0m\u001b[0myear\u001b[0m\u001b[0;34m)\u001b[0m\u001b[0;34m]\u001b[0m\u001b[0;34m,\u001b[0m \u001b[0mall_topics\u001b[0m\u001b[0;34m,\u001b[0m \u001b[0mk\u001b[0m\u001b[0;34m)\u001b[0m\u001b[0;34m\u001b[0m\u001b[0;34m\u001b[0m\u001b[0m\n\u001b[1;32m      3\u001b[0m     \u001b[0moverlap\u001b[0m\u001b[0;34m.\u001b[0m\u001b[0moverlap_preprocessing\u001b[0m\u001b[0;34m(\u001b[0m\u001b[0;34m)\u001b[0m\u001b[0;34m\u001b[0m\u001b[0;34m\u001b[0m\u001b[0m\n\u001b[0;32m----> 4\u001b[0;31m     \u001b[0moverlap\u001b[0m\u001b[0;34m.\u001b[0m\u001b[0mclique_percolation_method\u001b[0m\u001b[0;34m(\u001b[0m\u001b[0;34m)\u001b[0m\u001b[0;34m\u001b[0m\u001b[0;34m\u001b[0m\u001b[0m\n\u001b[0m\u001b[1;32m      5\u001b[0m     \u001b[0moverlap\u001b[0m\u001b[0;34m.\u001b[0m\u001b[0mcheck_spread_topics\u001b[0m\u001b[0;34m(\u001b[0m\u001b[0;34m)\u001b[0m\u001b[0;34m\u001b[0m\u001b[0;34m\u001b[0m\u001b[0m\n\u001b[1;32m      6\u001b[0m     \u001b[0moverlap\u001b[0m\u001b[0;34m.\u001b[0m\u001b[0mcheck_number_topics\u001b[0m\u001b[0;34m(\u001b[0m\u001b[0;34m)\u001b[0m\u001b[0;34m\u001b[0m\u001b[0;34m\u001b[0m\u001b[0m\n",
      "\u001b[0;32m~/Universita/magistrale/web_and_social_information_extraction/webandsocial-progetto/src/overlaps_topics/overlap_topics.py\u001b[0m in \u001b[0;36mclique_percolation_method\u001b[0;34m(self)\u001b[0m\n\u001b[1;32m    132\u001b[0m         \u001b[0mcommunities\u001b[0m \u001b[0;34m=\u001b[0m \u001b[0mk_clique_communities\u001b[0m\u001b[0;34m(\u001b[0m\u001b[0mG\u001b[0m \u001b[0;34m=\u001b[0m \u001b[0mself\u001b[0m\u001b[0;34m.\u001b[0m\u001b[0m__year_sub_graph\u001b[0m\u001b[0;34m,\u001b[0m \u001b[0mk\u001b[0m \u001b[0;34m=\u001b[0m \u001b[0;36m2\u001b[0m\u001b[0;34m)\u001b[0m\u001b[0;34m\u001b[0m\u001b[0;34m\u001b[0m\u001b[0m\n\u001b[1;32m    133\u001b[0m         \u001b[0;32mfor\u001b[0m \u001b[0mtopic\u001b[0m \u001b[0;32min\u001b[0m \u001b[0mcommunities\u001b[0m\u001b[0;34m:\u001b[0m\u001b[0;34m\u001b[0m\u001b[0;34m\u001b[0m\u001b[0m\n\u001b[0;32m--> 134\u001b[0;31m             \u001b[0mself\u001b[0m\u001b[0;34m.\u001b[0m\u001b[0mcheck_keywords\u001b[0m\u001b[0;34m(\u001b[0m\u001b[0mtopic\u001b[0m\u001b[0;34m)\u001b[0m\u001b[0;34m\u001b[0m\u001b[0;34m\u001b[0m\u001b[0m\n\u001b[0m\u001b[1;32m    135\u001b[0m             \u001b[0mself\u001b[0m\u001b[0;34m.\u001b[0m\u001b[0m__topics\u001b[0m\u001b[0;34m.\u001b[0m\u001b[0mappend\u001b[0m\u001b[0;34m(\u001b[0m\u001b[0mlist\u001b[0m\u001b[0;34m(\u001b[0m\u001b[0mtopic\u001b[0m\u001b[0;34m)\u001b[0m\u001b[0;34m)\u001b[0m\u001b[0;34m\u001b[0m\u001b[0;34m\u001b[0m\u001b[0m\n\u001b[1;32m    136\u001b[0m \u001b[0;34m\u001b[0m\u001b[0m\n",
      "\u001b[0;32m~/Universita/magistrale/web_and_social_information_extraction/webandsocial-progetto/src/overlaps_topics/overlap_topics.py\u001b[0m in \u001b[0;36mcheck_keywords\u001b[0;34m(self, topic)\u001b[0m\n\u001b[1;32m    119\u001b[0m \u001b[0;34m\u001b[0m\u001b[0m\n\u001b[1;32m    120\u001b[0m         \u001b[0;32mif\u001b[0m \u001b[0;32mnot\u001b[0m \u001b[0mregular\u001b[0m\u001b[0;34m:\u001b[0m\u001b[0;34m\u001b[0m\u001b[0;34m\u001b[0m\u001b[0m\n\u001b[0;32m--> 121\u001b[0;31m             \u001b[0;32mraise\u001b[0m \u001b[0mexcpt\u001b[0m\u001b[0;34m.\u001b[0m\u001b[0mTopicMalFormedException\u001b[0m\u001b[0;34m(\u001b[0m\u001b[0;34m\"Topic bad formed.\"\u001b[0m\u001b[0;34m)\u001b[0m\u001b[0;34m\u001b[0m\u001b[0;34m\u001b[0m\u001b[0m\n\u001b[0m\u001b[1;32m    122\u001b[0m \u001b[0;34m\u001b[0m\u001b[0m\n\u001b[1;32m    123\u001b[0m \u001b[0;34m\u001b[0m\u001b[0m\n",
      "\u001b[0;31mTopicMalFormedException\u001b[0m: Topic bad formed."
     ]
    }
   ],
   "source": [
    "overlap_merge_view_deg_neg(2005, k = 10)"
   ]
  },
  {
   "cell_type": "markdown",
   "metadata": {},
   "source": [
    "### Year 2006"
   ]
  },
  {
   "cell_type": "code",
   "execution_count": 84,
   "metadata": {},
   "outputs": [
    {
     "name": "stdout",
     "output_type": "stream",
     "text": [
      "OVERLAP MERGING RESULT WITH CLIQUE PERCOLATION METHOD, TIPPING MODEL, SEED TOP 10 NODES AND DEG THRESHOLD CALCULATION STRATEGY.\n",
      "\n",
      "['lyapunov fractal', 'neural networks', 'computation', 'quantum', 'algorithm', 'variational principle', 'time-varying delays', 'artificial neural network', 'linear matrix inequality', 'global asymptotic stability', 'computationally efficient', 'linear discriminant analysis', 'periodic solution', 'hessian', 'time delays', 'experiment', 'stochastic systems', 'optimization problem', 'hopfield neural networks', 'sufficient conditions', 'gradient', 'global exponential stability', 'lyapunov–krasovskii functional', 'discrete delays', 'uncertain systems', 'machine learning', 'cohen–grossberg neural network', 'particle swarm optimization', 'distributed delays', 'discrete and distributed delays', 'numerical analysis']\n",
      "len_topic: 31\n",
      "\n"
     ]
    }
   ],
   "source": [
    "overlap_merge_view_deg(2006, k = 10)"
   ]
  },
  {
   "cell_type": "code",
   "execution_count": 85,
   "metadata": {},
   "outputs": [
    {
     "name": "stdout",
     "output_type": "stream",
     "text": [
      "OVERLAP MERGING RESULT WITH CLIQUE PERCOLATION METHOD, TIPPING MODEL, SEED TOP 10 NODES AND HALF THRESHOLD CALCULATION STRATEGY.\n",
      "\n",
      "['lyapunov fractal', 'neural networks', 'computation', 'quantum', 'algorithm', 'variational principle', 'time-varying delays', 'artificial neural network', 'linear matrix inequality', 'global asymptotic stability', 'computationally efficient', 'linear discriminant analysis', 'periodic solution', 'hessian', 'time delays', 'experiment', 'stochastic systems', 'optimization problem', 'hopfield neural networks', 'sufficient conditions', 'gradient', 'global exponential stability', 'lyapunov–krasovskii functional', 'discrete delays', 'uncertain systems', 'machine learning', 'cohen–grossberg neural network', 'particle swarm optimization', 'distributed delays', 'discrete and distributed delays', 'numerical analysis']\n",
      "len_topic: 31\n",
      "\n"
     ]
    }
   ],
   "source": [
    "overlap_merge_view_half(2006, k = 10)"
   ]
  },
  {
   "cell_type": "code",
   "execution_count": 86,
   "metadata": {},
   "outputs": [
    {
     "ename": "TopicMalFormedException",
     "evalue": "Topic bad formed.",
     "output_type": "error",
     "traceback": [
      "\u001b[0;31m---------------------------------------------------------------------------\u001b[0m",
      "\u001b[0;31mTopicMalFormedException\u001b[0m                   Traceback (most recent call last)",
      "\u001b[0;32m<ipython-input-86-b3b8d87c683d>\u001b[0m in \u001b[0;36m<module>\u001b[0;34m\u001b[0m\n\u001b[0;32m----> 1\u001b[0;31m \u001b[0moverlap_merge_view_deg_neg\u001b[0m\u001b[0;34m(\u001b[0m\u001b[0;36m2006\u001b[0m\u001b[0;34m,\u001b[0m \u001b[0mk\u001b[0m \u001b[0;34m=\u001b[0m \u001b[0;36m10\u001b[0m\u001b[0;34m)\u001b[0m\u001b[0;34m\u001b[0m\u001b[0;34m\u001b[0m\u001b[0m\n\u001b[0m",
      "\u001b[0;32m<ipython-input-6-aa88f64ba5fa>\u001b[0m in \u001b[0;36moverlap_merge_view_deg_neg\u001b[0;34m(year, k)\u001b[0m\n\u001b[1;32m     19\u001b[0m     \u001b[0mspread_dict\u001b[0m\u001b[0;34m[\u001b[0m\u001b[0mstr\u001b[0m\u001b[0;34m(\u001b[0m\u001b[0myear\u001b[0m\u001b[0;34m)\u001b[0m\u001b[0;34m]\u001b[0m\u001b[0;34m.\u001b[0m\u001b[0mtipping_model\u001b[0m\u001b[0;34m(\u001b[0m\u001b[0;34m)\u001b[0m\u001b[0;34m\u001b[0m\u001b[0;34m\u001b[0m\u001b[0m\n\u001b[1;32m     20\u001b[0m     \u001b[0mtipping_deg_neg\u001b[0m \u001b[0;34m=\u001b[0m \u001b[0mspread_dict\u001b[0m\u001b[0;34m[\u001b[0m\u001b[0mstr\u001b[0m\u001b[0;34m(\u001b[0m\u001b[0myear\u001b[0m\u001b[0;34m)\u001b[0m\u001b[0;34m]\u001b[0m\u001b[0;34m.\u001b[0m\u001b[0mget_influenced_nodes\u001b[0m\u001b[0;34m(\u001b[0m\u001b[0;34m)\u001b[0m\u001b[0;34m\u001b[0m\u001b[0;34m\u001b[0m\u001b[0m\n\u001b[0;32m---> 21\u001b[0;31m     \u001b[0mtopics_deg_neg\u001b[0m \u001b[0;34m=\u001b[0m \u001b[0moverlap_perform\u001b[0m\u001b[0;34m(\u001b[0m\u001b[0myear\u001b[0m\u001b[0;34m,\u001b[0m \u001b[0mtipping_deg_neg\u001b[0m\u001b[0;34m,\u001b[0m \u001b[0mk\u001b[0m\u001b[0;34m)\u001b[0m\u001b[0;34m\u001b[0m\u001b[0;34m\u001b[0m\u001b[0m\n\u001b[0m\u001b[1;32m     22\u001b[0m     \u001b[0mto_print\u001b[0m\u001b[0;34m(\u001b[0m\u001b[0mtopics_deg_neg\u001b[0m\u001b[0;34m,\u001b[0m \u001b[0;34m\"tipping\"\u001b[0m\u001b[0;34m,\u001b[0m \u001b[0mk\u001b[0m\u001b[0;34m,\u001b[0m \u001b[0;34m\"deg negative\"\u001b[0m\u001b[0;34m)\u001b[0m\u001b[0;34m\u001b[0m\u001b[0;34m\u001b[0m\u001b[0m\n",
      "\u001b[0;32m<ipython-input-5-60ae7201d3cc>\u001b[0m in \u001b[0;36moverlap_perform\u001b[0;34m(year, all_topics, k)\u001b[0m\n\u001b[1;32m      2\u001b[0m     \u001b[0moverlap\u001b[0m \u001b[0;34m=\u001b[0m \u001b[0mov\u001b[0m\u001b[0;34m.\u001b[0m\u001b[0mOverlapTopics\u001b[0m\u001b[0;34m(\u001b[0m\u001b[0mgraph_timeline_dict\u001b[0m\u001b[0;34m[\u001b[0m\u001b[0mstr\u001b[0m\u001b[0;34m(\u001b[0m\u001b[0myear\u001b[0m\u001b[0;34m)\u001b[0m\u001b[0;34m]\u001b[0m\u001b[0;34m,\u001b[0m \u001b[0mall_topics\u001b[0m\u001b[0;34m,\u001b[0m \u001b[0mk\u001b[0m\u001b[0;34m)\u001b[0m\u001b[0;34m\u001b[0m\u001b[0;34m\u001b[0m\u001b[0m\n\u001b[1;32m      3\u001b[0m     \u001b[0moverlap\u001b[0m\u001b[0;34m.\u001b[0m\u001b[0moverlap_preprocessing\u001b[0m\u001b[0;34m(\u001b[0m\u001b[0;34m)\u001b[0m\u001b[0;34m\u001b[0m\u001b[0;34m\u001b[0m\u001b[0m\n\u001b[0;32m----> 4\u001b[0;31m     \u001b[0moverlap\u001b[0m\u001b[0;34m.\u001b[0m\u001b[0mclique_percolation_method\u001b[0m\u001b[0;34m(\u001b[0m\u001b[0;34m)\u001b[0m\u001b[0;34m\u001b[0m\u001b[0;34m\u001b[0m\u001b[0m\n\u001b[0m\u001b[1;32m      5\u001b[0m     \u001b[0moverlap\u001b[0m\u001b[0;34m.\u001b[0m\u001b[0mcheck_spread_topics\u001b[0m\u001b[0;34m(\u001b[0m\u001b[0;34m)\u001b[0m\u001b[0;34m\u001b[0m\u001b[0;34m\u001b[0m\u001b[0m\n\u001b[1;32m      6\u001b[0m     \u001b[0moverlap\u001b[0m\u001b[0;34m.\u001b[0m\u001b[0mcheck_number_topics\u001b[0m\u001b[0;34m(\u001b[0m\u001b[0;34m)\u001b[0m\u001b[0;34m\u001b[0m\u001b[0;34m\u001b[0m\u001b[0m\n",
      "\u001b[0;32m~/Universita/magistrale/web_and_social_information_extraction/webandsocial-progetto/src/overlaps_topics/overlap_topics.py\u001b[0m in \u001b[0;36mclique_percolation_method\u001b[0;34m(self)\u001b[0m\n\u001b[1;32m    132\u001b[0m         \u001b[0mcommunities\u001b[0m \u001b[0;34m=\u001b[0m \u001b[0mk_clique_communities\u001b[0m\u001b[0;34m(\u001b[0m\u001b[0mG\u001b[0m \u001b[0;34m=\u001b[0m \u001b[0mself\u001b[0m\u001b[0;34m.\u001b[0m\u001b[0m__year_sub_graph\u001b[0m\u001b[0;34m,\u001b[0m \u001b[0mk\u001b[0m \u001b[0;34m=\u001b[0m \u001b[0;36m2\u001b[0m\u001b[0;34m)\u001b[0m\u001b[0;34m\u001b[0m\u001b[0;34m\u001b[0m\u001b[0m\n\u001b[1;32m    133\u001b[0m         \u001b[0;32mfor\u001b[0m \u001b[0mtopic\u001b[0m \u001b[0;32min\u001b[0m \u001b[0mcommunities\u001b[0m\u001b[0;34m:\u001b[0m\u001b[0;34m\u001b[0m\u001b[0;34m\u001b[0m\u001b[0m\n\u001b[0;32m--> 134\u001b[0;31m             \u001b[0mself\u001b[0m\u001b[0;34m.\u001b[0m\u001b[0mcheck_keywords\u001b[0m\u001b[0;34m(\u001b[0m\u001b[0mtopic\u001b[0m\u001b[0;34m)\u001b[0m\u001b[0;34m\u001b[0m\u001b[0;34m\u001b[0m\u001b[0m\n\u001b[0m\u001b[1;32m    135\u001b[0m             \u001b[0mself\u001b[0m\u001b[0;34m.\u001b[0m\u001b[0m__topics\u001b[0m\u001b[0;34m.\u001b[0m\u001b[0mappend\u001b[0m\u001b[0;34m(\u001b[0m\u001b[0mlist\u001b[0m\u001b[0;34m(\u001b[0m\u001b[0mtopic\u001b[0m\u001b[0;34m)\u001b[0m\u001b[0;34m)\u001b[0m\u001b[0;34m\u001b[0m\u001b[0;34m\u001b[0m\u001b[0m\n\u001b[1;32m    136\u001b[0m \u001b[0;34m\u001b[0m\u001b[0m\n",
      "\u001b[0;32m~/Universita/magistrale/web_and_social_information_extraction/webandsocial-progetto/src/overlaps_topics/overlap_topics.py\u001b[0m in \u001b[0;36mcheck_keywords\u001b[0;34m(self, topic)\u001b[0m\n\u001b[1;32m    119\u001b[0m \u001b[0;34m\u001b[0m\u001b[0m\n\u001b[1;32m    120\u001b[0m         \u001b[0;32mif\u001b[0m \u001b[0;32mnot\u001b[0m \u001b[0mregular\u001b[0m\u001b[0;34m:\u001b[0m\u001b[0;34m\u001b[0m\u001b[0;34m\u001b[0m\u001b[0m\n\u001b[0;32m--> 121\u001b[0;31m             \u001b[0;32mraise\u001b[0m \u001b[0mexcpt\u001b[0m\u001b[0;34m.\u001b[0m\u001b[0mTopicMalFormedException\u001b[0m\u001b[0;34m(\u001b[0m\u001b[0;34m\"Topic bad formed.\"\u001b[0m\u001b[0;34m)\u001b[0m\u001b[0;34m\u001b[0m\u001b[0;34m\u001b[0m\u001b[0m\n\u001b[0m\u001b[1;32m    122\u001b[0m \u001b[0;34m\u001b[0m\u001b[0m\n\u001b[1;32m    123\u001b[0m \u001b[0;34m\u001b[0m\u001b[0m\n",
      "\u001b[0;31mTopicMalFormedException\u001b[0m: Topic bad formed."
     ]
    }
   ],
   "source": [
    "overlap_merge_view_deg_neg(2006, k = 10)"
   ]
  },
  {
   "cell_type": "markdown",
   "metadata": {},
   "source": [
    "### Year 2007"
   ]
  },
  {
   "cell_type": "code",
   "execution_count": 87,
   "metadata": {},
   "outputs": [
    {
     "name": "stdout",
     "output_type": "stream",
     "text": [
      "OVERLAP MERGING RESULT WITH CLIQUE PERCOLATION METHOD, TIPPING MODEL, SEED TOP 10 NODES AND DEG THRESHOLD CALCULATION STRATEGY.\n",
      "\n",
      "['lyapunov fractal', 'content-addressable memory', 'neural network simulation', 'synchronization', 'rate of convergence', 'time-varying delays', 'artificial neural network', 'chaos', 'lyapunov functional', 'linear matrix inequality', 'bidirectional associative memory', 'lyapunov–krasovskii functional', 'social inequality', 'bidirectional associative memory neural networks', 'cohen–grossberg neural networks', 'lag synchronization', 'distributed delays']\n",
      "len_topic: 17\n",
      "\n",
      "['particle swarm optimization', 'evolutionary algorithm', 'velocity (software development)', 'mathematical optimization', 'numerical analysis']\n",
      "len_topic: 5\n",
      "\n"
     ]
    }
   ],
   "source": [
    "overlap_merge_view_deg(2007, k = 10)"
   ]
  },
  {
   "cell_type": "code",
   "execution_count": 88,
   "metadata": {},
   "outputs": [
    {
     "name": "stdout",
     "output_type": "stream",
     "text": [
      "OVERLAP MERGING RESULT WITH CLIQUE PERCOLATION METHOD, TIPPING MODEL, SEED TOP 10 NODES AND HALF THRESHOLD CALCULATION STRATEGY.\n",
      "\n",
      "['lyapunov fractal', 'content-addressable memory', 'neural network simulation', 'synchronization', 'rate of convergence', 'time-varying delays', 'artificial neural network', 'chaos', 'lyapunov functional', 'linear matrix inequality', 'bidirectional associative memory', 'lyapunov–krasovskii functional', 'social inequality', 'bidirectional associative memory neural networks', 'cohen–grossberg neural networks', 'lag synchronization', 'distributed delays']\n",
      "len_topic: 17\n",
      "\n",
      "['particle swarm optimization', 'evolutionary algorithm', 'velocity (software development)', 'mathematical optimization', 'numerical analysis']\n",
      "len_topic: 5\n",
      "\n"
     ]
    }
   ],
   "source": [
    "overlap_merge_view_half(2007, k = 10)"
   ]
  },
  {
   "cell_type": "code",
   "execution_count": 89,
   "metadata": {},
   "outputs": [
    {
     "ename": "TopicMalFormedException",
     "evalue": "Topic bad formed.",
     "output_type": "error",
     "traceback": [
      "\u001b[0;31m---------------------------------------------------------------------------\u001b[0m",
      "\u001b[0;31mTopicMalFormedException\u001b[0m                   Traceback (most recent call last)",
      "\u001b[0;32m<ipython-input-89-2141be6d9697>\u001b[0m in \u001b[0;36m<module>\u001b[0;34m\u001b[0m\n\u001b[0;32m----> 1\u001b[0;31m \u001b[0moverlap_merge_view_deg_neg\u001b[0m\u001b[0;34m(\u001b[0m\u001b[0;36m2007\u001b[0m\u001b[0;34m,\u001b[0m \u001b[0mk\u001b[0m \u001b[0;34m=\u001b[0m \u001b[0;36m10\u001b[0m\u001b[0;34m)\u001b[0m\u001b[0;34m\u001b[0m\u001b[0;34m\u001b[0m\u001b[0m\n\u001b[0m",
      "\u001b[0;32m<ipython-input-6-aa88f64ba5fa>\u001b[0m in \u001b[0;36moverlap_merge_view_deg_neg\u001b[0;34m(year, k)\u001b[0m\n\u001b[1;32m     19\u001b[0m     \u001b[0mspread_dict\u001b[0m\u001b[0;34m[\u001b[0m\u001b[0mstr\u001b[0m\u001b[0;34m(\u001b[0m\u001b[0myear\u001b[0m\u001b[0;34m)\u001b[0m\u001b[0;34m]\u001b[0m\u001b[0;34m.\u001b[0m\u001b[0mtipping_model\u001b[0m\u001b[0;34m(\u001b[0m\u001b[0;34m)\u001b[0m\u001b[0;34m\u001b[0m\u001b[0;34m\u001b[0m\u001b[0m\n\u001b[1;32m     20\u001b[0m     \u001b[0mtipping_deg_neg\u001b[0m \u001b[0;34m=\u001b[0m \u001b[0mspread_dict\u001b[0m\u001b[0;34m[\u001b[0m\u001b[0mstr\u001b[0m\u001b[0;34m(\u001b[0m\u001b[0myear\u001b[0m\u001b[0;34m)\u001b[0m\u001b[0;34m]\u001b[0m\u001b[0;34m.\u001b[0m\u001b[0mget_influenced_nodes\u001b[0m\u001b[0;34m(\u001b[0m\u001b[0;34m)\u001b[0m\u001b[0;34m\u001b[0m\u001b[0;34m\u001b[0m\u001b[0m\n\u001b[0;32m---> 21\u001b[0;31m     \u001b[0mtopics_deg_neg\u001b[0m \u001b[0;34m=\u001b[0m \u001b[0moverlap_perform\u001b[0m\u001b[0;34m(\u001b[0m\u001b[0myear\u001b[0m\u001b[0;34m,\u001b[0m \u001b[0mtipping_deg_neg\u001b[0m\u001b[0;34m,\u001b[0m \u001b[0mk\u001b[0m\u001b[0;34m)\u001b[0m\u001b[0;34m\u001b[0m\u001b[0;34m\u001b[0m\u001b[0m\n\u001b[0m\u001b[1;32m     22\u001b[0m     \u001b[0mto_print\u001b[0m\u001b[0;34m(\u001b[0m\u001b[0mtopics_deg_neg\u001b[0m\u001b[0;34m,\u001b[0m \u001b[0;34m\"tipping\"\u001b[0m\u001b[0;34m,\u001b[0m \u001b[0mk\u001b[0m\u001b[0;34m,\u001b[0m \u001b[0;34m\"deg negative\"\u001b[0m\u001b[0;34m)\u001b[0m\u001b[0;34m\u001b[0m\u001b[0;34m\u001b[0m\u001b[0m\n",
      "\u001b[0;32m<ipython-input-5-60ae7201d3cc>\u001b[0m in \u001b[0;36moverlap_perform\u001b[0;34m(year, all_topics, k)\u001b[0m\n\u001b[1;32m      2\u001b[0m     \u001b[0moverlap\u001b[0m \u001b[0;34m=\u001b[0m \u001b[0mov\u001b[0m\u001b[0;34m.\u001b[0m\u001b[0mOverlapTopics\u001b[0m\u001b[0;34m(\u001b[0m\u001b[0mgraph_timeline_dict\u001b[0m\u001b[0;34m[\u001b[0m\u001b[0mstr\u001b[0m\u001b[0;34m(\u001b[0m\u001b[0myear\u001b[0m\u001b[0;34m)\u001b[0m\u001b[0;34m]\u001b[0m\u001b[0;34m,\u001b[0m \u001b[0mall_topics\u001b[0m\u001b[0;34m,\u001b[0m \u001b[0mk\u001b[0m\u001b[0;34m)\u001b[0m\u001b[0;34m\u001b[0m\u001b[0;34m\u001b[0m\u001b[0m\n\u001b[1;32m      3\u001b[0m     \u001b[0moverlap\u001b[0m\u001b[0;34m.\u001b[0m\u001b[0moverlap_preprocessing\u001b[0m\u001b[0;34m(\u001b[0m\u001b[0;34m)\u001b[0m\u001b[0;34m\u001b[0m\u001b[0;34m\u001b[0m\u001b[0m\n\u001b[0;32m----> 4\u001b[0;31m     \u001b[0moverlap\u001b[0m\u001b[0;34m.\u001b[0m\u001b[0mclique_percolation_method\u001b[0m\u001b[0;34m(\u001b[0m\u001b[0;34m)\u001b[0m\u001b[0;34m\u001b[0m\u001b[0;34m\u001b[0m\u001b[0m\n\u001b[0m\u001b[1;32m      5\u001b[0m     \u001b[0moverlap\u001b[0m\u001b[0;34m.\u001b[0m\u001b[0mcheck_spread_topics\u001b[0m\u001b[0;34m(\u001b[0m\u001b[0;34m)\u001b[0m\u001b[0;34m\u001b[0m\u001b[0;34m\u001b[0m\u001b[0m\n\u001b[1;32m      6\u001b[0m     \u001b[0moverlap\u001b[0m\u001b[0;34m.\u001b[0m\u001b[0mcheck_number_topics\u001b[0m\u001b[0;34m(\u001b[0m\u001b[0;34m)\u001b[0m\u001b[0;34m\u001b[0m\u001b[0;34m\u001b[0m\u001b[0m\n",
      "\u001b[0;32m~/Universita/magistrale/web_and_social_information_extraction/webandsocial-progetto/src/overlaps_topics/overlap_topics.py\u001b[0m in \u001b[0;36mclique_percolation_method\u001b[0;34m(self)\u001b[0m\n\u001b[1;32m    132\u001b[0m         \u001b[0mcommunities\u001b[0m \u001b[0;34m=\u001b[0m \u001b[0mk_clique_communities\u001b[0m\u001b[0;34m(\u001b[0m\u001b[0mG\u001b[0m \u001b[0;34m=\u001b[0m \u001b[0mself\u001b[0m\u001b[0;34m.\u001b[0m\u001b[0m__year_sub_graph\u001b[0m\u001b[0;34m,\u001b[0m \u001b[0mk\u001b[0m \u001b[0;34m=\u001b[0m \u001b[0;36m2\u001b[0m\u001b[0;34m)\u001b[0m\u001b[0;34m\u001b[0m\u001b[0;34m\u001b[0m\u001b[0m\n\u001b[1;32m    133\u001b[0m         \u001b[0;32mfor\u001b[0m \u001b[0mtopic\u001b[0m \u001b[0;32min\u001b[0m \u001b[0mcommunities\u001b[0m\u001b[0;34m:\u001b[0m\u001b[0;34m\u001b[0m\u001b[0;34m\u001b[0m\u001b[0m\n\u001b[0;32m--> 134\u001b[0;31m             \u001b[0mself\u001b[0m\u001b[0;34m.\u001b[0m\u001b[0mcheck_keywords\u001b[0m\u001b[0;34m(\u001b[0m\u001b[0mtopic\u001b[0m\u001b[0;34m)\u001b[0m\u001b[0;34m\u001b[0m\u001b[0;34m\u001b[0m\u001b[0m\n\u001b[0m\u001b[1;32m    135\u001b[0m             \u001b[0mself\u001b[0m\u001b[0;34m.\u001b[0m\u001b[0m__topics\u001b[0m\u001b[0;34m.\u001b[0m\u001b[0mappend\u001b[0m\u001b[0;34m(\u001b[0m\u001b[0mlist\u001b[0m\u001b[0;34m(\u001b[0m\u001b[0mtopic\u001b[0m\u001b[0;34m)\u001b[0m\u001b[0;34m)\u001b[0m\u001b[0;34m\u001b[0m\u001b[0;34m\u001b[0m\u001b[0m\n\u001b[1;32m    136\u001b[0m \u001b[0;34m\u001b[0m\u001b[0m\n",
      "\u001b[0;32m~/Universita/magistrale/web_and_social_information_extraction/webandsocial-progetto/src/overlaps_topics/overlap_topics.py\u001b[0m in \u001b[0;36mcheck_keywords\u001b[0;34m(self, topic)\u001b[0m\n\u001b[1;32m    119\u001b[0m \u001b[0;34m\u001b[0m\u001b[0m\n\u001b[1;32m    120\u001b[0m         \u001b[0;32mif\u001b[0m \u001b[0;32mnot\u001b[0m \u001b[0mregular\u001b[0m\u001b[0;34m:\u001b[0m\u001b[0;34m\u001b[0m\u001b[0;34m\u001b[0m\u001b[0m\n\u001b[0;32m--> 121\u001b[0;31m             \u001b[0;32mraise\u001b[0m \u001b[0mexcpt\u001b[0m\u001b[0;34m.\u001b[0m\u001b[0mTopicMalFormedException\u001b[0m\u001b[0;34m(\u001b[0m\u001b[0;34m\"Topic bad formed.\"\u001b[0m\u001b[0;34m)\u001b[0m\u001b[0;34m\u001b[0m\u001b[0;34m\u001b[0m\u001b[0m\n\u001b[0m\u001b[1;32m    122\u001b[0m \u001b[0;34m\u001b[0m\u001b[0m\n\u001b[1;32m    123\u001b[0m \u001b[0;34m\u001b[0m\u001b[0m\n",
      "\u001b[0;31mTopicMalFormedException\u001b[0m: Topic bad formed."
     ]
    }
   ],
   "source": [
    "overlap_merge_view_deg_neg(2007, k = 10)"
   ]
  },
  {
   "cell_type": "markdown",
   "metadata": {},
   "source": [
    "### Year 2008"
   ]
  },
  {
   "cell_type": "code",
   "execution_count": 90,
   "metadata": {},
   "outputs": [
    {
     "name": "stdout",
     "output_type": "stream",
     "text": [
      "OVERLAP MERGING RESULT WITH CLIQUE PERCOLATION METHOD, TIPPING MODEL, SEED TOP 10 NODES AND DEG THRESHOLD CALCULATION STRATEGY.\n",
      "\n",
      "['cognitive radio', 'multi-user', 'computation', 'user interface', 'algorithm', 'relay', 'simulation', 'systems architecture', 'interference (communication)', 'ici (programming language)', 'throughput', 'signal-to-interference-plus-noise ratio']\n",
      "len_topic: 12\n",
      "\n",
      "['unbounded distributed delays', 'lyapunov fractal', 'neural networks', 'exponential stability', 'rate of convergence', 'exponential', 'artificial neural network', 'linear matrix inequality', 'varying delays', 'biological neural networks', 'mathematical optimization', 'lyapunov–krasovskii functional', 'social inequality', 'lyapunov method', 'global asymptotic stability', 'global optimization', 'numerical analysis']\n",
      "len_topic: 17\n",
      "\n"
     ]
    }
   ],
   "source": [
    "overlap_merge_view_deg(2008, k = 10)"
   ]
  },
  {
   "cell_type": "code",
   "execution_count": 91,
   "metadata": {},
   "outputs": [
    {
     "name": "stdout",
     "output_type": "stream",
     "text": [
      "OVERLAP MERGING RESULT WITH CLIQUE PERCOLATION METHOD, TIPPING MODEL, SEED TOP 10 NODES AND HALF THRESHOLD CALCULATION STRATEGY.\n",
      "\n",
      "['cognitive radio', 'simulation', 'multi-user', 'interference (communication)', 'computation', 'algorithm']\n",
      "len_topic: 6\n",
      "\n",
      "['lyapunov fractal', 'neural networks', 'biological neural networks', 'exponential stability', 'rate of convergence', 'exponential', 'artificial neural network', 'mathematical optimization', 'linear matrix inequality', 'varying delays', 'social inequality', 'lyapunov method', 'global optimization', 'numerical analysis']\n",
      "len_topic: 14\n",
      "\n"
     ]
    }
   ],
   "source": [
    "overlap_merge_view_half(2008, k = 10)"
   ]
  },
  {
   "cell_type": "code",
   "execution_count": 92,
   "metadata": {},
   "outputs": [
    {
     "ename": "TopicMalFormedException",
     "evalue": "Topic bad formed.",
     "output_type": "error",
     "traceback": [
      "\u001b[0;31m---------------------------------------------------------------------------\u001b[0m",
      "\u001b[0;31mTopicMalFormedException\u001b[0m                   Traceback (most recent call last)",
      "\u001b[0;32m<ipython-input-92-3080b3164690>\u001b[0m in \u001b[0;36m<module>\u001b[0;34m\u001b[0m\n\u001b[0;32m----> 1\u001b[0;31m \u001b[0moverlap_merge_view_deg_neg\u001b[0m\u001b[0;34m(\u001b[0m\u001b[0;36m2008\u001b[0m\u001b[0;34m,\u001b[0m \u001b[0mk\u001b[0m \u001b[0;34m=\u001b[0m \u001b[0;36m10\u001b[0m\u001b[0;34m)\u001b[0m\u001b[0;34m\u001b[0m\u001b[0;34m\u001b[0m\u001b[0m\n\u001b[0m",
      "\u001b[0;32m<ipython-input-6-aa88f64ba5fa>\u001b[0m in \u001b[0;36moverlap_merge_view_deg_neg\u001b[0;34m(year, k)\u001b[0m\n\u001b[1;32m     19\u001b[0m     \u001b[0mspread_dict\u001b[0m\u001b[0;34m[\u001b[0m\u001b[0mstr\u001b[0m\u001b[0;34m(\u001b[0m\u001b[0myear\u001b[0m\u001b[0;34m)\u001b[0m\u001b[0;34m]\u001b[0m\u001b[0;34m.\u001b[0m\u001b[0mtipping_model\u001b[0m\u001b[0;34m(\u001b[0m\u001b[0;34m)\u001b[0m\u001b[0;34m\u001b[0m\u001b[0;34m\u001b[0m\u001b[0m\n\u001b[1;32m     20\u001b[0m     \u001b[0mtipping_deg_neg\u001b[0m \u001b[0;34m=\u001b[0m \u001b[0mspread_dict\u001b[0m\u001b[0;34m[\u001b[0m\u001b[0mstr\u001b[0m\u001b[0;34m(\u001b[0m\u001b[0myear\u001b[0m\u001b[0;34m)\u001b[0m\u001b[0;34m]\u001b[0m\u001b[0;34m.\u001b[0m\u001b[0mget_influenced_nodes\u001b[0m\u001b[0;34m(\u001b[0m\u001b[0;34m)\u001b[0m\u001b[0;34m\u001b[0m\u001b[0;34m\u001b[0m\u001b[0m\n\u001b[0;32m---> 21\u001b[0;31m     \u001b[0mtopics_deg_neg\u001b[0m \u001b[0;34m=\u001b[0m \u001b[0moverlap_perform\u001b[0m\u001b[0;34m(\u001b[0m\u001b[0myear\u001b[0m\u001b[0;34m,\u001b[0m \u001b[0mtipping_deg_neg\u001b[0m\u001b[0;34m,\u001b[0m \u001b[0mk\u001b[0m\u001b[0;34m)\u001b[0m\u001b[0;34m\u001b[0m\u001b[0;34m\u001b[0m\u001b[0m\n\u001b[0m\u001b[1;32m     22\u001b[0m     \u001b[0mto_print\u001b[0m\u001b[0;34m(\u001b[0m\u001b[0mtopics_deg_neg\u001b[0m\u001b[0;34m,\u001b[0m \u001b[0;34m\"tipping\"\u001b[0m\u001b[0;34m,\u001b[0m \u001b[0mk\u001b[0m\u001b[0;34m,\u001b[0m \u001b[0;34m\"deg negative\"\u001b[0m\u001b[0;34m)\u001b[0m\u001b[0;34m\u001b[0m\u001b[0;34m\u001b[0m\u001b[0m\n",
      "\u001b[0;32m<ipython-input-5-60ae7201d3cc>\u001b[0m in \u001b[0;36moverlap_perform\u001b[0;34m(year, all_topics, k)\u001b[0m\n\u001b[1;32m      2\u001b[0m     \u001b[0moverlap\u001b[0m \u001b[0;34m=\u001b[0m \u001b[0mov\u001b[0m\u001b[0;34m.\u001b[0m\u001b[0mOverlapTopics\u001b[0m\u001b[0;34m(\u001b[0m\u001b[0mgraph_timeline_dict\u001b[0m\u001b[0;34m[\u001b[0m\u001b[0mstr\u001b[0m\u001b[0;34m(\u001b[0m\u001b[0myear\u001b[0m\u001b[0;34m)\u001b[0m\u001b[0;34m]\u001b[0m\u001b[0;34m,\u001b[0m \u001b[0mall_topics\u001b[0m\u001b[0;34m,\u001b[0m \u001b[0mk\u001b[0m\u001b[0;34m)\u001b[0m\u001b[0;34m\u001b[0m\u001b[0;34m\u001b[0m\u001b[0m\n\u001b[1;32m      3\u001b[0m     \u001b[0moverlap\u001b[0m\u001b[0;34m.\u001b[0m\u001b[0moverlap_preprocessing\u001b[0m\u001b[0;34m(\u001b[0m\u001b[0;34m)\u001b[0m\u001b[0;34m\u001b[0m\u001b[0;34m\u001b[0m\u001b[0m\n\u001b[0;32m----> 4\u001b[0;31m     \u001b[0moverlap\u001b[0m\u001b[0;34m.\u001b[0m\u001b[0mclique_percolation_method\u001b[0m\u001b[0;34m(\u001b[0m\u001b[0;34m)\u001b[0m\u001b[0;34m\u001b[0m\u001b[0;34m\u001b[0m\u001b[0m\n\u001b[0m\u001b[1;32m      5\u001b[0m     \u001b[0moverlap\u001b[0m\u001b[0;34m.\u001b[0m\u001b[0mcheck_spread_topics\u001b[0m\u001b[0;34m(\u001b[0m\u001b[0;34m)\u001b[0m\u001b[0;34m\u001b[0m\u001b[0;34m\u001b[0m\u001b[0m\n\u001b[1;32m      6\u001b[0m     \u001b[0moverlap\u001b[0m\u001b[0;34m.\u001b[0m\u001b[0mcheck_number_topics\u001b[0m\u001b[0;34m(\u001b[0m\u001b[0;34m)\u001b[0m\u001b[0;34m\u001b[0m\u001b[0;34m\u001b[0m\u001b[0m\n",
      "\u001b[0;32m~/Universita/magistrale/web_and_social_information_extraction/webandsocial-progetto/src/overlaps_topics/overlap_topics.py\u001b[0m in \u001b[0;36mclique_percolation_method\u001b[0;34m(self)\u001b[0m\n\u001b[1;32m    132\u001b[0m         \u001b[0mcommunities\u001b[0m \u001b[0;34m=\u001b[0m \u001b[0mk_clique_communities\u001b[0m\u001b[0;34m(\u001b[0m\u001b[0mG\u001b[0m \u001b[0;34m=\u001b[0m \u001b[0mself\u001b[0m\u001b[0;34m.\u001b[0m\u001b[0m__year_sub_graph\u001b[0m\u001b[0;34m,\u001b[0m \u001b[0mk\u001b[0m \u001b[0;34m=\u001b[0m \u001b[0;36m2\u001b[0m\u001b[0;34m)\u001b[0m\u001b[0;34m\u001b[0m\u001b[0;34m\u001b[0m\u001b[0m\n\u001b[1;32m    133\u001b[0m         \u001b[0;32mfor\u001b[0m \u001b[0mtopic\u001b[0m \u001b[0;32min\u001b[0m \u001b[0mcommunities\u001b[0m\u001b[0;34m:\u001b[0m\u001b[0;34m\u001b[0m\u001b[0;34m\u001b[0m\u001b[0m\n\u001b[0;32m--> 134\u001b[0;31m             \u001b[0mself\u001b[0m\u001b[0;34m.\u001b[0m\u001b[0mcheck_keywords\u001b[0m\u001b[0;34m(\u001b[0m\u001b[0mtopic\u001b[0m\u001b[0;34m)\u001b[0m\u001b[0;34m\u001b[0m\u001b[0;34m\u001b[0m\u001b[0m\n\u001b[0m\u001b[1;32m    135\u001b[0m             \u001b[0mself\u001b[0m\u001b[0;34m.\u001b[0m\u001b[0m__topics\u001b[0m\u001b[0;34m.\u001b[0m\u001b[0mappend\u001b[0m\u001b[0;34m(\u001b[0m\u001b[0mlist\u001b[0m\u001b[0;34m(\u001b[0m\u001b[0mtopic\u001b[0m\u001b[0;34m)\u001b[0m\u001b[0;34m)\u001b[0m\u001b[0;34m\u001b[0m\u001b[0;34m\u001b[0m\u001b[0m\n\u001b[1;32m    136\u001b[0m \u001b[0;34m\u001b[0m\u001b[0m\n",
      "\u001b[0;32m~/Universita/magistrale/web_and_social_information_extraction/webandsocial-progetto/src/overlaps_topics/overlap_topics.py\u001b[0m in \u001b[0;36mcheck_keywords\u001b[0;34m(self, topic)\u001b[0m\n\u001b[1;32m    119\u001b[0m \u001b[0;34m\u001b[0m\u001b[0m\n\u001b[1;32m    120\u001b[0m         \u001b[0;32mif\u001b[0m \u001b[0;32mnot\u001b[0m \u001b[0mregular\u001b[0m\u001b[0;34m:\u001b[0m\u001b[0;34m\u001b[0m\u001b[0;34m\u001b[0m\u001b[0m\n\u001b[0;32m--> 121\u001b[0;31m             \u001b[0;32mraise\u001b[0m \u001b[0mexcpt\u001b[0m\u001b[0;34m.\u001b[0m\u001b[0mTopicMalFormedException\u001b[0m\u001b[0;34m(\u001b[0m\u001b[0;34m\"Topic bad formed.\"\u001b[0m\u001b[0;34m)\u001b[0m\u001b[0;34m\u001b[0m\u001b[0;34m\u001b[0m\u001b[0m\n\u001b[0m\u001b[1;32m    122\u001b[0m \u001b[0;34m\u001b[0m\u001b[0m\n\u001b[1;32m    123\u001b[0m \u001b[0;34m\u001b[0m\u001b[0m\n",
      "\u001b[0;31mTopicMalFormedException\u001b[0m: Topic bad formed."
     ]
    }
   ],
   "source": [
    "overlap_merge_view_deg_neg(2008, k = 10)"
   ]
  },
  {
   "cell_type": "markdown",
   "metadata": {},
   "source": [
    "### Year 2009"
   ]
  },
  {
   "cell_type": "code",
   "execution_count": 93,
   "metadata": {},
   "outputs": [
    {
     "name": "stdout",
     "output_type": "stream",
     "text": [
      "OVERLAP MERGING RESULT WITH CLIQUE PERCOLATION METHOD, TIPPING MODEL, SEED TOP 10 NODES AND DEG THRESHOLD CALCULATION STRATEGY.\n",
      "\n",
      "['cognitive radio', 'frequency allocation', 'frequency band', 'interference (communication)']\n",
      "len_topic: 4\n",
      "\n",
      "['lyapunov fractal', 'anfis', 'rate of convergence', 'evolutionary algorithm', 'algorithm', 'differential evolution', 'aliasing', 'simulation', 'adaptive neuro fuzzy inference system', 'reinforcement learning', '3d modeling', 'test suite', 'disjunctive normal form', 'identification', 'stability analysis', 'optimization problem', 'particle swarm optimization', 'data mining\\xa0', 'recursion', 'mathematical optimization', 'gradient descent', 'fuzzy rule', 'recursive least squares filter', 'system identifier', 'machine learning', 'hybrid learning algorithm', 'global optimization']\n",
      "len_topic: 27\n",
      "\n",
      "['05.45.vx', '05.45.xt', 'complex networks', '05.45.gg']\n",
      "len_topic: 4\n",
      "\n"
     ]
    }
   ],
   "source": [
    "overlap_merge_view_deg(2009, k = 10)"
   ]
  },
  {
   "cell_type": "code",
   "execution_count": 94,
   "metadata": {},
   "outputs": [
    {
     "ename": "TopicNotAllKeywordsUsedException",
     "evalue": "To perfom all topics not all keywords have been used.",
     "output_type": "error",
     "traceback": [
      "\u001b[0;31m---------------------------------------------------------------------------\u001b[0m",
      "\u001b[0;31mTopicNotAllKeywordsUsedException\u001b[0m          Traceback (most recent call last)",
      "\u001b[0;32m<ipython-input-94-76181419dc50>\u001b[0m in \u001b[0;36m<module>\u001b[0;34m\u001b[0m\n\u001b[0;32m----> 1\u001b[0;31m \u001b[0moverlap_merge_view_half\u001b[0m\u001b[0;34m(\u001b[0m\u001b[0;36m2009\u001b[0m\u001b[0;34m,\u001b[0m \u001b[0mk\u001b[0m \u001b[0;34m=\u001b[0m \u001b[0;36m10\u001b[0m\u001b[0;34m)\u001b[0m\u001b[0;34m\u001b[0m\u001b[0;34m\u001b[0m\u001b[0m\n\u001b[0m",
      "\u001b[0;32m<ipython-input-6-aa88f64ba5fa>\u001b[0m in \u001b[0;36moverlap_merge_view_half\u001b[0;34m(year, k)\u001b[0m\n\u001b[1;32m     11\u001b[0m     \u001b[0mspread_dict\u001b[0m\u001b[0;34m[\u001b[0m\u001b[0mstr\u001b[0m\u001b[0;34m(\u001b[0m\u001b[0myear\u001b[0m\u001b[0;34m)\u001b[0m\u001b[0;34m]\u001b[0m\u001b[0;34m.\u001b[0m\u001b[0mtipping_model\u001b[0m\u001b[0;34m(\u001b[0m\u001b[0;34m)\u001b[0m\u001b[0;34m\u001b[0m\u001b[0;34m\u001b[0m\u001b[0m\n\u001b[1;32m     12\u001b[0m     \u001b[0mtipping_half\u001b[0m \u001b[0;34m=\u001b[0m \u001b[0mspread_dict\u001b[0m\u001b[0;34m[\u001b[0m\u001b[0mstr\u001b[0m\u001b[0;34m(\u001b[0m\u001b[0myear\u001b[0m\u001b[0;34m)\u001b[0m\u001b[0;34m]\u001b[0m\u001b[0;34m.\u001b[0m\u001b[0mget_influenced_nodes\u001b[0m\u001b[0;34m(\u001b[0m\u001b[0;34m)\u001b[0m\u001b[0;34m\u001b[0m\u001b[0;34m\u001b[0m\u001b[0m\n\u001b[0;32m---> 13\u001b[0;31m     \u001b[0mtopics_half\u001b[0m \u001b[0;34m=\u001b[0m \u001b[0moverlap_perform\u001b[0m\u001b[0;34m(\u001b[0m\u001b[0myear\u001b[0m\u001b[0;34m,\u001b[0m \u001b[0mtipping_half\u001b[0m\u001b[0;34m,\u001b[0m \u001b[0mk\u001b[0m\u001b[0;34m)\u001b[0m\u001b[0;34m\u001b[0m\u001b[0;34m\u001b[0m\u001b[0m\n\u001b[0m\u001b[1;32m     14\u001b[0m     \u001b[0mto_print\u001b[0m\u001b[0;34m(\u001b[0m\u001b[0mtopics_half\u001b[0m\u001b[0;34m,\u001b[0m \u001b[0;34m\"tipping\"\u001b[0m\u001b[0;34m,\u001b[0m \u001b[0mk\u001b[0m\u001b[0;34m,\u001b[0m \u001b[0;34m\"half\"\u001b[0m\u001b[0;34m)\u001b[0m\u001b[0;34m\u001b[0m\u001b[0;34m\u001b[0m\u001b[0m\n\u001b[1;32m     15\u001b[0m \u001b[0;34m\u001b[0m\u001b[0m\n",
      "\u001b[0;32m<ipython-input-5-60ae7201d3cc>\u001b[0m in \u001b[0;36moverlap_perform\u001b[0;34m(year, all_topics, k)\u001b[0m\n\u001b[1;32m      3\u001b[0m     \u001b[0moverlap\u001b[0m\u001b[0;34m.\u001b[0m\u001b[0moverlap_preprocessing\u001b[0m\u001b[0;34m(\u001b[0m\u001b[0;34m)\u001b[0m\u001b[0;34m\u001b[0m\u001b[0;34m\u001b[0m\u001b[0m\n\u001b[1;32m      4\u001b[0m     \u001b[0moverlap\u001b[0m\u001b[0;34m.\u001b[0m\u001b[0mclique_percolation_method\u001b[0m\u001b[0;34m(\u001b[0m\u001b[0;34m)\u001b[0m\u001b[0;34m\u001b[0m\u001b[0;34m\u001b[0m\u001b[0m\n\u001b[0;32m----> 5\u001b[0;31m     \u001b[0moverlap\u001b[0m\u001b[0;34m.\u001b[0m\u001b[0mcheck_spread_topics\u001b[0m\u001b[0;34m(\u001b[0m\u001b[0;34m)\u001b[0m\u001b[0;34m\u001b[0m\u001b[0;34m\u001b[0m\u001b[0m\n\u001b[0m\u001b[1;32m      6\u001b[0m     \u001b[0moverlap\u001b[0m\u001b[0;34m.\u001b[0m\u001b[0mcheck_number_topics\u001b[0m\u001b[0;34m(\u001b[0m\u001b[0;34m)\u001b[0m\u001b[0;34m\u001b[0m\u001b[0;34m\u001b[0m\u001b[0m\n\u001b[1;32m      7\u001b[0m     \u001b[0;32mreturn\u001b[0m \u001b[0moverlap\u001b[0m\u001b[0;34m.\u001b[0m\u001b[0mget_topics\u001b[0m\u001b[0;34m(\u001b[0m\u001b[0;34m)\u001b[0m\u001b[0;34m\u001b[0m\u001b[0;34m\u001b[0m\u001b[0m\n",
      "\u001b[0;32m~/Universita/magistrale/web_and_social_information_extraction/webandsocial-progetto/src/overlaps_topics/overlap_topics.py\u001b[0m in \u001b[0;36mcheck_spread_topics\u001b[0;34m(self)\u001b[0m\n\u001b[1;32m    156\u001b[0m \u001b[0;34m\u001b[0m\u001b[0m\n\u001b[1;32m    157\u001b[0m         \u001b[0;32mif\u001b[0m \u001b[0msize_iteration\u001b[0m \u001b[0;34m!=\u001b[0m \u001b[0msize_topics\u001b[0m\u001b[0;34m:\u001b[0m\u001b[0;34m\u001b[0m\u001b[0;34m\u001b[0m\u001b[0m\n\u001b[0;32m--> 158\u001b[0;31m             \u001b[0;32mraise\u001b[0m \u001b[0mexcpt\u001b[0m\u001b[0;34m.\u001b[0m\u001b[0mTopicNotAllKeywordsUsedException\u001b[0m\u001b[0;34m(\u001b[0m\u001b[0;34m\"To perfom all topics not all keywords have been used.\"\u001b[0m\u001b[0;34m)\u001b[0m\u001b[0;34m\u001b[0m\u001b[0;34m\u001b[0m\u001b[0m\n\u001b[0m\u001b[1;32m    159\u001b[0m \u001b[0;34m\u001b[0m\u001b[0m\n\u001b[1;32m    160\u001b[0m \u001b[0;34m\u001b[0m\u001b[0m\n",
      "\u001b[0;31mTopicNotAllKeywordsUsedException\u001b[0m: To perfom all topics not all keywords have been used."
     ]
    }
   ],
   "source": [
    "overlap_merge_view_half(2009, k = 10)"
   ]
  },
  {
   "cell_type": "code",
   "execution_count": 95,
   "metadata": {},
   "outputs": [
    {
     "ename": "TopicMalFormedException",
     "evalue": "Topic bad formed.",
     "output_type": "error",
     "traceback": [
      "\u001b[0;31m---------------------------------------------------------------------------\u001b[0m",
      "\u001b[0;31mTopicMalFormedException\u001b[0m                   Traceback (most recent call last)",
      "\u001b[0;32m<ipython-input-95-2136a6a1b3c3>\u001b[0m in \u001b[0;36m<module>\u001b[0;34m\u001b[0m\n\u001b[0;32m----> 1\u001b[0;31m \u001b[0moverlap_merge_view_deg_neg\u001b[0m\u001b[0;34m(\u001b[0m\u001b[0;36m2009\u001b[0m\u001b[0;34m,\u001b[0m \u001b[0mk\u001b[0m \u001b[0;34m=\u001b[0m \u001b[0;36m10\u001b[0m\u001b[0;34m)\u001b[0m\u001b[0;34m\u001b[0m\u001b[0;34m\u001b[0m\u001b[0m\n\u001b[0m",
      "\u001b[0;32m<ipython-input-6-aa88f64ba5fa>\u001b[0m in \u001b[0;36moverlap_merge_view_deg_neg\u001b[0;34m(year, k)\u001b[0m\n\u001b[1;32m     19\u001b[0m     \u001b[0mspread_dict\u001b[0m\u001b[0;34m[\u001b[0m\u001b[0mstr\u001b[0m\u001b[0;34m(\u001b[0m\u001b[0myear\u001b[0m\u001b[0;34m)\u001b[0m\u001b[0;34m]\u001b[0m\u001b[0;34m.\u001b[0m\u001b[0mtipping_model\u001b[0m\u001b[0;34m(\u001b[0m\u001b[0;34m)\u001b[0m\u001b[0;34m\u001b[0m\u001b[0;34m\u001b[0m\u001b[0m\n\u001b[1;32m     20\u001b[0m     \u001b[0mtipping_deg_neg\u001b[0m \u001b[0;34m=\u001b[0m \u001b[0mspread_dict\u001b[0m\u001b[0;34m[\u001b[0m\u001b[0mstr\u001b[0m\u001b[0;34m(\u001b[0m\u001b[0myear\u001b[0m\u001b[0;34m)\u001b[0m\u001b[0;34m]\u001b[0m\u001b[0;34m.\u001b[0m\u001b[0mget_influenced_nodes\u001b[0m\u001b[0;34m(\u001b[0m\u001b[0;34m)\u001b[0m\u001b[0;34m\u001b[0m\u001b[0;34m\u001b[0m\u001b[0m\n\u001b[0;32m---> 21\u001b[0;31m     \u001b[0mtopics_deg_neg\u001b[0m \u001b[0;34m=\u001b[0m \u001b[0moverlap_perform\u001b[0m\u001b[0;34m(\u001b[0m\u001b[0myear\u001b[0m\u001b[0;34m,\u001b[0m \u001b[0mtipping_deg_neg\u001b[0m\u001b[0;34m,\u001b[0m \u001b[0mk\u001b[0m\u001b[0;34m)\u001b[0m\u001b[0;34m\u001b[0m\u001b[0;34m\u001b[0m\u001b[0m\n\u001b[0m\u001b[1;32m     22\u001b[0m     \u001b[0mto_print\u001b[0m\u001b[0;34m(\u001b[0m\u001b[0mtopics_deg_neg\u001b[0m\u001b[0;34m,\u001b[0m \u001b[0;34m\"tipping\"\u001b[0m\u001b[0;34m,\u001b[0m \u001b[0mk\u001b[0m\u001b[0;34m,\u001b[0m \u001b[0;34m\"deg negative\"\u001b[0m\u001b[0;34m)\u001b[0m\u001b[0;34m\u001b[0m\u001b[0;34m\u001b[0m\u001b[0m\n",
      "\u001b[0;32m<ipython-input-5-60ae7201d3cc>\u001b[0m in \u001b[0;36moverlap_perform\u001b[0;34m(year, all_topics, k)\u001b[0m\n\u001b[1;32m      2\u001b[0m     \u001b[0moverlap\u001b[0m \u001b[0;34m=\u001b[0m \u001b[0mov\u001b[0m\u001b[0;34m.\u001b[0m\u001b[0mOverlapTopics\u001b[0m\u001b[0;34m(\u001b[0m\u001b[0mgraph_timeline_dict\u001b[0m\u001b[0;34m[\u001b[0m\u001b[0mstr\u001b[0m\u001b[0;34m(\u001b[0m\u001b[0myear\u001b[0m\u001b[0;34m)\u001b[0m\u001b[0;34m]\u001b[0m\u001b[0;34m,\u001b[0m \u001b[0mall_topics\u001b[0m\u001b[0;34m,\u001b[0m \u001b[0mk\u001b[0m\u001b[0;34m)\u001b[0m\u001b[0;34m\u001b[0m\u001b[0;34m\u001b[0m\u001b[0m\n\u001b[1;32m      3\u001b[0m     \u001b[0moverlap\u001b[0m\u001b[0;34m.\u001b[0m\u001b[0moverlap_preprocessing\u001b[0m\u001b[0;34m(\u001b[0m\u001b[0;34m)\u001b[0m\u001b[0;34m\u001b[0m\u001b[0;34m\u001b[0m\u001b[0m\n\u001b[0;32m----> 4\u001b[0;31m     \u001b[0moverlap\u001b[0m\u001b[0;34m.\u001b[0m\u001b[0mclique_percolation_method\u001b[0m\u001b[0;34m(\u001b[0m\u001b[0;34m)\u001b[0m\u001b[0;34m\u001b[0m\u001b[0;34m\u001b[0m\u001b[0m\n\u001b[0m\u001b[1;32m      5\u001b[0m     \u001b[0moverlap\u001b[0m\u001b[0;34m.\u001b[0m\u001b[0mcheck_spread_topics\u001b[0m\u001b[0;34m(\u001b[0m\u001b[0;34m)\u001b[0m\u001b[0;34m\u001b[0m\u001b[0;34m\u001b[0m\u001b[0m\n\u001b[1;32m      6\u001b[0m     \u001b[0moverlap\u001b[0m\u001b[0;34m.\u001b[0m\u001b[0mcheck_number_topics\u001b[0m\u001b[0;34m(\u001b[0m\u001b[0;34m)\u001b[0m\u001b[0;34m\u001b[0m\u001b[0;34m\u001b[0m\u001b[0m\n",
      "\u001b[0;32m~/Universita/magistrale/web_and_social_information_extraction/webandsocial-progetto/src/overlaps_topics/overlap_topics.py\u001b[0m in \u001b[0;36mclique_percolation_method\u001b[0;34m(self)\u001b[0m\n\u001b[1;32m    132\u001b[0m         \u001b[0mcommunities\u001b[0m \u001b[0;34m=\u001b[0m \u001b[0mk_clique_communities\u001b[0m\u001b[0;34m(\u001b[0m\u001b[0mG\u001b[0m \u001b[0;34m=\u001b[0m \u001b[0mself\u001b[0m\u001b[0;34m.\u001b[0m\u001b[0m__year_sub_graph\u001b[0m\u001b[0;34m,\u001b[0m \u001b[0mk\u001b[0m \u001b[0;34m=\u001b[0m \u001b[0;36m2\u001b[0m\u001b[0;34m)\u001b[0m\u001b[0;34m\u001b[0m\u001b[0;34m\u001b[0m\u001b[0m\n\u001b[1;32m    133\u001b[0m         \u001b[0;32mfor\u001b[0m \u001b[0mtopic\u001b[0m \u001b[0;32min\u001b[0m \u001b[0mcommunities\u001b[0m\u001b[0;34m:\u001b[0m\u001b[0;34m\u001b[0m\u001b[0;34m\u001b[0m\u001b[0m\n\u001b[0;32m--> 134\u001b[0;31m             \u001b[0mself\u001b[0m\u001b[0;34m.\u001b[0m\u001b[0mcheck_keywords\u001b[0m\u001b[0;34m(\u001b[0m\u001b[0mtopic\u001b[0m\u001b[0;34m)\u001b[0m\u001b[0;34m\u001b[0m\u001b[0;34m\u001b[0m\u001b[0m\n\u001b[0m\u001b[1;32m    135\u001b[0m             \u001b[0mself\u001b[0m\u001b[0;34m.\u001b[0m\u001b[0m__topics\u001b[0m\u001b[0;34m.\u001b[0m\u001b[0mappend\u001b[0m\u001b[0;34m(\u001b[0m\u001b[0mlist\u001b[0m\u001b[0;34m(\u001b[0m\u001b[0mtopic\u001b[0m\u001b[0;34m)\u001b[0m\u001b[0;34m)\u001b[0m\u001b[0;34m\u001b[0m\u001b[0;34m\u001b[0m\u001b[0m\n\u001b[1;32m    136\u001b[0m \u001b[0;34m\u001b[0m\u001b[0m\n",
      "\u001b[0;32m~/Universita/magistrale/web_and_social_information_extraction/webandsocial-progetto/src/overlaps_topics/overlap_topics.py\u001b[0m in \u001b[0;36mcheck_keywords\u001b[0;34m(self, topic)\u001b[0m\n\u001b[1;32m    119\u001b[0m \u001b[0;34m\u001b[0m\u001b[0m\n\u001b[1;32m    120\u001b[0m         \u001b[0;32mif\u001b[0m \u001b[0;32mnot\u001b[0m \u001b[0mregular\u001b[0m\u001b[0;34m:\u001b[0m\u001b[0;34m\u001b[0m\u001b[0;34m\u001b[0m\u001b[0m\n\u001b[0;32m--> 121\u001b[0;31m             \u001b[0;32mraise\u001b[0m \u001b[0mexcpt\u001b[0m\u001b[0;34m.\u001b[0m\u001b[0mTopicMalFormedException\u001b[0m\u001b[0;34m(\u001b[0m\u001b[0;34m\"Topic bad formed.\"\u001b[0m\u001b[0;34m)\u001b[0m\u001b[0;34m\u001b[0m\u001b[0;34m\u001b[0m\u001b[0m\n\u001b[0m\u001b[1;32m    122\u001b[0m \u001b[0;34m\u001b[0m\u001b[0m\n\u001b[1;32m    123\u001b[0m \u001b[0;34m\u001b[0m\u001b[0m\n",
      "\u001b[0;31mTopicMalFormedException\u001b[0m: Topic bad formed."
     ]
    }
   ],
   "source": [
    "overlap_merge_view_deg_neg(2009, k = 10)"
   ]
  },
  {
   "cell_type": "markdown",
   "metadata": {},
   "source": [
    "### Year 2010"
   ]
  },
  {
   "cell_type": "code",
   "execution_count": 96,
   "metadata": {},
   "outputs": [
    {
     "name": "stdout",
     "output_type": "stream",
     "text": [
      "OVERLAP MERGING RESULT WITH CLIQUE PERCOLATION METHOD, TIPPING MODEL, SEED TOP 10 NODES AND DEG THRESHOLD CALCULATION STRATEGY.\n",
      "\n",
      "['neural networks', 'lyapunov fractal', 'complex network', 'genetic regulatory networks', 'gene regulatory network', 'multistability', 'systems biology', 'artificial neural network', 'global exponential stability', 'lyapunov functional', 'linear matrix inequality', 'lyapunov–krasovskii functional', 'social inequality', 'analysis technique', 'global asymptotic stability', 'time complexity', 'neutral type']\n",
      "len_topic: 17\n",
      "\n",
      "['algorithm', 'data mining', 'iterative method', 'stationary process', 'numerous', 'real-time transcription', 'scheduling (computing)', 'height above ground level', 'particle swarm optimization', 'numerical analysis', 'decision tree', 'rate of convergence', 'centralized computing', 'real-time clock', 'self-organization', 'simulation', 'reinforcement learning', 'multi-agent system', 'cognition', 'network congestion', 'context awareness', 'cognitive radio', 'game theory', \"whole earth 'lectronic link\", 'overhead (computing)', 'coexist (image)', 'mathematical optimization', 'action selection', 'programming paradigm', 'interaction', 'spectrum analyzer', 'interference (communication)', 'machine learning', 'operating environment', 'channel capacity', 'q-learning']\n",
      "len_topic: 36\n",
      "\n"
     ]
    }
   ],
   "source": [
    "overlap_merge_view_deg(2010, k = 10)"
   ]
  },
  {
   "cell_type": "code",
   "execution_count": 97,
   "metadata": {},
   "outputs": [
    {
     "name": "stdout",
     "output_type": "stream",
     "text": [
      "OVERLAP MERGING RESULT WITH CLIQUE PERCOLATION METHOD, TIPPING MODEL, SEED TOP 10 NODES AND HALF THRESHOLD CALCULATION STRATEGY.\n",
      "\n",
      "['neural networks', 'complex network', 'genetic regulatory networks', 'multistability', 'artificial neural network', 'global exponential stability', 'lyapunov functional', 'linear matrix inequality', 'lyapunov–krasovskii functional', 'social inequality', 'analysis technique', 'global asymptotic stability', 'time complexity', 'neutral type']\n",
      "len_topic: 14\n",
      "\n",
      "['decision tree', 'rate of convergence', 'algorithm', 'centralized computing', 'real-time clock', 'data mining', 'self-organization', 'simulation', 'channel capacity', 'iterative method', 'reinforcement learning', 'multi-agent system', 'cognition', 'stationary process', 'cognitive radio', 'game theory', \"whole earth 'lectronic link\", 'overhead (computing)', 'coexist (image)', 'numerous', 'mathematical optimization', 'programming paradigm', 'action selection', 'real-time transcription', 'interaction', 'spectrum analyzer', 'interference (communication)', 'height above ground level', 'machine learning', 'particle swarm optimization', 'numerical analysis', 'q-learning']\n",
      "len_topic: 32\n",
      "\n"
     ]
    }
   ],
   "source": [
    "overlap_merge_view_half(2010, k = 10)"
   ]
  },
  {
   "cell_type": "code",
   "execution_count": 98,
   "metadata": {},
   "outputs": [
    {
     "ename": "TopicMalFormedException",
     "evalue": "Topic bad formed.",
     "output_type": "error",
     "traceback": [
      "\u001b[0;31m---------------------------------------------------------------------------\u001b[0m",
      "\u001b[0;31mTopicMalFormedException\u001b[0m                   Traceback (most recent call last)",
      "\u001b[0;32m<ipython-input-98-2affd7ab2291>\u001b[0m in \u001b[0;36m<module>\u001b[0;34m\u001b[0m\n\u001b[0;32m----> 1\u001b[0;31m \u001b[0moverlap_merge_view_deg_neg\u001b[0m\u001b[0;34m(\u001b[0m\u001b[0;36m2010\u001b[0m\u001b[0;34m,\u001b[0m \u001b[0mk\u001b[0m \u001b[0;34m=\u001b[0m \u001b[0;36m10\u001b[0m\u001b[0;34m)\u001b[0m\u001b[0;34m\u001b[0m\u001b[0;34m\u001b[0m\u001b[0m\n\u001b[0m",
      "\u001b[0;32m<ipython-input-6-aa88f64ba5fa>\u001b[0m in \u001b[0;36moverlap_merge_view_deg_neg\u001b[0;34m(year, k)\u001b[0m\n\u001b[1;32m     19\u001b[0m     \u001b[0mspread_dict\u001b[0m\u001b[0;34m[\u001b[0m\u001b[0mstr\u001b[0m\u001b[0;34m(\u001b[0m\u001b[0myear\u001b[0m\u001b[0;34m)\u001b[0m\u001b[0;34m]\u001b[0m\u001b[0;34m.\u001b[0m\u001b[0mtipping_model\u001b[0m\u001b[0;34m(\u001b[0m\u001b[0;34m)\u001b[0m\u001b[0;34m\u001b[0m\u001b[0;34m\u001b[0m\u001b[0m\n\u001b[1;32m     20\u001b[0m     \u001b[0mtipping_deg_neg\u001b[0m \u001b[0;34m=\u001b[0m \u001b[0mspread_dict\u001b[0m\u001b[0;34m[\u001b[0m\u001b[0mstr\u001b[0m\u001b[0;34m(\u001b[0m\u001b[0myear\u001b[0m\u001b[0;34m)\u001b[0m\u001b[0;34m]\u001b[0m\u001b[0;34m.\u001b[0m\u001b[0mget_influenced_nodes\u001b[0m\u001b[0;34m(\u001b[0m\u001b[0;34m)\u001b[0m\u001b[0;34m\u001b[0m\u001b[0;34m\u001b[0m\u001b[0m\n\u001b[0;32m---> 21\u001b[0;31m     \u001b[0mtopics_deg_neg\u001b[0m \u001b[0;34m=\u001b[0m \u001b[0moverlap_perform\u001b[0m\u001b[0;34m(\u001b[0m\u001b[0myear\u001b[0m\u001b[0;34m,\u001b[0m \u001b[0mtipping_deg_neg\u001b[0m\u001b[0;34m,\u001b[0m \u001b[0mk\u001b[0m\u001b[0;34m)\u001b[0m\u001b[0;34m\u001b[0m\u001b[0;34m\u001b[0m\u001b[0m\n\u001b[0m\u001b[1;32m     22\u001b[0m     \u001b[0mto_print\u001b[0m\u001b[0;34m(\u001b[0m\u001b[0mtopics_deg_neg\u001b[0m\u001b[0;34m,\u001b[0m \u001b[0;34m\"tipping\"\u001b[0m\u001b[0;34m,\u001b[0m \u001b[0mk\u001b[0m\u001b[0;34m,\u001b[0m \u001b[0;34m\"deg negative\"\u001b[0m\u001b[0;34m)\u001b[0m\u001b[0;34m\u001b[0m\u001b[0;34m\u001b[0m\u001b[0m\n",
      "\u001b[0;32m<ipython-input-5-60ae7201d3cc>\u001b[0m in \u001b[0;36moverlap_perform\u001b[0;34m(year, all_topics, k)\u001b[0m\n\u001b[1;32m      2\u001b[0m     \u001b[0moverlap\u001b[0m \u001b[0;34m=\u001b[0m \u001b[0mov\u001b[0m\u001b[0;34m.\u001b[0m\u001b[0mOverlapTopics\u001b[0m\u001b[0;34m(\u001b[0m\u001b[0mgraph_timeline_dict\u001b[0m\u001b[0;34m[\u001b[0m\u001b[0mstr\u001b[0m\u001b[0;34m(\u001b[0m\u001b[0myear\u001b[0m\u001b[0;34m)\u001b[0m\u001b[0;34m]\u001b[0m\u001b[0;34m,\u001b[0m \u001b[0mall_topics\u001b[0m\u001b[0;34m,\u001b[0m \u001b[0mk\u001b[0m\u001b[0;34m)\u001b[0m\u001b[0;34m\u001b[0m\u001b[0;34m\u001b[0m\u001b[0m\n\u001b[1;32m      3\u001b[0m     \u001b[0moverlap\u001b[0m\u001b[0;34m.\u001b[0m\u001b[0moverlap_preprocessing\u001b[0m\u001b[0;34m(\u001b[0m\u001b[0;34m)\u001b[0m\u001b[0;34m\u001b[0m\u001b[0;34m\u001b[0m\u001b[0m\n\u001b[0;32m----> 4\u001b[0;31m     \u001b[0moverlap\u001b[0m\u001b[0;34m.\u001b[0m\u001b[0mclique_percolation_method\u001b[0m\u001b[0;34m(\u001b[0m\u001b[0;34m)\u001b[0m\u001b[0;34m\u001b[0m\u001b[0;34m\u001b[0m\u001b[0m\n\u001b[0m\u001b[1;32m      5\u001b[0m     \u001b[0moverlap\u001b[0m\u001b[0;34m.\u001b[0m\u001b[0mcheck_spread_topics\u001b[0m\u001b[0;34m(\u001b[0m\u001b[0;34m)\u001b[0m\u001b[0;34m\u001b[0m\u001b[0;34m\u001b[0m\u001b[0m\n\u001b[1;32m      6\u001b[0m     \u001b[0moverlap\u001b[0m\u001b[0;34m.\u001b[0m\u001b[0mcheck_number_topics\u001b[0m\u001b[0;34m(\u001b[0m\u001b[0;34m)\u001b[0m\u001b[0;34m\u001b[0m\u001b[0;34m\u001b[0m\u001b[0m\n",
      "\u001b[0;32m~/Universita/magistrale/web_and_social_information_extraction/webandsocial-progetto/src/overlaps_topics/overlap_topics.py\u001b[0m in \u001b[0;36mclique_percolation_method\u001b[0;34m(self)\u001b[0m\n\u001b[1;32m    132\u001b[0m         \u001b[0mcommunities\u001b[0m \u001b[0;34m=\u001b[0m \u001b[0mk_clique_communities\u001b[0m\u001b[0;34m(\u001b[0m\u001b[0mG\u001b[0m \u001b[0;34m=\u001b[0m \u001b[0mself\u001b[0m\u001b[0;34m.\u001b[0m\u001b[0m__year_sub_graph\u001b[0m\u001b[0;34m,\u001b[0m \u001b[0mk\u001b[0m \u001b[0;34m=\u001b[0m \u001b[0;36m2\u001b[0m\u001b[0;34m)\u001b[0m\u001b[0;34m\u001b[0m\u001b[0;34m\u001b[0m\u001b[0m\n\u001b[1;32m    133\u001b[0m         \u001b[0;32mfor\u001b[0m \u001b[0mtopic\u001b[0m \u001b[0;32min\u001b[0m \u001b[0mcommunities\u001b[0m\u001b[0;34m:\u001b[0m\u001b[0;34m\u001b[0m\u001b[0;34m\u001b[0m\u001b[0m\n\u001b[0;32m--> 134\u001b[0;31m             \u001b[0mself\u001b[0m\u001b[0;34m.\u001b[0m\u001b[0mcheck_keywords\u001b[0m\u001b[0;34m(\u001b[0m\u001b[0mtopic\u001b[0m\u001b[0;34m)\u001b[0m\u001b[0;34m\u001b[0m\u001b[0;34m\u001b[0m\u001b[0m\n\u001b[0m\u001b[1;32m    135\u001b[0m             \u001b[0mself\u001b[0m\u001b[0;34m.\u001b[0m\u001b[0m__topics\u001b[0m\u001b[0;34m.\u001b[0m\u001b[0mappend\u001b[0m\u001b[0;34m(\u001b[0m\u001b[0mlist\u001b[0m\u001b[0;34m(\u001b[0m\u001b[0mtopic\u001b[0m\u001b[0;34m)\u001b[0m\u001b[0;34m)\u001b[0m\u001b[0;34m\u001b[0m\u001b[0;34m\u001b[0m\u001b[0m\n\u001b[1;32m    136\u001b[0m \u001b[0;34m\u001b[0m\u001b[0m\n",
      "\u001b[0;32m~/Universita/magistrale/web_and_social_information_extraction/webandsocial-progetto/src/overlaps_topics/overlap_topics.py\u001b[0m in \u001b[0;36mcheck_keywords\u001b[0;34m(self, topic)\u001b[0m\n\u001b[1;32m    119\u001b[0m \u001b[0;34m\u001b[0m\u001b[0m\n\u001b[1;32m    120\u001b[0m         \u001b[0;32mif\u001b[0m \u001b[0;32mnot\u001b[0m \u001b[0mregular\u001b[0m\u001b[0;34m:\u001b[0m\u001b[0;34m\u001b[0m\u001b[0;34m\u001b[0m\u001b[0m\n\u001b[0;32m--> 121\u001b[0;31m             \u001b[0;32mraise\u001b[0m \u001b[0mexcpt\u001b[0m\u001b[0;34m.\u001b[0m\u001b[0mTopicMalFormedException\u001b[0m\u001b[0;34m(\u001b[0m\u001b[0;34m\"Topic bad formed.\"\u001b[0m\u001b[0;34m)\u001b[0m\u001b[0;34m\u001b[0m\u001b[0;34m\u001b[0m\u001b[0m\n\u001b[0m\u001b[1;32m    122\u001b[0m \u001b[0;34m\u001b[0m\u001b[0m\n\u001b[1;32m    123\u001b[0m \u001b[0;34m\u001b[0m\u001b[0m\n",
      "\u001b[0;31mTopicMalFormedException\u001b[0m: Topic bad formed."
     ]
    }
   ],
   "source": [
    "overlap_merge_view_deg_neg(2010, k = 10)"
   ]
  },
  {
   "cell_type": "markdown",
   "metadata": {},
   "source": [
    "### Year 2011"
   ]
  },
  {
   "cell_type": "code",
   "execution_count": 99,
   "metadata": {},
   "outputs": [
    {
     "name": "stdout",
     "output_type": "stream",
     "text": [
      "OVERLAP MERGING RESULT WITH CLIQUE PERCOLATION METHOD, TIPPING MODEL, SEED TOP 10 NODES AND DEG THRESHOLD CALCULATION STRATEGY.\n",
      "\n",
      "['lyapunov fractal', 'ising model', 'impulses', 'algorithm', 'exponential', 'artificial neural network', 'quality of service', 'stochastic neural network', 'tree rearrangement', 'experiment', 'hopfield-type neural networks', 'checking (action)', 'convex function', 'spectral leakage', 'parameter adaptation', 'hopfield network', 's ability', 'particle swarm optimization', 'time complexity', 'plasmon', 'numerical analysis', 'resonance', 'autonomous robot', 'low-power broadcasting', 'neural network simulation', 'population diversity', 'evolutionary algorithm', 'differential evolution', 'broadcast delay', 'centralized computing', 'linear matrix inequality', 'simulation', 'software deployment', 'reinforcement learning', 'fairness measure', 'cognitive radio', 'approximation algorithm', 'mathematical optimization', 'multitier architecture', 'interaction', 'social inequality', 'distributed delays', 'nonlinear system', 'interference (communication)', 'telecommunications link', 'machine learning', 'synchronization (computer science)', 'signal-to-interference-plus-noise ratio', 'channel capacity']\n",
      "len_topic: 49\n",
      "\n"
     ]
    }
   ],
   "source": [
    "overlap_merge_view_deg(2011, k = 10)"
   ]
  },
  {
   "cell_type": "code",
   "execution_count": 100,
   "metadata": {},
   "outputs": [
    {
     "name": "stdout",
     "output_type": "stream",
     "text": [
      "OVERLAP MERGING RESULT WITH CLIQUE PERCOLATION METHOD, TIPPING MODEL, SEED TOP 10 NODES AND HALF THRESHOLD CALCULATION STRATEGY.\n",
      "\n",
      "['lyapunov fractal', 'exponential', 'algorithm', 'artificial neural network', 'quality of service', 'stochastic neural network', 'tree rearrangement', 'experiment', 'checking (action)', 'spectral leakage', 'parameter adaptation', 'hopfield network', 's ability', 'particle swarm optimization', 'time complexity', 'plasmon', 'numerical analysis', 'resonance', 'autonomous robot', 'low-power broadcasting', 'neural network simulation', 'population diversity', 'evolutionary algorithm', 'differential evolution', 'broadcast delay', 'centralized computing', 'linear matrix inequality', 'simulation', 'software deployment', 'reinforcement learning', 'fairness measure', 'cognitive radio', 'mathematical optimization', 'multitier architecture', 'interaction', 'social inequality', 'interference (communication)', 'telecommunications link', 'machine learning', 'synchronization (computer science)', 'signal-to-interference-plus-noise ratio', 'channel capacity']\n",
      "len_topic: 42\n",
      "\n"
     ]
    }
   ],
   "source": [
    "overlap_merge_view_half(2011, k = 10)"
   ]
  },
  {
   "cell_type": "code",
   "execution_count": 101,
   "metadata": {},
   "outputs": [
    {
     "ename": "TopicMalFormedException",
     "evalue": "Topic bad formed.",
     "output_type": "error",
     "traceback": [
      "\u001b[0;31m---------------------------------------------------------------------------\u001b[0m",
      "\u001b[0;31mTopicMalFormedException\u001b[0m                   Traceback (most recent call last)",
      "\u001b[0;32m<ipython-input-101-e12495f7faef>\u001b[0m in \u001b[0;36m<module>\u001b[0;34m\u001b[0m\n\u001b[0;32m----> 1\u001b[0;31m \u001b[0moverlap_merge_view_deg_neg\u001b[0m\u001b[0;34m(\u001b[0m\u001b[0;36m2011\u001b[0m\u001b[0;34m,\u001b[0m \u001b[0mk\u001b[0m \u001b[0;34m=\u001b[0m \u001b[0;36m10\u001b[0m\u001b[0;34m)\u001b[0m\u001b[0;34m\u001b[0m\u001b[0;34m\u001b[0m\u001b[0m\n\u001b[0m",
      "\u001b[0;32m<ipython-input-6-aa88f64ba5fa>\u001b[0m in \u001b[0;36moverlap_merge_view_deg_neg\u001b[0;34m(year, k)\u001b[0m\n\u001b[1;32m     19\u001b[0m     \u001b[0mspread_dict\u001b[0m\u001b[0;34m[\u001b[0m\u001b[0mstr\u001b[0m\u001b[0;34m(\u001b[0m\u001b[0myear\u001b[0m\u001b[0;34m)\u001b[0m\u001b[0;34m]\u001b[0m\u001b[0;34m.\u001b[0m\u001b[0mtipping_model\u001b[0m\u001b[0;34m(\u001b[0m\u001b[0;34m)\u001b[0m\u001b[0;34m\u001b[0m\u001b[0;34m\u001b[0m\u001b[0m\n\u001b[1;32m     20\u001b[0m     \u001b[0mtipping_deg_neg\u001b[0m \u001b[0;34m=\u001b[0m \u001b[0mspread_dict\u001b[0m\u001b[0;34m[\u001b[0m\u001b[0mstr\u001b[0m\u001b[0;34m(\u001b[0m\u001b[0myear\u001b[0m\u001b[0;34m)\u001b[0m\u001b[0;34m]\u001b[0m\u001b[0;34m.\u001b[0m\u001b[0mget_influenced_nodes\u001b[0m\u001b[0;34m(\u001b[0m\u001b[0;34m)\u001b[0m\u001b[0;34m\u001b[0m\u001b[0;34m\u001b[0m\u001b[0m\n\u001b[0;32m---> 21\u001b[0;31m     \u001b[0mtopics_deg_neg\u001b[0m \u001b[0;34m=\u001b[0m \u001b[0moverlap_perform\u001b[0m\u001b[0;34m(\u001b[0m\u001b[0myear\u001b[0m\u001b[0;34m,\u001b[0m \u001b[0mtipping_deg_neg\u001b[0m\u001b[0;34m,\u001b[0m \u001b[0mk\u001b[0m\u001b[0;34m)\u001b[0m\u001b[0;34m\u001b[0m\u001b[0;34m\u001b[0m\u001b[0m\n\u001b[0m\u001b[1;32m     22\u001b[0m     \u001b[0mto_print\u001b[0m\u001b[0;34m(\u001b[0m\u001b[0mtopics_deg_neg\u001b[0m\u001b[0;34m,\u001b[0m \u001b[0;34m\"tipping\"\u001b[0m\u001b[0;34m,\u001b[0m \u001b[0mk\u001b[0m\u001b[0;34m,\u001b[0m \u001b[0;34m\"deg negative\"\u001b[0m\u001b[0;34m)\u001b[0m\u001b[0;34m\u001b[0m\u001b[0;34m\u001b[0m\u001b[0m\n",
      "\u001b[0;32m<ipython-input-5-60ae7201d3cc>\u001b[0m in \u001b[0;36moverlap_perform\u001b[0;34m(year, all_topics, k)\u001b[0m\n\u001b[1;32m      2\u001b[0m     \u001b[0moverlap\u001b[0m \u001b[0;34m=\u001b[0m \u001b[0mov\u001b[0m\u001b[0;34m.\u001b[0m\u001b[0mOverlapTopics\u001b[0m\u001b[0;34m(\u001b[0m\u001b[0mgraph_timeline_dict\u001b[0m\u001b[0;34m[\u001b[0m\u001b[0mstr\u001b[0m\u001b[0;34m(\u001b[0m\u001b[0myear\u001b[0m\u001b[0;34m)\u001b[0m\u001b[0;34m]\u001b[0m\u001b[0;34m,\u001b[0m \u001b[0mall_topics\u001b[0m\u001b[0;34m,\u001b[0m \u001b[0mk\u001b[0m\u001b[0;34m)\u001b[0m\u001b[0;34m\u001b[0m\u001b[0;34m\u001b[0m\u001b[0m\n\u001b[1;32m      3\u001b[0m     \u001b[0moverlap\u001b[0m\u001b[0;34m.\u001b[0m\u001b[0moverlap_preprocessing\u001b[0m\u001b[0;34m(\u001b[0m\u001b[0;34m)\u001b[0m\u001b[0;34m\u001b[0m\u001b[0;34m\u001b[0m\u001b[0m\n\u001b[0;32m----> 4\u001b[0;31m     \u001b[0moverlap\u001b[0m\u001b[0;34m.\u001b[0m\u001b[0mclique_percolation_method\u001b[0m\u001b[0;34m(\u001b[0m\u001b[0;34m)\u001b[0m\u001b[0;34m\u001b[0m\u001b[0;34m\u001b[0m\u001b[0m\n\u001b[0m\u001b[1;32m      5\u001b[0m     \u001b[0moverlap\u001b[0m\u001b[0;34m.\u001b[0m\u001b[0mcheck_spread_topics\u001b[0m\u001b[0;34m(\u001b[0m\u001b[0;34m)\u001b[0m\u001b[0;34m\u001b[0m\u001b[0;34m\u001b[0m\u001b[0m\n\u001b[1;32m      6\u001b[0m     \u001b[0moverlap\u001b[0m\u001b[0;34m.\u001b[0m\u001b[0mcheck_number_topics\u001b[0m\u001b[0;34m(\u001b[0m\u001b[0;34m)\u001b[0m\u001b[0;34m\u001b[0m\u001b[0;34m\u001b[0m\u001b[0m\n",
      "\u001b[0;32m~/Universita/magistrale/web_and_social_information_extraction/webandsocial-progetto/src/overlaps_topics/overlap_topics.py\u001b[0m in \u001b[0;36mclique_percolation_method\u001b[0;34m(self)\u001b[0m\n\u001b[1;32m    132\u001b[0m         \u001b[0mcommunities\u001b[0m \u001b[0;34m=\u001b[0m \u001b[0mk_clique_communities\u001b[0m\u001b[0;34m(\u001b[0m\u001b[0mG\u001b[0m \u001b[0;34m=\u001b[0m \u001b[0mself\u001b[0m\u001b[0;34m.\u001b[0m\u001b[0m__year_sub_graph\u001b[0m\u001b[0;34m,\u001b[0m \u001b[0mk\u001b[0m \u001b[0;34m=\u001b[0m \u001b[0;36m2\u001b[0m\u001b[0;34m)\u001b[0m\u001b[0;34m\u001b[0m\u001b[0;34m\u001b[0m\u001b[0m\n\u001b[1;32m    133\u001b[0m         \u001b[0;32mfor\u001b[0m \u001b[0mtopic\u001b[0m \u001b[0;32min\u001b[0m \u001b[0mcommunities\u001b[0m\u001b[0;34m:\u001b[0m\u001b[0;34m\u001b[0m\u001b[0;34m\u001b[0m\u001b[0m\n\u001b[0;32m--> 134\u001b[0;31m             \u001b[0mself\u001b[0m\u001b[0;34m.\u001b[0m\u001b[0mcheck_keywords\u001b[0m\u001b[0;34m(\u001b[0m\u001b[0mtopic\u001b[0m\u001b[0;34m)\u001b[0m\u001b[0;34m\u001b[0m\u001b[0;34m\u001b[0m\u001b[0m\n\u001b[0m\u001b[1;32m    135\u001b[0m             \u001b[0mself\u001b[0m\u001b[0;34m.\u001b[0m\u001b[0m__topics\u001b[0m\u001b[0;34m.\u001b[0m\u001b[0mappend\u001b[0m\u001b[0;34m(\u001b[0m\u001b[0mlist\u001b[0m\u001b[0;34m(\u001b[0m\u001b[0mtopic\u001b[0m\u001b[0;34m)\u001b[0m\u001b[0;34m)\u001b[0m\u001b[0;34m\u001b[0m\u001b[0;34m\u001b[0m\u001b[0m\n\u001b[1;32m    136\u001b[0m \u001b[0;34m\u001b[0m\u001b[0m\n",
      "\u001b[0;32m~/Universita/magistrale/web_and_social_information_extraction/webandsocial-progetto/src/overlaps_topics/overlap_topics.py\u001b[0m in \u001b[0;36mcheck_keywords\u001b[0;34m(self, topic)\u001b[0m\n\u001b[1;32m    119\u001b[0m \u001b[0;34m\u001b[0m\u001b[0m\n\u001b[1;32m    120\u001b[0m         \u001b[0;32mif\u001b[0m \u001b[0;32mnot\u001b[0m \u001b[0mregular\u001b[0m\u001b[0;34m:\u001b[0m\u001b[0;34m\u001b[0m\u001b[0;34m\u001b[0m\u001b[0m\n\u001b[0;32m--> 121\u001b[0;31m             \u001b[0;32mraise\u001b[0m \u001b[0mexcpt\u001b[0m\u001b[0;34m.\u001b[0m\u001b[0mTopicMalFormedException\u001b[0m\u001b[0;34m(\u001b[0m\u001b[0;34m\"Topic bad formed.\"\u001b[0m\u001b[0;34m)\u001b[0m\u001b[0;34m\u001b[0m\u001b[0;34m\u001b[0m\u001b[0m\n\u001b[0m\u001b[1;32m    122\u001b[0m \u001b[0;34m\u001b[0m\u001b[0m\n\u001b[1;32m    123\u001b[0m \u001b[0;34m\u001b[0m\u001b[0m\n",
      "\u001b[0;31mTopicMalFormedException\u001b[0m: Topic bad formed."
     ]
    }
   ],
   "source": [
    "overlap_merge_view_deg_neg(2011, k = 10)"
   ]
  },
  {
   "cell_type": "markdown",
   "metadata": {},
   "source": [
    "### Year 2012"
   ]
  },
  {
   "cell_type": "code",
   "execution_count": 102,
   "metadata": {},
   "outputs": [
    {
     "name": "stdout",
     "output_type": "stream",
     "text": [
      "OVERLAP MERGING RESULT WITH CLIQUE PERCOLATION METHOD, TIPPING MODEL, SEED TOP 10 NODES AND DEG THRESHOLD CALCULATION STRATEGY.\n",
      "\n",
      "['cross-validation (statistics)', 'computation', 'algorithm', 'cyclostationary process', 'fuzzy logic', 'data mining', 'experiment', 'missing data', 'genetic algorithm', 'optimization problem', 'fuzzy control system', 'preprocessor', 'genetic operator', 'expectation–maximization algorithm', 'particle swarm optimization', 'deep learning', 'supervised learning', 'premature convergence', 'autonomous robot', 'frequency band', 'evolutionary algorithm', 'radio frequency', 'sparse matrix', 'inference engine', 'benchmark (computing)', 'simulation', 'software deployment', 'trees (plant)', 'reinforcement learning', 'cognition', 'class', 'knapsack problem', 'cognitive radio', 'transmitter', 'coexist (image)', 'gradient', 'mathematical optimization', 'receiver operating characteristic', 'combinatorial optimization', 'interference (communication)', 'telecommunications link', 'machine learning', 'signal-to-interference-plus-noise ratio', 'q-learning']\n",
      "len_topic: 44\n",
      "\n",
      "['test data', 'dropout (neural networks)', 'neural network simulation', 'sampling - surgical action', 'artificial neural network', 'sampling (signal processing)', 'linear matrix inequality', 'social inequality', 'recurrent neural network', 'synchronization (computer science)', 'overfitting', 'time complexity', 'numerical analysis']\n",
      "len_topic: 13\n",
      "\n"
     ]
    }
   ],
   "source": [
    "overlap_merge_view_deg(2012, k = 10)"
   ]
  },
  {
   "cell_type": "code",
   "execution_count": 103,
   "metadata": {},
   "outputs": [
    {
     "name": "stdout",
     "output_type": "stream",
     "text": [
      "OVERLAP MERGING RESULT WITH CLIQUE PERCOLATION METHOD, TIPPING MODEL, SEED TOP 10 NODES AND HALF THRESHOLD CALCULATION STRATEGY.\n",
      "\n",
      "['cross-validation (statistics)', 'premature convergence', 'evolutionary algorithm', 'computation', 'algorithm', 'inference engine', 'fuzzy logic', 'benchmark (computing)', 'simulation', 'software deployment', 'trees (plant)', 'reinforcement learning', 'experiment', 'class', 'genetic algorithm', 'optimization problem', 'knapsack problem', 'cognitive radio', 'coexist (image)', 'fuzzy control system', 'gradient', 'mathematical optimization', 'combinatorial optimization', 'genetic operator', 'interference (communication)', 'telecommunications link', 'expectation–maximization algorithm', 'particle swarm optimization', 'deep learning']\n",
      "len_topic: 29\n",
      "\n",
      "['artificial neural network', 'time complexity', 'recurrent neural network']\n",
      "len_topic: 3\n",
      "\n"
     ]
    }
   ],
   "source": [
    "overlap_merge_view_half(2012, k = 10)"
   ]
  },
  {
   "cell_type": "code",
   "execution_count": 104,
   "metadata": {},
   "outputs": [
    {
     "ename": "TopicMalFormedException",
     "evalue": "Topic bad formed.",
     "output_type": "error",
     "traceback": [
      "\u001b[0;31m---------------------------------------------------------------------------\u001b[0m",
      "\u001b[0;31mTopicMalFormedException\u001b[0m                   Traceback (most recent call last)",
      "\u001b[0;32m<ipython-input-104-78702186752f>\u001b[0m in \u001b[0;36m<module>\u001b[0;34m\u001b[0m\n\u001b[0;32m----> 1\u001b[0;31m \u001b[0moverlap_merge_view_deg_neg\u001b[0m\u001b[0;34m(\u001b[0m\u001b[0;36m2012\u001b[0m\u001b[0;34m,\u001b[0m \u001b[0mk\u001b[0m \u001b[0;34m=\u001b[0m \u001b[0;36m10\u001b[0m\u001b[0;34m)\u001b[0m\u001b[0;34m\u001b[0m\u001b[0;34m\u001b[0m\u001b[0m\n\u001b[0m",
      "\u001b[0;32m<ipython-input-6-aa88f64ba5fa>\u001b[0m in \u001b[0;36moverlap_merge_view_deg_neg\u001b[0;34m(year, k)\u001b[0m\n\u001b[1;32m     19\u001b[0m     \u001b[0mspread_dict\u001b[0m\u001b[0;34m[\u001b[0m\u001b[0mstr\u001b[0m\u001b[0;34m(\u001b[0m\u001b[0myear\u001b[0m\u001b[0;34m)\u001b[0m\u001b[0;34m]\u001b[0m\u001b[0;34m.\u001b[0m\u001b[0mtipping_model\u001b[0m\u001b[0;34m(\u001b[0m\u001b[0;34m)\u001b[0m\u001b[0;34m\u001b[0m\u001b[0;34m\u001b[0m\u001b[0m\n\u001b[1;32m     20\u001b[0m     \u001b[0mtipping_deg_neg\u001b[0m \u001b[0;34m=\u001b[0m \u001b[0mspread_dict\u001b[0m\u001b[0;34m[\u001b[0m\u001b[0mstr\u001b[0m\u001b[0;34m(\u001b[0m\u001b[0myear\u001b[0m\u001b[0;34m)\u001b[0m\u001b[0;34m]\u001b[0m\u001b[0;34m.\u001b[0m\u001b[0mget_influenced_nodes\u001b[0m\u001b[0;34m(\u001b[0m\u001b[0;34m)\u001b[0m\u001b[0;34m\u001b[0m\u001b[0;34m\u001b[0m\u001b[0m\n\u001b[0;32m---> 21\u001b[0;31m     \u001b[0mtopics_deg_neg\u001b[0m \u001b[0;34m=\u001b[0m \u001b[0moverlap_perform\u001b[0m\u001b[0;34m(\u001b[0m\u001b[0myear\u001b[0m\u001b[0;34m,\u001b[0m \u001b[0mtipping_deg_neg\u001b[0m\u001b[0;34m,\u001b[0m \u001b[0mk\u001b[0m\u001b[0;34m)\u001b[0m\u001b[0;34m\u001b[0m\u001b[0;34m\u001b[0m\u001b[0m\n\u001b[0m\u001b[1;32m     22\u001b[0m     \u001b[0mto_print\u001b[0m\u001b[0;34m(\u001b[0m\u001b[0mtopics_deg_neg\u001b[0m\u001b[0;34m,\u001b[0m \u001b[0;34m\"tipping\"\u001b[0m\u001b[0;34m,\u001b[0m \u001b[0mk\u001b[0m\u001b[0;34m,\u001b[0m \u001b[0;34m\"deg negative\"\u001b[0m\u001b[0;34m)\u001b[0m\u001b[0;34m\u001b[0m\u001b[0;34m\u001b[0m\u001b[0m\n",
      "\u001b[0;32m<ipython-input-5-60ae7201d3cc>\u001b[0m in \u001b[0;36moverlap_perform\u001b[0;34m(year, all_topics, k)\u001b[0m\n\u001b[1;32m      2\u001b[0m     \u001b[0moverlap\u001b[0m \u001b[0;34m=\u001b[0m \u001b[0mov\u001b[0m\u001b[0;34m.\u001b[0m\u001b[0mOverlapTopics\u001b[0m\u001b[0;34m(\u001b[0m\u001b[0mgraph_timeline_dict\u001b[0m\u001b[0;34m[\u001b[0m\u001b[0mstr\u001b[0m\u001b[0;34m(\u001b[0m\u001b[0myear\u001b[0m\u001b[0;34m)\u001b[0m\u001b[0;34m]\u001b[0m\u001b[0;34m,\u001b[0m \u001b[0mall_topics\u001b[0m\u001b[0;34m,\u001b[0m \u001b[0mk\u001b[0m\u001b[0;34m)\u001b[0m\u001b[0;34m\u001b[0m\u001b[0;34m\u001b[0m\u001b[0m\n\u001b[1;32m      3\u001b[0m     \u001b[0moverlap\u001b[0m\u001b[0;34m.\u001b[0m\u001b[0moverlap_preprocessing\u001b[0m\u001b[0;34m(\u001b[0m\u001b[0;34m)\u001b[0m\u001b[0;34m\u001b[0m\u001b[0;34m\u001b[0m\u001b[0m\n\u001b[0;32m----> 4\u001b[0;31m     \u001b[0moverlap\u001b[0m\u001b[0;34m.\u001b[0m\u001b[0mclique_percolation_method\u001b[0m\u001b[0;34m(\u001b[0m\u001b[0;34m)\u001b[0m\u001b[0;34m\u001b[0m\u001b[0;34m\u001b[0m\u001b[0m\n\u001b[0m\u001b[1;32m      5\u001b[0m     \u001b[0moverlap\u001b[0m\u001b[0;34m.\u001b[0m\u001b[0mcheck_spread_topics\u001b[0m\u001b[0;34m(\u001b[0m\u001b[0;34m)\u001b[0m\u001b[0;34m\u001b[0m\u001b[0;34m\u001b[0m\u001b[0m\n\u001b[1;32m      6\u001b[0m     \u001b[0moverlap\u001b[0m\u001b[0;34m.\u001b[0m\u001b[0mcheck_number_topics\u001b[0m\u001b[0;34m(\u001b[0m\u001b[0;34m)\u001b[0m\u001b[0;34m\u001b[0m\u001b[0;34m\u001b[0m\u001b[0m\n",
      "\u001b[0;32m~/Universita/magistrale/web_and_social_information_extraction/webandsocial-progetto/src/overlaps_topics/overlap_topics.py\u001b[0m in \u001b[0;36mclique_percolation_method\u001b[0;34m(self)\u001b[0m\n\u001b[1;32m    132\u001b[0m         \u001b[0mcommunities\u001b[0m \u001b[0;34m=\u001b[0m \u001b[0mk_clique_communities\u001b[0m\u001b[0;34m(\u001b[0m\u001b[0mG\u001b[0m \u001b[0;34m=\u001b[0m \u001b[0mself\u001b[0m\u001b[0;34m.\u001b[0m\u001b[0m__year_sub_graph\u001b[0m\u001b[0;34m,\u001b[0m \u001b[0mk\u001b[0m \u001b[0;34m=\u001b[0m \u001b[0;36m2\u001b[0m\u001b[0;34m)\u001b[0m\u001b[0;34m\u001b[0m\u001b[0;34m\u001b[0m\u001b[0m\n\u001b[1;32m    133\u001b[0m         \u001b[0;32mfor\u001b[0m \u001b[0mtopic\u001b[0m \u001b[0;32min\u001b[0m \u001b[0mcommunities\u001b[0m\u001b[0;34m:\u001b[0m\u001b[0;34m\u001b[0m\u001b[0;34m\u001b[0m\u001b[0m\n\u001b[0;32m--> 134\u001b[0;31m             \u001b[0mself\u001b[0m\u001b[0;34m.\u001b[0m\u001b[0mcheck_keywords\u001b[0m\u001b[0;34m(\u001b[0m\u001b[0mtopic\u001b[0m\u001b[0;34m)\u001b[0m\u001b[0;34m\u001b[0m\u001b[0;34m\u001b[0m\u001b[0m\n\u001b[0m\u001b[1;32m    135\u001b[0m             \u001b[0mself\u001b[0m\u001b[0;34m.\u001b[0m\u001b[0m__topics\u001b[0m\u001b[0;34m.\u001b[0m\u001b[0mappend\u001b[0m\u001b[0;34m(\u001b[0m\u001b[0mlist\u001b[0m\u001b[0;34m(\u001b[0m\u001b[0mtopic\u001b[0m\u001b[0;34m)\u001b[0m\u001b[0;34m)\u001b[0m\u001b[0;34m\u001b[0m\u001b[0;34m\u001b[0m\u001b[0m\n\u001b[1;32m    136\u001b[0m \u001b[0;34m\u001b[0m\u001b[0m\n",
      "\u001b[0;32m~/Universita/magistrale/web_and_social_information_extraction/webandsocial-progetto/src/overlaps_topics/overlap_topics.py\u001b[0m in \u001b[0;36mcheck_keywords\u001b[0;34m(self, topic)\u001b[0m\n\u001b[1;32m    119\u001b[0m \u001b[0;34m\u001b[0m\u001b[0m\n\u001b[1;32m    120\u001b[0m         \u001b[0;32mif\u001b[0m \u001b[0;32mnot\u001b[0m \u001b[0mregular\u001b[0m\u001b[0;34m:\u001b[0m\u001b[0;34m\u001b[0m\u001b[0;34m\u001b[0m\u001b[0m\n\u001b[0;32m--> 121\u001b[0;31m             \u001b[0;32mraise\u001b[0m \u001b[0mexcpt\u001b[0m\u001b[0;34m.\u001b[0m\u001b[0mTopicMalFormedException\u001b[0m\u001b[0;34m(\u001b[0m\u001b[0;34m\"Topic bad formed.\"\u001b[0m\u001b[0;34m)\u001b[0m\u001b[0;34m\u001b[0m\u001b[0;34m\u001b[0m\u001b[0m\n\u001b[0m\u001b[1;32m    122\u001b[0m \u001b[0;34m\u001b[0m\u001b[0m\n\u001b[1;32m    123\u001b[0m \u001b[0;34m\u001b[0m\u001b[0m\n",
      "\u001b[0;31mTopicMalFormedException\u001b[0m: Topic bad formed."
     ]
    }
   ],
   "source": [
    "overlap_merge_view_deg_neg(2012, k = 10)"
   ]
  },
  {
   "cell_type": "markdown",
   "metadata": {},
   "source": [
    "### Year 2013"
   ]
  },
  {
   "cell_type": "code",
   "execution_count": 105,
   "metadata": {},
   "outputs": [
    {
     "name": "stdout",
     "output_type": "stream",
     "text": [
      "OVERLAP MERGING RESULT WITH CLIQUE PERCOLATION METHOD, TIPPING MODEL, SEED TOP 10 NODES AND DEG THRESHOLD CALCULATION STRATEGY.\n",
      "\n",
      "['sampling - surgical action', 'convex optimization', 'artificial bee colony algorithm', 'vertex', 'complex networks', 'collocation method', 'numerical method', 'backhaul (telecommunications)', 'b-spline', 'spectral leakage', 'numerical analysis', 'lessons learned', 'data synchronization', 'neural network simulation', 'synchronization', 'convolutional neural network', 'duality gap', 'block cipher mode of operation', 'simulation', 'probability', 'word embedding', 'bernoulli polynomials', 'algebraic equation', 'knowledge base', 'taguchi methods', 'reinforcement learning', 'switches', 'cognitive radio', 'manufacturing', 'newton–cotes formulas', 'performance', \"jensen's inequality\", 'iteration', 'matrix regularization', 'coefficient', 'nonlinear system', 'stochastic process', 'sampling (signal processing)', 'synchronization (computer science)', 'lyapunov fractal', 'error analysis (mathematics)', 'neural networks', 'randomness', 'cell (microprocessor)', 'organizing (structure)', 'algorithm', 'navier–stokes equations', 'artificial neural network', 'stability', 'nearest neighbor classifier', 'throughput', 'experiment', 'q-learning', 'gauss–kronrod quadrature formula', 'optimization problem', 'biological neural networks', 'dynamic programming', 'recurrent neural network', 'particle swarm optimization', 'deep learning', 'stochastic processes', 'complex network', 'dropout (neural networks)', 'hybrid optimization', 'taguchi method', 'differential evolution', 'quintic function', 'benchmark (computing)', 'self-organization', 'linear matrix inequality', 'central processing unit', 'state estimation', 'mean squared error', 'text corpus', 'approximation algorithm', 'couplings', 'mathematical optimization', 'frank–wolfe algorithm', 'social inequality', 'interference (communication)', 'telecommunications link', 'machine learning', 'recurrent neural networks', 'programming paradigm']\n",
      "len_topic: 84\n",
      "\n",
      "['objective optimisation problems', 'dynamic multi', 'objective optimisation', 'single solution does']\n",
      "len_topic: 4\n",
      "\n"
     ]
    }
   ],
   "source": [
    "overlap_merge_view_deg(2013, k = 10)"
   ]
  },
  {
   "cell_type": "code",
   "execution_count": 106,
   "metadata": {},
   "outputs": [
    {
     "name": "stdout",
     "output_type": "stream",
     "text": [
      "OVERLAP MERGING RESULT WITH CLIQUE PERCOLATION METHOD, TIPPING MODEL, SEED TOP 10 NODES AND HALF THRESHOLD CALCULATION STRATEGY.\n",
      "\n",
      "['lyapunov fractal', 'neural networks', 'sampling - surgical action', 'randomness', 'convex optimization', 'cell (microprocessor)', 'algorithm', 'artificial bee colony algorithm', 'artificial neural network', 'nearest neighbor classifier', 'throughput', 'experiment', 'optimization problem', 'biological neural networks', 'dynamic programming', 'spectral leakage', 'recurrent neural network', 'particle swarm optimization', 'deep learning', 'data synchronization', 'neural network simulation', 'duality gap', 'hybrid optimization', 'taguchi method', 'differential evolution', 'linear matrix inequality', 'block cipher mode of operation', 'simulation', 'word embedding', 'taguchi methods', 'central processing unit', 'state estimation', 'cognitive radio', 'text corpus', 'manufacturing', 'approximation algorithm', 'performance', \"jensen's inequality\", 'mathematical optimization', 'iteration', 'frank–wolfe algorithm', 'social inequality', 'nonlinear system', 'machine learning', 'sampling (signal processing)', 'recurrent neural networks', 'q-learning']\n",
      "len_topic: 47\n",
      "\n",
      "['objective optimisation problems', 'dynamic multi', 'objective optimisation', 'single solution does']\n",
      "len_topic: 4\n",
      "\n"
     ]
    }
   ],
   "source": [
    "overlap_merge_view_half(2013, k = 10)"
   ]
  },
  {
   "cell_type": "code",
   "execution_count": 107,
   "metadata": {},
   "outputs": [
    {
     "ename": "TopicMalFormedException",
     "evalue": "Topic bad formed.",
     "output_type": "error",
     "traceback": [
      "\u001b[0;31m---------------------------------------------------------------------------\u001b[0m",
      "\u001b[0;31mTopicMalFormedException\u001b[0m                   Traceback (most recent call last)",
      "\u001b[0;32m<ipython-input-107-4e5d69ac16eb>\u001b[0m in \u001b[0;36m<module>\u001b[0;34m\u001b[0m\n\u001b[0;32m----> 1\u001b[0;31m \u001b[0moverlap_merge_view_deg_neg\u001b[0m\u001b[0;34m(\u001b[0m\u001b[0;36m2013\u001b[0m\u001b[0;34m,\u001b[0m \u001b[0mk\u001b[0m \u001b[0;34m=\u001b[0m \u001b[0;36m10\u001b[0m\u001b[0;34m)\u001b[0m\u001b[0;34m\u001b[0m\u001b[0;34m\u001b[0m\u001b[0m\n\u001b[0m",
      "\u001b[0;32m<ipython-input-6-aa88f64ba5fa>\u001b[0m in \u001b[0;36moverlap_merge_view_deg_neg\u001b[0;34m(year, k)\u001b[0m\n\u001b[1;32m     19\u001b[0m     \u001b[0mspread_dict\u001b[0m\u001b[0;34m[\u001b[0m\u001b[0mstr\u001b[0m\u001b[0;34m(\u001b[0m\u001b[0myear\u001b[0m\u001b[0;34m)\u001b[0m\u001b[0;34m]\u001b[0m\u001b[0;34m.\u001b[0m\u001b[0mtipping_model\u001b[0m\u001b[0;34m(\u001b[0m\u001b[0;34m)\u001b[0m\u001b[0;34m\u001b[0m\u001b[0;34m\u001b[0m\u001b[0m\n\u001b[1;32m     20\u001b[0m     \u001b[0mtipping_deg_neg\u001b[0m \u001b[0;34m=\u001b[0m \u001b[0mspread_dict\u001b[0m\u001b[0;34m[\u001b[0m\u001b[0mstr\u001b[0m\u001b[0;34m(\u001b[0m\u001b[0myear\u001b[0m\u001b[0;34m)\u001b[0m\u001b[0;34m]\u001b[0m\u001b[0;34m.\u001b[0m\u001b[0mget_influenced_nodes\u001b[0m\u001b[0;34m(\u001b[0m\u001b[0;34m)\u001b[0m\u001b[0;34m\u001b[0m\u001b[0;34m\u001b[0m\u001b[0m\n\u001b[0;32m---> 21\u001b[0;31m     \u001b[0mtopics_deg_neg\u001b[0m \u001b[0;34m=\u001b[0m \u001b[0moverlap_perform\u001b[0m\u001b[0;34m(\u001b[0m\u001b[0myear\u001b[0m\u001b[0;34m,\u001b[0m \u001b[0mtipping_deg_neg\u001b[0m\u001b[0;34m,\u001b[0m \u001b[0mk\u001b[0m\u001b[0;34m)\u001b[0m\u001b[0;34m\u001b[0m\u001b[0;34m\u001b[0m\u001b[0m\n\u001b[0m\u001b[1;32m     22\u001b[0m     \u001b[0mto_print\u001b[0m\u001b[0;34m(\u001b[0m\u001b[0mtopics_deg_neg\u001b[0m\u001b[0;34m,\u001b[0m \u001b[0;34m\"tipping\"\u001b[0m\u001b[0;34m,\u001b[0m \u001b[0mk\u001b[0m\u001b[0;34m,\u001b[0m \u001b[0;34m\"deg negative\"\u001b[0m\u001b[0;34m)\u001b[0m\u001b[0;34m\u001b[0m\u001b[0;34m\u001b[0m\u001b[0m\n",
      "\u001b[0;32m<ipython-input-5-60ae7201d3cc>\u001b[0m in \u001b[0;36moverlap_perform\u001b[0;34m(year, all_topics, k)\u001b[0m\n\u001b[1;32m      2\u001b[0m     \u001b[0moverlap\u001b[0m \u001b[0;34m=\u001b[0m \u001b[0mov\u001b[0m\u001b[0;34m.\u001b[0m\u001b[0mOverlapTopics\u001b[0m\u001b[0;34m(\u001b[0m\u001b[0mgraph_timeline_dict\u001b[0m\u001b[0;34m[\u001b[0m\u001b[0mstr\u001b[0m\u001b[0;34m(\u001b[0m\u001b[0myear\u001b[0m\u001b[0;34m)\u001b[0m\u001b[0;34m]\u001b[0m\u001b[0;34m,\u001b[0m \u001b[0mall_topics\u001b[0m\u001b[0;34m,\u001b[0m \u001b[0mk\u001b[0m\u001b[0;34m)\u001b[0m\u001b[0;34m\u001b[0m\u001b[0;34m\u001b[0m\u001b[0m\n\u001b[1;32m      3\u001b[0m     \u001b[0moverlap\u001b[0m\u001b[0;34m.\u001b[0m\u001b[0moverlap_preprocessing\u001b[0m\u001b[0;34m(\u001b[0m\u001b[0;34m)\u001b[0m\u001b[0;34m\u001b[0m\u001b[0;34m\u001b[0m\u001b[0m\n\u001b[0;32m----> 4\u001b[0;31m     \u001b[0moverlap\u001b[0m\u001b[0;34m.\u001b[0m\u001b[0mclique_percolation_method\u001b[0m\u001b[0;34m(\u001b[0m\u001b[0;34m)\u001b[0m\u001b[0;34m\u001b[0m\u001b[0;34m\u001b[0m\u001b[0m\n\u001b[0m\u001b[1;32m      5\u001b[0m     \u001b[0moverlap\u001b[0m\u001b[0;34m.\u001b[0m\u001b[0mcheck_spread_topics\u001b[0m\u001b[0;34m(\u001b[0m\u001b[0;34m)\u001b[0m\u001b[0;34m\u001b[0m\u001b[0;34m\u001b[0m\u001b[0m\n\u001b[1;32m      6\u001b[0m     \u001b[0moverlap\u001b[0m\u001b[0;34m.\u001b[0m\u001b[0mcheck_number_topics\u001b[0m\u001b[0;34m(\u001b[0m\u001b[0;34m)\u001b[0m\u001b[0;34m\u001b[0m\u001b[0;34m\u001b[0m\u001b[0m\n",
      "\u001b[0;32m~/Universita/magistrale/web_and_social_information_extraction/webandsocial-progetto/src/overlaps_topics/overlap_topics.py\u001b[0m in \u001b[0;36mclique_percolation_method\u001b[0;34m(self)\u001b[0m\n\u001b[1;32m    132\u001b[0m         \u001b[0mcommunities\u001b[0m \u001b[0;34m=\u001b[0m \u001b[0mk_clique_communities\u001b[0m\u001b[0;34m(\u001b[0m\u001b[0mG\u001b[0m \u001b[0;34m=\u001b[0m \u001b[0mself\u001b[0m\u001b[0;34m.\u001b[0m\u001b[0m__year_sub_graph\u001b[0m\u001b[0;34m,\u001b[0m \u001b[0mk\u001b[0m \u001b[0;34m=\u001b[0m \u001b[0;36m2\u001b[0m\u001b[0;34m)\u001b[0m\u001b[0;34m\u001b[0m\u001b[0;34m\u001b[0m\u001b[0m\n\u001b[1;32m    133\u001b[0m         \u001b[0;32mfor\u001b[0m \u001b[0mtopic\u001b[0m \u001b[0;32min\u001b[0m \u001b[0mcommunities\u001b[0m\u001b[0;34m:\u001b[0m\u001b[0;34m\u001b[0m\u001b[0;34m\u001b[0m\u001b[0m\n\u001b[0;32m--> 134\u001b[0;31m             \u001b[0mself\u001b[0m\u001b[0;34m.\u001b[0m\u001b[0mcheck_keywords\u001b[0m\u001b[0;34m(\u001b[0m\u001b[0mtopic\u001b[0m\u001b[0;34m)\u001b[0m\u001b[0;34m\u001b[0m\u001b[0;34m\u001b[0m\u001b[0m\n\u001b[0m\u001b[1;32m    135\u001b[0m             \u001b[0mself\u001b[0m\u001b[0;34m.\u001b[0m\u001b[0m__topics\u001b[0m\u001b[0;34m.\u001b[0m\u001b[0mappend\u001b[0m\u001b[0;34m(\u001b[0m\u001b[0mlist\u001b[0m\u001b[0;34m(\u001b[0m\u001b[0mtopic\u001b[0m\u001b[0;34m)\u001b[0m\u001b[0;34m)\u001b[0m\u001b[0;34m\u001b[0m\u001b[0;34m\u001b[0m\u001b[0m\n\u001b[1;32m    136\u001b[0m \u001b[0;34m\u001b[0m\u001b[0m\n",
      "\u001b[0;32m~/Universita/magistrale/web_and_social_information_extraction/webandsocial-progetto/src/overlaps_topics/overlap_topics.py\u001b[0m in \u001b[0;36mcheck_keywords\u001b[0;34m(self, topic)\u001b[0m\n\u001b[1;32m    119\u001b[0m \u001b[0;34m\u001b[0m\u001b[0m\n\u001b[1;32m    120\u001b[0m         \u001b[0;32mif\u001b[0m \u001b[0;32mnot\u001b[0m \u001b[0mregular\u001b[0m\u001b[0;34m:\u001b[0m\u001b[0;34m\u001b[0m\u001b[0;34m\u001b[0m\u001b[0m\n\u001b[0;32m--> 121\u001b[0;31m             \u001b[0;32mraise\u001b[0m \u001b[0mexcpt\u001b[0m\u001b[0;34m.\u001b[0m\u001b[0mTopicMalFormedException\u001b[0m\u001b[0;34m(\u001b[0m\u001b[0;34m\"Topic bad formed.\"\u001b[0m\u001b[0;34m)\u001b[0m\u001b[0;34m\u001b[0m\u001b[0;34m\u001b[0m\u001b[0m\n\u001b[0m\u001b[1;32m    122\u001b[0m \u001b[0;34m\u001b[0m\u001b[0m\n\u001b[1;32m    123\u001b[0m \u001b[0;34m\u001b[0m\u001b[0m\n",
      "\u001b[0;31mTopicMalFormedException\u001b[0m: Topic bad formed."
     ]
    }
   ],
   "source": [
    "overlap_merge_view_deg_neg(2013, k = 10)"
   ]
  },
  {
   "cell_type": "markdown",
   "metadata": {},
   "source": [
    "### Year 2014"
   ]
  },
  {
   "cell_type": "code",
   "execution_count": 108,
   "metadata": {},
   "outputs": [
    {
     "name": "stdout",
     "output_type": "stream",
     "text": [
      "OVERLAP MERGING RESULT WITH CLIQUE PERCOLATION METHOD, TIPPING MODEL, SEED TOP 10 NODES AND DEG THRESHOLD CALCULATION STRATEGY.\n",
      "\n",
      "['metaheuristic', 'particle swarm optimization (pso)', 'sampling - surgical action', 'statistical machine translation', 'calculus of variations', 'exponential', 'usb on-the-go', 'in-place algorithm', 'mimo-ofdm', 'n-gram', 'jacobi method', 'convex optimization', 'navdeep jaitly', 'baseline (configuration management)', 'ilya sutskever', 'phil blunsom', 'partition function (mathematics)', 'markov decision process', 'deep learning papers review at neurotechnology: attention mechanisms neurotechnology mar 15 2017', 'iterative method', 'john makhoul', 'fuzzy control system', 'pixel', 'abdel-rahman mohamed', 'autoencoder', 'state space', 'cuckoo search', 'constrained optimization', 'mathematical induction', 'time complexity', 'matthew d. zeiler', 'numerical analysis', 'point of view (computer hardware company)', 'nicolas boulanger-lewandowski', 'computers', 'metaheuristic search (ms)', 'neural network simulation', 'language model', 'convolutional neural network', 'alex graves', 'quoc v. le', 'simulation', 'word embedding', 'reinforcement learning', 'krill herd (kh)\\xa0', 'neural network software', 'bag-of-words model', 'cognitive radio', 'topology', 'cuckoo search\\xa0', 'http public key pinning', 'neural machine translation', 'scalability', 'generative model', 'nal kalchbrenner', 'iteration', 'yang liu', 'ant colony optimization algorithms', 'neural network', 'noise reduction', 'coefficient', 'alex krizhevsky', 'nonlinear system', 'richard m. schwartz', 'constraint algorithm', 'sampling (signal processing)', 'data stream mining', 'kyunghyun cho', 'mimo', 'multimodal interaction', 'lyapunov fractal', 'fault tolerance', 'neural networks', 'global optimization problem\\xa0', 'computation', 'x.690', 'control theory', 'algorithm', 'imagenet', 'shadowing (histology)', 'artificial neural network', 'quality of service', 'fuzzy logic', 'feature selection', 'neighborhood search (ns) operator', 'bellman equation', 'hamilton–jacobi–bellman equation', 'periodic solution', 'throughput', 'experiment', 'genetic algorithm', 'optimization problem', 'bil herd', 'mathematical model', 'analytical models', 'biological neural networks', 'dynamic programming', 'activation function', 'formal system', 'computer vision', 'rayleigh fading', 'finite-time stabilization', 'optimal control', 'recursive neural network', 'jacob devlin', 'deep learning', 'recurrent neural network', 'random neural network', 'particle swarm optimization', 'machine learning', 'global optimization', 'mathematics', 'computer performance', 'freebase', 'geoffrey e. hinton', 'premature convergence', 'complex network', 'bit error rate', 'information retrieval', 'knowledge graph', 'uncertainty', 'rate of convergence', 'evolutionary algorithm', 'heuristic', 'stochastic gradient descent', 'benchmark (computing)', 'linear matrix inequality', 'yoshua bengio', 'zhongqiang huang', 'oriol vinyals', 'mean squared error', 'electronic mail', 'skip list', 'encoder', 'approximation algorithm', 'xiang zhang', 'velocity (software development)', 'transmitter', 'mathematical optimization', 'yang', 'multitier architecture', 'lyapunov–krasovskii functional', 'entity', 'social inequality', 'interference (communication)', 'search algorithm', 'bart van merrienboer', 'feasible region']\n",
      "len_topic: 148\n",
      "\n"
     ]
    }
   ],
   "source": [
    "overlap_merge_view_deg(2014, k = 10)"
   ]
  },
  {
   "cell_type": "code",
   "execution_count": 109,
   "metadata": {},
   "outputs": [
    {
     "name": "stdout",
     "output_type": "stream",
     "text": [
      "OVERLAP MERGING RESULT WITH CLIQUE PERCOLATION METHOD, TIPPING MODEL, SEED TOP 10 NODES AND HALF THRESHOLD CALCULATION STRATEGY.\n",
      "\n",
      "['lyapunov fractal', 'neural networks', 'fault tolerance', 'sampling - surgical action', 'global optimization problem\\xa0', 'exponential', 'algorithm', 'usb on-the-go', 'imagenet', 'artificial neural network', 'feature selection', 'jacobi method', 'control theory', 'in-place algorithm', 'bellman equation', 'fuzzy logic', 'ilya sutskever', 'hamilton–jacobi–bellman equation', 'markov decision process', 'iterative method', 'periodic solution', 'mathematical model', 'optimization problem', 'biological neural networks', 'genetic algorithm', 'bil herd', 'dynamic programming', 'fuzzy control system', 'activation function', 'computer vision', 'formal system', 'finite-time stabilization', 'optimal control', 'state space', 'random neural network', 'time complexity', 'global optimization', 'computer performance', 'numerical analysis', 'deep learning', 'complex network', 'information retrieval', 'neural network simulation', 'stochastic gradient descent', 'heuristic', 'linear matrix inequality', 'simulation', 'reinforcement learning', 'krill herd (kh)\\xa0', 'neural network software', 'approximation algorithm', 'mathematical optimization', 'iteration', 'ant colony optimization algorithms', 'lyapunov–krasovskii functional', 'neural network', 'social inequality', 'nonlinear system', 'machine learning', 'data stream mining']\n",
      "len_topic: 60\n",
      "\n"
     ]
    }
   ],
   "source": [
    "overlap_merge_view_half(2014, k = 10)"
   ]
  },
  {
   "cell_type": "code",
   "execution_count": 110,
   "metadata": {},
   "outputs": [
    {
     "ename": "TopicMalFormedException",
     "evalue": "Topic bad formed.",
     "output_type": "error",
     "traceback": [
      "\u001b[0;31m---------------------------------------------------------------------------\u001b[0m",
      "\u001b[0;31mTopicMalFormedException\u001b[0m                   Traceback (most recent call last)",
      "\u001b[0;32m<ipython-input-110-8cbc9f938a0a>\u001b[0m in \u001b[0;36m<module>\u001b[0;34m\u001b[0m\n\u001b[0;32m----> 1\u001b[0;31m \u001b[0moverlap_merge_view_deg_neg\u001b[0m\u001b[0;34m(\u001b[0m\u001b[0;36m2014\u001b[0m\u001b[0;34m,\u001b[0m \u001b[0mk\u001b[0m \u001b[0;34m=\u001b[0m \u001b[0;36m10\u001b[0m\u001b[0;34m)\u001b[0m\u001b[0;34m\u001b[0m\u001b[0;34m\u001b[0m\u001b[0m\n\u001b[0m",
      "\u001b[0;32m<ipython-input-6-aa88f64ba5fa>\u001b[0m in \u001b[0;36moverlap_merge_view_deg_neg\u001b[0;34m(year, k)\u001b[0m\n\u001b[1;32m     19\u001b[0m     \u001b[0mspread_dict\u001b[0m\u001b[0;34m[\u001b[0m\u001b[0mstr\u001b[0m\u001b[0;34m(\u001b[0m\u001b[0myear\u001b[0m\u001b[0;34m)\u001b[0m\u001b[0;34m]\u001b[0m\u001b[0;34m.\u001b[0m\u001b[0mtipping_model\u001b[0m\u001b[0;34m(\u001b[0m\u001b[0;34m)\u001b[0m\u001b[0;34m\u001b[0m\u001b[0;34m\u001b[0m\u001b[0m\n\u001b[1;32m     20\u001b[0m     \u001b[0mtipping_deg_neg\u001b[0m \u001b[0;34m=\u001b[0m \u001b[0mspread_dict\u001b[0m\u001b[0;34m[\u001b[0m\u001b[0mstr\u001b[0m\u001b[0;34m(\u001b[0m\u001b[0myear\u001b[0m\u001b[0;34m)\u001b[0m\u001b[0;34m]\u001b[0m\u001b[0;34m.\u001b[0m\u001b[0mget_influenced_nodes\u001b[0m\u001b[0;34m(\u001b[0m\u001b[0;34m)\u001b[0m\u001b[0;34m\u001b[0m\u001b[0;34m\u001b[0m\u001b[0m\n\u001b[0;32m---> 21\u001b[0;31m     \u001b[0mtopics_deg_neg\u001b[0m \u001b[0;34m=\u001b[0m \u001b[0moverlap_perform\u001b[0m\u001b[0;34m(\u001b[0m\u001b[0myear\u001b[0m\u001b[0;34m,\u001b[0m \u001b[0mtipping_deg_neg\u001b[0m\u001b[0;34m,\u001b[0m \u001b[0mk\u001b[0m\u001b[0;34m)\u001b[0m\u001b[0;34m\u001b[0m\u001b[0;34m\u001b[0m\u001b[0m\n\u001b[0m\u001b[1;32m     22\u001b[0m     \u001b[0mto_print\u001b[0m\u001b[0;34m(\u001b[0m\u001b[0mtopics_deg_neg\u001b[0m\u001b[0;34m,\u001b[0m \u001b[0;34m\"tipping\"\u001b[0m\u001b[0;34m,\u001b[0m \u001b[0mk\u001b[0m\u001b[0;34m,\u001b[0m \u001b[0;34m\"deg negative\"\u001b[0m\u001b[0;34m)\u001b[0m\u001b[0;34m\u001b[0m\u001b[0;34m\u001b[0m\u001b[0m\n",
      "\u001b[0;32m<ipython-input-5-60ae7201d3cc>\u001b[0m in \u001b[0;36moverlap_perform\u001b[0;34m(year, all_topics, k)\u001b[0m\n\u001b[1;32m      2\u001b[0m     \u001b[0moverlap\u001b[0m \u001b[0;34m=\u001b[0m \u001b[0mov\u001b[0m\u001b[0;34m.\u001b[0m\u001b[0mOverlapTopics\u001b[0m\u001b[0;34m(\u001b[0m\u001b[0mgraph_timeline_dict\u001b[0m\u001b[0;34m[\u001b[0m\u001b[0mstr\u001b[0m\u001b[0;34m(\u001b[0m\u001b[0myear\u001b[0m\u001b[0;34m)\u001b[0m\u001b[0;34m]\u001b[0m\u001b[0;34m,\u001b[0m \u001b[0mall_topics\u001b[0m\u001b[0;34m,\u001b[0m \u001b[0mk\u001b[0m\u001b[0;34m)\u001b[0m\u001b[0;34m\u001b[0m\u001b[0;34m\u001b[0m\u001b[0m\n\u001b[1;32m      3\u001b[0m     \u001b[0moverlap\u001b[0m\u001b[0;34m.\u001b[0m\u001b[0moverlap_preprocessing\u001b[0m\u001b[0;34m(\u001b[0m\u001b[0;34m)\u001b[0m\u001b[0;34m\u001b[0m\u001b[0;34m\u001b[0m\u001b[0m\n\u001b[0;32m----> 4\u001b[0;31m     \u001b[0moverlap\u001b[0m\u001b[0;34m.\u001b[0m\u001b[0mclique_percolation_method\u001b[0m\u001b[0;34m(\u001b[0m\u001b[0;34m)\u001b[0m\u001b[0;34m\u001b[0m\u001b[0;34m\u001b[0m\u001b[0m\n\u001b[0m\u001b[1;32m      5\u001b[0m     \u001b[0moverlap\u001b[0m\u001b[0;34m.\u001b[0m\u001b[0mcheck_spread_topics\u001b[0m\u001b[0;34m(\u001b[0m\u001b[0;34m)\u001b[0m\u001b[0;34m\u001b[0m\u001b[0;34m\u001b[0m\u001b[0m\n\u001b[1;32m      6\u001b[0m     \u001b[0moverlap\u001b[0m\u001b[0;34m.\u001b[0m\u001b[0mcheck_number_topics\u001b[0m\u001b[0;34m(\u001b[0m\u001b[0;34m)\u001b[0m\u001b[0;34m\u001b[0m\u001b[0;34m\u001b[0m\u001b[0m\n",
      "\u001b[0;32m~/Universita/magistrale/web_and_social_information_extraction/webandsocial-progetto/src/overlaps_topics/overlap_topics.py\u001b[0m in \u001b[0;36mclique_percolation_method\u001b[0;34m(self)\u001b[0m\n\u001b[1;32m    132\u001b[0m         \u001b[0mcommunities\u001b[0m \u001b[0;34m=\u001b[0m \u001b[0mk_clique_communities\u001b[0m\u001b[0;34m(\u001b[0m\u001b[0mG\u001b[0m \u001b[0;34m=\u001b[0m \u001b[0mself\u001b[0m\u001b[0;34m.\u001b[0m\u001b[0m__year_sub_graph\u001b[0m\u001b[0;34m,\u001b[0m \u001b[0mk\u001b[0m \u001b[0;34m=\u001b[0m \u001b[0;36m2\u001b[0m\u001b[0;34m)\u001b[0m\u001b[0;34m\u001b[0m\u001b[0;34m\u001b[0m\u001b[0m\n\u001b[1;32m    133\u001b[0m         \u001b[0;32mfor\u001b[0m \u001b[0mtopic\u001b[0m \u001b[0;32min\u001b[0m \u001b[0mcommunities\u001b[0m\u001b[0;34m:\u001b[0m\u001b[0;34m\u001b[0m\u001b[0;34m\u001b[0m\u001b[0m\n\u001b[0;32m--> 134\u001b[0;31m             \u001b[0mself\u001b[0m\u001b[0;34m.\u001b[0m\u001b[0mcheck_keywords\u001b[0m\u001b[0;34m(\u001b[0m\u001b[0mtopic\u001b[0m\u001b[0;34m)\u001b[0m\u001b[0;34m\u001b[0m\u001b[0;34m\u001b[0m\u001b[0m\n\u001b[0m\u001b[1;32m    135\u001b[0m             \u001b[0mself\u001b[0m\u001b[0;34m.\u001b[0m\u001b[0m__topics\u001b[0m\u001b[0;34m.\u001b[0m\u001b[0mappend\u001b[0m\u001b[0;34m(\u001b[0m\u001b[0mlist\u001b[0m\u001b[0;34m(\u001b[0m\u001b[0mtopic\u001b[0m\u001b[0;34m)\u001b[0m\u001b[0;34m)\u001b[0m\u001b[0;34m\u001b[0m\u001b[0;34m\u001b[0m\u001b[0m\n\u001b[1;32m    136\u001b[0m \u001b[0;34m\u001b[0m\u001b[0m\n",
      "\u001b[0;32m~/Universita/magistrale/web_and_social_information_extraction/webandsocial-progetto/src/overlaps_topics/overlap_topics.py\u001b[0m in \u001b[0;36mcheck_keywords\u001b[0;34m(self, topic)\u001b[0m\n\u001b[1;32m    119\u001b[0m \u001b[0;34m\u001b[0m\u001b[0m\n\u001b[1;32m    120\u001b[0m         \u001b[0;32mif\u001b[0m \u001b[0;32mnot\u001b[0m \u001b[0mregular\u001b[0m\u001b[0;34m:\u001b[0m\u001b[0;34m\u001b[0m\u001b[0;34m\u001b[0m\u001b[0m\n\u001b[0;32m--> 121\u001b[0;31m             \u001b[0;32mraise\u001b[0m \u001b[0mexcpt\u001b[0m\u001b[0;34m.\u001b[0m\u001b[0mTopicMalFormedException\u001b[0m\u001b[0;34m(\u001b[0m\u001b[0;34m\"Topic bad formed.\"\u001b[0m\u001b[0;34m)\u001b[0m\u001b[0;34m\u001b[0m\u001b[0;34m\u001b[0m\u001b[0m\n\u001b[0m\u001b[1;32m    122\u001b[0m \u001b[0;34m\u001b[0m\u001b[0m\n\u001b[1;32m    123\u001b[0m \u001b[0;34m\u001b[0m\u001b[0m\n",
      "\u001b[0;31mTopicMalFormedException\u001b[0m: Topic bad formed."
     ]
    }
   ],
   "source": [
    "overlap_merge_view_deg_neg(2014, k = 10)"
   ]
  },
  {
   "cell_type": "markdown",
   "metadata": {},
   "source": [
    "### Year 2015"
   ]
  },
  {
   "cell_type": "code",
   "execution_count": 111,
   "metadata": {},
   "outputs": [
    {
     "name": "stdout",
     "output_type": "stream",
     "text": [
      "OVERLAP MERGING RESULT WITH CLIQUE PERCOLATION METHOD, TIPPING MODEL, SEED TOP 10 NODES AND DEG THRESHOLD CALCULATION STRATEGY.\n",
      "\n",
      "['categorization', 'interval time-varying delay', 'artificial bee colony algorithm', 'hypersonic flight vehicle\\xa0', 'firefly algorithm', 'memristor-based neural networks', 'map', 'wavelet analysis', 'continuous optimization', 'convex function', 'artificial bee colony', 'input-output linearization\\xa0', 'elm', 'tom erez', 'extract features', 'autoencoder', 'pattern recognition', 'numerical analysis', 'spectral efficiency', 'resonance', 'extreme learning machine\\xa0', 'autonomous robot', 'neural network simulation', 'language model', 'convolutional neural network', 'crucially importance', 'anatomy regional', 'novel automatic classification', 'principal component analysis', 'compaq lte', 'acoustic cryptanalysis', 'stabilization', 'embedded systems', 'linearizing at the trim state\\xa0', 'multi-agent system', 'loss function', 'unit commitment', 'radial (radio)', 'observers', 'http public key pinning', 'performance', 'distinguish abnormal brains', 'tbr ??\\xa0', 'novelty detection', 'alex krizhevsky', 'fractional-order', 'magnetic resonance imaging', 'linear matrix inequality (lmi)', 'remaining connections', 'synchronization (computer science)', 'imagenet dataset', 'emd empirical mode decomposition', 'bt bayesian theory', 'lyapunov fractal', 'control theory', 'imagenet', 'algorithm', 'maxima and minima', 'artificial neural network', 'support vector machine', 'satinder p. singh', '????\\xa0', 'parsing', 'social network\\xa0', '82301', 'tcp global synchronization', 'output feedback', 'statistical classification', 'formal system', 'computer vision', 'correctness (computer science)', 'recurrent neural network', 'decision tree learning', 'weibull distribution function', 'feature representation\\xa0', 'geoffrey e. hinton', 'online and offline', 'feature learning', 'optimization', 'ga genetic algorithm', 'computer simulation', 'mr brain images', 'linear matrix inequality', '???????\\xa0', 'feedforward neural network', 'non-minimum phase\\xa0', 'approximation algorithm', 'approximation', 'mathematical optimization', 'robot', 'social inequality', 'interference (communication)', '70201', 'machine learning', 'link prediction\\xa0', 'convex optimization', 'large-scale computing\\xa0', 'speech recognition', 'unsupervised learning', 'controllers', 'computer assisted diagnosis', 'ilya sutskever', 'theory', 'system dynamics', 'pca principal component analysis', 'unscented kalman filter', 'doina precup', 'fuzzy control system', 'structural break modeling', 'real-time transcription', 'cluster analysis', 'constrained optimization', 'normal brains', 'interference management\\xa0', 'time complexity', 'nonlinear systems', 'emanuel todorov', 'supervised learning', 'synchronization', 'memristor', 'adaptive algorithm', '20301', 'block cipher mode of operation', 'simulation', 'well-posed problem', 'feedback', 'aided diagnosis', 'reinforcement learning', 'arima auto regressive integrated moving average', 'noise reduction', 'iteration', 'document classification', 'interaction', 'learning disorders', 'nonlinear system', 'database', 'riemann–liouville', 'cellular multicast\\xa0', 'long short-term memory', 'channel capacity', 'ar auto regressive', 'neural networks', 'bayesian optimization', 'filter bank', 'power semiconductor device', 'fuzzy logic', 'stability', 'christian szegedy', 'bellman equation', 'cross reactions', 'hamilton–jacobi–bellman equation', 'network topology', 'experiment', 'throughput', 'honglak lee', 'optimization problem', 'genetic algorithm', 'swarm intelligence', 'back-stepping\\xa0', 'activation function', 'mri scanning', 'accurate classification', 'dynamic programming', 'learning model\\xa0', 'adaptive systems', '?????\\xa0', '??????\\xa0', 'dynamic network\\xa0', 'trust region', 'increment', 'converge', 'optimal control', 'fine tune', 'memory intensive making', 'particle swarm optimization', 'global optimization', 'deep learning', '???\\xa0', 'prediction', 'sergey levine', 'low-power broadcasting', 'similarity metric\\xa0', 'sparse matrix', 'd2d communication\\xa0', 'stochastic gradient descent', 'benchmark (computing)', '11101', 'auto regressive integrated moving average', 'yuval tassa', 'control system', 'power control\\xa0', 'encoder', 'coexist (image)', 'medical analysis', 'markov chain', 'artificial intelligence', 'signal processing', 'computationally intensive', 'empirical mode decomposition']\n",
      "len_topic: 199\n",
      "\n"
     ]
    }
   ],
   "source": [
    "overlap_merge_view_deg(2015, k = 10)"
   ]
  },
  {
   "cell_type": "code",
   "execution_count": 112,
   "metadata": {},
   "outputs": [
    {
     "name": "stdout",
     "output_type": "stream",
     "text": [
      "OVERLAP MERGING RESULT WITH CLIQUE PERCOLATION METHOD, TIPPING MODEL, SEED TOP 10 NODES AND HALF THRESHOLD CALCULATION STRATEGY.\n",
      "\n",
      "['link prediction\\xa0', 'convex optimization', 'interval time-varying delay', 'artificial bee colony algorithm', 'large-scale computing\\xa0', 'hypersonic flight vehicle\\xa0', 'speech recognition', 'firefly algorithm', 'memristor-based neural networks', 'controllers', 'map', 'theory', 'system dynamics', 'continuous optimization', 'convex function', 'artificial bee colony', 'input-output linearization\\xa0', 'elm', 'fuzzy control system', 'real-time transcription', 'cluster analysis', 'constrained optimization', 'time complexity', 'nonlinear systems', 'numerical analysis', 'spectral efficiency', 'supervised learning', 'resonance', 'extreme learning machine\\xa0', 'neural network simulation', 'synchronization', 'memristor', 'anatomy regional', 'stabilization', 'adaptive algorithm', '20301', 'block cipher mode of operation', 'simulation', 'linearizing at the trim state\\xa0', 'feedback', 'well-posed problem', 'reinforcement learning', 'loss function', 'unit commitment', 'observers', 'http public key pinning', 'iteration', 'interaction', 'linear matrix inequality (lmi)', 'nonlinear system', 'synchronization (computer science)', 'lyapunov fractal', 'control theory', 'algorithm', 'maxima and minima', 'bayesian optimization', 'artificial neural network', 'support vector machine', 'fuzzy logic', '????\\xa0', 'bellman equation', 'hamilton–jacobi–bellman equation', 'network topology', 'throughput', 'social network\\xa0', 'genetic algorithm', 'optimization problem', 'tcp global synchronization', 'swarm intelligence', 'back-stepping\\xa0', 'dynamic programming', 'adaptive systems', 'output feedback', 'statistical classification', 'formal system', 'learning model\\xa0', '?????\\xa0', 'dynamic network\\xa0', 'correctness (computer science)', 'converge', 'optimal control', 'decision tree learning', 'feature representation\\xa0', '???\\xa0', 'prediction', 'feature learning', 'similarity metric\\xa0', 'optimization', 'stochastic gradient descent', 'computer simulation', 'benchmark (computing)', 'linear matrix inequality', '11101', '???????\\xa0', 'control system', 'feedforward neural network', 'non-minimum phase\\xa0', 'approximation algorithm', 'approximation', 'markov chain', 'artificial intelligence', 'mathematical optimization', 'social inequality', 'signal processing', '70201', 'machine learning']\n",
      "len_topic: 106\n",
      "\n"
     ]
    }
   ],
   "source": [
    "overlap_merge_view_half(2015, k = 10)"
   ]
  },
  {
   "cell_type": "code",
   "execution_count": 113,
   "metadata": {},
   "outputs": [
    {
     "ename": "TopicMalFormedException",
     "evalue": "Topic bad formed.",
     "output_type": "error",
     "traceback": [
      "\u001b[0;31m---------------------------------------------------------------------------\u001b[0m",
      "\u001b[0;31mTopicMalFormedException\u001b[0m                   Traceback (most recent call last)",
      "\u001b[0;32m<ipython-input-113-a1e54563c3e2>\u001b[0m in \u001b[0;36m<module>\u001b[0;34m\u001b[0m\n\u001b[0;32m----> 1\u001b[0;31m \u001b[0moverlap_merge_view_deg_neg\u001b[0m\u001b[0;34m(\u001b[0m\u001b[0;36m2015\u001b[0m\u001b[0;34m,\u001b[0m \u001b[0mk\u001b[0m \u001b[0;34m=\u001b[0m \u001b[0;36m10\u001b[0m\u001b[0;34m)\u001b[0m\u001b[0;34m\u001b[0m\u001b[0;34m\u001b[0m\u001b[0m\n\u001b[0m",
      "\u001b[0;32m<ipython-input-6-aa88f64ba5fa>\u001b[0m in \u001b[0;36moverlap_merge_view_deg_neg\u001b[0;34m(year, k)\u001b[0m\n\u001b[1;32m     19\u001b[0m     \u001b[0mspread_dict\u001b[0m\u001b[0;34m[\u001b[0m\u001b[0mstr\u001b[0m\u001b[0;34m(\u001b[0m\u001b[0myear\u001b[0m\u001b[0;34m)\u001b[0m\u001b[0;34m]\u001b[0m\u001b[0;34m.\u001b[0m\u001b[0mtipping_model\u001b[0m\u001b[0;34m(\u001b[0m\u001b[0;34m)\u001b[0m\u001b[0;34m\u001b[0m\u001b[0;34m\u001b[0m\u001b[0m\n\u001b[1;32m     20\u001b[0m     \u001b[0mtipping_deg_neg\u001b[0m \u001b[0;34m=\u001b[0m \u001b[0mspread_dict\u001b[0m\u001b[0;34m[\u001b[0m\u001b[0mstr\u001b[0m\u001b[0;34m(\u001b[0m\u001b[0myear\u001b[0m\u001b[0;34m)\u001b[0m\u001b[0;34m]\u001b[0m\u001b[0;34m.\u001b[0m\u001b[0mget_influenced_nodes\u001b[0m\u001b[0;34m(\u001b[0m\u001b[0;34m)\u001b[0m\u001b[0;34m\u001b[0m\u001b[0;34m\u001b[0m\u001b[0m\n\u001b[0;32m---> 21\u001b[0;31m     \u001b[0mtopics_deg_neg\u001b[0m \u001b[0;34m=\u001b[0m \u001b[0moverlap_perform\u001b[0m\u001b[0;34m(\u001b[0m\u001b[0myear\u001b[0m\u001b[0;34m,\u001b[0m \u001b[0mtipping_deg_neg\u001b[0m\u001b[0;34m,\u001b[0m \u001b[0mk\u001b[0m\u001b[0;34m)\u001b[0m\u001b[0;34m\u001b[0m\u001b[0;34m\u001b[0m\u001b[0m\n\u001b[0m\u001b[1;32m     22\u001b[0m     \u001b[0mto_print\u001b[0m\u001b[0;34m(\u001b[0m\u001b[0mtopics_deg_neg\u001b[0m\u001b[0;34m,\u001b[0m \u001b[0;34m\"tipping\"\u001b[0m\u001b[0;34m,\u001b[0m \u001b[0mk\u001b[0m\u001b[0;34m,\u001b[0m \u001b[0;34m\"deg negative\"\u001b[0m\u001b[0;34m)\u001b[0m\u001b[0;34m\u001b[0m\u001b[0;34m\u001b[0m\u001b[0m\n",
      "\u001b[0;32m<ipython-input-5-60ae7201d3cc>\u001b[0m in \u001b[0;36moverlap_perform\u001b[0;34m(year, all_topics, k)\u001b[0m\n\u001b[1;32m      2\u001b[0m     \u001b[0moverlap\u001b[0m \u001b[0;34m=\u001b[0m \u001b[0mov\u001b[0m\u001b[0;34m.\u001b[0m\u001b[0mOverlapTopics\u001b[0m\u001b[0;34m(\u001b[0m\u001b[0mgraph_timeline_dict\u001b[0m\u001b[0;34m[\u001b[0m\u001b[0mstr\u001b[0m\u001b[0;34m(\u001b[0m\u001b[0myear\u001b[0m\u001b[0;34m)\u001b[0m\u001b[0;34m]\u001b[0m\u001b[0;34m,\u001b[0m \u001b[0mall_topics\u001b[0m\u001b[0;34m,\u001b[0m \u001b[0mk\u001b[0m\u001b[0;34m)\u001b[0m\u001b[0;34m\u001b[0m\u001b[0;34m\u001b[0m\u001b[0m\n\u001b[1;32m      3\u001b[0m     \u001b[0moverlap\u001b[0m\u001b[0;34m.\u001b[0m\u001b[0moverlap_preprocessing\u001b[0m\u001b[0;34m(\u001b[0m\u001b[0;34m)\u001b[0m\u001b[0;34m\u001b[0m\u001b[0;34m\u001b[0m\u001b[0m\n\u001b[0;32m----> 4\u001b[0;31m     \u001b[0moverlap\u001b[0m\u001b[0;34m.\u001b[0m\u001b[0mclique_percolation_method\u001b[0m\u001b[0;34m(\u001b[0m\u001b[0;34m)\u001b[0m\u001b[0;34m\u001b[0m\u001b[0;34m\u001b[0m\u001b[0m\n\u001b[0m\u001b[1;32m      5\u001b[0m     \u001b[0moverlap\u001b[0m\u001b[0;34m.\u001b[0m\u001b[0mcheck_spread_topics\u001b[0m\u001b[0;34m(\u001b[0m\u001b[0;34m)\u001b[0m\u001b[0;34m\u001b[0m\u001b[0;34m\u001b[0m\u001b[0m\n\u001b[1;32m      6\u001b[0m     \u001b[0moverlap\u001b[0m\u001b[0;34m.\u001b[0m\u001b[0mcheck_number_topics\u001b[0m\u001b[0;34m(\u001b[0m\u001b[0;34m)\u001b[0m\u001b[0;34m\u001b[0m\u001b[0;34m\u001b[0m\u001b[0m\n",
      "\u001b[0;32m~/Universita/magistrale/web_and_social_information_extraction/webandsocial-progetto/src/overlaps_topics/overlap_topics.py\u001b[0m in \u001b[0;36mclique_percolation_method\u001b[0;34m(self)\u001b[0m\n\u001b[1;32m    132\u001b[0m         \u001b[0mcommunities\u001b[0m \u001b[0;34m=\u001b[0m \u001b[0mk_clique_communities\u001b[0m\u001b[0;34m(\u001b[0m\u001b[0mG\u001b[0m \u001b[0;34m=\u001b[0m \u001b[0mself\u001b[0m\u001b[0;34m.\u001b[0m\u001b[0m__year_sub_graph\u001b[0m\u001b[0;34m,\u001b[0m \u001b[0mk\u001b[0m \u001b[0;34m=\u001b[0m \u001b[0;36m2\u001b[0m\u001b[0;34m)\u001b[0m\u001b[0;34m\u001b[0m\u001b[0;34m\u001b[0m\u001b[0m\n\u001b[1;32m    133\u001b[0m         \u001b[0;32mfor\u001b[0m \u001b[0mtopic\u001b[0m \u001b[0;32min\u001b[0m \u001b[0mcommunities\u001b[0m\u001b[0;34m:\u001b[0m\u001b[0;34m\u001b[0m\u001b[0;34m\u001b[0m\u001b[0m\n\u001b[0;32m--> 134\u001b[0;31m             \u001b[0mself\u001b[0m\u001b[0;34m.\u001b[0m\u001b[0mcheck_keywords\u001b[0m\u001b[0;34m(\u001b[0m\u001b[0mtopic\u001b[0m\u001b[0;34m)\u001b[0m\u001b[0;34m\u001b[0m\u001b[0;34m\u001b[0m\u001b[0m\n\u001b[0m\u001b[1;32m    135\u001b[0m             \u001b[0mself\u001b[0m\u001b[0;34m.\u001b[0m\u001b[0m__topics\u001b[0m\u001b[0;34m.\u001b[0m\u001b[0mappend\u001b[0m\u001b[0;34m(\u001b[0m\u001b[0mlist\u001b[0m\u001b[0;34m(\u001b[0m\u001b[0mtopic\u001b[0m\u001b[0;34m)\u001b[0m\u001b[0;34m)\u001b[0m\u001b[0;34m\u001b[0m\u001b[0;34m\u001b[0m\u001b[0m\n\u001b[1;32m    136\u001b[0m \u001b[0;34m\u001b[0m\u001b[0m\n",
      "\u001b[0;32m~/Universita/magistrale/web_and_social_information_extraction/webandsocial-progetto/src/overlaps_topics/overlap_topics.py\u001b[0m in \u001b[0;36mcheck_keywords\u001b[0;34m(self, topic)\u001b[0m\n\u001b[1;32m    119\u001b[0m \u001b[0;34m\u001b[0m\u001b[0m\n\u001b[1;32m    120\u001b[0m         \u001b[0;32mif\u001b[0m \u001b[0;32mnot\u001b[0m \u001b[0mregular\u001b[0m\u001b[0;34m:\u001b[0m\u001b[0;34m\u001b[0m\u001b[0;34m\u001b[0m\u001b[0m\n\u001b[0;32m--> 121\u001b[0;31m             \u001b[0;32mraise\u001b[0m \u001b[0mexcpt\u001b[0m\u001b[0;34m.\u001b[0m\u001b[0mTopicMalFormedException\u001b[0m\u001b[0;34m(\u001b[0m\u001b[0;34m\"Topic bad formed.\"\u001b[0m\u001b[0;34m)\u001b[0m\u001b[0;34m\u001b[0m\u001b[0;34m\u001b[0m\u001b[0m\n\u001b[0m\u001b[1;32m    122\u001b[0m \u001b[0;34m\u001b[0m\u001b[0m\n\u001b[1;32m    123\u001b[0m \u001b[0;34m\u001b[0m\u001b[0m\n",
      "\u001b[0;31mTopicMalFormedException\u001b[0m: Topic bad formed."
     ]
    }
   ],
   "source": [
    "overlap_merge_view_deg_neg(2015, k = 10)"
   ]
  },
  {
   "cell_type": "markdown",
   "metadata": {},
   "source": [
    "### Year 2016"
   ]
  },
  {
   "cell_type": "code",
   "execution_count": 114,
   "metadata": {},
   "outputs": [
    {
     "name": "stdout",
     "output_type": "stream",
     "text": [
      "OVERLAP MERGING RESULT WITH CLIQUE PERCOLATION METHOD, TIPPING MODEL, SEED TOP 10 NODES AND DEG THRESHOLD CALCULATION STRATEGY.\n",
      "\n",
      "['super robot monkey team hyperforce go!', 'search space effectively', 'apache spark', 'usb on-the-go', 'granting bails', 'coupling constant', 'markov decision process', 'computer data storage', 'medical imaging', 'distribution (mathematics)', 'decision list', 'convex function', 'daily basis', 'biogeography-based optimization\\xa0', 'rémi munos', 'effective interpretable', 'upper confidence bound', 'autoencoder', 'computational complexity theory', 'nonlinearity', 'numerical analysis', 'maximizes outcomes', 'neural network simulation', 'language model', 'convolutional neural network', 'koray kavukcuoglu', 'neuron', 'variational principle', 'novel objective', 'fuzzy set', 'multi-agent system', 'ibm systems network architecture', 'ben parr', 'cognitive radio', 'numerical linear algebra', 'weight', 'time delay', 'http public key pinning', 'adaptive coding', 'magnetic resonance imaging', 'training', 'leverages customized checks', 'lyapunov fractal', 'computer-aided design', 'control theory', 'algorithm', 'imagenet', 'artificial neural network', 'support vector machine', 'optimization\\xa0', 'mathematical model', 'marc g. bellemare', 'adversary (cryptography)', 'formal system', 'code', 'particle swarm optimization\\xa0', 'genetic programming', 'recurrent neural network', 'embedded system', 'exploit (computer security)', 'apriori algorithm', 'swarm intelligence\\xa0', 'frequency band', 'optimization', 'computer simulation', 'linear matrix inequality', 'atari', 'finite-time synchronization', 'experimental results', 'vocabulary', 'time delays', 'feedforward neural network', 'bayesian network', 'coordinate descent', 'approximation algorithm', 'approximation', 'mathematical optimization', 'test set', 'asthma patients demonstrate', 'robot', 'mapreduce', 'social inequality', 'network architecture', 'minimizes overall costs', 'interference (communication)', 'natural language processing', 'machine learning', 'agent-based model', 'black bag operation', 'recommender system', 'recommending treatments', 'settling time', 'iterative method', 'generalization (psychology)', 'costs involved', 'hypernymy relations', 'fuzzy control system', 'preprocessor', 'sensor', 'data model', 'constrained optimization', 'hysteresis', 'nonlinear systems', 'one-class classification', 'memristor', 'real-time clock', 'interval arithmetic', 'brute-force search', 'simulation', 'high- and low-level', 'feedback', 'reinforcement learning', 'decision makers', 'open research', 'maps characteristics', 'diagnostic test results', 'iteration', 'learning disorders', 'coefficient', 'personalization', 'nonlinear system', 'long short-term memory', 'neural networks', 'approximation error', 'computation', 'mnist database', 'data mining', 'fuzzy logic', 'data pre-processing', 'computer science', 'bellman equation', 'quality of service', 'statistical model', 'hamilton–jacobi–bellman equation', 'lymph nodes', 'throughput', 'experiment', 'end-to-end principle', 'mark rowland', 'network topology', 'genetic algorithm', 'quantization (signal processing)', 'biological neural networks', 'optimization problem', 'sample complexity', 'dynamic programming', 'adaptive systems', 'genetic algorithm\\xa0', 'converge', 'optimal control', 'will dabney', 'demis hassabis', 'particle swarm optimization', 'global optimization', 'deep learning', 'dropout (neural networks)', 'requirement', 'hado van hasselt', 'subnetwork', 'knowledge graph', 'volodymyr mnih', 'sparse matrix', 'time-varying delay', 'stochastic gradient descent', 'benchmark (computing)', 'centralized computing', 'big data', 'state estimation', 'control system', 'open-source software', 'encoder', 'artificial intelligence', 'feature extraction', 'identifier', 'fuzzy rule', 'channel state information', 'search algorithm', 'telecommunications link', 'potential benefits', 'benchmark\\xa0', 'q-learning']\n",
      "len_topic: 181\n",
      "\n"
     ]
    }
   ],
   "source": [
    "overlap_merge_view_deg(2016, k = 10)"
   ]
  },
  {
   "cell_type": "code",
   "execution_count": 115,
   "metadata": {},
   "outputs": [
    {
     "name": "stdout",
     "output_type": "stream",
     "text": [
      "OVERLAP MERGING RESULT WITH CLIQUE PERCOLATION METHOD, TIPPING MODEL, SEED TOP 10 NODES AND HALF THRESHOLD CALCULATION STRATEGY.\n",
      "\n",
      "['lyapunov fractal', 'super robot monkey team hyperforce go!', 'neural networks', 'approximation error', 'computation', 'computer-aided design', 'control theory', 'usb on-the-go', 'mnist database', 'algorithm', 'artificial neural network', 'computer science', 'fuzzy logic', 'imagenet', 'bellman equation', 'recommender system', 'coupling constant', 'hamilton–jacobi–bellman equation', 'settling time', 'experiment', 'distribution (mathematics)', 'convex function', 'quantization (signal processing)', 'biological neural networks', 'sample complexity', 'hypernymy relations', 'dynamic programming', 'adaptive systems', 'formal system', 'genetic programming', 'sensor', 'converge', 'optimal control', 'constrained optimization', 'hysteresis', 'recurrent neural network', 'nonlinearity', 'computational complexity theory', 'embedded system', 'nonlinear systems', 'numerical analysis', 'neural network simulation', 'language model', 'memristor', 'neuron', 'stochastic gradient descent', 'real-time clock', 'time-varying delay', 'computer simulation', 'optimization', 'linear matrix inequality', 'simulation', 'finite-time synchronization', 'feedback', 'reinforcement learning', 'multi-agent system', 'time delays', 'state estimation', 'control system', 'coordinate descent', 'numerical linear algebra', 'time delay', 'approximation', 'approximation algorithm', 'http public key pinning', 'test set', 'mathematical optimization', 'iteration', 'identifier', 'robot', 'social inequality', 'personalization', 'coefficient', 'nonlinear system', 'network architecture', 'natural language processing', 'telecommunications link', 'agent-based model', 'long short-term memory', 'q-learning']\n",
      "len_topic: 80\n",
      "\n"
     ]
    }
   ],
   "source": [
    "overlap_merge_view_half(2016, k = 10)"
   ]
  },
  {
   "cell_type": "code",
   "execution_count": 116,
   "metadata": {},
   "outputs": [
    {
     "ename": "TopicMalFormedException",
     "evalue": "Topic bad formed.",
     "output_type": "error",
     "traceback": [
      "\u001b[0;31m---------------------------------------------------------------------------\u001b[0m",
      "\u001b[0;31mTopicMalFormedException\u001b[0m                   Traceback (most recent call last)",
      "\u001b[0;32m<ipython-input-116-35ba56a0f514>\u001b[0m in \u001b[0;36m<module>\u001b[0;34m\u001b[0m\n\u001b[0;32m----> 1\u001b[0;31m \u001b[0moverlap_merge_view_deg_neg\u001b[0m\u001b[0;34m(\u001b[0m\u001b[0;36m2016\u001b[0m\u001b[0;34m,\u001b[0m \u001b[0mk\u001b[0m \u001b[0;34m=\u001b[0m \u001b[0;36m10\u001b[0m\u001b[0;34m)\u001b[0m\u001b[0;34m\u001b[0m\u001b[0;34m\u001b[0m\u001b[0m\n\u001b[0m",
      "\u001b[0;32m<ipython-input-6-aa88f64ba5fa>\u001b[0m in \u001b[0;36moverlap_merge_view_deg_neg\u001b[0;34m(year, k)\u001b[0m\n\u001b[1;32m     19\u001b[0m     \u001b[0mspread_dict\u001b[0m\u001b[0;34m[\u001b[0m\u001b[0mstr\u001b[0m\u001b[0;34m(\u001b[0m\u001b[0myear\u001b[0m\u001b[0;34m)\u001b[0m\u001b[0;34m]\u001b[0m\u001b[0;34m.\u001b[0m\u001b[0mtipping_model\u001b[0m\u001b[0;34m(\u001b[0m\u001b[0;34m)\u001b[0m\u001b[0;34m\u001b[0m\u001b[0;34m\u001b[0m\u001b[0m\n\u001b[1;32m     20\u001b[0m     \u001b[0mtipping_deg_neg\u001b[0m \u001b[0;34m=\u001b[0m \u001b[0mspread_dict\u001b[0m\u001b[0;34m[\u001b[0m\u001b[0mstr\u001b[0m\u001b[0;34m(\u001b[0m\u001b[0myear\u001b[0m\u001b[0;34m)\u001b[0m\u001b[0;34m]\u001b[0m\u001b[0;34m.\u001b[0m\u001b[0mget_influenced_nodes\u001b[0m\u001b[0;34m(\u001b[0m\u001b[0;34m)\u001b[0m\u001b[0;34m\u001b[0m\u001b[0;34m\u001b[0m\u001b[0m\n\u001b[0;32m---> 21\u001b[0;31m     \u001b[0mtopics_deg_neg\u001b[0m \u001b[0;34m=\u001b[0m \u001b[0moverlap_perform\u001b[0m\u001b[0;34m(\u001b[0m\u001b[0myear\u001b[0m\u001b[0;34m,\u001b[0m \u001b[0mtipping_deg_neg\u001b[0m\u001b[0;34m,\u001b[0m \u001b[0mk\u001b[0m\u001b[0;34m)\u001b[0m\u001b[0;34m\u001b[0m\u001b[0;34m\u001b[0m\u001b[0m\n\u001b[0m\u001b[1;32m     22\u001b[0m     \u001b[0mto_print\u001b[0m\u001b[0;34m(\u001b[0m\u001b[0mtopics_deg_neg\u001b[0m\u001b[0;34m,\u001b[0m \u001b[0;34m\"tipping\"\u001b[0m\u001b[0;34m,\u001b[0m \u001b[0mk\u001b[0m\u001b[0;34m,\u001b[0m \u001b[0;34m\"deg negative\"\u001b[0m\u001b[0;34m)\u001b[0m\u001b[0;34m\u001b[0m\u001b[0;34m\u001b[0m\u001b[0m\n",
      "\u001b[0;32m<ipython-input-5-60ae7201d3cc>\u001b[0m in \u001b[0;36moverlap_perform\u001b[0;34m(year, all_topics, k)\u001b[0m\n\u001b[1;32m      2\u001b[0m     \u001b[0moverlap\u001b[0m \u001b[0;34m=\u001b[0m \u001b[0mov\u001b[0m\u001b[0;34m.\u001b[0m\u001b[0mOverlapTopics\u001b[0m\u001b[0;34m(\u001b[0m\u001b[0mgraph_timeline_dict\u001b[0m\u001b[0;34m[\u001b[0m\u001b[0mstr\u001b[0m\u001b[0;34m(\u001b[0m\u001b[0myear\u001b[0m\u001b[0;34m)\u001b[0m\u001b[0;34m]\u001b[0m\u001b[0;34m,\u001b[0m \u001b[0mall_topics\u001b[0m\u001b[0;34m,\u001b[0m \u001b[0mk\u001b[0m\u001b[0;34m)\u001b[0m\u001b[0;34m\u001b[0m\u001b[0;34m\u001b[0m\u001b[0m\n\u001b[1;32m      3\u001b[0m     \u001b[0moverlap\u001b[0m\u001b[0;34m.\u001b[0m\u001b[0moverlap_preprocessing\u001b[0m\u001b[0;34m(\u001b[0m\u001b[0;34m)\u001b[0m\u001b[0;34m\u001b[0m\u001b[0;34m\u001b[0m\u001b[0m\n\u001b[0;32m----> 4\u001b[0;31m     \u001b[0moverlap\u001b[0m\u001b[0;34m.\u001b[0m\u001b[0mclique_percolation_method\u001b[0m\u001b[0;34m(\u001b[0m\u001b[0;34m)\u001b[0m\u001b[0;34m\u001b[0m\u001b[0;34m\u001b[0m\u001b[0m\n\u001b[0m\u001b[1;32m      5\u001b[0m     \u001b[0moverlap\u001b[0m\u001b[0;34m.\u001b[0m\u001b[0mcheck_spread_topics\u001b[0m\u001b[0;34m(\u001b[0m\u001b[0;34m)\u001b[0m\u001b[0;34m\u001b[0m\u001b[0;34m\u001b[0m\u001b[0m\n\u001b[1;32m      6\u001b[0m     \u001b[0moverlap\u001b[0m\u001b[0;34m.\u001b[0m\u001b[0mcheck_number_topics\u001b[0m\u001b[0;34m(\u001b[0m\u001b[0;34m)\u001b[0m\u001b[0;34m\u001b[0m\u001b[0;34m\u001b[0m\u001b[0m\n",
      "\u001b[0;32m~/Universita/magistrale/web_and_social_information_extraction/webandsocial-progetto/src/overlaps_topics/overlap_topics.py\u001b[0m in \u001b[0;36mclique_percolation_method\u001b[0;34m(self)\u001b[0m\n\u001b[1;32m    132\u001b[0m         \u001b[0mcommunities\u001b[0m \u001b[0;34m=\u001b[0m \u001b[0mk_clique_communities\u001b[0m\u001b[0;34m(\u001b[0m\u001b[0mG\u001b[0m \u001b[0;34m=\u001b[0m \u001b[0mself\u001b[0m\u001b[0;34m.\u001b[0m\u001b[0m__year_sub_graph\u001b[0m\u001b[0;34m,\u001b[0m \u001b[0mk\u001b[0m \u001b[0;34m=\u001b[0m \u001b[0;36m2\u001b[0m\u001b[0;34m)\u001b[0m\u001b[0;34m\u001b[0m\u001b[0;34m\u001b[0m\u001b[0m\n\u001b[1;32m    133\u001b[0m         \u001b[0;32mfor\u001b[0m \u001b[0mtopic\u001b[0m \u001b[0;32min\u001b[0m \u001b[0mcommunities\u001b[0m\u001b[0;34m:\u001b[0m\u001b[0;34m\u001b[0m\u001b[0;34m\u001b[0m\u001b[0m\n\u001b[0;32m--> 134\u001b[0;31m             \u001b[0mself\u001b[0m\u001b[0;34m.\u001b[0m\u001b[0mcheck_keywords\u001b[0m\u001b[0;34m(\u001b[0m\u001b[0mtopic\u001b[0m\u001b[0;34m)\u001b[0m\u001b[0;34m\u001b[0m\u001b[0;34m\u001b[0m\u001b[0m\n\u001b[0m\u001b[1;32m    135\u001b[0m             \u001b[0mself\u001b[0m\u001b[0;34m.\u001b[0m\u001b[0m__topics\u001b[0m\u001b[0;34m.\u001b[0m\u001b[0mappend\u001b[0m\u001b[0;34m(\u001b[0m\u001b[0mlist\u001b[0m\u001b[0;34m(\u001b[0m\u001b[0mtopic\u001b[0m\u001b[0;34m)\u001b[0m\u001b[0;34m)\u001b[0m\u001b[0;34m\u001b[0m\u001b[0;34m\u001b[0m\u001b[0m\n\u001b[1;32m    136\u001b[0m \u001b[0;34m\u001b[0m\u001b[0m\n",
      "\u001b[0;32m~/Universita/magistrale/web_and_social_information_extraction/webandsocial-progetto/src/overlaps_topics/overlap_topics.py\u001b[0m in \u001b[0;36mcheck_keywords\u001b[0;34m(self, topic)\u001b[0m\n\u001b[1;32m    119\u001b[0m \u001b[0;34m\u001b[0m\u001b[0m\n\u001b[1;32m    120\u001b[0m         \u001b[0;32mif\u001b[0m \u001b[0;32mnot\u001b[0m \u001b[0mregular\u001b[0m\u001b[0;34m:\u001b[0m\u001b[0;34m\u001b[0m\u001b[0;34m\u001b[0m\u001b[0m\n\u001b[0;32m--> 121\u001b[0;31m             \u001b[0;32mraise\u001b[0m \u001b[0mexcpt\u001b[0m\u001b[0;34m.\u001b[0m\u001b[0mTopicMalFormedException\u001b[0m\u001b[0;34m(\u001b[0m\u001b[0;34m\"Topic bad formed.\"\u001b[0m\u001b[0;34m)\u001b[0m\u001b[0;34m\u001b[0m\u001b[0;34m\u001b[0m\u001b[0m\n\u001b[0m\u001b[1;32m    122\u001b[0m \u001b[0;34m\u001b[0m\u001b[0m\n\u001b[1;32m    123\u001b[0m \u001b[0;34m\u001b[0m\u001b[0m\n",
      "\u001b[0;31mTopicMalFormedException\u001b[0m: Topic bad formed."
     ]
    }
   ],
   "source": [
    "overlap_merge_view_deg_neg(2016, k = 10)"
   ]
  },
  {
   "cell_type": "markdown",
   "metadata": {},
   "source": [
    "### Year 2017"
   ]
  },
  {
   "cell_type": "code",
   "execution_count": 117,
   "metadata": {},
   "outputs": [
    {
     "name": "stdout",
     "output_type": "stream",
     "text": [
      "OVERLAP MERGING RESULT WITH CLIQUE PERCOLATION METHOD, TIPPING MODEL, SEED TOP 10 NODES AND DEG THRESHOLD CALCULATION STRATEGY.\n",
      "\n",
      "['sawtooth (cellular automaton)', 'sampling - surgical action', 'adversarial examples', 'british informatics olympiad', 'adversarial inputs', 'firefly algorithm', 'controllers', 'neural coding', 'random forest', 'numerical method', 'fuzzy control system', 'dynamical system', 'estimated', 'gradient descent', 'sensor', 'spectral leakage', 'autoencoder', 'cluster analysis', 'wireless sensor networks\\xa0', 'hopfield network', 'triangular matrix', 'global optimization\\xa0', 'time complexity', 'numerical analysis', 'data synchronization', 'neural network simulation', 'convolutional neural network', 'memristor', 'initial condition', 'anatomy regional', 'baxter (robot)', 'simulation', 'high- and low-level', 'feedback', 'reinforcement learning', 'two-factors second-order fuzzy-trend logical relationship groups', 'cognitive radio', \"jensen's inequality\", 'statistical cluster', 'inference', 'global exponential stability', 'next-generation network', 'semiconductor industry', 'nonlinear system', 'binary code', 'outline of object recognition', 'sampling (signal processing)', 'polynomial', 'association rule learning', 'long short-term memory', 'open problem', 'lyapunov fractal', 'samuel j leffler', 'computation', 'control theory', 'algorithm', 'artificial neural network', 'quality of service', 'feature selection', 'input lag', 'throughput', 'experiment', 'network packet', 'genetic algorithm', 'dual', 'optimization problem', 'swarm intelligence', 'recursion', 'computer vision', 'cloud computing', 'converge', 'scheduling (computing)', 'recurrent neural network', 'particle swarm optimization', 'deep learning', 'convolution', 'swarm intelligence\\xa0', 'premature convergence', 'sparse matrix', 'differential evolution', 'multi-objective optimization', 'benchmark (computing)', 'heuristic', 'linear matrix inequality', 'big data', 'force misclassification', 'firefly algorithm (fa)\\xa0', 'sensitivity and specificity', 'control system', 'inverted pendulum', 'routing', 'approximation', 'approximation algorithm', 'encoder', 'firefly (cache coherence protocol)', 'mathematical optimization', 'social inequality', 'interference (communication)', 'natural language processing', 'machine learning']\n",
      "len_topic: 100\n",
      "\n",
      "['dimensional vector representations', 'vast majority', 'node attributes', 'link prediction', 'network embedding', 'proposed framework']\n",
      "len_topic: 6\n",
      "\n"
     ]
    }
   ],
   "source": [
    "overlap_merge_view_deg(2017, k = 10)"
   ]
  },
  {
   "cell_type": "code",
   "execution_count": 118,
   "metadata": {},
   "outputs": [
    {
     "name": "stdout",
     "output_type": "stream",
     "text": [
      "OVERLAP MERGING RESULT WITH CLIQUE PERCOLATION METHOD, TIPPING MODEL, SEED TOP 10 NODES AND HALF THRESHOLD CALCULATION STRATEGY.\n",
      "\n",
      "['samuel j leffler', 'adversarial examples', 'british informatics olympiad', 'computation', 'algorithm', 'artificial neural network', 'adversarial inputs', 'quality of service', 'firefly algorithm', 'controllers', 'neural coding', 'random forest', 'throughput', 'experiment', 'network packet', 'genetic algorithm', 'dual', 'optimization problem', 'swarm intelligence', 'dynamical system', 'fuzzy control system', 'estimated', 'gradient descent', 'sensor', 'cloud computing', 'autoencoder', 'cluster analysis', 'scheduling (computing)', 'wireless sensor networks\\xa0', 'recurrent neural network', 'global optimization\\xa0', 'particle swarm optimization', 'time complexity', 'deep learning', 'swarm intelligence\\xa0', 'outline of object recognition', 'premature convergence', 'neural network simulation', 'memristor', 'initial condition', 'sparse matrix', 'differential evolution', 'benchmark (computing)', 'anatomy regional', 'multi-objective optimization', 'heuristic', 'force misclassification', 'simulation', 'big data', 'high- and low-level', 'firefly algorithm (fa)\\xa0', 'baxter (robot)', 'reinforcement learning', 'two-factors second-order fuzzy-trend logical relationship groups', 'control system', 'cognitive radio', 'routing', 'approximation algorithm', 'firefly (cache coherence protocol)', 'mathematical optimization', 'statistical cluster', 'inference', 'next-generation network', 'binary code', 'interference (communication)', 'machine learning', 'polynomial', 'long short-term memory', 'open problem']\n",
      "len_topic: 69\n",
      "\n",
      "['dimensional vector representations', 'vast majority', 'node attributes', 'link prediction', 'network embedding', 'proposed framework']\n",
      "len_topic: 6\n",
      "\n"
     ]
    }
   ],
   "source": [
    "overlap_merge_view_half(2017, k = 10)"
   ]
  },
  {
   "cell_type": "code",
   "execution_count": 119,
   "metadata": {},
   "outputs": [
    {
     "ename": "TopicMalFormedException",
     "evalue": "Topic bad formed.",
     "output_type": "error",
     "traceback": [
      "\u001b[0;31m---------------------------------------------------------------------------\u001b[0m",
      "\u001b[0;31mTopicMalFormedException\u001b[0m                   Traceback (most recent call last)",
      "\u001b[0;32m<ipython-input-119-2e7c744fac15>\u001b[0m in \u001b[0;36m<module>\u001b[0;34m\u001b[0m\n\u001b[0;32m----> 1\u001b[0;31m \u001b[0moverlap_merge_view_deg_neg\u001b[0m\u001b[0;34m(\u001b[0m\u001b[0;36m2017\u001b[0m\u001b[0;34m,\u001b[0m \u001b[0mk\u001b[0m \u001b[0;34m=\u001b[0m \u001b[0;36m10\u001b[0m\u001b[0;34m)\u001b[0m\u001b[0;34m\u001b[0m\u001b[0;34m\u001b[0m\u001b[0m\n\u001b[0m",
      "\u001b[0;32m<ipython-input-6-aa88f64ba5fa>\u001b[0m in \u001b[0;36moverlap_merge_view_deg_neg\u001b[0;34m(year, k)\u001b[0m\n\u001b[1;32m     19\u001b[0m     \u001b[0mspread_dict\u001b[0m\u001b[0;34m[\u001b[0m\u001b[0mstr\u001b[0m\u001b[0;34m(\u001b[0m\u001b[0myear\u001b[0m\u001b[0;34m)\u001b[0m\u001b[0;34m]\u001b[0m\u001b[0;34m.\u001b[0m\u001b[0mtipping_model\u001b[0m\u001b[0;34m(\u001b[0m\u001b[0;34m)\u001b[0m\u001b[0;34m\u001b[0m\u001b[0;34m\u001b[0m\u001b[0m\n\u001b[1;32m     20\u001b[0m     \u001b[0mtipping_deg_neg\u001b[0m \u001b[0;34m=\u001b[0m \u001b[0mspread_dict\u001b[0m\u001b[0;34m[\u001b[0m\u001b[0mstr\u001b[0m\u001b[0;34m(\u001b[0m\u001b[0myear\u001b[0m\u001b[0;34m)\u001b[0m\u001b[0;34m]\u001b[0m\u001b[0;34m.\u001b[0m\u001b[0mget_influenced_nodes\u001b[0m\u001b[0;34m(\u001b[0m\u001b[0;34m)\u001b[0m\u001b[0;34m\u001b[0m\u001b[0;34m\u001b[0m\u001b[0m\n\u001b[0;32m---> 21\u001b[0;31m     \u001b[0mtopics_deg_neg\u001b[0m \u001b[0;34m=\u001b[0m \u001b[0moverlap_perform\u001b[0m\u001b[0;34m(\u001b[0m\u001b[0myear\u001b[0m\u001b[0;34m,\u001b[0m \u001b[0mtipping_deg_neg\u001b[0m\u001b[0;34m,\u001b[0m \u001b[0mk\u001b[0m\u001b[0;34m)\u001b[0m\u001b[0;34m\u001b[0m\u001b[0;34m\u001b[0m\u001b[0m\n\u001b[0m\u001b[1;32m     22\u001b[0m     \u001b[0mto_print\u001b[0m\u001b[0;34m(\u001b[0m\u001b[0mtopics_deg_neg\u001b[0m\u001b[0;34m,\u001b[0m \u001b[0;34m\"tipping\"\u001b[0m\u001b[0;34m,\u001b[0m \u001b[0mk\u001b[0m\u001b[0;34m,\u001b[0m \u001b[0;34m\"deg negative\"\u001b[0m\u001b[0;34m)\u001b[0m\u001b[0;34m\u001b[0m\u001b[0;34m\u001b[0m\u001b[0m\n",
      "\u001b[0;32m<ipython-input-5-60ae7201d3cc>\u001b[0m in \u001b[0;36moverlap_perform\u001b[0;34m(year, all_topics, k)\u001b[0m\n\u001b[1;32m      2\u001b[0m     \u001b[0moverlap\u001b[0m \u001b[0;34m=\u001b[0m \u001b[0mov\u001b[0m\u001b[0;34m.\u001b[0m\u001b[0mOverlapTopics\u001b[0m\u001b[0;34m(\u001b[0m\u001b[0mgraph_timeline_dict\u001b[0m\u001b[0;34m[\u001b[0m\u001b[0mstr\u001b[0m\u001b[0;34m(\u001b[0m\u001b[0myear\u001b[0m\u001b[0;34m)\u001b[0m\u001b[0;34m]\u001b[0m\u001b[0;34m,\u001b[0m \u001b[0mall_topics\u001b[0m\u001b[0;34m,\u001b[0m \u001b[0mk\u001b[0m\u001b[0;34m)\u001b[0m\u001b[0;34m\u001b[0m\u001b[0;34m\u001b[0m\u001b[0m\n\u001b[1;32m      3\u001b[0m     \u001b[0moverlap\u001b[0m\u001b[0;34m.\u001b[0m\u001b[0moverlap_preprocessing\u001b[0m\u001b[0;34m(\u001b[0m\u001b[0;34m)\u001b[0m\u001b[0;34m\u001b[0m\u001b[0;34m\u001b[0m\u001b[0m\n\u001b[0;32m----> 4\u001b[0;31m     \u001b[0moverlap\u001b[0m\u001b[0;34m.\u001b[0m\u001b[0mclique_percolation_method\u001b[0m\u001b[0;34m(\u001b[0m\u001b[0;34m)\u001b[0m\u001b[0;34m\u001b[0m\u001b[0;34m\u001b[0m\u001b[0m\n\u001b[0m\u001b[1;32m      5\u001b[0m     \u001b[0moverlap\u001b[0m\u001b[0;34m.\u001b[0m\u001b[0mcheck_spread_topics\u001b[0m\u001b[0;34m(\u001b[0m\u001b[0;34m)\u001b[0m\u001b[0;34m\u001b[0m\u001b[0;34m\u001b[0m\u001b[0m\n\u001b[1;32m      6\u001b[0m     \u001b[0moverlap\u001b[0m\u001b[0;34m.\u001b[0m\u001b[0mcheck_number_topics\u001b[0m\u001b[0;34m(\u001b[0m\u001b[0;34m)\u001b[0m\u001b[0;34m\u001b[0m\u001b[0;34m\u001b[0m\u001b[0m\n",
      "\u001b[0;32m~/Universita/magistrale/web_and_social_information_extraction/webandsocial-progetto/src/overlaps_topics/overlap_topics.py\u001b[0m in \u001b[0;36mclique_percolation_method\u001b[0;34m(self)\u001b[0m\n\u001b[1;32m    132\u001b[0m         \u001b[0mcommunities\u001b[0m \u001b[0;34m=\u001b[0m \u001b[0mk_clique_communities\u001b[0m\u001b[0;34m(\u001b[0m\u001b[0mG\u001b[0m \u001b[0;34m=\u001b[0m \u001b[0mself\u001b[0m\u001b[0;34m.\u001b[0m\u001b[0m__year_sub_graph\u001b[0m\u001b[0;34m,\u001b[0m \u001b[0mk\u001b[0m \u001b[0;34m=\u001b[0m \u001b[0;36m2\u001b[0m\u001b[0;34m)\u001b[0m\u001b[0;34m\u001b[0m\u001b[0;34m\u001b[0m\u001b[0m\n\u001b[1;32m    133\u001b[0m         \u001b[0;32mfor\u001b[0m \u001b[0mtopic\u001b[0m \u001b[0;32min\u001b[0m \u001b[0mcommunities\u001b[0m\u001b[0;34m:\u001b[0m\u001b[0;34m\u001b[0m\u001b[0;34m\u001b[0m\u001b[0m\n\u001b[0;32m--> 134\u001b[0;31m             \u001b[0mself\u001b[0m\u001b[0;34m.\u001b[0m\u001b[0mcheck_keywords\u001b[0m\u001b[0;34m(\u001b[0m\u001b[0mtopic\u001b[0m\u001b[0;34m)\u001b[0m\u001b[0;34m\u001b[0m\u001b[0;34m\u001b[0m\u001b[0m\n\u001b[0m\u001b[1;32m    135\u001b[0m             \u001b[0mself\u001b[0m\u001b[0;34m.\u001b[0m\u001b[0m__topics\u001b[0m\u001b[0;34m.\u001b[0m\u001b[0mappend\u001b[0m\u001b[0;34m(\u001b[0m\u001b[0mlist\u001b[0m\u001b[0;34m(\u001b[0m\u001b[0mtopic\u001b[0m\u001b[0;34m)\u001b[0m\u001b[0;34m)\u001b[0m\u001b[0;34m\u001b[0m\u001b[0;34m\u001b[0m\u001b[0m\n\u001b[1;32m    136\u001b[0m \u001b[0;34m\u001b[0m\u001b[0m\n",
      "\u001b[0;32m~/Universita/magistrale/web_and_social_information_extraction/webandsocial-progetto/src/overlaps_topics/overlap_topics.py\u001b[0m in \u001b[0;36mcheck_keywords\u001b[0;34m(self, topic)\u001b[0m\n\u001b[1;32m    119\u001b[0m \u001b[0;34m\u001b[0m\u001b[0m\n\u001b[1;32m    120\u001b[0m         \u001b[0;32mif\u001b[0m \u001b[0;32mnot\u001b[0m \u001b[0mregular\u001b[0m\u001b[0;34m:\u001b[0m\u001b[0;34m\u001b[0m\u001b[0;34m\u001b[0m\u001b[0m\n\u001b[0;32m--> 121\u001b[0;31m             \u001b[0;32mraise\u001b[0m \u001b[0mexcpt\u001b[0m\u001b[0;34m.\u001b[0m\u001b[0mTopicMalFormedException\u001b[0m\u001b[0;34m(\u001b[0m\u001b[0;34m\"Topic bad formed.\"\u001b[0m\u001b[0;34m)\u001b[0m\u001b[0;34m\u001b[0m\u001b[0;34m\u001b[0m\u001b[0m\n\u001b[0m\u001b[1;32m    122\u001b[0m \u001b[0;34m\u001b[0m\u001b[0m\n\u001b[1;32m    123\u001b[0m \u001b[0;34m\u001b[0m\u001b[0m\n",
      "\u001b[0;31mTopicMalFormedException\u001b[0m: Topic bad formed."
     ]
    }
   ],
   "source": [
    "overlap_merge_view_deg_neg(2017, k = 10)"
   ]
  },
  {
   "cell_type": "markdown",
   "metadata": {},
   "source": [
    "### Year 2018 "
   ]
  },
  {
   "cell_type": "code",
   "execution_count": 120,
   "metadata": {},
   "outputs": [
    {
     "name": "stdout",
     "output_type": "stream",
     "text": [
      "OVERLAP MERGING RESULT WITH CLIQUE PERCOLATION METHOD, TIPPING MODEL, SEED TOP 10 NODES AND DEG THRESHOLD CALCULATION STRATEGY.\n",
      "\n",
      "['model generalization', 'transfer adversarial examples', 'adversarial examples', 'powerful framework', 'make mistakes', 'open question', 'leveraging unlabeled data', 'known parameters', 'deep neural networks', 'standard benchmark tasks', 'similar mistakes', 'nips 2017 competition', 'unknown parameters', 'machine learning models', 'simple baselines', 'vision models', 'adversarial examples phenomenon', 'data manifold', 'small changes', 'leveraging recent techniques', 'training distribution', 'hidden states', 'recently proven successful', 'school bus', 'input space', 'deep networks', 'domain shift', 'supervised learning']\n",
      "len_topic: 28\n",
      "\n",
      "['evolutionary algorithms', 'multi-user', 'iterative method', '34c27\\xa0', 'system dynamics', 'closed-circuit television', 'training data', 'fuzzy control system', 'hearing loss high-frequency', 'spectral leakage', 'autoencoder', 'computational complexity theory', 'anomaly detection', 'prime-factor fft algorithm', 'hopfield network', 'time complexity', 'numerical analysis', '92c20\\xa0', 'neural network simulation', 'radio frequency', 'memristor', 'convolutional neural network', 'biologic preservation', 'crafted neuron network', 'simulation', 'expectation propagation', 'reinforcement learning', 'loss function', 'cognitive radio', 'data compression', '37b25\\xa0', 'impulse\\xa0', 'interaction', 'semiconductor industry', 'fixed-point theorem', 'telecommunications network', 'nonlinear system', 'detection tasks', 'mimo', 'lyapunov fractal', 'active learning (machine learning)', 'neural networks', 'existing approaches', 'spectral density', 'algorithm', 'artificial neural network', 'support vector machine', 'critical scenarios', 'predictive failure analysis', 'analysis of algorithms', 'anatomical layer', 'throughput', 'experiment', 'pid', 'end-to-end principle', 'network packet', 'optimization problem', 'biological neural networks', 'swarm intelligence', 'numerous', 'particle swarm optimization\\xa0', 'correctness (computer science)', 'converge', 'optimal control', 'scheduling (computing)', 'embedded system', 'particle swarm optimization', 'memristor-based switching networks\\xa0', 'deep learning', 'entropy maximization', 'bit error rate', 'frequency band', 'differential evolution', 'computer simulation', 'direct method in the calculus of variations', 'new data', 'linear matrix inequality', 'benchmark (computing)', 'experimental results', 'approximation algorithm', 'approximation', 'mathematical optimization', 'smart battery system', 'multitier architecture', 'social inequality', 'bands', 'privacy', 'interference (communication)', 'driven programming paradigm', 'machine learning', 'telecommunications link', 'word lists by frequency']\n",
      "len_topic: 92\n",
      "\n"
     ]
    }
   ],
   "source": [
    "overlap_merge_view_deg(2018, k = 10)"
   ]
  },
  {
   "cell_type": "code",
   "execution_count": 121,
   "metadata": {},
   "outputs": [
    {
     "name": "stdout",
     "output_type": "stream",
     "text": [
      "OVERLAP MERGING RESULT WITH CLIQUE PERCOLATION METHOD, TIPPING MODEL, SEED TOP 10 NODES AND HALF THRESHOLD CALCULATION STRATEGY.\n",
      "\n",
      "['evolutionary algorithms', 'lyapunov fractal', 'neural networks', 'algorithm', 'artificial neural network', 'support vector machine', '34c27\\xa0', 'throughput', 'experiment', 'pid', 'system dynamics', 'end-to-end principle', 'biological neural networks', 'swarm intelligence', 'fuzzy control system', 'numerous', 'particle swarm optimization\\xa0', 'hearing loss high-frequency', 'correctness (computer science)', 'spectral leakage', 'autoencoder', 'optimal control', 'anomaly detection', 'hopfield network', 'particle swarm optimization', 'memristor-based switching networks\\xa0', 'deep learning', 'numerical analysis', '92c20\\xa0', 'neural network simulation', 'memristor', 'differential evolution', 'direct method in the calculus of variations', 'linear matrix inequality', 'simulation', 'approximation algorithm', 'approximation', 'mathematical optimization', '37b25\\xa0', 'impulse\\xa0', 'interaction', 'social inequality', 'bands', 'semiconductor industry', 'nonlinear system', 'telecommunications network', 'fixed-point theorem', 'machine learning', 'word lists by frequency']\n",
      "len_topic: 49\n",
      "\n",
      "['adversarial examples', 'nips 2017 competition']\n",
      "len_topic: 2\n",
      "\n"
     ]
    }
   ],
   "source": [
    "overlap_merge_view_half(2018, k = 10)"
   ]
  },
  {
   "cell_type": "code",
   "execution_count": 122,
   "metadata": {},
   "outputs": [
    {
     "ename": "TopicMalFormedException",
     "evalue": "Topic bad formed.",
     "output_type": "error",
     "traceback": [
      "\u001b[0;31m---------------------------------------------------------------------------\u001b[0m",
      "\u001b[0;31mTopicMalFormedException\u001b[0m                   Traceback (most recent call last)",
      "\u001b[0;32m<ipython-input-122-8018dcd6a760>\u001b[0m in \u001b[0;36m<module>\u001b[0;34m\u001b[0m\n\u001b[0;32m----> 1\u001b[0;31m \u001b[0moverlap_merge_view_deg_neg\u001b[0m\u001b[0;34m(\u001b[0m\u001b[0;36m2018\u001b[0m\u001b[0;34m,\u001b[0m \u001b[0mk\u001b[0m \u001b[0;34m=\u001b[0m \u001b[0;36m10\u001b[0m\u001b[0;34m)\u001b[0m\u001b[0;34m\u001b[0m\u001b[0;34m\u001b[0m\u001b[0m\n\u001b[0m",
      "\u001b[0;32m<ipython-input-6-aa88f64ba5fa>\u001b[0m in \u001b[0;36moverlap_merge_view_deg_neg\u001b[0;34m(year, k)\u001b[0m\n\u001b[1;32m     19\u001b[0m     \u001b[0mspread_dict\u001b[0m\u001b[0;34m[\u001b[0m\u001b[0mstr\u001b[0m\u001b[0;34m(\u001b[0m\u001b[0myear\u001b[0m\u001b[0;34m)\u001b[0m\u001b[0;34m]\u001b[0m\u001b[0;34m.\u001b[0m\u001b[0mtipping_model\u001b[0m\u001b[0;34m(\u001b[0m\u001b[0;34m)\u001b[0m\u001b[0;34m\u001b[0m\u001b[0;34m\u001b[0m\u001b[0m\n\u001b[1;32m     20\u001b[0m     \u001b[0mtipping_deg_neg\u001b[0m \u001b[0;34m=\u001b[0m \u001b[0mspread_dict\u001b[0m\u001b[0;34m[\u001b[0m\u001b[0mstr\u001b[0m\u001b[0;34m(\u001b[0m\u001b[0myear\u001b[0m\u001b[0;34m)\u001b[0m\u001b[0;34m]\u001b[0m\u001b[0;34m.\u001b[0m\u001b[0mget_influenced_nodes\u001b[0m\u001b[0;34m(\u001b[0m\u001b[0;34m)\u001b[0m\u001b[0;34m\u001b[0m\u001b[0;34m\u001b[0m\u001b[0m\n\u001b[0;32m---> 21\u001b[0;31m     \u001b[0mtopics_deg_neg\u001b[0m \u001b[0;34m=\u001b[0m \u001b[0moverlap_perform\u001b[0m\u001b[0;34m(\u001b[0m\u001b[0myear\u001b[0m\u001b[0;34m,\u001b[0m \u001b[0mtipping_deg_neg\u001b[0m\u001b[0;34m,\u001b[0m \u001b[0mk\u001b[0m\u001b[0;34m)\u001b[0m\u001b[0;34m\u001b[0m\u001b[0;34m\u001b[0m\u001b[0m\n\u001b[0m\u001b[1;32m     22\u001b[0m     \u001b[0mto_print\u001b[0m\u001b[0;34m(\u001b[0m\u001b[0mtopics_deg_neg\u001b[0m\u001b[0;34m,\u001b[0m \u001b[0;34m\"tipping\"\u001b[0m\u001b[0;34m,\u001b[0m \u001b[0mk\u001b[0m\u001b[0;34m,\u001b[0m \u001b[0;34m\"deg negative\"\u001b[0m\u001b[0;34m)\u001b[0m\u001b[0;34m\u001b[0m\u001b[0;34m\u001b[0m\u001b[0m\n",
      "\u001b[0;32m<ipython-input-5-60ae7201d3cc>\u001b[0m in \u001b[0;36moverlap_perform\u001b[0;34m(year, all_topics, k)\u001b[0m\n\u001b[1;32m      2\u001b[0m     \u001b[0moverlap\u001b[0m \u001b[0;34m=\u001b[0m \u001b[0mov\u001b[0m\u001b[0;34m.\u001b[0m\u001b[0mOverlapTopics\u001b[0m\u001b[0;34m(\u001b[0m\u001b[0mgraph_timeline_dict\u001b[0m\u001b[0;34m[\u001b[0m\u001b[0mstr\u001b[0m\u001b[0;34m(\u001b[0m\u001b[0myear\u001b[0m\u001b[0;34m)\u001b[0m\u001b[0;34m]\u001b[0m\u001b[0;34m,\u001b[0m \u001b[0mall_topics\u001b[0m\u001b[0;34m,\u001b[0m \u001b[0mk\u001b[0m\u001b[0;34m)\u001b[0m\u001b[0;34m\u001b[0m\u001b[0;34m\u001b[0m\u001b[0m\n\u001b[1;32m      3\u001b[0m     \u001b[0moverlap\u001b[0m\u001b[0;34m.\u001b[0m\u001b[0moverlap_preprocessing\u001b[0m\u001b[0;34m(\u001b[0m\u001b[0;34m)\u001b[0m\u001b[0;34m\u001b[0m\u001b[0;34m\u001b[0m\u001b[0m\n\u001b[0;32m----> 4\u001b[0;31m     \u001b[0moverlap\u001b[0m\u001b[0;34m.\u001b[0m\u001b[0mclique_percolation_method\u001b[0m\u001b[0;34m(\u001b[0m\u001b[0;34m)\u001b[0m\u001b[0;34m\u001b[0m\u001b[0;34m\u001b[0m\u001b[0m\n\u001b[0m\u001b[1;32m      5\u001b[0m     \u001b[0moverlap\u001b[0m\u001b[0;34m.\u001b[0m\u001b[0mcheck_spread_topics\u001b[0m\u001b[0;34m(\u001b[0m\u001b[0;34m)\u001b[0m\u001b[0;34m\u001b[0m\u001b[0;34m\u001b[0m\u001b[0m\n\u001b[1;32m      6\u001b[0m     \u001b[0moverlap\u001b[0m\u001b[0;34m.\u001b[0m\u001b[0mcheck_number_topics\u001b[0m\u001b[0;34m(\u001b[0m\u001b[0;34m)\u001b[0m\u001b[0;34m\u001b[0m\u001b[0;34m\u001b[0m\u001b[0m\n",
      "\u001b[0;32m~/Universita/magistrale/web_and_social_information_extraction/webandsocial-progetto/src/overlaps_topics/overlap_topics.py\u001b[0m in \u001b[0;36mclique_percolation_method\u001b[0;34m(self)\u001b[0m\n\u001b[1;32m    132\u001b[0m         \u001b[0mcommunities\u001b[0m \u001b[0;34m=\u001b[0m \u001b[0mk_clique_communities\u001b[0m\u001b[0;34m(\u001b[0m\u001b[0mG\u001b[0m \u001b[0;34m=\u001b[0m \u001b[0mself\u001b[0m\u001b[0;34m.\u001b[0m\u001b[0m__year_sub_graph\u001b[0m\u001b[0;34m,\u001b[0m \u001b[0mk\u001b[0m \u001b[0;34m=\u001b[0m \u001b[0;36m2\u001b[0m\u001b[0;34m)\u001b[0m\u001b[0;34m\u001b[0m\u001b[0;34m\u001b[0m\u001b[0m\n\u001b[1;32m    133\u001b[0m         \u001b[0;32mfor\u001b[0m \u001b[0mtopic\u001b[0m \u001b[0;32min\u001b[0m \u001b[0mcommunities\u001b[0m\u001b[0;34m:\u001b[0m\u001b[0;34m\u001b[0m\u001b[0;34m\u001b[0m\u001b[0m\n\u001b[0;32m--> 134\u001b[0;31m             \u001b[0mself\u001b[0m\u001b[0;34m.\u001b[0m\u001b[0mcheck_keywords\u001b[0m\u001b[0;34m(\u001b[0m\u001b[0mtopic\u001b[0m\u001b[0;34m)\u001b[0m\u001b[0;34m\u001b[0m\u001b[0;34m\u001b[0m\u001b[0m\n\u001b[0m\u001b[1;32m    135\u001b[0m             \u001b[0mself\u001b[0m\u001b[0;34m.\u001b[0m\u001b[0m__topics\u001b[0m\u001b[0;34m.\u001b[0m\u001b[0mappend\u001b[0m\u001b[0;34m(\u001b[0m\u001b[0mlist\u001b[0m\u001b[0;34m(\u001b[0m\u001b[0mtopic\u001b[0m\u001b[0;34m)\u001b[0m\u001b[0;34m)\u001b[0m\u001b[0;34m\u001b[0m\u001b[0;34m\u001b[0m\u001b[0m\n\u001b[1;32m    136\u001b[0m \u001b[0;34m\u001b[0m\u001b[0m\n",
      "\u001b[0;32m~/Universita/magistrale/web_and_social_information_extraction/webandsocial-progetto/src/overlaps_topics/overlap_topics.py\u001b[0m in \u001b[0;36mcheck_keywords\u001b[0;34m(self, topic)\u001b[0m\n\u001b[1;32m    119\u001b[0m \u001b[0;34m\u001b[0m\u001b[0m\n\u001b[1;32m    120\u001b[0m         \u001b[0;32mif\u001b[0m \u001b[0;32mnot\u001b[0m \u001b[0mregular\u001b[0m\u001b[0;34m:\u001b[0m\u001b[0;34m\u001b[0m\u001b[0;34m\u001b[0m\u001b[0m\n\u001b[0;32m--> 121\u001b[0;31m             \u001b[0;32mraise\u001b[0m \u001b[0mexcpt\u001b[0m\u001b[0;34m.\u001b[0m\u001b[0mTopicMalFormedException\u001b[0m\u001b[0;34m(\u001b[0m\u001b[0;34m\"Topic bad formed.\"\u001b[0m\u001b[0;34m)\u001b[0m\u001b[0;34m\u001b[0m\u001b[0;34m\u001b[0m\u001b[0m\n\u001b[0m\u001b[1;32m    122\u001b[0m \u001b[0;34m\u001b[0m\u001b[0m\n\u001b[1;32m    123\u001b[0m \u001b[0;34m\u001b[0m\u001b[0m\n",
      "\u001b[0;31mTopicMalFormedException\u001b[0m: Topic bad formed."
     ]
    }
   ],
   "source": [
    "overlap_merge_view_deg_neg(2018, k = 10)"
   ]
  },
  {
   "cell_type": "markdown",
   "metadata": {},
   "source": [
    "## Overlap merge with k = 20"
   ]
  },
  {
   "cell_type": "markdown",
   "metadata": {},
   "source": [
    "Applications of all configuration of Tipping Model with seed size 20"
   ]
  },
  {
   "cell_type": "code",
   "execution_count": 123,
   "metadata": {},
   "outputs": [],
   "source": [
    "spread_to_overlap_timeline_k(k = 20)"
   ]
  },
  {
   "cell_type": "markdown",
   "metadata": {},
   "source": [
    "### Year 2000"
   ]
  },
  {
   "cell_type": "code",
   "execution_count": 124,
   "metadata": {},
   "outputs": [
    {
     "name": "stdout",
     "output_type": "stream",
     "text": [
      "OVERLAP MERGING RESULT WITH CLIQUE PERCOLATION METHOD, TIPPING MODEL, SEED TOP 20 NODES AND DEG THRESHOLD CALCULATION STRATEGY.\n",
      "\n",
      "['delay', '43.80.+p', 'periodic solution', 'lyapunov functional']\n",
      "len_topic: 4\n",
      "\n",
      "['artificial neural network', 'neural network simulation']\n",
      "len_topic: 2\n",
      "\n",
      "['feature vector', 'experiment', 'support vector machine']\n",
      "len_topic: 3\n",
      "\n",
      "['simulation', 'nonlinear system', 'motion estimation\\xa0']\n",
      "len_topic: 3\n",
      "\n"
     ]
    }
   ],
   "source": [
    "overlap_merge_view_deg(2000, k = 20)"
   ]
  },
  {
   "cell_type": "code",
   "execution_count": 125,
   "metadata": {},
   "outputs": [
    {
     "name": "stdout",
     "output_type": "stream",
     "text": [
      "OVERLAP MERGING RESULT WITH CLIQUE PERCOLATION METHOD, TIPPING MODEL, SEED TOP 20 NODES AND HALF THRESHOLD CALCULATION STRATEGY.\n",
      "\n",
      "['delay', '43.80.+p', 'periodic solution', 'lyapunov functional']\n",
      "len_topic: 4\n",
      "\n",
      "['artificial neural network', 'neural network simulation']\n",
      "len_topic: 2\n",
      "\n",
      "['feature vector', 'experiment', 'support vector machine']\n",
      "len_topic: 3\n",
      "\n",
      "['simulation', 'nonlinear system', 'motion estimation\\xa0']\n",
      "len_topic: 3\n",
      "\n"
     ]
    }
   ],
   "source": [
    "overlap_merge_view_half(2000, k = 20)"
   ]
  },
  {
   "cell_type": "code",
   "execution_count": 126,
   "metadata": {},
   "outputs": [
    {
     "name": "stdout",
     "output_type": "stream",
     "text": [
      "OVERLAP MERGING RESULT WITH CLIQUE PERCOLATION METHOD, TIPPING MODEL, SEED TOP 20 NODES AND DEG NEGATIVE THRESHOLD CALCULATION STRATEGY.\n",
      "\n",
      "['delay', '43.80.+p', 'periodic solution', 'lyapunov functional']\n",
      "len_topic: 4\n",
      "\n",
      "['artificial neural network', 'neural network simulation']\n",
      "len_topic: 2\n",
      "\n",
      "['feature vector', 'experiment', 'support vector machine']\n",
      "len_topic: 3\n",
      "\n",
      "['simulation', 'nonlinear system', 'motion estimation\\xa0']\n",
      "len_topic: 3\n",
      "\n"
     ]
    }
   ],
   "source": [
    "overlap_merge_view_deg_neg(2000, k = 20)"
   ]
  },
  {
   "cell_type": "markdown",
   "metadata": {},
   "source": [
    "### Year 2001"
   ]
  },
  {
   "cell_type": "code",
   "execution_count": 127,
   "metadata": {},
   "outputs": [
    {
     "name": "stdout",
     "output_type": "stream",
     "text": [
      "OVERLAP MERGING RESULT WITH CLIQUE PERCOLATION METHOD, TIPPING MODEL, SEED TOP 20 NODES AND DEG THRESHOLD CALCULATION STRATEGY.\n",
      "\n",
      "['cluster analysis', 'real life', 'algorithm', 'artificial neural network', 'feedforward neural network']\n",
      "len_topic: 5\n",
      "\n",
      "['linear systems', 'stochastic processes', 'laboratories', 'fading', 'deconvolution', 'smoothing methods', 'computer simulation', 'monte carlo methods', 'particle filters', 'filtering algorithms', 'signal processing', 'bayesian methods', 'filtering', 'state estimation', 'mathematics', 'state-space methods', 'signal processing algorithms']\n",
      "len_topic: 17\n",
      "\n",
      "['formal ontologies', 'transportable machine understanding']\n",
      "len_topic: 2\n",
      "\n",
      "['useful tools', 'domain ontologies', 'widely acknowledged']\n",
      "len_topic: 3\n",
      "\n",
      "['importance sampling\\xa0', 'markov chain monte carlo\\xa0']\n",
      "len_topic: 2\n",
      "\n",
      "['s function', 'passage method']\n",
      "len_topic: 2\n",
      "\n"
     ]
    }
   ],
   "source": [
    "overlap_merge_view_deg(2001, k = 20)"
   ]
  },
  {
   "cell_type": "code",
   "execution_count": 128,
   "metadata": {},
   "outputs": [
    {
     "name": "stdout",
     "output_type": "stream",
     "text": [
      "OVERLAP MERGING RESULT WITH CLIQUE PERCOLATION METHOD, TIPPING MODEL, SEED TOP 20 NODES AND HALF THRESHOLD CALCULATION STRATEGY.\n",
      "\n",
      "['cluster analysis', 'real life', 'algorithm', 'artificial neural network', 'feedforward neural network']\n",
      "len_topic: 5\n",
      "\n",
      "['linear systems', 'stochastic processes', 'laboratories', 'fading', 'deconvolution', 'smoothing methods', 'computer simulation', 'monte carlo methods', 'particle filters', 'filtering algorithms', 'signal processing', 'bayesian methods', 'filtering', 'state estimation', 'mathematics', 'state-space methods', 'signal processing algorithms']\n",
      "len_topic: 17\n",
      "\n",
      "['formal ontologies', 'transportable machine understanding']\n",
      "len_topic: 2\n",
      "\n",
      "['useful tools', 'domain ontologies', 'widely acknowledged']\n",
      "len_topic: 3\n",
      "\n",
      "['importance sampling\\xa0', 'markov chain monte carlo\\xa0']\n",
      "len_topic: 2\n",
      "\n",
      "['s function', 'passage method']\n",
      "len_topic: 2\n",
      "\n"
     ]
    }
   ],
   "source": [
    "overlap_merge_view_half(2001, k = 20)"
   ]
  },
  {
   "cell_type": "code",
   "execution_count": 129,
   "metadata": {},
   "outputs": [
    {
     "name": "stdout",
     "output_type": "stream",
     "text": [
      "OVERLAP MERGING RESULT WITH CLIQUE PERCOLATION METHOD, TIPPING MODEL, SEED TOP 20 NODES AND DEG NEGATIVE THRESHOLD CALCULATION STRATEGY.\n",
      "\n",
      "['cluster analysis', 'real life', 'algorithm', 'artificial neural network', 'feedforward neural network']\n",
      "len_topic: 5\n",
      "\n",
      "['linear systems', 'stochastic processes', 'laboratories', 'fading', 'deconvolution', 'smoothing methods', 'computer simulation', 'monte carlo methods', 'particle filters', 'filtering algorithms', 'signal processing', 'bayesian methods', 'filtering', 'state estimation', 'mathematics', 'state-space methods', 'signal processing algorithms']\n",
      "len_topic: 17\n",
      "\n",
      "['formal ontologies', 'transportable machine understanding']\n",
      "len_topic: 2\n",
      "\n",
      "['useful tools', 'domain ontologies', 'widely acknowledged']\n",
      "len_topic: 3\n",
      "\n",
      "['importance sampling\\xa0', 'markov chain monte carlo\\xa0']\n",
      "len_topic: 2\n",
      "\n",
      "['s function', 'passage method']\n",
      "len_topic: 2\n",
      "\n"
     ]
    }
   ],
   "source": [
    "overlap_merge_view_deg_neg(2001, k = 20)"
   ]
  },
  {
   "cell_type": "markdown",
   "metadata": {},
   "source": [
    "### Year 2002"
   ]
  },
  {
   "cell_type": "code",
   "execution_count": 130,
   "metadata": {},
   "outputs": [
    {
     "name": "stdout",
     "output_type": "stream",
     "text": [
      "OVERLAP MERGING RESULT WITH CLIQUE PERCOLATION METHOD, TIPPING MODEL, SEED TOP 20 NODES AND DEG THRESHOLD CALCULATION STRATEGY.\n",
      "\n",
      "['lyapunov function', 'global exponential stability']\n",
      "len_topic: 2\n",
      "\n",
      "['consider thinking', 'business models']\n",
      "len_topic: 2\n",
      "\n",
      "['patent trademark', 'program product', 'intellectual property', 'organization company']\n",
      "len_topic: 4\n",
      "\n",
      "['unsupervised learning', 'important method', 'independent component analysis', 'overcomplete situation', 'blind source separation']\n",
      "len_topic: 5\n",
      "\n",
      "['bayesian methods', 'speech processing', 'monte carlo methods', 'signal processing']\n",
      "len_topic: 4\n",
      "\n",
      "['state estimation', 'filtering algorithms']\n",
      "len_topic: 2\n",
      "\n"
     ]
    }
   ],
   "source": [
    "overlap_merge_view_deg(2002, k = 20)"
   ]
  },
  {
   "cell_type": "code",
   "execution_count": 131,
   "metadata": {},
   "outputs": [
    {
     "name": "stdout",
     "output_type": "stream",
     "text": [
      "OVERLAP MERGING RESULT WITH CLIQUE PERCOLATION METHOD, TIPPING MODEL, SEED TOP 20 NODES AND HALF THRESHOLD CALCULATION STRATEGY.\n",
      "\n",
      "['lyapunov function', 'global exponential stability']\n",
      "len_topic: 2\n",
      "\n",
      "['consider thinking', 'business models']\n",
      "len_topic: 2\n",
      "\n",
      "['patent trademark', 'program product', 'intellectual property', 'organization company']\n",
      "len_topic: 4\n",
      "\n",
      "['unsupervised learning', 'important method', 'independent component analysis', 'overcomplete situation', 'blind source separation']\n",
      "len_topic: 5\n",
      "\n",
      "['bayesian methods', 'speech processing', 'monte carlo methods', 'signal processing']\n",
      "len_topic: 4\n",
      "\n",
      "['state estimation', 'filtering algorithms']\n",
      "len_topic: 2\n",
      "\n"
     ]
    }
   ],
   "source": [
    "overlap_merge_view_half(2002, k = 20)"
   ]
  },
  {
   "cell_type": "code",
   "execution_count": 132,
   "metadata": {},
   "outputs": [
    {
     "name": "stdout",
     "output_type": "stream",
     "text": [
      "OVERLAP MERGING RESULT WITH CLIQUE PERCOLATION METHOD, TIPPING MODEL, SEED TOP 20 NODES AND DEG NEGATIVE THRESHOLD CALCULATION STRATEGY.\n",
      "\n",
      "['lyapunov function', 'global exponential stability']\n",
      "len_topic: 2\n",
      "\n",
      "['consider thinking', 'business models']\n",
      "len_topic: 2\n",
      "\n",
      "['patent trademark', 'program product', 'intellectual property', 'organization company']\n",
      "len_topic: 4\n",
      "\n",
      "['unsupervised learning', 'important method', 'independent component analysis', 'overcomplete situation', 'blind source separation']\n",
      "len_topic: 5\n",
      "\n",
      "['bayesian methods', 'speech processing', 'monte carlo methods', 'signal processing']\n",
      "len_topic: 4\n",
      "\n",
      "['state estimation', 'filtering algorithms']\n",
      "len_topic: 2\n",
      "\n"
     ]
    }
   ],
   "source": [
    "overlap_merge_view_deg_neg(2002, k = 20)"
   ]
  },
  {
   "cell_type": "markdown",
   "metadata": {},
   "source": [
    "### Year 2003 "
   ]
  },
  {
   "cell_type": "code",
   "execution_count": 133,
   "metadata": {},
   "outputs": [
    {
     "name": "stdout",
     "output_type": "stream",
     "text": [
      "OVERLAP MERGING RESULT WITH CLIQUE PERCOLATION METHOD, TIPPING MODEL, SEED TOP 20 NODES AND DEG THRESHOLD CALCULATION STRATEGY.\n",
      "\n",
      "['neural networks', 'sufficient conditions', '87.18.sn', '85.40.ls', 'global exponential stability', 'lyapunov functional', '87.10.+e', 'periodic solution', 'global asymptotic stability', 'young inequality', '43.80.+p', 'recurrent neural networks']\n",
      "len_topic: 12\n",
      "\n",
      "['content-addressable memory', 'neural network']\n",
      "len_topic: 2\n",
      "\n",
      "['scheduling (computing)', 'random number generation', 'computation', 'grid computing', 'monte carlo method']\n",
      "len_topic: 5\n",
      "\n",
      "['real life', 'scalability', 'algorithm', 'feature vector', 'heuristic', 'first-order predicate', 'pattern recognition', 'really simple discovery', 'dimensionality reduction', 'singular value decomposition']\n",
      "len_topic: 10\n",
      "\n",
      "['filtering', 'state estimation', 'state-space methods']\n",
      "len_topic: 3\n",
      "\n",
      "['noiseless context', 'original bayesian approach']\n",
      "len_topic: 2\n",
      "\n"
     ]
    }
   ],
   "source": [
    "overlap_merge_view_deg(2003, k = 20)"
   ]
  },
  {
   "cell_type": "code",
   "execution_count": 134,
   "metadata": {},
   "outputs": [
    {
     "name": "stdout",
     "output_type": "stream",
     "text": [
      "OVERLAP MERGING RESULT WITH CLIQUE PERCOLATION METHOD, TIPPING MODEL, SEED TOP 20 NODES AND HALF THRESHOLD CALCULATION STRATEGY.\n",
      "\n",
      "['neural networks', 'sufficient conditions', '87.18.sn', '85.40.ls', 'global exponential stability', 'lyapunov functional', '87.10.+e', 'periodic solution', 'global asymptotic stability', 'young inequality', '43.80.+p', 'recurrent neural networks']\n",
      "len_topic: 12\n",
      "\n",
      "['content-addressable memory', 'neural network']\n",
      "len_topic: 2\n",
      "\n",
      "['scheduling (computing)', 'random number generation', 'computation', 'grid computing', 'monte carlo method']\n",
      "len_topic: 5\n",
      "\n",
      "['real life', 'scalability', 'algorithm', 'feature vector', 'heuristic', 'first-order predicate', 'pattern recognition', 'really simple discovery', 'dimensionality reduction', 'singular value decomposition']\n",
      "len_topic: 10\n",
      "\n",
      "['filtering', 'state estimation', 'state-space methods']\n",
      "len_topic: 3\n",
      "\n",
      "['noiseless context', 'original bayesian approach']\n",
      "len_topic: 2\n",
      "\n"
     ]
    }
   ],
   "source": [
    "overlap_merge_view_half(2003, k = 20)"
   ]
  },
  {
   "cell_type": "code",
   "execution_count": 135,
   "metadata": {},
   "outputs": [
    {
     "name": "stdout",
     "output_type": "stream",
     "text": [
      "OVERLAP MERGING RESULT WITH CLIQUE PERCOLATION METHOD, TIPPING MODEL, SEED TOP 20 NODES AND DEG NEGATIVE THRESHOLD CALCULATION STRATEGY.\n",
      "\n",
      "['neural networks', 'sufficient conditions', '87.18.sn', '85.40.ls', 'global exponential stability', 'lyapunov functional', '87.10.+e', 'periodic solution', 'global asymptotic stability', 'young inequality', '43.80.+p', 'recurrent neural networks']\n",
      "len_topic: 12\n",
      "\n",
      "['content-addressable memory', 'neural network']\n",
      "len_topic: 2\n",
      "\n",
      "['scheduling (computing)', 'random number generation', 'computation', 'grid computing', 'monte carlo method']\n",
      "len_topic: 5\n",
      "\n",
      "['real life', 'scalability', 'algorithm', 'feature vector', 'heuristic', 'first-order predicate', 'pattern recognition', 'really simple discovery', 'dimensionality reduction', 'singular value decomposition']\n",
      "len_topic: 10\n",
      "\n",
      "['filtering', 'state estimation', 'state-space methods']\n",
      "len_topic: 3\n",
      "\n",
      "['noiseless context', 'original bayesian approach']\n",
      "len_topic: 2\n",
      "\n"
     ]
    }
   ],
   "source": [
    "overlap_merge_view_deg_neg(2003, k = 20)"
   ]
  },
  {
   "cell_type": "markdown",
   "metadata": {},
   "source": [
    "### Year 2004"
   ]
  },
  {
   "cell_type": "code",
   "execution_count": 136,
   "metadata": {},
   "outputs": [
    {
     "name": "stdout",
     "output_type": "stream",
     "text": [
      "OVERLAP MERGING RESULT WITH CLIQUE PERCOLATION METHOD, TIPPING MODEL, SEED TOP 20 NODES AND DEG THRESHOLD CALCULATION STRATEGY.\n",
      "\n",
      "['domain specialists', 'ontology evaluation', 'conceptualisation effort produced', 'paper provides', 'knowledge engineers', 'proposed evaluation strategy', 'different learning circumstances', 'ontolearn ontology learning', 'detailed quantitative analysis', 'ontology learning algorithms', 'critical task']\n",
      "len_topic: 11\n",
      "\n",
      "['real life', 'apache ant (another neat tool)', 'algorithm', 'rule (guideline)', 'heuristic', 'apriori algorithm', 'subgroup a nepoviruses', 'ant colony optimization algorithms', 'consortium', 'large', 'stochastic process', 'reinforcement learning', 'roc curve', 'class', 'biasing']\n",
      "len_topic: 15\n",
      "\n",
      "['linear discriminant analysis', 'particle swarm optimization', 'experiment', 'benchmark (computing)', 'mathematical optimization']\n",
      "len_topic: 5\n",
      "\n",
      "['user study', 'uniform approach', 'consistent view', 'previous work shows', 'multiple segments', 'differentiating noisy', 'link analysis', 'web page']\n",
      "len_topic: 8\n",
      "\n"
     ]
    }
   ],
   "source": [
    "overlap_merge_view_deg(2004, k = 20)"
   ]
  },
  {
   "cell_type": "code",
   "execution_count": 137,
   "metadata": {},
   "outputs": [
    {
     "name": "stdout",
     "output_type": "stream",
     "text": [
      "OVERLAP MERGING RESULT WITH CLIQUE PERCOLATION METHOD, TIPPING MODEL, SEED TOP 20 NODES AND HALF THRESHOLD CALCULATION STRATEGY.\n",
      "\n",
      "['domain specialists', 'ontology evaluation', 'conceptualisation effort produced', 'paper provides', 'knowledge engineers', 'proposed evaluation strategy', 'different learning circumstances', 'ontolearn ontology learning', 'detailed quantitative analysis', 'ontology learning algorithms', 'critical task']\n",
      "len_topic: 11\n",
      "\n",
      "['real life', 'apache ant (another neat tool)', 'algorithm', 'rule (guideline)', 'heuristic', 'apriori algorithm', 'subgroup a nepoviruses', 'ant colony optimization algorithms', 'consortium', 'large', 'stochastic process', 'reinforcement learning', 'roc curve', 'class', 'biasing']\n",
      "len_topic: 15\n",
      "\n",
      "['linear discriminant analysis', 'particle swarm optimization', 'experiment', 'benchmark (computing)', 'mathematical optimization']\n",
      "len_topic: 5\n",
      "\n",
      "['user study', 'uniform approach', 'consistent view', 'previous work shows', 'multiple segments', 'differentiating noisy', 'link analysis', 'web page']\n",
      "len_topic: 8\n",
      "\n"
     ]
    }
   ],
   "source": [
    "overlap_merge_view_half(2004, k = 20)"
   ]
  },
  {
   "cell_type": "code",
   "execution_count": 138,
   "metadata": {},
   "outputs": [
    {
     "ename": "TopicMalFormedException",
     "evalue": "Topic bad formed.",
     "output_type": "error",
     "traceback": [
      "\u001b[0;31m---------------------------------------------------------------------------\u001b[0m",
      "\u001b[0;31mTopicMalFormedException\u001b[0m                   Traceback (most recent call last)",
      "\u001b[0;32m<ipython-input-138-7850e5c5135f>\u001b[0m in \u001b[0;36m<module>\u001b[0;34m\u001b[0m\n\u001b[0;32m----> 1\u001b[0;31m \u001b[0moverlap_merge_view_deg_neg\u001b[0m\u001b[0;34m(\u001b[0m\u001b[0;36m2004\u001b[0m\u001b[0;34m,\u001b[0m \u001b[0mk\u001b[0m \u001b[0;34m=\u001b[0m \u001b[0;36m20\u001b[0m\u001b[0;34m)\u001b[0m\u001b[0;34m\u001b[0m\u001b[0;34m\u001b[0m\u001b[0m\n\u001b[0m",
      "\u001b[0;32m<ipython-input-6-aa88f64ba5fa>\u001b[0m in \u001b[0;36moverlap_merge_view_deg_neg\u001b[0;34m(year, k)\u001b[0m\n\u001b[1;32m     19\u001b[0m     \u001b[0mspread_dict\u001b[0m\u001b[0;34m[\u001b[0m\u001b[0mstr\u001b[0m\u001b[0;34m(\u001b[0m\u001b[0myear\u001b[0m\u001b[0;34m)\u001b[0m\u001b[0;34m]\u001b[0m\u001b[0;34m.\u001b[0m\u001b[0mtipping_model\u001b[0m\u001b[0;34m(\u001b[0m\u001b[0;34m)\u001b[0m\u001b[0;34m\u001b[0m\u001b[0;34m\u001b[0m\u001b[0m\n\u001b[1;32m     20\u001b[0m     \u001b[0mtipping_deg_neg\u001b[0m \u001b[0;34m=\u001b[0m \u001b[0mspread_dict\u001b[0m\u001b[0;34m[\u001b[0m\u001b[0mstr\u001b[0m\u001b[0;34m(\u001b[0m\u001b[0myear\u001b[0m\u001b[0;34m)\u001b[0m\u001b[0;34m]\u001b[0m\u001b[0;34m.\u001b[0m\u001b[0mget_influenced_nodes\u001b[0m\u001b[0;34m(\u001b[0m\u001b[0;34m)\u001b[0m\u001b[0;34m\u001b[0m\u001b[0;34m\u001b[0m\u001b[0m\n\u001b[0;32m---> 21\u001b[0;31m     \u001b[0mtopics_deg_neg\u001b[0m \u001b[0;34m=\u001b[0m \u001b[0moverlap_perform\u001b[0m\u001b[0;34m(\u001b[0m\u001b[0myear\u001b[0m\u001b[0;34m,\u001b[0m \u001b[0mtipping_deg_neg\u001b[0m\u001b[0;34m,\u001b[0m \u001b[0mk\u001b[0m\u001b[0;34m)\u001b[0m\u001b[0;34m\u001b[0m\u001b[0;34m\u001b[0m\u001b[0m\n\u001b[0m\u001b[1;32m     22\u001b[0m     \u001b[0mto_print\u001b[0m\u001b[0;34m(\u001b[0m\u001b[0mtopics_deg_neg\u001b[0m\u001b[0;34m,\u001b[0m \u001b[0;34m\"tipping\"\u001b[0m\u001b[0;34m,\u001b[0m \u001b[0mk\u001b[0m\u001b[0;34m,\u001b[0m \u001b[0;34m\"deg negative\"\u001b[0m\u001b[0;34m)\u001b[0m\u001b[0;34m\u001b[0m\u001b[0;34m\u001b[0m\u001b[0m\n",
      "\u001b[0;32m<ipython-input-5-60ae7201d3cc>\u001b[0m in \u001b[0;36moverlap_perform\u001b[0;34m(year, all_topics, k)\u001b[0m\n\u001b[1;32m      2\u001b[0m     \u001b[0moverlap\u001b[0m \u001b[0;34m=\u001b[0m \u001b[0mov\u001b[0m\u001b[0;34m.\u001b[0m\u001b[0mOverlapTopics\u001b[0m\u001b[0;34m(\u001b[0m\u001b[0mgraph_timeline_dict\u001b[0m\u001b[0;34m[\u001b[0m\u001b[0mstr\u001b[0m\u001b[0;34m(\u001b[0m\u001b[0myear\u001b[0m\u001b[0;34m)\u001b[0m\u001b[0;34m]\u001b[0m\u001b[0;34m,\u001b[0m \u001b[0mall_topics\u001b[0m\u001b[0;34m,\u001b[0m \u001b[0mk\u001b[0m\u001b[0;34m)\u001b[0m\u001b[0;34m\u001b[0m\u001b[0;34m\u001b[0m\u001b[0m\n\u001b[1;32m      3\u001b[0m     \u001b[0moverlap\u001b[0m\u001b[0;34m.\u001b[0m\u001b[0moverlap_preprocessing\u001b[0m\u001b[0;34m(\u001b[0m\u001b[0;34m)\u001b[0m\u001b[0;34m\u001b[0m\u001b[0;34m\u001b[0m\u001b[0m\n\u001b[0;32m----> 4\u001b[0;31m     \u001b[0moverlap\u001b[0m\u001b[0;34m.\u001b[0m\u001b[0mclique_percolation_method\u001b[0m\u001b[0;34m(\u001b[0m\u001b[0;34m)\u001b[0m\u001b[0;34m\u001b[0m\u001b[0;34m\u001b[0m\u001b[0m\n\u001b[0m\u001b[1;32m      5\u001b[0m     \u001b[0moverlap\u001b[0m\u001b[0;34m.\u001b[0m\u001b[0mcheck_spread_topics\u001b[0m\u001b[0;34m(\u001b[0m\u001b[0;34m)\u001b[0m\u001b[0;34m\u001b[0m\u001b[0;34m\u001b[0m\u001b[0m\n\u001b[1;32m      6\u001b[0m     \u001b[0moverlap\u001b[0m\u001b[0;34m.\u001b[0m\u001b[0mcheck_number_topics\u001b[0m\u001b[0;34m(\u001b[0m\u001b[0;34m)\u001b[0m\u001b[0;34m\u001b[0m\u001b[0;34m\u001b[0m\u001b[0m\n",
      "\u001b[0;32m~/Universita/magistrale/web_and_social_information_extraction/webandsocial-progetto/src/overlaps_topics/overlap_topics.py\u001b[0m in \u001b[0;36mclique_percolation_method\u001b[0;34m(self)\u001b[0m\n\u001b[1;32m    132\u001b[0m         \u001b[0mcommunities\u001b[0m \u001b[0;34m=\u001b[0m \u001b[0mk_clique_communities\u001b[0m\u001b[0;34m(\u001b[0m\u001b[0mG\u001b[0m \u001b[0;34m=\u001b[0m \u001b[0mself\u001b[0m\u001b[0;34m.\u001b[0m\u001b[0m__year_sub_graph\u001b[0m\u001b[0;34m,\u001b[0m \u001b[0mk\u001b[0m \u001b[0;34m=\u001b[0m \u001b[0;36m2\u001b[0m\u001b[0;34m)\u001b[0m\u001b[0;34m\u001b[0m\u001b[0;34m\u001b[0m\u001b[0m\n\u001b[1;32m    133\u001b[0m         \u001b[0;32mfor\u001b[0m \u001b[0mtopic\u001b[0m \u001b[0;32min\u001b[0m \u001b[0mcommunities\u001b[0m\u001b[0;34m:\u001b[0m\u001b[0;34m\u001b[0m\u001b[0;34m\u001b[0m\u001b[0m\n\u001b[0;32m--> 134\u001b[0;31m             \u001b[0mself\u001b[0m\u001b[0;34m.\u001b[0m\u001b[0mcheck_keywords\u001b[0m\u001b[0;34m(\u001b[0m\u001b[0mtopic\u001b[0m\u001b[0;34m)\u001b[0m\u001b[0;34m\u001b[0m\u001b[0;34m\u001b[0m\u001b[0m\n\u001b[0m\u001b[1;32m    135\u001b[0m             \u001b[0mself\u001b[0m\u001b[0;34m.\u001b[0m\u001b[0m__topics\u001b[0m\u001b[0;34m.\u001b[0m\u001b[0mappend\u001b[0m\u001b[0;34m(\u001b[0m\u001b[0mlist\u001b[0m\u001b[0;34m(\u001b[0m\u001b[0mtopic\u001b[0m\u001b[0;34m)\u001b[0m\u001b[0;34m)\u001b[0m\u001b[0;34m\u001b[0m\u001b[0;34m\u001b[0m\u001b[0m\n\u001b[1;32m    136\u001b[0m \u001b[0;34m\u001b[0m\u001b[0m\n",
      "\u001b[0;32m~/Universita/magistrale/web_and_social_information_extraction/webandsocial-progetto/src/overlaps_topics/overlap_topics.py\u001b[0m in \u001b[0;36mcheck_keywords\u001b[0;34m(self, topic)\u001b[0m\n\u001b[1;32m    119\u001b[0m \u001b[0;34m\u001b[0m\u001b[0m\n\u001b[1;32m    120\u001b[0m         \u001b[0;32mif\u001b[0m \u001b[0;32mnot\u001b[0m \u001b[0mregular\u001b[0m\u001b[0;34m:\u001b[0m\u001b[0;34m\u001b[0m\u001b[0;34m\u001b[0m\u001b[0m\n\u001b[0;32m--> 121\u001b[0;31m             \u001b[0;32mraise\u001b[0m \u001b[0mexcpt\u001b[0m\u001b[0;34m.\u001b[0m\u001b[0mTopicMalFormedException\u001b[0m\u001b[0;34m(\u001b[0m\u001b[0;34m\"Topic bad formed.\"\u001b[0m\u001b[0;34m)\u001b[0m\u001b[0;34m\u001b[0m\u001b[0;34m\u001b[0m\u001b[0m\n\u001b[0m\u001b[1;32m    122\u001b[0m \u001b[0;34m\u001b[0m\u001b[0m\n\u001b[1;32m    123\u001b[0m \u001b[0;34m\u001b[0m\u001b[0m\n",
      "\u001b[0;31mTopicMalFormedException\u001b[0m: Topic bad formed."
     ]
    }
   ],
   "source": [
    "overlap_merge_view_deg_neg(2004, k = 20)"
   ]
  },
  {
   "cell_type": "markdown",
   "metadata": {},
   "source": [
    "### Year 2005"
   ]
  },
  {
   "cell_type": "code",
   "execution_count": 139,
   "metadata": {},
   "outputs": [
    {
     "name": "stdout",
     "output_type": "stream",
     "text": [
      "OVERLAP MERGING RESULT WITH CLIQUE PERCOLATION METHOD, TIPPING MODEL, SEED TOP 20 NODES AND DEG THRESHOLD CALCULATION STRATEGY.\n",
      "\n",
      "['lyapunov fractal', 'social inequality', 'neural network simulation', 'activation function', 'recurrent neural network', 'artificial neural network']\n",
      "len_topic: 6\n",
      "\n",
      "['neural networks', 'periodic solutions', 'discrete-time', 'cellular neural networks', 'global exponential stability']\n",
      "len_topic: 5\n",
      "\n",
      "['genetic algorithm', 'algorithm', 'swarm robotics', 'mathematical optimization', 'benchmark (computing)', 'evolutionary computation', 'simulation', 'particle swarm optimization']\n",
      "len_topic: 8\n",
      "\n",
      "['nonuniform lighting conditions', 'digital images captured', 'visual quality', 'similar way', 'tone frequency components', 'human eyes sensing', 'adaptive enhancement']\n",
      "len_topic: 7\n",
      "\n",
      "['sliding mode control', 'bayesian methods', 'random variables', 'inference algorithms', 'monte carlo methods', 'statistics']\n",
      "len_topic: 6\n",
      "\n",
      "['usable methodologies', 'world wide web', 'ontology building', 'methods proposed', 'semantic web', 'knowledge representation', 'making available large', 'widely used standards', 'aware version']\n",
      "len_topic: 9\n",
      "\n",
      "['global asymptotic stability', 'equilibrium point', 'linear matrix inequality']\n",
      "len_topic: 3\n",
      "\n"
     ]
    }
   ],
   "source": [
    "overlap_merge_view_deg(2005, k = 20)"
   ]
  },
  {
   "cell_type": "code",
   "execution_count": 140,
   "metadata": {},
   "outputs": [
    {
     "name": "stdout",
     "output_type": "stream",
     "text": [
      "OVERLAP MERGING RESULT WITH CLIQUE PERCOLATION METHOD, TIPPING MODEL, SEED TOP 20 NODES AND HALF THRESHOLD CALCULATION STRATEGY.\n",
      "\n",
      "['lyapunov fractal', 'social inequality', 'neural network simulation', 'activation function', 'recurrent neural network', 'artificial neural network']\n",
      "len_topic: 6\n",
      "\n",
      "['neural networks', 'periodic solutions', 'discrete-time', 'cellular neural networks', 'global exponential stability']\n",
      "len_topic: 5\n",
      "\n",
      "['nonuniform lighting conditions', 'digital images captured', 'visual quality', 'similar way', 'tone frequency components', 'human eyes sensing', 'adaptive enhancement']\n",
      "len_topic: 7\n",
      "\n",
      "['sliding mode control', 'bayesian methods', 'random variables', 'inference algorithms', 'monte carlo methods', 'statistics']\n",
      "len_topic: 6\n",
      "\n",
      "['usable methodologies', 'world wide web', 'ontology building', 'methods proposed', 'semantic web', 'knowledge representation', 'making available large', 'widely used standards', 'aware version']\n",
      "len_topic: 9\n",
      "\n",
      "['global asymptotic stability', 'equilibrium point', 'linear matrix inequality']\n",
      "len_topic: 3\n",
      "\n",
      "['swarm robotics', 'benchmark (computing)', 'mathematical optimization']\n",
      "len_topic: 3\n",
      "\n"
     ]
    }
   ],
   "source": [
    "overlap_merge_view_half(2005, k = 20)"
   ]
  },
  {
   "cell_type": "code",
   "execution_count": 141,
   "metadata": {},
   "outputs": [
    {
     "ename": "TopicMalFormedException",
     "evalue": "Topic bad formed.",
     "output_type": "error",
     "traceback": [
      "\u001b[0;31m---------------------------------------------------------------------------\u001b[0m",
      "\u001b[0;31mTopicMalFormedException\u001b[0m                   Traceback (most recent call last)",
      "\u001b[0;32m<ipython-input-141-3b38f6ea6c5a>\u001b[0m in \u001b[0;36m<module>\u001b[0;34m\u001b[0m\n\u001b[0;32m----> 1\u001b[0;31m \u001b[0moverlap_merge_view_deg_neg\u001b[0m\u001b[0;34m(\u001b[0m\u001b[0;36m2005\u001b[0m\u001b[0;34m,\u001b[0m \u001b[0mk\u001b[0m \u001b[0;34m=\u001b[0m \u001b[0;36m20\u001b[0m\u001b[0;34m)\u001b[0m\u001b[0;34m\u001b[0m\u001b[0;34m\u001b[0m\u001b[0m\n\u001b[0m",
      "\u001b[0;32m<ipython-input-6-aa88f64ba5fa>\u001b[0m in \u001b[0;36moverlap_merge_view_deg_neg\u001b[0;34m(year, k)\u001b[0m\n\u001b[1;32m     19\u001b[0m     \u001b[0mspread_dict\u001b[0m\u001b[0;34m[\u001b[0m\u001b[0mstr\u001b[0m\u001b[0;34m(\u001b[0m\u001b[0myear\u001b[0m\u001b[0;34m)\u001b[0m\u001b[0;34m]\u001b[0m\u001b[0;34m.\u001b[0m\u001b[0mtipping_model\u001b[0m\u001b[0;34m(\u001b[0m\u001b[0;34m)\u001b[0m\u001b[0;34m\u001b[0m\u001b[0;34m\u001b[0m\u001b[0m\n\u001b[1;32m     20\u001b[0m     \u001b[0mtipping_deg_neg\u001b[0m \u001b[0;34m=\u001b[0m \u001b[0mspread_dict\u001b[0m\u001b[0;34m[\u001b[0m\u001b[0mstr\u001b[0m\u001b[0;34m(\u001b[0m\u001b[0myear\u001b[0m\u001b[0;34m)\u001b[0m\u001b[0;34m]\u001b[0m\u001b[0;34m.\u001b[0m\u001b[0mget_influenced_nodes\u001b[0m\u001b[0;34m(\u001b[0m\u001b[0;34m)\u001b[0m\u001b[0;34m\u001b[0m\u001b[0;34m\u001b[0m\u001b[0m\n\u001b[0;32m---> 21\u001b[0;31m     \u001b[0mtopics_deg_neg\u001b[0m \u001b[0;34m=\u001b[0m \u001b[0moverlap_perform\u001b[0m\u001b[0;34m(\u001b[0m\u001b[0myear\u001b[0m\u001b[0;34m,\u001b[0m \u001b[0mtipping_deg_neg\u001b[0m\u001b[0;34m,\u001b[0m \u001b[0mk\u001b[0m\u001b[0;34m)\u001b[0m\u001b[0;34m\u001b[0m\u001b[0;34m\u001b[0m\u001b[0m\n\u001b[0m\u001b[1;32m     22\u001b[0m     \u001b[0mto_print\u001b[0m\u001b[0;34m(\u001b[0m\u001b[0mtopics_deg_neg\u001b[0m\u001b[0;34m,\u001b[0m \u001b[0;34m\"tipping\"\u001b[0m\u001b[0;34m,\u001b[0m \u001b[0mk\u001b[0m\u001b[0;34m,\u001b[0m \u001b[0;34m\"deg negative\"\u001b[0m\u001b[0;34m)\u001b[0m\u001b[0;34m\u001b[0m\u001b[0;34m\u001b[0m\u001b[0m\n",
      "\u001b[0;32m<ipython-input-5-60ae7201d3cc>\u001b[0m in \u001b[0;36moverlap_perform\u001b[0;34m(year, all_topics, k)\u001b[0m\n\u001b[1;32m      2\u001b[0m     \u001b[0moverlap\u001b[0m \u001b[0;34m=\u001b[0m \u001b[0mov\u001b[0m\u001b[0;34m.\u001b[0m\u001b[0mOverlapTopics\u001b[0m\u001b[0;34m(\u001b[0m\u001b[0mgraph_timeline_dict\u001b[0m\u001b[0;34m[\u001b[0m\u001b[0mstr\u001b[0m\u001b[0;34m(\u001b[0m\u001b[0myear\u001b[0m\u001b[0;34m)\u001b[0m\u001b[0;34m]\u001b[0m\u001b[0;34m,\u001b[0m \u001b[0mall_topics\u001b[0m\u001b[0;34m,\u001b[0m \u001b[0mk\u001b[0m\u001b[0;34m)\u001b[0m\u001b[0;34m\u001b[0m\u001b[0;34m\u001b[0m\u001b[0m\n\u001b[1;32m      3\u001b[0m     \u001b[0moverlap\u001b[0m\u001b[0;34m.\u001b[0m\u001b[0moverlap_preprocessing\u001b[0m\u001b[0;34m(\u001b[0m\u001b[0;34m)\u001b[0m\u001b[0;34m\u001b[0m\u001b[0;34m\u001b[0m\u001b[0m\n\u001b[0;32m----> 4\u001b[0;31m     \u001b[0moverlap\u001b[0m\u001b[0;34m.\u001b[0m\u001b[0mclique_percolation_method\u001b[0m\u001b[0;34m(\u001b[0m\u001b[0;34m)\u001b[0m\u001b[0;34m\u001b[0m\u001b[0;34m\u001b[0m\u001b[0m\n\u001b[0m\u001b[1;32m      5\u001b[0m     \u001b[0moverlap\u001b[0m\u001b[0;34m.\u001b[0m\u001b[0mcheck_spread_topics\u001b[0m\u001b[0;34m(\u001b[0m\u001b[0;34m)\u001b[0m\u001b[0;34m\u001b[0m\u001b[0;34m\u001b[0m\u001b[0m\n\u001b[1;32m      6\u001b[0m     \u001b[0moverlap\u001b[0m\u001b[0;34m.\u001b[0m\u001b[0mcheck_number_topics\u001b[0m\u001b[0;34m(\u001b[0m\u001b[0;34m)\u001b[0m\u001b[0;34m\u001b[0m\u001b[0;34m\u001b[0m\u001b[0m\n",
      "\u001b[0;32m~/Universita/magistrale/web_and_social_information_extraction/webandsocial-progetto/src/overlaps_topics/overlap_topics.py\u001b[0m in \u001b[0;36mclique_percolation_method\u001b[0;34m(self)\u001b[0m\n\u001b[1;32m    132\u001b[0m         \u001b[0mcommunities\u001b[0m \u001b[0;34m=\u001b[0m \u001b[0mk_clique_communities\u001b[0m\u001b[0;34m(\u001b[0m\u001b[0mG\u001b[0m \u001b[0;34m=\u001b[0m \u001b[0mself\u001b[0m\u001b[0;34m.\u001b[0m\u001b[0m__year_sub_graph\u001b[0m\u001b[0;34m,\u001b[0m \u001b[0mk\u001b[0m \u001b[0;34m=\u001b[0m \u001b[0;36m2\u001b[0m\u001b[0;34m)\u001b[0m\u001b[0;34m\u001b[0m\u001b[0;34m\u001b[0m\u001b[0m\n\u001b[1;32m    133\u001b[0m         \u001b[0;32mfor\u001b[0m \u001b[0mtopic\u001b[0m \u001b[0;32min\u001b[0m \u001b[0mcommunities\u001b[0m\u001b[0;34m:\u001b[0m\u001b[0;34m\u001b[0m\u001b[0;34m\u001b[0m\u001b[0m\n\u001b[0;32m--> 134\u001b[0;31m             \u001b[0mself\u001b[0m\u001b[0;34m.\u001b[0m\u001b[0mcheck_keywords\u001b[0m\u001b[0;34m(\u001b[0m\u001b[0mtopic\u001b[0m\u001b[0;34m)\u001b[0m\u001b[0;34m\u001b[0m\u001b[0;34m\u001b[0m\u001b[0m\n\u001b[0m\u001b[1;32m    135\u001b[0m             \u001b[0mself\u001b[0m\u001b[0;34m.\u001b[0m\u001b[0m__topics\u001b[0m\u001b[0;34m.\u001b[0m\u001b[0mappend\u001b[0m\u001b[0;34m(\u001b[0m\u001b[0mlist\u001b[0m\u001b[0;34m(\u001b[0m\u001b[0mtopic\u001b[0m\u001b[0;34m)\u001b[0m\u001b[0;34m)\u001b[0m\u001b[0;34m\u001b[0m\u001b[0;34m\u001b[0m\u001b[0m\n\u001b[1;32m    136\u001b[0m \u001b[0;34m\u001b[0m\u001b[0m\n",
      "\u001b[0;32m~/Universita/magistrale/web_and_social_information_extraction/webandsocial-progetto/src/overlaps_topics/overlap_topics.py\u001b[0m in \u001b[0;36mcheck_keywords\u001b[0;34m(self, topic)\u001b[0m\n\u001b[1;32m    119\u001b[0m \u001b[0;34m\u001b[0m\u001b[0m\n\u001b[1;32m    120\u001b[0m         \u001b[0;32mif\u001b[0m \u001b[0;32mnot\u001b[0m \u001b[0mregular\u001b[0m\u001b[0;34m:\u001b[0m\u001b[0;34m\u001b[0m\u001b[0;34m\u001b[0m\u001b[0m\n\u001b[0;32m--> 121\u001b[0;31m             \u001b[0;32mraise\u001b[0m \u001b[0mexcpt\u001b[0m\u001b[0;34m.\u001b[0m\u001b[0mTopicMalFormedException\u001b[0m\u001b[0;34m(\u001b[0m\u001b[0;34m\"Topic bad formed.\"\u001b[0m\u001b[0;34m)\u001b[0m\u001b[0;34m\u001b[0m\u001b[0;34m\u001b[0m\u001b[0m\n\u001b[0m\u001b[1;32m    122\u001b[0m \u001b[0;34m\u001b[0m\u001b[0m\n\u001b[1;32m    123\u001b[0m \u001b[0;34m\u001b[0m\u001b[0m\n",
      "\u001b[0;31mTopicMalFormedException\u001b[0m: Topic bad formed."
     ]
    }
   ],
   "source": [
    "overlap_merge_view_deg_neg(2005, k = 20)"
   ]
  },
  {
   "cell_type": "markdown",
   "metadata": {},
   "source": [
    "### Year 2006"
   ]
  },
  {
   "cell_type": "code",
   "execution_count": 142,
   "metadata": {},
   "outputs": [
    {
     "name": "stdout",
     "output_type": "stream",
     "text": [
      "OVERLAP MERGING RESULT WITH CLIQUE PERCOLATION METHOD, TIPPING MODEL, SEED TOP 20 NODES AND DEG THRESHOLD CALCULATION STRATEGY.\n",
      "\n",
      "['lyapunov fractal', 'neural networks', 'computation', 'quantum', 'algorithm', 'variational principle', 'time-varying delays', 'artificial neural network', 'linear matrix inequality', 'global asymptotic stability', 'computationally efficient', 'linear discriminant analysis', 'periodic solution', 'hessian', 'time delays', 'experiment', 'stochastic systems', 'optimization problem', 'hopfield neural networks', 'sufficient conditions', 'gradient', 'global exponential stability', 'lyapunov–krasovskii functional', 'discrete delays', 'uncertain systems', 'machine learning', 'cohen–grossberg neural network', 'particle swarm optimization', 'distributed delays', 'discrete and distributed delays', 'numerical analysis']\n",
      "len_topic: 31\n",
      "\n",
      "['delicate anatomical structures', 'arachnoid spinal space', 'tiny space', 'paper refers', 'biomedical application', 'strongly challenging']\n",
      "len_topic: 6\n",
      "\n",
      "['paper presents', 'frw method']\n",
      "len_topic: 2\n",
      "\n"
     ]
    }
   ],
   "source": [
    "overlap_merge_view_deg(2006, k = 20)"
   ]
  },
  {
   "cell_type": "code",
   "execution_count": 143,
   "metadata": {},
   "outputs": [
    {
     "name": "stdout",
     "output_type": "stream",
     "text": [
      "OVERLAP MERGING RESULT WITH CLIQUE PERCOLATION METHOD, TIPPING MODEL, SEED TOP 20 NODES AND HALF THRESHOLD CALCULATION STRATEGY.\n",
      "\n",
      "['lyapunov fractal', 'neural networks', 'computation', 'quantum', 'algorithm', 'variational principle', 'time-varying delays', 'artificial neural network', 'linear matrix inequality', 'global asymptotic stability', 'computationally efficient', 'linear discriminant analysis', 'periodic solution', 'hessian', 'time delays', 'experiment', 'stochastic systems', 'optimization problem', 'hopfield neural networks', 'sufficient conditions', 'gradient', 'global exponential stability', 'lyapunov–krasovskii functional', 'discrete delays', 'uncertain systems', 'machine learning', 'cohen–grossberg neural network', 'particle swarm optimization', 'distributed delays', 'discrete and distributed delays', 'numerical analysis']\n",
      "len_topic: 31\n",
      "\n",
      "['delicate anatomical structures', 'arachnoid spinal space', 'tiny space', 'paper refers', 'biomedical application', 'strongly challenging']\n",
      "len_topic: 6\n",
      "\n",
      "['paper presents', 'frw method']\n",
      "len_topic: 2\n",
      "\n"
     ]
    }
   ],
   "source": [
    "overlap_merge_view_half(2006, k = 20)"
   ]
  },
  {
   "cell_type": "code",
   "execution_count": 144,
   "metadata": {},
   "outputs": [
    {
     "ename": "TopicMalFormedException",
     "evalue": "Topic bad formed.",
     "output_type": "error",
     "traceback": [
      "\u001b[0;31m---------------------------------------------------------------------------\u001b[0m",
      "\u001b[0;31mTopicMalFormedException\u001b[0m                   Traceback (most recent call last)",
      "\u001b[0;32m<ipython-input-144-471b25ab07ec>\u001b[0m in \u001b[0;36m<module>\u001b[0;34m\u001b[0m\n\u001b[0;32m----> 1\u001b[0;31m \u001b[0moverlap_merge_view_deg_neg\u001b[0m\u001b[0;34m(\u001b[0m\u001b[0;36m2006\u001b[0m\u001b[0;34m,\u001b[0m \u001b[0mk\u001b[0m \u001b[0;34m=\u001b[0m \u001b[0;36m20\u001b[0m\u001b[0;34m)\u001b[0m\u001b[0;34m\u001b[0m\u001b[0;34m\u001b[0m\u001b[0m\n\u001b[0m",
      "\u001b[0;32m<ipython-input-6-aa88f64ba5fa>\u001b[0m in \u001b[0;36moverlap_merge_view_deg_neg\u001b[0;34m(year, k)\u001b[0m\n\u001b[1;32m     19\u001b[0m     \u001b[0mspread_dict\u001b[0m\u001b[0;34m[\u001b[0m\u001b[0mstr\u001b[0m\u001b[0;34m(\u001b[0m\u001b[0myear\u001b[0m\u001b[0;34m)\u001b[0m\u001b[0;34m]\u001b[0m\u001b[0;34m.\u001b[0m\u001b[0mtipping_model\u001b[0m\u001b[0;34m(\u001b[0m\u001b[0;34m)\u001b[0m\u001b[0;34m\u001b[0m\u001b[0;34m\u001b[0m\u001b[0m\n\u001b[1;32m     20\u001b[0m     \u001b[0mtipping_deg_neg\u001b[0m \u001b[0;34m=\u001b[0m \u001b[0mspread_dict\u001b[0m\u001b[0;34m[\u001b[0m\u001b[0mstr\u001b[0m\u001b[0;34m(\u001b[0m\u001b[0myear\u001b[0m\u001b[0;34m)\u001b[0m\u001b[0;34m]\u001b[0m\u001b[0;34m.\u001b[0m\u001b[0mget_influenced_nodes\u001b[0m\u001b[0;34m(\u001b[0m\u001b[0;34m)\u001b[0m\u001b[0;34m\u001b[0m\u001b[0;34m\u001b[0m\u001b[0m\n\u001b[0;32m---> 21\u001b[0;31m     \u001b[0mtopics_deg_neg\u001b[0m \u001b[0;34m=\u001b[0m \u001b[0moverlap_perform\u001b[0m\u001b[0;34m(\u001b[0m\u001b[0myear\u001b[0m\u001b[0;34m,\u001b[0m \u001b[0mtipping_deg_neg\u001b[0m\u001b[0;34m,\u001b[0m \u001b[0mk\u001b[0m\u001b[0;34m)\u001b[0m\u001b[0;34m\u001b[0m\u001b[0;34m\u001b[0m\u001b[0m\n\u001b[0m\u001b[1;32m     22\u001b[0m     \u001b[0mto_print\u001b[0m\u001b[0;34m(\u001b[0m\u001b[0mtopics_deg_neg\u001b[0m\u001b[0;34m,\u001b[0m \u001b[0;34m\"tipping\"\u001b[0m\u001b[0;34m,\u001b[0m \u001b[0mk\u001b[0m\u001b[0;34m,\u001b[0m \u001b[0;34m\"deg negative\"\u001b[0m\u001b[0;34m)\u001b[0m\u001b[0;34m\u001b[0m\u001b[0;34m\u001b[0m\u001b[0m\n",
      "\u001b[0;32m<ipython-input-5-60ae7201d3cc>\u001b[0m in \u001b[0;36moverlap_perform\u001b[0;34m(year, all_topics, k)\u001b[0m\n\u001b[1;32m      2\u001b[0m     \u001b[0moverlap\u001b[0m \u001b[0;34m=\u001b[0m \u001b[0mov\u001b[0m\u001b[0;34m.\u001b[0m\u001b[0mOverlapTopics\u001b[0m\u001b[0;34m(\u001b[0m\u001b[0mgraph_timeline_dict\u001b[0m\u001b[0;34m[\u001b[0m\u001b[0mstr\u001b[0m\u001b[0;34m(\u001b[0m\u001b[0myear\u001b[0m\u001b[0;34m)\u001b[0m\u001b[0;34m]\u001b[0m\u001b[0;34m,\u001b[0m \u001b[0mall_topics\u001b[0m\u001b[0;34m,\u001b[0m \u001b[0mk\u001b[0m\u001b[0;34m)\u001b[0m\u001b[0;34m\u001b[0m\u001b[0;34m\u001b[0m\u001b[0m\n\u001b[1;32m      3\u001b[0m     \u001b[0moverlap\u001b[0m\u001b[0;34m.\u001b[0m\u001b[0moverlap_preprocessing\u001b[0m\u001b[0;34m(\u001b[0m\u001b[0;34m)\u001b[0m\u001b[0;34m\u001b[0m\u001b[0;34m\u001b[0m\u001b[0m\n\u001b[0;32m----> 4\u001b[0;31m     \u001b[0moverlap\u001b[0m\u001b[0;34m.\u001b[0m\u001b[0mclique_percolation_method\u001b[0m\u001b[0;34m(\u001b[0m\u001b[0;34m)\u001b[0m\u001b[0;34m\u001b[0m\u001b[0;34m\u001b[0m\u001b[0m\n\u001b[0m\u001b[1;32m      5\u001b[0m     \u001b[0moverlap\u001b[0m\u001b[0;34m.\u001b[0m\u001b[0mcheck_spread_topics\u001b[0m\u001b[0;34m(\u001b[0m\u001b[0;34m)\u001b[0m\u001b[0;34m\u001b[0m\u001b[0;34m\u001b[0m\u001b[0m\n\u001b[1;32m      6\u001b[0m     \u001b[0moverlap\u001b[0m\u001b[0;34m.\u001b[0m\u001b[0mcheck_number_topics\u001b[0m\u001b[0;34m(\u001b[0m\u001b[0;34m)\u001b[0m\u001b[0;34m\u001b[0m\u001b[0;34m\u001b[0m\u001b[0m\n",
      "\u001b[0;32m~/Universita/magistrale/web_and_social_information_extraction/webandsocial-progetto/src/overlaps_topics/overlap_topics.py\u001b[0m in \u001b[0;36mclique_percolation_method\u001b[0;34m(self)\u001b[0m\n\u001b[1;32m    132\u001b[0m         \u001b[0mcommunities\u001b[0m \u001b[0;34m=\u001b[0m \u001b[0mk_clique_communities\u001b[0m\u001b[0;34m(\u001b[0m\u001b[0mG\u001b[0m \u001b[0;34m=\u001b[0m \u001b[0mself\u001b[0m\u001b[0;34m.\u001b[0m\u001b[0m__year_sub_graph\u001b[0m\u001b[0;34m,\u001b[0m \u001b[0mk\u001b[0m \u001b[0;34m=\u001b[0m \u001b[0;36m2\u001b[0m\u001b[0;34m)\u001b[0m\u001b[0;34m\u001b[0m\u001b[0;34m\u001b[0m\u001b[0m\n\u001b[1;32m    133\u001b[0m         \u001b[0;32mfor\u001b[0m \u001b[0mtopic\u001b[0m \u001b[0;32min\u001b[0m \u001b[0mcommunities\u001b[0m\u001b[0;34m:\u001b[0m\u001b[0;34m\u001b[0m\u001b[0;34m\u001b[0m\u001b[0m\n\u001b[0;32m--> 134\u001b[0;31m             \u001b[0mself\u001b[0m\u001b[0;34m.\u001b[0m\u001b[0mcheck_keywords\u001b[0m\u001b[0;34m(\u001b[0m\u001b[0mtopic\u001b[0m\u001b[0;34m)\u001b[0m\u001b[0;34m\u001b[0m\u001b[0;34m\u001b[0m\u001b[0m\n\u001b[0m\u001b[1;32m    135\u001b[0m             \u001b[0mself\u001b[0m\u001b[0;34m.\u001b[0m\u001b[0m__topics\u001b[0m\u001b[0;34m.\u001b[0m\u001b[0mappend\u001b[0m\u001b[0;34m(\u001b[0m\u001b[0mlist\u001b[0m\u001b[0;34m(\u001b[0m\u001b[0mtopic\u001b[0m\u001b[0;34m)\u001b[0m\u001b[0;34m)\u001b[0m\u001b[0;34m\u001b[0m\u001b[0;34m\u001b[0m\u001b[0m\n\u001b[1;32m    136\u001b[0m \u001b[0;34m\u001b[0m\u001b[0m\n",
      "\u001b[0;32m~/Universita/magistrale/web_and_social_information_extraction/webandsocial-progetto/src/overlaps_topics/overlap_topics.py\u001b[0m in \u001b[0;36mcheck_keywords\u001b[0;34m(self, topic)\u001b[0m\n\u001b[1;32m    119\u001b[0m \u001b[0;34m\u001b[0m\u001b[0m\n\u001b[1;32m    120\u001b[0m         \u001b[0;32mif\u001b[0m \u001b[0;32mnot\u001b[0m \u001b[0mregular\u001b[0m\u001b[0;34m:\u001b[0m\u001b[0;34m\u001b[0m\u001b[0;34m\u001b[0m\u001b[0m\n\u001b[0;32m--> 121\u001b[0;31m             \u001b[0;32mraise\u001b[0m \u001b[0mexcpt\u001b[0m\u001b[0;34m.\u001b[0m\u001b[0mTopicMalFormedException\u001b[0m\u001b[0;34m(\u001b[0m\u001b[0;34m\"Topic bad formed.\"\u001b[0m\u001b[0;34m)\u001b[0m\u001b[0;34m\u001b[0m\u001b[0;34m\u001b[0m\u001b[0m\n\u001b[0m\u001b[1;32m    122\u001b[0m \u001b[0;34m\u001b[0m\u001b[0m\n\u001b[1;32m    123\u001b[0m \u001b[0;34m\u001b[0m\u001b[0m\n",
      "\u001b[0;31mTopicMalFormedException\u001b[0m: Topic bad formed."
     ]
    }
   ],
   "source": [
    "overlap_merge_view_deg_neg(2006, k = 20)"
   ]
  },
  {
   "cell_type": "markdown",
   "metadata": {},
   "source": [
    "### Year 2007"
   ]
  },
  {
   "cell_type": "code",
   "execution_count": 145,
   "metadata": {},
   "outputs": [
    {
     "name": "stdout",
     "output_type": "stream",
     "text": [
      "OVERLAP MERGING RESULT WITH CLIQUE PERCOLATION METHOD, TIPPING MODEL, SEED TOP 20 NODES AND DEG THRESHOLD CALCULATION STRATEGY.\n",
      "\n",
      "['scientific computation especially', 'widely used', 'multidimensional domains', 'estimating integrals', 'monte carlo']\n",
      "len_topic: 5\n",
      "\n",
      "['lasalle invariance principle', 'mean square asymptotic stability']\n",
      "len_topic: 2\n",
      "\n",
      "['substantially contribute', 'illegal trade']\n",
      "len_topic: 2\n",
      "\n",
      "['e systems', 'varying delay', 'varying delays']\n",
      "len_topic: 3\n",
      "\n",
      "['endoscopic technique', 'human colon']\n",
      "len_topic: 2\n",
      "\n",
      "['genetic algorithm', 'fuzzy rule']\n",
      "len_topic: 2\n",
      "\n",
      "['web forms', 'entry points']\n",
      "len_topic: 2\n",
      "\n",
      "['lyapunov fractal', 'content-addressable memory', 'neural network simulation', 'rate of convergence', 'synchronization', 'time-varying delays', 'artificial neural network', 'chaos', 'lyapunov functional', 'linear matrix inequality', 'bidirectional associative memory', 'social inequality', 'lyapunov–krasovskii functional', 'bidirectional associative memory neural networks', 'cohen–grossberg neural networks', 'lag synchronization', 'distributed delays']\n",
      "len_topic: 17\n",
      "\n",
      "['particle swarm optimization', 'evolutionary algorithm', 'velocity (software development)', 'mathematical optimization', 'numerical analysis']\n",
      "len_topic: 5\n",
      "\n",
      "['experimental results', 'information retrieval']\n",
      "len_topic: 2\n",
      "\n"
     ]
    }
   ],
   "source": [
    "overlap_merge_view_deg(2007, k = 20)"
   ]
  },
  {
   "cell_type": "code",
   "execution_count": 146,
   "metadata": {},
   "outputs": [
    {
     "name": "stdout",
     "output_type": "stream",
     "text": [
      "OVERLAP MERGING RESULT WITH CLIQUE PERCOLATION METHOD, TIPPING MODEL, SEED TOP 20 NODES AND HALF THRESHOLD CALCULATION STRATEGY.\n",
      "\n",
      "['scientific computation especially', 'widely used', 'multidimensional domains', 'estimating integrals', 'monte carlo']\n",
      "len_topic: 5\n",
      "\n",
      "['lasalle invariance principle', 'mean square asymptotic stability']\n",
      "len_topic: 2\n",
      "\n",
      "['substantially contribute', 'illegal trade']\n",
      "len_topic: 2\n",
      "\n",
      "['e systems', 'varying delay', 'varying delays']\n",
      "len_topic: 3\n",
      "\n",
      "['endoscopic technique', 'human colon']\n",
      "len_topic: 2\n",
      "\n",
      "['genetic algorithm', 'fuzzy rule']\n",
      "len_topic: 2\n",
      "\n",
      "['web forms', 'entry points']\n",
      "len_topic: 2\n",
      "\n",
      "['lyapunov fractal', 'content-addressable memory', 'neural network simulation', 'rate of convergence', 'synchronization', 'time-varying delays', 'artificial neural network', 'chaos', 'lyapunov functional', 'linear matrix inequality', 'bidirectional associative memory', 'social inequality', 'lyapunov–krasovskii functional', 'bidirectional associative memory neural networks', 'cohen–grossberg neural networks', 'lag synchronization', 'distributed delays']\n",
      "len_topic: 17\n",
      "\n",
      "['particle swarm optimization', 'evolutionary algorithm', 'velocity (software development)', 'mathematical optimization', 'numerical analysis']\n",
      "len_topic: 5\n",
      "\n",
      "['experimental results', 'information retrieval']\n",
      "len_topic: 2\n",
      "\n"
     ]
    }
   ],
   "source": [
    "overlap_merge_view_half(2007, k = 20)"
   ]
  },
  {
   "cell_type": "code",
   "execution_count": 147,
   "metadata": {},
   "outputs": [
    {
     "ename": "TopicMalFormedException",
     "evalue": "Topic bad formed.",
     "output_type": "error",
     "traceback": [
      "\u001b[0;31m---------------------------------------------------------------------------\u001b[0m",
      "\u001b[0;31mTopicMalFormedException\u001b[0m                   Traceback (most recent call last)",
      "\u001b[0;32m<ipython-input-147-1265f7d878fb>\u001b[0m in \u001b[0;36m<module>\u001b[0;34m\u001b[0m\n\u001b[0;32m----> 1\u001b[0;31m \u001b[0moverlap_merge_view_deg_neg\u001b[0m\u001b[0;34m(\u001b[0m\u001b[0;36m2007\u001b[0m\u001b[0;34m,\u001b[0m \u001b[0mk\u001b[0m \u001b[0;34m=\u001b[0m \u001b[0;36m20\u001b[0m\u001b[0;34m)\u001b[0m\u001b[0;34m\u001b[0m\u001b[0;34m\u001b[0m\u001b[0m\n\u001b[0m",
      "\u001b[0;32m<ipython-input-6-aa88f64ba5fa>\u001b[0m in \u001b[0;36moverlap_merge_view_deg_neg\u001b[0;34m(year, k)\u001b[0m\n\u001b[1;32m     19\u001b[0m     \u001b[0mspread_dict\u001b[0m\u001b[0;34m[\u001b[0m\u001b[0mstr\u001b[0m\u001b[0;34m(\u001b[0m\u001b[0myear\u001b[0m\u001b[0;34m)\u001b[0m\u001b[0;34m]\u001b[0m\u001b[0;34m.\u001b[0m\u001b[0mtipping_model\u001b[0m\u001b[0;34m(\u001b[0m\u001b[0;34m)\u001b[0m\u001b[0;34m\u001b[0m\u001b[0;34m\u001b[0m\u001b[0m\n\u001b[1;32m     20\u001b[0m     \u001b[0mtipping_deg_neg\u001b[0m \u001b[0;34m=\u001b[0m \u001b[0mspread_dict\u001b[0m\u001b[0;34m[\u001b[0m\u001b[0mstr\u001b[0m\u001b[0;34m(\u001b[0m\u001b[0myear\u001b[0m\u001b[0;34m)\u001b[0m\u001b[0;34m]\u001b[0m\u001b[0;34m.\u001b[0m\u001b[0mget_influenced_nodes\u001b[0m\u001b[0;34m(\u001b[0m\u001b[0;34m)\u001b[0m\u001b[0;34m\u001b[0m\u001b[0;34m\u001b[0m\u001b[0m\n\u001b[0;32m---> 21\u001b[0;31m     \u001b[0mtopics_deg_neg\u001b[0m \u001b[0;34m=\u001b[0m \u001b[0moverlap_perform\u001b[0m\u001b[0;34m(\u001b[0m\u001b[0myear\u001b[0m\u001b[0;34m,\u001b[0m \u001b[0mtipping_deg_neg\u001b[0m\u001b[0;34m,\u001b[0m \u001b[0mk\u001b[0m\u001b[0;34m)\u001b[0m\u001b[0;34m\u001b[0m\u001b[0;34m\u001b[0m\u001b[0m\n\u001b[0m\u001b[1;32m     22\u001b[0m     \u001b[0mto_print\u001b[0m\u001b[0;34m(\u001b[0m\u001b[0mtopics_deg_neg\u001b[0m\u001b[0;34m,\u001b[0m \u001b[0;34m\"tipping\"\u001b[0m\u001b[0;34m,\u001b[0m \u001b[0mk\u001b[0m\u001b[0;34m,\u001b[0m \u001b[0;34m\"deg negative\"\u001b[0m\u001b[0;34m)\u001b[0m\u001b[0;34m\u001b[0m\u001b[0;34m\u001b[0m\u001b[0m\n",
      "\u001b[0;32m<ipython-input-5-60ae7201d3cc>\u001b[0m in \u001b[0;36moverlap_perform\u001b[0;34m(year, all_topics, k)\u001b[0m\n\u001b[1;32m      2\u001b[0m     \u001b[0moverlap\u001b[0m \u001b[0;34m=\u001b[0m \u001b[0mov\u001b[0m\u001b[0;34m.\u001b[0m\u001b[0mOverlapTopics\u001b[0m\u001b[0;34m(\u001b[0m\u001b[0mgraph_timeline_dict\u001b[0m\u001b[0;34m[\u001b[0m\u001b[0mstr\u001b[0m\u001b[0;34m(\u001b[0m\u001b[0myear\u001b[0m\u001b[0;34m)\u001b[0m\u001b[0;34m]\u001b[0m\u001b[0;34m,\u001b[0m \u001b[0mall_topics\u001b[0m\u001b[0;34m,\u001b[0m \u001b[0mk\u001b[0m\u001b[0;34m)\u001b[0m\u001b[0;34m\u001b[0m\u001b[0;34m\u001b[0m\u001b[0m\n\u001b[1;32m      3\u001b[0m     \u001b[0moverlap\u001b[0m\u001b[0;34m.\u001b[0m\u001b[0moverlap_preprocessing\u001b[0m\u001b[0;34m(\u001b[0m\u001b[0;34m)\u001b[0m\u001b[0;34m\u001b[0m\u001b[0;34m\u001b[0m\u001b[0m\n\u001b[0;32m----> 4\u001b[0;31m     \u001b[0moverlap\u001b[0m\u001b[0;34m.\u001b[0m\u001b[0mclique_percolation_method\u001b[0m\u001b[0;34m(\u001b[0m\u001b[0;34m)\u001b[0m\u001b[0;34m\u001b[0m\u001b[0;34m\u001b[0m\u001b[0m\n\u001b[0m\u001b[1;32m      5\u001b[0m     \u001b[0moverlap\u001b[0m\u001b[0;34m.\u001b[0m\u001b[0mcheck_spread_topics\u001b[0m\u001b[0;34m(\u001b[0m\u001b[0;34m)\u001b[0m\u001b[0;34m\u001b[0m\u001b[0;34m\u001b[0m\u001b[0m\n\u001b[1;32m      6\u001b[0m     \u001b[0moverlap\u001b[0m\u001b[0;34m.\u001b[0m\u001b[0mcheck_number_topics\u001b[0m\u001b[0;34m(\u001b[0m\u001b[0;34m)\u001b[0m\u001b[0;34m\u001b[0m\u001b[0;34m\u001b[0m\u001b[0m\n",
      "\u001b[0;32m~/Universita/magistrale/web_and_social_information_extraction/webandsocial-progetto/src/overlaps_topics/overlap_topics.py\u001b[0m in \u001b[0;36mclique_percolation_method\u001b[0;34m(self)\u001b[0m\n\u001b[1;32m    132\u001b[0m         \u001b[0mcommunities\u001b[0m \u001b[0;34m=\u001b[0m \u001b[0mk_clique_communities\u001b[0m\u001b[0;34m(\u001b[0m\u001b[0mG\u001b[0m \u001b[0;34m=\u001b[0m \u001b[0mself\u001b[0m\u001b[0;34m.\u001b[0m\u001b[0m__year_sub_graph\u001b[0m\u001b[0;34m,\u001b[0m \u001b[0mk\u001b[0m \u001b[0;34m=\u001b[0m \u001b[0;36m2\u001b[0m\u001b[0;34m)\u001b[0m\u001b[0;34m\u001b[0m\u001b[0;34m\u001b[0m\u001b[0m\n\u001b[1;32m    133\u001b[0m         \u001b[0;32mfor\u001b[0m \u001b[0mtopic\u001b[0m \u001b[0;32min\u001b[0m \u001b[0mcommunities\u001b[0m\u001b[0;34m:\u001b[0m\u001b[0;34m\u001b[0m\u001b[0;34m\u001b[0m\u001b[0m\n\u001b[0;32m--> 134\u001b[0;31m             \u001b[0mself\u001b[0m\u001b[0;34m.\u001b[0m\u001b[0mcheck_keywords\u001b[0m\u001b[0;34m(\u001b[0m\u001b[0mtopic\u001b[0m\u001b[0;34m)\u001b[0m\u001b[0;34m\u001b[0m\u001b[0;34m\u001b[0m\u001b[0m\n\u001b[0m\u001b[1;32m    135\u001b[0m             \u001b[0mself\u001b[0m\u001b[0;34m.\u001b[0m\u001b[0m__topics\u001b[0m\u001b[0;34m.\u001b[0m\u001b[0mappend\u001b[0m\u001b[0;34m(\u001b[0m\u001b[0mlist\u001b[0m\u001b[0;34m(\u001b[0m\u001b[0mtopic\u001b[0m\u001b[0;34m)\u001b[0m\u001b[0;34m)\u001b[0m\u001b[0;34m\u001b[0m\u001b[0;34m\u001b[0m\u001b[0m\n\u001b[1;32m    136\u001b[0m \u001b[0;34m\u001b[0m\u001b[0m\n",
      "\u001b[0;32m~/Universita/magistrale/web_and_social_information_extraction/webandsocial-progetto/src/overlaps_topics/overlap_topics.py\u001b[0m in \u001b[0;36mcheck_keywords\u001b[0;34m(self, topic)\u001b[0m\n\u001b[1;32m    119\u001b[0m \u001b[0;34m\u001b[0m\u001b[0m\n\u001b[1;32m    120\u001b[0m         \u001b[0;32mif\u001b[0m \u001b[0;32mnot\u001b[0m \u001b[0mregular\u001b[0m\u001b[0;34m:\u001b[0m\u001b[0;34m\u001b[0m\u001b[0;34m\u001b[0m\u001b[0m\n\u001b[0;32m--> 121\u001b[0;31m             \u001b[0;32mraise\u001b[0m \u001b[0mexcpt\u001b[0m\u001b[0;34m.\u001b[0m\u001b[0mTopicMalFormedException\u001b[0m\u001b[0;34m(\u001b[0m\u001b[0;34m\"Topic bad formed.\"\u001b[0m\u001b[0;34m)\u001b[0m\u001b[0;34m\u001b[0m\u001b[0;34m\u001b[0m\u001b[0m\n\u001b[0m\u001b[1;32m    122\u001b[0m \u001b[0;34m\u001b[0m\u001b[0m\n\u001b[1;32m    123\u001b[0m \u001b[0;34m\u001b[0m\u001b[0m\n",
      "\u001b[0;31mTopicMalFormedException\u001b[0m: Topic bad formed."
     ]
    }
   ],
   "source": [
    "overlap_merge_view_deg_neg(2007, k = 20)"
   ]
  },
  {
   "cell_type": "markdown",
   "metadata": {},
   "source": [
    "### Year 2008"
   ]
  },
  {
   "cell_type": "code",
   "execution_count": 148,
   "metadata": {},
   "outputs": [
    {
     "name": "stdout",
     "output_type": "stream",
     "text": [
      "OVERLAP MERGING RESULT WITH CLIQUE PERCOLATION METHOD, TIPPING MODEL, SEED TOP 20 NODES AND DEG THRESHOLD CALCULATION STRATEGY.\n",
      "\n",
      "['krasovskii functional', 'distributed time', 'matlab lmi toolbox']\n",
      "len_topic: 3\n",
      "\n",
      "['cognitive radio', 'multi-user', 'computation', 'user interface', 'algorithm', 'relay', 'simulation', 'systems architecture', 'interference (communication)', 'ici (programming language)', 'throughput', 'signal-to-interference-plus-noise ratio']\n",
      "len_topic: 12\n",
      "\n",
      "['unbounded distributed delays', 'lyapunov fractal', 'neural networks', 'exponential stability', 'rate of convergence', 'exponential', 'artificial neural network', 'linear matrix inequality', 'varying delays', 'biological neural networks', 'mathematical optimization', 'lyapunov–krasovskii functional', 'social inequality', 'lyapunov method', 'global asymptotic stability', 'global optimization', 'numerical analysis']\n",
      "len_topic: 17\n",
      "\n",
      "['access network selection', 'promising access network']\n",
      "len_topic: 2\n",
      "\n",
      "['multistability', '07.05.mh', '89.75.kd']\n",
      "len_topic: 3\n",
      "\n"
     ]
    }
   ],
   "source": [
    "overlap_merge_view_deg(2008, k = 20)"
   ]
  },
  {
   "cell_type": "code",
   "execution_count": 149,
   "metadata": {},
   "outputs": [
    {
     "name": "stdout",
     "output_type": "stream",
     "text": [
      "OVERLAP MERGING RESULT WITH CLIQUE PERCOLATION METHOD, TIPPING MODEL, SEED TOP 20 NODES AND HALF THRESHOLD CALCULATION STRATEGY.\n",
      "\n",
      "['krasovskii functional', 'distributed time', 'matlab lmi toolbox']\n",
      "len_topic: 3\n",
      "\n",
      "['lyapunov fractal', 'neural networks', 'biological neural networks', 'exponential stability', 'rate of convergence', 'exponential', 'artificial neural network', 'mathematical optimization', 'linear matrix inequality', 'varying delays', 'social inequality', 'lyapunov method', 'global optimization', 'numerical analysis']\n",
      "len_topic: 14\n",
      "\n",
      "['cognitive radio', 'multi-user', 'computation', 'user interface', 'algorithm', 'relay', 'simulation', 'systems architecture', 'interference (communication)', 'ici (programming language)', 'throughput', 'signal-to-interference-plus-noise ratio']\n",
      "len_topic: 12\n",
      "\n",
      "['access network selection', 'promising access network']\n",
      "len_topic: 2\n",
      "\n",
      "['multistability', '07.05.mh', '89.75.kd']\n",
      "len_topic: 3\n",
      "\n"
     ]
    }
   ],
   "source": [
    "overlap_merge_view_half(2008, k = 20)"
   ]
  },
  {
   "cell_type": "code",
   "execution_count": 150,
   "metadata": {},
   "outputs": [
    {
     "ename": "TopicMalFormedException",
     "evalue": "Topic bad formed.",
     "output_type": "error",
     "traceback": [
      "\u001b[0;31m---------------------------------------------------------------------------\u001b[0m",
      "\u001b[0;31mTopicMalFormedException\u001b[0m                   Traceback (most recent call last)",
      "\u001b[0;32m<ipython-input-150-f41ede37ce4c>\u001b[0m in \u001b[0;36m<module>\u001b[0;34m\u001b[0m\n\u001b[0;32m----> 1\u001b[0;31m \u001b[0moverlap_merge_view_deg_neg\u001b[0m\u001b[0;34m(\u001b[0m\u001b[0;36m2008\u001b[0m\u001b[0;34m,\u001b[0m \u001b[0mk\u001b[0m \u001b[0;34m=\u001b[0m \u001b[0;36m20\u001b[0m\u001b[0;34m)\u001b[0m\u001b[0;34m\u001b[0m\u001b[0;34m\u001b[0m\u001b[0m\n\u001b[0m",
      "\u001b[0;32m<ipython-input-6-aa88f64ba5fa>\u001b[0m in \u001b[0;36moverlap_merge_view_deg_neg\u001b[0;34m(year, k)\u001b[0m\n\u001b[1;32m     19\u001b[0m     \u001b[0mspread_dict\u001b[0m\u001b[0;34m[\u001b[0m\u001b[0mstr\u001b[0m\u001b[0;34m(\u001b[0m\u001b[0myear\u001b[0m\u001b[0;34m)\u001b[0m\u001b[0;34m]\u001b[0m\u001b[0;34m.\u001b[0m\u001b[0mtipping_model\u001b[0m\u001b[0;34m(\u001b[0m\u001b[0;34m)\u001b[0m\u001b[0;34m\u001b[0m\u001b[0;34m\u001b[0m\u001b[0m\n\u001b[1;32m     20\u001b[0m     \u001b[0mtipping_deg_neg\u001b[0m \u001b[0;34m=\u001b[0m \u001b[0mspread_dict\u001b[0m\u001b[0;34m[\u001b[0m\u001b[0mstr\u001b[0m\u001b[0;34m(\u001b[0m\u001b[0myear\u001b[0m\u001b[0;34m)\u001b[0m\u001b[0;34m]\u001b[0m\u001b[0;34m.\u001b[0m\u001b[0mget_influenced_nodes\u001b[0m\u001b[0;34m(\u001b[0m\u001b[0;34m)\u001b[0m\u001b[0;34m\u001b[0m\u001b[0;34m\u001b[0m\u001b[0m\n\u001b[0;32m---> 21\u001b[0;31m     \u001b[0mtopics_deg_neg\u001b[0m \u001b[0;34m=\u001b[0m \u001b[0moverlap_perform\u001b[0m\u001b[0;34m(\u001b[0m\u001b[0myear\u001b[0m\u001b[0;34m,\u001b[0m \u001b[0mtipping_deg_neg\u001b[0m\u001b[0;34m,\u001b[0m \u001b[0mk\u001b[0m\u001b[0;34m)\u001b[0m\u001b[0;34m\u001b[0m\u001b[0;34m\u001b[0m\u001b[0m\n\u001b[0m\u001b[1;32m     22\u001b[0m     \u001b[0mto_print\u001b[0m\u001b[0;34m(\u001b[0m\u001b[0mtopics_deg_neg\u001b[0m\u001b[0;34m,\u001b[0m \u001b[0;34m\"tipping\"\u001b[0m\u001b[0;34m,\u001b[0m \u001b[0mk\u001b[0m\u001b[0;34m,\u001b[0m \u001b[0;34m\"deg negative\"\u001b[0m\u001b[0;34m)\u001b[0m\u001b[0;34m\u001b[0m\u001b[0;34m\u001b[0m\u001b[0m\n",
      "\u001b[0;32m<ipython-input-5-60ae7201d3cc>\u001b[0m in \u001b[0;36moverlap_perform\u001b[0;34m(year, all_topics, k)\u001b[0m\n\u001b[1;32m      2\u001b[0m     \u001b[0moverlap\u001b[0m \u001b[0;34m=\u001b[0m \u001b[0mov\u001b[0m\u001b[0;34m.\u001b[0m\u001b[0mOverlapTopics\u001b[0m\u001b[0;34m(\u001b[0m\u001b[0mgraph_timeline_dict\u001b[0m\u001b[0;34m[\u001b[0m\u001b[0mstr\u001b[0m\u001b[0;34m(\u001b[0m\u001b[0myear\u001b[0m\u001b[0;34m)\u001b[0m\u001b[0;34m]\u001b[0m\u001b[0;34m,\u001b[0m \u001b[0mall_topics\u001b[0m\u001b[0;34m,\u001b[0m \u001b[0mk\u001b[0m\u001b[0;34m)\u001b[0m\u001b[0;34m\u001b[0m\u001b[0;34m\u001b[0m\u001b[0m\n\u001b[1;32m      3\u001b[0m     \u001b[0moverlap\u001b[0m\u001b[0;34m.\u001b[0m\u001b[0moverlap_preprocessing\u001b[0m\u001b[0;34m(\u001b[0m\u001b[0;34m)\u001b[0m\u001b[0;34m\u001b[0m\u001b[0;34m\u001b[0m\u001b[0m\n\u001b[0;32m----> 4\u001b[0;31m     \u001b[0moverlap\u001b[0m\u001b[0;34m.\u001b[0m\u001b[0mclique_percolation_method\u001b[0m\u001b[0;34m(\u001b[0m\u001b[0;34m)\u001b[0m\u001b[0;34m\u001b[0m\u001b[0;34m\u001b[0m\u001b[0m\n\u001b[0m\u001b[1;32m      5\u001b[0m     \u001b[0moverlap\u001b[0m\u001b[0;34m.\u001b[0m\u001b[0mcheck_spread_topics\u001b[0m\u001b[0;34m(\u001b[0m\u001b[0;34m)\u001b[0m\u001b[0;34m\u001b[0m\u001b[0;34m\u001b[0m\u001b[0m\n\u001b[1;32m      6\u001b[0m     \u001b[0moverlap\u001b[0m\u001b[0;34m.\u001b[0m\u001b[0mcheck_number_topics\u001b[0m\u001b[0;34m(\u001b[0m\u001b[0;34m)\u001b[0m\u001b[0;34m\u001b[0m\u001b[0;34m\u001b[0m\u001b[0m\n",
      "\u001b[0;32m~/Universita/magistrale/web_and_social_information_extraction/webandsocial-progetto/src/overlaps_topics/overlap_topics.py\u001b[0m in \u001b[0;36mclique_percolation_method\u001b[0;34m(self)\u001b[0m\n\u001b[1;32m    132\u001b[0m         \u001b[0mcommunities\u001b[0m \u001b[0;34m=\u001b[0m \u001b[0mk_clique_communities\u001b[0m\u001b[0;34m(\u001b[0m\u001b[0mG\u001b[0m \u001b[0;34m=\u001b[0m \u001b[0mself\u001b[0m\u001b[0;34m.\u001b[0m\u001b[0m__year_sub_graph\u001b[0m\u001b[0;34m,\u001b[0m \u001b[0mk\u001b[0m \u001b[0;34m=\u001b[0m \u001b[0;36m2\u001b[0m\u001b[0;34m)\u001b[0m\u001b[0;34m\u001b[0m\u001b[0;34m\u001b[0m\u001b[0m\n\u001b[1;32m    133\u001b[0m         \u001b[0;32mfor\u001b[0m \u001b[0mtopic\u001b[0m \u001b[0;32min\u001b[0m \u001b[0mcommunities\u001b[0m\u001b[0;34m:\u001b[0m\u001b[0;34m\u001b[0m\u001b[0;34m\u001b[0m\u001b[0m\n\u001b[0;32m--> 134\u001b[0;31m             \u001b[0mself\u001b[0m\u001b[0;34m.\u001b[0m\u001b[0mcheck_keywords\u001b[0m\u001b[0;34m(\u001b[0m\u001b[0mtopic\u001b[0m\u001b[0;34m)\u001b[0m\u001b[0;34m\u001b[0m\u001b[0;34m\u001b[0m\u001b[0m\n\u001b[0m\u001b[1;32m    135\u001b[0m             \u001b[0mself\u001b[0m\u001b[0;34m.\u001b[0m\u001b[0m__topics\u001b[0m\u001b[0;34m.\u001b[0m\u001b[0mappend\u001b[0m\u001b[0;34m(\u001b[0m\u001b[0mlist\u001b[0m\u001b[0;34m(\u001b[0m\u001b[0mtopic\u001b[0m\u001b[0;34m)\u001b[0m\u001b[0;34m)\u001b[0m\u001b[0;34m\u001b[0m\u001b[0;34m\u001b[0m\u001b[0m\n\u001b[1;32m    136\u001b[0m \u001b[0;34m\u001b[0m\u001b[0m\n",
      "\u001b[0;32m~/Universita/magistrale/web_and_social_information_extraction/webandsocial-progetto/src/overlaps_topics/overlap_topics.py\u001b[0m in \u001b[0;36mcheck_keywords\u001b[0;34m(self, topic)\u001b[0m\n\u001b[1;32m    119\u001b[0m \u001b[0;34m\u001b[0m\u001b[0m\n\u001b[1;32m    120\u001b[0m         \u001b[0;32mif\u001b[0m \u001b[0;32mnot\u001b[0m \u001b[0mregular\u001b[0m\u001b[0;34m:\u001b[0m\u001b[0;34m\u001b[0m\u001b[0;34m\u001b[0m\u001b[0m\n\u001b[0;32m--> 121\u001b[0;31m             \u001b[0;32mraise\u001b[0m \u001b[0mexcpt\u001b[0m\u001b[0;34m.\u001b[0m\u001b[0mTopicMalFormedException\u001b[0m\u001b[0;34m(\u001b[0m\u001b[0;34m\"Topic bad formed.\"\u001b[0m\u001b[0;34m)\u001b[0m\u001b[0;34m\u001b[0m\u001b[0;34m\u001b[0m\u001b[0m\n\u001b[0m\u001b[1;32m    122\u001b[0m \u001b[0;34m\u001b[0m\u001b[0m\n\u001b[1;32m    123\u001b[0m \u001b[0;34m\u001b[0m\u001b[0m\n",
      "\u001b[0;31mTopicMalFormedException\u001b[0m: Topic bad formed."
     ]
    }
   ],
   "source": [
    "overlap_merge_view_deg_neg(2008, k = 20)"
   ]
  },
  {
   "cell_type": "markdown",
   "metadata": {},
   "source": [
    "### Year 2009"
   ]
  },
  {
   "cell_type": "code",
   "execution_count": 151,
   "metadata": {},
   "outputs": [
    {
     "name": "stdout",
     "output_type": "stream",
     "text": [
      "OVERLAP MERGING RESULT WITH CLIQUE PERCOLATION METHOD, TIPPING MODEL, SEED TOP 20 NODES AND DEG THRESHOLD CALCULATION STRATEGY.\n",
      "\n",
      "['neural networks', 'social inequality', 'lyapunov method', 'linear matrix inequality']\n",
      "len_topic: 4\n",
      "\n",
      "['cognitive radio', 'frequency allocation', 'frequency band', 'interference (communication)']\n",
      "len_topic: 4\n",
      "\n",
      "['lyapunov fractal', 'anfis', 'rate of convergence', 'evolutionary algorithm', 'algorithm', 'differential evolution', 'aliasing', 'simulation', 'adaptive neuro fuzzy inference system', 'reinforcement learning', '3d modeling', 'test suite', 'disjunctive normal form', 'identification', 'stability analysis', 'optimization problem', 'particle swarm optimization', 'data mining\\xa0', 'recursion', 'mathematical optimization', 'gradient descent', 'fuzzy rule', 'recursive least squares filter', 'system identifier', 'machine learning', 'hybrid learning algorithm', 'global optimization']\n",
      "len_topic: 27\n",
      "\n",
      "['05.45.vx', '05.45.xt', 'complex networks', '05.45.gg']\n",
      "len_topic: 4\n",
      "\n"
     ]
    }
   ],
   "source": [
    "overlap_merge_view_deg(2009, k = 20)"
   ]
  },
  {
   "cell_type": "code",
   "execution_count": 152,
   "metadata": {},
   "outputs": [
    {
     "ename": "TopicNotAllKeywordsUsedException",
     "evalue": "To perfom all topics not all keywords have been used.",
     "output_type": "error",
     "traceback": [
      "\u001b[0;31m---------------------------------------------------------------------------\u001b[0m",
      "\u001b[0;31mTopicNotAllKeywordsUsedException\u001b[0m          Traceback (most recent call last)",
      "\u001b[0;32m<ipython-input-152-5e2a349a8ce1>\u001b[0m in \u001b[0;36m<module>\u001b[0;34m\u001b[0m\n\u001b[0;32m----> 1\u001b[0;31m \u001b[0moverlap_merge_view_half\u001b[0m\u001b[0;34m(\u001b[0m\u001b[0;36m2009\u001b[0m\u001b[0;34m,\u001b[0m \u001b[0mk\u001b[0m \u001b[0;34m=\u001b[0m \u001b[0;36m20\u001b[0m\u001b[0;34m)\u001b[0m\u001b[0;34m\u001b[0m\u001b[0;34m\u001b[0m\u001b[0m\n\u001b[0m",
      "\u001b[0;32m<ipython-input-6-aa88f64ba5fa>\u001b[0m in \u001b[0;36moverlap_merge_view_half\u001b[0;34m(year, k)\u001b[0m\n\u001b[1;32m     11\u001b[0m     \u001b[0mspread_dict\u001b[0m\u001b[0;34m[\u001b[0m\u001b[0mstr\u001b[0m\u001b[0;34m(\u001b[0m\u001b[0myear\u001b[0m\u001b[0;34m)\u001b[0m\u001b[0;34m]\u001b[0m\u001b[0;34m.\u001b[0m\u001b[0mtipping_model\u001b[0m\u001b[0;34m(\u001b[0m\u001b[0;34m)\u001b[0m\u001b[0;34m\u001b[0m\u001b[0;34m\u001b[0m\u001b[0m\n\u001b[1;32m     12\u001b[0m     \u001b[0mtipping_half\u001b[0m \u001b[0;34m=\u001b[0m \u001b[0mspread_dict\u001b[0m\u001b[0;34m[\u001b[0m\u001b[0mstr\u001b[0m\u001b[0;34m(\u001b[0m\u001b[0myear\u001b[0m\u001b[0;34m)\u001b[0m\u001b[0;34m]\u001b[0m\u001b[0;34m.\u001b[0m\u001b[0mget_influenced_nodes\u001b[0m\u001b[0;34m(\u001b[0m\u001b[0;34m)\u001b[0m\u001b[0;34m\u001b[0m\u001b[0;34m\u001b[0m\u001b[0m\n\u001b[0;32m---> 13\u001b[0;31m     \u001b[0mtopics_half\u001b[0m \u001b[0;34m=\u001b[0m \u001b[0moverlap_perform\u001b[0m\u001b[0;34m(\u001b[0m\u001b[0myear\u001b[0m\u001b[0;34m,\u001b[0m \u001b[0mtipping_half\u001b[0m\u001b[0;34m,\u001b[0m \u001b[0mk\u001b[0m\u001b[0;34m)\u001b[0m\u001b[0;34m\u001b[0m\u001b[0;34m\u001b[0m\u001b[0m\n\u001b[0m\u001b[1;32m     14\u001b[0m     \u001b[0mto_print\u001b[0m\u001b[0;34m(\u001b[0m\u001b[0mtopics_half\u001b[0m\u001b[0;34m,\u001b[0m \u001b[0;34m\"tipping\"\u001b[0m\u001b[0;34m,\u001b[0m \u001b[0mk\u001b[0m\u001b[0;34m,\u001b[0m \u001b[0;34m\"half\"\u001b[0m\u001b[0;34m)\u001b[0m\u001b[0;34m\u001b[0m\u001b[0;34m\u001b[0m\u001b[0m\n\u001b[1;32m     15\u001b[0m \u001b[0;34m\u001b[0m\u001b[0m\n",
      "\u001b[0;32m<ipython-input-5-60ae7201d3cc>\u001b[0m in \u001b[0;36moverlap_perform\u001b[0;34m(year, all_topics, k)\u001b[0m\n\u001b[1;32m      3\u001b[0m     \u001b[0moverlap\u001b[0m\u001b[0;34m.\u001b[0m\u001b[0moverlap_preprocessing\u001b[0m\u001b[0;34m(\u001b[0m\u001b[0;34m)\u001b[0m\u001b[0;34m\u001b[0m\u001b[0;34m\u001b[0m\u001b[0m\n\u001b[1;32m      4\u001b[0m     \u001b[0moverlap\u001b[0m\u001b[0;34m.\u001b[0m\u001b[0mclique_percolation_method\u001b[0m\u001b[0;34m(\u001b[0m\u001b[0;34m)\u001b[0m\u001b[0;34m\u001b[0m\u001b[0;34m\u001b[0m\u001b[0m\n\u001b[0;32m----> 5\u001b[0;31m     \u001b[0moverlap\u001b[0m\u001b[0;34m.\u001b[0m\u001b[0mcheck_spread_topics\u001b[0m\u001b[0;34m(\u001b[0m\u001b[0;34m)\u001b[0m\u001b[0;34m\u001b[0m\u001b[0;34m\u001b[0m\u001b[0m\n\u001b[0m\u001b[1;32m      6\u001b[0m     \u001b[0moverlap\u001b[0m\u001b[0;34m.\u001b[0m\u001b[0mcheck_number_topics\u001b[0m\u001b[0;34m(\u001b[0m\u001b[0;34m)\u001b[0m\u001b[0;34m\u001b[0m\u001b[0;34m\u001b[0m\u001b[0m\n\u001b[1;32m      7\u001b[0m     \u001b[0;32mreturn\u001b[0m \u001b[0moverlap\u001b[0m\u001b[0;34m.\u001b[0m\u001b[0mget_topics\u001b[0m\u001b[0;34m(\u001b[0m\u001b[0;34m)\u001b[0m\u001b[0;34m\u001b[0m\u001b[0;34m\u001b[0m\u001b[0m\n",
      "\u001b[0;32m~/Universita/magistrale/web_and_social_information_extraction/webandsocial-progetto/src/overlaps_topics/overlap_topics.py\u001b[0m in \u001b[0;36mcheck_spread_topics\u001b[0;34m(self)\u001b[0m\n\u001b[1;32m    156\u001b[0m \u001b[0;34m\u001b[0m\u001b[0m\n\u001b[1;32m    157\u001b[0m         \u001b[0;32mif\u001b[0m \u001b[0msize_iteration\u001b[0m \u001b[0;34m!=\u001b[0m \u001b[0msize_topics\u001b[0m\u001b[0;34m:\u001b[0m\u001b[0;34m\u001b[0m\u001b[0;34m\u001b[0m\u001b[0m\n\u001b[0;32m--> 158\u001b[0;31m             \u001b[0;32mraise\u001b[0m \u001b[0mexcpt\u001b[0m\u001b[0;34m.\u001b[0m\u001b[0mTopicNotAllKeywordsUsedException\u001b[0m\u001b[0;34m(\u001b[0m\u001b[0;34m\"To perfom all topics not all keywords have been used.\"\u001b[0m\u001b[0;34m)\u001b[0m\u001b[0;34m\u001b[0m\u001b[0;34m\u001b[0m\u001b[0m\n\u001b[0m\u001b[1;32m    159\u001b[0m \u001b[0;34m\u001b[0m\u001b[0m\n\u001b[1;32m    160\u001b[0m \u001b[0;34m\u001b[0m\u001b[0m\n",
      "\u001b[0;31mTopicNotAllKeywordsUsedException\u001b[0m: To perfom all topics not all keywords have been used."
     ]
    }
   ],
   "source": [
    "overlap_merge_view_half(2009, k = 20)"
   ]
  },
  {
   "cell_type": "code",
   "execution_count": 153,
   "metadata": {},
   "outputs": [
    {
     "ename": "TopicMalFormedException",
     "evalue": "Topic bad formed.",
     "output_type": "error",
     "traceback": [
      "\u001b[0;31m---------------------------------------------------------------------------\u001b[0m",
      "\u001b[0;31mTopicMalFormedException\u001b[0m                   Traceback (most recent call last)",
      "\u001b[0;32m<ipython-input-153-b2d95a21b914>\u001b[0m in \u001b[0;36m<module>\u001b[0;34m\u001b[0m\n\u001b[0;32m----> 1\u001b[0;31m \u001b[0moverlap_merge_view_deg_neg\u001b[0m\u001b[0;34m(\u001b[0m\u001b[0;36m2009\u001b[0m\u001b[0;34m,\u001b[0m \u001b[0mk\u001b[0m \u001b[0;34m=\u001b[0m \u001b[0;36m20\u001b[0m\u001b[0;34m)\u001b[0m\u001b[0;34m\u001b[0m\u001b[0;34m\u001b[0m\u001b[0m\n\u001b[0m",
      "\u001b[0;32m<ipython-input-6-aa88f64ba5fa>\u001b[0m in \u001b[0;36moverlap_merge_view_deg_neg\u001b[0;34m(year, k)\u001b[0m\n\u001b[1;32m     19\u001b[0m     \u001b[0mspread_dict\u001b[0m\u001b[0;34m[\u001b[0m\u001b[0mstr\u001b[0m\u001b[0;34m(\u001b[0m\u001b[0myear\u001b[0m\u001b[0;34m)\u001b[0m\u001b[0;34m]\u001b[0m\u001b[0;34m.\u001b[0m\u001b[0mtipping_model\u001b[0m\u001b[0;34m(\u001b[0m\u001b[0;34m)\u001b[0m\u001b[0;34m\u001b[0m\u001b[0;34m\u001b[0m\u001b[0m\n\u001b[1;32m     20\u001b[0m     \u001b[0mtipping_deg_neg\u001b[0m \u001b[0;34m=\u001b[0m \u001b[0mspread_dict\u001b[0m\u001b[0;34m[\u001b[0m\u001b[0mstr\u001b[0m\u001b[0;34m(\u001b[0m\u001b[0myear\u001b[0m\u001b[0;34m)\u001b[0m\u001b[0;34m]\u001b[0m\u001b[0;34m.\u001b[0m\u001b[0mget_influenced_nodes\u001b[0m\u001b[0;34m(\u001b[0m\u001b[0;34m)\u001b[0m\u001b[0;34m\u001b[0m\u001b[0;34m\u001b[0m\u001b[0m\n\u001b[0;32m---> 21\u001b[0;31m     \u001b[0mtopics_deg_neg\u001b[0m \u001b[0;34m=\u001b[0m \u001b[0moverlap_perform\u001b[0m\u001b[0;34m(\u001b[0m\u001b[0myear\u001b[0m\u001b[0;34m,\u001b[0m \u001b[0mtipping_deg_neg\u001b[0m\u001b[0;34m,\u001b[0m \u001b[0mk\u001b[0m\u001b[0;34m)\u001b[0m\u001b[0;34m\u001b[0m\u001b[0;34m\u001b[0m\u001b[0m\n\u001b[0m\u001b[1;32m     22\u001b[0m     \u001b[0mto_print\u001b[0m\u001b[0;34m(\u001b[0m\u001b[0mtopics_deg_neg\u001b[0m\u001b[0;34m,\u001b[0m \u001b[0;34m\"tipping\"\u001b[0m\u001b[0;34m,\u001b[0m \u001b[0mk\u001b[0m\u001b[0;34m,\u001b[0m \u001b[0;34m\"deg negative\"\u001b[0m\u001b[0;34m)\u001b[0m\u001b[0;34m\u001b[0m\u001b[0;34m\u001b[0m\u001b[0m\n",
      "\u001b[0;32m<ipython-input-5-60ae7201d3cc>\u001b[0m in \u001b[0;36moverlap_perform\u001b[0;34m(year, all_topics, k)\u001b[0m\n\u001b[1;32m      2\u001b[0m     \u001b[0moverlap\u001b[0m \u001b[0;34m=\u001b[0m \u001b[0mov\u001b[0m\u001b[0;34m.\u001b[0m\u001b[0mOverlapTopics\u001b[0m\u001b[0;34m(\u001b[0m\u001b[0mgraph_timeline_dict\u001b[0m\u001b[0;34m[\u001b[0m\u001b[0mstr\u001b[0m\u001b[0;34m(\u001b[0m\u001b[0myear\u001b[0m\u001b[0;34m)\u001b[0m\u001b[0;34m]\u001b[0m\u001b[0;34m,\u001b[0m \u001b[0mall_topics\u001b[0m\u001b[0;34m,\u001b[0m \u001b[0mk\u001b[0m\u001b[0;34m)\u001b[0m\u001b[0;34m\u001b[0m\u001b[0;34m\u001b[0m\u001b[0m\n\u001b[1;32m      3\u001b[0m     \u001b[0moverlap\u001b[0m\u001b[0;34m.\u001b[0m\u001b[0moverlap_preprocessing\u001b[0m\u001b[0;34m(\u001b[0m\u001b[0;34m)\u001b[0m\u001b[0;34m\u001b[0m\u001b[0;34m\u001b[0m\u001b[0m\n\u001b[0;32m----> 4\u001b[0;31m     \u001b[0moverlap\u001b[0m\u001b[0;34m.\u001b[0m\u001b[0mclique_percolation_method\u001b[0m\u001b[0;34m(\u001b[0m\u001b[0;34m)\u001b[0m\u001b[0;34m\u001b[0m\u001b[0;34m\u001b[0m\u001b[0m\n\u001b[0m\u001b[1;32m      5\u001b[0m     \u001b[0moverlap\u001b[0m\u001b[0;34m.\u001b[0m\u001b[0mcheck_spread_topics\u001b[0m\u001b[0;34m(\u001b[0m\u001b[0;34m)\u001b[0m\u001b[0;34m\u001b[0m\u001b[0;34m\u001b[0m\u001b[0m\n\u001b[1;32m      6\u001b[0m     \u001b[0moverlap\u001b[0m\u001b[0;34m.\u001b[0m\u001b[0mcheck_number_topics\u001b[0m\u001b[0;34m(\u001b[0m\u001b[0;34m)\u001b[0m\u001b[0;34m\u001b[0m\u001b[0;34m\u001b[0m\u001b[0m\n",
      "\u001b[0;32m~/Universita/magistrale/web_and_social_information_extraction/webandsocial-progetto/src/overlaps_topics/overlap_topics.py\u001b[0m in \u001b[0;36mclique_percolation_method\u001b[0;34m(self)\u001b[0m\n\u001b[1;32m    132\u001b[0m         \u001b[0mcommunities\u001b[0m \u001b[0;34m=\u001b[0m \u001b[0mk_clique_communities\u001b[0m\u001b[0;34m(\u001b[0m\u001b[0mG\u001b[0m \u001b[0;34m=\u001b[0m \u001b[0mself\u001b[0m\u001b[0;34m.\u001b[0m\u001b[0m__year_sub_graph\u001b[0m\u001b[0;34m,\u001b[0m \u001b[0mk\u001b[0m \u001b[0;34m=\u001b[0m \u001b[0;36m2\u001b[0m\u001b[0;34m)\u001b[0m\u001b[0;34m\u001b[0m\u001b[0;34m\u001b[0m\u001b[0m\n\u001b[1;32m    133\u001b[0m         \u001b[0;32mfor\u001b[0m \u001b[0mtopic\u001b[0m \u001b[0;32min\u001b[0m \u001b[0mcommunities\u001b[0m\u001b[0;34m:\u001b[0m\u001b[0;34m\u001b[0m\u001b[0;34m\u001b[0m\u001b[0m\n\u001b[0;32m--> 134\u001b[0;31m             \u001b[0mself\u001b[0m\u001b[0;34m.\u001b[0m\u001b[0mcheck_keywords\u001b[0m\u001b[0;34m(\u001b[0m\u001b[0mtopic\u001b[0m\u001b[0;34m)\u001b[0m\u001b[0;34m\u001b[0m\u001b[0;34m\u001b[0m\u001b[0m\n\u001b[0m\u001b[1;32m    135\u001b[0m             \u001b[0mself\u001b[0m\u001b[0;34m.\u001b[0m\u001b[0m__topics\u001b[0m\u001b[0;34m.\u001b[0m\u001b[0mappend\u001b[0m\u001b[0;34m(\u001b[0m\u001b[0mlist\u001b[0m\u001b[0;34m(\u001b[0m\u001b[0mtopic\u001b[0m\u001b[0;34m)\u001b[0m\u001b[0;34m)\u001b[0m\u001b[0;34m\u001b[0m\u001b[0;34m\u001b[0m\u001b[0m\n\u001b[1;32m    136\u001b[0m \u001b[0;34m\u001b[0m\u001b[0m\n",
      "\u001b[0;32m~/Universita/magistrale/web_and_social_information_extraction/webandsocial-progetto/src/overlaps_topics/overlap_topics.py\u001b[0m in \u001b[0;36mcheck_keywords\u001b[0;34m(self, topic)\u001b[0m\n\u001b[1;32m    119\u001b[0m \u001b[0;34m\u001b[0m\u001b[0m\n\u001b[1;32m    120\u001b[0m         \u001b[0;32mif\u001b[0m \u001b[0;32mnot\u001b[0m \u001b[0mregular\u001b[0m\u001b[0;34m:\u001b[0m\u001b[0;34m\u001b[0m\u001b[0;34m\u001b[0m\u001b[0m\n\u001b[0;32m--> 121\u001b[0;31m             \u001b[0;32mraise\u001b[0m \u001b[0mexcpt\u001b[0m\u001b[0;34m.\u001b[0m\u001b[0mTopicMalFormedException\u001b[0m\u001b[0;34m(\u001b[0m\u001b[0;34m\"Topic bad formed.\"\u001b[0m\u001b[0;34m)\u001b[0m\u001b[0;34m\u001b[0m\u001b[0;34m\u001b[0m\u001b[0m\n\u001b[0m\u001b[1;32m    122\u001b[0m \u001b[0;34m\u001b[0m\u001b[0m\n\u001b[1;32m    123\u001b[0m \u001b[0;34m\u001b[0m\u001b[0m\n",
      "\u001b[0;31mTopicMalFormedException\u001b[0m: Topic bad formed."
     ]
    }
   ],
   "source": [
    "overlap_merge_view_deg_neg(2009, k = 20)"
   ]
  },
  {
   "cell_type": "markdown",
   "metadata": {},
   "source": [
    "### Year 2010"
   ]
  },
  {
   "cell_type": "code",
   "execution_count": 154,
   "metadata": {},
   "outputs": [
    {
     "name": "stdout",
     "output_type": "stream",
     "text": [
      "OVERLAP MERGING RESULT WITH CLIQUE PERCOLATION METHOD, TIPPING MODEL, SEED TOP 20 NODES AND DEG THRESHOLD CALCULATION STRATEGY.\n",
      "\n",
      "['neural networks', 'lyapunov fractal', 'complex network', 'genetic regulatory networks', 'gene regulatory network', 'multistability', 'systems biology', 'artificial neural network', 'global exponential stability', 'lyapunov functional', 'linear matrix inequality', 'lyapunov–krasovskii functional', 'social inequality', 'analysis technique', 'global asymptotic stability', 'time complexity', 'neutral type']\n",
      "len_topic: 17\n",
      "\n",
      "['algorithm', 'data mining', 'iterative method', 'stationary process', 'numerous', 'real-time transcription', 'scheduling (computing)', 'height above ground level', 'particle swarm optimization', 'numerical analysis', 'decision tree', 'rate of convergence', 'centralized computing', 'real-time clock', 'self-organization', 'simulation', 'reinforcement learning', 'multi-agent system', 'cognition', 'network congestion', 'context awareness', 'cognitive radio', 'game theory', \"whole earth 'lectronic link\", 'overhead (computing)', 'coexist (image)', 'mathematical optimization', 'action selection', 'programming paradigm', 'interaction', 'spectrum analyzer', 'interference (communication)', 'machine learning', 'operating environment', 'channel capacity', 'q-learning']\n",
      "len_topic: 36\n",
      "\n",
      "['context information', 'web search']\n",
      "len_topic: 2\n",
      "\n",
      "['social media', 'important tool']\n",
      "len_topic: 2\n",
      "\n",
      "['input multiple', 'output communication']\n",
      "len_topic: 2\n",
      "\n",
      "['differential evolution\\xa0', 'continuous optimization\\xa0']\n",
      "len_topic: 2\n",
      "\n"
     ]
    }
   ],
   "source": [
    "overlap_merge_view_deg(2010, k = 20)"
   ]
  },
  {
   "cell_type": "code",
   "execution_count": 155,
   "metadata": {},
   "outputs": [
    {
     "name": "stdout",
     "output_type": "stream",
     "text": [
      "OVERLAP MERGING RESULT WITH CLIQUE PERCOLATION METHOD, TIPPING MODEL, SEED TOP 20 NODES AND HALF THRESHOLD CALCULATION STRATEGY.\n",
      "\n",
      "['neural networks', 'lyapunov fractal', 'complex network', 'genetic regulatory networks', 'gene regulatory network', 'multistability', 'systems biology', 'artificial neural network', 'global exponential stability', 'lyapunov functional', 'linear matrix inequality', 'lyapunov–krasovskii functional', 'social inequality', 'analysis technique', 'global asymptotic stability', 'time complexity', 'neutral type']\n",
      "len_topic: 17\n",
      "\n",
      "['decision tree', 'rate of convergence', 'algorithm', 'centralized computing', 'real-time clock', 'data mining', 'self-organization', 'simulation', 'channel capacity', 'iterative method', 'reinforcement learning', 'multi-agent system', 'cognition', 'stationary process', 'cognitive radio', 'game theory', \"whole earth 'lectronic link\", 'overhead (computing)', 'coexist (image)', 'numerous', 'mathematical optimization', 'programming paradigm', 'action selection', 'real-time transcription', 'interaction', 'spectrum analyzer', 'interference (communication)', 'height above ground level', 'machine learning', 'particle swarm optimization', 'numerical analysis', 'q-learning']\n",
      "len_topic: 32\n",
      "\n",
      "['context information', 'web search']\n",
      "len_topic: 2\n",
      "\n",
      "['social media', 'important tool']\n",
      "len_topic: 2\n",
      "\n",
      "['input multiple', 'output communication']\n",
      "len_topic: 2\n",
      "\n",
      "['differential evolution\\xa0', 'continuous optimization\\xa0']\n",
      "len_topic: 2\n",
      "\n"
     ]
    }
   ],
   "source": [
    "overlap_merge_view_half(2010, k = 20)"
   ]
  },
  {
   "cell_type": "code",
   "execution_count": 156,
   "metadata": {},
   "outputs": [
    {
     "ename": "TopicMalFormedException",
     "evalue": "Topic bad formed.",
     "output_type": "error",
     "traceback": [
      "\u001b[0;31m---------------------------------------------------------------------------\u001b[0m",
      "\u001b[0;31mTopicMalFormedException\u001b[0m                   Traceback (most recent call last)",
      "\u001b[0;32m<ipython-input-156-0e28af47ada4>\u001b[0m in \u001b[0;36m<module>\u001b[0;34m\u001b[0m\n\u001b[0;32m----> 1\u001b[0;31m \u001b[0moverlap_merge_view_deg_neg\u001b[0m\u001b[0;34m(\u001b[0m\u001b[0;36m2010\u001b[0m\u001b[0;34m,\u001b[0m \u001b[0mk\u001b[0m \u001b[0;34m=\u001b[0m \u001b[0;36m20\u001b[0m\u001b[0;34m)\u001b[0m\u001b[0;34m\u001b[0m\u001b[0;34m\u001b[0m\u001b[0m\n\u001b[0m",
      "\u001b[0;32m<ipython-input-6-aa88f64ba5fa>\u001b[0m in \u001b[0;36moverlap_merge_view_deg_neg\u001b[0;34m(year, k)\u001b[0m\n\u001b[1;32m     19\u001b[0m     \u001b[0mspread_dict\u001b[0m\u001b[0;34m[\u001b[0m\u001b[0mstr\u001b[0m\u001b[0;34m(\u001b[0m\u001b[0myear\u001b[0m\u001b[0;34m)\u001b[0m\u001b[0;34m]\u001b[0m\u001b[0;34m.\u001b[0m\u001b[0mtipping_model\u001b[0m\u001b[0;34m(\u001b[0m\u001b[0;34m)\u001b[0m\u001b[0;34m\u001b[0m\u001b[0;34m\u001b[0m\u001b[0m\n\u001b[1;32m     20\u001b[0m     \u001b[0mtipping_deg_neg\u001b[0m \u001b[0;34m=\u001b[0m \u001b[0mspread_dict\u001b[0m\u001b[0;34m[\u001b[0m\u001b[0mstr\u001b[0m\u001b[0;34m(\u001b[0m\u001b[0myear\u001b[0m\u001b[0;34m)\u001b[0m\u001b[0;34m]\u001b[0m\u001b[0;34m.\u001b[0m\u001b[0mget_influenced_nodes\u001b[0m\u001b[0;34m(\u001b[0m\u001b[0;34m)\u001b[0m\u001b[0;34m\u001b[0m\u001b[0;34m\u001b[0m\u001b[0m\n\u001b[0;32m---> 21\u001b[0;31m     \u001b[0mtopics_deg_neg\u001b[0m \u001b[0;34m=\u001b[0m \u001b[0moverlap_perform\u001b[0m\u001b[0;34m(\u001b[0m\u001b[0myear\u001b[0m\u001b[0;34m,\u001b[0m \u001b[0mtipping_deg_neg\u001b[0m\u001b[0;34m,\u001b[0m \u001b[0mk\u001b[0m\u001b[0;34m)\u001b[0m\u001b[0;34m\u001b[0m\u001b[0;34m\u001b[0m\u001b[0m\n\u001b[0m\u001b[1;32m     22\u001b[0m     \u001b[0mto_print\u001b[0m\u001b[0;34m(\u001b[0m\u001b[0mtopics_deg_neg\u001b[0m\u001b[0;34m,\u001b[0m \u001b[0;34m\"tipping\"\u001b[0m\u001b[0;34m,\u001b[0m \u001b[0mk\u001b[0m\u001b[0;34m,\u001b[0m \u001b[0;34m\"deg negative\"\u001b[0m\u001b[0;34m)\u001b[0m\u001b[0;34m\u001b[0m\u001b[0;34m\u001b[0m\u001b[0m\n",
      "\u001b[0;32m<ipython-input-5-60ae7201d3cc>\u001b[0m in \u001b[0;36moverlap_perform\u001b[0;34m(year, all_topics, k)\u001b[0m\n\u001b[1;32m      2\u001b[0m     \u001b[0moverlap\u001b[0m \u001b[0;34m=\u001b[0m \u001b[0mov\u001b[0m\u001b[0;34m.\u001b[0m\u001b[0mOverlapTopics\u001b[0m\u001b[0;34m(\u001b[0m\u001b[0mgraph_timeline_dict\u001b[0m\u001b[0;34m[\u001b[0m\u001b[0mstr\u001b[0m\u001b[0;34m(\u001b[0m\u001b[0myear\u001b[0m\u001b[0;34m)\u001b[0m\u001b[0;34m]\u001b[0m\u001b[0;34m,\u001b[0m \u001b[0mall_topics\u001b[0m\u001b[0;34m,\u001b[0m \u001b[0mk\u001b[0m\u001b[0;34m)\u001b[0m\u001b[0;34m\u001b[0m\u001b[0;34m\u001b[0m\u001b[0m\n\u001b[1;32m      3\u001b[0m     \u001b[0moverlap\u001b[0m\u001b[0;34m.\u001b[0m\u001b[0moverlap_preprocessing\u001b[0m\u001b[0;34m(\u001b[0m\u001b[0;34m)\u001b[0m\u001b[0;34m\u001b[0m\u001b[0;34m\u001b[0m\u001b[0m\n\u001b[0;32m----> 4\u001b[0;31m     \u001b[0moverlap\u001b[0m\u001b[0;34m.\u001b[0m\u001b[0mclique_percolation_method\u001b[0m\u001b[0;34m(\u001b[0m\u001b[0;34m)\u001b[0m\u001b[0;34m\u001b[0m\u001b[0;34m\u001b[0m\u001b[0m\n\u001b[0m\u001b[1;32m      5\u001b[0m     \u001b[0moverlap\u001b[0m\u001b[0;34m.\u001b[0m\u001b[0mcheck_spread_topics\u001b[0m\u001b[0;34m(\u001b[0m\u001b[0;34m)\u001b[0m\u001b[0;34m\u001b[0m\u001b[0;34m\u001b[0m\u001b[0m\n\u001b[1;32m      6\u001b[0m     \u001b[0moverlap\u001b[0m\u001b[0;34m.\u001b[0m\u001b[0mcheck_number_topics\u001b[0m\u001b[0;34m(\u001b[0m\u001b[0;34m)\u001b[0m\u001b[0;34m\u001b[0m\u001b[0;34m\u001b[0m\u001b[0m\n",
      "\u001b[0;32m~/Universita/magistrale/web_and_social_information_extraction/webandsocial-progetto/src/overlaps_topics/overlap_topics.py\u001b[0m in \u001b[0;36mclique_percolation_method\u001b[0;34m(self)\u001b[0m\n\u001b[1;32m    132\u001b[0m         \u001b[0mcommunities\u001b[0m \u001b[0;34m=\u001b[0m \u001b[0mk_clique_communities\u001b[0m\u001b[0;34m(\u001b[0m\u001b[0mG\u001b[0m \u001b[0;34m=\u001b[0m \u001b[0mself\u001b[0m\u001b[0;34m.\u001b[0m\u001b[0m__year_sub_graph\u001b[0m\u001b[0;34m,\u001b[0m \u001b[0mk\u001b[0m \u001b[0;34m=\u001b[0m \u001b[0;36m2\u001b[0m\u001b[0;34m)\u001b[0m\u001b[0;34m\u001b[0m\u001b[0;34m\u001b[0m\u001b[0m\n\u001b[1;32m    133\u001b[0m         \u001b[0;32mfor\u001b[0m \u001b[0mtopic\u001b[0m \u001b[0;32min\u001b[0m \u001b[0mcommunities\u001b[0m\u001b[0;34m:\u001b[0m\u001b[0;34m\u001b[0m\u001b[0;34m\u001b[0m\u001b[0m\n\u001b[0;32m--> 134\u001b[0;31m             \u001b[0mself\u001b[0m\u001b[0;34m.\u001b[0m\u001b[0mcheck_keywords\u001b[0m\u001b[0;34m(\u001b[0m\u001b[0mtopic\u001b[0m\u001b[0;34m)\u001b[0m\u001b[0;34m\u001b[0m\u001b[0;34m\u001b[0m\u001b[0m\n\u001b[0m\u001b[1;32m    135\u001b[0m             \u001b[0mself\u001b[0m\u001b[0;34m.\u001b[0m\u001b[0m__topics\u001b[0m\u001b[0;34m.\u001b[0m\u001b[0mappend\u001b[0m\u001b[0;34m(\u001b[0m\u001b[0mlist\u001b[0m\u001b[0;34m(\u001b[0m\u001b[0mtopic\u001b[0m\u001b[0;34m)\u001b[0m\u001b[0;34m)\u001b[0m\u001b[0;34m\u001b[0m\u001b[0;34m\u001b[0m\u001b[0m\n\u001b[1;32m    136\u001b[0m \u001b[0;34m\u001b[0m\u001b[0m\n",
      "\u001b[0;32m~/Universita/magistrale/web_and_social_information_extraction/webandsocial-progetto/src/overlaps_topics/overlap_topics.py\u001b[0m in \u001b[0;36mcheck_keywords\u001b[0;34m(self, topic)\u001b[0m\n\u001b[1;32m    119\u001b[0m \u001b[0;34m\u001b[0m\u001b[0m\n\u001b[1;32m    120\u001b[0m         \u001b[0;32mif\u001b[0m \u001b[0;32mnot\u001b[0m \u001b[0mregular\u001b[0m\u001b[0;34m:\u001b[0m\u001b[0;34m\u001b[0m\u001b[0;34m\u001b[0m\u001b[0m\n\u001b[0;32m--> 121\u001b[0;31m             \u001b[0;32mraise\u001b[0m \u001b[0mexcpt\u001b[0m\u001b[0;34m.\u001b[0m\u001b[0mTopicMalFormedException\u001b[0m\u001b[0;34m(\u001b[0m\u001b[0;34m\"Topic bad formed.\"\u001b[0m\u001b[0;34m)\u001b[0m\u001b[0;34m\u001b[0m\u001b[0;34m\u001b[0m\u001b[0m\n\u001b[0m\u001b[1;32m    122\u001b[0m \u001b[0;34m\u001b[0m\u001b[0m\n\u001b[1;32m    123\u001b[0m \u001b[0;34m\u001b[0m\u001b[0m\n",
      "\u001b[0;31mTopicMalFormedException\u001b[0m: Topic bad formed."
     ]
    }
   ],
   "source": [
    "overlap_merge_view_deg_neg(2010, k = 20)"
   ]
  },
  {
   "cell_type": "markdown",
   "metadata": {},
   "source": [
    "### Year 2011"
   ]
  },
  {
   "cell_type": "code",
   "execution_count": 157,
   "metadata": {},
   "outputs": [
    {
     "name": "stdout",
     "output_type": "stream",
     "text": [
      "OVERLAP MERGING RESULT WITH CLIQUE PERCOLATION METHOD, TIPPING MODEL, SEED TOP 20 NODES AND DEG THRESHOLD CALCULATION STRATEGY.\n",
      "\n",
      "['lyapunov fractal', 'ising model', 'impulses', 'algorithm', 'exponential', 'artificial neural network', 'quality of service', 'stochastic neural network', 'tree rearrangement', 'experiment', 'hopfield-type neural networks', 'checking (action)', 'convex function', 'spectral leakage', 'parameter adaptation', 'hopfield network', 's ability', 'particle swarm optimization', 'time complexity', 'plasmon', 'numerical analysis', 'resonance', 'autonomous robot', 'low-power broadcasting', 'neural network simulation', 'population diversity', 'evolutionary algorithm', 'differential evolution', 'broadcast delay', 'centralized computing', 'linear matrix inequality', 'simulation', 'software deployment', 'reinforcement learning', 'fairness measure', 'cognitive radio', 'approximation algorithm', 'mathematical optimization', 'multitier architecture', 'interaction', 'social inequality', 'distributed delays', 'nonlinear system', 'interference (communication)', 'telecommunications link', 'machine learning', 'synchronization (computer science)', 'signal-to-interference-plus-noise ratio', 'channel capacity']\n",
      "len_topic: 49\n",
      "\n"
     ]
    }
   ],
   "source": [
    "overlap_merge_view_deg(2011, k = 20)"
   ]
  },
  {
   "cell_type": "code",
   "execution_count": 158,
   "metadata": {},
   "outputs": [
    {
     "name": "stdout",
     "output_type": "stream",
     "text": [
      "OVERLAP MERGING RESULT WITH CLIQUE PERCOLATION METHOD, TIPPING MODEL, SEED TOP 20 NODES AND HALF THRESHOLD CALCULATION STRATEGY.\n",
      "\n",
      "['lyapunov fractal', 'ising model', 'algorithm', 'exponential', 'artificial neural network', 'quality of service', 'stochastic neural network', 'tree rearrangement', 'experiment', 'checking (action)', 'convex function', 'spectral leakage', 'parameter adaptation', 'hopfield network', 's ability', 'particle swarm optimization', 'time complexity', 'plasmon', 'numerical analysis', 'resonance', 'autonomous robot', 'low-power broadcasting', 'neural network simulation', 'population diversity', 'evolutionary algorithm', 'differential evolution', 'broadcast delay', 'centralized computing', 'linear matrix inequality', 'simulation', 'software deployment', 'reinforcement learning', 'fairness measure', 'cognitive radio', 'approximation algorithm', 'mathematical optimization', 'multitier architecture', 'interaction', 'social inequality', 'nonlinear system', 'interference (communication)', 'telecommunications link', 'machine learning', 'synchronization (computer science)', 'signal-to-interference-plus-noise ratio', 'channel capacity']\n",
      "len_topic: 46\n",
      "\n"
     ]
    }
   ],
   "source": [
    "overlap_merge_view_half(2011, k = 20)"
   ]
  },
  {
   "cell_type": "code",
   "execution_count": 159,
   "metadata": {},
   "outputs": [
    {
     "ename": "TopicMalFormedException",
     "evalue": "Topic bad formed.",
     "output_type": "error",
     "traceback": [
      "\u001b[0;31m---------------------------------------------------------------------------\u001b[0m",
      "\u001b[0;31mTopicMalFormedException\u001b[0m                   Traceback (most recent call last)",
      "\u001b[0;32m<ipython-input-159-747655152d46>\u001b[0m in \u001b[0;36m<module>\u001b[0;34m\u001b[0m\n\u001b[0;32m----> 1\u001b[0;31m \u001b[0moverlap_merge_view_deg_neg\u001b[0m\u001b[0;34m(\u001b[0m\u001b[0;36m2011\u001b[0m\u001b[0;34m,\u001b[0m \u001b[0mk\u001b[0m \u001b[0;34m=\u001b[0m \u001b[0;36m20\u001b[0m\u001b[0;34m)\u001b[0m\u001b[0;34m\u001b[0m\u001b[0;34m\u001b[0m\u001b[0m\n\u001b[0m",
      "\u001b[0;32m<ipython-input-6-aa88f64ba5fa>\u001b[0m in \u001b[0;36moverlap_merge_view_deg_neg\u001b[0;34m(year, k)\u001b[0m\n\u001b[1;32m     19\u001b[0m     \u001b[0mspread_dict\u001b[0m\u001b[0;34m[\u001b[0m\u001b[0mstr\u001b[0m\u001b[0;34m(\u001b[0m\u001b[0myear\u001b[0m\u001b[0;34m)\u001b[0m\u001b[0;34m]\u001b[0m\u001b[0;34m.\u001b[0m\u001b[0mtipping_model\u001b[0m\u001b[0;34m(\u001b[0m\u001b[0;34m)\u001b[0m\u001b[0;34m\u001b[0m\u001b[0;34m\u001b[0m\u001b[0m\n\u001b[1;32m     20\u001b[0m     \u001b[0mtipping_deg_neg\u001b[0m \u001b[0;34m=\u001b[0m \u001b[0mspread_dict\u001b[0m\u001b[0;34m[\u001b[0m\u001b[0mstr\u001b[0m\u001b[0;34m(\u001b[0m\u001b[0myear\u001b[0m\u001b[0;34m)\u001b[0m\u001b[0;34m]\u001b[0m\u001b[0;34m.\u001b[0m\u001b[0mget_influenced_nodes\u001b[0m\u001b[0;34m(\u001b[0m\u001b[0;34m)\u001b[0m\u001b[0;34m\u001b[0m\u001b[0;34m\u001b[0m\u001b[0m\n\u001b[0;32m---> 21\u001b[0;31m     \u001b[0mtopics_deg_neg\u001b[0m \u001b[0;34m=\u001b[0m \u001b[0moverlap_perform\u001b[0m\u001b[0;34m(\u001b[0m\u001b[0myear\u001b[0m\u001b[0;34m,\u001b[0m \u001b[0mtipping_deg_neg\u001b[0m\u001b[0;34m,\u001b[0m \u001b[0mk\u001b[0m\u001b[0;34m)\u001b[0m\u001b[0;34m\u001b[0m\u001b[0;34m\u001b[0m\u001b[0m\n\u001b[0m\u001b[1;32m     22\u001b[0m     \u001b[0mto_print\u001b[0m\u001b[0;34m(\u001b[0m\u001b[0mtopics_deg_neg\u001b[0m\u001b[0;34m,\u001b[0m \u001b[0;34m\"tipping\"\u001b[0m\u001b[0;34m,\u001b[0m \u001b[0mk\u001b[0m\u001b[0;34m,\u001b[0m \u001b[0;34m\"deg negative\"\u001b[0m\u001b[0;34m)\u001b[0m\u001b[0;34m\u001b[0m\u001b[0;34m\u001b[0m\u001b[0m\n",
      "\u001b[0;32m<ipython-input-5-60ae7201d3cc>\u001b[0m in \u001b[0;36moverlap_perform\u001b[0;34m(year, all_topics, k)\u001b[0m\n\u001b[1;32m      2\u001b[0m     \u001b[0moverlap\u001b[0m \u001b[0;34m=\u001b[0m \u001b[0mov\u001b[0m\u001b[0;34m.\u001b[0m\u001b[0mOverlapTopics\u001b[0m\u001b[0;34m(\u001b[0m\u001b[0mgraph_timeline_dict\u001b[0m\u001b[0;34m[\u001b[0m\u001b[0mstr\u001b[0m\u001b[0;34m(\u001b[0m\u001b[0myear\u001b[0m\u001b[0;34m)\u001b[0m\u001b[0;34m]\u001b[0m\u001b[0;34m,\u001b[0m \u001b[0mall_topics\u001b[0m\u001b[0;34m,\u001b[0m \u001b[0mk\u001b[0m\u001b[0;34m)\u001b[0m\u001b[0;34m\u001b[0m\u001b[0;34m\u001b[0m\u001b[0m\n\u001b[1;32m      3\u001b[0m     \u001b[0moverlap\u001b[0m\u001b[0;34m.\u001b[0m\u001b[0moverlap_preprocessing\u001b[0m\u001b[0;34m(\u001b[0m\u001b[0;34m)\u001b[0m\u001b[0;34m\u001b[0m\u001b[0;34m\u001b[0m\u001b[0m\n\u001b[0;32m----> 4\u001b[0;31m     \u001b[0moverlap\u001b[0m\u001b[0;34m.\u001b[0m\u001b[0mclique_percolation_method\u001b[0m\u001b[0;34m(\u001b[0m\u001b[0;34m)\u001b[0m\u001b[0;34m\u001b[0m\u001b[0;34m\u001b[0m\u001b[0m\n\u001b[0m\u001b[1;32m      5\u001b[0m     \u001b[0moverlap\u001b[0m\u001b[0;34m.\u001b[0m\u001b[0mcheck_spread_topics\u001b[0m\u001b[0;34m(\u001b[0m\u001b[0;34m)\u001b[0m\u001b[0;34m\u001b[0m\u001b[0;34m\u001b[0m\u001b[0m\n\u001b[1;32m      6\u001b[0m     \u001b[0moverlap\u001b[0m\u001b[0;34m.\u001b[0m\u001b[0mcheck_number_topics\u001b[0m\u001b[0;34m(\u001b[0m\u001b[0;34m)\u001b[0m\u001b[0;34m\u001b[0m\u001b[0;34m\u001b[0m\u001b[0m\n",
      "\u001b[0;32m~/Universita/magistrale/web_and_social_information_extraction/webandsocial-progetto/src/overlaps_topics/overlap_topics.py\u001b[0m in \u001b[0;36mclique_percolation_method\u001b[0;34m(self)\u001b[0m\n\u001b[1;32m    132\u001b[0m         \u001b[0mcommunities\u001b[0m \u001b[0;34m=\u001b[0m \u001b[0mk_clique_communities\u001b[0m\u001b[0;34m(\u001b[0m\u001b[0mG\u001b[0m \u001b[0;34m=\u001b[0m \u001b[0mself\u001b[0m\u001b[0;34m.\u001b[0m\u001b[0m__year_sub_graph\u001b[0m\u001b[0;34m,\u001b[0m \u001b[0mk\u001b[0m \u001b[0;34m=\u001b[0m \u001b[0;36m2\u001b[0m\u001b[0;34m)\u001b[0m\u001b[0;34m\u001b[0m\u001b[0;34m\u001b[0m\u001b[0m\n\u001b[1;32m    133\u001b[0m         \u001b[0;32mfor\u001b[0m \u001b[0mtopic\u001b[0m \u001b[0;32min\u001b[0m \u001b[0mcommunities\u001b[0m\u001b[0;34m:\u001b[0m\u001b[0;34m\u001b[0m\u001b[0;34m\u001b[0m\u001b[0m\n\u001b[0;32m--> 134\u001b[0;31m             \u001b[0mself\u001b[0m\u001b[0;34m.\u001b[0m\u001b[0mcheck_keywords\u001b[0m\u001b[0;34m(\u001b[0m\u001b[0mtopic\u001b[0m\u001b[0;34m)\u001b[0m\u001b[0;34m\u001b[0m\u001b[0;34m\u001b[0m\u001b[0m\n\u001b[0m\u001b[1;32m    135\u001b[0m             \u001b[0mself\u001b[0m\u001b[0;34m.\u001b[0m\u001b[0m__topics\u001b[0m\u001b[0;34m.\u001b[0m\u001b[0mappend\u001b[0m\u001b[0;34m(\u001b[0m\u001b[0mlist\u001b[0m\u001b[0;34m(\u001b[0m\u001b[0mtopic\u001b[0m\u001b[0;34m)\u001b[0m\u001b[0;34m)\u001b[0m\u001b[0;34m\u001b[0m\u001b[0;34m\u001b[0m\u001b[0m\n\u001b[1;32m    136\u001b[0m \u001b[0;34m\u001b[0m\u001b[0m\n",
      "\u001b[0;32m~/Universita/magistrale/web_and_social_information_extraction/webandsocial-progetto/src/overlaps_topics/overlap_topics.py\u001b[0m in \u001b[0;36mcheck_keywords\u001b[0;34m(self, topic)\u001b[0m\n\u001b[1;32m    119\u001b[0m \u001b[0;34m\u001b[0m\u001b[0m\n\u001b[1;32m    120\u001b[0m         \u001b[0;32mif\u001b[0m \u001b[0;32mnot\u001b[0m \u001b[0mregular\u001b[0m\u001b[0;34m:\u001b[0m\u001b[0;34m\u001b[0m\u001b[0;34m\u001b[0m\u001b[0m\n\u001b[0;32m--> 121\u001b[0;31m             \u001b[0;32mraise\u001b[0m \u001b[0mexcpt\u001b[0m\u001b[0;34m.\u001b[0m\u001b[0mTopicMalFormedException\u001b[0m\u001b[0;34m(\u001b[0m\u001b[0;34m\"Topic bad formed.\"\u001b[0m\u001b[0;34m)\u001b[0m\u001b[0;34m\u001b[0m\u001b[0;34m\u001b[0m\u001b[0m\n\u001b[0m\u001b[1;32m    122\u001b[0m \u001b[0;34m\u001b[0m\u001b[0m\n\u001b[1;32m    123\u001b[0m \u001b[0;34m\u001b[0m\u001b[0m\n",
      "\u001b[0;31mTopicMalFormedException\u001b[0m: Topic bad formed."
     ]
    }
   ],
   "source": [
    "overlap_merge_view_deg_neg(2011, k = 20)"
   ]
  },
  {
   "cell_type": "markdown",
   "metadata": {},
   "source": [
    "### Year 2012"
   ]
  },
  {
   "cell_type": "code",
   "execution_count": 160,
   "metadata": {},
   "outputs": [
    {
     "name": "stdout",
     "output_type": "stream",
     "text": [
      "OVERLAP MERGING RESULT WITH CLIQUE PERCOLATION METHOD, TIPPING MODEL, SEED TOP 20 NODES AND DEG THRESHOLD CALCULATION STRATEGY.\n",
      "\n",
      "['cross-validation (statistics)', 'computation', 'algorithm', 'cyclostationary process', 'fuzzy logic', 'data mining', 'experiment', 'missing data', 'genetic algorithm', 'optimization problem', 'fuzzy control system', 'preprocessor', 'genetic operator', 'expectation–maximization algorithm', 'particle swarm optimization', 'deep learning', 'supervised learning', 'premature convergence', 'autonomous robot', 'frequency band', 'evolutionary algorithm', 'radio frequency', 'sparse matrix', 'inference engine', 'benchmark (computing)', 'simulation', 'software deployment', 'trees (plant)', 'reinforcement learning', 'cognition', 'class', 'knapsack problem', 'cognitive radio', 'transmitter', 'coexist (image)', 'gradient', 'mathematical optimization', 'receiver operating characteristic', 'combinatorial optimization', 'interference (communication)', 'telecommunications link', 'machine learning', 'signal-to-interference-plus-noise ratio', 'q-learning']\n",
      "len_topic: 44\n",
      "\n",
      "['test data', 'dropout (neural networks)', 'neural network simulation', 'sampling - surgical action', 'artificial neural network', 'sampling (signal processing)', 'linear matrix inequality', 'social inequality', 'recurrent neural network', 'synchronization (computer science)', 'overfitting', 'time complexity', 'numerical analysis']\n",
      "len_topic: 13\n",
      "\n"
     ]
    }
   ],
   "source": [
    "overlap_merge_view_deg(2012, k = 20)"
   ]
  },
  {
   "cell_type": "code",
   "execution_count": 161,
   "metadata": {},
   "outputs": [
    {
     "name": "stdout",
     "output_type": "stream",
     "text": [
      "OVERLAP MERGING RESULT WITH CLIQUE PERCOLATION METHOD, TIPPING MODEL, SEED TOP 20 NODES AND HALF THRESHOLD CALCULATION STRATEGY.\n",
      "\n",
      "['cross-validation (statistics)', 'premature convergence', 'frequency band', 'evolutionary algorithm', 'computation', 'machine learning', 'algorithm', 'sparse matrix', 'inference engine', 'fuzzy logic', 'benchmark (computing)', 'simulation', 'software deployment', 'trees (plant)', 'reinforcement learning', 'experiment', 'class', 'genetic algorithm', 'optimization problem', 'knapsack problem', 'cognitive radio', 'transmitter', 'coexist (image)', 'fuzzy control system', 'gradient', 'mathematical optimization', 'combinatorial optimization', 'genetic operator', 'interference (communication)', 'telecommunications link', 'expectation–maximization algorithm', 'particle swarm optimization', 'signal-to-interference-plus-noise ratio', 'deep learning', 'q-learning']\n",
      "len_topic: 35\n",
      "\n",
      "['neural network simulation', 'sampling - surgical action', 'artificial neural network', 'recurrent neural network', 'synchronization (computer science)', 'time complexity', 'sampling (signal processing)']\n",
      "len_topic: 7\n",
      "\n"
     ]
    }
   ],
   "source": [
    "overlap_merge_view_half(2012, k = 20)"
   ]
  },
  {
   "cell_type": "code",
   "execution_count": 162,
   "metadata": {},
   "outputs": [
    {
     "ename": "TopicMalFormedException",
     "evalue": "Topic bad formed.",
     "output_type": "error",
     "traceback": [
      "\u001b[0;31m---------------------------------------------------------------------------\u001b[0m",
      "\u001b[0;31mTopicMalFormedException\u001b[0m                   Traceback (most recent call last)",
      "\u001b[0;32m<ipython-input-162-3b088075ef87>\u001b[0m in \u001b[0;36m<module>\u001b[0;34m\u001b[0m\n\u001b[0;32m----> 1\u001b[0;31m \u001b[0moverlap_merge_view_deg_neg\u001b[0m\u001b[0;34m(\u001b[0m\u001b[0;36m2012\u001b[0m\u001b[0;34m,\u001b[0m \u001b[0mk\u001b[0m \u001b[0;34m=\u001b[0m \u001b[0;36m20\u001b[0m\u001b[0;34m)\u001b[0m\u001b[0;34m\u001b[0m\u001b[0;34m\u001b[0m\u001b[0m\n\u001b[0m",
      "\u001b[0;32m<ipython-input-6-aa88f64ba5fa>\u001b[0m in \u001b[0;36moverlap_merge_view_deg_neg\u001b[0;34m(year, k)\u001b[0m\n\u001b[1;32m     19\u001b[0m     \u001b[0mspread_dict\u001b[0m\u001b[0;34m[\u001b[0m\u001b[0mstr\u001b[0m\u001b[0;34m(\u001b[0m\u001b[0myear\u001b[0m\u001b[0;34m)\u001b[0m\u001b[0;34m]\u001b[0m\u001b[0;34m.\u001b[0m\u001b[0mtipping_model\u001b[0m\u001b[0;34m(\u001b[0m\u001b[0;34m)\u001b[0m\u001b[0;34m\u001b[0m\u001b[0;34m\u001b[0m\u001b[0m\n\u001b[1;32m     20\u001b[0m     \u001b[0mtipping_deg_neg\u001b[0m \u001b[0;34m=\u001b[0m \u001b[0mspread_dict\u001b[0m\u001b[0;34m[\u001b[0m\u001b[0mstr\u001b[0m\u001b[0;34m(\u001b[0m\u001b[0myear\u001b[0m\u001b[0;34m)\u001b[0m\u001b[0;34m]\u001b[0m\u001b[0;34m.\u001b[0m\u001b[0mget_influenced_nodes\u001b[0m\u001b[0;34m(\u001b[0m\u001b[0;34m)\u001b[0m\u001b[0;34m\u001b[0m\u001b[0;34m\u001b[0m\u001b[0m\n\u001b[0;32m---> 21\u001b[0;31m     \u001b[0mtopics_deg_neg\u001b[0m \u001b[0;34m=\u001b[0m \u001b[0moverlap_perform\u001b[0m\u001b[0;34m(\u001b[0m\u001b[0myear\u001b[0m\u001b[0;34m,\u001b[0m \u001b[0mtipping_deg_neg\u001b[0m\u001b[0;34m,\u001b[0m \u001b[0mk\u001b[0m\u001b[0;34m)\u001b[0m\u001b[0;34m\u001b[0m\u001b[0;34m\u001b[0m\u001b[0m\n\u001b[0m\u001b[1;32m     22\u001b[0m     \u001b[0mto_print\u001b[0m\u001b[0;34m(\u001b[0m\u001b[0mtopics_deg_neg\u001b[0m\u001b[0;34m,\u001b[0m \u001b[0;34m\"tipping\"\u001b[0m\u001b[0;34m,\u001b[0m \u001b[0mk\u001b[0m\u001b[0;34m,\u001b[0m \u001b[0;34m\"deg negative\"\u001b[0m\u001b[0;34m)\u001b[0m\u001b[0;34m\u001b[0m\u001b[0;34m\u001b[0m\u001b[0m\n",
      "\u001b[0;32m<ipython-input-5-60ae7201d3cc>\u001b[0m in \u001b[0;36moverlap_perform\u001b[0;34m(year, all_topics, k)\u001b[0m\n\u001b[1;32m      2\u001b[0m     \u001b[0moverlap\u001b[0m \u001b[0;34m=\u001b[0m \u001b[0mov\u001b[0m\u001b[0;34m.\u001b[0m\u001b[0mOverlapTopics\u001b[0m\u001b[0;34m(\u001b[0m\u001b[0mgraph_timeline_dict\u001b[0m\u001b[0;34m[\u001b[0m\u001b[0mstr\u001b[0m\u001b[0;34m(\u001b[0m\u001b[0myear\u001b[0m\u001b[0;34m)\u001b[0m\u001b[0;34m]\u001b[0m\u001b[0;34m,\u001b[0m \u001b[0mall_topics\u001b[0m\u001b[0;34m,\u001b[0m \u001b[0mk\u001b[0m\u001b[0;34m)\u001b[0m\u001b[0;34m\u001b[0m\u001b[0;34m\u001b[0m\u001b[0m\n\u001b[1;32m      3\u001b[0m     \u001b[0moverlap\u001b[0m\u001b[0;34m.\u001b[0m\u001b[0moverlap_preprocessing\u001b[0m\u001b[0;34m(\u001b[0m\u001b[0;34m)\u001b[0m\u001b[0;34m\u001b[0m\u001b[0;34m\u001b[0m\u001b[0m\n\u001b[0;32m----> 4\u001b[0;31m     \u001b[0moverlap\u001b[0m\u001b[0;34m.\u001b[0m\u001b[0mclique_percolation_method\u001b[0m\u001b[0;34m(\u001b[0m\u001b[0;34m)\u001b[0m\u001b[0;34m\u001b[0m\u001b[0;34m\u001b[0m\u001b[0m\n\u001b[0m\u001b[1;32m      5\u001b[0m     \u001b[0moverlap\u001b[0m\u001b[0;34m.\u001b[0m\u001b[0mcheck_spread_topics\u001b[0m\u001b[0;34m(\u001b[0m\u001b[0;34m)\u001b[0m\u001b[0;34m\u001b[0m\u001b[0;34m\u001b[0m\u001b[0m\n\u001b[1;32m      6\u001b[0m     \u001b[0moverlap\u001b[0m\u001b[0;34m.\u001b[0m\u001b[0mcheck_number_topics\u001b[0m\u001b[0;34m(\u001b[0m\u001b[0;34m)\u001b[0m\u001b[0;34m\u001b[0m\u001b[0;34m\u001b[0m\u001b[0m\n",
      "\u001b[0;32m~/Universita/magistrale/web_and_social_information_extraction/webandsocial-progetto/src/overlaps_topics/overlap_topics.py\u001b[0m in \u001b[0;36mclique_percolation_method\u001b[0;34m(self)\u001b[0m\n\u001b[1;32m    132\u001b[0m         \u001b[0mcommunities\u001b[0m \u001b[0;34m=\u001b[0m \u001b[0mk_clique_communities\u001b[0m\u001b[0;34m(\u001b[0m\u001b[0mG\u001b[0m \u001b[0;34m=\u001b[0m \u001b[0mself\u001b[0m\u001b[0;34m.\u001b[0m\u001b[0m__year_sub_graph\u001b[0m\u001b[0;34m,\u001b[0m \u001b[0mk\u001b[0m \u001b[0;34m=\u001b[0m \u001b[0;36m2\u001b[0m\u001b[0;34m)\u001b[0m\u001b[0;34m\u001b[0m\u001b[0;34m\u001b[0m\u001b[0m\n\u001b[1;32m    133\u001b[0m         \u001b[0;32mfor\u001b[0m \u001b[0mtopic\u001b[0m \u001b[0;32min\u001b[0m \u001b[0mcommunities\u001b[0m\u001b[0;34m:\u001b[0m\u001b[0;34m\u001b[0m\u001b[0;34m\u001b[0m\u001b[0m\n\u001b[0;32m--> 134\u001b[0;31m             \u001b[0mself\u001b[0m\u001b[0;34m.\u001b[0m\u001b[0mcheck_keywords\u001b[0m\u001b[0;34m(\u001b[0m\u001b[0mtopic\u001b[0m\u001b[0;34m)\u001b[0m\u001b[0;34m\u001b[0m\u001b[0;34m\u001b[0m\u001b[0m\n\u001b[0m\u001b[1;32m    135\u001b[0m             \u001b[0mself\u001b[0m\u001b[0;34m.\u001b[0m\u001b[0m__topics\u001b[0m\u001b[0;34m.\u001b[0m\u001b[0mappend\u001b[0m\u001b[0;34m(\u001b[0m\u001b[0mlist\u001b[0m\u001b[0;34m(\u001b[0m\u001b[0mtopic\u001b[0m\u001b[0;34m)\u001b[0m\u001b[0;34m)\u001b[0m\u001b[0;34m\u001b[0m\u001b[0;34m\u001b[0m\u001b[0m\n\u001b[1;32m    136\u001b[0m \u001b[0;34m\u001b[0m\u001b[0m\n",
      "\u001b[0;32m~/Universita/magistrale/web_and_social_information_extraction/webandsocial-progetto/src/overlaps_topics/overlap_topics.py\u001b[0m in \u001b[0;36mcheck_keywords\u001b[0;34m(self, topic)\u001b[0m\n\u001b[1;32m    119\u001b[0m \u001b[0;34m\u001b[0m\u001b[0m\n\u001b[1;32m    120\u001b[0m         \u001b[0;32mif\u001b[0m \u001b[0;32mnot\u001b[0m \u001b[0mregular\u001b[0m\u001b[0;34m:\u001b[0m\u001b[0;34m\u001b[0m\u001b[0;34m\u001b[0m\u001b[0m\n\u001b[0;32m--> 121\u001b[0;31m             \u001b[0;32mraise\u001b[0m \u001b[0mexcpt\u001b[0m\u001b[0;34m.\u001b[0m\u001b[0mTopicMalFormedException\u001b[0m\u001b[0;34m(\u001b[0m\u001b[0;34m\"Topic bad formed.\"\u001b[0m\u001b[0;34m)\u001b[0m\u001b[0;34m\u001b[0m\u001b[0;34m\u001b[0m\u001b[0m\n\u001b[0m\u001b[1;32m    122\u001b[0m \u001b[0;34m\u001b[0m\u001b[0m\n\u001b[1;32m    123\u001b[0m \u001b[0;34m\u001b[0m\u001b[0m\n",
      "\u001b[0;31mTopicMalFormedException\u001b[0m: Topic bad formed."
     ]
    }
   ],
   "source": [
    "overlap_merge_view_deg_neg(2012, k = 20)"
   ]
  },
  {
   "cell_type": "markdown",
   "metadata": {},
   "source": [
    "### Year 2013"
   ]
  },
  {
   "cell_type": "code",
   "execution_count": 163,
   "metadata": {},
   "outputs": [
    {
     "name": "stdout",
     "output_type": "stream",
     "text": [
      "OVERLAP MERGING RESULT WITH CLIQUE PERCOLATION METHOD, TIPPING MODEL, SEED TOP 20 NODES AND DEG THRESHOLD CALCULATION STRATEGY.\n",
      "\n",
      "['lukás burget', 'stefan kombrink', 'andriy mnih', 'geoffrey zweig', 'kai chen', 'richard socher', 'jan cernocký', 'wen-tau yih', 'peter d. turney', 'christopher d. manning', 'gregory s. corrado', 'tomas mikolov', 'jeffrey dean', 'yee whye teh', 'andrew y. ng']\n",
      "len_topic: 15\n",
      "\n",
      "['sampling - surgical action', 'convex optimization', 'artificial bee colony algorithm', 'vertex', 'complex networks', 'collocation method', 'numerical method', 'backhaul (telecommunications)', 'b-spline', 'spectral leakage', 'numerical analysis', 'lessons learned', 'data synchronization', 'neural network simulation', 'synchronization', 'convolutional neural network', 'duality gap', 'block cipher mode of operation', 'simulation', 'probability', 'word embedding', 'bernoulli polynomials', 'algebraic equation', 'knowledge base', 'taguchi methods', 'reinforcement learning', 'switches', 'cognitive radio', 'manufacturing', 'newton–cotes formulas', 'performance', \"jensen's inequality\", 'iteration', 'matrix regularization', 'coefficient', 'nonlinear system', 'stochastic process', 'sampling (signal processing)', 'synchronization (computer science)', 'lyapunov fractal', 'error analysis (mathematics)', 'neural networks', 'randomness', 'cell (microprocessor)', 'organizing (structure)', 'algorithm', 'navier–stokes equations', 'artificial neural network', 'stability', 'nearest neighbor classifier', 'throughput', 'experiment', 'q-learning', 'gauss–kronrod quadrature formula', 'optimization problem', 'biological neural networks', 'dynamic programming', 'recurrent neural network', 'particle swarm optimization', 'deep learning', 'stochastic processes', 'complex network', 'dropout (neural networks)', 'hybrid optimization', 'taguchi method', 'differential evolution', 'quintic function', 'benchmark (computing)', 'self-organization', 'linear matrix inequality', 'central processing unit', 'state estimation', 'mean squared error', 'text corpus', 'approximation algorithm', 'couplings', 'mathematical optimization', 'frank–wolfe algorithm', 'social inequality', 'interference (communication)', 'telecommunications link', 'machine learning', 'recurrent neural networks', 'programming paradigm']\n",
      "len_topic: 84\n",
      "\n",
      "['bayesian network', 'calculus of variations', 'variational principle', 'statistical model', 'boltzmann machine', 'greedy algorithm', 'topic model', 'dbm']\n",
      "len_topic: 8\n",
      "\n",
      "['objective optimisation problems', 'dynamic multi', 'objective optimisation', 'single solution does']\n",
      "len_topic: 4\n",
      "\n"
     ]
    }
   ],
   "source": [
    "overlap_merge_view_deg(2013, k = 20)"
   ]
  },
  {
   "cell_type": "code",
   "execution_count": 164,
   "metadata": {},
   "outputs": [
    {
     "ename": "TopicNotAllKeywordsUsedException",
     "evalue": "To perfom all topics not all keywords have been used.",
     "output_type": "error",
     "traceback": [
      "\u001b[0;31m---------------------------------------------------------------------------\u001b[0m",
      "\u001b[0;31mTopicNotAllKeywordsUsedException\u001b[0m          Traceback (most recent call last)",
      "\u001b[0;32m<ipython-input-164-b48876f7aada>\u001b[0m in \u001b[0;36m<module>\u001b[0;34m\u001b[0m\n\u001b[0;32m----> 1\u001b[0;31m \u001b[0moverlap_merge_view_half\u001b[0m\u001b[0;34m(\u001b[0m\u001b[0;36m2013\u001b[0m\u001b[0;34m,\u001b[0m \u001b[0mk\u001b[0m \u001b[0;34m=\u001b[0m \u001b[0;36m20\u001b[0m\u001b[0;34m)\u001b[0m\u001b[0;34m\u001b[0m\u001b[0;34m\u001b[0m\u001b[0m\n\u001b[0m",
      "\u001b[0;32m<ipython-input-6-aa88f64ba5fa>\u001b[0m in \u001b[0;36moverlap_merge_view_half\u001b[0;34m(year, k)\u001b[0m\n\u001b[1;32m     11\u001b[0m     \u001b[0mspread_dict\u001b[0m\u001b[0;34m[\u001b[0m\u001b[0mstr\u001b[0m\u001b[0;34m(\u001b[0m\u001b[0myear\u001b[0m\u001b[0;34m)\u001b[0m\u001b[0;34m]\u001b[0m\u001b[0;34m.\u001b[0m\u001b[0mtipping_model\u001b[0m\u001b[0;34m(\u001b[0m\u001b[0;34m)\u001b[0m\u001b[0;34m\u001b[0m\u001b[0;34m\u001b[0m\u001b[0m\n\u001b[1;32m     12\u001b[0m     \u001b[0mtipping_half\u001b[0m \u001b[0;34m=\u001b[0m \u001b[0mspread_dict\u001b[0m\u001b[0;34m[\u001b[0m\u001b[0mstr\u001b[0m\u001b[0;34m(\u001b[0m\u001b[0myear\u001b[0m\u001b[0;34m)\u001b[0m\u001b[0;34m]\u001b[0m\u001b[0;34m.\u001b[0m\u001b[0mget_influenced_nodes\u001b[0m\u001b[0;34m(\u001b[0m\u001b[0;34m)\u001b[0m\u001b[0;34m\u001b[0m\u001b[0;34m\u001b[0m\u001b[0m\n\u001b[0;32m---> 13\u001b[0;31m     \u001b[0mtopics_half\u001b[0m \u001b[0;34m=\u001b[0m \u001b[0moverlap_perform\u001b[0m\u001b[0;34m(\u001b[0m\u001b[0myear\u001b[0m\u001b[0;34m,\u001b[0m \u001b[0mtipping_half\u001b[0m\u001b[0;34m,\u001b[0m \u001b[0mk\u001b[0m\u001b[0;34m)\u001b[0m\u001b[0;34m\u001b[0m\u001b[0;34m\u001b[0m\u001b[0m\n\u001b[0m\u001b[1;32m     14\u001b[0m     \u001b[0mto_print\u001b[0m\u001b[0;34m(\u001b[0m\u001b[0mtopics_half\u001b[0m\u001b[0;34m,\u001b[0m \u001b[0;34m\"tipping\"\u001b[0m\u001b[0;34m,\u001b[0m \u001b[0mk\u001b[0m\u001b[0;34m,\u001b[0m \u001b[0;34m\"half\"\u001b[0m\u001b[0;34m)\u001b[0m\u001b[0;34m\u001b[0m\u001b[0;34m\u001b[0m\u001b[0m\n\u001b[1;32m     15\u001b[0m \u001b[0;34m\u001b[0m\u001b[0m\n",
      "\u001b[0;32m<ipython-input-5-60ae7201d3cc>\u001b[0m in \u001b[0;36moverlap_perform\u001b[0;34m(year, all_topics, k)\u001b[0m\n\u001b[1;32m      3\u001b[0m     \u001b[0moverlap\u001b[0m\u001b[0;34m.\u001b[0m\u001b[0moverlap_preprocessing\u001b[0m\u001b[0;34m(\u001b[0m\u001b[0;34m)\u001b[0m\u001b[0;34m\u001b[0m\u001b[0;34m\u001b[0m\u001b[0m\n\u001b[1;32m      4\u001b[0m     \u001b[0moverlap\u001b[0m\u001b[0;34m.\u001b[0m\u001b[0mclique_percolation_method\u001b[0m\u001b[0;34m(\u001b[0m\u001b[0;34m)\u001b[0m\u001b[0;34m\u001b[0m\u001b[0;34m\u001b[0m\u001b[0m\n\u001b[0;32m----> 5\u001b[0;31m     \u001b[0moverlap\u001b[0m\u001b[0;34m.\u001b[0m\u001b[0mcheck_spread_topics\u001b[0m\u001b[0;34m(\u001b[0m\u001b[0;34m)\u001b[0m\u001b[0;34m\u001b[0m\u001b[0;34m\u001b[0m\u001b[0m\n\u001b[0m\u001b[1;32m      6\u001b[0m     \u001b[0moverlap\u001b[0m\u001b[0;34m.\u001b[0m\u001b[0mcheck_number_topics\u001b[0m\u001b[0;34m(\u001b[0m\u001b[0;34m)\u001b[0m\u001b[0;34m\u001b[0m\u001b[0;34m\u001b[0m\u001b[0m\n\u001b[1;32m      7\u001b[0m     \u001b[0;32mreturn\u001b[0m \u001b[0moverlap\u001b[0m\u001b[0;34m.\u001b[0m\u001b[0mget_topics\u001b[0m\u001b[0;34m(\u001b[0m\u001b[0;34m)\u001b[0m\u001b[0;34m\u001b[0m\u001b[0;34m\u001b[0m\u001b[0m\n",
      "\u001b[0;32m~/Universita/magistrale/web_and_social_information_extraction/webandsocial-progetto/src/overlaps_topics/overlap_topics.py\u001b[0m in \u001b[0;36mcheck_spread_topics\u001b[0;34m(self)\u001b[0m\n\u001b[1;32m    156\u001b[0m \u001b[0;34m\u001b[0m\u001b[0m\n\u001b[1;32m    157\u001b[0m         \u001b[0;32mif\u001b[0m \u001b[0msize_iteration\u001b[0m \u001b[0;34m!=\u001b[0m \u001b[0msize_topics\u001b[0m\u001b[0;34m:\u001b[0m\u001b[0;34m\u001b[0m\u001b[0;34m\u001b[0m\u001b[0m\n\u001b[0;32m--> 158\u001b[0;31m             \u001b[0;32mraise\u001b[0m \u001b[0mexcpt\u001b[0m\u001b[0;34m.\u001b[0m\u001b[0mTopicNotAllKeywordsUsedException\u001b[0m\u001b[0;34m(\u001b[0m\u001b[0;34m\"To perfom all topics not all keywords have been used.\"\u001b[0m\u001b[0;34m)\u001b[0m\u001b[0;34m\u001b[0m\u001b[0;34m\u001b[0m\u001b[0m\n\u001b[0m\u001b[1;32m    159\u001b[0m \u001b[0;34m\u001b[0m\u001b[0m\n\u001b[1;32m    160\u001b[0m \u001b[0;34m\u001b[0m\u001b[0m\n",
      "\u001b[0;31mTopicNotAllKeywordsUsedException\u001b[0m: To perfom all topics not all keywords have been used."
     ]
    }
   ],
   "source": [
    "overlap_merge_view_half(2013, k = 20)"
   ]
  },
  {
   "cell_type": "code",
   "execution_count": 165,
   "metadata": {},
   "outputs": [
    {
     "ename": "TopicMalFormedException",
     "evalue": "Topic bad formed.",
     "output_type": "error",
     "traceback": [
      "\u001b[0;31m---------------------------------------------------------------------------\u001b[0m",
      "\u001b[0;31mTopicMalFormedException\u001b[0m                   Traceback (most recent call last)",
      "\u001b[0;32m<ipython-input-165-977463b61395>\u001b[0m in \u001b[0;36m<module>\u001b[0;34m\u001b[0m\n\u001b[0;32m----> 1\u001b[0;31m \u001b[0moverlap_merge_view_deg_neg\u001b[0m\u001b[0;34m(\u001b[0m\u001b[0;36m2013\u001b[0m\u001b[0;34m,\u001b[0m \u001b[0mk\u001b[0m \u001b[0;34m=\u001b[0m \u001b[0;36m20\u001b[0m\u001b[0;34m)\u001b[0m\u001b[0;34m\u001b[0m\u001b[0;34m\u001b[0m\u001b[0m\n\u001b[0m",
      "\u001b[0;32m<ipython-input-6-aa88f64ba5fa>\u001b[0m in \u001b[0;36moverlap_merge_view_deg_neg\u001b[0;34m(year, k)\u001b[0m\n\u001b[1;32m     19\u001b[0m     \u001b[0mspread_dict\u001b[0m\u001b[0;34m[\u001b[0m\u001b[0mstr\u001b[0m\u001b[0;34m(\u001b[0m\u001b[0myear\u001b[0m\u001b[0;34m)\u001b[0m\u001b[0;34m]\u001b[0m\u001b[0;34m.\u001b[0m\u001b[0mtipping_model\u001b[0m\u001b[0;34m(\u001b[0m\u001b[0;34m)\u001b[0m\u001b[0;34m\u001b[0m\u001b[0;34m\u001b[0m\u001b[0m\n\u001b[1;32m     20\u001b[0m     \u001b[0mtipping_deg_neg\u001b[0m \u001b[0;34m=\u001b[0m \u001b[0mspread_dict\u001b[0m\u001b[0;34m[\u001b[0m\u001b[0mstr\u001b[0m\u001b[0;34m(\u001b[0m\u001b[0myear\u001b[0m\u001b[0;34m)\u001b[0m\u001b[0;34m]\u001b[0m\u001b[0;34m.\u001b[0m\u001b[0mget_influenced_nodes\u001b[0m\u001b[0;34m(\u001b[0m\u001b[0;34m)\u001b[0m\u001b[0;34m\u001b[0m\u001b[0;34m\u001b[0m\u001b[0m\n\u001b[0;32m---> 21\u001b[0;31m     \u001b[0mtopics_deg_neg\u001b[0m \u001b[0;34m=\u001b[0m \u001b[0moverlap_perform\u001b[0m\u001b[0;34m(\u001b[0m\u001b[0myear\u001b[0m\u001b[0;34m,\u001b[0m \u001b[0mtipping_deg_neg\u001b[0m\u001b[0;34m,\u001b[0m \u001b[0mk\u001b[0m\u001b[0;34m)\u001b[0m\u001b[0;34m\u001b[0m\u001b[0;34m\u001b[0m\u001b[0m\n\u001b[0m\u001b[1;32m     22\u001b[0m     \u001b[0mto_print\u001b[0m\u001b[0;34m(\u001b[0m\u001b[0mtopics_deg_neg\u001b[0m\u001b[0;34m,\u001b[0m \u001b[0;34m\"tipping\"\u001b[0m\u001b[0;34m,\u001b[0m \u001b[0mk\u001b[0m\u001b[0;34m,\u001b[0m \u001b[0;34m\"deg negative\"\u001b[0m\u001b[0;34m)\u001b[0m\u001b[0;34m\u001b[0m\u001b[0;34m\u001b[0m\u001b[0m\n",
      "\u001b[0;32m<ipython-input-5-60ae7201d3cc>\u001b[0m in \u001b[0;36moverlap_perform\u001b[0;34m(year, all_topics, k)\u001b[0m\n\u001b[1;32m      2\u001b[0m     \u001b[0moverlap\u001b[0m \u001b[0;34m=\u001b[0m \u001b[0mov\u001b[0m\u001b[0;34m.\u001b[0m\u001b[0mOverlapTopics\u001b[0m\u001b[0;34m(\u001b[0m\u001b[0mgraph_timeline_dict\u001b[0m\u001b[0;34m[\u001b[0m\u001b[0mstr\u001b[0m\u001b[0;34m(\u001b[0m\u001b[0myear\u001b[0m\u001b[0;34m)\u001b[0m\u001b[0;34m]\u001b[0m\u001b[0;34m,\u001b[0m \u001b[0mall_topics\u001b[0m\u001b[0;34m,\u001b[0m \u001b[0mk\u001b[0m\u001b[0;34m)\u001b[0m\u001b[0;34m\u001b[0m\u001b[0;34m\u001b[0m\u001b[0m\n\u001b[1;32m      3\u001b[0m     \u001b[0moverlap\u001b[0m\u001b[0;34m.\u001b[0m\u001b[0moverlap_preprocessing\u001b[0m\u001b[0;34m(\u001b[0m\u001b[0;34m)\u001b[0m\u001b[0;34m\u001b[0m\u001b[0;34m\u001b[0m\u001b[0m\n\u001b[0;32m----> 4\u001b[0;31m     \u001b[0moverlap\u001b[0m\u001b[0;34m.\u001b[0m\u001b[0mclique_percolation_method\u001b[0m\u001b[0;34m(\u001b[0m\u001b[0;34m)\u001b[0m\u001b[0;34m\u001b[0m\u001b[0;34m\u001b[0m\u001b[0m\n\u001b[0m\u001b[1;32m      5\u001b[0m     \u001b[0moverlap\u001b[0m\u001b[0;34m.\u001b[0m\u001b[0mcheck_spread_topics\u001b[0m\u001b[0;34m(\u001b[0m\u001b[0;34m)\u001b[0m\u001b[0;34m\u001b[0m\u001b[0;34m\u001b[0m\u001b[0m\n\u001b[1;32m      6\u001b[0m     \u001b[0moverlap\u001b[0m\u001b[0;34m.\u001b[0m\u001b[0mcheck_number_topics\u001b[0m\u001b[0;34m(\u001b[0m\u001b[0;34m)\u001b[0m\u001b[0;34m\u001b[0m\u001b[0;34m\u001b[0m\u001b[0m\n",
      "\u001b[0;32m~/Universita/magistrale/web_and_social_information_extraction/webandsocial-progetto/src/overlaps_topics/overlap_topics.py\u001b[0m in \u001b[0;36mclique_percolation_method\u001b[0;34m(self)\u001b[0m\n\u001b[1;32m    132\u001b[0m         \u001b[0mcommunities\u001b[0m \u001b[0;34m=\u001b[0m \u001b[0mk_clique_communities\u001b[0m\u001b[0;34m(\u001b[0m\u001b[0mG\u001b[0m \u001b[0;34m=\u001b[0m \u001b[0mself\u001b[0m\u001b[0;34m.\u001b[0m\u001b[0m__year_sub_graph\u001b[0m\u001b[0;34m,\u001b[0m \u001b[0mk\u001b[0m \u001b[0;34m=\u001b[0m \u001b[0;36m2\u001b[0m\u001b[0;34m)\u001b[0m\u001b[0;34m\u001b[0m\u001b[0;34m\u001b[0m\u001b[0m\n\u001b[1;32m    133\u001b[0m         \u001b[0;32mfor\u001b[0m \u001b[0mtopic\u001b[0m \u001b[0;32min\u001b[0m \u001b[0mcommunities\u001b[0m\u001b[0;34m:\u001b[0m\u001b[0;34m\u001b[0m\u001b[0;34m\u001b[0m\u001b[0m\n\u001b[0;32m--> 134\u001b[0;31m             \u001b[0mself\u001b[0m\u001b[0;34m.\u001b[0m\u001b[0mcheck_keywords\u001b[0m\u001b[0;34m(\u001b[0m\u001b[0mtopic\u001b[0m\u001b[0;34m)\u001b[0m\u001b[0;34m\u001b[0m\u001b[0;34m\u001b[0m\u001b[0m\n\u001b[0m\u001b[1;32m    135\u001b[0m             \u001b[0mself\u001b[0m\u001b[0;34m.\u001b[0m\u001b[0m__topics\u001b[0m\u001b[0;34m.\u001b[0m\u001b[0mappend\u001b[0m\u001b[0;34m(\u001b[0m\u001b[0mlist\u001b[0m\u001b[0;34m(\u001b[0m\u001b[0mtopic\u001b[0m\u001b[0;34m)\u001b[0m\u001b[0;34m)\u001b[0m\u001b[0;34m\u001b[0m\u001b[0;34m\u001b[0m\u001b[0m\n\u001b[1;32m    136\u001b[0m \u001b[0;34m\u001b[0m\u001b[0m\n",
      "\u001b[0;32m~/Universita/magistrale/web_and_social_information_extraction/webandsocial-progetto/src/overlaps_topics/overlap_topics.py\u001b[0m in \u001b[0;36mcheck_keywords\u001b[0;34m(self, topic)\u001b[0m\n\u001b[1;32m    119\u001b[0m \u001b[0;34m\u001b[0m\u001b[0m\n\u001b[1;32m    120\u001b[0m         \u001b[0;32mif\u001b[0m \u001b[0;32mnot\u001b[0m \u001b[0mregular\u001b[0m\u001b[0;34m:\u001b[0m\u001b[0;34m\u001b[0m\u001b[0;34m\u001b[0m\u001b[0m\n\u001b[0;32m--> 121\u001b[0;31m             \u001b[0;32mraise\u001b[0m \u001b[0mexcpt\u001b[0m\u001b[0;34m.\u001b[0m\u001b[0mTopicMalFormedException\u001b[0m\u001b[0;34m(\u001b[0m\u001b[0;34m\"Topic bad formed.\"\u001b[0m\u001b[0;34m)\u001b[0m\u001b[0;34m\u001b[0m\u001b[0;34m\u001b[0m\u001b[0m\n\u001b[0m\u001b[1;32m    122\u001b[0m \u001b[0;34m\u001b[0m\u001b[0m\n\u001b[1;32m    123\u001b[0m \u001b[0;34m\u001b[0m\u001b[0m\n",
      "\u001b[0;31mTopicMalFormedException\u001b[0m: Topic bad formed."
     ]
    }
   ],
   "source": [
    "overlap_merge_view_deg_neg(2013, k = 20)"
   ]
  },
  {
   "cell_type": "markdown",
   "metadata": {},
   "source": [
    "### Year 2014"
   ]
  },
  {
   "cell_type": "code",
   "execution_count": 166,
   "metadata": {},
   "outputs": [
    {
     "name": "stdout",
     "output_type": "stream",
     "text": [
      "OVERLAP MERGING RESULT WITH CLIQUE PERCOLATION METHOD, TIPPING MODEL, SEED TOP 20 NODES AND DEG THRESHOLD CALCULATION STRATEGY.\n",
      "\n",
      "['metaheuristic', 'particle swarm optimization (pso)', 'sampling - surgical action', 'statistical machine translation', 'calculus of variations', 'exponential', 'usb on-the-go', 'in-place algorithm', 'mimo-ofdm', 'n-gram', 'jacobi method', 'convex optimization', 'navdeep jaitly', 'baseline (configuration management)', 'ilya sutskever', 'phil blunsom', 'partition function (mathematics)', 'markov decision process', 'deep learning papers review at neurotechnology: attention mechanisms neurotechnology mar 15 2017', 'iterative method', 'john makhoul', 'fuzzy control system', 'pixel', 'abdel-rahman mohamed', 'autoencoder', 'state space', 'cuckoo search', 'constrained optimization', 'mathematical induction', 'time complexity', 'matthew d. zeiler', 'numerical analysis', 'point of view (computer hardware company)', 'nicolas boulanger-lewandowski', 'computers', 'metaheuristic search (ms)', 'neural network simulation', 'language model', 'convolutional neural network', 'alex graves', 'quoc v. le', 'simulation', 'word embedding', 'reinforcement learning', 'krill herd (kh)\\xa0', 'neural network software', 'bag-of-words model', 'cognitive radio', 'topology', 'cuckoo search\\xa0', 'http public key pinning', 'neural machine translation', 'scalability', 'generative model', 'nal kalchbrenner', 'iteration', 'yang liu', 'ant colony optimization algorithms', 'neural network', 'noise reduction', 'coefficient', 'alex krizhevsky', 'nonlinear system', 'richard m. schwartz', 'constraint algorithm', 'sampling (signal processing)', 'data stream mining', 'kyunghyun cho', 'mimo', 'multimodal interaction', 'lyapunov fractal', 'fault tolerance', 'neural networks', 'global optimization problem\\xa0', 'computation', 'x.690', 'control theory', 'algorithm', 'imagenet', 'shadowing (histology)', 'artificial neural network', 'quality of service', 'fuzzy logic', 'feature selection', 'neighborhood search (ns) operator', 'bellman equation', 'hamilton–jacobi–bellman equation', 'periodic solution', 'throughput', 'experiment', 'genetic algorithm', 'optimization problem', 'bil herd', 'mathematical model', 'analytical models', 'biological neural networks', 'dynamic programming', 'activation function', 'formal system', 'computer vision', 'rayleigh fading', 'finite-time stabilization', 'optimal control', 'recursive neural network', 'jacob devlin', 'deep learning', 'recurrent neural network', 'random neural network', 'particle swarm optimization', 'machine learning', 'global optimization', 'mathematics', 'computer performance', 'freebase', 'geoffrey e. hinton', 'premature convergence', 'complex network', 'bit error rate', 'information retrieval', 'knowledge graph', 'uncertainty', 'rate of convergence', 'evolutionary algorithm', 'heuristic', 'stochastic gradient descent', 'benchmark (computing)', 'linear matrix inequality', 'yoshua bengio', 'zhongqiang huang', 'oriol vinyals', 'mean squared error', 'electronic mail', 'skip list', 'encoder', 'approximation algorithm', 'xiang zhang', 'velocity (software development)', 'transmitter', 'mathematical optimization', 'yang', 'multitier architecture', 'lyapunov–krasovskii functional', 'entity', 'social inequality', 'interference (communication)', 'search algorithm', 'bart van merrienboer', 'feasible region']\n",
      "len_topic: 148\n",
      "\n"
     ]
    }
   ],
   "source": [
    "overlap_merge_view_deg(2014, k = 20)"
   ]
  },
  {
   "cell_type": "code",
   "execution_count": 167,
   "metadata": {},
   "outputs": [
    {
     "name": "stdout",
     "output_type": "stream",
     "text": [
      "OVERLAP MERGING RESULT WITH CLIQUE PERCOLATION METHOD, TIPPING MODEL, SEED TOP 20 NODES AND HALF THRESHOLD CALCULATION STRATEGY.\n",
      "\n",
      "['lyapunov fractal', 'neural networks', 'fault tolerance', 'sampling - surgical action', 'statistical machine translation', 'global optimization problem\\xa0', 'exponential', 'algorithm', 'usb on-the-go', 'imagenet', 'artificial neural network', 'feature selection', 'jacobi method', 'control theory', 'in-place algorithm', 'bellman equation', 'fuzzy logic', 'ilya sutskever', 'hamilton–jacobi–bellman equation', 'markov decision process', 'iterative method', 'periodic solution', 'john makhoul', 'experiment', 'mathematical model', 'optimization problem', 'biological neural networks', 'genetic algorithm', 'bil herd', 'dynamic programming', 'fuzzy control system', 'activation function', 'computer vision', 'formal system', 'finite-time stabilization', 'optimal control', 'jacob devlin', 'state space', 'random neural network', 'time complexity', 'matthew d. zeiler', 'numerical analysis', 'computer performance', 'nicolas boulanger-lewandowski', 'global optimization', 'complex network', 'information retrieval', 'neural network simulation', 'deep learning', 'stochastic gradient descent', 'heuristic', 'linear matrix inequality', 'simulation', 'zhongqiang huang', 'reinforcement learning', 'krill herd (kh)\\xa0', 'neural network software', 'encoder', 'approximation algorithm', 'mathematical optimization', 'iteration', 'yang liu', 'ant colony optimization algorithms', 'lyapunov–krasovskii functional', 'neural network', 'social inequality', 'richard m. schwartz', 'nonlinear system', 'machine learning', 'data stream mining', 'kyunghyun cho']\n",
      "len_topic: 71\n",
      "\n"
     ]
    }
   ],
   "source": [
    "overlap_merge_view_half(2014, k = 20)"
   ]
  },
  {
   "cell_type": "code",
   "execution_count": 168,
   "metadata": {},
   "outputs": [
    {
     "ename": "TopicMalFormedException",
     "evalue": "Topic bad formed.",
     "output_type": "error",
     "traceback": [
      "\u001b[0;31m---------------------------------------------------------------------------\u001b[0m",
      "\u001b[0;31mTopicMalFormedException\u001b[0m                   Traceback (most recent call last)",
      "\u001b[0;32m<ipython-input-168-eda9d40077ca>\u001b[0m in \u001b[0;36m<module>\u001b[0;34m\u001b[0m\n\u001b[0;32m----> 1\u001b[0;31m \u001b[0moverlap_merge_view_deg_neg\u001b[0m\u001b[0;34m(\u001b[0m\u001b[0;36m2014\u001b[0m\u001b[0;34m,\u001b[0m \u001b[0mk\u001b[0m \u001b[0;34m=\u001b[0m \u001b[0;36m20\u001b[0m\u001b[0;34m)\u001b[0m\u001b[0;34m\u001b[0m\u001b[0;34m\u001b[0m\u001b[0m\n\u001b[0m",
      "\u001b[0;32m<ipython-input-6-aa88f64ba5fa>\u001b[0m in \u001b[0;36moverlap_merge_view_deg_neg\u001b[0;34m(year, k)\u001b[0m\n\u001b[1;32m     19\u001b[0m     \u001b[0mspread_dict\u001b[0m\u001b[0;34m[\u001b[0m\u001b[0mstr\u001b[0m\u001b[0;34m(\u001b[0m\u001b[0myear\u001b[0m\u001b[0;34m)\u001b[0m\u001b[0;34m]\u001b[0m\u001b[0;34m.\u001b[0m\u001b[0mtipping_model\u001b[0m\u001b[0;34m(\u001b[0m\u001b[0;34m)\u001b[0m\u001b[0;34m\u001b[0m\u001b[0;34m\u001b[0m\u001b[0m\n\u001b[1;32m     20\u001b[0m     \u001b[0mtipping_deg_neg\u001b[0m \u001b[0;34m=\u001b[0m \u001b[0mspread_dict\u001b[0m\u001b[0;34m[\u001b[0m\u001b[0mstr\u001b[0m\u001b[0;34m(\u001b[0m\u001b[0myear\u001b[0m\u001b[0;34m)\u001b[0m\u001b[0;34m]\u001b[0m\u001b[0;34m.\u001b[0m\u001b[0mget_influenced_nodes\u001b[0m\u001b[0;34m(\u001b[0m\u001b[0;34m)\u001b[0m\u001b[0;34m\u001b[0m\u001b[0;34m\u001b[0m\u001b[0m\n\u001b[0;32m---> 21\u001b[0;31m     \u001b[0mtopics_deg_neg\u001b[0m \u001b[0;34m=\u001b[0m \u001b[0moverlap_perform\u001b[0m\u001b[0;34m(\u001b[0m\u001b[0myear\u001b[0m\u001b[0;34m,\u001b[0m \u001b[0mtipping_deg_neg\u001b[0m\u001b[0;34m,\u001b[0m \u001b[0mk\u001b[0m\u001b[0;34m)\u001b[0m\u001b[0;34m\u001b[0m\u001b[0;34m\u001b[0m\u001b[0m\n\u001b[0m\u001b[1;32m     22\u001b[0m     \u001b[0mto_print\u001b[0m\u001b[0;34m(\u001b[0m\u001b[0mtopics_deg_neg\u001b[0m\u001b[0;34m,\u001b[0m \u001b[0;34m\"tipping\"\u001b[0m\u001b[0;34m,\u001b[0m \u001b[0mk\u001b[0m\u001b[0;34m,\u001b[0m \u001b[0;34m\"deg negative\"\u001b[0m\u001b[0;34m)\u001b[0m\u001b[0;34m\u001b[0m\u001b[0;34m\u001b[0m\u001b[0m\n",
      "\u001b[0;32m<ipython-input-5-60ae7201d3cc>\u001b[0m in \u001b[0;36moverlap_perform\u001b[0;34m(year, all_topics, k)\u001b[0m\n\u001b[1;32m      2\u001b[0m     \u001b[0moverlap\u001b[0m \u001b[0;34m=\u001b[0m \u001b[0mov\u001b[0m\u001b[0;34m.\u001b[0m\u001b[0mOverlapTopics\u001b[0m\u001b[0;34m(\u001b[0m\u001b[0mgraph_timeline_dict\u001b[0m\u001b[0;34m[\u001b[0m\u001b[0mstr\u001b[0m\u001b[0;34m(\u001b[0m\u001b[0myear\u001b[0m\u001b[0;34m)\u001b[0m\u001b[0;34m]\u001b[0m\u001b[0;34m,\u001b[0m \u001b[0mall_topics\u001b[0m\u001b[0;34m,\u001b[0m \u001b[0mk\u001b[0m\u001b[0;34m)\u001b[0m\u001b[0;34m\u001b[0m\u001b[0;34m\u001b[0m\u001b[0m\n\u001b[1;32m      3\u001b[0m     \u001b[0moverlap\u001b[0m\u001b[0;34m.\u001b[0m\u001b[0moverlap_preprocessing\u001b[0m\u001b[0;34m(\u001b[0m\u001b[0;34m)\u001b[0m\u001b[0;34m\u001b[0m\u001b[0;34m\u001b[0m\u001b[0m\n\u001b[0;32m----> 4\u001b[0;31m     \u001b[0moverlap\u001b[0m\u001b[0;34m.\u001b[0m\u001b[0mclique_percolation_method\u001b[0m\u001b[0;34m(\u001b[0m\u001b[0;34m)\u001b[0m\u001b[0;34m\u001b[0m\u001b[0;34m\u001b[0m\u001b[0m\n\u001b[0m\u001b[1;32m      5\u001b[0m     \u001b[0moverlap\u001b[0m\u001b[0;34m.\u001b[0m\u001b[0mcheck_spread_topics\u001b[0m\u001b[0;34m(\u001b[0m\u001b[0;34m)\u001b[0m\u001b[0;34m\u001b[0m\u001b[0;34m\u001b[0m\u001b[0m\n\u001b[1;32m      6\u001b[0m     \u001b[0moverlap\u001b[0m\u001b[0;34m.\u001b[0m\u001b[0mcheck_number_topics\u001b[0m\u001b[0;34m(\u001b[0m\u001b[0;34m)\u001b[0m\u001b[0;34m\u001b[0m\u001b[0;34m\u001b[0m\u001b[0m\n",
      "\u001b[0;32m~/Universita/magistrale/web_and_social_information_extraction/webandsocial-progetto/src/overlaps_topics/overlap_topics.py\u001b[0m in \u001b[0;36mclique_percolation_method\u001b[0;34m(self)\u001b[0m\n\u001b[1;32m    132\u001b[0m         \u001b[0mcommunities\u001b[0m \u001b[0;34m=\u001b[0m \u001b[0mk_clique_communities\u001b[0m\u001b[0;34m(\u001b[0m\u001b[0mG\u001b[0m \u001b[0;34m=\u001b[0m \u001b[0mself\u001b[0m\u001b[0;34m.\u001b[0m\u001b[0m__year_sub_graph\u001b[0m\u001b[0;34m,\u001b[0m \u001b[0mk\u001b[0m \u001b[0;34m=\u001b[0m \u001b[0;36m2\u001b[0m\u001b[0;34m)\u001b[0m\u001b[0;34m\u001b[0m\u001b[0;34m\u001b[0m\u001b[0m\n\u001b[1;32m    133\u001b[0m         \u001b[0;32mfor\u001b[0m \u001b[0mtopic\u001b[0m \u001b[0;32min\u001b[0m \u001b[0mcommunities\u001b[0m\u001b[0;34m:\u001b[0m\u001b[0;34m\u001b[0m\u001b[0;34m\u001b[0m\u001b[0m\n\u001b[0;32m--> 134\u001b[0;31m             \u001b[0mself\u001b[0m\u001b[0;34m.\u001b[0m\u001b[0mcheck_keywords\u001b[0m\u001b[0;34m(\u001b[0m\u001b[0mtopic\u001b[0m\u001b[0;34m)\u001b[0m\u001b[0;34m\u001b[0m\u001b[0;34m\u001b[0m\u001b[0m\n\u001b[0m\u001b[1;32m    135\u001b[0m             \u001b[0mself\u001b[0m\u001b[0;34m.\u001b[0m\u001b[0m__topics\u001b[0m\u001b[0;34m.\u001b[0m\u001b[0mappend\u001b[0m\u001b[0;34m(\u001b[0m\u001b[0mlist\u001b[0m\u001b[0;34m(\u001b[0m\u001b[0mtopic\u001b[0m\u001b[0;34m)\u001b[0m\u001b[0;34m)\u001b[0m\u001b[0;34m\u001b[0m\u001b[0;34m\u001b[0m\u001b[0m\n\u001b[1;32m    136\u001b[0m \u001b[0;34m\u001b[0m\u001b[0m\n",
      "\u001b[0;32m~/Universita/magistrale/web_and_social_information_extraction/webandsocial-progetto/src/overlaps_topics/overlap_topics.py\u001b[0m in \u001b[0;36mcheck_keywords\u001b[0;34m(self, topic)\u001b[0m\n\u001b[1;32m    119\u001b[0m \u001b[0;34m\u001b[0m\u001b[0m\n\u001b[1;32m    120\u001b[0m         \u001b[0;32mif\u001b[0m \u001b[0;32mnot\u001b[0m \u001b[0mregular\u001b[0m\u001b[0;34m:\u001b[0m\u001b[0;34m\u001b[0m\u001b[0;34m\u001b[0m\u001b[0m\n\u001b[0;32m--> 121\u001b[0;31m             \u001b[0;32mraise\u001b[0m \u001b[0mexcpt\u001b[0m\u001b[0;34m.\u001b[0m\u001b[0mTopicMalFormedException\u001b[0m\u001b[0;34m(\u001b[0m\u001b[0;34m\"Topic bad formed.\"\u001b[0m\u001b[0;34m)\u001b[0m\u001b[0;34m\u001b[0m\u001b[0;34m\u001b[0m\u001b[0m\n\u001b[0m\u001b[1;32m    122\u001b[0m \u001b[0;34m\u001b[0m\u001b[0m\n\u001b[1;32m    123\u001b[0m \u001b[0;34m\u001b[0m\u001b[0m\n",
      "\u001b[0;31mTopicMalFormedException\u001b[0m: Topic bad formed."
     ]
    }
   ],
   "source": [
    "overlap_merge_view_deg_neg(2014, k = 20)"
   ]
  },
  {
   "cell_type": "markdown",
   "metadata": {},
   "source": [
    "### Year 2015"
   ]
  },
  {
   "cell_type": "code",
   "execution_count": 169,
   "metadata": {},
   "outputs": [
    {
     "name": "stdout",
     "output_type": "stream",
     "text": [
      "OVERLAP MERGING RESULT WITH CLIQUE PERCOLATION METHOD, TIPPING MODEL, SEED TOP 20 NODES AND DEG THRESHOLD CALCULATION STRATEGY.\n",
      "\n",
      "['categorization', 'interval time-varying delay', 'artificial bee colony algorithm', 'hypersonic flight vehicle\\xa0', 'firefly algorithm', 'memristor-based neural networks', 'map', 'wavelet analysis', 'continuous optimization', 'convex function', 'artificial bee colony', 'input-output linearization\\xa0', 'elm', 'tom erez', 'extract features', 'autoencoder', 'pattern recognition', 'numerical analysis', 'spectral efficiency', 'resonance', 'extreme learning machine\\xa0', 'autonomous robot', 'neural network simulation', 'language model', 'convolutional neural network', 'crucially importance', 'anatomy regional', 'novel automatic classification', 'principal component analysis', 'compaq lte', 'acoustic cryptanalysis', 'stabilization', 'embedded systems', 'linearizing at the trim state\\xa0', 'multi-agent system', 'loss function', 'unit commitment', 'radial (radio)', 'observers', 'http public key pinning', 'performance', 'distinguish abnormal brains', 'tbr ??\\xa0', 'novelty detection', 'alex krizhevsky', 'fractional-order', 'magnetic resonance imaging', 'linear matrix inequality (lmi)', 'remaining connections', 'synchronization (computer science)', 'imagenet dataset', 'emd empirical mode decomposition', 'bt bayesian theory', 'lyapunov fractal', 'control theory', 'imagenet', 'algorithm', 'maxima and minima', 'artificial neural network', 'support vector machine', 'satinder p. singh', '????\\xa0', 'parsing', 'social network\\xa0', '82301', 'tcp global synchronization', 'output feedback', 'statistical classification', 'formal system', 'computer vision', 'correctness (computer science)', 'recurrent neural network', 'decision tree learning', 'weibull distribution function', 'feature representation\\xa0', 'geoffrey e. hinton', 'online and offline', 'feature learning', 'optimization', 'ga genetic algorithm', 'computer simulation', 'mr brain images', 'linear matrix inequality', '???????\\xa0', 'feedforward neural network', 'non-minimum phase\\xa0', 'approximation algorithm', 'approximation', 'mathematical optimization', 'robot', 'social inequality', 'interference (communication)', '70201', 'machine learning', 'link prediction\\xa0', 'convex optimization', 'large-scale computing\\xa0', 'speech recognition', 'unsupervised learning', 'controllers', 'computer assisted diagnosis', 'ilya sutskever', 'theory', 'system dynamics', 'pca principal component analysis', 'unscented kalman filter', 'doina precup', 'fuzzy control system', 'structural break modeling', 'real-time transcription', 'cluster analysis', 'constrained optimization', 'normal brains', 'interference management\\xa0', 'time complexity', 'nonlinear systems', 'emanuel todorov', 'supervised learning', 'synchronization', 'memristor', 'adaptive algorithm', '20301', 'block cipher mode of operation', 'simulation', 'well-posed problem', 'feedback', 'aided diagnosis', 'reinforcement learning', 'arima auto regressive integrated moving average', 'noise reduction', 'iteration', 'document classification', 'interaction', 'learning disorders', 'nonlinear system', 'database', 'riemann–liouville', 'cellular multicast\\xa0', 'long short-term memory', 'channel capacity', 'ar auto regressive', 'neural networks', 'bayesian optimization', 'filter bank', 'power semiconductor device', 'fuzzy logic', 'stability', 'christian szegedy', 'bellman equation', 'cross reactions', 'hamilton–jacobi–bellman equation', 'network topology', 'experiment', 'throughput', 'honglak lee', 'optimization problem', 'genetic algorithm', 'swarm intelligence', 'back-stepping\\xa0', 'activation function', 'mri scanning', 'accurate classification', 'dynamic programming', 'learning model\\xa0', 'adaptive systems', '?????\\xa0', '??????\\xa0', 'dynamic network\\xa0', 'trust region', 'increment', 'converge', 'optimal control', 'fine tune', 'memory intensive making', 'particle swarm optimization', 'global optimization', 'deep learning', '???\\xa0', 'prediction', 'sergey levine', 'low-power broadcasting', 'similarity metric\\xa0', 'sparse matrix', 'd2d communication\\xa0', 'stochastic gradient descent', 'benchmark (computing)', '11101', 'auto regressive integrated moving average', 'yuval tassa', 'control system', 'power control\\xa0', 'encoder', 'coexist (image)', 'medical analysis', 'markov chain', 'artificial intelligence', 'signal processing', 'computationally intensive', 'empirical mode decomposition']\n",
      "len_topic: 199\n",
      "\n"
     ]
    }
   ],
   "source": [
    "overlap_merge_view_deg(2015, k = 20)"
   ]
  },
  {
   "cell_type": "code",
   "execution_count": 170,
   "metadata": {},
   "outputs": [
    {
     "name": "stdout",
     "output_type": "stream",
     "text": [
      "OVERLAP MERGING RESULT WITH CLIQUE PERCOLATION METHOD, TIPPING MODEL, SEED TOP 20 NODES AND HALF THRESHOLD CALCULATION STRATEGY.\n",
      "\n",
      "['link prediction\\xa0', 'categorization', 'convex optimization', 'interval time-varying delay', 'artificial bee colony algorithm', 'large-scale computing\\xa0', 'hypersonic flight vehicle\\xa0', 'speech recognition', 'firefly algorithm', 'memristor-based neural networks', 'controllers', 'map', 'theory', 'system dynamics', 'continuous optimization', 'convex function', 'artificial bee colony', 'input-output linearization\\xa0', 'elm', 'fuzzy control system', 'real-time transcription', 'pattern recognition', 'cluster analysis', 'constrained optimization', 'time complexity', 'nonlinear systems', 'numerical analysis', 'spectral efficiency', 'supervised learning', 'resonance', 'extreme learning machine\\xa0', 'neural network simulation', 'synchronization', 'convolutional neural network', 'memristor', 'language model', 'anatomy regional', 'stabilization', 'adaptive algorithm', '20301', 'block cipher mode of operation', 'simulation', 'linearizing at the trim state\\xa0', 'feedback', 'well-posed problem', 'reinforcement learning', 'loss function', 'unit commitment', 'observers', 'http public key pinning', 'iteration', 'document classification', 'interaction', 'learning disorders', 'linear matrix inequality (lmi)', 'nonlinear system', 'synchronization (computer science)', 'lyapunov fractal', 'neural networks', 'control theory', 'algorithm', 'maxima and minima', 'bayesian optimization', 'artificial neural network', 'filter bank', 'support vector machine', 'fuzzy logic', '????\\xa0', 'bellman equation', 'hamilton–jacobi–bellman equation', 'network topology', 'experiment', 'social network\\xa0', 'throughput', 'genetic algorithm', 'optimization problem', 'tcp global synchronization', 'swarm intelligence', 'back-stepping\\xa0', 'dynamic programming', 'activation function', 'adaptive systems', 'statistical classification', 'formal system', 'learning model\\xa0', '?????\\xa0', 'dynamic network\\xa0', 'computer vision', 'correctness (computer science)', 'output feedback', 'increment', 'converge', 'optimal control', 'decision tree learning', 'deep learning', 'feature representation\\xa0', 'online and offline', '???\\xa0', 'prediction', 'feature learning', 'similarity metric\\xa0', 'optimization', 'sparse matrix', 'computer simulation', 'benchmark (computing)', 'stochastic gradient descent', 'linear matrix inequality', '11101', '???????\\xa0', 'control system', 'feedforward neural network', 'non-minimum phase\\xa0', 'approximation algorithm', 'approximation', 'markov chain', 'artificial intelligence', 'mathematical optimization', 'social inequality', 'signal processing', '70201', 'machine learning']\n",
      "len_topic: 121\n",
      "\n",
      "['mri scanning', 'normal brains', 'distinguish abnormal brains', 'aided diagnosis']\n",
      "len_topic: 4\n",
      "\n"
     ]
    }
   ],
   "source": [
    "overlap_merge_view_half(2015, k = 20)"
   ]
  },
  {
   "cell_type": "code",
   "execution_count": 171,
   "metadata": {},
   "outputs": [
    {
     "ename": "TopicMalFormedException",
     "evalue": "Topic bad formed.",
     "output_type": "error",
     "traceback": [
      "\u001b[0;31m---------------------------------------------------------------------------\u001b[0m",
      "\u001b[0;31mTopicMalFormedException\u001b[0m                   Traceback (most recent call last)",
      "\u001b[0;32m<ipython-input-171-6cca5a20d667>\u001b[0m in \u001b[0;36m<module>\u001b[0;34m\u001b[0m\n\u001b[0;32m----> 1\u001b[0;31m \u001b[0moverlap_merge_view_deg_neg\u001b[0m\u001b[0;34m(\u001b[0m\u001b[0;36m2015\u001b[0m\u001b[0;34m,\u001b[0m \u001b[0mk\u001b[0m \u001b[0;34m=\u001b[0m \u001b[0;36m20\u001b[0m\u001b[0;34m)\u001b[0m\u001b[0;34m\u001b[0m\u001b[0;34m\u001b[0m\u001b[0m\n\u001b[0m",
      "\u001b[0;32m<ipython-input-6-aa88f64ba5fa>\u001b[0m in \u001b[0;36moverlap_merge_view_deg_neg\u001b[0;34m(year, k)\u001b[0m\n\u001b[1;32m     19\u001b[0m     \u001b[0mspread_dict\u001b[0m\u001b[0;34m[\u001b[0m\u001b[0mstr\u001b[0m\u001b[0;34m(\u001b[0m\u001b[0myear\u001b[0m\u001b[0;34m)\u001b[0m\u001b[0;34m]\u001b[0m\u001b[0;34m.\u001b[0m\u001b[0mtipping_model\u001b[0m\u001b[0;34m(\u001b[0m\u001b[0;34m)\u001b[0m\u001b[0;34m\u001b[0m\u001b[0;34m\u001b[0m\u001b[0m\n\u001b[1;32m     20\u001b[0m     \u001b[0mtipping_deg_neg\u001b[0m \u001b[0;34m=\u001b[0m \u001b[0mspread_dict\u001b[0m\u001b[0;34m[\u001b[0m\u001b[0mstr\u001b[0m\u001b[0;34m(\u001b[0m\u001b[0myear\u001b[0m\u001b[0;34m)\u001b[0m\u001b[0;34m]\u001b[0m\u001b[0;34m.\u001b[0m\u001b[0mget_influenced_nodes\u001b[0m\u001b[0;34m(\u001b[0m\u001b[0;34m)\u001b[0m\u001b[0;34m\u001b[0m\u001b[0;34m\u001b[0m\u001b[0m\n\u001b[0;32m---> 21\u001b[0;31m     \u001b[0mtopics_deg_neg\u001b[0m \u001b[0;34m=\u001b[0m \u001b[0moverlap_perform\u001b[0m\u001b[0;34m(\u001b[0m\u001b[0myear\u001b[0m\u001b[0;34m,\u001b[0m \u001b[0mtipping_deg_neg\u001b[0m\u001b[0;34m,\u001b[0m \u001b[0mk\u001b[0m\u001b[0;34m)\u001b[0m\u001b[0;34m\u001b[0m\u001b[0;34m\u001b[0m\u001b[0m\n\u001b[0m\u001b[1;32m     22\u001b[0m     \u001b[0mto_print\u001b[0m\u001b[0;34m(\u001b[0m\u001b[0mtopics_deg_neg\u001b[0m\u001b[0;34m,\u001b[0m \u001b[0;34m\"tipping\"\u001b[0m\u001b[0;34m,\u001b[0m \u001b[0mk\u001b[0m\u001b[0;34m,\u001b[0m \u001b[0;34m\"deg negative\"\u001b[0m\u001b[0;34m)\u001b[0m\u001b[0;34m\u001b[0m\u001b[0;34m\u001b[0m\u001b[0m\n",
      "\u001b[0;32m<ipython-input-5-60ae7201d3cc>\u001b[0m in \u001b[0;36moverlap_perform\u001b[0;34m(year, all_topics, k)\u001b[0m\n\u001b[1;32m      2\u001b[0m     \u001b[0moverlap\u001b[0m \u001b[0;34m=\u001b[0m \u001b[0mov\u001b[0m\u001b[0;34m.\u001b[0m\u001b[0mOverlapTopics\u001b[0m\u001b[0;34m(\u001b[0m\u001b[0mgraph_timeline_dict\u001b[0m\u001b[0;34m[\u001b[0m\u001b[0mstr\u001b[0m\u001b[0;34m(\u001b[0m\u001b[0myear\u001b[0m\u001b[0;34m)\u001b[0m\u001b[0;34m]\u001b[0m\u001b[0;34m,\u001b[0m \u001b[0mall_topics\u001b[0m\u001b[0;34m,\u001b[0m \u001b[0mk\u001b[0m\u001b[0;34m)\u001b[0m\u001b[0;34m\u001b[0m\u001b[0;34m\u001b[0m\u001b[0m\n\u001b[1;32m      3\u001b[0m     \u001b[0moverlap\u001b[0m\u001b[0;34m.\u001b[0m\u001b[0moverlap_preprocessing\u001b[0m\u001b[0;34m(\u001b[0m\u001b[0;34m)\u001b[0m\u001b[0;34m\u001b[0m\u001b[0;34m\u001b[0m\u001b[0m\n\u001b[0;32m----> 4\u001b[0;31m     \u001b[0moverlap\u001b[0m\u001b[0;34m.\u001b[0m\u001b[0mclique_percolation_method\u001b[0m\u001b[0;34m(\u001b[0m\u001b[0;34m)\u001b[0m\u001b[0;34m\u001b[0m\u001b[0;34m\u001b[0m\u001b[0m\n\u001b[0m\u001b[1;32m      5\u001b[0m     \u001b[0moverlap\u001b[0m\u001b[0;34m.\u001b[0m\u001b[0mcheck_spread_topics\u001b[0m\u001b[0;34m(\u001b[0m\u001b[0;34m)\u001b[0m\u001b[0;34m\u001b[0m\u001b[0;34m\u001b[0m\u001b[0m\n\u001b[1;32m      6\u001b[0m     \u001b[0moverlap\u001b[0m\u001b[0;34m.\u001b[0m\u001b[0mcheck_number_topics\u001b[0m\u001b[0;34m(\u001b[0m\u001b[0;34m)\u001b[0m\u001b[0;34m\u001b[0m\u001b[0;34m\u001b[0m\u001b[0m\n",
      "\u001b[0;32m~/Universita/magistrale/web_and_social_information_extraction/webandsocial-progetto/src/overlaps_topics/overlap_topics.py\u001b[0m in \u001b[0;36mclique_percolation_method\u001b[0;34m(self)\u001b[0m\n\u001b[1;32m    132\u001b[0m         \u001b[0mcommunities\u001b[0m \u001b[0;34m=\u001b[0m \u001b[0mk_clique_communities\u001b[0m\u001b[0;34m(\u001b[0m\u001b[0mG\u001b[0m \u001b[0;34m=\u001b[0m \u001b[0mself\u001b[0m\u001b[0;34m.\u001b[0m\u001b[0m__year_sub_graph\u001b[0m\u001b[0;34m,\u001b[0m \u001b[0mk\u001b[0m \u001b[0;34m=\u001b[0m \u001b[0;36m2\u001b[0m\u001b[0;34m)\u001b[0m\u001b[0;34m\u001b[0m\u001b[0;34m\u001b[0m\u001b[0m\n\u001b[1;32m    133\u001b[0m         \u001b[0;32mfor\u001b[0m \u001b[0mtopic\u001b[0m \u001b[0;32min\u001b[0m \u001b[0mcommunities\u001b[0m\u001b[0;34m:\u001b[0m\u001b[0;34m\u001b[0m\u001b[0;34m\u001b[0m\u001b[0m\n\u001b[0;32m--> 134\u001b[0;31m             \u001b[0mself\u001b[0m\u001b[0;34m.\u001b[0m\u001b[0mcheck_keywords\u001b[0m\u001b[0;34m(\u001b[0m\u001b[0mtopic\u001b[0m\u001b[0;34m)\u001b[0m\u001b[0;34m\u001b[0m\u001b[0;34m\u001b[0m\u001b[0m\n\u001b[0m\u001b[1;32m    135\u001b[0m             \u001b[0mself\u001b[0m\u001b[0;34m.\u001b[0m\u001b[0m__topics\u001b[0m\u001b[0;34m.\u001b[0m\u001b[0mappend\u001b[0m\u001b[0;34m(\u001b[0m\u001b[0mlist\u001b[0m\u001b[0;34m(\u001b[0m\u001b[0mtopic\u001b[0m\u001b[0;34m)\u001b[0m\u001b[0;34m)\u001b[0m\u001b[0;34m\u001b[0m\u001b[0;34m\u001b[0m\u001b[0m\n\u001b[1;32m    136\u001b[0m \u001b[0;34m\u001b[0m\u001b[0m\n",
      "\u001b[0;32m~/Universita/magistrale/web_and_social_information_extraction/webandsocial-progetto/src/overlaps_topics/overlap_topics.py\u001b[0m in \u001b[0;36mcheck_keywords\u001b[0;34m(self, topic)\u001b[0m\n\u001b[1;32m    119\u001b[0m \u001b[0;34m\u001b[0m\u001b[0m\n\u001b[1;32m    120\u001b[0m         \u001b[0;32mif\u001b[0m \u001b[0;32mnot\u001b[0m \u001b[0mregular\u001b[0m\u001b[0;34m:\u001b[0m\u001b[0;34m\u001b[0m\u001b[0;34m\u001b[0m\u001b[0m\n\u001b[0;32m--> 121\u001b[0;31m             \u001b[0;32mraise\u001b[0m \u001b[0mexcpt\u001b[0m\u001b[0;34m.\u001b[0m\u001b[0mTopicMalFormedException\u001b[0m\u001b[0;34m(\u001b[0m\u001b[0;34m\"Topic bad formed.\"\u001b[0m\u001b[0;34m)\u001b[0m\u001b[0;34m\u001b[0m\u001b[0;34m\u001b[0m\u001b[0m\n\u001b[0m\u001b[1;32m    122\u001b[0m \u001b[0;34m\u001b[0m\u001b[0m\n\u001b[1;32m    123\u001b[0m \u001b[0;34m\u001b[0m\u001b[0m\n",
      "\u001b[0;31mTopicMalFormedException\u001b[0m: Topic bad formed."
     ]
    }
   ],
   "source": [
    "overlap_merge_view_deg_neg(2015, k = 20)"
   ]
  },
  {
   "cell_type": "markdown",
   "metadata": {},
   "source": [
    "### Year 2016"
   ]
  },
  {
   "cell_type": "code",
   "execution_count": 172,
   "metadata": {},
   "outputs": [
    {
     "name": "stdout",
     "output_type": "stream",
     "text": [
      "OVERLAP MERGING RESULT WITH CLIQUE PERCOLATION METHOD, TIPPING MODEL, SEED TOP 20 NODES AND DEG THRESHOLD CALCULATION STRATEGY.\n",
      "\n",
      "['super robot monkey team hyperforce go!', 'search space effectively', 'apache spark', 'usb on-the-go', 'granting bails', 'coupling constant', 'markov decision process', 'computer data storage', 'medical imaging', 'distribution (mathematics)', 'decision list', 'convex function', 'daily basis', 'biogeography-based optimization\\xa0', 'rémi munos', 'effective interpretable', 'upper confidence bound', 'autoencoder', 'computational complexity theory', 'nonlinearity', 'numerical analysis', 'maximizes outcomes', 'neural network simulation', 'language model', 'convolutional neural network', 'koray kavukcuoglu', 'neuron', 'variational principle', 'novel objective', 'fuzzy set', 'multi-agent system', 'ibm systems network architecture', 'ben parr', 'cognitive radio', 'numerical linear algebra', 'weight', 'time delay', 'http public key pinning', 'adaptive coding', 'magnetic resonance imaging', 'training', 'leverages customized checks', 'lyapunov fractal', 'computer-aided design', 'control theory', 'algorithm', 'imagenet', 'artificial neural network', 'support vector machine', 'optimization\\xa0', 'mathematical model', 'marc g. bellemare', 'adversary (cryptography)', 'formal system', 'code', 'particle swarm optimization\\xa0', 'genetic programming', 'recurrent neural network', 'embedded system', 'exploit (computer security)', 'apriori algorithm', 'swarm intelligence\\xa0', 'frequency band', 'optimization', 'computer simulation', 'linear matrix inequality', 'atari', 'finite-time synchronization', 'experimental results', 'vocabulary', 'time delays', 'feedforward neural network', 'bayesian network', 'coordinate descent', 'approximation algorithm', 'approximation', 'mathematical optimization', 'test set', 'asthma patients demonstrate', 'robot', 'mapreduce', 'social inequality', 'network architecture', 'minimizes overall costs', 'interference (communication)', 'natural language processing', 'machine learning', 'agent-based model', 'black bag operation', 'recommender system', 'recommending treatments', 'settling time', 'iterative method', 'generalization (psychology)', 'costs involved', 'hypernymy relations', 'fuzzy control system', 'preprocessor', 'sensor', 'data model', 'constrained optimization', 'hysteresis', 'nonlinear systems', 'one-class classification', 'memristor', 'real-time clock', 'interval arithmetic', 'brute-force search', 'simulation', 'high- and low-level', 'feedback', 'reinforcement learning', 'decision makers', 'open research', 'maps characteristics', 'diagnostic test results', 'iteration', 'learning disorders', 'coefficient', 'personalization', 'nonlinear system', 'long short-term memory', 'neural networks', 'approximation error', 'computation', 'mnist database', 'data mining', 'fuzzy logic', 'data pre-processing', 'computer science', 'bellman equation', 'quality of service', 'statistical model', 'hamilton–jacobi–bellman equation', 'lymph nodes', 'throughput', 'experiment', 'end-to-end principle', 'mark rowland', 'network topology', 'genetic algorithm', 'quantization (signal processing)', 'biological neural networks', 'optimization problem', 'sample complexity', 'dynamic programming', 'adaptive systems', 'genetic algorithm\\xa0', 'converge', 'optimal control', 'will dabney', 'demis hassabis', 'particle swarm optimization', 'global optimization', 'deep learning', 'dropout (neural networks)', 'requirement', 'hado van hasselt', 'subnetwork', 'knowledge graph', 'volodymyr mnih', 'sparse matrix', 'time-varying delay', 'stochastic gradient descent', 'benchmark (computing)', 'centralized computing', 'big data', 'state estimation', 'control system', 'open-source software', 'encoder', 'artificial intelligence', 'feature extraction', 'identifier', 'fuzzy rule', 'channel state information', 'search algorithm', 'telecommunications link', 'potential benefits', 'benchmark\\xa0', 'q-learning']\n",
      "len_topic: 181\n",
      "\n",
      "['hash coding', 'retrieval efficiency hashing', 'widely applied', 'separate quantization step', 'data pairs', 'sense clustering', 'image retrieval', 'semantic similarity', 'scale multimedia retrieval']\n",
      "len_topic: 9\n",
      "\n"
     ]
    }
   ],
   "source": [
    "overlap_merge_view_deg(2016, k = 20)"
   ]
  },
  {
   "cell_type": "code",
   "execution_count": 173,
   "metadata": {},
   "outputs": [
    {
     "name": "stdout",
     "output_type": "stream",
     "text": [
      "OVERLAP MERGING RESULT WITH CLIQUE PERCOLATION METHOD, TIPPING MODEL, SEED TOP 20 NODES AND HALF THRESHOLD CALCULATION STRATEGY.\n",
      "\n",
      "['super robot monkey team hyperforce go!', 'usb on-the-go', 'black bag operation', 'recommender system', 'coupling constant', 'settling time', 'markov decision process', 'distribution (mathematics)', 'convex function', 'hypernymy relations', 'fuzzy control system', 'biogeography-based optimization\\xa0', 'preprocessor', 'sensor', 'constrained optimization', 'hysteresis', 'computational complexity theory', 'nonlinearity', 'nonlinear systems', 'numerical analysis', 'neural network simulation', 'language model', 'memristor', 'neuron', 'variational principle', 'real-time clock', 'interval arithmetic', 'fuzzy set', 'simulation', 'feedback', 'reinforcement learning', 'multi-agent system', 'open research', 'numerical linear algebra', 'time delay', 'http public key pinning', 'iteration', 'coefficient', 'personalization', 'nonlinear system', 'training', 'long short-term memory', 'lyapunov fractal', 'neural networks', 'approximation error', 'computer-aided design', 'computation', 'control theory', 'algorithm', 'imagenet', 'mnist database', 'artificial neural network', 'data mining', 'fuzzy logic', 'data pre-processing', 'computer science', 'bellman equation', 'statistical model', 'hamilton–jacobi–bellman equation', 'experiment', 'optimization\\xa0', 'mathematical model', 'quantization (signal processing)', 'biological neural networks', 'sample complexity', 'genetic algorithm', 'dynamic programming', 'adversary (cryptography)', 'adaptive systems', 'genetic algorithm\\xa0', 'formal system', 'code', 'particle swarm optimization\\xa0', 'genetic programming', 'converge', 'optimal control', 'recurrent neural network', 'embedded system', 'particle swarm optimization', 'global optimization', 'exploit (computer security)', 'deep learning', 'swarm intelligence\\xa0', 'dropout (neural networks)', 'knowledge graph', 'stochastic gradient descent', 'optimization', 'time-varying delay', 'computer simulation', 'benchmark (computing)', 'linear matrix inequality', 'finite-time synchronization', 'time delays', 'state estimation', 'control system', 'bayesian network', 'coordinate descent', 'approximation algorithm', 'approximation', 'artificial intelligence', 'mathematical optimization', 'test set', 'fuzzy rule', 'identifier', 'robot', 'social inequality', 'network architecture', 'natural language processing', 'machine learning', 'telecommunications link', 'agent-based model', 'benchmark\\xa0', 'q-learning']\n",
      "len_topic: 113\n",
      "\n",
      "['retrieval efficiency hashing', 'scale multimedia retrieval', 'widely applied']\n",
      "len_topic: 3\n",
      "\n"
     ]
    }
   ],
   "source": [
    "overlap_merge_view_half(2016, k = 20)"
   ]
  },
  {
   "cell_type": "code",
   "execution_count": 174,
   "metadata": {},
   "outputs": [
    {
     "ename": "TopicMalFormedException",
     "evalue": "Topic bad formed.",
     "output_type": "error",
     "traceback": [
      "\u001b[0;31m---------------------------------------------------------------------------\u001b[0m",
      "\u001b[0;31mTopicMalFormedException\u001b[0m                   Traceback (most recent call last)",
      "\u001b[0;32m<ipython-input-174-705974ef8e15>\u001b[0m in \u001b[0;36m<module>\u001b[0;34m\u001b[0m\n\u001b[0;32m----> 1\u001b[0;31m \u001b[0moverlap_merge_view_deg_neg\u001b[0m\u001b[0;34m(\u001b[0m\u001b[0;36m2016\u001b[0m\u001b[0;34m,\u001b[0m \u001b[0mk\u001b[0m \u001b[0;34m=\u001b[0m \u001b[0;36m20\u001b[0m\u001b[0;34m)\u001b[0m\u001b[0;34m\u001b[0m\u001b[0;34m\u001b[0m\u001b[0m\n\u001b[0m",
      "\u001b[0;32m<ipython-input-6-aa88f64ba5fa>\u001b[0m in \u001b[0;36moverlap_merge_view_deg_neg\u001b[0;34m(year, k)\u001b[0m\n\u001b[1;32m     19\u001b[0m     \u001b[0mspread_dict\u001b[0m\u001b[0;34m[\u001b[0m\u001b[0mstr\u001b[0m\u001b[0;34m(\u001b[0m\u001b[0myear\u001b[0m\u001b[0;34m)\u001b[0m\u001b[0;34m]\u001b[0m\u001b[0;34m.\u001b[0m\u001b[0mtipping_model\u001b[0m\u001b[0;34m(\u001b[0m\u001b[0;34m)\u001b[0m\u001b[0;34m\u001b[0m\u001b[0;34m\u001b[0m\u001b[0m\n\u001b[1;32m     20\u001b[0m     \u001b[0mtipping_deg_neg\u001b[0m \u001b[0;34m=\u001b[0m \u001b[0mspread_dict\u001b[0m\u001b[0;34m[\u001b[0m\u001b[0mstr\u001b[0m\u001b[0;34m(\u001b[0m\u001b[0myear\u001b[0m\u001b[0;34m)\u001b[0m\u001b[0;34m]\u001b[0m\u001b[0;34m.\u001b[0m\u001b[0mget_influenced_nodes\u001b[0m\u001b[0;34m(\u001b[0m\u001b[0;34m)\u001b[0m\u001b[0;34m\u001b[0m\u001b[0;34m\u001b[0m\u001b[0m\n\u001b[0;32m---> 21\u001b[0;31m     \u001b[0mtopics_deg_neg\u001b[0m \u001b[0;34m=\u001b[0m \u001b[0moverlap_perform\u001b[0m\u001b[0;34m(\u001b[0m\u001b[0myear\u001b[0m\u001b[0;34m,\u001b[0m \u001b[0mtipping_deg_neg\u001b[0m\u001b[0;34m,\u001b[0m \u001b[0mk\u001b[0m\u001b[0;34m)\u001b[0m\u001b[0;34m\u001b[0m\u001b[0;34m\u001b[0m\u001b[0m\n\u001b[0m\u001b[1;32m     22\u001b[0m     \u001b[0mto_print\u001b[0m\u001b[0;34m(\u001b[0m\u001b[0mtopics_deg_neg\u001b[0m\u001b[0;34m,\u001b[0m \u001b[0;34m\"tipping\"\u001b[0m\u001b[0;34m,\u001b[0m \u001b[0mk\u001b[0m\u001b[0;34m,\u001b[0m \u001b[0;34m\"deg negative\"\u001b[0m\u001b[0;34m)\u001b[0m\u001b[0;34m\u001b[0m\u001b[0;34m\u001b[0m\u001b[0m\n",
      "\u001b[0;32m<ipython-input-5-60ae7201d3cc>\u001b[0m in \u001b[0;36moverlap_perform\u001b[0;34m(year, all_topics, k)\u001b[0m\n\u001b[1;32m      2\u001b[0m     \u001b[0moverlap\u001b[0m \u001b[0;34m=\u001b[0m \u001b[0mov\u001b[0m\u001b[0;34m.\u001b[0m\u001b[0mOverlapTopics\u001b[0m\u001b[0;34m(\u001b[0m\u001b[0mgraph_timeline_dict\u001b[0m\u001b[0;34m[\u001b[0m\u001b[0mstr\u001b[0m\u001b[0;34m(\u001b[0m\u001b[0myear\u001b[0m\u001b[0;34m)\u001b[0m\u001b[0;34m]\u001b[0m\u001b[0;34m,\u001b[0m \u001b[0mall_topics\u001b[0m\u001b[0;34m,\u001b[0m \u001b[0mk\u001b[0m\u001b[0;34m)\u001b[0m\u001b[0;34m\u001b[0m\u001b[0;34m\u001b[0m\u001b[0m\n\u001b[1;32m      3\u001b[0m     \u001b[0moverlap\u001b[0m\u001b[0;34m.\u001b[0m\u001b[0moverlap_preprocessing\u001b[0m\u001b[0;34m(\u001b[0m\u001b[0;34m)\u001b[0m\u001b[0;34m\u001b[0m\u001b[0;34m\u001b[0m\u001b[0m\n\u001b[0;32m----> 4\u001b[0;31m     \u001b[0moverlap\u001b[0m\u001b[0;34m.\u001b[0m\u001b[0mclique_percolation_method\u001b[0m\u001b[0;34m(\u001b[0m\u001b[0;34m)\u001b[0m\u001b[0;34m\u001b[0m\u001b[0;34m\u001b[0m\u001b[0m\n\u001b[0m\u001b[1;32m      5\u001b[0m     \u001b[0moverlap\u001b[0m\u001b[0;34m.\u001b[0m\u001b[0mcheck_spread_topics\u001b[0m\u001b[0;34m(\u001b[0m\u001b[0;34m)\u001b[0m\u001b[0;34m\u001b[0m\u001b[0;34m\u001b[0m\u001b[0m\n\u001b[1;32m      6\u001b[0m     \u001b[0moverlap\u001b[0m\u001b[0;34m.\u001b[0m\u001b[0mcheck_number_topics\u001b[0m\u001b[0;34m(\u001b[0m\u001b[0;34m)\u001b[0m\u001b[0;34m\u001b[0m\u001b[0;34m\u001b[0m\u001b[0m\n",
      "\u001b[0;32m~/Universita/magistrale/web_and_social_information_extraction/webandsocial-progetto/src/overlaps_topics/overlap_topics.py\u001b[0m in \u001b[0;36mclique_percolation_method\u001b[0;34m(self)\u001b[0m\n\u001b[1;32m    132\u001b[0m         \u001b[0mcommunities\u001b[0m \u001b[0;34m=\u001b[0m \u001b[0mk_clique_communities\u001b[0m\u001b[0;34m(\u001b[0m\u001b[0mG\u001b[0m \u001b[0;34m=\u001b[0m \u001b[0mself\u001b[0m\u001b[0;34m.\u001b[0m\u001b[0m__year_sub_graph\u001b[0m\u001b[0;34m,\u001b[0m \u001b[0mk\u001b[0m \u001b[0;34m=\u001b[0m \u001b[0;36m2\u001b[0m\u001b[0;34m)\u001b[0m\u001b[0;34m\u001b[0m\u001b[0;34m\u001b[0m\u001b[0m\n\u001b[1;32m    133\u001b[0m         \u001b[0;32mfor\u001b[0m \u001b[0mtopic\u001b[0m \u001b[0;32min\u001b[0m \u001b[0mcommunities\u001b[0m\u001b[0;34m:\u001b[0m\u001b[0;34m\u001b[0m\u001b[0;34m\u001b[0m\u001b[0m\n\u001b[0;32m--> 134\u001b[0;31m             \u001b[0mself\u001b[0m\u001b[0;34m.\u001b[0m\u001b[0mcheck_keywords\u001b[0m\u001b[0;34m(\u001b[0m\u001b[0mtopic\u001b[0m\u001b[0;34m)\u001b[0m\u001b[0;34m\u001b[0m\u001b[0;34m\u001b[0m\u001b[0m\n\u001b[0m\u001b[1;32m    135\u001b[0m             \u001b[0mself\u001b[0m\u001b[0;34m.\u001b[0m\u001b[0m__topics\u001b[0m\u001b[0;34m.\u001b[0m\u001b[0mappend\u001b[0m\u001b[0;34m(\u001b[0m\u001b[0mlist\u001b[0m\u001b[0;34m(\u001b[0m\u001b[0mtopic\u001b[0m\u001b[0;34m)\u001b[0m\u001b[0;34m)\u001b[0m\u001b[0;34m\u001b[0m\u001b[0;34m\u001b[0m\u001b[0m\n\u001b[1;32m    136\u001b[0m \u001b[0;34m\u001b[0m\u001b[0m\n",
      "\u001b[0;32m~/Universita/magistrale/web_and_social_information_extraction/webandsocial-progetto/src/overlaps_topics/overlap_topics.py\u001b[0m in \u001b[0;36mcheck_keywords\u001b[0;34m(self, topic)\u001b[0m\n\u001b[1;32m    119\u001b[0m \u001b[0;34m\u001b[0m\u001b[0m\n\u001b[1;32m    120\u001b[0m         \u001b[0;32mif\u001b[0m \u001b[0;32mnot\u001b[0m \u001b[0mregular\u001b[0m\u001b[0;34m:\u001b[0m\u001b[0;34m\u001b[0m\u001b[0;34m\u001b[0m\u001b[0m\n\u001b[0;32m--> 121\u001b[0;31m             \u001b[0;32mraise\u001b[0m \u001b[0mexcpt\u001b[0m\u001b[0;34m.\u001b[0m\u001b[0mTopicMalFormedException\u001b[0m\u001b[0;34m(\u001b[0m\u001b[0;34m\"Topic bad formed.\"\u001b[0m\u001b[0;34m)\u001b[0m\u001b[0;34m\u001b[0m\u001b[0;34m\u001b[0m\u001b[0m\n\u001b[0m\u001b[1;32m    122\u001b[0m \u001b[0;34m\u001b[0m\u001b[0m\n\u001b[1;32m    123\u001b[0m \u001b[0;34m\u001b[0m\u001b[0m\n",
      "\u001b[0;31mTopicMalFormedException\u001b[0m: Topic bad formed."
     ]
    }
   ],
   "source": [
    "overlap_merge_view_deg_neg(2016, k = 20)"
   ]
  },
  {
   "cell_type": "markdown",
   "metadata": {},
   "source": [
    "### Year 2017"
   ]
  },
  {
   "cell_type": "code",
   "execution_count": 175,
   "metadata": {},
   "outputs": [
    {
     "name": "stdout",
     "output_type": "stream",
     "text": [
      "OVERLAP MERGING RESULT WITH CLIQUE PERCOLATION METHOD, TIPPING MODEL, SEED TOP 20 NODES AND DEG THRESHOLD CALCULATION STRATEGY.\n",
      "\n",
      "['diverse ranking model', 'art baselines', 'search result diversification', 'significantly outperform', 'alternating direction method']\n",
      "len_topic: 5\n",
      "\n",
      "['fukuoka japan', 'topical sections named', 'carefully reviewed', 'refereed proceedings', 'book constitutes']\n",
      "len_topic: 5\n",
      "\n",
      "['sawtooth (cellular automaton)', 'sampling - surgical action', 'adversarial examples', 'british informatics olympiad', 'adversarial inputs', 'firefly algorithm', 'controllers', 'neural coding', 'random forest', 'numerical method', 'fuzzy control system', 'dynamical system', 'estimated', 'gradient descent', 'sensor', 'spectral leakage', 'autoencoder', 'cluster analysis', 'wireless sensor networks\\xa0', 'hopfield network', 'triangular matrix', 'global optimization\\xa0', 'time complexity', 'numerical analysis', 'data synchronization', 'neural network simulation', 'convolutional neural network', 'memristor', 'initial condition', 'anatomy regional', 'baxter (robot)', 'simulation', 'high- and low-level', 'feedback', 'reinforcement learning', 'two-factors second-order fuzzy-trend logical relationship groups', 'cognitive radio', \"jensen's inequality\", 'statistical cluster', 'inference', 'global exponential stability', 'next-generation network', 'semiconductor industry', 'nonlinear system', 'binary code', 'outline of object recognition', 'sampling (signal processing)', 'polynomial', 'association rule learning', 'long short-term memory', 'open problem', 'lyapunov fractal', 'samuel j leffler', 'computation', 'control theory', 'algorithm', 'artificial neural network', 'quality of service', 'feature selection', 'input lag', 'throughput', 'experiment', 'network packet', 'genetic algorithm', 'dual', 'optimization problem', 'swarm intelligence', 'recursion', 'computer vision', 'cloud computing', 'converge', 'scheduling (computing)', 'recurrent neural network', 'particle swarm optimization', 'deep learning', 'convolution', 'swarm intelligence\\xa0', 'premature convergence', 'sparse matrix', 'differential evolution', 'multi-objective optimization', 'benchmark (computing)', 'heuristic', 'linear matrix inequality', 'big data', 'force misclassification', 'firefly algorithm (fa)\\xa0', 'sensitivity and specificity', 'control system', 'inverted pendulum', 'routing', 'approximation', 'approximation algorithm', 'encoder', 'firefly (cache coherence protocol)', 'mathematical optimization', 'social inequality', 'interference (communication)', 'natural language processing', 'machine learning']\n",
      "len_topic: 100\n",
      "\n",
      "['dimensional vector representations', 'vast majority', 'node attributes', 'link prediction', 'network embedding', 'proposed framework']\n",
      "len_topic: 6\n",
      "\n"
     ]
    }
   ],
   "source": [
    "overlap_merge_view_deg(2017, k = 20)"
   ]
  },
  {
   "cell_type": "code",
   "execution_count": 176,
   "metadata": {},
   "outputs": [
    {
     "name": "stdout",
     "output_type": "stream",
     "text": [
      "OVERLAP MERGING RESULT WITH CLIQUE PERCOLATION METHOD, TIPPING MODEL, SEED TOP 20 NODES AND HALF THRESHOLD CALCULATION STRATEGY.\n",
      "\n",
      "['fukuoka japan', 'carefully reviewed']\n",
      "len_topic: 2\n",
      "\n",
      "['sawtooth (cellular automaton)', 'sampling - surgical action', 'adversarial examples', 'british informatics olympiad', 'adversarial inputs', 'firefly algorithm', 'controllers', 'neural coding', 'random forest', 'numerical method', 'fuzzy control system', 'dynamical system', 'estimated', 'gradient descent', 'sensor', 'spectral leakage', 'autoencoder', 'cluster analysis', 'wireless sensor networks\\xa0', 'hopfield network', 'triangular matrix', 'global optimization\\xa0', 'time complexity', 'numerical analysis', 'data synchronization', 'neural network simulation', 'memristor', 'initial condition', 'anatomy regional', 'baxter (robot)', 'simulation', 'high- and low-level', 'feedback', 'reinforcement learning', 'two-factors second-order fuzzy-trend logical relationship groups', 'cognitive radio', \"jensen's inequality\", 'statistical cluster', 'inference', 'global exponential stability', 'next-generation network', 'semiconductor industry', 'nonlinear system', 'binary code', 'outline of object recognition', 'sampling (signal processing)', 'polynomial', 'long short-term memory', 'open problem', 'lyapunov fractal', 'samuel j leffler', 'computation', 'control theory', 'algorithm', 'artificial neural network', 'quality of service', 'input lag', 'throughput', 'experiment', 'network packet', 'genetic algorithm', 'dual', 'optimization problem', 'swarm intelligence', 'recursion', 'cloud computing', 'converge', 'scheduling (computing)', 'recurrent neural network', 'particle swarm optimization', 'deep learning', 'swarm intelligence\\xa0', 'premature convergence', 'sparse matrix', 'differential evolution', 'multi-objective optimization', 'benchmark (computing)', 'heuristic', 'linear matrix inequality', 'big data', 'force misclassification', 'firefly algorithm (fa)\\xa0', 'control system', 'inverted pendulum', 'routing', 'approximation', 'approximation algorithm', 'firefly (cache coherence protocol)', 'mathematical optimization', 'social inequality', 'interference (communication)', 'machine learning']\n",
      "len_topic: 92\n",
      "\n",
      "['dimensional vector representations', 'vast majority', 'node attributes', 'link prediction', 'network embedding', 'proposed framework']\n",
      "len_topic: 6\n",
      "\n",
      "['alternating direction method', 'art baselines']\n",
      "len_topic: 2\n",
      "\n"
     ]
    }
   ],
   "source": [
    "overlap_merge_view_half(2017, k = 20)"
   ]
  },
  {
   "cell_type": "code",
   "execution_count": 177,
   "metadata": {},
   "outputs": [
    {
     "ename": "TopicMalFormedException",
     "evalue": "Topic bad formed.",
     "output_type": "error",
     "traceback": [
      "\u001b[0;31m---------------------------------------------------------------------------\u001b[0m",
      "\u001b[0;31mTopicMalFormedException\u001b[0m                   Traceback (most recent call last)",
      "\u001b[0;32m<ipython-input-177-64259ca6ce8b>\u001b[0m in \u001b[0;36m<module>\u001b[0;34m\u001b[0m\n\u001b[0;32m----> 1\u001b[0;31m \u001b[0moverlap_merge_view_deg_neg\u001b[0m\u001b[0;34m(\u001b[0m\u001b[0;36m2017\u001b[0m\u001b[0;34m,\u001b[0m \u001b[0mk\u001b[0m \u001b[0;34m=\u001b[0m \u001b[0;36m20\u001b[0m\u001b[0;34m)\u001b[0m\u001b[0;34m\u001b[0m\u001b[0;34m\u001b[0m\u001b[0m\n\u001b[0m",
      "\u001b[0;32m<ipython-input-6-aa88f64ba5fa>\u001b[0m in \u001b[0;36moverlap_merge_view_deg_neg\u001b[0;34m(year, k)\u001b[0m\n\u001b[1;32m     19\u001b[0m     \u001b[0mspread_dict\u001b[0m\u001b[0;34m[\u001b[0m\u001b[0mstr\u001b[0m\u001b[0;34m(\u001b[0m\u001b[0myear\u001b[0m\u001b[0;34m)\u001b[0m\u001b[0;34m]\u001b[0m\u001b[0;34m.\u001b[0m\u001b[0mtipping_model\u001b[0m\u001b[0;34m(\u001b[0m\u001b[0;34m)\u001b[0m\u001b[0;34m\u001b[0m\u001b[0;34m\u001b[0m\u001b[0m\n\u001b[1;32m     20\u001b[0m     \u001b[0mtipping_deg_neg\u001b[0m \u001b[0;34m=\u001b[0m \u001b[0mspread_dict\u001b[0m\u001b[0;34m[\u001b[0m\u001b[0mstr\u001b[0m\u001b[0;34m(\u001b[0m\u001b[0myear\u001b[0m\u001b[0;34m)\u001b[0m\u001b[0;34m]\u001b[0m\u001b[0;34m.\u001b[0m\u001b[0mget_influenced_nodes\u001b[0m\u001b[0;34m(\u001b[0m\u001b[0;34m)\u001b[0m\u001b[0;34m\u001b[0m\u001b[0;34m\u001b[0m\u001b[0m\n\u001b[0;32m---> 21\u001b[0;31m     \u001b[0mtopics_deg_neg\u001b[0m \u001b[0;34m=\u001b[0m \u001b[0moverlap_perform\u001b[0m\u001b[0;34m(\u001b[0m\u001b[0myear\u001b[0m\u001b[0;34m,\u001b[0m \u001b[0mtipping_deg_neg\u001b[0m\u001b[0;34m,\u001b[0m \u001b[0mk\u001b[0m\u001b[0;34m)\u001b[0m\u001b[0;34m\u001b[0m\u001b[0;34m\u001b[0m\u001b[0m\n\u001b[0m\u001b[1;32m     22\u001b[0m     \u001b[0mto_print\u001b[0m\u001b[0;34m(\u001b[0m\u001b[0mtopics_deg_neg\u001b[0m\u001b[0;34m,\u001b[0m \u001b[0;34m\"tipping\"\u001b[0m\u001b[0;34m,\u001b[0m \u001b[0mk\u001b[0m\u001b[0;34m,\u001b[0m \u001b[0;34m\"deg negative\"\u001b[0m\u001b[0;34m)\u001b[0m\u001b[0;34m\u001b[0m\u001b[0;34m\u001b[0m\u001b[0m\n",
      "\u001b[0;32m<ipython-input-5-60ae7201d3cc>\u001b[0m in \u001b[0;36moverlap_perform\u001b[0;34m(year, all_topics, k)\u001b[0m\n\u001b[1;32m      2\u001b[0m     \u001b[0moverlap\u001b[0m \u001b[0;34m=\u001b[0m \u001b[0mov\u001b[0m\u001b[0;34m.\u001b[0m\u001b[0mOverlapTopics\u001b[0m\u001b[0;34m(\u001b[0m\u001b[0mgraph_timeline_dict\u001b[0m\u001b[0;34m[\u001b[0m\u001b[0mstr\u001b[0m\u001b[0;34m(\u001b[0m\u001b[0myear\u001b[0m\u001b[0;34m)\u001b[0m\u001b[0;34m]\u001b[0m\u001b[0;34m,\u001b[0m \u001b[0mall_topics\u001b[0m\u001b[0;34m,\u001b[0m \u001b[0mk\u001b[0m\u001b[0;34m)\u001b[0m\u001b[0;34m\u001b[0m\u001b[0;34m\u001b[0m\u001b[0m\n\u001b[1;32m      3\u001b[0m     \u001b[0moverlap\u001b[0m\u001b[0;34m.\u001b[0m\u001b[0moverlap_preprocessing\u001b[0m\u001b[0;34m(\u001b[0m\u001b[0;34m)\u001b[0m\u001b[0;34m\u001b[0m\u001b[0;34m\u001b[0m\u001b[0m\n\u001b[0;32m----> 4\u001b[0;31m     \u001b[0moverlap\u001b[0m\u001b[0;34m.\u001b[0m\u001b[0mclique_percolation_method\u001b[0m\u001b[0;34m(\u001b[0m\u001b[0;34m)\u001b[0m\u001b[0;34m\u001b[0m\u001b[0;34m\u001b[0m\u001b[0m\n\u001b[0m\u001b[1;32m      5\u001b[0m     \u001b[0moverlap\u001b[0m\u001b[0;34m.\u001b[0m\u001b[0mcheck_spread_topics\u001b[0m\u001b[0;34m(\u001b[0m\u001b[0;34m)\u001b[0m\u001b[0;34m\u001b[0m\u001b[0;34m\u001b[0m\u001b[0m\n\u001b[1;32m      6\u001b[0m     \u001b[0moverlap\u001b[0m\u001b[0;34m.\u001b[0m\u001b[0mcheck_number_topics\u001b[0m\u001b[0;34m(\u001b[0m\u001b[0;34m)\u001b[0m\u001b[0;34m\u001b[0m\u001b[0;34m\u001b[0m\u001b[0m\n",
      "\u001b[0;32m~/Universita/magistrale/web_and_social_information_extraction/webandsocial-progetto/src/overlaps_topics/overlap_topics.py\u001b[0m in \u001b[0;36mclique_percolation_method\u001b[0;34m(self)\u001b[0m\n\u001b[1;32m    132\u001b[0m         \u001b[0mcommunities\u001b[0m \u001b[0;34m=\u001b[0m \u001b[0mk_clique_communities\u001b[0m\u001b[0;34m(\u001b[0m\u001b[0mG\u001b[0m \u001b[0;34m=\u001b[0m \u001b[0mself\u001b[0m\u001b[0;34m.\u001b[0m\u001b[0m__year_sub_graph\u001b[0m\u001b[0;34m,\u001b[0m \u001b[0mk\u001b[0m \u001b[0;34m=\u001b[0m \u001b[0;36m2\u001b[0m\u001b[0;34m)\u001b[0m\u001b[0;34m\u001b[0m\u001b[0;34m\u001b[0m\u001b[0m\n\u001b[1;32m    133\u001b[0m         \u001b[0;32mfor\u001b[0m \u001b[0mtopic\u001b[0m \u001b[0;32min\u001b[0m \u001b[0mcommunities\u001b[0m\u001b[0;34m:\u001b[0m\u001b[0;34m\u001b[0m\u001b[0;34m\u001b[0m\u001b[0m\n\u001b[0;32m--> 134\u001b[0;31m             \u001b[0mself\u001b[0m\u001b[0;34m.\u001b[0m\u001b[0mcheck_keywords\u001b[0m\u001b[0;34m(\u001b[0m\u001b[0mtopic\u001b[0m\u001b[0;34m)\u001b[0m\u001b[0;34m\u001b[0m\u001b[0;34m\u001b[0m\u001b[0m\n\u001b[0m\u001b[1;32m    135\u001b[0m             \u001b[0mself\u001b[0m\u001b[0;34m.\u001b[0m\u001b[0m__topics\u001b[0m\u001b[0;34m.\u001b[0m\u001b[0mappend\u001b[0m\u001b[0;34m(\u001b[0m\u001b[0mlist\u001b[0m\u001b[0;34m(\u001b[0m\u001b[0mtopic\u001b[0m\u001b[0;34m)\u001b[0m\u001b[0;34m)\u001b[0m\u001b[0;34m\u001b[0m\u001b[0;34m\u001b[0m\u001b[0m\n\u001b[1;32m    136\u001b[0m \u001b[0;34m\u001b[0m\u001b[0m\n",
      "\u001b[0;32m~/Universita/magistrale/web_and_social_information_extraction/webandsocial-progetto/src/overlaps_topics/overlap_topics.py\u001b[0m in \u001b[0;36mcheck_keywords\u001b[0;34m(self, topic)\u001b[0m\n\u001b[1;32m    119\u001b[0m \u001b[0;34m\u001b[0m\u001b[0m\n\u001b[1;32m    120\u001b[0m         \u001b[0;32mif\u001b[0m \u001b[0;32mnot\u001b[0m \u001b[0mregular\u001b[0m\u001b[0;34m:\u001b[0m\u001b[0;34m\u001b[0m\u001b[0;34m\u001b[0m\u001b[0m\n\u001b[0;32m--> 121\u001b[0;31m             \u001b[0;32mraise\u001b[0m \u001b[0mexcpt\u001b[0m\u001b[0;34m.\u001b[0m\u001b[0mTopicMalFormedException\u001b[0m\u001b[0;34m(\u001b[0m\u001b[0;34m\"Topic bad formed.\"\u001b[0m\u001b[0;34m)\u001b[0m\u001b[0;34m\u001b[0m\u001b[0;34m\u001b[0m\u001b[0m\n\u001b[0m\u001b[1;32m    122\u001b[0m \u001b[0;34m\u001b[0m\u001b[0m\n\u001b[1;32m    123\u001b[0m \u001b[0;34m\u001b[0m\u001b[0m\n",
      "\u001b[0;31mTopicMalFormedException\u001b[0m: Topic bad formed."
     ]
    }
   ],
   "source": [
    "overlap_merge_view_deg_neg(2017, k = 20)"
   ]
  },
  {
   "cell_type": "markdown",
   "metadata": {},
   "source": [
    "### Year 2018 "
   ]
  },
  {
   "cell_type": "code",
   "execution_count": 178,
   "metadata": {},
   "outputs": [
    {
     "name": "stdout",
     "output_type": "stream",
     "text": [
      "OVERLAP MERGING RESULT WITH CLIQUE PERCOLATION METHOD, TIPPING MODEL, SEED TOP 20 NODES AND DEG THRESHOLD CALCULATION STRATEGY.\n",
      "\n",
      "['model generalization', 'transfer adversarial examples', 'adversarial examples', 'powerful framework', 'make mistakes', 'open question', 'leveraging unlabeled data', 'known parameters', 'deep neural networks', 'standard benchmark tasks', 'similar mistakes', 'nips 2017 competition', 'unknown parameters', 'machine learning models', 'simple baselines', 'vision models', 'adversarial examples phenomenon', 'data manifold', 'small changes', 'leveraging recent techniques', 'training distribution', 'hidden states', 'recently proven successful', 'school bus', 'input space', 'deep networks', 'domain shift', 'supervised learning']\n",
      "len_topic: 28\n",
      "\n",
      "['evolutionary algorithms', 'multi-user', 'iterative method', '34c27\\xa0', 'system dynamics', 'closed-circuit television', 'training data', 'fuzzy control system', 'hearing loss high-frequency', 'spectral leakage', 'autoencoder', 'computational complexity theory', 'anomaly detection', 'prime-factor fft algorithm', 'hopfield network', 'time complexity', 'numerical analysis', '92c20\\xa0', 'neural network simulation', 'radio frequency', 'memristor', 'convolutional neural network', 'biologic preservation', 'crafted neuron network', 'simulation', 'expectation propagation', 'reinforcement learning', 'loss function', 'cognitive radio', 'data compression', '37b25\\xa0', 'impulse\\xa0', 'interaction', 'semiconductor industry', 'fixed-point theorem', 'telecommunications network', 'nonlinear system', 'detection tasks', 'mimo', 'lyapunov fractal', 'active learning (machine learning)', 'neural networks', 'existing approaches', 'spectral density', 'algorithm', 'artificial neural network', 'support vector machine', 'critical scenarios', 'predictive failure analysis', 'analysis of algorithms', 'anatomical layer', 'throughput', 'experiment', 'pid', 'end-to-end principle', 'network packet', 'optimization problem', 'biological neural networks', 'swarm intelligence', 'numerous', 'particle swarm optimization\\xa0', 'correctness (computer science)', 'converge', 'optimal control', 'scheduling (computing)', 'embedded system', 'particle swarm optimization', 'memristor-based switching networks\\xa0', 'deep learning', 'entropy maximization', 'bit error rate', 'frequency band', 'differential evolution', 'computer simulation', 'direct method in the calculus of variations', 'new data', 'linear matrix inequality', 'benchmark (computing)', 'experimental results', 'approximation algorithm', 'approximation', 'mathematical optimization', 'smart battery system', 'multitier architecture', 'social inequality', 'bands', 'privacy', 'interference (communication)', 'driven programming paradigm', 'machine learning', 'telecommunications link', 'word lists by frequency']\n",
      "len_topic: 92\n",
      "\n"
     ]
    }
   ],
   "source": [
    "overlap_merge_view_deg(2018, k = 20)"
   ]
  },
  {
   "cell_type": "code",
   "execution_count": 179,
   "metadata": {},
   "outputs": [
    {
     "name": "stdout",
     "output_type": "stream",
     "text": [
      "OVERLAP MERGING RESULT WITH CLIQUE PERCOLATION METHOD, TIPPING MODEL, SEED TOP 20 NODES AND HALF THRESHOLD CALCULATION STRATEGY.\n",
      "\n",
      "['evolutionary algorithms', 'lyapunov fractal', 'neural networks', 'algorithm', 'artificial neural network', 'support vector machine', '34c27\\xa0', 'throughput', 'experiment', 'pid', 'system dynamics', 'end-to-end principle', 'biological neural networks', 'swarm intelligence', 'fuzzy control system', 'numerous', 'particle swarm optimization\\xa0', 'hearing loss high-frequency', 'correctness (computer science)', 'spectral leakage', 'scheduling (computing)', 'converge', 'optimal control', 'autoencoder', 'anomaly detection', 'hopfield network', 'particle swarm optimization', 'time complexity', 'deep learning', 'numerical analysis', 'memristor-based switching networks\\xa0', '92c20\\xa0', 'neural network simulation', 'memristor', 'differential evolution', 'benchmark (computing)', 'direct method in the calculus of variations', 'linear matrix inequality', 'simulation', 'approximation algorithm', 'approximation', 'mathematical optimization', '37b25\\xa0', 'impulse\\xa0', 'interaction', 'social inequality', 'bands', 'semiconductor industry', 'nonlinear system', 'interference (communication)', 'telecommunications network', 'machine learning', 'telecommunications link', 'fixed-point theorem', 'word lists by frequency']\n",
      "len_topic: 55\n",
      "\n",
      "['model generalization', 'adversarial examples', 'adversarial examples phenomenon', 'data manifold', 'training distribution', 'hidden states', 'input space', 'deep networks', 'domain shift', 'nips 2017 competition']\n",
      "len_topic: 10\n",
      "\n"
     ]
    }
   ],
   "source": [
    "overlap_merge_view_half(2018, k = 20)"
   ]
  },
  {
   "cell_type": "code",
   "execution_count": 180,
   "metadata": {},
   "outputs": [
    {
     "ename": "TopicMalFormedException",
     "evalue": "Topic bad formed.",
     "output_type": "error",
     "traceback": [
      "\u001b[0;31m---------------------------------------------------------------------------\u001b[0m",
      "\u001b[0;31mTopicMalFormedException\u001b[0m                   Traceback (most recent call last)",
      "\u001b[0;32m<ipython-input-180-33059d7fcaf7>\u001b[0m in \u001b[0;36m<module>\u001b[0;34m\u001b[0m\n\u001b[0;32m----> 1\u001b[0;31m \u001b[0moverlap_merge_view_deg_neg\u001b[0m\u001b[0;34m(\u001b[0m\u001b[0;36m2018\u001b[0m\u001b[0;34m,\u001b[0m \u001b[0mk\u001b[0m \u001b[0;34m=\u001b[0m \u001b[0;36m20\u001b[0m\u001b[0;34m)\u001b[0m\u001b[0;34m\u001b[0m\u001b[0;34m\u001b[0m\u001b[0m\n\u001b[0m",
      "\u001b[0;32m<ipython-input-6-aa88f64ba5fa>\u001b[0m in \u001b[0;36moverlap_merge_view_deg_neg\u001b[0;34m(year, k)\u001b[0m\n\u001b[1;32m     19\u001b[0m     \u001b[0mspread_dict\u001b[0m\u001b[0;34m[\u001b[0m\u001b[0mstr\u001b[0m\u001b[0;34m(\u001b[0m\u001b[0myear\u001b[0m\u001b[0;34m)\u001b[0m\u001b[0;34m]\u001b[0m\u001b[0;34m.\u001b[0m\u001b[0mtipping_model\u001b[0m\u001b[0;34m(\u001b[0m\u001b[0;34m)\u001b[0m\u001b[0;34m\u001b[0m\u001b[0;34m\u001b[0m\u001b[0m\n\u001b[1;32m     20\u001b[0m     \u001b[0mtipping_deg_neg\u001b[0m \u001b[0;34m=\u001b[0m \u001b[0mspread_dict\u001b[0m\u001b[0;34m[\u001b[0m\u001b[0mstr\u001b[0m\u001b[0;34m(\u001b[0m\u001b[0myear\u001b[0m\u001b[0;34m)\u001b[0m\u001b[0;34m]\u001b[0m\u001b[0;34m.\u001b[0m\u001b[0mget_influenced_nodes\u001b[0m\u001b[0;34m(\u001b[0m\u001b[0;34m)\u001b[0m\u001b[0;34m\u001b[0m\u001b[0;34m\u001b[0m\u001b[0m\n\u001b[0;32m---> 21\u001b[0;31m     \u001b[0mtopics_deg_neg\u001b[0m \u001b[0;34m=\u001b[0m \u001b[0moverlap_perform\u001b[0m\u001b[0;34m(\u001b[0m\u001b[0myear\u001b[0m\u001b[0;34m,\u001b[0m \u001b[0mtipping_deg_neg\u001b[0m\u001b[0;34m,\u001b[0m \u001b[0mk\u001b[0m\u001b[0;34m)\u001b[0m\u001b[0;34m\u001b[0m\u001b[0;34m\u001b[0m\u001b[0m\n\u001b[0m\u001b[1;32m     22\u001b[0m     \u001b[0mto_print\u001b[0m\u001b[0;34m(\u001b[0m\u001b[0mtopics_deg_neg\u001b[0m\u001b[0;34m,\u001b[0m \u001b[0;34m\"tipping\"\u001b[0m\u001b[0;34m,\u001b[0m \u001b[0mk\u001b[0m\u001b[0;34m,\u001b[0m \u001b[0;34m\"deg negative\"\u001b[0m\u001b[0;34m)\u001b[0m\u001b[0;34m\u001b[0m\u001b[0;34m\u001b[0m\u001b[0m\n",
      "\u001b[0;32m<ipython-input-5-60ae7201d3cc>\u001b[0m in \u001b[0;36moverlap_perform\u001b[0;34m(year, all_topics, k)\u001b[0m\n\u001b[1;32m      2\u001b[0m     \u001b[0moverlap\u001b[0m \u001b[0;34m=\u001b[0m \u001b[0mov\u001b[0m\u001b[0;34m.\u001b[0m\u001b[0mOverlapTopics\u001b[0m\u001b[0;34m(\u001b[0m\u001b[0mgraph_timeline_dict\u001b[0m\u001b[0;34m[\u001b[0m\u001b[0mstr\u001b[0m\u001b[0;34m(\u001b[0m\u001b[0myear\u001b[0m\u001b[0;34m)\u001b[0m\u001b[0;34m]\u001b[0m\u001b[0;34m,\u001b[0m \u001b[0mall_topics\u001b[0m\u001b[0;34m,\u001b[0m \u001b[0mk\u001b[0m\u001b[0;34m)\u001b[0m\u001b[0;34m\u001b[0m\u001b[0;34m\u001b[0m\u001b[0m\n\u001b[1;32m      3\u001b[0m     \u001b[0moverlap\u001b[0m\u001b[0;34m.\u001b[0m\u001b[0moverlap_preprocessing\u001b[0m\u001b[0;34m(\u001b[0m\u001b[0;34m)\u001b[0m\u001b[0;34m\u001b[0m\u001b[0;34m\u001b[0m\u001b[0m\n\u001b[0;32m----> 4\u001b[0;31m     \u001b[0moverlap\u001b[0m\u001b[0;34m.\u001b[0m\u001b[0mclique_percolation_method\u001b[0m\u001b[0;34m(\u001b[0m\u001b[0;34m)\u001b[0m\u001b[0;34m\u001b[0m\u001b[0;34m\u001b[0m\u001b[0m\n\u001b[0m\u001b[1;32m      5\u001b[0m     \u001b[0moverlap\u001b[0m\u001b[0;34m.\u001b[0m\u001b[0mcheck_spread_topics\u001b[0m\u001b[0;34m(\u001b[0m\u001b[0;34m)\u001b[0m\u001b[0;34m\u001b[0m\u001b[0;34m\u001b[0m\u001b[0m\n\u001b[1;32m      6\u001b[0m     \u001b[0moverlap\u001b[0m\u001b[0;34m.\u001b[0m\u001b[0mcheck_number_topics\u001b[0m\u001b[0;34m(\u001b[0m\u001b[0;34m)\u001b[0m\u001b[0;34m\u001b[0m\u001b[0;34m\u001b[0m\u001b[0m\n",
      "\u001b[0;32m~/Universita/magistrale/web_and_social_information_extraction/webandsocial-progetto/src/overlaps_topics/overlap_topics.py\u001b[0m in \u001b[0;36mclique_percolation_method\u001b[0;34m(self)\u001b[0m\n\u001b[1;32m    132\u001b[0m         \u001b[0mcommunities\u001b[0m \u001b[0;34m=\u001b[0m \u001b[0mk_clique_communities\u001b[0m\u001b[0;34m(\u001b[0m\u001b[0mG\u001b[0m \u001b[0;34m=\u001b[0m \u001b[0mself\u001b[0m\u001b[0;34m.\u001b[0m\u001b[0m__year_sub_graph\u001b[0m\u001b[0;34m,\u001b[0m \u001b[0mk\u001b[0m \u001b[0;34m=\u001b[0m \u001b[0;36m2\u001b[0m\u001b[0;34m)\u001b[0m\u001b[0;34m\u001b[0m\u001b[0;34m\u001b[0m\u001b[0m\n\u001b[1;32m    133\u001b[0m         \u001b[0;32mfor\u001b[0m \u001b[0mtopic\u001b[0m \u001b[0;32min\u001b[0m \u001b[0mcommunities\u001b[0m\u001b[0;34m:\u001b[0m\u001b[0;34m\u001b[0m\u001b[0;34m\u001b[0m\u001b[0m\n\u001b[0;32m--> 134\u001b[0;31m             \u001b[0mself\u001b[0m\u001b[0;34m.\u001b[0m\u001b[0mcheck_keywords\u001b[0m\u001b[0;34m(\u001b[0m\u001b[0mtopic\u001b[0m\u001b[0;34m)\u001b[0m\u001b[0;34m\u001b[0m\u001b[0;34m\u001b[0m\u001b[0m\n\u001b[0m\u001b[1;32m    135\u001b[0m             \u001b[0mself\u001b[0m\u001b[0;34m.\u001b[0m\u001b[0m__topics\u001b[0m\u001b[0;34m.\u001b[0m\u001b[0mappend\u001b[0m\u001b[0;34m(\u001b[0m\u001b[0mlist\u001b[0m\u001b[0;34m(\u001b[0m\u001b[0mtopic\u001b[0m\u001b[0;34m)\u001b[0m\u001b[0;34m)\u001b[0m\u001b[0;34m\u001b[0m\u001b[0;34m\u001b[0m\u001b[0m\n\u001b[1;32m    136\u001b[0m \u001b[0;34m\u001b[0m\u001b[0m\n",
      "\u001b[0;32m~/Universita/magistrale/web_and_social_information_extraction/webandsocial-progetto/src/overlaps_topics/overlap_topics.py\u001b[0m in \u001b[0;36mcheck_keywords\u001b[0;34m(self, topic)\u001b[0m\n\u001b[1;32m    119\u001b[0m \u001b[0;34m\u001b[0m\u001b[0m\n\u001b[1;32m    120\u001b[0m         \u001b[0;32mif\u001b[0m \u001b[0;32mnot\u001b[0m \u001b[0mregular\u001b[0m\u001b[0;34m:\u001b[0m\u001b[0;34m\u001b[0m\u001b[0;34m\u001b[0m\u001b[0m\n\u001b[0;32m--> 121\u001b[0;31m             \u001b[0;32mraise\u001b[0m \u001b[0mexcpt\u001b[0m\u001b[0;34m.\u001b[0m\u001b[0mTopicMalFormedException\u001b[0m\u001b[0;34m(\u001b[0m\u001b[0;34m\"Topic bad formed.\"\u001b[0m\u001b[0;34m)\u001b[0m\u001b[0;34m\u001b[0m\u001b[0;34m\u001b[0m\u001b[0m\n\u001b[0m\u001b[1;32m    122\u001b[0m \u001b[0;34m\u001b[0m\u001b[0m\n\u001b[1;32m    123\u001b[0m \u001b[0;34m\u001b[0m\u001b[0m\n",
      "\u001b[0;31mTopicMalFormedException\u001b[0m: Topic bad formed."
     ]
    }
   ],
   "source": [
    "overlap_merge_view_deg_neg(2018, k = 20)"
   ]
  },
  {
   "cell_type": "markdown",
   "metadata": {},
   "source": [
    "## Overlap merge with k = 100"
   ]
  },
  {
   "cell_type": "markdown",
   "metadata": {},
   "source": [
    "Applications of all configuration of Tipping Model with seed size 100."
   ]
  },
  {
   "cell_type": "code",
   "execution_count": 181,
   "metadata": {},
   "outputs": [],
   "source": [
    "spread_to_overlap_timeline_k(k = 100)"
   ]
  },
  {
   "cell_type": "markdown",
   "metadata": {},
   "source": [
    "### Year 2000"
   ]
  },
  {
   "cell_type": "code",
   "execution_count": 182,
   "metadata": {},
   "outputs": [
    {
     "name": "stdout",
     "output_type": "stream",
     "text": [
      "OVERLAP MERGING RESULT WITH CLIQUE PERCOLATION METHOD, TIPPING MODEL, SEED TOP 100 NODES AND DEG THRESHOLD CALCULATION STRATEGY.\n",
      "\n",
      "['delay', '43.80.+p', 'periodic solution', 'lyapunov functional']\n",
      "len_topic: 4\n",
      "\n",
      "['artificial neural network', 'neural network simulation']\n",
      "len_topic: 2\n",
      "\n",
      "['feature vector', 'experiment', 'support vector machine']\n",
      "len_topic: 3\n",
      "\n",
      "['simulation', 'nonlinear system', 'motion estimation\\xa0']\n",
      "len_topic: 3\n",
      "\n"
     ]
    }
   ],
   "source": [
    "overlap_merge_view_deg(2000, k = 100)"
   ]
  },
  {
   "cell_type": "code",
   "execution_count": 183,
   "metadata": {},
   "outputs": [
    {
     "name": "stdout",
     "output_type": "stream",
     "text": [
      "OVERLAP MERGING RESULT WITH CLIQUE PERCOLATION METHOD, TIPPING MODEL, SEED TOP 100 NODES AND HALF THRESHOLD CALCULATION STRATEGY.\n",
      "\n",
      "['delay', '43.80.+p', 'periodic solution', 'lyapunov functional']\n",
      "len_topic: 4\n",
      "\n",
      "['artificial neural network', 'neural network simulation']\n",
      "len_topic: 2\n",
      "\n",
      "['feature vector', 'experiment', 'support vector machine']\n",
      "len_topic: 3\n",
      "\n",
      "['simulation', 'nonlinear system', 'motion estimation\\xa0']\n",
      "len_topic: 3\n",
      "\n"
     ]
    }
   ],
   "source": [
    "overlap_merge_view_half(2000, k = 100)"
   ]
  },
  {
   "cell_type": "code",
   "execution_count": 184,
   "metadata": {},
   "outputs": [
    {
     "name": "stdout",
     "output_type": "stream",
     "text": [
      "OVERLAP MERGING RESULT WITH CLIQUE PERCOLATION METHOD, TIPPING MODEL, SEED TOP 100 NODES AND DEG NEGATIVE THRESHOLD CALCULATION STRATEGY.\n",
      "\n",
      "['delay', '43.80.+p', 'periodic solution', 'lyapunov functional']\n",
      "len_topic: 4\n",
      "\n",
      "['artificial neural network', 'neural network simulation']\n",
      "len_topic: 2\n",
      "\n",
      "['feature vector', 'experiment', 'support vector machine']\n",
      "len_topic: 3\n",
      "\n",
      "['simulation', 'nonlinear system', 'motion estimation\\xa0']\n",
      "len_topic: 3\n",
      "\n"
     ]
    }
   ],
   "source": [
    "overlap_merge_view_deg_neg(2000, k = 100)"
   ]
  },
  {
   "cell_type": "markdown",
   "metadata": {},
   "source": [
    "### Year 2001"
   ]
  },
  {
   "cell_type": "code",
   "execution_count": 185,
   "metadata": {},
   "outputs": [
    {
     "name": "stdout",
     "output_type": "stream",
     "text": [
      "OVERLAP MERGING RESULT WITH CLIQUE PERCOLATION METHOD, TIPPING MODEL, SEED TOP 100 NODES AND DEG THRESHOLD CALCULATION STRATEGY.\n",
      "\n",
      "['cluster analysis', 'real life', 'algorithm', 'artificial neural network', 'feedforward neural network']\n",
      "len_topic: 5\n",
      "\n",
      "['increment', 'projection learning', 'generalization (psychology)', 'generalization capability', 'multilayer feedforward neural networks', 'reproducing kernel hilbert space']\n",
      "len_topic: 6\n",
      "\n",
      "['linear systems', 'stochastic processes', 'laboratories', 'fading', 'deconvolution', 'smoothing methods', 'computer simulation', 'monte carlo methods', 'particle filters', 'filtering algorithms', 'signal processing', 'bayesian methods', 'filtering', 'state estimation', 'mathematics', 'state-space methods', 'signal processing algorithms']\n",
      "len_topic: 17\n",
      "\n",
      "['formal ontologies', 'transportable machine understanding']\n",
      "len_topic: 2\n",
      "\n",
      "['useful tools', 'domain ontologies', 'widely acknowledged']\n",
      "len_topic: 3\n",
      "\n",
      "['importance sampling\\xa0', 'markov chain monte carlo\\xa0']\n",
      "len_topic: 2\n",
      "\n",
      "['s function', 'passage method']\n",
      "len_topic: 2\n",
      "\n"
     ]
    }
   ],
   "source": [
    "overlap_merge_view_deg(2001, k = 100)"
   ]
  },
  {
   "cell_type": "code",
   "execution_count": 186,
   "metadata": {},
   "outputs": [
    {
     "name": "stdout",
     "output_type": "stream",
     "text": [
      "OVERLAP MERGING RESULT WITH CLIQUE PERCOLATION METHOD, TIPPING MODEL, SEED TOP 100 NODES AND HALF THRESHOLD CALCULATION STRATEGY.\n",
      "\n",
      "['cluster analysis', 'real life', 'algorithm', 'artificial neural network', 'feedforward neural network']\n",
      "len_topic: 5\n",
      "\n",
      "['increment', 'projection learning', 'generalization (psychology)', 'generalization capability', 'multilayer feedforward neural networks', 'reproducing kernel hilbert space']\n",
      "len_topic: 6\n",
      "\n",
      "['linear systems', 'stochastic processes', 'laboratories', 'fading', 'deconvolution', 'smoothing methods', 'computer simulation', 'monte carlo methods', 'particle filters', 'filtering algorithms', 'signal processing', 'bayesian methods', 'filtering', 'state estimation', 'mathematics', 'state-space methods', 'signal processing algorithms']\n",
      "len_topic: 17\n",
      "\n",
      "['formal ontologies', 'transportable machine understanding']\n",
      "len_topic: 2\n",
      "\n",
      "['useful tools', 'domain ontologies', 'widely acknowledged']\n",
      "len_topic: 3\n",
      "\n",
      "['importance sampling\\xa0', 'markov chain monte carlo\\xa0']\n",
      "len_topic: 2\n",
      "\n",
      "['s function', 'passage method']\n",
      "len_topic: 2\n",
      "\n"
     ]
    }
   ],
   "source": [
    "overlap_merge_view_half(2001, k = 100)"
   ]
  },
  {
   "cell_type": "code",
   "execution_count": 187,
   "metadata": {},
   "outputs": [
    {
     "name": "stdout",
     "output_type": "stream",
     "text": [
      "OVERLAP MERGING RESULT WITH CLIQUE PERCOLATION METHOD, TIPPING MODEL, SEED TOP 100 NODES AND DEG NEGATIVE THRESHOLD CALCULATION STRATEGY.\n",
      "\n",
      "['cluster analysis', 'real life', 'algorithm', 'artificial neural network', 'feedforward neural network']\n",
      "len_topic: 5\n",
      "\n",
      "['increment', 'projection learning', 'generalization (psychology)', 'generalization capability', 'multilayer feedforward neural networks', 'reproducing kernel hilbert space']\n",
      "len_topic: 6\n",
      "\n",
      "['linear systems', 'stochastic processes', 'laboratories', 'fading', 'deconvolution', 'smoothing methods', 'computer simulation', 'monte carlo methods', 'particle filters', 'filtering algorithms', 'signal processing', 'bayesian methods', 'filtering', 'state estimation', 'mathematics', 'state-space methods', 'signal processing algorithms']\n",
      "len_topic: 17\n",
      "\n",
      "['formal ontologies', 'transportable machine understanding']\n",
      "len_topic: 2\n",
      "\n",
      "['useful tools', 'domain ontologies', 'widely acknowledged']\n",
      "len_topic: 3\n",
      "\n",
      "['importance sampling\\xa0', 'markov chain monte carlo\\xa0']\n",
      "len_topic: 2\n",
      "\n",
      "['s function', 'passage method']\n",
      "len_topic: 2\n",
      "\n"
     ]
    }
   ],
   "source": [
    "overlap_merge_view_deg_neg(2001, k = 100)"
   ]
  },
  {
   "cell_type": "markdown",
   "metadata": {},
   "source": [
    "### Year 2002"
   ]
  },
  {
   "cell_type": "code",
   "execution_count": 188,
   "metadata": {},
   "outputs": [
    {
     "name": "stdout",
     "output_type": "stream",
     "text": [
      "OVERLAP MERGING RESULT WITH CLIQUE PERCOLATION METHOD, TIPPING MODEL, SEED TOP 100 NODES AND DEG THRESHOLD CALCULATION STRATEGY.\n",
      "\n",
      "['lyapunov function', 'global exponential stability']\n",
      "len_topic: 2\n",
      "\n",
      "['consider thinking', 'business models']\n",
      "len_topic: 2\n",
      "\n",
      "['patent trademark', 'program product', 'intellectual property', 'organization company']\n",
      "len_topic: 4\n",
      "\n",
      "['unsupervised learning', 'important method', 'independent component analysis', 'overcomplete situation', 'blind source separation']\n",
      "len_topic: 5\n",
      "\n",
      "['bayesian methods', 'speech processing', 'monte carlo methods', 'signal processing']\n",
      "len_topic: 4\n",
      "\n",
      "['state estimation', 'filtering algorithms']\n",
      "len_topic: 2\n",
      "\n"
     ]
    }
   ],
   "source": [
    "overlap_merge_view_deg(2002, k = 100)"
   ]
  },
  {
   "cell_type": "code",
   "execution_count": 189,
   "metadata": {},
   "outputs": [
    {
     "name": "stdout",
     "output_type": "stream",
     "text": [
      "OVERLAP MERGING RESULT WITH CLIQUE PERCOLATION METHOD, TIPPING MODEL, SEED TOP 100 NODES AND HALF THRESHOLD CALCULATION STRATEGY.\n",
      "\n",
      "['lyapunov function', 'global exponential stability']\n",
      "len_topic: 2\n",
      "\n",
      "['consider thinking', 'business models']\n",
      "len_topic: 2\n",
      "\n",
      "['patent trademark', 'program product', 'intellectual property', 'organization company']\n",
      "len_topic: 4\n",
      "\n",
      "['unsupervised learning', 'important method', 'independent component analysis', 'overcomplete situation', 'blind source separation']\n",
      "len_topic: 5\n",
      "\n",
      "['bayesian methods', 'speech processing', 'monte carlo methods', 'signal processing']\n",
      "len_topic: 4\n",
      "\n",
      "['state estimation', 'filtering algorithms']\n",
      "len_topic: 2\n",
      "\n"
     ]
    }
   ],
   "source": [
    "overlap_merge_view_half(2002, k = 100)"
   ]
  },
  {
   "cell_type": "code",
   "execution_count": 190,
   "metadata": {},
   "outputs": [
    {
     "name": "stdout",
     "output_type": "stream",
     "text": [
      "OVERLAP MERGING RESULT WITH CLIQUE PERCOLATION METHOD, TIPPING MODEL, SEED TOP 100 NODES AND DEG NEGATIVE THRESHOLD CALCULATION STRATEGY.\n",
      "\n",
      "['lyapunov function', 'global exponential stability']\n",
      "len_topic: 2\n",
      "\n",
      "['consider thinking', 'business models']\n",
      "len_topic: 2\n",
      "\n",
      "['patent trademark', 'program product', 'intellectual property', 'organization company']\n",
      "len_topic: 4\n",
      "\n",
      "['unsupervised learning', 'important method', 'independent component analysis', 'overcomplete situation', 'blind source separation']\n",
      "len_topic: 5\n",
      "\n",
      "['bayesian methods', 'speech processing', 'monte carlo methods', 'signal processing']\n",
      "len_topic: 4\n",
      "\n",
      "['state estimation', 'filtering algorithms']\n",
      "len_topic: 2\n",
      "\n"
     ]
    }
   ],
   "source": [
    "overlap_merge_view_deg_neg(2002, k = 100)"
   ]
  },
  {
   "cell_type": "markdown",
   "metadata": {},
   "source": [
    "### Year 2003 "
   ]
  },
  {
   "cell_type": "code",
   "execution_count": 191,
   "metadata": {},
   "outputs": [
    {
     "name": "stdout",
     "output_type": "stream",
     "text": [
      "OVERLAP MERGING RESULT WITH CLIQUE PERCOLATION METHOD, TIPPING MODEL, SEED TOP 100 NODES AND DEG THRESHOLD CALCULATION STRATEGY.\n",
      "\n",
      "['neural networks', 'sufficient conditions', '87.18.sn', '85.40.ls', 'global exponential stability', 'lyapunov functional', '87.10.+e', 'periodic solution', 'global asymptotic stability', 'young inequality', '43.80.+p', 'recurrent neural networks']\n",
      "len_topic: 12\n",
      "\n",
      "['existing techniques', 'paper presents', 'automatic page adaptation', 'visual perception', 'tree independent approach', 'visual representation', 'web applications']\n",
      "len_topic: 7\n",
      "\n",
      "['content-addressable memory', 'neural network']\n",
      "len_topic: 2\n",
      "\n",
      "['progress report', 'formal specification', 'ontowordnet project', 'preliminary results provide', 'dolce foundational ontology', 'research program aimed', 'consistent modularized', 'research program aiming']\n",
      "len_topic: 8\n",
      "\n",
      "['scheduling (computing)', 'random number generation', 'computation', 'grid computing', 'monte carlo method']\n",
      "len_topic: 5\n",
      "\n",
      "['real life', 'scalability', 'algorithm', 'feature vector', 'heuristic', 'first-order predicate', 'pattern recognition', 'really simple discovery', 'dimensionality reduction', 'singular value decomposition']\n",
      "len_topic: 10\n",
      "\n",
      "['cluster representation', 'text categorization', 'computed using', 'combines distributional clustering', 'support vector machine']\n",
      "len_topic: 5\n",
      "\n",
      "['filtering', 'state estimation', 'state-space methods']\n",
      "len_topic: 3\n",
      "\n",
      "['87.15.vv', '84.37.+q', '82.20.pm', 'walk on spheres (wos)']\n",
      "len_topic: 4\n",
      "\n",
      "['robustness', 'signal processing', 'bayesian methods', 'deconvolution']\n",
      "len_topic: 4\n",
      "\n",
      "['noiseless context', 'original bayesian approach']\n",
      "len_topic: 2\n",
      "\n"
     ]
    }
   ],
   "source": [
    "overlap_merge_view_deg(2003, k = 100)"
   ]
  },
  {
   "cell_type": "code",
   "execution_count": 192,
   "metadata": {},
   "outputs": [
    {
     "name": "stdout",
     "output_type": "stream",
     "text": [
      "OVERLAP MERGING RESULT WITH CLIQUE PERCOLATION METHOD, TIPPING MODEL, SEED TOP 100 NODES AND HALF THRESHOLD CALCULATION STRATEGY.\n",
      "\n",
      "['neural networks', 'sufficient conditions', '87.18.sn', '85.40.ls', 'global exponential stability', 'lyapunov functional', '87.10.+e', 'periodic solution', 'global asymptotic stability', 'young inequality', '43.80.+p', 'recurrent neural networks']\n",
      "len_topic: 12\n",
      "\n",
      "['existing techniques', 'paper presents', 'automatic page adaptation', 'visual perception', 'tree independent approach', 'visual representation', 'web applications']\n",
      "len_topic: 7\n",
      "\n",
      "['content-addressable memory', 'neural network']\n",
      "len_topic: 2\n",
      "\n",
      "['progress report', 'formal specification', 'ontowordnet project', 'preliminary results provide', 'dolce foundational ontology', 'research program aimed', 'consistent modularized', 'research program aiming']\n",
      "len_topic: 8\n",
      "\n",
      "['scheduling (computing)', 'random number generation', 'computation', 'grid computing', 'monte carlo method']\n",
      "len_topic: 5\n",
      "\n",
      "['real life', 'scalability', 'algorithm', 'feature vector', 'heuristic', 'first-order predicate', 'pattern recognition', 'really simple discovery', 'dimensionality reduction', 'singular value decomposition']\n",
      "len_topic: 10\n",
      "\n",
      "['cluster representation', 'text categorization', 'computed using', 'combines distributional clustering', 'support vector machine']\n",
      "len_topic: 5\n",
      "\n",
      "['filtering', 'state estimation', 'state-space methods']\n",
      "len_topic: 3\n",
      "\n",
      "['87.15.vv', '84.37.+q', '82.20.pm', 'walk on spheres (wos)']\n",
      "len_topic: 4\n",
      "\n",
      "['robustness', 'signal processing', 'bayesian methods', 'deconvolution']\n",
      "len_topic: 4\n",
      "\n",
      "['noiseless context', 'original bayesian approach']\n",
      "len_topic: 2\n",
      "\n"
     ]
    }
   ],
   "source": [
    "overlap_merge_view_half(2003, k = 100)"
   ]
  },
  {
   "cell_type": "code",
   "execution_count": 193,
   "metadata": {},
   "outputs": [
    {
     "name": "stdout",
     "output_type": "stream",
     "text": [
      "OVERLAP MERGING RESULT WITH CLIQUE PERCOLATION METHOD, TIPPING MODEL, SEED TOP 100 NODES AND DEG NEGATIVE THRESHOLD CALCULATION STRATEGY.\n",
      "\n",
      "['neural networks', 'sufficient conditions', '87.18.sn', '85.40.ls', 'global exponential stability', 'lyapunov functional', '87.10.+e', 'periodic solution', 'global asymptotic stability', 'young inequality', '43.80.+p', 'recurrent neural networks']\n",
      "len_topic: 12\n",
      "\n",
      "['existing techniques', 'paper presents', 'automatic page adaptation', 'visual perception', 'tree independent approach', 'visual representation', 'web applications']\n",
      "len_topic: 7\n",
      "\n",
      "['content-addressable memory', 'neural network']\n",
      "len_topic: 2\n",
      "\n",
      "['progress report', 'formal specification', 'ontowordnet project', 'preliminary results provide', 'dolce foundational ontology', 'research program aimed', 'consistent modularized', 'research program aiming']\n",
      "len_topic: 8\n",
      "\n",
      "['scheduling (computing)', 'random number generation', 'computation', 'grid computing', 'monte carlo method']\n",
      "len_topic: 5\n",
      "\n",
      "['real life', 'scalability', 'algorithm', 'feature vector', 'heuristic', 'first-order predicate', 'pattern recognition', 'really simple discovery', 'dimensionality reduction', 'singular value decomposition']\n",
      "len_topic: 10\n",
      "\n",
      "['cluster representation', 'text categorization', 'computed using', 'combines distributional clustering', 'support vector machine']\n",
      "len_topic: 5\n",
      "\n",
      "['filtering', 'state estimation', 'state-space methods']\n",
      "len_topic: 3\n",
      "\n",
      "['87.15.vv', '84.37.+q', '82.20.pm', 'walk on spheres (wos)']\n",
      "len_topic: 4\n",
      "\n",
      "['robustness', 'signal processing', 'bayesian methods', 'deconvolution']\n",
      "len_topic: 4\n",
      "\n",
      "['noiseless context', 'original bayesian approach']\n",
      "len_topic: 2\n",
      "\n"
     ]
    }
   ],
   "source": [
    "overlap_merge_view_deg_neg(2003, k = 100)"
   ]
  },
  {
   "cell_type": "markdown",
   "metadata": {},
   "source": [
    "### Year 2004"
   ]
  },
  {
   "cell_type": "code",
   "execution_count": 194,
   "metadata": {},
   "outputs": [
    {
     "name": "stdout",
     "output_type": "stream",
     "text": [
      "OVERLAP MERGING RESULT WITH CLIQUE PERCOLATION METHOD, TIPPING MODEL, SEED TOP 100 NODES AND DEG THRESHOLD CALCULATION STRATEGY.\n",
      "\n",
      "['real life', 'apache ant (another neat tool)', 'algorithm', 'rule (guideline)', 'heuristic', 'apriori algorithm', 'subgroup a nepoviruses', 'ant colony optimization algorithms', 'consortium', 'large', 'stochastic process', 'reinforcement learning', 'roc curve', 'class', 'biasing']\n",
      "len_topic: 15\n",
      "\n",
      "['efficient method', 'images available', 'increasing demand', 'digital images', 'rapid growth']\n",
      "len_topic: 5\n",
      "\n",
      "['map', 'shading', 'autostereogram', 'interpolation', 'view synthesis', 'photometric stereo']\n",
      "len_topic: 6\n",
      "\n",
      "['domain specialists', 'ontology evaluation', 'conceptualisation effort produced', 'paper provides', 'knowledge engineers', 'proposed evaluation strategy', 'different learning circumstances', 'ontolearn ontology learning', 'detailed quantitative analysis', 'ontology learning algorithms', 'critical task']\n",
      "len_topic: 11\n",
      "\n",
      "['bi-directional associative memory (bam)', 'lyapunov functional']\n",
      "len_topic: 2\n",
      "\n",
      "['original document', 'deep syntactic analysis', 'document summary', 'extract sentences', 'summarizing document', 'reference resolution', 'apply cross', 'semantic normalization', 'semantic graph', 'sentence pronoun resolution']\n",
      "len_topic: 10\n",
      "\n",
      "['user study', 'uniform approach', 'consistent view', 'previous work shows', 'multiple segments', 'differentiating noisy', 'link analysis', 'web page']\n",
      "len_topic: 8\n",
      "\n",
      "['random number generation', 'computation', 'parallel computing', 'pseudorandom number generator', 'monte carlo method', 'linear congruential generator']\n",
      "len_topic: 6\n",
      "\n",
      "['desktop workstation', 'implementing systems', 'large number', 'real time', 'certain applications', 'time vision', 'recent advances']\n",
      "len_topic: 7\n",
      "\n",
      "['accurately extracted', 'block containing', 'link information']\n",
      "len_topic: 3\n",
      "\n",
      "['digital libraries', 'fundamental ions', 'complex information systems', 'interoperability suffers']\n",
      "len_topic: 4\n",
      "\n",
      "['experiment', 'linear discriminant analysis', 'particle swarm optimization', 'mathematical optimization', 'benchmark (computing)']\n",
      "len_topic: 5\n",
      "\n",
      "['overfitting', 'test set']\n",
      "len_topic: 2\n",
      "\n",
      "['facial recognition system', 'database']\n",
      "len_topic: 2\n",
      "\n"
     ]
    }
   ],
   "source": [
    "overlap_merge_view_deg(2004, k = 100)"
   ]
  },
  {
   "cell_type": "code",
   "execution_count": 195,
   "metadata": {},
   "outputs": [
    {
     "name": "stdout",
     "output_type": "stream",
     "text": [
      "OVERLAP MERGING RESULT WITH CLIQUE PERCOLATION METHOD, TIPPING MODEL, SEED TOP 100 NODES AND HALF THRESHOLD CALCULATION STRATEGY.\n",
      "\n",
      "['real life', 'apache ant (another neat tool)', 'algorithm', 'rule (guideline)', 'heuristic', 'apriori algorithm', 'subgroup a nepoviruses', 'ant colony optimization algorithms', 'consortium', 'large', 'stochastic process', 'reinforcement learning', 'roc curve', 'class', 'biasing']\n",
      "len_topic: 15\n",
      "\n",
      "['efficient method', 'images available', 'increasing demand', 'digital images', 'rapid growth']\n",
      "len_topic: 5\n",
      "\n",
      "['map', 'shading', 'autostereogram', 'interpolation', 'view synthesis', 'photometric stereo']\n",
      "len_topic: 6\n",
      "\n",
      "['domain specialists', 'ontology evaluation', 'conceptualisation effort produced', 'paper provides', 'knowledge engineers', 'proposed evaluation strategy', 'different learning circumstances', 'ontolearn ontology learning', 'detailed quantitative analysis', 'ontology learning algorithms', 'critical task']\n",
      "len_topic: 11\n",
      "\n",
      "['bi-directional associative memory (bam)', 'lyapunov functional']\n",
      "len_topic: 2\n",
      "\n",
      "['original document', 'deep syntactic analysis', 'document summary', 'extract sentences', 'summarizing document', 'reference resolution', 'apply cross', 'semantic normalization', 'semantic graph', 'sentence pronoun resolution']\n",
      "len_topic: 10\n",
      "\n",
      "['user study', 'uniform approach', 'consistent view', 'previous work shows', 'multiple segments', 'differentiating noisy', 'link analysis', 'web page']\n",
      "len_topic: 8\n",
      "\n",
      "['random number generation', 'computation', 'parallel computing', 'pseudorandom number generator', 'monte carlo method', 'linear congruential generator']\n",
      "len_topic: 6\n",
      "\n",
      "['desktop workstation', 'implementing systems', 'large number', 'real time', 'certain applications', 'time vision', 'recent advances']\n",
      "len_topic: 7\n",
      "\n",
      "['accurately extracted', 'block containing', 'link information']\n",
      "len_topic: 3\n",
      "\n",
      "['digital libraries', 'fundamental ions', 'complex information systems', 'interoperability suffers']\n",
      "len_topic: 4\n",
      "\n",
      "['experiment', 'linear discriminant analysis', 'particle swarm optimization', 'mathematical optimization', 'benchmark (computing)']\n",
      "len_topic: 5\n",
      "\n",
      "['overfitting', 'test set']\n",
      "len_topic: 2\n",
      "\n",
      "['facial recognition system', 'database']\n",
      "len_topic: 2\n",
      "\n"
     ]
    }
   ],
   "source": [
    "overlap_merge_view_half(2004, k = 100)"
   ]
  },
  {
   "cell_type": "code",
   "execution_count": 196,
   "metadata": {},
   "outputs": [
    {
     "name": "stdout",
     "output_type": "stream",
     "text": [
      "OVERLAP MERGING RESULT WITH CLIQUE PERCOLATION METHOD, TIPPING MODEL, SEED TOP 100 NODES AND DEG NEGATIVE THRESHOLD CALCULATION STRATEGY.\n",
      "\n",
      "['real life', 'apache ant (another neat tool)', 'algorithm', 'rule (guideline)', 'heuristic', 'apriori algorithm', 'subgroup a nepoviruses', 'ant colony optimization algorithms', 'consortium', 'large', 'stochastic process', 'reinforcement learning', 'roc curve', 'class', 'biasing']\n",
      "len_topic: 15\n",
      "\n",
      "['efficient method', 'images available', 'increasing demand', 'digital images', 'rapid growth']\n",
      "len_topic: 5\n",
      "\n",
      "['map', 'shading', 'autostereogram', 'interpolation', 'view synthesis', 'photometric stereo']\n",
      "len_topic: 6\n",
      "\n",
      "['domain specialists', 'ontology evaluation', 'conceptualisation effort produced', 'paper provides', 'knowledge engineers', 'proposed evaluation strategy', 'different learning circumstances', 'ontolearn ontology learning', 'detailed quantitative analysis', 'ontology learning algorithms', 'critical task']\n",
      "len_topic: 11\n",
      "\n",
      "['bi-directional associative memory (bam)', 'lyapunov functional']\n",
      "len_topic: 2\n",
      "\n",
      "['original document', 'deep syntactic analysis', 'document summary', 'extract sentences', 'summarizing document', 'reference resolution', 'apply cross', 'semantic normalization', 'semantic graph', 'sentence pronoun resolution']\n",
      "len_topic: 10\n",
      "\n",
      "['user study', 'uniform approach', 'consistent view', 'previous work shows', 'multiple segments', 'differentiating noisy', 'link analysis', 'web page']\n",
      "len_topic: 8\n",
      "\n",
      "['random number generation', 'computation', 'parallel computing', 'pseudorandom number generator', 'monte carlo method', 'linear congruential generator']\n",
      "len_topic: 6\n",
      "\n",
      "['desktop workstation', 'implementing systems', 'large number', 'real time', 'certain applications', 'time vision', 'recent advances']\n",
      "len_topic: 7\n",
      "\n",
      "['accurately extracted', 'block containing', 'link information']\n",
      "len_topic: 3\n",
      "\n",
      "['digital libraries', 'fundamental ions', 'complex information systems', 'interoperability suffers']\n",
      "len_topic: 4\n",
      "\n",
      "['experiment', 'linear discriminant analysis', 'particle swarm optimization', 'mathematical optimization', 'benchmark (computing)']\n",
      "len_topic: 5\n",
      "\n",
      "['overfitting', 'test set']\n",
      "len_topic: 2\n",
      "\n",
      "['facial recognition system', 'database']\n",
      "len_topic: 2\n",
      "\n"
     ]
    }
   ],
   "source": [
    "overlap_merge_view_deg_neg(2004, k = 100)"
   ]
  },
  {
   "cell_type": "markdown",
   "metadata": {},
   "source": [
    "### Year 2005"
   ]
  },
  {
   "cell_type": "code",
   "execution_count": 197,
   "metadata": {},
   "outputs": [
    {
     "name": "stdout",
     "output_type": "stream",
     "text": [
      "OVERLAP MERGING RESULT WITH CLIQUE PERCOLATION METHOD, TIPPING MODEL, SEED TOP 100 NODES AND DEG THRESHOLD CALCULATION STRATEGY.\n",
      "\n",
      "['lyapunov method', 'convex optimization']\n",
      "len_topic: 2\n",
      "\n",
      "['wide applicability', 'cluster groups', 'synthetic mri', 'satellite images', 'user specified number', 'algorithm finds', 'experimental results']\n",
      "len_topic: 7\n",
      "\n",
      "['nonuniform lighting conditions', 'digital images captured', 'visual quality', 'similar way', 'tone frequency components', 'human eyes sensing', 'adaptive enhancement']\n",
      "len_topic: 7\n",
      "\n",
      "['sliding mode control', 'bayesian methods', 'random variables', 'inference algorithms', 'monte carlo methods', 'statistics']\n",
      "len_topic: 6\n",
      "\n",
      "['neural networks', 'periodic solutions', 'discrete-time', 'cellular neural networks', 'global exponential stability']\n",
      "len_topic: 5\n",
      "\n",
      "['radio resources', 'coordinated management']\n",
      "len_topic: 2\n",
      "\n",
      "['probability distribution', 'state estimation', 'mathematics']\n",
      "len_topic: 3\n",
      "\n",
      "['face images', 'face recognition']\n",
      "len_topic: 2\n",
      "\n",
      "['lyapunov fractal', 'social inequality', 'neural network simulation', 'activation function', 'recurrent neural network', 'artificial neural network']\n",
      "len_topic: 6\n",
      "\n",
      "['problem domain', 'scalability']\n",
      "len_topic: 2\n",
      "\n",
      "['genetic algorithm', 'algorithm', 'swarm robotics', 'mathematical optimization', 'benchmark (computing)', 'evolutionary computation', 'simulation', 'particle swarm optimization']\n",
      "len_topic: 8\n",
      "\n",
      "['bam neural networks', 'exponential stability']\n",
      "len_topic: 2\n",
      "\n",
      "['gaussian approximation', 'transmitting antennas', 'mimo', 'receiving antennas']\n",
      "len_topic: 4\n",
      "\n",
      "['usable methodologies', 'world wide web', 'ontology building', 'methods proposed', 'semantic web', 'knowledge representation', 'making available large', 'widely used standards', 'aware version']\n",
      "len_topic: 9\n",
      "\n",
      "['global asymptotic stability', 'equilibrium point', 'linear matrix inequality']\n",
      "len_topic: 3\n",
      "\n",
      "['volume brings', 'related topics']\n",
      "len_topic: 2\n",
      "\n"
     ]
    }
   ],
   "source": [
    "overlap_merge_view_deg(2005, k = 100)"
   ]
  },
  {
   "cell_type": "code",
   "execution_count": 198,
   "metadata": {},
   "outputs": [
    {
     "name": "stdout",
     "output_type": "stream",
     "text": [
      "OVERLAP MERGING RESULT WITH CLIQUE PERCOLATION METHOD, TIPPING MODEL, SEED TOP 100 NODES AND HALF THRESHOLD CALCULATION STRATEGY.\n",
      "\n",
      "['lyapunov method', 'convex optimization']\n",
      "len_topic: 2\n",
      "\n",
      "['wide applicability', 'cluster groups', 'synthetic mri', 'satellite images', 'user specified number', 'algorithm finds', 'experimental results']\n",
      "len_topic: 7\n",
      "\n",
      "['nonuniform lighting conditions', 'digital images captured', 'visual quality', 'similar way', 'tone frequency components', 'human eyes sensing', 'adaptive enhancement']\n",
      "len_topic: 7\n",
      "\n",
      "['sliding mode control', 'bayesian methods', 'random variables', 'inference algorithms', 'monte carlo methods', 'statistics']\n",
      "len_topic: 6\n",
      "\n",
      "['neural networks', 'periodic solutions', 'discrete-time', 'cellular neural networks', 'global exponential stability']\n",
      "len_topic: 5\n",
      "\n",
      "['radio resources', 'coordinated management']\n",
      "len_topic: 2\n",
      "\n",
      "['probability distribution', 'state estimation', 'mathematics']\n",
      "len_topic: 3\n",
      "\n",
      "['face images', 'face recognition']\n",
      "len_topic: 2\n",
      "\n",
      "['lyapunov fractal', 'social inequality', 'neural network simulation', 'activation function', 'recurrent neural network', 'artificial neural network']\n",
      "len_topic: 6\n",
      "\n",
      "['problem domain', 'scalability']\n",
      "len_topic: 2\n",
      "\n",
      "['genetic algorithm', 'algorithm', 'swarm robotics', 'mathematical optimization', 'benchmark (computing)', 'evolutionary computation', 'simulation', 'particle swarm optimization']\n",
      "len_topic: 8\n",
      "\n",
      "['bam neural networks', 'exponential stability']\n",
      "len_topic: 2\n",
      "\n",
      "['gaussian approximation', 'transmitting antennas', 'mimo', 'receiving antennas']\n",
      "len_topic: 4\n",
      "\n",
      "['usable methodologies', 'world wide web', 'ontology building', 'methods proposed', 'semantic web', 'knowledge representation', 'making available large', 'widely used standards', 'aware version']\n",
      "len_topic: 9\n",
      "\n",
      "['global asymptotic stability', 'equilibrium point', 'linear matrix inequality']\n",
      "len_topic: 3\n",
      "\n",
      "['volume brings', 'related topics']\n",
      "len_topic: 2\n",
      "\n"
     ]
    }
   ],
   "source": [
    "overlap_merge_view_half(2005, k = 100)"
   ]
  },
  {
   "cell_type": "code",
   "execution_count": 199,
   "metadata": {},
   "outputs": [
    {
     "name": "stdout",
     "output_type": "stream",
     "text": [
      "OVERLAP MERGING RESULT WITH CLIQUE PERCOLATION METHOD, TIPPING MODEL, SEED TOP 100 NODES AND DEG NEGATIVE THRESHOLD CALCULATION STRATEGY.\n",
      "\n",
      "['lyapunov method', 'convex optimization']\n",
      "len_topic: 2\n",
      "\n",
      "['wide applicability', 'cluster groups', 'synthetic mri', 'satellite images', 'user specified number', 'algorithm finds', 'experimental results']\n",
      "len_topic: 7\n",
      "\n",
      "['nonuniform lighting conditions', 'digital images captured', 'visual quality', 'similar way', 'tone frequency components', 'human eyes sensing', 'adaptive enhancement']\n",
      "len_topic: 7\n",
      "\n",
      "['sliding mode control', 'bayesian methods', 'random variables', 'inference algorithms', 'monte carlo methods', 'statistics']\n",
      "len_topic: 6\n",
      "\n",
      "['neural networks', 'periodic solutions', 'discrete-time', 'cellular neural networks', 'global exponential stability']\n",
      "len_topic: 5\n",
      "\n",
      "['radio resources', 'coordinated management']\n",
      "len_topic: 2\n",
      "\n",
      "['probability distribution', 'state estimation', 'mathematics']\n",
      "len_topic: 3\n",
      "\n",
      "['face images', 'face recognition']\n",
      "len_topic: 2\n",
      "\n",
      "['lyapunov fractal', 'social inequality', 'neural network simulation', 'activation function', 'recurrent neural network', 'artificial neural network']\n",
      "len_topic: 6\n",
      "\n",
      "['problem domain', 'scalability']\n",
      "len_topic: 2\n",
      "\n",
      "['genetic algorithm', 'algorithm', 'swarm robotics', 'mathematical optimization', 'benchmark (computing)', 'evolutionary computation', 'simulation', 'particle swarm optimization']\n",
      "len_topic: 8\n",
      "\n",
      "['bam neural networks', 'exponential stability']\n",
      "len_topic: 2\n",
      "\n",
      "['gaussian approximation', 'transmitting antennas', 'mimo', 'receiving antennas']\n",
      "len_topic: 4\n",
      "\n",
      "['usable methodologies', 'world wide web', 'ontology building', 'methods proposed', 'semantic web', 'knowledge representation', 'making available large', 'widely used standards', 'aware version']\n",
      "len_topic: 9\n",
      "\n",
      "['global asymptotic stability', 'equilibrium point', 'linear matrix inequality']\n",
      "len_topic: 3\n",
      "\n",
      "['volume brings', 'related topics']\n",
      "len_topic: 2\n",
      "\n"
     ]
    }
   ],
   "source": [
    "overlap_merge_view_deg_neg(2005, k = 100)"
   ]
  },
  {
   "cell_type": "markdown",
   "metadata": {},
   "source": [
    "### Year 2006"
   ]
  },
  {
   "cell_type": "code",
   "execution_count": 200,
   "metadata": {},
   "outputs": [
    {
     "name": "stdout",
     "output_type": "stream",
     "text": [
      "OVERLAP MERGING RESULT WITH CLIQUE PERCOLATION METHOD, TIPPING MODEL, SEED TOP 100 NODES AND DEG THRESHOLD CALCULATION STRATEGY.\n",
      "\n",
      "['delicate anatomical structures', 'arachnoid spinal space', 'tiny space', 'paper refers', 'biomedical application', 'strongly challenging']\n",
      "len_topic: 6\n",
      "\n",
      "['lyapunov function', 'permanence', 'lower average', '34d40', '34c25', 'globally asymptotic stability', 'primary 34c05', 'upper average', 'feedback control']\n",
      "len_topic: 9\n",
      "\n",
      "['lyapunov fractal', 'neural networks', 'computation', 'quantum', 'algorithm', 'variational principle', 'time-varying delays', 'artificial neural network', 'linear matrix inequality', 'computationally efficient', 'linear discriminant analysis', 'periodic solution', 'hessian', 'time delays', 'experiment', 'stochastic systems', 'cohen–grossberg neural network', 'hopfield neural networks', 'optimization problem', 'sufficient conditions', 'particle swarm optimization', 'gradient', 'global exponential stability', 'lyapunov–krasovskii functional', 'discrete delays', 'machine learning', 'global asymptotic stability', 'uncertain systems', 'distributed delays', 'discrete and distributed delays', 'numerical analysis']\n",
      "len_topic: 31\n",
      "\n",
      "['feature vector', 'mathematical induction', 'finite-state machine']\n",
      "len_topic: 3\n",
      "\n",
      "['core ontology\\xa0', 'ontology learning\\xa0']\n",
      "len_topic: 2\n",
      "\n",
      "['standard defines', 'information models', 'currently different standards', 'compliant information systems']\n",
      "len_topic: 4\n",
      "\n",
      "['paper presents', 'frw method']\n",
      "len_topic: 2\n",
      "\n",
      "['search engines', 'ontology libraries']\n",
      "len_topic: 2\n",
      "\n",
      "['cognitive radio', 'phy (chip)']\n",
      "len_topic: 2\n",
      "\n"
     ]
    }
   ],
   "source": [
    "overlap_merge_view_deg(2006, k = 100)"
   ]
  },
  {
   "cell_type": "code",
   "execution_count": 201,
   "metadata": {},
   "outputs": [
    {
     "name": "stdout",
     "output_type": "stream",
     "text": [
      "OVERLAP MERGING RESULT WITH CLIQUE PERCOLATION METHOD, TIPPING MODEL, SEED TOP 100 NODES AND HALF THRESHOLD CALCULATION STRATEGY.\n",
      "\n",
      "['delicate anatomical structures', 'arachnoid spinal space', 'tiny space', 'paper refers', 'biomedical application', 'strongly challenging']\n",
      "len_topic: 6\n",
      "\n",
      "['lyapunov function', 'permanence', 'lower average', '34d40', '34c25', 'globally asymptotic stability', 'primary 34c05', 'upper average', 'feedback control']\n",
      "len_topic: 9\n",
      "\n",
      "['lyapunov fractal', 'neural networks', 'computation', 'quantum', 'algorithm', 'variational principle', 'time-varying delays', 'artificial neural network', 'linear matrix inequality', 'computationally efficient', 'linear discriminant analysis', 'periodic solution', 'hessian', 'time delays', 'experiment', 'stochastic systems', 'cohen–grossberg neural network', 'hopfield neural networks', 'optimization problem', 'sufficient conditions', 'particle swarm optimization', 'gradient', 'global exponential stability', 'lyapunov–krasovskii functional', 'discrete delays', 'machine learning', 'global asymptotic stability', 'uncertain systems', 'distributed delays', 'discrete and distributed delays', 'numerical analysis']\n",
      "len_topic: 31\n",
      "\n",
      "['feature vector', 'mathematical induction', 'finite-state machine']\n",
      "len_topic: 3\n",
      "\n",
      "['core ontology\\xa0', 'ontology learning\\xa0']\n",
      "len_topic: 2\n",
      "\n",
      "['standard defines', 'information models', 'currently different standards', 'compliant information systems']\n",
      "len_topic: 4\n",
      "\n",
      "['paper presents', 'frw method']\n",
      "len_topic: 2\n",
      "\n",
      "['search engines', 'ontology libraries']\n",
      "len_topic: 2\n",
      "\n",
      "['cognitive radio', 'phy (chip)']\n",
      "len_topic: 2\n",
      "\n"
     ]
    }
   ],
   "source": [
    "overlap_merge_view_half(2006, k = 100)"
   ]
  },
  {
   "cell_type": "code",
   "execution_count": 202,
   "metadata": {},
   "outputs": [
    {
     "name": "stdout",
     "output_type": "stream",
     "text": [
      "OVERLAP MERGING RESULT WITH CLIQUE PERCOLATION METHOD, TIPPING MODEL, SEED TOP 100 NODES AND DEG NEGATIVE THRESHOLD CALCULATION STRATEGY.\n",
      "\n",
      "['delicate anatomical structures', 'arachnoid spinal space', 'tiny space', 'paper refers', 'biomedical application', 'strongly challenging']\n",
      "len_topic: 6\n",
      "\n",
      "['lyapunov function', 'permanence', 'lower average', '34d40', '34c25', 'globally asymptotic stability', 'primary 34c05', 'upper average', 'feedback control']\n",
      "len_topic: 9\n",
      "\n",
      "['lyapunov fractal', 'neural networks', 'computation', 'quantum', 'algorithm', 'variational principle', 'time-varying delays', 'artificial neural network', 'linear matrix inequality', 'computationally efficient', 'linear discriminant analysis', 'periodic solution', 'hessian', 'time delays', 'experiment', 'stochastic systems', 'cohen–grossberg neural network', 'hopfield neural networks', 'optimization problem', 'sufficient conditions', 'particle swarm optimization', 'gradient', 'global exponential stability', 'lyapunov–krasovskii functional', 'discrete delays', 'machine learning', 'global asymptotic stability', 'uncertain systems', 'distributed delays', 'discrete and distributed delays', 'numerical analysis']\n",
      "len_topic: 31\n",
      "\n",
      "['feature vector', 'mathematical induction', 'finite-state machine']\n",
      "len_topic: 3\n",
      "\n",
      "['core ontology\\xa0', 'ontology learning\\xa0']\n",
      "len_topic: 2\n",
      "\n",
      "['standard defines', 'information models', 'currently different standards', 'compliant information systems']\n",
      "len_topic: 4\n",
      "\n",
      "['paper presents', 'frw method']\n",
      "len_topic: 2\n",
      "\n",
      "['search engines', 'ontology libraries']\n",
      "len_topic: 2\n",
      "\n",
      "['cognitive radio', 'phy (chip)']\n",
      "len_topic: 2\n",
      "\n"
     ]
    }
   ],
   "source": [
    "overlap_merge_view_deg_neg(2006, k = 100)"
   ]
  },
  {
   "cell_type": "markdown",
   "metadata": {},
   "source": [
    "### Year 2007"
   ]
  },
  {
   "cell_type": "code",
   "execution_count": 203,
   "metadata": {},
   "outputs": [
    {
     "name": "stdout",
     "output_type": "stream",
     "text": [
      "OVERLAP MERGING RESULT WITH CLIQUE PERCOLATION METHOD, TIPPING MODEL, SEED TOP 100 NODES AND DEG THRESHOLD CALCULATION STRATEGY.\n",
      "\n",
      "['scientific computation especially', 'widely used', 'multidimensional domains', 'estimating integrals', 'monte carlo']\n",
      "len_topic: 5\n",
      "\n",
      "['lasalle invariance principle', 'mean square asymptotic stability']\n",
      "len_topic: 2\n",
      "\n",
      "['substantially contribute', 'illegal trade']\n",
      "len_topic: 2\n",
      "\n",
      "['e systems', 'varying delay', 'varying delays']\n",
      "len_topic: 3\n",
      "\n",
      "['logarithmic domain computation', 'multiplier-less architecture']\n",
      "len_topic: 2\n",
      "\n",
      "['endoscopic technique', 'human colon']\n",
      "len_topic: 2\n",
      "\n",
      "['genetic algorithm', 'fuzzy rule']\n",
      "len_topic: 2\n",
      "\n",
      "['web forms', 'entry points']\n",
      "len_topic: 2\n",
      "\n",
      "['lyapunov fractal', 'content-addressable memory', 'neural network simulation', 'rate of convergence', 'synchronization', 'time-varying delays', 'artificial neural network', 'chaos', 'lyapunov functional', 'linear matrix inequality', 'bidirectional associative memory', 'social inequality', 'lyapunov–krasovskii functional', 'bidirectional associative memory neural networks', 'cohen–grossberg neural networks', 'lag synchronization', 'distributed delays']\n",
      "len_topic: 17\n",
      "\n",
      "['paper focuses', 'fuzzy multi', 'fuzzy logic control', 'mobility management']\n",
      "len_topic: 4\n",
      "\n",
      "['particle swarm optimization', 'evolutionary algorithm', 'velocity (software development)', 'mathematical optimization', 'numerical analysis']\n",
      "len_topic: 5\n",
      "\n",
      "['experimental results', 'information retrieval']\n",
      "len_topic: 2\n",
      "\n"
     ]
    }
   ],
   "source": [
    "overlap_merge_view_deg(2007, k = 100)"
   ]
  },
  {
   "cell_type": "code",
   "execution_count": 204,
   "metadata": {},
   "outputs": [
    {
     "name": "stdout",
     "output_type": "stream",
     "text": [
      "OVERLAP MERGING RESULT WITH CLIQUE PERCOLATION METHOD, TIPPING MODEL, SEED TOP 100 NODES AND HALF THRESHOLD CALCULATION STRATEGY.\n",
      "\n",
      "['scientific computation especially', 'widely used', 'multidimensional domains', 'estimating integrals', 'monte carlo']\n",
      "len_topic: 5\n",
      "\n",
      "['lasalle invariance principle', 'mean square asymptotic stability']\n",
      "len_topic: 2\n",
      "\n",
      "['substantially contribute', 'illegal trade']\n",
      "len_topic: 2\n",
      "\n",
      "['e systems', 'varying delay', 'varying delays']\n",
      "len_topic: 3\n",
      "\n",
      "['logarithmic domain computation', 'multiplier-less architecture']\n",
      "len_topic: 2\n",
      "\n",
      "['endoscopic technique', 'human colon']\n",
      "len_topic: 2\n",
      "\n",
      "['genetic algorithm', 'fuzzy rule']\n",
      "len_topic: 2\n",
      "\n",
      "['web forms', 'entry points']\n",
      "len_topic: 2\n",
      "\n",
      "['lyapunov fractal', 'content-addressable memory', 'neural network simulation', 'rate of convergence', 'synchronization', 'time-varying delays', 'artificial neural network', 'chaos', 'lyapunov functional', 'linear matrix inequality', 'bidirectional associative memory', 'social inequality', 'lyapunov–krasovskii functional', 'bidirectional associative memory neural networks', 'cohen–grossberg neural networks', 'lag synchronization', 'distributed delays']\n",
      "len_topic: 17\n",
      "\n",
      "['paper focuses', 'fuzzy multi', 'fuzzy logic control', 'mobility management']\n",
      "len_topic: 4\n",
      "\n",
      "['particle swarm optimization', 'evolutionary algorithm', 'velocity (software development)', 'mathematical optimization', 'numerical analysis']\n",
      "len_topic: 5\n",
      "\n",
      "['experimental results', 'information retrieval']\n",
      "len_topic: 2\n",
      "\n"
     ]
    }
   ],
   "source": [
    "overlap_merge_view_half(2007, k = 100)"
   ]
  },
  {
   "cell_type": "code",
   "execution_count": 205,
   "metadata": {},
   "outputs": [
    {
     "name": "stdout",
     "output_type": "stream",
     "text": [
      "OVERLAP MERGING RESULT WITH CLIQUE PERCOLATION METHOD, TIPPING MODEL, SEED TOP 100 NODES AND DEG NEGATIVE THRESHOLD CALCULATION STRATEGY.\n",
      "\n",
      "['scientific computation especially', 'widely used', 'multidimensional domains', 'estimating integrals', 'monte carlo']\n",
      "len_topic: 5\n",
      "\n",
      "['lasalle invariance principle', 'mean square asymptotic stability']\n",
      "len_topic: 2\n",
      "\n",
      "['substantially contribute', 'illegal trade']\n",
      "len_topic: 2\n",
      "\n",
      "['e systems', 'varying delay', 'varying delays']\n",
      "len_topic: 3\n",
      "\n",
      "['logarithmic domain computation', 'multiplier-less architecture']\n",
      "len_topic: 2\n",
      "\n",
      "['endoscopic technique', 'human colon']\n",
      "len_topic: 2\n",
      "\n",
      "['genetic algorithm', 'fuzzy rule']\n",
      "len_topic: 2\n",
      "\n",
      "['web forms', 'entry points']\n",
      "len_topic: 2\n",
      "\n",
      "['lyapunov fractal', 'content-addressable memory', 'neural network simulation', 'rate of convergence', 'synchronization', 'time-varying delays', 'artificial neural network', 'chaos', 'lyapunov functional', 'linear matrix inequality', 'bidirectional associative memory', 'social inequality', 'lyapunov–krasovskii functional', 'bidirectional associative memory neural networks', 'cohen–grossberg neural networks', 'lag synchronization', 'distributed delays']\n",
      "len_topic: 17\n",
      "\n",
      "['paper focuses', 'fuzzy multi', 'fuzzy logic control', 'mobility management']\n",
      "len_topic: 4\n",
      "\n",
      "['particle swarm optimization', 'evolutionary algorithm', 'velocity (software development)', 'mathematical optimization', 'numerical analysis']\n",
      "len_topic: 5\n",
      "\n",
      "['experimental results', 'information retrieval']\n",
      "len_topic: 2\n",
      "\n"
     ]
    }
   ],
   "source": [
    "overlap_merge_view_deg_neg(2007, k = 100)"
   ]
  },
  {
   "cell_type": "markdown",
   "metadata": {},
   "source": [
    "### Year 2008"
   ]
  },
  {
   "cell_type": "code",
   "execution_count": 206,
   "metadata": {},
   "outputs": [
    {
     "name": "stdout",
     "output_type": "stream",
     "text": [
      "OVERLAP MERGING RESULT WITH CLIQUE PERCOLATION METHOD, TIPPING MODEL, SEED TOP 100 NODES AND DEG THRESHOLD CALCULATION STRATEGY.\n",
      "\n",
      "['cognitive radio', 'multi-user', 'computation', 'user interface', 'algorithm', 'relay', 'simulation', 'systems architecture', 'interference (communication)', 'ici (programming language)', 'throughput', 'signal-to-interference-plus-noise ratio']\n",
      "len_topic: 12\n",
      "\n",
      "['unbounded distributed delays', 'lyapunov fractal', 'neural networks', 'exponential stability', 'rate of convergence', 'exponential', 'artificial neural network', 'linear matrix inequality', 'varying delays', 'biological neural networks', 'mathematical optimization', 'lyapunov–krasovskii functional', 'social inequality', 'lyapunov method', 'global asymptotic stability', 'global optimization', 'numerical analysis']\n",
      "len_topic: 17\n",
      "\n",
      "['locating web pages', 'query server accesses', 'specified products', 's search query', 'scored web pages', 'crawler program', 'responsive web pages', 'search engine', 'scored based', 'product offering', 'assists users', 'web pages located', 'criteria according', 'locate pages']\n",
      "len_topic: 14\n",
      "\n",
      "['enhancement technique constitutes', 'adaptive technique', 'color restoration', 'image enhancement based']\n",
      "len_topic: 4\n",
      "\n",
      "['access network selection', 'promising access network']\n",
      "len_topic: 2\n",
      "\n",
      "['markov chain', 'markov decision process']\n",
      "len_topic: 2\n",
      "\n",
      "['domain ontology\\xa0', 'formal context\\xa0', 'concept lattice\\xa0', 'description logic\\xa0']\n",
      "len_topic: 4\n",
      "\n",
      "['chaos theory', 'continuous optimization']\n",
      "len_topic: 2\n",
      "\n",
      "['dynamic range compression', 'new wavelet', 'approximation coefficients', 'wavelet transform', 'dimension reduction']\n",
      "len_topic: 5\n",
      "\n",
      "['paper presents', 'lingual information access', 'task cluster', 'advanced cross']\n",
      "len_topic: 4\n",
      "\n",
      "['optical flow', 'sparse matrix', 'pixel']\n",
      "len_topic: 3\n",
      "\n",
      "['femto cell', 'heterogeneous networks']\n",
      "len_topic: 2\n",
      "\n",
      "['multistability', '07.05.mh', '89.75.kd']\n",
      "len_topic: 3\n",
      "\n",
      "['injected contaminant', 'water distribution']\n",
      "len_topic: 2\n",
      "\n",
      "['eigen faces', 'face database', 'popular method', 'using eigen faces', 'face recognition']\n",
      "len_topic: 5\n",
      "\n",
      "['stochastic neural networks', 'time-varying delays']\n",
      "len_topic: 2\n",
      "\n",
      "['image scaling', 'subgroup discovery', 'instance selection', 'selection algorithm']\n",
      "len_topic: 4\n",
      "\n",
      "['krasovskii functional', 'distributed time', 'matlab lmi toolbox']\n",
      "len_topic: 3\n",
      "\n"
     ]
    }
   ],
   "source": [
    "overlap_merge_view_deg(2008, k = 100)"
   ]
  },
  {
   "cell_type": "code",
   "execution_count": 207,
   "metadata": {},
   "outputs": [
    {
     "name": "stdout",
     "output_type": "stream",
     "text": [
      "OVERLAP MERGING RESULT WITH CLIQUE PERCOLATION METHOD, TIPPING MODEL, SEED TOP 100 NODES AND HALF THRESHOLD CALCULATION STRATEGY.\n",
      "\n",
      "['cognitive radio', 'multi-user', 'computation', 'user interface', 'algorithm', 'relay', 'simulation', 'systems architecture', 'interference (communication)', 'ici (programming language)', 'throughput', 'signal-to-interference-plus-noise ratio']\n",
      "len_topic: 12\n",
      "\n",
      "['unbounded distributed delays', 'lyapunov fractal', 'neural networks', 'exponential stability', 'rate of convergence', 'exponential', 'artificial neural network', 'linear matrix inequality', 'varying delays', 'biological neural networks', 'mathematical optimization', 'lyapunov–krasovskii functional', 'social inequality', 'lyapunov method', 'global asymptotic stability', 'global optimization', 'numerical analysis']\n",
      "len_topic: 17\n",
      "\n",
      "['locating web pages', 'query server accesses', 'specified products', 's search query', 'scored web pages', 'crawler program', 'responsive web pages', 'search engine', 'scored based', 'product offering', 'assists users', 'web pages located', 'criteria according', 'locate pages']\n",
      "len_topic: 14\n",
      "\n",
      "['enhancement technique constitutes', 'adaptive technique', 'color restoration', 'image enhancement based']\n",
      "len_topic: 4\n",
      "\n",
      "['access network selection', 'promising access network']\n",
      "len_topic: 2\n",
      "\n",
      "['markov chain', 'markov decision process']\n",
      "len_topic: 2\n",
      "\n",
      "['domain ontology\\xa0', 'formal context\\xa0', 'concept lattice\\xa0', 'description logic\\xa0']\n",
      "len_topic: 4\n",
      "\n",
      "['chaos theory', 'continuous optimization']\n",
      "len_topic: 2\n",
      "\n",
      "['dynamic range compression', 'new wavelet', 'approximation coefficients', 'wavelet transform', 'dimension reduction']\n",
      "len_topic: 5\n",
      "\n",
      "['paper presents', 'lingual information access', 'task cluster', 'advanced cross']\n",
      "len_topic: 4\n",
      "\n",
      "['optical flow', 'sparse matrix', 'pixel']\n",
      "len_topic: 3\n",
      "\n",
      "['femto cell', 'heterogeneous networks']\n",
      "len_topic: 2\n",
      "\n",
      "['multistability', '07.05.mh', '89.75.kd']\n",
      "len_topic: 3\n",
      "\n",
      "['injected contaminant', 'water distribution']\n",
      "len_topic: 2\n",
      "\n",
      "['eigen faces', 'face database', 'popular method', 'using eigen faces', 'face recognition']\n",
      "len_topic: 5\n",
      "\n",
      "['stochastic neural networks', 'time-varying delays']\n",
      "len_topic: 2\n",
      "\n",
      "['image scaling', 'subgroup discovery', 'instance selection', 'selection algorithm']\n",
      "len_topic: 4\n",
      "\n",
      "['krasovskii functional', 'distributed time', 'matlab lmi toolbox']\n",
      "len_topic: 3\n",
      "\n"
     ]
    }
   ],
   "source": [
    "overlap_merge_view_half(2008, k = 100)"
   ]
  },
  {
   "cell_type": "code",
   "execution_count": 208,
   "metadata": {},
   "outputs": [
    {
     "name": "stdout",
     "output_type": "stream",
     "text": [
      "OVERLAP MERGING RESULT WITH CLIQUE PERCOLATION METHOD, TIPPING MODEL, SEED TOP 100 NODES AND DEG NEGATIVE THRESHOLD CALCULATION STRATEGY.\n",
      "\n",
      "['cognitive radio', 'multi-user', 'computation', 'user interface', 'algorithm', 'relay', 'simulation', 'systems architecture', 'interference (communication)', 'ici (programming language)', 'throughput', 'signal-to-interference-plus-noise ratio']\n",
      "len_topic: 12\n",
      "\n",
      "['unbounded distributed delays', 'lyapunov fractal', 'neural networks', 'exponential stability', 'rate of convergence', 'exponential', 'artificial neural network', 'linear matrix inequality', 'varying delays', 'biological neural networks', 'mathematical optimization', 'lyapunov–krasovskii functional', 'social inequality', 'lyapunov method', 'global asymptotic stability', 'global optimization', 'numerical analysis']\n",
      "len_topic: 17\n",
      "\n",
      "['locating web pages', 'query server accesses', 'specified products', 's search query', 'scored web pages', 'crawler program', 'responsive web pages', 'search engine', 'scored based', 'product offering', 'assists users', 'web pages located', 'criteria according', 'locate pages']\n",
      "len_topic: 14\n",
      "\n",
      "['enhancement technique constitutes', 'adaptive technique', 'color restoration', 'image enhancement based']\n",
      "len_topic: 4\n",
      "\n",
      "['access network selection', 'promising access network']\n",
      "len_topic: 2\n",
      "\n",
      "['markov chain', 'markov decision process']\n",
      "len_topic: 2\n",
      "\n",
      "['domain ontology\\xa0', 'formal context\\xa0', 'concept lattice\\xa0', 'description logic\\xa0']\n",
      "len_topic: 4\n",
      "\n",
      "['chaos theory', 'continuous optimization']\n",
      "len_topic: 2\n",
      "\n",
      "['dynamic range compression', 'new wavelet', 'approximation coefficients', 'wavelet transform', 'dimension reduction']\n",
      "len_topic: 5\n",
      "\n",
      "['paper presents', 'lingual information access', 'task cluster', 'advanced cross']\n",
      "len_topic: 4\n",
      "\n",
      "['optical flow', 'sparse matrix', 'pixel']\n",
      "len_topic: 3\n",
      "\n",
      "['femto cell', 'heterogeneous networks']\n",
      "len_topic: 2\n",
      "\n",
      "['multistability', '07.05.mh', '89.75.kd']\n",
      "len_topic: 3\n",
      "\n",
      "['injected contaminant', 'water distribution']\n",
      "len_topic: 2\n",
      "\n",
      "['eigen faces', 'face database', 'popular method', 'using eigen faces', 'face recognition']\n",
      "len_topic: 5\n",
      "\n",
      "['stochastic neural networks', 'time-varying delays']\n",
      "len_topic: 2\n",
      "\n",
      "['image scaling', 'subgroup discovery', 'instance selection', 'selection algorithm']\n",
      "len_topic: 4\n",
      "\n",
      "['krasovskii functional', 'distributed time', 'matlab lmi toolbox']\n",
      "len_topic: 3\n",
      "\n"
     ]
    }
   ],
   "source": [
    "overlap_merge_view_deg_neg(2008, k = 100)"
   ]
  },
  {
   "cell_type": "markdown",
   "metadata": {},
   "source": [
    "### Year 2009"
   ]
  },
  {
   "cell_type": "code",
   "execution_count": 209,
   "metadata": {},
   "outputs": [
    {
     "name": "stdout",
     "output_type": "stream",
     "text": [
      "OVERLAP MERGING RESULT WITH CLIQUE PERCOLATION METHOD, TIPPING MODEL, SEED TOP 100 NODES AND DEG THRESHOLD CALCULATION STRATEGY.\n",
      "\n",
      "['neural networks', 'social inequality', 'lyapunov method', 'linear matrix inequality']\n",
      "len_topic: 4\n",
      "\n",
      "['semantic information', 'semantic attributes', 'attribute information', 'improved organization', 'automatically generated', 'semantic filexa0…', 'semantic attributes allows', 'manual entry']\n",
      "len_topic: 8\n",
      "\n",
      "['blog network', 'information diffusion']\n",
      "len_topic: 2\n",
      "\n",
      "['visual quality', 'digital images captured']\n",
      "len_topic: 2\n",
      "\n",
      "['distributed delay', 'lyapunov functional']\n",
      "len_topic: 2\n",
      "\n",
      "['biological neural networks', 'artificial neural network']\n",
      "len_topic: 2\n",
      "\n",
      "['web forums', 'web applications']\n",
      "len_topic: 2\n",
      "\n",
      "['lyapunov fractal', 'anfis', 'rate of convergence', 'evolutionary algorithm', 'algorithm', 'differential evolution', 'aliasing', 'simulation', 'adaptive neuro fuzzy inference system', 'reinforcement learning', '3d modeling', 'test suite', 'disjunctive normal form', 'identification', 'stability analysis', 'optimization problem', 'particle swarm optimization', 'data mining\\xa0', 'recursion', 'mathematical optimization', 'gradient descent', 'fuzzy rule', 'recursive least squares filter', 'system identifier', 'machine learning', 'hybrid learning algorithm', 'global optimization']\n",
      "len_topic: 27\n",
      "\n",
      "['05.45.vx', '05.45.xt', 'complex networks', '05.45.gg']\n",
      "len_topic: 4\n",
      "\n",
      "['style algorithm', 'desirable property', 'dual sparsity', 'margin markov network', 'real data sets']\n",
      "len_topic: 5\n",
      "\n",
      "['kosmix approach', 'web crawlers', 'significant information resource', 'new approach', 'deep web', 'information discovery', 'conventional web search', 'inhospitable region']\n",
      "len_topic: 8\n",
      "\n",
      "['paper presents', 'cognitive radios']\n",
      "len_topic: 2\n",
      "\n",
      "['cognitive radio', 'frequency allocation', 'frequency band', 'interference (communication)']\n",
      "len_topic: 4\n",
      "\n",
      "['34k14', '92b20']\n",
      "len_topic: 2\n",
      "\n"
     ]
    }
   ],
   "source": [
    "overlap_merge_view_deg(2009, k = 100)"
   ]
  },
  {
   "cell_type": "code",
   "execution_count": 210,
   "metadata": {},
   "outputs": [
    {
     "name": "stdout",
     "output_type": "stream",
     "text": [
      "OVERLAP MERGING RESULT WITH CLIQUE PERCOLATION METHOD, TIPPING MODEL, SEED TOP 100 NODES AND HALF THRESHOLD CALCULATION STRATEGY.\n",
      "\n",
      "['neural networks', 'social inequality', 'lyapunov method', 'linear matrix inequality']\n",
      "len_topic: 4\n",
      "\n",
      "['semantic information', 'semantic attributes', 'attribute information', 'improved organization', 'automatically generated', 'semantic filexa0…', 'semantic attributes allows', 'manual entry']\n",
      "len_topic: 8\n",
      "\n",
      "['blog network', 'information diffusion']\n",
      "len_topic: 2\n",
      "\n",
      "['visual quality', 'digital images captured']\n",
      "len_topic: 2\n",
      "\n",
      "['distributed delay', 'lyapunov functional']\n",
      "len_topic: 2\n",
      "\n",
      "['biological neural networks', 'artificial neural network']\n",
      "len_topic: 2\n",
      "\n",
      "['web forums', 'web applications']\n",
      "len_topic: 2\n",
      "\n",
      "['lyapunov fractal', 'anfis', 'rate of convergence', 'evolutionary algorithm', 'algorithm', 'differential evolution', 'aliasing', 'simulation', 'adaptive neuro fuzzy inference system', 'reinforcement learning', '3d modeling', 'test suite', 'disjunctive normal form', 'identification', 'stability analysis', 'optimization problem', 'particle swarm optimization', 'data mining\\xa0', 'recursion', 'mathematical optimization', 'gradient descent', 'fuzzy rule', 'recursive least squares filter', 'system identifier', 'machine learning', 'hybrid learning algorithm', 'global optimization']\n",
      "len_topic: 27\n",
      "\n",
      "['05.45.vx', '05.45.xt', 'complex networks', '05.45.gg']\n",
      "len_topic: 4\n",
      "\n",
      "['style algorithm', 'desirable property', 'dual sparsity', 'margin markov network', 'real data sets']\n",
      "len_topic: 5\n",
      "\n",
      "['kosmix approach', 'web crawlers', 'significant information resource', 'new approach', 'deep web', 'information discovery', 'conventional web search', 'inhospitable region']\n",
      "len_topic: 8\n",
      "\n",
      "['paper presents', 'cognitive radios']\n",
      "len_topic: 2\n",
      "\n",
      "['cognitive radio', 'frequency allocation', 'frequency band', 'interference (communication)']\n",
      "len_topic: 4\n",
      "\n",
      "['34k14', '92b20']\n",
      "len_topic: 2\n",
      "\n"
     ]
    }
   ],
   "source": [
    "overlap_merge_view_half(2009, k = 100)"
   ]
  },
  {
   "cell_type": "code",
   "execution_count": 211,
   "metadata": {},
   "outputs": [
    {
     "name": "stdout",
     "output_type": "stream",
     "text": [
      "OVERLAP MERGING RESULT WITH CLIQUE PERCOLATION METHOD, TIPPING MODEL, SEED TOP 100 NODES AND DEG NEGATIVE THRESHOLD CALCULATION STRATEGY.\n",
      "\n",
      "['neural networks', 'social inequality', 'lyapunov method', 'linear matrix inequality']\n",
      "len_topic: 4\n",
      "\n",
      "['semantic information', 'semantic attributes', 'attribute information', 'improved organization', 'automatically generated', 'semantic filexa0…', 'semantic attributes allows', 'manual entry']\n",
      "len_topic: 8\n",
      "\n",
      "['blog network', 'information diffusion']\n",
      "len_topic: 2\n",
      "\n",
      "['visual quality', 'digital images captured']\n",
      "len_topic: 2\n",
      "\n",
      "['distributed delay', 'lyapunov functional']\n",
      "len_topic: 2\n",
      "\n",
      "['biological neural networks', 'artificial neural network']\n",
      "len_topic: 2\n",
      "\n",
      "['web forums', 'web applications']\n",
      "len_topic: 2\n",
      "\n",
      "['lyapunov fractal', 'anfis', 'rate of convergence', 'evolutionary algorithm', 'algorithm', 'differential evolution', 'aliasing', 'simulation', 'adaptive neuro fuzzy inference system', 'reinforcement learning', '3d modeling', 'test suite', 'disjunctive normal form', 'identification', 'stability analysis', 'optimization problem', 'particle swarm optimization', 'data mining\\xa0', 'recursion', 'mathematical optimization', 'gradient descent', 'fuzzy rule', 'recursive least squares filter', 'system identifier', 'machine learning', 'hybrid learning algorithm', 'global optimization']\n",
      "len_topic: 27\n",
      "\n",
      "['05.45.vx', '05.45.xt', 'complex networks', '05.45.gg']\n",
      "len_topic: 4\n",
      "\n",
      "['style algorithm', 'desirable property', 'dual sparsity', 'margin markov network', 'real data sets']\n",
      "len_topic: 5\n",
      "\n",
      "['kosmix approach', 'web crawlers', 'significant information resource', 'new approach', 'deep web', 'information discovery', 'conventional web search', 'inhospitable region']\n",
      "len_topic: 8\n",
      "\n",
      "['paper presents', 'cognitive radios']\n",
      "len_topic: 2\n",
      "\n",
      "['cognitive radio', 'frequency allocation', 'frequency band', 'interference (communication)']\n",
      "len_topic: 4\n",
      "\n",
      "['34k14', '92b20']\n",
      "len_topic: 2\n",
      "\n"
     ]
    }
   ],
   "source": [
    "overlap_merge_view_deg_neg(2009, k = 100)"
   ]
  },
  {
   "cell_type": "markdown",
   "metadata": {},
   "source": [
    "### Year 2010"
   ]
  },
  {
   "cell_type": "code",
   "execution_count": 212,
   "metadata": {},
   "outputs": [
    {
     "name": "stdout",
     "output_type": "stream",
     "text": [
      "OVERLAP MERGING RESULT WITH CLIQUE PERCOLATION METHOD, TIPPING MODEL, SEED TOP 100 NODES AND DEG THRESHOLD CALCULATION STRATEGY.\n",
      "\n",
      "['neural networks', 'lyapunov fractal', 'complex network', 'genetic regulatory networks', 'gene regulatory network', 'multistability', 'artificial neural network', 'systems biology', 'global exponential stability', 'lyapunov functional', 'linear matrix inequality', 'lyapunov–krasovskii functional', 'social inequality', 'analysis technique', 'global asymptotic stability', 'time complexity', 'neutral type']\n",
      "len_topic: 17\n",
      "\n",
      "['speaker recognition', 'evolutionary algorithm']\n",
      "len_topic: 2\n",
      "\n",
      "['underlying application logic', 'semantic approach', 'make inferences', 'based formalism', 'synergic use', 'ontological framework', 'business scenario']\n",
      "len_topic: 7\n",
      "\n",
      "['query processing', 'detailed experimental evaluation', 'existing approaches', 'early termination techniques', 'new techniques', 'resulting indexes', 'inverted lists']\n",
      "len_topic: 7\n",
      "\n",
      "['algorithm', 'data mining', 'iterative method', 'stationary process', 'numerous', 'real-time transcription', 'scheduling (computing)', 'height above ground level', 'particle swarm optimization', 'numerical analysis', 'decision tree', 'rate of convergence', 'centralized computing', 'real-time clock', 'self-organization', 'simulation', 'reinforcement learning', 'multi-agent system', 'cognition', 'network congestion', 'context awareness', 'cognitive radio', 'game theory', \"whole earth 'lectronic link\", 'overhead (computing)', 'coexist (image)', 'mathematical optimization', 'action selection', 'programming paradigm', 'interaction', 'spectrum analyzer', 'interference (communication)', 'machine learning', 'operating environment', 'channel capacity', 'q-learning']\n",
      "len_topic: 36\n",
      "\n",
      "['context information', 'web search']\n",
      "len_topic: 2\n",
      "\n",
      "['opportunistically transmits', 'exploiting underutilized channels', 'gsm bands', 'overlay cognitive ad', 'hoc network']\n",
      "len_topic: 5\n",
      "\n",
      "['spectral resources', 'cognitive radio networks', 'diversity techniques', 'secondary terminals', 'efficiently share']\n",
      "len_topic: 5\n",
      "\n",
      "['social media', 'important tool']\n",
      "len_topic: 2\n",
      "\n",
      "['semantic representation', 'implemented parser', 'structure prediction problem', 'semantic parsing', 'english sentence']\n",
      "len_topic: 5\n",
      "\n",
      "['input multiple', 'output communication']\n",
      "len_topic: 2\n",
      "\n",
      "['differential evolution\\xa0', 'continuous optimization\\xa0']\n",
      "len_topic: 2\n",
      "\n"
     ]
    }
   ],
   "source": [
    "overlap_merge_view_deg(2010, k = 100)"
   ]
  },
  {
   "cell_type": "code",
   "execution_count": 213,
   "metadata": {},
   "outputs": [
    {
     "name": "stdout",
     "output_type": "stream",
     "text": [
      "OVERLAP MERGING RESULT WITH CLIQUE PERCOLATION METHOD, TIPPING MODEL, SEED TOP 100 NODES AND HALF THRESHOLD CALCULATION STRATEGY.\n",
      "\n",
      "['neural networks', 'lyapunov fractal', 'complex network', 'genetic regulatory networks', 'gene regulatory network', 'multistability', 'artificial neural network', 'systems biology', 'global exponential stability', 'lyapunov functional', 'linear matrix inequality', 'lyapunov–krasovskii functional', 'social inequality', 'analysis technique', 'global asymptotic stability', 'time complexity', 'neutral type']\n",
      "len_topic: 17\n",
      "\n",
      "['speaker recognition', 'evolutionary algorithm']\n",
      "len_topic: 2\n",
      "\n",
      "['underlying application logic', 'semantic approach', 'make inferences', 'based formalism', 'synergic use', 'ontological framework', 'business scenario']\n",
      "len_topic: 7\n",
      "\n",
      "['query processing', 'detailed experimental evaluation', 'existing approaches', 'early termination techniques', 'new techniques', 'resulting indexes', 'inverted lists']\n",
      "len_topic: 7\n",
      "\n",
      "['algorithm', 'data mining', 'iterative method', 'stationary process', 'numerous', 'real-time transcription', 'scheduling (computing)', 'height above ground level', 'particle swarm optimization', 'numerical analysis', 'decision tree', 'rate of convergence', 'centralized computing', 'real-time clock', 'self-organization', 'simulation', 'reinforcement learning', 'multi-agent system', 'cognition', 'network congestion', 'context awareness', 'cognitive radio', 'game theory', \"whole earth 'lectronic link\", 'overhead (computing)', 'coexist (image)', 'mathematical optimization', 'action selection', 'programming paradigm', 'interaction', 'spectrum analyzer', 'interference (communication)', 'machine learning', 'operating environment', 'channel capacity', 'q-learning']\n",
      "len_topic: 36\n",
      "\n",
      "['context information', 'web search']\n",
      "len_topic: 2\n",
      "\n",
      "['opportunistically transmits', 'exploiting underutilized channels', 'gsm bands', 'overlay cognitive ad', 'hoc network']\n",
      "len_topic: 5\n",
      "\n",
      "['spectral resources', 'cognitive radio networks', 'diversity techniques', 'secondary terminals', 'efficiently share']\n",
      "len_topic: 5\n",
      "\n",
      "['social media', 'important tool']\n",
      "len_topic: 2\n",
      "\n",
      "['semantic representation', 'implemented parser', 'structure prediction problem', 'semantic parsing', 'english sentence']\n",
      "len_topic: 5\n",
      "\n",
      "['input multiple', 'output communication']\n",
      "len_topic: 2\n",
      "\n",
      "['differential evolution\\xa0', 'continuous optimization\\xa0']\n",
      "len_topic: 2\n",
      "\n"
     ]
    }
   ],
   "source": [
    "overlap_merge_view_half(2010, k = 100)"
   ]
  },
  {
   "cell_type": "code",
   "execution_count": 214,
   "metadata": {},
   "outputs": [
    {
     "name": "stdout",
     "output_type": "stream",
     "text": [
      "OVERLAP MERGING RESULT WITH CLIQUE PERCOLATION METHOD, TIPPING MODEL, SEED TOP 100 NODES AND DEG NEGATIVE THRESHOLD CALCULATION STRATEGY.\n",
      "\n",
      "['neural networks', 'lyapunov fractal', 'complex network', 'genetic regulatory networks', 'gene regulatory network', 'multistability', 'artificial neural network', 'systems biology', 'global exponential stability', 'lyapunov functional', 'linear matrix inequality', 'lyapunov–krasovskii functional', 'social inequality', 'analysis technique', 'global asymptotic stability', 'time complexity', 'neutral type']\n",
      "len_topic: 17\n",
      "\n",
      "['speaker recognition', 'evolutionary algorithm']\n",
      "len_topic: 2\n",
      "\n",
      "['underlying application logic', 'semantic approach', 'make inferences', 'based formalism', 'synergic use', 'ontological framework', 'business scenario']\n",
      "len_topic: 7\n",
      "\n",
      "['query processing', 'detailed experimental evaluation', 'existing approaches', 'early termination techniques', 'new techniques', 'resulting indexes', 'inverted lists']\n",
      "len_topic: 7\n",
      "\n",
      "['algorithm', 'data mining', 'iterative method', 'stationary process', 'numerous', 'real-time transcription', 'scheduling (computing)', 'height above ground level', 'particle swarm optimization', 'numerical analysis', 'decision tree', 'rate of convergence', 'centralized computing', 'real-time clock', 'self-organization', 'simulation', 'reinforcement learning', 'multi-agent system', 'cognition', 'network congestion', 'context awareness', 'cognitive radio', 'game theory', \"whole earth 'lectronic link\", 'overhead (computing)', 'coexist (image)', 'mathematical optimization', 'action selection', 'programming paradigm', 'interaction', 'spectrum analyzer', 'interference (communication)', 'machine learning', 'operating environment', 'channel capacity', 'q-learning']\n",
      "len_topic: 36\n",
      "\n",
      "['context information', 'web search']\n",
      "len_topic: 2\n",
      "\n",
      "['opportunistically transmits', 'exploiting underutilized channels', 'gsm bands', 'overlay cognitive ad', 'hoc network']\n",
      "len_topic: 5\n",
      "\n",
      "['spectral resources', 'cognitive radio networks', 'diversity techniques', 'secondary terminals', 'efficiently share']\n",
      "len_topic: 5\n",
      "\n",
      "['social media', 'important tool']\n",
      "len_topic: 2\n",
      "\n",
      "['semantic representation', 'implemented parser', 'structure prediction problem', 'semantic parsing', 'english sentence']\n",
      "len_topic: 5\n",
      "\n",
      "['input multiple', 'output communication']\n",
      "len_topic: 2\n",
      "\n",
      "['differential evolution\\xa0', 'continuous optimization\\xa0']\n",
      "len_topic: 2\n",
      "\n"
     ]
    }
   ],
   "source": [
    "overlap_merge_view_deg_neg(2010, k = 100)"
   ]
  },
  {
   "cell_type": "markdown",
   "metadata": {},
   "source": [
    "### Year 2011"
   ]
  },
  {
   "cell_type": "code",
   "execution_count": 215,
   "metadata": {},
   "outputs": [
    {
     "name": "stdout",
     "output_type": "stream",
     "text": [
      "OVERLAP MERGING RESULT WITH CLIQUE PERCOLATION METHOD, TIPPING MODEL, SEED TOP 100 NODES AND DEG THRESHOLD CALCULATION STRATEGY.\n",
      "\n",
      "['critical role', 'increasingly inadequate', 'personalized presentation', 'personalized clustering', 'common strategy', 'clustering results', 'clustering algorithms', 'unprecedented scale', 'search engine utility', 'long list', 'automatic clustering procedure', 'search engines', 'wiki interface', 'clustering divides', 'promising alternative', 'ranked lists', 'coherent clusters allowing', 'search results', 'topic navigation', 'introduce clusteringwiki', 'membership structure', 'disparate search results']\n",
      "len_topic: 22\n",
      "\n",
      "['lyapunov fractal', 'ising model', 'impulses', 'algorithm', 'exponential', 'artificial neural network', 'quality of service', 'stochastic neural network', 'tree rearrangement', 'experiment', 'hopfield-type neural networks', 'checking (action)', 'convex function', 'spectral leakage', 'parameter adaptation', 'hopfield network', 's ability', 'particle swarm optimization', 'time complexity', 'plasmon', 'numerical analysis', 'resonance', 'autonomous robot', 'low-power broadcasting', 'neural network simulation', 'population diversity', 'evolutionary algorithm', 'differential evolution', 'broadcast delay', 'centralized computing', 'linear matrix inequality', 'simulation', 'software deployment', 'reinforcement learning', 'fairness measure', 'cognitive radio', 'approximation algorithm', 'mathematical optimization', 'multitier architecture', 'interaction', 'social inequality', 'distributed delays', 'nonlinear system', 'interference (communication)', 'telecommunications link', 'machine learning', 'synchronization (computer science)', 'signal-to-interference-plus-noise ratio', 'channel capacity']\n",
      "len_topic: 49\n",
      "\n",
      "['multiple primary users', 'pus negotiate', 'multiple secondary users', 'key idea', 'proposed algorithm']\n",
      "len_topic: 5\n",
      "\n",
      "['queried question based', 'question search']\n",
      "len_topic: 2\n",
      "\n",
      "['genetic regulatory networks', 'gene regulatory network']\n",
      "len_topic: 2\n",
      "\n",
      "['discrepancy function', 'generalization error', 'maximal set']\n",
      "len_topic: 3\n",
      "\n",
      "['self-organization\\xa0', 'swarm robotics\\xa0', 'swarm intelligence\\xa0']\n",
      "len_topic: 3\n",
      "\n",
      "['dependent deep', 'discriminatively trained gaussian', 'mixture hmms', 'network hmms']\n",
      "len_topic: 4\n",
      "\n",
      "['construct proposal kernels', 'general framework', 'using particle filters', 'recently andrieu doucet']\n",
      "len_topic: 4\n",
      "\n",
      "['variational principle', 'inpainting']\n",
      "len_topic: 2\n",
      "\n",
      "['leakage delay\\xa0', 'linear matrix inequality\\xa0']\n",
      "len_topic: 2\n",
      "\n",
      "['experimental results', 'knowledge base', 'entity linking']\n",
      "len_topic: 3\n",
      "\n",
      "['hard problem', 'parallel applications', 'achieve high performance', 'important factor']\n",
      "len_topic: 4\n",
      "\n",
      "['support vector machine', 'model selection']\n",
      "len_topic: 2\n",
      "\n",
      "['constant number', 'mapreduce rounds']\n",
      "len_topic: 2\n",
      "\n",
      "['influence maximization', 'expected spread']\n",
      "len_topic: 2\n",
      "\n"
     ]
    }
   ],
   "source": [
    "overlap_merge_view_deg(2011, k = 100)"
   ]
  },
  {
   "cell_type": "code",
   "execution_count": 216,
   "metadata": {},
   "outputs": [
    {
     "name": "stdout",
     "output_type": "stream",
     "text": [
      "OVERLAP MERGING RESULT WITH CLIQUE PERCOLATION METHOD, TIPPING MODEL, SEED TOP 100 NODES AND HALF THRESHOLD CALCULATION STRATEGY.\n",
      "\n",
      "['critical role', 'increasingly inadequate', 'personalized presentation', 'personalized clustering', 'common strategy', 'clustering results', 'clustering algorithms', 'unprecedented scale', 'search engine utility', 'long list', 'automatic clustering procedure', 'search engines', 'wiki interface', 'clustering divides', 'promising alternative', 'ranked lists', 'coherent clusters allowing', 'search results', 'topic navigation', 'introduce clusteringwiki', 'membership structure', 'disparate search results']\n",
      "len_topic: 22\n",
      "\n",
      "['lyapunov fractal', 'ising model', 'algorithm', 'exponential', 'artificial neural network', 'quality of service', 'stochastic neural network', 'tree rearrangement', 'experiment', 'checking (action)', 'convex function', 'spectral leakage', 'parameter adaptation', 'hopfield network', 's ability', 'particle swarm optimization', 'time complexity', 'plasmon', 'numerical analysis', 'resonance', 'autonomous robot', 'low-power broadcasting', 'neural network simulation', 'population diversity', 'evolutionary algorithm', 'differential evolution', 'broadcast delay', 'centralized computing', 'linear matrix inequality', 'simulation', 'software deployment', 'reinforcement learning', 'fairness measure', 'cognitive radio', 'approximation algorithm', 'mathematical optimization', 'multitier architecture', 'interaction', 'social inequality', 'nonlinear system', 'interference (communication)', 'telecommunications link', 'machine learning', 'synchronization (computer science)', 'signal-to-interference-plus-noise ratio', 'channel capacity']\n",
      "len_topic: 46\n",
      "\n",
      "['multiple primary users', 'pus negotiate', 'multiple secondary users', 'key idea', 'proposed algorithm']\n",
      "len_topic: 5\n",
      "\n",
      "['queried question based', 'question search']\n",
      "len_topic: 2\n",
      "\n",
      "['genetic regulatory networks', 'gene regulatory network']\n",
      "len_topic: 2\n",
      "\n",
      "['discrepancy function', 'generalization error', 'maximal set']\n",
      "len_topic: 3\n",
      "\n",
      "['self-organization\\xa0', 'swarm robotics\\xa0', 'swarm intelligence\\xa0']\n",
      "len_topic: 3\n",
      "\n",
      "['dependent deep', 'discriminatively trained gaussian', 'mixture hmms', 'network hmms']\n",
      "len_topic: 4\n",
      "\n",
      "['construct proposal kernels', 'general framework', 'using particle filters', 'recently andrieu doucet']\n",
      "len_topic: 4\n",
      "\n",
      "['variational principle', 'inpainting']\n",
      "len_topic: 2\n",
      "\n",
      "['leakage delay\\xa0', 'linear matrix inequality\\xa0']\n",
      "len_topic: 2\n",
      "\n",
      "['experimental results', 'knowledge base', 'entity linking']\n",
      "len_topic: 3\n",
      "\n",
      "['hard problem', 'parallel applications', 'achieve high performance', 'important factor']\n",
      "len_topic: 4\n",
      "\n",
      "['support vector machine', 'model selection']\n",
      "len_topic: 2\n",
      "\n",
      "['constant number', 'mapreduce rounds']\n",
      "len_topic: 2\n",
      "\n",
      "['influence maximization', 'expected spread']\n",
      "len_topic: 2\n",
      "\n"
     ]
    }
   ],
   "source": [
    "overlap_merge_view_half(2011, k = 100)"
   ]
  },
  {
   "cell_type": "code",
   "execution_count": 217,
   "metadata": {},
   "outputs": [
    {
     "ename": "TopicMalFormedException",
     "evalue": "Topic bad formed.",
     "output_type": "error",
     "traceback": [
      "\u001b[0;31m---------------------------------------------------------------------------\u001b[0m",
      "\u001b[0;31mTopicMalFormedException\u001b[0m                   Traceback (most recent call last)",
      "\u001b[0;32m<ipython-input-217-e7c19d89ee1e>\u001b[0m in \u001b[0;36m<module>\u001b[0;34m\u001b[0m\n\u001b[0;32m----> 1\u001b[0;31m \u001b[0moverlap_merge_view_deg_neg\u001b[0m\u001b[0;34m(\u001b[0m\u001b[0;36m2011\u001b[0m\u001b[0;34m,\u001b[0m \u001b[0mk\u001b[0m \u001b[0;34m=\u001b[0m \u001b[0;36m100\u001b[0m\u001b[0;34m)\u001b[0m\u001b[0;34m\u001b[0m\u001b[0;34m\u001b[0m\u001b[0m\n\u001b[0m",
      "\u001b[0;32m<ipython-input-6-aa88f64ba5fa>\u001b[0m in \u001b[0;36moverlap_merge_view_deg_neg\u001b[0;34m(year, k)\u001b[0m\n\u001b[1;32m     19\u001b[0m     \u001b[0mspread_dict\u001b[0m\u001b[0;34m[\u001b[0m\u001b[0mstr\u001b[0m\u001b[0;34m(\u001b[0m\u001b[0myear\u001b[0m\u001b[0;34m)\u001b[0m\u001b[0;34m]\u001b[0m\u001b[0;34m.\u001b[0m\u001b[0mtipping_model\u001b[0m\u001b[0;34m(\u001b[0m\u001b[0;34m)\u001b[0m\u001b[0;34m\u001b[0m\u001b[0;34m\u001b[0m\u001b[0m\n\u001b[1;32m     20\u001b[0m     \u001b[0mtipping_deg_neg\u001b[0m \u001b[0;34m=\u001b[0m \u001b[0mspread_dict\u001b[0m\u001b[0;34m[\u001b[0m\u001b[0mstr\u001b[0m\u001b[0;34m(\u001b[0m\u001b[0myear\u001b[0m\u001b[0;34m)\u001b[0m\u001b[0;34m]\u001b[0m\u001b[0;34m.\u001b[0m\u001b[0mget_influenced_nodes\u001b[0m\u001b[0;34m(\u001b[0m\u001b[0;34m)\u001b[0m\u001b[0;34m\u001b[0m\u001b[0;34m\u001b[0m\u001b[0m\n\u001b[0;32m---> 21\u001b[0;31m     \u001b[0mtopics_deg_neg\u001b[0m \u001b[0;34m=\u001b[0m \u001b[0moverlap_perform\u001b[0m\u001b[0;34m(\u001b[0m\u001b[0myear\u001b[0m\u001b[0;34m,\u001b[0m \u001b[0mtipping_deg_neg\u001b[0m\u001b[0;34m,\u001b[0m \u001b[0mk\u001b[0m\u001b[0;34m)\u001b[0m\u001b[0;34m\u001b[0m\u001b[0;34m\u001b[0m\u001b[0m\n\u001b[0m\u001b[1;32m     22\u001b[0m     \u001b[0mto_print\u001b[0m\u001b[0;34m(\u001b[0m\u001b[0mtopics_deg_neg\u001b[0m\u001b[0;34m,\u001b[0m \u001b[0;34m\"tipping\"\u001b[0m\u001b[0;34m,\u001b[0m \u001b[0mk\u001b[0m\u001b[0;34m,\u001b[0m \u001b[0;34m\"deg negative\"\u001b[0m\u001b[0;34m)\u001b[0m\u001b[0;34m\u001b[0m\u001b[0;34m\u001b[0m\u001b[0m\n",
      "\u001b[0;32m<ipython-input-5-60ae7201d3cc>\u001b[0m in \u001b[0;36moverlap_perform\u001b[0;34m(year, all_topics, k)\u001b[0m\n\u001b[1;32m      2\u001b[0m     \u001b[0moverlap\u001b[0m \u001b[0;34m=\u001b[0m \u001b[0mov\u001b[0m\u001b[0;34m.\u001b[0m\u001b[0mOverlapTopics\u001b[0m\u001b[0;34m(\u001b[0m\u001b[0mgraph_timeline_dict\u001b[0m\u001b[0;34m[\u001b[0m\u001b[0mstr\u001b[0m\u001b[0;34m(\u001b[0m\u001b[0myear\u001b[0m\u001b[0;34m)\u001b[0m\u001b[0;34m]\u001b[0m\u001b[0;34m,\u001b[0m \u001b[0mall_topics\u001b[0m\u001b[0;34m,\u001b[0m \u001b[0mk\u001b[0m\u001b[0;34m)\u001b[0m\u001b[0;34m\u001b[0m\u001b[0;34m\u001b[0m\u001b[0m\n\u001b[1;32m      3\u001b[0m     \u001b[0moverlap\u001b[0m\u001b[0;34m.\u001b[0m\u001b[0moverlap_preprocessing\u001b[0m\u001b[0;34m(\u001b[0m\u001b[0;34m)\u001b[0m\u001b[0;34m\u001b[0m\u001b[0;34m\u001b[0m\u001b[0m\n\u001b[0;32m----> 4\u001b[0;31m     \u001b[0moverlap\u001b[0m\u001b[0;34m.\u001b[0m\u001b[0mclique_percolation_method\u001b[0m\u001b[0;34m(\u001b[0m\u001b[0;34m)\u001b[0m\u001b[0;34m\u001b[0m\u001b[0;34m\u001b[0m\u001b[0m\n\u001b[0m\u001b[1;32m      5\u001b[0m     \u001b[0moverlap\u001b[0m\u001b[0;34m.\u001b[0m\u001b[0mcheck_spread_topics\u001b[0m\u001b[0;34m(\u001b[0m\u001b[0;34m)\u001b[0m\u001b[0;34m\u001b[0m\u001b[0;34m\u001b[0m\u001b[0m\n\u001b[1;32m      6\u001b[0m     \u001b[0moverlap\u001b[0m\u001b[0;34m.\u001b[0m\u001b[0mcheck_number_topics\u001b[0m\u001b[0;34m(\u001b[0m\u001b[0;34m)\u001b[0m\u001b[0;34m\u001b[0m\u001b[0;34m\u001b[0m\u001b[0m\n",
      "\u001b[0;32m~/Universita/magistrale/web_and_social_information_extraction/webandsocial-progetto/src/overlaps_topics/overlap_topics.py\u001b[0m in \u001b[0;36mclique_percolation_method\u001b[0;34m(self)\u001b[0m\n\u001b[1;32m    132\u001b[0m         \u001b[0mcommunities\u001b[0m \u001b[0;34m=\u001b[0m \u001b[0mk_clique_communities\u001b[0m\u001b[0;34m(\u001b[0m\u001b[0mG\u001b[0m \u001b[0;34m=\u001b[0m \u001b[0mself\u001b[0m\u001b[0;34m.\u001b[0m\u001b[0m__year_sub_graph\u001b[0m\u001b[0;34m,\u001b[0m \u001b[0mk\u001b[0m \u001b[0;34m=\u001b[0m \u001b[0;36m2\u001b[0m\u001b[0;34m)\u001b[0m\u001b[0;34m\u001b[0m\u001b[0;34m\u001b[0m\u001b[0m\n\u001b[1;32m    133\u001b[0m         \u001b[0;32mfor\u001b[0m \u001b[0mtopic\u001b[0m \u001b[0;32min\u001b[0m \u001b[0mcommunities\u001b[0m\u001b[0;34m:\u001b[0m\u001b[0;34m\u001b[0m\u001b[0;34m\u001b[0m\u001b[0m\n\u001b[0;32m--> 134\u001b[0;31m             \u001b[0mself\u001b[0m\u001b[0;34m.\u001b[0m\u001b[0mcheck_keywords\u001b[0m\u001b[0;34m(\u001b[0m\u001b[0mtopic\u001b[0m\u001b[0;34m)\u001b[0m\u001b[0;34m\u001b[0m\u001b[0;34m\u001b[0m\u001b[0m\n\u001b[0m\u001b[1;32m    135\u001b[0m             \u001b[0mself\u001b[0m\u001b[0;34m.\u001b[0m\u001b[0m__topics\u001b[0m\u001b[0;34m.\u001b[0m\u001b[0mappend\u001b[0m\u001b[0;34m(\u001b[0m\u001b[0mlist\u001b[0m\u001b[0;34m(\u001b[0m\u001b[0mtopic\u001b[0m\u001b[0;34m)\u001b[0m\u001b[0;34m)\u001b[0m\u001b[0;34m\u001b[0m\u001b[0;34m\u001b[0m\u001b[0m\n\u001b[1;32m    136\u001b[0m \u001b[0;34m\u001b[0m\u001b[0m\n",
      "\u001b[0;32m~/Universita/magistrale/web_and_social_information_extraction/webandsocial-progetto/src/overlaps_topics/overlap_topics.py\u001b[0m in \u001b[0;36mcheck_keywords\u001b[0;34m(self, topic)\u001b[0m\n\u001b[1;32m    119\u001b[0m \u001b[0;34m\u001b[0m\u001b[0m\n\u001b[1;32m    120\u001b[0m         \u001b[0;32mif\u001b[0m \u001b[0;32mnot\u001b[0m \u001b[0mregular\u001b[0m\u001b[0;34m:\u001b[0m\u001b[0;34m\u001b[0m\u001b[0;34m\u001b[0m\u001b[0m\n\u001b[0;32m--> 121\u001b[0;31m             \u001b[0;32mraise\u001b[0m \u001b[0mexcpt\u001b[0m\u001b[0;34m.\u001b[0m\u001b[0mTopicMalFormedException\u001b[0m\u001b[0;34m(\u001b[0m\u001b[0;34m\"Topic bad formed.\"\u001b[0m\u001b[0;34m)\u001b[0m\u001b[0;34m\u001b[0m\u001b[0;34m\u001b[0m\u001b[0m\n\u001b[0m\u001b[1;32m    122\u001b[0m \u001b[0;34m\u001b[0m\u001b[0m\n\u001b[1;32m    123\u001b[0m \u001b[0;34m\u001b[0m\u001b[0m\n",
      "\u001b[0;31mTopicMalFormedException\u001b[0m: Topic bad formed."
     ]
    }
   ],
   "source": [
    "overlap_merge_view_deg_neg(2011, k = 100)"
   ]
  },
  {
   "cell_type": "markdown",
   "metadata": {},
   "source": [
    "### Year 2012"
   ]
  },
  {
   "cell_type": "code",
   "execution_count": 218,
   "metadata": {},
   "outputs": [
    {
     "name": "stdout",
     "output_type": "stream",
     "text": [
      "OVERLAP MERGING RESULT WITH CLIQUE PERCOLATION METHOD, TIPPING MODEL, SEED TOP 100 NODES AND DEG THRESHOLD CALCULATION STRATEGY.\n",
      "\n",
      "['cross-validation (statistics)', 'computation', 'algorithm', 'cyclostationary process', 'fuzzy logic', 'data mining', 'experiment', 'missing data', 'genetic algorithm', 'optimization problem', 'fuzzy control system', 'preprocessor', 'genetic operator', 'expectation–maximization algorithm', 'particle swarm optimization', 'deep learning', 'supervised learning', 'premature convergence', 'autonomous robot', 'frequency band', 'evolutionary algorithm', 'radio frequency', 'sparse matrix', 'inference engine', 'benchmark (computing)', 'simulation', 'software deployment', 'trees (plant)', 'reinforcement learning', 'cognition', 'class', 'knapsack problem', 'cognitive radio', 'transmitter', 'coexist (image)', 'gradient', 'mathematical optimization', 'receiver operating characteristic', 'combinatorial optimization', 'interference (communication)', 'telecommunications link', 'machine learning', 'signal-to-interference-plus-noise ratio', 'q-learning']\n",
      "len_topic: 44\n",
      "\n",
      "['test data', 'dropout (neural networks)', 'neural network simulation', 'sampling - surgical action', 'artificial neural network', 'sampling (signal processing)', 'linear matrix inequality', 'social inequality', 'recurrent neural network', 'synchronization (computer science)', 'overfitting', 'time complexity', 'numerical analysis']\n",
      "len_topic: 13\n",
      "\n",
      "['training set size', 'approach improves', 'factor model', 'dramatically increase', 'sparse coding', 'exploit parallel architectures', 'latent factors', 'nips 2011 workshop', 'prior work', 'learning hierarchical models', 'transfer learning challenge', 'supervised learning capabilities']\n",
      "len_topic: 12\n",
      "\n",
      "['neural networks', 'neural network software', 'optical character recognition', 'randomness']\n",
      "len_topic: 4\n",
      "\n",
      "['tagging arguments', 'unsupervised algorithms', 'extract relations']\n",
      "len_topic: 3\n",
      "\n",
      "['time delay\\xa0', 'neural networks\\xa0']\n",
      "len_topic: 2\n",
      "\n",
      "['diffusion network', 'efficient approximation algorithm']\n",
      "len_topic: 2\n",
      "\n",
      "['predictive models', 'data models']\n",
      "len_topic: 2\n",
      "\n",
      "['draw samples', 'complex simple mcmc']\n",
      "len_topic: 2\n",
      "\n",
      "['recurrent neural networks', 'memristor']\n",
      "len_topic: 2\n",
      "\n",
      "['labeled ground', 'truth data']\n",
      "len_topic: 2\n",
      "\n",
      "['main organizing principles', 'network communities', 'nodes organize', 'densely linked clusters']\n",
      "len_topic: 4\n",
      "\n",
      "['parallel computing', 'graphics processing unit']\n",
      "len_topic: 2\n",
      "\n",
      "['paper describes', 'linear combination']\n",
      "len_topic: 2\n",
      "\n",
      "['search results', 'user behavior']\n",
      "len_topic: 2\n",
      "\n"
     ]
    }
   ],
   "source": [
    "overlap_merge_view_deg(2012, k = 100)"
   ]
  },
  {
   "cell_type": "code",
   "execution_count": 219,
   "metadata": {},
   "outputs": [
    {
     "name": "stdout",
     "output_type": "stream",
     "text": [
      "OVERLAP MERGING RESULT WITH CLIQUE PERCOLATION METHOD, TIPPING MODEL, SEED TOP 100 NODES AND HALF THRESHOLD CALCULATION STRATEGY.\n",
      "\n",
      "['cross-validation (statistics)', 'computation', 'algorithm', 'cyclostationary process', 'fuzzy logic', 'data mining', 'experiment', 'missing data', 'genetic algorithm', 'optimization problem', 'fuzzy control system', 'preprocessor', 'genetic operator', 'expectation–maximization algorithm', 'particle swarm optimization', 'deep learning', 'supervised learning', 'premature convergence', 'autonomous robot', 'frequency band', 'evolutionary algorithm', 'radio frequency', 'sparse matrix', 'inference engine', 'benchmark (computing)', 'simulation', 'software deployment', 'trees (plant)', 'reinforcement learning', 'cognition', 'class', 'knapsack problem', 'cognitive radio', 'transmitter', 'coexist (image)', 'gradient', 'mathematical optimization', 'receiver operating characteristic', 'combinatorial optimization', 'interference (communication)', 'telecommunications link', 'machine learning', 'signal-to-interference-plus-noise ratio', 'q-learning']\n",
      "len_topic: 44\n",
      "\n",
      "['test data', 'dropout (neural networks)', 'neural network simulation', 'sampling - surgical action', 'artificial neural network', 'sampling (signal processing)', 'linear matrix inequality', 'social inequality', 'recurrent neural network', 'synchronization (computer science)', 'overfitting', 'time complexity', 'numerical analysis']\n",
      "len_topic: 13\n",
      "\n",
      "['training set size', 'approach improves', 'factor model', 'dramatically increase', 'sparse coding', 'exploit parallel architectures', 'latent factors', 'nips 2011 workshop', 'prior work', 'learning hierarchical models', 'transfer learning challenge', 'supervised learning capabilities']\n",
      "len_topic: 12\n",
      "\n",
      "['neural networks', 'neural network software', 'optical character recognition', 'randomness']\n",
      "len_topic: 4\n",
      "\n",
      "['tagging arguments', 'unsupervised algorithms', 'extract relations']\n",
      "len_topic: 3\n",
      "\n",
      "['time delay\\xa0', 'neural networks\\xa0']\n",
      "len_topic: 2\n",
      "\n",
      "['diffusion network', 'efficient approximation algorithm']\n",
      "len_topic: 2\n",
      "\n",
      "['predictive models', 'data models']\n",
      "len_topic: 2\n",
      "\n",
      "['draw samples', 'complex simple mcmc']\n",
      "len_topic: 2\n",
      "\n",
      "['recurrent neural networks', 'memristor']\n",
      "len_topic: 2\n",
      "\n",
      "['labeled ground', 'truth data']\n",
      "len_topic: 2\n",
      "\n",
      "['main organizing principles', 'network communities', 'nodes organize', 'densely linked clusters']\n",
      "len_topic: 4\n",
      "\n",
      "['parallel computing', 'graphics processing unit']\n",
      "len_topic: 2\n",
      "\n",
      "['paper describes', 'linear combination']\n",
      "len_topic: 2\n",
      "\n",
      "['search results', 'user behavior']\n",
      "len_topic: 2\n",
      "\n"
     ]
    }
   ],
   "source": [
    "overlap_merge_view_half(2012, k = 100)"
   ]
  },
  {
   "cell_type": "code",
   "execution_count": 220,
   "metadata": {},
   "outputs": [
    {
     "name": "stdout",
     "output_type": "stream",
     "text": [
      "OVERLAP MERGING RESULT WITH CLIQUE PERCOLATION METHOD, TIPPING MODEL, SEED TOP 100 NODES AND DEG NEGATIVE THRESHOLD CALCULATION STRATEGY.\n",
      "\n",
      "['cross-validation (statistics)', 'computation', 'algorithm', 'cyclostationary process', 'fuzzy logic', 'data mining', 'experiment', 'missing data', 'genetic algorithm', 'optimization problem', 'fuzzy control system', 'preprocessor', 'genetic operator', 'expectation–maximization algorithm', 'particle swarm optimization', 'deep learning', 'supervised learning', 'premature convergence', 'autonomous robot', 'frequency band', 'evolutionary algorithm', 'radio frequency', 'sparse matrix', 'inference engine', 'benchmark (computing)', 'simulation', 'software deployment', 'trees (plant)', 'reinforcement learning', 'cognition', 'class', 'knapsack problem', 'cognitive radio', 'transmitter', 'coexist (image)', 'gradient', 'mathematical optimization', 'receiver operating characteristic', 'combinatorial optimization', 'interference (communication)', 'telecommunications link', 'machine learning', 'signal-to-interference-plus-noise ratio', 'q-learning']\n",
      "len_topic: 44\n",
      "\n",
      "['test data', 'dropout (neural networks)', 'neural network simulation', 'sampling - surgical action', 'artificial neural network', 'sampling (signal processing)', 'linear matrix inequality', 'social inequality', 'recurrent neural network', 'synchronization (computer science)', 'overfitting', 'time complexity', 'numerical analysis']\n",
      "len_topic: 13\n",
      "\n",
      "['training set size', 'approach improves', 'factor model', 'dramatically increase', 'sparse coding', 'exploit parallel architectures', 'latent factors', 'nips 2011 workshop', 'prior work', 'learning hierarchical models', 'transfer learning challenge', 'supervised learning capabilities']\n",
      "len_topic: 12\n",
      "\n",
      "['neural networks', 'neural network software', 'optical character recognition', 'randomness']\n",
      "len_topic: 4\n",
      "\n",
      "['tagging arguments', 'unsupervised algorithms', 'extract relations']\n",
      "len_topic: 3\n",
      "\n",
      "['time delay\\xa0', 'neural networks\\xa0']\n",
      "len_topic: 2\n",
      "\n",
      "['diffusion network', 'efficient approximation algorithm']\n",
      "len_topic: 2\n",
      "\n",
      "['predictive models', 'data models']\n",
      "len_topic: 2\n",
      "\n",
      "['draw samples', 'complex simple mcmc']\n",
      "len_topic: 2\n",
      "\n",
      "['recurrent neural networks', 'memristor']\n",
      "len_topic: 2\n",
      "\n",
      "['labeled ground', 'truth data']\n",
      "len_topic: 2\n",
      "\n",
      "['main organizing principles', 'network communities', 'nodes organize', 'densely linked clusters']\n",
      "len_topic: 4\n",
      "\n",
      "['parallel computing', 'graphics processing unit']\n",
      "len_topic: 2\n",
      "\n",
      "['paper describes', 'linear combination']\n",
      "len_topic: 2\n",
      "\n",
      "['search results', 'user behavior']\n",
      "len_topic: 2\n",
      "\n"
     ]
    }
   ],
   "source": [
    "overlap_merge_view_deg_neg(2012, k = 100)"
   ]
  },
  {
   "cell_type": "markdown",
   "metadata": {},
   "source": [
    "### Year 2013"
   ]
  },
  {
   "cell_type": "code",
   "execution_count": 221,
   "metadata": {},
   "outputs": [
    {
     "name": "stdout",
     "output_type": "stream",
     "text": [
      "OVERLAP MERGING RESULT WITH CLIQUE PERCOLATION METHOD, TIPPING MODEL, SEED TOP 100 NODES AND DEG THRESHOLD CALCULATION STRATEGY.\n",
      "\n",
      "['minimally trained algorithm', 'syndromic surveillance']\n",
      "len_topic: 2\n",
      "\n",
      "['sampling - surgical action', 'convex optimization', 'artificial bee colony algorithm', 'vertex', 'complex networks', 'collocation method', 'numerical method', 'backhaul (telecommunications)', 'b-spline', 'spectral leakage', 'numerical analysis', 'lessons learned', 'data synchronization', 'neural network simulation', 'synchronization', 'convolutional neural network', 'duality gap', 'block cipher mode of operation', 'simulation', 'probability', 'word embedding', 'bernoulli polynomials', 'algebraic equation', 'knowledge base', 'taguchi methods', 'reinforcement learning', 'switches', 'cognitive radio', 'manufacturing', 'newton–cotes formulas', 'performance', \"jensen's inequality\", 'iteration', 'matrix regularization', 'coefficient', 'nonlinear system', 'stochastic process', 'sampling (signal processing)', 'synchronization (computer science)', 'lyapunov fractal', 'error analysis (mathematics)', 'neural networks', 'randomness', 'cell (microprocessor)', 'organizing (structure)', 'algorithm', 'navier–stokes equations', 'artificial neural network', 'stability', 'nearest neighbor classifier', 'throughput', 'experiment', 'q-learning', 'gauss–kronrod quadrature formula', 'optimization problem', 'biological neural networks', 'dynamic programming', 'recurrent neural network', 'particle swarm optimization', 'deep learning', 'stochastic processes', 'complex network', 'dropout (neural networks)', 'hybrid optimization', 'taguchi method', 'differential evolution', 'quintic function', 'benchmark (computing)', 'self-organization', 'linear matrix inequality', 'central processing unit', 'state estimation', 'mean squared error', 'text corpus', 'approximation algorithm', 'couplings', 'mathematical optimization', 'frank–wolfe algorithm', 'social inequality', 'interference (communication)', 'telecommunications link', 'machine learning', 'recurrent neural networks', 'programming paradigm']\n",
      "len_topic: 84\n",
      "\n",
      "['h?', 'fault detection']\n",
      "len_topic: 2\n",
      "\n",
      "['space model', 'hammerstein model', 'linear dynamic']\n",
      "len_topic: 3\n",
      "\n",
      "['visualization', 'partitioning algorithms']\n",
      "len_topic: 2\n",
      "\n",
      "['visual quality', 'images captured', 'extreme lighting conditions']\n",
      "len_topic: 3\n",
      "\n",
      "['lukás burget', 'stefan kombrink', 'andriy mnih', 'geoffrey zweig', 'kai chen', 'richard socher', 'jan cernocký', 'wen-tau yih', 'peter d. turney', 'christopher d. manning', 'gregory s. corrado', 'tomas mikolov', 'jeffrey dean', 'yee whye teh', 'andrew y. ng']\n",
      "len_topic: 15\n",
      "\n",
      "['battery charge measurement', 'batteries']\n",
      "len_topic: 2\n",
      "\n",
      "['objective optimisation problems', 'dynamic multi', 'objective optimisation', 'single solution does']\n",
      "len_topic: 4\n",
      "\n",
      "['bayesian network', 'calculus of variations', 'variational principle', 'statistical model', 'boltzmann machine', 'greedy algorithm', 'topic model', 'dbm']\n",
      "len_topic: 8\n",
      "\n",
      "['failure mode and effects analysis', 'failure cause']\n",
      "len_topic: 2\n",
      "\n",
      "['social networks', 'online social networks']\n",
      "len_topic: 2\n",
      "\n",
      "['acceptable time', 'ready ontologies', 'converting text', 'ontology design', 'ontology design patterns', 'linguistic frame semantics', 'novel approach', 'quality linked']\n",
      "len_topic: 8\n",
      "\n",
      "['named entity', 'semi-structured resources', 'wikipedia', 'information extraction']\n",
      "len_topic: 4\n",
      "\n",
      "['pythagorean membership grades', 'related idea', 'pythagorean theorem']\n",
      "len_topic: 3\n",
      "\n",
      "['empirical correlations', 'computer program', 'support vector machine']\n",
      "len_topic: 3\n",
      "\n",
      "['big data', 'future work']\n",
      "len_topic: 2\n",
      "\n",
      "['kinect', 'computer vision', 'image resolution']\n",
      "len_topic: 3\n",
      "\n",
      "['coordinate descent', 'times ascent', 'rate of convergence', 'stochastic gradient descent']\n",
      "len_topic: 4\n",
      "\n",
      "['single moving camera', '3d reconstruction', 'algorithm presented focuses']\n",
      "len_topic: 3\n",
      "\n",
      "['agents differed', 'consensus problem', 'time heterogeneous multi']\n",
      "len_topic: 3\n",
      "\n",
      "['stochastic learning', 'tier femtocell networks', 'combining game theory', 'stackelberg game formulation']\n",
      "len_topic: 4\n",
      "\n"
     ]
    }
   ],
   "source": [
    "overlap_merge_view_deg(2013, k = 100)"
   ]
  },
  {
   "cell_type": "code",
   "execution_count": 222,
   "metadata": {},
   "outputs": [
    {
     "ename": "TopicNotAllKeywordsUsedException",
     "evalue": "To perfom all topics not all keywords have been used.",
     "output_type": "error",
     "traceback": [
      "\u001b[0;31m---------------------------------------------------------------------------\u001b[0m",
      "\u001b[0;31mTopicNotAllKeywordsUsedException\u001b[0m          Traceback (most recent call last)",
      "\u001b[0;32m<ipython-input-222-8732a0367a5b>\u001b[0m in \u001b[0;36m<module>\u001b[0;34m\u001b[0m\n\u001b[0;32m----> 1\u001b[0;31m \u001b[0moverlap_merge_view_half\u001b[0m\u001b[0;34m(\u001b[0m\u001b[0;36m2013\u001b[0m\u001b[0;34m,\u001b[0m \u001b[0mk\u001b[0m \u001b[0;34m=\u001b[0m \u001b[0;36m100\u001b[0m\u001b[0;34m)\u001b[0m\u001b[0;34m\u001b[0m\u001b[0;34m\u001b[0m\u001b[0m\n\u001b[0m",
      "\u001b[0;32m<ipython-input-6-aa88f64ba5fa>\u001b[0m in \u001b[0;36moverlap_merge_view_half\u001b[0;34m(year, k)\u001b[0m\n\u001b[1;32m     11\u001b[0m     \u001b[0mspread_dict\u001b[0m\u001b[0;34m[\u001b[0m\u001b[0mstr\u001b[0m\u001b[0;34m(\u001b[0m\u001b[0myear\u001b[0m\u001b[0;34m)\u001b[0m\u001b[0;34m]\u001b[0m\u001b[0;34m.\u001b[0m\u001b[0mtipping_model\u001b[0m\u001b[0;34m(\u001b[0m\u001b[0;34m)\u001b[0m\u001b[0;34m\u001b[0m\u001b[0;34m\u001b[0m\u001b[0m\n\u001b[1;32m     12\u001b[0m     \u001b[0mtipping_half\u001b[0m \u001b[0;34m=\u001b[0m \u001b[0mspread_dict\u001b[0m\u001b[0;34m[\u001b[0m\u001b[0mstr\u001b[0m\u001b[0;34m(\u001b[0m\u001b[0myear\u001b[0m\u001b[0;34m)\u001b[0m\u001b[0;34m]\u001b[0m\u001b[0;34m.\u001b[0m\u001b[0mget_influenced_nodes\u001b[0m\u001b[0;34m(\u001b[0m\u001b[0;34m)\u001b[0m\u001b[0;34m\u001b[0m\u001b[0;34m\u001b[0m\u001b[0m\n\u001b[0;32m---> 13\u001b[0;31m     \u001b[0mtopics_half\u001b[0m \u001b[0;34m=\u001b[0m \u001b[0moverlap_perform\u001b[0m\u001b[0;34m(\u001b[0m\u001b[0myear\u001b[0m\u001b[0;34m,\u001b[0m \u001b[0mtipping_half\u001b[0m\u001b[0;34m,\u001b[0m \u001b[0mk\u001b[0m\u001b[0;34m)\u001b[0m\u001b[0;34m\u001b[0m\u001b[0;34m\u001b[0m\u001b[0m\n\u001b[0m\u001b[1;32m     14\u001b[0m     \u001b[0mto_print\u001b[0m\u001b[0;34m(\u001b[0m\u001b[0mtopics_half\u001b[0m\u001b[0;34m,\u001b[0m \u001b[0;34m\"tipping\"\u001b[0m\u001b[0;34m,\u001b[0m \u001b[0mk\u001b[0m\u001b[0;34m,\u001b[0m \u001b[0;34m\"half\"\u001b[0m\u001b[0;34m)\u001b[0m\u001b[0;34m\u001b[0m\u001b[0;34m\u001b[0m\u001b[0m\n\u001b[1;32m     15\u001b[0m \u001b[0;34m\u001b[0m\u001b[0m\n",
      "\u001b[0;32m<ipython-input-5-60ae7201d3cc>\u001b[0m in \u001b[0;36moverlap_perform\u001b[0;34m(year, all_topics, k)\u001b[0m\n\u001b[1;32m      3\u001b[0m     \u001b[0moverlap\u001b[0m\u001b[0;34m.\u001b[0m\u001b[0moverlap_preprocessing\u001b[0m\u001b[0;34m(\u001b[0m\u001b[0;34m)\u001b[0m\u001b[0;34m\u001b[0m\u001b[0;34m\u001b[0m\u001b[0m\n\u001b[1;32m      4\u001b[0m     \u001b[0moverlap\u001b[0m\u001b[0;34m.\u001b[0m\u001b[0mclique_percolation_method\u001b[0m\u001b[0;34m(\u001b[0m\u001b[0;34m)\u001b[0m\u001b[0;34m\u001b[0m\u001b[0;34m\u001b[0m\u001b[0m\n\u001b[0;32m----> 5\u001b[0;31m     \u001b[0moverlap\u001b[0m\u001b[0;34m.\u001b[0m\u001b[0mcheck_spread_topics\u001b[0m\u001b[0;34m(\u001b[0m\u001b[0;34m)\u001b[0m\u001b[0;34m\u001b[0m\u001b[0;34m\u001b[0m\u001b[0m\n\u001b[0m\u001b[1;32m      6\u001b[0m     \u001b[0moverlap\u001b[0m\u001b[0;34m.\u001b[0m\u001b[0mcheck_number_topics\u001b[0m\u001b[0;34m(\u001b[0m\u001b[0;34m)\u001b[0m\u001b[0;34m\u001b[0m\u001b[0;34m\u001b[0m\u001b[0m\n\u001b[1;32m      7\u001b[0m     \u001b[0;32mreturn\u001b[0m \u001b[0moverlap\u001b[0m\u001b[0;34m.\u001b[0m\u001b[0mget_topics\u001b[0m\u001b[0;34m(\u001b[0m\u001b[0;34m)\u001b[0m\u001b[0;34m\u001b[0m\u001b[0;34m\u001b[0m\u001b[0m\n",
      "\u001b[0;32m~/Universita/magistrale/web_and_social_information_extraction/webandsocial-progetto/src/overlaps_topics/overlap_topics.py\u001b[0m in \u001b[0;36mcheck_spread_topics\u001b[0;34m(self)\u001b[0m\n\u001b[1;32m    156\u001b[0m \u001b[0;34m\u001b[0m\u001b[0m\n\u001b[1;32m    157\u001b[0m         \u001b[0;32mif\u001b[0m \u001b[0msize_iteration\u001b[0m \u001b[0;34m!=\u001b[0m \u001b[0msize_topics\u001b[0m\u001b[0;34m:\u001b[0m\u001b[0;34m\u001b[0m\u001b[0;34m\u001b[0m\u001b[0m\n\u001b[0;32m--> 158\u001b[0;31m             \u001b[0;32mraise\u001b[0m \u001b[0mexcpt\u001b[0m\u001b[0;34m.\u001b[0m\u001b[0mTopicNotAllKeywordsUsedException\u001b[0m\u001b[0;34m(\u001b[0m\u001b[0;34m\"To perfom all topics not all keywords have been used.\"\u001b[0m\u001b[0;34m)\u001b[0m\u001b[0;34m\u001b[0m\u001b[0;34m\u001b[0m\u001b[0m\n\u001b[0m\u001b[1;32m    159\u001b[0m \u001b[0;34m\u001b[0m\u001b[0m\n\u001b[1;32m    160\u001b[0m \u001b[0;34m\u001b[0m\u001b[0m\n",
      "\u001b[0;31mTopicNotAllKeywordsUsedException\u001b[0m: To perfom all topics not all keywords have been used."
     ]
    }
   ],
   "source": [
    "overlap_merge_view_half(2013, k = 100)"
   ]
  },
  {
   "cell_type": "code",
   "execution_count": 223,
   "metadata": {},
   "outputs": [
    {
     "ename": "TopicMalFormedException",
     "evalue": "Topic bad formed.",
     "output_type": "error",
     "traceback": [
      "\u001b[0;31m---------------------------------------------------------------------------\u001b[0m",
      "\u001b[0;31mTopicMalFormedException\u001b[0m                   Traceback (most recent call last)",
      "\u001b[0;32m<ipython-input-223-8571c4beb6be>\u001b[0m in \u001b[0;36m<module>\u001b[0;34m\u001b[0m\n\u001b[0;32m----> 1\u001b[0;31m \u001b[0moverlap_merge_view_deg_neg\u001b[0m\u001b[0;34m(\u001b[0m\u001b[0;36m2013\u001b[0m\u001b[0;34m,\u001b[0m \u001b[0mk\u001b[0m \u001b[0;34m=\u001b[0m \u001b[0;36m100\u001b[0m\u001b[0;34m)\u001b[0m\u001b[0;34m\u001b[0m\u001b[0;34m\u001b[0m\u001b[0m\n\u001b[0m",
      "\u001b[0;32m<ipython-input-6-aa88f64ba5fa>\u001b[0m in \u001b[0;36moverlap_merge_view_deg_neg\u001b[0;34m(year, k)\u001b[0m\n\u001b[1;32m     19\u001b[0m     \u001b[0mspread_dict\u001b[0m\u001b[0;34m[\u001b[0m\u001b[0mstr\u001b[0m\u001b[0;34m(\u001b[0m\u001b[0myear\u001b[0m\u001b[0;34m)\u001b[0m\u001b[0;34m]\u001b[0m\u001b[0;34m.\u001b[0m\u001b[0mtipping_model\u001b[0m\u001b[0;34m(\u001b[0m\u001b[0;34m)\u001b[0m\u001b[0;34m\u001b[0m\u001b[0;34m\u001b[0m\u001b[0m\n\u001b[1;32m     20\u001b[0m     \u001b[0mtipping_deg_neg\u001b[0m \u001b[0;34m=\u001b[0m \u001b[0mspread_dict\u001b[0m\u001b[0;34m[\u001b[0m\u001b[0mstr\u001b[0m\u001b[0;34m(\u001b[0m\u001b[0myear\u001b[0m\u001b[0;34m)\u001b[0m\u001b[0;34m]\u001b[0m\u001b[0;34m.\u001b[0m\u001b[0mget_influenced_nodes\u001b[0m\u001b[0;34m(\u001b[0m\u001b[0;34m)\u001b[0m\u001b[0;34m\u001b[0m\u001b[0;34m\u001b[0m\u001b[0m\n\u001b[0;32m---> 21\u001b[0;31m     \u001b[0mtopics_deg_neg\u001b[0m \u001b[0;34m=\u001b[0m \u001b[0moverlap_perform\u001b[0m\u001b[0;34m(\u001b[0m\u001b[0myear\u001b[0m\u001b[0;34m,\u001b[0m \u001b[0mtipping_deg_neg\u001b[0m\u001b[0;34m,\u001b[0m \u001b[0mk\u001b[0m\u001b[0;34m)\u001b[0m\u001b[0;34m\u001b[0m\u001b[0;34m\u001b[0m\u001b[0m\n\u001b[0m\u001b[1;32m     22\u001b[0m     \u001b[0mto_print\u001b[0m\u001b[0;34m(\u001b[0m\u001b[0mtopics_deg_neg\u001b[0m\u001b[0;34m,\u001b[0m \u001b[0;34m\"tipping\"\u001b[0m\u001b[0;34m,\u001b[0m \u001b[0mk\u001b[0m\u001b[0;34m,\u001b[0m \u001b[0;34m\"deg negative\"\u001b[0m\u001b[0;34m)\u001b[0m\u001b[0;34m\u001b[0m\u001b[0;34m\u001b[0m\u001b[0m\n",
      "\u001b[0;32m<ipython-input-5-60ae7201d3cc>\u001b[0m in \u001b[0;36moverlap_perform\u001b[0;34m(year, all_topics, k)\u001b[0m\n\u001b[1;32m      2\u001b[0m     \u001b[0moverlap\u001b[0m \u001b[0;34m=\u001b[0m \u001b[0mov\u001b[0m\u001b[0;34m.\u001b[0m\u001b[0mOverlapTopics\u001b[0m\u001b[0;34m(\u001b[0m\u001b[0mgraph_timeline_dict\u001b[0m\u001b[0;34m[\u001b[0m\u001b[0mstr\u001b[0m\u001b[0;34m(\u001b[0m\u001b[0myear\u001b[0m\u001b[0;34m)\u001b[0m\u001b[0;34m]\u001b[0m\u001b[0;34m,\u001b[0m \u001b[0mall_topics\u001b[0m\u001b[0;34m,\u001b[0m \u001b[0mk\u001b[0m\u001b[0;34m)\u001b[0m\u001b[0;34m\u001b[0m\u001b[0;34m\u001b[0m\u001b[0m\n\u001b[1;32m      3\u001b[0m     \u001b[0moverlap\u001b[0m\u001b[0;34m.\u001b[0m\u001b[0moverlap_preprocessing\u001b[0m\u001b[0;34m(\u001b[0m\u001b[0;34m)\u001b[0m\u001b[0;34m\u001b[0m\u001b[0;34m\u001b[0m\u001b[0m\n\u001b[0;32m----> 4\u001b[0;31m     \u001b[0moverlap\u001b[0m\u001b[0;34m.\u001b[0m\u001b[0mclique_percolation_method\u001b[0m\u001b[0;34m(\u001b[0m\u001b[0;34m)\u001b[0m\u001b[0;34m\u001b[0m\u001b[0;34m\u001b[0m\u001b[0m\n\u001b[0m\u001b[1;32m      5\u001b[0m     \u001b[0moverlap\u001b[0m\u001b[0;34m.\u001b[0m\u001b[0mcheck_spread_topics\u001b[0m\u001b[0;34m(\u001b[0m\u001b[0;34m)\u001b[0m\u001b[0;34m\u001b[0m\u001b[0;34m\u001b[0m\u001b[0m\n\u001b[1;32m      6\u001b[0m     \u001b[0moverlap\u001b[0m\u001b[0;34m.\u001b[0m\u001b[0mcheck_number_topics\u001b[0m\u001b[0;34m(\u001b[0m\u001b[0;34m)\u001b[0m\u001b[0;34m\u001b[0m\u001b[0;34m\u001b[0m\u001b[0m\n",
      "\u001b[0;32m~/Universita/magistrale/web_and_social_information_extraction/webandsocial-progetto/src/overlaps_topics/overlap_topics.py\u001b[0m in \u001b[0;36mclique_percolation_method\u001b[0;34m(self)\u001b[0m\n\u001b[1;32m    132\u001b[0m         \u001b[0mcommunities\u001b[0m \u001b[0;34m=\u001b[0m \u001b[0mk_clique_communities\u001b[0m\u001b[0;34m(\u001b[0m\u001b[0mG\u001b[0m \u001b[0;34m=\u001b[0m \u001b[0mself\u001b[0m\u001b[0;34m.\u001b[0m\u001b[0m__year_sub_graph\u001b[0m\u001b[0;34m,\u001b[0m \u001b[0mk\u001b[0m \u001b[0;34m=\u001b[0m \u001b[0;36m2\u001b[0m\u001b[0;34m)\u001b[0m\u001b[0;34m\u001b[0m\u001b[0;34m\u001b[0m\u001b[0m\n\u001b[1;32m    133\u001b[0m         \u001b[0;32mfor\u001b[0m \u001b[0mtopic\u001b[0m \u001b[0;32min\u001b[0m \u001b[0mcommunities\u001b[0m\u001b[0;34m:\u001b[0m\u001b[0;34m\u001b[0m\u001b[0;34m\u001b[0m\u001b[0m\n\u001b[0;32m--> 134\u001b[0;31m             \u001b[0mself\u001b[0m\u001b[0;34m.\u001b[0m\u001b[0mcheck_keywords\u001b[0m\u001b[0;34m(\u001b[0m\u001b[0mtopic\u001b[0m\u001b[0;34m)\u001b[0m\u001b[0;34m\u001b[0m\u001b[0;34m\u001b[0m\u001b[0m\n\u001b[0m\u001b[1;32m    135\u001b[0m             \u001b[0mself\u001b[0m\u001b[0;34m.\u001b[0m\u001b[0m__topics\u001b[0m\u001b[0;34m.\u001b[0m\u001b[0mappend\u001b[0m\u001b[0;34m(\u001b[0m\u001b[0mlist\u001b[0m\u001b[0;34m(\u001b[0m\u001b[0mtopic\u001b[0m\u001b[0;34m)\u001b[0m\u001b[0;34m)\u001b[0m\u001b[0;34m\u001b[0m\u001b[0;34m\u001b[0m\u001b[0m\n\u001b[1;32m    136\u001b[0m \u001b[0;34m\u001b[0m\u001b[0m\n",
      "\u001b[0;32m~/Universita/magistrale/web_and_social_information_extraction/webandsocial-progetto/src/overlaps_topics/overlap_topics.py\u001b[0m in \u001b[0;36mcheck_keywords\u001b[0;34m(self, topic)\u001b[0m\n\u001b[1;32m    119\u001b[0m \u001b[0;34m\u001b[0m\u001b[0m\n\u001b[1;32m    120\u001b[0m         \u001b[0;32mif\u001b[0m \u001b[0;32mnot\u001b[0m \u001b[0mregular\u001b[0m\u001b[0;34m:\u001b[0m\u001b[0;34m\u001b[0m\u001b[0;34m\u001b[0m\u001b[0m\n\u001b[0;32m--> 121\u001b[0;31m             \u001b[0;32mraise\u001b[0m \u001b[0mexcpt\u001b[0m\u001b[0;34m.\u001b[0m\u001b[0mTopicMalFormedException\u001b[0m\u001b[0;34m(\u001b[0m\u001b[0;34m\"Topic bad formed.\"\u001b[0m\u001b[0;34m)\u001b[0m\u001b[0;34m\u001b[0m\u001b[0;34m\u001b[0m\u001b[0m\n\u001b[0m\u001b[1;32m    122\u001b[0m \u001b[0;34m\u001b[0m\u001b[0m\n\u001b[1;32m    123\u001b[0m \u001b[0;34m\u001b[0m\u001b[0m\n",
      "\u001b[0;31mTopicMalFormedException\u001b[0m: Topic bad formed."
     ]
    }
   ],
   "source": [
    "overlap_merge_view_deg_neg(2013, k = 100)"
   ]
  },
  {
   "cell_type": "markdown",
   "metadata": {},
   "source": [
    "### Year 2014"
   ]
  },
  {
   "cell_type": "code",
   "execution_count": 224,
   "metadata": {},
   "outputs": [
    {
     "name": "stdout",
     "output_type": "stream",
     "text": [
      "OVERLAP MERGING RESULT WITH CLIQUE PERCOLATION METHOD, TIPPING MODEL, SEED TOP 100 NODES AND DEG THRESHOLD CALCULATION STRATEGY.\n",
      "\n",
      "['risk evaluation', 'failure mode and effects analysis']\n",
      "len_topic: 2\n",
      "\n",
      "['metaheuristic', 'particle swarm optimization (pso)', 'sampling - surgical action', 'statistical machine translation', 'calculus of variations', 'exponential', 'usb on-the-go', 'in-place algorithm', 'mimo-ofdm', 'n-gram', 'jacobi method', 'convex optimization', 'navdeep jaitly', 'baseline (configuration management)', 'ilya sutskever', 'phil blunsom', 'partition function (mathematics)', 'markov decision process', 'deep learning papers review at neurotechnology: attention mechanisms neurotechnology mar 15 2017', 'iterative method', 'john makhoul', 'fuzzy control system', 'pixel', 'abdel-rahman mohamed', 'autoencoder', 'state space', 'cuckoo search', 'constrained optimization', 'mathematical induction', 'time complexity', 'matthew d. zeiler', 'numerical analysis', 'point of view (computer hardware company)', 'nicolas boulanger-lewandowski', 'computers', 'metaheuristic search (ms)', 'neural network simulation', 'language model', 'convolutional neural network', 'alex graves', 'quoc v. le', 'simulation', 'word embedding', 'reinforcement learning', 'krill herd (kh)\\xa0', 'neural network software', 'bag-of-words model', 'cognitive radio', 'topology', 'cuckoo search\\xa0', 'http public key pinning', 'neural machine translation', 'scalability', 'generative model', 'nal kalchbrenner', 'iteration', 'yang liu', 'ant colony optimization algorithms', 'neural network', 'noise reduction', 'coefficient', 'alex krizhevsky', 'nonlinear system', 'richard m. schwartz', 'constraint algorithm', 'sampling (signal processing)', 'data stream mining', 'kyunghyun cho', 'mimo', 'multimodal interaction', 'lyapunov fractal', 'fault tolerance', 'neural networks', 'global optimization problem\\xa0', 'computation', 'x.690', 'control theory', 'algorithm', 'imagenet', 'shadowing (histology)', 'artificial neural network', 'quality of service', 'fuzzy logic', 'neighborhood search (ns) operator', 'feature selection', 'bellman equation', 'hamilton–jacobi–bellman equation', 'periodic solution', 'throughput', 'experiment', 'genetic algorithm', 'optimization problem', 'bil herd', 'mathematical model', 'analytical models', 'biological neural networks', 'dynamic programming', 'activation function', 'formal system', 'computer vision', 'rayleigh fading', 'finite-time stabilization', 'optimal control', 'recursive neural network', 'jacob devlin', 'deep learning', 'recurrent neural network', 'random neural network', 'particle swarm optimization', 'machine learning', 'global optimization', 'mathematics', 'computer performance', 'freebase', 'geoffrey e. hinton', 'premature convergence', 'complex network', 'bit error rate', 'information retrieval', 'knowledge graph', 'uncertainty', 'rate of convergence', 'evolutionary algorithm', 'heuristic', 'stochastic gradient descent', 'benchmark (computing)', 'linear matrix inequality', 'yoshua bengio', 'zhongqiang huang', 'oriol vinyals', 'mean squared error', 'electronic mail', 'skip list', 'encoder', 'approximation algorithm', 'xiang zhang', 'velocity (software development)', 'transmitter', 'mathematical optimization', 'yang', 'multitier architecture', 'lyapunov–krasovskii functional', 'entity', 'social inequality', 'interference (communication)', 'search algorithm', 'bart van merrienboer', 'feasible region']\n",
      "len_topic: 148\n",
      "\n",
      "['krasovskii functional', 'appropriate lyapunov', 'admissible uncertainties', 'sufficient condition', 'designed algorithm', 'proposed design approach', 'time bounded', 'bounded uncertainties', 'genetic regulatory networks', 'time passive controller', 'optimal finite', 'markovian jump parameters', 'uncertain nonlinear mjss', 'stochastically finite', 'finite time', 'fuzzy model', 'numerical example', 'linear matrix inequalities', 'paper studies']\n",
      "len_topic: 19\n",
      "\n",
      "['paper investigates', 'criteria decision making']\n",
      "len_topic: 2\n",
      "\n",
      "['gradient method', 'empirical risk minimization', 'convex function']\n",
      "len_topic: 3\n",
      "\n",
      "['multilevel image thresholding', 'image segmentation']\n",
      "len_topic: 2\n",
      "\n",
      "['operator networks environment', 'hybrid decision algorithm']\n",
      "len_topic: 2\n",
      "\n",
      "['facto standard', '70 commercial tools', 'currently support']\n",
      "len_topic: 3\n",
      "\n",
      "['collective behavior', 'solutions getting clustered', 'swarm intelligence', 'brain storm optimization', 'promising algorithm', 'brainstorming process']\n",
      "len_topic: 6\n",
      "\n",
      "['objective optimisation problems', 'dynamic multi']\n",
      "len_topic: 2\n",
      "\n",
      "['fuzzy set', 'indexes']\n",
      "len_topic: 2\n",
      "\n",
      "['knowledge base', 'sentiment analysis', 'natural language']\n",
      "len_topic: 3\n",
      "\n",
      "['clustering', 'wireless sensor networks', 'network connectivity', 'network life']\n",
      "len_topic: 4\n",
      "\n",
      "['group decision making', 'consensus']\n",
      "len_topic: 2\n",
      "\n"
     ]
    }
   ],
   "source": [
    "overlap_merge_view_deg(2014, k = 100)"
   ]
  },
  {
   "cell_type": "code",
   "execution_count": 225,
   "metadata": {},
   "outputs": [
    {
     "name": "stdout",
     "output_type": "stream",
     "text": [
      "OVERLAP MERGING RESULT WITH CLIQUE PERCOLATION METHOD, TIPPING MODEL, SEED TOP 100 NODES AND HALF THRESHOLD CALCULATION STRATEGY.\n",
      "\n",
      "['risk evaluation', 'failure mode and effects analysis']\n",
      "len_topic: 2\n",
      "\n",
      "['metaheuristic', 'particle swarm optimization (pso)', 'sampling - surgical action', 'convex optimization', 'statistical machine translation', 'exponential', 'usb on-the-go', 'in-place algorithm', 'mimo-ofdm', 'jacobi method', 'navdeep jaitly', 'baseline (configuration management)', 'ilya sutskever', 'partition function (mathematics)', 'phil blunsom', 'markov decision process', 'iterative method', 'deep learning papers review at neurotechnology: attention mechanisms neurotechnology mar 15 2017', 'john makhoul', 'fuzzy control system', 'pixel', 'abdel-rahman mohamed', 'autoencoder', 'constrained optimization', 'state space', 'mathematical induction', 'time complexity', 'matthew d. zeiler', 'numerical analysis', 'point of view (computer hardware company)', 'nicolas boulanger-lewandowski', 'metaheuristic search (ms)', 'neural network simulation', 'language model', 'convolutional neural network', 'alex graves', 'quoc v. le', 'simulation', 'reinforcement learning', 'krill herd (kh)\\xa0', 'neural network software', 'bag-of-words model', 'cognitive radio', 'http public key pinning', 'neural machine translation', 'noise reduction', 'nal kalchbrenner', 'iteration', 'yang liu', 'neural network', 'ant colony optimization algorithms', 'coefficient', 'alex krizhevsky', 'nonlinear system', 'richard m. schwartz', 'constraint algorithm', 'sampling (signal processing)', 'mimo', 'data stream mining', 'kyunghyun cho', 'multimodal interaction', 'lyapunov fractal', 'neural networks', 'fault tolerance', 'global optimization problem\\xa0', 'computation', 'x.690', 'shadowing (histology)', 'algorithm', 'imagenet', 'control theory', 'artificial neural network', 'quality of service', 'fuzzy logic', 'neighborhood search (ns) operator', 'feature selection', 'bellman equation', 'hamilton–jacobi–bellman equation', 'periodic solution', 'throughput', 'experiment', 'mathematical model', 'optimization problem', 'genetic algorithm', 'biological neural networks', 'bil herd', 'dynamic programming', 'activation function', 'computer vision', 'formal system', 'rayleigh fading', 'finite-time stabilization', 'optimal control', 'recursive neural network', 'jacob devlin', 'recurrent neural network', 'random neural network', 'particle swarm optimization', 'mathematics', 'global optimization', 'computer performance', 'deep learning', 'bart van merrienboer', 'geoffrey e. hinton', 'premature convergence', 'bit error rate', 'rate of convergence', 'evolutionary algorithm', 'complex network', 'information retrieval', 'uncertainty', 'stochastic gradient descent', 'heuristic', 'benchmark (computing)', 'linear matrix inequality', 'yoshua bengio', 'zhongqiang huang', 'oriol vinyals', 'mean squared error', 'transmitter', 'encoder', 'approximation algorithm', 'xiang zhang', 'velocity (software development)', 'mathematical optimization', 'multitier architecture', 'lyapunov–krasovskii functional', 'social inequality', 'interference (communication)', 'search algorithm', 'machine learning', 'feasible region']\n",
      "len_topic: 132\n",
      "\n",
      "['krasovskii functional', 'appropriate lyapunov', 'admissible uncertainties', 'sufficient condition', 'designed algorithm', 'proposed design approach', 'time bounded', 'bounded uncertainties', 'genetic regulatory networks', 'time passive controller', 'optimal finite', 'markovian jump parameters', 'uncertain nonlinear mjss', 'stochastically finite', 'finite time', 'fuzzy model', 'numerical example', 'linear matrix inequalities', 'paper studies']\n",
      "len_topic: 19\n",
      "\n",
      "['paper investigates', 'criteria decision making']\n",
      "len_topic: 2\n",
      "\n",
      "['gradient method', 'empirical risk minimization', 'convex function']\n",
      "len_topic: 3\n",
      "\n",
      "['multilevel image thresholding', 'image segmentation']\n",
      "len_topic: 2\n",
      "\n",
      "['operator networks environment', 'hybrid decision algorithm']\n",
      "len_topic: 2\n",
      "\n",
      "['facto standard', '70 commercial tools', 'currently support']\n",
      "len_topic: 3\n",
      "\n",
      "['collective behavior', 'solutions getting clustered', 'swarm intelligence', 'brain storm optimization', 'promising algorithm', 'brainstorming process']\n",
      "len_topic: 6\n",
      "\n",
      "['objective optimisation problems', 'dynamic multi']\n",
      "len_topic: 2\n",
      "\n",
      "['fuzzy set', 'indexes']\n",
      "len_topic: 2\n",
      "\n",
      "['knowledge base', 'sentiment analysis', 'natural language']\n",
      "len_topic: 3\n",
      "\n",
      "['clustering', 'wireless sensor networks', 'network connectivity', 'network life']\n",
      "len_topic: 4\n",
      "\n",
      "['group decision making', 'consensus']\n",
      "len_topic: 2\n",
      "\n"
     ]
    }
   ],
   "source": [
    "overlap_merge_view_half(2014, k = 100)"
   ]
  },
  {
   "cell_type": "code",
   "execution_count": 226,
   "metadata": {},
   "outputs": [
    {
     "ename": "TopicMalFormedException",
     "evalue": "Topic bad formed.",
     "output_type": "error",
     "traceback": [
      "\u001b[0;31m---------------------------------------------------------------------------\u001b[0m",
      "\u001b[0;31mTopicMalFormedException\u001b[0m                   Traceback (most recent call last)",
      "\u001b[0;32m<ipython-input-226-35433133fac7>\u001b[0m in \u001b[0;36m<module>\u001b[0;34m\u001b[0m\n\u001b[0;32m----> 1\u001b[0;31m \u001b[0moverlap_merge_view_deg_neg\u001b[0m\u001b[0;34m(\u001b[0m\u001b[0;36m2014\u001b[0m\u001b[0;34m,\u001b[0m \u001b[0mk\u001b[0m \u001b[0;34m=\u001b[0m \u001b[0;36m100\u001b[0m\u001b[0;34m)\u001b[0m\u001b[0;34m\u001b[0m\u001b[0;34m\u001b[0m\u001b[0m\n\u001b[0m",
      "\u001b[0;32m<ipython-input-6-aa88f64ba5fa>\u001b[0m in \u001b[0;36moverlap_merge_view_deg_neg\u001b[0;34m(year, k)\u001b[0m\n\u001b[1;32m     19\u001b[0m     \u001b[0mspread_dict\u001b[0m\u001b[0;34m[\u001b[0m\u001b[0mstr\u001b[0m\u001b[0;34m(\u001b[0m\u001b[0myear\u001b[0m\u001b[0;34m)\u001b[0m\u001b[0;34m]\u001b[0m\u001b[0;34m.\u001b[0m\u001b[0mtipping_model\u001b[0m\u001b[0;34m(\u001b[0m\u001b[0;34m)\u001b[0m\u001b[0;34m\u001b[0m\u001b[0;34m\u001b[0m\u001b[0m\n\u001b[1;32m     20\u001b[0m     \u001b[0mtipping_deg_neg\u001b[0m \u001b[0;34m=\u001b[0m \u001b[0mspread_dict\u001b[0m\u001b[0;34m[\u001b[0m\u001b[0mstr\u001b[0m\u001b[0;34m(\u001b[0m\u001b[0myear\u001b[0m\u001b[0;34m)\u001b[0m\u001b[0;34m]\u001b[0m\u001b[0;34m.\u001b[0m\u001b[0mget_influenced_nodes\u001b[0m\u001b[0;34m(\u001b[0m\u001b[0;34m)\u001b[0m\u001b[0;34m\u001b[0m\u001b[0;34m\u001b[0m\u001b[0m\n\u001b[0;32m---> 21\u001b[0;31m     \u001b[0mtopics_deg_neg\u001b[0m \u001b[0;34m=\u001b[0m \u001b[0moverlap_perform\u001b[0m\u001b[0;34m(\u001b[0m\u001b[0myear\u001b[0m\u001b[0;34m,\u001b[0m \u001b[0mtipping_deg_neg\u001b[0m\u001b[0;34m,\u001b[0m \u001b[0mk\u001b[0m\u001b[0;34m)\u001b[0m\u001b[0;34m\u001b[0m\u001b[0;34m\u001b[0m\u001b[0m\n\u001b[0m\u001b[1;32m     22\u001b[0m     \u001b[0mto_print\u001b[0m\u001b[0;34m(\u001b[0m\u001b[0mtopics_deg_neg\u001b[0m\u001b[0;34m,\u001b[0m \u001b[0;34m\"tipping\"\u001b[0m\u001b[0;34m,\u001b[0m \u001b[0mk\u001b[0m\u001b[0;34m,\u001b[0m \u001b[0;34m\"deg negative\"\u001b[0m\u001b[0;34m)\u001b[0m\u001b[0;34m\u001b[0m\u001b[0;34m\u001b[0m\u001b[0m\n",
      "\u001b[0;32m<ipython-input-5-60ae7201d3cc>\u001b[0m in \u001b[0;36moverlap_perform\u001b[0;34m(year, all_topics, k)\u001b[0m\n\u001b[1;32m      2\u001b[0m     \u001b[0moverlap\u001b[0m \u001b[0;34m=\u001b[0m \u001b[0mov\u001b[0m\u001b[0;34m.\u001b[0m\u001b[0mOverlapTopics\u001b[0m\u001b[0;34m(\u001b[0m\u001b[0mgraph_timeline_dict\u001b[0m\u001b[0;34m[\u001b[0m\u001b[0mstr\u001b[0m\u001b[0;34m(\u001b[0m\u001b[0myear\u001b[0m\u001b[0;34m)\u001b[0m\u001b[0;34m]\u001b[0m\u001b[0;34m,\u001b[0m \u001b[0mall_topics\u001b[0m\u001b[0;34m,\u001b[0m \u001b[0mk\u001b[0m\u001b[0;34m)\u001b[0m\u001b[0;34m\u001b[0m\u001b[0;34m\u001b[0m\u001b[0m\n\u001b[1;32m      3\u001b[0m     \u001b[0moverlap\u001b[0m\u001b[0;34m.\u001b[0m\u001b[0moverlap_preprocessing\u001b[0m\u001b[0;34m(\u001b[0m\u001b[0;34m)\u001b[0m\u001b[0;34m\u001b[0m\u001b[0;34m\u001b[0m\u001b[0m\n\u001b[0;32m----> 4\u001b[0;31m     \u001b[0moverlap\u001b[0m\u001b[0;34m.\u001b[0m\u001b[0mclique_percolation_method\u001b[0m\u001b[0;34m(\u001b[0m\u001b[0;34m)\u001b[0m\u001b[0;34m\u001b[0m\u001b[0;34m\u001b[0m\u001b[0m\n\u001b[0m\u001b[1;32m      5\u001b[0m     \u001b[0moverlap\u001b[0m\u001b[0;34m.\u001b[0m\u001b[0mcheck_spread_topics\u001b[0m\u001b[0;34m(\u001b[0m\u001b[0;34m)\u001b[0m\u001b[0;34m\u001b[0m\u001b[0;34m\u001b[0m\u001b[0m\n\u001b[1;32m      6\u001b[0m     \u001b[0moverlap\u001b[0m\u001b[0;34m.\u001b[0m\u001b[0mcheck_number_topics\u001b[0m\u001b[0;34m(\u001b[0m\u001b[0;34m)\u001b[0m\u001b[0;34m\u001b[0m\u001b[0;34m\u001b[0m\u001b[0m\n",
      "\u001b[0;32m~/Universita/magistrale/web_and_social_information_extraction/webandsocial-progetto/src/overlaps_topics/overlap_topics.py\u001b[0m in \u001b[0;36mclique_percolation_method\u001b[0;34m(self)\u001b[0m\n\u001b[1;32m    132\u001b[0m         \u001b[0mcommunities\u001b[0m \u001b[0;34m=\u001b[0m \u001b[0mk_clique_communities\u001b[0m\u001b[0;34m(\u001b[0m\u001b[0mG\u001b[0m \u001b[0;34m=\u001b[0m \u001b[0mself\u001b[0m\u001b[0;34m.\u001b[0m\u001b[0m__year_sub_graph\u001b[0m\u001b[0;34m,\u001b[0m \u001b[0mk\u001b[0m \u001b[0;34m=\u001b[0m \u001b[0;36m2\u001b[0m\u001b[0;34m)\u001b[0m\u001b[0;34m\u001b[0m\u001b[0;34m\u001b[0m\u001b[0m\n\u001b[1;32m    133\u001b[0m         \u001b[0;32mfor\u001b[0m \u001b[0mtopic\u001b[0m \u001b[0;32min\u001b[0m \u001b[0mcommunities\u001b[0m\u001b[0;34m:\u001b[0m\u001b[0;34m\u001b[0m\u001b[0;34m\u001b[0m\u001b[0m\n\u001b[0;32m--> 134\u001b[0;31m             \u001b[0mself\u001b[0m\u001b[0;34m.\u001b[0m\u001b[0mcheck_keywords\u001b[0m\u001b[0;34m(\u001b[0m\u001b[0mtopic\u001b[0m\u001b[0;34m)\u001b[0m\u001b[0;34m\u001b[0m\u001b[0;34m\u001b[0m\u001b[0m\n\u001b[0m\u001b[1;32m    135\u001b[0m             \u001b[0mself\u001b[0m\u001b[0;34m.\u001b[0m\u001b[0m__topics\u001b[0m\u001b[0;34m.\u001b[0m\u001b[0mappend\u001b[0m\u001b[0;34m(\u001b[0m\u001b[0mlist\u001b[0m\u001b[0;34m(\u001b[0m\u001b[0mtopic\u001b[0m\u001b[0;34m)\u001b[0m\u001b[0;34m)\u001b[0m\u001b[0;34m\u001b[0m\u001b[0;34m\u001b[0m\u001b[0m\n\u001b[1;32m    136\u001b[0m \u001b[0;34m\u001b[0m\u001b[0m\n",
      "\u001b[0;32m~/Universita/magistrale/web_and_social_information_extraction/webandsocial-progetto/src/overlaps_topics/overlap_topics.py\u001b[0m in \u001b[0;36mcheck_keywords\u001b[0;34m(self, topic)\u001b[0m\n\u001b[1;32m    119\u001b[0m \u001b[0;34m\u001b[0m\u001b[0m\n\u001b[1;32m    120\u001b[0m         \u001b[0;32mif\u001b[0m \u001b[0;32mnot\u001b[0m \u001b[0mregular\u001b[0m\u001b[0;34m:\u001b[0m\u001b[0;34m\u001b[0m\u001b[0;34m\u001b[0m\u001b[0m\n\u001b[0;32m--> 121\u001b[0;31m             \u001b[0;32mraise\u001b[0m \u001b[0mexcpt\u001b[0m\u001b[0;34m.\u001b[0m\u001b[0mTopicMalFormedException\u001b[0m\u001b[0;34m(\u001b[0m\u001b[0;34m\"Topic bad formed.\"\u001b[0m\u001b[0;34m)\u001b[0m\u001b[0;34m\u001b[0m\u001b[0;34m\u001b[0m\u001b[0m\n\u001b[0m\u001b[1;32m    122\u001b[0m \u001b[0;34m\u001b[0m\u001b[0m\n\u001b[1;32m    123\u001b[0m \u001b[0;34m\u001b[0m\u001b[0m\n",
      "\u001b[0;31mTopicMalFormedException\u001b[0m: Topic bad formed."
     ]
    }
   ],
   "source": [
    "overlap_merge_view_deg_neg(2014, k = 100)"
   ]
  },
  {
   "cell_type": "markdown",
   "metadata": {},
   "source": [
    "### Year 2015"
   ]
  },
  {
   "cell_type": "code",
   "execution_count": 227,
   "metadata": {},
   "outputs": [
    {
     "name": "stdout",
     "output_type": "stream",
     "text": [
      "OVERLAP MERGING RESULT WITH CLIQUE PERCOLATION METHOD, TIPPING MODEL, SEED TOP 100 NODES AND DEG THRESHOLD CALCULATION STRATEGY.\n",
      "\n",
      "['categorization', 'interval time-varying delay', 'artificial bee colony algorithm', 'hypersonic flight vehicle\\xa0', 'firefly algorithm', 'memristor-based neural networks', 'map', 'wavelet analysis', 'continuous optimization', 'convex function', 'artificial bee colony', 'input-output linearization\\xa0', 'elm', 'tom erez', 'extract features', 'autoencoder', 'pattern recognition', 'numerical analysis', 'spectral efficiency', 'resonance', 'extreme learning machine\\xa0', 'autonomous robot', 'neural network simulation', 'language model', 'convolutional neural network', 'crucially importance', 'anatomy regional', 'novel automatic classification', 'principal component analysis', 'compaq lte', 'acoustic cryptanalysis', 'stabilization', 'embedded systems', 'linearizing at the trim state\\xa0', 'multi-agent system', 'loss function', 'unit commitment', 'radial (radio)', 'observers', 'http public key pinning', 'performance', 'distinguish abnormal brains', 'tbr ??\\xa0', 'novelty detection', 'alex krizhevsky', 'fractional-order', 'magnetic resonance imaging', 'linear matrix inequality (lmi)', 'remaining connections', 'synchronization (computer science)', 'imagenet dataset', 'emd empirical mode decomposition', 'bt bayesian theory', 'lyapunov fractal', 'control theory', 'imagenet', 'algorithm', 'maxima and minima', 'artificial neural network', 'support vector machine', 'satinder p. singh', '????\\xa0', 'parsing', 'social network\\xa0', '82301', 'tcp global synchronization', 'output feedback', 'statistical classification', 'formal system', 'computer vision', 'correctness (computer science)', 'recurrent neural network', 'decision tree learning', 'weibull distribution function', 'feature representation\\xa0', 'geoffrey e. hinton', 'online and offline', 'feature learning', 'optimization', 'ga genetic algorithm', 'computer simulation', 'mr brain images', 'linear matrix inequality', '???????\\xa0', 'feedforward neural network', 'non-minimum phase\\xa0', 'approximation algorithm', 'approximation', 'mathematical optimization', 'robot', 'social inequality', 'interference (communication)', '70201', 'machine learning', 'link prediction\\xa0', 'convex optimization', 'large-scale computing\\xa0', 'speech recognition', 'unsupervised learning', 'controllers', 'computer assisted diagnosis', 'ilya sutskever', 'theory', 'system dynamics', 'pca principal component analysis', 'unscented kalman filter', 'doina precup', 'fuzzy control system', 'structural break modeling', 'real-time transcription', 'cluster analysis', 'constrained optimization', 'normal brains', 'interference management\\xa0', 'time complexity', 'nonlinear systems', 'emanuel todorov', 'supervised learning', 'synchronization', 'memristor', 'adaptive algorithm', '20301', 'block cipher mode of operation', 'simulation', 'well-posed problem', 'feedback', 'aided diagnosis', 'reinforcement learning', 'arima auto regressive integrated moving average', 'noise reduction', 'iteration', 'document classification', 'interaction', 'learning disorders', 'nonlinear system', 'database', 'riemann–liouville', 'cellular multicast\\xa0', 'long short-term memory', 'channel capacity', 'ar auto regressive', 'neural networks', 'bayesian optimization', 'filter bank', 'power semiconductor device', 'fuzzy logic', 'stability', 'christian szegedy', 'bellman equation', 'cross reactions', 'hamilton–jacobi–bellman equation', 'network topology', 'experiment', 'throughput', 'honglak lee', 'optimization problem', 'genetic algorithm', 'swarm intelligence', 'back-stepping\\xa0', 'activation function', 'mri scanning', 'accurate classification', 'dynamic programming', 'learning model\\xa0', 'adaptive systems', '?????\\xa0', '??????\\xa0', 'dynamic network\\xa0', 'trust region', 'increment', 'converge', 'optimal control', 'fine tune', 'memory intensive making', 'particle swarm optimization', 'global optimization', 'deep learning', '???\\xa0', 'prediction', 'sergey levine', 'low-power broadcasting', 'similarity metric\\xa0', 'sparse matrix', 'd2d communication\\xa0', 'stochastic gradient descent', 'benchmark (computing)', '11101', 'auto regressive integrated moving average', 'yuval tassa', 'control system', 'power control\\xa0', 'encoder', 'coexist (image)', 'medical analysis', 'markov chain', 'artificial intelligence', 'signal processing', 'computationally intensive', 'empirical mode decomposition']\n",
      "len_topic: 199\n",
      "\n",
      "['precentral gyrus', 'parahippocampal gyrus', 'lateral occipitotemporal gyrus', 'epilepsy temporal lobe', 'lobule', 'insula of reil', 'frontal lobe', 'inferior frontal gyrus', \"alzheimer's disease\"]\n",
      "len_topic: 9\n",
      "\n",
      "['international network', 'specialized companies', 'topic discussions', 'digital services', 'social ties', 'enterprise social network', 'regione lazio', 'paper describes', 'central italy']\n",
      "len_topic: 9\n",
      "\n",
      "['handwritten documents', 'use blstm', 'art performance', 'bidirectional long short', 'speech utterances']\n",
      "len_topic: 5\n",
      "\n",
      "['big data', 'mapreduce', 'hadoop', 'requirement', 'scalability']\n",
      "len_topic: 5\n",
      "\n",
      "['procedural generation', 'high- and low-level', 'computational intelligence', 'artificial intelligence (video games)']\n",
      "len_topic: 4\n",
      "\n"
     ]
    }
   ],
   "source": [
    "overlap_merge_view_deg(2015, k = 100)"
   ]
  },
  {
   "cell_type": "code",
   "execution_count": 228,
   "metadata": {},
   "outputs": [
    {
     "name": "stdout",
     "output_type": "stream",
     "text": [
      "OVERLAP MERGING RESULT WITH CLIQUE PERCOLATION METHOD, TIPPING MODEL, SEED TOP 100 NODES AND HALF THRESHOLD CALCULATION STRATEGY.\n",
      "\n",
      "['categorization', 'interval time-varying delay', 'artificial bee colony algorithm', 'hypersonic flight vehicle\\xa0', 'firefly algorithm', 'memristor-based neural networks', 'map', 'wavelet analysis', 'continuous optimization', 'convex function', 'artificial bee colony', 'input-output linearization\\xa0', 'elm', 'tom erez', 'extract features', 'autoencoder', 'pattern recognition', 'numerical analysis', 'spectral efficiency', 'resonance', 'extreme learning machine\\xa0', 'autonomous robot', 'neural network simulation', 'language model', 'convolutional neural network', 'crucially importance', 'anatomy regional', 'novel automatic classification', 'compaq lte', 'acoustic cryptanalysis', 'stabilization', 'linearizing at the trim state\\xa0', 'multi-agent system', 'loss function', 'unit commitment', 'radial (radio)', 'observers', 'http public key pinning', 'performance', 'distinguish abnormal brains', 'novelty detection', 'linear matrix inequality (lmi)', 'magnetic resonance imaging', 'fractional-order', 'synchronization (computer science)', 'lyapunov fractal', 'control theory', 'algorithm', 'maxima and minima', 'imagenet', 'artificial neural network', 'support vector machine', 'satinder p. singh', '????\\xa0', 'parsing', 'social network\\xa0', 'tcp global synchronization', 'output feedback', 'statistical classification', 'formal system', 'computer vision', 'correctness (computer science)', 'recurrent neural network', 'decision tree learning', 'feature representation\\xa0', 'online and offline', 'feature learning', 'optimization', 'computer simulation', 'mr brain images', 'linear matrix inequality', '???????\\xa0', 'feedforward neural network', 'non-minimum phase\\xa0', 'approximation algorithm', 'approximation', 'mathematical optimization', 'robot', 'social inequality', 'interference (communication)', '70201', 'machine learning', 'link prediction\\xa0', 'convex optimization', 'large-scale computing\\xa0', 'speech recognition', 'unsupervised learning', 'controllers', 'computer assisted diagnosis', 'theory', 'system dynamics', 'doina precup', 'fuzzy control system', 'real-time transcription', 'cluster analysis', 'constrained optimization', 'normal brains', 'time complexity', 'nonlinear systems', 'emanuel todorov', 'supervised learning', 'synchronization', 'memristor', 'adaptive algorithm', '20301', 'block cipher mode of operation', 'simulation', 'well-posed problem', 'feedback', 'aided diagnosis', 'reinforcement learning', 'noise reduction', 'iteration', 'document classification', 'interaction', 'learning disorders', 'nonlinear system', 'database', 'riemann–liouville', 'long short-term memory', 'channel capacity', 'neural networks', 'bayesian optimization', 'filter bank', 'power semiconductor device', 'fuzzy logic', 'stability', 'cross reactions', 'bellman equation', 'hamilton–jacobi–bellman equation', 'network topology', 'experiment', 'throughput', 'honglak lee', 'optimization problem', 'genetic algorithm', 'swarm intelligence', 'back-stepping\\xa0', 'activation function', 'adaptive systems', 'mri scanning', 'accurate classification', 'dynamic programming', 'learning model\\xa0', '?????\\xa0', 'dynamic network\\xa0', 'trust region', 'increment', 'converge', 'optimal control', 'particle swarm optimization', 'global optimization', 'deep learning', '???\\xa0', 'prediction', 'sergey levine', 'low-power broadcasting', 'similarity metric\\xa0', 'sparse matrix', 'stochastic gradient descent', 'benchmark (computing)', '11101', 'yuval tassa', 'control system', 'encoder', 'coexist (image)', 'medical analysis', 'markov chain', 'artificial intelligence', 'signal processing']\n",
      "len_topic: 170\n",
      "\n",
      "['precentral gyrus', 'parahippocampal gyrus', 'lateral occipitotemporal gyrus', 'epilepsy temporal lobe', 'lobule', 'insula of reil', 'frontal lobe', 'inferior frontal gyrus', \"alzheimer's disease\"]\n",
      "len_topic: 9\n",
      "\n",
      "['international network', 'specialized companies', 'topic discussions', 'digital services', 'social ties', 'enterprise social network', 'regione lazio', 'paper describes', 'central italy']\n",
      "len_topic: 9\n",
      "\n",
      "['handwritten documents', 'use blstm', 'art performance', 'bidirectional long short', 'speech utterances']\n",
      "len_topic: 5\n",
      "\n",
      "['big data', 'mapreduce', 'hadoop', 'requirement', 'scalability']\n",
      "len_topic: 5\n",
      "\n",
      "['procedural generation', 'high- and low-level', 'computational intelligence', 'artificial intelligence (video games)']\n",
      "len_topic: 4\n",
      "\n"
     ]
    }
   ],
   "source": [
    "overlap_merge_view_half(2015, k = 100)"
   ]
  },
  {
   "cell_type": "code",
   "execution_count": 229,
   "metadata": {},
   "outputs": [
    {
     "ename": "TopicMalFormedException",
     "evalue": "Topic bad formed.",
     "output_type": "error",
     "traceback": [
      "\u001b[0;31m---------------------------------------------------------------------------\u001b[0m",
      "\u001b[0;31mTopicMalFormedException\u001b[0m                   Traceback (most recent call last)",
      "\u001b[0;32m<ipython-input-229-203259e88252>\u001b[0m in \u001b[0;36m<module>\u001b[0;34m\u001b[0m\n\u001b[0;32m----> 1\u001b[0;31m \u001b[0moverlap_merge_view_deg_neg\u001b[0m\u001b[0;34m(\u001b[0m\u001b[0;36m2015\u001b[0m\u001b[0;34m,\u001b[0m \u001b[0mk\u001b[0m \u001b[0;34m=\u001b[0m \u001b[0;36m100\u001b[0m\u001b[0;34m)\u001b[0m\u001b[0;34m\u001b[0m\u001b[0;34m\u001b[0m\u001b[0m\n\u001b[0m",
      "\u001b[0;32m<ipython-input-6-aa88f64ba5fa>\u001b[0m in \u001b[0;36moverlap_merge_view_deg_neg\u001b[0;34m(year, k)\u001b[0m\n\u001b[1;32m     19\u001b[0m     \u001b[0mspread_dict\u001b[0m\u001b[0;34m[\u001b[0m\u001b[0mstr\u001b[0m\u001b[0;34m(\u001b[0m\u001b[0myear\u001b[0m\u001b[0;34m)\u001b[0m\u001b[0;34m]\u001b[0m\u001b[0;34m.\u001b[0m\u001b[0mtipping_model\u001b[0m\u001b[0;34m(\u001b[0m\u001b[0;34m)\u001b[0m\u001b[0;34m\u001b[0m\u001b[0;34m\u001b[0m\u001b[0m\n\u001b[1;32m     20\u001b[0m     \u001b[0mtipping_deg_neg\u001b[0m \u001b[0;34m=\u001b[0m \u001b[0mspread_dict\u001b[0m\u001b[0;34m[\u001b[0m\u001b[0mstr\u001b[0m\u001b[0;34m(\u001b[0m\u001b[0myear\u001b[0m\u001b[0;34m)\u001b[0m\u001b[0;34m]\u001b[0m\u001b[0;34m.\u001b[0m\u001b[0mget_influenced_nodes\u001b[0m\u001b[0;34m(\u001b[0m\u001b[0;34m)\u001b[0m\u001b[0;34m\u001b[0m\u001b[0;34m\u001b[0m\u001b[0m\n\u001b[0;32m---> 21\u001b[0;31m     \u001b[0mtopics_deg_neg\u001b[0m \u001b[0;34m=\u001b[0m \u001b[0moverlap_perform\u001b[0m\u001b[0;34m(\u001b[0m\u001b[0myear\u001b[0m\u001b[0;34m,\u001b[0m \u001b[0mtipping_deg_neg\u001b[0m\u001b[0;34m,\u001b[0m \u001b[0mk\u001b[0m\u001b[0;34m)\u001b[0m\u001b[0;34m\u001b[0m\u001b[0;34m\u001b[0m\u001b[0m\n\u001b[0m\u001b[1;32m     22\u001b[0m     \u001b[0mto_print\u001b[0m\u001b[0;34m(\u001b[0m\u001b[0mtopics_deg_neg\u001b[0m\u001b[0;34m,\u001b[0m \u001b[0;34m\"tipping\"\u001b[0m\u001b[0;34m,\u001b[0m \u001b[0mk\u001b[0m\u001b[0;34m,\u001b[0m \u001b[0;34m\"deg negative\"\u001b[0m\u001b[0;34m)\u001b[0m\u001b[0;34m\u001b[0m\u001b[0;34m\u001b[0m\u001b[0m\n",
      "\u001b[0;32m<ipython-input-5-60ae7201d3cc>\u001b[0m in \u001b[0;36moverlap_perform\u001b[0;34m(year, all_topics, k)\u001b[0m\n\u001b[1;32m      2\u001b[0m     \u001b[0moverlap\u001b[0m \u001b[0;34m=\u001b[0m \u001b[0mov\u001b[0m\u001b[0;34m.\u001b[0m\u001b[0mOverlapTopics\u001b[0m\u001b[0;34m(\u001b[0m\u001b[0mgraph_timeline_dict\u001b[0m\u001b[0;34m[\u001b[0m\u001b[0mstr\u001b[0m\u001b[0;34m(\u001b[0m\u001b[0myear\u001b[0m\u001b[0;34m)\u001b[0m\u001b[0;34m]\u001b[0m\u001b[0;34m,\u001b[0m \u001b[0mall_topics\u001b[0m\u001b[0;34m,\u001b[0m \u001b[0mk\u001b[0m\u001b[0;34m)\u001b[0m\u001b[0;34m\u001b[0m\u001b[0;34m\u001b[0m\u001b[0m\n\u001b[1;32m      3\u001b[0m     \u001b[0moverlap\u001b[0m\u001b[0;34m.\u001b[0m\u001b[0moverlap_preprocessing\u001b[0m\u001b[0;34m(\u001b[0m\u001b[0;34m)\u001b[0m\u001b[0;34m\u001b[0m\u001b[0;34m\u001b[0m\u001b[0m\n\u001b[0;32m----> 4\u001b[0;31m     \u001b[0moverlap\u001b[0m\u001b[0;34m.\u001b[0m\u001b[0mclique_percolation_method\u001b[0m\u001b[0;34m(\u001b[0m\u001b[0;34m)\u001b[0m\u001b[0;34m\u001b[0m\u001b[0;34m\u001b[0m\u001b[0m\n\u001b[0m\u001b[1;32m      5\u001b[0m     \u001b[0moverlap\u001b[0m\u001b[0;34m.\u001b[0m\u001b[0mcheck_spread_topics\u001b[0m\u001b[0;34m(\u001b[0m\u001b[0;34m)\u001b[0m\u001b[0;34m\u001b[0m\u001b[0;34m\u001b[0m\u001b[0m\n\u001b[1;32m      6\u001b[0m     \u001b[0moverlap\u001b[0m\u001b[0;34m.\u001b[0m\u001b[0mcheck_number_topics\u001b[0m\u001b[0;34m(\u001b[0m\u001b[0;34m)\u001b[0m\u001b[0;34m\u001b[0m\u001b[0;34m\u001b[0m\u001b[0m\n",
      "\u001b[0;32m~/Universita/magistrale/web_and_social_information_extraction/webandsocial-progetto/src/overlaps_topics/overlap_topics.py\u001b[0m in \u001b[0;36mclique_percolation_method\u001b[0;34m(self)\u001b[0m\n\u001b[1;32m    132\u001b[0m         \u001b[0mcommunities\u001b[0m \u001b[0;34m=\u001b[0m \u001b[0mk_clique_communities\u001b[0m\u001b[0;34m(\u001b[0m\u001b[0mG\u001b[0m \u001b[0;34m=\u001b[0m \u001b[0mself\u001b[0m\u001b[0;34m.\u001b[0m\u001b[0m__year_sub_graph\u001b[0m\u001b[0;34m,\u001b[0m \u001b[0mk\u001b[0m \u001b[0;34m=\u001b[0m \u001b[0;36m2\u001b[0m\u001b[0;34m)\u001b[0m\u001b[0;34m\u001b[0m\u001b[0;34m\u001b[0m\u001b[0m\n\u001b[1;32m    133\u001b[0m         \u001b[0;32mfor\u001b[0m \u001b[0mtopic\u001b[0m \u001b[0;32min\u001b[0m \u001b[0mcommunities\u001b[0m\u001b[0;34m:\u001b[0m\u001b[0;34m\u001b[0m\u001b[0;34m\u001b[0m\u001b[0m\n\u001b[0;32m--> 134\u001b[0;31m             \u001b[0mself\u001b[0m\u001b[0;34m.\u001b[0m\u001b[0mcheck_keywords\u001b[0m\u001b[0;34m(\u001b[0m\u001b[0mtopic\u001b[0m\u001b[0;34m)\u001b[0m\u001b[0;34m\u001b[0m\u001b[0;34m\u001b[0m\u001b[0m\n\u001b[0m\u001b[1;32m    135\u001b[0m             \u001b[0mself\u001b[0m\u001b[0;34m.\u001b[0m\u001b[0m__topics\u001b[0m\u001b[0;34m.\u001b[0m\u001b[0mappend\u001b[0m\u001b[0;34m(\u001b[0m\u001b[0mlist\u001b[0m\u001b[0;34m(\u001b[0m\u001b[0mtopic\u001b[0m\u001b[0;34m)\u001b[0m\u001b[0;34m)\u001b[0m\u001b[0;34m\u001b[0m\u001b[0;34m\u001b[0m\u001b[0m\n\u001b[1;32m    136\u001b[0m \u001b[0;34m\u001b[0m\u001b[0m\n",
      "\u001b[0;32m~/Universita/magistrale/web_and_social_information_extraction/webandsocial-progetto/src/overlaps_topics/overlap_topics.py\u001b[0m in \u001b[0;36mcheck_keywords\u001b[0;34m(self, topic)\u001b[0m\n\u001b[1;32m    119\u001b[0m \u001b[0;34m\u001b[0m\u001b[0m\n\u001b[1;32m    120\u001b[0m         \u001b[0;32mif\u001b[0m \u001b[0;32mnot\u001b[0m \u001b[0mregular\u001b[0m\u001b[0;34m:\u001b[0m\u001b[0;34m\u001b[0m\u001b[0;34m\u001b[0m\u001b[0m\n\u001b[0;32m--> 121\u001b[0;31m             \u001b[0;32mraise\u001b[0m \u001b[0mexcpt\u001b[0m\u001b[0;34m.\u001b[0m\u001b[0mTopicMalFormedException\u001b[0m\u001b[0;34m(\u001b[0m\u001b[0;34m\"Topic bad formed.\"\u001b[0m\u001b[0;34m)\u001b[0m\u001b[0;34m\u001b[0m\u001b[0;34m\u001b[0m\u001b[0m\n\u001b[0m\u001b[1;32m    122\u001b[0m \u001b[0;34m\u001b[0m\u001b[0m\n\u001b[1;32m    123\u001b[0m \u001b[0;34m\u001b[0m\u001b[0m\n",
      "\u001b[0;31mTopicMalFormedException\u001b[0m: Topic bad formed."
     ]
    }
   ],
   "source": [
    "overlap_merge_view_deg_neg(2015, k = 100)"
   ]
  },
  {
   "cell_type": "markdown",
   "metadata": {},
   "source": [
    "### Year 2016"
   ]
  },
  {
   "cell_type": "code",
   "execution_count": 230,
   "metadata": {},
   "outputs": [
    {
     "name": "stdout",
     "output_type": "stream",
     "text": [
      "OVERLAP MERGING RESULT WITH CLIQUE PERCOLATION METHOD, TIPPING MODEL, SEED TOP 100 NODES AND DEG THRESHOLD CALCULATION STRATEGY.\n",
      "\n",
      "['super robot monkey team hyperforce go!', 'search space effectively', 'apache spark', 'usb on-the-go', 'granting bails', 'coupling constant', 'markov decision process', 'computer data storage', 'medical imaging', 'distribution (mathematics)', 'decision list', 'convex function', 'daily basis', 'biogeography-based optimization\\xa0', 'rémi munos', 'effective interpretable', 'upper confidence bound', 'autoencoder', 'computational complexity theory', 'nonlinearity', 'numerical analysis', 'maximizes outcomes', 'neural network simulation', 'language model', 'convolutional neural network', 'koray kavukcuoglu', 'neuron', 'variational principle', 'novel objective', 'fuzzy set', 'multi-agent system', 'ibm systems network architecture', 'ben parr', 'cognitive radio', 'numerical linear algebra', 'weight', 'time delay', 'http public key pinning', 'adaptive coding', 'magnetic resonance imaging', 'training', 'leverages customized checks', 'lyapunov fractal', 'computer-aided design', 'control theory', 'algorithm', 'imagenet', 'artificial neural network', 'support vector machine', 'optimization\\xa0', 'mathematical model', 'marc g. bellemare', 'adversary (cryptography)', 'formal system', 'code', 'particle swarm optimization\\xa0', 'genetic programming', 'recurrent neural network', 'embedded system', 'exploit (computer security)', 'apriori algorithm', 'swarm intelligence\\xa0', 'frequency band', 'optimization', 'computer simulation', 'linear matrix inequality', 'atari', 'finite-time synchronization', 'experimental results', 'vocabulary', 'time delays', 'feedforward neural network', 'bayesian network', 'coordinate descent', 'approximation algorithm', 'approximation', 'mathematical optimization', 'test set', 'asthma patients demonstrate', 'robot', 'mapreduce', 'social inequality', 'network architecture', 'minimizes overall costs', 'interference (communication)', 'natural language processing', 'machine learning', 'agent-based model', 'black bag operation', 'recommender system', 'recommending treatments', 'settling time', 'iterative method', 'generalization (psychology)', 'costs involved', 'hypernymy relations', 'fuzzy control system', 'preprocessor', 'sensor', 'data model', 'constrained optimization', 'hysteresis', 'nonlinear systems', 'one-class classification', 'memristor', 'real-time clock', 'interval arithmetic', 'brute-force search', 'simulation', 'high- and low-level', 'feedback', 'reinforcement learning', 'decision makers', 'open research', 'maps characteristics', 'diagnostic test results', 'iteration', 'learning disorders', 'coefficient', 'personalization', 'nonlinear system', 'long short-term memory', 'neural networks', 'approximation error', 'computation', 'mnist database', 'data mining', 'fuzzy logic', 'data pre-processing', 'computer science', 'bellman equation', 'quality of service', 'statistical model', 'hamilton–jacobi–bellman equation', 'lymph nodes', 'throughput', 'experiment', 'end-to-end principle', 'mark rowland', 'network topology', 'genetic algorithm', 'quantization (signal processing)', 'biological neural networks', 'optimization problem', 'sample complexity', 'dynamic programming', 'adaptive systems', 'genetic algorithm\\xa0', 'converge', 'optimal control', 'will dabney', 'demis hassabis', 'particle swarm optimization', 'global optimization', 'deep learning', 'dropout (neural networks)', 'requirement', 'hado van hasselt', 'subnetwork', 'knowledge graph', 'volodymyr mnih', 'sparse matrix', 'time-varying delay', 'stochastic gradient descent', 'benchmark (computing)', 'centralized computing', 'big data', 'state estimation', 'control system', 'open-source software', 'encoder', 'artificial intelligence', 'feature extraction', 'identifier', 'fuzzy rule', 'channel state information', 'search algorithm', 'telecommunications link', 'potential benefits', 'benchmark\\xa0', 'q-learning']\n",
      "len_topic: 181\n",
      "\n",
      "['paper investigates', 'new type']\n",
      "len_topic: 2\n",
      "\n",
      "['criteria decision', 'criterion weights', 'criterion values', 'linguistic scale functions']\n",
      "len_topic: 4\n",
      "\n",
      "['distributional models', 'semantic web ecosystem', 'dense vector representations', 'human readable', 'contextual information', 'easily embedded']\n",
      "len_topic: 6\n",
      "\n",
      "['structured data', 'resource description framework', 'citation networks', 'language text', 'knowledge base', 'entity disambiguation', 'textual documents', 'mapping ambiguous terms']\n",
      "len_topic: 8\n",
      "\n",
      "['linear multi', 'agent systems']\n",
      "len_topic: 2\n",
      "\n",
      "['online classes', 'massive online classes']\n",
      "len_topic: 2\n",
      "\n",
      "['opinion mining', 'sentiment analysis']\n",
      "len_topic: 2\n",
      "\n",
      "['storage media', 'programs encoded', 'input comprising', 'methods includes receiving', 'apparatus including', 'deep network', 'methods systems']\n",
      "len_topic: 7\n",
      "\n",
      "['object detection', 'computer vision']\n",
      "len_topic: 2\n",
      "\n",
      "['hash coding', 'retrieval efficiency hashing', 'widely applied', 'separate quantization step', 'data pairs', 'sense clustering', 'image retrieval', 'semantic similarity', 'scale multimedia retrieval']\n",
      "len_topic: 9\n",
      "\n"
     ]
    }
   ],
   "source": [
    "overlap_merge_view_deg(2016, k = 100)"
   ]
  },
  {
   "cell_type": "code",
   "execution_count": 231,
   "metadata": {},
   "outputs": [
    {
     "ename": "TopicNotAllKeywordsUsedException",
     "evalue": "To perfom all topics not all keywords have been used.",
     "output_type": "error",
     "traceback": [
      "\u001b[0;31m---------------------------------------------------------------------------\u001b[0m",
      "\u001b[0;31mTopicNotAllKeywordsUsedException\u001b[0m          Traceback (most recent call last)",
      "\u001b[0;32m<ipython-input-231-e7fad76d5348>\u001b[0m in \u001b[0;36m<module>\u001b[0;34m\u001b[0m\n\u001b[0;32m----> 1\u001b[0;31m \u001b[0moverlap_merge_view_half\u001b[0m\u001b[0;34m(\u001b[0m\u001b[0;36m2016\u001b[0m\u001b[0;34m,\u001b[0m \u001b[0mk\u001b[0m \u001b[0;34m=\u001b[0m \u001b[0;36m100\u001b[0m\u001b[0;34m)\u001b[0m\u001b[0;34m\u001b[0m\u001b[0;34m\u001b[0m\u001b[0m\n\u001b[0m",
      "\u001b[0;32m<ipython-input-6-aa88f64ba5fa>\u001b[0m in \u001b[0;36moverlap_merge_view_half\u001b[0;34m(year, k)\u001b[0m\n\u001b[1;32m     11\u001b[0m     \u001b[0mspread_dict\u001b[0m\u001b[0;34m[\u001b[0m\u001b[0mstr\u001b[0m\u001b[0;34m(\u001b[0m\u001b[0myear\u001b[0m\u001b[0;34m)\u001b[0m\u001b[0;34m]\u001b[0m\u001b[0;34m.\u001b[0m\u001b[0mtipping_model\u001b[0m\u001b[0;34m(\u001b[0m\u001b[0;34m)\u001b[0m\u001b[0;34m\u001b[0m\u001b[0;34m\u001b[0m\u001b[0m\n\u001b[1;32m     12\u001b[0m     \u001b[0mtipping_half\u001b[0m \u001b[0;34m=\u001b[0m \u001b[0mspread_dict\u001b[0m\u001b[0;34m[\u001b[0m\u001b[0mstr\u001b[0m\u001b[0;34m(\u001b[0m\u001b[0myear\u001b[0m\u001b[0;34m)\u001b[0m\u001b[0;34m]\u001b[0m\u001b[0;34m.\u001b[0m\u001b[0mget_influenced_nodes\u001b[0m\u001b[0;34m(\u001b[0m\u001b[0;34m)\u001b[0m\u001b[0;34m\u001b[0m\u001b[0;34m\u001b[0m\u001b[0m\n\u001b[0;32m---> 13\u001b[0;31m     \u001b[0mtopics_half\u001b[0m \u001b[0;34m=\u001b[0m \u001b[0moverlap_perform\u001b[0m\u001b[0;34m(\u001b[0m\u001b[0myear\u001b[0m\u001b[0;34m,\u001b[0m \u001b[0mtipping_half\u001b[0m\u001b[0;34m,\u001b[0m \u001b[0mk\u001b[0m\u001b[0;34m)\u001b[0m\u001b[0;34m\u001b[0m\u001b[0;34m\u001b[0m\u001b[0m\n\u001b[0m\u001b[1;32m     14\u001b[0m     \u001b[0mto_print\u001b[0m\u001b[0;34m(\u001b[0m\u001b[0mtopics_half\u001b[0m\u001b[0;34m,\u001b[0m \u001b[0;34m\"tipping\"\u001b[0m\u001b[0;34m,\u001b[0m \u001b[0mk\u001b[0m\u001b[0;34m,\u001b[0m \u001b[0;34m\"half\"\u001b[0m\u001b[0;34m)\u001b[0m\u001b[0;34m\u001b[0m\u001b[0;34m\u001b[0m\u001b[0m\n\u001b[1;32m     15\u001b[0m \u001b[0;34m\u001b[0m\u001b[0m\n",
      "\u001b[0;32m<ipython-input-5-60ae7201d3cc>\u001b[0m in \u001b[0;36moverlap_perform\u001b[0;34m(year, all_topics, k)\u001b[0m\n\u001b[1;32m      3\u001b[0m     \u001b[0moverlap\u001b[0m\u001b[0;34m.\u001b[0m\u001b[0moverlap_preprocessing\u001b[0m\u001b[0;34m(\u001b[0m\u001b[0;34m)\u001b[0m\u001b[0;34m\u001b[0m\u001b[0;34m\u001b[0m\u001b[0m\n\u001b[1;32m      4\u001b[0m     \u001b[0moverlap\u001b[0m\u001b[0;34m.\u001b[0m\u001b[0mclique_percolation_method\u001b[0m\u001b[0;34m(\u001b[0m\u001b[0;34m)\u001b[0m\u001b[0;34m\u001b[0m\u001b[0;34m\u001b[0m\u001b[0m\n\u001b[0;32m----> 5\u001b[0;31m     \u001b[0moverlap\u001b[0m\u001b[0;34m.\u001b[0m\u001b[0mcheck_spread_topics\u001b[0m\u001b[0;34m(\u001b[0m\u001b[0;34m)\u001b[0m\u001b[0;34m\u001b[0m\u001b[0;34m\u001b[0m\u001b[0m\n\u001b[0m\u001b[1;32m      6\u001b[0m     \u001b[0moverlap\u001b[0m\u001b[0;34m.\u001b[0m\u001b[0mcheck_number_topics\u001b[0m\u001b[0;34m(\u001b[0m\u001b[0;34m)\u001b[0m\u001b[0;34m\u001b[0m\u001b[0;34m\u001b[0m\u001b[0m\n\u001b[1;32m      7\u001b[0m     \u001b[0;32mreturn\u001b[0m \u001b[0moverlap\u001b[0m\u001b[0;34m.\u001b[0m\u001b[0mget_topics\u001b[0m\u001b[0;34m(\u001b[0m\u001b[0;34m)\u001b[0m\u001b[0;34m\u001b[0m\u001b[0;34m\u001b[0m\u001b[0m\n",
      "\u001b[0;32m~/Universita/magistrale/web_and_social_information_extraction/webandsocial-progetto/src/overlaps_topics/overlap_topics.py\u001b[0m in \u001b[0;36mcheck_spread_topics\u001b[0;34m(self)\u001b[0m\n\u001b[1;32m    156\u001b[0m \u001b[0;34m\u001b[0m\u001b[0m\n\u001b[1;32m    157\u001b[0m         \u001b[0;32mif\u001b[0m \u001b[0msize_iteration\u001b[0m \u001b[0;34m!=\u001b[0m \u001b[0msize_topics\u001b[0m\u001b[0;34m:\u001b[0m\u001b[0;34m\u001b[0m\u001b[0;34m\u001b[0m\u001b[0m\n\u001b[0;32m--> 158\u001b[0;31m             \u001b[0;32mraise\u001b[0m \u001b[0mexcpt\u001b[0m\u001b[0;34m.\u001b[0m\u001b[0mTopicNotAllKeywordsUsedException\u001b[0m\u001b[0;34m(\u001b[0m\u001b[0;34m\"To perfom all topics not all keywords have been used.\"\u001b[0m\u001b[0;34m)\u001b[0m\u001b[0;34m\u001b[0m\u001b[0;34m\u001b[0m\u001b[0m\n\u001b[0m\u001b[1;32m    159\u001b[0m \u001b[0;34m\u001b[0m\u001b[0m\n\u001b[1;32m    160\u001b[0m \u001b[0;34m\u001b[0m\u001b[0m\n",
      "\u001b[0;31mTopicNotAllKeywordsUsedException\u001b[0m: To perfom all topics not all keywords have been used."
     ]
    }
   ],
   "source": [
    "overlap_merge_view_half(2016, k = 100)"
   ]
  },
  {
   "cell_type": "code",
   "execution_count": 232,
   "metadata": {},
   "outputs": [
    {
     "ename": "TopicMalFormedException",
     "evalue": "Topic bad formed.",
     "output_type": "error",
     "traceback": [
      "\u001b[0;31m---------------------------------------------------------------------------\u001b[0m",
      "\u001b[0;31mTopicMalFormedException\u001b[0m                   Traceback (most recent call last)",
      "\u001b[0;32m<ipython-input-232-c2dcabfa46eb>\u001b[0m in \u001b[0;36m<module>\u001b[0;34m\u001b[0m\n\u001b[0;32m----> 1\u001b[0;31m \u001b[0moverlap_merge_view_deg_neg\u001b[0m\u001b[0;34m(\u001b[0m\u001b[0;36m2016\u001b[0m\u001b[0;34m,\u001b[0m \u001b[0mk\u001b[0m \u001b[0;34m=\u001b[0m \u001b[0;36m100\u001b[0m\u001b[0;34m)\u001b[0m\u001b[0;34m\u001b[0m\u001b[0;34m\u001b[0m\u001b[0m\n\u001b[0m",
      "\u001b[0;32m<ipython-input-6-aa88f64ba5fa>\u001b[0m in \u001b[0;36moverlap_merge_view_deg_neg\u001b[0;34m(year, k)\u001b[0m\n\u001b[1;32m     19\u001b[0m     \u001b[0mspread_dict\u001b[0m\u001b[0;34m[\u001b[0m\u001b[0mstr\u001b[0m\u001b[0;34m(\u001b[0m\u001b[0myear\u001b[0m\u001b[0;34m)\u001b[0m\u001b[0;34m]\u001b[0m\u001b[0;34m.\u001b[0m\u001b[0mtipping_model\u001b[0m\u001b[0;34m(\u001b[0m\u001b[0;34m)\u001b[0m\u001b[0;34m\u001b[0m\u001b[0;34m\u001b[0m\u001b[0m\n\u001b[1;32m     20\u001b[0m     \u001b[0mtipping_deg_neg\u001b[0m \u001b[0;34m=\u001b[0m \u001b[0mspread_dict\u001b[0m\u001b[0;34m[\u001b[0m\u001b[0mstr\u001b[0m\u001b[0;34m(\u001b[0m\u001b[0myear\u001b[0m\u001b[0;34m)\u001b[0m\u001b[0;34m]\u001b[0m\u001b[0;34m.\u001b[0m\u001b[0mget_influenced_nodes\u001b[0m\u001b[0;34m(\u001b[0m\u001b[0;34m)\u001b[0m\u001b[0;34m\u001b[0m\u001b[0;34m\u001b[0m\u001b[0m\n\u001b[0;32m---> 21\u001b[0;31m     \u001b[0mtopics_deg_neg\u001b[0m \u001b[0;34m=\u001b[0m \u001b[0moverlap_perform\u001b[0m\u001b[0;34m(\u001b[0m\u001b[0myear\u001b[0m\u001b[0;34m,\u001b[0m \u001b[0mtipping_deg_neg\u001b[0m\u001b[0;34m,\u001b[0m \u001b[0mk\u001b[0m\u001b[0;34m)\u001b[0m\u001b[0;34m\u001b[0m\u001b[0;34m\u001b[0m\u001b[0m\n\u001b[0m\u001b[1;32m     22\u001b[0m     \u001b[0mto_print\u001b[0m\u001b[0;34m(\u001b[0m\u001b[0mtopics_deg_neg\u001b[0m\u001b[0;34m,\u001b[0m \u001b[0;34m\"tipping\"\u001b[0m\u001b[0;34m,\u001b[0m \u001b[0mk\u001b[0m\u001b[0;34m,\u001b[0m \u001b[0;34m\"deg negative\"\u001b[0m\u001b[0;34m)\u001b[0m\u001b[0;34m\u001b[0m\u001b[0;34m\u001b[0m\u001b[0m\n",
      "\u001b[0;32m<ipython-input-5-60ae7201d3cc>\u001b[0m in \u001b[0;36moverlap_perform\u001b[0;34m(year, all_topics, k)\u001b[0m\n\u001b[1;32m      2\u001b[0m     \u001b[0moverlap\u001b[0m \u001b[0;34m=\u001b[0m \u001b[0mov\u001b[0m\u001b[0;34m.\u001b[0m\u001b[0mOverlapTopics\u001b[0m\u001b[0;34m(\u001b[0m\u001b[0mgraph_timeline_dict\u001b[0m\u001b[0;34m[\u001b[0m\u001b[0mstr\u001b[0m\u001b[0;34m(\u001b[0m\u001b[0myear\u001b[0m\u001b[0;34m)\u001b[0m\u001b[0;34m]\u001b[0m\u001b[0;34m,\u001b[0m \u001b[0mall_topics\u001b[0m\u001b[0;34m,\u001b[0m \u001b[0mk\u001b[0m\u001b[0;34m)\u001b[0m\u001b[0;34m\u001b[0m\u001b[0;34m\u001b[0m\u001b[0m\n\u001b[1;32m      3\u001b[0m     \u001b[0moverlap\u001b[0m\u001b[0;34m.\u001b[0m\u001b[0moverlap_preprocessing\u001b[0m\u001b[0;34m(\u001b[0m\u001b[0;34m)\u001b[0m\u001b[0;34m\u001b[0m\u001b[0;34m\u001b[0m\u001b[0m\n\u001b[0;32m----> 4\u001b[0;31m     \u001b[0moverlap\u001b[0m\u001b[0;34m.\u001b[0m\u001b[0mclique_percolation_method\u001b[0m\u001b[0;34m(\u001b[0m\u001b[0;34m)\u001b[0m\u001b[0;34m\u001b[0m\u001b[0;34m\u001b[0m\u001b[0m\n\u001b[0m\u001b[1;32m      5\u001b[0m     \u001b[0moverlap\u001b[0m\u001b[0;34m.\u001b[0m\u001b[0mcheck_spread_topics\u001b[0m\u001b[0;34m(\u001b[0m\u001b[0;34m)\u001b[0m\u001b[0;34m\u001b[0m\u001b[0;34m\u001b[0m\u001b[0m\n\u001b[1;32m      6\u001b[0m     \u001b[0moverlap\u001b[0m\u001b[0;34m.\u001b[0m\u001b[0mcheck_number_topics\u001b[0m\u001b[0;34m(\u001b[0m\u001b[0;34m)\u001b[0m\u001b[0;34m\u001b[0m\u001b[0;34m\u001b[0m\u001b[0m\n",
      "\u001b[0;32m~/Universita/magistrale/web_and_social_information_extraction/webandsocial-progetto/src/overlaps_topics/overlap_topics.py\u001b[0m in \u001b[0;36mclique_percolation_method\u001b[0;34m(self)\u001b[0m\n\u001b[1;32m    132\u001b[0m         \u001b[0mcommunities\u001b[0m \u001b[0;34m=\u001b[0m \u001b[0mk_clique_communities\u001b[0m\u001b[0;34m(\u001b[0m\u001b[0mG\u001b[0m \u001b[0;34m=\u001b[0m \u001b[0mself\u001b[0m\u001b[0;34m.\u001b[0m\u001b[0m__year_sub_graph\u001b[0m\u001b[0;34m,\u001b[0m \u001b[0mk\u001b[0m \u001b[0;34m=\u001b[0m \u001b[0;36m2\u001b[0m\u001b[0;34m)\u001b[0m\u001b[0;34m\u001b[0m\u001b[0;34m\u001b[0m\u001b[0m\n\u001b[1;32m    133\u001b[0m         \u001b[0;32mfor\u001b[0m \u001b[0mtopic\u001b[0m \u001b[0;32min\u001b[0m \u001b[0mcommunities\u001b[0m\u001b[0;34m:\u001b[0m\u001b[0;34m\u001b[0m\u001b[0;34m\u001b[0m\u001b[0m\n\u001b[0;32m--> 134\u001b[0;31m             \u001b[0mself\u001b[0m\u001b[0;34m.\u001b[0m\u001b[0mcheck_keywords\u001b[0m\u001b[0;34m(\u001b[0m\u001b[0mtopic\u001b[0m\u001b[0;34m)\u001b[0m\u001b[0;34m\u001b[0m\u001b[0;34m\u001b[0m\u001b[0m\n\u001b[0m\u001b[1;32m    135\u001b[0m             \u001b[0mself\u001b[0m\u001b[0;34m.\u001b[0m\u001b[0m__topics\u001b[0m\u001b[0;34m.\u001b[0m\u001b[0mappend\u001b[0m\u001b[0;34m(\u001b[0m\u001b[0mlist\u001b[0m\u001b[0;34m(\u001b[0m\u001b[0mtopic\u001b[0m\u001b[0;34m)\u001b[0m\u001b[0;34m)\u001b[0m\u001b[0;34m\u001b[0m\u001b[0;34m\u001b[0m\u001b[0m\n\u001b[1;32m    136\u001b[0m \u001b[0;34m\u001b[0m\u001b[0m\n",
      "\u001b[0;32m~/Universita/magistrale/web_and_social_information_extraction/webandsocial-progetto/src/overlaps_topics/overlap_topics.py\u001b[0m in \u001b[0;36mcheck_keywords\u001b[0;34m(self, topic)\u001b[0m\n\u001b[1;32m    119\u001b[0m \u001b[0;34m\u001b[0m\u001b[0m\n\u001b[1;32m    120\u001b[0m         \u001b[0;32mif\u001b[0m \u001b[0;32mnot\u001b[0m \u001b[0mregular\u001b[0m\u001b[0;34m:\u001b[0m\u001b[0;34m\u001b[0m\u001b[0;34m\u001b[0m\u001b[0m\n\u001b[0;32m--> 121\u001b[0;31m             \u001b[0;32mraise\u001b[0m \u001b[0mexcpt\u001b[0m\u001b[0;34m.\u001b[0m\u001b[0mTopicMalFormedException\u001b[0m\u001b[0;34m(\u001b[0m\u001b[0;34m\"Topic bad formed.\"\u001b[0m\u001b[0;34m)\u001b[0m\u001b[0;34m\u001b[0m\u001b[0;34m\u001b[0m\u001b[0m\n\u001b[0m\u001b[1;32m    122\u001b[0m \u001b[0;34m\u001b[0m\u001b[0m\n\u001b[1;32m    123\u001b[0m \u001b[0;34m\u001b[0m\u001b[0m\n",
      "\u001b[0;31mTopicMalFormedException\u001b[0m: Topic bad formed."
     ]
    }
   ],
   "source": [
    "overlap_merge_view_deg_neg(2016, k = 100)"
   ]
  },
  {
   "cell_type": "markdown",
   "metadata": {},
   "source": [
    "### Year 2017"
   ]
  },
  {
   "cell_type": "code",
   "execution_count": 233,
   "metadata": {},
   "outputs": [
    {
     "name": "stdout",
     "output_type": "stream",
     "text": [
      "OVERLAP MERGING RESULT WITH CLIQUE PERCOLATION METHOD, TIPPING MODEL, SEED TOP 100 NODES AND DEG THRESHOLD CALCULATION STRATEGY.\n",
      "\n",
      "['diverse ranking model', 'art baselines', 'search result diversification', 'significantly outperform', 'alternating direction method']\n",
      "len_topic: 5\n",
      "\n",
      "['paper proposes', 'affine model', 'nonlinear plant', 'actuator faults', 'markov process', 'sugeno fuzzy', 'parametric uncertainties']\n",
      "len_topic: 7\n",
      "\n",
      "['sawtooth (cellular automaton)', 'sampling - surgical action', 'british informatics olympiad', 'adversarial examples', 'adversarial inputs', 'firefly algorithm', 'controllers', 'neural coding', 'random forest', 'numerical method', 'fuzzy control system', 'dynamical system', 'estimated', 'gradient descent', 'sensor', 'spectral leakage', 'autoencoder', 'cluster analysis', 'wireless sensor networks\\xa0', 'hopfield network', 'triangular matrix', 'global optimization\\xa0', 'time complexity', 'numerical analysis', 'data synchronization', 'neural network simulation', 'convolutional neural network', 'memristor', 'initial condition', 'anatomy regional', 'baxter (robot)', 'simulation', 'high- and low-level', 'feedback', 'reinforcement learning', 'two-factors second-order fuzzy-trend logical relationship groups', 'cognitive radio', \"jensen's inequality\", 'statistical cluster', 'inference', 'global exponential stability', 'next-generation network', 'semiconductor industry', 'nonlinear system', 'binary code', 'outline of object recognition', 'sampling (signal processing)', 'polynomial', 'association rule learning', 'long short-term memory', 'open problem', 'lyapunov fractal', 'samuel j leffler', 'computation', 'control theory', 'algorithm', 'artificial neural network', 'quality of service', 'feature selection', 'input lag', 'throughput', 'experiment', 'network packet', 'genetic algorithm', 'dual', 'optimization problem', 'swarm intelligence', 'recursion', 'computer vision', 'cloud computing', 'converge', 'scheduling (computing)', 'recurrent neural network', 'particle swarm optimization', 'deep learning', 'swarm intelligence\\xa0', 'convolution', 'premature convergence', 'sparse matrix', 'differential evolution', 'multi-objective optimization', 'benchmark (computing)', 'heuristic', 'linear matrix inequality', 'big data', 'force misclassification', 'firefly algorithm (fa)\\xa0', 'sensitivity and specificity', 'control system', 'inverted pendulum', 'routing', 'approximation', 'approximation algorithm', 'encoder', 'firefly (cache coherence protocol)', 'mathematical optimization', 'social inequality', 'interference (communication)', 'natural language processing', 'machine learning']\n",
      "len_topic: 100\n",
      "\n",
      "['deep neural networks', 'mnist cifar10', 'experimental results']\n",
      "len_topic: 3\n",
      "\n",
      "['search engines', 'knowledge graphs']\n",
      "len_topic: 2\n",
      "\n",
      "['interaction', 'game engine', 'server message block', 'agent architecture']\n",
      "len_topic: 4\n",
      "\n",
      "['critical operation', 'application relying', 'semantic web technologies', 'dynamic artifacts']\n",
      "len_topic: 4\n",
      "\n",
      "['related questions', 'level process', 'step high']\n",
      "len_topic: 3\n",
      "\n",
      "['aperiodically intermittent control', 'derived analytically', 'useful criteria', 'intermittent control']\n",
      "len_topic: 4\n",
      "\n",
      "['generative model', 'generative adversarial networks', 'instability', 'discriminative model']\n",
      "len_topic: 4\n",
      "\n",
      "['target assignment pick', 'single channel', 'automatic speech recognition', 'strategy elegantly solves']\n",
      "len_topic: 4\n",
      "\n",
      "['fukuoka japan', 'topical sections named', 'carefully reviewed', 'refereed proceedings', 'book constitutes']\n",
      "len_topic: 5\n",
      "\n",
      "['electronic communications', 'noncanonical communication']\n",
      "len_topic: 2\n",
      "\n",
      "['imagenet', 'mnist database']\n",
      "len_topic: 2\n",
      "\n",
      "['algorithm design and analysis', 'prediction algorithms']\n",
      "len_topic: 2\n",
      "\n",
      "['temporal information', 'skeleton sequence']\n",
      "len_topic: 2\n",
      "\n",
      "['powerful approach', 'exponential family embeddings', 'word embeddings']\n",
      "len_topic: 3\n",
      "\n",
      "['frame semantics\\xa0', 'sentiment analysis\\xa0', 'babelnet\\xa0', 'microblogs\\xa0']\n",
      "len_topic: 4\n",
      "\n",
      "['order feature interactions', 'factorization machines']\n",
      "len_topic: 2\n",
      "\n",
      "['extracted based', 'shape features']\n",
      "len_topic: 2\n",
      "\n",
      "['dimensional vector representations', 'vast majority', 'node attributes', 'link prediction', 'network embedding', 'proposed framework']\n",
      "len_topic: 6\n",
      "\n",
      "['mobile network operators', 'radio access network']\n",
      "len_topic: 2\n",
      "\n",
      "['word sense disambiguation', 'human language understanding']\n",
      "len_topic: 2\n",
      "\n",
      "['statistical model', 'stan']\n",
      "len_topic: 2\n",
      "\n",
      "['paper presents', 'http url']\n",
      "len_topic: 2\n",
      "\n"
     ]
    }
   ],
   "source": [
    "overlap_merge_view_deg(2017, k = 100)"
   ]
  },
  {
   "cell_type": "code",
   "execution_count": 234,
   "metadata": {},
   "outputs": [
    {
     "name": "stdout",
     "output_type": "stream",
     "text": [
      "OVERLAP MERGING RESULT WITH CLIQUE PERCOLATION METHOD, TIPPING MODEL, SEED TOP 100 NODES AND HALF THRESHOLD CALCULATION STRATEGY.\n",
      "\n",
      "['diverse ranking model', 'art baselines', 'search result diversification', 'significantly outperform', 'alternating direction method']\n",
      "len_topic: 5\n",
      "\n",
      "['paper proposes', 'affine model', 'nonlinear plant', 'actuator faults', 'markov process', 'sugeno fuzzy', 'parametric uncertainties']\n",
      "len_topic: 7\n",
      "\n",
      "['sawtooth (cellular automaton)', 'sampling - surgical action', 'british informatics olympiad', 'adversarial examples', 'adversarial inputs', 'firefly algorithm', 'controllers', 'neural coding', 'random forest', 'numerical method', 'fuzzy control system', 'dynamical system', 'estimated', 'gradient descent', 'sensor', 'spectral leakage', 'autoencoder', 'cluster analysis', 'wireless sensor networks\\xa0', 'hopfield network', 'triangular matrix', 'global optimization\\xa0', 'time complexity', 'numerical analysis', 'data synchronization', 'neural network simulation', 'memristor', 'initial condition', 'anatomy regional', 'baxter (robot)', 'simulation', 'high- and low-level', 'feedback', 'reinforcement learning', 'two-factors second-order fuzzy-trend logical relationship groups', 'cognitive radio', \"jensen's inequality\", 'statistical cluster', 'inference', 'global exponential stability', 'next-generation network', 'semiconductor industry', 'nonlinear system', 'binary code', 'outline of object recognition', 'sampling (signal processing)', 'polynomial', 'long short-term memory', 'open problem', 'lyapunov fractal', 'samuel j leffler', 'computation', 'control theory', 'algorithm', 'artificial neural network', 'quality of service', 'input lag', 'throughput', 'experiment', 'network packet', 'genetic algorithm', 'dual', 'optimization problem', 'swarm intelligence', 'recursion', 'cloud computing', 'converge', 'scheduling (computing)', 'recurrent neural network', 'particle swarm optimization', 'deep learning', 'swarm intelligence\\xa0', 'premature convergence', 'sparse matrix', 'differential evolution', 'multi-objective optimization', 'benchmark (computing)', 'heuristic', 'linear matrix inequality', 'big data', 'force misclassification', 'firefly algorithm (fa)\\xa0', 'control system', 'inverted pendulum', 'routing', 'approximation', 'approximation algorithm', 'firefly (cache coherence protocol)', 'mathematical optimization', 'social inequality', 'interference (communication)', 'machine learning']\n",
      "len_topic: 92\n",
      "\n",
      "['deep neural networks', 'mnist cifar10', 'experimental results']\n",
      "len_topic: 3\n",
      "\n",
      "['search engines', 'knowledge graphs']\n",
      "len_topic: 2\n",
      "\n",
      "['interaction', 'game engine', 'server message block', 'agent architecture']\n",
      "len_topic: 4\n",
      "\n",
      "['critical operation', 'application relying', 'semantic web technologies', 'dynamic artifacts']\n",
      "len_topic: 4\n",
      "\n",
      "['related questions', 'level process', 'step high']\n",
      "len_topic: 3\n",
      "\n",
      "['aperiodically intermittent control', 'derived analytically', 'useful criteria', 'intermittent control']\n",
      "len_topic: 4\n",
      "\n",
      "['generative model', 'generative adversarial networks', 'instability', 'discriminative model']\n",
      "len_topic: 4\n",
      "\n",
      "['target assignment pick', 'single channel', 'automatic speech recognition', 'strategy elegantly solves']\n",
      "len_topic: 4\n",
      "\n",
      "['fukuoka japan', 'topical sections named', 'carefully reviewed', 'refereed proceedings', 'book constitutes']\n",
      "len_topic: 5\n",
      "\n",
      "['electronic communications', 'noncanonical communication']\n",
      "len_topic: 2\n",
      "\n",
      "['imagenet', 'mnist database']\n",
      "len_topic: 2\n",
      "\n",
      "['algorithm design and analysis', 'prediction algorithms']\n",
      "len_topic: 2\n",
      "\n",
      "['temporal information', 'skeleton sequence']\n",
      "len_topic: 2\n",
      "\n",
      "['powerful approach', 'exponential family embeddings', 'word embeddings']\n",
      "len_topic: 3\n",
      "\n",
      "['frame semantics\\xa0', 'sentiment analysis\\xa0', 'babelnet\\xa0', 'microblogs\\xa0']\n",
      "len_topic: 4\n",
      "\n",
      "['order feature interactions', 'factorization machines']\n",
      "len_topic: 2\n",
      "\n",
      "['extracted based', 'shape features']\n",
      "len_topic: 2\n",
      "\n",
      "['dimensional vector representations', 'vast majority', 'node attributes', 'link prediction', 'network embedding', 'proposed framework']\n",
      "len_topic: 6\n",
      "\n",
      "['mobile network operators', 'radio access network']\n",
      "len_topic: 2\n",
      "\n",
      "['word sense disambiguation', 'human language understanding']\n",
      "len_topic: 2\n",
      "\n",
      "['statistical model', 'stan']\n",
      "len_topic: 2\n",
      "\n",
      "['paper presents', 'http url']\n",
      "len_topic: 2\n",
      "\n"
     ]
    }
   ],
   "source": [
    "overlap_merge_view_half(2017, k = 100)"
   ]
  },
  {
   "cell_type": "code",
   "execution_count": 235,
   "metadata": {},
   "outputs": [
    {
     "ename": "TopicMalFormedException",
     "evalue": "Topic bad formed.",
     "output_type": "error",
     "traceback": [
      "\u001b[0;31m---------------------------------------------------------------------------\u001b[0m",
      "\u001b[0;31mTopicMalFormedException\u001b[0m                   Traceback (most recent call last)",
      "\u001b[0;32m<ipython-input-235-a4d0002a56a9>\u001b[0m in \u001b[0;36m<module>\u001b[0;34m\u001b[0m\n\u001b[0;32m----> 1\u001b[0;31m \u001b[0moverlap_merge_view_deg_neg\u001b[0m\u001b[0;34m(\u001b[0m\u001b[0;36m2017\u001b[0m\u001b[0;34m,\u001b[0m \u001b[0mk\u001b[0m \u001b[0;34m=\u001b[0m \u001b[0;36m100\u001b[0m\u001b[0;34m)\u001b[0m\u001b[0;34m\u001b[0m\u001b[0;34m\u001b[0m\u001b[0m\n\u001b[0m",
      "\u001b[0;32m<ipython-input-6-aa88f64ba5fa>\u001b[0m in \u001b[0;36moverlap_merge_view_deg_neg\u001b[0;34m(year, k)\u001b[0m\n\u001b[1;32m     19\u001b[0m     \u001b[0mspread_dict\u001b[0m\u001b[0;34m[\u001b[0m\u001b[0mstr\u001b[0m\u001b[0;34m(\u001b[0m\u001b[0myear\u001b[0m\u001b[0;34m)\u001b[0m\u001b[0;34m]\u001b[0m\u001b[0;34m.\u001b[0m\u001b[0mtipping_model\u001b[0m\u001b[0;34m(\u001b[0m\u001b[0;34m)\u001b[0m\u001b[0;34m\u001b[0m\u001b[0;34m\u001b[0m\u001b[0m\n\u001b[1;32m     20\u001b[0m     \u001b[0mtipping_deg_neg\u001b[0m \u001b[0;34m=\u001b[0m \u001b[0mspread_dict\u001b[0m\u001b[0;34m[\u001b[0m\u001b[0mstr\u001b[0m\u001b[0;34m(\u001b[0m\u001b[0myear\u001b[0m\u001b[0;34m)\u001b[0m\u001b[0;34m]\u001b[0m\u001b[0;34m.\u001b[0m\u001b[0mget_influenced_nodes\u001b[0m\u001b[0;34m(\u001b[0m\u001b[0;34m)\u001b[0m\u001b[0;34m\u001b[0m\u001b[0;34m\u001b[0m\u001b[0m\n\u001b[0;32m---> 21\u001b[0;31m     \u001b[0mtopics_deg_neg\u001b[0m \u001b[0;34m=\u001b[0m \u001b[0moverlap_perform\u001b[0m\u001b[0;34m(\u001b[0m\u001b[0myear\u001b[0m\u001b[0;34m,\u001b[0m \u001b[0mtipping_deg_neg\u001b[0m\u001b[0;34m,\u001b[0m \u001b[0mk\u001b[0m\u001b[0;34m)\u001b[0m\u001b[0;34m\u001b[0m\u001b[0;34m\u001b[0m\u001b[0m\n\u001b[0m\u001b[1;32m     22\u001b[0m     \u001b[0mto_print\u001b[0m\u001b[0;34m(\u001b[0m\u001b[0mtopics_deg_neg\u001b[0m\u001b[0;34m,\u001b[0m \u001b[0;34m\"tipping\"\u001b[0m\u001b[0;34m,\u001b[0m \u001b[0mk\u001b[0m\u001b[0;34m,\u001b[0m \u001b[0;34m\"deg negative\"\u001b[0m\u001b[0;34m)\u001b[0m\u001b[0;34m\u001b[0m\u001b[0;34m\u001b[0m\u001b[0m\n",
      "\u001b[0;32m<ipython-input-5-60ae7201d3cc>\u001b[0m in \u001b[0;36moverlap_perform\u001b[0;34m(year, all_topics, k)\u001b[0m\n\u001b[1;32m      2\u001b[0m     \u001b[0moverlap\u001b[0m \u001b[0;34m=\u001b[0m \u001b[0mov\u001b[0m\u001b[0;34m.\u001b[0m\u001b[0mOverlapTopics\u001b[0m\u001b[0;34m(\u001b[0m\u001b[0mgraph_timeline_dict\u001b[0m\u001b[0;34m[\u001b[0m\u001b[0mstr\u001b[0m\u001b[0;34m(\u001b[0m\u001b[0myear\u001b[0m\u001b[0;34m)\u001b[0m\u001b[0;34m]\u001b[0m\u001b[0;34m,\u001b[0m \u001b[0mall_topics\u001b[0m\u001b[0;34m,\u001b[0m \u001b[0mk\u001b[0m\u001b[0;34m)\u001b[0m\u001b[0;34m\u001b[0m\u001b[0;34m\u001b[0m\u001b[0m\n\u001b[1;32m      3\u001b[0m     \u001b[0moverlap\u001b[0m\u001b[0;34m.\u001b[0m\u001b[0moverlap_preprocessing\u001b[0m\u001b[0;34m(\u001b[0m\u001b[0;34m)\u001b[0m\u001b[0;34m\u001b[0m\u001b[0;34m\u001b[0m\u001b[0m\n\u001b[0;32m----> 4\u001b[0;31m     \u001b[0moverlap\u001b[0m\u001b[0;34m.\u001b[0m\u001b[0mclique_percolation_method\u001b[0m\u001b[0;34m(\u001b[0m\u001b[0;34m)\u001b[0m\u001b[0;34m\u001b[0m\u001b[0;34m\u001b[0m\u001b[0m\n\u001b[0m\u001b[1;32m      5\u001b[0m     \u001b[0moverlap\u001b[0m\u001b[0;34m.\u001b[0m\u001b[0mcheck_spread_topics\u001b[0m\u001b[0;34m(\u001b[0m\u001b[0;34m)\u001b[0m\u001b[0;34m\u001b[0m\u001b[0;34m\u001b[0m\u001b[0m\n\u001b[1;32m      6\u001b[0m     \u001b[0moverlap\u001b[0m\u001b[0;34m.\u001b[0m\u001b[0mcheck_number_topics\u001b[0m\u001b[0;34m(\u001b[0m\u001b[0;34m)\u001b[0m\u001b[0;34m\u001b[0m\u001b[0;34m\u001b[0m\u001b[0m\n",
      "\u001b[0;32m~/Universita/magistrale/web_and_social_information_extraction/webandsocial-progetto/src/overlaps_topics/overlap_topics.py\u001b[0m in \u001b[0;36mclique_percolation_method\u001b[0;34m(self)\u001b[0m\n\u001b[1;32m    132\u001b[0m         \u001b[0mcommunities\u001b[0m \u001b[0;34m=\u001b[0m \u001b[0mk_clique_communities\u001b[0m\u001b[0;34m(\u001b[0m\u001b[0mG\u001b[0m \u001b[0;34m=\u001b[0m \u001b[0mself\u001b[0m\u001b[0;34m.\u001b[0m\u001b[0m__year_sub_graph\u001b[0m\u001b[0;34m,\u001b[0m \u001b[0mk\u001b[0m \u001b[0;34m=\u001b[0m \u001b[0;36m2\u001b[0m\u001b[0;34m)\u001b[0m\u001b[0;34m\u001b[0m\u001b[0;34m\u001b[0m\u001b[0m\n\u001b[1;32m    133\u001b[0m         \u001b[0;32mfor\u001b[0m \u001b[0mtopic\u001b[0m \u001b[0;32min\u001b[0m \u001b[0mcommunities\u001b[0m\u001b[0;34m:\u001b[0m\u001b[0;34m\u001b[0m\u001b[0;34m\u001b[0m\u001b[0m\n\u001b[0;32m--> 134\u001b[0;31m             \u001b[0mself\u001b[0m\u001b[0;34m.\u001b[0m\u001b[0mcheck_keywords\u001b[0m\u001b[0;34m(\u001b[0m\u001b[0mtopic\u001b[0m\u001b[0;34m)\u001b[0m\u001b[0;34m\u001b[0m\u001b[0;34m\u001b[0m\u001b[0m\n\u001b[0m\u001b[1;32m    135\u001b[0m             \u001b[0mself\u001b[0m\u001b[0;34m.\u001b[0m\u001b[0m__topics\u001b[0m\u001b[0;34m.\u001b[0m\u001b[0mappend\u001b[0m\u001b[0;34m(\u001b[0m\u001b[0mlist\u001b[0m\u001b[0;34m(\u001b[0m\u001b[0mtopic\u001b[0m\u001b[0;34m)\u001b[0m\u001b[0;34m)\u001b[0m\u001b[0;34m\u001b[0m\u001b[0;34m\u001b[0m\u001b[0m\n\u001b[1;32m    136\u001b[0m \u001b[0;34m\u001b[0m\u001b[0m\n",
      "\u001b[0;32m~/Universita/magistrale/web_and_social_information_extraction/webandsocial-progetto/src/overlaps_topics/overlap_topics.py\u001b[0m in \u001b[0;36mcheck_keywords\u001b[0;34m(self, topic)\u001b[0m\n\u001b[1;32m    119\u001b[0m \u001b[0;34m\u001b[0m\u001b[0m\n\u001b[1;32m    120\u001b[0m         \u001b[0;32mif\u001b[0m \u001b[0;32mnot\u001b[0m \u001b[0mregular\u001b[0m\u001b[0;34m:\u001b[0m\u001b[0;34m\u001b[0m\u001b[0;34m\u001b[0m\u001b[0m\n\u001b[0;32m--> 121\u001b[0;31m             \u001b[0;32mraise\u001b[0m \u001b[0mexcpt\u001b[0m\u001b[0;34m.\u001b[0m\u001b[0mTopicMalFormedException\u001b[0m\u001b[0;34m(\u001b[0m\u001b[0;34m\"Topic bad formed.\"\u001b[0m\u001b[0;34m)\u001b[0m\u001b[0;34m\u001b[0m\u001b[0;34m\u001b[0m\u001b[0m\n\u001b[0m\u001b[1;32m    122\u001b[0m \u001b[0;34m\u001b[0m\u001b[0m\n\u001b[1;32m    123\u001b[0m \u001b[0;34m\u001b[0m\u001b[0m\n",
      "\u001b[0;31mTopicMalFormedException\u001b[0m: Topic bad formed."
     ]
    }
   ],
   "source": [
    "overlap_merge_view_deg_neg(2017, k = 100)"
   ]
  },
  {
   "cell_type": "markdown",
   "metadata": {},
   "source": [
    "### Year 2018 "
   ]
  },
  {
   "cell_type": "code",
   "execution_count": 236,
   "metadata": {
    "scrolled": false
   },
   "outputs": [
    {
     "name": "stdout",
     "output_type": "stream",
     "text": [
      "OVERLAP MERGING RESULT WITH CLIQUE PERCOLATION METHOD, TIPPING MODEL, SEED TOP 100 NODES AND DEG THRESHOLD CALCULATION STRATEGY.\n",
      "\n",
      "['cross-validation (statistics)', 'test set', 'cross reactions']\n",
      "len_topic: 3\n",
      "\n",
      "['model generalization', 'transfer adversarial examples', 'adversarial examples', 'powerful framework', 'make mistakes', 'open question', 'leveraging unlabeled data', 'known parameters', 'deep neural networks', 'standard benchmark tasks', 'similar mistakes', 'nips 2017 competition', 'unknown parameters', 'machine learning models', 'simple baselines', 'vision models', 'adversarial examples phenomenon', 'data manifold', 'small changes', 'leveraging recent techniques', 'training distribution', 'hidden states', 'recently proven successful', 'school bus', 'input space', 'deep networks', 'domain shift', 'supervised learning']\n",
      "len_topic: 28\n",
      "\n",
      "['evolutionary algorithms', 'multi-user', 'iterative method', '34c27\\xa0', 'system dynamics', 'closed-circuit television', 'training data', 'fuzzy control system', 'hearing loss high-frequency', 'spectral leakage', 'autoencoder', 'computational complexity theory', 'anomaly detection', 'prime-factor fft algorithm', 'hopfield network', 'time complexity', 'numerical analysis', '92c20\\xa0', 'neural network simulation', 'radio frequency', 'memristor', 'convolutional neural network', 'biologic preservation', 'crafted neuron network', 'simulation', 'expectation propagation', 'reinforcement learning', 'loss function', 'cognitive radio', 'data compression', '37b25\\xa0', 'impulse\\xa0', 'interaction', 'semiconductor industry', 'fixed-point theorem', 'telecommunications network', 'nonlinear system', 'detection tasks', 'mimo', 'lyapunov fractal', 'active learning (machine learning)', 'neural networks', 'existing approaches', 'spectral density', 'algorithm', 'artificial neural network', 'support vector machine', 'critical scenarios', 'predictive failure analysis', 'analysis of algorithms', 'anatomical layer', 'throughput', 'experiment', 'pid', 'end-to-end principle', 'network packet', 'optimization problem', 'biological neural networks', 'swarm intelligence', 'numerous', 'particle swarm optimization\\xa0', 'correctness (computer science)', 'converge', 'optimal control', 'scheduling (computing)', 'embedded system', 'particle swarm optimization', 'memristor-based switching networks\\xa0', 'deep learning', 'entropy maximization', 'bit error rate', 'frequency band', 'differential evolution', 'computer simulation', 'direct method in the calculus of variations', 'new data', 'linear matrix inequality', 'benchmark (computing)', 'experimental results', 'approximation algorithm', 'approximation', 'mathematical optimization', 'smart battery system', 'multitier architecture', 'social inequality', 'bands', 'privacy', 'interference (communication)', 'driven programming paradigm', 'machine learning', 'telecommunications link', 'word lists by frequency']\n",
      "len_topic: 92\n",
      "\n",
      "['level ground truth', 'addressing tal', 'action class', 'temporal action localization', 'temporal boundary', 'untrimmed video']\n",
      "len_topic: 6\n",
      "\n",
      "['flexible functional split', 'latency challenges']\n",
      "len_topic: 2\n",
      "\n",
      "['patch (computing)', 'secure by design', 'internet of things']\n",
      "len_topic: 3\n",
      "\n",
      "['knowledge transfer', 'pervasive computing']\n",
      "len_topic: 2\n",
      "\n",
      "['binary image', 'computation']\n",
      "len_topic: 2\n",
      "\n",
      "['path planning problem', 'fundamental problems']\n",
      "len_topic: 2\n",
      "\n",
      "['cluster consensus\\xa0', 'multi-agent system\\xa0', 'leader-following\\xa0']\n",
      "len_topic: 3\n",
      "\n",
      "['spin structure', 'analyze orbital effects', 'plane magnetic field', 'conduction band', 'dimensional electron gas', 'perturbatively calculate']\n",
      "len_topic: 6\n",
      "\n",
      "['promising solution', 'long term evolution']\n",
      "len_topic: 2\n",
      "\n",
      "['metaheuristic\\xa0', 'exploration and exploitation\\xa0', 'optimization\\xa0', 'swarm intelligence\\xa0']\n",
      "len_topic: 4\n",
      "\n",
      "['nonlinear dynamics', 'directed spanning tree']\n",
      "len_topic: 2\n",
      "\n",
      "['track activities', 'widely used', 'exercise sleep']\n",
      "len_topic: 3\n",
      "\n",
      "['modal approach', 'novel multi']\n",
      "len_topic: 2\n",
      "\n",
      "['random neural network', 'time series', 'recurrent neural network']\n",
      "len_topic: 3\n",
      "\n",
      "['adversarial perturbations', 'adversarial risk']\n",
      "len_topic: 2\n",
      "\n",
      "['frechet inception distance', 'inception score']\n",
      "len_topic: 2\n",
      "\n",
      "['bacterial forging algorithm\\xa0', 'many-objective optimization\\xa0']\n",
      "len_topic: 2\n",
      "\n",
      "['upper bound', 'numerical simulations']\n",
      "len_topic: 2\n",
      "\n",
      "['user intents', 'user interaction features']\n",
      "len_topic: 2\n",
      "\n",
      "['fireworks algorithm', 'global optimization']\n",
      "len_topic: 2\n",
      "\n",
      "['real-time clock', 'real-time transcription']\n",
      "len_topic: 2\n",
      "\n",
      "['wikipedia\\xa0', 'twitter\\xa0']\n",
      "len_topic: 2\n",
      "\n",
      "['benefit', 'sensor (device)']\n",
      "len_topic: 2\n",
      "\n",
      "['multi-agent systems', 'consensus']\n",
      "len_topic: 2\n",
      "\n"
     ]
    }
   ],
   "source": [
    "overlap_merge_view_deg(2018, k = 100)"
   ]
  },
  {
   "cell_type": "code",
   "execution_count": 237,
   "metadata": {},
   "outputs": [
    {
     "name": "stdout",
     "output_type": "stream",
     "text": [
      "OVERLAP MERGING RESULT WITH CLIQUE PERCOLATION METHOD, TIPPING MODEL, SEED TOP 100 NODES AND HALF THRESHOLD CALCULATION STRATEGY.\n",
      "\n",
      "['cross-validation (statistics)', 'test set', 'cross reactions']\n",
      "len_topic: 3\n",
      "\n",
      "['model generalization', 'transfer adversarial examples', 'adversarial examples', 'make mistakes', 'open question', 'known parameters', 'deep neural networks', 'similar mistakes', 'nips 2017 competition', 'unknown parameters', 'machine learning models', 'vision models', 'adversarial examples phenomenon', 'data manifold', 'small changes', 'leveraging recent techniques', 'training distribution', 'hidden states', 'input space', 'school bus', 'deep networks', 'domain shift']\n",
      "len_topic: 22\n",
      "\n",
      "['evolutionary algorithms', 'multi-user', 'iterative method', '34c27\\xa0', 'system dynamics', 'closed-circuit television', 'training data', 'fuzzy control system', 'hearing loss high-frequency', 'spectral leakage', 'autoencoder', 'computational complexity theory', 'anomaly detection', 'prime-factor fft algorithm', 'hopfield network', 'time complexity', 'numerical analysis', '92c20\\xa0', 'neural network simulation', 'convolutional neural network', 'memristor', 'biologic preservation', 'crafted neuron network', 'simulation', 'reinforcement learning', 'loss function', 'cognitive radio', 'data compression', '37b25\\xa0', 'impulse\\xa0', 'interaction', 'semiconductor industry', 'fixed-point theorem', 'telecommunications network', 'nonlinear system', 'detection tasks', 'mimo', 'lyapunov fractal', 'neural networks', 'existing approaches', 'algorithm', 'artificial neural network', 'support vector machine', 'critical scenarios', 'predictive failure analysis', 'analysis of algorithms', 'anatomical layer', 'throughput', 'experiment', 'pid', 'end-to-end principle', 'network packet', 'optimization problem', 'biological neural networks', 'swarm intelligence', 'numerous', 'particle swarm optimization\\xa0', 'correctness (computer science)', 'converge', 'optimal control', 'scheduling (computing)', 'embedded system', 'particle swarm optimization', 'memristor-based switching networks\\xa0', 'deep learning', 'entropy maximization', 'bit error rate', 'frequency band', 'differential evolution', 'direct method in the calculus of variations', 'new data', 'linear matrix inequality', 'benchmark (computing)', 'experimental results', 'approximation algorithm', 'approximation', 'mathematical optimization', 'smart battery system', 'multitier architecture', 'social inequality', 'bands', 'interference (communication)', 'driven programming paradigm', 'machine learning', 'telecommunications link', 'word lists by frequency']\n",
      "len_topic: 86\n",
      "\n",
      "['level ground truth', 'addressing tal', 'action class', 'temporal action localization', 'temporal boundary', 'untrimmed video']\n",
      "len_topic: 6\n",
      "\n",
      "['flexible functional split', 'latency challenges']\n",
      "len_topic: 2\n",
      "\n",
      "['patch (computing)', 'secure by design', 'internet of things']\n",
      "len_topic: 3\n",
      "\n",
      "['knowledge transfer', 'pervasive computing']\n",
      "len_topic: 2\n",
      "\n",
      "['binary image', 'computation']\n",
      "len_topic: 2\n",
      "\n",
      "['path planning problem', 'fundamental problems']\n",
      "len_topic: 2\n",
      "\n",
      "['cluster consensus\\xa0', 'multi-agent system\\xa0', 'leader-following\\xa0']\n",
      "len_topic: 3\n",
      "\n",
      "['spin structure', 'analyze orbital effects', 'plane magnetic field', 'conduction band', 'dimensional electron gas', 'perturbatively calculate']\n",
      "len_topic: 6\n",
      "\n",
      "['promising solution', 'long term evolution']\n",
      "len_topic: 2\n",
      "\n",
      "['metaheuristic\\xa0', 'exploration and exploitation\\xa0', 'optimization\\xa0', 'swarm intelligence\\xa0']\n",
      "len_topic: 4\n",
      "\n",
      "['nonlinear dynamics', 'directed spanning tree']\n",
      "len_topic: 2\n",
      "\n",
      "['track activities', 'widely used', 'exercise sleep']\n",
      "len_topic: 3\n",
      "\n",
      "['modal approach', 'novel multi']\n",
      "len_topic: 2\n",
      "\n",
      "['random neural network', 'time series', 'recurrent neural network']\n",
      "len_topic: 3\n",
      "\n",
      "['adversarial perturbations', 'adversarial risk']\n",
      "len_topic: 2\n",
      "\n",
      "['frechet inception distance', 'inception score']\n",
      "len_topic: 2\n",
      "\n",
      "['bacterial forging algorithm\\xa0', 'many-objective optimization\\xa0']\n",
      "len_topic: 2\n",
      "\n",
      "['upper bound', 'numerical simulations']\n",
      "len_topic: 2\n",
      "\n",
      "['user intents', 'user interaction features']\n",
      "len_topic: 2\n",
      "\n",
      "['fireworks algorithm', 'global optimization']\n",
      "len_topic: 2\n",
      "\n",
      "['real-time clock', 'real-time transcription']\n",
      "len_topic: 2\n",
      "\n",
      "['wikipedia\\xa0', 'twitter\\xa0']\n",
      "len_topic: 2\n",
      "\n",
      "['benefit', 'sensor (device)']\n",
      "len_topic: 2\n",
      "\n",
      "['multi-agent systems', 'consensus']\n",
      "len_topic: 2\n",
      "\n"
     ]
    }
   ],
   "source": [
    "overlap_merge_view_half(2018, k = 100)"
   ]
  },
  {
   "cell_type": "code",
   "execution_count": 238,
   "metadata": {},
   "outputs": [
    {
     "ename": "TopicMalFormedException",
     "evalue": "Topic bad formed.",
     "output_type": "error",
     "traceback": [
      "\u001b[0;31m---------------------------------------------------------------------------\u001b[0m",
      "\u001b[0;31mTopicMalFormedException\u001b[0m                   Traceback (most recent call last)",
      "\u001b[0;32m<ipython-input-238-655c4ef9514e>\u001b[0m in \u001b[0;36m<module>\u001b[0;34m\u001b[0m\n\u001b[0;32m----> 1\u001b[0;31m \u001b[0moverlap_merge_view_deg_neg\u001b[0m\u001b[0;34m(\u001b[0m\u001b[0;36m2018\u001b[0m\u001b[0;34m,\u001b[0m \u001b[0mk\u001b[0m \u001b[0;34m=\u001b[0m \u001b[0;36m100\u001b[0m\u001b[0;34m)\u001b[0m\u001b[0;34m\u001b[0m\u001b[0;34m\u001b[0m\u001b[0m\n\u001b[0m",
      "\u001b[0;32m<ipython-input-6-aa88f64ba5fa>\u001b[0m in \u001b[0;36moverlap_merge_view_deg_neg\u001b[0;34m(year, k)\u001b[0m\n\u001b[1;32m     19\u001b[0m     \u001b[0mspread_dict\u001b[0m\u001b[0;34m[\u001b[0m\u001b[0mstr\u001b[0m\u001b[0;34m(\u001b[0m\u001b[0myear\u001b[0m\u001b[0;34m)\u001b[0m\u001b[0;34m]\u001b[0m\u001b[0;34m.\u001b[0m\u001b[0mtipping_model\u001b[0m\u001b[0;34m(\u001b[0m\u001b[0;34m)\u001b[0m\u001b[0;34m\u001b[0m\u001b[0;34m\u001b[0m\u001b[0m\n\u001b[1;32m     20\u001b[0m     \u001b[0mtipping_deg_neg\u001b[0m \u001b[0;34m=\u001b[0m \u001b[0mspread_dict\u001b[0m\u001b[0;34m[\u001b[0m\u001b[0mstr\u001b[0m\u001b[0;34m(\u001b[0m\u001b[0myear\u001b[0m\u001b[0;34m)\u001b[0m\u001b[0;34m]\u001b[0m\u001b[0;34m.\u001b[0m\u001b[0mget_influenced_nodes\u001b[0m\u001b[0;34m(\u001b[0m\u001b[0;34m)\u001b[0m\u001b[0;34m\u001b[0m\u001b[0;34m\u001b[0m\u001b[0m\n\u001b[0;32m---> 21\u001b[0;31m     \u001b[0mtopics_deg_neg\u001b[0m \u001b[0;34m=\u001b[0m \u001b[0moverlap_perform\u001b[0m\u001b[0;34m(\u001b[0m\u001b[0myear\u001b[0m\u001b[0;34m,\u001b[0m \u001b[0mtipping_deg_neg\u001b[0m\u001b[0;34m,\u001b[0m \u001b[0mk\u001b[0m\u001b[0;34m)\u001b[0m\u001b[0;34m\u001b[0m\u001b[0;34m\u001b[0m\u001b[0m\n\u001b[0m\u001b[1;32m     22\u001b[0m     \u001b[0mto_print\u001b[0m\u001b[0;34m(\u001b[0m\u001b[0mtopics_deg_neg\u001b[0m\u001b[0;34m,\u001b[0m \u001b[0;34m\"tipping\"\u001b[0m\u001b[0;34m,\u001b[0m \u001b[0mk\u001b[0m\u001b[0;34m,\u001b[0m \u001b[0;34m\"deg negative\"\u001b[0m\u001b[0;34m)\u001b[0m\u001b[0;34m\u001b[0m\u001b[0;34m\u001b[0m\u001b[0m\n",
      "\u001b[0;32m<ipython-input-5-60ae7201d3cc>\u001b[0m in \u001b[0;36moverlap_perform\u001b[0;34m(year, all_topics, k)\u001b[0m\n\u001b[1;32m      2\u001b[0m     \u001b[0moverlap\u001b[0m \u001b[0;34m=\u001b[0m \u001b[0mov\u001b[0m\u001b[0;34m.\u001b[0m\u001b[0mOverlapTopics\u001b[0m\u001b[0;34m(\u001b[0m\u001b[0mgraph_timeline_dict\u001b[0m\u001b[0;34m[\u001b[0m\u001b[0mstr\u001b[0m\u001b[0;34m(\u001b[0m\u001b[0myear\u001b[0m\u001b[0;34m)\u001b[0m\u001b[0;34m]\u001b[0m\u001b[0;34m,\u001b[0m \u001b[0mall_topics\u001b[0m\u001b[0;34m,\u001b[0m \u001b[0mk\u001b[0m\u001b[0;34m)\u001b[0m\u001b[0;34m\u001b[0m\u001b[0;34m\u001b[0m\u001b[0m\n\u001b[1;32m      3\u001b[0m     \u001b[0moverlap\u001b[0m\u001b[0;34m.\u001b[0m\u001b[0moverlap_preprocessing\u001b[0m\u001b[0;34m(\u001b[0m\u001b[0;34m)\u001b[0m\u001b[0;34m\u001b[0m\u001b[0;34m\u001b[0m\u001b[0m\n\u001b[0;32m----> 4\u001b[0;31m     \u001b[0moverlap\u001b[0m\u001b[0;34m.\u001b[0m\u001b[0mclique_percolation_method\u001b[0m\u001b[0;34m(\u001b[0m\u001b[0;34m)\u001b[0m\u001b[0;34m\u001b[0m\u001b[0;34m\u001b[0m\u001b[0m\n\u001b[0m\u001b[1;32m      5\u001b[0m     \u001b[0moverlap\u001b[0m\u001b[0;34m.\u001b[0m\u001b[0mcheck_spread_topics\u001b[0m\u001b[0;34m(\u001b[0m\u001b[0;34m)\u001b[0m\u001b[0;34m\u001b[0m\u001b[0;34m\u001b[0m\u001b[0m\n\u001b[1;32m      6\u001b[0m     \u001b[0moverlap\u001b[0m\u001b[0;34m.\u001b[0m\u001b[0mcheck_number_topics\u001b[0m\u001b[0;34m(\u001b[0m\u001b[0;34m)\u001b[0m\u001b[0;34m\u001b[0m\u001b[0;34m\u001b[0m\u001b[0m\n",
      "\u001b[0;32m~/Universita/magistrale/web_and_social_information_extraction/webandsocial-progetto/src/overlaps_topics/overlap_topics.py\u001b[0m in \u001b[0;36mclique_percolation_method\u001b[0;34m(self)\u001b[0m\n\u001b[1;32m    132\u001b[0m         \u001b[0mcommunities\u001b[0m \u001b[0;34m=\u001b[0m \u001b[0mk_clique_communities\u001b[0m\u001b[0;34m(\u001b[0m\u001b[0mG\u001b[0m \u001b[0;34m=\u001b[0m \u001b[0mself\u001b[0m\u001b[0;34m.\u001b[0m\u001b[0m__year_sub_graph\u001b[0m\u001b[0;34m,\u001b[0m \u001b[0mk\u001b[0m \u001b[0;34m=\u001b[0m \u001b[0;36m2\u001b[0m\u001b[0;34m)\u001b[0m\u001b[0;34m\u001b[0m\u001b[0;34m\u001b[0m\u001b[0m\n\u001b[1;32m    133\u001b[0m         \u001b[0;32mfor\u001b[0m \u001b[0mtopic\u001b[0m \u001b[0;32min\u001b[0m \u001b[0mcommunities\u001b[0m\u001b[0;34m:\u001b[0m\u001b[0;34m\u001b[0m\u001b[0;34m\u001b[0m\u001b[0m\n\u001b[0;32m--> 134\u001b[0;31m             \u001b[0mself\u001b[0m\u001b[0;34m.\u001b[0m\u001b[0mcheck_keywords\u001b[0m\u001b[0;34m(\u001b[0m\u001b[0mtopic\u001b[0m\u001b[0;34m)\u001b[0m\u001b[0;34m\u001b[0m\u001b[0;34m\u001b[0m\u001b[0m\n\u001b[0m\u001b[1;32m    135\u001b[0m             \u001b[0mself\u001b[0m\u001b[0;34m.\u001b[0m\u001b[0m__topics\u001b[0m\u001b[0;34m.\u001b[0m\u001b[0mappend\u001b[0m\u001b[0;34m(\u001b[0m\u001b[0mlist\u001b[0m\u001b[0;34m(\u001b[0m\u001b[0mtopic\u001b[0m\u001b[0;34m)\u001b[0m\u001b[0;34m)\u001b[0m\u001b[0;34m\u001b[0m\u001b[0;34m\u001b[0m\u001b[0m\n\u001b[1;32m    136\u001b[0m \u001b[0;34m\u001b[0m\u001b[0m\n",
      "\u001b[0;32m~/Universita/magistrale/web_and_social_information_extraction/webandsocial-progetto/src/overlaps_topics/overlap_topics.py\u001b[0m in \u001b[0;36mcheck_keywords\u001b[0;34m(self, topic)\u001b[0m\n\u001b[1;32m    119\u001b[0m \u001b[0;34m\u001b[0m\u001b[0m\n\u001b[1;32m    120\u001b[0m         \u001b[0;32mif\u001b[0m \u001b[0;32mnot\u001b[0m \u001b[0mregular\u001b[0m\u001b[0;34m:\u001b[0m\u001b[0;34m\u001b[0m\u001b[0;34m\u001b[0m\u001b[0m\n\u001b[0;32m--> 121\u001b[0;31m             \u001b[0;32mraise\u001b[0m \u001b[0mexcpt\u001b[0m\u001b[0;34m.\u001b[0m\u001b[0mTopicMalFormedException\u001b[0m\u001b[0;34m(\u001b[0m\u001b[0;34m\"Topic bad formed.\"\u001b[0m\u001b[0;34m)\u001b[0m\u001b[0;34m\u001b[0m\u001b[0;34m\u001b[0m\u001b[0m\n\u001b[0m\u001b[1;32m    122\u001b[0m \u001b[0;34m\u001b[0m\u001b[0m\n\u001b[1;32m    123\u001b[0m \u001b[0;34m\u001b[0m\u001b[0m\n",
      "\u001b[0;31mTopicMalFormedException\u001b[0m: Topic bad formed."
     ]
    }
   ],
   "source": [
    "overlap_merge_view_deg_neg(2018, k = 100)"
   ]
  },
  {
   "cell_type": "markdown",
   "metadata": {},
   "source": [
    "Cleaning part of the memory after the end of analysis."
   ]
  },
  {
   "cell_type": "code",
   "execution_count": 239,
   "metadata": {},
   "outputs": [
    {
     "data": {
      "text/plain": [
       "16153"
      ]
     },
     "execution_count": 239,
     "metadata": {},
     "output_type": "execute_result"
    }
   ],
   "source": [
    "#Deleting reference to object and force the garbage collect to clean memory\n",
    "del spread_dict, graph_timeline_dict\n",
    "gc.collect()"
   ]
  },
  {
   "cell_type": "markdown",
   "metadata": {},
   "source": [
    "The analysis shows that not all the calculation strategies used for the tipping model are optimal with the application of the Clique Percolation Method. The best strategy, which works for each year and for every k, is the strategy of calculating the threshold 1 / deg (n) (n is the node), ie with a very low threshold for each node. More reflections about Tipping Model and threhsold calculation strategies are reported on the project report."
   ]
  }
 ],
 "metadata": {
  "kernelspec": {
   "display_name": "Python 3",
   "language": "python",
   "name": "python3"
  },
  "language_info": {
   "codemirror_mode": {
    "name": "ipython",
    "version": 3
   },
   "file_extension": ".py",
   "mimetype": "text/x-python",
   "name": "python",
   "nbconvert_exporter": "python",
   "pygments_lexer": "ipython3",
   "version": "3.6.8"
  }
 },
 "nbformat": 4,
 "nbformat_minor": 2
}
