{
 "cells": [
  {
   "cell_type": "markdown",
   "metadata": {},
   "source": [
    "### Author: Leonardo Picchiami\n",
    "\n",
    "\n",
    "#  Overlap Topics Merging Analysis View\n",
    "### Indipendent Cascade Model view"
   ]
  },
  {
   "cell_type": "markdown",
   "metadata": {},
   "source": [
    "This file shows the problems of the application of the Clique Percolation Method on the results of the Independent Cascade Model algorithm for each calculation threshold strategy. The main problem is that the Clique Percolation Method does not always use all the influenced nodes found by the independent cascade model, this means that some influenced keywords are not really relevant with the other keywords found."
   ]
  },
  {
   "cell_type": "code",
   "execution_count": 1,
   "metadata": {},
   "outputs": [],
   "source": [
    "import warnings\n",
    "warnings.filterwarnings(\"ignore\")\n",
    "\n",
    "import sys\n",
    "import gc\n",
    "\n",
    "sys.path.append(\"..\")\n",
    "sys.path.append(\"../../graph\")\n",
    "sys.path.append(\"../../metrics\")\n",
    "sys.path.append(\"../../spread_influence\")\n",
    "\n",
    "import graph as gr\n",
    "import metrics as me\n",
    "import spread_of_influence as sp\n",
    "import overlap_topics as ov\n",
    "\n",
    "import pandas as pd\n",
    "import numpy as np\n",
    "\n",
    "ds1_path = \"../../../dataset_src/ds-1.tsv\"\n",
    "ds2_path = \"../../../dataset_src/ds-2.tsv\""
   ]
  },
  {
   "cell_type": "code",
   "execution_count": 2,
   "metadata": {},
   "outputs": [
    {
     "name": "stdout",
     "output_type": "stream",
     "text": [
      "['2000', '2001', '2002', '2003', '2004', '2005', '2006', '2007', '2008', '2009', '2010', '2011', '2012', '2013', '2014', '2015', '2016', '2017', '2018']\n"
     ]
    }
   ],
   "source": [
    "timeline = [str(year) for year in range(2000, 2019)]\n",
    "print(timeline)\n",
    "\n",
    "spread_dict = dict()\n",
    "graph_timeline_dict = dict()"
   ]
  },
  {
   "cell_type": "markdown",
   "metadata": {},
   "source": [
    "The sequence of operations is:\n",
    "- a graph for each year of timeline.\n",
    "- build a ds1 graph with fraction of co-citations weights calculation strategy.\n",
    "- application of the pagerank metric for each graph created.\n",
    "- spread of influence object for graph and metric result as seed for each year to apply the indipendent cascade model with the application of different threshold calculation strategies.\n",
    "- clique percolation method like metric of merging based on overlapping"
   ]
  },
  {
   "cell_type": "code",
   "execution_count": 3,
   "metadata": {},
   "outputs": [],
   "source": [
    "def spread_to_overlap_timeline_k(k):\n",
    "    for year in timeline:\n",
    "        graph = gr.YearGraph(ds1_path, ds2_path, year)\n",
    "        graph.read()\n",
    "        graph.weights_fraction_cocitations()\n",
    "        graph.build_ds1_graph()\n",
    "        \n",
    "        metrics = me.Metrics(graph)\n",
    "        metrics.metrics_preprocessing()\n",
    "        metrics.pagerank(k) \n",
    "    \n",
    "        model = sp.SpreadOfInfluenceModels(graph, metrics.get_top_k_nodes())\n",
    "        model.spread_preprocessing()\n",
    "    \n",
    "        spread_dict[year] = model\n",
    "        graph_timeline_dict[year] = graph"
   ]
  },
  {
   "cell_type": "markdown",
   "metadata": {},
   "source": [
    "Function to print the results of the Independent Cascade Model, applying the three threshold calculation strategies and shows the problems with the Clique Percolation Method application."
   ]
  },
  {
   "cell_type": "code",
   "execution_count": 4,
   "metadata": {},
   "outputs": [],
   "source": [
    "def to_print(topics, name_model, k, threshold):\n",
    "    comment = \"Overlap merging result with Clique Percolation Method, {0} model, seed top {1} nodes and {2} threshold calculation strategy.\\n\".format(name_model, k, threshold)\n",
    "    print(comment.upper())\n",
    "    for topic in topics:\n",
    "        print(\"{0}{1}len_topic: {2}{3}\".format(topic, '\\n', len(topic), '\\n'))"
   ]
  },
  {
   "cell_type": "markdown",
   "metadata": {},
   "source": [
    "Function for merging via overlap for topics found on a graph of a given year with a given k."
   ]
  },
  {
   "cell_type": "code",
   "execution_count": 5,
   "metadata": {},
   "outputs": [],
   "source": [
    "def overlap_perform(year, all_topics, k):\n",
    "    overlap = ov.OverlapTopics(graph_timeline_dict[str(year)], all_topics, k) \n",
    "    overlap.overlap_preprocessing()\n",
    "    overlap.clique_percolation_method()\n",
    "    overlap.check_spread_topics()\n",
    "    overlap.check_number_topics()\n",
    "    return overlap.get_topics()"
   ]
  },
  {
   "cell_type": "markdown",
   "metadata": {},
   "source": [
    "Functions for the elaboration of the Independent Cascade Model with the three strategies of calculation of the threshold and the printing of the elaborated topics."
   ]
  },
  {
   "cell_type": "code",
   "execution_count": 6,
   "metadata": {},
   "outputs": [],
   "source": [
    "def overlap_merge_view_deg(year, k):\n",
    "    spread_dict[str(year)].threshold_deg()\n",
    "    spread_dict[str(year)].indipendent_cascade_model()\n",
    "    cascade_deg = spread_dict[str(year)].get_influenced_nodes()\n",
    "    topics_deg = overlap_perform(year, cascade_deg, k)\n",
    "    to_print(topics_deg, \"cascade\", k, \"deg\")\n",
    "    \n",
    "    \n",
    "def overlap_merge_view_half(year, k):\n",
    "    spread_dict[str(year)].threshold_half()\n",
    "    spread_dict[str(year)].indipendent_cascade_model()\n",
    "    cascade_half = spread_dict[str(year)].get_influenced_nodes()\n",
    "    topics_half = overlap_perform(year, cascade_half, k)\n",
    "    to_print(topics_half, \"cascade\", k, \"half\")\n",
    "    \n",
    "    \n",
    "def overlap_merge_view_deg_neg(year, k):\n",
    "    spread_dict[str(year)].threshold_deg_neg()\n",
    "    spread_dict[str(year)].indipendent_cascade_model()\n",
    "    cascade_deg_neg = spread_dict[str(year)].get_influenced_nodes()\n",
    "    topics_deg_neg = overlap_perform(year, cascade_deg_neg, k)\n",
    "    to_print(topics_deg_neg, \"cascade\", k, \"deg negative\")"
   ]
  },
  {
   "cell_type": "markdown",
   "metadata": {},
   "source": [
    "## Overlap merge with k = 5"
   ]
  },
  {
   "cell_type": "markdown",
   "metadata": {},
   "source": [
    "Applications of all configuration of Indipendent Cascade Model with seed size 5"
   ]
  },
  {
   "cell_type": "code",
   "execution_count": 7,
   "metadata": {},
   "outputs": [],
   "source": [
    "spread_to_overlap_timeline_k(k = 5)"
   ]
  },
  {
   "cell_type": "markdown",
   "metadata": {},
   "source": [
    "### Year 2000"
   ]
  },
  {
   "cell_type": "code",
   "execution_count": 8,
   "metadata": {
    "scrolled": false
   },
   "outputs": [
    {
     "name": "stdout",
     "output_type": "stream",
     "text": [
      "OVERLAP MERGING RESULT WITH CLIQUE PERCOLATION METHOD, CASCADE MODEL, SEED TOP 5 NODES AND DEG THRESHOLD CALCULATION STRATEGY.\n",
      "\n",
      "['experiment', 'feature vector', 'support vector machine']\n",
      "len_topic: 3\n",
      "\n",
      "['motion estimation\\xa0', 'nonlinear system', 'simulation']\n",
      "len_topic: 3\n",
      "\n"
     ]
    }
   ],
   "source": [
    "overlap_merge_view_deg(2000, k = 5)"
   ]
  },
  {
   "cell_type": "code",
   "execution_count": 9,
   "metadata": {},
   "outputs": [
    {
     "name": "stdout",
     "output_type": "stream",
     "text": [
      "OVERLAP MERGING RESULT WITH CLIQUE PERCOLATION METHOD, CASCADE MODEL, SEED TOP 5 NODES AND HALF THRESHOLD CALCULATION STRATEGY.\n",
      "\n",
      "['experiment', 'feature vector', 'support vector machine']\n",
      "len_topic: 3\n",
      "\n",
      "['motion estimation\\xa0', 'nonlinear system', 'simulation']\n",
      "len_topic: 3\n",
      "\n"
     ]
    }
   ],
   "source": [
    "overlap_merge_view_half(2000, k = 5)"
   ]
  },
  {
   "cell_type": "code",
   "execution_count": 10,
   "metadata": {},
   "outputs": [
    {
     "name": "stdout",
     "output_type": "stream",
     "text": [
      "OVERLAP MERGING RESULT WITH CLIQUE PERCOLATION METHOD, CASCADE MODEL, SEED TOP 5 NODES AND DEG NEGATIVE THRESHOLD CALCULATION STRATEGY.\n",
      "\n",
      "['feature vector', 'support vector machine']\n",
      "len_topic: 2\n",
      "\n",
      "['motion estimation\\xa0', 'nonlinear system', 'simulation']\n",
      "len_topic: 3\n",
      "\n"
     ]
    }
   ],
   "source": [
    "overlap_merge_view_deg_neg(2000, k = 5)"
   ]
  },
  {
   "cell_type": "markdown",
   "metadata": {},
   "source": [
    "### Year 2001"
   ]
  },
  {
   "cell_type": "code",
   "execution_count": 11,
   "metadata": {
    "scrolled": true
   },
   "outputs": [
    {
     "name": "stdout",
     "output_type": "stream",
     "text": [
      "OVERLAP MERGING RESULT WITH CLIQUE PERCOLATION METHOD, CASCADE MODEL, SEED TOP 5 NODES AND DEG THRESHOLD CALCULATION STRATEGY.\n",
      "\n",
      "['state-space methods', 'particle filters', 'monte carlo methods', 'laboratories', 'deconvolution', 'filtering algorithms', 'linear systems', 'signal processing', 'state estimation', 'smoothing methods', 'fading', 'bayesian methods', 'signal processing algorithms']\n",
      "len_topic: 13\n",
      "\n"
     ]
    }
   ],
   "source": [
    "overlap_merge_view_deg(2001, k = 5)"
   ]
  },
  {
   "cell_type": "code",
   "execution_count": 12,
   "metadata": {},
   "outputs": [
    {
     "name": "stdout",
     "output_type": "stream",
     "text": [
      "OVERLAP MERGING RESULT WITH CLIQUE PERCOLATION METHOD, CASCADE MODEL, SEED TOP 5 NODES AND HALF THRESHOLD CALCULATION STRATEGY.\n",
      "\n",
      "['state-space methods', 'computer simulation', 'deconvolution', 'filtering algorithms', 'stochastic processes', 'filtering', 'state estimation', 'signal processing', 'bayesian methods', 'smoothing methods', 'particle filters', 'linear systems']\n",
      "len_topic: 12\n",
      "\n"
     ]
    }
   ],
   "source": [
    "overlap_merge_view_half(2001, k = 5)"
   ]
  },
  {
   "cell_type": "code",
   "execution_count": 13,
   "metadata": {},
   "outputs": [
    {
     "name": "stdout",
     "output_type": "stream",
     "text": [
      "OVERLAP MERGING RESULT WITH CLIQUE PERCOLATION METHOD, CASCADE MODEL, SEED TOP 5 NODES AND DEG NEGATIVE THRESHOLD CALCULATION STRATEGY.\n",
      "\n",
      "['state-space methods', 'particle filters', 'computer simulation', 'laboratories', 'deconvolution', 'filtering algorithms', 'mathematics', 'filtering', 'signal processing', 'state estimation', 'stochastic processes', 'bayesian methods', 'fading', 'linear systems', 'signal processing algorithms']\n",
      "len_topic: 15\n",
      "\n"
     ]
    }
   ],
   "source": [
    "overlap_merge_view_deg_neg(2001, k = 5)"
   ]
  },
  {
   "cell_type": "markdown",
   "metadata": {},
   "source": [
    "### Year 2002"
   ]
  },
  {
   "cell_type": "code",
   "execution_count": 14,
   "metadata": {
    "scrolled": true
   },
   "outputs": [
    {
     "name": "stdout",
     "output_type": "stream",
     "text": [
      "OVERLAP MERGING RESULT WITH CLIQUE PERCOLATION METHOD, CASCADE MODEL, SEED TOP 5 NODES AND DEG THRESHOLD CALCULATION STRATEGY.\n",
      "\n",
      "['unsupervised learning', 'independent component analysis', 'blind source separation', 'overcomplete situation']\n",
      "len_topic: 4\n",
      "\n",
      "['monte carlo methods', 'bayesian methods', 'signal processing']\n",
      "len_topic: 3\n",
      "\n",
      "['filtering algorithms', 'state estimation']\n",
      "len_topic: 2\n",
      "\n"
     ]
    }
   ],
   "source": [
    "overlap_merge_view_deg(2002, k = 5)"
   ]
  },
  {
   "cell_type": "code",
   "execution_count": 15,
   "metadata": {},
   "outputs": [
    {
     "name": "stdout",
     "output_type": "stream",
     "text": [
      "OVERLAP MERGING RESULT WITH CLIQUE PERCOLATION METHOD, CASCADE MODEL, SEED TOP 5 NODES AND HALF THRESHOLD CALCULATION STRATEGY.\n",
      "\n",
      "['blind source separation', 'unsupervised learning', 'overcomplete situation', 'important method', 'independent component analysis']\n",
      "len_topic: 5\n",
      "\n",
      "['monte carlo methods', 'bayesian methods', 'signal processing', 'speech processing']\n",
      "len_topic: 4\n",
      "\n",
      "['filtering algorithms', 'state estimation']\n",
      "len_topic: 2\n",
      "\n"
     ]
    }
   ],
   "source": [
    "overlap_merge_view_half(2002, k = 5)"
   ]
  },
  {
   "cell_type": "code",
   "execution_count": 16,
   "metadata": {},
   "outputs": [
    {
     "ename": "TopicNotAllKeywordsUsedException",
     "evalue": "To perfom all topics not all keywords have been used.",
     "output_type": "error",
     "traceback": [
      "\u001b[0;31m---------------------------------------------------------------------------\u001b[0m",
      "\u001b[0;31mTopicNotAllKeywordsUsedException\u001b[0m          Traceback (most recent call last)",
      "\u001b[0;32m<ipython-input-16-f6f96b37ea22>\u001b[0m in \u001b[0;36m<module>\u001b[0;34m\u001b[0m\n\u001b[0;32m----> 1\u001b[0;31m \u001b[0moverlap_merge_view_deg_neg\u001b[0m\u001b[0;34m(\u001b[0m\u001b[0;36m2002\u001b[0m\u001b[0;34m,\u001b[0m \u001b[0mk\u001b[0m \u001b[0;34m=\u001b[0m \u001b[0;36m5\u001b[0m\u001b[0;34m)\u001b[0m\u001b[0;34m\u001b[0m\u001b[0;34m\u001b[0m\u001b[0m\n\u001b[0m",
      "\u001b[0;32m<ipython-input-6-644b1e1d3189>\u001b[0m in \u001b[0;36moverlap_merge_view_deg_neg\u001b[0;34m(year, k)\u001b[0m\n\u001b[1;32m     19\u001b[0m     \u001b[0mspread_dict\u001b[0m\u001b[0;34m[\u001b[0m\u001b[0mstr\u001b[0m\u001b[0;34m(\u001b[0m\u001b[0myear\u001b[0m\u001b[0;34m)\u001b[0m\u001b[0;34m]\u001b[0m\u001b[0;34m.\u001b[0m\u001b[0mindipendent_cascade_model\u001b[0m\u001b[0;34m(\u001b[0m\u001b[0;34m)\u001b[0m\u001b[0;34m\u001b[0m\u001b[0;34m\u001b[0m\u001b[0m\n\u001b[1;32m     20\u001b[0m     \u001b[0mcascade_deg_neg\u001b[0m \u001b[0;34m=\u001b[0m \u001b[0mspread_dict\u001b[0m\u001b[0;34m[\u001b[0m\u001b[0mstr\u001b[0m\u001b[0;34m(\u001b[0m\u001b[0myear\u001b[0m\u001b[0;34m)\u001b[0m\u001b[0;34m]\u001b[0m\u001b[0;34m.\u001b[0m\u001b[0mget_influenced_nodes\u001b[0m\u001b[0;34m(\u001b[0m\u001b[0;34m)\u001b[0m\u001b[0;34m\u001b[0m\u001b[0;34m\u001b[0m\u001b[0m\n\u001b[0;32m---> 21\u001b[0;31m     \u001b[0mtopics_deg_neg\u001b[0m \u001b[0;34m=\u001b[0m \u001b[0moverlap_perform\u001b[0m\u001b[0;34m(\u001b[0m\u001b[0myear\u001b[0m\u001b[0;34m,\u001b[0m \u001b[0mcascade_deg_neg\u001b[0m\u001b[0;34m,\u001b[0m \u001b[0mk\u001b[0m\u001b[0;34m)\u001b[0m\u001b[0;34m\u001b[0m\u001b[0;34m\u001b[0m\u001b[0m\n\u001b[0m\u001b[1;32m     22\u001b[0m     \u001b[0mto_print\u001b[0m\u001b[0;34m(\u001b[0m\u001b[0mtopics_deg_neg\u001b[0m\u001b[0;34m,\u001b[0m \u001b[0;34m\"cascade\"\u001b[0m\u001b[0;34m,\u001b[0m \u001b[0mk\u001b[0m\u001b[0;34m,\u001b[0m \u001b[0;34m\"deg negative\"\u001b[0m\u001b[0;34m)\u001b[0m\u001b[0;34m\u001b[0m\u001b[0;34m\u001b[0m\u001b[0m\n",
      "\u001b[0;32m<ipython-input-5-60ae7201d3cc>\u001b[0m in \u001b[0;36moverlap_perform\u001b[0;34m(year, all_topics, k)\u001b[0m\n\u001b[1;32m      3\u001b[0m     \u001b[0moverlap\u001b[0m\u001b[0;34m.\u001b[0m\u001b[0moverlap_preprocessing\u001b[0m\u001b[0;34m(\u001b[0m\u001b[0;34m)\u001b[0m\u001b[0;34m\u001b[0m\u001b[0;34m\u001b[0m\u001b[0m\n\u001b[1;32m      4\u001b[0m     \u001b[0moverlap\u001b[0m\u001b[0;34m.\u001b[0m\u001b[0mclique_percolation_method\u001b[0m\u001b[0;34m(\u001b[0m\u001b[0;34m)\u001b[0m\u001b[0;34m\u001b[0m\u001b[0;34m\u001b[0m\u001b[0m\n\u001b[0;32m----> 5\u001b[0;31m     \u001b[0moverlap\u001b[0m\u001b[0;34m.\u001b[0m\u001b[0mcheck_spread_topics\u001b[0m\u001b[0;34m(\u001b[0m\u001b[0;34m)\u001b[0m\u001b[0;34m\u001b[0m\u001b[0;34m\u001b[0m\u001b[0m\n\u001b[0m\u001b[1;32m      6\u001b[0m     \u001b[0moverlap\u001b[0m\u001b[0;34m.\u001b[0m\u001b[0mcheck_number_topics\u001b[0m\u001b[0;34m(\u001b[0m\u001b[0;34m)\u001b[0m\u001b[0;34m\u001b[0m\u001b[0;34m\u001b[0m\u001b[0m\n\u001b[1;32m      7\u001b[0m     \u001b[0;32mreturn\u001b[0m \u001b[0moverlap\u001b[0m\u001b[0;34m.\u001b[0m\u001b[0mget_topics\u001b[0m\u001b[0;34m(\u001b[0m\u001b[0;34m)\u001b[0m\u001b[0;34m\u001b[0m\u001b[0;34m\u001b[0m\u001b[0m\n",
      "\u001b[0;32m~/Universita/magistrale/web_and_social_information_extraction/webandsocial-progetto/src/overlaps_topics/overlap_topics.py\u001b[0m in \u001b[0;36mcheck_spread_topics\u001b[0;34m(self)\u001b[0m\n\u001b[1;32m    156\u001b[0m \u001b[0;34m\u001b[0m\u001b[0m\n\u001b[1;32m    157\u001b[0m         \u001b[0;32mif\u001b[0m \u001b[0msize_iteration\u001b[0m \u001b[0;34m!=\u001b[0m \u001b[0msize_topics\u001b[0m\u001b[0;34m:\u001b[0m\u001b[0;34m\u001b[0m\u001b[0;34m\u001b[0m\u001b[0m\n\u001b[0;32m--> 158\u001b[0;31m             \u001b[0;32mraise\u001b[0m \u001b[0mexcpt\u001b[0m\u001b[0;34m.\u001b[0m\u001b[0mTopicNotAllKeywordsUsedException\u001b[0m\u001b[0;34m(\u001b[0m\u001b[0;34m\"To perfom all topics not all keywords have been used.\"\u001b[0m\u001b[0;34m)\u001b[0m\u001b[0;34m\u001b[0m\u001b[0;34m\u001b[0m\u001b[0m\n\u001b[0m\u001b[1;32m    159\u001b[0m \u001b[0;34m\u001b[0m\u001b[0m\n\u001b[1;32m    160\u001b[0m \u001b[0;34m\u001b[0m\u001b[0m\n",
      "\u001b[0;31mTopicNotAllKeywordsUsedException\u001b[0m: To perfom all topics not all keywords have been used."
     ]
    }
   ],
   "source": [
    "overlap_merge_view_deg_neg(2002, k = 5)"
   ]
  },
  {
   "cell_type": "markdown",
   "metadata": {},
   "source": [
    "### Year 2003 "
   ]
  },
  {
   "cell_type": "code",
   "execution_count": 17,
   "metadata": {},
   "outputs": [
    {
     "ename": "TopicNotAllKeywordsUsedException",
     "evalue": "To perfom all topics not all keywords have been used.",
     "output_type": "error",
     "traceback": [
      "\u001b[0;31m---------------------------------------------------------------------------\u001b[0m",
      "\u001b[0;31mTopicNotAllKeywordsUsedException\u001b[0m          Traceback (most recent call last)",
      "\u001b[0;32m<ipython-input-17-3e0e2fcd4069>\u001b[0m in \u001b[0;36m<module>\u001b[0;34m\u001b[0m\n\u001b[0;32m----> 1\u001b[0;31m \u001b[0moverlap_merge_view_deg\u001b[0m\u001b[0;34m(\u001b[0m\u001b[0;36m2003\u001b[0m\u001b[0;34m,\u001b[0m \u001b[0mk\u001b[0m \u001b[0;34m=\u001b[0m \u001b[0;36m5\u001b[0m\u001b[0;34m)\u001b[0m\u001b[0;34m\u001b[0m\u001b[0;34m\u001b[0m\u001b[0m\n\u001b[0m",
      "\u001b[0;32m<ipython-input-6-644b1e1d3189>\u001b[0m in \u001b[0;36moverlap_merge_view_deg\u001b[0;34m(year, k)\u001b[0m\n\u001b[1;32m      3\u001b[0m     \u001b[0mspread_dict\u001b[0m\u001b[0;34m[\u001b[0m\u001b[0mstr\u001b[0m\u001b[0;34m(\u001b[0m\u001b[0myear\u001b[0m\u001b[0;34m)\u001b[0m\u001b[0;34m]\u001b[0m\u001b[0;34m.\u001b[0m\u001b[0mindipendent_cascade_model\u001b[0m\u001b[0;34m(\u001b[0m\u001b[0;34m)\u001b[0m\u001b[0;34m\u001b[0m\u001b[0;34m\u001b[0m\u001b[0m\n\u001b[1;32m      4\u001b[0m     \u001b[0mcascade_deg\u001b[0m \u001b[0;34m=\u001b[0m \u001b[0mspread_dict\u001b[0m\u001b[0;34m[\u001b[0m\u001b[0mstr\u001b[0m\u001b[0;34m(\u001b[0m\u001b[0myear\u001b[0m\u001b[0;34m)\u001b[0m\u001b[0;34m]\u001b[0m\u001b[0;34m.\u001b[0m\u001b[0mget_influenced_nodes\u001b[0m\u001b[0;34m(\u001b[0m\u001b[0;34m)\u001b[0m\u001b[0;34m\u001b[0m\u001b[0;34m\u001b[0m\u001b[0m\n\u001b[0;32m----> 5\u001b[0;31m     \u001b[0mtopics_deg\u001b[0m \u001b[0;34m=\u001b[0m \u001b[0moverlap_perform\u001b[0m\u001b[0;34m(\u001b[0m\u001b[0myear\u001b[0m\u001b[0;34m,\u001b[0m \u001b[0mcascade_deg\u001b[0m\u001b[0;34m,\u001b[0m \u001b[0mk\u001b[0m\u001b[0;34m)\u001b[0m\u001b[0;34m\u001b[0m\u001b[0;34m\u001b[0m\u001b[0m\n\u001b[0m\u001b[1;32m      6\u001b[0m     \u001b[0mto_print\u001b[0m\u001b[0;34m(\u001b[0m\u001b[0mtopics_deg\u001b[0m\u001b[0;34m,\u001b[0m \u001b[0;34m\"cascade\"\u001b[0m\u001b[0;34m,\u001b[0m \u001b[0mk\u001b[0m\u001b[0;34m,\u001b[0m \u001b[0;34m\"deg\"\u001b[0m\u001b[0;34m)\u001b[0m\u001b[0;34m\u001b[0m\u001b[0;34m\u001b[0m\u001b[0m\n\u001b[1;32m      7\u001b[0m \u001b[0;34m\u001b[0m\u001b[0m\n",
      "\u001b[0;32m<ipython-input-5-60ae7201d3cc>\u001b[0m in \u001b[0;36moverlap_perform\u001b[0;34m(year, all_topics, k)\u001b[0m\n\u001b[1;32m      3\u001b[0m     \u001b[0moverlap\u001b[0m\u001b[0;34m.\u001b[0m\u001b[0moverlap_preprocessing\u001b[0m\u001b[0;34m(\u001b[0m\u001b[0;34m)\u001b[0m\u001b[0;34m\u001b[0m\u001b[0;34m\u001b[0m\u001b[0m\n\u001b[1;32m      4\u001b[0m     \u001b[0moverlap\u001b[0m\u001b[0;34m.\u001b[0m\u001b[0mclique_percolation_method\u001b[0m\u001b[0;34m(\u001b[0m\u001b[0;34m)\u001b[0m\u001b[0;34m\u001b[0m\u001b[0;34m\u001b[0m\u001b[0m\n\u001b[0;32m----> 5\u001b[0;31m     \u001b[0moverlap\u001b[0m\u001b[0;34m.\u001b[0m\u001b[0mcheck_spread_topics\u001b[0m\u001b[0;34m(\u001b[0m\u001b[0;34m)\u001b[0m\u001b[0;34m\u001b[0m\u001b[0;34m\u001b[0m\u001b[0m\n\u001b[0m\u001b[1;32m      6\u001b[0m     \u001b[0moverlap\u001b[0m\u001b[0;34m.\u001b[0m\u001b[0mcheck_number_topics\u001b[0m\u001b[0;34m(\u001b[0m\u001b[0;34m)\u001b[0m\u001b[0;34m\u001b[0m\u001b[0;34m\u001b[0m\u001b[0m\n\u001b[1;32m      7\u001b[0m     \u001b[0;32mreturn\u001b[0m \u001b[0moverlap\u001b[0m\u001b[0;34m.\u001b[0m\u001b[0mget_topics\u001b[0m\u001b[0;34m(\u001b[0m\u001b[0;34m)\u001b[0m\u001b[0;34m\u001b[0m\u001b[0;34m\u001b[0m\u001b[0m\n",
      "\u001b[0;32m~/Universita/magistrale/web_and_social_information_extraction/webandsocial-progetto/src/overlaps_topics/overlap_topics.py\u001b[0m in \u001b[0;36mcheck_spread_topics\u001b[0;34m(self)\u001b[0m\n\u001b[1;32m    156\u001b[0m \u001b[0;34m\u001b[0m\u001b[0m\n\u001b[1;32m    157\u001b[0m         \u001b[0;32mif\u001b[0m \u001b[0msize_iteration\u001b[0m \u001b[0;34m!=\u001b[0m \u001b[0msize_topics\u001b[0m\u001b[0;34m:\u001b[0m\u001b[0;34m\u001b[0m\u001b[0;34m\u001b[0m\u001b[0m\n\u001b[0;32m--> 158\u001b[0;31m             \u001b[0;32mraise\u001b[0m \u001b[0mexcpt\u001b[0m\u001b[0;34m.\u001b[0m\u001b[0mTopicNotAllKeywordsUsedException\u001b[0m\u001b[0;34m(\u001b[0m\u001b[0;34m\"To perfom all topics not all keywords have been used.\"\u001b[0m\u001b[0;34m)\u001b[0m\u001b[0;34m\u001b[0m\u001b[0;34m\u001b[0m\u001b[0m\n\u001b[0m\u001b[1;32m    159\u001b[0m \u001b[0;34m\u001b[0m\u001b[0m\n\u001b[1;32m    160\u001b[0m \u001b[0;34m\u001b[0m\u001b[0m\n",
      "\u001b[0;31mTopicNotAllKeywordsUsedException\u001b[0m: To perfom all topics not all keywords have been used."
     ]
    }
   ],
   "source": [
    "overlap_merge_view_deg(2003, k = 5)"
   ]
  },
  {
   "cell_type": "code",
   "execution_count": 18,
   "metadata": {},
   "outputs": [
    {
     "name": "stdout",
     "output_type": "stream",
     "text": [
      "OVERLAP MERGING RESULT WITH CLIQUE PERCOLATION METHOD, CASCADE MODEL, SEED TOP 5 NODES AND HALF THRESHOLD CALCULATION STRATEGY.\n",
      "\n",
      "['85.40.ls', '87.10.+e', 'global exponential stability', '87.18.sn', '43.80.+p']\n",
      "len_topic: 5\n",
      "\n",
      "['computation', 'grid computing', 'monte carlo method']\n",
      "len_topic: 3\n",
      "\n",
      "['feature vector', 'heuristic', 'algorithm', 'real life', 'pattern recognition', 'first-order predicate', 'really simple discovery', 'scalability']\n",
      "len_topic: 8\n",
      "\n"
     ]
    }
   ],
   "source": [
    "overlap_merge_view_half(2003, k = 5)"
   ]
  },
  {
   "cell_type": "code",
   "execution_count": 19,
   "metadata": {},
   "outputs": [
    {
     "name": "stdout",
     "output_type": "stream",
     "text": [
      "OVERLAP MERGING RESULT WITH CLIQUE PERCOLATION METHOD, CASCADE MODEL, SEED TOP 5 NODES AND DEG NEGATIVE THRESHOLD CALCULATION STRATEGY.\n",
      "\n",
      "['feature vector', 'algorithm', 'first-order predicate', 'really simple discovery', 'singular value decomposition', 'scalability', 'heuristic', 'real life', 'pattern recognition']\n",
      "len_topic: 9\n",
      "\n",
      "['grid computing', 'monte carlo method', 'scheduling (computing)', 'computation', 'random number generation']\n",
      "len_topic: 5\n",
      "\n",
      "['85.40.ls', '87.10.+e', 'sufficient conditions', '87.18.sn', 'recurrent neural networks', 'lyapunov functional', '43.80.+p', 'young inequality', 'global exponential stability', 'neural networks']\n",
      "len_topic: 10\n",
      "\n"
     ]
    }
   ],
   "source": [
    "overlap_merge_view_deg_neg(2003, k = 5)"
   ]
  },
  {
   "cell_type": "markdown",
   "metadata": {},
   "source": [
    "### Year 2004"
   ]
  },
  {
   "cell_type": "code",
   "execution_count": 20,
   "metadata": {},
   "outputs": [
    {
     "name": "stdout",
     "output_type": "stream",
     "text": [
      "OVERLAP MERGING RESULT WITH CLIQUE PERCOLATION METHOD, CASCADE MODEL, SEED TOP 5 NODES AND DEG THRESHOLD CALCULATION STRATEGY.\n",
      "\n",
      "['experiment', 'mathematical optimization', 'particle swarm optimization', 'linear discriminant analysis']\n",
      "len_topic: 4\n",
      "\n",
      "['class', 'ant colony optimization algorithms', 'algorithm', 'rule (guideline)', 'apriori algorithm', 'heuristic', 'real life', 'subgroup a nepoviruses', 'large', 'apache ant (another neat tool)']\n",
      "len_topic: 10\n",
      "\n"
     ]
    }
   ],
   "source": [
    "overlap_merge_view_deg(2004, k = 5)"
   ]
  },
  {
   "cell_type": "code",
   "execution_count": 21,
   "metadata": {},
   "outputs": [
    {
     "name": "stdout",
     "output_type": "stream",
     "text": [
      "OVERLAP MERGING RESULT WITH CLIQUE PERCOLATION METHOD, CASCADE MODEL, SEED TOP 5 NODES AND HALF THRESHOLD CALCULATION STRATEGY.\n",
      "\n",
      "['class', 'ant colony optimization algorithms', 'algorithm', 'biasing', 'rule (guideline)', 'roc curve', 'apriori algorithm', 'heuristic', 'real life', 'reinforcement learning', 'subgroup a nepoviruses', 'large', 'apache ant (another neat tool)', 'stochastic process', 'consortium']\n",
      "len_topic: 15\n",
      "\n",
      "['experiment', 'mathematical optimization', 'benchmark (computing)', 'linear discriminant analysis']\n",
      "len_topic: 4\n",
      "\n"
     ]
    }
   ],
   "source": [
    "overlap_merge_view_half(2004, k = 5)"
   ]
  },
  {
   "cell_type": "code",
   "execution_count": 22,
   "metadata": {},
   "outputs": [
    {
     "name": "stdout",
     "output_type": "stream",
     "text": [
      "OVERLAP MERGING RESULT WITH CLIQUE PERCOLATION METHOD, CASCADE MODEL, SEED TOP 5 NODES AND DEG NEGATIVE THRESHOLD CALCULATION STRATEGY.\n",
      "\n",
      "['experiment', 'mathematical optimization', 'particle swarm optimization', 'benchmark (computing)']\n",
      "len_topic: 4\n",
      "\n",
      "['class', 'algorithm', 'biasing', 'rule (guideline)', 'roc curve', 'apriori algorithm', 'subgroup a nepoviruses', 'heuristic', 'real life', 'ant colony optimization algorithms', 'large', 'stochastic process', 'consortium']\n",
      "len_topic: 13\n",
      "\n"
     ]
    }
   ],
   "source": [
    "overlap_merge_view_deg_neg(2004, k = 5)"
   ]
  },
  {
   "cell_type": "markdown",
   "metadata": {},
   "source": [
    "### Year 2005"
   ]
  },
  {
   "cell_type": "code",
   "execution_count": 23,
   "metadata": {},
   "outputs": [
    {
     "name": "stdout",
     "output_type": "stream",
     "text": [
      "OVERLAP MERGING RESULT WITH CLIQUE PERCOLATION METHOD, CASCADE MODEL, SEED TOP 5 NODES AND DEG THRESHOLD CALCULATION STRATEGY.\n",
      "\n",
      "['global asymptotic stability', 'equilibrium point', 'linear matrix inequality']\n",
      "len_topic: 3\n",
      "\n",
      "['nonuniform lighting conditions', 'visual quality']\n",
      "len_topic: 2\n",
      "\n",
      "['lyapunov fractal', 'activation function', 'artificial neural network', 'neural network simulation']\n",
      "len_topic: 4\n",
      "\n",
      "['global exponential stability', 'cellular neural networks']\n",
      "len_topic: 2\n",
      "\n"
     ]
    }
   ],
   "source": [
    "overlap_merge_view_deg(2005, k = 5)"
   ]
  },
  {
   "cell_type": "code",
   "execution_count": 24,
   "metadata": {},
   "outputs": [
    {
     "name": "stdout",
     "output_type": "stream",
     "text": [
      "OVERLAP MERGING RESULT WITH CLIQUE PERCOLATION METHOD, CASCADE MODEL, SEED TOP 5 NODES AND HALF THRESHOLD CALCULATION STRATEGY.\n",
      "\n",
      "['lyapunov fractal', 'activation function', 'artificial neural network', 'neural network simulation']\n",
      "len_topic: 4\n",
      "\n",
      "['equilibrium point', 'linear matrix inequality']\n",
      "len_topic: 2\n",
      "\n",
      "['similar way', 'human eyes sensing', 'adaptive enhancement', 'tone frequency components', 'visual quality']\n",
      "len_topic: 5\n",
      "\n",
      "['periodic solutions', 'neural networks', 'global exponential stability']\n",
      "len_topic: 3\n",
      "\n"
     ]
    }
   ],
   "source": [
    "overlap_merge_view_half(2005, k = 5)"
   ]
  },
  {
   "cell_type": "code",
   "execution_count": 25,
   "metadata": {},
   "outputs": [
    {
     "ename": "TopicNotAllKeywordsUsedException",
     "evalue": "To perfom all topics not all keywords have been used.",
     "output_type": "error",
     "traceback": [
      "\u001b[0;31m---------------------------------------------------------------------------\u001b[0m",
      "\u001b[0;31mTopicNotAllKeywordsUsedException\u001b[0m          Traceback (most recent call last)",
      "\u001b[0;32m<ipython-input-25-40a57bbaae41>\u001b[0m in \u001b[0;36m<module>\u001b[0;34m\u001b[0m\n\u001b[0;32m----> 1\u001b[0;31m \u001b[0moverlap_merge_view_deg_neg\u001b[0m\u001b[0;34m(\u001b[0m\u001b[0;36m2005\u001b[0m\u001b[0;34m,\u001b[0m \u001b[0mk\u001b[0m \u001b[0;34m=\u001b[0m \u001b[0;36m5\u001b[0m\u001b[0;34m)\u001b[0m\u001b[0;34m\u001b[0m\u001b[0;34m\u001b[0m\u001b[0m\n\u001b[0m",
      "\u001b[0;32m<ipython-input-6-644b1e1d3189>\u001b[0m in \u001b[0;36moverlap_merge_view_deg_neg\u001b[0;34m(year, k)\u001b[0m\n\u001b[1;32m     19\u001b[0m     \u001b[0mspread_dict\u001b[0m\u001b[0;34m[\u001b[0m\u001b[0mstr\u001b[0m\u001b[0;34m(\u001b[0m\u001b[0myear\u001b[0m\u001b[0;34m)\u001b[0m\u001b[0;34m]\u001b[0m\u001b[0;34m.\u001b[0m\u001b[0mindipendent_cascade_model\u001b[0m\u001b[0;34m(\u001b[0m\u001b[0;34m)\u001b[0m\u001b[0;34m\u001b[0m\u001b[0;34m\u001b[0m\u001b[0m\n\u001b[1;32m     20\u001b[0m     \u001b[0mcascade_deg_neg\u001b[0m \u001b[0;34m=\u001b[0m \u001b[0mspread_dict\u001b[0m\u001b[0;34m[\u001b[0m\u001b[0mstr\u001b[0m\u001b[0;34m(\u001b[0m\u001b[0myear\u001b[0m\u001b[0;34m)\u001b[0m\u001b[0;34m]\u001b[0m\u001b[0;34m.\u001b[0m\u001b[0mget_influenced_nodes\u001b[0m\u001b[0;34m(\u001b[0m\u001b[0;34m)\u001b[0m\u001b[0;34m\u001b[0m\u001b[0;34m\u001b[0m\u001b[0m\n\u001b[0;32m---> 21\u001b[0;31m     \u001b[0mtopics_deg_neg\u001b[0m \u001b[0;34m=\u001b[0m \u001b[0moverlap_perform\u001b[0m\u001b[0;34m(\u001b[0m\u001b[0myear\u001b[0m\u001b[0;34m,\u001b[0m \u001b[0mcascade_deg_neg\u001b[0m\u001b[0;34m,\u001b[0m \u001b[0mk\u001b[0m\u001b[0;34m)\u001b[0m\u001b[0;34m\u001b[0m\u001b[0;34m\u001b[0m\u001b[0m\n\u001b[0m\u001b[1;32m     22\u001b[0m     \u001b[0mto_print\u001b[0m\u001b[0;34m(\u001b[0m\u001b[0mtopics_deg_neg\u001b[0m\u001b[0;34m,\u001b[0m \u001b[0;34m\"cascade\"\u001b[0m\u001b[0;34m,\u001b[0m \u001b[0mk\u001b[0m\u001b[0;34m,\u001b[0m \u001b[0;34m\"deg negative\"\u001b[0m\u001b[0;34m)\u001b[0m\u001b[0;34m\u001b[0m\u001b[0;34m\u001b[0m\u001b[0m\n",
      "\u001b[0;32m<ipython-input-5-60ae7201d3cc>\u001b[0m in \u001b[0;36moverlap_perform\u001b[0;34m(year, all_topics, k)\u001b[0m\n\u001b[1;32m      3\u001b[0m     \u001b[0moverlap\u001b[0m\u001b[0;34m.\u001b[0m\u001b[0moverlap_preprocessing\u001b[0m\u001b[0;34m(\u001b[0m\u001b[0;34m)\u001b[0m\u001b[0;34m\u001b[0m\u001b[0;34m\u001b[0m\u001b[0m\n\u001b[1;32m      4\u001b[0m     \u001b[0moverlap\u001b[0m\u001b[0;34m.\u001b[0m\u001b[0mclique_percolation_method\u001b[0m\u001b[0;34m(\u001b[0m\u001b[0;34m)\u001b[0m\u001b[0;34m\u001b[0m\u001b[0;34m\u001b[0m\u001b[0m\n\u001b[0;32m----> 5\u001b[0;31m     \u001b[0moverlap\u001b[0m\u001b[0;34m.\u001b[0m\u001b[0mcheck_spread_topics\u001b[0m\u001b[0;34m(\u001b[0m\u001b[0;34m)\u001b[0m\u001b[0;34m\u001b[0m\u001b[0;34m\u001b[0m\u001b[0m\n\u001b[0m\u001b[1;32m      6\u001b[0m     \u001b[0moverlap\u001b[0m\u001b[0;34m.\u001b[0m\u001b[0mcheck_number_topics\u001b[0m\u001b[0;34m(\u001b[0m\u001b[0;34m)\u001b[0m\u001b[0;34m\u001b[0m\u001b[0;34m\u001b[0m\u001b[0m\n\u001b[1;32m      7\u001b[0m     \u001b[0;32mreturn\u001b[0m \u001b[0moverlap\u001b[0m\u001b[0;34m.\u001b[0m\u001b[0mget_topics\u001b[0m\u001b[0;34m(\u001b[0m\u001b[0;34m)\u001b[0m\u001b[0;34m\u001b[0m\u001b[0;34m\u001b[0m\u001b[0m\n",
      "\u001b[0;32m~/Universita/magistrale/web_and_social_information_extraction/webandsocial-progetto/src/overlaps_topics/overlap_topics.py\u001b[0m in \u001b[0;36mcheck_spread_topics\u001b[0;34m(self)\u001b[0m\n\u001b[1;32m    156\u001b[0m \u001b[0;34m\u001b[0m\u001b[0m\n\u001b[1;32m    157\u001b[0m         \u001b[0;32mif\u001b[0m \u001b[0msize_iteration\u001b[0m \u001b[0;34m!=\u001b[0m \u001b[0msize_topics\u001b[0m\u001b[0;34m:\u001b[0m\u001b[0;34m\u001b[0m\u001b[0;34m\u001b[0m\u001b[0m\n\u001b[0;32m--> 158\u001b[0;31m             \u001b[0;32mraise\u001b[0m \u001b[0mexcpt\u001b[0m\u001b[0;34m.\u001b[0m\u001b[0mTopicNotAllKeywordsUsedException\u001b[0m\u001b[0;34m(\u001b[0m\u001b[0;34m\"To perfom all topics not all keywords have been used.\"\u001b[0m\u001b[0;34m)\u001b[0m\u001b[0;34m\u001b[0m\u001b[0;34m\u001b[0m\u001b[0m\n\u001b[0m\u001b[1;32m    159\u001b[0m \u001b[0;34m\u001b[0m\u001b[0m\n\u001b[1;32m    160\u001b[0m \u001b[0;34m\u001b[0m\u001b[0m\n",
      "\u001b[0;31mTopicNotAllKeywordsUsedException\u001b[0m: To perfom all topics not all keywords have been used."
     ]
    }
   ],
   "source": [
    "overlap_merge_view_deg_neg(2005, k = 5)"
   ]
  },
  {
   "cell_type": "markdown",
   "metadata": {},
   "source": [
    "### Year 2006"
   ]
  },
  {
   "cell_type": "code",
   "execution_count": 26,
   "metadata": {},
   "outputs": [
    {
     "ename": "TopicNotAllKeywordsUsedException",
     "evalue": "To perfom all topics not all keywords have been used.",
     "output_type": "error",
     "traceback": [
      "\u001b[0;31m---------------------------------------------------------------------------\u001b[0m",
      "\u001b[0;31mTopicNotAllKeywordsUsedException\u001b[0m          Traceback (most recent call last)",
      "\u001b[0;32m<ipython-input-26-93685bfcfdb6>\u001b[0m in \u001b[0;36m<module>\u001b[0;34m\u001b[0m\n\u001b[0;32m----> 1\u001b[0;31m \u001b[0moverlap_merge_view_deg\u001b[0m\u001b[0;34m(\u001b[0m\u001b[0;36m2006\u001b[0m\u001b[0;34m,\u001b[0m \u001b[0mk\u001b[0m \u001b[0;34m=\u001b[0m \u001b[0;36m5\u001b[0m\u001b[0;34m)\u001b[0m\u001b[0;34m\u001b[0m\u001b[0;34m\u001b[0m\u001b[0m\n\u001b[0m",
      "\u001b[0;32m<ipython-input-6-644b1e1d3189>\u001b[0m in \u001b[0;36moverlap_merge_view_deg\u001b[0;34m(year, k)\u001b[0m\n\u001b[1;32m      3\u001b[0m     \u001b[0mspread_dict\u001b[0m\u001b[0;34m[\u001b[0m\u001b[0mstr\u001b[0m\u001b[0;34m(\u001b[0m\u001b[0myear\u001b[0m\u001b[0;34m)\u001b[0m\u001b[0;34m]\u001b[0m\u001b[0;34m.\u001b[0m\u001b[0mindipendent_cascade_model\u001b[0m\u001b[0;34m(\u001b[0m\u001b[0;34m)\u001b[0m\u001b[0;34m\u001b[0m\u001b[0;34m\u001b[0m\u001b[0m\n\u001b[1;32m      4\u001b[0m     \u001b[0mcascade_deg\u001b[0m \u001b[0;34m=\u001b[0m \u001b[0mspread_dict\u001b[0m\u001b[0;34m[\u001b[0m\u001b[0mstr\u001b[0m\u001b[0;34m(\u001b[0m\u001b[0myear\u001b[0m\u001b[0;34m)\u001b[0m\u001b[0;34m]\u001b[0m\u001b[0;34m.\u001b[0m\u001b[0mget_influenced_nodes\u001b[0m\u001b[0;34m(\u001b[0m\u001b[0;34m)\u001b[0m\u001b[0;34m\u001b[0m\u001b[0;34m\u001b[0m\u001b[0m\n\u001b[0;32m----> 5\u001b[0;31m     \u001b[0mtopics_deg\u001b[0m \u001b[0;34m=\u001b[0m \u001b[0moverlap_perform\u001b[0m\u001b[0;34m(\u001b[0m\u001b[0myear\u001b[0m\u001b[0;34m,\u001b[0m \u001b[0mcascade_deg\u001b[0m\u001b[0;34m,\u001b[0m \u001b[0mk\u001b[0m\u001b[0;34m)\u001b[0m\u001b[0;34m\u001b[0m\u001b[0;34m\u001b[0m\u001b[0m\n\u001b[0m\u001b[1;32m      6\u001b[0m     \u001b[0mto_print\u001b[0m\u001b[0;34m(\u001b[0m\u001b[0mtopics_deg\u001b[0m\u001b[0;34m,\u001b[0m \u001b[0;34m\"cascade\"\u001b[0m\u001b[0;34m,\u001b[0m \u001b[0mk\u001b[0m\u001b[0;34m,\u001b[0m \u001b[0;34m\"deg\"\u001b[0m\u001b[0;34m)\u001b[0m\u001b[0;34m\u001b[0m\u001b[0;34m\u001b[0m\u001b[0m\n\u001b[1;32m      7\u001b[0m \u001b[0;34m\u001b[0m\u001b[0m\n",
      "\u001b[0;32m<ipython-input-5-60ae7201d3cc>\u001b[0m in \u001b[0;36moverlap_perform\u001b[0;34m(year, all_topics, k)\u001b[0m\n\u001b[1;32m      3\u001b[0m     \u001b[0moverlap\u001b[0m\u001b[0;34m.\u001b[0m\u001b[0moverlap_preprocessing\u001b[0m\u001b[0;34m(\u001b[0m\u001b[0;34m)\u001b[0m\u001b[0;34m\u001b[0m\u001b[0;34m\u001b[0m\u001b[0m\n\u001b[1;32m      4\u001b[0m     \u001b[0moverlap\u001b[0m\u001b[0;34m.\u001b[0m\u001b[0mclique_percolation_method\u001b[0m\u001b[0;34m(\u001b[0m\u001b[0;34m)\u001b[0m\u001b[0;34m\u001b[0m\u001b[0;34m\u001b[0m\u001b[0m\n\u001b[0;32m----> 5\u001b[0;31m     \u001b[0moverlap\u001b[0m\u001b[0;34m.\u001b[0m\u001b[0mcheck_spread_topics\u001b[0m\u001b[0;34m(\u001b[0m\u001b[0;34m)\u001b[0m\u001b[0;34m\u001b[0m\u001b[0;34m\u001b[0m\u001b[0m\n\u001b[0m\u001b[1;32m      6\u001b[0m     \u001b[0moverlap\u001b[0m\u001b[0;34m.\u001b[0m\u001b[0mcheck_number_topics\u001b[0m\u001b[0;34m(\u001b[0m\u001b[0;34m)\u001b[0m\u001b[0;34m\u001b[0m\u001b[0;34m\u001b[0m\u001b[0m\n\u001b[1;32m      7\u001b[0m     \u001b[0;32mreturn\u001b[0m \u001b[0moverlap\u001b[0m\u001b[0;34m.\u001b[0m\u001b[0mget_topics\u001b[0m\u001b[0;34m(\u001b[0m\u001b[0;34m)\u001b[0m\u001b[0;34m\u001b[0m\u001b[0;34m\u001b[0m\u001b[0m\n",
      "\u001b[0;32m~/Universita/magistrale/web_and_social_information_extraction/webandsocial-progetto/src/overlaps_topics/overlap_topics.py\u001b[0m in \u001b[0;36mcheck_spread_topics\u001b[0;34m(self)\u001b[0m\n\u001b[1;32m    156\u001b[0m \u001b[0;34m\u001b[0m\u001b[0m\n\u001b[1;32m    157\u001b[0m         \u001b[0;32mif\u001b[0m \u001b[0msize_iteration\u001b[0m \u001b[0;34m!=\u001b[0m \u001b[0msize_topics\u001b[0m\u001b[0;34m:\u001b[0m\u001b[0;34m\u001b[0m\u001b[0;34m\u001b[0m\u001b[0m\n\u001b[0;32m--> 158\u001b[0;31m             \u001b[0;32mraise\u001b[0m \u001b[0mexcpt\u001b[0m\u001b[0;34m.\u001b[0m\u001b[0mTopicNotAllKeywordsUsedException\u001b[0m\u001b[0;34m(\u001b[0m\u001b[0;34m\"To perfom all topics not all keywords have been used.\"\u001b[0m\u001b[0;34m)\u001b[0m\u001b[0;34m\u001b[0m\u001b[0;34m\u001b[0m\u001b[0m\n\u001b[0m\u001b[1;32m    159\u001b[0m \u001b[0;34m\u001b[0m\u001b[0m\n\u001b[1;32m    160\u001b[0m \u001b[0;34m\u001b[0m\u001b[0m\n",
      "\u001b[0;31mTopicNotAllKeywordsUsedException\u001b[0m: To perfom all topics not all keywords have been used."
     ]
    }
   ],
   "source": [
    "overlap_merge_view_deg(2006, k = 5)"
   ]
  },
  {
   "cell_type": "code",
   "execution_count": 27,
   "metadata": {},
   "outputs": [
    {
     "name": "stdout",
     "output_type": "stream",
     "text": [
      "OVERLAP MERGING RESULT WITH CLIQUE PERCOLATION METHOD, CASCADE MODEL, SEED TOP 5 NODES AND HALF THRESHOLD CALCULATION STRATEGY.\n",
      "\n",
      "['numerical analysis', 'periodic solution', 'uncertain systems', 'global asymptotic stability', 'experiment', 'variational principle', 'linear matrix inequality', 'discrete and distributed delays', 'gradient', 'computation', 'hessian', 'stochastic systems', 'lyapunov–krasovskii functional', 'global exponential stability', 'hopfield neural networks', 'neural networks', 'time-varying delays', 'time delays']\n",
      "len_topic: 18\n",
      "\n",
      "['quantum', 'algorithm', 'particle swarm optimization', 'optimization problem']\n",
      "len_topic: 4\n",
      "\n"
     ]
    }
   ],
   "source": [
    "overlap_merge_view_half(2006, k = 5)"
   ]
  },
  {
   "cell_type": "code",
   "execution_count": 28,
   "metadata": {},
   "outputs": [
    {
     "name": "stdout",
     "output_type": "stream",
     "text": [
      "OVERLAP MERGING RESULT WITH CLIQUE PERCOLATION METHOD, CASCADE MODEL, SEED TOP 5 NODES AND DEG NEGATIVE THRESHOLD CALCULATION STRATEGY.\n",
      "\n",
      "['discrete delays', 'numerical analysis', 'experiment', 'global asymptotic stability', 'linear matrix inequality', 'linear discriminant analysis', 'machine learning', 'lyapunov fractal', 'distributed delays', 'lyapunov–krasovskii functional', 'global exponential stability', 'artificial neural network', 'quantum', 'neural networks', 'time delays', 'periodic solution', 'uncertain systems', 'computationally efficient', 'variational principle', 'algorithm', 'discrete and distributed delays', 'sufficient conditions', 'computation', 'hessian', 'stochastic systems', 'hopfield neural networks', 'optimization problem', 'particle swarm optimization', 'gradient', 'time-varying delays']\n",
      "len_topic: 30\n",
      "\n"
     ]
    }
   ],
   "source": [
    "overlap_merge_view_deg_neg(2006, k = 5)"
   ]
  },
  {
   "cell_type": "markdown",
   "metadata": {},
   "source": [
    "### Year 2007"
   ]
  },
  {
   "cell_type": "code",
   "execution_count": 29,
   "metadata": {},
   "outputs": [
    {
     "name": "stdout",
     "output_type": "stream",
     "text": [
      "OVERLAP MERGING RESULT WITH CLIQUE PERCOLATION METHOD, CASCADE MODEL, SEED TOP 5 NODES AND DEG THRESHOLD CALCULATION STRATEGY.\n",
      "\n",
      "['numerical analysis', 'mathematical optimization']\n",
      "len_topic: 2\n",
      "\n",
      "['bidirectional associative memory neural networks', 'linear matrix inequality', 'neural network simulation', 'lyapunov functional', 'bidirectional associative memory', 'content-addressable memory', 'distributed delays', 'artificial neural network', 'synchronization', 'chaos', 'time-varying delays']\n",
      "len_topic: 11\n",
      "\n"
     ]
    }
   ],
   "source": [
    "overlap_merge_view_deg(2007, k = 5)"
   ]
  },
  {
   "cell_type": "code",
   "execution_count": 30,
   "metadata": {},
   "outputs": [
    {
     "name": "stdout",
     "output_type": "stream",
     "text": [
      "OVERLAP MERGING RESULT WITH CLIQUE PERCOLATION METHOD, CASCADE MODEL, SEED TOP 5 NODES AND HALF THRESHOLD CALCULATION STRATEGY.\n",
      "\n",
      "['numerical analysis', 'velocity (software development)', 'particle swarm optimization', 'evolutionary algorithm', 'mathematical optimization']\n",
      "len_topic: 5\n",
      "\n",
      "['linear matrix inequality', 'neural network simulation', 'lyapunov functional', 'cohen–grossberg neural networks', 'social inequality', 'bidirectional associative memory', 'lyapunov fractal', 'content-addressable memory', 'lyapunov–krasovskii functional', 'artificial neural network', 'lag synchronization', 'synchronization', 'chaos', 'time-varying delays']\n",
      "len_topic: 14\n",
      "\n"
     ]
    }
   ],
   "source": [
    "overlap_merge_view_half(2007, k = 5)"
   ]
  },
  {
   "cell_type": "code",
   "execution_count": 31,
   "metadata": {},
   "outputs": [
    {
     "name": "stdout",
     "output_type": "stream",
     "text": [
      "OVERLAP MERGING RESULT WITH CLIQUE PERCOLATION METHOD, CASCADE MODEL, SEED TOP 5 NODES AND DEG NEGATIVE THRESHOLD CALCULATION STRATEGY.\n",
      "\n",
      "['numerical analysis', 'velocity (software development)', 'particle swarm optimization', 'evolutionary algorithm', 'mathematical optimization']\n",
      "len_topic: 5\n",
      "\n",
      "['bidirectional associative memory neural networks', 'linear matrix inequality', 'neural network simulation', 'lyapunov functional', 'rate of convergence', 'cohen–grossberg neural networks', 'social inequality', 'bidirectional associative memory', 'lyapunov fractal', 'content-addressable memory', 'distributed delays', 'artificial neural network', 'lyapunov–krasovskii functional', 'time-varying delays']\n",
      "len_topic: 14\n",
      "\n"
     ]
    }
   ],
   "source": [
    "overlap_merge_view_deg_neg(2007, k = 5)"
   ]
  },
  {
   "cell_type": "markdown",
   "metadata": {},
   "source": [
    "### Year 2008"
   ]
  },
  {
   "cell_type": "code",
   "execution_count": 32,
   "metadata": {},
   "outputs": [
    {
     "name": "stdout",
     "output_type": "stream",
     "text": [
      "OVERLAP MERGING RESULT WITH CLIQUE PERCOLATION METHOD, CASCADE MODEL, SEED TOP 5 NODES AND DEG THRESHOLD CALCULATION STRATEGY.\n",
      "\n",
      "['systems architecture', 'ici (programming language)', 'signal-to-interference-plus-noise ratio', 'interference (communication)', 'multi-user']\n",
      "len_topic: 5\n",
      "\n",
      "['linear matrix inequality', 'mathematical optimization', 'social inequality', 'lyapunov fractal', 'biological neural networks', 'artificial neural network', 'neural networks']\n",
      "len_topic: 7\n",
      "\n"
     ]
    }
   ],
   "source": [
    "overlap_merge_view_deg(2008, k = 5)"
   ]
  },
  {
   "cell_type": "code",
   "execution_count": 33,
   "metadata": {},
   "outputs": [
    {
     "name": "stdout",
     "output_type": "stream",
     "text": [
      "OVERLAP MERGING RESULT WITH CLIQUE PERCOLATION METHOD, CASCADE MODEL, SEED TOP 5 NODES AND HALF THRESHOLD CALCULATION STRATEGY.\n",
      "\n",
      "['throughput', 'systems architecture', 'algorithm', 'user interface', 'relay', 'ici (programming language)', 'signal-to-interference-plus-noise ratio', 'interference (communication)', 'multi-user']\n",
      "len_topic: 9\n",
      "\n",
      "['numerical analysis', 'exponential', 'global asymptotic stability', 'lyapunov method', 'linear matrix inequality', 'unbounded distributed delays', 'rate of convergence', 'mathematical optimization', 'social inequality', 'biological neural networks', 'lyapunov fractal', 'lyapunov–krasovskii functional', 'artificial neural network', 'neural networks']\n",
      "len_topic: 14\n",
      "\n"
     ]
    }
   ],
   "source": [
    "overlap_merge_view_half(2008, k = 5)"
   ]
  },
  {
   "cell_type": "code",
   "execution_count": 34,
   "metadata": {},
   "outputs": [
    {
     "name": "stdout",
     "output_type": "stream",
     "text": [
      "OVERLAP MERGING RESULT WITH CLIQUE PERCOLATION METHOD, CASCADE MODEL, SEED TOP 5 NODES AND DEG NEGATIVE THRESHOLD CALCULATION STRATEGY.\n",
      "\n",
      "['throughput', 'systems architecture', 'algorithm', 'user interface', 'relay', 'computation', 'ici (programming language)', 'signal-to-interference-plus-noise ratio', 'simulation', 'interference (communication)', 'cognitive radio', 'multi-user']\n",
      "len_topic: 12\n",
      "\n",
      "['numerical analysis', 'exponential', 'global asymptotic stability', 'lyapunov method', 'linear matrix inequality', 'unbounded distributed delays', 'rate of convergence', 'mathematical optimization', 'social inequality', 'varying delays', 'lyapunov fractal', 'lyapunov–krasovskii functional', 'artificial neural network', 'neural networks']\n",
      "len_topic: 14\n",
      "\n"
     ]
    }
   ],
   "source": [
    "overlap_merge_view_deg_neg(2008, k = 5)"
   ]
  },
  {
   "cell_type": "markdown",
   "metadata": {},
   "source": [
    "### Year 2009"
   ]
  },
  {
   "cell_type": "code",
   "execution_count": 35,
   "metadata": {},
   "outputs": [
    {
     "name": "stdout",
     "output_type": "stream",
     "text": [
      "OVERLAP MERGING RESULT WITH CLIQUE PERCOLATION METHOD, CASCADE MODEL, SEED TOP 5 NODES AND DEG THRESHOLD CALCULATION STRATEGY.\n",
      "\n",
      "['05.45.gg', '05.45.vx']\n",
      "len_topic: 2\n",
      "\n",
      "['global optimization', 'hybrid learning algorithm', 'evolutionary algorithm', 'rate of convergence', 'mathematical optimization', 'differential evolution', 'particle swarm optimization', 'system identifier', 'anfis']\n",
      "len_topic: 9\n",
      "\n",
      "['frequency allocation', 'cognitive radio', 'interference (communication)']\n",
      "len_topic: 3\n",
      "\n"
     ]
    }
   ],
   "source": [
    "overlap_merge_view_deg(2009, k = 5)"
   ]
  },
  {
   "cell_type": "code",
   "execution_count": 36,
   "metadata": {},
   "outputs": [
    {
     "ename": "TopicNotAllKeywordsUsedException",
     "evalue": "To perfom all topics not all keywords have been used.",
     "output_type": "error",
     "traceback": [
      "\u001b[0;31m---------------------------------------------------------------------------\u001b[0m",
      "\u001b[0;31mTopicNotAllKeywordsUsedException\u001b[0m          Traceback (most recent call last)",
      "\u001b[0;32m<ipython-input-36-c045b0c74459>\u001b[0m in \u001b[0;36m<module>\u001b[0;34m\u001b[0m\n\u001b[0;32m----> 1\u001b[0;31m \u001b[0moverlap_merge_view_half\u001b[0m\u001b[0;34m(\u001b[0m\u001b[0;36m2009\u001b[0m\u001b[0;34m,\u001b[0m \u001b[0mk\u001b[0m \u001b[0;34m=\u001b[0m \u001b[0;36m5\u001b[0m\u001b[0;34m)\u001b[0m\u001b[0;34m\u001b[0m\u001b[0;34m\u001b[0m\u001b[0m\n\u001b[0m",
      "\u001b[0;32m<ipython-input-6-644b1e1d3189>\u001b[0m in \u001b[0;36moverlap_merge_view_half\u001b[0;34m(year, k)\u001b[0m\n\u001b[1;32m     11\u001b[0m     \u001b[0mspread_dict\u001b[0m\u001b[0;34m[\u001b[0m\u001b[0mstr\u001b[0m\u001b[0;34m(\u001b[0m\u001b[0myear\u001b[0m\u001b[0;34m)\u001b[0m\u001b[0;34m]\u001b[0m\u001b[0;34m.\u001b[0m\u001b[0mindipendent_cascade_model\u001b[0m\u001b[0;34m(\u001b[0m\u001b[0;34m)\u001b[0m\u001b[0;34m\u001b[0m\u001b[0;34m\u001b[0m\u001b[0m\n\u001b[1;32m     12\u001b[0m     \u001b[0mcascade_half\u001b[0m \u001b[0;34m=\u001b[0m \u001b[0mspread_dict\u001b[0m\u001b[0;34m[\u001b[0m\u001b[0mstr\u001b[0m\u001b[0;34m(\u001b[0m\u001b[0myear\u001b[0m\u001b[0;34m)\u001b[0m\u001b[0;34m]\u001b[0m\u001b[0;34m.\u001b[0m\u001b[0mget_influenced_nodes\u001b[0m\u001b[0;34m(\u001b[0m\u001b[0;34m)\u001b[0m\u001b[0;34m\u001b[0m\u001b[0;34m\u001b[0m\u001b[0m\n\u001b[0;32m---> 13\u001b[0;31m     \u001b[0mtopics_half\u001b[0m \u001b[0;34m=\u001b[0m \u001b[0moverlap_perform\u001b[0m\u001b[0;34m(\u001b[0m\u001b[0myear\u001b[0m\u001b[0;34m,\u001b[0m \u001b[0mcascade_half\u001b[0m\u001b[0;34m,\u001b[0m \u001b[0mk\u001b[0m\u001b[0;34m)\u001b[0m\u001b[0;34m\u001b[0m\u001b[0;34m\u001b[0m\u001b[0m\n\u001b[0m\u001b[1;32m     14\u001b[0m     \u001b[0mto_print\u001b[0m\u001b[0;34m(\u001b[0m\u001b[0mtopics_half\u001b[0m\u001b[0;34m,\u001b[0m \u001b[0;34m\"cascade\"\u001b[0m\u001b[0;34m,\u001b[0m \u001b[0mk\u001b[0m\u001b[0;34m,\u001b[0m \u001b[0;34m\"half\"\u001b[0m\u001b[0;34m)\u001b[0m\u001b[0;34m\u001b[0m\u001b[0;34m\u001b[0m\u001b[0m\n\u001b[1;32m     15\u001b[0m \u001b[0;34m\u001b[0m\u001b[0m\n",
      "\u001b[0;32m<ipython-input-5-60ae7201d3cc>\u001b[0m in \u001b[0;36moverlap_perform\u001b[0;34m(year, all_topics, k)\u001b[0m\n\u001b[1;32m      3\u001b[0m     \u001b[0moverlap\u001b[0m\u001b[0;34m.\u001b[0m\u001b[0moverlap_preprocessing\u001b[0m\u001b[0;34m(\u001b[0m\u001b[0;34m)\u001b[0m\u001b[0;34m\u001b[0m\u001b[0;34m\u001b[0m\u001b[0m\n\u001b[1;32m      4\u001b[0m     \u001b[0moverlap\u001b[0m\u001b[0;34m.\u001b[0m\u001b[0mclique_percolation_method\u001b[0m\u001b[0;34m(\u001b[0m\u001b[0;34m)\u001b[0m\u001b[0;34m\u001b[0m\u001b[0;34m\u001b[0m\u001b[0m\n\u001b[0;32m----> 5\u001b[0;31m     \u001b[0moverlap\u001b[0m\u001b[0;34m.\u001b[0m\u001b[0mcheck_spread_topics\u001b[0m\u001b[0;34m(\u001b[0m\u001b[0;34m)\u001b[0m\u001b[0;34m\u001b[0m\u001b[0;34m\u001b[0m\u001b[0m\n\u001b[0m\u001b[1;32m      6\u001b[0m     \u001b[0moverlap\u001b[0m\u001b[0;34m.\u001b[0m\u001b[0mcheck_number_topics\u001b[0m\u001b[0;34m(\u001b[0m\u001b[0;34m)\u001b[0m\u001b[0;34m\u001b[0m\u001b[0;34m\u001b[0m\u001b[0m\n\u001b[1;32m      7\u001b[0m     \u001b[0;32mreturn\u001b[0m \u001b[0moverlap\u001b[0m\u001b[0;34m.\u001b[0m\u001b[0mget_topics\u001b[0m\u001b[0;34m(\u001b[0m\u001b[0;34m)\u001b[0m\u001b[0;34m\u001b[0m\u001b[0;34m\u001b[0m\u001b[0m\n",
      "\u001b[0;32m~/Universita/magistrale/web_and_social_information_extraction/webandsocial-progetto/src/overlaps_topics/overlap_topics.py\u001b[0m in \u001b[0;36mcheck_spread_topics\u001b[0;34m(self)\u001b[0m\n\u001b[1;32m    156\u001b[0m \u001b[0;34m\u001b[0m\u001b[0m\n\u001b[1;32m    157\u001b[0m         \u001b[0;32mif\u001b[0m \u001b[0msize_iteration\u001b[0m \u001b[0;34m!=\u001b[0m \u001b[0msize_topics\u001b[0m\u001b[0;34m:\u001b[0m\u001b[0;34m\u001b[0m\u001b[0;34m\u001b[0m\u001b[0m\n\u001b[0;32m--> 158\u001b[0;31m             \u001b[0;32mraise\u001b[0m \u001b[0mexcpt\u001b[0m\u001b[0;34m.\u001b[0m\u001b[0mTopicNotAllKeywordsUsedException\u001b[0m\u001b[0;34m(\u001b[0m\u001b[0;34m\"To perfom all topics not all keywords have been used.\"\u001b[0m\u001b[0;34m)\u001b[0m\u001b[0;34m\u001b[0m\u001b[0;34m\u001b[0m\u001b[0m\n\u001b[0m\u001b[1;32m    159\u001b[0m \u001b[0;34m\u001b[0m\u001b[0m\n\u001b[1;32m    160\u001b[0m \u001b[0;34m\u001b[0m\u001b[0m\n",
      "\u001b[0;31mTopicNotAllKeywordsUsedException\u001b[0m: To perfom all topics not all keywords have been used."
     ]
    }
   ],
   "source": [
    "overlap_merge_view_half(2009, k = 5)"
   ]
  },
  {
   "cell_type": "code",
   "execution_count": 37,
   "metadata": {},
   "outputs": [
    {
     "name": "stdout",
     "output_type": "stream",
     "text": [
      "OVERLAP MERGING RESULT WITH CLIQUE PERCOLATION METHOD, CASCADE MODEL, SEED TOP 5 NODES AND DEG NEGATIVE THRESHOLD CALCULATION STRATEGY.\n",
      "\n",
      "['05.45.gg', '05.45.vx', '05.45.xt', 'complex networks']\n",
      "len_topic: 4\n",
      "\n",
      "['adaptive neuro fuzzy inference system', 'data mining\\xa0', 'recursion', 'hybrid learning algorithm', 'stability analysis', 'recursive least squares filter', 'differential evolution', 'machine learning', 'lyapunov fractal', 'gradient descent', 'test suite', 'system identifier', 'evolutionary algorithm', 'fuzzy rule', 'anfis', 'identification', 'global optimization', 'algorithm', 'rate of convergence', 'optimization problem', 'mathematical optimization', 'particle swarm optimization', 'simulation']\n",
      "len_topic: 23\n",
      "\n",
      "['cognitive radio', 'interference (communication)']\n",
      "len_topic: 2\n",
      "\n"
     ]
    }
   ],
   "source": [
    "overlap_merge_view_deg_neg(2009, k = 5)"
   ]
  },
  {
   "cell_type": "markdown",
   "metadata": {},
   "source": [
    "### Year 2010"
   ]
  },
  {
   "cell_type": "code",
   "execution_count": 38,
   "metadata": {},
   "outputs": [
    {
     "name": "stdout",
     "output_type": "stream",
     "text": [
      "OVERLAP MERGING RESULT WITH CLIQUE PERCOLATION METHOD, CASCADE MODEL, SEED TOP 5 NODES AND DEG THRESHOLD CALCULATION STRATEGY.\n",
      "\n",
      "['spectrum analyzer', 'numerical analysis', 'algorithm', 'q-learning', 'height above ground level', \"whole earth 'lectronic link\", 'self-organization', 'stationary process', 'reinforcement learning', 'interference (communication)', 'cognitive radio', 'programming paradigm']\n",
      "len_topic: 12\n",
      "\n",
      "['time complexity', 'global asymptotic stability', 'neutral type', 'artificial neural network', 'linear matrix inequality']\n",
      "len_topic: 5\n",
      "\n"
     ]
    }
   ],
   "source": [
    "overlap_merge_view_deg(2010, k = 5)"
   ]
  },
  {
   "cell_type": "code",
   "execution_count": 39,
   "metadata": {},
   "outputs": [
    {
     "name": "stdout",
     "output_type": "stream",
     "text": [
      "OVERLAP MERGING RESULT WITH CLIQUE PERCOLATION METHOD, CASCADE MODEL, SEED TOP 5 NODES AND HALF THRESHOLD CALCULATION STRATEGY.\n",
      "\n",
      "['social inequality', 'lyapunov fractal', 'complex network', 'systems biology', 'linear matrix inequality', 'gene regulatory network']\n",
      "len_topic: 6\n",
      "\n",
      "[\"whole earth 'lectronic link\", 'operating environment', 'real-time clock', 'action selection', 'multi-agent system', 'data mining', 'machine learning', 'overhead (computing)', 'scheduling (computing)', 'interference (communication)', 'self-organization', 'network congestion', 'real-time transcription', 'algorithm', 'q-learning', 'height above ground level', 'cognition', 'stationary process', 'iterative method', 'game theory', 'coexist (image)', 'rate of convergence', 'mathematical optimization', 'centralized computing', 'interaction', 'decision tree', 'reinforcement learning', 'numerous', 'simulation', 'cognitive radio', 'particle swarm optimization', 'context awareness', 'programming paradigm']\n",
      "len_topic: 33\n",
      "\n"
     ]
    }
   ],
   "source": [
    "overlap_merge_view_half(2010, k = 5)"
   ]
  },
  {
   "cell_type": "code",
   "execution_count": 40,
   "metadata": {},
   "outputs": [
    {
     "name": "stdout",
     "output_type": "stream",
     "text": [
      "OVERLAP MERGING RESULT WITH CLIQUE PERCOLATION METHOD, CASCADE MODEL, SEED TOP 5 NODES AND DEG NEGATIVE THRESHOLD CALCULATION STRATEGY.\n",
      "\n",
      "['complex network', 'global asymptotic stability', 'multistability', 'linear matrix inequality', 'genetic regulatory networks', 'lyapunov functional', 'lyapunov fractal', 'lyapunov–krasovskii functional', 'neutral type', 'artificial neural network', 'systems biology', 'neural networks', 'gene regulatory network']\n",
      "len_topic: 13\n",
      "\n",
      "['numerical analysis', \"whole earth 'lectronic link\", 'operating environment', 'real-time clock', 'action selection', 'multi-agent system', 'data mining', 'machine learning', 'overhead (computing)', 'scheduling (computing)', 'interference (communication)', 'self-organization', 'network congestion', 'real-time transcription', 'spectrum analyzer', 'algorithm', 'q-learning', 'height above ground level', 'cognition', 'stationary process', 'iterative method', 'game theory', 'coexist (image)', 'rate of convergence', 'mathematical optimization', 'centralized computing', 'interaction', 'decision tree', 'reinforcement learning', 'numerous', 'simulation', 'cognitive radio', 'particle swarm optimization', 'channel capacity', 'context awareness', 'programming paradigm']\n",
      "len_topic: 36\n",
      "\n"
     ]
    }
   ],
   "source": [
    "overlap_merge_view_deg_neg(2010, k = 5)"
   ]
  },
  {
   "cell_type": "markdown",
   "metadata": {},
   "source": [
    "### Year 2011"
   ]
  },
  {
   "cell_type": "code",
   "execution_count": 41,
   "metadata": {},
   "outputs": [
    {
     "name": "stdout",
     "output_type": "stream",
     "text": [
      "OVERLAP MERGING RESULT WITH CLIQUE PERCOLATION METHOD, CASCADE MODEL, SEED TOP 5 NODES AND DEG THRESHOLD CALCULATION STRATEGY.\n",
      "\n",
      "['cognitive radio', 'telecommunications link', 'interference (communication)']\n",
      "len_topic: 3\n",
      "\n",
      "['mathematical optimization', 'particle swarm optimization', 'plasmon', 's ability']\n",
      "len_topic: 4\n",
      "\n",
      "['numerical analysis', 'lyapunov fractal', 'broadcast delay', 'artificial neural network', 'linear matrix inequality', 'ising model']\n",
      "len_topic: 6\n",
      "\n"
     ]
    }
   ],
   "source": [
    "overlap_merge_view_deg(2011, k = 5)"
   ]
  },
  {
   "cell_type": "code",
   "execution_count": 42,
   "metadata": {},
   "outputs": [
    {
     "name": "stdout",
     "output_type": "stream",
     "text": [
      "OVERLAP MERGING RESULT WITH CLIQUE PERCOLATION METHOD, CASCADE MODEL, SEED TOP 5 NODES AND HALF THRESHOLD CALCULATION STRATEGY.\n",
      "\n",
      "['differential evolution', 'machine learning', 'signal-to-interference-plus-noise ratio', 'multitier architecture', 'interference (communication)', 'software deployment', 'autonomous robot', 'low-power broadcasting', 'algorithm', 'telecommunications link', 'plasmon', 'mathematical optimization', 'centralized computing', 'quality of service', 'interaction', 'reinforcement learning', 'particle swarm optimization', 'simulation', 'cognitive radio', 'fairness measure', 'channel capacity']\n",
      "len_topic: 21\n",
      "\n",
      "['numerical analysis', 'experiment', 'linear matrix inequality', 'impulses', 'neural network simulation', 'convex function', 'broadcast delay', 'ising model', 'nonlinear system', 'social inequality', 'time complexity', 'stochastic neural network', 'lyapunov fractal', 'distributed delays', 'artificial neural network', 'spectral leakage', 'hopfield-type neural networks', 'approximation algorithm', 'hopfield network']\n",
      "len_topic: 19\n",
      "\n"
     ]
    }
   ],
   "source": [
    "overlap_merge_view_half(2011, k = 5)"
   ]
  },
  {
   "cell_type": "code",
   "execution_count": 43,
   "metadata": {},
   "outputs": [
    {
     "name": "stdout",
     "output_type": "stream",
     "text": [
      "OVERLAP MERGING RESULT WITH CLIQUE PERCOLATION METHOD, CASCADE MODEL, SEED TOP 5 NODES AND DEG NEGATIVE THRESHOLD CALCULATION STRATEGY.\n",
      "\n",
      "['experiment', 'linear matrix inequality', 'neural network simulation', 'convex function', 'nonlinear system', 'social inequality', 'differential evolution', 'lyapunov fractal', 'multitier architecture', 'interference (communication)', 'software deployment', 'approximation algorithm', 'evolutionary algorithm', 'low-power broadcasting', 'tree rearrangement', 'plasmon', 'centralized computing', 'reinforcement learning', 'particle swarm optimization', 'cognitive radio', 'channel capacity', 's ability', 'numerical analysis', 'parameter adaptation', 'ising model', 'population diversity', 'machine learning', 'distributed delays', 'signal-to-interference-plus-noise ratio', 'artificial neural network', 'checking (action)', 'synchronization (computer science)', 'exponential', 'autonomous robot', 'hopfield network', 'algorithm', 'telecommunications link', 'impulses', 'broadcast delay', 'stochastic neural network', 'mathematical optimization', 'time complexity', 'quality of service', 'interaction', 'fairness measure', 'simulation', 'spectral leakage', 'hopfield-type neural networks', 'resonance']\n",
      "len_topic: 49\n",
      "\n"
     ]
    }
   ],
   "source": [
    "overlap_merge_view_deg_neg(2011, k = 5)"
   ]
  },
  {
   "cell_type": "markdown",
   "metadata": {},
   "source": [
    "### Year 2012"
   ]
  },
  {
   "cell_type": "code",
   "execution_count": 44,
   "metadata": {},
   "outputs": [
    {
     "ename": "TopicNotAllKeywordsUsedException",
     "evalue": "To perfom all topics not all keywords have been used.",
     "output_type": "error",
     "traceback": [
      "\u001b[0;31m---------------------------------------------------------------------------\u001b[0m",
      "\u001b[0;31mTopicNotAllKeywordsUsedException\u001b[0m          Traceback (most recent call last)",
      "\u001b[0;32m<ipython-input-44-b47478f93c4d>\u001b[0m in \u001b[0;36m<module>\u001b[0;34m\u001b[0m\n\u001b[0;32m----> 1\u001b[0;31m \u001b[0moverlap_merge_view_deg\u001b[0m\u001b[0;34m(\u001b[0m\u001b[0;36m2012\u001b[0m\u001b[0;34m,\u001b[0m \u001b[0mk\u001b[0m \u001b[0;34m=\u001b[0m \u001b[0;36m5\u001b[0m\u001b[0;34m)\u001b[0m\u001b[0;34m\u001b[0m\u001b[0;34m\u001b[0m\u001b[0m\n\u001b[0m",
      "\u001b[0;32m<ipython-input-6-644b1e1d3189>\u001b[0m in \u001b[0;36moverlap_merge_view_deg\u001b[0;34m(year, k)\u001b[0m\n\u001b[1;32m      3\u001b[0m     \u001b[0mspread_dict\u001b[0m\u001b[0;34m[\u001b[0m\u001b[0mstr\u001b[0m\u001b[0;34m(\u001b[0m\u001b[0myear\u001b[0m\u001b[0;34m)\u001b[0m\u001b[0;34m]\u001b[0m\u001b[0;34m.\u001b[0m\u001b[0mindipendent_cascade_model\u001b[0m\u001b[0;34m(\u001b[0m\u001b[0;34m)\u001b[0m\u001b[0;34m\u001b[0m\u001b[0;34m\u001b[0m\u001b[0m\n\u001b[1;32m      4\u001b[0m     \u001b[0mcascade_deg\u001b[0m \u001b[0;34m=\u001b[0m \u001b[0mspread_dict\u001b[0m\u001b[0;34m[\u001b[0m\u001b[0mstr\u001b[0m\u001b[0;34m(\u001b[0m\u001b[0myear\u001b[0m\u001b[0;34m)\u001b[0m\u001b[0;34m]\u001b[0m\u001b[0;34m.\u001b[0m\u001b[0mget_influenced_nodes\u001b[0m\u001b[0;34m(\u001b[0m\u001b[0;34m)\u001b[0m\u001b[0;34m\u001b[0m\u001b[0;34m\u001b[0m\u001b[0m\n\u001b[0;32m----> 5\u001b[0;31m     \u001b[0mtopics_deg\u001b[0m \u001b[0;34m=\u001b[0m \u001b[0moverlap_perform\u001b[0m\u001b[0;34m(\u001b[0m\u001b[0myear\u001b[0m\u001b[0;34m,\u001b[0m \u001b[0mcascade_deg\u001b[0m\u001b[0;34m,\u001b[0m \u001b[0mk\u001b[0m\u001b[0;34m)\u001b[0m\u001b[0;34m\u001b[0m\u001b[0;34m\u001b[0m\u001b[0m\n\u001b[0m\u001b[1;32m      6\u001b[0m     \u001b[0mto_print\u001b[0m\u001b[0;34m(\u001b[0m\u001b[0mtopics_deg\u001b[0m\u001b[0;34m,\u001b[0m \u001b[0;34m\"cascade\"\u001b[0m\u001b[0;34m,\u001b[0m \u001b[0mk\u001b[0m\u001b[0;34m,\u001b[0m \u001b[0;34m\"deg\"\u001b[0m\u001b[0;34m)\u001b[0m\u001b[0;34m\u001b[0m\u001b[0;34m\u001b[0m\u001b[0m\n\u001b[1;32m      7\u001b[0m \u001b[0;34m\u001b[0m\u001b[0m\n",
      "\u001b[0;32m<ipython-input-5-60ae7201d3cc>\u001b[0m in \u001b[0;36moverlap_perform\u001b[0;34m(year, all_topics, k)\u001b[0m\n\u001b[1;32m      3\u001b[0m     \u001b[0moverlap\u001b[0m\u001b[0;34m.\u001b[0m\u001b[0moverlap_preprocessing\u001b[0m\u001b[0;34m(\u001b[0m\u001b[0;34m)\u001b[0m\u001b[0;34m\u001b[0m\u001b[0;34m\u001b[0m\u001b[0m\n\u001b[1;32m      4\u001b[0m     \u001b[0moverlap\u001b[0m\u001b[0;34m.\u001b[0m\u001b[0mclique_percolation_method\u001b[0m\u001b[0;34m(\u001b[0m\u001b[0;34m)\u001b[0m\u001b[0;34m\u001b[0m\u001b[0;34m\u001b[0m\u001b[0m\n\u001b[0;32m----> 5\u001b[0;31m     \u001b[0moverlap\u001b[0m\u001b[0;34m.\u001b[0m\u001b[0mcheck_spread_topics\u001b[0m\u001b[0;34m(\u001b[0m\u001b[0;34m)\u001b[0m\u001b[0;34m\u001b[0m\u001b[0;34m\u001b[0m\u001b[0m\n\u001b[0m\u001b[1;32m      6\u001b[0m     \u001b[0moverlap\u001b[0m\u001b[0;34m.\u001b[0m\u001b[0mcheck_number_topics\u001b[0m\u001b[0;34m(\u001b[0m\u001b[0;34m)\u001b[0m\u001b[0;34m\u001b[0m\u001b[0;34m\u001b[0m\u001b[0m\n\u001b[1;32m      7\u001b[0m     \u001b[0;32mreturn\u001b[0m \u001b[0moverlap\u001b[0m\u001b[0;34m.\u001b[0m\u001b[0mget_topics\u001b[0m\u001b[0;34m(\u001b[0m\u001b[0;34m)\u001b[0m\u001b[0;34m\u001b[0m\u001b[0;34m\u001b[0m\u001b[0m\n",
      "\u001b[0;32m~/Universita/magistrale/web_and_social_information_extraction/webandsocial-progetto/src/overlaps_topics/overlap_topics.py\u001b[0m in \u001b[0;36mcheck_spread_topics\u001b[0;34m(self)\u001b[0m\n\u001b[1;32m    156\u001b[0m \u001b[0;34m\u001b[0m\u001b[0m\n\u001b[1;32m    157\u001b[0m         \u001b[0;32mif\u001b[0m \u001b[0msize_iteration\u001b[0m \u001b[0;34m!=\u001b[0m \u001b[0msize_topics\u001b[0m\u001b[0;34m:\u001b[0m\u001b[0;34m\u001b[0m\u001b[0;34m\u001b[0m\u001b[0m\n\u001b[0;32m--> 158\u001b[0;31m             \u001b[0;32mraise\u001b[0m \u001b[0mexcpt\u001b[0m\u001b[0;34m.\u001b[0m\u001b[0mTopicNotAllKeywordsUsedException\u001b[0m\u001b[0;34m(\u001b[0m\u001b[0;34m\"To perfom all topics not all keywords have been used.\"\u001b[0m\u001b[0;34m)\u001b[0m\u001b[0;34m\u001b[0m\u001b[0;34m\u001b[0m\u001b[0m\n\u001b[0m\u001b[1;32m    159\u001b[0m \u001b[0;34m\u001b[0m\u001b[0m\n\u001b[1;32m    160\u001b[0m \u001b[0;34m\u001b[0m\u001b[0m\n",
      "\u001b[0;31mTopicNotAllKeywordsUsedException\u001b[0m: To perfom all topics not all keywords have been used."
     ]
    }
   ],
   "source": [
    "overlap_merge_view_deg(2012, k = 5)"
   ]
  },
  {
   "cell_type": "code",
   "execution_count": 45,
   "metadata": {},
   "outputs": [
    {
     "name": "stdout",
     "output_type": "stream",
     "text": [
      "OVERLAP MERGING RESULT WITH CLIQUE PERCOLATION METHOD, CASCADE MODEL, SEED TOP 5 NODES AND HALF THRESHOLD CALCULATION STRATEGY.\n",
      "\n",
      "['recurrent neural network', 'social inequality', 'overfitting', 'numerical analysis', 'artificial neural network', 'neural network simulation', 'sampling (signal processing)']\n",
      "len_topic: 7\n",
      "\n",
      "['experiment', 'premature convergence', 'frequency band', 'genetic operator', 'receiver operating characteristic', 'fuzzy logic', 'missing data', 'interference (communication)', 'software deployment', 'evolutionary algorithm', 'coexist (image)', 'trees (plant)', 'optimization problem', 'preprocessor', 'reinforcement learning', 'particle swarm optimization', 'supervised learning', 'cognitive radio', 'fuzzy control system', 'expectation–maximization algorithm', 'inference engine', 'deep learning', 'class', 'radio frequency', 'machine learning', 'signal-to-interference-plus-noise ratio', 'autonomous robot', 'cyclostationary process', 'algorithm', 'q-learning', 'telecommunications link', 'cognition', 'gradient', 'computation', 'combinatorial optimization', 'mathematical optimization', 'benchmark (computing)', 'genetic algorithm', 'transmitter', 'simulation', 'sparse matrix', 'knapsack problem']\n",
      "len_topic: 42\n",
      "\n"
     ]
    }
   ],
   "source": [
    "overlap_merge_view_half(2012, k = 5)"
   ]
  },
  {
   "cell_type": "code",
   "execution_count": 46,
   "metadata": {},
   "outputs": [
    {
     "name": "stdout",
     "output_type": "stream",
     "text": [
      "OVERLAP MERGING RESULT WITH CLIQUE PERCOLATION METHOD, CASCADE MODEL, SEED TOP 5 NODES AND DEG NEGATIVE THRESHOLD CALCULATION STRATEGY.\n",
      "\n",
      "['numerical analysis', 'sampling - surgical action', 'linear matrix inequality', 'neural network simulation', 'dropout (neural networks)', 'time complexity', 'social inequality', 'recurrent neural network', 'artificial neural network', 'test data', 'overfitting', 'sampling (signal processing)', 'synchronization (computer science)']\n",
      "len_topic: 13\n",
      "\n",
      "['experiment', 'premature convergence', 'frequency band', 'genetic operator', 'receiver operating characteristic', 'cross-validation (statistics)', 'fuzzy logic', 'missing data', 'interference (communication)', 'software deployment', 'evolutionary algorithm', 'coexist (image)', 'trees (plant)', 'optimization problem', 'preprocessor', 'reinforcement learning', 'fuzzy control system', 'supervised learning', 'cognitive radio', 'particle swarm optimization', 'expectation–maximization algorithm', 'inference engine', 'deep learning', 'class', 'radio frequency', 'data mining', 'machine learning', 'signal-to-interference-plus-noise ratio', 'autonomous robot', 'cyclostationary process', 'algorithm', 'q-learning', 'telecommunications link', 'cognition', 'gradient', 'computation', 'combinatorial optimization', 'benchmark (computing)', 'mathematical optimization', 'genetic algorithm', 'transmitter', 'simulation', 'sparse matrix', 'knapsack problem']\n",
      "len_topic: 44\n",
      "\n"
     ]
    }
   ],
   "source": [
    "overlap_merge_view_deg_neg(2012, k = 5)"
   ]
  },
  {
   "cell_type": "markdown",
   "metadata": {},
   "source": [
    "### Year 2013"
   ]
  },
  {
   "cell_type": "code",
   "execution_count": 47,
   "metadata": {},
   "outputs": [
    {
     "name": "stdout",
     "output_type": "stream",
     "text": [
      "OVERLAP MERGING RESULT WITH CLIQUE PERCOLATION METHOD, CASCADE MODEL, SEED TOP 5 NODES AND DEG THRESHOLD CALCULATION STRATEGY.\n",
      "\n",
      "['throughput', 'artificial bee colony algorithm', 'taguchi methods', 'algorithm', 'neural network simulation', 'recurrent neural networks', 'mathematical optimization', 'recurrent neural network', 'lyapunov fractal', 'simulation', 'artificial neural network', 'manufacturing', 'spectral leakage', 'sampling - surgical action', 'backhaul (telecommunications)', 'deep learning']\n",
      "len_topic: 16\n",
      "\n"
     ]
    }
   ],
   "source": [
    "overlap_merge_view_deg(2013, k = 5)"
   ]
  },
  {
   "cell_type": "code",
   "execution_count": 48,
   "metadata": {},
   "outputs": [
    {
     "name": "stdout",
     "output_type": "stream",
     "text": [
      "OVERLAP MERGING RESULT WITH CLIQUE PERCOLATION METHOD, CASCADE MODEL, SEED TOP 5 NODES AND HALF THRESHOLD CALCULATION STRATEGY.\n",
      "\n",
      "['experiment', 'couplings', 'vertex', 'linear matrix inequality', 'neural network simulation', 'switches', 'convolutional neural network', 'matrix regularization', 'nonlinear system', 'newton–cotes formulas', 'social inequality', 'differential evolution', 'collocation method', 'lyapunov fractal', 'biological neural networks', 'interference (communication)', 'self-organization', 'approximation algorithm', 'convex optimization', 'taguchi methods', 'numerical method', 'duality gap', 'gauss–kronrod quadrature formula', 'quintic function', 'optimization problem', 'dropout (neural networks)', 'reinforcement learning', 'manufacturing', 'block cipher mode of operation', 'particle swarm optimization', 'stochastic process', 'complex networks', 'data synchronization', 'numerical analysis', 'throughput', 'dynamic programming', 'bernoulli polynomials', 'machine learning', 'cell (microprocessor)', 'artificial neural network', 'hybrid optimization', 'coefficient', \"jensen's inequality\", 'frank–wolfe algorithm', 'neural networks', 'synchronization (computer science)', 'probability', 'organizing (structure)', 'algorithm', 'q-learning', 'telecommunications link', 'recurrent neural networks', 'randomness', 'error analysis (mathematics)', 'word embedding', 'programming paradigm', 'mathematical optimization', 'b-spline', 'recurrent neural network', 'algebraic equation', 'stochastic processes', 'iteration', 'simulation', 'mean squared error', 'sampling - surgical action', 'synchronization', 'spectral leakage', 'sampling (signal processing)', 'navier–stokes equations']\n",
      "len_topic: 69\n",
      "\n"
     ]
    }
   ],
   "source": [
    "overlap_merge_view_half(2013, k = 5)"
   ]
  },
  {
   "cell_type": "code",
   "execution_count": 49,
   "metadata": {},
   "outputs": [
    {
     "name": "stdout",
     "output_type": "stream",
     "text": [
      "OVERLAP MERGING RESULT WITH CLIQUE PERCOLATION METHOD, CASCADE MODEL, SEED TOP 5 NODES AND DEG NEGATIVE THRESHOLD CALCULATION STRATEGY.\n",
      "\n",
      "['performance', 'experiment', 'couplings', 'vertex', 'linear matrix inequality', 'neural network simulation', 'switches', 'convolutional neural network', 'matrix regularization', 'newton–cotes formulas', 'nonlinear system', 'social inequality', 'differential evolution', 'collocation method', 'lyapunov fractal', 'biological neural networks', 'state estimation', 'interference (communication)', 'knowledge base', 'self-organization', 'approximation algorithm', 'convex optimization', 'taguchi methods', 'numerical method', 'duality gap', 'gauss–kronrod quadrature formula', 'quintic function', 'optimization problem', 'dropout (neural networks)', 'reinforcement learning', 'manufacturing', 'backhaul (telecommunications)', 'block cipher mode of operation', 'particle swarm optimization', 'stochastic process', 'lessons learned', 'complex networks', 'deep learning', 'throughput', 'numerical analysis', 'data synchronization', 'dynamic programming', 'bernoulli polynomials', 'machine learning', 'cell (microprocessor)', 'artificial neural network', 'hybrid optimization', 'coefficient', 'frank–wolfe algorithm', 'neural networks', 'synchronization (computer science)', 'probability', 'central processing unit', 'complex network', 'organizing (structure)', 'algorithm', 'q-learning', 'telecommunications link', 'recurrent neural networks', 'randomness', 'error analysis (mathematics)', 'word embedding', 'programming paradigm', 'mathematical optimization', 'b-spline', 'recurrent neural network', 'algebraic equation', 'benchmark (computing)', 'stochastic processes', 'iteration', 'simulation', 'mean squared error', 'sampling - surgical action', 'synchronization', 'spectral leakage', 'sampling (signal processing)', 'navier–stokes equations', 'stability']\n",
      "len_topic: 78\n",
      "\n"
     ]
    }
   ],
   "source": [
    "overlap_merge_view_deg_neg(2013, k = 5)"
   ]
  },
  {
   "cell_type": "markdown",
   "metadata": {},
   "source": [
    "### Year 2014"
   ]
  },
  {
   "cell_type": "code",
   "execution_count": 50,
   "metadata": {},
   "outputs": [
    {
     "name": "stdout",
     "output_type": "stream",
     "text": [
      "OVERLAP MERGING RESULT WITH CLIQUE PERCOLATION METHOD, CASCADE MODEL, SEED TOP 5 NODES AND DEG THRESHOLD CALCULATION STRATEGY.\n",
      "\n",
      "['yang liu', 'linear matrix inequality', 'autoencoder', 'random neural network', 'social inequality', 'encoder', 'lyapunov fractal', 'search algorithm', 'mathematics', 'artificial neural network', 'ilya sutskever', 'nicolas boulanger-lewandowski', 'statistical machine translation', 'approximation algorithm', 'activation function', 'noise reduction', 'iterative method', 'oriol vinyals', 'mathematical induction', 'mathematical optimization', 'time complexity', 'kyunghyun cho', 'fuzzy control system', 'simulation', 'mean squared error', 'particle swarm optimization', 'partition function (mathematics)']\n",
      "len_topic: 27\n",
      "\n"
     ]
    }
   ],
   "source": [
    "overlap_merge_view_deg(2014, k = 5)"
   ]
  },
  {
   "cell_type": "code",
   "execution_count": 51,
   "metadata": {},
   "outputs": [
    {
     "name": "stdout",
     "output_type": "stream",
     "text": [
      "OVERLAP MERGING RESULT WITH CLIQUE PERCOLATION METHOD, CASCADE MODEL, SEED TOP 5 NODES AND HALF THRESHOLD CALCULATION STRATEGY.\n",
      "\n",
      "['metaheuristic', 'computer performance', 'imagenet', 'cuckoo search\\xa0', 'information retrieval', 'formal system', 'convolutional neural network', 'yoshua bengio', 'bag-of-words model', 'geoffrey e. hinton', 'encoder', 'lyapunov fractal', 'nicolas boulanger-lewandowski', 'state space', 'data stream mining', 'n-gram', 'neural network software', 'evolutionary algorithm', 'john makhoul', 'iterative method', 'bellman equation', 'mathematical induction', 'rate of convergence', 'optimization problem', 'heuristic', 'cognitive radio', 'analytical models', 'http public key pinning', 'global optimization problem\\xa0', 'constrained optimization', 'throughput', 'alex krizhevsky', 'neighborhood search (ns) operator', 'abdel-rahman mohamed', 'autoencoder', 'computers', 'metaheuristic search (ms)', 'freebase', 'jacob devlin', 'search algorithm', 'lyapunov–krasovskii functional', 'electronic mail', 'ilya sutskever', 'nal kalchbrenner', 'activation function', 'complex network', 'algorithm', 'deep learning papers review at neurotechnology: attention mechanisms neurotechnology mar 15 2017', 'oriol vinyals', 'in-place algorithm', 'multimodal interaction', 'kyunghyun cho', 'navdeep jaitly', 'iteration', 'sampling - surgical action', 'particle swarm optimization (pso)', 'bil herd', 'dynamic programming', 'yang liu', 'experiment', 'velocity (software development)', 'linear matrix inequality', 'neural network simulation', 'premature convergence', 'nonlinear system', 'social inequality', 'quoc v. le', 'biological neural networks', 'fuzzy logic', 'hamilton–jacobi–bellman equation', 'language model', 'statistical machine translation', 'approximation algorithm', 'convex optimization', 'stochastic gradient descent', 'usb on-the-go', 'alex graves', 'noise reduction', 'phil blunsom', 'feasible region', 'bart van merrienboer', 'reinforcement learning', 'particle swarm optimization', 'fault tolerance', 'krill herd (kh)\\xa0', 'partition function (mathematics)', 'numerical analysis', 'topology', 'xiang zhang', 'markov decision process', 'finite-time stabilization', 'richard m. schwartz', 'machine learning', 'recursive neural network', 'jacobi method', 'mathematics', 'artificial neural network', 'optimal control', 'computer vision', 'neural networks', 'entity', 'computation', 'neural network', 'mathematical model', 'baseline (configuration management)', 'mathematical optimization', 'matthew d. zeiler', 'zhongqiang huang', 'benchmark (computing)', 'time complexity', 'recurrent neural network', 'simulation', 'mean squared error', 'neural machine translation', 'pixel', 'sampling (signal processing)']\n",
      "len_topic: 116\n",
      "\n"
     ]
    }
   ],
   "source": [
    "overlap_merge_view_half(2014, k = 5)"
   ]
  },
  {
   "cell_type": "code",
   "execution_count": 52,
   "metadata": {},
   "outputs": [
    {
     "name": "stdout",
     "output_type": "stream",
     "text": [
      "OVERLAP MERGING RESULT WITH CLIQUE PERCOLATION METHOD, CASCADE MODEL, SEED TOP 5 NODES AND DEG NEGATIVE THRESHOLD CALCULATION STRATEGY.\n",
      "\n",
      "['metaheuristic', 'computer performance', 'imagenet', 'cuckoo search\\xa0', 'information retrieval', 'yang', 'formal system', 'convolutional neural network', 'yoshua bengio', 'random neural network', 'bag-of-words model', 'geoffrey e. hinton', 'encoder', 'lyapunov fractal', 'nicolas boulanger-lewandowski', 'uncertainty', 'state space', 'data stream mining', 'n-gram', 'neural network software', 'evolutionary algorithm', 'john makhoul', 'recurrent neural network', 'iterative method', 'bellman equation', 'mathematical induction', 'rate of convergence', 'shadowing (histology)', 'optimization problem', 'heuristic', 'x.690', 'cognitive radio', 'analytical models', 'http public key pinning', 'global optimization problem\\xa0', 'constrained optimization', 'deep learning', 'alex krizhevsky', 'neighborhood search (ns) operator', 'abdel-rahman mohamed', 'autoencoder', 'point of view (computer hardware company)', 'computers', 'metaheuristic search (ms)', 'scalability', 'freebase', 'bit error rate', 'jacob devlin', 'search algorithm', 'lyapunov–krasovskii functional', 'rayleigh fading', 'ilya sutskever', 'electronic mail', 'ant colony optimization algorithms', 'feature selection', 'nal kalchbrenner', 'activation function', 'complex network', 'algorithm', 'deep learning papers review at neurotechnology: attention mechanisms neurotechnology mar 15 2017', 'oriol vinyals', 'in-place algorithm', 'multimodal interaction', 'kyunghyun cho', 'navdeep jaitly', 'iteration', 'particle swarm optimization (pso)', 'sampling - surgical action', 'bil herd', 'dynamic programming', 'yang liu', 'experiment', 'calculus of variations', 'velocity (software development)', 'cuckoo search', 'linear matrix inequality', 'neural network simulation', 'premature convergence', 'nonlinear system', 'social inequality', 'quoc v. le', 'biological neural networks', 'multitier architecture', 'fuzzy logic', 'interference (communication)', 'hamilton–jacobi–bellman equation', 'language model', 'statistical machine translation', 'approximation algorithm', 'convex optimization', 'global optimization', 'stochastic gradient descent', 'usb on-the-go', 'alex graves', 'noise reduction', 'phil blunsom', 'feasible region', 'control theory', 'bart van merrienboer', 'reinforcement learning', 'particle swarm optimization', 'mimo', 'fuzzy control system', 'fault tolerance', 'krill herd (kh)\\xa0', 'partition function (mathematics)', 'numerical analysis', 'topology', 'xiang zhang', 'markov decision process', 'finite-time stabilization', 'constraint algorithm', 'richard m. schwartz', 'recursive neural network', 'machine learning', 'jacobi method', 'artificial neural network', 'mathematics', 'optimal control', 'coefficient', 'computer vision', 'neural networks', 'generative model', 'knowledge graph', 'periodic solution', 'exponential', 'entity', 'computation', 'neural network', 'mathematical model', 'word embedding', 'baseline (configuration management)', 'mathematical optimization', 'matthew d. zeiler', 'skip list', 'mimo-ofdm', 'quality of service', 'zhongqiang huang', 'benchmark (computing)', 'genetic algorithm', 'simulation', 'mean squared error', 'time complexity', 'neural machine translation', 'pixel', 'sampling (signal processing)']\n",
      "len_topic: 146\n",
      "\n"
     ]
    }
   ],
   "source": [
    "overlap_merge_view_deg_neg(2014, k = 5)"
   ]
  },
  {
   "cell_type": "markdown",
   "metadata": {},
   "source": [
    "### Year 2015"
   ]
  },
  {
   "cell_type": "code",
   "execution_count": 53,
   "metadata": {},
   "outputs": [
    {
     "name": "stdout",
     "output_type": "stream",
     "text": [
      "OVERLAP MERGING RESULT WITH CLIQUE PERCOLATION METHOD, CASCADE MODEL, SEED TOP 5 NODES AND DEG THRESHOLD CALCULATION STRATEGY.\n",
      "\n",
      "['numerical analysis', 'experiment', 'alex krizhevsky', 'artificial bee colony algorithm', 'imagenet', 'satinder p. singh', 'convolutional neural network', 'nonlinear system', 'geoffrey e. hinton', 'artificial bee colony', 'correctness (computer science)', 'cluster analysis', 'artificial neural network', 'hamilton–jacobi–bellman equation', 'honglak lee', 'ilya sutskever', 'yuval tassa', 'computer vision', 'long short-term memory', 'online and offline', 'algorithm', 'optimization problem', 'benchmark (computing)', 'feedforward neural network', 'feature learning']\n",
      "len_topic: 25\n",
      "\n",
      "['???????\\xa0', '?????\\xa0', '20301', 'linearizing at the trim state\\xa0', '???\\xa0']\n",
      "len_topic: 5\n",
      "\n"
     ]
    }
   ],
   "source": [
    "overlap_merge_view_deg(2015, k = 5)"
   ]
  },
  {
   "cell_type": "code",
   "execution_count": 54,
   "metadata": {},
   "outputs": [
    {
     "name": "stdout",
     "output_type": "stream",
     "text": [
      "OVERLAP MERGING RESULT WITH CLIQUE PERCOLATION METHOD, CASCADE MODEL, SEED TOP 5 NODES AND HALF THRESHOLD CALCULATION STRATEGY.\n",
      "\n",
      "['continuous optimization', 'unsupervised learning', 'artificial bee colony algorithm', 'bt bayesian theory', 'memristor-based neural networks', 'trust region', 'imagenet', 'control system', 'arima auto regressive integrated moving average', 'unscented kalman filter', 'extract features', 'formal system', '????\\xa0', 'multi-agent system', 'satinder p. singh', 'normal brains', 'convex function', 'lyapunov fractal', 'swarm intelligence', 'mr brain images', 'memory intensive making', 'spectral efficiency', 'correctness (computer science)', 'encoder', 'aided diagnosis', 'cluster analysis', 'emd empirical mode decomposition', 'markov chain', 'low-power broadcasting', 'structural break modeling', 'novel automatic classification', 'sergey levine', 'christian szegedy', 'accurate classification', '20301', 'computer assisted diagnosis', 'linearizing at the trim state\\xa0', 'novelty detection', 'optimization problem', 'power semiconductor device', 'observers', 'emanuel todorov', 'pattern recognition', 'block cipher mode of operation', 'categorization', 'http public key pinning', 'constrained optimization', 'deep learning', 'throughput', 'alex krizhevsky', 'autoencoder', 'non-minimum phase\\xa0', 'principal component analysis', 'support vector machine', 'memristor', 'anatomy regional', 'auto regressive integrated moving average', 'computer simulation', 'signal processing', 'ilya sutskever', 'acoustic cryptanalysis', 'document classification', 'hypersonic flight vehicle\\xa0', 'autonomous robot', 'online and offline', 'link prediction\\xa0', 'system dynamics', 'weibull distribution function', 'algorithm', 'magnetic resonance imaging', 'mri scanning', 'ga genetic algorithm', 'embedded systems', 'output feedback', '???????\\xa0', 'iteration', 'geoffrey e. hinton', 'dynamic programming', 'resonance', 'feedback', 'adaptive systems', 'performance', 'experiment', 'computationally intensive', 'tom erez', 'linear matrix inequality', 'neural network simulation', 'nonlinear systems', 'fine tune', 'increment', 'nonlinear system', 'social inequality', 'crucially importance', 'large-scale computing\\xa0', 'remaining connections', 'medical analysis', 'fuzzy logic', 'convolutional neural network', 'hamilton–jacobi–bellman equation', 'interference (communication)', 'language model', 'honglak lee', 'imagenet dataset', 'well-posed problem', 'approximation algorithm', 'long short-term memory', 'real-time transcription', 'convex optimization', 'distinguish abnormal brains', 'optimization', 'compaq lte', 'global optimization', 'pca principal component analysis', 'noise reduction', 'theory', 'coexist (image)', 'control theory', 'reinforcement learning', 'particle swarm optimization', 'supervised learning', 'elm', 'fuzzy control system', 'empirical mode decomposition', 'channel capacity', 'feature learning', 'speech recognition', 'statistical classification', 'approximation', 'numerical analysis', 'decision tree learning', 'robot', 'controllers', '?????\\xa0', 'database', 'learning disorders', 'artificial bee colony', 'machine learning', 'converge', 'artificial neural network', 'filter bank', 'optimal control', 'firefly algorithm', 'computer vision', 'neural networks', 'network topology', 'yuval tassa', '???\\xa0', 'input-output linearization\\xa0', 'tcp global synchronization', 'extreme learning machine\\xa0', 'doina precup', 'mathematical optimization', 'recurrent neural network', 'benchmark (computing)', 'adaptive algorithm', 'interaction', 'genetic algorithm', 'feedforward neural network', 'simulation', 'sparse matrix', 'wavelet analysis', 'ar auto regressive']\n",
      "len_topic: 162\n",
      "\n"
     ]
    }
   ],
   "source": [
    "overlap_merge_view_half(2015, k = 5)"
   ]
  },
  {
   "cell_type": "code",
   "execution_count": 55,
   "metadata": {},
   "outputs": [
    {
     "name": "stdout",
     "output_type": "stream",
     "text": [
      "OVERLAP MERGING RESULT WITH CLIQUE PERCOLATION METHOD, CASCADE MODEL, SEED TOP 5 NODES AND DEG NEGATIVE THRESHOLD CALCULATION STRATEGY.\n",
      "\n",
      "['continuous optimization', 'unsupervised learning', 'artificial bee colony algorithm', 'memristor-based neural networks', 'trust region', 'imagenet', 'arima auto regressive integrated moving average', '????\\xa0', 'normal brains', 'geoffrey e. hinton', 'mr brain images', 'aided diagnosis', 'memory intensive making', 'cluster analysis', 'novel automatic classification', 'sergey levine', '20301', 'computer assisted diagnosis', 'bellman equation', 'novelty detection', 'power semiconductor device', 'observers', 'block cipher mode of operation', 'http public key pinning', 'deep learning', 'throughput', 'alex krizhevsky', 'autoencoder', 'non-minimum phase\\xa0', 'principal component analysis', 'anatomy regional', 'computer simulation', 'tbr ??\\xa0', 'signal processing', 'ilya sutskever', 'document classification', 'link prediction\\xa0', 'activation function', 'weibull distribution function', 'algorithm', 'd2d communication\\xa0', 'mri scanning', 'ga genetic algorithm', 'dynamic programming', 'adaptive systems', '??????\\xa0', 'feature representation\\xa0', 'linear matrix inequality', 'neural network simulation', 'nonlinear systems', 'increment', 'parsing', 'nonlinear system', 'crucially importance', 'large-scale computing\\xa0', 'medical analysis', 'interference (communication)', 'imagenet dataset', 'well-posed problem', 'long short-term memory', 'distinguish abnormal brains', 'optimization', 'stochastic gradient descent', 'compaq lte', 'global optimization', 'pca principal component analysis', 'dynamic network\\xa0', 'coexist (image)', 'control theory', 'particle swarm optimization', 'elm', 'feature learning', 'speech recognition', 'empirical mode decomposition', 'power control\\xa0', 'channel capacity', 'fractional-order', 'radial (radio)', 'database', 'interference management\\xa0', 'yuval tassa', 'linear matrix inequality (lmi)', '???\\xa0', 'synchronization (computer science)', 'input-output linearization\\xa0', 'extreme learning machine\\xa0', 'map', 'doina precup', 'mathematical optimization', 'recurrent neural network', 'genetic algorithm', 'synchronization', 'ar auto regressive', 'bt bayesian theory', 'control system', 'extract features', 'unscented kalman filter', 'formal system', 'satinder p. singh', 'convex function', 'multi-agent system', 'convolutional neural network', 'bayesian optimization', 'encoder', 'lyapunov fractal', 'swarm intelligence', 'correctness (computer science)', 'spectral efficiency', 'emd empirical mode decomposition', 'markov chain', 'low-power broadcasting', 'structural break modeling', 'christian szegedy', 'accurate classification', 'optimization problem', 'emanuel todorov', '70201', 'support vector machine', 'memristor', 'auto regressive integrated moving average', 'learning model\\xa0', 'acoustic cryptanalysis', 'autonomous robot', 'online and offline', 'system dynamics', 'magnetic resonance imaging', 'embedded systems', 'cross reactions', 'output feedback', '???????\\xa0', 'iteration', 'maxima and minima', 'stabilization', 'resonance', 'feedback', 'performance', 'experiment', 'computationally intensive', 'tom erez', 'social network\\xa0', 'fine tune', 'social inequality', 'remaining connections', 'fuzzy logic', 'hamilton–jacobi–bellman equation', 'honglak lee', 'language model', 'approximation algorithm', 'real-time transcription', 'convex optimization', 'noise reduction', 'artificial intelligence', 'interval time-varying delay', '11101', 'reinforcement learning', 'back-stepping\\xa0', 'supervised learning', 'fuzzy control system', 'statistical classification', '82301', 'approximation', 'numerical analysis', 'loss function', 'robot', 'controllers', '?????\\xa0', 'learning disorders', 'artificial bee colony', 'machine learning', 'converge', 'artificial neural network', 'filter bank', 'optimal control', 'firefly algorithm', 'network topology', 'neural networks', 'computer vision', 'tcp global synchronization', 'unit commitment', 'similarity metric\\xa0', 'benchmark (computing)', 'adaptive algorithm', 'time complexity', 'feedforward neural network', 'interaction', 'simulation', 'sparse matrix', 'wavelet analysis', 'theory']\n",
      "len_topic: 189\n",
      "\n"
     ]
    }
   ],
   "source": [
    "overlap_merge_view_deg_neg(2015, k = 5)"
   ]
  },
  {
   "cell_type": "markdown",
   "metadata": {},
   "source": [
    "### Year 2016"
   ]
  },
  {
   "cell_type": "code",
   "execution_count": 56,
   "metadata": {},
   "outputs": [
    {
     "name": "stdout",
     "output_type": "stream",
     "text": [
      "OVERLAP MERGING RESULT WITH CLIQUE PERCOLATION METHOD, CASCADE MODEL, SEED TOP 5 NODES AND DEG THRESHOLD CALCULATION STRATEGY.\n",
      "\n",
      "['interval arithmetic', 'algorithm', 'usb on-the-go', 'neural network simulation', 'learning disorders', 'quantization (signal processing)', 'nonlinear system', 'mathematical optimization', 'control theory', 'atari', 'artificial neural network', 'simulation', 'optimal control', 'dynamic programming', 'approximation algorithm']\n",
      "len_topic: 15\n",
      "\n"
     ]
    }
   ],
   "source": [
    "overlap_merge_view_deg(2016, k = 5)"
   ]
  },
  {
   "cell_type": "code",
   "execution_count": 57,
   "metadata": {},
   "outputs": [
    {
     "name": "stdout",
     "output_type": "stream",
     "text": [
      "OVERLAP MERGING RESULT WITH CLIQUE PERCOLATION METHOD, CASCADE MODEL, SEED TOP 5 NODES AND HALF THRESHOLD CALCULATION STRATEGY.\n",
      "\n",
      "['control system', 'end-to-end principle', 'imagenet', 'lymph nodes', 'brute-force search', 'open-source software', 'daily basis', 'convolutional neural network', 'formal system', 'potential benefits', 'agent-based model', 'multi-agent system', 'natural language processing', 'encoder', 'lyapunov fractal', 'requirement', 'settling time', 'fuzzy set', 'volodymyr mnih', 'data pre-processing', 'hysteresis', 'sample complexity', 'feature extraction', 'vocabulary', 'iterative method', 'bellman equation', 'asthma patients demonstrate', 'benchmark\\xa0', 'apriori algorithm', 'optimization problem', 'centralized computing', 'generalization (psychology)', 'novel objective', 'cognitive radio', 'upper confidence bound', 'adaptive coding', 'atari', 'deep learning', 'throughput', 'high- and low-level', 'http public key pinning', 'weight', 'autoencoder', 'support vector machine', 'real-time clock', 'computer simulation', 'memristor', 'data mining', 'recommending treatments', 'ibm systems network architecture', 'search algorithm', 'biogeography-based optimization\\xa0', 'neuron', 'computer data storage', 'mark rowland', 'approximation error', 'interval arithmetic', 'sensor', 'identifier', 'algorithm', 'q-learning', 'numerical linear algebra', 'training', 'exploit (computer security)', 'experimental results', 'diagnostic test results', 'decision list', 'super robot monkey team hyperforce go!', 'decision makers', 'iteration', 'optimization\\xa0', 'big data', 'personalization', 'marc g. bellemare', 'dynamic programming', 'feedback', 'adaptive systems', 'ben parr', 'experiment', 'maximizes outcomes', 'rémi munos', 'computer science', 'subnetwork', 'linear matrix inequality', 'mnist database', 'frequency band', 'neural network simulation', 'nonlinear systems', 'distribution (mathematics)', 'bayesian network', 'nonlinear system', 'social inequality', 'biological neural networks', 'fuzzy logic', 'interference (communication)', 'apache spark', 'language model', 'hamilton–jacobi–bellman equation', 'effective interpretable', 'genetic programming', 'approximation algorithm', 'long short-term memory', 'genetic algorithm\\xa0', 'global optimization', 'stochastic gradient descent', 'variational principle', 'usb on-the-go', 'koray kavukcuoglu', 'artificial intelligence', 'hypernymy relations', 'swarm intelligence\\xa0', 'maps characteristics', 'code', 'particle swarm optimization\\xa0', 'dropout (neural networks)', 'control theory', 'quantization (signal processing)', 'will dabney', 'demis hassabis', 'reinforcement learning', 'particle swarm optimization', 'fuzzy control system', 'coupling constant', 'minimizes overall costs', 'black bag operation', 'approximation', 'numerical analysis', 'hado van hasselt', 'markov decision process', 'robot', 'leverages customized checks', 'finite-time synchronization', 'learning disorders', 'granting bails', 'machine learning', 'converge', 'network architecture', 'artificial neural network', 'optimal control', 'knowledge graph', 'computational complexity theory', 'neural networks', 'coefficient', 'fuzzy rule', 'mapreduce', 'costs involved', 'telecommunications link', 'channel state information', 'computation', 'test set', 'search space effectively', 'mathematical model', 'mathematical optimization', 'benchmark (computing)', 'recurrent neural network', 'time delay', 'open research', 'feedforward neural network', 'adversary (cryptography)', 'simulation', 'sparse matrix', 'time-varying delay', 'one-class classification', 'medical imaging']\n",
      "len_topic: 164\n",
      "\n"
     ]
    }
   ],
   "source": [
    "overlap_merge_view_half(2016, k = 5)"
   ]
  },
  {
   "cell_type": "code",
   "execution_count": 58,
   "metadata": {},
   "outputs": [
    {
     "name": "stdout",
     "output_type": "stream",
     "text": [
      "OVERLAP MERGING RESULT WITH CLIQUE PERCOLATION METHOD, CASCADE MODEL, SEED TOP 5 NODES AND DEG NEGATIVE THRESHOLD CALCULATION STRATEGY.\n",
      "\n",
      "['end-to-end principle', 'lymph nodes', 'agent-based model', 'state estimation', 'settling time', 'data pre-processing', 'sample complexity', 'feature extraction', 'vocabulary', 'iterative method', 'bellman equation', 'asthma patients demonstrate', 'benchmark\\xa0', 'novel objective', 'http public key pinning', 'atari', 'high- and low-level', 'deep learning', 'throughput', 'weight', 'autoencoder', 'computer simulation', 'ibm systems network architecture', 'mark rowland', 'approximation error', 'interval arithmetic', 'time delays', 'algorithm', 'q-learning', 'numerical linear algebra', 'exploit (computer security)', 'experimental results', 'diagnostic test results', 'decision makers', 'optimization\\xa0', 'marc g. bellemare', 'dynamic programming', 'subnetwork', 'adaptive systems', 'rémi munos', 'maximizes outcomes', 'linear matrix inequality', 'neural network simulation', 'nonlinear systems', 'distribution (mathematics)', 'nonlinear system', 'biological neural networks', 'interference (communication)', 'apache spark', 'recommender system', 'effective interpretable', 'long short-term memory', 'genetic algorithm\\xa0', 'optimization', 'stochastic gradient descent', 'global optimization', 'usb on-the-go', 'koray kavukcuoglu', 'preprocessor', 'control theory', 'will dabney', 'particle swarm optimization', 'coupling constant', 'hado van hasselt', 'markov decision process', 'finite-time synchronization', 'embedded system', 'coefficient', 'computational complexity theory', 'mapreduce', 'costs involved', 'computer-aided design', 'search space effectively', 'test set', 'mathematical model', 'mathematical optimization', 'recurrent neural network', 'time delay', 'genetic algorithm', 'adversary (cryptography)', 'time-varying delay', 'medical imaging', 'control system', 'brute-force search', 'daily basis', 'convex function', 'convolutional neural network', 'formal system', 'potential benefits', 'natural language processing', 'multi-agent system', 'encoder', 'lyapunov fractal', 'requirement', 'fuzzy set', 'volodymyr mnih', 'hysteresis', 'apriori algorithm', 'optimization problem', 'centralized computing', 'generalization (psychology)', 'cognitive radio', 'upper confidence bound', 'constrained optimization', 'adaptive coding', 'real-time clock', 'memristor', 'data mining', 'recommending treatments', 'search algorithm', 'biogeography-based optimization\\xa0', 'neuron', 'computer data storage', 'sensor', 'identifier', 'statistical model', 'training', 'decision list', 'super robot monkey team hyperforce go!', 'iteration', 'big data', 'personalization', 'feedback', 'ben parr', 'experiment', 'computer science', 'mnist database', 'frequency band', 'bayesian network', 'social inequality', 'fuzzy logic', 'hamilton–jacobi–bellman equation', 'genetic programming', 'language model', 'approximation algorithm', 'variational principle', 'artificial intelligence', 'swarm intelligence\\xa0', 'maps characteristics', 'open-source software', 'code', 'particle swarm optimization\\xa0', 'dropout (neural networks)', 'quantization (signal processing)', 'demis hassabis', 'reinforcement learning', 'fuzzy control system', 'minimizes overall costs', 'black bag operation', 'approximation', 'numerical analysis', 'robot', 'leverages customized checks', 'learning disorders', 'granting bails', 'machine learning', 'converge', 'artificial neural network', 'knowledge graph', 'optimal control', 'network topology', 'neural networks', 'nonlinearity', 'fuzzy rule', 'telecommunications link', 'channel state information', 'computation', 'benchmark (computing)', 'quality of service', 'open research', 'feedforward neural network', 'simulation', 'sparse matrix', 'one-class classification']\n",
      "len_topic: 174\n",
      "\n"
     ]
    }
   ],
   "source": [
    "overlap_merge_view_deg_neg(2016, k = 5)"
   ]
  },
  {
   "cell_type": "markdown",
   "metadata": {},
   "source": [
    "### Year 2017"
   ]
  },
  {
   "cell_type": "code",
   "execution_count": 59,
   "metadata": {},
   "outputs": [
    {
     "name": "stdout",
     "output_type": "stream",
     "text": [
      "OVERLAP MERGING RESULT WITH CLIQUE PERCOLATION METHOD, CASCADE MODEL, SEED TOP 5 NODES AND DEG THRESHOLD CALCULATION STRATEGY.\n",
      "\n",
      "['vast majority', 'network embedding', 'proposed framework', 'link prediction']\n",
      "len_topic: 4\n",
      "\n",
      "['throughput', 'algorithm', 'initial condition', 'computation', 'mathematical optimization', 'triangular matrix', 'control theory', 'binary code', 'artificial neural network', 'simulation', 'semiconductor industry', 'approximation']\n",
      "len_topic: 12\n",
      "\n"
     ]
    }
   ],
   "source": [
    "overlap_merge_view_deg(2017, k = 5)"
   ]
  },
  {
   "cell_type": "code",
   "execution_count": 60,
   "metadata": {},
   "outputs": [
    {
     "name": "stdout",
     "output_type": "stream",
     "text": [
      "OVERLAP MERGING RESULT WITH CLIQUE PERCOLATION METHOD, CASCADE MODEL, SEED TOP 5 NODES AND HALF THRESHOLD CALCULATION STRATEGY.\n",
      "\n",
      "['firefly algorithm (fa)\\xa0', 'input lag', 'control system', 'adversarial examples', 'natural language processing', 'convolutional neural network', 'differential evolution', 'encoder', 'lyapunov fractal', 'swarm intelligence', 'cluster analysis', 'gradient descent', 'dynamical system', 'inverted pendulum', 'optimization problem', 'estimated', 'heuristic', 'cognitive radio', 'british informatics olympiad', 'deep learning', 'throughput', 'autoencoder', 'wireless sensor networks\\xa0', 'routing', 'memristor', 'global exponential stability', 'feature selection', 'sensor', 'statistical cluster', 'polynomial', 'algorithm', 'sensitivity and specificity', 'big data', 'sampling - surgical action', 'spectral leakage', 'feedback', 'experiment', 'cloud computing', 'convolution', 'linear matrix inequality', 'premature convergence', 'neural network simulation', 'association rule learning', 'nonlinear system', 'triangular matrix', 'social inequality', 'next-generation network', 'semiconductor industry', 'interference (communication)', 'scheduling (computing)', 'approximation algorithm', 'long short-term memory', 'samuel j leffler', 'outline of object recognition', 'network packet', 'swarm intelligence\\xa0', 'binary code', 'neural coding', 'control theory', 'fuzzy control system', 'particle swarm optimization', 'approximation', 'numerical analysis', 'data synchronization', 'adversarial inputs', 'recursion', 'controllers', 'initial condition', 'global optimization\\xa0', 'baxter (robot)', 'sawtooth (cellular automaton)', 'machine learning', 'converge', 'artificial neural network', \"jensen's inequality\", 'firefly algorithm', 'computer vision', 'hopfield network', 'open problem', 'inference', 'computation', 'firefly (cache coherence protocol)', 'mathematical optimization', 'benchmark (computing)', 'two-factors second-order fuzzy-trend logical relationship groups', 'quality of service', 'recurrent neural network', 'time complexity', 'simulation', 'sparse matrix', 'sampling (signal processing)']\n",
      "len_topic: 91\n",
      "\n",
      "['vast majority', 'node attributes', 'network embedding', 'proposed framework', 'link prediction']\n",
      "len_topic: 5\n",
      "\n"
     ]
    }
   ],
   "source": [
    "overlap_merge_view_half(2017, k = 5)"
   ]
  },
  {
   "cell_type": "code",
   "execution_count": 61,
   "metadata": {},
   "outputs": [
    {
     "name": "stdout",
     "output_type": "stream",
     "text": [
      "OVERLAP MERGING RESULT WITH CLIQUE PERCOLATION METHOD, CASCADE MODEL, SEED TOP 5 NODES AND DEG NEGATIVE THRESHOLD CALCULATION STRATEGY.\n",
      "\n",
      "['firefly algorithm (fa)\\xa0', 'input lag', 'control system', 'natural language processing', 'convolutional neural network', 'differential evolution', 'encoder', 'lyapunov fractal', 'swarm intelligence', 'cluster analysis', 'gradient descent', 'dynamical system', 'optimization problem', 'estimated', 'heuristic', 'cognitive radio', 'british informatics olympiad', 'deep learning', 'throughput', 'autoencoder', 'dual', 'wireless sensor networks\\xa0', 'routing', 'memristor', 'anatomy regional', 'global exponential stability', 'feature selection', 'sensor', 'statistical cluster', 'polynomial', 'algorithm', 'sensitivity and specificity', 'spectral leakage', 'sampling - surgical action', 'feedback', 'experiment', 'cloud computing', 'convolution', 'linear matrix inequality', 'premature convergence', 'neural network simulation', 'association rule learning', 'nonlinear system', 'triangular matrix', 'social inequality', 'semiconductor industry', 'interference (communication)', 'scheduling (computing)', 'approximation algorithm', 'long short-term memory', 'numerical method', 'samuel j leffler', 'outline of object recognition', 'random forest', 'multi-objective optimization', 'network packet', 'swarm intelligence\\xa0', 'binary code', 'neural coding', 'control theory', 'reinforcement learning', 'fuzzy control system', 'particle swarm optimization', 'approximation', 'numerical analysis', 'data synchronization', 'recursion', 'controllers', 'initial condition', 'global optimization\\xa0', 'baxter (robot)', 'sawtooth (cellular automaton)', 'machine learning', 'converge', 'artificial neural network', \"jensen's inequality\", 'firefly algorithm', 'computer vision', 'hopfield network', 'open problem', 'inference', 'computation', 'firefly (cache coherence protocol)', 'mathematical optimization', 'benchmark (computing)', 'two-factors second-order fuzzy-trend logical relationship groups', 'quality of service', 'genetic algorithm', 'recurrent neural network', 'time complexity', 'simulation', 'sparse matrix', 'sampling (signal processing)']\n",
      "len_topic: 93\n",
      "\n",
      "['vast majority', 'node attributes', 'dimensional vector representations', 'link prediction']\n",
      "len_topic: 4\n",
      "\n"
     ]
    }
   ],
   "source": [
    "overlap_merge_view_deg_neg(2017, k = 5)"
   ]
  },
  {
   "cell_type": "markdown",
   "metadata": {},
   "source": [
    "### Year 2018 "
   ]
  },
  {
   "cell_type": "code",
   "execution_count": 62,
   "metadata": {},
   "outputs": [
    {
     "name": "stdout",
     "output_type": "stream",
     "text": [
      "OVERLAP MERGING RESULT WITH CLIQUE PERCOLATION METHOD, CASCADE MODEL, SEED TOP 5 NODES AND DEG THRESHOLD CALCULATION STRATEGY.\n",
      "\n",
      "['numerical analysis', 'telecommunications network', 'evolutionary algorithms', 'memristor', 'mathematical optimization', 'social inequality', 'differential evolution', 'machine learning', 'artificial neural network', 'simulation', 'approximation algorithm']\n",
      "len_topic: 11\n",
      "\n"
     ]
    }
   ],
   "source": [
    "overlap_merge_view_deg(2018, k = 5)"
   ]
  },
  {
   "cell_type": "code",
   "execution_count": 63,
   "metadata": {},
   "outputs": [
    {
     "name": "stdout",
     "output_type": "stream",
     "text": [
      "OVERLAP MERGING RESULT WITH CLIQUE PERCOLATION METHOD, CASCADE MODEL, SEED TOP 5 NODES AND HALF THRESHOLD CALCULATION STRATEGY.\n",
      "\n",
      "['experiment', 'linear matrix inequality', 'smart battery system', 'neural network simulation', 'frequency band', 'convolutional neural network', 'prime-factor fft algorithm', 'driven programming paradigm', 'nonlinear system', 'social inequality', 'differential evolution', 'lyapunov fractal', 'multitier architecture', 'biological neural networks', 'correctness (computer science)', 'interference (communication)', 'scheduling (computing)', 'semiconductor industry', 'pid', 'anatomical layer', 'approximation algorithm', 'predictive failure analysis', 'closed-circuit television', 'impulse\\xa0', 'telecommunications network', 'analysis of algorithms', 'iterative method', 'network packet', 'new data', 'optimization problem', 'particle swarm optimization\\xa0', 'crafted neuron network', 'reinforcement learning', 'particle swarm optimization', 'anomaly detection', 'numerous', 'cognitive radio', 'fuzzy control system', 'mimo', 'multi-user', 'data compression', 'deep learning', 'numerical analysis', 'approximation', 'loss function', 'direct method in the calculus of variations', 'critical scenarios', 'autoencoder', 'embedded system', 'computer simulation', 'memristor', 'bit error rate', 'machine learning', 'converge', 'artificial neural network', 'optimal control', 'expectation propagation', 'computational complexity theory', 'memristor-based switching networks\\xa0', 'hearing loss high-frequency', '34c27\\xa0', 'system dynamics', 'algorithm', 'biologic preservation', 'telecommunications link', 'active learning (machine learning)', 'privacy', 'mathematical optimization', 'benchmark (computing)', 'time complexity', 'bands', 'interaction', 'spectral density', 'simulation', 'spectral leakage', 'training data']\n",
      "len_topic: 76\n",
      "\n"
     ]
    }
   ],
   "source": [
    "overlap_merge_view_half(2018, k = 5)"
   ]
  },
  {
   "cell_type": "code",
   "execution_count": 64,
   "metadata": {},
   "outputs": [
    {
     "name": "stdout",
     "output_type": "stream",
     "text": [
      "OVERLAP MERGING RESULT WITH CLIQUE PERCOLATION METHOD, CASCADE MODEL, SEED TOP 5 NODES AND DEG NEGATIVE THRESHOLD CALCULATION STRATEGY.\n",
      "\n",
      "['end-to-end principle', 'convolutional neural network', '37b25\\xa0', 'driven programming paradigm', 'differential evolution', 'lyapunov fractal', 'correctness (computer science)', 'closed-circuit television', 'impulse\\xa0', 'telecommunications network', 'analysis of algorithms', 'iterative method', 'optimization problem', 'numerous', 'anomaly detection', 'cognitive radio', 'multi-user', 'word lists by frequency', 'data compression', 'deep learning', 'throughput', 'direct method in the calculus of variations', 'support vector machine', 'computer simulation', 'memristor', 'bit error rate', 'system dynamics', 'algorithm', 'biologic preservation', 'active learning (machine learning)', 'experimental results', 'prime-factor fft algorithm', 'spectral leakage', 'training data', 'experiment', 'linear matrix inequality', 'smart battery system', 'neural network simulation', 'frequency band', 'nonlinear system', 'social inequality', 'biological neural networks', 'multitier architecture', 'semiconductor industry', 'interference (communication)', 'scheduling (computing)', 'fixed-point theorem', 'pid', 'anatomical layer', 'approximation algorithm', 'predictive failure analysis', 'entropy maximization', '92c20\\xa0', 'network packet', 'new data', 'crafted neuron network', 'particle swarm optimization\\xa0', 'reinforcement learning', 'particle swarm optimization', 'fuzzy control system', 'mimo', 'approximation', 'numerical analysis', 'critical scenarios', 'loss function', 'radio frequency', 'embedded system', 'machine learning', 'converge', 'artificial neural network', 'optimal control', 'expectation propagation', 'computational complexity theory', 'neural networks', 'memristor-based switching networks\\xa0', 'hearing loss high-frequency', 'hopfield network', '34c27\\xa0', 'telecommunications link', 'privacy', 'mathematical optimization', 'benchmark (computing)', 'time complexity', 'bands', 'interaction', 'spectral density', 'simulation']\n",
      "len_topic: 87\n",
      "\n"
     ]
    }
   ],
   "source": [
    "overlap_merge_view_deg_neg(2018, k = 5)"
   ]
  },
  {
   "cell_type": "markdown",
   "metadata": {},
   "source": [
    "## Overlap merge with k = 10"
   ]
  },
  {
   "cell_type": "markdown",
   "metadata": {},
   "source": [
    "Applications of all configuration of Indipendent Cascade Model with seed size 10"
   ]
  },
  {
   "cell_type": "code",
   "execution_count": 65,
   "metadata": {},
   "outputs": [],
   "source": [
    "spread_to_overlap_timeline_k(k = 10)"
   ]
  },
  {
   "cell_type": "markdown",
   "metadata": {},
   "source": [
    "### Year 2000"
   ]
  },
  {
   "cell_type": "code",
   "execution_count": 66,
   "metadata": {
    "scrolled": false
   },
   "outputs": [
    {
     "name": "stdout",
     "output_type": "stream",
     "text": [
      "OVERLAP MERGING RESULT WITH CLIQUE PERCOLATION METHOD, CASCADE MODEL, SEED TOP 10 NODES AND DEG THRESHOLD CALCULATION STRATEGY.\n",
      "\n",
      "['periodic solution', '43.80.+p', 'delay']\n",
      "len_topic: 3\n",
      "\n",
      "['experiment', 'feature vector', 'support vector machine']\n",
      "len_topic: 3\n",
      "\n",
      "['neural network simulation', 'artificial neural network']\n",
      "len_topic: 2\n",
      "\n",
      "['motion estimation\\xa0', 'nonlinear system', 'simulation']\n",
      "len_topic: 3\n",
      "\n"
     ]
    }
   ],
   "source": [
    "overlap_merge_view_deg(2000, k = 10)"
   ]
  },
  {
   "cell_type": "code",
   "execution_count": 67,
   "metadata": {},
   "outputs": [
    {
     "name": "stdout",
     "output_type": "stream",
     "text": [
      "OVERLAP MERGING RESULT WITH CLIQUE PERCOLATION METHOD, CASCADE MODEL, SEED TOP 10 NODES AND HALF THRESHOLD CALCULATION STRATEGY.\n",
      "\n",
      "['periodic solution', 'lyapunov functional', '43.80.+p', 'delay']\n",
      "len_topic: 4\n",
      "\n",
      "['experiment', 'feature vector', 'support vector machine']\n",
      "len_topic: 3\n",
      "\n",
      "['neural network simulation', 'artificial neural network']\n",
      "len_topic: 2\n",
      "\n",
      "['motion estimation\\xa0', 'nonlinear system', 'simulation']\n",
      "len_topic: 3\n",
      "\n"
     ]
    }
   ],
   "source": [
    "overlap_merge_view_half(2000, k = 10)"
   ]
  },
  {
   "cell_type": "code",
   "execution_count": 68,
   "metadata": {},
   "outputs": [
    {
     "ename": "TopicNotAllKeywordsUsedException",
     "evalue": "To perfom all topics not all keywords have been used.",
     "output_type": "error",
     "traceback": [
      "\u001b[0;31m---------------------------------------------------------------------------\u001b[0m",
      "\u001b[0;31mTopicNotAllKeywordsUsedException\u001b[0m          Traceback (most recent call last)",
      "\u001b[0;32m<ipython-input-68-fecf30c138e2>\u001b[0m in \u001b[0;36m<module>\u001b[0;34m\u001b[0m\n\u001b[0;32m----> 1\u001b[0;31m \u001b[0moverlap_merge_view_deg_neg\u001b[0m\u001b[0;34m(\u001b[0m\u001b[0;36m2000\u001b[0m\u001b[0;34m,\u001b[0m \u001b[0mk\u001b[0m \u001b[0;34m=\u001b[0m \u001b[0;36m10\u001b[0m\u001b[0;34m)\u001b[0m\u001b[0;34m\u001b[0m\u001b[0;34m\u001b[0m\u001b[0m\n\u001b[0m",
      "\u001b[0;32m<ipython-input-6-644b1e1d3189>\u001b[0m in \u001b[0;36moverlap_merge_view_deg_neg\u001b[0;34m(year, k)\u001b[0m\n\u001b[1;32m     19\u001b[0m     \u001b[0mspread_dict\u001b[0m\u001b[0;34m[\u001b[0m\u001b[0mstr\u001b[0m\u001b[0;34m(\u001b[0m\u001b[0myear\u001b[0m\u001b[0;34m)\u001b[0m\u001b[0;34m]\u001b[0m\u001b[0;34m.\u001b[0m\u001b[0mindipendent_cascade_model\u001b[0m\u001b[0;34m(\u001b[0m\u001b[0;34m)\u001b[0m\u001b[0;34m\u001b[0m\u001b[0;34m\u001b[0m\u001b[0m\n\u001b[1;32m     20\u001b[0m     \u001b[0mcascade_deg_neg\u001b[0m \u001b[0;34m=\u001b[0m \u001b[0mspread_dict\u001b[0m\u001b[0;34m[\u001b[0m\u001b[0mstr\u001b[0m\u001b[0;34m(\u001b[0m\u001b[0myear\u001b[0m\u001b[0;34m)\u001b[0m\u001b[0;34m]\u001b[0m\u001b[0;34m.\u001b[0m\u001b[0mget_influenced_nodes\u001b[0m\u001b[0;34m(\u001b[0m\u001b[0;34m)\u001b[0m\u001b[0;34m\u001b[0m\u001b[0;34m\u001b[0m\u001b[0m\n\u001b[0;32m---> 21\u001b[0;31m     \u001b[0mtopics_deg_neg\u001b[0m \u001b[0;34m=\u001b[0m \u001b[0moverlap_perform\u001b[0m\u001b[0;34m(\u001b[0m\u001b[0myear\u001b[0m\u001b[0;34m,\u001b[0m \u001b[0mcascade_deg_neg\u001b[0m\u001b[0;34m,\u001b[0m \u001b[0mk\u001b[0m\u001b[0;34m)\u001b[0m\u001b[0;34m\u001b[0m\u001b[0;34m\u001b[0m\u001b[0m\n\u001b[0m\u001b[1;32m     22\u001b[0m     \u001b[0mto_print\u001b[0m\u001b[0;34m(\u001b[0m\u001b[0mtopics_deg_neg\u001b[0m\u001b[0;34m,\u001b[0m \u001b[0;34m\"cascade\"\u001b[0m\u001b[0;34m,\u001b[0m \u001b[0mk\u001b[0m\u001b[0;34m,\u001b[0m \u001b[0;34m\"deg negative\"\u001b[0m\u001b[0;34m)\u001b[0m\u001b[0;34m\u001b[0m\u001b[0;34m\u001b[0m\u001b[0m\n",
      "\u001b[0;32m<ipython-input-5-60ae7201d3cc>\u001b[0m in \u001b[0;36moverlap_perform\u001b[0;34m(year, all_topics, k)\u001b[0m\n\u001b[1;32m      3\u001b[0m     \u001b[0moverlap\u001b[0m\u001b[0;34m.\u001b[0m\u001b[0moverlap_preprocessing\u001b[0m\u001b[0;34m(\u001b[0m\u001b[0;34m)\u001b[0m\u001b[0;34m\u001b[0m\u001b[0;34m\u001b[0m\u001b[0m\n\u001b[1;32m      4\u001b[0m     \u001b[0moverlap\u001b[0m\u001b[0;34m.\u001b[0m\u001b[0mclique_percolation_method\u001b[0m\u001b[0;34m(\u001b[0m\u001b[0;34m)\u001b[0m\u001b[0;34m\u001b[0m\u001b[0;34m\u001b[0m\u001b[0m\n\u001b[0;32m----> 5\u001b[0;31m     \u001b[0moverlap\u001b[0m\u001b[0;34m.\u001b[0m\u001b[0mcheck_spread_topics\u001b[0m\u001b[0;34m(\u001b[0m\u001b[0;34m)\u001b[0m\u001b[0;34m\u001b[0m\u001b[0;34m\u001b[0m\u001b[0m\n\u001b[0m\u001b[1;32m      6\u001b[0m     \u001b[0moverlap\u001b[0m\u001b[0;34m.\u001b[0m\u001b[0mcheck_number_topics\u001b[0m\u001b[0;34m(\u001b[0m\u001b[0;34m)\u001b[0m\u001b[0;34m\u001b[0m\u001b[0;34m\u001b[0m\u001b[0m\n\u001b[1;32m      7\u001b[0m     \u001b[0;32mreturn\u001b[0m \u001b[0moverlap\u001b[0m\u001b[0;34m.\u001b[0m\u001b[0mget_topics\u001b[0m\u001b[0;34m(\u001b[0m\u001b[0;34m)\u001b[0m\u001b[0;34m\u001b[0m\u001b[0;34m\u001b[0m\u001b[0m\n",
      "\u001b[0;32m~/Universita/magistrale/web_and_social_information_extraction/webandsocial-progetto/src/overlaps_topics/overlap_topics.py\u001b[0m in \u001b[0;36mcheck_spread_topics\u001b[0;34m(self)\u001b[0m\n\u001b[1;32m    156\u001b[0m \u001b[0;34m\u001b[0m\u001b[0m\n\u001b[1;32m    157\u001b[0m         \u001b[0;32mif\u001b[0m \u001b[0msize_iteration\u001b[0m \u001b[0;34m!=\u001b[0m \u001b[0msize_topics\u001b[0m\u001b[0;34m:\u001b[0m\u001b[0;34m\u001b[0m\u001b[0;34m\u001b[0m\u001b[0m\n\u001b[0;32m--> 158\u001b[0;31m             \u001b[0;32mraise\u001b[0m \u001b[0mexcpt\u001b[0m\u001b[0;34m.\u001b[0m\u001b[0mTopicNotAllKeywordsUsedException\u001b[0m\u001b[0;34m(\u001b[0m\u001b[0;34m\"To perfom all topics not all keywords have been used.\"\u001b[0m\u001b[0;34m)\u001b[0m\u001b[0;34m\u001b[0m\u001b[0;34m\u001b[0m\u001b[0m\n\u001b[0m\u001b[1;32m    159\u001b[0m \u001b[0;34m\u001b[0m\u001b[0m\n\u001b[1;32m    160\u001b[0m \u001b[0;34m\u001b[0m\u001b[0m\n",
      "\u001b[0;31mTopicNotAllKeywordsUsedException\u001b[0m: To perfom all topics not all keywords have been used."
     ]
    }
   ],
   "source": [
    "overlap_merge_view_deg_neg(2000, k = 10)"
   ]
  },
  {
   "cell_type": "markdown",
   "metadata": {},
   "source": [
    "### Year 2001"
   ]
  },
  {
   "cell_type": "code",
   "execution_count": 69,
   "metadata": {
    "scrolled": true
   },
   "outputs": [
    {
     "name": "stdout",
     "output_type": "stream",
     "text": [
      "OVERLAP MERGING RESULT WITH CLIQUE PERCOLATION METHOD, CASCADE MODEL, SEED TOP 10 NODES AND DEG THRESHOLD CALCULATION STRATEGY.\n",
      "\n",
      "['feedforward neural network', 'algorithm', 'artificial neural network', 'cluster analysis']\n",
      "len_topic: 4\n",
      "\n",
      "['state-space methods', 'particle filters', 'computer simulation', 'laboratories', 'deconvolution', 'filtering algorithms', 'mathematics', 'filtering', 'signal processing', 'stochastic processes', 'state estimation', 'smoothing methods', 'fading', 'bayesian methods', 'signal processing algorithms']\n",
      "len_topic: 15\n",
      "\n",
      "['useful tools', 'widely acknowledged']\n",
      "len_topic: 2\n",
      "\n"
     ]
    }
   ],
   "source": [
    "overlap_merge_view_deg(2001, k = 10)"
   ]
  },
  {
   "cell_type": "code",
   "execution_count": 70,
   "metadata": {},
   "outputs": [
    {
     "ename": "TopicNotAllKeywordsUsedException",
     "evalue": "To perfom all topics not all keywords have been used.",
     "output_type": "error",
     "traceback": [
      "\u001b[0;31m---------------------------------------------------------------------------\u001b[0m",
      "\u001b[0;31mTopicNotAllKeywordsUsedException\u001b[0m          Traceback (most recent call last)",
      "\u001b[0;32m<ipython-input-70-712d671b112e>\u001b[0m in \u001b[0;36m<module>\u001b[0;34m\u001b[0m\n\u001b[0;32m----> 1\u001b[0;31m \u001b[0moverlap_merge_view_half\u001b[0m\u001b[0;34m(\u001b[0m\u001b[0;36m2001\u001b[0m\u001b[0;34m,\u001b[0m \u001b[0mk\u001b[0m \u001b[0;34m=\u001b[0m \u001b[0;36m10\u001b[0m\u001b[0;34m)\u001b[0m\u001b[0;34m\u001b[0m\u001b[0;34m\u001b[0m\u001b[0m\n\u001b[0m",
      "\u001b[0;32m<ipython-input-6-644b1e1d3189>\u001b[0m in \u001b[0;36moverlap_merge_view_half\u001b[0;34m(year, k)\u001b[0m\n\u001b[1;32m     11\u001b[0m     \u001b[0mspread_dict\u001b[0m\u001b[0;34m[\u001b[0m\u001b[0mstr\u001b[0m\u001b[0;34m(\u001b[0m\u001b[0myear\u001b[0m\u001b[0;34m)\u001b[0m\u001b[0;34m]\u001b[0m\u001b[0;34m.\u001b[0m\u001b[0mindipendent_cascade_model\u001b[0m\u001b[0;34m(\u001b[0m\u001b[0;34m)\u001b[0m\u001b[0;34m\u001b[0m\u001b[0;34m\u001b[0m\u001b[0m\n\u001b[1;32m     12\u001b[0m     \u001b[0mcascade_half\u001b[0m \u001b[0;34m=\u001b[0m \u001b[0mspread_dict\u001b[0m\u001b[0;34m[\u001b[0m\u001b[0mstr\u001b[0m\u001b[0;34m(\u001b[0m\u001b[0myear\u001b[0m\u001b[0;34m)\u001b[0m\u001b[0;34m]\u001b[0m\u001b[0;34m.\u001b[0m\u001b[0mget_influenced_nodes\u001b[0m\u001b[0;34m(\u001b[0m\u001b[0;34m)\u001b[0m\u001b[0;34m\u001b[0m\u001b[0;34m\u001b[0m\u001b[0m\n\u001b[0;32m---> 13\u001b[0;31m     \u001b[0mtopics_half\u001b[0m \u001b[0;34m=\u001b[0m \u001b[0moverlap_perform\u001b[0m\u001b[0;34m(\u001b[0m\u001b[0myear\u001b[0m\u001b[0;34m,\u001b[0m \u001b[0mcascade_half\u001b[0m\u001b[0;34m,\u001b[0m \u001b[0mk\u001b[0m\u001b[0;34m)\u001b[0m\u001b[0;34m\u001b[0m\u001b[0;34m\u001b[0m\u001b[0m\n\u001b[0m\u001b[1;32m     14\u001b[0m     \u001b[0mto_print\u001b[0m\u001b[0;34m(\u001b[0m\u001b[0mtopics_half\u001b[0m\u001b[0;34m,\u001b[0m \u001b[0;34m\"cascade\"\u001b[0m\u001b[0;34m,\u001b[0m \u001b[0mk\u001b[0m\u001b[0;34m,\u001b[0m \u001b[0;34m\"half\"\u001b[0m\u001b[0;34m)\u001b[0m\u001b[0;34m\u001b[0m\u001b[0;34m\u001b[0m\u001b[0m\n\u001b[1;32m     15\u001b[0m \u001b[0;34m\u001b[0m\u001b[0m\n",
      "\u001b[0;32m<ipython-input-5-60ae7201d3cc>\u001b[0m in \u001b[0;36moverlap_perform\u001b[0;34m(year, all_topics, k)\u001b[0m\n\u001b[1;32m      3\u001b[0m     \u001b[0moverlap\u001b[0m\u001b[0;34m.\u001b[0m\u001b[0moverlap_preprocessing\u001b[0m\u001b[0;34m(\u001b[0m\u001b[0;34m)\u001b[0m\u001b[0;34m\u001b[0m\u001b[0;34m\u001b[0m\u001b[0m\n\u001b[1;32m      4\u001b[0m     \u001b[0moverlap\u001b[0m\u001b[0;34m.\u001b[0m\u001b[0mclique_percolation_method\u001b[0m\u001b[0;34m(\u001b[0m\u001b[0;34m)\u001b[0m\u001b[0;34m\u001b[0m\u001b[0;34m\u001b[0m\u001b[0m\n\u001b[0;32m----> 5\u001b[0;31m     \u001b[0moverlap\u001b[0m\u001b[0;34m.\u001b[0m\u001b[0mcheck_spread_topics\u001b[0m\u001b[0;34m(\u001b[0m\u001b[0;34m)\u001b[0m\u001b[0;34m\u001b[0m\u001b[0;34m\u001b[0m\u001b[0m\n\u001b[0m\u001b[1;32m      6\u001b[0m     \u001b[0moverlap\u001b[0m\u001b[0;34m.\u001b[0m\u001b[0mcheck_number_topics\u001b[0m\u001b[0;34m(\u001b[0m\u001b[0;34m)\u001b[0m\u001b[0;34m\u001b[0m\u001b[0;34m\u001b[0m\u001b[0m\n\u001b[1;32m      7\u001b[0m     \u001b[0;32mreturn\u001b[0m \u001b[0moverlap\u001b[0m\u001b[0;34m.\u001b[0m\u001b[0mget_topics\u001b[0m\u001b[0;34m(\u001b[0m\u001b[0;34m)\u001b[0m\u001b[0;34m\u001b[0m\u001b[0;34m\u001b[0m\u001b[0m\n",
      "\u001b[0;32m~/Universita/magistrale/web_and_social_information_extraction/webandsocial-progetto/src/overlaps_topics/overlap_topics.py\u001b[0m in \u001b[0;36mcheck_spread_topics\u001b[0;34m(self)\u001b[0m\n\u001b[1;32m    156\u001b[0m \u001b[0;34m\u001b[0m\u001b[0m\n\u001b[1;32m    157\u001b[0m         \u001b[0;32mif\u001b[0m \u001b[0msize_iteration\u001b[0m \u001b[0;34m!=\u001b[0m \u001b[0msize_topics\u001b[0m\u001b[0;34m:\u001b[0m\u001b[0;34m\u001b[0m\u001b[0;34m\u001b[0m\u001b[0m\n\u001b[0;32m--> 158\u001b[0;31m             \u001b[0;32mraise\u001b[0m \u001b[0mexcpt\u001b[0m\u001b[0;34m.\u001b[0m\u001b[0mTopicNotAllKeywordsUsedException\u001b[0m\u001b[0;34m(\u001b[0m\u001b[0;34m\"To perfom all topics not all keywords have been used.\"\u001b[0m\u001b[0;34m)\u001b[0m\u001b[0;34m\u001b[0m\u001b[0;34m\u001b[0m\u001b[0m\n\u001b[0m\u001b[1;32m    159\u001b[0m \u001b[0;34m\u001b[0m\u001b[0m\n\u001b[1;32m    160\u001b[0m \u001b[0;34m\u001b[0m\u001b[0m\n",
      "\u001b[0;31mTopicNotAllKeywordsUsedException\u001b[0m: To perfom all topics not all keywords have been used."
     ]
    }
   ],
   "source": [
    "overlap_merge_view_half(2001, k = 10)"
   ]
  },
  {
   "cell_type": "code",
   "execution_count": 71,
   "metadata": {},
   "outputs": [
    {
     "name": "stdout",
     "output_type": "stream",
     "text": [
      "OVERLAP MERGING RESULT WITH CLIQUE PERCOLATION METHOD, CASCADE MODEL, SEED TOP 10 NODES AND DEG NEGATIVE THRESHOLD CALCULATION STRATEGY.\n",
      "\n",
      "['feedforward neural network', 'real life', 'algorithm', 'artificial neural network']\n",
      "len_topic: 4\n",
      "\n",
      "['state-space methods', 'particle filters', 'monte carlo methods', 'computer simulation', 'laboratories', 'deconvolution', 'filtering algorithms', 'mathematics', 'filtering', 'signal processing', 'state estimation', 'stochastic processes', 'bayesian methods', 'smoothing methods', 'fading', 'linear systems', 'signal processing algorithms']\n",
      "len_topic: 17\n",
      "\n",
      "['domain ontologies', 'useful tools', 'widely acknowledged']\n",
      "len_topic: 3\n",
      "\n"
     ]
    }
   ],
   "source": [
    "overlap_merge_view_deg_neg(2001, k = 10)"
   ]
  },
  {
   "cell_type": "markdown",
   "metadata": {},
   "source": [
    "### Year 2002"
   ]
  },
  {
   "cell_type": "code",
   "execution_count": 72,
   "metadata": {
    "scrolled": true
   },
   "outputs": [
    {
     "name": "stdout",
     "output_type": "stream",
     "text": [
      "OVERLAP MERGING RESULT WITH CLIQUE PERCOLATION METHOD, CASCADE MODEL, SEED TOP 10 NODES AND DEG THRESHOLD CALCULATION STRATEGY.\n",
      "\n",
      "['blind source separation', 'unsupervised learning', 'overcomplete situation', 'important method', 'independent component analysis']\n",
      "len_topic: 5\n",
      "\n",
      "['monte carlo methods', 'bayesian methods', 'signal processing', 'speech processing']\n",
      "len_topic: 4\n",
      "\n",
      "['lyapunov function', 'global exponential stability']\n",
      "len_topic: 2\n",
      "\n",
      "['filtering algorithms', 'state estimation']\n",
      "len_topic: 2\n",
      "\n"
     ]
    }
   ],
   "source": [
    "overlap_merge_view_deg(2002, k = 10)"
   ]
  },
  {
   "cell_type": "code",
   "execution_count": 73,
   "metadata": {},
   "outputs": [
    {
     "ename": "TopicNotAllKeywordsUsedException",
     "evalue": "To perfom all topics not all keywords have been used.",
     "output_type": "error",
     "traceback": [
      "\u001b[0;31m---------------------------------------------------------------------------\u001b[0m",
      "\u001b[0;31mTopicNotAllKeywordsUsedException\u001b[0m          Traceback (most recent call last)",
      "\u001b[0;32m<ipython-input-73-8e9039b6ba18>\u001b[0m in \u001b[0;36m<module>\u001b[0;34m\u001b[0m\n\u001b[0;32m----> 1\u001b[0;31m \u001b[0moverlap_merge_view_half\u001b[0m\u001b[0;34m(\u001b[0m\u001b[0;36m2002\u001b[0m\u001b[0;34m,\u001b[0m \u001b[0mk\u001b[0m \u001b[0;34m=\u001b[0m \u001b[0;36m10\u001b[0m\u001b[0;34m)\u001b[0m\u001b[0;34m\u001b[0m\u001b[0;34m\u001b[0m\u001b[0m\n\u001b[0m",
      "\u001b[0;32m<ipython-input-6-644b1e1d3189>\u001b[0m in \u001b[0;36moverlap_merge_view_half\u001b[0;34m(year, k)\u001b[0m\n\u001b[1;32m     11\u001b[0m     \u001b[0mspread_dict\u001b[0m\u001b[0;34m[\u001b[0m\u001b[0mstr\u001b[0m\u001b[0;34m(\u001b[0m\u001b[0myear\u001b[0m\u001b[0;34m)\u001b[0m\u001b[0;34m]\u001b[0m\u001b[0;34m.\u001b[0m\u001b[0mindipendent_cascade_model\u001b[0m\u001b[0;34m(\u001b[0m\u001b[0;34m)\u001b[0m\u001b[0;34m\u001b[0m\u001b[0;34m\u001b[0m\u001b[0m\n\u001b[1;32m     12\u001b[0m     \u001b[0mcascade_half\u001b[0m \u001b[0;34m=\u001b[0m \u001b[0mspread_dict\u001b[0m\u001b[0;34m[\u001b[0m\u001b[0mstr\u001b[0m\u001b[0;34m(\u001b[0m\u001b[0myear\u001b[0m\u001b[0;34m)\u001b[0m\u001b[0;34m]\u001b[0m\u001b[0;34m.\u001b[0m\u001b[0mget_influenced_nodes\u001b[0m\u001b[0;34m(\u001b[0m\u001b[0;34m)\u001b[0m\u001b[0;34m\u001b[0m\u001b[0;34m\u001b[0m\u001b[0m\n\u001b[0;32m---> 13\u001b[0;31m     \u001b[0mtopics_half\u001b[0m \u001b[0;34m=\u001b[0m \u001b[0moverlap_perform\u001b[0m\u001b[0;34m(\u001b[0m\u001b[0myear\u001b[0m\u001b[0;34m,\u001b[0m \u001b[0mcascade_half\u001b[0m\u001b[0;34m,\u001b[0m \u001b[0mk\u001b[0m\u001b[0;34m)\u001b[0m\u001b[0;34m\u001b[0m\u001b[0;34m\u001b[0m\u001b[0m\n\u001b[0m\u001b[1;32m     14\u001b[0m     \u001b[0mto_print\u001b[0m\u001b[0;34m(\u001b[0m\u001b[0mtopics_half\u001b[0m\u001b[0;34m,\u001b[0m \u001b[0;34m\"cascade\"\u001b[0m\u001b[0;34m,\u001b[0m \u001b[0mk\u001b[0m\u001b[0;34m,\u001b[0m \u001b[0;34m\"half\"\u001b[0m\u001b[0;34m)\u001b[0m\u001b[0;34m\u001b[0m\u001b[0;34m\u001b[0m\u001b[0m\n\u001b[1;32m     15\u001b[0m \u001b[0;34m\u001b[0m\u001b[0m\n",
      "\u001b[0;32m<ipython-input-5-60ae7201d3cc>\u001b[0m in \u001b[0;36moverlap_perform\u001b[0;34m(year, all_topics, k)\u001b[0m\n\u001b[1;32m      3\u001b[0m     \u001b[0moverlap\u001b[0m\u001b[0;34m.\u001b[0m\u001b[0moverlap_preprocessing\u001b[0m\u001b[0;34m(\u001b[0m\u001b[0;34m)\u001b[0m\u001b[0;34m\u001b[0m\u001b[0;34m\u001b[0m\u001b[0m\n\u001b[1;32m      4\u001b[0m     \u001b[0moverlap\u001b[0m\u001b[0;34m.\u001b[0m\u001b[0mclique_percolation_method\u001b[0m\u001b[0;34m(\u001b[0m\u001b[0;34m)\u001b[0m\u001b[0;34m\u001b[0m\u001b[0;34m\u001b[0m\u001b[0m\n\u001b[0;32m----> 5\u001b[0;31m     \u001b[0moverlap\u001b[0m\u001b[0;34m.\u001b[0m\u001b[0mcheck_spread_topics\u001b[0m\u001b[0;34m(\u001b[0m\u001b[0;34m)\u001b[0m\u001b[0;34m\u001b[0m\u001b[0;34m\u001b[0m\u001b[0m\n\u001b[0m\u001b[1;32m      6\u001b[0m     \u001b[0moverlap\u001b[0m\u001b[0;34m.\u001b[0m\u001b[0mcheck_number_topics\u001b[0m\u001b[0;34m(\u001b[0m\u001b[0;34m)\u001b[0m\u001b[0;34m\u001b[0m\u001b[0;34m\u001b[0m\u001b[0m\n\u001b[1;32m      7\u001b[0m     \u001b[0;32mreturn\u001b[0m \u001b[0moverlap\u001b[0m\u001b[0;34m.\u001b[0m\u001b[0mget_topics\u001b[0m\u001b[0;34m(\u001b[0m\u001b[0;34m)\u001b[0m\u001b[0;34m\u001b[0m\u001b[0;34m\u001b[0m\u001b[0m\n",
      "\u001b[0;32m~/Universita/magistrale/web_and_social_information_extraction/webandsocial-progetto/src/overlaps_topics/overlap_topics.py\u001b[0m in \u001b[0;36mcheck_spread_topics\u001b[0;34m(self)\u001b[0m\n\u001b[1;32m    156\u001b[0m \u001b[0;34m\u001b[0m\u001b[0m\n\u001b[1;32m    157\u001b[0m         \u001b[0;32mif\u001b[0m \u001b[0msize_iteration\u001b[0m \u001b[0;34m!=\u001b[0m \u001b[0msize_topics\u001b[0m\u001b[0;34m:\u001b[0m\u001b[0;34m\u001b[0m\u001b[0;34m\u001b[0m\u001b[0m\n\u001b[0;32m--> 158\u001b[0;31m             \u001b[0;32mraise\u001b[0m \u001b[0mexcpt\u001b[0m\u001b[0;34m.\u001b[0m\u001b[0mTopicNotAllKeywordsUsedException\u001b[0m\u001b[0;34m(\u001b[0m\u001b[0;34m\"To perfom all topics not all keywords have been used.\"\u001b[0m\u001b[0;34m)\u001b[0m\u001b[0;34m\u001b[0m\u001b[0;34m\u001b[0m\u001b[0m\n\u001b[0m\u001b[1;32m    159\u001b[0m \u001b[0;34m\u001b[0m\u001b[0m\n\u001b[1;32m    160\u001b[0m \u001b[0;34m\u001b[0m\u001b[0m\n",
      "\u001b[0;31mTopicNotAllKeywordsUsedException\u001b[0m: To perfom all topics not all keywords have been used."
     ]
    }
   ],
   "source": [
    "overlap_merge_view_half(2002, k = 10)"
   ]
  },
  {
   "cell_type": "code",
   "execution_count": 74,
   "metadata": {},
   "outputs": [
    {
     "ename": "TopicNotAllKeywordsUsedException",
     "evalue": "To perfom all topics not all keywords have been used.",
     "output_type": "error",
     "traceback": [
      "\u001b[0;31m---------------------------------------------------------------------------\u001b[0m",
      "\u001b[0;31mTopicNotAllKeywordsUsedException\u001b[0m          Traceback (most recent call last)",
      "\u001b[0;32m<ipython-input-74-11e87813e04e>\u001b[0m in \u001b[0;36m<module>\u001b[0;34m\u001b[0m\n\u001b[0;32m----> 1\u001b[0;31m \u001b[0moverlap_merge_view_deg_neg\u001b[0m\u001b[0;34m(\u001b[0m\u001b[0;36m2002\u001b[0m\u001b[0;34m,\u001b[0m \u001b[0mk\u001b[0m \u001b[0;34m=\u001b[0m \u001b[0;36m10\u001b[0m\u001b[0;34m)\u001b[0m\u001b[0;34m\u001b[0m\u001b[0;34m\u001b[0m\u001b[0m\n\u001b[0m",
      "\u001b[0;32m<ipython-input-6-644b1e1d3189>\u001b[0m in \u001b[0;36moverlap_merge_view_deg_neg\u001b[0;34m(year, k)\u001b[0m\n\u001b[1;32m     19\u001b[0m     \u001b[0mspread_dict\u001b[0m\u001b[0;34m[\u001b[0m\u001b[0mstr\u001b[0m\u001b[0;34m(\u001b[0m\u001b[0myear\u001b[0m\u001b[0;34m)\u001b[0m\u001b[0;34m]\u001b[0m\u001b[0;34m.\u001b[0m\u001b[0mindipendent_cascade_model\u001b[0m\u001b[0;34m(\u001b[0m\u001b[0;34m)\u001b[0m\u001b[0;34m\u001b[0m\u001b[0;34m\u001b[0m\u001b[0m\n\u001b[1;32m     20\u001b[0m     \u001b[0mcascade_deg_neg\u001b[0m \u001b[0;34m=\u001b[0m \u001b[0mspread_dict\u001b[0m\u001b[0;34m[\u001b[0m\u001b[0mstr\u001b[0m\u001b[0;34m(\u001b[0m\u001b[0myear\u001b[0m\u001b[0;34m)\u001b[0m\u001b[0;34m]\u001b[0m\u001b[0;34m.\u001b[0m\u001b[0mget_influenced_nodes\u001b[0m\u001b[0;34m(\u001b[0m\u001b[0;34m)\u001b[0m\u001b[0;34m\u001b[0m\u001b[0;34m\u001b[0m\u001b[0m\n\u001b[0;32m---> 21\u001b[0;31m     \u001b[0mtopics_deg_neg\u001b[0m \u001b[0;34m=\u001b[0m \u001b[0moverlap_perform\u001b[0m\u001b[0;34m(\u001b[0m\u001b[0myear\u001b[0m\u001b[0;34m,\u001b[0m \u001b[0mcascade_deg_neg\u001b[0m\u001b[0;34m,\u001b[0m \u001b[0mk\u001b[0m\u001b[0;34m)\u001b[0m\u001b[0;34m\u001b[0m\u001b[0;34m\u001b[0m\u001b[0m\n\u001b[0m\u001b[1;32m     22\u001b[0m     \u001b[0mto_print\u001b[0m\u001b[0;34m(\u001b[0m\u001b[0mtopics_deg_neg\u001b[0m\u001b[0;34m,\u001b[0m \u001b[0;34m\"cascade\"\u001b[0m\u001b[0;34m,\u001b[0m \u001b[0mk\u001b[0m\u001b[0;34m,\u001b[0m \u001b[0;34m\"deg negative\"\u001b[0m\u001b[0;34m)\u001b[0m\u001b[0;34m\u001b[0m\u001b[0;34m\u001b[0m\u001b[0m\n",
      "\u001b[0;32m<ipython-input-5-60ae7201d3cc>\u001b[0m in \u001b[0;36moverlap_perform\u001b[0;34m(year, all_topics, k)\u001b[0m\n\u001b[1;32m      3\u001b[0m     \u001b[0moverlap\u001b[0m\u001b[0;34m.\u001b[0m\u001b[0moverlap_preprocessing\u001b[0m\u001b[0;34m(\u001b[0m\u001b[0;34m)\u001b[0m\u001b[0;34m\u001b[0m\u001b[0;34m\u001b[0m\u001b[0m\n\u001b[1;32m      4\u001b[0m     \u001b[0moverlap\u001b[0m\u001b[0;34m.\u001b[0m\u001b[0mclique_percolation_method\u001b[0m\u001b[0;34m(\u001b[0m\u001b[0;34m)\u001b[0m\u001b[0;34m\u001b[0m\u001b[0;34m\u001b[0m\u001b[0m\n\u001b[0;32m----> 5\u001b[0;31m     \u001b[0moverlap\u001b[0m\u001b[0;34m.\u001b[0m\u001b[0mcheck_spread_topics\u001b[0m\u001b[0;34m(\u001b[0m\u001b[0;34m)\u001b[0m\u001b[0;34m\u001b[0m\u001b[0;34m\u001b[0m\u001b[0m\n\u001b[0m\u001b[1;32m      6\u001b[0m     \u001b[0moverlap\u001b[0m\u001b[0;34m.\u001b[0m\u001b[0mcheck_number_topics\u001b[0m\u001b[0;34m(\u001b[0m\u001b[0;34m)\u001b[0m\u001b[0;34m\u001b[0m\u001b[0;34m\u001b[0m\u001b[0m\n\u001b[1;32m      7\u001b[0m     \u001b[0;32mreturn\u001b[0m \u001b[0moverlap\u001b[0m\u001b[0;34m.\u001b[0m\u001b[0mget_topics\u001b[0m\u001b[0;34m(\u001b[0m\u001b[0;34m)\u001b[0m\u001b[0;34m\u001b[0m\u001b[0;34m\u001b[0m\u001b[0m\n",
      "\u001b[0;32m~/Universita/magistrale/web_and_social_information_extraction/webandsocial-progetto/src/overlaps_topics/overlap_topics.py\u001b[0m in \u001b[0;36mcheck_spread_topics\u001b[0;34m(self)\u001b[0m\n\u001b[1;32m    156\u001b[0m \u001b[0;34m\u001b[0m\u001b[0m\n\u001b[1;32m    157\u001b[0m         \u001b[0;32mif\u001b[0m \u001b[0msize_iteration\u001b[0m \u001b[0;34m!=\u001b[0m \u001b[0msize_topics\u001b[0m\u001b[0;34m:\u001b[0m\u001b[0;34m\u001b[0m\u001b[0;34m\u001b[0m\u001b[0m\n\u001b[0;32m--> 158\u001b[0;31m             \u001b[0;32mraise\u001b[0m \u001b[0mexcpt\u001b[0m\u001b[0;34m.\u001b[0m\u001b[0mTopicNotAllKeywordsUsedException\u001b[0m\u001b[0;34m(\u001b[0m\u001b[0;34m\"To perfom all topics not all keywords have been used.\"\u001b[0m\u001b[0;34m)\u001b[0m\u001b[0;34m\u001b[0m\u001b[0;34m\u001b[0m\u001b[0m\n\u001b[0m\u001b[1;32m    159\u001b[0m \u001b[0;34m\u001b[0m\u001b[0m\n\u001b[1;32m    160\u001b[0m \u001b[0;34m\u001b[0m\u001b[0m\n",
      "\u001b[0;31mTopicNotAllKeywordsUsedException\u001b[0m: To perfom all topics not all keywords have been used."
     ]
    }
   ],
   "source": [
    "overlap_merge_view_deg_neg(2002, k = 10)"
   ]
  },
  {
   "cell_type": "markdown",
   "metadata": {},
   "source": [
    "### Year 2003 "
   ]
  },
  {
   "cell_type": "code",
   "execution_count": 75,
   "metadata": {},
   "outputs": [
    {
     "ename": "TopicNotAllKeywordsUsedException",
     "evalue": "To perfom all topics not all keywords have been used.",
     "output_type": "error",
     "traceback": [
      "\u001b[0;31m---------------------------------------------------------------------------\u001b[0m",
      "\u001b[0;31mTopicNotAllKeywordsUsedException\u001b[0m          Traceback (most recent call last)",
      "\u001b[0;32m<ipython-input-75-0bd16f21719f>\u001b[0m in \u001b[0;36m<module>\u001b[0;34m\u001b[0m\n\u001b[0;32m----> 1\u001b[0;31m \u001b[0moverlap_merge_view_deg\u001b[0m\u001b[0;34m(\u001b[0m\u001b[0;36m2003\u001b[0m\u001b[0;34m,\u001b[0m \u001b[0mk\u001b[0m \u001b[0;34m=\u001b[0m \u001b[0;36m10\u001b[0m\u001b[0;34m)\u001b[0m\u001b[0;34m\u001b[0m\u001b[0;34m\u001b[0m\u001b[0m\n\u001b[0m",
      "\u001b[0;32m<ipython-input-6-644b1e1d3189>\u001b[0m in \u001b[0;36moverlap_merge_view_deg\u001b[0;34m(year, k)\u001b[0m\n\u001b[1;32m      3\u001b[0m     \u001b[0mspread_dict\u001b[0m\u001b[0;34m[\u001b[0m\u001b[0mstr\u001b[0m\u001b[0;34m(\u001b[0m\u001b[0myear\u001b[0m\u001b[0;34m)\u001b[0m\u001b[0;34m]\u001b[0m\u001b[0;34m.\u001b[0m\u001b[0mindipendent_cascade_model\u001b[0m\u001b[0;34m(\u001b[0m\u001b[0;34m)\u001b[0m\u001b[0;34m\u001b[0m\u001b[0;34m\u001b[0m\u001b[0m\n\u001b[1;32m      4\u001b[0m     \u001b[0mcascade_deg\u001b[0m \u001b[0;34m=\u001b[0m \u001b[0mspread_dict\u001b[0m\u001b[0;34m[\u001b[0m\u001b[0mstr\u001b[0m\u001b[0;34m(\u001b[0m\u001b[0myear\u001b[0m\u001b[0;34m)\u001b[0m\u001b[0;34m]\u001b[0m\u001b[0;34m.\u001b[0m\u001b[0mget_influenced_nodes\u001b[0m\u001b[0;34m(\u001b[0m\u001b[0;34m)\u001b[0m\u001b[0;34m\u001b[0m\u001b[0;34m\u001b[0m\u001b[0m\n\u001b[0;32m----> 5\u001b[0;31m     \u001b[0mtopics_deg\u001b[0m \u001b[0;34m=\u001b[0m \u001b[0moverlap_perform\u001b[0m\u001b[0;34m(\u001b[0m\u001b[0myear\u001b[0m\u001b[0;34m,\u001b[0m \u001b[0mcascade_deg\u001b[0m\u001b[0;34m,\u001b[0m \u001b[0mk\u001b[0m\u001b[0;34m)\u001b[0m\u001b[0;34m\u001b[0m\u001b[0;34m\u001b[0m\u001b[0m\n\u001b[0m\u001b[1;32m      6\u001b[0m     \u001b[0mto_print\u001b[0m\u001b[0;34m(\u001b[0m\u001b[0mtopics_deg\u001b[0m\u001b[0;34m,\u001b[0m \u001b[0;34m\"cascade\"\u001b[0m\u001b[0;34m,\u001b[0m \u001b[0mk\u001b[0m\u001b[0;34m,\u001b[0m \u001b[0;34m\"deg\"\u001b[0m\u001b[0;34m)\u001b[0m\u001b[0;34m\u001b[0m\u001b[0;34m\u001b[0m\u001b[0m\n\u001b[1;32m      7\u001b[0m \u001b[0;34m\u001b[0m\u001b[0m\n",
      "\u001b[0;32m<ipython-input-5-60ae7201d3cc>\u001b[0m in \u001b[0;36moverlap_perform\u001b[0;34m(year, all_topics, k)\u001b[0m\n\u001b[1;32m      3\u001b[0m     \u001b[0moverlap\u001b[0m\u001b[0;34m.\u001b[0m\u001b[0moverlap_preprocessing\u001b[0m\u001b[0;34m(\u001b[0m\u001b[0;34m)\u001b[0m\u001b[0;34m\u001b[0m\u001b[0;34m\u001b[0m\u001b[0m\n\u001b[1;32m      4\u001b[0m     \u001b[0moverlap\u001b[0m\u001b[0;34m.\u001b[0m\u001b[0mclique_percolation_method\u001b[0m\u001b[0;34m(\u001b[0m\u001b[0;34m)\u001b[0m\u001b[0;34m\u001b[0m\u001b[0;34m\u001b[0m\u001b[0m\n\u001b[0;32m----> 5\u001b[0;31m     \u001b[0moverlap\u001b[0m\u001b[0;34m.\u001b[0m\u001b[0mcheck_spread_topics\u001b[0m\u001b[0;34m(\u001b[0m\u001b[0;34m)\u001b[0m\u001b[0;34m\u001b[0m\u001b[0;34m\u001b[0m\u001b[0m\n\u001b[0m\u001b[1;32m      6\u001b[0m     \u001b[0moverlap\u001b[0m\u001b[0;34m.\u001b[0m\u001b[0mcheck_number_topics\u001b[0m\u001b[0;34m(\u001b[0m\u001b[0;34m)\u001b[0m\u001b[0;34m\u001b[0m\u001b[0;34m\u001b[0m\u001b[0m\n\u001b[1;32m      7\u001b[0m     \u001b[0;32mreturn\u001b[0m \u001b[0moverlap\u001b[0m\u001b[0;34m.\u001b[0m\u001b[0mget_topics\u001b[0m\u001b[0;34m(\u001b[0m\u001b[0;34m)\u001b[0m\u001b[0;34m\u001b[0m\u001b[0;34m\u001b[0m\u001b[0m\n",
      "\u001b[0;32m~/Universita/magistrale/web_and_social_information_extraction/webandsocial-progetto/src/overlaps_topics/overlap_topics.py\u001b[0m in \u001b[0;36mcheck_spread_topics\u001b[0;34m(self)\u001b[0m\n\u001b[1;32m    156\u001b[0m \u001b[0;34m\u001b[0m\u001b[0m\n\u001b[1;32m    157\u001b[0m         \u001b[0;32mif\u001b[0m \u001b[0msize_iteration\u001b[0m \u001b[0;34m!=\u001b[0m \u001b[0msize_topics\u001b[0m\u001b[0;34m:\u001b[0m\u001b[0;34m\u001b[0m\u001b[0;34m\u001b[0m\u001b[0m\n\u001b[0;32m--> 158\u001b[0;31m             \u001b[0;32mraise\u001b[0m \u001b[0mexcpt\u001b[0m\u001b[0;34m.\u001b[0m\u001b[0mTopicNotAllKeywordsUsedException\u001b[0m\u001b[0;34m(\u001b[0m\u001b[0;34m\"To perfom all topics not all keywords have been used.\"\u001b[0m\u001b[0;34m)\u001b[0m\u001b[0;34m\u001b[0m\u001b[0;34m\u001b[0m\u001b[0m\n\u001b[0m\u001b[1;32m    159\u001b[0m \u001b[0;34m\u001b[0m\u001b[0m\n\u001b[1;32m    160\u001b[0m \u001b[0;34m\u001b[0m\u001b[0m\n",
      "\u001b[0;31mTopicNotAllKeywordsUsedException\u001b[0m: To perfom all topics not all keywords have been used."
     ]
    }
   ],
   "source": [
    "overlap_merge_view_deg(2003, k = 10)"
   ]
  },
  {
   "cell_type": "code",
   "execution_count": 76,
   "metadata": {},
   "outputs": [
    {
     "name": "stdout",
     "output_type": "stream",
     "text": [
      "OVERLAP MERGING RESULT WITH CLIQUE PERCOLATION METHOD, CASCADE MODEL, SEED TOP 10 NODES AND HALF THRESHOLD CALCULATION STRATEGY.\n",
      "\n",
      "['85.40.ls', '87.10.+e', 'young inequality', 'lyapunov functional', 'global exponential stability', '87.18.sn', '43.80.+p']\n",
      "len_topic: 7\n",
      "\n",
      "['grid computing', 'scheduling (computing)', 'computation', 'random number generation']\n",
      "len_topic: 4\n",
      "\n",
      "['feature vector', 'algorithm', 'first-order predicate', 'really simple discovery', 'singular value decomposition', 'scalability', 'heuristic', 'real life', 'pattern recognition']\n",
      "len_topic: 9\n",
      "\n"
     ]
    }
   ],
   "source": [
    "overlap_merge_view_half(2003, k = 10)"
   ]
  },
  {
   "cell_type": "code",
   "execution_count": 77,
   "metadata": {},
   "outputs": [
    {
     "name": "stdout",
     "output_type": "stream",
     "text": [
      "OVERLAP MERGING RESULT WITH CLIQUE PERCOLATION METHOD, CASCADE MODEL, SEED TOP 10 NODES AND DEG NEGATIVE THRESHOLD CALCULATION STRATEGY.\n",
      "\n",
      "['feature vector', 'algorithm', 'first-order predicate', 'really simple discovery', 'dimensionality reduction', 'singular value decomposition', 'scalability', 'heuristic', 'real life', 'pattern recognition']\n",
      "len_topic: 10\n",
      "\n",
      "['computation', 'grid computing', 'monte carlo method', 'scheduling (computing)']\n",
      "len_topic: 4\n",
      "\n",
      "['periodic solution', '85.40.ls', '87.10.+e', 'sufficient conditions', '87.18.sn', 'lyapunov functional', '43.80.+p', 'young inequality', 'global exponential stability', 'neural networks']\n",
      "len_topic: 10\n",
      "\n"
     ]
    }
   ],
   "source": [
    "overlap_merge_view_deg_neg(2003, k = 10)"
   ]
  },
  {
   "cell_type": "markdown",
   "metadata": {},
   "source": [
    "### Year 2004"
   ]
  },
  {
   "cell_type": "code",
   "execution_count": 78,
   "metadata": {},
   "outputs": [
    {
     "name": "stdout",
     "output_type": "stream",
     "text": [
      "OVERLAP MERGING RESULT WITH CLIQUE PERCOLATION METHOD, CASCADE MODEL, SEED TOP 10 NODES AND DEG THRESHOLD CALCULATION STRATEGY.\n",
      "\n",
      "['consistent view', 'user study', 'differentiating noisy', 'previous work shows', 'multiple segments', 'web page', 'uniform approach']\n",
      "len_topic: 7\n",
      "\n",
      "['experiment', 'mathematical optimization', 'benchmark (computing)', 'linear discriminant analysis']\n",
      "len_topic: 4\n",
      "\n",
      "['real life', 'algorithm', 'subgroup a nepoviruses', 'rule (guideline)', 'stochastic process', 'roc curve']\n",
      "len_topic: 6\n",
      "\n"
     ]
    }
   ],
   "source": [
    "overlap_merge_view_deg(2004, k = 10)"
   ]
  },
  {
   "cell_type": "code",
   "execution_count": 79,
   "metadata": {},
   "outputs": [
    {
     "name": "stdout",
     "output_type": "stream",
     "text": [
      "OVERLAP MERGING RESULT WITH CLIQUE PERCOLATION METHOD, CASCADE MODEL, SEED TOP 10 NODES AND HALF THRESHOLD CALCULATION STRATEGY.\n",
      "\n",
      "['consistent view', 'user study', 'differentiating noisy', 'previous work shows', 'multiple segments', 'web page', 'uniform approach']\n",
      "len_topic: 7\n",
      "\n",
      "['experiment', 'mathematical optimization', 'particle swarm optimization', 'benchmark (computing)', 'linear discriminant analysis']\n",
      "len_topic: 5\n",
      "\n",
      "['class', 'algorithm', 'rule (guideline)', 'roc curve', 'subgroup a nepoviruses', 'heuristic', 'real life', 'ant colony optimization algorithms', 'large', 'apache ant (another neat tool)', 'stochastic process']\n",
      "len_topic: 11\n",
      "\n"
     ]
    }
   ],
   "source": [
    "overlap_merge_view_half(2004, k = 10)"
   ]
  },
  {
   "cell_type": "code",
   "execution_count": 80,
   "metadata": {},
   "outputs": [
    {
     "name": "stdout",
     "output_type": "stream",
     "text": [
      "OVERLAP MERGING RESULT WITH CLIQUE PERCOLATION METHOD, CASCADE MODEL, SEED TOP 10 NODES AND DEG NEGATIVE THRESHOLD CALCULATION STRATEGY.\n",
      "\n",
      "['experiment', 'mathematical optimization', 'particle swarm optimization', 'benchmark (computing)', 'linear discriminant analysis']\n",
      "len_topic: 5\n",
      "\n",
      "['class', 'ant colony optimization algorithms', 'algorithm', 'biasing', 'rule (guideline)', 'roc curve', 'heuristic', 'real life', 'reinforcement learning', 'subgroup a nepoviruses', 'large', 'apache ant (another neat tool)', 'stochastic process', 'consortium']\n",
      "len_topic: 14\n",
      "\n",
      "['consistent view', 'link analysis', 'user study', 'previous work shows', 'differentiating noisy', 'multiple segments', 'web page', 'uniform approach']\n",
      "len_topic: 8\n",
      "\n"
     ]
    }
   ],
   "source": [
    "overlap_merge_view_deg_neg(2004, k = 10)"
   ]
  },
  {
   "cell_type": "markdown",
   "metadata": {},
   "source": [
    "### Year 2005"
   ]
  },
  {
   "cell_type": "code",
   "execution_count": 81,
   "metadata": {},
   "outputs": [
    {
     "name": "stdout",
     "output_type": "stream",
     "text": [
      "OVERLAP MERGING RESULT WITH CLIQUE PERCOLATION METHOD, CASCADE MODEL, SEED TOP 10 NODES AND DEG THRESHOLD CALCULATION STRATEGY.\n",
      "\n",
      "['global asymptotic stability', 'equilibrium point', 'linear matrix inequality']\n",
      "len_topic: 3\n",
      "\n",
      "['recurrent neural network', 'lyapunov fractal', 'activation function', 'artificial neural network', 'neural network simulation']\n",
      "len_topic: 5\n",
      "\n",
      "['sliding mode control', 'statistics', 'inference algorithms', 'monte carlo methods', 'bayesian methods']\n",
      "len_topic: 5\n",
      "\n",
      "['similar way', 'human eyes sensing', 'nonuniform lighting conditions', 'visual quality']\n",
      "len_topic: 4\n",
      "\n",
      "['neural networks', 'global exponential stability']\n",
      "len_topic: 2\n",
      "\n"
     ]
    }
   ],
   "source": [
    "overlap_merge_view_deg(2005, k = 10)"
   ]
  },
  {
   "cell_type": "code",
   "execution_count": 82,
   "metadata": {},
   "outputs": [
    {
     "name": "stdout",
     "output_type": "stream",
     "text": [
      "OVERLAP MERGING RESULT WITH CLIQUE PERCOLATION METHOD, CASCADE MODEL, SEED TOP 10 NODES AND HALF THRESHOLD CALCULATION STRATEGY.\n",
      "\n",
      "['sliding mode control', 'statistics', 'inference algorithms', 'monte carlo methods', 'bayesian methods']\n",
      "len_topic: 5\n",
      "\n",
      "['recurrent neural network', 'lyapunov fractal', 'activation function', 'artificial neural network', 'neural network simulation']\n",
      "len_topic: 5\n",
      "\n",
      "['equilibrium point', 'linear matrix inequality']\n",
      "len_topic: 2\n",
      "\n",
      "['global exponential stability', 'cellular neural networks', 'periodic solutions', 'neural networks']\n",
      "len_topic: 4\n",
      "\n",
      "['adaptive enhancement', 'nonuniform lighting conditions', 'similar way', 'human eyes sensing', 'digital images captured', 'tone frequency components', 'visual quality']\n",
      "len_topic: 7\n",
      "\n"
     ]
    }
   ],
   "source": [
    "overlap_merge_view_half(2005, k = 10)"
   ]
  },
  {
   "cell_type": "code",
   "execution_count": 83,
   "metadata": {},
   "outputs": [
    {
     "name": "stdout",
     "output_type": "stream",
     "text": [
      "OVERLAP MERGING RESULT WITH CLIQUE PERCOLATION METHOD, CASCADE MODEL, SEED TOP 10 NODES AND DEG NEGATIVE THRESHOLD CALCULATION STRATEGY.\n",
      "\n",
      "['sliding mode control', 'statistics', 'inference algorithms', 'monte carlo methods', 'bayesian methods']\n",
      "len_topic: 5\n",
      "\n",
      "['global asymptotic stability', 'linear matrix inequality']\n",
      "len_topic: 2\n",
      "\n",
      "['similar way', 'human eyes sensing', 'adaptive enhancement', 'nonuniform lighting conditions', 'tone frequency components', 'visual quality']\n",
      "len_topic: 6\n",
      "\n",
      "['recurrent neural network', 'social inequality', 'lyapunov fractal', 'activation function', 'artificial neural network', 'neural network simulation']\n",
      "len_topic: 6\n",
      "\n",
      "['periodic solutions', 'global exponential stability', 'cellular neural networks']\n",
      "len_topic: 3\n",
      "\n"
     ]
    }
   ],
   "source": [
    "overlap_merge_view_deg_neg(2005, k = 10)"
   ]
  },
  {
   "cell_type": "markdown",
   "metadata": {},
   "source": [
    "### Year 2006"
   ]
  },
  {
   "cell_type": "code",
   "execution_count": 84,
   "metadata": {},
   "outputs": [
    {
     "name": "stdout",
     "output_type": "stream",
     "text": [
      "OVERLAP MERGING RESULT WITH CLIQUE PERCOLATION METHOD, CASCADE MODEL, SEED TOP 10 NODES AND DEG THRESHOLD CALCULATION STRATEGY.\n",
      "\n",
      "['discrete delays', 'numerical analysis', 'global asymptotic stability', 'variational principle', 'sufficient conditions', 'linear matrix inequality', 'hessian', 'stochastic systems', 'distributed delays', 'lyapunov–krasovskii functional', 'global exponential stability', 'hopfield neural networks', 'time-varying delays']\n",
      "len_topic: 13\n",
      "\n",
      "['quantum', 'algorithm']\n",
      "len_topic: 2\n",
      "\n"
     ]
    }
   ],
   "source": [
    "overlap_merge_view_deg(2006, k = 10)"
   ]
  },
  {
   "cell_type": "code",
   "execution_count": 85,
   "metadata": {},
   "outputs": [
    {
     "name": "stdout",
     "output_type": "stream",
     "text": [
      "OVERLAP MERGING RESULT WITH CLIQUE PERCOLATION METHOD, CASCADE MODEL, SEED TOP 10 NODES AND HALF THRESHOLD CALCULATION STRATEGY.\n",
      "\n",
      "['discrete delays', 'numerical analysis', 'experiment', 'global asymptotic stability', 'linear matrix inequality', 'lyapunov fractal', 'distributed delays', 'lyapunov–krasovskii functional', 'global exponential stability', 'artificial neural network', 'quantum', 'neural networks', 'periodic solution', 'uncertain systems', 'computationally efficient', 'variational principle', 'algorithm', 'discrete and distributed delays', 'sufficient conditions', 'computation', 'hessian', 'stochastic systems', 'hopfield neural networks', 'particle swarm optimization', 'gradient', 'time-varying delays']\n",
      "len_topic: 26\n",
      "\n"
     ]
    }
   ],
   "source": [
    "overlap_merge_view_half(2006, k = 10)"
   ]
  },
  {
   "cell_type": "code",
   "execution_count": 86,
   "metadata": {},
   "outputs": [
    {
     "name": "stdout",
     "output_type": "stream",
     "text": [
      "OVERLAP MERGING RESULT WITH CLIQUE PERCOLATION METHOD, CASCADE MODEL, SEED TOP 10 NODES AND DEG NEGATIVE THRESHOLD CALCULATION STRATEGY.\n",
      "\n",
      "['discrete delays', 'numerical analysis', 'experiment', 'global asymptotic stability', 'linear matrix inequality', 'machine learning', 'lyapunov fractal', 'distributed delays', 'lyapunov–krasovskii functional', 'global exponential stability', 'artificial neural network', 'quantum', 'neural networks', 'time delays', 'periodic solution', 'uncertain systems', 'variational principle', 'algorithm', 'discrete and distributed delays', 'sufficient conditions', 'computation', 'hessian', 'stochastic systems', 'hopfield neural networks', 'particle swarm optimization', 'gradient', 'time-varying delays']\n",
      "len_topic: 27\n",
      "\n"
     ]
    }
   ],
   "source": [
    "overlap_merge_view_deg_neg(2006, k = 10)"
   ]
  },
  {
   "cell_type": "markdown",
   "metadata": {},
   "source": [
    "### Year 2007"
   ]
  },
  {
   "cell_type": "code",
   "execution_count": 87,
   "metadata": {},
   "outputs": [
    {
     "name": "stdout",
     "output_type": "stream",
     "text": [
      "OVERLAP MERGING RESULT WITH CLIQUE PERCOLATION METHOD, CASCADE MODEL, SEED TOP 10 NODES AND DEG THRESHOLD CALCULATION STRATEGY.\n",
      "\n",
      "['numerical analysis', 'velocity (software development)', 'particle swarm optimization', 'evolutionary algorithm', 'mathematical optimization']\n",
      "len_topic: 5\n",
      "\n",
      "['linear matrix inequality', 'neural network simulation', 'lyapunov functional', 'social inequality', 'lag synchronization', 'artificial neural network', 'synchronization', 'chaos']\n",
      "len_topic: 8\n",
      "\n"
     ]
    }
   ],
   "source": [
    "overlap_merge_view_deg(2007, k = 10)"
   ]
  },
  {
   "cell_type": "code",
   "execution_count": 88,
   "metadata": {},
   "outputs": [
    {
     "name": "stdout",
     "output_type": "stream",
     "text": [
      "OVERLAP MERGING RESULT WITH CLIQUE PERCOLATION METHOD, CASCADE MODEL, SEED TOP 10 NODES AND HALF THRESHOLD CALCULATION STRATEGY.\n",
      "\n",
      "['numerical analysis', 'velocity (software development)', 'particle swarm optimization', 'evolutionary algorithm', 'mathematical optimization']\n",
      "len_topic: 5\n",
      "\n",
      "['linear matrix inequality', 'neural network simulation', 'lyapunov functional', 'social inequality', 'bidirectional associative memory', 'lag synchronization', 'artificial neural network', 'synchronization', 'chaos', 'time-varying delays']\n",
      "len_topic: 10\n",
      "\n"
     ]
    }
   ],
   "source": [
    "overlap_merge_view_half(2007, k = 10)"
   ]
  },
  {
   "cell_type": "code",
   "execution_count": 89,
   "metadata": {},
   "outputs": [
    {
     "name": "stdout",
     "output_type": "stream",
     "text": [
      "OVERLAP MERGING RESULT WITH CLIQUE PERCOLATION METHOD, CASCADE MODEL, SEED TOP 10 NODES AND DEG NEGATIVE THRESHOLD CALCULATION STRATEGY.\n",
      "\n",
      "['numerical analysis', 'velocity (software development)', 'particle swarm optimization', 'evolutionary algorithm', 'mathematical optimization']\n",
      "len_topic: 5\n",
      "\n",
      "['bidirectional associative memory neural networks', 'linear matrix inequality', 'neural network simulation', 'lyapunov functional', 'rate of convergence', 'cohen–grossberg neural networks', 'social inequality', 'bidirectional associative memory', 'lyapunov fractal', 'content-addressable memory', 'distributed delays', 'artificial neural network', 'synchronization', 'chaos', 'time-varying delays']\n",
      "len_topic: 15\n",
      "\n"
     ]
    }
   ],
   "source": [
    "overlap_merge_view_deg_neg(2007, k = 10)"
   ]
  },
  {
   "cell_type": "markdown",
   "metadata": {},
   "source": [
    "### Year 2008"
   ]
  },
  {
   "cell_type": "code",
   "execution_count": 90,
   "metadata": {},
   "outputs": [
    {
     "name": "stdout",
     "output_type": "stream",
     "text": [
      "OVERLAP MERGING RESULT WITH CLIQUE PERCOLATION METHOD, CASCADE MODEL, SEED TOP 10 NODES AND DEG THRESHOLD CALCULATION STRATEGY.\n",
      "\n",
      "['exponential', 'numerical analysis', 'global asymptotic stability', 'lyapunov method', 'linear matrix inequality', 'rate of convergence', 'mathematical optimization', 'social inequality', 'lyapunov fractal', 'lyapunov–krasovskii functional', 'artificial neural network', 'exponential stability']\n",
      "len_topic: 12\n",
      "\n",
      "['systems architecture', 'algorithm', 'user interface', 'relay', 'ici (programming language)', 'signal-to-interference-plus-noise ratio', 'interference (communication)', 'multi-user']\n",
      "len_topic: 8\n",
      "\n"
     ]
    }
   ],
   "source": [
    "overlap_merge_view_deg(2008, k = 10)"
   ]
  },
  {
   "cell_type": "code",
   "execution_count": 91,
   "metadata": {},
   "outputs": [
    {
     "name": "stdout",
     "output_type": "stream",
     "text": [
      "OVERLAP MERGING RESULT WITH CLIQUE PERCOLATION METHOD, CASCADE MODEL, SEED TOP 10 NODES AND HALF THRESHOLD CALCULATION STRATEGY.\n",
      "\n",
      "['throughput', 'systems architecture', 'algorithm', 'user interface', 'relay', 'computation', 'ici (programming language)', 'signal-to-interference-plus-noise ratio', 'interference (communication)', 'multi-user']\n",
      "len_topic: 10\n",
      "\n",
      "['exponential', 'numerical analysis', 'global optimization', 'lyapunov method', 'linear matrix inequality', 'unbounded distributed delays', 'rate of convergence', 'mathematical optimization', 'social inequality', 'lyapunov fractal', 'lyapunov–krasovskii functional', 'artificial neural network', 'exponential stability']\n",
      "len_topic: 13\n",
      "\n"
     ]
    }
   ],
   "source": [
    "overlap_merge_view_half(2008, k = 10)"
   ]
  },
  {
   "cell_type": "code",
   "execution_count": 92,
   "metadata": {},
   "outputs": [
    {
     "name": "stdout",
     "output_type": "stream",
     "text": [
      "OVERLAP MERGING RESULT WITH CLIQUE PERCOLATION METHOD, CASCADE MODEL, SEED TOP 10 NODES AND DEG NEGATIVE THRESHOLD CALCULATION STRATEGY.\n",
      "\n",
      "['throughput', 'systems architecture', 'algorithm', 'user interface', 'relay', 'ici (programming language)', 'signal-to-interference-plus-noise ratio', 'simulation', 'interference (communication)', 'cognitive radio', 'multi-user']\n",
      "len_topic: 11\n",
      "\n",
      "['numerical analysis', 'exponential', 'global asymptotic stability', 'lyapunov method', 'linear matrix inequality', 'unbounded distributed delays', 'rate of convergence', 'mathematical optimization', 'social inequality', 'varying delays', 'biological neural networks', 'lyapunov fractal', 'artificial neural network', 'lyapunov–krasovskii functional', 'neural networks']\n",
      "len_topic: 15\n",
      "\n"
     ]
    }
   ],
   "source": [
    "overlap_merge_view_deg_neg(2008, k = 10)"
   ]
  },
  {
   "cell_type": "markdown",
   "metadata": {},
   "source": [
    "### Year 2009"
   ]
  },
  {
   "cell_type": "code",
   "execution_count": 93,
   "metadata": {},
   "outputs": [
    {
     "name": "stdout",
     "output_type": "stream",
     "text": [
      "OVERLAP MERGING RESULT WITH CLIQUE PERCOLATION METHOD, CASCADE MODEL, SEED TOP 10 NODES AND DEG THRESHOLD CALCULATION STRATEGY.\n",
      "\n",
      "['05.45.gg', '05.45.xt', '05.45.vx']\n",
      "len_topic: 3\n",
      "\n",
      "['cognitive radio', 'frequency band', 'frequency allocation']\n",
      "len_topic: 3\n",
      "\n",
      "['adaptive neuro fuzzy inference system', 'identification', 'recursion', 'stability analysis', 'optimization problem', 'mathematical optimization', 'machine learning', 'lyapunov fractal', 'particle swarm optimization', 'gradient descent', 'test suite', 'system identifier', 'evolutionary algorithm']\n",
      "len_topic: 13\n",
      "\n"
     ]
    }
   ],
   "source": [
    "overlap_merge_view_deg(2009, k = 10)"
   ]
  },
  {
   "cell_type": "code",
   "execution_count": 94,
   "metadata": {},
   "outputs": [
    {
     "name": "stdout",
     "output_type": "stream",
     "text": [
      "OVERLAP MERGING RESULT WITH CLIQUE PERCOLATION METHOD, CASCADE MODEL, SEED TOP 10 NODES AND HALF THRESHOLD CALCULATION STRATEGY.\n",
      "\n",
      "['cognitive radio', 'frequency allocation', 'interference (communication)']\n",
      "len_topic: 3\n",
      "\n",
      "['adaptive neuro fuzzy inference system', 'recursion', 'hybrid learning algorithm', 'stability analysis', 'recursive least squares filter', 'differential evolution', 'machine learning', 'lyapunov fractal', 'gradient descent', 'test suite', '3d modeling', 'system identifier', 'anfis', 'disjunctive normal form', 'evolutionary algorithm', 'identification', 'global optimization', 'algorithm', 'aliasing', 'rate of convergence', 'optimization problem', 'mathematical optimization', 'reinforcement learning', 'particle swarm optimization', 'simulation']\n",
      "len_topic: 25\n",
      "\n",
      "['05.45.vx', '05.45.xt']\n",
      "len_topic: 2\n",
      "\n"
     ]
    }
   ],
   "source": [
    "overlap_merge_view_half(2009, k = 10)"
   ]
  },
  {
   "cell_type": "code",
   "execution_count": 95,
   "metadata": {},
   "outputs": [
    {
     "ename": "TopicNotAllKeywordsUsedException",
     "evalue": "To perfom all topics not all keywords have been used.",
     "output_type": "error",
     "traceback": [
      "\u001b[0;31m---------------------------------------------------------------------------\u001b[0m",
      "\u001b[0;31mTopicNotAllKeywordsUsedException\u001b[0m          Traceback (most recent call last)",
      "\u001b[0;32m<ipython-input-95-2136a6a1b3c3>\u001b[0m in \u001b[0;36m<module>\u001b[0;34m\u001b[0m\n\u001b[0;32m----> 1\u001b[0;31m \u001b[0moverlap_merge_view_deg_neg\u001b[0m\u001b[0;34m(\u001b[0m\u001b[0;36m2009\u001b[0m\u001b[0;34m,\u001b[0m \u001b[0mk\u001b[0m \u001b[0;34m=\u001b[0m \u001b[0;36m10\u001b[0m\u001b[0;34m)\u001b[0m\u001b[0;34m\u001b[0m\u001b[0;34m\u001b[0m\u001b[0m\n\u001b[0m",
      "\u001b[0;32m<ipython-input-6-644b1e1d3189>\u001b[0m in \u001b[0;36moverlap_merge_view_deg_neg\u001b[0;34m(year, k)\u001b[0m\n\u001b[1;32m     19\u001b[0m     \u001b[0mspread_dict\u001b[0m\u001b[0;34m[\u001b[0m\u001b[0mstr\u001b[0m\u001b[0;34m(\u001b[0m\u001b[0myear\u001b[0m\u001b[0;34m)\u001b[0m\u001b[0;34m]\u001b[0m\u001b[0;34m.\u001b[0m\u001b[0mindipendent_cascade_model\u001b[0m\u001b[0;34m(\u001b[0m\u001b[0;34m)\u001b[0m\u001b[0;34m\u001b[0m\u001b[0;34m\u001b[0m\u001b[0m\n\u001b[1;32m     20\u001b[0m     \u001b[0mcascade_deg_neg\u001b[0m \u001b[0;34m=\u001b[0m \u001b[0mspread_dict\u001b[0m\u001b[0;34m[\u001b[0m\u001b[0mstr\u001b[0m\u001b[0;34m(\u001b[0m\u001b[0myear\u001b[0m\u001b[0;34m)\u001b[0m\u001b[0;34m]\u001b[0m\u001b[0;34m.\u001b[0m\u001b[0mget_influenced_nodes\u001b[0m\u001b[0;34m(\u001b[0m\u001b[0;34m)\u001b[0m\u001b[0;34m\u001b[0m\u001b[0;34m\u001b[0m\u001b[0m\n\u001b[0;32m---> 21\u001b[0;31m     \u001b[0mtopics_deg_neg\u001b[0m \u001b[0;34m=\u001b[0m \u001b[0moverlap_perform\u001b[0m\u001b[0;34m(\u001b[0m\u001b[0myear\u001b[0m\u001b[0;34m,\u001b[0m \u001b[0mcascade_deg_neg\u001b[0m\u001b[0;34m,\u001b[0m \u001b[0mk\u001b[0m\u001b[0;34m)\u001b[0m\u001b[0;34m\u001b[0m\u001b[0;34m\u001b[0m\u001b[0m\n\u001b[0m\u001b[1;32m     22\u001b[0m     \u001b[0mto_print\u001b[0m\u001b[0;34m(\u001b[0m\u001b[0mtopics_deg_neg\u001b[0m\u001b[0;34m,\u001b[0m \u001b[0;34m\"cascade\"\u001b[0m\u001b[0;34m,\u001b[0m \u001b[0mk\u001b[0m\u001b[0;34m,\u001b[0m \u001b[0;34m\"deg negative\"\u001b[0m\u001b[0;34m)\u001b[0m\u001b[0;34m\u001b[0m\u001b[0;34m\u001b[0m\u001b[0m\n",
      "\u001b[0;32m<ipython-input-5-60ae7201d3cc>\u001b[0m in \u001b[0;36moverlap_perform\u001b[0;34m(year, all_topics, k)\u001b[0m\n\u001b[1;32m      3\u001b[0m     \u001b[0moverlap\u001b[0m\u001b[0;34m.\u001b[0m\u001b[0moverlap_preprocessing\u001b[0m\u001b[0;34m(\u001b[0m\u001b[0;34m)\u001b[0m\u001b[0;34m\u001b[0m\u001b[0;34m\u001b[0m\u001b[0m\n\u001b[1;32m      4\u001b[0m     \u001b[0moverlap\u001b[0m\u001b[0;34m.\u001b[0m\u001b[0mclique_percolation_method\u001b[0m\u001b[0;34m(\u001b[0m\u001b[0;34m)\u001b[0m\u001b[0;34m\u001b[0m\u001b[0;34m\u001b[0m\u001b[0m\n\u001b[0;32m----> 5\u001b[0;31m     \u001b[0moverlap\u001b[0m\u001b[0;34m.\u001b[0m\u001b[0mcheck_spread_topics\u001b[0m\u001b[0;34m(\u001b[0m\u001b[0;34m)\u001b[0m\u001b[0;34m\u001b[0m\u001b[0;34m\u001b[0m\u001b[0m\n\u001b[0m\u001b[1;32m      6\u001b[0m     \u001b[0moverlap\u001b[0m\u001b[0;34m.\u001b[0m\u001b[0mcheck_number_topics\u001b[0m\u001b[0;34m(\u001b[0m\u001b[0;34m)\u001b[0m\u001b[0;34m\u001b[0m\u001b[0;34m\u001b[0m\u001b[0m\n\u001b[1;32m      7\u001b[0m     \u001b[0;32mreturn\u001b[0m \u001b[0moverlap\u001b[0m\u001b[0;34m.\u001b[0m\u001b[0mget_topics\u001b[0m\u001b[0;34m(\u001b[0m\u001b[0;34m)\u001b[0m\u001b[0;34m\u001b[0m\u001b[0;34m\u001b[0m\u001b[0m\n",
      "\u001b[0;32m~/Universita/magistrale/web_and_social_information_extraction/webandsocial-progetto/src/overlaps_topics/overlap_topics.py\u001b[0m in \u001b[0;36mcheck_spread_topics\u001b[0;34m(self)\u001b[0m\n\u001b[1;32m    156\u001b[0m \u001b[0;34m\u001b[0m\u001b[0m\n\u001b[1;32m    157\u001b[0m         \u001b[0;32mif\u001b[0m \u001b[0msize_iteration\u001b[0m \u001b[0;34m!=\u001b[0m \u001b[0msize_topics\u001b[0m\u001b[0;34m:\u001b[0m\u001b[0;34m\u001b[0m\u001b[0;34m\u001b[0m\u001b[0m\n\u001b[0;32m--> 158\u001b[0;31m             \u001b[0;32mraise\u001b[0m \u001b[0mexcpt\u001b[0m\u001b[0;34m.\u001b[0m\u001b[0mTopicNotAllKeywordsUsedException\u001b[0m\u001b[0;34m(\u001b[0m\u001b[0;34m\"To perfom all topics not all keywords have been used.\"\u001b[0m\u001b[0;34m)\u001b[0m\u001b[0;34m\u001b[0m\u001b[0;34m\u001b[0m\u001b[0m\n\u001b[0m\u001b[1;32m    159\u001b[0m \u001b[0;34m\u001b[0m\u001b[0m\n\u001b[1;32m    160\u001b[0m \u001b[0;34m\u001b[0m\u001b[0m\n",
      "\u001b[0;31mTopicNotAllKeywordsUsedException\u001b[0m: To perfom all topics not all keywords have been used."
     ]
    }
   ],
   "source": [
    "overlap_merge_view_deg_neg(2009, k = 10)"
   ]
  },
  {
   "cell_type": "markdown",
   "metadata": {},
   "source": [
    "### Year 2010"
   ]
  },
  {
   "cell_type": "code",
   "execution_count": 96,
   "metadata": {},
   "outputs": [
    {
     "name": "stdout",
     "output_type": "stream",
     "text": [
      "OVERLAP MERGING RESULT WITH CLIQUE PERCOLATION METHOD, CASCADE MODEL, SEED TOP 10 NODES AND DEG THRESHOLD CALCULATION STRATEGY.\n",
      "\n",
      "[\"whole earth 'lectronic link\", 'real-time clock', 'multi-agent system', 'machine learning', 'overhead (computing)', 'interference (communication)', 'self-organization', 'network congestion', 'algorithm', 'q-learning', 'cognition', 'stationary process', 'coexist (image)', 'interaction', 'reinforcement learning', 'simulation', 'cognitive radio', 'programming paradigm']\n",
      "len_topic: 18\n",
      "\n",
      "['artificial neural network', 'linear matrix inequality']\n",
      "len_topic: 2\n",
      "\n"
     ]
    }
   ],
   "source": [
    "overlap_merge_view_deg(2010, k = 10)"
   ]
  },
  {
   "cell_type": "code",
   "execution_count": 97,
   "metadata": {},
   "outputs": [
    {
     "name": "stdout",
     "output_type": "stream",
     "text": [
      "OVERLAP MERGING RESULT WITH CLIQUE PERCOLATION METHOD, CASCADE MODEL, SEED TOP 10 NODES AND HALF THRESHOLD CALCULATION STRATEGY.\n",
      "\n",
      "['numerical analysis', \"whole earth 'lectronic link\", 'operating environment', 'real-time clock', 'action selection', 'multi-agent system', 'data mining', 'machine learning', 'overhead (computing)', 'interference (communication)', 'self-organization', 'scheduling (computing)', 'network congestion', 'real-time transcription', 'spectrum analyzer', 'algorithm', 'q-learning', 'height above ground level', 'stationary process', 'cognition', 'iterative method', 'coexist (image)', 'rate of convergence', 'centralized computing', 'interaction', 'reinforcement learning', 'numerous', 'simulation', 'cognitive radio', 'particle swarm optimization', 'programming paradigm']\n",
      "len_topic: 31\n",
      "\n",
      "['complex network', 'multistability', 'linear matrix inequality', 'lyapunov functional', 'social inequality', 'lyapunov fractal', 'lyapunov–krasovskii functional', 'systems biology', 'artificial neural network', 'global exponential stability', 'gene regulatory network']\n",
      "len_topic: 11\n",
      "\n"
     ]
    }
   ],
   "source": [
    "overlap_merge_view_half(2010, k = 10)"
   ]
  },
  {
   "cell_type": "code",
   "execution_count": 98,
   "metadata": {},
   "outputs": [
    {
     "name": "stdout",
     "output_type": "stream",
     "text": [
      "OVERLAP MERGING RESULT WITH CLIQUE PERCOLATION METHOD, CASCADE MODEL, SEED TOP 10 NODES AND DEG NEGATIVE THRESHOLD CALCULATION STRATEGY.\n",
      "\n",
      "['complex network', 'global asymptotic stability', 'multistability', 'neural networks', 'linear matrix inequality', 'lyapunov functional', 'social inequality', 'time complexity', 'lyapunov fractal', 'lyapunov–krasovskii functional', 'neutral type', 'artificial neural network', 'systems biology', 'global exponential stability', 'genetic regulatory networks', 'gene regulatory network']\n",
      "len_topic: 16\n",
      "\n",
      "['numerical analysis', \"whole earth 'lectronic link\", 'operating environment', 'real-time clock', 'action selection', 'multi-agent system', 'data mining', 'machine learning', 'overhead (computing)', 'scheduling (computing)', 'interference (communication)', 'self-organization', 'network congestion', 'real-time transcription', 'spectrum analyzer', 'algorithm', 'q-learning', 'height above ground level', 'cognition', 'stationary process', 'iterative method', 'game theory', 'coexist (image)', 'rate of convergence', 'mathematical optimization', 'centralized computing', 'interaction', 'decision tree', 'reinforcement learning', 'numerous', 'simulation', 'cognitive radio', 'particle swarm optimization', 'channel capacity', 'context awareness', 'programming paradigm']\n",
      "len_topic: 36\n",
      "\n"
     ]
    }
   ],
   "source": [
    "overlap_merge_view_deg_neg(2010, k = 10)"
   ]
  },
  {
   "cell_type": "markdown",
   "metadata": {},
   "source": [
    "### Year 2011"
   ]
  },
  {
   "cell_type": "code",
   "execution_count": 99,
   "metadata": {},
   "outputs": [
    {
     "name": "stdout",
     "output_type": "stream",
     "text": [
      "OVERLAP MERGING RESULT WITH CLIQUE PERCOLATION METHOD, CASCADE MODEL, SEED TOP 10 NODES AND DEG THRESHOLD CALCULATION STRATEGY.\n",
      "\n",
      "['algorithm', 'autonomous robot', 'telecommunications link', 'mathematical optimization', 'population diversity', 'interaction', 'reinforcement learning', 'particle swarm optimization', 'interference (communication)', 'cognitive radio', 'fairness measure', 'channel capacity', 's ability']\n",
      "len_topic: 13\n",
      "\n",
      "['experiment', 'ising model', 'nonlinear system', 'social inequality', 'lyapunov fractal', 'artificial neural network', 'hopfield-type neural networks', 'approximation algorithm', 'synchronization (computer science)']\n",
      "len_topic: 9\n",
      "\n"
     ]
    }
   ],
   "source": [
    "overlap_merge_view_deg(2011, k = 10)"
   ]
  },
  {
   "cell_type": "code",
   "execution_count": 100,
   "metadata": {},
   "outputs": [
    {
     "name": "stdout",
     "output_type": "stream",
     "text": [
      "OVERLAP MERGING RESULT WITH CLIQUE PERCOLATION METHOD, CASCADE MODEL, SEED TOP 10 NODES AND HALF THRESHOLD CALCULATION STRATEGY.\n",
      "\n",
      "['experiment', 'linear matrix inequality', 'neural network simulation', 'convex function', 'nonlinear system', 'social inequality', 'differential evolution', 'lyapunov fractal', 'multitier architecture', 'interference (communication)', 'software deployment', 'approximation algorithm', 'evolutionary algorithm', 'tree rearrangement', 'plasmon', 'reinforcement learning', 'particle swarm optimization', 'cognitive radio', 'channel capacity', 's ability', 'numerical analysis', 'ising model', 'population diversity', 'machine learning', 'signal-to-interference-plus-noise ratio', 'distributed delays', 'artificial neural network', 'synchronization (computer science)', 'exponential', 'autonomous robot', 'hopfield network', 'algorithm', 'telecommunications link', 'impulses', 'broadcast delay', 'stochastic neural network', 'mathematical optimization', 'quality of service', 'interaction', 'fairness measure', 'simulation', 'hopfield-type neural networks', 'resonance']\n",
      "len_topic: 43\n",
      "\n"
     ]
    }
   ],
   "source": [
    "overlap_merge_view_half(2011, k = 10)"
   ]
  },
  {
   "cell_type": "code",
   "execution_count": 101,
   "metadata": {},
   "outputs": [
    {
     "name": "stdout",
     "output_type": "stream",
     "text": [
      "OVERLAP MERGING RESULT WITH CLIQUE PERCOLATION METHOD, CASCADE MODEL, SEED TOP 10 NODES AND DEG NEGATIVE THRESHOLD CALCULATION STRATEGY.\n",
      "\n",
      "['population diversity', 'machine learning', 'signal-to-interference-plus-noise ratio', 'multitier architecture', 'interference (communication)', 'software deployment', 'autonomous robot', 'low-power broadcasting', 'tree rearrangement', 'algorithm', 'telecommunications link', 'plasmon', 'mathematical optimization', 'centralized computing', 'quality of service', 'interaction', 'reinforcement learning', 'particle swarm optimization', 'simulation', 'cognitive radio', 'fairness measure', 'channel capacity', 'resonance', 's ability']\n",
      "len_topic: 24\n",
      "\n",
      "['numerical analysis', 'experiment', 'linear matrix inequality', 'neural network simulation', 'convex function', 'ising model', 'nonlinear system', 'social inequality', 'lyapunov fractal', 'distributed delays', 'artificial neural network', 'checking (action)', 'approximation algorithm', 'evolutionary algorithm', 'hopfield network', 'exponential', 'impulses', 'broadcast delay', 'stochastic neural network', 'time complexity', 'spectral leakage', 'hopfield-type neural networks']\n",
      "len_topic: 22\n",
      "\n"
     ]
    }
   ],
   "source": [
    "overlap_merge_view_deg_neg(2011, k = 10)"
   ]
  },
  {
   "cell_type": "markdown",
   "metadata": {},
   "source": [
    "### Year 2012"
   ]
  },
  {
   "cell_type": "code",
   "execution_count": 102,
   "metadata": {},
   "outputs": [
    {
     "name": "stdout",
     "output_type": "stream",
     "text": [
      "OVERLAP MERGING RESULT WITH CLIQUE PERCOLATION METHOD, CASCADE MODEL, SEED TOP 10 NODES AND DEG THRESHOLD CALCULATION STRATEGY.\n",
      "\n",
      "['sampling - surgical action', 'artificial neural network', 'neural network simulation', 'sampling (signal processing)', 'synchronization (computer science)']\n",
      "len_topic: 5\n",
      "\n",
      "['experiment', 'class', 'sparse matrix', 'premature convergence', 'frequency band', 'machine learning', 'fuzzy logic', 'interference (communication)', 'software deployment', 'algorithm', 'q-learning', 'cognition', 'computation', 'trees (plant)', 'combinatorial optimization', 'mathematical optimization', 'preprocessor', 'transmitter', 'fuzzy control system', 'simulation', 'cognitive radio', 'knapsack problem', 'deep learning']\n",
      "len_topic: 23\n",
      "\n"
     ]
    }
   ],
   "source": [
    "overlap_merge_view_deg(2012, k = 10)"
   ]
  },
  {
   "cell_type": "code",
   "execution_count": 103,
   "metadata": {},
   "outputs": [
    {
     "name": "stdout",
     "output_type": "stream",
     "text": [
      "OVERLAP MERGING RESULT WITH CLIQUE PERCOLATION METHOD, CASCADE MODEL, SEED TOP 10 NODES AND HALF THRESHOLD CALCULATION STRATEGY.\n",
      "\n",
      "['numerical analysis', 'sampling - surgical action', 'neural network simulation', 'dropout (neural networks)', 'time complexity', 'social inequality', 'artificial neural network', 'test data', 'overfitting', 'sampling (signal processing)', 'synchronization (computer science)']\n",
      "len_topic: 11\n",
      "\n",
      "['experiment', 'premature convergence', 'frequency band', 'genetic operator', 'receiver operating characteristic', 'cross-validation (statistics)', 'fuzzy logic', 'missing data', 'interference (communication)', 'software deployment', 'evolutionary algorithm', 'coexist (image)', 'optimization problem', 'preprocessor', 'reinforcement learning', 'fuzzy control system', 'supervised learning', 'cognitive radio', 'particle swarm optimization', 'expectation–maximization algorithm', 'inference engine', 'class', 'radio frequency', 'data mining', 'machine learning', 'signal-to-interference-plus-noise ratio', 'autonomous robot', 'cyclostationary process', 'algorithm', 'q-learning', 'telecommunications link', 'cognition', 'computation', 'combinatorial optimization', 'benchmark (computing)', 'mathematical optimization', 'genetic algorithm', 'transmitter', 'simulation', 'sparse matrix', 'knapsack problem']\n",
      "len_topic: 41\n",
      "\n"
     ]
    }
   ],
   "source": [
    "overlap_merge_view_half(2012, k = 10)"
   ]
  },
  {
   "cell_type": "code",
   "execution_count": 104,
   "metadata": {},
   "outputs": [
    {
     "name": "stdout",
     "output_type": "stream",
     "text": [
      "OVERLAP MERGING RESULT WITH CLIQUE PERCOLATION METHOD, CASCADE MODEL, SEED TOP 10 NODES AND DEG NEGATIVE THRESHOLD CALCULATION STRATEGY.\n",
      "\n",
      "['experiment', 'premature convergence', 'frequency band', 'genetic operator', 'receiver operating characteristic', 'cross-validation (statistics)', 'fuzzy logic', 'missing data', 'interference (communication)', 'software deployment', 'evolutionary algorithm', 'coexist (image)', 'trees (plant)', 'optimization problem', 'preprocessor', 'reinforcement learning', 'fuzzy control system', 'supervised learning', 'cognitive radio', 'particle swarm optimization', 'expectation–maximization algorithm', 'inference engine', 'deep learning', 'class', 'radio frequency', 'data mining', 'machine learning', 'signal-to-interference-plus-noise ratio', 'autonomous robot', 'cyclostationary process', 'algorithm', 'q-learning', 'telecommunications link', 'cognition', 'computation', 'combinatorial optimization', 'benchmark (computing)', 'mathematical optimization', 'genetic algorithm', 'transmitter', 'simulation', 'sparse matrix', 'knapsack problem']\n",
      "len_topic: 43\n",
      "\n",
      "['numerical analysis', 'sampling - surgical action', 'linear matrix inequality', 'neural network simulation', 'dropout (neural networks)', 'time complexity', 'social inequality', 'recurrent neural network', 'artificial neural network', 'test data', 'overfitting', 'sampling (signal processing)', 'synchronization (computer science)']\n",
      "len_topic: 13\n",
      "\n"
     ]
    }
   ],
   "source": [
    "overlap_merge_view_deg_neg(2012, k = 10)"
   ]
  },
  {
   "cell_type": "markdown",
   "metadata": {},
   "source": [
    "### Year 2013"
   ]
  },
  {
   "cell_type": "code",
   "execution_count": 105,
   "metadata": {},
   "outputs": [
    {
     "name": "stdout",
     "output_type": "stream",
     "text": [
      "OVERLAP MERGING RESULT WITH CLIQUE PERCOLATION METHOD, CASCADE MODEL, SEED TOP 10 NODES AND DEG THRESHOLD CALCULATION STRATEGY.\n",
      "\n",
      "['throughput', 'vertex', 'linear matrix inequality', 'neural network simulation', 'complex networks', 'nonlinear system', 'differential evolution', 'lyapunov fractal', 'cell (microprocessor)', 'artificial neural network', 'coefficient', 'approximation algorithm', 'synchronization (computer science)', 'probability', 'central processing unit', 'algorithm', 'telecommunications link', 'gauss–kronrod quadrature formula', 'randomness', 'error analysis (mathematics)', 'mathematical optimization', 'recurrent neural network', 'simulation', 'mean squared error', 'sampling - surgical action', 'synchronization', 'dynamic programming', 'sampling (signal processing)']\n",
      "len_topic: 28\n",
      "\n",
      "['single solution does', 'objective optimisation', 'objective optimisation problems', 'dynamic multi']\n",
      "len_topic: 4\n",
      "\n"
     ]
    }
   ],
   "source": [
    "overlap_merge_view_deg(2013, k = 10)"
   ]
  },
  {
   "cell_type": "code",
   "execution_count": 106,
   "metadata": {},
   "outputs": [
    {
     "name": "stdout",
     "output_type": "stream",
     "text": [
      "OVERLAP MERGING RESULT WITH CLIQUE PERCOLATION METHOD, CASCADE MODEL, SEED TOP 10 NODES AND HALF THRESHOLD CALCULATION STRATEGY.\n",
      "\n",
      "['performance', 'couplings', 'artificial bee colony algorithm', 'vertex', 'linear matrix inequality', 'neural network simulation', 'switches', 'convolutional neural network', 'matrix regularization', 'newton–cotes formulas', 'nonlinear system', 'social inequality', 'differential evolution', 'collocation method', 'lyapunov fractal', 'biological neural networks', 'state estimation', 'interference (communication)', 'self-organization', 'taguchi method', 'approximation algorithm', 'convex optimization', 'taguchi methods', 'numerical method', 'duality gap', 'quintic function', 'optimization problem', 'reinforcement learning', 'manufacturing', 'backhaul (telecommunications)', 'cognitive radio', 'block cipher mode of operation', 'complex networks', 'deep learning', 'throughput', 'numerical analysis', 'data synchronization', 'dynamic programming', 'bernoulli polynomials', 'machine learning', 'cell (microprocessor)', 'artificial neural network', 'hybrid optimization', \"jensen's inequality\", 'frank–wolfe algorithm', 'coefficient', 'neural networks', 'synchronization (computer science)', 'probability', 'complex network', 'organizing (structure)', 'algorithm', 'q-learning', 'telecommunications link', 'recurrent neural networks', 'randomness', 'error analysis (mathematics)', 'mathematical optimization', 'recurrent neural network', 'benchmark (computing)', 'b-spline', 'algebraic equation', 'stochastic processes', 'iteration', 'simulation', 'mean squared error', 'sampling - surgical action', 'synchronization', 'spectral leakage', 'sampling (signal processing)', 'navier–stokes equations', 'stability']\n",
      "len_topic: 72\n",
      "\n",
      "['dynamic multi', 'objective optimisation problems']\n",
      "len_topic: 2\n",
      "\n"
     ]
    }
   ],
   "source": [
    "overlap_merge_view_half(2013, k = 10)"
   ]
  },
  {
   "cell_type": "code",
   "execution_count": 107,
   "metadata": {},
   "outputs": [
    {
     "name": "stdout",
     "output_type": "stream",
     "text": [
      "OVERLAP MERGING RESULT WITH CLIQUE PERCOLATION METHOD, CASCADE MODEL, SEED TOP 10 NODES AND DEG NEGATIVE THRESHOLD CALCULATION STRATEGY.\n",
      "\n",
      "['couplings', 'artificial bee colony algorithm', 'vertex', 'switches', 'convolutional neural network', 'differential evolution', 'lyapunov fractal', 'state estimation', 'knowledge base', 'self-organization', 'nearest neighbor classifier', 'taguchi methods', 'gauss–kronrod quadrature formula', 'quintic function', 'optimization problem', 'manufacturing', 'backhaul (telecommunications)', 'cognitive radio', 'block cipher mode of operation', 'stochastic process', 'deep learning', 'throughput', 'bernoulli polynomials', 'frank–wolfe algorithm', 'organizing (structure)', 'algorithm', 'q-learning', 'recurrent neural networks', 'error analysis (mathematics)', 'b-spline', 'iteration', 'spectral leakage', 'sampling - surgical action', 'dynamic programming', 'navier–stokes equations', 'performance', 'experiment', 'linear matrix inequality', 'neural network simulation', 'matrix regularization', 'newton–cotes formulas', 'nonlinear system', 'social inequality', 'collocation method', 'biological neural networks', 'interference (communication)', 'approximation algorithm', 'convex optimization', 'numerical method', 'duality gap', 'dropout (neural networks)', 'reinforcement learning', 'particle swarm optimization', 'complex networks', 'data synchronization', 'numerical analysis', 'machine learning', 'cell (microprocessor)', 'artificial neural network', 'hybrid optimization', 'coefficient', \"jensen's inequality\", 'neural networks', 'synchronization (computer science)', 'probability', 'central processing unit', 'telecommunications link', 'randomness', 'word embedding', 'mathematical optimization', 'recurrent neural network', 'benchmark (computing)', 'algebraic equation', 'text corpus', 'stochastic processes', 'simulation', 'mean squared error', 'synchronization', 'sampling (signal processing)', 'programming paradigm', 'stability']\n",
      "len_topic: 81\n",
      "\n",
      "['single solution does', 'objective optimisation', 'objective optimisation problems', 'dynamic multi']\n",
      "len_topic: 4\n",
      "\n"
     ]
    }
   ],
   "source": [
    "overlap_merge_view_deg_neg(2013, k = 10)"
   ]
  },
  {
   "cell_type": "markdown",
   "metadata": {},
   "source": [
    "### Year 2014"
   ]
  },
  {
   "cell_type": "code",
   "execution_count": 108,
   "metadata": {},
   "outputs": [
    {
     "name": "stdout",
     "output_type": "stream",
     "text": [
      "OVERLAP MERGING RESULT WITH CLIQUE PERCOLATION METHOD, CASCADE MODEL, SEED TOP 10 NODES AND DEG THRESHOLD CALCULATION STRATEGY.\n",
      "\n",
      "['numerical analysis', 'yang liu', 'experiment', 'computer performance', 'markov decision process', 'neural network simulation', 'formal system', 'richard m. schwartz', 'machine learning', 'lyapunov fractal', 'artificial neural network', 'ilya sutskever', 'optimal control', 'feature selection', 'ant colony optimization algorithms', 'statistical machine translation', 'approximation algorithm', 'exponential', 'stochastic gradient descent', 'john makhoul', 'algorithm', 'usb on-the-go', 'iterative method', 'mathematical model', 'bellman equation', 'optimization problem', 'mathematical optimization', 'kyunghyun cho', 'simulation', 'fault tolerance', 'sampling - surgical action', 'dynamic programming']\n",
      "len_topic: 32\n",
      "\n"
     ]
    }
   ],
   "source": [
    "overlap_merge_view_deg(2014, k = 10)"
   ]
  },
  {
   "cell_type": "code",
   "execution_count": 109,
   "metadata": {},
   "outputs": [
    {
     "name": "stdout",
     "output_type": "stream",
     "text": [
      "OVERLAP MERGING RESULT WITH CLIQUE PERCOLATION METHOD, CASCADE MODEL, SEED TOP 10 NODES AND HALF THRESHOLD CALCULATION STRATEGY.\n",
      "\n",
      "['metaheuristic', 'computer performance', 'imagenet', 'cuckoo search\\xa0', 'information retrieval', 'formal system', 'convolutional neural network', 'yoshua bengio', 'random neural network', 'bag-of-words model', 'geoffrey e. hinton', 'encoder', 'lyapunov fractal', 'nicolas boulanger-lewandowski', 'state space', 'data stream mining', 'n-gram', 'neural network software', 'evolutionary algorithm', 'john makhoul', 'recurrent neural network', 'iterative method', 'bellman equation', 'rate of convergence', 'shadowing (histology)', 'optimization problem', 'heuristic', 'x.690', 'cognitive radio', 'analytical models', 'http public key pinning', 'global optimization problem\\xa0', 'constrained optimization', 'alex krizhevsky', 'neighborhood search (ns) operator', 'abdel-rahman mohamed', 'autoencoder', 'point of view (computer hardware company)', 'computers', 'metaheuristic search (ms)', 'scalability', 'freebase', 'bit error rate', 'jacob devlin', 'search algorithm', 'lyapunov–krasovskii functional', 'rayleigh fading', 'ilya sutskever', 'electronic mail', 'feature selection', 'nal kalchbrenner', 'activation function', 'complex network', 'algorithm', 'deep learning papers review at neurotechnology: attention mechanisms neurotechnology mar 15 2017', 'oriol vinyals', 'in-place algorithm', 'kyunghyun cho', 'transmitter', 'navdeep jaitly', 'iteration', 'particle swarm optimization (pso)', 'sampling - surgical action', 'bil herd', 'dynamic programming', 'yang liu', 'experiment', 'calculus of variations', 'velocity (software development)', 'linear matrix inequality', 'neural network simulation', 'premature convergence', 'nonlinear system', 'social inequality', 'quoc v. le', 'multitier architecture', 'fuzzy logic', 'interference (communication)', 'hamilton–jacobi–bellman equation', 'statistical machine translation', 'approximation algorithm', 'convex optimization', 'global optimization', 'stochastic gradient descent', 'usb on-the-go', 'alex graves', 'noise reduction', 'phil blunsom', 'control theory', 'bart van merrienboer', 'mimo', 'fuzzy control system', 'particle swarm optimization', 'fault tolerance', 'krill herd (kh)\\xa0', 'partition function (mathematics)', 'numerical analysis', 'topology', 'xiang zhang', 'markov decision process', 'finite-time stabilization', 'constraint algorithm', 'richard m. schwartz', 'recursive neural network', 'mathematics', 'machine learning', 'artificial neural network', 'jacobi method', 'optimal control', 'coefficient', 'computer vision', 'neural networks', 'generative model', 'knowledge graph', 'periodic solution', 'exponential', 'entity', 'computation', 'mathematical model', 'word embedding', 'baseline (configuration management)', 'mathematical optimization', 'matthew d. zeiler', 'skip list', 'mimo-ofdm', 'quality of service', 'zhongqiang huang', 'benchmark (computing)', 'genetic algorithm', 'simulation', 'mean squared error', 'time complexity', 'neural machine translation', 'pixel', 'sampling (signal processing)']\n",
      "len_topic: 135\n",
      "\n"
     ]
    }
   ],
   "source": [
    "overlap_merge_view_half(2014, k = 10)"
   ]
  },
  {
   "cell_type": "code",
   "execution_count": 110,
   "metadata": {},
   "outputs": [
    {
     "name": "stdout",
     "output_type": "stream",
     "text": [
      "OVERLAP MERGING RESULT WITH CLIQUE PERCOLATION METHOD, CASCADE MODEL, SEED TOP 10 NODES AND DEG NEGATIVE THRESHOLD CALCULATION STRATEGY.\n",
      "\n",
      "['metaheuristic', 'computer performance', 'imagenet', 'cuckoo search\\xa0', 'information retrieval', 'yang', 'formal system', 'convolutional neural network', 'yoshua bengio', 'random neural network', 'bag-of-words model', 'geoffrey e. hinton', 'encoder', 'lyapunov fractal', 'nicolas boulanger-lewandowski', 'uncertainty', 'state space', 'data stream mining', 'n-gram', 'neural network software', 'evolutionary algorithm', 'john makhoul', 'recurrent neural network', 'iterative method', 'bellman equation', 'mathematical induction', 'rate of convergence', 'shadowing (histology)', 'optimization problem', 'heuristic', 'x.690', 'cognitive radio', 'analytical models', 'http public key pinning', 'global optimization problem\\xa0', 'constrained optimization', 'deep learning', 'alex krizhevsky', 'neighborhood search (ns) operator', 'abdel-rahman mohamed', 'autoencoder', 'point of view (computer hardware company)', 'computers', 'metaheuristic search (ms)', 'scalability', 'freebase', 'bit error rate', 'jacob devlin', 'search algorithm', 'lyapunov–krasovskii functional', 'rayleigh fading', 'ilya sutskever', 'electronic mail', 'ant colony optimization algorithms', 'feature selection', 'nal kalchbrenner', 'activation function', 'complex network', 'algorithm', 'deep learning papers review at neurotechnology: attention mechanisms neurotechnology mar 15 2017', 'oriol vinyals', 'in-place algorithm', 'kyunghyun cho', 'navdeep jaitly', 'iteration', 'particle swarm optimization (pso)', 'sampling - surgical action', 'bil herd', 'dynamic programming', 'yang liu', 'experiment', 'calculus of variations', 'velocity (software development)', 'cuckoo search', 'linear matrix inequality', 'neural network simulation', 'premature convergence', 'nonlinear system', 'social inequality', 'quoc v. le', 'biological neural networks', 'multitier architecture', 'fuzzy logic', 'interference (communication)', 'hamilton–jacobi–bellman equation', 'language model', 'statistical machine translation', 'approximation algorithm', 'convex optimization', 'global optimization', 'stochastic gradient descent', 'usb on-the-go', 'alex graves', 'noise reduction', 'phil blunsom', 'feasible region', 'control theory', 'bart van merrienboer', 'reinforcement learning', 'particle swarm optimization', 'mimo', 'fuzzy control system', 'fault tolerance', 'krill herd (kh)\\xa0', 'partition function (mathematics)', 'numerical analysis', 'topology', 'xiang zhang', 'markov decision process', 'finite-time stabilization', 'constraint algorithm', 'richard m. schwartz', 'recursive neural network', 'machine learning', 'jacobi method', 'artificial neural network', 'mathematics', 'optimal control', 'coefficient', 'computer vision', 'neural networks', 'generative model', 'knowledge graph', 'periodic solution', 'exponential', 'entity', 'computation', 'neural network', 'mathematical model', 'word embedding', 'baseline (configuration management)', 'mathematical optimization', 'matthew d. zeiler', 'skip list', 'mimo-ofdm', 'quality of service', 'zhongqiang huang', 'benchmark (computing)', 'genetic algorithm', 'simulation', 'mean squared error', 'time complexity', 'neural machine translation', 'pixel', 'sampling (signal processing)']\n",
      "len_topic: 145\n",
      "\n"
     ]
    }
   ],
   "source": [
    "overlap_merge_view_deg_neg(2014, k = 10)"
   ]
  },
  {
   "cell_type": "markdown",
   "metadata": {},
   "source": [
    "### Year 2015"
   ]
  },
  {
   "cell_type": "code",
   "execution_count": 111,
   "metadata": {},
   "outputs": [
    {
     "name": "stdout",
     "output_type": "stream",
     "text": [
      "OVERLAP MERGING RESULT WITH CLIQUE PERCOLATION METHOD, CASCADE MODEL, SEED TOP 10 NODES AND DEG THRESHOLD CALCULATION STRATEGY.\n",
      "\n",
      "['numerical analysis', 'continuous optimization', 'artificial bee colony algorithm', 'adaptive systems', 'trust region', 'social network\\xa0', 'experiment', 'neural network simulation', 'formal system', 'support vector machine', 'nonlinear system', '????\\xa0', 'swarm intelligence', 'artificial neural network', 'hamilton–jacobi–bellman equation', 'yuval tassa', 'approximation algorithm', '???\\xa0', 'algorithm', 'magnetic resonance imaging', 'optimization problem', 'mathematical optimization', 'cross reactions', 'observers', 'doina precup', 'output feedback', '???????\\xa0', 'simulation', 'wavelet analysis', 'feedback']\n",
      "len_topic: 30\n",
      "\n"
     ]
    }
   ],
   "source": [
    "overlap_merge_view_deg(2015, k = 10)"
   ]
  },
  {
   "cell_type": "code",
   "execution_count": 112,
   "metadata": {},
   "outputs": [
    {
     "name": "stdout",
     "output_type": "stream",
     "text": [
      "OVERLAP MERGING RESULT WITH CLIQUE PERCOLATION METHOD, CASCADE MODEL, SEED TOP 10 NODES AND HALF THRESHOLD CALCULATION STRATEGY.\n",
      "\n",
      "['unsupervised learning', 'artificial bee colony algorithm', 'memristor-based neural networks', 'trust region', 'control system', 'convex function', 'formal system', 'satinder p. singh', 'convolutional neural network', '????\\xa0', 'multi-agent system', 'lyapunov fractal', 'swarm intelligence', 'correctness (computer science)', 'cluster analysis', 'spectral efficiency', 'markov chain', 'low-power broadcasting', 'sergey levine', '20301', 'computer assisted diagnosis', 'bellman equation', 'novelty detection', 'optimization problem', 'power semiconductor device', 'observers', 'emanuel todorov', 'stability', 'block cipher mode of operation', 'categorization', 'http public key pinning', 'constrained optimization', 'deep learning', 'throughput', 'autoencoder', 'non-minimum phase\\xa0', 'support vector machine', 'anatomy regional', 'memristor', 'computer simulation', 'signal processing', 'learning model\\xa0', 'acoustic cryptanalysis', 'document classification', 'autonomous robot', 'online and offline', 'link prediction\\xa0', 'system dynamics', 'algorithm', 'magnetic resonance imaging', 'cross reactions', 'output feedback', '???????\\xa0', 'iteration', 'dynamic programming', 'stabilization', 'feedback', 'adaptive systems', 'performance', 'experiment', 'tom erez', 'computationally intensive', 'feature representation\\xa0', 'linear matrix inequality', 'neural network simulation', 'nonlinear systems', 'increment', 'fine tune', 'nonlinear system', 'social inequality', 'large-scale computing\\xa0', 'remaining connections', 'fuzzy logic', 'hamilton–jacobi–bellman equation', 'interference (communication)', 'language model', 'honglak lee', 'well-posed problem', 'imagenet dataset', 'approximation algorithm', 'long short-term memory', 'convex optimization', 'optimization', 'stochastic gradient descent', 'compaq lte', 'noise reduction', 'dynamic network\\xa0', 'coexist (image)', '11101', 'reinforcement learning', 'speech recognition', 'supervised learning', 'elm', 'feature learning', 'channel capacity', 'statistical classification', 'fuzzy control system', 'approximation', 'numerical analysis', 'fractional-order', 'robot', 'controllers', 'database', '?????\\xa0', 'learning disorders', 'artificial bee colony', 'machine learning', 'converge', 'artificial neural network', 'optimal control', 'yuval tassa', 'computer vision', 'neural networks', 'tcp global synchronization', 'extreme learning machine\\xa0', 'unit commitment', 'doina precup', 'mathematical optimization', 'recurrent neural network', 'benchmark (computing)', 'adaptive algorithm', 'interaction', 'genetic algorithm', 'time complexity', 'similarity metric\\xa0', 'simulation', 'feedforward neural network', 'wavelet analysis', 'theory']\n",
      "len_topic: 129\n",
      "\n"
     ]
    }
   ],
   "source": [
    "overlap_merge_view_half(2015, k = 10)"
   ]
  },
  {
   "cell_type": "code",
   "execution_count": 113,
   "metadata": {},
   "outputs": [
    {
     "name": "stdout",
     "output_type": "stream",
     "text": [
      "OVERLAP MERGING RESULT WITH CLIQUE PERCOLATION METHOD, CASCADE MODEL, SEED TOP 10 NODES AND DEG NEGATIVE THRESHOLD CALCULATION STRATEGY.\n",
      "\n",
      "['continuous optimization', 'unsupervised learning', 'artificial bee colony algorithm', 'memristor-based neural networks', 'trust region', 'imagenet', 'arima auto regressive integrated moving average', '????\\xa0', 'normal brains', 'geoffrey e. hinton', 'mr brain images', 'aided diagnosis', 'memory intensive making', 'cluster analysis', 'novel automatic classification', 'sergey levine', '20301', 'computer assisted diagnosis', 'bellman equation', 'linearizing at the trim state\\xa0', 'novelty detection', 'power semiconductor device', 'observers', 'pattern recognition', 'block cipher mode of operation', 'http public key pinning', 'deep learning', 'throughput', 'alex krizhevsky', 'autoencoder', 'non-minimum phase\\xa0', 'principal component analysis', 'anatomy regional', 'computer simulation', 'signal processing', 'ilya sutskever', 'document classification', 'link prediction\\xa0', 'activation function', 'weibull distribution function', 'algorithm', 'mri scanning', 'ga genetic algorithm', 'riemann–liouville', 'dynamic programming', 'adaptive systems', 'feature representation\\xa0', 'linear matrix inequality', 'neural network simulation', 'nonlinear systems', 'increment', 'parsing', 'nonlinear system', 'crucially importance', 'large-scale computing\\xa0', 'medical analysis', 'interference (communication)', 'imagenet dataset', 'well-posed problem', 'long short-term memory', 'distinguish abnormal brains', 'optimization', 'stochastic gradient descent', 'compaq lte', 'global optimization', 'pca principal component analysis', 'coexist (image)', 'particle swarm optimization', 'elm', 'feature learning', 'speech recognition', 'empirical mode decomposition', 'channel capacity', 'prediction', 'fractional-order', 'radial (radio)', 'database', 'yuval tassa', 'linear matrix inequality (lmi)', '???\\xa0', 'synchronization (computer science)', 'input-output linearization\\xa0', 'extreme learning machine\\xa0', 'map', 'doina precup', 'mathematical optimization', 'recurrent neural network', 'genetic algorithm', 'synchronization', 'ar auto regressive', 'bt bayesian theory', 'control system', 'extract features', 'unscented kalman filter', 'formal system', 'satinder p. singh', 'convex function', 'multi-agent system', 'convolutional neural network', 'bayesian optimization', 'encoder', 'lyapunov fractal', 'swarm intelligence', 'correctness (computer science)', 'spectral efficiency', 'emd empirical mode decomposition', 'markov chain', 'low-power broadcasting', 'structural break modeling', 'christian szegedy', 'accurate classification', 'optimization problem', 'emanuel todorov', 'categorization', 'constrained optimization', '70201', 'support vector machine', 'memristor', 'auto regressive integrated moving average', 'learning model\\xa0', 'acoustic cryptanalysis', 'autonomous robot', 'online and offline', 'system dynamics', 'magnetic resonance imaging', 'embedded systems', 'cross reactions', 'output feedback', '???????\\xa0', 'iteration', 'maxima and minima', 'stabilization', 'resonance', 'feedback', 'performance', 'experiment', 'computationally intensive', 'tom erez', 'social network\\xa0', 'fine tune', 'social inequality', 'remaining connections', 'fuzzy logic', 'hamilton–jacobi–bellman equation', 'honglak lee', 'language model', 'approximation algorithm', 'real-time transcription', 'convex optimization', 'noise reduction', 'artificial intelligence', 'interval time-varying delay', '11101', 'reinforcement learning', 'fuzzy control system', 'supervised learning', 'statistical classification', 'approximation', 'numerical analysis', 'loss function', 'robot', 'controllers', '?????\\xa0', 'learning disorders', 'artificial bee colony', 'machine learning', 'converge', 'artificial neural network', 'filter bank', 'optimal control', 'firefly algorithm', 'computer vision', 'neural networks', 'network topology', 'tcp global synchronization', 'unit commitment', 'similarity metric\\xa0', 'benchmark (computing)', 'adaptive algorithm', 'time complexity', 'feedforward neural network', 'interaction', 'simulation', 'sparse matrix', 'wavelet analysis', 'theory']\n",
      "len_topic: 186\n",
      "\n"
     ]
    }
   ],
   "source": [
    "overlap_merge_view_deg_neg(2015, k = 10)"
   ]
  },
  {
   "cell_type": "markdown",
   "metadata": {},
   "source": [
    "### Year 2016"
   ]
  },
  {
   "cell_type": "code",
   "execution_count": 114,
   "metadata": {},
   "outputs": [
    {
     "name": "stdout",
     "output_type": "stream",
     "text": [
      "OVERLAP MERGING RESULT WITH CLIQUE PERCOLATION METHOD, CASCADE MODEL, SEED TOP 10 NODES AND DEG THRESHOLD CALCULATION STRATEGY.\n",
      "\n",
      "['numerical analysis', 'adaptive systems', 'experiment', 'control system', 'neural network simulation', 'learning disorders', 'nonlinear systems', 'formal system', 'nonlinear system', 'agent-based model', 'data mining', 'multi-agent system', 'machine learning', 'fuzzy logic', 'artificial neural network', 'approximation algorithm', 'data pre-processing', 'algorithm', 'sample complexity', 'test set', 'quantization (signal processing)', 'mathematical optimization', 'preprocessor', 'generalization (psychology)', 'feedforward neural network', 'time delay', 'reinforcement learning', 'simulation', 'coupling constant', 'subnetwork']\n",
      "len_topic: 30\n",
      "\n"
     ]
    }
   ],
   "source": [
    "overlap_merge_view_deg(2016, k = 10)"
   ]
  },
  {
   "cell_type": "code",
   "execution_count": 115,
   "metadata": {},
   "outputs": [
    {
     "name": "stdout",
     "output_type": "stream",
     "text": [
      "OVERLAP MERGING RESULT WITH CLIQUE PERCOLATION METHOD, CASCADE MODEL, SEED TOP 10 NODES AND HALF THRESHOLD CALCULATION STRATEGY.\n",
      "\n",
      "['control system', 'end-to-end principle', 'brute-force search', 'lymph nodes', 'daily basis', 'convex function', 'convolutional neural network', 'formal system', 'potential benefits', 'agent-based model', 'multi-agent system', 'encoder', 'lyapunov fractal', 'requirement', 'state estimation', 'settling time', 'fuzzy set', 'volodymyr mnih', 'data pre-processing', 'hysteresis', 'sample complexity', 'feature extraction', 'vocabulary', 'iterative method', 'bellman equation', 'asthma patients demonstrate', 'benchmark\\xa0', 'apriori algorithm', 'optimization problem', 'centralized computing', 'generalization (psychology)', 'novel objective', 'cognitive radio', 'upper confidence bound', 'adaptive coding', 'atari', 'deep learning', 'throughput', 'high- and low-level', 'http public key pinning', 'weight', 'autoencoder', 'support vector machine', 'computer simulation', 'memristor', 'data mining', 'recommending treatments', 'ibm systems network architecture', 'search algorithm', 'biogeography-based optimization\\xa0', 'neuron', 'computer data storage', 'mark rowland', 'approximation error', 'interval arithmetic', 'identifier', 'algorithm', 'numerical linear algebra', 'exploit (computer security)', 'experimental results', 'diagnostic test results', 'decision list', 'super robot monkey team hyperforce go!', 'decision makers', 'iteration', 'optimization\\xa0', 'big data', 'personalization', 'data model', 'dynamic programming', 'marc g. bellemare', 'feedback', 'adaptive systems', 'ben parr', 'experiment', 'maximizes outcomes', 'rémi munos', 'subnetwork', 'preprocessor', 'linear matrix inequality', 'mnist database', 'frequency band', 'neural network simulation', 'nonlinear systems', 'distribution (mathematics)', 'bayesian network', 'nonlinear system', 'social inequality', 'biological neural networks', 'fuzzy logic', 'interference (communication)', 'apache spark', 'language model', 'hamilton–jacobi–bellman equation', 'coordinate descent', 'effective interpretable', 'approximation algorithm', 'long short-term memory', 'recommender system', 'genetic programming', 'genetic algorithm\\xa0', 'global optimization', 'stochastic gradient descent', 'variational principle', 'usb on-the-go', 'koray kavukcuoglu', 'swarm intelligence\\xa0', 'maps characteristics', 'code', 'particle swarm optimization\\xa0', 'dropout (neural networks)', 'control theory', 'quantization (signal processing)', 'will dabney', 'demis hassabis', 'reinforcement learning', 'fuzzy control system', 'open-source software', 'coupling constant', 'minimizes overall costs', 'black bag operation', 'approximation', 'numerical analysis', 'hado van hasselt', 'markov decision process', 'robot', 'leverages customized checks', 'finite-time synchronization', 'learning disorders', 'granting bails', 'machine learning', 'converge', 'network architecture', 'artificial neural network', 'optimal control', 'knowledge graph', 'coefficient', 'neural networks', 'network topology', 'nonlinearity', 'fuzzy rule', 'mapreduce', 'costs involved', 'channel state information', 'computation', 'test set', 'search space effectively', 'mathematical model', 'mathematical optimization', 'recurrent neural network', 'benchmark (computing)', 'time delay', 'open research', 'adversary (cryptography)', 'quality of service', 'feedforward neural network', 'simulation', 'sparse matrix', 'time-varying delay', 'one-class classification', 'medical imaging']\n",
      "len_topic: 161\n",
      "\n"
     ]
    }
   ],
   "source": [
    "overlap_merge_view_half(2016, k = 10)"
   ]
  },
  {
   "cell_type": "code",
   "execution_count": 116,
   "metadata": {},
   "outputs": [
    {
     "name": "stdout",
     "output_type": "stream",
     "text": [
      "OVERLAP MERGING RESULT WITH CLIQUE PERCOLATION METHOD, CASCADE MODEL, SEED TOP 10 NODES AND DEG NEGATIVE THRESHOLD CALCULATION STRATEGY.\n",
      "\n",
      "['end-to-end principle', 'imagenet', 'lymph nodes', 'agent-based model', 'state estimation', 'settling time', 'sample complexity', 'feature extraction', 'vocabulary', 'iterative method', 'bellman equation', 'asthma patients demonstrate', 'benchmark\\xa0', 'novel objective', 'http public key pinning', 'atari', 'high- and low-level', 'deep learning', 'throughput', 'weight', 'autoencoder', 'computer simulation', 'ibm systems network architecture', 'mark rowland', 'approximation error', 'interval arithmetic', 'algorithm', 'q-learning', 'numerical linear algebra', 'exploit (computer security)', 'experimental results', 'diagnostic test results', 'decision makers', 'optimization\\xa0', 'marc g. bellemare', 'dynamic programming', 'subnetwork', 'adaptive systems', 'rémi munos', 'maximizes outcomes', 'linear matrix inequality', 'neural network simulation', 'nonlinear systems', 'distribution (mathematics)', 'nonlinear system', 'biological neural networks', 'interference (communication)', 'apache spark', 'recommender system', 'effective interpretable', 'coordinate descent', 'long short-term memory', 'genetic algorithm\\xa0', 'optimization', 'stochastic gradient descent', 'global optimization', 'usb on-the-go', 'koray kavukcuoglu', 'preprocessor', 'control theory', 'will dabney', 'particle swarm optimization', 'coupling constant', 'hado van hasselt', 'markov decision process', 'finite-time synchronization', 'embedded system', 'coefficient', 'computational complexity theory', 'mapreduce', 'costs involved', 'computer-aided design', 'search space effectively', 'test set', 'mathematical model', 'mathematical optimization', 'recurrent neural network', 'time delay', 'adversary (cryptography)', 'time-varying delay', 'medical imaging', 'control system', 'brute-force search', 'daily basis', 'convolutional neural network', 'formal system', 'potential benefits', 'natural language processing', 'multi-agent system', 'encoder', 'lyapunov fractal', 'requirement', 'fuzzy set', 'volodymyr mnih', 'hysteresis', 'apriori algorithm', 'optimization problem', 'centralized computing', 'generalization (psychology)', 'cognitive radio', 'upper confidence bound', 'constrained optimization', 'adaptive coding', 'real-time clock', 'memristor', 'data mining', 'recommending treatments', 'search algorithm', 'biogeography-based optimization\\xa0', 'neuron', 'computer data storage', 'sensor', 'identifier', 'statistical model', 'training', 'decision list', 'super robot monkey team hyperforce go!', 'iteration', 'big data', 'personalization', 'data model', 'feedback', 'ben parr', 'experiment', 'computer science', 'mnist database', 'frequency band', 'bayesian network', 'social inequality', 'fuzzy logic', 'hamilton–jacobi–bellman equation', 'genetic programming', 'language model', 'approximation algorithm', 'variational principle', 'artificial intelligence', 'hypernymy relations', 'swarm intelligence\\xa0', 'maps characteristics', 'open-source software', 'code', 'particle swarm optimization\\xa0', 'dropout (neural networks)', 'quantization (signal processing)', 'demis hassabis', 'reinforcement learning', 'fuzzy control system', 'minimizes overall costs', 'black bag operation', 'approximation', 'numerical analysis', 'robot', 'leverages customized checks', 'learning disorders', 'granting bails', 'machine learning', 'converge', 'network architecture', 'artificial neural network', 'knowledge graph', 'optimal control', 'network topology', 'neural networks', 'nonlinearity', 'fuzzy rule', 'telecommunications link', 'channel state information', 'computation', 'benchmark (computing)', 'quality of service', 'open research', 'feedforward neural network', 'simulation', 'sparse matrix', 'one-class classification']\n",
      "len_topic: 175\n",
      "\n"
     ]
    }
   ],
   "source": [
    "overlap_merge_view_deg_neg(2016, k = 10)"
   ]
  },
  {
   "cell_type": "markdown",
   "metadata": {},
   "source": [
    "### Year 2017"
   ]
  },
  {
   "cell_type": "code",
   "execution_count": 117,
   "metadata": {},
   "outputs": [
    {
     "name": "stdout",
     "output_type": "stream",
     "text": [
      "OVERLAP MERGING RESULT WITH CLIQUE PERCOLATION METHOD, CASCADE MODEL, SEED TOP 10 NODES AND DEG THRESHOLD CALCULATION STRATEGY.\n",
      "\n",
      "['throughput', 'experiment', 'association rule learning', 'neural network simulation', 'premature convergence', 'wireless sensor networks\\xa0', 'memristor', 'anatomy regional', 'lyapunov fractal', 'swarm intelligence', 'cluster analysis', 'artificial neural network', 'interference (communication)', 'algorithm', 'network packet', 'swarm intelligence\\xa0', 'mathematical optimization', 'benchmark (computing)', 'binary code', 'estimated', 'particle swarm optimization', 'simulation', 'sampling - surgical action', 'sampling (signal processing)']\n",
      "len_topic: 24\n",
      "\n",
      "['link prediction', 'network embedding', 'proposed framework']\n",
      "len_topic: 3\n",
      "\n"
     ]
    }
   ],
   "source": [
    "overlap_merge_view_deg(2017, k = 10)"
   ]
  },
  {
   "cell_type": "code",
   "execution_count": 118,
   "metadata": {},
   "outputs": [
    {
     "name": "stdout",
     "output_type": "stream",
     "text": [
      "OVERLAP MERGING RESULT WITH CLIQUE PERCOLATION METHOD, CASCADE MODEL, SEED TOP 10 NODES AND HALF THRESHOLD CALCULATION STRATEGY.\n",
      "\n",
      "['firefly algorithm (fa)\\xa0', 'input lag', 'control system', 'adversarial examples', 'natural language processing', 'convolutional neural network', 'encoder', 'lyapunov fractal', 'swarm intelligence', 'cluster analysis', 'gradient descent', 'dynamical system', 'inverted pendulum', 'optimization problem', 'estimated', 'heuristic', 'british informatics olympiad', 'deep learning', 'throughput', 'autoencoder', 'wireless sensor networks\\xa0', 'routing', 'memristor', 'global exponential stability', 'feature selection', 'sensor', 'statistical cluster', 'polynomial', 'algorithm', 'sensitivity and specificity', 'big data', 'sampling - surgical action', 'feedback', 'experiment', 'cloud computing', 'convolution', 'linear matrix inequality', 'premature convergence', 'neural network simulation', 'nonlinear system', 'triangular matrix', 'social inequality', 'semiconductor industry', 'interference (communication)', 'scheduling (computing)', 'approximation algorithm', 'numerical method', 'samuel j leffler', 'outline of object recognition', 'network packet', 'swarm intelligence\\xa0', 'binary code', 'neural coding', 'control theory', 'fuzzy control system', 'particle swarm optimization', 'approximation', 'numerical analysis', 'data synchronization', 'recursion', 'controllers', 'global optimization\\xa0', 'baxter (robot)', 'sawtooth (cellular automaton)', 'machine learning', 'converge', 'artificial neural network', \"jensen's inequality\", 'firefly algorithm', 'computer vision', 'open problem', 'inference', 'computation', 'firefly (cache coherence protocol)', 'mathematical optimization', 'benchmark (computing)', 'recurrent neural network', 'time complexity', 'genetic algorithm', 'simulation', 'sparse matrix', 'sampling (signal processing)']\n",
      "len_topic: 82\n",
      "\n",
      "['node attributes', 'link prediction', 'network embedding']\n",
      "len_topic: 3\n",
      "\n"
     ]
    }
   ],
   "source": [
    "overlap_merge_view_half(2017, k = 10)"
   ]
  },
  {
   "cell_type": "code",
   "execution_count": 119,
   "metadata": {},
   "outputs": [
    {
     "name": "stdout",
     "output_type": "stream",
     "text": [
      "OVERLAP MERGING RESULT WITH CLIQUE PERCOLATION METHOD, CASCADE MODEL, SEED TOP 10 NODES AND DEG NEGATIVE THRESHOLD CALCULATION STRATEGY.\n",
      "\n",
      "['firefly algorithm (fa)\\xa0', 'input lag', 'control system', 'adversarial examples', 'natural language processing', 'convolutional neural network', 'differential evolution', 'encoder', 'lyapunov fractal', 'swarm intelligence', 'cluster analysis', 'gradient descent', 'dynamical system', 'inverted pendulum', 'optimization problem', 'heuristic', 'cognitive radio', 'british informatics olympiad', 'deep learning', 'throughput', 'autoencoder', 'dual', 'wireless sensor networks\\xa0', 'routing', 'memristor', 'anatomy regional', 'global exponential stability', 'feature selection', 'sensor', 'statistical cluster', 'polynomial', 'algorithm', 'sensitivity and specificity', 'spectral leakage', 'sampling - surgical action', 'feedback', 'experiment', 'convolution', 'linear matrix inequality', 'premature convergence', 'neural network simulation', 'association rule learning', 'nonlinear system', 'triangular matrix', 'social inequality', 'semiconductor industry', 'interference (communication)', 'scheduling (computing)', 'approximation algorithm', 'long short-term memory', 'numerical method', 'samuel j leffler', 'outline of object recognition', 'random forest', 'multi-objective optimization', 'network packet', 'swarm intelligence\\xa0', 'binary code', 'neural coding', 'control theory', 'reinforcement learning', 'fuzzy control system', 'particle swarm optimization', 'approximation', 'numerical analysis', 'data synchronization', 'adversarial inputs', 'recursion', 'controllers', 'initial condition', 'global optimization\\xa0', 'baxter (robot)', 'sawtooth (cellular automaton)', 'machine learning', 'converge', 'artificial neural network', \"jensen's inequality\", 'firefly algorithm', 'computer vision', 'hopfield network', 'open problem', 'inference', 'computation', 'firefly (cache coherence protocol)', 'mathematical optimization', 'benchmark (computing)', 'two-factors second-order fuzzy-trend logical relationship groups', 'recurrent neural network', 'genetic algorithm', 'time complexity', 'simulation', 'sparse matrix', 'sampling (signal processing)']\n",
      "len_topic: 93\n",
      "\n",
      "['vast majority', 'network embedding', 'dimensional vector representations', 'link prediction']\n",
      "len_topic: 4\n",
      "\n"
     ]
    }
   ],
   "source": [
    "overlap_merge_view_deg_neg(2017, k = 10)"
   ]
  },
  {
   "cell_type": "markdown",
   "metadata": {},
   "source": [
    "### Year 2018 "
   ]
  },
  {
   "cell_type": "code",
   "execution_count": 120,
   "metadata": {},
   "outputs": [
    {
     "name": "stdout",
     "output_type": "stream",
     "text": [
      "OVERLAP MERGING RESULT WITH CLIQUE PERCOLATION METHOD, CASCADE MODEL, SEED TOP 10 NODES AND DEG THRESHOLD CALCULATION STRATEGY.\n",
      "\n",
      "['numerical analysis', 'linear matrix inequality', 'nonlinear system', 'memristor', 'social inequality', 'machine learning', 'lyapunov fractal', 'swarm intelligence', 'converge', 'artificial neural network', 'correctness (computer science)', 'pid', 'memristor-based switching networks\\xa0', 'system dynamics', 'algorithm', 'biologic preservation', 'approximation', 'experimental results', 'existing approaches', 'mathematical optimization', 'particle swarm optimization', 'simulation', 'cognitive radio', 'numerous', 'word lists by frequency', 'data compression', 'deep learning']\n",
      "len_topic: 27\n",
      "\n",
      "['known parameters', 'unknown parameters', 'adversarial examples']\n",
      "len_topic: 3\n",
      "\n"
     ]
    }
   ],
   "source": [
    "overlap_merge_view_deg(2018, k = 10)"
   ]
  },
  {
   "cell_type": "code",
   "execution_count": 121,
   "metadata": {},
   "outputs": [
    {
     "name": "stdout",
     "output_type": "stream",
     "text": [
      "OVERLAP MERGING RESULT WITH CLIQUE PERCOLATION METHOD, CASCADE MODEL, SEED TOP 10 NODES AND HALF THRESHOLD CALCULATION STRATEGY.\n",
      "\n",
      "['experiment', 'linear matrix inequality', 'smart battery system', 'neural network simulation', 'frequency band', 'convolutional neural network', 'prime-factor fft algorithm', 'driven programming paradigm', 'nonlinear system', '37b25\\xa0', 'social inequality', 'differential evolution', 'lyapunov fractal', 'swarm intelligence', 'multitier architecture', 'biological neural networks', 'interference (communication)', 'scheduling (computing)', 'correctness (computer science)', 'semiconductor industry', 'pid', 'anatomical layer', 'approximation algorithm', 'predictive failure analysis', 'entropy maximization', 'closed-circuit television', '92c20\\xa0', 'impulse\\xa0', 'telecommunications network', 'analysis of algorithms', 'iterative method', 'network packet', 'new data', 'optimization problem', 'particle swarm optimization\\xa0', 'crafted neuron network', 'reinforcement learning', 'particle swarm optimization', 'numerous', 'mimo', 'multi-user', 'data compression', 'deep learning', 'numerical analysis', 'loss function', 'direct method in the calculus of variations', 'critical scenarios', 'support vector machine', 'embedded system', 'computer simulation', 'memristor', 'bit error rate', 'machine learning', 'converge', 'artificial neural network', 'optimal control', 'expectation propagation', 'computational complexity theory', 'neural networks', 'memristor-based switching networks\\xa0', 'hearing loss high-frequency', '34c27\\xa0', 'system dynamics', 'algorithm', 'biologic preservation', 'telecommunications link', 'active learning (machine learning)', 'privacy', 'mathematical optimization', 'benchmark (computing)', 'time complexity', 'bands', 'spectral density', 'simulation', 'spectral leakage', 'training data']\n",
      "len_topic: 76\n",
      "\n",
      "['leveraging recent techniques', 'known parameters', 'transfer adversarial examples', 'nips 2017 competition', 'make mistakes', 'adversarial examples', 'open question', 'similar mistakes', 'school bus', 'machine learning models', 'small changes', 'unknown parameters', 'vision models']\n",
      "len_topic: 13\n",
      "\n"
     ]
    }
   ],
   "source": [
    "overlap_merge_view_half(2018, k = 10)"
   ]
  },
  {
   "cell_type": "code",
   "execution_count": 122,
   "metadata": {},
   "outputs": [
    {
     "name": "stdout",
     "output_type": "stream",
     "text": [
      "OVERLAP MERGING RESULT WITH CLIQUE PERCOLATION METHOD, CASCADE MODEL, SEED TOP 10 NODES AND DEG NEGATIVE THRESHOLD CALCULATION STRATEGY.\n",
      "\n",
      "['end-to-end principle', 'convolutional neural network', '37b25\\xa0', 'driven programming paradigm', 'differential evolution', 'lyapunov fractal', 'correctness (computer science)', 'closed-circuit television', 'impulse\\xa0', 'telecommunications network', 'analysis of algorithms', 'iterative method', 'optimization problem', 'numerous', 'anomaly detection', 'cognitive radio', 'multi-user', 'word lists by frequency', 'data compression', 'deep learning', 'throughput', 'direct method in the calculus of variations', 'support vector machine', 'computer simulation', 'memristor', 'bit error rate', 'system dynamics', 'algorithm', 'biologic preservation', 'active learning (machine learning)', 'evolutionary algorithms', 'experimental results', 'prime-factor fft algorithm', 'spectral leakage', 'training data', 'experiment', 'linear matrix inequality', 'smart battery system', 'neural network simulation', 'frequency band', 'nonlinear system', 'social inequality', 'biological neural networks', 'multitier architecture', 'semiconductor industry', 'interference (communication)', 'scheduling (computing)', 'fixed-point theorem', 'pid', 'anatomical layer', 'approximation algorithm', 'predictive failure analysis', 'entropy maximization', '92c20\\xa0', 'network packet', 'new data', 'crafted neuron network', 'particle swarm optimization\\xa0', 'reinforcement learning', 'particle swarm optimization', 'fuzzy control system', 'mimo', 'approximation', 'numerical analysis', 'critical scenarios', 'loss function', 'radio frequency', 'embedded system', 'machine learning', 'converge', 'artificial neural network', 'optimal control', 'expectation propagation', 'computational complexity theory', 'neural networks', 'detection tasks', 'memristor-based switching networks\\xa0', 'hearing loss high-frequency', 'hopfield network', '34c27\\xa0', 'telecommunications link', 'privacy', 'mathematical optimization', 'benchmark (computing)', 'time complexity', 'bands', 'interaction', 'spectral density', 'simulation']\n",
      "len_topic: 89\n",
      "\n",
      "['leveraging recent techniques', 'known parameters', 'transfer adversarial examples', 'adversarial examples', 'data manifold', 'adversarial examples phenomenon', 'unknown parameters', 'vision models', 'domain shift', 'recently proven successful', 'make mistakes', 'input space', 'nips 2017 competition', 'powerful framework', 'open question', 'similar mistakes', 'standard benchmark tasks', 'hidden states', 'school bus', 'machine learning models', 'small changes', 'training distribution', 'deep networks', 'deep neural networks', 'supervised learning', 'simple baselines', 'model generalization', 'leveraging unlabeled data']\n",
      "len_topic: 28\n",
      "\n"
     ]
    }
   ],
   "source": [
    "overlap_merge_view_deg_neg(2018, k = 10)"
   ]
  },
  {
   "cell_type": "markdown",
   "metadata": {},
   "source": [
    "## Overlap merge with k = 20"
   ]
  },
  {
   "cell_type": "markdown",
   "metadata": {},
   "source": [
    "Applications of all configuration of Indipendent Cascade Model with seed size 20"
   ]
  },
  {
   "cell_type": "code",
   "execution_count": 123,
   "metadata": {},
   "outputs": [],
   "source": [
    "spread_to_overlap_timeline_k(k = 20)"
   ]
  },
  {
   "cell_type": "markdown",
   "metadata": {},
   "source": [
    "### Year 2000"
   ]
  },
  {
   "cell_type": "code",
   "execution_count": 124,
   "metadata": {
    "scrolled": false
   },
   "outputs": [
    {
     "name": "stdout",
     "output_type": "stream",
     "text": [
      "OVERLAP MERGING RESULT WITH CLIQUE PERCOLATION METHOD, CASCADE MODEL, SEED TOP 20 NODES AND DEG THRESHOLD CALCULATION STRATEGY.\n",
      "\n",
      "['periodic solution', 'lyapunov functional', '43.80.+p', 'delay']\n",
      "len_topic: 4\n",
      "\n",
      "['experiment', 'feature vector', 'support vector machine']\n",
      "len_topic: 3\n",
      "\n",
      "['neural network simulation', 'artificial neural network']\n",
      "len_topic: 2\n",
      "\n",
      "['motion estimation\\xa0', 'nonlinear system', 'simulation']\n",
      "len_topic: 3\n",
      "\n"
     ]
    }
   ],
   "source": [
    "overlap_merge_view_deg(2000, k = 20)"
   ]
  },
  {
   "cell_type": "code",
   "execution_count": 125,
   "metadata": {},
   "outputs": [
    {
     "name": "stdout",
     "output_type": "stream",
     "text": [
      "OVERLAP MERGING RESULT WITH CLIQUE PERCOLATION METHOD, CASCADE MODEL, SEED TOP 200 NODES AND HALF THRESHOLD CALCULATION STRATEGY.\n",
      "\n",
      "['periodic solution', 'lyapunov functional', '43.80.+p', 'delay']\n",
      "len_topic: 4\n",
      "\n",
      "['experiment', 'feature vector', 'support vector machine']\n",
      "len_topic: 3\n",
      "\n",
      "['neural network simulation', 'artificial neural network']\n",
      "len_topic: 2\n",
      "\n",
      "['motion estimation\\xa0', 'nonlinear system', 'simulation']\n",
      "len_topic: 3\n",
      "\n"
     ]
    }
   ],
   "source": [
    "overlap_merge_view_half(2000, k = 200)"
   ]
  },
  {
   "cell_type": "code",
   "execution_count": 126,
   "metadata": {},
   "outputs": [
    {
     "name": "stdout",
     "output_type": "stream",
     "text": [
      "OVERLAP MERGING RESULT WITH CLIQUE PERCOLATION METHOD, CASCADE MODEL, SEED TOP 20 NODES AND DEG NEGATIVE THRESHOLD CALCULATION STRATEGY.\n",
      "\n",
      "['periodic solution', 'lyapunov functional', '43.80.+p', 'delay']\n",
      "len_topic: 4\n",
      "\n",
      "['experiment', 'feature vector', 'support vector machine']\n",
      "len_topic: 3\n",
      "\n",
      "['neural network simulation', 'artificial neural network']\n",
      "len_topic: 2\n",
      "\n",
      "['motion estimation\\xa0', 'nonlinear system', 'simulation']\n",
      "len_topic: 3\n",
      "\n"
     ]
    }
   ],
   "source": [
    "overlap_merge_view_deg_neg(2000, k = 20)"
   ]
  },
  {
   "cell_type": "markdown",
   "metadata": {},
   "source": [
    "### Year 2001"
   ]
  },
  {
   "cell_type": "code",
   "execution_count": 127,
   "metadata": {
    "scrolled": false
   },
   "outputs": [
    {
     "name": "stdout",
     "output_type": "stream",
     "text": [
      "OVERLAP MERGING RESULT WITH CLIQUE PERCOLATION METHOD, CASCADE MODEL, SEED TOP 20 NODES AND DEG THRESHOLD CALCULATION STRATEGY.\n",
      "\n",
      "['feedforward neural network', 'algorithm', 'artificial neural network']\n",
      "len_topic: 3\n",
      "\n",
      "['importance sampling\\xa0', 'markov chain monte carlo\\xa0']\n",
      "len_topic: 2\n",
      "\n",
      "['passage method', 's function']\n",
      "len_topic: 2\n",
      "\n",
      "['formal ontologies', 'transportable machine understanding']\n",
      "len_topic: 2\n",
      "\n",
      "['domain ontologies', 'useful tools', 'widely acknowledged']\n",
      "len_topic: 3\n",
      "\n",
      "['state-space methods', 'monte carlo methods', 'computer simulation', 'deconvolution', 'filtering algorithms', 'stochastic processes', 'signal processing', 'state estimation', 'filtering', 'fading', 'linear systems']\n",
      "len_topic: 11\n",
      "\n"
     ]
    }
   ],
   "source": [
    "overlap_merge_view_deg(2001, k = 20)"
   ]
  },
  {
   "cell_type": "code",
   "execution_count": 128,
   "metadata": {},
   "outputs": [
    {
     "name": "stdout",
     "output_type": "stream",
     "text": [
      "OVERLAP MERGING RESULT WITH CLIQUE PERCOLATION METHOD, CASCADE MODEL, SEED TOP 20 NODES AND HALF THRESHOLD CALCULATION STRATEGY.\n",
      "\n",
      "['feedforward neural network', 'algorithm', 'artificial neural network']\n",
      "len_topic: 3\n",
      "\n",
      "['importance sampling\\xa0', 'markov chain monte carlo\\xa0']\n",
      "len_topic: 2\n",
      "\n",
      "['passage method', 's function']\n",
      "len_topic: 2\n",
      "\n",
      "['state-space methods', 'monte carlo methods', 'laboratories', 'deconvolution', 'filtering algorithms', 'mathematics', 'filtering', 'signal processing', 'stochastic processes', 'state estimation', 'linear systems', 'fading', 'bayesian methods', 'signal processing algorithms']\n",
      "len_topic: 14\n",
      "\n",
      "['formal ontologies', 'transportable machine understanding']\n",
      "len_topic: 2\n",
      "\n",
      "['domain ontologies', 'useful tools', 'widely acknowledged']\n",
      "len_topic: 3\n",
      "\n"
     ]
    }
   ],
   "source": [
    "overlap_merge_view_half(2001, k = 20)"
   ]
  },
  {
   "cell_type": "code",
   "execution_count": 129,
   "metadata": {},
   "outputs": [
    {
     "name": "stdout",
     "output_type": "stream",
     "text": [
      "OVERLAP MERGING RESULT WITH CLIQUE PERCOLATION METHOD, CASCADE MODEL, SEED TOP 20 NODES AND DEG NEGATIVE THRESHOLD CALCULATION STRATEGY.\n",
      "\n",
      "['importance sampling\\xa0', 'markov chain monte carlo\\xa0']\n",
      "len_topic: 2\n",
      "\n",
      "['domain ontologies', 'useful tools', 'widely acknowledged']\n",
      "len_topic: 3\n",
      "\n",
      "['feedforward neural network', 'real life', 'algorithm', 'artificial neural network', 'cluster analysis']\n",
      "len_topic: 5\n",
      "\n",
      "['state-space methods', 'particle filters', 'monte carlo methods', 'computer simulation', 'laboratories', 'deconvolution', 'filtering algorithms', 'mathematics', 'filtering', 'signal processing', 'state estimation', 'stochastic processes', 'bayesian methods', 'smoothing methods', 'fading', 'linear systems', 'signal processing algorithms']\n",
      "len_topic: 17\n",
      "\n",
      "['passage method', 's function']\n",
      "len_topic: 2\n",
      "\n",
      "['transportable machine understanding', 'formal ontologies']\n",
      "len_topic: 2\n",
      "\n"
     ]
    }
   ],
   "source": [
    "overlap_merge_view_deg_neg(2001, k = 20)"
   ]
  },
  {
   "cell_type": "markdown",
   "metadata": {},
   "source": [
    "### Year 2002"
   ]
  },
  {
   "cell_type": "code",
   "execution_count": 130,
   "metadata": {
    "scrolled": false
   },
   "outputs": [
    {
     "name": "stdout",
     "output_type": "stream",
     "text": [
      "OVERLAP MERGING RESULT WITH CLIQUE PERCOLATION METHOD, CASCADE MODEL, SEED TOP 20 NODES AND DEG THRESHOLD CALCULATION STRATEGY.\n",
      "\n",
      "['program product', 'intellectual property', 'patent trademark', 'organization company']\n",
      "len_topic: 4\n",
      "\n",
      "['blind source separation', 'unsupervised learning', 'overcomplete situation', 'important method', 'independent component analysis']\n",
      "len_topic: 5\n",
      "\n",
      "['monte carlo methods', 'bayesian methods', 'signal processing', 'speech processing']\n",
      "len_topic: 4\n",
      "\n",
      "['lyapunov function', 'global exponential stability']\n",
      "len_topic: 2\n",
      "\n",
      "['consider thinking', 'business models']\n",
      "len_topic: 2\n",
      "\n",
      "['filtering algorithms', 'state estimation']\n",
      "len_topic: 2\n",
      "\n"
     ]
    }
   ],
   "source": [
    "overlap_merge_view_deg(2002, k = 20)"
   ]
  },
  {
   "cell_type": "code",
   "execution_count": 131,
   "metadata": {},
   "outputs": [
    {
     "name": "stdout",
     "output_type": "stream",
     "text": [
      "OVERLAP MERGING RESULT WITH CLIQUE PERCOLATION METHOD, CASCADE MODEL, SEED TOP 20 NODES AND HALF THRESHOLD CALCULATION STRATEGY.\n",
      "\n",
      "['program product', 'intellectual property', 'patent trademark', 'organization company']\n",
      "len_topic: 4\n",
      "\n",
      "['blind source separation', 'unsupervised learning', 'overcomplete situation', 'important method', 'independent component analysis']\n",
      "len_topic: 5\n",
      "\n",
      "['monte carlo methods', 'bayesian methods', 'signal processing', 'speech processing']\n",
      "len_topic: 4\n",
      "\n",
      "['lyapunov function', 'global exponential stability']\n",
      "len_topic: 2\n",
      "\n",
      "['consider thinking', 'business models']\n",
      "len_topic: 2\n",
      "\n",
      "['filtering algorithms', 'state estimation']\n",
      "len_topic: 2\n",
      "\n"
     ]
    }
   ],
   "source": [
    "overlap_merge_view_half(2002, k = 20)"
   ]
  },
  {
   "cell_type": "code",
   "execution_count": 132,
   "metadata": {},
   "outputs": [
    {
     "name": "stdout",
     "output_type": "stream",
     "text": [
      "OVERLAP MERGING RESULT WITH CLIQUE PERCOLATION METHOD, CASCADE MODEL, SEED TOP 20 NODES AND DEG NEGATIVE THRESHOLD CALCULATION STRATEGY.\n",
      "\n",
      "['program product', 'intellectual property', 'patent trademark', 'organization company']\n",
      "len_topic: 4\n",
      "\n",
      "['blind source separation', 'unsupervised learning', 'overcomplete situation', 'important method', 'independent component analysis']\n",
      "len_topic: 5\n",
      "\n",
      "['monte carlo methods', 'bayesian methods', 'signal processing', 'speech processing']\n",
      "len_topic: 4\n",
      "\n",
      "['lyapunov function', 'global exponential stability']\n",
      "len_topic: 2\n",
      "\n",
      "['consider thinking', 'business models']\n",
      "len_topic: 2\n",
      "\n",
      "['filtering algorithms', 'state estimation']\n",
      "len_topic: 2\n",
      "\n"
     ]
    }
   ],
   "source": [
    "overlap_merge_view_deg_neg(2002, k = 20)"
   ]
  },
  {
   "cell_type": "markdown",
   "metadata": {},
   "source": [
    "### Year 2003 "
   ]
  },
  {
   "cell_type": "code",
   "execution_count": 133,
   "metadata": {},
   "outputs": [
    {
     "name": "stdout",
     "output_type": "stream",
     "text": [
      "OVERLAP MERGING RESULT WITH CLIQUE PERCOLATION METHOD, CASCADE MODEL, SEED TOP 20 NODES AND DEG THRESHOLD CALCULATION STRATEGY.\n",
      "\n",
      "['filtering', 'state-space methods', 'state estimation']\n",
      "len_topic: 3\n",
      "\n",
      "['feature vector', 'heuristic', 'algorithm', 'real life', 'first-order predicate', 'really simple discovery']\n",
      "len_topic: 6\n",
      "\n",
      "['grid computing', 'monte carlo method', 'scheduling (computing)', 'computation', 'random number generation']\n",
      "len_topic: 5\n",
      "\n",
      "['original bayesian approach', 'noiseless context']\n",
      "len_topic: 2\n",
      "\n",
      "['periodic solution', '85.40.ls', '87.10.+e', 'global asymptotic stability', '87.18.sn', 'recurrent neural networks', '43.80.+p', 'lyapunov functional', 'global exponential stability']\n",
      "len_topic: 9\n",
      "\n",
      "['neural network', 'content-addressable memory']\n",
      "len_topic: 2\n",
      "\n"
     ]
    }
   ],
   "source": [
    "overlap_merge_view_deg(2003, k = 20)"
   ]
  },
  {
   "cell_type": "code",
   "execution_count": 134,
   "metadata": {},
   "outputs": [
    {
     "name": "stdout",
     "output_type": "stream",
     "text": [
      "OVERLAP MERGING RESULT WITH CLIQUE PERCOLATION METHOD, CASCADE MODEL, SEED TOP 20 NODES AND HALF THRESHOLD CALCULATION STRATEGY.\n",
      "\n",
      "['filtering', 'state-space methods', 'state estimation']\n",
      "len_topic: 3\n",
      "\n",
      "['feature vector', 'heuristic', 'algorithm', 'real life', 'pattern recognition', 'first-order predicate', 'really simple discovery', 'scalability']\n",
      "len_topic: 8\n",
      "\n",
      "['grid computing', 'monte carlo method', 'scheduling (computing)', 'computation', 'random number generation']\n",
      "len_topic: 5\n",
      "\n",
      "['original bayesian approach', 'noiseless context']\n",
      "len_topic: 2\n",
      "\n",
      "['periodic solution', '85.40.ls', '87.10.+e', 'sufficient conditions', '87.18.sn', '43.80.+p', 'lyapunov functional', 'young inequality', 'global exponential stability']\n",
      "len_topic: 9\n",
      "\n",
      "['neural network', 'content-addressable memory']\n",
      "len_topic: 2\n",
      "\n"
     ]
    }
   ],
   "source": [
    "overlap_merge_view_half(2003, k = 20)"
   ]
  },
  {
   "cell_type": "code",
   "execution_count": 135,
   "metadata": {},
   "outputs": [
    {
     "ename": "TopicNotAllKeywordsUsedException",
     "evalue": "To perfom all topics not all keywords have been used.",
     "output_type": "error",
     "traceback": [
      "\u001b[0;31m---------------------------------------------------------------------------\u001b[0m",
      "\u001b[0;31mTopicNotAllKeywordsUsedException\u001b[0m          Traceback (most recent call last)",
      "\u001b[0;32m<ipython-input-135-e83dbb78a249>\u001b[0m in \u001b[0;36m<module>\u001b[0;34m\u001b[0m\n\u001b[0;32m----> 1\u001b[0;31m \u001b[0moverlap_merge_view_deg_neg\u001b[0m\u001b[0;34m(\u001b[0m\u001b[0;36m2003\u001b[0m\u001b[0;34m,\u001b[0m \u001b[0mk\u001b[0m \u001b[0;34m=\u001b[0m \u001b[0;36m20\u001b[0m\u001b[0;34m)\u001b[0m\u001b[0;34m\u001b[0m\u001b[0;34m\u001b[0m\u001b[0m\n\u001b[0m",
      "\u001b[0;32m<ipython-input-6-644b1e1d3189>\u001b[0m in \u001b[0;36moverlap_merge_view_deg_neg\u001b[0;34m(year, k)\u001b[0m\n\u001b[1;32m     19\u001b[0m     \u001b[0mspread_dict\u001b[0m\u001b[0;34m[\u001b[0m\u001b[0mstr\u001b[0m\u001b[0;34m(\u001b[0m\u001b[0myear\u001b[0m\u001b[0;34m)\u001b[0m\u001b[0;34m]\u001b[0m\u001b[0;34m.\u001b[0m\u001b[0mindipendent_cascade_model\u001b[0m\u001b[0;34m(\u001b[0m\u001b[0;34m)\u001b[0m\u001b[0;34m\u001b[0m\u001b[0;34m\u001b[0m\u001b[0m\n\u001b[1;32m     20\u001b[0m     \u001b[0mcascade_deg_neg\u001b[0m \u001b[0;34m=\u001b[0m \u001b[0mspread_dict\u001b[0m\u001b[0;34m[\u001b[0m\u001b[0mstr\u001b[0m\u001b[0;34m(\u001b[0m\u001b[0myear\u001b[0m\u001b[0;34m)\u001b[0m\u001b[0;34m]\u001b[0m\u001b[0;34m.\u001b[0m\u001b[0mget_influenced_nodes\u001b[0m\u001b[0;34m(\u001b[0m\u001b[0;34m)\u001b[0m\u001b[0;34m\u001b[0m\u001b[0;34m\u001b[0m\u001b[0m\n\u001b[0;32m---> 21\u001b[0;31m     \u001b[0mtopics_deg_neg\u001b[0m \u001b[0;34m=\u001b[0m \u001b[0moverlap_perform\u001b[0m\u001b[0;34m(\u001b[0m\u001b[0myear\u001b[0m\u001b[0;34m,\u001b[0m \u001b[0mcascade_deg_neg\u001b[0m\u001b[0;34m,\u001b[0m \u001b[0mk\u001b[0m\u001b[0;34m)\u001b[0m\u001b[0;34m\u001b[0m\u001b[0;34m\u001b[0m\u001b[0m\n\u001b[0m\u001b[1;32m     22\u001b[0m     \u001b[0mto_print\u001b[0m\u001b[0;34m(\u001b[0m\u001b[0mtopics_deg_neg\u001b[0m\u001b[0;34m,\u001b[0m \u001b[0;34m\"cascade\"\u001b[0m\u001b[0;34m,\u001b[0m \u001b[0mk\u001b[0m\u001b[0;34m,\u001b[0m \u001b[0;34m\"deg negative\"\u001b[0m\u001b[0;34m)\u001b[0m\u001b[0;34m\u001b[0m\u001b[0;34m\u001b[0m\u001b[0m\n",
      "\u001b[0;32m<ipython-input-5-60ae7201d3cc>\u001b[0m in \u001b[0;36moverlap_perform\u001b[0;34m(year, all_topics, k)\u001b[0m\n\u001b[1;32m      3\u001b[0m     \u001b[0moverlap\u001b[0m\u001b[0;34m.\u001b[0m\u001b[0moverlap_preprocessing\u001b[0m\u001b[0;34m(\u001b[0m\u001b[0;34m)\u001b[0m\u001b[0;34m\u001b[0m\u001b[0;34m\u001b[0m\u001b[0m\n\u001b[1;32m      4\u001b[0m     \u001b[0moverlap\u001b[0m\u001b[0;34m.\u001b[0m\u001b[0mclique_percolation_method\u001b[0m\u001b[0;34m(\u001b[0m\u001b[0;34m)\u001b[0m\u001b[0;34m\u001b[0m\u001b[0;34m\u001b[0m\u001b[0m\n\u001b[0;32m----> 5\u001b[0;31m     \u001b[0moverlap\u001b[0m\u001b[0;34m.\u001b[0m\u001b[0mcheck_spread_topics\u001b[0m\u001b[0;34m(\u001b[0m\u001b[0;34m)\u001b[0m\u001b[0;34m\u001b[0m\u001b[0;34m\u001b[0m\u001b[0m\n\u001b[0m\u001b[1;32m      6\u001b[0m     \u001b[0moverlap\u001b[0m\u001b[0;34m.\u001b[0m\u001b[0mcheck_number_topics\u001b[0m\u001b[0;34m(\u001b[0m\u001b[0;34m)\u001b[0m\u001b[0;34m\u001b[0m\u001b[0;34m\u001b[0m\u001b[0m\n\u001b[1;32m      7\u001b[0m     \u001b[0;32mreturn\u001b[0m \u001b[0moverlap\u001b[0m\u001b[0;34m.\u001b[0m\u001b[0mget_topics\u001b[0m\u001b[0;34m(\u001b[0m\u001b[0;34m)\u001b[0m\u001b[0;34m\u001b[0m\u001b[0;34m\u001b[0m\u001b[0m\n",
      "\u001b[0;32m~/Universita/magistrale/web_and_social_information_extraction/webandsocial-progetto/src/overlaps_topics/overlap_topics.py\u001b[0m in \u001b[0;36mcheck_spread_topics\u001b[0;34m(self)\u001b[0m\n\u001b[1;32m    156\u001b[0m \u001b[0;34m\u001b[0m\u001b[0m\n\u001b[1;32m    157\u001b[0m         \u001b[0;32mif\u001b[0m \u001b[0msize_iteration\u001b[0m \u001b[0;34m!=\u001b[0m \u001b[0msize_topics\u001b[0m\u001b[0;34m:\u001b[0m\u001b[0;34m\u001b[0m\u001b[0;34m\u001b[0m\u001b[0m\n\u001b[0;32m--> 158\u001b[0;31m             \u001b[0;32mraise\u001b[0m \u001b[0mexcpt\u001b[0m\u001b[0;34m.\u001b[0m\u001b[0mTopicNotAllKeywordsUsedException\u001b[0m\u001b[0;34m(\u001b[0m\u001b[0;34m\"To perfom all topics not all keywords have been used.\"\u001b[0m\u001b[0;34m)\u001b[0m\u001b[0;34m\u001b[0m\u001b[0;34m\u001b[0m\u001b[0m\n\u001b[0m\u001b[1;32m    159\u001b[0m \u001b[0;34m\u001b[0m\u001b[0m\n\u001b[1;32m    160\u001b[0m \u001b[0;34m\u001b[0m\u001b[0m\n",
      "\u001b[0;31mTopicNotAllKeywordsUsedException\u001b[0m: To perfom all topics not all keywords have been used."
     ]
    }
   ],
   "source": [
    "overlap_merge_view_deg_neg(2003, k = 20)"
   ]
  },
  {
   "cell_type": "markdown",
   "metadata": {},
   "source": [
    "### Year 2004"
   ]
  },
  {
   "cell_type": "code",
   "execution_count": 136,
   "metadata": {},
   "outputs": [
    {
     "name": "stdout",
     "output_type": "stream",
     "text": [
      "OVERLAP MERGING RESULT WITH CLIQUE PERCOLATION METHOD, CASCADE MODEL, SEED TOP 20 NODES AND DEG THRESHOLD CALCULATION STRATEGY.\n",
      "\n",
      "['consistent view', 'user study', 'differentiating noisy', 'previous work shows', 'multiple segments', 'web page', 'uniform approach']\n",
      "len_topic: 7\n",
      "\n",
      "['experiment', 'mathematical optimization']\n",
      "len_topic: 2\n",
      "\n",
      "['class', 'algorithm', 'rule (guideline)', 'subgroup a nepoviruses', 'real life', 'ant colony optimization algorithms', 'large', 'apache ant (another neat tool)']\n",
      "len_topic: 8\n",
      "\n",
      "['ontology evaluation', 'ontology learning algorithms', 'ontolearn ontology learning', 'detailed quantitative analysis', 'knowledge engineers', 'domain specialists', 'critical task', 'conceptualisation effort produced', 'proposed evaluation strategy', 'paper provides']\n",
      "len_topic: 10\n",
      "\n"
     ]
    }
   ],
   "source": [
    "overlap_merge_view_deg(2004, k = 20)"
   ]
  },
  {
   "cell_type": "code",
   "execution_count": 137,
   "metadata": {},
   "outputs": [
    {
     "name": "stdout",
     "output_type": "stream",
     "text": [
      "OVERLAP MERGING RESULT WITH CLIQUE PERCOLATION METHOD, CASCADE MODEL, SEED TOP 20 NODES AND HALF THRESHOLD CALCULATION STRATEGY.\n",
      "\n",
      "['consistent view', 'user study', 'differentiating noisy', 'previous work shows', 'multiple segments', 'web page', 'uniform approach']\n",
      "len_topic: 7\n",
      "\n",
      "['experiment', 'particle swarm optimization', 'benchmark (computing)', 'mathematical optimization']\n",
      "len_topic: 4\n",
      "\n",
      "['class', 'algorithm', 'biasing', 'rule (guideline)', 'apriori algorithm', 'real life', 'reinforcement learning', 'subgroup a nepoviruses', 'large']\n",
      "len_topic: 9\n",
      "\n",
      "['ontology evaluation', 'ontology learning algorithms', 'ontolearn ontology learning', 'different learning circumstances', 'detailed quantitative analysis', 'knowledge engineers', 'domain specialists', 'critical task', 'conceptualisation effort produced', 'proposed evaluation strategy', 'paper provides']\n",
      "len_topic: 11\n",
      "\n"
     ]
    }
   ],
   "source": [
    "overlap_merge_view_half(2004, k = 20)"
   ]
  },
  {
   "cell_type": "code",
   "execution_count": 138,
   "metadata": {},
   "outputs": [
    {
     "name": "stdout",
     "output_type": "stream",
     "text": [
      "OVERLAP MERGING RESULT WITH CLIQUE PERCOLATION METHOD, CASCADE MODEL, SEED TOP 20 NODES AND DEG NEGATIVE THRESHOLD CALCULATION STRATEGY.\n",
      "\n",
      "['consistent view', 'link analysis', 'user study', 'differentiating noisy', 'previous work shows', 'multiple segments', 'web page', 'uniform approach']\n",
      "len_topic: 8\n",
      "\n",
      "['experiment', 'mathematical optimization', 'particle swarm optimization', 'benchmark (computing)', 'linear discriminant analysis']\n",
      "len_topic: 5\n",
      "\n",
      "['class', 'algorithm', 'biasing', 'rule (guideline)', 'roc curve', 'subgroup a nepoviruses', 'heuristic', 'real life', 'reinforcement learning', 'ant colony optimization algorithms', 'large', 'stochastic process', 'consortium']\n",
      "len_topic: 13\n",
      "\n",
      "['ontology evaluation', 'ontology learning algorithms', 'ontolearn ontology learning', 'different learning circumstances', 'detailed quantitative analysis', 'knowledge engineers', 'domain specialists', 'critical task', 'conceptualisation effort produced', 'proposed evaluation strategy', 'paper provides']\n",
      "len_topic: 11\n",
      "\n"
     ]
    }
   ],
   "source": [
    "overlap_merge_view_deg_neg(2004, k = 20)"
   ]
  },
  {
   "cell_type": "markdown",
   "metadata": {},
   "source": [
    "### Year 2005"
   ]
  },
  {
   "cell_type": "code",
   "execution_count": 139,
   "metadata": {},
   "outputs": [
    {
     "ename": "TopicNotAllKeywordsUsedException",
     "evalue": "To perfom all topics not all keywords have been used.",
     "output_type": "error",
     "traceback": [
      "\u001b[0;31m---------------------------------------------------------------------------\u001b[0m",
      "\u001b[0;31mTopicNotAllKeywordsUsedException\u001b[0m          Traceback (most recent call last)",
      "\u001b[0;32m<ipython-input-139-ca03a52432a4>\u001b[0m in \u001b[0;36m<module>\u001b[0;34m\u001b[0m\n\u001b[0;32m----> 1\u001b[0;31m \u001b[0moverlap_merge_view_deg\u001b[0m\u001b[0;34m(\u001b[0m\u001b[0;36m2005\u001b[0m\u001b[0;34m,\u001b[0m \u001b[0mk\u001b[0m \u001b[0;34m=\u001b[0m \u001b[0;36m20\u001b[0m\u001b[0;34m)\u001b[0m\u001b[0;34m\u001b[0m\u001b[0;34m\u001b[0m\u001b[0m\n\u001b[0m",
      "\u001b[0;32m<ipython-input-6-644b1e1d3189>\u001b[0m in \u001b[0;36moverlap_merge_view_deg\u001b[0;34m(year, k)\u001b[0m\n\u001b[1;32m      3\u001b[0m     \u001b[0mspread_dict\u001b[0m\u001b[0;34m[\u001b[0m\u001b[0mstr\u001b[0m\u001b[0;34m(\u001b[0m\u001b[0myear\u001b[0m\u001b[0;34m)\u001b[0m\u001b[0;34m]\u001b[0m\u001b[0;34m.\u001b[0m\u001b[0mindipendent_cascade_model\u001b[0m\u001b[0;34m(\u001b[0m\u001b[0;34m)\u001b[0m\u001b[0;34m\u001b[0m\u001b[0;34m\u001b[0m\u001b[0m\n\u001b[1;32m      4\u001b[0m     \u001b[0mcascade_deg\u001b[0m \u001b[0;34m=\u001b[0m \u001b[0mspread_dict\u001b[0m\u001b[0;34m[\u001b[0m\u001b[0mstr\u001b[0m\u001b[0;34m(\u001b[0m\u001b[0myear\u001b[0m\u001b[0;34m)\u001b[0m\u001b[0;34m]\u001b[0m\u001b[0;34m.\u001b[0m\u001b[0mget_influenced_nodes\u001b[0m\u001b[0;34m(\u001b[0m\u001b[0;34m)\u001b[0m\u001b[0;34m\u001b[0m\u001b[0;34m\u001b[0m\u001b[0m\n\u001b[0;32m----> 5\u001b[0;31m     \u001b[0mtopics_deg\u001b[0m \u001b[0;34m=\u001b[0m \u001b[0moverlap_perform\u001b[0m\u001b[0;34m(\u001b[0m\u001b[0myear\u001b[0m\u001b[0;34m,\u001b[0m \u001b[0mcascade_deg\u001b[0m\u001b[0;34m,\u001b[0m \u001b[0mk\u001b[0m\u001b[0;34m)\u001b[0m\u001b[0;34m\u001b[0m\u001b[0;34m\u001b[0m\u001b[0m\n\u001b[0m\u001b[1;32m      6\u001b[0m     \u001b[0mto_print\u001b[0m\u001b[0;34m(\u001b[0m\u001b[0mtopics_deg\u001b[0m\u001b[0;34m,\u001b[0m \u001b[0;34m\"cascade\"\u001b[0m\u001b[0;34m,\u001b[0m \u001b[0mk\u001b[0m\u001b[0;34m,\u001b[0m \u001b[0;34m\"deg\"\u001b[0m\u001b[0;34m)\u001b[0m\u001b[0;34m\u001b[0m\u001b[0;34m\u001b[0m\u001b[0m\n\u001b[1;32m      7\u001b[0m \u001b[0;34m\u001b[0m\u001b[0m\n",
      "\u001b[0;32m<ipython-input-5-60ae7201d3cc>\u001b[0m in \u001b[0;36moverlap_perform\u001b[0;34m(year, all_topics, k)\u001b[0m\n\u001b[1;32m      3\u001b[0m     \u001b[0moverlap\u001b[0m\u001b[0;34m.\u001b[0m\u001b[0moverlap_preprocessing\u001b[0m\u001b[0;34m(\u001b[0m\u001b[0;34m)\u001b[0m\u001b[0;34m\u001b[0m\u001b[0;34m\u001b[0m\u001b[0m\n\u001b[1;32m      4\u001b[0m     \u001b[0moverlap\u001b[0m\u001b[0;34m.\u001b[0m\u001b[0mclique_percolation_method\u001b[0m\u001b[0;34m(\u001b[0m\u001b[0;34m)\u001b[0m\u001b[0;34m\u001b[0m\u001b[0;34m\u001b[0m\u001b[0m\n\u001b[0;32m----> 5\u001b[0;31m     \u001b[0moverlap\u001b[0m\u001b[0;34m.\u001b[0m\u001b[0mcheck_spread_topics\u001b[0m\u001b[0;34m(\u001b[0m\u001b[0;34m)\u001b[0m\u001b[0;34m\u001b[0m\u001b[0;34m\u001b[0m\u001b[0m\n\u001b[0m\u001b[1;32m      6\u001b[0m     \u001b[0moverlap\u001b[0m\u001b[0;34m.\u001b[0m\u001b[0mcheck_number_topics\u001b[0m\u001b[0;34m(\u001b[0m\u001b[0;34m)\u001b[0m\u001b[0;34m\u001b[0m\u001b[0;34m\u001b[0m\u001b[0m\n\u001b[1;32m      7\u001b[0m     \u001b[0;32mreturn\u001b[0m \u001b[0moverlap\u001b[0m\u001b[0;34m.\u001b[0m\u001b[0mget_topics\u001b[0m\u001b[0;34m(\u001b[0m\u001b[0;34m)\u001b[0m\u001b[0;34m\u001b[0m\u001b[0;34m\u001b[0m\u001b[0m\n",
      "\u001b[0;32m~/Universita/magistrale/web_and_social_information_extraction/webandsocial-progetto/src/overlaps_topics/overlap_topics.py\u001b[0m in \u001b[0;36mcheck_spread_topics\u001b[0;34m(self)\u001b[0m\n\u001b[1;32m    156\u001b[0m \u001b[0;34m\u001b[0m\u001b[0m\n\u001b[1;32m    157\u001b[0m         \u001b[0;32mif\u001b[0m \u001b[0msize_iteration\u001b[0m \u001b[0;34m!=\u001b[0m \u001b[0msize_topics\u001b[0m\u001b[0;34m:\u001b[0m\u001b[0;34m\u001b[0m\u001b[0;34m\u001b[0m\u001b[0m\n\u001b[0;32m--> 158\u001b[0;31m             \u001b[0;32mraise\u001b[0m \u001b[0mexcpt\u001b[0m\u001b[0;34m.\u001b[0m\u001b[0mTopicNotAllKeywordsUsedException\u001b[0m\u001b[0;34m(\u001b[0m\u001b[0;34m\"To perfom all topics not all keywords have been used.\"\u001b[0m\u001b[0;34m)\u001b[0m\u001b[0;34m\u001b[0m\u001b[0;34m\u001b[0m\u001b[0m\n\u001b[0m\u001b[1;32m    159\u001b[0m \u001b[0;34m\u001b[0m\u001b[0m\n\u001b[1;32m    160\u001b[0m \u001b[0;34m\u001b[0m\u001b[0m\n",
      "\u001b[0;31mTopicNotAllKeywordsUsedException\u001b[0m: To perfom all topics not all keywords have been used."
     ]
    }
   ],
   "source": [
    "overlap_merge_view_deg(2005, k = 20)"
   ]
  },
  {
   "cell_type": "code",
   "execution_count": 140,
   "metadata": {},
   "outputs": [
    {
     "ename": "TopicNotAllKeywordsUsedException",
     "evalue": "To perfom all topics not all keywords have been used.",
     "output_type": "error",
     "traceback": [
      "\u001b[0;31m---------------------------------------------------------------------------\u001b[0m",
      "\u001b[0;31mTopicNotAllKeywordsUsedException\u001b[0m          Traceback (most recent call last)",
      "\u001b[0;32m<ipython-input-140-ea4c2940ff78>\u001b[0m in \u001b[0;36m<module>\u001b[0;34m\u001b[0m\n\u001b[0;32m----> 1\u001b[0;31m \u001b[0moverlap_merge_view_half\u001b[0m\u001b[0;34m(\u001b[0m\u001b[0;36m2005\u001b[0m\u001b[0;34m,\u001b[0m \u001b[0mk\u001b[0m \u001b[0;34m=\u001b[0m \u001b[0;36m20\u001b[0m\u001b[0;34m)\u001b[0m\u001b[0;34m\u001b[0m\u001b[0;34m\u001b[0m\u001b[0m\n\u001b[0m",
      "\u001b[0;32m<ipython-input-6-644b1e1d3189>\u001b[0m in \u001b[0;36moverlap_merge_view_half\u001b[0;34m(year, k)\u001b[0m\n\u001b[1;32m     11\u001b[0m     \u001b[0mspread_dict\u001b[0m\u001b[0;34m[\u001b[0m\u001b[0mstr\u001b[0m\u001b[0;34m(\u001b[0m\u001b[0myear\u001b[0m\u001b[0;34m)\u001b[0m\u001b[0;34m]\u001b[0m\u001b[0;34m.\u001b[0m\u001b[0mindipendent_cascade_model\u001b[0m\u001b[0;34m(\u001b[0m\u001b[0;34m)\u001b[0m\u001b[0;34m\u001b[0m\u001b[0;34m\u001b[0m\u001b[0m\n\u001b[1;32m     12\u001b[0m     \u001b[0mcascade_half\u001b[0m \u001b[0;34m=\u001b[0m \u001b[0mspread_dict\u001b[0m\u001b[0;34m[\u001b[0m\u001b[0mstr\u001b[0m\u001b[0;34m(\u001b[0m\u001b[0myear\u001b[0m\u001b[0;34m)\u001b[0m\u001b[0;34m]\u001b[0m\u001b[0;34m.\u001b[0m\u001b[0mget_influenced_nodes\u001b[0m\u001b[0;34m(\u001b[0m\u001b[0;34m)\u001b[0m\u001b[0;34m\u001b[0m\u001b[0;34m\u001b[0m\u001b[0m\n\u001b[0;32m---> 13\u001b[0;31m     \u001b[0mtopics_half\u001b[0m \u001b[0;34m=\u001b[0m \u001b[0moverlap_perform\u001b[0m\u001b[0;34m(\u001b[0m\u001b[0myear\u001b[0m\u001b[0;34m,\u001b[0m \u001b[0mcascade_half\u001b[0m\u001b[0;34m,\u001b[0m \u001b[0mk\u001b[0m\u001b[0;34m)\u001b[0m\u001b[0;34m\u001b[0m\u001b[0;34m\u001b[0m\u001b[0m\n\u001b[0m\u001b[1;32m     14\u001b[0m     \u001b[0mto_print\u001b[0m\u001b[0;34m(\u001b[0m\u001b[0mtopics_half\u001b[0m\u001b[0;34m,\u001b[0m \u001b[0;34m\"cascade\"\u001b[0m\u001b[0;34m,\u001b[0m \u001b[0mk\u001b[0m\u001b[0;34m,\u001b[0m \u001b[0;34m\"half\"\u001b[0m\u001b[0;34m)\u001b[0m\u001b[0;34m\u001b[0m\u001b[0;34m\u001b[0m\u001b[0m\n\u001b[1;32m     15\u001b[0m \u001b[0;34m\u001b[0m\u001b[0m\n",
      "\u001b[0;32m<ipython-input-5-60ae7201d3cc>\u001b[0m in \u001b[0;36moverlap_perform\u001b[0;34m(year, all_topics, k)\u001b[0m\n\u001b[1;32m      3\u001b[0m     \u001b[0moverlap\u001b[0m\u001b[0;34m.\u001b[0m\u001b[0moverlap_preprocessing\u001b[0m\u001b[0;34m(\u001b[0m\u001b[0;34m)\u001b[0m\u001b[0;34m\u001b[0m\u001b[0;34m\u001b[0m\u001b[0m\n\u001b[1;32m      4\u001b[0m     \u001b[0moverlap\u001b[0m\u001b[0;34m.\u001b[0m\u001b[0mclique_percolation_method\u001b[0m\u001b[0;34m(\u001b[0m\u001b[0;34m)\u001b[0m\u001b[0;34m\u001b[0m\u001b[0;34m\u001b[0m\u001b[0m\n\u001b[0;32m----> 5\u001b[0;31m     \u001b[0moverlap\u001b[0m\u001b[0;34m.\u001b[0m\u001b[0mcheck_spread_topics\u001b[0m\u001b[0;34m(\u001b[0m\u001b[0;34m)\u001b[0m\u001b[0;34m\u001b[0m\u001b[0;34m\u001b[0m\u001b[0m\n\u001b[0m\u001b[1;32m      6\u001b[0m     \u001b[0moverlap\u001b[0m\u001b[0;34m.\u001b[0m\u001b[0mcheck_number_topics\u001b[0m\u001b[0;34m(\u001b[0m\u001b[0;34m)\u001b[0m\u001b[0;34m\u001b[0m\u001b[0;34m\u001b[0m\u001b[0m\n\u001b[1;32m      7\u001b[0m     \u001b[0;32mreturn\u001b[0m \u001b[0moverlap\u001b[0m\u001b[0;34m.\u001b[0m\u001b[0mget_topics\u001b[0m\u001b[0;34m(\u001b[0m\u001b[0;34m)\u001b[0m\u001b[0;34m\u001b[0m\u001b[0;34m\u001b[0m\u001b[0m\n",
      "\u001b[0;32m~/Universita/magistrale/web_and_social_information_extraction/webandsocial-progetto/src/overlaps_topics/overlap_topics.py\u001b[0m in \u001b[0;36mcheck_spread_topics\u001b[0;34m(self)\u001b[0m\n\u001b[1;32m    156\u001b[0m \u001b[0;34m\u001b[0m\u001b[0m\n\u001b[1;32m    157\u001b[0m         \u001b[0;32mif\u001b[0m \u001b[0msize_iteration\u001b[0m \u001b[0;34m!=\u001b[0m \u001b[0msize_topics\u001b[0m\u001b[0;34m:\u001b[0m\u001b[0;34m\u001b[0m\u001b[0;34m\u001b[0m\u001b[0m\n\u001b[0;32m--> 158\u001b[0;31m             \u001b[0;32mraise\u001b[0m \u001b[0mexcpt\u001b[0m\u001b[0;34m.\u001b[0m\u001b[0mTopicNotAllKeywordsUsedException\u001b[0m\u001b[0;34m(\u001b[0m\u001b[0;34m\"To perfom all topics not all keywords have been used.\"\u001b[0m\u001b[0;34m)\u001b[0m\u001b[0;34m\u001b[0m\u001b[0;34m\u001b[0m\u001b[0m\n\u001b[0m\u001b[1;32m    159\u001b[0m \u001b[0;34m\u001b[0m\u001b[0m\n\u001b[1;32m    160\u001b[0m \u001b[0;34m\u001b[0m\u001b[0m\n",
      "\u001b[0;31mTopicNotAllKeywordsUsedException\u001b[0m: To perfom all topics not all keywords have been used."
     ]
    }
   ],
   "source": [
    "overlap_merge_view_half(2005, k = 20)"
   ]
  },
  {
   "cell_type": "code",
   "execution_count": 141,
   "metadata": {},
   "outputs": [
    {
     "name": "stdout",
     "output_type": "stream",
     "text": [
      "OVERLAP MERGING RESULT WITH CLIQUE PERCOLATION METHOD, CASCADE MODEL, SEED TOP 20 NODES AND DEG NEGATIVE THRESHOLD CALCULATION STRATEGY.\n",
      "\n",
      "['global asymptotic stability', 'equilibrium point', 'linear matrix inequality']\n",
      "len_topic: 3\n",
      "\n",
      "['social inequality', 'recurrent neural network', 'lyapunov fractal', 'activation function', 'artificial neural network', 'neural network simulation']\n",
      "len_topic: 6\n",
      "\n",
      "['sliding mode control', 'statistics', 'inference algorithms', 'monte carlo methods', 'bayesian methods']\n",
      "len_topic: 5\n",
      "\n",
      "['similar way', 'human eyes sensing', 'adaptive enhancement', 'tone frequency components', 'visual quality']\n",
      "len_topic: 5\n",
      "\n",
      "['discrete-time', 'global exponential stability', 'cellular neural networks', 'periodic solutions', 'neural networks']\n",
      "len_topic: 5\n",
      "\n",
      "['usable methodologies', 'making available large', 'methods proposed', 'aware version', 'semantic web', 'knowledge representation', 'world wide web', 'widely used standards', 'ontology building']\n",
      "len_topic: 9\n",
      "\n",
      "['algorithm', 'mathematical optimization', 'benchmark (computing)', 'simulation', 'genetic algorithm', 'swarm robotics', 'particle swarm optimization', 'evolutionary computation']\n",
      "len_topic: 8\n",
      "\n"
     ]
    }
   ],
   "source": [
    "overlap_merge_view_deg_neg(2005, k = 20)"
   ]
  },
  {
   "cell_type": "markdown",
   "metadata": {},
   "source": [
    "### Year 2006"
   ]
  },
  {
   "cell_type": "code",
   "execution_count": 142,
   "metadata": {},
   "outputs": [
    {
     "name": "stdout",
     "output_type": "stream",
     "text": [
      "OVERLAP MERGING RESULT WITH CLIQUE PERCOLATION METHOD, CASCADE MODEL, SEED TOP 20 NODES AND DEG THRESHOLD CALCULATION STRATEGY.\n",
      "\n",
      "['delicate anatomical structures', 'strongly challenging', 'paper refers', 'tiny space', 'biomedical application', 'arachnoid spinal space']\n",
      "len_topic: 6\n",
      "\n",
      "['numerical analysis', 'uncertain systems', 'global asymptotic stability', 'experiment', 'variational principle', 'linear matrix inequality', 'gradient', 'computation', 'hessian', 'stochastic systems', 'lyapunov fractal', 'lyapunov–krasovskii functional', 'global exponential stability', 'distributed delays', 'hopfield neural networks', 'time-varying delays', 'time delays']\n",
      "len_topic: 17\n",
      "\n",
      "['paper presents', 'frw method']\n",
      "len_topic: 2\n",
      "\n",
      "['quantum', 'algorithm', 'particle swarm optimization', 'optimization problem', 'linear discriminant analysis']\n",
      "len_topic: 5\n",
      "\n"
     ]
    }
   ],
   "source": [
    "overlap_merge_view_deg(2006, k = 20)"
   ]
  },
  {
   "cell_type": "code",
   "execution_count": 143,
   "metadata": {},
   "outputs": [
    {
     "ename": "TopicNotAllKeywordsUsedException",
     "evalue": "To perfom all topics not all keywords have been used.",
     "output_type": "error",
     "traceback": [
      "\u001b[0;31m---------------------------------------------------------------------------\u001b[0m",
      "\u001b[0;31mTopicNotAllKeywordsUsedException\u001b[0m          Traceback (most recent call last)",
      "\u001b[0;32m<ipython-input-143-717dc7f3fdb2>\u001b[0m in \u001b[0;36m<module>\u001b[0;34m\u001b[0m\n\u001b[0;32m----> 1\u001b[0;31m \u001b[0moverlap_merge_view_half\u001b[0m\u001b[0;34m(\u001b[0m\u001b[0;36m2006\u001b[0m\u001b[0;34m,\u001b[0m \u001b[0mk\u001b[0m \u001b[0;34m=\u001b[0m \u001b[0;36m20\u001b[0m\u001b[0;34m)\u001b[0m\u001b[0;34m\u001b[0m\u001b[0;34m\u001b[0m\u001b[0m\n\u001b[0m",
      "\u001b[0;32m<ipython-input-6-644b1e1d3189>\u001b[0m in \u001b[0;36moverlap_merge_view_half\u001b[0;34m(year, k)\u001b[0m\n\u001b[1;32m     11\u001b[0m     \u001b[0mspread_dict\u001b[0m\u001b[0;34m[\u001b[0m\u001b[0mstr\u001b[0m\u001b[0;34m(\u001b[0m\u001b[0myear\u001b[0m\u001b[0;34m)\u001b[0m\u001b[0;34m]\u001b[0m\u001b[0;34m.\u001b[0m\u001b[0mindipendent_cascade_model\u001b[0m\u001b[0;34m(\u001b[0m\u001b[0;34m)\u001b[0m\u001b[0;34m\u001b[0m\u001b[0;34m\u001b[0m\u001b[0m\n\u001b[1;32m     12\u001b[0m     \u001b[0mcascade_half\u001b[0m \u001b[0;34m=\u001b[0m \u001b[0mspread_dict\u001b[0m\u001b[0;34m[\u001b[0m\u001b[0mstr\u001b[0m\u001b[0;34m(\u001b[0m\u001b[0myear\u001b[0m\u001b[0;34m)\u001b[0m\u001b[0;34m]\u001b[0m\u001b[0;34m.\u001b[0m\u001b[0mget_influenced_nodes\u001b[0m\u001b[0;34m(\u001b[0m\u001b[0;34m)\u001b[0m\u001b[0;34m\u001b[0m\u001b[0;34m\u001b[0m\u001b[0m\n\u001b[0;32m---> 13\u001b[0;31m     \u001b[0mtopics_half\u001b[0m \u001b[0;34m=\u001b[0m \u001b[0moverlap_perform\u001b[0m\u001b[0;34m(\u001b[0m\u001b[0myear\u001b[0m\u001b[0;34m,\u001b[0m \u001b[0mcascade_half\u001b[0m\u001b[0;34m,\u001b[0m \u001b[0mk\u001b[0m\u001b[0;34m)\u001b[0m\u001b[0;34m\u001b[0m\u001b[0;34m\u001b[0m\u001b[0m\n\u001b[0m\u001b[1;32m     14\u001b[0m     \u001b[0mto_print\u001b[0m\u001b[0;34m(\u001b[0m\u001b[0mtopics_half\u001b[0m\u001b[0;34m,\u001b[0m \u001b[0;34m\"cascade\"\u001b[0m\u001b[0;34m,\u001b[0m \u001b[0mk\u001b[0m\u001b[0;34m,\u001b[0m \u001b[0;34m\"half\"\u001b[0m\u001b[0;34m)\u001b[0m\u001b[0;34m\u001b[0m\u001b[0;34m\u001b[0m\u001b[0m\n\u001b[1;32m     15\u001b[0m \u001b[0;34m\u001b[0m\u001b[0m\n",
      "\u001b[0;32m<ipython-input-5-60ae7201d3cc>\u001b[0m in \u001b[0;36moverlap_perform\u001b[0;34m(year, all_topics, k)\u001b[0m\n\u001b[1;32m      3\u001b[0m     \u001b[0moverlap\u001b[0m\u001b[0;34m.\u001b[0m\u001b[0moverlap_preprocessing\u001b[0m\u001b[0;34m(\u001b[0m\u001b[0;34m)\u001b[0m\u001b[0;34m\u001b[0m\u001b[0;34m\u001b[0m\u001b[0m\n\u001b[1;32m      4\u001b[0m     \u001b[0moverlap\u001b[0m\u001b[0;34m.\u001b[0m\u001b[0mclique_percolation_method\u001b[0m\u001b[0;34m(\u001b[0m\u001b[0;34m)\u001b[0m\u001b[0;34m\u001b[0m\u001b[0;34m\u001b[0m\u001b[0m\n\u001b[0;32m----> 5\u001b[0;31m     \u001b[0moverlap\u001b[0m\u001b[0;34m.\u001b[0m\u001b[0mcheck_spread_topics\u001b[0m\u001b[0;34m(\u001b[0m\u001b[0;34m)\u001b[0m\u001b[0;34m\u001b[0m\u001b[0;34m\u001b[0m\u001b[0m\n\u001b[0m\u001b[1;32m      6\u001b[0m     \u001b[0moverlap\u001b[0m\u001b[0;34m.\u001b[0m\u001b[0mcheck_number_topics\u001b[0m\u001b[0;34m(\u001b[0m\u001b[0;34m)\u001b[0m\u001b[0;34m\u001b[0m\u001b[0;34m\u001b[0m\u001b[0m\n\u001b[1;32m      7\u001b[0m     \u001b[0;32mreturn\u001b[0m \u001b[0moverlap\u001b[0m\u001b[0;34m.\u001b[0m\u001b[0mget_topics\u001b[0m\u001b[0;34m(\u001b[0m\u001b[0;34m)\u001b[0m\u001b[0;34m\u001b[0m\u001b[0;34m\u001b[0m\u001b[0m\n",
      "\u001b[0;32m~/Universita/magistrale/web_and_social_information_extraction/webandsocial-progetto/src/overlaps_topics/overlap_topics.py\u001b[0m in \u001b[0;36mcheck_spread_topics\u001b[0;34m(self)\u001b[0m\n\u001b[1;32m    156\u001b[0m \u001b[0;34m\u001b[0m\u001b[0m\n\u001b[1;32m    157\u001b[0m         \u001b[0;32mif\u001b[0m \u001b[0msize_iteration\u001b[0m \u001b[0;34m!=\u001b[0m \u001b[0msize_topics\u001b[0m\u001b[0;34m:\u001b[0m\u001b[0;34m\u001b[0m\u001b[0;34m\u001b[0m\u001b[0m\n\u001b[0;32m--> 158\u001b[0;31m             \u001b[0;32mraise\u001b[0m \u001b[0mexcpt\u001b[0m\u001b[0;34m.\u001b[0m\u001b[0mTopicNotAllKeywordsUsedException\u001b[0m\u001b[0;34m(\u001b[0m\u001b[0;34m\"To perfom all topics not all keywords have been used.\"\u001b[0m\u001b[0;34m)\u001b[0m\u001b[0;34m\u001b[0m\u001b[0;34m\u001b[0m\u001b[0m\n\u001b[0m\u001b[1;32m    159\u001b[0m \u001b[0;34m\u001b[0m\u001b[0m\n\u001b[1;32m    160\u001b[0m \u001b[0;34m\u001b[0m\u001b[0m\n",
      "\u001b[0;31mTopicNotAllKeywordsUsedException\u001b[0m: To perfom all topics not all keywords have been used."
     ]
    }
   ],
   "source": [
    "overlap_merge_view_half(2006, k = 20)"
   ]
  },
  {
   "cell_type": "code",
   "execution_count": 144,
   "metadata": {},
   "outputs": [
    {
     "ename": "TopicNotAllKeywordsUsedException",
     "evalue": "To perfom all topics not all keywords have been used.",
     "output_type": "error",
     "traceback": [
      "\u001b[0;31m---------------------------------------------------------------------------\u001b[0m",
      "\u001b[0;31mTopicNotAllKeywordsUsedException\u001b[0m          Traceback (most recent call last)",
      "\u001b[0;32m<ipython-input-144-471b25ab07ec>\u001b[0m in \u001b[0;36m<module>\u001b[0;34m\u001b[0m\n\u001b[0;32m----> 1\u001b[0;31m \u001b[0moverlap_merge_view_deg_neg\u001b[0m\u001b[0;34m(\u001b[0m\u001b[0;36m2006\u001b[0m\u001b[0;34m,\u001b[0m \u001b[0mk\u001b[0m \u001b[0;34m=\u001b[0m \u001b[0;36m20\u001b[0m\u001b[0;34m)\u001b[0m\u001b[0;34m\u001b[0m\u001b[0;34m\u001b[0m\u001b[0m\n\u001b[0m",
      "\u001b[0;32m<ipython-input-6-644b1e1d3189>\u001b[0m in \u001b[0;36moverlap_merge_view_deg_neg\u001b[0;34m(year, k)\u001b[0m\n\u001b[1;32m     19\u001b[0m     \u001b[0mspread_dict\u001b[0m\u001b[0;34m[\u001b[0m\u001b[0mstr\u001b[0m\u001b[0;34m(\u001b[0m\u001b[0myear\u001b[0m\u001b[0;34m)\u001b[0m\u001b[0;34m]\u001b[0m\u001b[0;34m.\u001b[0m\u001b[0mindipendent_cascade_model\u001b[0m\u001b[0;34m(\u001b[0m\u001b[0;34m)\u001b[0m\u001b[0;34m\u001b[0m\u001b[0;34m\u001b[0m\u001b[0m\n\u001b[1;32m     20\u001b[0m     \u001b[0mcascade_deg_neg\u001b[0m \u001b[0;34m=\u001b[0m \u001b[0mspread_dict\u001b[0m\u001b[0;34m[\u001b[0m\u001b[0mstr\u001b[0m\u001b[0;34m(\u001b[0m\u001b[0myear\u001b[0m\u001b[0;34m)\u001b[0m\u001b[0;34m]\u001b[0m\u001b[0;34m.\u001b[0m\u001b[0mget_influenced_nodes\u001b[0m\u001b[0;34m(\u001b[0m\u001b[0;34m)\u001b[0m\u001b[0;34m\u001b[0m\u001b[0;34m\u001b[0m\u001b[0m\n\u001b[0;32m---> 21\u001b[0;31m     \u001b[0mtopics_deg_neg\u001b[0m \u001b[0;34m=\u001b[0m \u001b[0moverlap_perform\u001b[0m\u001b[0;34m(\u001b[0m\u001b[0myear\u001b[0m\u001b[0;34m,\u001b[0m \u001b[0mcascade_deg_neg\u001b[0m\u001b[0;34m,\u001b[0m \u001b[0mk\u001b[0m\u001b[0;34m)\u001b[0m\u001b[0;34m\u001b[0m\u001b[0;34m\u001b[0m\u001b[0m\n\u001b[0m\u001b[1;32m     22\u001b[0m     \u001b[0mto_print\u001b[0m\u001b[0;34m(\u001b[0m\u001b[0mtopics_deg_neg\u001b[0m\u001b[0;34m,\u001b[0m \u001b[0;34m\"cascade\"\u001b[0m\u001b[0;34m,\u001b[0m \u001b[0mk\u001b[0m\u001b[0;34m,\u001b[0m \u001b[0;34m\"deg negative\"\u001b[0m\u001b[0;34m)\u001b[0m\u001b[0;34m\u001b[0m\u001b[0;34m\u001b[0m\u001b[0m\n",
      "\u001b[0;32m<ipython-input-5-60ae7201d3cc>\u001b[0m in \u001b[0;36moverlap_perform\u001b[0;34m(year, all_topics, k)\u001b[0m\n\u001b[1;32m      3\u001b[0m     \u001b[0moverlap\u001b[0m\u001b[0;34m.\u001b[0m\u001b[0moverlap_preprocessing\u001b[0m\u001b[0;34m(\u001b[0m\u001b[0;34m)\u001b[0m\u001b[0;34m\u001b[0m\u001b[0;34m\u001b[0m\u001b[0m\n\u001b[1;32m      4\u001b[0m     \u001b[0moverlap\u001b[0m\u001b[0;34m.\u001b[0m\u001b[0mclique_percolation_method\u001b[0m\u001b[0;34m(\u001b[0m\u001b[0;34m)\u001b[0m\u001b[0;34m\u001b[0m\u001b[0;34m\u001b[0m\u001b[0m\n\u001b[0;32m----> 5\u001b[0;31m     \u001b[0moverlap\u001b[0m\u001b[0;34m.\u001b[0m\u001b[0mcheck_spread_topics\u001b[0m\u001b[0;34m(\u001b[0m\u001b[0;34m)\u001b[0m\u001b[0;34m\u001b[0m\u001b[0;34m\u001b[0m\u001b[0m\n\u001b[0m\u001b[1;32m      6\u001b[0m     \u001b[0moverlap\u001b[0m\u001b[0;34m.\u001b[0m\u001b[0mcheck_number_topics\u001b[0m\u001b[0;34m(\u001b[0m\u001b[0;34m)\u001b[0m\u001b[0;34m\u001b[0m\u001b[0;34m\u001b[0m\u001b[0m\n\u001b[1;32m      7\u001b[0m     \u001b[0;32mreturn\u001b[0m \u001b[0moverlap\u001b[0m\u001b[0;34m.\u001b[0m\u001b[0mget_topics\u001b[0m\u001b[0;34m(\u001b[0m\u001b[0;34m)\u001b[0m\u001b[0;34m\u001b[0m\u001b[0;34m\u001b[0m\u001b[0m\n",
      "\u001b[0;32m~/Universita/magistrale/web_and_social_information_extraction/webandsocial-progetto/src/overlaps_topics/overlap_topics.py\u001b[0m in \u001b[0;36mcheck_spread_topics\u001b[0;34m(self)\u001b[0m\n\u001b[1;32m    156\u001b[0m \u001b[0;34m\u001b[0m\u001b[0m\n\u001b[1;32m    157\u001b[0m         \u001b[0;32mif\u001b[0m \u001b[0msize_iteration\u001b[0m \u001b[0;34m!=\u001b[0m \u001b[0msize_topics\u001b[0m\u001b[0;34m:\u001b[0m\u001b[0;34m\u001b[0m\u001b[0;34m\u001b[0m\u001b[0m\n\u001b[0;32m--> 158\u001b[0;31m             \u001b[0;32mraise\u001b[0m \u001b[0mexcpt\u001b[0m\u001b[0;34m.\u001b[0m\u001b[0mTopicNotAllKeywordsUsedException\u001b[0m\u001b[0;34m(\u001b[0m\u001b[0;34m\"To perfom all topics not all keywords have been used.\"\u001b[0m\u001b[0;34m)\u001b[0m\u001b[0;34m\u001b[0m\u001b[0;34m\u001b[0m\u001b[0m\n\u001b[0m\u001b[1;32m    159\u001b[0m \u001b[0;34m\u001b[0m\u001b[0m\n\u001b[1;32m    160\u001b[0m \u001b[0;34m\u001b[0m\u001b[0m\n",
      "\u001b[0;31mTopicNotAllKeywordsUsedException\u001b[0m: To perfom all topics not all keywords have been used."
     ]
    }
   ],
   "source": [
    "overlap_merge_view_deg_neg(2006, k = 20)"
   ]
  },
  {
   "cell_type": "markdown",
   "metadata": {},
   "source": [
    "### Year 2007"
   ]
  },
  {
   "cell_type": "code",
   "execution_count": 145,
   "metadata": {},
   "outputs": [
    {
     "name": "stdout",
     "output_type": "stream",
     "text": [
      "OVERLAP MERGING RESULT WITH CLIQUE PERCOLATION METHOD, CASCADE MODEL, SEED TOP 20 NODES AND DEG THRESHOLD CALCULATION STRATEGY.\n",
      "\n",
      "['mathematical optimization', 'velocity (software development)', 'particle swarm optimization', 'evolutionary algorithm']\n",
      "len_topic: 4\n",
      "\n",
      "['information retrieval', 'experimental results']\n",
      "len_topic: 2\n",
      "\n",
      "['human colon', 'endoscopic technique']\n",
      "len_topic: 2\n",
      "\n",
      "['substantially contribute', 'illegal trade']\n",
      "len_topic: 2\n",
      "\n",
      "['bidirectional associative memory neural networks', 'linear matrix inequality', 'neural network simulation', 'lyapunov functional', 'social inequality', 'lyapunov fractal', 'distributed delays', 'artificial neural network', 'chaos']\n",
      "len_topic: 9\n",
      "\n",
      "['entry points', 'web forms']\n",
      "len_topic: 2\n",
      "\n",
      "['multidimensional domains', 'widely used', 'estimating integrals']\n",
      "len_topic: 3\n",
      "\n",
      "['mean square asymptotic stability', 'lasalle invariance principle']\n",
      "len_topic: 2\n",
      "\n",
      "['varying delays', 'e systems']\n",
      "len_topic: 2\n",
      "\n",
      "['genetic algorithm', 'fuzzy rule']\n",
      "len_topic: 2\n",
      "\n"
     ]
    }
   ],
   "source": [
    "overlap_merge_view_deg(2007, k = 20)"
   ]
  },
  {
   "cell_type": "code",
   "execution_count": 146,
   "metadata": {},
   "outputs": [
    {
     "ename": "TopicNotAllKeywordsUsedException",
     "evalue": "To perfom all topics not all keywords have been used.",
     "output_type": "error",
     "traceback": [
      "\u001b[0;31m---------------------------------------------------------------------------\u001b[0m",
      "\u001b[0;31mTopicNotAllKeywordsUsedException\u001b[0m          Traceback (most recent call last)",
      "\u001b[0;32m<ipython-input-146-f266a34e1157>\u001b[0m in \u001b[0;36m<module>\u001b[0;34m\u001b[0m\n\u001b[0;32m----> 1\u001b[0;31m \u001b[0moverlap_merge_view_half\u001b[0m\u001b[0;34m(\u001b[0m\u001b[0;36m2007\u001b[0m\u001b[0;34m,\u001b[0m \u001b[0mk\u001b[0m \u001b[0;34m=\u001b[0m \u001b[0;36m20\u001b[0m\u001b[0;34m)\u001b[0m\u001b[0;34m\u001b[0m\u001b[0;34m\u001b[0m\u001b[0m\n\u001b[0m",
      "\u001b[0;32m<ipython-input-6-644b1e1d3189>\u001b[0m in \u001b[0;36moverlap_merge_view_half\u001b[0;34m(year, k)\u001b[0m\n\u001b[1;32m     11\u001b[0m     \u001b[0mspread_dict\u001b[0m\u001b[0;34m[\u001b[0m\u001b[0mstr\u001b[0m\u001b[0;34m(\u001b[0m\u001b[0myear\u001b[0m\u001b[0;34m)\u001b[0m\u001b[0;34m]\u001b[0m\u001b[0;34m.\u001b[0m\u001b[0mindipendent_cascade_model\u001b[0m\u001b[0;34m(\u001b[0m\u001b[0;34m)\u001b[0m\u001b[0;34m\u001b[0m\u001b[0;34m\u001b[0m\u001b[0m\n\u001b[1;32m     12\u001b[0m     \u001b[0mcascade_half\u001b[0m \u001b[0;34m=\u001b[0m \u001b[0mspread_dict\u001b[0m\u001b[0;34m[\u001b[0m\u001b[0mstr\u001b[0m\u001b[0;34m(\u001b[0m\u001b[0myear\u001b[0m\u001b[0;34m)\u001b[0m\u001b[0;34m]\u001b[0m\u001b[0;34m.\u001b[0m\u001b[0mget_influenced_nodes\u001b[0m\u001b[0;34m(\u001b[0m\u001b[0;34m)\u001b[0m\u001b[0;34m\u001b[0m\u001b[0;34m\u001b[0m\u001b[0m\n\u001b[0;32m---> 13\u001b[0;31m     \u001b[0mtopics_half\u001b[0m \u001b[0;34m=\u001b[0m \u001b[0moverlap_perform\u001b[0m\u001b[0;34m(\u001b[0m\u001b[0myear\u001b[0m\u001b[0;34m,\u001b[0m \u001b[0mcascade_half\u001b[0m\u001b[0;34m,\u001b[0m \u001b[0mk\u001b[0m\u001b[0;34m)\u001b[0m\u001b[0;34m\u001b[0m\u001b[0;34m\u001b[0m\u001b[0m\n\u001b[0m\u001b[1;32m     14\u001b[0m     \u001b[0mto_print\u001b[0m\u001b[0;34m(\u001b[0m\u001b[0mtopics_half\u001b[0m\u001b[0;34m,\u001b[0m \u001b[0;34m\"cascade\"\u001b[0m\u001b[0;34m,\u001b[0m \u001b[0mk\u001b[0m\u001b[0;34m,\u001b[0m \u001b[0;34m\"half\"\u001b[0m\u001b[0;34m)\u001b[0m\u001b[0;34m\u001b[0m\u001b[0;34m\u001b[0m\u001b[0m\n\u001b[1;32m     15\u001b[0m \u001b[0;34m\u001b[0m\u001b[0m\n",
      "\u001b[0;32m<ipython-input-5-60ae7201d3cc>\u001b[0m in \u001b[0;36moverlap_perform\u001b[0;34m(year, all_topics, k)\u001b[0m\n\u001b[1;32m      3\u001b[0m     \u001b[0moverlap\u001b[0m\u001b[0;34m.\u001b[0m\u001b[0moverlap_preprocessing\u001b[0m\u001b[0;34m(\u001b[0m\u001b[0;34m)\u001b[0m\u001b[0;34m\u001b[0m\u001b[0;34m\u001b[0m\u001b[0m\n\u001b[1;32m      4\u001b[0m     \u001b[0moverlap\u001b[0m\u001b[0;34m.\u001b[0m\u001b[0mclique_percolation_method\u001b[0m\u001b[0;34m(\u001b[0m\u001b[0;34m)\u001b[0m\u001b[0;34m\u001b[0m\u001b[0;34m\u001b[0m\u001b[0m\n\u001b[0;32m----> 5\u001b[0;31m     \u001b[0moverlap\u001b[0m\u001b[0;34m.\u001b[0m\u001b[0mcheck_spread_topics\u001b[0m\u001b[0;34m(\u001b[0m\u001b[0;34m)\u001b[0m\u001b[0;34m\u001b[0m\u001b[0;34m\u001b[0m\u001b[0m\n\u001b[0m\u001b[1;32m      6\u001b[0m     \u001b[0moverlap\u001b[0m\u001b[0;34m.\u001b[0m\u001b[0mcheck_number_topics\u001b[0m\u001b[0;34m(\u001b[0m\u001b[0;34m)\u001b[0m\u001b[0;34m\u001b[0m\u001b[0;34m\u001b[0m\u001b[0m\n\u001b[1;32m      7\u001b[0m     \u001b[0;32mreturn\u001b[0m \u001b[0moverlap\u001b[0m\u001b[0;34m.\u001b[0m\u001b[0mget_topics\u001b[0m\u001b[0;34m(\u001b[0m\u001b[0;34m)\u001b[0m\u001b[0;34m\u001b[0m\u001b[0;34m\u001b[0m\u001b[0m\n",
      "\u001b[0;32m~/Universita/magistrale/web_and_social_information_extraction/webandsocial-progetto/src/overlaps_topics/overlap_topics.py\u001b[0m in \u001b[0;36mcheck_spread_topics\u001b[0;34m(self)\u001b[0m\n\u001b[1;32m    156\u001b[0m \u001b[0;34m\u001b[0m\u001b[0m\n\u001b[1;32m    157\u001b[0m         \u001b[0;32mif\u001b[0m \u001b[0msize_iteration\u001b[0m \u001b[0;34m!=\u001b[0m \u001b[0msize_topics\u001b[0m\u001b[0;34m:\u001b[0m\u001b[0;34m\u001b[0m\u001b[0;34m\u001b[0m\u001b[0m\n\u001b[0;32m--> 158\u001b[0;31m             \u001b[0;32mraise\u001b[0m \u001b[0mexcpt\u001b[0m\u001b[0;34m.\u001b[0m\u001b[0mTopicNotAllKeywordsUsedException\u001b[0m\u001b[0;34m(\u001b[0m\u001b[0;34m\"To perfom all topics not all keywords have been used.\"\u001b[0m\u001b[0;34m)\u001b[0m\u001b[0;34m\u001b[0m\u001b[0;34m\u001b[0m\u001b[0m\n\u001b[0m\u001b[1;32m    159\u001b[0m \u001b[0;34m\u001b[0m\u001b[0m\n\u001b[1;32m    160\u001b[0m \u001b[0;34m\u001b[0m\u001b[0m\n",
      "\u001b[0;31mTopicNotAllKeywordsUsedException\u001b[0m: To perfom all topics not all keywords have been used."
     ]
    }
   ],
   "source": [
    "overlap_merge_view_half(2007, k = 20)"
   ]
  },
  {
   "cell_type": "code",
   "execution_count": 147,
   "metadata": {},
   "outputs": [
    {
     "ename": "TopicNotAllKeywordsUsedException",
     "evalue": "To perfom all topics not all keywords have been used.",
     "output_type": "error",
     "traceback": [
      "\u001b[0;31m---------------------------------------------------------------------------\u001b[0m",
      "\u001b[0;31mTopicNotAllKeywordsUsedException\u001b[0m          Traceback (most recent call last)",
      "\u001b[0;32m<ipython-input-147-1265f7d878fb>\u001b[0m in \u001b[0;36m<module>\u001b[0;34m\u001b[0m\n\u001b[0;32m----> 1\u001b[0;31m \u001b[0moverlap_merge_view_deg_neg\u001b[0m\u001b[0;34m(\u001b[0m\u001b[0;36m2007\u001b[0m\u001b[0;34m,\u001b[0m \u001b[0mk\u001b[0m \u001b[0;34m=\u001b[0m \u001b[0;36m20\u001b[0m\u001b[0;34m)\u001b[0m\u001b[0;34m\u001b[0m\u001b[0;34m\u001b[0m\u001b[0m\n\u001b[0m",
      "\u001b[0;32m<ipython-input-6-644b1e1d3189>\u001b[0m in \u001b[0;36moverlap_merge_view_deg_neg\u001b[0;34m(year, k)\u001b[0m\n\u001b[1;32m     19\u001b[0m     \u001b[0mspread_dict\u001b[0m\u001b[0;34m[\u001b[0m\u001b[0mstr\u001b[0m\u001b[0;34m(\u001b[0m\u001b[0myear\u001b[0m\u001b[0;34m)\u001b[0m\u001b[0;34m]\u001b[0m\u001b[0;34m.\u001b[0m\u001b[0mindipendent_cascade_model\u001b[0m\u001b[0;34m(\u001b[0m\u001b[0;34m)\u001b[0m\u001b[0;34m\u001b[0m\u001b[0;34m\u001b[0m\u001b[0m\n\u001b[1;32m     20\u001b[0m     \u001b[0mcascade_deg_neg\u001b[0m \u001b[0;34m=\u001b[0m \u001b[0mspread_dict\u001b[0m\u001b[0;34m[\u001b[0m\u001b[0mstr\u001b[0m\u001b[0;34m(\u001b[0m\u001b[0myear\u001b[0m\u001b[0;34m)\u001b[0m\u001b[0;34m]\u001b[0m\u001b[0;34m.\u001b[0m\u001b[0mget_influenced_nodes\u001b[0m\u001b[0;34m(\u001b[0m\u001b[0;34m)\u001b[0m\u001b[0;34m\u001b[0m\u001b[0;34m\u001b[0m\u001b[0m\n\u001b[0;32m---> 21\u001b[0;31m     \u001b[0mtopics_deg_neg\u001b[0m \u001b[0;34m=\u001b[0m \u001b[0moverlap_perform\u001b[0m\u001b[0;34m(\u001b[0m\u001b[0myear\u001b[0m\u001b[0;34m,\u001b[0m \u001b[0mcascade_deg_neg\u001b[0m\u001b[0;34m,\u001b[0m \u001b[0mk\u001b[0m\u001b[0;34m)\u001b[0m\u001b[0;34m\u001b[0m\u001b[0;34m\u001b[0m\u001b[0m\n\u001b[0m\u001b[1;32m     22\u001b[0m     \u001b[0mto_print\u001b[0m\u001b[0;34m(\u001b[0m\u001b[0mtopics_deg_neg\u001b[0m\u001b[0;34m,\u001b[0m \u001b[0;34m\"cascade\"\u001b[0m\u001b[0;34m,\u001b[0m \u001b[0mk\u001b[0m\u001b[0;34m,\u001b[0m \u001b[0;34m\"deg negative\"\u001b[0m\u001b[0;34m)\u001b[0m\u001b[0;34m\u001b[0m\u001b[0;34m\u001b[0m\u001b[0m\n",
      "\u001b[0;32m<ipython-input-5-60ae7201d3cc>\u001b[0m in \u001b[0;36moverlap_perform\u001b[0;34m(year, all_topics, k)\u001b[0m\n\u001b[1;32m      3\u001b[0m     \u001b[0moverlap\u001b[0m\u001b[0;34m.\u001b[0m\u001b[0moverlap_preprocessing\u001b[0m\u001b[0;34m(\u001b[0m\u001b[0;34m)\u001b[0m\u001b[0;34m\u001b[0m\u001b[0;34m\u001b[0m\u001b[0m\n\u001b[1;32m      4\u001b[0m     \u001b[0moverlap\u001b[0m\u001b[0;34m.\u001b[0m\u001b[0mclique_percolation_method\u001b[0m\u001b[0;34m(\u001b[0m\u001b[0;34m)\u001b[0m\u001b[0;34m\u001b[0m\u001b[0;34m\u001b[0m\u001b[0m\n\u001b[0;32m----> 5\u001b[0;31m     \u001b[0moverlap\u001b[0m\u001b[0;34m.\u001b[0m\u001b[0mcheck_spread_topics\u001b[0m\u001b[0;34m(\u001b[0m\u001b[0;34m)\u001b[0m\u001b[0;34m\u001b[0m\u001b[0;34m\u001b[0m\u001b[0m\n\u001b[0m\u001b[1;32m      6\u001b[0m     \u001b[0moverlap\u001b[0m\u001b[0;34m.\u001b[0m\u001b[0mcheck_number_topics\u001b[0m\u001b[0;34m(\u001b[0m\u001b[0;34m)\u001b[0m\u001b[0;34m\u001b[0m\u001b[0;34m\u001b[0m\u001b[0m\n\u001b[1;32m      7\u001b[0m     \u001b[0;32mreturn\u001b[0m \u001b[0moverlap\u001b[0m\u001b[0;34m.\u001b[0m\u001b[0mget_topics\u001b[0m\u001b[0;34m(\u001b[0m\u001b[0;34m)\u001b[0m\u001b[0;34m\u001b[0m\u001b[0;34m\u001b[0m\u001b[0m\n",
      "\u001b[0;32m~/Universita/magistrale/web_and_social_information_extraction/webandsocial-progetto/src/overlaps_topics/overlap_topics.py\u001b[0m in \u001b[0;36mcheck_spread_topics\u001b[0;34m(self)\u001b[0m\n\u001b[1;32m    156\u001b[0m \u001b[0;34m\u001b[0m\u001b[0m\n\u001b[1;32m    157\u001b[0m         \u001b[0;32mif\u001b[0m \u001b[0msize_iteration\u001b[0m \u001b[0;34m!=\u001b[0m \u001b[0msize_topics\u001b[0m\u001b[0;34m:\u001b[0m\u001b[0;34m\u001b[0m\u001b[0;34m\u001b[0m\u001b[0m\n\u001b[0;32m--> 158\u001b[0;31m             \u001b[0;32mraise\u001b[0m \u001b[0mexcpt\u001b[0m\u001b[0;34m.\u001b[0m\u001b[0mTopicNotAllKeywordsUsedException\u001b[0m\u001b[0;34m(\u001b[0m\u001b[0;34m\"To perfom all topics not all keywords have been used.\"\u001b[0m\u001b[0;34m)\u001b[0m\u001b[0;34m\u001b[0m\u001b[0;34m\u001b[0m\u001b[0m\n\u001b[0m\u001b[1;32m    159\u001b[0m \u001b[0;34m\u001b[0m\u001b[0m\n\u001b[1;32m    160\u001b[0m \u001b[0;34m\u001b[0m\u001b[0m\n",
      "\u001b[0;31mTopicNotAllKeywordsUsedException\u001b[0m: To perfom all topics not all keywords have been used."
     ]
    }
   ],
   "source": [
    "overlap_merge_view_deg_neg(2007, k = 20)"
   ]
  },
  {
   "cell_type": "markdown",
   "metadata": {},
   "source": [
    "### Year 2008"
   ]
  },
  {
   "cell_type": "code",
   "execution_count": 148,
   "metadata": {},
   "outputs": [
    {
     "name": "stdout",
     "output_type": "stream",
     "text": [
      "OVERLAP MERGING RESULT WITH CLIQUE PERCOLATION METHOD, CASCADE MODEL, SEED TOP 20 NODES AND DEG THRESHOLD CALCULATION STRATEGY.\n",
      "\n",
      "['krasovskii functional', 'distributed time']\n",
      "len_topic: 2\n",
      "\n",
      "['exponential', 'numerical analysis', 'lyapunov method', 'linear matrix inequality', 'mathematical optimization', 'social inequality', 'lyapunov fractal', 'varying delays', 'artificial neural network', 'neural networks']\n",
      "len_topic: 10\n",
      "\n",
      "['89.75.kd', 'multistability', '07.05.mh']\n",
      "len_topic: 3\n",
      "\n",
      "['throughput', 'systems architecture', 'algorithm', 'user interface', 'relay', 'ici (programming language)', 'signal-to-interference-plus-noise ratio', 'interference (communication)', 'multi-user']\n",
      "len_topic: 9\n",
      "\n",
      "['access network selection', 'promising access network']\n",
      "len_topic: 2\n",
      "\n"
     ]
    }
   ],
   "source": [
    "overlap_merge_view_deg(2008, k = 20)"
   ]
  },
  {
   "cell_type": "code",
   "execution_count": 149,
   "metadata": {},
   "outputs": [
    {
     "ename": "TopicNotAllKeywordsUsedException",
     "evalue": "To perfom all topics not all keywords have been used.",
     "output_type": "error",
     "traceback": [
      "\u001b[0;31m---------------------------------------------------------------------------\u001b[0m",
      "\u001b[0;31mTopicNotAllKeywordsUsedException\u001b[0m          Traceback (most recent call last)",
      "\u001b[0;32m<ipython-input-149-41f47ece73ee>\u001b[0m in \u001b[0;36m<module>\u001b[0;34m\u001b[0m\n\u001b[0;32m----> 1\u001b[0;31m \u001b[0moverlap_merge_view_half\u001b[0m\u001b[0;34m(\u001b[0m\u001b[0;36m2008\u001b[0m\u001b[0;34m,\u001b[0m \u001b[0mk\u001b[0m \u001b[0;34m=\u001b[0m \u001b[0;36m20\u001b[0m\u001b[0;34m)\u001b[0m\u001b[0;34m\u001b[0m\u001b[0;34m\u001b[0m\u001b[0m\n\u001b[0m",
      "\u001b[0;32m<ipython-input-6-644b1e1d3189>\u001b[0m in \u001b[0;36moverlap_merge_view_half\u001b[0;34m(year, k)\u001b[0m\n\u001b[1;32m     11\u001b[0m     \u001b[0mspread_dict\u001b[0m\u001b[0;34m[\u001b[0m\u001b[0mstr\u001b[0m\u001b[0;34m(\u001b[0m\u001b[0myear\u001b[0m\u001b[0;34m)\u001b[0m\u001b[0;34m]\u001b[0m\u001b[0;34m.\u001b[0m\u001b[0mindipendent_cascade_model\u001b[0m\u001b[0;34m(\u001b[0m\u001b[0;34m)\u001b[0m\u001b[0;34m\u001b[0m\u001b[0;34m\u001b[0m\u001b[0m\n\u001b[1;32m     12\u001b[0m     \u001b[0mcascade_half\u001b[0m \u001b[0;34m=\u001b[0m \u001b[0mspread_dict\u001b[0m\u001b[0;34m[\u001b[0m\u001b[0mstr\u001b[0m\u001b[0;34m(\u001b[0m\u001b[0myear\u001b[0m\u001b[0;34m)\u001b[0m\u001b[0;34m]\u001b[0m\u001b[0;34m.\u001b[0m\u001b[0mget_influenced_nodes\u001b[0m\u001b[0;34m(\u001b[0m\u001b[0;34m)\u001b[0m\u001b[0;34m\u001b[0m\u001b[0;34m\u001b[0m\u001b[0m\n\u001b[0;32m---> 13\u001b[0;31m     \u001b[0mtopics_half\u001b[0m \u001b[0;34m=\u001b[0m \u001b[0moverlap_perform\u001b[0m\u001b[0;34m(\u001b[0m\u001b[0myear\u001b[0m\u001b[0;34m,\u001b[0m \u001b[0mcascade_half\u001b[0m\u001b[0;34m,\u001b[0m \u001b[0mk\u001b[0m\u001b[0;34m)\u001b[0m\u001b[0;34m\u001b[0m\u001b[0;34m\u001b[0m\u001b[0m\n\u001b[0m\u001b[1;32m     14\u001b[0m     \u001b[0mto_print\u001b[0m\u001b[0;34m(\u001b[0m\u001b[0mtopics_half\u001b[0m\u001b[0;34m,\u001b[0m \u001b[0;34m\"cascade\"\u001b[0m\u001b[0;34m,\u001b[0m \u001b[0mk\u001b[0m\u001b[0;34m,\u001b[0m \u001b[0;34m\"half\"\u001b[0m\u001b[0;34m)\u001b[0m\u001b[0;34m\u001b[0m\u001b[0;34m\u001b[0m\u001b[0m\n\u001b[1;32m     15\u001b[0m \u001b[0;34m\u001b[0m\u001b[0m\n",
      "\u001b[0;32m<ipython-input-5-60ae7201d3cc>\u001b[0m in \u001b[0;36moverlap_perform\u001b[0;34m(year, all_topics, k)\u001b[0m\n\u001b[1;32m      3\u001b[0m     \u001b[0moverlap\u001b[0m\u001b[0;34m.\u001b[0m\u001b[0moverlap_preprocessing\u001b[0m\u001b[0;34m(\u001b[0m\u001b[0;34m)\u001b[0m\u001b[0;34m\u001b[0m\u001b[0;34m\u001b[0m\u001b[0m\n\u001b[1;32m      4\u001b[0m     \u001b[0moverlap\u001b[0m\u001b[0;34m.\u001b[0m\u001b[0mclique_percolation_method\u001b[0m\u001b[0;34m(\u001b[0m\u001b[0;34m)\u001b[0m\u001b[0;34m\u001b[0m\u001b[0;34m\u001b[0m\u001b[0m\n\u001b[0;32m----> 5\u001b[0;31m     \u001b[0moverlap\u001b[0m\u001b[0;34m.\u001b[0m\u001b[0mcheck_spread_topics\u001b[0m\u001b[0;34m(\u001b[0m\u001b[0;34m)\u001b[0m\u001b[0;34m\u001b[0m\u001b[0;34m\u001b[0m\u001b[0m\n\u001b[0m\u001b[1;32m      6\u001b[0m     \u001b[0moverlap\u001b[0m\u001b[0;34m.\u001b[0m\u001b[0mcheck_number_topics\u001b[0m\u001b[0;34m(\u001b[0m\u001b[0;34m)\u001b[0m\u001b[0;34m\u001b[0m\u001b[0;34m\u001b[0m\u001b[0m\n\u001b[1;32m      7\u001b[0m     \u001b[0;32mreturn\u001b[0m \u001b[0moverlap\u001b[0m\u001b[0;34m.\u001b[0m\u001b[0mget_topics\u001b[0m\u001b[0;34m(\u001b[0m\u001b[0;34m)\u001b[0m\u001b[0;34m\u001b[0m\u001b[0;34m\u001b[0m\u001b[0m\n",
      "\u001b[0;32m~/Universita/magistrale/web_and_social_information_extraction/webandsocial-progetto/src/overlaps_topics/overlap_topics.py\u001b[0m in \u001b[0;36mcheck_spread_topics\u001b[0;34m(self)\u001b[0m\n\u001b[1;32m    156\u001b[0m \u001b[0;34m\u001b[0m\u001b[0m\n\u001b[1;32m    157\u001b[0m         \u001b[0;32mif\u001b[0m \u001b[0msize_iteration\u001b[0m \u001b[0;34m!=\u001b[0m \u001b[0msize_topics\u001b[0m\u001b[0;34m:\u001b[0m\u001b[0;34m\u001b[0m\u001b[0;34m\u001b[0m\u001b[0m\n\u001b[0;32m--> 158\u001b[0;31m             \u001b[0;32mraise\u001b[0m \u001b[0mexcpt\u001b[0m\u001b[0;34m.\u001b[0m\u001b[0mTopicNotAllKeywordsUsedException\u001b[0m\u001b[0;34m(\u001b[0m\u001b[0;34m\"To perfom all topics not all keywords have been used.\"\u001b[0m\u001b[0;34m)\u001b[0m\u001b[0;34m\u001b[0m\u001b[0;34m\u001b[0m\u001b[0m\n\u001b[0m\u001b[1;32m    159\u001b[0m \u001b[0;34m\u001b[0m\u001b[0m\n\u001b[1;32m    160\u001b[0m \u001b[0;34m\u001b[0m\u001b[0m\n",
      "\u001b[0;31mTopicNotAllKeywordsUsedException\u001b[0m: To perfom all topics not all keywords have been used."
     ]
    }
   ],
   "source": [
    "overlap_merge_view_half(2008, k = 20)"
   ]
  },
  {
   "cell_type": "code",
   "execution_count": 150,
   "metadata": {},
   "outputs": [
    {
     "ename": "TopicNotAllKeywordsUsedException",
     "evalue": "To perfom all topics not all keywords have been used.",
     "output_type": "error",
     "traceback": [
      "\u001b[0;31m---------------------------------------------------------------------------\u001b[0m",
      "\u001b[0;31mTopicNotAllKeywordsUsedException\u001b[0m          Traceback (most recent call last)",
      "\u001b[0;32m<ipython-input-150-f41ede37ce4c>\u001b[0m in \u001b[0;36m<module>\u001b[0;34m\u001b[0m\n\u001b[0;32m----> 1\u001b[0;31m \u001b[0moverlap_merge_view_deg_neg\u001b[0m\u001b[0;34m(\u001b[0m\u001b[0;36m2008\u001b[0m\u001b[0;34m,\u001b[0m \u001b[0mk\u001b[0m \u001b[0;34m=\u001b[0m \u001b[0;36m20\u001b[0m\u001b[0;34m)\u001b[0m\u001b[0;34m\u001b[0m\u001b[0;34m\u001b[0m\u001b[0m\n\u001b[0m",
      "\u001b[0;32m<ipython-input-6-644b1e1d3189>\u001b[0m in \u001b[0;36moverlap_merge_view_deg_neg\u001b[0;34m(year, k)\u001b[0m\n\u001b[1;32m     19\u001b[0m     \u001b[0mspread_dict\u001b[0m\u001b[0;34m[\u001b[0m\u001b[0mstr\u001b[0m\u001b[0;34m(\u001b[0m\u001b[0myear\u001b[0m\u001b[0;34m)\u001b[0m\u001b[0;34m]\u001b[0m\u001b[0;34m.\u001b[0m\u001b[0mindipendent_cascade_model\u001b[0m\u001b[0;34m(\u001b[0m\u001b[0;34m)\u001b[0m\u001b[0;34m\u001b[0m\u001b[0;34m\u001b[0m\u001b[0m\n\u001b[1;32m     20\u001b[0m     \u001b[0mcascade_deg_neg\u001b[0m \u001b[0;34m=\u001b[0m \u001b[0mspread_dict\u001b[0m\u001b[0;34m[\u001b[0m\u001b[0mstr\u001b[0m\u001b[0;34m(\u001b[0m\u001b[0myear\u001b[0m\u001b[0;34m)\u001b[0m\u001b[0;34m]\u001b[0m\u001b[0;34m.\u001b[0m\u001b[0mget_influenced_nodes\u001b[0m\u001b[0;34m(\u001b[0m\u001b[0;34m)\u001b[0m\u001b[0;34m\u001b[0m\u001b[0;34m\u001b[0m\u001b[0m\n\u001b[0;32m---> 21\u001b[0;31m     \u001b[0mtopics_deg_neg\u001b[0m \u001b[0;34m=\u001b[0m \u001b[0moverlap_perform\u001b[0m\u001b[0;34m(\u001b[0m\u001b[0myear\u001b[0m\u001b[0;34m,\u001b[0m \u001b[0mcascade_deg_neg\u001b[0m\u001b[0;34m,\u001b[0m \u001b[0mk\u001b[0m\u001b[0;34m)\u001b[0m\u001b[0;34m\u001b[0m\u001b[0;34m\u001b[0m\u001b[0m\n\u001b[0m\u001b[1;32m     22\u001b[0m     \u001b[0mto_print\u001b[0m\u001b[0;34m(\u001b[0m\u001b[0mtopics_deg_neg\u001b[0m\u001b[0;34m,\u001b[0m \u001b[0;34m\"cascade\"\u001b[0m\u001b[0;34m,\u001b[0m \u001b[0mk\u001b[0m\u001b[0;34m,\u001b[0m \u001b[0;34m\"deg negative\"\u001b[0m\u001b[0;34m)\u001b[0m\u001b[0;34m\u001b[0m\u001b[0;34m\u001b[0m\u001b[0m\n",
      "\u001b[0;32m<ipython-input-5-60ae7201d3cc>\u001b[0m in \u001b[0;36moverlap_perform\u001b[0;34m(year, all_topics, k)\u001b[0m\n\u001b[1;32m      3\u001b[0m     \u001b[0moverlap\u001b[0m\u001b[0;34m.\u001b[0m\u001b[0moverlap_preprocessing\u001b[0m\u001b[0;34m(\u001b[0m\u001b[0;34m)\u001b[0m\u001b[0;34m\u001b[0m\u001b[0;34m\u001b[0m\u001b[0m\n\u001b[1;32m      4\u001b[0m     \u001b[0moverlap\u001b[0m\u001b[0;34m.\u001b[0m\u001b[0mclique_percolation_method\u001b[0m\u001b[0;34m(\u001b[0m\u001b[0;34m)\u001b[0m\u001b[0;34m\u001b[0m\u001b[0;34m\u001b[0m\u001b[0m\n\u001b[0;32m----> 5\u001b[0;31m     \u001b[0moverlap\u001b[0m\u001b[0;34m.\u001b[0m\u001b[0mcheck_spread_topics\u001b[0m\u001b[0;34m(\u001b[0m\u001b[0;34m)\u001b[0m\u001b[0;34m\u001b[0m\u001b[0;34m\u001b[0m\u001b[0m\n\u001b[0m\u001b[1;32m      6\u001b[0m     \u001b[0moverlap\u001b[0m\u001b[0;34m.\u001b[0m\u001b[0mcheck_number_topics\u001b[0m\u001b[0;34m(\u001b[0m\u001b[0;34m)\u001b[0m\u001b[0;34m\u001b[0m\u001b[0;34m\u001b[0m\u001b[0m\n\u001b[1;32m      7\u001b[0m     \u001b[0;32mreturn\u001b[0m \u001b[0moverlap\u001b[0m\u001b[0;34m.\u001b[0m\u001b[0mget_topics\u001b[0m\u001b[0;34m(\u001b[0m\u001b[0;34m)\u001b[0m\u001b[0;34m\u001b[0m\u001b[0;34m\u001b[0m\u001b[0m\n",
      "\u001b[0;32m~/Universita/magistrale/web_and_social_information_extraction/webandsocial-progetto/src/overlaps_topics/overlap_topics.py\u001b[0m in \u001b[0;36mcheck_spread_topics\u001b[0;34m(self)\u001b[0m\n\u001b[1;32m    156\u001b[0m \u001b[0;34m\u001b[0m\u001b[0m\n\u001b[1;32m    157\u001b[0m         \u001b[0;32mif\u001b[0m \u001b[0msize_iteration\u001b[0m \u001b[0;34m!=\u001b[0m \u001b[0msize_topics\u001b[0m\u001b[0;34m:\u001b[0m\u001b[0;34m\u001b[0m\u001b[0;34m\u001b[0m\u001b[0m\n\u001b[0;32m--> 158\u001b[0;31m             \u001b[0;32mraise\u001b[0m \u001b[0mexcpt\u001b[0m\u001b[0;34m.\u001b[0m\u001b[0mTopicNotAllKeywordsUsedException\u001b[0m\u001b[0;34m(\u001b[0m\u001b[0;34m\"To perfom all topics not all keywords have been used.\"\u001b[0m\u001b[0;34m)\u001b[0m\u001b[0;34m\u001b[0m\u001b[0;34m\u001b[0m\u001b[0m\n\u001b[0m\u001b[1;32m    159\u001b[0m \u001b[0;34m\u001b[0m\u001b[0m\n\u001b[1;32m    160\u001b[0m \u001b[0;34m\u001b[0m\u001b[0m\n",
      "\u001b[0;31mTopicNotAllKeywordsUsedException\u001b[0m: To perfom all topics not all keywords have been used."
     ]
    }
   ],
   "source": [
    "overlap_merge_view_deg_neg(2008, k = 20)"
   ]
  },
  {
   "cell_type": "markdown",
   "metadata": {},
   "source": [
    "### Year 2009"
   ]
  },
  {
   "cell_type": "code",
   "execution_count": 151,
   "metadata": {},
   "outputs": [
    {
     "name": "stdout",
     "output_type": "stream",
     "text": [
      "OVERLAP MERGING RESULT WITH CLIQUE PERCOLATION METHOD, CASCADE MODEL, SEED TOP 20 NODES AND DEG THRESHOLD CALCULATION STRATEGY.\n",
      "\n",
      "['05.45.gg', '05.45.xt', '05.45.vx']\n",
      "len_topic: 3\n",
      "\n",
      "['cognitive radio', 'frequency band', 'interference (communication)']\n",
      "len_topic: 3\n",
      "\n",
      "['social inequality', 'lyapunov method', 'linear matrix inequality', 'neural networks']\n",
      "len_topic: 4\n",
      "\n",
      "['adaptive neuro fuzzy inference system', 'recursion', 'hybrid learning algorithm', 'stability analysis', 'recursive least squares filter', 'differential evolution', 'machine learning', 'lyapunov fractal', 'gradient descent', 'test suite', 'system identifier', 'evolutionary algorithm', 'anfis', 'identification', 'rate of convergence', 'optimization problem', 'mathematical optimization', 'particle swarm optimization', 'simulation']\n",
      "len_topic: 19\n",
      "\n"
     ]
    }
   ],
   "source": [
    "overlap_merge_view_deg(2009, k = 20)"
   ]
  },
  {
   "cell_type": "code",
   "execution_count": 152,
   "metadata": {},
   "outputs": [
    {
     "name": "stdout",
     "output_type": "stream",
     "text": [
      "OVERLAP MERGING RESULT WITH CLIQUE PERCOLATION METHOD, CASCADE MODEL, SEED TOP 20 NODES AND HALF THRESHOLD CALCULATION STRATEGY.\n",
      "\n",
      "['05.45.gg', '05.45.vx']\n",
      "len_topic: 2\n",
      "\n",
      "['adaptive neuro fuzzy inference system', 'data mining\\xa0', 'recursion', 'hybrid learning algorithm', 'stability analysis', 'recursive least squares filter', 'differential evolution', 'machine learning', 'lyapunov fractal', 'gradient descent', 'test suite', '3d modeling', 'system identifier', 'anfis', 'evolutionary algorithm', 'disjunctive normal form', 'fuzzy rule', 'identification', 'global optimization', 'algorithm', 'aliasing', 'rate of convergence', 'optimization problem', 'mathematical optimization', 'reinforcement learning', 'particle swarm optimization', 'simulation']\n",
      "len_topic: 27\n",
      "\n",
      "['cognitive radio', 'frequency allocation', 'frequency band']\n",
      "len_topic: 3\n",
      "\n",
      "['social inequality', 'neural networks', 'linear matrix inequality']\n",
      "len_topic: 3\n",
      "\n"
     ]
    }
   ],
   "source": [
    "overlap_merge_view_half(2009, k = 20)"
   ]
  },
  {
   "cell_type": "code",
   "execution_count": 153,
   "metadata": {},
   "outputs": [
    {
     "name": "stdout",
     "output_type": "stream",
     "text": [
      "OVERLAP MERGING RESULT WITH CLIQUE PERCOLATION METHOD, CASCADE MODEL, SEED TOP 20 NODES AND DEG NEGATIVE THRESHOLD CALCULATION STRATEGY.\n",
      "\n",
      "['05.45.gg', '05.45.vx', '05.45.xt', 'complex networks']\n",
      "len_topic: 4\n",
      "\n",
      "['adaptive neuro fuzzy inference system', 'data mining\\xa0', 'recursion', 'hybrid learning algorithm', 'stability analysis', 'recursive least squares filter', 'differential evolution', 'machine learning', 'lyapunov fractal', 'gradient descent', 'test suite', '3d modeling', 'system identifier', 'anfis', 'evolutionary algorithm', 'disjunctive normal form', 'fuzzy rule', 'identification', 'global optimization', 'algorithm', 'aliasing', 'rate of convergence', 'optimization problem', 'mathematical optimization', 'reinforcement learning', 'particle swarm optimization', 'simulation']\n",
      "len_topic: 27\n",
      "\n",
      "['cognitive radio', 'frequency allocation', 'frequency band']\n",
      "len_topic: 3\n",
      "\n",
      "['social inequality', 'lyapunov method', 'linear matrix inequality', 'neural networks']\n",
      "len_topic: 4\n",
      "\n"
     ]
    }
   ],
   "source": [
    "overlap_merge_view_deg_neg(2009, k = 20)"
   ]
  },
  {
   "cell_type": "markdown",
   "metadata": {},
   "source": [
    "### Year 2010"
   ]
  },
  {
   "cell_type": "code",
   "execution_count": 154,
   "metadata": {},
   "outputs": [
    {
     "name": "stdout",
     "output_type": "stream",
     "text": [
      "OVERLAP MERGING RESULT WITH CLIQUE PERCOLATION METHOD, CASCADE MODEL, SEED TOP 20 NODES AND DEG THRESHOLD CALCULATION STRATEGY.\n",
      "\n",
      "['context information', 'web search']\n",
      "len_topic: 2\n",
      "\n",
      "['multistability', 'neural networks', 'linear matrix inequality', 'lyapunov functional', 'social inequality', 'time complexity', 'lyapunov fractal', 'systems biology', 'artificial neural network', 'genetic regulatory networks', 'gene regulatory network']\n",
      "len_topic: 11\n",
      "\n",
      "['social media', 'important tool']\n",
      "len_topic: 2\n",
      "\n",
      "[\"whole earth 'lectronic link\", 'real-time clock', 'action selection', 'multi-agent system', 'overhead (computing)', 'interference (communication)', 'algorithm', 'q-learning', 'cognition', 'stationary process', 'game theory', 'coexist (image)', 'rate of convergence', 'centralized computing', 'interaction', 'reinforcement learning', 'simulation', 'cognitive radio', 'channel capacity', 'programming paradigm']\n",
      "len_topic: 20\n",
      "\n",
      "['continuous optimization\\xa0', 'differential evolution\\xa0']\n",
      "len_topic: 2\n",
      "\n",
      "['input multiple', 'output communication']\n",
      "len_topic: 2\n",
      "\n"
     ]
    }
   ],
   "source": [
    "overlap_merge_view_deg(2010, k = 20)"
   ]
  },
  {
   "cell_type": "code",
   "execution_count": 155,
   "metadata": {},
   "outputs": [
    {
     "ename": "TopicNotAllKeywordsUsedException",
     "evalue": "To perfom all topics not all keywords have been used.",
     "output_type": "error",
     "traceback": [
      "\u001b[0;31m---------------------------------------------------------------------------\u001b[0m",
      "\u001b[0;31mTopicNotAllKeywordsUsedException\u001b[0m          Traceback (most recent call last)",
      "\u001b[0;32m<ipython-input-155-7f3f76fafbbd>\u001b[0m in \u001b[0;36m<module>\u001b[0;34m\u001b[0m\n\u001b[0;32m----> 1\u001b[0;31m \u001b[0moverlap_merge_view_half\u001b[0m\u001b[0;34m(\u001b[0m\u001b[0;36m2010\u001b[0m\u001b[0;34m,\u001b[0m \u001b[0mk\u001b[0m \u001b[0;34m=\u001b[0m \u001b[0;36m20\u001b[0m\u001b[0;34m)\u001b[0m\u001b[0;34m\u001b[0m\u001b[0;34m\u001b[0m\u001b[0m\n\u001b[0m",
      "\u001b[0;32m<ipython-input-6-644b1e1d3189>\u001b[0m in \u001b[0;36moverlap_merge_view_half\u001b[0;34m(year, k)\u001b[0m\n\u001b[1;32m     11\u001b[0m     \u001b[0mspread_dict\u001b[0m\u001b[0;34m[\u001b[0m\u001b[0mstr\u001b[0m\u001b[0;34m(\u001b[0m\u001b[0myear\u001b[0m\u001b[0;34m)\u001b[0m\u001b[0;34m]\u001b[0m\u001b[0;34m.\u001b[0m\u001b[0mindipendent_cascade_model\u001b[0m\u001b[0;34m(\u001b[0m\u001b[0;34m)\u001b[0m\u001b[0;34m\u001b[0m\u001b[0;34m\u001b[0m\u001b[0m\n\u001b[1;32m     12\u001b[0m     \u001b[0mcascade_half\u001b[0m \u001b[0;34m=\u001b[0m \u001b[0mspread_dict\u001b[0m\u001b[0;34m[\u001b[0m\u001b[0mstr\u001b[0m\u001b[0;34m(\u001b[0m\u001b[0myear\u001b[0m\u001b[0;34m)\u001b[0m\u001b[0;34m]\u001b[0m\u001b[0;34m.\u001b[0m\u001b[0mget_influenced_nodes\u001b[0m\u001b[0;34m(\u001b[0m\u001b[0;34m)\u001b[0m\u001b[0;34m\u001b[0m\u001b[0;34m\u001b[0m\u001b[0m\n\u001b[0;32m---> 13\u001b[0;31m     \u001b[0mtopics_half\u001b[0m \u001b[0;34m=\u001b[0m \u001b[0moverlap_perform\u001b[0m\u001b[0;34m(\u001b[0m\u001b[0myear\u001b[0m\u001b[0;34m,\u001b[0m \u001b[0mcascade_half\u001b[0m\u001b[0;34m,\u001b[0m \u001b[0mk\u001b[0m\u001b[0;34m)\u001b[0m\u001b[0;34m\u001b[0m\u001b[0;34m\u001b[0m\u001b[0m\n\u001b[0m\u001b[1;32m     14\u001b[0m     \u001b[0mto_print\u001b[0m\u001b[0;34m(\u001b[0m\u001b[0mtopics_half\u001b[0m\u001b[0;34m,\u001b[0m \u001b[0;34m\"cascade\"\u001b[0m\u001b[0;34m,\u001b[0m \u001b[0mk\u001b[0m\u001b[0;34m,\u001b[0m \u001b[0;34m\"half\"\u001b[0m\u001b[0;34m)\u001b[0m\u001b[0;34m\u001b[0m\u001b[0;34m\u001b[0m\u001b[0m\n\u001b[1;32m     15\u001b[0m \u001b[0;34m\u001b[0m\u001b[0m\n",
      "\u001b[0;32m<ipython-input-5-60ae7201d3cc>\u001b[0m in \u001b[0;36moverlap_perform\u001b[0;34m(year, all_topics, k)\u001b[0m\n\u001b[1;32m      3\u001b[0m     \u001b[0moverlap\u001b[0m\u001b[0;34m.\u001b[0m\u001b[0moverlap_preprocessing\u001b[0m\u001b[0;34m(\u001b[0m\u001b[0;34m)\u001b[0m\u001b[0;34m\u001b[0m\u001b[0;34m\u001b[0m\u001b[0m\n\u001b[1;32m      4\u001b[0m     \u001b[0moverlap\u001b[0m\u001b[0;34m.\u001b[0m\u001b[0mclique_percolation_method\u001b[0m\u001b[0;34m(\u001b[0m\u001b[0;34m)\u001b[0m\u001b[0;34m\u001b[0m\u001b[0;34m\u001b[0m\u001b[0m\n\u001b[0;32m----> 5\u001b[0;31m     \u001b[0moverlap\u001b[0m\u001b[0;34m.\u001b[0m\u001b[0mcheck_spread_topics\u001b[0m\u001b[0;34m(\u001b[0m\u001b[0;34m)\u001b[0m\u001b[0;34m\u001b[0m\u001b[0;34m\u001b[0m\u001b[0m\n\u001b[0m\u001b[1;32m      6\u001b[0m     \u001b[0moverlap\u001b[0m\u001b[0;34m.\u001b[0m\u001b[0mcheck_number_topics\u001b[0m\u001b[0;34m(\u001b[0m\u001b[0;34m)\u001b[0m\u001b[0;34m\u001b[0m\u001b[0;34m\u001b[0m\u001b[0m\n\u001b[1;32m      7\u001b[0m     \u001b[0;32mreturn\u001b[0m \u001b[0moverlap\u001b[0m\u001b[0;34m.\u001b[0m\u001b[0mget_topics\u001b[0m\u001b[0;34m(\u001b[0m\u001b[0;34m)\u001b[0m\u001b[0;34m\u001b[0m\u001b[0;34m\u001b[0m\u001b[0m\n",
      "\u001b[0;32m~/Universita/magistrale/web_and_social_information_extraction/webandsocial-progetto/src/overlaps_topics/overlap_topics.py\u001b[0m in \u001b[0;36mcheck_spread_topics\u001b[0;34m(self)\u001b[0m\n\u001b[1;32m    156\u001b[0m \u001b[0;34m\u001b[0m\u001b[0m\n\u001b[1;32m    157\u001b[0m         \u001b[0;32mif\u001b[0m \u001b[0msize_iteration\u001b[0m \u001b[0;34m!=\u001b[0m \u001b[0msize_topics\u001b[0m\u001b[0;34m:\u001b[0m\u001b[0;34m\u001b[0m\u001b[0;34m\u001b[0m\u001b[0m\n\u001b[0;32m--> 158\u001b[0;31m             \u001b[0;32mraise\u001b[0m \u001b[0mexcpt\u001b[0m\u001b[0;34m.\u001b[0m\u001b[0mTopicNotAllKeywordsUsedException\u001b[0m\u001b[0;34m(\u001b[0m\u001b[0;34m\"To perfom all topics not all keywords have been used.\"\u001b[0m\u001b[0;34m)\u001b[0m\u001b[0;34m\u001b[0m\u001b[0;34m\u001b[0m\u001b[0m\n\u001b[0m\u001b[1;32m    159\u001b[0m \u001b[0;34m\u001b[0m\u001b[0m\n\u001b[1;32m    160\u001b[0m \u001b[0;34m\u001b[0m\u001b[0m\n",
      "\u001b[0;31mTopicNotAllKeywordsUsedException\u001b[0m: To perfom all topics not all keywords have been used."
     ]
    }
   ],
   "source": [
    "overlap_merge_view_half(2010, k = 20)"
   ]
  },
  {
   "cell_type": "code",
   "execution_count": 156,
   "metadata": {},
   "outputs": [
    {
     "ename": "TopicNotAllKeywordsUsedException",
     "evalue": "To perfom all topics not all keywords have been used.",
     "output_type": "error",
     "traceback": [
      "\u001b[0;31m---------------------------------------------------------------------------\u001b[0m",
      "\u001b[0;31mTopicNotAllKeywordsUsedException\u001b[0m          Traceback (most recent call last)",
      "\u001b[0;32m<ipython-input-156-0e28af47ada4>\u001b[0m in \u001b[0;36m<module>\u001b[0;34m\u001b[0m\n\u001b[0;32m----> 1\u001b[0;31m \u001b[0moverlap_merge_view_deg_neg\u001b[0m\u001b[0;34m(\u001b[0m\u001b[0;36m2010\u001b[0m\u001b[0;34m,\u001b[0m \u001b[0mk\u001b[0m \u001b[0;34m=\u001b[0m \u001b[0;36m20\u001b[0m\u001b[0;34m)\u001b[0m\u001b[0;34m\u001b[0m\u001b[0;34m\u001b[0m\u001b[0m\n\u001b[0m",
      "\u001b[0;32m<ipython-input-6-644b1e1d3189>\u001b[0m in \u001b[0;36moverlap_merge_view_deg_neg\u001b[0;34m(year, k)\u001b[0m\n\u001b[1;32m     19\u001b[0m     \u001b[0mspread_dict\u001b[0m\u001b[0;34m[\u001b[0m\u001b[0mstr\u001b[0m\u001b[0;34m(\u001b[0m\u001b[0myear\u001b[0m\u001b[0;34m)\u001b[0m\u001b[0;34m]\u001b[0m\u001b[0;34m.\u001b[0m\u001b[0mindipendent_cascade_model\u001b[0m\u001b[0;34m(\u001b[0m\u001b[0;34m)\u001b[0m\u001b[0;34m\u001b[0m\u001b[0;34m\u001b[0m\u001b[0m\n\u001b[1;32m     20\u001b[0m     \u001b[0mcascade_deg_neg\u001b[0m \u001b[0;34m=\u001b[0m \u001b[0mspread_dict\u001b[0m\u001b[0;34m[\u001b[0m\u001b[0mstr\u001b[0m\u001b[0;34m(\u001b[0m\u001b[0myear\u001b[0m\u001b[0;34m)\u001b[0m\u001b[0;34m]\u001b[0m\u001b[0;34m.\u001b[0m\u001b[0mget_influenced_nodes\u001b[0m\u001b[0;34m(\u001b[0m\u001b[0;34m)\u001b[0m\u001b[0;34m\u001b[0m\u001b[0;34m\u001b[0m\u001b[0m\n\u001b[0;32m---> 21\u001b[0;31m     \u001b[0mtopics_deg_neg\u001b[0m \u001b[0;34m=\u001b[0m \u001b[0moverlap_perform\u001b[0m\u001b[0;34m(\u001b[0m\u001b[0myear\u001b[0m\u001b[0;34m,\u001b[0m \u001b[0mcascade_deg_neg\u001b[0m\u001b[0;34m,\u001b[0m \u001b[0mk\u001b[0m\u001b[0;34m)\u001b[0m\u001b[0;34m\u001b[0m\u001b[0;34m\u001b[0m\u001b[0m\n\u001b[0m\u001b[1;32m     22\u001b[0m     \u001b[0mto_print\u001b[0m\u001b[0;34m(\u001b[0m\u001b[0mtopics_deg_neg\u001b[0m\u001b[0;34m,\u001b[0m \u001b[0;34m\"cascade\"\u001b[0m\u001b[0;34m,\u001b[0m \u001b[0mk\u001b[0m\u001b[0;34m,\u001b[0m \u001b[0;34m\"deg negative\"\u001b[0m\u001b[0;34m)\u001b[0m\u001b[0;34m\u001b[0m\u001b[0;34m\u001b[0m\u001b[0m\n",
      "\u001b[0;32m<ipython-input-5-60ae7201d3cc>\u001b[0m in \u001b[0;36moverlap_perform\u001b[0;34m(year, all_topics, k)\u001b[0m\n\u001b[1;32m      3\u001b[0m     \u001b[0moverlap\u001b[0m\u001b[0;34m.\u001b[0m\u001b[0moverlap_preprocessing\u001b[0m\u001b[0;34m(\u001b[0m\u001b[0;34m)\u001b[0m\u001b[0;34m\u001b[0m\u001b[0;34m\u001b[0m\u001b[0m\n\u001b[1;32m      4\u001b[0m     \u001b[0moverlap\u001b[0m\u001b[0;34m.\u001b[0m\u001b[0mclique_percolation_method\u001b[0m\u001b[0;34m(\u001b[0m\u001b[0;34m)\u001b[0m\u001b[0;34m\u001b[0m\u001b[0;34m\u001b[0m\u001b[0m\n\u001b[0;32m----> 5\u001b[0;31m     \u001b[0moverlap\u001b[0m\u001b[0;34m.\u001b[0m\u001b[0mcheck_spread_topics\u001b[0m\u001b[0;34m(\u001b[0m\u001b[0;34m)\u001b[0m\u001b[0;34m\u001b[0m\u001b[0;34m\u001b[0m\u001b[0m\n\u001b[0m\u001b[1;32m      6\u001b[0m     \u001b[0moverlap\u001b[0m\u001b[0;34m.\u001b[0m\u001b[0mcheck_number_topics\u001b[0m\u001b[0;34m(\u001b[0m\u001b[0;34m)\u001b[0m\u001b[0;34m\u001b[0m\u001b[0;34m\u001b[0m\u001b[0m\n\u001b[1;32m      7\u001b[0m     \u001b[0;32mreturn\u001b[0m \u001b[0moverlap\u001b[0m\u001b[0;34m.\u001b[0m\u001b[0mget_topics\u001b[0m\u001b[0;34m(\u001b[0m\u001b[0;34m)\u001b[0m\u001b[0;34m\u001b[0m\u001b[0;34m\u001b[0m\u001b[0m\n",
      "\u001b[0;32m~/Universita/magistrale/web_and_social_information_extraction/webandsocial-progetto/src/overlaps_topics/overlap_topics.py\u001b[0m in \u001b[0;36mcheck_spread_topics\u001b[0;34m(self)\u001b[0m\n\u001b[1;32m    156\u001b[0m \u001b[0;34m\u001b[0m\u001b[0m\n\u001b[1;32m    157\u001b[0m         \u001b[0;32mif\u001b[0m \u001b[0msize_iteration\u001b[0m \u001b[0;34m!=\u001b[0m \u001b[0msize_topics\u001b[0m\u001b[0;34m:\u001b[0m\u001b[0;34m\u001b[0m\u001b[0;34m\u001b[0m\u001b[0m\n\u001b[0;32m--> 158\u001b[0;31m             \u001b[0;32mraise\u001b[0m \u001b[0mexcpt\u001b[0m\u001b[0;34m.\u001b[0m\u001b[0mTopicNotAllKeywordsUsedException\u001b[0m\u001b[0;34m(\u001b[0m\u001b[0;34m\"To perfom all topics not all keywords have been used.\"\u001b[0m\u001b[0;34m)\u001b[0m\u001b[0;34m\u001b[0m\u001b[0;34m\u001b[0m\u001b[0m\n\u001b[0m\u001b[1;32m    159\u001b[0m \u001b[0;34m\u001b[0m\u001b[0m\n\u001b[1;32m    160\u001b[0m \u001b[0;34m\u001b[0m\u001b[0m\n",
      "\u001b[0;31mTopicNotAllKeywordsUsedException\u001b[0m: To perfom all topics not all keywords have been used."
     ]
    }
   ],
   "source": [
    "overlap_merge_view_deg_neg(2010, k = 20)"
   ]
  },
  {
   "cell_type": "markdown",
   "metadata": {},
   "source": [
    "### Year 2011"
   ]
  },
  {
   "cell_type": "code",
   "execution_count": 157,
   "metadata": {},
   "outputs": [
    {
     "name": "stdout",
     "output_type": "stream",
     "text": [
      "OVERLAP MERGING RESULT WITH CLIQUE PERCOLATION METHOD, CASCADE MODEL, SEED TOP 20 NODES AND DEG THRESHOLD CALCULATION STRATEGY.\n",
      "\n",
      "['tree rearrangement', 'algorithm', 'telecommunications link', 'interference (communication)', 'plasmon', 'software deployment', 'mathematical optimization', 'differential evolution', 'signal-to-interference-plus-noise ratio', 'multitier architecture', 'particle swarm optimization', 'simulation', 'cognitive radio', 'fairness measure', 'resonance']\n",
      "len_topic: 15\n",
      "\n",
      "['experiment', 'linear matrix inequality', 'convex function', 'ising model', 'nonlinear system', 'broadcast delay', 'social inequality', 'lyapunov fractal', 'artificial neural network', 'spectral leakage', 'approximation algorithm']\n",
      "len_topic: 11\n",
      "\n"
     ]
    }
   ],
   "source": [
    "overlap_merge_view_deg(2011, k = 20)"
   ]
  },
  {
   "cell_type": "code",
   "execution_count": 158,
   "metadata": {},
   "outputs": [
    {
     "name": "stdout",
     "output_type": "stream",
     "text": [
      "OVERLAP MERGING RESULT WITH CLIQUE PERCOLATION METHOD, CASCADE MODEL, SEED TOP 20 NODES AND HALF THRESHOLD CALCULATION STRATEGY.\n",
      "\n",
      "['experiment', 'linear matrix inequality', 'neural network simulation', 'convex function', 'nonlinear system', 'social inequality', 'differential evolution', 'lyapunov fractal', 'multitier architecture', 'interference (communication)', 'software deployment', 'approximation algorithm', 'evolutionary algorithm', 'low-power broadcasting', 'tree rearrangement', 'plasmon', 'particle swarm optimization', 'cognitive radio', 'channel capacity', 's ability', 'numerical analysis', 'ising model', 'machine learning', 'distributed delays', 'signal-to-interference-plus-noise ratio', 'artificial neural network', 'hopfield network', 'exponential', 'algorithm', 'telecommunications link', 'impulses', 'broadcast delay', 'stochastic neural network', 'mathematical optimization', 'time complexity', 'quality of service', 'interaction', 'fairness measure', 'simulation', 'hopfield-type neural networks', 'resonance']\n",
      "len_topic: 41\n",
      "\n"
     ]
    }
   ],
   "source": [
    "overlap_merge_view_half(2011, k = 20)"
   ]
  },
  {
   "cell_type": "code",
   "execution_count": 159,
   "metadata": {},
   "outputs": [
    {
     "name": "stdout",
     "output_type": "stream",
     "text": [
      "OVERLAP MERGING RESULT WITH CLIQUE PERCOLATION METHOD, CASCADE MODEL, SEED TOP 20 NODES AND DEG NEGATIVE THRESHOLD CALCULATION STRATEGY.\n",
      "\n",
      "['experiment', 'linear matrix inequality', 'neural network simulation', 'convex function', 'nonlinear system', 'social inequality', 'differential evolution', 'lyapunov fractal', 'multitier architecture', 'interference (communication)', 'software deployment', 'approximation algorithm', 'evolutionary algorithm', 'low-power broadcasting', 'tree rearrangement', 'plasmon', 'centralized computing', 'reinforcement learning', 'particle swarm optimization', 'cognitive radio', 'channel capacity', 'numerical analysis', 'ising model', 'population diversity', 'machine learning', 'distributed delays', 'signal-to-interference-plus-noise ratio', 'artificial neural network', 'checking (action)', 'synchronization (computer science)', 'exponential', 'autonomous robot', 'hopfield network', 'algorithm', 'telecommunications link', 'impulses', 'broadcast delay', 'stochastic neural network', 'mathematical optimization', 'time complexity', 'quality of service', 'interaction', 'fairness measure', 'simulation', 'spectral leakage', 'hopfield-type neural networks', 'resonance']\n",
      "len_topic: 47\n",
      "\n"
     ]
    }
   ],
   "source": [
    "overlap_merge_view_deg_neg(2011, k = 20)"
   ]
  },
  {
   "cell_type": "markdown",
   "metadata": {},
   "source": [
    "### Year 2012"
   ]
  },
  {
   "cell_type": "code",
   "execution_count": 160,
   "metadata": {},
   "outputs": [
    {
     "name": "stdout",
     "output_type": "stream",
     "text": [
      "OVERLAP MERGING RESULT WITH CLIQUE PERCOLATION METHOD, CASCADE MODEL, SEED TOP 20 NODES AND DEG THRESHOLD CALCULATION STRATEGY.\n",
      "\n",
      "['experiment', 'sparse matrix', 'premature convergence', 'frequency band', 'genetic operator', 'simulation', 'signal-to-interference-plus-noise ratio', 'fuzzy logic', 'interference (communication)', 'software deployment', 'algorithm', 'q-learning', 'telecommunications link', 'computation', 'coexist (image)', 'combinatorial optimization', 'benchmark (computing)', 'mathematical optimization', 'genetic algorithm', 'transmitter', 'fuzzy control system', 'supervised learning', 'cognitive radio', 'knapsack problem', 'inference engine']\n",
      "len_topic: 25\n",
      "\n",
      "['recurrent neural network', 'artificial neural network', 'neural network simulation', 'synchronization (computer science)']\n",
      "len_topic: 4\n",
      "\n"
     ]
    }
   ],
   "source": [
    "overlap_merge_view_deg(2012, k = 20)"
   ]
  },
  {
   "cell_type": "code",
   "execution_count": 161,
   "metadata": {},
   "outputs": [
    {
     "name": "stdout",
     "output_type": "stream",
     "text": [
      "OVERLAP MERGING RESULT WITH CLIQUE PERCOLATION METHOD, CASCADE MODEL, SEED TOP 20 NODES AND HALF THRESHOLD CALCULATION STRATEGY.\n",
      "\n",
      "['experiment', 'class', 'radio frequency', 'sparse matrix', 'premature convergence', 'frequency band', 'genetic operator', 'receiver operating characteristic', 'cross-validation (statistics)', 'data mining', 'machine learning', 'signal-to-interference-plus-noise ratio', 'fuzzy logic', 'missing data', 'interference (communication)', 'software deployment', 'evolutionary algorithm', 'autonomous robot', 'cyclostationary process', 'algorithm', 'q-learning', 'telecommunications link', 'computation', 'coexist (image)', 'trees (plant)', 'combinatorial optimization', 'mathematical optimization', 'preprocessor', 'supervised learning', 'benchmark (computing)', 'genetic algorithm', 'transmitter', 'reinforcement learning', 'fuzzy control system', 'simulation', 'cognitive radio', 'expectation–maximization algorithm', 'knapsack problem', 'inference engine']\n",
      "len_topic: 39\n",
      "\n",
      "['recurrent neural network', 'social inequality', 'sampling - surgical action', 'artificial neural network', 'neural network simulation', 'sampling (signal processing)', 'synchronization (computer science)']\n",
      "len_topic: 7\n",
      "\n"
     ]
    }
   ],
   "source": [
    "overlap_merge_view_half(2012, k = 20)"
   ]
  },
  {
   "cell_type": "code",
   "execution_count": 162,
   "metadata": {},
   "outputs": [
    {
     "name": "stdout",
     "output_type": "stream",
     "text": [
      "OVERLAP MERGING RESULT WITH CLIQUE PERCOLATION METHOD, CASCADE MODEL, SEED TOP 20 NODES AND DEG NEGATIVE THRESHOLD CALCULATION STRATEGY.\n",
      "\n",
      "['numerical analysis', 'sampling - surgical action', 'linear matrix inequality', 'neural network simulation', 'dropout (neural networks)', 'time complexity', 'social inequality', 'recurrent neural network', 'artificial neural network', 'test data', 'overfitting', 'sampling (signal processing)', 'synchronization (computer science)']\n",
      "len_topic: 13\n",
      "\n",
      "['experiment', 'premature convergence', 'frequency band', 'genetic operator', 'receiver operating characteristic', 'cross-validation (statistics)', 'fuzzy logic', 'missing data', 'interference (communication)', 'software deployment', 'evolutionary algorithm', 'coexist (image)', 'trees (plant)', 'optimization problem', 'preprocessor', 'reinforcement learning', 'fuzzy control system', 'supervised learning', 'cognitive radio', 'particle swarm optimization', 'expectation–maximization algorithm', 'inference engine', 'deep learning', 'class', 'radio frequency', 'data mining', 'machine learning', 'signal-to-interference-plus-noise ratio', 'autonomous robot', 'cyclostationary process', 'algorithm', 'q-learning', 'telecommunications link', 'cognition', 'gradient', 'computation', 'combinatorial optimization', 'benchmark (computing)', 'mathematical optimization', 'genetic algorithm', 'transmitter', 'simulation', 'sparse matrix', 'knapsack problem']\n",
      "len_topic: 44\n",
      "\n"
     ]
    }
   ],
   "source": [
    "overlap_merge_view_deg_neg(2012, k = 20)"
   ]
  },
  {
   "cell_type": "markdown",
   "metadata": {},
   "source": [
    "### Year 2013"
   ]
  },
  {
   "cell_type": "code",
   "execution_count": 163,
   "metadata": {},
   "outputs": [
    {
     "name": "stdout",
     "output_type": "stream",
     "text": [
      "OVERLAP MERGING RESULT WITH CLIQUE PERCOLATION METHOD, CASCADE MODEL, SEED TOP 20 NODES AND DEG THRESHOLD CALCULATION STRATEGY.\n",
      "\n",
      "['topic model', 'calculus of variations', 'variational principle', 'statistical model', 'boltzmann machine', 'bayesian network']\n",
      "len_topic: 6\n",
      "\n",
      "['dynamic multi', 'single solution does', 'objective optimisation problems']\n",
      "len_topic: 3\n",
      "\n",
      "['performance', 'nonlinear system', 'newton–cotes formulas', 'collocation method', 'social inequality', 'bernoulli polynomials', 'lyapunov fractal', 'biological neural networks', 'machine learning', 'artificial neural network', \"jensen's inequality\", 'neural networks', 'approximation algorithm', 'synchronization (computer science)', 'convex optimization', 'numerical method', 'complex network', 'algorithm', 'q-learning', 'deep learning', 'word embedding', 'randomness', 'mathematical optimization', 'stochastic processes', 'iteration', 'simulation', 'mean squared error', 'dynamic programming', 'sampling (signal processing)', 'navier–stokes equations', 'data synchronization']\n",
      "len_topic: 31\n",
      "\n",
      "['richard socher', 'christopher d. manning', 'lukás burget', 'andrew y. ng', 'andriy mnih', 'tomas mikolov']\n",
      "len_topic: 6\n",
      "\n"
     ]
    }
   ],
   "source": [
    "overlap_merge_view_deg(2013, k = 20)"
   ]
  },
  {
   "cell_type": "code",
   "execution_count": 164,
   "metadata": {},
   "outputs": [
    {
     "name": "stdout",
     "output_type": "stream",
     "text": [
      "OVERLAP MERGING RESULT WITH CLIQUE PERCOLATION METHOD, CASCADE MODEL, SEED TOP 20 NODES AND HALF THRESHOLD CALCULATION STRATEGY.\n",
      "\n",
      "['experiment', 'couplings', 'vertex', 'linear matrix inequality', 'neural network simulation', 'switches', 'convolutional neural network', 'matrix regularization', 'nonlinear system', 'newton–cotes formulas', 'social inequality', 'differential evolution', 'collocation method', 'lyapunov fractal', 'biological neural networks', 'interference (communication)', 'knowledge base', 'self-organization', 'taguchi method', 'nearest neighbor classifier', 'approximation algorithm', 'convex optimization', 'taguchi methods', 'numerical method', 'duality gap', 'quintic function', 'gauss–kronrod quadrature formula', 'optimization problem', 'dropout (neural networks)', 'reinforcement learning', 'manufacturing', 'particle swarm optimization', 'backhaul (telecommunications)', 'block cipher mode of operation', 'stochastic process', 'lessons learned', 'complex networks', 'deep learning', 'numerical analysis', 'throughput', 'data synchronization', 'dynamic programming', 'bernoulli polynomials', 'cell (microprocessor)', 'artificial neural network', 'hybrid optimization', 'coefficient', 'neural networks', 'synchronization (computer science)', 'probability', 'central processing unit', 'complex network', 'organizing (structure)', 'algorithm', 'q-learning', 'telecommunications link', 'recurrent neural networks', 'randomness', 'error analysis (mathematics)', 'programming paradigm', 'mathematical optimization', 'b-spline', 'recurrent neural network', 'algebraic equation', 'benchmark (computing)', 'stochastic processes', 'iteration', 'simulation', 'mean squared error', 'sampling - surgical action', 'synchronization', 'spectral leakage', 'sampling (signal processing)', 'navier–stokes equations']\n",
      "len_topic: 74\n",
      "\n",
      "['jan cernocký', 'stefan kombrink', 'tomas mikolov', 'christopher d. manning', 'geoffrey zweig', 'lukás burget', 'andrew y. ng', 'yee whye teh', 'gregory s. corrado', 'wen-tau yih', 'richard socher', 'andriy mnih', 'peter d. turney', 'kai chen', 'jeffrey dean']\n",
      "len_topic: 15\n",
      "\n",
      "['calculus of variations', 'variational principle', 'boltzmann machine', 'dbm', 'bayesian network', 'topic model', 'greedy algorithm']\n",
      "len_topic: 7\n",
      "\n",
      "['single solution does', 'objective optimisation', 'dynamic multi']\n",
      "len_topic: 3\n",
      "\n"
     ]
    }
   ],
   "source": [
    "overlap_merge_view_half(2013, k = 20)"
   ]
  },
  {
   "cell_type": "code",
   "execution_count": 165,
   "metadata": {},
   "outputs": [
    {
     "name": "stdout",
     "output_type": "stream",
     "text": [
      "OVERLAP MERGING RESULT WITH CLIQUE PERCOLATION METHOD, CASCADE MODEL, SEED TOP 20 NODES AND DEG NEGATIVE THRESHOLD CALCULATION STRATEGY.\n",
      "\n",
      "['performance', 'experiment', 'couplings', 'artificial bee colony algorithm', 'vertex', 'linear matrix inequality', 'neural network simulation', 'switches', 'convolutional neural network', 'matrix regularization', 'nonlinear system', 'newton–cotes formulas', 'social inequality', 'differential evolution', 'collocation method', 'lyapunov fractal', 'biological neural networks', 'interference (communication)', 'knowledge base', 'self-organization', 'taguchi method', 'approximation algorithm', 'convex optimization', 'taguchi methods', 'numerical method', 'duality gap', 'quintic function', 'gauss–kronrod quadrature formula', 'optimization problem', 'dropout (neural networks)', 'reinforcement learning', 'manufacturing', 'backhaul (telecommunications)', 'cognitive radio', 'block cipher mode of operation', 'particle swarm optimization', 'stochastic process', 'complex networks', 'deep learning', 'throughput', 'numerical analysis', 'data synchronization', 'bernoulli polynomials', 'machine learning', 'cell (microprocessor)', 'artificial neural network', 'hybrid optimization', 'coefficient', \"jensen's inequality\", 'frank–wolfe algorithm', 'neural networks', 'synchronization (computer science)', 'probability', 'central processing unit', 'complex network', 'organizing (structure)', 'algorithm', 'q-learning', 'telecommunications link', 'recurrent neural networks', 'randomness', 'error analysis (mathematics)', 'word embedding', 'programming paradigm', 'mathematical optimization', 'b-spline', 'recurrent neural network', 'algebraic equation', 'text corpus', 'benchmark (computing)', 'stochastic processes', 'iteration', 'simulation', 'mean squared error', 'sampling - surgical action', 'synchronization', 'dynamic programming', 'sampling (signal processing)', 'navier–stokes equations', 'stability']\n",
      "len_topic: 80\n",
      "\n",
      "['jan cernocký', 'stefan kombrink', 'tomas mikolov', 'christopher d. manning', 'geoffrey zweig', 'lukás burget', 'andrew y. ng', 'yee whye teh', 'gregory s. corrado', 'wen-tau yih', 'richard socher', 'andriy mnih', 'peter d. turney', 'kai chen', 'jeffrey dean']\n",
      "len_topic: 15\n",
      "\n",
      "['calculus of variations', 'variational principle', 'statistical model', 'boltzmann machine', 'dbm', 'bayesian network', 'topic model', 'greedy algorithm']\n",
      "len_topic: 8\n",
      "\n",
      "['single solution does', 'objective optimisation', 'dynamic multi']\n",
      "len_topic: 3\n",
      "\n"
     ]
    }
   ],
   "source": [
    "overlap_merge_view_deg_neg(2013, k = 20)"
   ]
  },
  {
   "cell_type": "markdown",
   "metadata": {},
   "source": [
    "### Year 2014"
   ]
  },
  {
   "cell_type": "code",
   "execution_count": 166,
   "metadata": {},
   "outputs": [
    {
     "name": "stdout",
     "output_type": "stream",
     "text": [
      "OVERLAP MERGING RESULT WITH CLIQUE PERCOLATION METHOD, CASCADE MODEL, SEED TOP 20 NODES AND DEG THRESHOLD CALCULATION STRATEGY.\n",
      "\n",
      "['experiment', 'neural network simulation', 'nonlinear system', 'yoshua bengio', 'social inequality', 'encoder', 'lyapunov fractal', 'quoc v. le', 'hamilton–jacobi–bellman equation', 'statistical machine translation', 'approximation algorithm', 'n-gram', 'usb on-the-go', 'alex graves', 'phil blunsom', 'bellman equation', 'numerical analysis', 'abdel-rahman mohamed', 'autoencoder', 'richard m. schwartz', 'jacob devlin', 'artificial neural network', 'ilya sutskever', 'optimal control', 'exponential', 'nal kalchbrenner', 'algorithm', 'word embedding', 'mathematical optimization', 'matthew d. zeiler', 'time complexity', 'kyunghyun cho', 'iteration', 'simulation', 'neural machine translation', 'dynamic programming', 'sampling (signal processing)']\n",
      "len_topic: 37\n",
      "\n"
     ]
    }
   ],
   "source": [
    "overlap_merge_view_deg(2014, k = 20)"
   ]
  },
  {
   "cell_type": "code",
   "execution_count": 167,
   "metadata": {},
   "outputs": [
    {
     "name": "stdout",
     "output_type": "stream",
     "text": [
      "OVERLAP MERGING RESULT WITH CLIQUE PERCOLATION METHOD, CASCADE MODEL, SEED TOP 20 NODES AND HALF THRESHOLD CALCULATION STRATEGY.\n",
      "\n",
      "['metaheuristic', 'computer performance', 'cuckoo search\\xa0', 'yang', 'formal system', 'convolutional neural network', 'yoshua bengio', 'geoffrey e. hinton', 'encoder', 'lyapunov fractal', 'nicolas boulanger-lewandowski', 'uncertainty', 'data stream mining', 'n-gram', 'neural network software', 'evolutionary algorithm', 'john makhoul', 'iterative method', 'bellman equation', 'mathematical induction', 'rate of convergence', 'optimization problem', 'heuristic', 'http public key pinning', 'global optimization problem\\xa0', 'constrained optimization', 'alex krizhevsky', 'neighborhood search (ns) operator', 'autoencoder', 'metaheuristic search (ms)', 'scalability', 'freebase', 'jacob devlin', 'search algorithm', 'lyapunov–krasovskii functional', 'ilya sutskever', 'ant colony optimization algorithms', 'nal kalchbrenner', 'activation function', 'complex network', 'algorithm', 'deep learning papers review at neurotechnology: attention mechanisms neurotechnology mar 15 2017', 'oriol vinyals', 'in-place algorithm', 'multimodal interaction', 'kyunghyun cho', 'iteration', 'sampling - surgical action', 'particle swarm optimization (pso)', 'bil herd', 'dynamic programming', 'yang liu', 'experiment', 'calculus of variations', 'velocity (software development)', 'linear matrix inequality', 'neural network simulation', 'premature convergence', 'nonlinear system', 'social inequality', 'quoc v. le', 'biological neural networks', 'fuzzy logic', 'hamilton–jacobi–bellman equation', 'language model', 'statistical machine translation', 'approximation algorithm', 'convex optimization', 'global optimization', 'stochastic gradient descent', 'usb on-the-go', 'alex graves', 'noise reduction', 'phil blunsom', 'feasible region', 'control theory', 'bart van merrienboer', 'reinforcement learning', 'particle swarm optimization', 'fault tolerance', 'krill herd (kh)\\xa0', 'partition function (mathematics)', 'numerical analysis', 'xiang zhang', 'markov decision process', 'finite-time stabilization', 'richard m. schwartz', 'machine learning', 'jacobi method', 'mathematics', 'artificial neural network', 'optimal control', 'knowledge graph', 'neural networks', 'generative model', 'periodic solution', 'exponential', 'entity', 'computation', 'neural network', 'mathematical model', 'word embedding', 'baseline (configuration management)', 'mathematical optimization', 'matthew d. zeiler', 'skip list', 'zhongqiang huang', 'benchmark (computing)', 'time complexity', 'genetic algorithm', 'recurrent neural network', 'simulation', 'mean squared error', 'cuckoo search', 'neural machine translation', 'pixel', 'sampling (signal processing)']\n",
      "len_topic: 117\n",
      "\n"
     ]
    }
   ],
   "source": [
    "overlap_merge_view_half(2014, k = 20)"
   ]
  },
  {
   "cell_type": "code",
   "execution_count": 168,
   "metadata": {},
   "outputs": [
    {
     "name": "stdout",
     "output_type": "stream",
     "text": [
      "OVERLAP MERGING RESULT WITH CLIQUE PERCOLATION METHOD, CASCADE MODEL, SEED TOP 20 NODES AND DEG NEGATIVE THRESHOLD CALCULATION STRATEGY.\n",
      "\n",
      "['metaheuristic', 'computer performance', 'imagenet', 'cuckoo search\\xa0', 'information retrieval', 'yang', 'formal system', 'convolutional neural network', 'yoshua bengio', 'random neural network', 'bag-of-words model', 'geoffrey e. hinton', 'encoder', 'lyapunov fractal', 'nicolas boulanger-lewandowski', 'uncertainty', 'state space', 'data stream mining', 'n-gram', 'neural network software', 'evolutionary algorithm', 'john makhoul', 'recurrent neural network', 'iterative method', 'bellman equation', 'mathematical induction', 'rate of convergence', 'shadowing (histology)', 'optimization problem', 'heuristic', 'x.690', 'cognitive radio', 'analytical models', 'http public key pinning', 'global optimization problem\\xa0', 'constrained optimization', 'deep learning', 'throughput', 'alex krizhevsky', 'neighborhood search (ns) operator', 'abdel-rahman mohamed', 'autoencoder', 'point of view (computer hardware company)', 'computers', 'metaheuristic search (ms)', 'scalability', 'freebase', 'bit error rate', 'jacob devlin', 'search algorithm', 'lyapunov–krasovskii functional', 'rayleigh fading', 'ilya sutskever', 'electronic mail', 'ant colony optimization algorithms', 'feature selection', 'nal kalchbrenner', 'activation function', 'complex network', 'algorithm', 'deep learning papers review at neurotechnology: attention mechanisms neurotechnology mar 15 2017', 'oriol vinyals', 'in-place algorithm', 'kyunghyun cho', 'navdeep jaitly', 'iteration', 'particle swarm optimization (pso)', 'sampling - surgical action', 'bil herd', 'dynamic programming', 'yang liu', 'experiment', 'calculus of variations', 'velocity (software development)', 'cuckoo search', 'linear matrix inequality', 'neural network simulation', 'premature convergence', 'nonlinear system', 'social inequality', 'quoc v. le', 'biological neural networks', 'multitier architecture', 'fuzzy logic', 'interference (communication)', 'hamilton–jacobi–bellman equation', 'language model', 'statistical machine translation', 'approximation algorithm', 'convex optimization', 'global optimization', 'stochastic gradient descent', 'usb on-the-go', 'alex graves', 'noise reduction', 'phil blunsom', 'control theory', 'bart van merrienboer', 'reinforcement learning', 'particle swarm optimization', 'mimo', 'fuzzy control system', 'fault tolerance', 'krill herd (kh)\\xa0', 'partition function (mathematics)', 'numerical analysis', 'topology', 'xiang zhang', 'markov decision process', 'finite-time stabilization', 'constraint algorithm', 'richard m. schwartz', 'recursive neural network', 'machine learning', 'jacobi method', 'artificial neural network', 'mathematics', 'optimal control', 'coefficient', 'computer vision', 'neural networks', 'generative model', 'knowledge graph', 'periodic solution', 'exponential', 'entity', 'computation', 'neural network', 'mathematical model', 'word embedding', 'baseline (configuration management)', 'mathematical optimization', 'matthew d. zeiler', 'skip list', 'mimo-ofdm', 'quality of service', 'zhongqiang huang', 'benchmark (computing)', 'genetic algorithm', 'simulation', 'mean squared error', 'time complexity', 'neural machine translation', 'pixel', 'sampling (signal processing)']\n",
      "len_topic: 145\n",
      "\n"
     ]
    }
   ],
   "source": [
    "overlap_merge_view_deg_neg(2014, k = 20)"
   ]
  },
  {
   "cell_type": "markdown",
   "metadata": {},
   "source": [
    "### Year 2015"
   ]
  },
  {
   "cell_type": "code",
   "execution_count": 169,
   "metadata": {},
   "outputs": [
    {
     "name": "stdout",
     "output_type": "stream",
     "text": [
      "OVERLAP MERGING RESULT WITH CLIQUE PERCOLATION METHOD, CASCADE MODEL, SEED TOP 20 NODES AND DEG THRESHOLD CALCULATION STRATEGY.\n",
      "\n",
      "['continuous optimization', 'unsupervised learning', 'artificial bee colony algorithm', 'experiment', 'tom erez', 'convolutional neural network', 'nonlinear system', '????\\xa0', 'lyapunov fractal', 'long short-term memory', 'convex optimization', 'markov chain', 'noise reduction', 'novelty detection', 'optimization problem', 'control theory', '11101', 'fuzzy control system', 'back-stepping\\xa0', 'feature learning', 'numerical analysis', 'database', 'non-minimum phase\\xa0', 'autoencoder', '?????\\xa0', 'support vector machine', 'artificial neural network', 'neural networks', 'extreme learning machine\\xa0', 'algorithm', 'similarity metric\\xa0', 'mathematical optimization', 'recurrent neural network', 'benchmark (computing)', '???????\\xa0', 'iteration', 'simulation', 'maxima and minima', 'dynamic programming']\n",
      "len_topic: 39\n",
      "\n",
      "['novel automatic classification', 'accurate classification', 'extract features', 'mri scanning', 'crucially importance', 'normal brains', 'medical analysis', 'mr brain images']\n",
      "len_topic: 8\n",
      "\n"
     ]
    }
   ],
   "source": [
    "overlap_merge_view_deg(2015, k = 20)"
   ]
  },
  {
   "cell_type": "code",
   "execution_count": 170,
   "metadata": {},
   "outputs": [
    {
     "name": "stdout",
     "output_type": "stream",
     "text": [
      "OVERLAP MERGING RESULT WITH CLIQUE PERCOLATION METHOD, CASCADE MODEL, SEED TOP 20 NODES AND HALF THRESHOLD CALCULATION STRATEGY.\n",
      "\n",
      "['continuous optimization', 'statistical classification', 'unsupervised learning', 'artificial bee colony algorithm', 'bt bayesian theory', 'memristor-based neural networks', 'trust region', 'control system', 'arima auto regressive integrated moving average', 'unscented kalman filter', 'extract features', 'formal system', '????\\xa0', 'multi-agent system', 'satinder p. singh', 'normal brains', 'convolutional neural network', 'lyapunov fractal', 'swarm intelligence', 'mr brain images', 'memory intensive making', 'spectral efficiency', 'aided diagnosis', 'cluster analysis', 'emd empirical mode decomposition', 'markov chain', 'low-power broadcasting', 'structural break modeling', 'novel automatic classification', 'sergey levine', 'accurate classification', '20301', 'bellman equation', 'novelty detection', 'optimization problem', 'power semiconductor device', 'observers', 'emanuel todorov', 'pattern recognition', 'block cipher mode of operation', 'http public key pinning', 'deep learning', 'throughput', 'autoencoder', 'support vector machine', 'principal component analysis', 'memristor', 'computer simulation', 'auto regressive integrated moving average', 'acoustic cryptanalysis', 'document classification', 'autonomous robot', 'online and offline', 'link prediction\\xa0', 'system dynamics', 'activation function', 'weibull distribution function', 'algorithm', 'magnetic resonance imaging', 'mri scanning', 'ga genetic algorithm', 'embedded systems', 'output feedback', '???????\\xa0', 'cellular multicast\\xa0', 'iteration', 'maxima and minima', 'dynamic programming', 'feedback', 'adaptive systems', 'performance', 'experiment', 'computationally intensive', '??????\\xa0', 'social network\\xa0', 'tom erez', 'linear matrix inequality', 'neural network simulation', 'nonlinear systems', 'fine tune', 'convex function', 'nonlinear system', 'social inequality', 'crucially importance', 'remaining connections', 'medical analysis', 'fuzzy logic', 'hamilton–jacobi–bellman equation', 'interference (communication)', 'language model', 'honglak lee', 'imagenet dataset', 'well-posed problem', 'approximation algorithm', 'long short-term memory', 'convex optimization', 'distinguish abnormal brains', 'optimization', 'compaq lte', 'bayesian optimization', 'pca principal component analysis', 'noise reduction', 'artificial intelligence', 'interval time-varying delay', 'theory', 'coexist (image)', 'reinforcement learning', 'particle swarm optimization', 'supervised learning', 'elm', 'back-stepping\\xa0', 'empirical mode decomposition', 'power control\\xa0', 'channel capacity', 'feature learning', 'prediction', 'speech recognition', 'numerical analysis', 'fractional-order', 'robot', '?????\\xa0', 'database', 'learning disorders', 'fuzzy control system', 'artificial bee colony', 'machine learning', 'converge', 'interference management\\xa0', 'artificial neural network', 'filter bank', 'optimal control', 'yuval tassa', 'network topology', 'neural networks', 'linear matrix inequality (lmi)', 'computer vision', '???\\xa0', 'synchronization (computer science)', 'tcp global synchronization', 'input-output linearization\\xa0', 'extreme learning machine\\xa0', 'map', 'unit commitment', 'doina precup', 'mathematical optimization', 'recurrent neural network', 'benchmark (computing)', 'time complexity', 'genetic algorithm', 'feedforward neural network', 'simulation', 'synchronization', 'ar auto regressive']\n",
      "len_topic: 153\n",
      "\n"
     ]
    }
   ],
   "source": [
    "overlap_merge_view_half(2015, k = 20)"
   ]
  },
  {
   "cell_type": "code",
   "execution_count": 171,
   "metadata": {},
   "outputs": [
    {
     "name": "stdout",
     "output_type": "stream",
     "text": [
      "OVERLAP MERGING RESULT WITH CLIQUE PERCOLATION METHOD, CASCADE MODEL, SEED TOP 20 NODES AND DEG NEGATIVE THRESHOLD CALCULATION STRATEGY.\n",
      "\n",
      "['continuous optimization', 'unsupervised learning', 'artificial bee colony algorithm', 'memristor-based neural networks', 'trust region', 'imagenet', 'arima auto regressive integrated moving average', '????\\xa0', 'normal brains', 'geoffrey e. hinton', 'mr brain images', 'aided diagnosis', 'memory intensive making', 'cluster analysis', 'novel automatic classification', 'sergey levine', '20301', 'computer assisted diagnosis', 'bellman equation', 'linearizing at the trim state\\xa0', 'novelty detection', 'power semiconductor device', 'observers', 'pattern recognition', 'block cipher mode of operation', 'http public key pinning', 'deep learning', 'throughput', 'alex krizhevsky', 'autoencoder', 'non-minimum phase\\xa0', 'principal component analysis', 'anatomy regional', 'computer simulation', 'signal processing', 'ilya sutskever', 'document classification', 'link prediction\\xa0', 'activation function', 'weibull distribution function', 'algorithm', 'mri scanning', 'ga genetic algorithm', 'riemann–liouville', 'dynamic programming', 'adaptive systems', '??????\\xa0', 'feature representation\\xa0', 'linear matrix inequality', 'neural network simulation', 'nonlinear systems', 'increment', 'parsing', 'nonlinear system', 'crucially importance', 'large-scale computing\\xa0', 'medical analysis', 'interference (communication)', 'imagenet dataset', 'well-posed problem', 'long short-term memory', 'distinguish abnormal brains', 'global optimization', 'stochastic gradient descent', 'compaq lte', 'pca principal component analysis', 'dynamic network\\xa0', 'coexist (image)', 'control theory', 'particle swarm optimization', 'elm', 'feature learning', 'speech recognition', 'empirical mode decomposition', 'power control\\xa0', 'channel capacity', 'fractional-order', 'database', 'interference management\\xa0', 'yuval tassa', 'linear matrix inequality (lmi)', '???\\xa0', 'synchronization (computer science)', 'extreme learning machine\\xa0', 'map', 'doina precup', 'mathematical optimization', 'recurrent neural network', 'genetic algorithm', 'stability', 'cellular multicast\\xa0', 'ar auto regressive', 'bt bayesian theory', 'control system', 'extract features', 'unscented kalman filter', 'formal system', 'satinder p. singh', 'convex function', 'multi-agent system', 'convolutional neural network', 'bayesian optimization', 'encoder', 'lyapunov fractal', 'swarm intelligence', 'correctness (computer science)', 'spectral efficiency', 'emd empirical mode decomposition', 'markov chain', 'low-power broadcasting', 'structural break modeling', 'christian szegedy', 'accurate classification', 'optimization problem', 'emanuel todorov', 'categorization', '70201', 'support vector machine', 'memristor', 'auto regressive integrated moving average', 'learning model\\xa0', 'acoustic cryptanalysis', 'hypersonic flight vehicle\\xa0', 'autonomous robot', 'online and offline', 'system dynamics', 'magnetic resonance imaging', 'embedded systems', 'cross reactions', 'output feedback', '???????\\xa0', 'iteration', 'maxima and minima', 'stabilization', 'resonance', 'feedback', 'performance', 'experiment', 'computationally intensive', 'tom erez', 'social network\\xa0', 'fine tune', 'social inequality', 'remaining connections', 'fuzzy logic', 'hamilton–jacobi–bellman equation', 'honglak lee', 'language model', 'approximation algorithm', 'real-time transcription', 'convex optimization', 'noise reduction', 'artificial intelligence', 'interval time-varying delay', '11101', 'reinforcement learning', 'back-stepping\\xa0', 'supervised learning', 'fuzzy control system', 'statistical classification', '82301', 'approximation', 'numerical analysis', 'decision tree learning', 'loss function', 'robot', 'controllers', '?????\\xa0', 'learning disorders', 'artificial bee colony', 'machine learning', 'artificial neural network', 'filter bank', 'optimal control', 'firefly algorithm', 'computer vision', 'neural networks', 'network topology', 'tcp global synchronization', 'unit commitment', 'similarity metric\\xa0', 'benchmark (computing)', 'adaptive algorithm', 'time complexity', 'feedforward neural network', 'interaction', 'simulation', 'wavelet analysis', 'theory']\n",
      "len_topic: 189\n",
      "\n"
     ]
    }
   ],
   "source": [
    "overlap_merge_view_deg_neg(2015, k = 20)"
   ]
  },
  {
   "cell_type": "markdown",
   "metadata": {},
   "source": [
    "### Year 2016"
   ]
  },
  {
   "cell_type": "code",
   "execution_count": 172,
   "metadata": {},
   "outputs": [
    {
     "ename": "TopicNotAllKeywordsUsedException",
     "evalue": "To perfom all topics not all keywords have been used.",
     "output_type": "error",
     "traceback": [
      "\u001b[0;31m---------------------------------------------------------------------------\u001b[0m",
      "\u001b[0;31mTopicNotAllKeywordsUsedException\u001b[0m          Traceback (most recent call last)",
      "\u001b[0;32m<ipython-input-172-eb1c6d8568db>\u001b[0m in \u001b[0;36m<module>\u001b[0;34m\u001b[0m\n\u001b[0;32m----> 1\u001b[0;31m \u001b[0moverlap_merge_view_deg\u001b[0m\u001b[0;34m(\u001b[0m\u001b[0;36m2016\u001b[0m\u001b[0;34m,\u001b[0m \u001b[0mk\u001b[0m \u001b[0;34m=\u001b[0m \u001b[0;36m20\u001b[0m\u001b[0;34m)\u001b[0m\u001b[0;34m\u001b[0m\u001b[0;34m\u001b[0m\u001b[0m\n\u001b[0m",
      "\u001b[0;32m<ipython-input-6-644b1e1d3189>\u001b[0m in \u001b[0;36moverlap_merge_view_deg\u001b[0;34m(year, k)\u001b[0m\n\u001b[1;32m      3\u001b[0m     \u001b[0mspread_dict\u001b[0m\u001b[0;34m[\u001b[0m\u001b[0mstr\u001b[0m\u001b[0;34m(\u001b[0m\u001b[0myear\u001b[0m\u001b[0;34m)\u001b[0m\u001b[0;34m]\u001b[0m\u001b[0;34m.\u001b[0m\u001b[0mindipendent_cascade_model\u001b[0m\u001b[0;34m(\u001b[0m\u001b[0;34m)\u001b[0m\u001b[0;34m\u001b[0m\u001b[0;34m\u001b[0m\u001b[0m\n\u001b[1;32m      4\u001b[0m     \u001b[0mcascade_deg\u001b[0m \u001b[0;34m=\u001b[0m \u001b[0mspread_dict\u001b[0m\u001b[0;34m[\u001b[0m\u001b[0mstr\u001b[0m\u001b[0;34m(\u001b[0m\u001b[0myear\u001b[0m\u001b[0;34m)\u001b[0m\u001b[0;34m]\u001b[0m\u001b[0;34m.\u001b[0m\u001b[0mget_influenced_nodes\u001b[0m\u001b[0;34m(\u001b[0m\u001b[0;34m)\u001b[0m\u001b[0;34m\u001b[0m\u001b[0;34m\u001b[0m\u001b[0m\n\u001b[0;32m----> 5\u001b[0;31m     \u001b[0mtopics_deg\u001b[0m \u001b[0;34m=\u001b[0m \u001b[0moverlap_perform\u001b[0m\u001b[0;34m(\u001b[0m\u001b[0myear\u001b[0m\u001b[0;34m,\u001b[0m \u001b[0mcascade_deg\u001b[0m\u001b[0;34m,\u001b[0m \u001b[0mk\u001b[0m\u001b[0;34m)\u001b[0m\u001b[0;34m\u001b[0m\u001b[0;34m\u001b[0m\u001b[0m\n\u001b[0m\u001b[1;32m      6\u001b[0m     \u001b[0mto_print\u001b[0m\u001b[0;34m(\u001b[0m\u001b[0mtopics_deg\u001b[0m\u001b[0;34m,\u001b[0m \u001b[0;34m\"cascade\"\u001b[0m\u001b[0;34m,\u001b[0m \u001b[0mk\u001b[0m\u001b[0;34m,\u001b[0m \u001b[0;34m\"deg\"\u001b[0m\u001b[0;34m)\u001b[0m\u001b[0;34m\u001b[0m\u001b[0;34m\u001b[0m\u001b[0m\n\u001b[1;32m      7\u001b[0m \u001b[0;34m\u001b[0m\u001b[0m\n",
      "\u001b[0;32m<ipython-input-5-60ae7201d3cc>\u001b[0m in \u001b[0;36moverlap_perform\u001b[0;34m(year, all_topics, k)\u001b[0m\n\u001b[1;32m      3\u001b[0m     \u001b[0moverlap\u001b[0m\u001b[0;34m.\u001b[0m\u001b[0moverlap_preprocessing\u001b[0m\u001b[0;34m(\u001b[0m\u001b[0;34m)\u001b[0m\u001b[0;34m\u001b[0m\u001b[0;34m\u001b[0m\u001b[0m\n\u001b[1;32m      4\u001b[0m     \u001b[0moverlap\u001b[0m\u001b[0;34m.\u001b[0m\u001b[0mclique_percolation_method\u001b[0m\u001b[0;34m(\u001b[0m\u001b[0;34m)\u001b[0m\u001b[0;34m\u001b[0m\u001b[0;34m\u001b[0m\u001b[0m\n\u001b[0;32m----> 5\u001b[0;31m     \u001b[0moverlap\u001b[0m\u001b[0;34m.\u001b[0m\u001b[0mcheck_spread_topics\u001b[0m\u001b[0;34m(\u001b[0m\u001b[0;34m)\u001b[0m\u001b[0;34m\u001b[0m\u001b[0;34m\u001b[0m\u001b[0m\n\u001b[0m\u001b[1;32m      6\u001b[0m     \u001b[0moverlap\u001b[0m\u001b[0;34m.\u001b[0m\u001b[0mcheck_number_topics\u001b[0m\u001b[0;34m(\u001b[0m\u001b[0;34m)\u001b[0m\u001b[0;34m\u001b[0m\u001b[0;34m\u001b[0m\u001b[0m\n\u001b[1;32m      7\u001b[0m     \u001b[0;32mreturn\u001b[0m \u001b[0moverlap\u001b[0m\u001b[0;34m.\u001b[0m\u001b[0mget_topics\u001b[0m\u001b[0;34m(\u001b[0m\u001b[0;34m)\u001b[0m\u001b[0;34m\u001b[0m\u001b[0;34m\u001b[0m\u001b[0m\n",
      "\u001b[0;32m~/Universita/magistrale/web_and_social_information_extraction/webandsocial-progetto/src/overlaps_topics/overlap_topics.py\u001b[0m in \u001b[0;36mcheck_spread_topics\u001b[0;34m(self)\u001b[0m\n\u001b[1;32m    156\u001b[0m \u001b[0;34m\u001b[0m\u001b[0m\n\u001b[1;32m    157\u001b[0m         \u001b[0;32mif\u001b[0m \u001b[0msize_iteration\u001b[0m \u001b[0;34m!=\u001b[0m \u001b[0msize_topics\u001b[0m\u001b[0;34m:\u001b[0m\u001b[0;34m\u001b[0m\u001b[0;34m\u001b[0m\u001b[0m\n\u001b[0;32m--> 158\u001b[0;31m             \u001b[0;32mraise\u001b[0m \u001b[0mexcpt\u001b[0m\u001b[0;34m.\u001b[0m\u001b[0mTopicNotAllKeywordsUsedException\u001b[0m\u001b[0;34m(\u001b[0m\u001b[0;34m\"To perfom all topics not all keywords have been used.\"\u001b[0m\u001b[0;34m)\u001b[0m\u001b[0;34m\u001b[0m\u001b[0;34m\u001b[0m\u001b[0m\n\u001b[0m\u001b[1;32m    159\u001b[0m \u001b[0;34m\u001b[0m\u001b[0m\n\u001b[1;32m    160\u001b[0m \u001b[0;34m\u001b[0m\u001b[0m\n",
      "\u001b[0;31mTopicNotAllKeywordsUsedException\u001b[0m: To perfom all topics not all keywords have been used."
     ]
    }
   ],
   "source": [
    "overlap_merge_view_deg(2016, k = 20)"
   ]
  },
  {
   "cell_type": "code",
   "execution_count": 173,
   "metadata": {},
   "outputs": [
    {
     "name": "stdout",
     "output_type": "stream",
     "text": [
      "OVERLAP MERGING RESULT WITH CLIQUE PERCOLATION METHOD, CASCADE MODEL, SEED TOP 20 NODES AND HALF THRESHOLD CALCULATION STRATEGY.\n",
      "\n",
      "['control system', 'end-to-end principle', 'imagenet', 'lymph nodes', 'brute-force search', 'daily basis', 'convex function', 'convolutional neural network', 'formal system', 'potential benefits', 'agent-based model', 'multi-agent system', 'natural language processing', 'encoder', 'lyapunov fractal', 'requirement', 'settling time', 'volodymyr mnih', 'data pre-processing', 'hysteresis', 'sample complexity', 'feature extraction', 'vocabulary', 'iterative method', 'bellman equation', 'asthma patients demonstrate', 'benchmark\\xa0', 'apriori algorithm', 'optimization problem', 'centralized computing', 'generalization (psychology)', 'novel objective', 'cognitive radio', 'upper confidence bound', 'constrained optimization', 'adaptive coding', 'deep learning', 'atari', 'high- and low-level', 'weight', 'autoencoder', 'real-time clock', 'computer simulation', 'memristor', 'data mining', 'recommending treatments', 'ibm systems network architecture', 'search algorithm', 'neuron', 'computer data storage', 'mark rowland', 'approximation error', 'sensor', 'identifier', 'algorithm', 'statistical model', 'q-learning', 'numerical linear algebra', 'exploit (computer security)', 'training', 'experimental results', 'diagnostic test results', 'decision list', 'super robot monkey team hyperforce go!', 'decision makers', 'iteration', 'optimization\\xa0', 'big data', 'personalization', 'data model', 'dynamic programming', 'marc g. bellemare', 'feedback', 'adaptive systems', 'ben parr', 'experiment', 'maximizes outcomes', 'rémi munos', 'computer science', 'subnetwork', 'linear matrix inequality', 'mnist database', 'frequency band', 'neural network simulation', 'nonlinear systems', 'distribution (mathematics)', 'bayesian network', 'nonlinear system', 'social inequality', 'biological neural networks', 'fuzzy logic', 'interference (communication)', 'apache spark', 'language model', 'hamilton–jacobi–bellman equation', 'effective interpretable', 'genetic programming', 'approximation algorithm', 'long short-term memory', 'genetic algorithm\\xa0', 'optimization', 'stochastic gradient descent', 'global optimization', 'variational principle', 'usb on-the-go', 'koray kavukcuoglu', 'artificial intelligence', 'hypernymy relations', 'swarm intelligence\\xa0', 'maps characteristics', 'code', 'particle swarm optimization\\xa0', 'dropout (neural networks)', 'control theory', 'quantization (signal processing)', 'will dabney', 'demis hassabis', 'reinforcement learning', 'particle swarm optimization', 'open-source software', 'preprocessor', 'minimizes overall costs', 'black bag operation', 'approximation', 'numerical analysis', 'hado van hasselt', 'markov decision process', 'robot', 'leverages customized checks', 'finite-time synchronization', 'learning disorders', 'embedded system', 'granting bails', 'machine learning', 'converge', 'network architecture', 'artificial neural network', 'knowledge graph', 'optimal control', 'computational complexity theory', 'neural networks', 'coefficient', 'mapreduce', 'costs involved', 'computer-aided design', 'telecommunications link', 'channel state information', 'computation', 'test set', 'search space effectively', 'mathematical model', 'mathematical optimization', 'benchmark (computing)', 'recurrent neural network', 'time delay', 'genetic algorithm', 'open research', 'feedforward neural network', 'adversary (cryptography)', 'simulation', 'sparse matrix', 'time-varying delay', 'one-class classification', 'medical imaging']\n",
      "len_topic: 164\n",
      "\n",
      "['widely applied', 'scale multimedia retrieval']\n",
      "len_topic: 2\n",
      "\n"
     ]
    }
   ],
   "source": [
    "overlap_merge_view_half(2016, k = 20)"
   ]
  },
  {
   "cell_type": "code",
   "execution_count": 174,
   "metadata": {},
   "outputs": [
    {
     "name": "stdout",
     "output_type": "stream",
     "text": [
      "OVERLAP MERGING RESULT WITH CLIQUE PERCOLATION METHOD, CASCADE MODEL, SEED TOP 20 NODES AND DEG NEGATIVE THRESHOLD CALCULATION STRATEGY.\n",
      "\n",
      "['end-to-end principle', 'imagenet', 'lymph nodes', 'agent-based model', 'state estimation', 'settling time', 'data pre-processing', 'sample complexity', 'feature extraction', 'vocabulary', 'iterative method', 'bellman equation', 'asthma patients demonstrate', 'benchmark\\xa0', 'novel objective', 'http public key pinning', 'atari', 'high- and low-level', 'deep learning', 'throughput', 'weight', 'autoencoder', 'computer simulation', 'ibm systems network architecture', 'mark rowland', 'approximation error', 'interval arithmetic', 'algorithm', 'q-learning', 'numerical linear algebra', 'exploit (computer security)', 'experimental results', 'diagnostic test results', 'decision makers', 'optimization\\xa0', 'marc g. bellemare', 'dynamic programming', 'subnetwork', 'adaptive systems', 'rémi munos', 'maximizes outcomes', 'linear matrix inequality', 'neural network simulation', 'nonlinear systems', 'distribution (mathematics)', 'nonlinear system', 'biological neural networks', 'interference (communication)', 'apache spark', 'effective interpretable', 'coordinate descent', 'long short-term memory', 'genetic algorithm\\xa0', 'optimization', 'stochastic gradient descent', 'global optimization', 'usb on-the-go', 'koray kavukcuoglu', 'preprocessor', 'control theory', 'will dabney', 'particle swarm optimization', 'coupling constant', 'hado van hasselt', 'markov decision process', 'finite-time synchronization', 'embedded system', 'coefficient', 'computational complexity theory', 'mapreduce', 'costs involved', 'computer-aided design', 'search space effectively', 'test set', 'mathematical model', 'mathematical optimization', 'recurrent neural network', 'time delay', 'adversary (cryptography)', 'time-varying delay', 'medical imaging', 'control system', 'brute-force search', 'daily basis', 'convex function', 'convolutional neural network', 'formal system', 'potential benefits', 'natural language processing', 'multi-agent system', 'encoder', 'lyapunov fractal', 'requirement', 'fuzzy set', 'volodymyr mnih', 'hysteresis', 'apriori algorithm', 'optimization problem', 'centralized computing', 'generalization (psychology)', 'cognitive radio', 'upper confidence bound', 'constrained optimization', 'adaptive coding', 'support vector machine', 'real-time clock', 'memristor', 'data mining', 'recommending treatments', 'search algorithm', 'biogeography-based optimization\\xa0', 'neuron', 'computer data storage', 'sensor', 'identifier', 'statistical model', 'training', 'decision list', 'super robot monkey team hyperforce go!', 'iteration', 'big data', 'personalization', 'data model', 'feedback', 'ben parr', 'experiment', 'computer science', 'mnist database', 'frequency band', 'bayesian network', 'social inequality', 'fuzzy logic', 'hamilton–jacobi–bellman equation', 'genetic programming', 'language model', 'approximation algorithm', 'variational principle', 'artificial intelligence', 'swarm intelligence\\xa0', 'maps characteristics', 'open-source software', 'code', 'particle swarm optimization\\xa0', 'dropout (neural networks)', 'quantization (signal processing)', 'demis hassabis', 'reinforcement learning', 'fuzzy control system', 'minimizes overall costs', 'black bag operation', 'approximation', 'numerical analysis', 'robot', 'leverages customized checks', 'learning disorders', 'granting bails', 'machine learning', 'converge', 'network architecture', 'artificial neural network', 'knowledge graph', 'optimal control', 'network topology', 'neural networks', 'nonlinearity', 'fuzzy rule', 'telecommunications link', 'channel state information', 'computation', 'benchmark (computing)', 'quality of service', 'open research', 'feedforward neural network', 'simulation', 'sparse matrix', 'one-class classification']\n",
      "len_topic: 176\n",
      "\n",
      "['retrieval efficiency hashing', 'data pairs', 'separate quantization step', 'hash coding', 'image retrieval', 'widely applied', 'sense clustering', 'semantic similarity', 'scale multimedia retrieval']\n",
      "len_topic: 9\n",
      "\n"
     ]
    }
   ],
   "source": [
    "overlap_merge_view_deg_neg(2016, k = 20)"
   ]
  },
  {
   "cell_type": "markdown",
   "metadata": {},
   "source": [
    "### Year 2017"
   ]
  },
  {
   "cell_type": "code",
   "execution_count": 175,
   "metadata": {},
   "outputs": [
    {
     "name": "stdout",
     "output_type": "stream",
     "text": [
      "OVERLAP MERGING RESULT WITH CLIQUE PERCOLATION METHOD, CASCADE MODEL, SEED TOP 20 NODES AND DEG THRESHOLD CALCULATION STRATEGY.\n",
      "\n",
      "['throughput', 'experiment', 'recursion', 'adversarial examples', 'sparse matrix', 'neural network simulation', 'association rule learning', 'autoencoder', 'wireless sensor networks\\xa0', 'nonlinear system', 'sawtooth (cellular automaton)', 'triangular matrix', 'next-generation network', 'social inequality', 'lyapunov fractal', 'swarm intelligence', 'cluster analysis', 'artificial neural network', 'semiconductor industry', 'machine learning', 'firefly algorithm', 'force misclassification', 'statistical cluster', 'anatomy regional', 'algorithm', 'samuel j leffler', 'multi-objective optimization', 'computation', 'swarm intelligence\\xa0', 'network packet', 'mathematical optimization', 'baxter (robot)', 'genetic algorithm', 'simulation', 'cognitive radio', 'routing', 'british informatics olympiad', 'deep learning', 'approximation']\n",
      "len_topic: 39\n",
      "\n",
      "['alternating direction method', 'art baselines']\n",
      "len_topic: 2\n",
      "\n",
      "['node attributes', 'network embedding', 'proposed framework', 'link prediction']\n",
      "len_topic: 4\n",
      "\n",
      "['carefully reviewed', 'refereed proceedings']\n",
      "len_topic: 2\n",
      "\n"
     ]
    }
   ],
   "source": [
    "overlap_merge_view_deg(2017, k = 20)"
   ]
  },
  {
   "cell_type": "code",
   "execution_count": 176,
   "metadata": {},
   "outputs": [
    {
     "ename": "TopicNotAllKeywordsUsedException",
     "evalue": "To perfom all topics not all keywords have been used.",
     "output_type": "error",
     "traceback": [
      "\u001b[0;31m---------------------------------------------------------------------------\u001b[0m",
      "\u001b[0;31mTopicNotAllKeywordsUsedException\u001b[0m          Traceback (most recent call last)",
      "\u001b[0;32m<ipython-input-176-f413470bc5e1>\u001b[0m in \u001b[0;36m<module>\u001b[0;34m\u001b[0m\n\u001b[0;32m----> 1\u001b[0;31m \u001b[0moverlap_merge_view_half\u001b[0m\u001b[0;34m(\u001b[0m\u001b[0;36m2017\u001b[0m\u001b[0;34m,\u001b[0m \u001b[0mk\u001b[0m \u001b[0;34m=\u001b[0m \u001b[0;36m20\u001b[0m\u001b[0;34m)\u001b[0m\u001b[0;34m\u001b[0m\u001b[0;34m\u001b[0m\u001b[0m\n\u001b[0m",
      "\u001b[0;32m<ipython-input-6-644b1e1d3189>\u001b[0m in \u001b[0;36moverlap_merge_view_half\u001b[0;34m(year, k)\u001b[0m\n\u001b[1;32m     11\u001b[0m     \u001b[0mspread_dict\u001b[0m\u001b[0;34m[\u001b[0m\u001b[0mstr\u001b[0m\u001b[0;34m(\u001b[0m\u001b[0myear\u001b[0m\u001b[0;34m)\u001b[0m\u001b[0;34m]\u001b[0m\u001b[0;34m.\u001b[0m\u001b[0mindipendent_cascade_model\u001b[0m\u001b[0;34m(\u001b[0m\u001b[0;34m)\u001b[0m\u001b[0;34m\u001b[0m\u001b[0;34m\u001b[0m\u001b[0m\n\u001b[1;32m     12\u001b[0m     \u001b[0mcascade_half\u001b[0m \u001b[0;34m=\u001b[0m \u001b[0mspread_dict\u001b[0m\u001b[0;34m[\u001b[0m\u001b[0mstr\u001b[0m\u001b[0;34m(\u001b[0m\u001b[0myear\u001b[0m\u001b[0;34m)\u001b[0m\u001b[0;34m]\u001b[0m\u001b[0;34m.\u001b[0m\u001b[0mget_influenced_nodes\u001b[0m\u001b[0;34m(\u001b[0m\u001b[0;34m)\u001b[0m\u001b[0;34m\u001b[0m\u001b[0;34m\u001b[0m\u001b[0m\n\u001b[0;32m---> 13\u001b[0;31m     \u001b[0mtopics_half\u001b[0m \u001b[0;34m=\u001b[0m \u001b[0moverlap_perform\u001b[0m\u001b[0;34m(\u001b[0m\u001b[0myear\u001b[0m\u001b[0;34m,\u001b[0m \u001b[0mcascade_half\u001b[0m\u001b[0;34m,\u001b[0m \u001b[0mk\u001b[0m\u001b[0;34m)\u001b[0m\u001b[0;34m\u001b[0m\u001b[0;34m\u001b[0m\u001b[0m\n\u001b[0m\u001b[1;32m     14\u001b[0m     \u001b[0mto_print\u001b[0m\u001b[0;34m(\u001b[0m\u001b[0mtopics_half\u001b[0m\u001b[0;34m,\u001b[0m \u001b[0;34m\"cascade\"\u001b[0m\u001b[0;34m,\u001b[0m \u001b[0mk\u001b[0m\u001b[0;34m,\u001b[0m \u001b[0;34m\"half\"\u001b[0m\u001b[0;34m)\u001b[0m\u001b[0;34m\u001b[0m\u001b[0;34m\u001b[0m\u001b[0m\n\u001b[1;32m     15\u001b[0m \u001b[0;34m\u001b[0m\u001b[0m\n",
      "\u001b[0;32m<ipython-input-5-60ae7201d3cc>\u001b[0m in \u001b[0;36moverlap_perform\u001b[0;34m(year, all_topics, k)\u001b[0m\n\u001b[1;32m      3\u001b[0m     \u001b[0moverlap\u001b[0m\u001b[0;34m.\u001b[0m\u001b[0moverlap_preprocessing\u001b[0m\u001b[0;34m(\u001b[0m\u001b[0;34m)\u001b[0m\u001b[0;34m\u001b[0m\u001b[0;34m\u001b[0m\u001b[0m\n\u001b[1;32m      4\u001b[0m     \u001b[0moverlap\u001b[0m\u001b[0;34m.\u001b[0m\u001b[0mclique_percolation_method\u001b[0m\u001b[0;34m(\u001b[0m\u001b[0;34m)\u001b[0m\u001b[0;34m\u001b[0m\u001b[0;34m\u001b[0m\u001b[0m\n\u001b[0;32m----> 5\u001b[0;31m     \u001b[0moverlap\u001b[0m\u001b[0;34m.\u001b[0m\u001b[0mcheck_spread_topics\u001b[0m\u001b[0;34m(\u001b[0m\u001b[0;34m)\u001b[0m\u001b[0;34m\u001b[0m\u001b[0;34m\u001b[0m\u001b[0m\n\u001b[0m\u001b[1;32m      6\u001b[0m     \u001b[0moverlap\u001b[0m\u001b[0;34m.\u001b[0m\u001b[0mcheck_number_topics\u001b[0m\u001b[0;34m(\u001b[0m\u001b[0;34m)\u001b[0m\u001b[0;34m\u001b[0m\u001b[0;34m\u001b[0m\u001b[0m\n\u001b[1;32m      7\u001b[0m     \u001b[0;32mreturn\u001b[0m \u001b[0moverlap\u001b[0m\u001b[0;34m.\u001b[0m\u001b[0mget_topics\u001b[0m\u001b[0;34m(\u001b[0m\u001b[0;34m)\u001b[0m\u001b[0;34m\u001b[0m\u001b[0;34m\u001b[0m\u001b[0m\n",
      "\u001b[0;32m~/Universita/magistrale/web_and_social_information_extraction/webandsocial-progetto/src/overlaps_topics/overlap_topics.py\u001b[0m in \u001b[0;36mcheck_spread_topics\u001b[0;34m(self)\u001b[0m\n\u001b[1;32m    156\u001b[0m \u001b[0;34m\u001b[0m\u001b[0m\n\u001b[1;32m    157\u001b[0m         \u001b[0;32mif\u001b[0m \u001b[0msize_iteration\u001b[0m \u001b[0;34m!=\u001b[0m \u001b[0msize_topics\u001b[0m\u001b[0;34m:\u001b[0m\u001b[0;34m\u001b[0m\u001b[0;34m\u001b[0m\u001b[0m\n\u001b[0;32m--> 158\u001b[0;31m             \u001b[0;32mraise\u001b[0m \u001b[0mexcpt\u001b[0m\u001b[0;34m.\u001b[0m\u001b[0mTopicNotAllKeywordsUsedException\u001b[0m\u001b[0;34m(\u001b[0m\u001b[0;34m\"To perfom all topics not all keywords have been used.\"\u001b[0m\u001b[0;34m)\u001b[0m\u001b[0;34m\u001b[0m\u001b[0;34m\u001b[0m\u001b[0m\n\u001b[0m\u001b[1;32m    159\u001b[0m \u001b[0;34m\u001b[0m\u001b[0m\n\u001b[1;32m    160\u001b[0m \u001b[0;34m\u001b[0m\u001b[0m\n",
      "\u001b[0;31mTopicNotAllKeywordsUsedException\u001b[0m: To perfom all topics not all keywords have been used."
     ]
    }
   ],
   "source": [
    "overlap_merge_view_half(2017, k = 20)"
   ]
  },
  {
   "cell_type": "code",
   "execution_count": 177,
   "metadata": {},
   "outputs": [
    {
     "name": "stdout",
     "output_type": "stream",
     "text": [
      "OVERLAP MERGING RESULT WITH CLIQUE PERCOLATION METHOD, CASCADE MODEL, SEED TOP 20 NODES AND DEG NEGATIVE THRESHOLD CALCULATION STRATEGY.\n",
      "\n",
      "['firefly algorithm (fa)\\xa0', 'input lag', 'control system', 'adversarial examples', 'natural language processing', 'convolutional neural network', 'differential evolution', 'encoder', 'lyapunov fractal', 'swarm intelligence', 'cluster analysis', 'gradient descent', 'dynamical system', 'inverted pendulum', 'optimization problem', 'estimated', 'heuristic', 'cognitive radio', 'british informatics olympiad', 'deep learning', 'throughput', 'autoencoder', 'dual', 'wireless sensor networks\\xa0', 'routing', 'anatomy regional', 'global exponential stability', 'feature selection', 'sensor', 'statistical cluster', 'polynomial', 'algorithm', 'sensitivity and specificity', 'spectral leakage', 'sampling - surgical action', 'feedback', 'experiment', 'cloud computing', 'convolution', 'linear matrix inequality', 'premature convergence', 'neural network simulation', 'association rule learning', 'nonlinear system', 'triangular matrix', 'social inequality', 'semiconductor industry', 'interference (communication)', 'scheduling (computing)', 'approximation algorithm', 'long short-term memory', 'numerical method', 'samuel j leffler', 'outline of object recognition', 'random forest', 'multi-objective optimization', 'network packet', 'swarm intelligence\\xa0', 'binary code', 'neural coding', 'control theory', 'reinforcement learning', 'fuzzy control system', 'particle swarm optimization', 'approximation', 'numerical analysis', 'data synchronization', 'adversarial inputs', 'recursion', 'controllers', 'initial condition', 'global optimization\\xa0', 'baxter (robot)', 'sawtooth (cellular automaton)', 'machine learning', 'converge', 'artificial neural network', \"jensen's inequality\", 'firefly algorithm', 'computer vision', 'hopfield network', 'open problem', 'inference', 'computation', 'firefly (cache coherence protocol)', 'mathematical optimization', 'benchmark (computing)', 'recurrent neural network', 'time complexity', 'genetic algorithm', 'simulation', 'sparse matrix', 'sampling (signal processing)']\n",
      "len_topic: 93\n",
      "\n",
      "['search result diversification', 'alternating direction method', 'significantly outperform', 'diverse ranking model', 'art baselines']\n",
      "len_topic: 5\n",
      "\n",
      "['topical sections named', 'fukuoka japan', 'carefully reviewed', 'refereed proceedings', 'book constitutes']\n",
      "len_topic: 5\n",
      "\n",
      "['vast majority', 'node attributes', 'dimensional vector representations', 'proposed framework', 'link prediction']\n",
      "len_topic: 5\n",
      "\n"
     ]
    }
   ],
   "source": [
    "overlap_merge_view_deg_neg(2017, k = 20)"
   ]
  },
  {
   "cell_type": "markdown",
   "metadata": {},
   "source": [
    "### Year 2018 "
   ]
  },
  {
   "cell_type": "code",
   "execution_count": 178,
   "metadata": {},
   "outputs": [
    {
     "name": "stdout",
     "output_type": "stream",
     "text": [
      "OVERLAP MERGING RESULT WITH CLIQUE PERCOLATION METHOD, CASCADE MODEL, SEED TOP 20 NODES AND DEG THRESHOLD CALCULATION STRATEGY.\n",
      "\n",
      "['numerical analysis', 'experiment', 'critical scenarios', 'end-to-end principle', 'smart battery system', 'driven programming paradigm', 'memristor', 'nonlinear system', 'social inequality', 'differential evolution', 'machine learning', 'converge', 'lyapunov fractal', 'artificial neural network', 'interference (communication)', 'scheduling (computing)', 'multi-user', 'computational complexity theory', 'algorithm', 'telecommunications link', 'analysis of algorithms', 'active learning (machine learning)', 'optimization problem', 'mathematical optimization', 'benchmark (computing)', 'time complexity', 'particle swarm optimization\\xa0', 'crafted neuron network', 'particle swarm optimization', 'simulation', 'numerous', 'fuzzy control system', 'training data', 'deep learning']\n",
      "len_topic: 34\n",
      "\n",
      "['input space', 'adversarial examples', 'hidden states', 'data manifold', 'training distribution', 'deep networks', 'adversarial examples phenomenon', 'model generalization']\n",
      "len_topic: 8\n",
      "\n"
     ]
    }
   ],
   "source": [
    "overlap_merge_view_deg(2018, k = 20)"
   ]
  },
  {
   "cell_type": "code",
   "execution_count": 179,
   "metadata": {},
   "outputs": [
    {
     "name": "stdout",
     "output_type": "stream",
     "text": [
      "OVERLAP MERGING RESULT WITH CLIQUE PERCOLATION METHOD, CASCADE MODEL, SEED TOP 20 NODES AND HALF THRESHOLD CALCULATION STRATEGY.\n",
      "\n",
      "['experiment', 'linear matrix inequality', 'smart battery system', 'neural network simulation', 'frequency band', 'convolutional neural network', 'prime-factor fft algorithm', 'driven programming paradigm', 'nonlinear system', '37b25\\xa0', 'social inequality', 'differential evolution', 'lyapunov fractal', 'multitier architecture', 'biological neural networks', 'correctness (computer science)', 'interference (communication)', 'semiconductor industry', 'fixed-point theorem', 'pid', 'anatomical layer', 'approximation algorithm', 'predictive failure analysis', 'entropy maximization', 'closed-circuit television', '92c20\\xa0', 'impulse\\xa0', 'analysis of algorithms', 'iterative method', 'network packet', 'new data', 'optimization problem', 'particle swarm optimization\\xa0', 'crafted neuron network', 'particle swarm optimization', 'anomaly detection', 'cognitive radio', 'numerous', 'multi-user', 'word lists by frequency', 'mimo', 'data compression', 'deep learning', 'numerical analysis', 'throughput', 'loss function', 'direct method in the calculus of variations', 'radio frequency', 'critical scenarios', 'autoencoder', 'embedded system', 'computer simulation', 'memristor', 'bit error rate', 'machine learning', 'converge', 'artificial neural network', 'optimal control', 'expectation propagation', 'computational complexity theory', 'neural networks', 'memristor-based switching networks\\xa0', 'hopfield network', '34c27\\xa0', 'system dynamics', 'algorithm', 'biologic preservation', 'telecommunications link', 'active learning (machine learning)', 'experimental results', 'privacy', 'mathematical optimization', 'benchmark (computing)', 'time complexity', 'interaction', 'spectral density', 'simulation', 'spectral leakage', 'training data']\n",
      "len_topic: 79\n",
      "\n",
      "['leveraging recent techniques', 'known parameters', 'transfer adversarial examples', 'adversarial examples', 'data manifold', 'unknown parameters', 'vision models', 'recently proven successful', 'make mistakes', 'input space', 'powerful framework', 'open question', 'similar mistakes', 'standard benchmark tasks', 'school bus', 'machine learning models', 'small changes', 'training distribution', 'deep networks', 'deep neural networks', 'supervised learning', 'simple baselines', 'leveraging unlabeled data']\n",
      "len_topic: 23\n",
      "\n"
     ]
    }
   ],
   "source": [
    "overlap_merge_view_half(2018, k = 20)"
   ]
  },
  {
   "cell_type": "code",
   "execution_count": 180,
   "metadata": {},
   "outputs": [
    {
     "name": "stdout",
     "output_type": "stream",
     "text": [
      "OVERLAP MERGING RESULT WITH CLIQUE PERCOLATION METHOD, CASCADE MODEL, SEED TOP 20 NODES AND DEG NEGATIVE THRESHOLD CALCULATION STRATEGY.\n",
      "\n",
      "['convolutional neural network', '37b25\\xa0', 'driven programming paradigm', 'differential evolution', 'lyapunov fractal', 'swarm intelligence', 'correctness (computer science)', 'closed-circuit television', 'impulse\\xa0', 'telecommunications network', 'analysis of algorithms', 'iterative method', 'optimization problem', 'numerous', 'anomaly detection', 'cognitive radio', 'multi-user', 'data compression', 'deep learning', 'throughput', 'direct method in the calculus of variations', 'support vector machine', 'computer simulation', 'memristor', 'bit error rate', 'system dynamics', 'algorithm', 'biologic preservation', 'active learning (machine learning)', 'evolutionary algorithms', 'experimental results', 'prime-factor fft algorithm', 'spectral leakage', 'training data', 'experiment', 'linear matrix inequality', 'smart battery system', 'neural network simulation', 'frequency band', 'nonlinear system', 'social inequality', 'biological neural networks', 'multitier architecture', 'semiconductor industry', 'interference (communication)', 'scheduling (computing)', 'fixed-point theorem', 'pid', 'anatomical layer', 'approximation algorithm', 'predictive failure analysis', 'entropy maximization', '92c20\\xa0', 'new data', 'crafted neuron network', 'particle swarm optimization\\xa0', 'reinforcement learning', 'particle swarm optimization', 'fuzzy control system', 'mimo', 'approximation', 'numerical analysis', 'loss function', 'critical scenarios', 'radio frequency', 'embedded system', 'machine learning', 'converge', 'artificial neural network', 'optimal control', 'expectation propagation', 'computational complexity theory', 'neural networks', 'memristor-based switching networks\\xa0', 'detection tasks', 'hearing loss high-frequency', 'hopfield network', '34c27\\xa0', 'telecommunications link', 'privacy', 'mathematical optimization', 'benchmark (computing)', 'time complexity', 'bands', 'interaction', 'spectral density', 'simulation']\n",
      "len_topic: 87\n",
      "\n",
      "['leveraging recent techniques', 'known parameters', 'transfer adversarial examples', 'adversarial examples', 'data manifold', 'adversarial examples phenomenon', 'unknown parameters', 'vision models', 'domain shift', 'recently proven successful', 'make mistakes', 'input space', 'nips 2017 competition', 'powerful framework', 'open question', 'similar mistakes', 'standard benchmark tasks', 'hidden states', 'school bus', 'machine learning models', 'small changes', 'training distribution', 'deep networks', 'deep neural networks', 'supervised learning', 'simple baselines', 'model generalization', 'leveraging unlabeled data']\n",
      "len_topic: 28\n",
      "\n"
     ]
    }
   ],
   "source": [
    "overlap_merge_view_deg_neg(2018, k = 20)"
   ]
  },
  {
   "cell_type": "markdown",
   "metadata": {},
   "source": [
    "## Overlap merge with k = 100"
   ]
  },
  {
   "cell_type": "markdown",
   "metadata": {},
   "source": [
    "Applications of all configuration of Indipendent Cascade Model with seed size 100"
   ]
  },
  {
   "cell_type": "code",
   "execution_count": 181,
   "metadata": {},
   "outputs": [],
   "source": [
    "spread_to_overlap_timeline_k(k = 100)"
   ]
  },
  {
   "cell_type": "markdown",
   "metadata": {},
   "source": [
    "### Year 2000"
   ]
  },
  {
   "cell_type": "code",
   "execution_count": 182,
   "metadata": {
    "scrolled": false
   },
   "outputs": [
    {
     "name": "stdout",
     "output_type": "stream",
     "text": [
      "OVERLAP MERGING RESULT WITH CLIQUE PERCOLATION METHOD, CASCADE MODEL, SEED TOP 100 NODES AND DEG THRESHOLD CALCULATION STRATEGY.\n",
      "\n",
      "['periodic solution', 'lyapunov functional', '43.80.+p', 'delay']\n",
      "len_topic: 4\n",
      "\n",
      "['experiment', 'feature vector', 'support vector machine']\n",
      "len_topic: 3\n",
      "\n",
      "['neural network simulation', 'artificial neural network']\n",
      "len_topic: 2\n",
      "\n",
      "['motion estimation\\xa0', 'nonlinear system', 'simulation']\n",
      "len_topic: 3\n",
      "\n"
     ]
    }
   ],
   "source": [
    "overlap_merge_view_deg(2000, k = 100)"
   ]
  },
  {
   "cell_type": "code",
   "execution_count": 183,
   "metadata": {},
   "outputs": [
    {
     "name": "stdout",
     "output_type": "stream",
     "text": [
      "OVERLAP MERGING RESULT WITH CLIQUE PERCOLATION METHOD, CASCADE MODEL, SEED TOP 100 NODES AND HALF THRESHOLD CALCULATION STRATEGY.\n",
      "\n",
      "['periodic solution', 'lyapunov functional', '43.80.+p', 'delay']\n",
      "len_topic: 4\n",
      "\n",
      "['experiment', 'feature vector', 'support vector machine']\n",
      "len_topic: 3\n",
      "\n",
      "['neural network simulation', 'artificial neural network']\n",
      "len_topic: 2\n",
      "\n",
      "['motion estimation\\xa0', 'nonlinear system', 'simulation']\n",
      "len_topic: 3\n",
      "\n"
     ]
    }
   ],
   "source": [
    "overlap_merge_view_half(2000, k = 100)"
   ]
  },
  {
   "cell_type": "code",
   "execution_count": 184,
   "metadata": {},
   "outputs": [
    {
     "name": "stdout",
     "output_type": "stream",
     "text": [
      "OVERLAP MERGING RESULT WITH CLIQUE PERCOLATION METHOD, CASCADE MODEL, SEED TOP 100 NODES AND DEG NEGATIVE THRESHOLD CALCULATION STRATEGY.\n",
      "\n",
      "['periodic solution', 'lyapunov functional', '43.80.+p', 'delay']\n",
      "len_topic: 4\n",
      "\n",
      "['experiment', 'feature vector', 'support vector machine']\n",
      "len_topic: 3\n",
      "\n",
      "['neural network simulation', 'artificial neural network']\n",
      "len_topic: 2\n",
      "\n",
      "['motion estimation\\xa0', 'nonlinear system', 'simulation']\n",
      "len_topic: 3\n",
      "\n"
     ]
    }
   ],
   "source": [
    "overlap_merge_view_deg_neg(2000, k = 100)"
   ]
  },
  {
   "cell_type": "markdown",
   "metadata": {},
   "source": [
    "### Year 2001"
   ]
  },
  {
   "cell_type": "code",
   "execution_count": 185,
   "metadata": {
    "scrolled": false
   },
   "outputs": [
    {
     "name": "stdout",
     "output_type": "stream",
     "text": [
      "OVERLAP MERGING RESULT WITH CLIQUE PERCOLATION METHOD, CASCADE MODEL, SEED TOP 100 NODES AND DEG THRESHOLD CALCULATION STRATEGY.\n",
      "\n",
      "['importance sampling\\xa0', 'markov chain monte carlo\\xa0']\n",
      "len_topic: 2\n",
      "\n",
      "['generalization (psychology)', 'projection learning', 'reproducing kernel hilbert space', 'generalization capability', 'increment', 'multilayer feedforward neural networks']\n",
      "len_topic: 6\n",
      "\n",
      "['domain ontologies', 'useful tools', 'widely acknowledged']\n",
      "len_topic: 3\n",
      "\n",
      "['feedforward neural network', 'real life', 'algorithm', 'artificial neural network', 'cluster analysis']\n",
      "len_topic: 5\n",
      "\n",
      "['state-space methods', 'particle filters', 'monte carlo methods', 'computer simulation', 'laboratories', 'deconvolution', 'filtering algorithms', 'mathematics', 'filtering', 'signal processing', 'state estimation', 'stochastic processes', 'bayesian methods', 'smoothing methods', 'fading', 'linear systems', 'signal processing algorithms']\n",
      "len_topic: 17\n",
      "\n",
      "['passage method', 's function']\n",
      "len_topic: 2\n",
      "\n",
      "['transportable machine understanding', 'formal ontologies']\n",
      "len_topic: 2\n",
      "\n"
     ]
    }
   ],
   "source": [
    "overlap_merge_view_deg(2001, k = 100)"
   ]
  },
  {
   "cell_type": "code",
   "execution_count": 186,
   "metadata": {},
   "outputs": [
    {
     "name": "stdout",
     "output_type": "stream",
     "text": [
      "OVERLAP MERGING RESULT WITH CLIQUE PERCOLATION METHOD, CASCADE MODEL, SEED TOP 100 NODES AND HALF THRESHOLD CALCULATION STRATEGY.\n",
      "\n",
      "['importance sampling\\xa0', 'markov chain monte carlo\\xa0']\n",
      "len_topic: 2\n",
      "\n",
      "['generalization (psychology)', 'projection learning', 'reproducing kernel hilbert space', 'generalization capability', 'increment', 'multilayer feedforward neural networks']\n",
      "len_topic: 6\n",
      "\n",
      "['domain ontologies', 'useful tools', 'widely acknowledged']\n",
      "len_topic: 3\n",
      "\n",
      "['feedforward neural network', 'real life', 'algorithm', 'artificial neural network', 'cluster analysis']\n",
      "len_topic: 5\n",
      "\n",
      "['state-space methods', 'particle filters', 'monte carlo methods', 'computer simulation', 'laboratories', 'deconvolution', 'filtering algorithms', 'mathematics', 'filtering', 'signal processing', 'state estimation', 'stochastic processes', 'bayesian methods', 'smoothing methods', 'fading', 'linear systems', 'signal processing algorithms']\n",
      "len_topic: 17\n",
      "\n",
      "['passage method', 's function']\n",
      "len_topic: 2\n",
      "\n",
      "['transportable machine understanding', 'formal ontologies']\n",
      "len_topic: 2\n",
      "\n"
     ]
    }
   ],
   "source": [
    "overlap_merge_view_half(2001, k = 100)"
   ]
  },
  {
   "cell_type": "code",
   "execution_count": 187,
   "metadata": {},
   "outputs": [
    {
     "name": "stdout",
     "output_type": "stream",
     "text": [
      "OVERLAP MERGING RESULT WITH CLIQUE PERCOLATION METHOD, CASCADE MODEL, SEED TOP 100 NODES AND DEG NEGATIVE THRESHOLD CALCULATION STRATEGY.\n",
      "\n",
      "['importance sampling\\xa0', 'markov chain monte carlo\\xa0']\n",
      "len_topic: 2\n",
      "\n",
      "['generalization (psychology)', 'projection learning', 'reproducing kernel hilbert space', 'generalization capability', 'increment', 'multilayer feedforward neural networks']\n",
      "len_topic: 6\n",
      "\n",
      "['domain ontologies', 'useful tools', 'widely acknowledged']\n",
      "len_topic: 3\n",
      "\n",
      "['feedforward neural network', 'real life', 'algorithm', 'artificial neural network', 'cluster analysis']\n",
      "len_topic: 5\n",
      "\n",
      "['state-space methods', 'particle filters', 'monte carlo methods', 'computer simulation', 'laboratories', 'deconvolution', 'filtering algorithms', 'mathematics', 'filtering', 'signal processing', 'state estimation', 'stochastic processes', 'bayesian methods', 'smoothing methods', 'fading', 'linear systems', 'signal processing algorithms']\n",
      "len_topic: 17\n",
      "\n",
      "['passage method', 's function']\n",
      "len_topic: 2\n",
      "\n",
      "['transportable machine understanding', 'formal ontologies']\n",
      "len_topic: 2\n",
      "\n"
     ]
    }
   ],
   "source": [
    "overlap_merge_view_deg_neg(2001, k = 100)"
   ]
  },
  {
   "cell_type": "markdown",
   "metadata": {},
   "source": [
    "### Year 2002"
   ]
  },
  {
   "cell_type": "code",
   "execution_count": 188,
   "metadata": {
    "scrolled": false
   },
   "outputs": [
    {
     "name": "stdout",
     "output_type": "stream",
     "text": [
      "OVERLAP MERGING RESULT WITH CLIQUE PERCOLATION METHOD, CASCADE MODEL, SEED TOP 100 NODES AND DEG THRESHOLD CALCULATION STRATEGY.\n",
      "\n",
      "['program product', 'intellectual property', 'patent trademark', 'organization company']\n",
      "len_topic: 4\n",
      "\n",
      "['blind source separation', 'unsupervised learning', 'overcomplete situation', 'important method', 'independent component analysis']\n",
      "len_topic: 5\n",
      "\n",
      "['monte carlo methods', 'bayesian methods', 'signal processing', 'speech processing']\n",
      "len_topic: 4\n",
      "\n",
      "['lyapunov function', 'global exponential stability']\n",
      "len_topic: 2\n",
      "\n",
      "['consider thinking', 'business models']\n",
      "len_topic: 2\n",
      "\n",
      "['filtering algorithms', 'state estimation']\n",
      "len_topic: 2\n",
      "\n"
     ]
    }
   ],
   "source": [
    "overlap_merge_view_deg(2002, k = 100)"
   ]
  },
  {
   "cell_type": "code",
   "execution_count": 189,
   "metadata": {},
   "outputs": [
    {
     "name": "stdout",
     "output_type": "stream",
     "text": [
      "OVERLAP MERGING RESULT WITH CLIQUE PERCOLATION METHOD, CASCADE MODEL, SEED TOP 100 NODES AND HALF THRESHOLD CALCULATION STRATEGY.\n",
      "\n",
      "['program product', 'intellectual property', 'patent trademark', 'organization company']\n",
      "len_topic: 4\n",
      "\n",
      "['blind source separation', 'unsupervised learning', 'overcomplete situation', 'important method', 'independent component analysis']\n",
      "len_topic: 5\n",
      "\n",
      "['monte carlo methods', 'bayesian methods', 'signal processing', 'speech processing']\n",
      "len_topic: 4\n",
      "\n",
      "['lyapunov function', 'global exponential stability']\n",
      "len_topic: 2\n",
      "\n",
      "['consider thinking', 'business models']\n",
      "len_topic: 2\n",
      "\n",
      "['filtering algorithms', 'state estimation']\n",
      "len_topic: 2\n",
      "\n"
     ]
    }
   ],
   "source": [
    "overlap_merge_view_half(2002, k = 100)"
   ]
  },
  {
   "cell_type": "code",
   "execution_count": 190,
   "metadata": {},
   "outputs": [
    {
     "name": "stdout",
     "output_type": "stream",
     "text": [
      "OVERLAP MERGING RESULT WITH CLIQUE PERCOLATION METHOD, CASCADE MODEL, SEED TOP 100 NODES AND DEG NEGATIVE THRESHOLD CALCULATION STRATEGY.\n",
      "\n",
      "['program product', 'intellectual property', 'patent trademark', 'organization company']\n",
      "len_topic: 4\n",
      "\n",
      "['blind source separation', 'unsupervised learning', 'overcomplete situation', 'important method', 'independent component analysis']\n",
      "len_topic: 5\n",
      "\n",
      "['monte carlo methods', 'bayesian methods', 'signal processing', 'speech processing']\n",
      "len_topic: 4\n",
      "\n",
      "['lyapunov function', 'global exponential stability']\n",
      "len_topic: 2\n",
      "\n",
      "['consider thinking', 'business models']\n",
      "len_topic: 2\n",
      "\n",
      "['filtering algorithms', 'state estimation']\n",
      "len_topic: 2\n",
      "\n"
     ]
    }
   ],
   "source": [
    "overlap_merge_view_deg_neg(2002, k = 100)"
   ]
  },
  {
   "cell_type": "markdown",
   "metadata": {},
   "source": [
    "### Year 2003 "
   ]
  },
  {
   "cell_type": "code",
   "execution_count": 191,
   "metadata": {},
   "outputs": [
    {
     "name": "stdout",
     "output_type": "stream",
     "text": [
      "OVERLAP MERGING RESULT WITH CLIQUE PERCOLATION METHOD, CASCADE MODEL, SEED TOP 100 NODES AND DEG THRESHOLD CALCULATION STRATEGY.\n",
      "\n",
      "['feature vector', 'algorithm', 'first-order predicate', 'really simple discovery', 'dimensionality reduction', 'singular value decomposition', 'scalability', 'heuristic', 'real life', 'pattern recognition']\n",
      "len_topic: 10\n",
      "\n",
      "['cluster representation', 'text categorization', 'combines distributional clustering', 'support vector machine', 'computed using']\n",
      "len_topic: 5\n",
      "\n",
      "['filtering', 'state-space methods', 'state estimation']\n",
      "len_topic: 3\n",
      "\n",
      "['grid computing', 'monte carlo method', 'scheduling (computing)', 'computation', 'random number generation']\n",
      "len_topic: 5\n",
      "\n",
      "['84.37.+q', 'walk on spheres (wos)', '87.15.vv', '82.20.pm']\n",
      "len_topic: 4\n",
      "\n",
      "['original bayesian approach', 'noiseless context']\n",
      "len_topic: 2\n",
      "\n",
      "['research program aiming', 'progress report', 'dolce foundational ontology', 'ontowordnet project', 'research program aimed', 'preliminary results provide', 'formal specification', 'consistent modularized']\n",
      "len_topic: 8\n",
      "\n",
      "['paper presents', 'tree independent approach', 'visual representation', 'existing techniques', 'automatic page adaptation', 'visual perception', 'web applications']\n",
      "len_topic: 7\n",
      "\n",
      "['deconvolution', 'bayesian methods', 'robustness', 'signal processing']\n",
      "len_topic: 4\n",
      "\n",
      "['periodic solution', '85.40.ls', '87.10.+e', 'global asymptotic stability', 'sufficient conditions', '87.18.sn', 'recurrent neural networks', 'lyapunov functional', '43.80.+p', 'young inequality', 'global exponential stability', 'neural networks']\n",
      "len_topic: 12\n",
      "\n",
      "['neural network', 'content-addressable memory']\n",
      "len_topic: 2\n",
      "\n"
     ]
    }
   ],
   "source": [
    "overlap_merge_view_deg(2003, k = 100)"
   ]
  },
  {
   "cell_type": "code",
   "execution_count": 192,
   "metadata": {},
   "outputs": [
    {
     "name": "stdout",
     "output_type": "stream",
     "text": [
      "OVERLAP MERGING RESULT WITH CLIQUE PERCOLATION METHOD, CASCADE MODEL, SEED TOP 100 NODES AND HALF THRESHOLD CALCULATION STRATEGY.\n",
      "\n",
      "['feature vector', 'algorithm', 'first-order predicate', 'really simple discovery', 'dimensionality reduction', 'singular value decomposition', 'scalability', 'heuristic', 'real life', 'pattern recognition']\n",
      "len_topic: 10\n",
      "\n",
      "['cluster representation', 'text categorization', 'combines distributional clustering', 'support vector machine', 'computed using']\n",
      "len_topic: 5\n",
      "\n",
      "['filtering', 'state-space methods', 'state estimation']\n",
      "len_topic: 3\n",
      "\n",
      "['grid computing', 'monte carlo method', 'scheduling (computing)', 'computation', 'random number generation']\n",
      "len_topic: 5\n",
      "\n",
      "['84.37.+q', 'walk on spheres (wos)', '87.15.vv', '82.20.pm']\n",
      "len_topic: 4\n",
      "\n",
      "['original bayesian approach', 'noiseless context']\n",
      "len_topic: 2\n",
      "\n",
      "['research program aiming', 'progress report', 'dolce foundational ontology', 'ontowordnet project', 'research program aimed', 'preliminary results provide', 'formal specification', 'consistent modularized']\n",
      "len_topic: 8\n",
      "\n",
      "['paper presents', 'tree independent approach', 'visual representation', 'existing techniques', 'automatic page adaptation', 'visual perception', 'web applications']\n",
      "len_topic: 7\n",
      "\n",
      "['deconvolution', 'bayesian methods', 'robustness', 'signal processing']\n",
      "len_topic: 4\n",
      "\n",
      "['periodic solution', '85.40.ls', '87.10.+e', 'global asymptotic stability', 'sufficient conditions', '87.18.sn', 'recurrent neural networks', 'lyapunov functional', '43.80.+p', 'young inequality', 'global exponential stability', 'neural networks']\n",
      "len_topic: 12\n",
      "\n",
      "['neural network', 'content-addressable memory']\n",
      "len_topic: 2\n",
      "\n"
     ]
    }
   ],
   "source": [
    "overlap_merge_view_half(2003, k = 100)"
   ]
  },
  {
   "cell_type": "code",
   "execution_count": 193,
   "metadata": {},
   "outputs": [
    {
     "name": "stdout",
     "output_type": "stream",
     "text": [
      "OVERLAP MERGING RESULT WITH CLIQUE PERCOLATION METHOD, CASCADE MODEL, SEED TOP 100 NODES AND DEG NEGATIVE THRESHOLD CALCULATION STRATEGY.\n",
      "\n",
      "['feature vector', 'algorithm', 'first-order predicate', 'really simple discovery', 'dimensionality reduction', 'singular value decomposition', 'scalability', 'heuristic', 'real life', 'pattern recognition']\n",
      "len_topic: 10\n",
      "\n",
      "['cluster representation', 'text categorization', 'combines distributional clustering', 'support vector machine', 'computed using']\n",
      "len_topic: 5\n",
      "\n",
      "['filtering', 'state-space methods', 'state estimation']\n",
      "len_topic: 3\n",
      "\n",
      "['grid computing', 'monte carlo method', 'scheduling (computing)', 'computation', 'random number generation']\n",
      "len_topic: 5\n",
      "\n",
      "['84.37.+q', 'walk on spheres (wos)', '87.15.vv', '82.20.pm']\n",
      "len_topic: 4\n",
      "\n",
      "['original bayesian approach', 'noiseless context']\n",
      "len_topic: 2\n",
      "\n",
      "['research program aiming', 'progress report', 'dolce foundational ontology', 'ontowordnet project', 'research program aimed', 'preliminary results provide', 'formal specification', 'consistent modularized']\n",
      "len_topic: 8\n",
      "\n",
      "['paper presents', 'tree independent approach', 'visual representation', 'existing techniques', 'automatic page adaptation', 'visual perception', 'web applications']\n",
      "len_topic: 7\n",
      "\n",
      "['deconvolution', 'bayesian methods', 'robustness', 'signal processing']\n",
      "len_topic: 4\n",
      "\n",
      "['periodic solution', '85.40.ls', '87.10.+e', 'global asymptotic stability', 'sufficient conditions', '87.18.sn', 'recurrent neural networks', 'lyapunov functional', '43.80.+p', 'young inequality', 'global exponential stability', 'neural networks']\n",
      "len_topic: 12\n",
      "\n",
      "['neural network', 'content-addressable memory']\n",
      "len_topic: 2\n",
      "\n"
     ]
    }
   ],
   "source": [
    "overlap_merge_view_deg_neg(2003, k = 100)"
   ]
  },
  {
   "cell_type": "markdown",
   "metadata": {},
   "source": [
    "### Year 2004"
   ]
  },
  {
   "cell_type": "code",
   "execution_count": 194,
   "metadata": {},
   "outputs": [
    {
     "name": "stdout",
     "output_type": "stream",
     "text": [
      "OVERLAP MERGING RESULT WITH CLIQUE PERCOLATION METHOD, CASCADE MODEL, SEED TOP 100 NODES AND DEG THRESHOLD CALCULATION STRATEGY.\n",
      "\n",
      "['semantic normalization', 'sentence pronoun resolution', 'apply cross', 'reference resolution', 'semantic graph', 'extract sentences', 'document summary', 'deep syntactic analysis', 'original document', 'summarizing document']\n",
      "len_topic: 10\n",
      "\n",
      "['certain applications', 'implementing systems', 'large number', 'real time', 'desktop workstation', 'recent advances', 'time vision']\n",
      "len_topic: 7\n",
      "\n",
      "['class', 'ant colony optimization algorithms', 'algorithm', 'biasing', 'rule (guideline)', 'roc curve', 'apriori algorithm', 'heuristic', 'real life', 'reinforcement learning', 'subgroup a nepoviruses', 'large', 'apache ant (another neat tool)', 'stochastic process', 'consortium']\n",
      "len_topic: 15\n",
      "\n",
      "['experiment', 'particle swarm optimization', 'benchmark (computing)', 'linear discriminant analysis', 'mathematical optimization']\n",
      "len_topic: 5\n",
      "\n",
      "['ontology evaluation', 'ontolearn ontology learning', 'conceptualisation effort produced', 'different learning circumstances', 'detailed quantitative analysis', 'critical task', 'domain specialists', 'knowledge engineers', 'ontology learning algorithms', 'proposed evaluation strategy', 'paper provides']\n",
      "len_topic: 11\n",
      "\n",
      "['link information', 'accurately extracted', 'block containing']\n",
      "len_topic: 3\n",
      "\n",
      "['monte carlo method', 'linear congruential generator', 'computation', 'pseudorandom number generator', 'parallel computing', 'random number generation']\n",
      "len_topic: 6\n",
      "\n",
      "['photometric stereo', 'shading', 'map', 'interpolation', 'view synthesis', 'autostereogram']\n",
      "len_topic: 6\n",
      "\n",
      "['digital images', 'images available', 'increasing demand', 'rapid growth', 'efficient method']\n",
      "len_topic: 5\n",
      "\n",
      "['consistent view', 'link analysis', 'user study', 'differentiating noisy', 'previous work shows', 'multiple segments', 'web page', 'uniform approach']\n",
      "len_topic: 8\n",
      "\n",
      "['interoperability suffers', 'digital libraries', 'fundamental ions', 'complex information systems']\n",
      "len_topic: 4\n",
      "\n",
      "['overfitting', 'test set']\n",
      "len_topic: 2\n",
      "\n",
      "['facial recognition system', 'database']\n",
      "len_topic: 2\n",
      "\n",
      "['lyapunov functional', 'bi-directional associative memory (bam)']\n",
      "len_topic: 2\n",
      "\n"
     ]
    }
   ],
   "source": [
    "overlap_merge_view_deg(2004, k = 100)"
   ]
  },
  {
   "cell_type": "code",
   "execution_count": 195,
   "metadata": {},
   "outputs": [
    {
     "name": "stdout",
     "output_type": "stream",
     "text": [
      "OVERLAP MERGING RESULT WITH CLIQUE PERCOLATION METHOD, CASCADE MODEL, SEED TOP 100 NODES AND HALF THRESHOLD CALCULATION STRATEGY.\n",
      "\n",
      "['semantic normalization', 'sentence pronoun resolution', 'apply cross', 'reference resolution', 'semantic graph', 'extract sentences', 'document summary', 'deep syntactic analysis', 'original document', 'summarizing document']\n",
      "len_topic: 10\n",
      "\n",
      "['certain applications', 'implementing systems', 'large number', 'real time', 'desktop workstation', 'recent advances', 'time vision']\n",
      "len_topic: 7\n",
      "\n",
      "['class', 'ant colony optimization algorithms', 'algorithm', 'biasing', 'rule (guideline)', 'roc curve', 'apriori algorithm', 'heuristic', 'real life', 'reinforcement learning', 'subgroup a nepoviruses', 'large', 'apache ant (another neat tool)', 'stochastic process', 'consortium']\n",
      "len_topic: 15\n",
      "\n",
      "['experiment', 'particle swarm optimization', 'benchmark (computing)', 'linear discriminant analysis', 'mathematical optimization']\n",
      "len_topic: 5\n",
      "\n",
      "['ontology evaluation', 'ontolearn ontology learning', 'conceptualisation effort produced', 'different learning circumstances', 'detailed quantitative analysis', 'critical task', 'domain specialists', 'knowledge engineers', 'ontology learning algorithms', 'proposed evaluation strategy', 'paper provides']\n",
      "len_topic: 11\n",
      "\n",
      "['link information', 'accurately extracted', 'block containing']\n",
      "len_topic: 3\n",
      "\n",
      "['monte carlo method', 'linear congruential generator', 'computation', 'pseudorandom number generator', 'parallel computing', 'random number generation']\n",
      "len_topic: 6\n",
      "\n",
      "['photometric stereo', 'shading', 'map', 'interpolation', 'view synthesis', 'autostereogram']\n",
      "len_topic: 6\n",
      "\n",
      "['digital images', 'images available', 'increasing demand', 'rapid growth', 'efficient method']\n",
      "len_topic: 5\n",
      "\n",
      "['consistent view', 'link analysis', 'user study', 'differentiating noisy', 'previous work shows', 'multiple segments', 'web page', 'uniform approach']\n",
      "len_topic: 8\n",
      "\n",
      "['interoperability suffers', 'digital libraries', 'fundamental ions', 'complex information systems']\n",
      "len_topic: 4\n",
      "\n",
      "['overfitting', 'test set']\n",
      "len_topic: 2\n",
      "\n",
      "['facial recognition system', 'database']\n",
      "len_topic: 2\n",
      "\n",
      "['lyapunov functional', 'bi-directional associative memory (bam)']\n",
      "len_topic: 2\n",
      "\n"
     ]
    }
   ],
   "source": [
    "overlap_merge_view_half(2004, k = 100)"
   ]
  },
  {
   "cell_type": "code",
   "execution_count": 196,
   "metadata": {},
   "outputs": [
    {
     "name": "stdout",
     "output_type": "stream",
     "text": [
      "OVERLAP MERGING RESULT WITH CLIQUE PERCOLATION METHOD, CASCADE MODEL, SEED TOP 100 NODES AND DEG NEGATIVE THRESHOLD CALCULATION STRATEGY.\n",
      "\n",
      "['semantic normalization', 'sentence pronoun resolution', 'apply cross', 'reference resolution', 'semantic graph', 'extract sentences', 'document summary', 'deep syntactic analysis', 'original document', 'summarizing document']\n",
      "len_topic: 10\n",
      "\n",
      "['certain applications', 'implementing systems', 'large number', 'real time', 'desktop workstation', 'recent advances', 'time vision']\n",
      "len_topic: 7\n",
      "\n",
      "['class', 'ant colony optimization algorithms', 'algorithm', 'biasing', 'rule (guideline)', 'roc curve', 'apriori algorithm', 'heuristic', 'real life', 'reinforcement learning', 'subgroup a nepoviruses', 'large', 'apache ant (another neat tool)', 'stochastic process', 'consortium']\n",
      "len_topic: 15\n",
      "\n",
      "['experiment', 'particle swarm optimization', 'benchmark (computing)', 'linear discriminant analysis', 'mathematical optimization']\n",
      "len_topic: 5\n",
      "\n",
      "['ontology evaluation', 'ontolearn ontology learning', 'conceptualisation effort produced', 'different learning circumstances', 'detailed quantitative analysis', 'critical task', 'domain specialists', 'knowledge engineers', 'ontology learning algorithms', 'proposed evaluation strategy', 'paper provides']\n",
      "len_topic: 11\n",
      "\n",
      "['link information', 'accurately extracted', 'block containing']\n",
      "len_topic: 3\n",
      "\n",
      "['monte carlo method', 'linear congruential generator', 'computation', 'pseudorandom number generator', 'parallel computing', 'random number generation']\n",
      "len_topic: 6\n",
      "\n",
      "['photometric stereo', 'shading', 'map', 'interpolation', 'view synthesis', 'autostereogram']\n",
      "len_topic: 6\n",
      "\n",
      "['digital images', 'images available', 'increasing demand', 'rapid growth', 'efficient method']\n",
      "len_topic: 5\n",
      "\n",
      "['consistent view', 'link analysis', 'user study', 'differentiating noisy', 'previous work shows', 'multiple segments', 'web page', 'uniform approach']\n",
      "len_topic: 8\n",
      "\n",
      "['interoperability suffers', 'digital libraries', 'fundamental ions', 'complex information systems']\n",
      "len_topic: 4\n",
      "\n",
      "['overfitting', 'test set']\n",
      "len_topic: 2\n",
      "\n",
      "['facial recognition system', 'database']\n",
      "len_topic: 2\n",
      "\n",
      "['lyapunov functional', 'bi-directional associative memory (bam)']\n",
      "len_topic: 2\n",
      "\n"
     ]
    }
   ],
   "source": [
    "overlap_merge_view_deg_neg(2004, k = 100)"
   ]
  },
  {
   "cell_type": "markdown",
   "metadata": {},
   "source": [
    "### Year 2005"
   ]
  },
  {
   "cell_type": "code",
   "execution_count": 197,
   "metadata": {},
   "outputs": [
    {
     "name": "stdout",
     "output_type": "stream",
     "text": [
      "OVERLAP MERGING RESULT WITH CLIQUE PERCOLATION METHOD, CASCADE MODEL, SEED TOP 100 NODES AND DEG THRESHOLD CALCULATION STRATEGY.\n",
      "\n",
      "['user specified number', 'synthetic mri', 'satellite images', 'cluster groups', 'experimental results', 'wide applicability', 'algorithm finds']\n",
      "len_topic: 7\n",
      "\n",
      "['discrete-time', 'global exponential stability', 'cellular neural networks', 'periodic solutions', 'neural networks']\n",
      "len_topic: 5\n",
      "\n",
      "['usable methodologies', 'making available large', 'methods proposed', 'aware version', 'semantic web', 'knowledge representation', 'world wide web', 'widely used standards', 'ontology building']\n",
      "len_topic: 9\n",
      "\n",
      "['adaptive enhancement', 'nonuniform lighting conditions', 'similar way', 'human eyes sensing', 'digital images captured', 'tone frequency components', 'visual quality']\n",
      "len_topic: 7\n",
      "\n",
      "['recurrent neural network', 'social inequality', 'lyapunov fractal', 'activation function', 'artificial neural network', 'neural network simulation']\n",
      "len_topic: 6\n",
      "\n",
      "['probability distribution', 'mathematics', 'state estimation']\n",
      "len_topic: 3\n",
      "\n",
      "['sliding mode control', 'statistics', 'inference algorithms', 'monte carlo methods', 'bayesian methods', 'random variables']\n",
      "len_topic: 6\n",
      "\n",
      "['global asymptotic stability', 'equilibrium point', 'linear matrix inequality']\n",
      "len_topic: 3\n",
      "\n",
      "['receiving antennas', 'gaussian approximation', 'transmitting antennas', 'mimo']\n",
      "len_topic: 4\n",
      "\n",
      "['face images', 'face recognition']\n",
      "len_topic: 2\n",
      "\n",
      "['problem domain', 'scalability']\n",
      "len_topic: 2\n",
      "\n",
      "['algorithm', 'mathematical optimization', 'benchmark (computing)', 'simulation', 'genetic algorithm', 'swarm robotics', 'particle swarm optimization', 'evolutionary computation']\n",
      "len_topic: 8\n",
      "\n",
      "['radio resources', 'coordinated management']\n",
      "len_topic: 2\n",
      "\n",
      "['related topics', 'volume brings']\n",
      "len_topic: 2\n",
      "\n",
      "['exponential stability', 'bam neural networks']\n",
      "len_topic: 2\n",
      "\n",
      "['lyapunov method', 'convex optimization']\n",
      "len_topic: 2\n",
      "\n"
     ]
    }
   ],
   "source": [
    "overlap_merge_view_deg(2005, k = 100)"
   ]
  },
  {
   "cell_type": "code",
   "execution_count": 198,
   "metadata": {},
   "outputs": [
    {
     "name": "stdout",
     "output_type": "stream",
     "text": [
      "OVERLAP MERGING RESULT WITH CLIQUE PERCOLATION METHOD, CASCADE MODEL, SEED TOP 100 NODES AND HALF THRESHOLD CALCULATION STRATEGY.\n",
      "\n",
      "['user specified number', 'synthetic mri', 'satellite images', 'cluster groups', 'experimental results', 'wide applicability', 'algorithm finds']\n",
      "len_topic: 7\n",
      "\n",
      "['discrete-time', 'global exponential stability', 'cellular neural networks', 'periodic solutions', 'neural networks']\n",
      "len_topic: 5\n",
      "\n",
      "['usable methodologies', 'making available large', 'methods proposed', 'aware version', 'semantic web', 'knowledge representation', 'world wide web', 'widely used standards', 'ontology building']\n",
      "len_topic: 9\n",
      "\n",
      "['adaptive enhancement', 'nonuniform lighting conditions', 'similar way', 'human eyes sensing', 'digital images captured', 'tone frequency components', 'visual quality']\n",
      "len_topic: 7\n",
      "\n",
      "['recurrent neural network', 'social inequality', 'lyapunov fractal', 'activation function', 'artificial neural network', 'neural network simulation']\n",
      "len_topic: 6\n",
      "\n",
      "['probability distribution', 'mathematics', 'state estimation']\n",
      "len_topic: 3\n",
      "\n",
      "['sliding mode control', 'statistics', 'inference algorithms', 'monte carlo methods', 'bayesian methods', 'random variables']\n",
      "len_topic: 6\n",
      "\n",
      "['global asymptotic stability', 'equilibrium point', 'linear matrix inequality']\n",
      "len_topic: 3\n",
      "\n",
      "['receiving antennas', 'gaussian approximation', 'transmitting antennas', 'mimo']\n",
      "len_topic: 4\n",
      "\n",
      "['face images', 'face recognition']\n",
      "len_topic: 2\n",
      "\n",
      "['problem domain', 'scalability']\n",
      "len_topic: 2\n",
      "\n",
      "['algorithm', 'mathematical optimization', 'benchmark (computing)', 'simulation', 'genetic algorithm', 'swarm robotics', 'particle swarm optimization', 'evolutionary computation']\n",
      "len_topic: 8\n",
      "\n",
      "['radio resources', 'coordinated management']\n",
      "len_topic: 2\n",
      "\n",
      "['related topics', 'volume brings']\n",
      "len_topic: 2\n",
      "\n",
      "['exponential stability', 'bam neural networks']\n",
      "len_topic: 2\n",
      "\n",
      "['lyapunov method', 'convex optimization']\n",
      "len_topic: 2\n",
      "\n"
     ]
    }
   ],
   "source": [
    "overlap_merge_view_half(2005, k = 100)"
   ]
  },
  {
   "cell_type": "code",
   "execution_count": 199,
   "metadata": {},
   "outputs": [
    {
     "name": "stdout",
     "output_type": "stream",
     "text": [
      "OVERLAP MERGING RESULT WITH CLIQUE PERCOLATION METHOD, CASCADE MODEL, SEED TOP 100 NODES AND DEG NEGATIVE THRESHOLD CALCULATION STRATEGY.\n",
      "\n",
      "['user specified number', 'synthetic mri', 'satellite images', 'cluster groups', 'experimental results', 'wide applicability', 'algorithm finds']\n",
      "len_topic: 7\n",
      "\n",
      "['discrete-time', 'global exponential stability', 'cellular neural networks', 'periodic solutions', 'neural networks']\n",
      "len_topic: 5\n",
      "\n",
      "['usable methodologies', 'making available large', 'methods proposed', 'aware version', 'semantic web', 'knowledge representation', 'world wide web', 'widely used standards', 'ontology building']\n",
      "len_topic: 9\n",
      "\n",
      "['adaptive enhancement', 'nonuniform lighting conditions', 'similar way', 'human eyes sensing', 'digital images captured', 'tone frequency components', 'visual quality']\n",
      "len_topic: 7\n",
      "\n",
      "['recurrent neural network', 'social inequality', 'lyapunov fractal', 'activation function', 'artificial neural network', 'neural network simulation']\n",
      "len_topic: 6\n",
      "\n",
      "['probability distribution', 'mathematics', 'state estimation']\n",
      "len_topic: 3\n",
      "\n",
      "['sliding mode control', 'statistics', 'inference algorithms', 'monte carlo methods', 'bayesian methods', 'random variables']\n",
      "len_topic: 6\n",
      "\n",
      "['global asymptotic stability', 'equilibrium point', 'linear matrix inequality']\n",
      "len_topic: 3\n",
      "\n",
      "['receiving antennas', 'gaussian approximation', 'transmitting antennas', 'mimo']\n",
      "len_topic: 4\n",
      "\n",
      "['face images', 'face recognition']\n",
      "len_topic: 2\n",
      "\n",
      "['problem domain', 'scalability']\n",
      "len_topic: 2\n",
      "\n",
      "['algorithm', 'mathematical optimization', 'benchmark (computing)', 'simulation', 'genetic algorithm', 'swarm robotics', 'particle swarm optimization', 'evolutionary computation']\n",
      "len_topic: 8\n",
      "\n",
      "['radio resources', 'coordinated management']\n",
      "len_topic: 2\n",
      "\n",
      "['related topics', 'volume brings']\n",
      "len_topic: 2\n",
      "\n",
      "['exponential stability', 'bam neural networks']\n",
      "len_topic: 2\n",
      "\n",
      "['lyapunov method', 'convex optimization']\n",
      "len_topic: 2\n",
      "\n"
     ]
    }
   ],
   "source": [
    "overlap_merge_view_deg_neg(2005, k = 100)"
   ]
  },
  {
   "cell_type": "markdown",
   "metadata": {},
   "source": [
    "### Year 2006"
   ]
  },
  {
   "cell_type": "code",
   "execution_count": 200,
   "metadata": {},
   "outputs": [
    {
     "name": "stdout",
     "output_type": "stream",
     "text": [
      "OVERLAP MERGING RESULT WITH CLIQUE PERCOLATION METHOD, CASCADE MODEL, SEED TOP 100 NODES AND DEG THRESHOLD CALCULATION STRATEGY.\n",
      "\n",
      "['discrete delays', 'numerical analysis', 'experiment', 'global asymptotic stability', 'linear matrix inequality', 'linear discriminant analysis', 'machine learning', 'lyapunov fractal', 'distributed delays', 'lyapunov–krasovskii functional', 'global exponential stability', 'artificial neural network', 'quantum', 'cohen–grossberg neural network', 'neural networks', 'time delays', 'periodic solution', 'uncertain systems', 'computationally efficient', 'variational principle', 'algorithm', 'discrete and distributed delays', 'sufficient conditions', 'computation', 'hessian', 'stochastic systems', 'hopfield neural networks', 'optimization problem', 'particle swarm optimization', 'gradient', 'time-varying delays']\n",
      "len_topic: 31\n",
      "\n",
      "['feedback control', 'globally asymptotic stability', 'permanence', 'lyapunov function', '34d40', '34c25', 'upper average', 'lower average', 'primary 34c05']\n",
      "len_topic: 9\n",
      "\n",
      "['standard defines', 'compliant information systems', 'currently different standards', 'information models']\n",
      "len_topic: 4\n",
      "\n",
      "['finite-state machine', 'mathematical induction', 'feature vector']\n",
      "len_topic: 3\n",
      "\n",
      "['cognitive radio', 'phy (chip)']\n",
      "len_topic: 2\n",
      "\n",
      "['paper presents', 'frw method']\n",
      "len_topic: 2\n",
      "\n",
      "['delicate anatomical structures', 'strongly challenging', 'paper refers', 'tiny space', 'biomedical application', 'arachnoid spinal space']\n",
      "len_topic: 6\n",
      "\n",
      "['search engines', 'ontology libraries']\n",
      "len_topic: 2\n",
      "\n",
      "['ontology learning\\xa0', 'core ontology\\xa0']\n",
      "len_topic: 2\n",
      "\n"
     ]
    }
   ],
   "source": [
    "overlap_merge_view_deg(2006, k = 100)"
   ]
  },
  {
   "cell_type": "code",
   "execution_count": 201,
   "metadata": {},
   "outputs": [
    {
     "name": "stdout",
     "output_type": "stream",
     "text": [
      "OVERLAP MERGING RESULT WITH CLIQUE PERCOLATION METHOD, CASCADE MODEL, SEED TOP 100 NODES AND HALF THRESHOLD CALCULATION STRATEGY.\n",
      "\n",
      "['discrete delays', 'numerical analysis', 'experiment', 'global asymptotic stability', 'linear matrix inequality', 'linear discriminant analysis', 'machine learning', 'lyapunov fractal', 'distributed delays', 'lyapunov–krasovskii functional', 'global exponential stability', 'artificial neural network', 'quantum', 'cohen–grossberg neural network', 'neural networks', 'time delays', 'periodic solution', 'uncertain systems', 'computationally efficient', 'variational principle', 'algorithm', 'discrete and distributed delays', 'sufficient conditions', 'computation', 'hessian', 'stochastic systems', 'hopfield neural networks', 'optimization problem', 'particle swarm optimization', 'gradient', 'time-varying delays']\n",
      "len_topic: 31\n",
      "\n",
      "['feedback control', 'globally asymptotic stability', 'permanence', 'lyapunov function', '34d40', '34c25', 'upper average', 'lower average', 'primary 34c05']\n",
      "len_topic: 9\n",
      "\n",
      "['standard defines', 'compliant information systems', 'currently different standards', 'information models']\n",
      "len_topic: 4\n",
      "\n",
      "['finite-state machine', 'mathematical induction', 'feature vector']\n",
      "len_topic: 3\n",
      "\n",
      "['cognitive radio', 'phy (chip)']\n",
      "len_topic: 2\n",
      "\n",
      "['paper presents', 'frw method']\n",
      "len_topic: 2\n",
      "\n",
      "['delicate anatomical structures', 'strongly challenging', 'paper refers', 'tiny space', 'biomedical application', 'arachnoid spinal space']\n",
      "len_topic: 6\n",
      "\n",
      "['search engines', 'ontology libraries']\n",
      "len_topic: 2\n",
      "\n",
      "['ontology learning\\xa0', 'core ontology\\xa0']\n",
      "len_topic: 2\n",
      "\n"
     ]
    }
   ],
   "source": [
    "overlap_merge_view_half(2006, k = 100)"
   ]
  },
  {
   "cell_type": "code",
   "execution_count": 202,
   "metadata": {},
   "outputs": [
    {
     "name": "stdout",
     "output_type": "stream",
     "text": [
      "OVERLAP MERGING RESULT WITH CLIQUE PERCOLATION METHOD, CASCADE MODEL, SEED TOP 100 NODES AND DEG NEGATIVE THRESHOLD CALCULATION STRATEGY.\n",
      "\n",
      "['discrete delays', 'numerical analysis', 'experiment', 'global asymptotic stability', 'linear matrix inequality', 'linear discriminant analysis', 'machine learning', 'lyapunov fractal', 'distributed delays', 'lyapunov–krasovskii functional', 'global exponential stability', 'artificial neural network', 'quantum', 'cohen–grossberg neural network', 'neural networks', 'time delays', 'periodic solution', 'uncertain systems', 'computationally efficient', 'variational principle', 'algorithm', 'discrete and distributed delays', 'sufficient conditions', 'computation', 'hessian', 'stochastic systems', 'hopfield neural networks', 'optimization problem', 'particle swarm optimization', 'gradient', 'time-varying delays']\n",
      "len_topic: 31\n",
      "\n",
      "['feedback control', 'globally asymptotic stability', 'permanence', 'lyapunov function', '34d40', '34c25', 'upper average', 'lower average', 'primary 34c05']\n",
      "len_topic: 9\n",
      "\n",
      "['standard defines', 'compliant information systems', 'currently different standards', 'information models']\n",
      "len_topic: 4\n",
      "\n",
      "['finite-state machine', 'mathematical induction', 'feature vector']\n",
      "len_topic: 3\n",
      "\n",
      "['cognitive radio', 'phy (chip)']\n",
      "len_topic: 2\n",
      "\n",
      "['paper presents', 'frw method']\n",
      "len_topic: 2\n",
      "\n",
      "['delicate anatomical structures', 'strongly challenging', 'paper refers', 'tiny space', 'biomedical application', 'arachnoid spinal space']\n",
      "len_topic: 6\n",
      "\n",
      "['search engines', 'ontology libraries']\n",
      "len_topic: 2\n",
      "\n",
      "['ontology learning\\xa0', 'core ontology\\xa0']\n",
      "len_topic: 2\n",
      "\n"
     ]
    }
   ],
   "source": [
    "overlap_merge_view_deg_neg(2006, k = 100)"
   ]
  },
  {
   "cell_type": "markdown",
   "metadata": {},
   "source": [
    "### Year 2007"
   ]
  },
  {
   "cell_type": "code",
   "execution_count": 203,
   "metadata": {},
   "outputs": [
    {
     "name": "stdout",
     "output_type": "stream",
     "text": [
      "OVERLAP MERGING RESULT WITH CLIQUE PERCOLATION METHOD, CASCADE MODEL, SEED TOP 100 NODES AND DEG THRESHOLD CALCULATION STRATEGY.\n",
      "\n",
      "['numerical analysis', 'velocity (software development)', 'particle swarm optimization', 'evolutionary algorithm', 'mathematical optimization']\n",
      "len_topic: 5\n",
      "\n",
      "['information retrieval', 'experimental results']\n",
      "len_topic: 2\n",
      "\n",
      "['linear matrix inequality', 'neural network simulation', 'social inequality', 'lyapunov fractal', 'distributed delays', 'lyapunov–krasovskii functional', 'artificial neural network', 'lag synchronization', 'chaos', 'bidirectional associative memory neural networks', 'lyapunov functional', 'rate of convergence', 'cohen–grossberg neural networks', 'bidirectional associative memory', 'content-addressable memory', 'synchronization', 'time-varying delays']\n",
      "len_topic: 17\n",
      "\n",
      "['human colon', 'endoscopic technique']\n",
      "len_topic: 2\n",
      "\n",
      "['substantially contribute', 'illegal trade']\n",
      "len_topic: 2\n",
      "\n",
      "['entry points', 'web forms']\n",
      "len_topic: 2\n",
      "\n",
      "['multidimensional domains', 'widely used', 'estimating integrals', 'monte carlo', 'scientific computation especially']\n",
      "len_topic: 5\n",
      "\n",
      "['mean square asymptotic stability', 'lasalle invariance principle']\n",
      "len_topic: 2\n",
      "\n",
      "['multiplier-less architecture', 'logarithmic domain computation']\n",
      "len_topic: 2\n",
      "\n",
      "['fuzzy logic control', 'paper focuses', 'fuzzy multi', 'mobility management']\n",
      "len_topic: 4\n",
      "\n",
      "['varying delay', 'varying delays', 'e systems']\n",
      "len_topic: 3\n",
      "\n",
      "['genetic algorithm', 'fuzzy rule']\n",
      "len_topic: 2\n",
      "\n"
     ]
    }
   ],
   "source": [
    "overlap_merge_view_deg(2007, k = 100)"
   ]
  },
  {
   "cell_type": "code",
   "execution_count": 204,
   "metadata": {},
   "outputs": [
    {
     "name": "stdout",
     "output_type": "stream",
     "text": [
      "OVERLAP MERGING RESULT WITH CLIQUE PERCOLATION METHOD, CASCADE MODEL, SEED TOP 100 NODES AND HALF THRESHOLD CALCULATION STRATEGY.\n",
      "\n",
      "['numerical analysis', 'velocity (software development)', 'particle swarm optimization', 'evolutionary algorithm', 'mathematical optimization']\n",
      "len_topic: 5\n",
      "\n",
      "['information retrieval', 'experimental results']\n",
      "len_topic: 2\n",
      "\n",
      "['linear matrix inequality', 'neural network simulation', 'social inequality', 'lyapunov fractal', 'distributed delays', 'lyapunov–krasovskii functional', 'artificial neural network', 'lag synchronization', 'chaos', 'bidirectional associative memory neural networks', 'lyapunov functional', 'rate of convergence', 'cohen–grossberg neural networks', 'bidirectional associative memory', 'content-addressable memory', 'synchronization', 'time-varying delays']\n",
      "len_topic: 17\n",
      "\n",
      "['human colon', 'endoscopic technique']\n",
      "len_topic: 2\n",
      "\n",
      "['substantially contribute', 'illegal trade']\n",
      "len_topic: 2\n",
      "\n",
      "['entry points', 'web forms']\n",
      "len_topic: 2\n",
      "\n",
      "['multidimensional domains', 'widely used', 'estimating integrals', 'monte carlo', 'scientific computation especially']\n",
      "len_topic: 5\n",
      "\n",
      "['mean square asymptotic stability', 'lasalle invariance principle']\n",
      "len_topic: 2\n",
      "\n",
      "['multiplier-less architecture', 'logarithmic domain computation']\n",
      "len_topic: 2\n",
      "\n",
      "['fuzzy logic control', 'paper focuses', 'fuzzy multi', 'mobility management']\n",
      "len_topic: 4\n",
      "\n",
      "['varying delay', 'varying delays', 'e systems']\n",
      "len_topic: 3\n",
      "\n",
      "['genetic algorithm', 'fuzzy rule']\n",
      "len_topic: 2\n",
      "\n"
     ]
    }
   ],
   "source": [
    "overlap_merge_view_half(2007, k = 100)"
   ]
  },
  {
   "cell_type": "code",
   "execution_count": 205,
   "metadata": {},
   "outputs": [
    {
     "name": "stdout",
     "output_type": "stream",
     "text": [
      "OVERLAP MERGING RESULT WITH CLIQUE PERCOLATION METHOD, CASCADE MODEL, SEED TOP 100 NODES AND DEG NEGATIVE THRESHOLD CALCULATION STRATEGY.\n",
      "\n",
      "['numerical analysis', 'velocity (software development)', 'particle swarm optimization', 'evolutionary algorithm', 'mathematical optimization']\n",
      "len_topic: 5\n",
      "\n",
      "['information retrieval', 'experimental results']\n",
      "len_topic: 2\n",
      "\n",
      "['linear matrix inequality', 'neural network simulation', 'social inequality', 'lyapunov fractal', 'distributed delays', 'lyapunov–krasovskii functional', 'artificial neural network', 'lag synchronization', 'chaos', 'bidirectional associative memory neural networks', 'lyapunov functional', 'rate of convergence', 'cohen–grossberg neural networks', 'bidirectional associative memory', 'content-addressable memory', 'synchronization', 'time-varying delays']\n",
      "len_topic: 17\n",
      "\n",
      "['human colon', 'endoscopic technique']\n",
      "len_topic: 2\n",
      "\n",
      "['substantially contribute', 'illegal trade']\n",
      "len_topic: 2\n",
      "\n",
      "['entry points', 'web forms']\n",
      "len_topic: 2\n",
      "\n",
      "['multidimensional domains', 'widely used', 'estimating integrals', 'monte carlo', 'scientific computation especially']\n",
      "len_topic: 5\n",
      "\n",
      "['mean square asymptotic stability', 'lasalle invariance principle']\n",
      "len_topic: 2\n",
      "\n",
      "['multiplier-less architecture', 'logarithmic domain computation']\n",
      "len_topic: 2\n",
      "\n",
      "['fuzzy logic control', 'paper focuses', 'fuzzy multi', 'mobility management']\n",
      "len_topic: 4\n",
      "\n",
      "['varying delay', 'varying delays', 'e systems']\n",
      "len_topic: 3\n",
      "\n",
      "['genetic algorithm', 'fuzzy rule']\n",
      "len_topic: 2\n",
      "\n"
     ]
    }
   ],
   "source": [
    "overlap_merge_view_deg_neg(2007, k = 100)"
   ]
  },
  {
   "cell_type": "markdown",
   "metadata": {},
   "source": [
    "### Year 2008"
   ]
  },
  {
   "cell_type": "code",
   "execution_count": 206,
   "metadata": {},
   "outputs": [
    {
     "name": "stdout",
     "output_type": "stream",
     "text": [
      "OVERLAP MERGING RESULT WITH CLIQUE PERCOLATION METHOD, CASCADE MODEL, SEED TOP 100 NODES AND DEG THRESHOLD CALCULATION STRATEGY.\n",
      "\n",
      "['continuous optimization', 'chaos theory']\n",
      "len_topic: 2\n",
      "\n",
      "['subgroup discovery', 'image scaling', 'instance selection', 'selection algorithm']\n",
      "len_topic: 4\n",
      "\n",
      "['krasovskii functional', 'distributed time', 'matlab lmi toolbox']\n",
      "len_topic: 3\n",
      "\n",
      "['throughput', 'systems architecture', 'algorithm', 'user interface', 'relay', 'computation', 'ici (programming language)', 'signal-to-interference-plus-noise ratio', 'simulation', 'interference (communication)', 'cognitive radio', 'multi-user']\n",
      "len_topic: 12\n",
      "\n",
      "['heterogeneous networks', 'femto cell']\n",
      "len_topic: 2\n",
      "\n",
      "['new wavelet', 'wavelet transform', 'approximation coefficients', 'dimension reduction', 'dynamic range compression']\n",
      "len_topic: 5\n",
      "\n",
      "['numerical analysis', 'exponential', 'global optimization', 'global asymptotic stability', 'lyapunov method', 'linear matrix inequality', 'unbounded distributed delays', 'rate of convergence', 'mathematical optimization', 'social inequality', 'varying delays', 'biological neural networks', 'lyapunov fractal', 'artificial neural network', 'lyapunov–krasovskii functional', 'neural networks', 'exponential stability']\n",
      "len_topic: 17\n",
      "\n",
      "['adaptive technique', 'image enhancement based', 'color restoration', 'enhancement technique constitutes']\n",
      "len_topic: 4\n",
      "\n",
      "['access network selection', 'promising access network']\n",
      "len_topic: 2\n",
      "\n",
      "['markov chain', 'markov decision process']\n",
      "len_topic: 2\n",
      "\n",
      "['89.75.kd', 'multistability', '07.05.mh']\n",
      "len_topic: 3\n",
      "\n",
      "['stochastic neural networks', 'time-varying delays']\n",
      "len_topic: 2\n",
      "\n",
      "['formal context\\xa0', 'description logic\\xa0', 'concept lattice\\xa0', 'domain ontology\\xa0']\n",
      "len_topic: 4\n",
      "\n",
      "['water distribution', 'injected contaminant']\n",
      "len_topic: 2\n",
      "\n",
      "['task cluster', 'paper presents', 'lingual information access', 'advanced cross']\n",
      "len_topic: 4\n",
      "\n",
      "['eigen faces', 'popular method', 'using eigen faces', 'face recognition', 'face database']\n",
      "len_topic: 5\n",
      "\n",
      "['responsive web pages', 'scored based', 'assists users', 'criteria according', 'query server accesses', 'product offering', 'locate pages', 'crawler program', 'specified products', 'search engine', 'scored web pages', 'web pages located', 's search query', 'locating web pages']\n",
      "len_topic: 14\n",
      "\n",
      "['sparse matrix', 'pixel', 'optical flow']\n",
      "len_topic: 3\n",
      "\n"
     ]
    }
   ],
   "source": [
    "overlap_merge_view_deg(2008, k = 100)"
   ]
  },
  {
   "cell_type": "code",
   "execution_count": 207,
   "metadata": {},
   "outputs": [
    {
     "name": "stdout",
     "output_type": "stream",
     "text": [
      "OVERLAP MERGING RESULT WITH CLIQUE PERCOLATION METHOD, CASCADE MODEL, SEED TOP 100 NODES AND HALF THRESHOLD CALCULATION STRATEGY.\n",
      "\n",
      "['continuous optimization', 'chaos theory']\n",
      "len_topic: 2\n",
      "\n",
      "['subgroup discovery', 'image scaling', 'instance selection', 'selection algorithm']\n",
      "len_topic: 4\n",
      "\n",
      "['krasovskii functional', 'distributed time', 'matlab lmi toolbox']\n",
      "len_topic: 3\n",
      "\n",
      "['throughput', 'systems architecture', 'algorithm', 'user interface', 'relay', 'computation', 'ici (programming language)', 'signal-to-interference-plus-noise ratio', 'simulation', 'interference (communication)', 'cognitive radio', 'multi-user']\n",
      "len_topic: 12\n",
      "\n",
      "['heterogeneous networks', 'femto cell']\n",
      "len_topic: 2\n",
      "\n",
      "['new wavelet', 'wavelet transform', 'approximation coefficients', 'dimension reduction', 'dynamic range compression']\n",
      "len_topic: 5\n",
      "\n",
      "['numerical analysis', 'exponential', 'global optimization', 'global asymptotic stability', 'lyapunov method', 'linear matrix inequality', 'unbounded distributed delays', 'rate of convergence', 'mathematical optimization', 'social inequality', 'varying delays', 'biological neural networks', 'lyapunov fractal', 'artificial neural network', 'lyapunov–krasovskii functional', 'neural networks', 'exponential stability']\n",
      "len_topic: 17\n",
      "\n",
      "['adaptive technique', 'image enhancement based', 'color restoration', 'enhancement technique constitutes']\n",
      "len_topic: 4\n",
      "\n",
      "['access network selection', 'promising access network']\n",
      "len_topic: 2\n",
      "\n",
      "['markov chain', 'markov decision process']\n",
      "len_topic: 2\n",
      "\n",
      "['89.75.kd', 'multistability', '07.05.mh']\n",
      "len_topic: 3\n",
      "\n",
      "['stochastic neural networks', 'time-varying delays']\n",
      "len_topic: 2\n",
      "\n",
      "['formal context\\xa0', 'description logic\\xa0', 'concept lattice\\xa0', 'domain ontology\\xa0']\n",
      "len_topic: 4\n",
      "\n",
      "['water distribution', 'injected contaminant']\n",
      "len_topic: 2\n",
      "\n",
      "['task cluster', 'paper presents', 'lingual information access', 'advanced cross']\n",
      "len_topic: 4\n",
      "\n",
      "['eigen faces', 'popular method', 'using eigen faces', 'face recognition', 'face database']\n",
      "len_topic: 5\n",
      "\n",
      "['responsive web pages', 'scored based', 'assists users', 'criteria according', 'query server accesses', 'product offering', 'locate pages', 'crawler program', 'specified products', 'search engine', 'scored web pages', 'web pages located', 's search query', 'locating web pages']\n",
      "len_topic: 14\n",
      "\n",
      "['sparse matrix', 'pixel', 'optical flow']\n",
      "len_topic: 3\n",
      "\n"
     ]
    }
   ],
   "source": [
    "overlap_merge_view_half(2008, k = 100)"
   ]
  },
  {
   "cell_type": "code",
   "execution_count": 208,
   "metadata": {},
   "outputs": [
    {
     "name": "stdout",
     "output_type": "stream",
     "text": [
      "OVERLAP MERGING RESULT WITH CLIQUE PERCOLATION METHOD, CASCADE MODEL, SEED TOP 100 NODES AND DEG NEGATIVE THRESHOLD CALCULATION STRATEGY.\n",
      "\n",
      "['continuous optimization', 'chaos theory']\n",
      "len_topic: 2\n",
      "\n",
      "['subgroup discovery', 'image scaling', 'instance selection', 'selection algorithm']\n",
      "len_topic: 4\n",
      "\n",
      "['krasovskii functional', 'distributed time', 'matlab lmi toolbox']\n",
      "len_topic: 3\n",
      "\n",
      "['throughput', 'systems architecture', 'algorithm', 'user interface', 'relay', 'computation', 'ici (programming language)', 'signal-to-interference-plus-noise ratio', 'simulation', 'interference (communication)', 'cognitive radio', 'multi-user']\n",
      "len_topic: 12\n",
      "\n",
      "['heterogeneous networks', 'femto cell']\n",
      "len_topic: 2\n",
      "\n",
      "['new wavelet', 'wavelet transform', 'approximation coefficients', 'dimension reduction', 'dynamic range compression']\n",
      "len_topic: 5\n",
      "\n",
      "['numerical analysis', 'exponential', 'global optimization', 'global asymptotic stability', 'lyapunov method', 'linear matrix inequality', 'unbounded distributed delays', 'rate of convergence', 'mathematical optimization', 'social inequality', 'varying delays', 'biological neural networks', 'lyapunov fractal', 'artificial neural network', 'lyapunov–krasovskii functional', 'neural networks', 'exponential stability']\n",
      "len_topic: 17\n",
      "\n",
      "['adaptive technique', 'image enhancement based', 'color restoration', 'enhancement technique constitutes']\n",
      "len_topic: 4\n",
      "\n",
      "['access network selection', 'promising access network']\n",
      "len_topic: 2\n",
      "\n",
      "['markov chain', 'markov decision process']\n",
      "len_topic: 2\n",
      "\n",
      "['89.75.kd', 'multistability', '07.05.mh']\n",
      "len_topic: 3\n",
      "\n",
      "['stochastic neural networks', 'time-varying delays']\n",
      "len_topic: 2\n",
      "\n",
      "['formal context\\xa0', 'description logic\\xa0', 'concept lattice\\xa0', 'domain ontology\\xa0']\n",
      "len_topic: 4\n",
      "\n",
      "['water distribution', 'injected contaminant']\n",
      "len_topic: 2\n",
      "\n",
      "['task cluster', 'paper presents', 'lingual information access', 'advanced cross']\n",
      "len_topic: 4\n",
      "\n",
      "['eigen faces', 'popular method', 'using eigen faces', 'face recognition', 'face database']\n",
      "len_topic: 5\n",
      "\n",
      "['responsive web pages', 'scored based', 'assists users', 'criteria according', 'query server accesses', 'product offering', 'locate pages', 'crawler program', 'specified products', 'search engine', 'scored web pages', 'web pages located', 's search query', 'locating web pages']\n",
      "len_topic: 14\n",
      "\n",
      "['sparse matrix', 'pixel', 'optical flow']\n",
      "len_topic: 3\n",
      "\n"
     ]
    }
   ],
   "source": [
    "overlap_merge_view_deg_neg(2008, k = 100)"
   ]
  },
  {
   "cell_type": "markdown",
   "metadata": {},
   "source": [
    "### Year 2009"
   ]
  },
  {
   "cell_type": "code",
   "execution_count": 209,
   "metadata": {},
   "outputs": [
    {
     "name": "stdout",
     "output_type": "stream",
     "text": [
      "OVERLAP MERGING RESULT WITH CLIQUE PERCOLATION METHOD, CASCADE MODEL, SEED TOP 100 NODES AND DEG THRESHOLD CALCULATION STRATEGY.\n",
      "\n",
      "['92b20', '34k14']\n",
      "len_topic: 2\n",
      "\n",
      "['social inequality', 'lyapunov method', 'linear matrix inequality', 'neural networks']\n",
      "len_topic: 4\n",
      "\n",
      "['paper presents', 'cognitive radios']\n",
      "len_topic: 2\n",
      "\n",
      "['frequency allocation', 'interference (communication)', 'cognitive radio', 'frequency band']\n",
      "len_topic: 4\n",
      "\n",
      "['information diffusion', 'blog network']\n",
      "len_topic: 2\n",
      "\n",
      "['desirable property', 'dual sparsity', 'real data sets', 'style algorithm', 'margin markov network']\n",
      "len_topic: 5\n",
      "\n",
      "['semantic filexa0…', 'manual entry', 'improved organization', 'attribute information', 'semantic attributes', 'semantic information', 'semantic attributes allows', 'automatically generated']\n",
      "len_topic: 8\n",
      "\n",
      "['significant information resource', 'inhospitable region', 'kosmix approach', 'conventional web search', 'deep web', 'information discovery', 'new approach', 'web crawlers']\n",
      "len_topic: 8\n",
      "\n",
      "['biological neural networks', 'artificial neural network']\n",
      "len_topic: 2\n",
      "\n",
      "['05.45.gg', '05.45.vx', '05.45.xt', 'complex networks']\n",
      "len_topic: 4\n",
      "\n",
      "['web forums', 'web applications']\n",
      "len_topic: 2\n",
      "\n",
      "['adaptive neuro fuzzy inference system', 'data mining\\xa0', 'recursion', 'hybrid learning algorithm', 'stability analysis', 'recursive least squares filter', 'differential evolution', 'machine learning', 'lyapunov fractal', 'gradient descent', 'test suite', '3d modeling', 'system identifier', 'anfis', 'evolutionary algorithm', 'disjunctive normal form', 'fuzzy rule', 'identification', 'global optimization', 'algorithm', 'aliasing', 'rate of convergence', 'optimization problem', 'mathematical optimization', 'reinforcement learning', 'particle swarm optimization', 'simulation']\n",
      "len_topic: 27\n",
      "\n",
      "['distributed delay', 'lyapunov functional']\n",
      "len_topic: 2\n",
      "\n",
      "['visual quality', 'digital images captured']\n",
      "len_topic: 2\n",
      "\n"
     ]
    }
   ],
   "source": [
    "overlap_merge_view_deg(2009, k = 100)"
   ]
  },
  {
   "cell_type": "code",
   "execution_count": 210,
   "metadata": {},
   "outputs": [
    {
     "name": "stdout",
     "output_type": "stream",
     "text": [
      "OVERLAP MERGING RESULT WITH CLIQUE PERCOLATION METHOD, CASCADE MODEL, SEED TOP 100 NODES AND HALF THRESHOLD CALCULATION STRATEGY.\n",
      "\n",
      "['92b20', '34k14']\n",
      "len_topic: 2\n",
      "\n",
      "['social inequality', 'lyapunov method', 'linear matrix inequality', 'neural networks']\n",
      "len_topic: 4\n",
      "\n",
      "['paper presents', 'cognitive radios']\n",
      "len_topic: 2\n",
      "\n",
      "['frequency allocation', 'interference (communication)', 'cognitive radio', 'frequency band']\n",
      "len_topic: 4\n",
      "\n",
      "['information diffusion', 'blog network']\n",
      "len_topic: 2\n",
      "\n",
      "['desirable property', 'dual sparsity', 'real data sets', 'style algorithm', 'margin markov network']\n",
      "len_topic: 5\n",
      "\n",
      "['semantic filexa0…', 'manual entry', 'improved organization', 'attribute information', 'semantic attributes', 'semantic information', 'semantic attributes allows', 'automatically generated']\n",
      "len_topic: 8\n",
      "\n",
      "['significant information resource', 'inhospitable region', 'kosmix approach', 'conventional web search', 'deep web', 'information discovery', 'new approach', 'web crawlers']\n",
      "len_topic: 8\n",
      "\n",
      "['biological neural networks', 'artificial neural network']\n",
      "len_topic: 2\n",
      "\n",
      "['05.45.gg', '05.45.vx', '05.45.xt', 'complex networks']\n",
      "len_topic: 4\n",
      "\n",
      "['web forums', 'web applications']\n",
      "len_topic: 2\n",
      "\n",
      "['adaptive neuro fuzzy inference system', 'data mining\\xa0', 'recursion', 'hybrid learning algorithm', 'stability analysis', 'recursive least squares filter', 'differential evolution', 'machine learning', 'lyapunov fractal', 'gradient descent', 'test suite', '3d modeling', 'system identifier', 'anfis', 'evolutionary algorithm', 'disjunctive normal form', 'fuzzy rule', 'identification', 'global optimization', 'algorithm', 'aliasing', 'rate of convergence', 'optimization problem', 'mathematical optimization', 'reinforcement learning', 'particle swarm optimization', 'simulation']\n",
      "len_topic: 27\n",
      "\n",
      "['distributed delay', 'lyapunov functional']\n",
      "len_topic: 2\n",
      "\n",
      "['visual quality', 'digital images captured']\n",
      "len_topic: 2\n",
      "\n"
     ]
    }
   ],
   "source": [
    "overlap_merge_view_half(2009, k = 100)"
   ]
  },
  {
   "cell_type": "code",
   "execution_count": 211,
   "metadata": {},
   "outputs": [
    {
     "name": "stdout",
     "output_type": "stream",
     "text": [
      "OVERLAP MERGING RESULT WITH CLIQUE PERCOLATION METHOD, CASCADE MODEL, SEED TOP 100 NODES AND DEG NEGATIVE THRESHOLD CALCULATION STRATEGY.\n",
      "\n",
      "['92b20', '34k14']\n",
      "len_topic: 2\n",
      "\n",
      "['social inequality', 'lyapunov method', 'linear matrix inequality', 'neural networks']\n",
      "len_topic: 4\n",
      "\n",
      "['paper presents', 'cognitive radios']\n",
      "len_topic: 2\n",
      "\n",
      "['frequency allocation', 'interference (communication)', 'cognitive radio', 'frequency band']\n",
      "len_topic: 4\n",
      "\n",
      "['information diffusion', 'blog network']\n",
      "len_topic: 2\n",
      "\n",
      "['desirable property', 'dual sparsity', 'real data sets', 'style algorithm', 'margin markov network']\n",
      "len_topic: 5\n",
      "\n",
      "['semantic filexa0…', 'manual entry', 'improved organization', 'attribute information', 'semantic attributes', 'semantic information', 'semantic attributes allows', 'automatically generated']\n",
      "len_topic: 8\n",
      "\n",
      "['significant information resource', 'inhospitable region', 'kosmix approach', 'conventional web search', 'deep web', 'information discovery', 'new approach', 'web crawlers']\n",
      "len_topic: 8\n",
      "\n",
      "['biological neural networks', 'artificial neural network']\n",
      "len_topic: 2\n",
      "\n",
      "['05.45.gg', '05.45.vx', '05.45.xt', 'complex networks']\n",
      "len_topic: 4\n",
      "\n",
      "['web forums', 'web applications']\n",
      "len_topic: 2\n",
      "\n",
      "['adaptive neuro fuzzy inference system', 'data mining\\xa0', 'recursion', 'hybrid learning algorithm', 'stability analysis', 'recursive least squares filter', 'differential evolution', 'machine learning', 'lyapunov fractal', 'gradient descent', 'test suite', '3d modeling', 'system identifier', 'anfis', 'evolutionary algorithm', 'disjunctive normal form', 'fuzzy rule', 'identification', 'global optimization', 'algorithm', 'aliasing', 'rate of convergence', 'optimization problem', 'mathematical optimization', 'reinforcement learning', 'particle swarm optimization', 'simulation']\n",
      "len_topic: 27\n",
      "\n",
      "['distributed delay', 'lyapunov functional']\n",
      "len_topic: 2\n",
      "\n",
      "['visual quality', 'digital images captured']\n",
      "len_topic: 2\n",
      "\n"
     ]
    }
   ],
   "source": [
    "overlap_merge_view_deg_neg(2009, k = 100)"
   ]
  },
  {
   "cell_type": "markdown",
   "metadata": {},
   "source": [
    "### Year 2010"
   ]
  },
  {
   "cell_type": "code",
   "execution_count": 212,
   "metadata": {},
   "outputs": [
    {
     "name": "stdout",
     "output_type": "stream",
     "text": [
      "OVERLAP MERGING RESULT WITH CLIQUE PERCOLATION METHOD, CASCADE MODEL, SEED TOP 100 NODES AND DEG THRESHOLD CALCULATION STRATEGY.\n",
      "\n",
      "['new techniques', 'query processing', 'existing approaches', 'detailed experimental evaluation', 'early termination techniques', 'inverted lists', 'resulting indexes']\n",
      "len_topic: 7\n",
      "\n",
      "['semantic approach', 'business scenario', 'make inferences', 'ontological framework', 'underlying application logic', 'based formalism', 'synergic use']\n",
      "len_topic: 7\n",
      "\n",
      "['context information', 'web search']\n",
      "len_topic: 2\n",
      "\n",
      "['diversity techniques', 'spectral resources', 'secondary terminals', 'cognitive radio networks', 'efficiently share']\n",
      "len_topic: 5\n",
      "\n",
      "['complex network', 'global asymptotic stability', 'multistability', 'neural networks', 'linear matrix inequality', 'lyapunov functional', 'social inequality', 'time complexity', 'analysis technique', 'lyapunov fractal', 'lyapunov–krasovskii functional', 'neutral type', 'artificial neural network', 'systems biology', 'global exponential stability', 'genetic regulatory networks', 'gene regulatory network']\n",
      "len_topic: 17\n",
      "\n",
      "['social media', 'important tool']\n",
      "len_topic: 2\n",
      "\n",
      "['gsm bands', 'overlay cognitive ad', 'opportunistically transmits', 'hoc network', 'exploiting underutilized channels']\n",
      "len_topic: 5\n",
      "\n",
      "['evolutionary algorithm', 'speaker recognition']\n",
      "len_topic: 2\n",
      "\n",
      "['numerical analysis', \"whole earth 'lectronic link\", 'operating environment', 'real-time clock', 'action selection', 'multi-agent system', 'data mining', 'machine learning', 'overhead (computing)', 'scheduling (computing)', 'interference (communication)', 'self-organization', 'network congestion', 'real-time transcription', 'spectrum analyzer', 'algorithm', 'q-learning', 'height above ground level', 'cognition', 'stationary process', 'iterative method', 'game theory', 'coexist (image)', 'rate of convergence', 'mathematical optimization', 'centralized computing', 'interaction', 'decision tree', 'reinforcement learning', 'numerous', 'simulation', 'cognitive radio', 'particle swarm optimization', 'channel capacity', 'context awareness', 'programming paradigm']\n",
      "len_topic: 36\n",
      "\n",
      "['implemented parser', 'semantic parsing', 'english sentence', 'structure prediction problem', 'semantic representation']\n",
      "len_topic: 5\n",
      "\n",
      "['continuous optimization\\xa0', 'differential evolution\\xa0']\n",
      "len_topic: 2\n",
      "\n",
      "['input multiple', 'output communication']\n",
      "len_topic: 2\n",
      "\n"
     ]
    }
   ],
   "source": [
    "overlap_merge_view_deg(2010, k = 100)"
   ]
  },
  {
   "cell_type": "code",
   "execution_count": 213,
   "metadata": {},
   "outputs": [
    {
     "name": "stdout",
     "output_type": "stream",
     "text": [
      "OVERLAP MERGING RESULT WITH CLIQUE PERCOLATION METHOD, CASCADE MODEL, SEED TOP 100 NODES AND HALF THRESHOLD CALCULATION STRATEGY.\n",
      "\n",
      "['new techniques', 'query processing', 'existing approaches', 'detailed experimental evaluation', 'early termination techniques', 'inverted lists', 'resulting indexes']\n",
      "len_topic: 7\n",
      "\n",
      "['semantic approach', 'business scenario', 'make inferences', 'ontological framework', 'underlying application logic', 'based formalism', 'synergic use']\n",
      "len_topic: 7\n",
      "\n",
      "['context information', 'web search']\n",
      "len_topic: 2\n",
      "\n",
      "['diversity techniques', 'spectral resources', 'secondary terminals', 'cognitive radio networks', 'efficiently share']\n",
      "len_topic: 5\n",
      "\n",
      "['complex network', 'global asymptotic stability', 'multistability', 'neural networks', 'linear matrix inequality', 'lyapunov functional', 'social inequality', 'time complexity', 'analysis technique', 'lyapunov fractal', 'lyapunov–krasovskii functional', 'neutral type', 'artificial neural network', 'systems biology', 'global exponential stability', 'genetic regulatory networks', 'gene regulatory network']\n",
      "len_topic: 17\n",
      "\n",
      "['social media', 'important tool']\n",
      "len_topic: 2\n",
      "\n",
      "['gsm bands', 'overlay cognitive ad', 'opportunistically transmits', 'hoc network', 'exploiting underutilized channels']\n",
      "len_topic: 5\n",
      "\n",
      "['evolutionary algorithm', 'speaker recognition']\n",
      "len_topic: 2\n",
      "\n",
      "['numerical analysis', \"whole earth 'lectronic link\", 'operating environment', 'real-time clock', 'action selection', 'multi-agent system', 'data mining', 'machine learning', 'overhead (computing)', 'scheduling (computing)', 'interference (communication)', 'self-organization', 'network congestion', 'real-time transcription', 'spectrum analyzer', 'algorithm', 'q-learning', 'height above ground level', 'cognition', 'stationary process', 'iterative method', 'game theory', 'coexist (image)', 'rate of convergence', 'mathematical optimization', 'centralized computing', 'interaction', 'decision tree', 'reinforcement learning', 'numerous', 'simulation', 'cognitive radio', 'particle swarm optimization', 'channel capacity', 'context awareness', 'programming paradigm']\n",
      "len_topic: 36\n",
      "\n",
      "['implemented parser', 'semantic parsing', 'english sentence', 'structure prediction problem', 'semantic representation']\n",
      "len_topic: 5\n",
      "\n",
      "['continuous optimization\\xa0', 'differential evolution\\xa0']\n",
      "len_topic: 2\n",
      "\n",
      "['input multiple', 'output communication']\n",
      "len_topic: 2\n",
      "\n"
     ]
    }
   ],
   "source": [
    "overlap_merge_view_half(2010, k = 100)"
   ]
  },
  {
   "cell_type": "code",
   "execution_count": 214,
   "metadata": {},
   "outputs": [
    {
     "name": "stdout",
     "output_type": "stream",
     "text": [
      "OVERLAP MERGING RESULT WITH CLIQUE PERCOLATION METHOD, CASCADE MODEL, SEED TOP 100 NODES AND DEG NEGATIVE THRESHOLD CALCULATION STRATEGY.\n",
      "\n",
      "['new techniques', 'query processing', 'existing approaches', 'detailed experimental evaluation', 'early termination techniques', 'inverted lists', 'resulting indexes']\n",
      "len_topic: 7\n",
      "\n",
      "['semantic approach', 'business scenario', 'make inferences', 'ontological framework', 'underlying application logic', 'based formalism', 'synergic use']\n",
      "len_topic: 7\n",
      "\n",
      "['context information', 'web search']\n",
      "len_topic: 2\n",
      "\n",
      "['diversity techniques', 'spectral resources', 'secondary terminals', 'cognitive radio networks', 'efficiently share']\n",
      "len_topic: 5\n",
      "\n",
      "['complex network', 'global asymptotic stability', 'multistability', 'neural networks', 'linear matrix inequality', 'lyapunov functional', 'social inequality', 'time complexity', 'analysis technique', 'lyapunov fractal', 'lyapunov–krasovskii functional', 'neutral type', 'artificial neural network', 'systems biology', 'global exponential stability', 'genetic regulatory networks', 'gene regulatory network']\n",
      "len_topic: 17\n",
      "\n",
      "['social media', 'important tool']\n",
      "len_topic: 2\n",
      "\n",
      "['gsm bands', 'overlay cognitive ad', 'opportunistically transmits', 'hoc network', 'exploiting underutilized channels']\n",
      "len_topic: 5\n",
      "\n",
      "['evolutionary algorithm', 'speaker recognition']\n",
      "len_topic: 2\n",
      "\n",
      "['numerical analysis', \"whole earth 'lectronic link\", 'operating environment', 'real-time clock', 'action selection', 'multi-agent system', 'data mining', 'machine learning', 'overhead (computing)', 'scheduling (computing)', 'interference (communication)', 'self-organization', 'network congestion', 'real-time transcription', 'spectrum analyzer', 'algorithm', 'q-learning', 'height above ground level', 'cognition', 'stationary process', 'iterative method', 'game theory', 'coexist (image)', 'rate of convergence', 'mathematical optimization', 'centralized computing', 'interaction', 'decision tree', 'reinforcement learning', 'numerous', 'simulation', 'cognitive radio', 'particle swarm optimization', 'channel capacity', 'context awareness', 'programming paradigm']\n",
      "len_topic: 36\n",
      "\n",
      "['implemented parser', 'semantic parsing', 'english sentence', 'structure prediction problem', 'semantic representation']\n",
      "len_topic: 5\n",
      "\n",
      "['continuous optimization\\xa0', 'differential evolution\\xa0']\n",
      "len_topic: 2\n",
      "\n",
      "['input multiple', 'output communication']\n",
      "len_topic: 2\n",
      "\n"
     ]
    }
   ],
   "source": [
    "overlap_merge_view_deg_neg(2010, k = 100)"
   ]
  },
  {
   "cell_type": "markdown",
   "metadata": {},
   "source": [
    "### Year 2011"
   ]
  },
  {
   "cell_type": "code",
   "execution_count": 215,
   "metadata": {},
   "outputs": [
    {
     "name": "stdout",
     "output_type": "stream",
     "text": [
      "OVERLAP MERGING RESULT WITH CLIQUE PERCOLATION METHOD, CASCADE MODEL, SEED TOP 100 NODES AND DEG THRESHOLD CALCULATION STRATEGY.\n",
      "\n",
      "['mixture hmms', 'network hmms', 'dependent deep', 'discriminatively trained gaussian']\n",
      "len_topic: 4\n",
      "\n",
      "['wiki interface', 'common strategy', 'promising alternative', 'increasingly inadequate', 'clustering algorithms', 'coherent clusters allowing', 'topic navigation', 'automatic clustering procedure', 'search engine utility', 'clustering results', 'introduce clusteringwiki', 'ranked lists', 'disparate search results', 'long list', 'unprecedented scale', 'search engines', 'search results', 'personalized clustering', 'membership structure', 'personalized presentation', 'clustering divides', 'critical role']\n",
      "len_topic: 22\n",
      "\n",
      "['experiment', 'linear matrix inequality', 'neural network simulation', 'convex function', 'nonlinear system', 'social inequality', 'differential evolution', 'lyapunov fractal', 'multitier architecture', 'interference (communication)', 'software deployment', 'approximation algorithm', 'evolutionary algorithm', 'low-power broadcasting', 'tree rearrangement', 'plasmon', 'reinforcement learning', 'particle swarm optimization', 'cognitive radio', 'channel capacity', 's ability', 'numerical analysis', 'ising model', 'population diversity', 'signal-to-interference-plus-noise ratio', 'artificial neural network', 'autonomous robot', 'algorithm', 'telecommunications link', 'impulses', 'broadcast delay', 'stochastic neural network', 'mathematical optimization', 'time complexity', 'quality of service', 'interaction', 'fairness measure', 'simulation', 'spectral leakage', 'hopfield-type neural networks', 'resonance']\n",
      "len_topic: 41\n",
      "\n",
      "['pus negotiate', 'key idea', 'multiple primary users', 'proposed algorithm', 'multiple secondary users']\n",
      "len_topic: 5\n",
      "\n",
      "['knowledge base', 'entity linking', 'experimental results']\n",
      "len_topic: 3\n",
      "\n",
      "['genetic regulatory networks', 'gene regulatory network']\n",
      "len_topic: 2\n",
      "\n",
      "['linear matrix inequality\\xa0', 'leakage delay\\xa0']\n",
      "len_topic: 2\n",
      "\n",
      "['construct proposal kernels', 'recently andrieu doucet', 'general framework', 'using particle filters']\n",
      "len_topic: 4\n",
      "\n",
      "['variational principle', 'inpainting']\n",
      "len_topic: 2\n",
      "\n",
      "['maximal set', 'discrepancy function', 'generalization error']\n",
      "len_topic: 3\n",
      "\n",
      "['constant number', 'mapreduce rounds']\n",
      "len_topic: 2\n",
      "\n",
      "['model selection', 'support vector machine']\n",
      "len_topic: 2\n",
      "\n",
      "['self-organization\\xa0', 'swarm intelligence\\xa0', 'swarm robotics\\xa0']\n",
      "len_topic: 3\n",
      "\n",
      "['achieve high performance', 'important factor', 'parallel applications', 'hard problem']\n",
      "len_topic: 4\n",
      "\n",
      "['influence maximization', 'expected spread']\n",
      "len_topic: 2\n",
      "\n",
      "['question search', 'queried question based']\n",
      "len_topic: 2\n",
      "\n"
     ]
    }
   ],
   "source": [
    "overlap_merge_view_deg(2011, k = 100)"
   ]
  },
  {
   "cell_type": "code",
   "execution_count": 216,
   "metadata": {},
   "outputs": [
    {
     "name": "stdout",
     "output_type": "stream",
     "text": [
      "OVERLAP MERGING RESULT WITH CLIQUE PERCOLATION METHOD, CASCADE MODEL, SEED TOP 100 NODES AND HALF THRESHOLD CALCULATION STRATEGY.\n",
      "\n",
      "['mixture hmms', 'network hmms', 'dependent deep', 'discriminatively trained gaussian']\n",
      "len_topic: 4\n",
      "\n",
      "['wiki interface', 'common strategy', 'promising alternative', 'increasingly inadequate', 'clustering algorithms', 'coherent clusters allowing', 'topic navigation', 'automatic clustering procedure', 'search engine utility', 'clustering results', 'introduce clusteringwiki', 'ranked lists', 'disparate search results', 'long list', 'unprecedented scale', 'search engines', 'search results', 'personalized clustering', 'membership structure', 'personalized presentation', 'clustering divides', 'critical role']\n",
      "len_topic: 22\n",
      "\n",
      "['experiment', 'linear matrix inequality', 'neural network simulation', 'convex function', 'nonlinear system', 'social inequality', 'differential evolution', 'lyapunov fractal', 'multitier architecture', 'interference (communication)', 'software deployment', 'approximation algorithm', 'evolutionary algorithm', 'low-power broadcasting', 'tree rearrangement', 'plasmon', 'centralized computing', 'reinforcement learning', 'particle swarm optimization', 'cognitive radio', 'channel capacity', 's ability', 'numerical analysis', 'parameter adaptation', 'ising model', 'population diversity', 'machine learning', 'distributed delays', 'signal-to-interference-plus-noise ratio', 'artificial neural network', 'autonomous robot', 'hopfield network', 'algorithm', 'telecommunications link', 'broadcast delay', 'stochastic neural network', 'mathematical optimization', 'quality of service', 'interaction', 'fairness measure', 'simulation', 'spectral leakage', 'hopfield-type neural networks', 'resonance']\n",
      "len_topic: 44\n",
      "\n",
      "['pus negotiate', 'key idea', 'multiple primary users', 'proposed algorithm', 'multiple secondary users']\n",
      "len_topic: 5\n",
      "\n",
      "['knowledge base', 'entity linking', 'experimental results']\n",
      "len_topic: 3\n",
      "\n",
      "['genetic regulatory networks', 'gene regulatory network']\n",
      "len_topic: 2\n",
      "\n",
      "['linear matrix inequality\\xa0', 'leakage delay\\xa0']\n",
      "len_topic: 2\n",
      "\n",
      "['construct proposal kernels', 'recently andrieu doucet', 'general framework', 'using particle filters']\n",
      "len_topic: 4\n",
      "\n",
      "['variational principle', 'inpainting']\n",
      "len_topic: 2\n",
      "\n",
      "['maximal set', 'discrepancy function', 'generalization error']\n",
      "len_topic: 3\n",
      "\n",
      "['constant number', 'mapreduce rounds']\n",
      "len_topic: 2\n",
      "\n",
      "['model selection', 'support vector machine']\n",
      "len_topic: 2\n",
      "\n",
      "['self-organization\\xa0', 'swarm intelligence\\xa0', 'swarm robotics\\xa0']\n",
      "len_topic: 3\n",
      "\n",
      "['achieve high performance', 'important factor', 'parallel applications', 'hard problem']\n",
      "len_topic: 4\n",
      "\n",
      "['influence maximization', 'expected spread']\n",
      "len_topic: 2\n",
      "\n",
      "['question search', 'queried question based']\n",
      "len_topic: 2\n",
      "\n"
     ]
    }
   ],
   "source": [
    "overlap_merge_view_half(2011, k = 100)"
   ]
  },
  {
   "cell_type": "code",
   "execution_count": 217,
   "metadata": {},
   "outputs": [
    {
     "name": "stdout",
     "output_type": "stream",
     "text": [
      "OVERLAP MERGING RESULT WITH CLIQUE PERCOLATION METHOD, CASCADE MODEL, SEED TOP 100 NODES AND DEG NEGATIVE THRESHOLD CALCULATION STRATEGY.\n",
      "\n",
      "['mixture hmms', 'network hmms', 'dependent deep', 'discriminatively trained gaussian']\n",
      "len_topic: 4\n",
      "\n",
      "['wiki interface', 'common strategy', 'promising alternative', 'increasingly inadequate', 'clustering algorithms', 'coherent clusters allowing', 'topic navigation', 'automatic clustering procedure', 'search engine utility', 'clustering results', 'introduce clusteringwiki', 'ranked lists', 'disparate search results', 'long list', 'unprecedented scale', 'search engines', 'search results', 'personalized clustering', 'membership structure', 'personalized presentation', 'clustering divides', 'critical role']\n",
      "len_topic: 22\n",
      "\n",
      "['experiment', 'linear matrix inequality', 'neural network simulation', 'convex function', 'nonlinear system', 'social inequality', 'differential evolution', 'lyapunov fractal', 'multitier architecture', 'interference (communication)', 'software deployment', 'approximation algorithm', 'evolutionary algorithm', 'low-power broadcasting', 'tree rearrangement', 'plasmon', 'centralized computing', 'reinforcement learning', 'particle swarm optimization', 'cognitive radio', 'channel capacity', 's ability', 'numerical analysis', 'ising model', 'population diversity', 'machine learning', 'distributed delays', 'signal-to-interference-plus-noise ratio', 'artificial neural network', 'checking (action)', 'synchronization (computer science)', 'exponential', 'autonomous robot', 'hopfield network', 'algorithm', 'telecommunications link', 'impulses', 'broadcast delay', 'stochastic neural network', 'mathematical optimization', 'time complexity', 'quality of service', 'interaction', 'fairness measure', 'simulation', 'spectral leakage', 'hopfield-type neural networks', 'resonance']\n",
      "len_topic: 48\n",
      "\n",
      "['pus negotiate', 'key idea', 'multiple primary users', 'proposed algorithm', 'multiple secondary users']\n",
      "len_topic: 5\n",
      "\n",
      "['knowledge base', 'entity linking', 'experimental results']\n",
      "len_topic: 3\n",
      "\n",
      "['genetic regulatory networks', 'gene regulatory network']\n",
      "len_topic: 2\n",
      "\n",
      "['linear matrix inequality\\xa0', 'leakage delay\\xa0']\n",
      "len_topic: 2\n",
      "\n",
      "['construct proposal kernels', 'recently andrieu doucet', 'general framework', 'using particle filters']\n",
      "len_topic: 4\n",
      "\n",
      "['variational principle', 'inpainting']\n",
      "len_topic: 2\n",
      "\n",
      "['maximal set', 'discrepancy function', 'generalization error']\n",
      "len_topic: 3\n",
      "\n",
      "['constant number', 'mapreduce rounds']\n",
      "len_topic: 2\n",
      "\n",
      "['model selection', 'support vector machine']\n",
      "len_topic: 2\n",
      "\n",
      "['self-organization\\xa0', 'swarm intelligence\\xa0', 'swarm robotics\\xa0']\n",
      "len_topic: 3\n",
      "\n",
      "['achieve high performance', 'important factor', 'parallel applications', 'hard problem']\n",
      "len_topic: 4\n",
      "\n",
      "['influence maximization', 'expected spread']\n",
      "len_topic: 2\n",
      "\n",
      "['question search', 'queried question based']\n",
      "len_topic: 2\n",
      "\n"
     ]
    }
   ],
   "source": [
    "overlap_merge_view_deg_neg(2011, k = 100)"
   ]
  },
  {
   "cell_type": "markdown",
   "metadata": {},
   "source": [
    "### Year 2012"
   ]
  },
  {
   "cell_type": "code",
   "execution_count": 218,
   "metadata": {},
   "outputs": [
    {
     "name": "stdout",
     "output_type": "stream",
     "text": [
      "OVERLAP MERGING RESULT WITH CLIQUE PERCOLATION METHOD, CASCADE MODEL, SEED TOP 100 NODES AND DEG THRESHOLD CALCULATION STRATEGY.\n",
      "\n",
      "['data models', 'predictive models']\n",
      "len_topic: 2\n",
      "\n",
      "['graphics processing unit', 'parallel computing']\n",
      "len_topic: 2\n",
      "\n",
      "['experiment', 'premature convergence', 'frequency band', 'genetic operator', 'receiver operating characteristic', 'cross-validation (statistics)', 'fuzzy logic', 'missing data', 'interference (communication)', 'software deployment', 'evolutionary algorithm', 'coexist (image)', 'trees (plant)', 'optimization problem', 'preprocessor', 'reinforcement learning', 'fuzzy control system', 'supervised learning', 'cognitive radio', 'particle swarm optimization', 'expectation–maximization algorithm', 'inference engine', 'deep learning', 'class', 'radio frequency', 'data mining', 'machine learning', 'signal-to-interference-plus-noise ratio', 'autonomous robot', 'cyclostationary process', 'algorithm', 'q-learning', 'telecommunications link', 'cognition', 'gradient', 'computation', 'combinatorial optimization', 'benchmark (computing)', 'mathematical optimization', 'genetic algorithm', 'transmitter', 'simulation', 'sparse matrix', 'knapsack problem']\n",
      "len_topic: 44\n",
      "\n",
      "['sparse coding', 'factor model', 'nips 2011 workshop', 'transfer learning challenge', 'dramatically increase', 'learning hierarchical models', 'prior work', 'exploit parallel architectures', 'approach improves', 'training set size', 'supervised learning capabilities', 'latent factors']\n",
      "len_topic: 12\n",
      "\n",
      "['complex simple mcmc', 'draw samples']\n",
      "len_topic: 2\n",
      "\n",
      "['labeled ground', 'truth data']\n",
      "len_topic: 2\n",
      "\n",
      "['neural networks', 'randomness', 'neural network software', 'optical character recognition']\n",
      "len_topic: 4\n",
      "\n",
      "['tagging arguments', 'extract relations', 'unsupervised algorithms']\n",
      "len_topic: 3\n",
      "\n",
      "['main organizing principles', 'network communities', 'nodes organize', 'densely linked clusters']\n",
      "len_topic: 4\n",
      "\n",
      "['search results', 'user behavior']\n",
      "len_topic: 2\n",
      "\n",
      "['paper describes', 'linear combination']\n",
      "len_topic: 2\n",
      "\n",
      "['time delay\\xa0', 'neural networks\\xa0']\n",
      "len_topic: 2\n",
      "\n",
      "['recurrent neural networks', 'memristor']\n",
      "len_topic: 2\n",
      "\n",
      "['numerical analysis', 'sampling - surgical action', 'linear matrix inequality', 'neural network simulation', 'dropout (neural networks)', 'time complexity', 'social inequality', 'recurrent neural network', 'artificial neural network', 'test data', 'overfitting', 'sampling (signal processing)', 'synchronization (computer science)']\n",
      "len_topic: 13\n",
      "\n",
      "['diffusion network', 'efficient approximation algorithm']\n",
      "len_topic: 2\n",
      "\n"
     ]
    }
   ],
   "source": [
    "overlap_merge_view_deg(2012, k = 100)"
   ]
  },
  {
   "cell_type": "code",
   "execution_count": 219,
   "metadata": {},
   "outputs": [
    {
     "name": "stdout",
     "output_type": "stream",
     "text": [
      "OVERLAP MERGING RESULT WITH CLIQUE PERCOLATION METHOD, CASCADE MODEL, SEED TOP 100 NODES AND HALF THRESHOLD CALCULATION STRATEGY.\n",
      "\n",
      "['data models', 'predictive models']\n",
      "len_topic: 2\n",
      "\n",
      "['graphics processing unit', 'parallel computing']\n",
      "len_topic: 2\n",
      "\n",
      "['experiment', 'premature convergence', 'frequency band', 'genetic operator', 'receiver operating characteristic', 'cross-validation (statistics)', 'fuzzy logic', 'missing data', 'interference (communication)', 'software deployment', 'evolutionary algorithm', 'coexist (image)', 'trees (plant)', 'optimization problem', 'preprocessor', 'reinforcement learning', 'fuzzy control system', 'supervised learning', 'cognitive radio', 'particle swarm optimization', 'expectation–maximization algorithm', 'inference engine', 'deep learning', 'class', 'radio frequency', 'data mining', 'machine learning', 'signal-to-interference-plus-noise ratio', 'autonomous robot', 'cyclostationary process', 'algorithm', 'q-learning', 'telecommunications link', 'cognition', 'gradient', 'computation', 'combinatorial optimization', 'benchmark (computing)', 'mathematical optimization', 'genetic algorithm', 'transmitter', 'simulation', 'sparse matrix', 'knapsack problem']\n",
      "len_topic: 44\n",
      "\n",
      "['sparse coding', 'factor model', 'nips 2011 workshop', 'transfer learning challenge', 'dramatically increase', 'learning hierarchical models', 'prior work', 'exploit parallel architectures', 'approach improves', 'training set size', 'supervised learning capabilities', 'latent factors']\n",
      "len_topic: 12\n",
      "\n",
      "['complex simple mcmc', 'draw samples']\n",
      "len_topic: 2\n",
      "\n",
      "['labeled ground', 'truth data']\n",
      "len_topic: 2\n",
      "\n",
      "['neural networks', 'randomness', 'neural network software', 'optical character recognition']\n",
      "len_topic: 4\n",
      "\n",
      "['tagging arguments', 'extract relations', 'unsupervised algorithms']\n",
      "len_topic: 3\n",
      "\n",
      "['main organizing principles', 'network communities', 'nodes organize', 'densely linked clusters']\n",
      "len_topic: 4\n",
      "\n",
      "['search results', 'user behavior']\n",
      "len_topic: 2\n",
      "\n",
      "['paper describes', 'linear combination']\n",
      "len_topic: 2\n",
      "\n",
      "['time delay\\xa0', 'neural networks\\xa0']\n",
      "len_topic: 2\n",
      "\n",
      "['recurrent neural networks', 'memristor']\n",
      "len_topic: 2\n",
      "\n",
      "['numerical analysis', 'sampling - surgical action', 'linear matrix inequality', 'neural network simulation', 'dropout (neural networks)', 'time complexity', 'social inequality', 'recurrent neural network', 'artificial neural network', 'test data', 'overfitting', 'sampling (signal processing)', 'synchronization (computer science)']\n",
      "len_topic: 13\n",
      "\n",
      "['diffusion network', 'efficient approximation algorithm']\n",
      "len_topic: 2\n",
      "\n"
     ]
    }
   ],
   "source": [
    "overlap_merge_view_half(2012, k = 100)"
   ]
  },
  {
   "cell_type": "code",
   "execution_count": 220,
   "metadata": {},
   "outputs": [
    {
     "name": "stdout",
     "output_type": "stream",
     "text": [
      "OVERLAP MERGING RESULT WITH CLIQUE PERCOLATION METHOD, CASCADE MODEL, SEED TOP 100 NODES AND DEG NEGATIVE THRESHOLD CALCULATION STRATEGY.\n",
      "\n",
      "['data models', 'predictive models']\n",
      "len_topic: 2\n",
      "\n",
      "['graphics processing unit', 'parallel computing']\n",
      "len_topic: 2\n",
      "\n",
      "['experiment', 'premature convergence', 'frequency band', 'genetic operator', 'receiver operating characteristic', 'cross-validation (statistics)', 'fuzzy logic', 'missing data', 'interference (communication)', 'software deployment', 'evolutionary algorithm', 'coexist (image)', 'trees (plant)', 'optimization problem', 'preprocessor', 'reinforcement learning', 'fuzzy control system', 'supervised learning', 'cognitive radio', 'particle swarm optimization', 'expectation–maximization algorithm', 'inference engine', 'deep learning', 'class', 'radio frequency', 'data mining', 'machine learning', 'signal-to-interference-plus-noise ratio', 'autonomous robot', 'cyclostationary process', 'algorithm', 'q-learning', 'telecommunications link', 'cognition', 'gradient', 'computation', 'combinatorial optimization', 'benchmark (computing)', 'mathematical optimization', 'genetic algorithm', 'transmitter', 'simulation', 'sparse matrix', 'knapsack problem']\n",
      "len_topic: 44\n",
      "\n",
      "['sparse coding', 'factor model', 'nips 2011 workshop', 'transfer learning challenge', 'dramatically increase', 'learning hierarchical models', 'prior work', 'exploit parallel architectures', 'approach improves', 'training set size', 'supervised learning capabilities', 'latent factors']\n",
      "len_topic: 12\n",
      "\n",
      "['complex simple mcmc', 'draw samples']\n",
      "len_topic: 2\n",
      "\n",
      "['labeled ground', 'truth data']\n",
      "len_topic: 2\n",
      "\n",
      "['neural networks', 'randomness', 'neural network software', 'optical character recognition']\n",
      "len_topic: 4\n",
      "\n",
      "['tagging arguments', 'extract relations', 'unsupervised algorithms']\n",
      "len_topic: 3\n",
      "\n",
      "['main organizing principles', 'network communities', 'nodes organize', 'densely linked clusters']\n",
      "len_topic: 4\n",
      "\n",
      "['search results', 'user behavior']\n",
      "len_topic: 2\n",
      "\n",
      "['paper describes', 'linear combination']\n",
      "len_topic: 2\n",
      "\n",
      "['time delay\\xa0', 'neural networks\\xa0']\n",
      "len_topic: 2\n",
      "\n",
      "['recurrent neural networks', 'memristor']\n",
      "len_topic: 2\n",
      "\n",
      "['numerical analysis', 'sampling - surgical action', 'linear matrix inequality', 'neural network simulation', 'dropout (neural networks)', 'time complexity', 'social inequality', 'recurrent neural network', 'artificial neural network', 'test data', 'overfitting', 'sampling (signal processing)', 'synchronization (computer science)']\n",
      "len_topic: 13\n",
      "\n",
      "['diffusion network', 'efficient approximation algorithm']\n",
      "len_topic: 2\n",
      "\n"
     ]
    }
   ],
   "source": [
    "overlap_merge_view_deg_neg(2012, k = 100)"
   ]
  },
  {
   "cell_type": "markdown",
   "metadata": {},
   "source": [
    "### Year 2013"
   ]
  },
  {
   "cell_type": "code",
   "execution_count": 221,
   "metadata": {},
   "outputs": [
    {
     "name": "stdout",
     "output_type": "stream",
     "text": [
      "OVERLAP MERGING RESULT WITH CLIQUE PERCOLATION METHOD, CASCADE MODEL, SEED TOP 100 NODES AND DEG THRESHOLD CALCULATION STRATEGY.\n",
      "\n",
      "['performance', 'experiment', 'couplings', 'artificial bee colony algorithm', 'vertex', 'linear matrix inequality', 'switches', 'nonlinear system', 'newton–cotes formulas', 'social inequality', 'differential evolution', 'collocation method', 'lyapunov fractal', 'interference (communication)', 'self-organization', 'knowledge base', 'approximation algorithm', 'taguchi methods', 'numerical method', 'quintic function', 'gauss–kronrod quadrature formula', 'reinforcement learning', 'manufacturing', 'stochastic process', 'complex networks', 'throughput', 'bernoulli polynomials', 'artificial neural network', 'hybrid optimization', 'coefficient', 'synchronization (computer science)', 'probability', 'organizing (structure)', 'algorithm', 'q-learning', 'telecommunications link', 'recurrent neural networks', 'randomness', 'error analysis (mathematics)', 'mathematical optimization', 'b-spline', 'algebraic equation', 'stochastic processes', 'iteration', 'simulation', 'mean squared error', 'sampling - surgical action', 'synchronization', 'sampling (signal processing)', 'navier–stokes equations']\n",
      "len_topic: 50\n",
      "\n",
      "['single solution does', 'objective optimisation', 'objective optimisation problems', 'dynamic multi']\n",
      "len_topic: 4\n",
      "\n",
      "['minimally trained algorithm', 'syndromic surveillance']\n",
      "len_topic: 2\n",
      "\n",
      "['hammerstein model', 'space model', 'linear dynamic']\n",
      "len_topic: 3\n",
      "\n",
      "['consensus problem', 'agents differed', 'time heterogeneous multi']\n",
      "len_topic: 3\n",
      "\n",
      "['converting text', 'linguistic frame semantics', 'ontology design', 'quality linked', 'novel approach', 'ontology design patterns', 'ready ontologies']\n",
      "len_topic: 7\n",
      "\n",
      "['richard socher', 'andriy mnih', 'tomas mikolov', 'christopher d. manning', 'andrew y. ng', 'gregory s. corrado']\n",
      "len_topic: 6\n",
      "\n",
      "['times ascent', 'coordinate descent', 'rate of convergence', 'stochastic gradient descent']\n",
      "len_topic: 4\n",
      "\n",
      "['big data', 'future work']\n",
      "len_topic: 2\n",
      "\n",
      "['empirical correlations', 'support vector machine', 'computer program']\n",
      "len_topic: 3\n",
      "\n",
      "['failure mode and effects analysis', 'failure cause']\n",
      "len_topic: 2\n",
      "\n",
      "['stochastic learning', 'stackelberg game formulation', 'combining game theory', 'tier femtocell networks']\n",
      "len_topic: 4\n",
      "\n",
      "['h?', 'fault detection']\n",
      "len_topic: 2\n",
      "\n",
      "['pythagorean theorem', 'pythagorean membership grades', 'related idea']\n",
      "len_topic: 3\n",
      "\n",
      "['wikipedia', 'named entity', 'information extraction', 'semi-structured resources']\n",
      "len_topic: 4\n",
      "\n",
      "['batteries', 'battery charge measurement']\n",
      "len_topic: 2\n",
      "\n",
      "['calculus of variations', 'bayesian network', 'variational principle']\n",
      "len_topic: 3\n",
      "\n",
      "['online social networks', 'social networks']\n",
      "len_topic: 2\n",
      "\n",
      "['visualization', 'partitioning algorithms']\n",
      "len_topic: 2\n",
      "\n",
      "['computer vision', 'kinect', 'image resolution']\n",
      "len_topic: 3\n",
      "\n",
      "['3d reconstruction', 'single moving camera', 'algorithm presented focuses']\n",
      "len_topic: 3\n",
      "\n",
      "['extreme lighting conditions', 'images captured', 'visual quality']\n",
      "len_topic: 3\n",
      "\n"
     ]
    }
   ],
   "source": [
    "overlap_merge_view_deg(2013, k = 100)"
   ]
  },
  {
   "cell_type": "code",
   "execution_count": 222,
   "metadata": {},
   "outputs": [
    {
     "name": "stdout",
     "output_type": "stream",
     "text": [
      "OVERLAP MERGING RESULT WITH CLIQUE PERCOLATION METHOD, CASCADE MODEL, SEED TOP 100 NODES AND HALF THRESHOLD CALCULATION STRATEGY.\n",
      "\n",
      "['performance', 'experiment', 'couplings', 'vertex', 'linear matrix inequality', 'neural network simulation', 'switches', 'nonlinear system', 'newton–cotes formulas', 'social inequality', 'differential evolution', 'collocation method', 'lyapunov fractal', 'biological neural networks', 'state estimation', 'interference (communication)', 'knowledge base', 'self-organization', 'taguchi method', 'nearest neighbor classifier', 'approximation algorithm', 'convex optimization', 'numerical method', 'duality gap', 'quintic function', 'gauss–kronrod quadrature formula', 'reinforcement learning', 'manufacturing', 'particle swarm optimization', 'backhaul (telecommunications)', 'cognitive radio', 'block cipher mode of operation', 'complex networks', 'deep learning', 'throughput', 'numerical analysis', 'data synchronization', 'bernoulli polynomials', 'machine learning', 'cell (microprocessor)', 'artificial neural network', 'hybrid optimization', 'coefficient', \"jensen's inequality\", 'frank–wolfe algorithm', 'neural networks', 'synchronization (computer science)', 'probability', 'complex network', 'organizing (structure)', 'algorithm', 'q-learning', 'telecommunications link', 'recurrent neural networks', 'randomness', 'error analysis (mathematics)', 'programming paradigm', 'mathematical optimization', 'b-spline', 'recurrent neural network', 'algebraic equation', 'benchmark (computing)', 'stochastic processes', 'iteration', 'simulation', 'mean squared error', 'sampling - surgical action', 'synchronization', 'dynamic programming', 'sampling (signal processing)', 'navier–stokes equations', 'stability']\n",
      "len_topic: 72\n",
      "\n",
      "['calculus of variations', 'variational principle', 'statistical model', 'boltzmann machine', 'dbm', 'bayesian network', 'topic model', 'greedy algorithm']\n",
      "len_topic: 8\n",
      "\n",
      "['jan cernocký', 'stefan kombrink', 'tomas mikolov', 'christopher d. manning', 'geoffrey zweig', 'lukás burget', 'andrew y. ng', 'yee whye teh', 'gregory s. corrado', 'wen-tau yih', 'richard socher', 'andriy mnih', 'peter d. turney', 'kai chen', 'jeffrey dean']\n",
      "len_topic: 15\n",
      "\n",
      "['converting text', 'linguistic frame semantics', 'quality linked', 'ontology design', 'novel approach', 'ontology design patterns', 'acceptable time', 'ready ontologies']\n",
      "len_topic: 8\n",
      "\n",
      "['big data', 'future work']\n",
      "len_topic: 2\n",
      "\n",
      "['consensus problem', 'time heterogeneous multi', 'agents differed']\n",
      "len_topic: 3\n",
      "\n",
      "['stochastic learning', 'stackelberg game formulation', 'combining game theory', 'tier femtocell networks']\n",
      "len_topic: 4\n",
      "\n",
      "['dynamic multi', 'objective optimisation']\n",
      "len_topic: 2\n",
      "\n",
      "['failure mode and effects analysis', 'failure cause']\n",
      "len_topic: 2\n",
      "\n",
      "['h?', 'fault detection']\n",
      "len_topic: 2\n",
      "\n",
      "['wikipedia', 'named entity', 'information extraction', 'semi-structured resources']\n",
      "len_topic: 4\n",
      "\n",
      "['pythagorean theorem', 'pythagorean membership grades', 'related idea']\n",
      "len_topic: 3\n",
      "\n",
      "['empirical correlations', 'support vector machine', 'computer program']\n",
      "len_topic: 3\n",
      "\n",
      "['batteries', 'battery charge measurement']\n",
      "len_topic: 2\n",
      "\n",
      "['hammerstein model', 'linear dynamic', 'space model']\n",
      "len_topic: 3\n",
      "\n",
      "['online social networks', 'social networks']\n",
      "len_topic: 2\n",
      "\n",
      "['times ascent', 'coordinate descent', 'stochastic gradient descent', 'rate of convergence']\n",
      "len_topic: 4\n",
      "\n",
      "['computer vision', 'kinect', 'image resolution']\n",
      "len_topic: 3\n",
      "\n",
      "['3d reconstruction', 'single moving camera', 'algorithm presented focuses']\n",
      "len_topic: 3\n",
      "\n",
      "['extreme lighting conditions', 'images captured', 'visual quality']\n",
      "len_topic: 3\n",
      "\n",
      "['minimally trained algorithm', 'syndromic surveillance']\n",
      "len_topic: 2\n",
      "\n",
      "['visualization', 'partitioning algorithms']\n",
      "len_topic: 2\n",
      "\n"
     ]
    }
   ],
   "source": [
    "overlap_merge_view_half(2013, k = 100)"
   ]
  },
  {
   "cell_type": "code",
   "execution_count": 223,
   "metadata": {},
   "outputs": [
    {
     "name": "stdout",
     "output_type": "stream",
     "text": [
      "OVERLAP MERGING RESULT WITH CLIQUE PERCOLATION METHOD, CASCADE MODEL, SEED TOP 100 NODES AND DEG NEGATIVE THRESHOLD CALCULATION STRATEGY.\n",
      "\n",
      "['couplings', 'artificial bee colony algorithm', 'vertex', 'switches', 'convolutional neural network', 'differential evolution', 'lyapunov fractal', 'state estimation', 'knowledge base', 'self-organization', 'nearest neighbor classifier', 'taguchi methods', 'quintic function', 'gauss–kronrod quadrature formula', 'optimization problem', 'manufacturing', 'backhaul (telecommunications)', 'cognitive radio', 'block cipher mode of operation', 'lessons learned', 'deep learning', 'throughput', 'bernoulli polynomials', 'frank–wolfe algorithm', 'complex network', 'organizing (structure)', 'algorithm', 'q-learning', 'recurrent neural networks', 'error analysis (mathematics)', 'b-spline', 'iteration', 'spectral leakage', 'sampling - surgical action', 'dynamic programming', 'navier–stokes equations', 'performance', 'experiment', 'linear matrix inequality', 'neural network simulation', 'matrix regularization', 'nonlinear system', 'newton–cotes formulas', 'social inequality', 'collocation method', 'biological neural networks', 'interference (communication)', 'approximation algorithm', 'convex optimization', 'numerical method', 'duality gap', 'dropout (neural networks)', 'reinforcement learning', 'particle swarm optimization', 'complex networks', 'data synchronization', 'numerical analysis', 'machine learning', 'cell (microprocessor)', 'artificial neural network', 'hybrid optimization', 'coefficient', \"jensen's inequality\", 'neural networks', 'synchronization (computer science)', 'probability', 'central processing unit', 'telecommunications link', 'randomness', 'word embedding', 'mathematical optimization', 'recurrent neural network', 'benchmark (computing)', 'algebraic equation', 'text corpus', 'stochastic processes', 'simulation', 'mean squared error', 'synchronization', 'sampling (signal processing)', 'programming paradigm', 'stability']\n",
      "len_topic: 82\n",
      "\n",
      "['calculus of variations', 'variational principle', 'statistical model', 'boltzmann machine', 'dbm', 'bayesian network', 'topic model', 'greedy algorithm']\n",
      "len_topic: 8\n",
      "\n",
      "['jan cernocký', 'stefan kombrink', 'tomas mikolov', 'christopher d. manning', 'geoffrey zweig', 'lukás burget', 'andrew y. ng', 'yee whye teh', 'gregory s. corrado', 'wen-tau yih', 'richard socher', 'andriy mnih', 'peter d. turney', 'kai chen', 'jeffrey dean']\n",
      "len_topic: 15\n",
      "\n",
      "['converting text', 'linguistic frame semantics', 'quality linked', 'ontology design', 'novel approach', 'ontology design patterns', 'acceptable time', 'ready ontologies']\n",
      "len_topic: 8\n",
      "\n",
      "['big data', 'future work']\n",
      "len_topic: 2\n",
      "\n",
      "['consensus problem', 'time heterogeneous multi', 'agents differed']\n",
      "len_topic: 3\n",
      "\n",
      "['stochastic learning', 'stackelberg game formulation', 'combining game theory', 'tier femtocell networks']\n",
      "len_topic: 4\n",
      "\n",
      "['dynamic multi', 'single solution does', 'objective optimisation']\n",
      "len_topic: 3\n",
      "\n",
      "['failure mode and effects analysis', 'failure cause']\n",
      "len_topic: 2\n",
      "\n",
      "['h?', 'fault detection']\n",
      "len_topic: 2\n",
      "\n",
      "['wikipedia', 'named entity', 'information extraction', 'semi-structured resources']\n",
      "len_topic: 4\n",
      "\n",
      "['pythagorean theorem', 'pythagorean membership grades', 'related idea']\n",
      "len_topic: 3\n",
      "\n",
      "['empirical correlations', 'support vector machine', 'computer program']\n",
      "len_topic: 3\n",
      "\n",
      "['batteries', 'battery charge measurement']\n",
      "len_topic: 2\n",
      "\n",
      "['hammerstein model', 'linear dynamic', 'space model']\n",
      "len_topic: 3\n",
      "\n",
      "['online social networks', 'social networks']\n",
      "len_topic: 2\n",
      "\n",
      "['times ascent', 'coordinate descent', 'stochastic gradient descent', 'rate of convergence']\n",
      "len_topic: 4\n",
      "\n",
      "['computer vision', 'kinect', 'image resolution']\n",
      "len_topic: 3\n",
      "\n",
      "['3d reconstruction', 'single moving camera', 'algorithm presented focuses']\n",
      "len_topic: 3\n",
      "\n",
      "['extreme lighting conditions', 'images captured', 'visual quality']\n",
      "len_topic: 3\n",
      "\n",
      "['minimally trained algorithm', 'syndromic surveillance']\n",
      "len_topic: 2\n",
      "\n",
      "['visualization', 'partitioning algorithms']\n",
      "len_topic: 2\n",
      "\n"
     ]
    }
   ],
   "source": [
    "overlap_merge_view_deg_neg(2013, k = 100)"
   ]
  },
  {
   "cell_type": "markdown",
   "metadata": {},
   "source": [
    "### Year 2014"
   ]
  },
  {
   "cell_type": "code",
   "execution_count": 224,
   "metadata": {},
   "outputs": [
    {
     "name": "stdout",
     "output_type": "stream",
     "text": [
      "OVERLAP MERGING RESULT WITH CLIQUE PERCOLATION METHOD, CASCADE MODEL, SEED TOP 100 NODES AND DEG THRESHOLD CALCULATION STRATEGY.\n",
      "\n",
      "['dynamic multi', 'objective optimisation problems']\n",
      "len_topic: 2\n",
      "\n",
      "['krasovskii functional', 'paper studies', 'time bounded', 'fuzzy model', 'linear matrix inequalities', 'finite time', 'optimal finite', 'stochastically finite', 'proposed design approach', 'designed algorithm', 'markovian jump parameters', 'appropriate lyapunov', 'bounded uncertainties', 'sufficient condition', 'time passive controller', 'uncertain nonlinear mjss', 'numerical example', 'admissible uncertainties']\n",
      "len_topic: 18\n",
      "\n",
      "['knowledge base', 'sentiment analysis', 'natural language']\n",
      "len_topic: 3\n",
      "\n",
      "['metaheuristic', 'convolutional neural network', 'formal system', 'yoshua bengio', 'geoffrey e. hinton', 'encoder', 'lyapunov fractal', 'nicolas boulanger-lewandowski', 'state space', 'neural network software', 'evolutionary algorithm', 'iterative method', 'bellman equation', 'optimization problem', 'shadowing (histology)', 'x.690', 'http public key pinning', 'alex krizhevsky', 'neighborhood search (ns) operator', 'point of view (computer hardware company)', 'metaheuristic search (ms)', 'scalability', 'freebase', 'bit error rate', 'search algorithm', 'rayleigh fading', 'ilya sutskever', 'nal kalchbrenner', 'complex network', 'algorithm', 'deep learning papers review at neurotechnology: attention mechanisms neurotechnology mar 15 2017', 'oriol vinyals', 'in-place algorithm', 'kyunghyun cho', 'iteration', 'particle swarm optimization (pso)', 'bil herd', 'dynamic programming', 'experiment', 'velocity (software development)', 'neural network simulation', 'premature convergence', 'nonlinear system', 'social inequality', 'quoc v. le', 'multitier architecture', 'fuzzy logic', 'interference (communication)', 'hamilton–jacobi–bellman equation', 'statistical machine translation', 'approximation algorithm', 'convex optimization', 'usb on-the-go', 'feasible region', 'phil blunsom', 'bart van merrienboer', 'reinforcement learning', 'mimo', 'particle swarm optimization', 'fault tolerance', 'numerical analysis', 'xiang zhang', 'markov decision process', 'constraint algorithm', 'recursive neural network', 'artificial neural network', 'optimal control', 'coefficient', 'neural networks', 'entity', 'computation', 'neural network', 'mathematical model', 'mathematical optimization', 'matthew d. zeiler', 'zhongqiang huang', 'mimo-ofdm', 'quality of service', 'benchmark (computing)', 'recurrent neural network', 'simulation', 'neural machine translation', 'sampling (signal processing)']\n",
      "len_topic: 83\n",
      "\n",
      "['solutions getting clustered', 'brainstorming process', 'swarm intelligence', 'promising algorithm', 'brain storm optimization', 'collective behavior']\n",
      "len_topic: 6\n",
      "\n",
      "['failure mode and effects analysis', 'risk evaluation']\n",
      "len_topic: 2\n",
      "\n",
      "['multilevel image thresholding', 'image segmentation']\n",
      "len_topic: 2\n",
      "\n",
      "['convex function', 'gradient method', 'empirical risk minimization']\n",
      "len_topic: 3\n",
      "\n",
      "['fuzzy set', 'indexes']\n",
      "len_topic: 2\n",
      "\n",
      "['criteria decision making', 'paper investigates']\n",
      "len_topic: 2\n",
      "\n",
      "['network life', 'network connectivity', 'wireless sensor networks']\n",
      "len_topic: 3\n",
      "\n",
      "['currently support', '70 commercial tools', 'facto standard']\n",
      "len_topic: 3\n",
      "\n",
      "['hybrid decision algorithm', 'operator networks environment']\n",
      "len_topic: 2\n",
      "\n",
      "['consensus', 'group decision making']\n",
      "len_topic: 2\n",
      "\n"
     ]
    }
   ],
   "source": [
    "overlap_merge_view_deg(2014, k = 100)"
   ]
  },
  {
   "cell_type": "code",
   "execution_count": 225,
   "metadata": {},
   "outputs": [
    {
     "ename": "TopicNotAllKeywordsUsedException",
     "evalue": "To perfom all topics not all keywords have been used.",
     "output_type": "error",
     "traceback": [
      "\u001b[0;31m---------------------------------------------------------------------------\u001b[0m",
      "\u001b[0;31mTopicNotAllKeywordsUsedException\u001b[0m          Traceback (most recent call last)",
      "\u001b[0;32m<ipython-input-225-ce37e81be1fa>\u001b[0m in \u001b[0;36m<module>\u001b[0;34m\u001b[0m\n\u001b[0;32m----> 1\u001b[0;31m \u001b[0moverlap_merge_view_half\u001b[0m\u001b[0;34m(\u001b[0m\u001b[0;36m2014\u001b[0m\u001b[0;34m,\u001b[0m \u001b[0mk\u001b[0m \u001b[0;34m=\u001b[0m \u001b[0;36m100\u001b[0m\u001b[0;34m)\u001b[0m\u001b[0;34m\u001b[0m\u001b[0;34m\u001b[0m\u001b[0m\n\u001b[0m",
      "\u001b[0;32m<ipython-input-6-644b1e1d3189>\u001b[0m in \u001b[0;36moverlap_merge_view_half\u001b[0;34m(year, k)\u001b[0m\n\u001b[1;32m     11\u001b[0m     \u001b[0mspread_dict\u001b[0m\u001b[0;34m[\u001b[0m\u001b[0mstr\u001b[0m\u001b[0;34m(\u001b[0m\u001b[0myear\u001b[0m\u001b[0;34m)\u001b[0m\u001b[0;34m]\u001b[0m\u001b[0;34m.\u001b[0m\u001b[0mindipendent_cascade_model\u001b[0m\u001b[0;34m(\u001b[0m\u001b[0;34m)\u001b[0m\u001b[0;34m\u001b[0m\u001b[0;34m\u001b[0m\u001b[0m\n\u001b[1;32m     12\u001b[0m     \u001b[0mcascade_half\u001b[0m \u001b[0;34m=\u001b[0m \u001b[0mspread_dict\u001b[0m\u001b[0;34m[\u001b[0m\u001b[0mstr\u001b[0m\u001b[0;34m(\u001b[0m\u001b[0myear\u001b[0m\u001b[0;34m)\u001b[0m\u001b[0;34m]\u001b[0m\u001b[0;34m.\u001b[0m\u001b[0mget_influenced_nodes\u001b[0m\u001b[0;34m(\u001b[0m\u001b[0;34m)\u001b[0m\u001b[0;34m\u001b[0m\u001b[0;34m\u001b[0m\u001b[0m\n\u001b[0;32m---> 13\u001b[0;31m     \u001b[0mtopics_half\u001b[0m \u001b[0;34m=\u001b[0m \u001b[0moverlap_perform\u001b[0m\u001b[0;34m(\u001b[0m\u001b[0myear\u001b[0m\u001b[0;34m,\u001b[0m \u001b[0mcascade_half\u001b[0m\u001b[0;34m,\u001b[0m \u001b[0mk\u001b[0m\u001b[0;34m)\u001b[0m\u001b[0;34m\u001b[0m\u001b[0;34m\u001b[0m\u001b[0m\n\u001b[0m\u001b[1;32m     14\u001b[0m     \u001b[0mto_print\u001b[0m\u001b[0;34m(\u001b[0m\u001b[0mtopics_half\u001b[0m\u001b[0;34m,\u001b[0m \u001b[0;34m\"cascade\"\u001b[0m\u001b[0;34m,\u001b[0m \u001b[0mk\u001b[0m\u001b[0;34m,\u001b[0m \u001b[0;34m\"half\"\u001b[0m\u001b[0;34m)\u001b[0m\u001b[0;34m\u001b[0m\u001b[0;34m\u001b[0m\u001b[0m\n\u001b[1;32m     15\u001b[0m \u001b[0;34m\u001b[0m\u001b[0m\n",
      "\u001b[0;32m<ipython-input-5-60ae7201d3cc>\u001b[0m in \u001b[0;36moverlap_perform\u001b[0;34m(year, all_topics, k)\u001b[0m\n\u001b[1;32m      3\u001b[0m     \u001b[0moverlap\u001b[0m\u001b[0;34m.\u001b[0m\u001b[0moverlap_preprocessing\u001b[0m\u001b[0;34m(\u001b[0m\u001b[0;34m)\u001b[0m\u001b[0;34m\u001b[0m\u001b[0;34m\u001b[0m\u001b[0m\n\u001b[1;32m      4\u001b[0m     \u001b[0moverlap\u001b[0m\u001b[0;34m.\u001b[0m\u001b[0mclique_percolation_method\u001b[0m\u001b[0;34m(\u001b[0m\u001b[0;34m)\u001b[0m\u001b[0;34m\u001b[0m\u001b[0;34m\u001b[0m\u001b[0m\n\u001b[0;32m----> 5\u001b[0;31m     \u001b[0moverlap\u001b[0m\u001b[0;34m.\u001b[0m\u001b[0mcheck_spread_topics\u001b[0m\u001b[0;34m(\u001b[0m\u001b[0;34m)\u001b[0m\u001b[0;34m\u001b[0m\u001b[0;34m\u001b[0m\u001b[0m\n\u001b[0m\u001b[1;32m      6\u001b[0m     \u001b[0moverlap\u001b[0m\u001b[0;34m.\u001b[0m\u001b[0mcheck_number_topics\u001b[0m\u001b[0;34m(\u001b[0m\u001b[0;34m)\u001b[0m\u001b[0;34m\u001b[0m\u001b[0;34m\u001b[0m\u001b[0m\n\u001b[1;32m      7\u001b[0m     \u001b[0;32mreturn\u001b[0m \u001b[0moverlap\u001b[0m\u001b[0;34m.\u001b[0m\u001b[0mget_topics\u001b[0m\u001b[0;34m(\u001b[0m\u001b[0;34m)\u001b[0m\u001b[0;34m\u001b[0m\u001b[0;34m\u001b[0m\u001b[0m\n",
      "\u001b[0;32m~/Universita/magistrale/web_and_social_information_extraction/webandsocial-progetto/src/overlaps_topics/overlap_topics.py\u001b[0m in \u001b[0;36mcheck_spread_topics\u001b[0;34m(self)\u001b[0m\n\u001b[1;32m    156\u001b[0m \u001b[0;34m\u001b[0m\u001b[0m\n\u001b[1;32m    157\u001b[0m         \u001b[0;32mif\u001b[0m \u001b[0msize_iteration\u001b[0m \u001b[0;34m!=\u001b[0m \u001b[0msize_topics\u001b[0m\u001b[0;34m:\u001b[0m\u001b[0;34m\u001b[0m\u001b[0;34m\u001b[0m\u001b[0m\n\u001b[0;32m--> 158\u001b[0;31m             \u001b[0;32mraise\u001b[0m \u001b[0mexcpt\u001b[0m\u001b[0;34m.\u001b[0m\u001b[0mTopicNotAllKeywordsUsedException\u001b[0m\u001b[0;34m(\u001b[0m\u001b[0;34m\"To perfom all topics not all keywords have been used.\"\u001b[0m\u001b[0;34m)\u001b[0m\u001b[0;34m\u001b[0m\u001b[0;34m\u001b[0m\u001b[0m\n\u001b[0m\u001b[1;32m    159\u001b[0m \u001b[0;34m\u001b[0m\u001b[0m\n\u001b[1;32m    160\u001b[0m \u001b[0;34m\u001b[0m\u001b[0m\n",
      "\u001b[0;31mTopicNotAllKeywordsUsedException\u001b[0m: To perfom all topics not all keywords have been used."
     ]
    }
   ],
   "source": [
    "overlap_merge_view_half(2014, k = 100)"
   ]
  },
  {
   "cell_type": "code",
   "execution_count": 226,
   "metadata": {},
   "outputs": [
    {
     "ename": "TopicNotAllKeywordsUsedException",
     "evalue": "To perfom all topics not all keywords have been used.",
     "output_type": "error",
     "traceback": [
      "\u001b[0;31m---------------------------------------------------------------------------\u001b[0m",
      "\u001b[0;31mTopicNotAllKeywordsUsedException\u001b[0m          Traceback (most recent call last)",
      "\u001b[0;32m<ipython-input-226-35433133fac7>\u001b[0m in \u001b[0;36m<module>\u001b[0;34m\u001b[0m\n\u001b[0;32m----> 1\u001b[0;31m \u001b[0moverlap_merge_view_deg_neg\u001b[0m\u001b[0;34m(\u001b[0m\u001b[0;36m2014\u001b[0m\u001b[0;34m,\u001b[0m \u001b[0mk\u001b[0m \u001b[0;34m=\u001b[0m \u001b[0;36m100\u001b[0m\u001b[0;34m)\u001b[0m\u001b[0;34m\u001b[0m\u001b[0;34m\u001b[0m\u001b[0m\n\u001b[0m",
      "\u001b[0;32m<ipython-input-6-644b1e1d3189>\u001b[0m in \u001b[0;36moverlap_merge_view_deg_neg\u001b[0;34m(year, k)\u001b[0m\n\u001b[1;32m     19\u001b[0m     \u001b[0mspread_dict\u001b[0m\u001b[0;34m[\u001b[0m\u001b[0mstr\u001b[0m\u001b[0;34m(\u001b[0m\u001b[0myear\u001b[0m\u001b[0;34m)\u001b[0m\u001b[0;34m]\u001b[0m\u001b[0;34m.\u001b[0m\u001b[0mindipendent_cascade_model\u001b[0m\u001b[0;34m(\u001b[0m\u001b[0;34m)\u001b[0m\u001b[0;34m\u001b[0m\u001b[0;34m\u001b[0m\u001b[0m\n\u001b[1;32m     20\u001b[0m     \u001b[0mcascade_deg_neg\u001b[0m \u001b[0;34m=\u001b[0m \u001b[0mspread_dict\u001b[0m\u001b[0;34m[\u001b[0m\u001b[0mstr\u001b[0m\u001b[0;34m(\u001b[0m\u001b[0myear\u001b[0m\u001b[0;34m)\u001b[0m\u001b[0;34m]\u001b[0m\u001b[0;34m.\u001b[0m\u001b[0mget_influenced_nodes\u001b[0m\u001b[0;34m(\u001b[0m\u001b[0;34m)\u001b[0m\u001b[0;34m\u001b[0m\u001b[0;34m\u001b[0m\u001b[0m\n\u001b[0;32m---> 21\u001b[0;31m     \u001b[0mtopics_deg_neg\u001b[0m \u001b[0;34m=\u001b[0m \u001b[0moverlap_perform\u001b[0m\u001b[0;34m(\u001b[0m\u001b[0myear\u001b[0m\u001b[0;34m,\u001b[0m \u001b[0mcascade_deg_neg\u001b[0m\u001b[0;34m,\u001b[0m \u001b[0mk\u001b[0m\u001b[0;34m)\u001b[0m\u001b[0;34m\u001b[0m\u001b[0;34m\u001b[0m\u001b[0m\n\u001b[0m\u001b[1;32m     22\u001b[0m     \u001b[0mto_print\u001b[0m\u001b[0;34m(\u001b[0m\u001b[0mtopics_deg_neg\u001b[0m\u001b[0;34m,\u001b[0m \u001b[0;34m\"cascade\"\u001b[0m\u001b[0;34m,\u001b[0m \u001b[0mk\u001b[0m\u001b[0;34m,\u001b[0m \u001b[0;34m\"deg negative\"\u001b[0m\u001b[0;34m)\u001b[0m\u001b[0;34m\u001b[0m\u001b[0;34m\u001b[0m\u001b[0m\n",
      "\u001b[0;32m<ipython-input-5-60ae7201d3cc>\u001b[0m in \u001b[0;36moverlap_perform\u001b[0;34m(year, all_topics, k)\u001b[0m\n\u001b[1;32m      3\u001b[0m     \u001b[0moverlap\u001b[0m\u001b[0;34m.\u001b[0m\u001b[0moverlap_preprocessing\u001b[0m\u001b[0;34m(\u001b[0m\u001b[0;34m)\u001b[0m\u001b[0;34m\u001b[0m\u001b[0;34m\u001b[0m\u001b[0m\n\u001b[1;32m      4\u001b[0m     \u001b[0moverlap\u001b[0m\u001b[0;34m.\u001b[0m\u001b[0mclique_percolation_method\u001b[0m\u001b[0;34m(\u001b[0m\u001b[0;34m)\u001b[0m\u001b[0;34m\u001b[0m\u001b[0;34m\u001b[0m\u001b[0m\n\u001b[0;32m----> 5\u001b[0;31m     \u001b[0moverlap\u001b[0m\u001b[0;34m.\u001b[0m\u001b[0mcheck_spread_topics\u001b[0m\u001b[0;34m(\u001b[0m\u001b[0;34m)\u001b[0m\u001b[0;34m\u001b[0m\u001b[0;34m\u001b[0m\u001b[0m\n\u001b[0m\u001b[1;32m      6\u001b[0m     \u001b[0moverlap\u001b[0m\u001b[0;34m.\u001b[0m\u001b[0mcheck_number_topics\u001b[0m\u001b[0;34m(\u001b[0m\u001b[0;34m)\u001b[0m\u001b[0;34m\u001b[0m\u001b[0;34m\u001b[0m\u001b[0m\n\u001b[1;32m      7\u001b[0m     \u001b[0;32mreturn\u001b[0m \u001b[0moverlap\u001b[0m\u001b[0;34m.\u001b[0m\u001b[0mget_topics\u001b[0m\u001b[0;34m(\u001b[0m\u001b[0;34m)\u001b[0m\u001b[0;34m\u001b[0m\u001b[0;34m\u001b[0m\u001b[0m\n",
      "\u001b[0;32m~/Universita/magistrale/web_and_social_information_extraction/webandsocial-progetto/src/overlaps_topics/overlap_topics.py\u001b[0m in \u001b[0;36mcheck_spread_topics\u001b[0;34m(self)\u001b[0m\n\u001b[1;32m    156\u001b[0m \u001b[0;34m\u001b[0m\u001b[0m\n\u001b[1;32m    157\u001b[0m         \u001b[0;32mif\u001b[0m \u001b[0msize_iteration\u001b[0m \u001b[0;34m!=\u001b[0m \u001b[0msize_topics\u001b[0m\u001b[0;34m:\u001b[0m\u001b[0;34m\u001b[0m\u001b[0;34m\u001b[0m\u001b[0m\n\u001b[0;32m--> 158\u001b[0;31m             \u001b[0;32mraise\u001b[0m \u001b[0mexcpt\u001b[0m\u001b[0;34m.\u001b[0m\u001b[0mTopicNotAllKeywordsUsedException\u001b[0m\u001b[0;34m(\u001b[0m\u001b[0;34m\"To perfom all topics not all keywords have been used.\"\u001b[0m\u001b[0;34m)\u001b[0m\u001b[0;34m\u001b[0m\u001b[0;34m\u001b[0m\u001b[0m\n\u001b[0m\u001b[1;32m    159\u001b[0m \u001b[0;34m\u001b[0m\u001b[0m\n\u001b[1;32m    160\u001b[0m \u001b[0;34m\u001b[0m\u001b[0m\n",
      "\u001b[0;31mTopicNotAllKeywordsUsedException\u001b[0m: To perfom all topics not all keywords have been used."
     ]
    }
   ],
   "source": [
    "overlap_merge_view_deg_neg(2014, k = 100)"
   ]
  },
  {
   "cell_type": "markdown",
   "metadata": {},
   "source": [
    "### Year 2015"
   ]
  },
  {
   "cell_type": "code",
   "execution_count": 227,
   "metadata": {},
   "outputs": [
    {
     "name": "stdout",
     "output_type": "stream",
     "text": [
      "OVERLAP MERGING RESULT WITH CLIQUE PERCOLATION METHOD, CASCADE MODEL, SEED TOP 100 NODES AND DEG THRESHOLD CALCULATION STRATEGY.\n",
      "\n",
      "['international network', 'regione lazio', 'specialized companies', 'central italy', 'digital services', 'topic discussions', 'paper describes', 'enterprise social network', 'social ties']\n",
      "len_topic: 9\n",
      "\n",
      "['insula of reil', 'lobule', 'precentral gyrus', 'parahippocampal gyrus', 'epilepsy temporal lobe', 'lateral occipitotemporal gyrus', \"alzheimer's disease\", 'inferior frontal gyrus', 'frontal lobe']\n",
      "len_topic: 9\n",
      "\n",
      "['unsupervised learning', 'artificial bee colony algorithm', 'memristor-based neural networks', 'trust region', 'bt bayesian theory', 'imagenet', 'extract features', 'satinder p. singh', 'convolutional neural network', 'unscented kalman filter', '????\\xa0', 'multi-agent system', 'formal system', 'normal brains', 'encoder', 'lyapunov fractal', 'swarm intelligence', 'mr brain images', 'emd empirical mode decomposition', 'low-power broadcasting', 'structural break modeling', 'novel automatic classification', 'sergey levine', 'accurate classification', 'computer assisted diagnosis', 'bellman equation', 'novelty detection', 'optimization problem', 'power semiconductor device', 'emanuel todorov', 'observers', 'http public key pinning', 'constrained optimization', 'deep learning', 'autoencoder', 'principal component analysis', 'support vector machine', 'computer simulation', 'anatomy regional', 'auto regressive integrated moving average', 'acoustic cryptanalysis', 'document classification', 'hypersonic flight vehicle\\xa0', 'autonomous robot', 'system dynamics', 'algorithm', 'magnetic resonance imaging', 'mri scanning', 'embedded systems', 'cross reactions', '???????\\xa0', 'riemann–liouville', 'iteration', 'resonance', 'feedback', 'adaptive systems', 'performance', 'experiment', 'tom erez', 'computationally intensive', 'neural network simulation', 'fine tune', 'increment', 'nonlinear systems', 'nonlinear system', 'crucially importance', 'medical analysis', 'fuzzy logic', 'hamilton–jacobi–bellman equation', 'interference (communication)', 'honglak lee', 'approximation algorithm', 'long short-term memory', 'distinguish abnormal brains', 'optimization', 'compaq lte', 'ar auto regressive', 'pca principal component analysis', 'noise reduction', 'coexist (image)', 'reinforcement learning', 'particle swarm optimization', 'feature learning', 'channel capacity', 'empirical mode decomposition', 'numerical analysis', 'fractional-order', 'radial (radio)', 'robot', 'database', '?????\\xa0', 'learning disorders', 'artificial bee colony', 'machine learning', 'artificial neural network', 'optimal control', 'yuval tassa', 'neural networks', 'tcp global synchronization', 'extreme learning machine\\xa0', 'doina precup', 'mathematical optimization', 'recurrent neural network', 'benchmark (computing)', 'feedforward neural network', 'adaptive algorithm', 'genetic algorithm', 'simulation', 'wavelet analysis', 'theory']\n",
      "len_topic: 110\n",
      "\n",
      "['speech utterances', 'bidirectional long short', 'handwritten documents', 'art performance']\n",
      "len_topic: 4\n",
      "\n",
      "['artificial intelligence (video games)', 'computational intelligence', 'procedural generation', 'high- and low-level']\n",
      "len_topic: 4\n",
      "\n",
      "['big data', 'mapreduce']\n",
      "len_topic: 2\n",
      "\n"
     ]
    }
   ],
   "source": [
    "overlap_merge_view_deg(2015, k = 100)"
   ]
  },
  {
   "cell_type": "code",
   "execution_count": 228,
   "metadata": {},
   "outputs": [
    {
     "name": "stdout",
     "output_type": "stream",
     "text": [
      "OVERLAP MERGING RESULT WITH CLIQUE PERCOLATION METHOD, CASCADE MODEL, SEED TOP 100 NODES AND HALF THRESHOLD CALCULATION STRATEGY.\n",
      "\n",
      "['international network', 'regione lazio', 'specialized companies', 'central italy', 'digital services', 'topic discussions', 'paper describes', 'enterprise social network', 'social ties']\n",
      "len_topic: 9\n",
      "\n",
      "['continuous optimization', 'unsupervised learning', 'artificial bee colony algorithm', 'memristor-based neural networks', 'trust region', 'imagenet', 'arima auto regressive integrated moving average', '????\\xa0', 'normal brains', 'geoffrey e. hinton', 'mr brain images', 'cluster analysis', 'memory intensive making', 'novel automatic classification', 'sergey levine', '20301', 'computer assisted diagnosis', 'bellman equation', 'novelty detection', 'power semiconductor device', 'observers', 'pattern recognition', 'block cipher mode of operation', 'http public key pinning', 'deep learning', 'throughput', 'alex krizhevsky', 'autoencoder', 'principal component analysis', 'anatomy regional', 'computer simulation', 'tbr ??\\xa0', 'signal processing', 'ilya sutskever', 'document classification', 'weibull distribution function', 'algorithm', 'd2d communication\\xa0', 'mri scanning', 'ga genetic algorithm', 'dynamic programming', 'adaptive systems', '??????\\xa0', 'linear matrix inequality', 'neural network simulation', 'nonlinear systems', 'increment', 'parsing', 'nonlinear system', 'crucially importance', 'medical analysis', 'interference (communication)', 'imagenet dataset', 'well-posed problem', 'long short-term memory', 'distinguish abnormal brains', 'compaq lte', 'pca principal component analysis', 'dynamic network\\xa0', 'coexist (image)', 'particle swarm optimization', 'speech recognition', 'feature learning', 'empirical mode decomposition', 'channel capacity', 'fractional-order', 'database', 'yuval tassa', '???\\xa0', 'synchronization (computer science)', 'input-output linearization\\xa0', 'extreme learning machine\\xa0', 'map', 'doina precup', 'mathematical optimization', 'recurrent neural network', 'genetic algorithm', 'synchronization', 'stability', 'cellular multicast\\xa0', 'ar auto regressive', 'bt bayesian theory', 'control system', 'extract features', 'unscented kalman filter', 'formal system', 'satinder p. singh', 'convex function', 'multi-agent system', 'convolutional neural network', 'bayesian optimization', 'lyapunov fractal', 'swarm intelligence', 'correctness (computer science)', 'spectral efficiency', 'emd empirical mode decomposition', 'markov chain', 'low-power broadcasting', 'structural break modeling', 'christian szegedy', 'accurate classification', 'optimization problem', 'emanuel todorov', 'categorization', 'support vector machine', 'memristor', 'auto regressive integrated moving average', 'acoustic cryptanalysis', 'hypersonic flight vehicle\\xa0', 'autonomous robot', 'online and offline', 'system dynamics', 'magnetic resonance imaging', 'embedded systems', 'cross reactions', 'output feedback', '???????\\xa0', 'iteration', 'maxima and minima', 'feedback', 'performance', 'experiment', 'computationally intensive', 'tom erez', 'social network\\xa0', 'social inequality', 'remaining connections', 'fuzzy logic', 'hamilton–jacobi–bellman equation', 'honglak lee', 'language model', 'approximation algorithm', 'convex optimization', 'noise reduction', 'artificial intelligence', '11101', 'reinforcement learning', 'back-stepping\\xa0', 'supervised learning', 'fuzzy control system', '82301', 'decision tree learning', 'numerical analysis', 'robot', 'controllers', '?????\\xa0', 'learning disorders', 'artificial bee colony', 'machine learning', 'converge', 'artificial neural network', 'filter bank', 'optimal control', 'firefly algorithm', 'computer vision', 'neural networks', 'network topology', 'tcp global synchronization', 'benchmark (computing)', 'adaptive algorithm', 'time complexity', 'feedforward neural network', 'interaction', 'simulation', 'sparse matrix', 'wavelet analysis', 'theory']\n",
      "len_topic: 167\n",
      "\n",
      "['insula of reil', 'lobule', 'precentral gyrus', 'parahippocampal gyrus', 'epilepsy temporal lobe', 'lateral occipitotemporal gyrus', \"alzheimer's disease\", 'inferior frontal gyrus', 'frontal lobe']\n",
      "len_topic: 9\n",
      "\n",
      "['handwritten documents', 'art performance', 'speech utterances', 'bidirectional long short', 'use blstm']\n",
      "len_topic: 5\n",
      "\n",
      "['mapreduce', 'hadoop', 'requirement', 'big data', 'scalability']\n",
      "len_topic: 5\n",
      "\n",
      "['artificial intelligence (video games)', 'procedural generation']\n",
      "len_topic: 2\n",
      "\n"
     ]
    }
   ],
   "source": [
    "overlap_merge_view_half(2015, k = 100)"
   ]
  },
  {
   "cell_type": "code",
   "execution_count": 229,
   "metadata": {},
   "outputs": [
    {
     "name": "stdout",
     "output_type": "stream",
     "text": [
      "OVERLAP MERGING RESULT WITH CLIQUE PERCOLATION METHOD, CASCADE MODEL, SEED TOP 100 NODES AND DEG NEGATIVE THRESHOLD CALCULATION STRATEGY.\n",
      "\n",
      "['international network', 'regione lazio', 'specialized companies', 'central italy', 'digital services', 'topic discussions', 'paper describes', 'enterprise social network', 'social ties']\n",
      "len_topic: 9\n",
      "\n",
      "['continuous optimization', 'unsupervised learning', 'artificial bee colony algorithm', 'memristor-based neural networks', 'trust region', 'imagenet', 'arima auto regressive integrated moving average', '????\\xa0', 'normal brains', 'geoffrey e. hinton', 'mr brain images', 'aided diagnosis', 'memory intensive making', 'cluster analysis', 'novel automatic classification', 'sergey levine', '20301', 'computer assisted diagnosis', 'bellman equation', 'linearizing at the trim state\\xa0', 'novelty detection', 'power semiconductor device', 'observers', 'pattern recognition', 'block cipher mode of operation', 'http public key pinning', 'deep learning', 'throughput', 'alex krizhevsky', 'autoencoder', 'non-minimum phase\\xa0', 'principal component analysis', 'anatomy regional', 'computer simulation', 'tbr ??\\xa0', 'signal processing', 'ilya sutskever', 'document classification', 'link prediction\\xa0', 'weibull distribution function', 'algorithm', 'd2d communication\\xa0', 'mri scanning', 'ga genetic algorithm', 'riemann–liouville', 'dynamic programming', 'adaptive systems', '??????\\xa0', 'feature representation\\xa0', 'linear matrix inequality', 'neural network simulation', 'nonlinear systems', 'increment', 'parsing', 'nonlinear system', 'crucially importance', 'medical analysis', 'interference (communication)', 'imagenet dataset', 'well-posed problem', 'long short-term memory', 'distinguish abnormal brains', 'optimization', 'stochastic gradient descent', 'compaq lte', 'global optimization', 'pca principal component analysis', 'dynamic network\\xa0', 'coexist (image)', 'control theory', 'particle swarm optimization', 'elm', 'feature learning', 'speech recognition', 'empirical mode decomposition', 'power control\\xa0', 'channel capacity', 'prediction', 'fractional-order', 'radial (radio)', 'database', 'interference management\\xa0', 'yuval tassa', 'linear matrix inequality (lmi)', '???\\xa0', 'synchronization (computer science)', 'input-output linearization\\xa0', 'extreme learning machine\\xa0', 'map', 'doina precup', 'mathematical optimization', 'recurrent neural network', 'genetic algorithm', 'synchronization', 'stability', 'ar auto regressive', 'bt bayesian theory', 'control system', 'extract features', 'unscented kalman filter', 'formal system', 'satinder p. singh', 'convex function', 'multi-agent system', 'convolutional neural network', 'bayesian optimization', 'lyapunov fractal', 'swarm intelligence', 'correctness (computer science)', 'spectral efficiency', 'emd empirical mode decomposition', 'markov chain', 'low-power broadcasting', 'structural break modeling', 'christian szegedy', 'accurate classification', 'optimization problem', 'emanuel todorov', 'categorization', '70201', 'support vector machine', 'memristor', 'auto regressive integrated moving average', 'learning model\\xa0', 'acoustic cryptanalysis', 'hypersonic flight vehicle\\xa0', 'autonomous robot', 'online and offline', 'system dynamics', 'magnetic resonance imaging', 'embedded systems', 'cross reactions', 'output feedback', '???????\\xa0', 'iteration', 'maxima and minima', 'stabilization', 'feedback', 'performance', 'experiment', 'computationally intensive', 'tom erez', 'social network\\xa0', 'fine tune', 'social inequality', 'remaining connections', 'fuzzy logic', 'hamilton–jacobi–bellman equation', 'honglak lee', 'language model', 'approximation algorithm', 'real-time transcription', 'convex optimization', 'noise reduction', 'artificial intelligence', 'interval time-varying delay', '11101', 'reinforcement learning', 'fuzzy control system', 'supervised learning', 'statistical classification', '82301', 'approximation', 'numerical analysis', 'decision tree learning', 'loss function', 'robot', 'controllers', '?????\\xa0', 'learning disorders', 'artificial bee colony', 'machine learning', 'converge', 'artificial neural network', 'filter bank', 'optimal control', 'firefly algorithm', 'computer vision', 'neural networks', 'network topology', 'tcp global synchronization', 'similarity metric\\xa0', 'benchmark (computing)', 'adaptive algorithm', 'time complexity', 'feedforward neural network', 'interaction', 'simulation', 'sparse matrix', 'wavelet analysis', 'theory']\n",
      "len_topic: 191\n",
      "\n",
      "['insula of reil', 'lobule', 'precentral gyrus', 'parahippocampal gyrus', 'epilepsy temporal lobe', 'lateral occipitotemporal gyrus', \"alzheimer's disease\", 'inferior frontal gyrus', 'frontal lobe']\n",
      "len_topic: 9\n",
      "\n",
      "['handwritten documents', 'art performance', 'speech utterances', 'bidirectional long short', 'use blstm']\n",
      "len_topic: 5\n",
      "\n",
      "['mapreduce', 'hadoop', 'requirement', 'big data', 'scalability']\n",
      "len_topic: 5\n",
      "\n",
      "['computational intelligence', 'artificial intelligence (video games)', 'procedural generation']\n",
      "len_topic: 3\n",
      "\n"
     ]
    }
   ],
   "source": [
    "overlap_merge_view_deg_neg(2015, k = 100)"
   ]
  },
  {
   "cell_type": "markdown",
   "metadata": {},
   "source": [
    "### Year 2016"
   ]
  },
  {
   "cell_type": "code",
   "execution_count": 230,
   "metadata": {},
   "outputs": [
    {
     "name": "stdout",
     "output_type": "stream",
     "text": [
      "OVERLAP MERGING RESULT WITH CLIQUE PERCOLATION METHOD, CASCADE MODEL, SEED TOP 100 NODES AND DEG THRESHOLD CALCULATION STRATEGY.\n",
      "\n",
      "['brute-force search', 'daily basis', 'convolutional neural network', 'potential benefits', 'formal system', 'agent-based model', 'multi-agent system', 'lyapunov fractal', 'requirement', 'volodymyr mnih', 'iterative method', 'bellman equation', 'asthma patients demonstrate', 'benchmark\\xa0', 'apriori algorithm', 'novel objective', 'cognitive radio', 'upper confidence bound', 'adaptive coding', 'atari', 'deep learning', 'throughput', 'weight', 'autoencoder', 'data mining', 'recommending treatments', 'ibm systems network architecture', 'search algorithm', 'computer data storage', 'mark rowland', 'algorithm', 'numerical linear algebra', 'statistical model', 'training', 'exploit (computer security)', 'experimental results', 'diagnostic test results', 'decision list', 'decision makers', 'optimization\\xa0', 'iteration', 'big data', 'marc g. bellemare', 'dynamic programming', 'subnetwork', 'ben parr', 'rémi munos', 'experiment', 'maximizes outcomes', 'linear matrix inequality', 'mnist database', 'neural network simulation', 'frequency band', 'bayesian network', 'nonlinear systems', 'nonlinear system', 'social inequality', 'biological neural networks', 'fuzzy logic', 'interference (communication)', 'apache spark', 'hamilton–jacobi–bellman equation', 'effective interpretable', 'approximation algorithm', 'genetic algorithm\\xa0', 'global optimization', 'koray kavukcuoglu', 'maps characteristics', 'code', 'particle swarm optimization\\xa0', 'dropout (neural networks)', 'control theory', 'open-source software', 'will dabney', 'demis hassabis', 'reinforcement learning', 'fuzzy control system', 'minimizes overall costs', 'numerical analysis', 'hado van hasselt', 'markov decision process', 'leverages customized checks', 'learning disorders', 'granting bails', 'machine learning', 'converge', 'artificial neural network', 'optimal control', 'knowledge graph', 'network topology', 'neural networks', 'fuzzy rule', 'mapreduce', 'costs involved', 'channel state information', 'computation', 'search space effectively', 'mathematical model', 'mathematical optimization', 'recurrent neural network', 'benchmark (computing)', 'feedforward neural network', 'quality of service', 'adversary (cryptography)', 'simulation', 'sparse matrix', 'time-varying delay']\n",
      "len_topic: 107\n",
      "\n",
      "['language text', 'mapping ambiguous terms', 'knowledge base', 'resource description framework', 'entity disambiguation', 'textual documents', 'structured data']\n",
      "len_topic: 7\n",
      "\n",
      "['criterion weights', 'criteria decision', 'linguistic scale functions', 'criterion values']\n",
      "len_topic: 4\n",
      "\n",
      "['online classes', 'massive online classes']\n",
      "len_topic: 2\n",
      "\n",
      "['semantic web ecosystem', 'distributional models', 'dense vector representations', 'human readable', 'easily embedded', 'contextual information']\n",
      "len_topic: 6\n",
      "\n",
      "['object detection', 'computer vision']\n",
      "len_topic: 2\n",
      "\n",
      "['programs encoded', 'apparatus including']\n",
      "len_topic: 2\n",
      "\n",
      "['paper investigates', 'new type']\n",
      "len_topic: 2\n",
      "\n",
      "['retrieval efficiency hashing', 'data pairs', 'separate quantization step', 'hash coding', 'image retrieval', 'sense clustering', 'semantic similarity', 'scale multimedia retrieval']\n",
      "len_topic: 8\n",
      "\n",
      "['sentiment analysis', 'opinion mining']\n",
      "len_topic: 2\n",
      "\n",
      "['agent systems', 'linear multi']\n",
      "len_topic: 2\n",
      "\n"
     ]
    }
   ],
   "source": [
    "overlap_merge_view_deg(2016, k = 100)"
   ]
  },
  {
   "cell_type": "code",
   "execution_count": 231,
   "metadata": {},
   "outputs": [
    {
     "ename": "TopicNotAllKeywordsUsedException",
     "evalue": "To perfom all topics not all keywords have been used.",
     "output_type": "error",
     "traceback": [
      "\u001b[0;31m---------------------------------------------------------------------------\u001b[0m",
      "\u001b[0;31mTopicNotAllKeywordsUsedException\u001b[0m          Traceback (most recent call last)",
      "\u001b[0;32m<ipython-input-231-e7fad76d5348>\u001b[0m in \u001b[0;36m<module>\u001b[0;34m\u001b[0m\n\u001b[0;32m----> 1\u001b[0;31m \u001b[0moverlap_merge_view_half\u001b[0m\u001b[0;34m(\u001b[0m\u001b[0;36m2016\u001b[0m\u001b[0;34m,\u001b[0m \u001b[0mk\u001b[0m \u001b[0;34m=\u001b[0m \u001b[0;36m100\u001b[0m\u001b[0;34m)\u001b[0m\u001b[0;34m\u001b[0m\u001b[0;34m\u001b[0m\u001b[0m\n\u001b[0m",
      "\u001b[0;32m<ipython-input-6-644b1e1d3189>\u001b[0m in \u001b[0;36moverlap_merge_view_half\u001b[0;34m(year, k)\u001b[0m\n\u001b[1;32m     11\u001b[0m     \u001b[0mspread_dict\u001b[0m\u001b[0;34m[\u001b[0m\u001b[0mstr\u001b[0m\u001b[0;34m(\u001b[0m\u001b[0myear\u001b[0m\u001b[0;34m)\u001b[0m\u001b[0;34m]\u001b[0m\u001b[0;34m.\u001b[0m\u001b[0mindipendent_cascade_model\u001b[0m\u001b[0;34m(\u001b[0m\u001b[0;34m)\u001b[0m\u001b[0;34m\u001b[0m\u001b[0;34m\u001b[0m\u001b[0m\n\u001b[1;32m     12\u001b[0m     \u001b[0mcascade_half\u001b[0m \u001b[0;34m=\u001b[0m \u001b[0mspread_dict\u001b[0m\u001b[0;34m[\u001b[0m\u001b[0mstr\u001b[0m\u001b[0;34m(\u001b[0m\u001b[0myear\u001b[0m\u001b[0;34m)\u001b[0m\u001b[0;34m]\u001b[0m\u001b[0;34m.\u001b[0m\u001b[0mget_influenced_nodes\u001b[0m\u001b[0;34m(\u001b[0m\u001b[0;34m)\u001b[0m\u001b[0;34m\u001b[0m\u001b[0;34m\u001b[0m\u001b[0m\n\u001b[0;32m---> 13\u001b[0;31m     \u001b[0mtopics_half\u001b[0m \u001b[0;34m=\u001b[0m \u001b[0moverlap_perform\u001b[0m\u001b[0;34m(\u001b[0m\u001b[0myear\u001b[0m\u001b[0;34m,\u001b[0m \u001b[0mcascade_half\u001b[0m\u001b[0;34m,\u001b[0m \u001b[0mk\u001b[0m\u001b[0;34m)\u001b[0m\u001b[0;34m\u001b[0m\u001b[0;34m\u001b[0m\u001b[0m\n\u001b[0m\u001b[1;32m     14\u001b[0m     \u001b[0mto_print\u001b[0m\u001b[0;34m(\u001b[0m\u001b[0mtopics_half\u001b[0m\u001b[0;34m,\u001b[0m \u001b[0;34m\"cascade\"\u001b[0m\u001b[0;34m,\u001b[0m \u001b[0mk\u001b[0m\u001b[0;34m,\u001b[0m \u001b[0;34m\"half\"\u001b[0m\u001b[0;34m)\u001b[0m\u001b[0;34m\u001b[0m\u001b[0;34m\u001b[0m\u001b[0m\n\u001b[1;32m     15\u001b[0m \u001b[0;34m\u001b[0m\u001b[0m\n",
      "\u001b[0;32m<ipython-input-5-60ae7201d3cc>\u001b[0m in \u001b[0;36moverlap_perform\u001b[0;34m(year, all_topics, k)\u001b[0m\n\u001b[1;32m      3\u001b[0m     \u001b[0moverlap\u001b[0m\u001b[0;34m.\u001b[0m\u001b[0moverlap_preprocessing\u001b[0m\u001b[0;34m(\u001b[0m\u001b[0;34m)\u001b[0m\u001b[0;34m\u001b[0m\u001b[0;34m\u001b[0m\u001b[0m\n\u001b[1;32m      4\u001b[0m     \u001b[0moverlap\u001b[0m\u001b[0;34m.\u001b[0m\u001b[0mclique_percolation_method\u001b[0m\u001b[0;34m(\u001b[0m\u001b[0;34m)\u001b[0m\u001b[0;34m\u001b[0m\u001b[0;34m\u001b[0m\u001b[0m\n\u001b[0;32m----> 5\u001b[0;31m     \u001b[0moverlap\u001b[0m\u001b[0;34m.\u001b[0m\u001b[0mcheck_spread_topics\u001b[0m\u001b[0;34m(\u001b[0m\u001b[0;34m)\u001b[0m\u001b[0;34m\u001b[0m\u001b[0;34m\u001b[0m\u001b[0m\n\u001b[0m\u001b[1;32m      6\u001b[0m     \u001b[0moverlap\u001b[0m\u001b[0;34m.\u001b[0m\u001b[0mcheck_number_topics\u001b[0m\u001b[0;34m(\u001b[0m\u001b[0;34m)\u001b[0m\u001b[0;34m\u001b[0m\u001b[0;34m\u001b[0m\u001b[0m\n\u001b[1;32m      7\u001b[0m     \u001b[0;32mreturn\u001b[0m \u001b[0moverlap\u001b[0m\u001b[0;34m.\u001b[0m\u001b[0mget_topics\u001b[0m\u001b[0;34m(\u001b[0m\u001b[0;34m)\u001b[0m\u001b[0;34m\u001b[0m\u001b[0;34m\u001b[0m\u001b[0m\n",
      "\u001b[0;32m~/Universita/magistrale/web_and_social_information_extraction/webandsocial-progetto/src/overlaps_topics/overlap_topics.py\u001b[0m in \u001b[0;36mcheck_spread_topics\u001b[0;34m(self)\u001b[0m\n\u001b[1;32m    156\u001b[0m \u001b[0;34m\u001b[0m\u001b[0m\n\u001b[1;32m    157\u001b[0m         \u001b[0;32mif\u001b[0m \u001b[0msize_iteration\u001b[0m \u001b[0;34m!=\u001b[0m \u001b[0msize_topics\u001b[0m\u001b[0;34m:\u001b[0m\u001b[0;34m\u001b[0m\u001b[0;34m\u001b[0m\u001b[0m\n\u001b[0;32m--> 158\u001b[0;31m             \u001b[0;32mraise\u001b[0m \u001b[0mexcpt\u001b[0m\u001b[0;34m.\u001b[0m\u001b[0mTopicNotAllKeywordsUsedException\u001b[0m\u001b[0;34m(\u001b[0m\u001b[0;34m\"To perfom all topics not all keywords have been used.\"\u001b[0m\u001b[0;34m)\u001b[0m\u001b[0;34m\u001b[0m\u001b[0;34m\u001b[0m\u001b[0m\n\u001b[0m\u001b[1;32m    159\u001b[0m \u001b[0;34m\u001b[0m\u001b[0m\n\u001b[1;32m    160\u001b[0m \u001b[0;34m\u001b[0m\u001b[0m\n",
      "\u001b[0;31mTopicNotAllKeywordsUsedException\u001b[0m: To perfom all topics not all keywords have been used."
     ]
    }
   ],
   "source": [
    "overlap_merge_view_half(2016, k = 100)"
   ]
  },
  {
   "cell_type": "code",
   "execution_count": 232,
   "metadata": {},
   "outputs": [
    {
     "ename": "TopicNotAllKeywordsUsedException",
     "evalue": "To perfom all topics not all keywords have been used.",
     "output_type": "error",
     "traceback": [
      "\u001b[0;31m---------------------------------------------------------------------------\u001b[0m",
      "\u001b[0;31mTopicNotAllKeywordsUsedException\u001b[0m          Traceback (most recent call last)",
      "\u001b[0;32m<ipython-input-232-c2dcabfa46eb>\u001b[0m in \u001b[0;36m<module>\u001b[0;34m\u001b[0m\n\u001b[0;32m----> 1\u001b[0;31m \u001b[0moverlap_merge_view_deg_neg\u001b[0m\u001b[0;34m(\u001b[0m\u001b[0;36m2016\u001b[0m\u001b[0;34m,\u001b[0m \u001b[0mk\u001b[0m \u001b[0;34m=\u001b[0m \u001b[0;36m100\u001b[0m\u001b[0;34m)\u001b[0m\u001b[0;34m\u001b[0m\u001b[0;34m\u001b[0m\u001b[0m\n\u001b[0m",
      "\u001b[0;32m<ipython-input-6-644b1e1d3189>\u001b[0m in \u001b[0;36moverlap_merge_view_deg_neg\u001b[0;34m(year, k)\u001b[0m\n\u001b[1;32m     19\u001b[0m     \u001b[0mspread_dict\u001b[0m\u001b[0;34m[\u001b[0m\u001b[0mstr\u001b[0m\u001b[0;34m(\u001b[0m\u001b[0myear\u001b[0m\u001b[0;34m)\u001b[0m\u001b[0;34m]\u001b[0m\u001b[0;34m.\u001b[0m\u001b[0mindipendent_cascade_model\u001b[0m\u001b[0;34m(\u001b[0m\u001b[0;34m)\u001b[0m\u001b[0;34m\u001b[0m\u001b[0;34m\u001b[0m\u001b[0m\n\u001b[1;32m     20\u001b[0m     \u001b[0mcascade_deg_neg\u001b[0m \u001b[0;34m=\u001b[0m \u001b[0mspread_dict\u001b[0m\u001b[0;34m[\u001b[0m\u001b[0mstr\u001b[0m\u001b[0;34m(\u001b[0m\u001b[0myear\u001b[0m\u001b[0;34m)\u001b[0m\u001b[0;34m]\u001b[0m\u001b[0;34m.\u001b[0m\u001b[0mget_influenced_nodes\u001b[0m\u001b[0;34m(\u001b[0m\u001b[0;34m)\u001b[0m\u001b[0;34m\u001b[0m\u001b[0;34m\u001b[0m\u001b[0m\n\u001b[0;32m---> 21\u001b[0;31m     \u001b[0mtopics_deg_neg\u001b[0m \u001b[0;34m=\u001b[0m \u001b[0moverlap_perform\u001b[0m\u001b[0;34m(\u001b[0m\u001b[0myear\u001b[0m\u001b[0;34m,\u001b[0m \u001b[0mcascade_deg_neg\u001b[0m\u001b[0;34m,\u001b[0m \u001b[0mk\u001b[0m\u001b[0;34m)\u001b[0m\u001b[0;34m\u001b[0m\u001b[0;34m\u001b[0m\u001b[0m\n\u001b[0m\u001b[1;32m     22\u001b[0m     \u001b[0mto_print\u001b[0m\u001b[0;34m(\u001b[0m\u001b[0mtopics_deg_neg\u001b[0m\u001b[0;34m,\u001b[0m \u001b[0;34m\"cascade\"\u001b[0m\u001b[0;34m,\u001b[0m \u001b[0mk\u001b[0m\u001b[0;34m,\u001b[0m \u001b[0;34m\"deg negative\"\u001b[0m\u001b[0;34m)\u001b[0m\u001b[0;34m\u001b[0m\u001b[0;34m\u001b[0m\u001b[0m\n",
      "\u001b[0;32m<ipython-input-5-60ae7201d3cc>\u001b[0m in \u001b[0;36moverlap_perform\u001b[0;34m(year, all_topics, k)\u001b[0m\n\u001b[1;32m      3\u001b[0m     \u001b[0moverlap\u001b[0m\u001b[0;34m.\u001b[0m\u001b[0moverlap_preprocessing\u001b[0m\u001b[0;34m(\u001b[0m\u001b[0;34m)\u001b[0m\u001b[0;34m\u001b[0m\u001b[0;34m\u001b[0m\u001b[0m\n\u001b[1;32m      4\u001b[0m     \u001b[0moverlap\u001b[0m\u001b[0;34m.\u001b[0m\u001b[0mclique_percolation_method\u001b[0m\u001b[0;34m(\u001b[0m\u001b[0;34m)\u001b[0m\u001b[0;34m\u001b[0m\u001b[0;34m\u001b[0m\u001b[0m\n\u001b[0;32m----> 5\u001b[0;31m     \u001b[0moverlap\u001b[0m\u001b[0;34m.\u001b[0m\u001b[0mcheck_spread_topics\u001b[0m\u001b[0;34m(\u001b[0m\u001b[0;34m)\u001b[0m\u001b[0;34m\u001b[0m\u001b[0;34m\u001b[0m\u001b[0m\n\u001b[0m\u001b[1;32m      6\u001b[0m     \u001b[0moverlap\u001b[0m\u001b[0;34m.\u001b[0m\u001b[0mcheck_number_topics\u001b[0m\u001b[0;34m(\u001b[0m\u001b[0;34m)\u001b[0m\u001b[0;34m\u001b[0m\u001b[0;34m\u001b[0m\u001b[0m\n\u001b[1;32m      7\u001b[0m     \u001b[0;32mreturn\u001b[0m \u001b[0moverlap\u001b[0m\u001b[0;34m.\u001b[0m\u001b[0mget_topics\u001b[0m\u001b[0;34m(\u001b[0m\u001b[0;34m)\u001b[0m\u001b[0;34m\u001b[0m\u001b[0;34m\u001b[0m\u001b[0m\n",
      "\u001b[0;32m~/Universita/magistrale/web_and_social_information_extraction/webandsocial-progetto/src/overlaps_topics/overlap_topics.py\u001b[0m in \u001b[0;36mcheck_spread_topics\u001b[0;34m(self)\u001b[0m\n\u001b[1;32m    156\u001b[0m \u001b[0;34m\u001b[0m\u001b[0m\n\u001b[1;32m    157\u001b[0m         \u001b[0;32mif\u001b[0m \u001b[0msize_iteration\u001b[0m \u001b[0;34m!=\u001b[0m \u001b[0msize_topics\u001b[0m\u001b[0;34m:\u001b[0m\u001b[0;34m\u001b[0m\u001b[0;34m\u001b[0m\u001b[0m\n\u001b[0;32m--> 158\u001b[0;31m             \u001b[0;32mraise\u001b[0m \u001b[0mexcpt\u001b[0m\u001b[0;34m.\u001b[0m\u001b[0mTopicNotAllKeywordsUsedException\u001b[0m\u001b[0;34m(\u001b[0m\u001b[0;34m\"To perfom all topics not all keywords have been used.\"\u001b[0m\u001b[0;34m)\u001b[0m\u001b[0;34m\u001b[0m\u001b[0;34m\u001b[0m\u001b[0m\n\u001b[0m\u001b[1;32m    159\u001b[0m \u001b[0;34m\u001b[0m\u001b[0m\n\u001b[1;32m    160\u001b[0m \u001b[0;34m\u001b[0m\u001b[0m\n",
      "\u001b[0;31mTopicNotAllKeywordsUsedException\u001b[0m: To perfom all topics not all keywords have been used."
     ]
    }
   ],
   "source": [
    "overlap_merge_view_deg_neg(2016, k = 100)"
   ]
  },
  {
   "cell_type": "markdown",
   "metadata": {},
   "source": [
    "### Year 2017"
   ]
  },
  {
   "cell_type": "code",
   "execution_count": 233,
   "metadata": {},
   "outputs": [
    {
     "name": "stdout",
     "output_type": "stream",
     "text": [
      "OVERLAP MERGING RESULT WITH CLIQUE PERCOLATION METHOD, CASCADE MODEL, SEED TOP 100 NODES AND DEG THRESHOLD CALCULATION STRATEGY.\n",
      "\n",
      "['experiment', 'input lag', 'firefly algorithm (fa)\\xa0', 'adversarial examples', 'linear matrix inequality', 'premature convergence', 'neural network simulation', 'nonlinear system', 'triangular matrix', 'social inequality', 'lyapunov fractal', 'swarm intelligence', 'cluster analysis', 'semiconductor industry', 'swarm intelligence\\xa0', 'network packet', 'control theory', 'neural coding', 'heuristic', 'particle swarm optimization', 'cognitive radio', 'data synchronization', 'throughput', 'numerical analysis', 'approximation', 'adversarial inputs', 'wireless sensor networks\\xa0', 'routing', 'sawtooth (cellular automaton)', 'machine learning', 'artificial neural network', \"jensen's inequality\", 'firefly algorithm', 'statistical cluster', 'inference', 'algorithm', 'firefly (cache coherence protocol)', 'mathematical optimization', 'benchmark (computing)', 'quality of service', 'simulation', 'sparse matrix', 'sampling - surgical action', 'sampling (signal processing)', 'feedback']\n",
      "len_topic: 45\n",
      "\n",
      "['mnist database', 'imagenet']\n",
      "len_topic: 2\n",
      "\n",
      "['aperiodically intermittent control', 'derived analytically', 'intermittent control', 'useful criteria']\n",
      "len_topic: 4\n",
      "\n",
      "['mobile network operators', 'radio access network']\n",
      "len_topic: 2\n",
      "\n",
      "['search result diversification', 'alternating direction method', 'significantly outperform', 'diverse ranking model', 'art baselines']\n",
      "len_topic: 5\n",
      "\n",
      "['dynamic artifacts', 'semantic web technologies', 'critical operation', 'application relying']\n",
      "len_topic: 4\n",
      "\n",
      "['extracted based', 'shape features']\n",
      "len_topic: 2\n",
      "\n",
      "['electronic communications', 'noncanonical communication']\n",
      "len_topic: 2\n",
      "\n",
      "['powerful approach', 'word embeddings', 'exponential family embeddings']\n",
      "len_topic: 3\n",
      "\n",
      "['book constitutes', 'topical sections named', 'carefully reviewed', 'refereed proceedings']\n",
      "len_topic: 4\n",
      "\n",
      "['markov process', 'parametric uncertainties', 'affine model', 'nonlinear plant', 'sugeno fuzzy']\n",
      "len_topic: 5\n",
      "\n",
      "['vast majority', 'link prediction', 'proposed framework']\n",
      "len_topic: 3\n",
      "\n",
      "['experimental results', 'deep neural networks', 'mnist cifar10']\n",
      "len_topic: 3\n",
      "\n",
      "['factorization machines', 'order feature interactions']\n",
      "len_topic: 2\n",
      "\n",
      "['strategy elegantly solves', 'target assignment pick', 'automatic speech recognition', 'single channel']\n",
      "len_topic: 4\n",
      "\n",
      "['sentiment analysis\\xa0', 'microblogs\\xa0', 'frame semantics\\xa0']\n",
      "len_topic: 3\n",
      "\n",
      "['paper presents', 'http url']\n",
      "len_topic: 2\n",
      "\n",
      "['game engine', 'interaction', 'server message block', 'agent architecture']\n",
      "len_topic: 4\n",
      "\n",
      "['level process', 'related questions', 'step high']\n",
      "len_topic: 3\n",
      "\n",
      "['stan', 'statistical model']\n",
      "len_topic: 2\n",
      "\n",
      "['knowledge graphs', 'search engines']\n",
      "len_topic: 2\n",
      "\n",
      "['skeleton sequence', 'temporal information']\n",
      "len_topic: 2\n",
      "\n",
      "['prediction algorithms', 'algorithm design and analysis']\n",
      "len_topic: 2\n",
      "\n",
      "['generative adversarial networks', 'discriminative model', 'instability', 'generative model']\n",
      "len_topic: 4\n",
      "\n",
      "['word sense disambiguation', 'human language understanding']\n",
      "len_topic: 2\n",
      "\n"
     ]
    }
   ],
   "source": [
    "overlap_merge_view_deg(2017, k = 100)"
   ]
  },
  {
   "cell_type": "code",
   "execution_count": 234,
   "metadata": {},
   "outputs": [
    {
     "name": "stdout",
     "output_type": "stream",
     "text": [
      "OVERLAP MERGING RESULT WITH CLIQUE PERCOLATION METHOD, CASCADE MODEL, SEED TOP 100 NODES AND HALF THRESHOLD CALCULATION STRATEGY.\n",
      "\n",
      "['aperiodically intermittent control', 'derived analytically', 'intermittent control', 'useful criteria']\n",
      "len_topic: 4\n",
      "\n",
      "['mnist database', 'imagenet']\n",
      "len_topic: 2\n",
      "\n",
      "['input lag', 'control system', 'adversarial examples', 'natural language processing', 'differential evolution', 'encoder', 'lyapunov fractal', 'swarm intelligence', 'cluster analysis', 'dynamical system', 'inverted pendulum', 'estimated', 'heuristic', 'cognitive radio', 'british informatics olympiad', 'deep learning', 'throughput', 'autoencoder', 'dual', 'wireless sensor networks\\xa0', 'routing', 'memristor', 'global exponential stability', 'sensor', 'statistical cluster', 'algorithm', 'big data', 'sampling - surgical action', 'spectral leakage', 'feedback', 'experiment', 'cloud computing', 'convolution', 'linear matrix inequality', 'premature convergence', 'neural network simulation', 'nonlinear system', 'triangular matrix', 'social inequality', 'next-generation network', 'semiconductor industry', 'scheduling (computing)', 'approximation algorithm', 'long short-term memory', 'numerical method', 'samuel j leffler', 'outline of object recognition', 'multi-objective optimization', 'network packet', 'swarm intelligence\\xa0', 'binary code', 'neural coding', 'control theory', 'fuzzy control system', 'particle swarm optimization', 'approximation', 'numerical analysis', 'data synchronization', 'adversarial inputs', 'recursion', 'controllers', 'initial condition', 'baxter (robot)', 'sawtooth (cellular automaton)', 'machine learning', 'converge', 'artificial neural network', \"jensen's inequality\", 'firefly algorithm', 'computer vision', 'hopfield network', 'open problem', 'inference', 'computation', 'firefly (cache coherence protocol)', 'mathematical optimization', 'benchmark (computing)', 'recurrent neural network', 'time complexity', 'genetic algorithm', 'simulation', 'sparse matrix', 'sampling (signal processing)']\n",
      "len_topic: 83\n",
      "\n",
      "['mobile network operators', 'radio access network']\n",
      "len_topic: 2\n",
      "\n",
      "['search result diversification', 'alternating direction method', 'significantly outperform', 'diverse ranking model', 'art baselines']\n",
      "len_topic: 5\n",
      "\n",
      "['dynamic artifacts', 'semantic web technologies', 'critical operation', 'application relying']\n",
      "len_topic: 4\n",
      "\n",
      "['extracted based', 'shape features']\n",
      "len_topic: 2\n",
      "\n",
      "['powerful approach', 'word embeddings', 'exponential family embeddings']\n",
      "len_topic: 3\n",
      "\n",
      "['topical sections named', 'fukuoka japan', 'carefully reviewed', 'refereed proceedings', 'book constitutes']\n",
      "len_topic: 5\n",
      "\n",
      "['parametric uncertainties', 'affine model', 'markov process', 'paper proposes', 'nonlinear plant', 'sugeno fuzzy']\n",
      "len_topic: 6\n",
      "\n",
      "['factorization machines', 'order feature interactions']\n",
      "len_topic: 2\n",
      "\n",
      "['strategy elegantly solves', 'target assignment pick', 'automatic speech recognition', 'single channel']\n",
      "len_topic: 4\n",
      "\n",
      "['link prediction', 'dimensional vector representations']\n",
      "len_topic: 2\n",
      "\n",
      "['paper presents', 'http url']\n",
      "len_topic: 2\n",
      "\n",
      "['electronic communications', 'noncanonical communication']\n",
      "len_topic: 2\n",
      "\n",
      "['level process', 'related questions', 'step high']\n",
      "len_topic: 3\n",
      "\n",
      "['experimental results', 'deep neural networks', 'mnist cifar10']\n",
      "len_topic: 3\n",
      "\n",
      "['prediction algorithms', 'algorithm design and analysis']\n",
      "len_topic: 2\n",
      "\n",
      "['game engine', 'interaction', 'agent architecture', 'server message block']\n",
      "len_topic: 4\n",
      "\n",
      "['knowledge graphs', 'search engines']\n",
      "len_topic: 2\n",
      "\n",
      "['generative adversarial networks', 'discriminative model', 'instability', 'generative model']\n",
      "len_topic: 4\n",
      "\n",
      "['word sense disambiguation', 'human language understanding']\n",
      "len_topic: 2\n",
      "\n",
      "['sentiment analysis\\xa0', 'babelnet\\xa0', 'microblogs\\xa0', 'frame semantics\\xa0']\n",
      "len_topic: 4\n",
      "\n",
      "['stan', 'statistical model']\n",
      "len_topic: 2\n",
      "\n",
      "['skeleton sequence', 'temporal information']\n",
      "len_topic: 2\n",
      "\n"
     ]
    }
   ],
   "source": [
    "overlap_merge_view_half(2017, k = 100)"
   ]
  },
  {
   "cell_type": "code",
   "execution_count": 235,
   "metadata": {},
   "outputs": [
    {
     "name": "stdout",
     "output_type": "stream",
     "text": [
      "OVERLAP MERGING RESULT WITH CLIQUE PERCOLATION METHOD, CASCADE MODEL, SEED TOP 100 NODES AND DEG NEGATIVE THRESHOLD CALCULATION STRATEGY.\n",
      "\n",
      "['firefly algorithm (fa)\\xa0', 'input lag', 'control system', 'adversarial examples', 'natural language processing', 'convolutional neural network', 'differential evolution', 'encoder', 'lyapunov fractal', 'swarm intelligence', 'cluster analysis', 'gradient descent', 'dynamical system', 'inverted pendulum', 'optimization problem', 'estimated', 'heuristic', 'cognitive radio', 'british informatics olympiad', 'high- and low-level', 'deep learning', 'throughput', 'autoencoder', 'dual', 'wireless sensor networks\\xa0', 'routing', 'memristor', 'global exponential stability', 'force misclassification', 'feature selection', 'sensor', 'statistical cluster', 'polynomial', 'algorithm', 'sensitivity and specificity', 'spectral leakage', 'sampling - surgical action', 'feedback', 'experiment', 'convolution', 'linear matrix inequality', 'premature convergence', 'neural network simulation', 'association rule learning', 'nonlinear system', 'triangular matrix', 'social inequality', 'next-generation network', 'semiconductor industry', 'interference (communication)', 'scheduling (computing)', 'approximation algorithm', 'long short-term memory', 'numerical method', 'samuel j leffler', 'outline of object recognition', 'random forest', 'multi-objective optimization', 'network packet', 'swarm intelligence\\xa0', 'binary code', 'neural coding', 'control theory', 'reinforcement learning', 'fuzzy control system', 'particle swarm optimization', 'approximation', 'numerical analysis', 'data synchronization', 'adversarial inputs', 'recursion', 'controllers', 'initial condition', 'global optimization\\xa0', 'baxter (robot)', 'sawtooth (cellular automaton)', 'machine learning', 'converge', 'artificial neural network', \"jensen's inequality\", 'firefly algorithm', 'computer vision', 'hopfield network', 'open problem', 'inference', 'computation', 'firefly (cache coherence protocol)', 'mathematical optimization', 'benchmark (computing)', 'two-factors second-order fuzzy-trend logical relationship groups', 'quality of service', 'genetic algorithm', 'recurrent neural network', 'time complexity', 'simulation', 'sparse matrix', 'sampling (signal processing)']\n",
      "len_topic: 97\n",
      "\n",
      "['mnist database', 'imagenet']\n",
      "len_topic: 2\n",
      "\n",
      "['aperiodically intermittent control', 'derived analytically', 'intermittent control', 'useful criteria']\n",
      "len_topic: 4\n",
      "\n",
      "['mobile network operators', 'radio access network']\n",
      "len_topic: 2\n",
      "\n",
      "['search result diversification', 'diverse ranking model', 'significantly outperform', 'art baselines']\n",
      "len_topic: 4\n",
      "\n",
      "['dynamic artifacts', 'semantic web technologies', 'critical operation', 'application relying']\n",
      "len_topic: 4\n",
      "\n",
      "['extracted based', 'shape features']\n",
      "len_topic: 2\n",
      "\n",
      "['powerful approach', 'word embeddings', 'exponential family embeddings']\n",
      "len_topic: 3\n",
      "\n",
      "['actuator faults', 'parametric uncertainties', 'affine model', 'markov process', 'paper proposes', 'nonlinear plant', 'sugeno fuzzy']\n",
      "len_topic: 7\n",
      "\n",
      "['book constitutes', 'topical sections named', 'carefully reviewed', 'refereed proceedings']\n",
      "len_topic: 4\n",
      "\n",
      "['factorization machines', 'order feature interactions']\n",
      "len_topic: 2\n",
      "\n",
      "['strategy elegantly solves', 'target assignment pick', 'automatic speech recognition', 'single channel']\n",
      "len_topic: 4\n",
      "\n",
      "['node attributes', 'network embedding', 'proposed framework', 'link prediction']\n",
      "len_topic: 4\n",
      "\n",
      "['paper presents', 'http url']\n",
      "len_topic: 2\n",
      "\n",
      "['level process', 'related questions', 'step high']\n",
      "len_topic: 3\n",
      "\n",
      "['electronic communications', 'noncanonical communication']\n",
      "len_topic: 2\n",
      "\n",
      "['experimental results', 'deep neural networks', 'mnist cifar10']\n",
      "len_topic: 3\n",
      "\n",
      "['prediction algorithms', 'algorithm design and analysis']\n",
      "len_topic: 2\n",
      "\n",
      "['game engine', 'interaction', 'agent architecture', 'server message block']\n",
      "len_topic: 4\n",
      "\n",
      "['knowledge graphs', 'search engines']\n",
      "len_topic: 2\n",
      "\n",
      "['generative adversarial networks', 'discriminative model', 'instability', 'generative model']\n",
      "len_topic: 4\n",
      "\n",
      "['word sense disambiguation', 'human language understanding']\n",
      "len_topic: 2\n",
      "\n",
      "['sentiment analysis\\xa0', 'babelnet\\xa0', 'microblogs\\xa0', 'frame semantics\\xa0']\n",
      "len_topic: 4\n",
      "\n",
      "['stan', 'statistical model']\n",
      "len_topic: 2\n",
      "\n",
      "['skeleton sequence', 'temporal information']\n",
      "len_topic: 2\n",
      "\n"
     ]
    }
   ],
   "source": [
    "overlap_merge_view_deg_neg(2017, k = 100)"
   ]
  },
  {
   "cell_type": "markdown",
   "metadata": {},
   "source": [
    "### Year 2018 "
   ]
  },
  {
   "cell_type": "code",
   "execution_count": 236,
   "metadata": {},
   "outputs": [
    {
     "ename": "TopicNotAllKeywordsUsedException",
     "evalue": "To perfom all topics not all keywords have been used.",
     "output_type": "error",
     "traceback": [
      "\u001b[0;31m---------------------------------------------------------------------------\u001b[0m",
      "\u001b[0;31mTopicNotAllKeywordsUsedException\u001b[0m          Traceback (most recent call last)",
      "\u001b[0;32m<ipython-input-236-3fd8d94ada21>\u001b[0m in \u001b[0;36m<module>\u001b[0;34m\u001b[0m\n\u001b[0;32m----> 1\u001b[0;31m \u001b[0moverlap_merge_view_deg\u001b[0m\u001b[0;34m(\u001b[0m\u001b[0;36m2018\u001b[0m\u001b[0;34m,\u001b[0m \u001b[0mk\u001b[0m \u001b[0;34m=\u001b[0m \u001b[0;36m100\u001b[0m\u001b[0;34m)\u001b[0m\u001b[0;34m\u001b[0m\u001b[0;34m\u001b[0m\u001b[0m\n\u001b[0m",
      "\u001b[0;32m<ipython-input-6-644b1e1d3189>\u001b[0m in \u001b[0;36moverlap_merge_view_deg\u001b[0;34m(year, k)\u001b[0m\n\u001b[1;32m      3\u001b[0m     \u001b[0mspread_dict\u001b[0m\u001b[0;34m[\u001b[0m\u001b[0mstr\u001b[0m\u001b[0;34m(\u001b[0m\u001b[0myear\u001b[0m\u001b[0;34m)\u001b[0m\u001b[0;34m]\u001b[0m\u001b[0;34m.\u001b[0m\u001b[0mindipendent_cascade_model\u001b[0m\u001b[0;34m(\u001b[0m\u001b[0;34m)\u001b[0m\u001b[0;34m\u001b[0m\u001b[0;34m\u001b[0m\u001b[0m\n\u001b[1;32m      4\u001b[0m     \u001b[0mcascade_deg\u001b[0m \u001b[0;34m=\u001b[0m \u001b[0mspread_dict\u001b[0m\u001b[0;34m[\u001b[0m\u001b[0mstr\u001b[0m\u001b[0;34m(\u001b[0m\u001b[0myear\u001b[0m\u001b[0;34m)\u001b[0m\u001b[0;34m]\u001b[0m\u001b[0;34m.\u001b[0m\u001b[0mget_influenced_nodes\u001b[0m\u001b[0;34m(\u001b[0m\u001b[0;34m)\u001b[0m\u001b[0;34m\u001b[0m\u001b[0;34m\u001b[0m\u001b[0m\n\u001b[0;32m----> 5\u001b[0;31m     \u001b[0mtopics_deg\u001b[0m \u001b[0;34m=\u001b[0m \u001b[0moverlap_perform\u001b[0m\u001b[0;34m(\u001b[0m\u001b[0myear\u001b[0m\u001b[0;34m,\u001b[0m \u001b[0mcascade_deg\u001b[0m\u001b[0;34m,\u001b[0m \u001b[0mk\u001b[0m\u001b[0;34m)\u001b[0m\u001b[0;34m\u001b[0m\u001b[0;34m\u001b[0m\u001b[0m\n\u001b[0m\u001b[1;32m      6\u001b[0m     \u001b[0mto_print\u001b[0m\u001b[0;34m(\u001b[0m\u001b[0mtopics_deg\u001b[0m\u001b[0;34m,\u001b[0m \u001b[0;34m\"cascade\"\u001b[0m\u001b[0;34m,\u001b[0m \u001b[0mk\u001b[0m\u001b[0;34m,\u001b[0m \u001b[0;34m\"deg\"\u001b[0m\u001b[0;34m)\u001b[0m\u001b[0;34m\u001b[0m\u001b[0;34m\u001b[0m\u001b[0m\n\u001b[1;32m      7\u001b[0m \u001b[0;34m\u001b[0m\u001b[0m\n",
      "\u001b[0;32m<ipython-input-5-60ae7201d3cc>\u001b[0m in \u001b[0;36moverlap_perform\u001b[0;34m(year, all_topics, k)\u001b[0m\n\u001b[1;32m      3\u001b[0m     \u001b[0moverlap\u001b[0m\u001b[0;34m.\u001b[0m\u001b[0moverlap_preprocessing\u001b[0m\u001b[0;34m(\u001b[0m\u001b[0;34m)\u001b[0m\u001b[0;34m\u001b[0m\u001b[0;34m\u001b[0m\u001b[0m\n\u001b[1;32m      4\u001b[0m     \u001b[0moverlap\u001b[0m\u001b[0;34m.\u001b[0m\u001b[0mclique_percolation_method\u001b[0m\u001b[0;34m(\u001b[0m\u001b[0;34m)\u001b[0m\u001b[0;34m\u001b[0m\u001b[0;34m\u001b[0m\u001b[0m\n\u001b[0;32m----> 5\u001b[0;31m     \u001b[0moverlap\u001b[0m\u001b[0;34m.\u001b[0m\u001b[0mcheck_spread_topics\u001b[0m\u001b[0;34m(\u001b[0m\u001b[0;34m)\u001b[0m\u001b[0;34m\u001b[0m\u001b[0;34m\u001b[0m\u001b[0m\n\u001b[0m\u001b[1;32m      6\u001b[0m     \u001b[0moverlap\u001b[0m\u001b[0;34m.\u001b[0m\u001b[0mcheck_number_topics\u001b[0m\u001b[0;34m(\u001b[0m\u001b[0;34m)\u001b[0m\u001b[0;34m\u001b[0m\u001b[0;34m\u001b[0m\u001b[0m\n\u001b[1;32m      7\u001b[0m     \u001b[0;32mreturn\u001b[0m \u001b[0moverlap\u001b[0m\u001b[0;34m.\u001b[0m\u001b[0mget_topics\u001b[0m\u001b[0;34m(\u001b[0m\u001b[0;34m)\u001b[0m\u001b[0;34m\u001b[0m\u001b[0;34m\u001b[0m\u001b[0m\n",
      "\u001b[0;32m~/Universita/magistrale/web_and_social_information_extraction/webandsocial-progetto/src/overlaps_topics/overlap_topics.py\u001b[0m in \u001b[0;36mcheck_spread_topics\u001b[0;34m(self)\u001b[0m\n\u001b[1;32m    156\u001b[0m \u001b[0;34m\u001b[0m\u001b[0m\n\u001b[1;32m    157\u001b[0m         \u001b[0;32mif\u001b[0m \u001b[0msize_iteration\u001b[0m \u001b[0;34m!=\u001b[0m \u001b[0msize_topics\u001b[0m\u001b[0;34m:\u001b[0m\u001b[0;34m\u001b[0m\u001b[0;34m\u001b[0m\u001b[0m\n\u001b[0;32m--> 158\u001b[0;31m             \u001b[0;32mraise\u001b[0m \u001b[0mexcpt\u001b[0m\u001b[0;34m.\u001b[0m\u001b[0mTopicNotAllKeywordsUsedException\u001b[0m\u001b[0;34m(\u001b[0m\u001b[0;34m\"To perfom all topics not all keywords have been used.\"\u001b[0m\u001b[0;34m)\u001b[0m\u001b[0;34m\u001b[0m\u001b[0;34m\u001b[0m\u001b[0m\n\u001b[0m\u001b[1;32m    159\u001b[0m \u001b[0;34m\u001b[0m\u001b[0m\n\u001b[1;32m    160\u001b[0m \u001b[0;34m\u001b[0m\u001b[0m\n",
      "\u001b[0;31mTopicNotAllKeywordsUsedException\u001b[0m: To perfom all topics not all keywords have been used."
     ]
    }
   ],
   "source": [
    "overlap_merge_view_deg(2018, k = 100)"
   ]
  },
  {
   "cell_type": "code",
   "execution_count": 237,
   "metadata": {},
   "outputs": [
    {
     "ename": "TopicNotAllKeywordsUsedException",
     "evalue": "To perfom all topics not all keywords have been used.",
     "output_type": "error",
     "traceback": [
      "\u001b[0;31m---------------------------------------------------------------------------\u001b[0m",
      "\u001b[0;31mTopicNotAllKeywordsUsedException\u001b[0m          Traceback (most recent call last)",
      "\u001b[0;32m<ipython-input-237-caa56a461d75>\u001b[0m in \u001b[0;36m<module>\u001b[0;34m\u001b[0m\n\u001b[0;32m----> 1\u001b[0;31m \u001b[0moverlap_merge_view_half\u001b[0m\u001b[0;34m(\u001b[0m\u001b[0;36m2018\u001b[0m\u001b[0;34m,\u001b[0m \u001b[0mk\u001b[0m \u001b[0;34m=\u001b[0m \u001b[0;36m100\u001b[0m\u001b[0;34m)\u001b[0m\u001b[0;34m\u001b[0m\u001b[0;34m\u001b[0m\u001b[0m\n\u001b[0m",
      "\u001b[0;32m<ipython-input-6-644b1e1d3189>\u001b[0m in \u001b[0;36moverlap_merge_view_half\u001b[0;34m(year, k)\u001b[0m\n\u001b[1;32m     11\u001b[0m     \u001b[0mspread_dict\u001b[0m\u001b[0;34m[\u001b[0m\u001b[0mstr\u001b[0m\u001b[0;34m(\u001b[0m\u001b[0myear\u001b[0m\u001b[0;34m)\u001b[0m\u001b[0;34m]\u001b[0m\u001b[0;34m.\u001b[0m\u001b[0mindipendent_cascade_model\u001b[0m\u001b[0;34m(\u001b[0m\u001b[0;34m)\u001b[0m\u001b[0;34m\u001b[0m\u001b[0;34m\u001b[0m\u001b[0m\n\u001b[1;32m     12\u001b[0m     \u001b[0mcascade_half\u001b[0m \u001b[0;34m=\u001b[0m \u001b[0mspread_dict\u001b[0m\u001b[0;34m[\u001b[0m\u001b[0mstr\u001b[0m\u001b[0;34m(\u001b[0m\u001b[0myear\u001b[0m\u001b[0;34m)\u001b[0m\u001b[0;34m]\u001b[0m\u001b[0;34m.\u001b[0m\u001b[0mget_influenced_nodes\u001b[0m\u001b[0;34m(\u001b[0m\u001b[0;34m)\u001b[0m\u001b[0;34m\u001b[0m\u001b[0;34m\u001b[0m\u001b[0m\n\u001b[0;32m---> 13\u001b[0;31m     \u001b[0mtopics_half\u001b[0m \u001b[0;34m=\u001b[0m \u001b[0moverlap_perform\u001b[0m\u001b[0;34m(\u001b[0m\u001b[0myear\u001b[0m\u001b[0;34m,\u001b[0m \u001b[0mcascade_half\u001b[0m\u001b[0;34m,\u001b[0m \u001b[0mk\u001b[0m\u001b[0;34m)\u001b[0m\u001b[0;34m\u001b[0m\u001b[0;34m\u001b[0m\u001b[0m\n\u001b[0m\u001b[1;32m     14\u001b[0m     \u001b[0mto_print\u001b[0m\u001b[0;34m(\u001b[0m\u001b[0mtopics_half\u001b[0m\u001b[0;34m,\u001b[0m \u001b[0;34m\"cascade\"\u001b[0m\u001b[0;34m,\u001b[0m \u001b[0mk\u001b[0m\u001b[0;34m,\u001b[0m \u001b[0;34m\"half\"\u001b[0m\u001b[0;34m)\u001b[0m\u001b[0;34m\u001b[0m\u001b[0;34m\u001b[0m\u001b[0m\n\u001b[1;32m     15\u001b[0m \u001b[0;34m\u001b[0m\u001b[0m\n",
      "\u001b[0;32m<ipython-input-5-60ae7201d3cc>\u001b[0m in \u001b[0;36moverlap_perform\u001b[0;34m(year, all_topics, k)\u001b[0m\n\u001b[1;32m      3\u001b[0m     \u001b[0moverlap\u001b[0m\u001b[0;34m.\u001b[0m\u001b[0moverlap_preprocessing\u001b[0m\u001b[0;34m(\u001b[0m\u001b[0;34m)\u001b[0m\u001b[0;34m\u001b[0m\u001b[0;34m\u001b[0m\u001b[0m\n\u001b[1;32m      4\u001b[0m     \u001b[0moverlap\u001b[0m\u001b[0;34m.\u001b[0m\u001b[0mclique_percolation_method\u001b[0m\u001b[0;34m(\u001b[0m\u001b[0;34m)\u001b[0m\u001b[0;34m\u001b[0m\u001b[0;34m\u001b[0m\u001b[0m\n\u001b[0;32m----> 5\u001b[0;31m     \u001b[0moverlap\u001b[0m\u001b[0;34m.\u001b[0m\u001b[0mcheck_spread_topics\u001b[0m\u001b[0;34m(\u001b[0m\u001b[0;34m)\u001b[0m\u001b[0;34m\u001b[0m\u001b[0;34m\u001b[0m\u001b[0m\n\u001b[0m\u001b[1;32m      6\u001b[0m     \u001b[0moverlap\u001b[0m\u001b[0;34m.\u001b[0m\u001b[0mcheck_number_topics\u001b[0m\u001b[0;34m(\u001b[0m\u001b[0;34m)\u001b[0m\u001b[0;34m\u001b[0m\u001b[0;34m\u001b[0m\u001b[0m\n\u001b[1;32m      7\u001b[0m     \u001b[0;32mreturn\u001b[0m \u001b[0moverlap\u001b[0m\u001b[0;34m.\u001b[0m\u001b[0mget_topics\u001b[0m\u001b[0;34m(\u001b[0m\u001b[0;34m)\u001b[0m\u001b[0;34m\u001b[0m\u001b[0;34m\u001b[0m\u001b[0m\n",
      "\u001b[0;32m~/Universita/magistrale/web_and_social_information_extraction/webandsocial-progetto/src/overlaps_topics/overlap_topics.py\u001b[0m in \u001b[0;36mcheck_spread_topics\u001b[0;34m(self)\u001b[0m\n\u001b[1;32m    156\u001b[0m \u001b[0;34m\u001b[0m\u001b[0m\n\u001b[1;32m    157\u001b[0m         \u001b[0;32mif\u001b[0m \u001b[0msize_iteration\u001b[0m \u001b[0;34m!=\u001b[0m \u001b[0msize_topics\u001b[0m\u001b[0;34m:\u001b[0m\u001b[0;34m\u001b[0m\u001b[0;34m\u001b[0m\u001b[0m\n\u001b[0;32m--> 158\u001b[0;31m             \u001b[0;32mraise\u001b[0m \u001b[0mexcpt\u001b[0m\u001b[0;34m.\u001b[0m\u001b[0mTopicNotAllKeywordsUsedException\u001b[0m\u001b[0;34m(\u001b[0m\u001b[0;34m\"To perfom all topics not all keywords have been used.\"\u001b[0m\u001b[0;34m)\u001b[0m\u001b[0;34m\u001b[0m\u001b[0;34m\u001b[0m\u001b[0m\n\u001b[0m\u001b[1;32m    159\u001b[0m \u001b[0;34m\u001b[0m\u001b[0m\n\u001b[1;32m    160\u001b[0m \u001b[0;34m\u001b[0m\u001b[0m\n",
      "\u001b[0;31mTopicNotAllKeywordsUsedException\u001b[0m: To perfom all topics not all keywords have been used."
     ]
    }
   ],
   "source": [
    "overlap_merge_view_half(2018, k = 100)"
   ]
  },
  {
   "cell_type": "code",
   "execution_count": 238,
   "metadata": {},
   "outputs": [
    {
     "ename": "TopicNotAllKeywordsUsedException",
     "evalue": "To perfom all topics not all keywords have been used.",
     "output_type": "error",
     "traceback": [
      "\u001b[0;31m---------------------------------------------------------------------------\u001b[0m",
      "\u001b[0;31mTopicNotAllKeywordsUsedException\u001b[0m          Traceback (most recent call last)",
      "\u001b[0;32m<ipython-input-238-655c4ef9514e>\u001b[0m in \u001b[0;36m<module>\u001b[0;34m\u001b[0m\n\u001b[0;32m----> 1\u001b[0;31m \u001b[0moverlap_merge_view_deg_neg\u001b[0m\u001b[0;34m(\u001b[0m\u001b[0;36m2018\u001b[0m\u001b[0;34m,\u001b[0m \u001b[0mk\u001b[0m \u001b[0;34m=\u001b[0m \u001b[0;36m100\u001b[0m\u001b[0;34m)\u001b[0m\u001b[0;34m\u001b[0m\u001b[0;34m\u001b[0m\u001b[0m\n\u001b[0m",
      "\u001b[0;32m<ipython-input-6-644b1e1d3189>\u001b[0m in \u001b[0;36moverlap_merge_view_deg_neg\u001b[0;34m(year, k)\u001b[0m\n\u001b[1;32m     19\u001b[0m     \u001b[0mspread_dict\u001b[0m\u001b[0;34m[\u001b[0m\u001b[0mstr\u001b[0m\u001b[0;34m(\u001b[0m\u001b[0myear\u001b[0m\u001b[0;34m)\u001b[0m\u001b[0;34m]\u001b[0m\u001b[0;34m.\u001b[0m\u001b[0mindipendent_cascade_model\u001b[0m\u001b[0;34m(\u001b[0m\u001b[0;34m)\u001b[0m\u001b[0;34m\u001b[0m\u001b[0;34m\u001b[0m\u001b[0m\n\u001b[1;32m     20\u001b[0m     \u001b[0mcascade_deg_neg\u001b[0m \u001b[0;34m=\u001b[0m \u001b[0mspread_dict\u001b[0m\u001b[0;34m[\u001b[0m\u001b[0mstr\u001b[0m\u001b[0;34m(\u001b[0m\u001b[0myear\u001b[0m\u001b[0;34m)\u001b[0m\u001b[0;34m]\u001b[0m\u001b[0;34m.\u001b[0m\u001b[0mget_influenced_nodes\u001b[0m\u001b[0;34m(\u001b[0m\u001b[0;34m)\u001b[0m\u001b[0;34m\u001b[0m\u001b[0;34m\u001b[0m\u001b[0m\n\u001b[0;32m---> 21\u001b[0;31m     \u001b[0mtopics_deg_neg\u001b[0m \u001b[0;34m=\u001b[0m \u001b[0moverlap_perform\u001b[0m\u001b[0;34m(\u001b[0m\u001b[0myear\u001b[0m\u001b[0;34m,\u001b[0m \u001b[0mcascade_deg_neg\u001b[0m\u001b[0;34m,\u001b[0m \u001b[0mk\u001b[0m\u001b[0;34m)\u001b[0m\u001b[0;34m\u001b[0m\u001b[0;34m\u001b[0m\u001b[0m\n\u001b[0m\u001b[1;32m     22\u001b[0m     \u001b[0mto_print\u001b[0m\u001b[0;34m(\u001b[0m\u001b[0mtopics_deg_neg\u001b[0m\u001b[0;34m,\u001b[0m \u001b[0;34m\"cascade\"\u001b[0m\u001b[0;34m,\u001b[0m \u001b[0mk\u001b[0m\u001b[0;34m,\u001b[0m \u001b[0;34m\"deg negative\"\u001b[0m\u001b[0;34m)\u001b[0m\u001b[0;34m\u001b[0m\u001b[0;34m\u001b[0m\u001b[0m\n",
      "\u001b[0;32m<ipython-input-5-60ae7201d3cc>\u001b[0m in \u001b[0;36moverlap_perform\u001b[0;34m(year, all_topics, k)\u001b[0m\n\u001b[1;32m      3\u001b[0m     \u001b[0moverlap\u001b[0m\u001b[0;34m.\u001b[0m\u001b[0moverlap_preprocessing\u001b[0m\u001b[0;34m(\u001b[0m\u001b[0;34m)\u001b[0m\u001b[0;34m\u001b[0m\u001b[0;34m\u001b[0m\u001b[0m\n\u001b[1;32m      4\u001b[0m     \u001b[0moverlap\u001b[0m\u001b[0;34m.\u001b[0m\u001b[0mclique_percolation_method\u001b[0m\u001b[0;34m(\u001b[0m\u001b[0;34m)\u001b[0m\u001b[0;34m\u001b[0m\u001b[0;34m\u001b[0m\u001b[0m\n\u001b[0;32m----> 5\u001b[0;31m     \u001b[0moverlap\u001b[0m\u001b[0;34m.\u001b[0m\u001b[0mcheck_spread_topics\u001b[0m\u001b[0;34m(\u001b[0m\u001b[0;34m)\u001b[0m\u001b[0;34m\u001b[0m\u001b[0;34m\u001b[0m\u001b[0m\n\u001b[0m\u001b[1;32m      6\u001b[0m     \u001b[0moverlap\u001b[0m\u001b[0;34m.\u001b[0m\u001b[0mcheck_number_topics\u001b[0m\u001b[0;34m(\u001b[0m\u001b[0;34m)\u001b[0m\u001b[0;34m\u001b[0m\u001b[0;34m\u001b[0m\u001b[0m\n\u001b[1;32m      7\u001b[0m     \u001b[0;32mreturn\u001b[0m \u001b[0moverlap\u001b[0m\u001b[0;34m.\u001b[0m\u001b[0mget_topics\u001b[0m\u001b[0;34m(\u001b[0m\u001b[0;34m)\u001b[0m\u001b[0;34m\u001b[0m\u001b[0;34m\u001b[0m\u001b[0m\n",
      "\u001b[0;32m~/Universita/magistrale/web_and_social_information_extraction/webandsocial-progetto/src/overlaps_topics/overlap_topics.py\u001b[0m in \u001b[0;36mcheck_spread_topics\u001b[0;34m(self)\u001b[0m\n\u001b[1;32m    156\u001b[0m \u001b[0;34m\u001b[0m\u001b[0m\n\u001b[1;32m    157\u001b[0m         \u001b[0;32mif\u001b[0m \u001b[0msize_iteration\u001b[0m \u001b[0;34m!=\u001b[0m \u001b[0msize_topics\u001b[0m\u001b[0;34m:\u001b[0m\u001b[0;34m\u001b[0m\u001b[0;34m\u001b[0m\u001b[0m\n\u001b[0;32m--> 158\u001b[0;31m             \u001b[0;32mraise\u001b[0m \u001b[0mexcpt\u001b[0m\u001b[0;34m.\u001b[0m\u001b[0mTopicNotAllKeywordsUsedException\u001b[0m\u001b[0;34m(\u001b[0m\u001b[0;34m\"To perfom all topics not all keywords have been used.\"\u001b[0m\u001b[0;34m)\u001b[0m\u001b[0;34m\u001b[0m\u001b[0;34m\u001b[0m\u001b[0m\n\u001b[0m\u001b[1;32m    159\u001b[0m \u001b[0;34m\u001b[0m\u001b[0m\n\u001b[1;32m    160\u001b[0m \u001b[0;34m\u001b[0m\u001b[0m\n",
      "\u001b[0;31mTopicNotAllKeywordsUsedException\u001b[0m: To perfom all topics not all keywords have been used."
     ]
    }
   ],
   "source": [
    "overlap_merge_view_deg_neg(2018, k = 100)"
   ]
  },
  {
   "cell_type": "markdown",
   "metadata": {},
   "source": [
    "Cleaning part of the memory after the end of analysis."
   ]
  },
  {
   "cell_type": "code",
   "execution_count": 239,
   "metadata": {},
   "outputs": [
    {
     "data": {
      "text/plain": [
       "10874"
      ]
     },
     "execution_count": 239,
     "metadata": {},
     "output_type": "execute_result"
    }
   ],
   "source": [
    "#Deleting reference to object and force the garbage collect to clean memory\n",
    "del spread_dict, graph_timeline_dict\n",
    "gc.collect()"
   ]
  },
  {
   "cell_type": "markdown",
   "metadata": {},
   "source": [
    "The exception shows that the Clique Percolation Method does not use all the keywords found by the Independent Cascade Model and this violates the assumption that the clique provides us. Trying to execute several times it is possible to notice that the exception could be launched or not launched depending on the sampling carried out by the algorithm. More reflections are reported on the project report."
   ]
  }
 ],
 "metadata": {
  "kernelspec": {
   "display_name": "Python 3",
   "language": "python",
   "name": "python3"
  },
  "language_info": {
   "codemirror_mode": {
    "name": "ipython",
    "version": 3
   },
   "file_extension": ".py",
   "mimetype": "text/x-python",
   "name": "python",
   "nbconvert_exporter": "python",
   "pygments_lexer": "ipython3",
   "version": "3.6.8"
  }
 },
 "nbformat": 4,
 "nbformat_minor": 2
}
